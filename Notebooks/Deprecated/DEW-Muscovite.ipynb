{
 "cells": [
  {
   "cell_type": "markdown",
   "metadata": {},
   "source": [
    "# DEW - Muscovite Phase Stability"
   ]
  },
  {
   "cell_type": "markdown",
   "metadata": {},
   "source": [
    "Required python code to load the PhaseObjC library."
   ]
  },
  {
   "cell_type": "code",
   "execution_count": null,
   "metadata": {},
   "outputs": [],
   "source": [
    "from ctypes import cdll\n",
    "from ctypes import util\n",
    "import numpy as np\n",
    "import ctypes\n",
    "import matplotlib.pyplot as plt\n",
    "import scipy.optimize as opt\n",
    "from scipy.interpolate import interp1d\n",
    "from rubicon.objc import ObjCClass, objc_method\n",
    "import time\n",
    "cdll.LoadLibrary(util.find_library('phaseobjc'))\n",
    "%matplotlib inline"
   ]
  },
  {
   "cell_type": "markdown",
   "metadata": {},
   "source": [
    "#### Create a python references to the DEWFluid, Andalusite, Kaolinite, Potassium Feldspar , Muscovite, Pyrophyllite and  Quartz class\n",
    "#### Change convention for Berman properties\n",
    "Use Helgeson (SUPCRT) convention of Gibbs free energy of formation rather than enthalpy of formation at Tr, Pr  \n",
    "Do not implement quartz enthalpy correction that is used in rhyolite-MELTS"
   ]
  },
  {
   "cell_type": "code",
   "execution_count": null,
   "metadata": {},
   "outputs": [],
   "source": [
    "DEWFluid = ObjCClass('DEWFluid').alloc().init()\n",
    "Andalusite = ObjCClass('AndalusiteBerman').alloc().init()\n",
    "Kaolinite = ObjCClass('KaoliniteBerman').alloc().init()\n",
    "Kspar = ObjCClass('Potassium_FeldsparBerman').alloc().init()\n",
    "Muscovite = ObjCClass('MuscoviteBerman').alloc().init()\n",
    "Pyrophyllite = ObjCClass('PyrophylliteBerman').alloc().init()\n",
    "Quartz = ObjCClass('QuartzBerman').alloc().init()\n",
    "\n",
    "ObjCClass('QuartzBerman').enableGibbsFreeEnergyReferenceStateUsed()\n",
    "ObjCClass('QuartzBerman').disableQuartzCorrectionUsed()"
   ]
  },
  {
   "cell_type": "markdown",
   "metadata": {},
   "source": [
    "#### Check: Output phase names and formulae  "
   ]
  },
  {
   "cell_type": "code",
   "execution_count": null,
   "metadata": {},
   "outputs": [],
   "source": [
    "print (DEWFluid.phaseName, DEWFluid.phaseFormula)\n",
    "print (Andalusite.phaseName, Andalusite.phaseFormula)\n",
    "print (Kaolinite.phaseName, Kaolinite.phaseFormula)\n",
    "print (Kspar.phaseName, Kspar.phaseFormula)\n",
    "print (Muscovite.phaseName, Muscovite.phaseFormula)\n",
    "print (Pyrophyllite.phaseName, Pyrophyllite.phaseFormula)\n",
    "print (Quartz.phaseName, Quartz.phaseFormula)"
   ]
  },
  {
   "cell_type": "markdown",
   "metadata": {},
   "source": [
    "### Information about DEWFluid solution components ..."
   ]
  },
  {
   "cell_type": "code",
   "execution_count": null,
   "metadata": {},
   "outputs": [],
   "source": [
    "nc = DEWFluid.numberOfSolutionComponents()\n",
    "ns = DEWFluid.numberOfSolutionSpecies()\n",
    "for i in range(0, ns):\n",
    "    component = DEWFluid.componentAtIndex_(i)\n",
    "    print (i, '\\t', component.phaseName.ljust(20), '\\t', component.phaseFormula.ljust(20), '\\t', component.mw)"
   ]
  },
  {
   "cell_type": "markdown",
   "metadata": {},
   "source": [
    "### Create a method that returns a vector of moles of endmember components ...\n",
    "Note that internal to this function the vector is made by allocating a \"c\"-type pointer to a double precision one-dimensional array, and initialize the array to hold the moles of each component in the solution  \n",
    "The default function call generates a mole vector correcsponding to a 1m KCl solution."
   ]
  },
  {
   "cell_type": "code",
   "execution_count": null,
   "metadata": {},
   "outputs": [],
   "source": [
    "def fillMolalityArray(mHAlO2=0.0, mSiO2=0.0, mHCl=1.0, mKOH=1.0, printme=False):\n",
    "    m = (ctypes.c_double*nc)()\n",
    "    ctypes.cast(m, ctypes.POINTER(ctypes.c_double))\n",
    "    m[ 0] =  55.55 - mHAlO2 - min(mHCl, mKOH)\n",
    "    m[ 1] =   0.0\n",
    "    m[ 2] =   0.0\n",
    "    m[ 3] =   0.0\n",
    "    m[ 4] =   0.0\n",
    "    m[ 5] =   0.0\n",
    "    m[ 6] =   mHAlO2\n",
    "    m[ 7] =   mSiO2\n",
    "    m[ 8] =   0.0\n",
    "    m[ 9] =   0.0\n",
    "    m[10] =   mHCl\n",
    "    m[11] =   mKOH\n",
    "    m[12] =   0.0\n",
    "    m[13] =   0.0\n",
    "    m[14] =   0.0\n",
    "    m[15] =   0.0\n",
    "    m[16] =   0.0\n",
    "    if printme == True:\n",
    "        for i in range (0, nc):\n",
    "            component = DEWFluid.componentAtIndex_(i)\n",
    "            if m[i] > 0.0:\n",
    "                print ('moles of (', component.phaseName.ljust(20), ') = ', m[i])\n",
    "    return m"
   ]
  },
  {
   "cell_type": "markdown",
   "metadata": {},
   "source": [
    "### Information about paramters that may be changed for HCl,aq solution component ,,,"
   ]
  },
  {
   "cell_type": "markdown",
   "metadata": {},
   "source": [
    "### Information about solid phase parameters that may be changed ...\n",
    "(kspar is demonstrated, muscovite, etc have the same parameters)"
   ]
  },
  {
   "cell_type": "code",
   "execution_count": null,
   "metadata": {},
   "outputs": [],
   "source": [
    "nphases = Kspar.getNumberOfFreeParameters()\n",
    "names = Kspar.getArrayOfNamesOfFreeParameters()\n",
    "for i in range (0, nphases):\n",
    "    name = names.objectAtIndex_(i)\n",
    "    value = Kspar.getValueForParameterName_(name)\n",
    "    units = Kspar.getUnitsForParameterName_(name)\n",
    "    print (name, 'has value ', value, units)"
   ]
  },
  {
   "cell_type": "markdown",
   "metadata": {},
   "source": [
    "### Load experimental data from: \n",
    "Sverjensky DA, Hemley JJ, D'Angelo WM (1991) Thermodynamic assessment of hydrothermal alkali feldspar-mica-aluminosilicate equilibria. *Geochimica et Cosmochimica Acta* 55, 989-1004.   \n",
    "\n",
    "<div style=\"float:left\">![picture](SverjenskyEtAl1991-Fig1a.png)</div>\n",
    "  \n",
    "m# | Assemblage | T °C | m<sub>t,K</sub> | log (m<sub>t,K</sub>/ m<sub>t,H</sub>)\n",
    "--- | --- | --- | --- | ---\n",
    "1 | KFs - Ms - Qtz | 300 | 1.00 | 3.50\n",
    "2 | KFs - Ms - Qtz | 400 | 1.01 | 2.75\n",
    "3 | KFs - Ms - Qtz | 500 | 1.01 | 1.95\n",
    "4 | KFs - Ms - Qtz | 550 | 0.96 | 1.40\n",
    "5 | Ms - And - Qtz | 400 | 0.98 | 1.60\n",
    "6 | Ms - And - Qtz | 450 | 0.98 | 1.57\n",
    "7 | Ms - And - Qtz | 500 | 0.97 | 1.47\n",
    "8 | Ms - And - Qtz | 550 | 0.96 | 1.38\n",
    "9 | Ms - Pyr - Qtz | 300 | 1.01 | 1.94\n",
    "10 | Ms - Pyr - Qtz | 350 | 0.99 | 1.80\n",
    "11 | Kaol - Ms - Qtz | 300 | 1.00 | 1.90 \n",
    "12 | Kfs - And - Qtz | 600 | 0.81 | 0.63  \n",
    "\n",
    "Fig. 1 Data plotted are at 100 MPa.  See table above.\n"
   ]
  },
  {
   "cell_type": "markdown",
   "metadata": {},
   "source": [
    "Data are stored using Python tuples (t °C, p bars, m<sub>t,K</sub>, reaction #, log (m<sub>t,K</sub>/ m<sub>t,H</sub>))  \n",
    "m is a list that indexes all of the tuples that hold the experimental data"
   ]
  },
  {
   "cell_type": "code",
   "execution_count": null,
   "metadata": {},
   "outputs": [],
   "source": [
    "data = []\n",
    "data.append((300.0, 1000.0, 1.00, 1, 3.5))\n",
    "data.append((400.0, 1000.0, 1.00, 1, 2.75))\n",
    "data.append((500.0, 1000.0, 1.00, 1, 1.95))\n",
    "data.append((550.0, 1000.0, 0.96, 1, 1.40))\n",
    "data.append((400.0, 1000.0, 0.98, 2, 1.60))\n",
    "data.append((450.0, 1000.0, 0.98, 2, 1.57))\n",
    "data.append((500.0, 1000.0, 0.97, 2, 1.47))\n",
    "data.append((550.0, 1000.0, 0.96, 2, 1.38))\n",
    "data.append((300.0, 1000.0, 1.00, 3, 1.94))\n",
    "data.append((350.0, 1000.0, 0.99, 3, 1.80))\n",
    "data.append((300.0, 1000.0, 1.00, 4, 1.90))\n",
    "data.append((600.0, 1000.0, 0.81, 5, 0.63))\n",
    "(t,p) = data[0][0:2]"
   ]
  },
  {
   "cell_type": "markdown",
   "metadata": {},
   "source": [
    "### Define a function that performs fluid speciation using the DEW model"
   ]
  },
  {
   "cell_type": "code",
   "execution_count": null,
   "metadata": {},
   "outputs": [],
   "source": [
    "def speciation(t, p, m, printme=False):\n",
    "    muSpecies = DEWFluid.chemicalPotentialsOfSpeciesFromMolesOfComponents_andT_andP_(m, t, p)\n",
    "    if printme == True:\n",
    "        print (\"{0:>20s} {1:>15s} {2:>15s} {3:>15s} {4:>15s}\".format('species', \n",
    "                                                                     'activity', \n",
    "                                                                     'log10(activity)', \n",
    "                                                                     'mu', \n",
    "                                                                     'mu0'))\n",
    "    result = {}\n",
    "    for i in range (0, ns):\n",
    "        if muSpecies.valueAtIndex_(i) != 0.0:\n",
    "            pure = DEWFluid.componentAtIndex_(i)\n",
    "            g = pure.getGibbsFreeEnergyFromT_andP_(t, p)\n",
    "            result[DEWFluid.nameOfSolutionSpeciesAtIndex_(i)] = muSpecies.valueAtIndex_(i)\n",
    "            if printme == True:\n",
    "                print(\"{0:>20s} {1:15.6e} {2:15.6f}  {3:15.2f} {4:15.2f}\".format(\n",
    "                    DEWFluid.nameOfSolutionSpeciesAtIndex_(i), \n",
    "                    np.exp((muSpecies.valueAtIndex_(i)-g)/8.3143/t),\n",
    "                    (muSpecies.valueAtIndex_(i)-g)/8.3143/t/np.log(10.0),\n",
    "                    muSpecies.valueAtIndex_(i),\n",
    "                    g))\n",
    "    return result"
   ]
  },
  {
   "cell_type": "markdown",
   "metadata": {},
   "source": [
    "### Define functions that return a vector of reaction energies for each of the five assemblages:\n",
    "\n",
    "Assemblage 1 (Muscovite, Quartz, Kspar): 3 KAlSi<sub>3</sub>O<sub>8</sub> + 2 H<sup>+</sup> = KAl<sub>3</sub>Si<sub>3</sub>O<sub>10</sub>(OH)<sub>2</sub> + 2 K<sup>+</sup> + 6 SiO<sub>2</sub>  \n",
    "Assemblage 2 (Muscovite, Quartz, Andalusite): 2 KAl<sub>3</sub>Si<sub>3</sub>O<sub>10</sub>(OH)<sub>2</sub> + 2 H<sup>+</sup> = 3 Al<sub>2</sub>SiO<sub>5</sub> + 3 SiO<sub>2</sub> + 2 K<sup>+</sup> + 3 H<sub>2</sub>O  \n",
    "Assemblage 3 (Muscovite, Quartz, Pyrophyllite): 2 KAl<sub>3</sub>Si<sub>3</sub>O<sub>10</sub>(OH)<sub>2</sub> + 6 SiO<sub>2</sub> + 2 H<sup>+</sup> = 3 Al<sub>2</sub>Si<sub>4</sub>O<sub>10</sub>(OH)<sub>2</sub> + 2 K<sup>+</sup>  \n",
    "Assemblage 4 (Muscovite, Quartz, Kaolinite): 2 KAl<sub>3</sub>Si<sub>3</sub>O<sub>10</sub>(OH)<sub>2</sub> + 2 H<sup>+</sup> + 3 H<sub>2</sub>O  = 3 Al<sub>2</sub>Si<sub>2</sub>O<sub>5</sub>(OH)<sub>4</sub> + 2 K<sup>+</sup>  \n",
    "Assemblage 5 (Andalusite, Quartz, Kspar): 2 KAlSi<sub>3</sub>O<sub>8</sub> + 2 H<sup>+</sup> = Al<sub>2</sub>SiO<sub>5</sub> + 5 SiO<sub>2</sub> + 2 K<sup>+</sup> + H<sub>2</sub>O  "
   ]
  },
  {
   "cell_type": "code",
   "execution_count": null,
   "metadata": {},
   "outputs": [],
   "source": [
    "# NOTE: Must fix debug flag in code to speed up by factor of 2-3\n",
    "def reaction(x, t, p, assemblage, debug=False, returnDeltaGs=True,transformx=False):\n",
    "    \"\"\"\n",
    "    Perform reaction calculation.\n",
    "    \n",
    "    optional argument transformx accepts compositional vector x in logit space to speed up energy optimization\n",
    "    \"\"\"\n",
    "    if transformx:\n",
    "        # x is really provided in logit-space and must be back-transformed to regular space\n",
    "        x = transform_comp(x)\n",
    "        \n",
    "    m = fillMolalityArray(mHAlO2=x[0], mSiO2=x[1], mHCl=1.0, mKOH=x[2], printme=debug)\n",
    "    if returnDeltaGs == True:\n",
    "        muSp = speciation(t, p, m, printme=debug)\n",
    "        deltaG1 = 0.0\n",
    "        deltaG2 = 0.0\n",
    "        deltaG3 = 0.0\n",
    "        if assemblage == 1:  \n",
    "            deltaG1 += muSp[\"K+\"] + 3.0*muSp[\"Al+3\"] + 3.0*muSp[\"SiO2,aq\"] + 6.0*muSp[\"Water\"]\n",
    "            deltaG1 -= Muscovite.getGibbsFreeEnergyFromT_andP_(t, p) + 10.0*muSp[\"H+\"] \n",
    "            deltaG2 += muSp[\"SiO2,aq\"] - Quartz.getGibbsFreeEnergyFromT_andP_(t, p) \n",
    "            deltaG3 += muSp[\"K+\"] + muSp[\"Al+3\"] + 3.0*muSp[\"SiO2,aq\"] + 2.0*muSp[\"Water\"]\n",
    "            deltaG3 -= Kspar.getGibbsFreeEnergyFromT_andP_(t, p) + 4.0*muSp[\"H+\"] \n",
    "        elif assemblage == 2:\n",
    "            deltaG1 += 2.0*muSp[\"Al+3\"] + muSp[\"SiO2,aq\"] + 3.0*muSp[\"Water\"]\n",
    "            deltaG1 -= Andalusite.getGibbsFreeEnergyFromT_andP_(t, p) + 6.0*muSp[\"H+\"]\n",
    "            deltaG2 += muSp[\"SiO2,aq\"] - Quartz.getGibbsFreeEnergyFromT_andP_(t, p) \n",
    "            deltaG3 += muSp[\"K+\"] + 3.0*muSp[\"Al+3\"] + 3.0*muSp[\"SiO2,aq\"] + 6.0*muSp[\"Water\"]\n",
    "            deltaG3 -= Muscovite.getGibbsFreeEnergyFromT_andP_(t, p) + 10.0*muSp[\"H+\"] \n",
    "        elif assemblage == 3:\n",
    "            deltaG1 += 2.0*muSp[\"Al+3\"] + 4.0*muSp[\"SiO2,aq\"] + 4.0*muSp[\"Water\"]\n",
    "            deltaG1 -= Pyrophyllite.getGibbsFreeEnergyFromT_andP_(t, p) + 6.0*muSp[\"H+\"]\n",
    "            deltaG2 += muSp[\"SiO2,aq\"] - Quartz.getGibbsFreeEnergyFromT_andP_(t, p) \n",
    "            deltaG3 += muSp[\"K+\"] + 3.0*muSp[\"Al+3\"] + 3.0*muSp[\"SiO2,aq\"] + 6.0*muSp[\"Water\"]\n",
    "            deltaG3 -= Muscovite.getGibbsFreeEnergyFromT_andP_(t, p) + 10.0*muSp[\"H+\"]\n",
    "        elif assemblage == 4:\n",
    "            deltaG1 += 2.0*muSp[\"Al+3\"] + 2.0*muSp[\"SiO2,aq\"] + 5.0*muSp[\"Water\"]\n",
    "            deltaG1 -= Kaolinite.getGibbsFreeEnergyFromT_andP_(t, p) + 6.0*muSp[\"H+\"]\n",
    "            deltaG2 += muSp[\"SiO2,aq\"] - Quartz.getGibbsFreeEnergyFromT_andP_(t, p) \n",
    "            deltaG3 += muSp[\"K+\"] + 3.0*muSp[\"Al+3\"] + 3.0*muSp[\"SiO2,aq\"] + 6.0*muSp[\"Water\"]\n",
    "            deltaG3 -= Muscovite.getGibbsFreeEnergyFromT_andP_(t, p) + 10.0*muSp[\"H+\"]\n",
    "        elif assemblage == 5:\n",
    "            deltaG1 += 2.0*muSp[\"Al+3\"] + muSp[\"SiO2,aq\"] + 3.0*muSp[\"Water\"]\n",
    "            deltaG1 -= Andalusite.getGibbsFreeEnergyFromT_andP_(t, p) + 6.0*muSp[\"H+\"]\n",
    "            deltaG2 += muSp[\"SiO2,aq\"] - Quartz.getGibbsFreeEnergyFromT_andP_(t, p) \n",
    "            deltaG3 += muSp[\"K+\"] + muSp[\"Al+3\"] + 3.0*muSp[\"SiO2,aq\"] + 2.0*muSp[\"Water\"]\n",
    "            deltaG3 -= Kspar.getGibbsFreeEnergyFromT_andP_(t, p) + 4.0*muSp[\"H+\"]  \n",
    "        return np.array([deltaG1, deltaG2, deltaG3])\n",
    "    else:\n",
    "        CapGam = 1000.0/18.01528\n",
    "        moleFraction = DEWFluid.getSpeciesMoleFractionsForBulkComposition_aT_andP_(m, t, p)\n",
    "        mHCl = moleFraction.objectForKey_(\"HCl,aq\")*CapGam/moleFraction.objectForKey_(\"Water\")\n",
    "        mH   = moleFraction.objectForKey_(\"H+\")*CapGam/moleFraction.objectForKey_(\"Water\")\n",
    "        mKCl = moleFraction.objectForKey_(\"KCl,aq\")*CapGam/moleFraction.objectForKey_(\"Water\")\n",
    "        mKOH = moleFraction.objectForKey_(\"KOH,aq\")*CapGam/moleFraction.objectForKey_(\"Water\")\n",
    "        mK   = moleFraction.objectForKey_(\"K+\")*CapGam/moleFraction.objectForKey_(\"Water\")\n",
    "        if debug == True:\n",
    "            print (\"m t,K =\", mKCl+mK+mKOH, m[11], \"m t,H =\", mHCl+mH)\n",
    "        result = np.log((mKCl+mK)/(mHCl+mH))/np.log(10.0)\n",
    "        return result\n",
    "    \n",
    "def transform_comp(xtrans):\n",
    "    \"\"\"\n",
    "    Transform composition from logit-space to normal space\n",
    "    \"\"\"\n",
    "    x = np.exp(xtrans)/(1+np.exp(xtrans))\n",
    "    return x\n",
    "\n",
    "def untransform_comp(x):\n",
    "    \"\"\"\n",
    "    Transform composition from normal space to logit-space\n",
    "    \"\"\"\n",
    "    xtrans = np.log(x/(1-x))\n",
    "    return xtrans"
   ]
  },
  {
   "cell_type": "code",
   "execution_count": null,
   "metadata": {},
   "outputs": [],
   "source": []
  },
  {
   "cell_type": "markdown",
   "metadata": {},
   "source": [
    "### Calculate equilibrium curve for assemblage - kspar, muscovite, and quartz"
   ]
  },
  {
   "cell_type": "code",
   "execution_count": null,
   "metadata": {},
   "outputs": [],
   "source": [
    "dim = 4 # dimension of the final vector storing all numbers\n",
    "def generateAssemblage(xAssemblage, yAssemblage):\n",
    "    guess = np.array([3.31199614e-06, 4.68942179e-02, 9.63461315e-01])\n",
    "    guess_trans = untransform_comp(guess) \n",
    "    for i in range (dim):\n",
    "        t = 550.0 - i*100.0\n",
    "        \n",
    "        reaction_trans = lambda x,t,p,assemblage,debug=False,returnDeltaGs=True: reaction(x,t,p,assemblage,transformx=True,debug=debug,returnDeltaGs=returnDeltaGs)\n",
    "        args=(t+273.15, 1000.0, 1)\n",
    "        \n",
    "        result = opt.leastsq(reaction_trans, guess_trans,args=args,full_output=True)\n",
    "        \n",
    "        x_trans_fit = result[0]\n",
    "        x_fit = transform_comp(x_trans_fit)\n",
    "        dx_trans = x_trans_fit - guess_trans\n",
    "        \n",
    "        guess_trans = x_trans_fit + dx_trans\n",
    "        \n",
    "       \n",
    "        print (t)\n",
    "        print ('x_trans = ', x_trans_fit)\n",
    "        print ('x = ',x_fit)\n",
    "        ratio = reaction_trans(x_trans_fit, 873.15, 1000.0, 1, debug=False, returnDeltaGs=False)\n",
    "        print (ratio)\n",
    "        print('--------')\n",
    "        xAssemblage1[i] = ratio\n",
    "        yAssemblage1[i] = t"
   ]
  },
  {
   "cell_type": "markdown",
   "metadata": {},
   "source": [
    "### Calculate equilibrium curve for assemblage 1 (muscovite, kspar, quartz)"
   ]
  },
  {
   "cell_type": "markdown",
   "metadata": {},
   "source": [
    "#### 4.4.2 *with* corrections to the minerals"
   ]
  },
  {
   "cell_type": "code",
   "execution_count": null,
   "metadata": {},
   "outputs": [],
   "source": [
    "param = -127235.44\n",
    "component.setParameterName_tovalue_(\"deltaGibbsFreeEnergyOfFormationInTheReferenceState\", param)\n",
    "param = -5976740.0\n",
    "Muscovite.setParameterName_tovalue_(\"delta H\", param-1600.0*4.184)\n",
    "param = -3970790.781 \n",
    "Kspar.setParameterName_tovalue_(\"delta H\", param-1600.0*4.184)\n",
    "\n",
    "xAssemblage1 = np.zeros((dim,2))\n",
    "yAssemblage1 = np.zeros(dim)\n",
    "print (\"Starting Assemblage ...\")\n",
    "\n",
    "t=time.time()\n",
    "generateAssemblage(xAssemblage1,yAssemblage1)\n",
    "print(time.time()-t)"
   ]
  },
  {
   "cell_type": "code",
   "execution_count": null,
   "metadata": {},
   "outputs": [],
   "source": [
    "#%%timeit\n",
    "param = Muscovite.getValueForParameterName_(\"deltaGibbsFreeEnergyOfFormationInTheReferenceState\")\n",
    "Muscovite.setParameterName_tovalue_(\"deltaGibbsFreeEnergyOfFormationInTheReferenceState\", param - 1600.0*4.184)\n",
    "param = Muscovite.getValueForParameterName_(\"delta H\")\n",
    "Muscovite.setParameterName_tovalue_(\"delta H\", param - 1600.0*4.184)\n",
    "\n",
    "param = Kspar.getValueForParameterName_(\"deltaGibbsFreeEnergyOfFormationInTheReferenceState\")\n",
    "Kspar.setParameterName_tovalue_(\"deltaGibbsFreeEnergyOfFormationInTheReferenceState\", param-1600.0*4.184)\n",
    "param = Kspar.getValueForParameterName_(\"delta H\")\n",
    "Kspar.setParameterName_tovalue_(\"delta H\", param-1600.0*4.184)\n",
    "\n",
    "xAssemblage2 = np.zeros((dim,2))\n",
    "yAssemblage2 = np.zeros(dim)\n",
    "print (\"Starting Assemblage ...\")\n",
    "t=time.time()\n",
    "generateAssemblage(xAssemblage2,yAssemblage2)\n",
    "print (\"... finally done!\")\n",
    "print(time.time()-t)"
   ]
  },
  {
   "cell_type": "markdown",
   "metadata": {},
   "source": [
    "# NOTE: Cells below need updating from ENKI-web-version"
   ]
  },
  {
   "cell_type": "markdown",
   "metadata": {},
   "source": [
    "### Plot up the experimental data and calculated curves ..."
   ]
  },
  {
   "cell_type": "code",
   "execution_count": null,
   "metadata": {},
   "outputs": [],
   "source": [
    "xPlot1 = np.zeros(4)\n",
    "yPlot1 = np.zeros(4)\n",
    "xPlot1[0] = data[0][4]\n",
    "yPlot1[0] = data[0][0]\n",
    "xPlot1[1] = data[1][4]\n",
    "yPlot1[1] = data[1][0]\n",
    "xPlot1[2] = data[2][4]\n",
    "yPlot1[2] = data[2][0]\n",
    "xPlot1[3] = data[3][4]\n",
    "yPlot1[3] = data[3][0]\n",
    "plt.scatter(xPlot1, yPlot1, marker='o', color='r', label = 'KFs - Ms - Qtz' )\n",
    "f = interp1d(yAssemblage1, xAssemblage1, kind='cubic')\n",
    "ynew = np.linspace(yAssemblage1[0], yAssemblage1[7], num=100, endpoint=True)\n",
    "plt.plot(f(ynew), ynew, color='r', label = 'calc KFs - Ms - Qtz' )\n",
    "\n",
    "xPlot2 = np.zeros(4)\n",
    "yPlot2 = np.zeros(4)\n",
    "xPlot2[0] = data[4][4]\n",
    "yPlot2[0] = data[4][0]\n",
    "xPlot2[1] = data[5][4]\n",
    "yPlot2[1] = data[5][0]\n",
    "xPlot2[2] = data[6][4]\n",
    "yPlot2[2] = data[6][0]\n",
    "xPlot2[3] = data[7][4]\n",
    "yPlot2[3] = data[7][0]\n",
    "plt.scatter(xPlot2, yPlot2, marker='o', color='b', label = 'Ms - And - Qtz' )\n",
    "f = interp1d(yAssemblage2, xAssemblage2, kind='cubic')\n",
    "ynew = np.linspace(yAssemblage2[0], yAssemblage2[7], num=100, endpoint=True)\n",
    "plt.plot(f(ynew), ynew, color='b', label = 'calc Ms - And - Qtz' )\n",
    "\n",
    "xPlot3 = np.zeros(2)\n",
    "yPlot3 = np.zeros(2)\n",
    "xPlot3[0] = data[8][4]\n",
    "yPlot3[0] = data[8][0]\n",
    "xPlot3[1] = data[9][4]\n",
    "yPlot3[1] = data[9][0]\n",
    "plt.scatter(xPlot3, yPlot3, marker='o', color='g', label = 'Ms - Pyr - Qtz' )\n",
    "f = interp1d(yAssemblage3, xAssemblage3, kind='cubic')\n",
    "ynew = np.linspace(yAssemblage3[0], yAssemblage3[7], num=100, endpoint=True)\n",
    "plt.plot(f(ynew), ynew, color='g', label = 'calc Ms - Pyr - Qtz' )\n",
    "\n",
    "xPlot4 = np.zeros(1)\n",
    "yPlot4 = np.zeros(1)\n",
    "xPlot4[0] = data[10][4]\n",
    "yPlot4[0] = data[10][0]\n",
    "plt.scatter(xPlot4, yPlot4, marker='o', color='black', label = 'Kaol - Ms - Qtz' )\n",
    "f = interp1d(yAssemblage4, xAssemblage4, kind='cubic')\n",
    "ynew = np.linspace(yAssemblage4[0], yAssemblage4[7], num=100, endpoint=True)\n",
    "plt.plot(f(ynew), ynew, color='black', label = 'calc Ms - kaol - Qtz' )\n",
    "\n",
    "xPlot5 = np.zeros(1)\n",
    "yPlot5 = np.zeros(1)\n",
    "xPlot5[0] = data[11][4]\n",
    "yPlot5[0] = data[11][0]\n",
    "plt.scatter(xPlot5, yPlot5, marker='o', color='m', label = 'Kfs - And - Qtz' )\n",
    "f = interp1d(yAssemblage5, xAssemblage5, kind='cubic')\n",
    "ynew = np.linspace(yAssemblage5[0], yAssemblage5[7], num=100, endpoint=True)\n",
    "plt.plot(f(ynew), ynew, color='m', label = 'calc Kfs - And - Qtz' )\n",
    "\n",
    "plt.legend(loc='upper right')\n",
    "plt.xlim(0.0, 8.0)\n",
    "plt.ylim(200.0, 650.0)"
   ]
  },
  {
   "cell_type": "code",
   "execution_count": null,
   "metadata": {},
   "outputs": [],
   "source": []
  }
 ],
 "metadata": {
  "anaconda-cloud": {},
  "kernelspec": {
   "display_name": "Python [default]",
   "language": "python",
   "name": "python3"
  },
  "language_info": {
   "codemirror_mode": {
    "name": "ipython",
    "version": 3
   },
   "file_extension": ".py",
   "mimetype": "text/x-python",
   "name": "python",
   "nbconvert_exporter": "python",
   "pygments_lexer": "ipython3",
   "version": "3.6.4"
  }
 },
 "nbformat": 4,
 "nbformat_minor": 2
}
