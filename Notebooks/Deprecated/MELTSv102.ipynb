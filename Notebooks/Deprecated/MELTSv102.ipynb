{
 "cells": [
  {
   "cell_type": "markdown",
   "metadata": {},
   "source": [
    "# MELTS v 1.0.2 Implemented Using the `Equilibrate` Class\n",
    "The `Equilibrate` class generates an equilibrium assemblage when provided with a set of phases, a bulk composition, and <strong>T,P</strong> or <strong>S,P</strong> or <strong>T,V</strong> or <strong>S,V</strong>.  \n",
    "  \n",
    "Versions of MELTS implemented are:  \n",
    "- MELTS v. 1.0.2 ➞ [EquilibrateUsingMELTSv102](https://gitlab.com/ENKI-portal/PhaseOb→jC/blob/master/Documentation/EquilibrateUsingMELTSv102.md) (rhyolite-MELTS)  \n",
    "- MELTS v. 1.1.0 ➞ EquilibrateUsingMELTSv110 (rhyolite-MELTS + new CO<sub>2</sub>, works at the ternary minimum)  \n",
    "- MELTS v. 1.2.0 ➞ EquilibrateUsingMELTSv120 (rhyolite-MELTS + new H<sub>2</sub>O + new CO<sub>2</sub>)  \n",
    "- pMELTS v. 5.6.1 ➞ EquilibrateUsingpMELTSv561  "
   ]
  },
  {
   "cell_type": "markdown",
   "metadata": {},
   "source": [
    "## Initialize tools and package that are required to execute this notebook."
   ]
  },
  {
   "cell_type": "code",
   "execution_count": null,
   "metadata": {},
   "outputs": [],
   "source": [
    "from ctypes import cdll\n",
    "from ctypes import util\n",
    "from rubicon.objc import ObjCClass, objc_method\n",
    "cdll.LoadLibrary(util.find_library('phaseobjc'))\n",
    "import matplotlib.pyplot as plt\n",
    "import numpy as np\n",
    "import ctypes\n",
    "%matplotlib inline"
   ]
  },
  {
   "cell_type": "markdown",
   "metadata": {},
   "source": [
    "## Create an instance of the `EquilibrateUsingMELTSv102` subclass of `Equilibrate`.\n",
    "This class implements the phase model collection corresponding to rhyolite-MELTS v 1.0.2 (Gualda et al., 2012). "
   ]
  },
  {
   "cell_type": "code",
   "execution_count": null,
   "metadata": {},
   "outputs": [],
   "source": [
    "EquilibrateUsingMELTSv102 = ObjCClass('EquilibrateUsingMELTSv102')\n",
    "melts = EquilibrateUsingMELTSv102.alloc().init()\n",
    "melts.setDebugS_(0)\n",
    "melts.setDebugV_(0)"
   ]
  },
  {
   "cell_type": "markdown",
   "metadata": {},
   "source": [
    "### Optionally, generate some information about the implemented model.\n",
    "Set <strong>False</strong> to <strong>True</strong> in the following lines of code in order to display a list of system oxide components known to MELTS v 1.0.2 and a list of known liquid, solid, and fluid phases."
   ]
  },
  {
   "cell_type": "code",
   "execution_count": null,
   "metadata": {},
   "outputs": [],
   "source": [
    "oxides = melts.oxideNames()\n",
    "if False:\n",
    "    print ('System oxide components:')\n",
    "    for i in range (0,oxides.count):\n",
    "        print ('   ', oxides.objectAtIndex_(i))\n",
    "phases = melts.phaseNames()\n",
    "if False:\n",
    "    print ('Known liquid, solid and fluid phases:')\n",
    "    for i in range (0,phases.count):\n",
    "        print ('   ', phases.objectAtIndex_(i))"
   ]
  },
  {
   "cell_type": "markdown",
   "metadata": {},
   "source": [
    "## Configure an equilibrium crystallization calculation.\n",
    "### We input initial composition of the system (liquid). \n",
    "The first two lines of code are required in order to produce a \"C\"-style array of double precision values that are acceptable as input to the class method."
   ]
  },
  {
   "cell_type": "code",
   "execution_count": null,
   "metadata": {},
   "outputs": [],
   "source": [
    "wt = (ctypes.c_double*oxides.count)()\n",
    "ctypes.cast(wt, ctypes.POINTER(ctypes.c_double))\n",
    "wt[0] = 77.8   # SiO2\n",
    "wt[1] =  0.09  # TiO2\n",
    "wt[2] = 12.0   # Al2O3\n",
    "wt[3] =  0.196 # Fe2O3\n",
    "wt[4] =  0.0   # Cr2O3\n",
    "wt[5] =  0.474 # FeO\n",
    "wt[6] =  0.0   # MnO\n",
    "wt[7] =  0.04  # MgO\n",
    "wt[8] =  0.0   # NiO\n",
    "wt[9] =  0.0   # CoO\n",
    "wt[10] = 0.45  # CaO\n",
    "wt[11] = 3.7   # Na2O\n",
    "wt[12] = 5.36  # K2O\n",
    "wt[13] = 0.0   # P2O5\n",
    "wt[14] = 3.74  # H2O\n",
    "melts.setComposition_(wt)"
   ]
  },
  {
   "cell_type": "markdown",
   "metadata": {},
   "source": [
    "### Input initial temperature and pressure."
   ]
  },
  {
   "cell_type": "code",
   "execution_count": null,
   "metadata": {},
   "outputs": [],
   "source": [
    "t = 770.0 + 273.15 # K\n",
    "p = 1750.0 # bars\n",
    "melts.setTemperature_(t)\n",
    "melts.setPressure_(p)"
   ]
  },
  {
   "cell_type": "markdown",
   "metadata": {},
   "source": [
    "## Compute the equilibrium state at the initial conditions.\n"
   ]
  },
  {
   "cell_type": "code",
   "execution_count": null,
   "metadata": {},
   "outputs": [],
   "source": [
    "output = melts.execute()\n",
    "print (output.objectForKey_('status'), t-273.15, p)"
   ]
  },
  {
   "cell_type": "markdown",
   "metadata": {},
   "source": [
    "## There are a number of ways to process output:\n",
    "### Method 1 \n",
    "The following functions process results stored directly by data structures returned by the `Equilibrate` class. The execute() method of the class returns a two-member dictionary, with keys status and results  \n",
    "- <strong>status</strong> points to a string that describes the manner in which the method exited.  \n",
    "- <strong>results</strong> contains the results of the calculation. It is an instance of the `EquilibrateState` class.  \n",
    "- <strong>results</strong> has a property called `phasesInSystem`, which is a dictionary of phases in the equilibrium assemblage, with keys given by phase names. Each object in the dictionary is an instance of the class `EquilibrateStatePhase`. Each `EquilibrateStatePhase` object exposes properties about the phase, including mass, affinity, bulk composition, and a pointer to the instance of the class that implements the phase thermodynamics.  \n",
    "\n",
    "Consult the documentation on the three classes—`Equilibrate`, `EquilibrateState`, and `EquilibrateStatePhase`—for more information.  \n",
    "  \n",
    "<> <strong>processOutput</strong> returns output generated by the `execute` command as a Python dictionary, and optionally prints a summary of results."
   ]
  },
  {
   "cell_type": "code",
   "execution_count": null,
   "metadata": {},
   "outputs": [],
   "source": [
    "e = (ctypes.c_double*107)()\n",
    "ctypes.cast(e, ctypes.POINTER(ctypes.c_double))\n",
    "m = (ctypes.c_double*15)()\n",
    "ctypes.cast(m, ctypes.POINTER(ctypes.c_double))\n",
    "\n",
    "def processOutput(generateOutput=False):\n",
    "    results = output.objectForKey_('results') # EquilibrateState class instance\n",
    "    phases = results.phasesInSystem.allKeys() # array of strings, one for each phase in the assemblage\n",
    "    if (generateOutput):\n",
    "        print ('Temperature (°C)', results.T-273.15)\n",
    "    phaseDict = {}\n",
    "    for i in range(0, phases.count):\n",
    "        phase = phases.objectAtIndex_(i) # name of phase\n",
    "        obj = results.phasesInSystem.objectForKey_(phase) # EquilibrateStatePhase class instance\n",
    "        if (generateOutput):\n",
    "            print (\"Mass of \", phase, \" in equilibrium assemblage is \", obj.mass, \" grams\")\n",
    "        phaseDict[phase] = {}\n",
    "        phaseDict[phase]['mass'] = obj.mass\n",
    "        phaseInstance = obj.phaseClassInstance\n",
    "        bulkComposition = obj.bulkCompositionInElements\n",
    "        for j in range (0, 107):\n",
    "            e[j] = bulkComposition.valueAtIndex_(j)\n",
    "        try:\n",
    "            moles = phaseInstance.convertElementsToMoles_(e)\n",
    "            nc = phaseInstance.numberOfSolutionComponents()\n",
    "            for j in range (0, nc):\n",
    "                m[j] = moles.valueAtIndex_(j)\n",
    "            if (generateOutput):\n",
    "                print ('     formula = ', phaseInstance.getFormulaFromMolesOfComponents_andT_andP_(m, t, p))\n",
    "        except AttributeError:\n",
    "            if (generateOutput):\n",
    "                print ('     formula = ', phaseInstance.phaseFormula)\n",
    "    return phaseDict"
   ]
  },
  {
   "cell_type": "markdown",
   "metadata": {},
   "source": [
    "#### Using Method 1 - Output results to a Python dictionary and the screen."
   ]
  },
  {
   "cell_type": "code",
   "execution_count": null,
   "metadata": {},
   "outputs": [],
   "source": [
    "\n",
    "phaseDict = processOutput(generateOutput=True)"
   ]
  },
  {
   "cell_type": "markdown",
   "metadata": {},
   "source": [
    "### Method 2:  Alternative output using XML retrieved from `EquilibrateState` object\n",
    "This method using an XML tree-like data structure that is generated by the equilibrate class that yields the most comprehensive set of outputs"
   ]
  },
  {
   "cell_type": "code",
   "execution_count": null,
   "metadata": {},
   "outputs": [],
   "source": [
    "import xml.etree.ElementTree as ET\n",
    "root = ET.fromstring(melts.equilibrateResultsAsXML())\n",
    "\n",
    "print (\"T (°C)\", root.find(\".//Temperature\").text)\n",
    "print (\"P (MPa)\", float(root.find(\".//Pressure\").text)*1000.0)\n",
    "print (\"Mass (g)\", root.find(\".//Mass\").text)\n",
    "\n",
    "print (\"Bulk composition in elemental abundances (moles):\")\n",
    "bcElements = list(root.findall(\".//Composition/Element\"))\n",
    "for element in bcElements:\n",
    "    print (\"   \", element.attrib['Type'], element.text)\n",
    "\n",
    "print (\"Bulk composition in oxide abundances (wt %):\")\n",
    "bcOxides = list(root.findall(\".//Composition/Oxide\"))\n",
    "for oxide in bcOxides:\n",
    "    print (\"   \", oxide.attrib['Type'], oxide.text)\n",
    "    \n",
    "phases = list(root.findall(\".//System/Phase\"))\n",
    "for phase in phases:\n",
    "    print (phase.attrib['Type'])\n",
    "    print (\"   Mass (g)\", phase.find(\"Mass\").text)\n",
    "    print (\"   Formula\", phase.find(\"Formula\").text)\n",
    "    oxides = list(phase.findall(\"Oxide\"))\n",
    "    for oxide in oxides:\n",
    "        value = float(oxide.text)\n",
    "        if (value != 0.0):\n",
    "            print (\"   \", oxide.attrib['Type'], oxide.text)\n",
    "    components = list(phase.findall(\"Component\"))\n",
    "    for component in components:\n",
    "        value = float(component.text)\n",
    "        if (value != 0.0):\n",
    "            print (\"   \", component.attrib['Name'], component.text)"
   ]
  },
  {
   "cell_type": "markdown",
   "metadata": {},
   "source": [
    "### Method 3: Define some functions to output results into an Excel notebook\n",
    "Utilize the `openpyxl` Python package to read/write Excel notebooks."
   ]
  },
  {
   "cell_type": "code",
   "execution_count": null,
   "metadata": {},
   "outputs": [],
   "source": [
    "from openpyxl import Workbook\n",
    "from openpyxl.compat import range\n",
    "from openpyxl.utils import get_column_letter\n",
    "\n",
    "def startExcelWorkbookWithSheetName(sheetName=\"Summary\"):\n",
    "    wb = Workbook()\n",
    "    ws = wb.active\n",
    "    ws.title = sheetName\n",
    "    return wb\n",
    "\n",
    "def addSheetToWorkbookNamed(wb, sheetName):\n",
    "    ws = wb.create_sheet(title=sheetName)\n",
    "    return ws\n",
    "\n",
    "def writeToCellInSheet(ws, col, row, value, format='general'):\n",
    "    if format == 'number':\n",
    "        ws.cell(column=col, row=row, value=float(value)).number_format = '0.00'\n",
    "    elif format == 'scientific':\n",
    "        ws.cell(column=col, row=row, value=float(value)).number_format = '0.00E+00'\n",
    "    else:\n",
    "        ws.cell(column=col, row=row, value=value)\n",
    "\n",
    "def writeExcelWorkbook(wb, fileName=\"junk.xlsx\"):\n",
    "    wb.save(filename = fileName)\n",
    "\n",
    "# row is an externally defined variable\n",
    "def updateExcelWorkbook(wb, root):\n",
    "    global row\n",
    "    \n",
    "    t = root.find(\".//Temperature\").text\n",
    "    p = float(root.find(\".//Pressure\").text)*1000.0\n",
    "    bcElements = list(root.findall(\".//Composition/Element\"))\n",
    "    bcOxides = list(root.findall(\".//Composition/Oxide\"))\n",
    "    \n",
    "    wsSummary = wb.get_sheet_by_name(\"Summary\")\n",
    "    if (row == 0):\n",
    "        col = 1\n",
    "        row = 1\n",
    "        writeToCellInSheet(wsSummary, col, row, \"T °C\")\n",
    "        col += 1\n",
    "        writeToCellInSheet(wsSummary, col, row, \"P MPa\")\n",
    "        col += 1\n",
    "        writeToCellInSheet(wsSummary, col, row, \"Mass g\")\n",
    "        col += 1\n",
    "        for element in bcElements:\n",
    "            writeToCellInSheet(wsSummary, col, row, element.attrib['Type'])\n",
    "            col += 1\n",
    "        for oxide in bcOxides:\n",
    "            writeToCellInSheet(wsSummary, col, row, oxide.attrib['Type'])\n",
    "            col += 1\n",
    "    \n",
    "    row += 1\n",
    "    col = 1\n",
    "    writeToCellInSheet(wsSummary, col, row, t, format='number')\n",
    "    col += 1\n",
    "    writeToCellInSheet(wsSummary, col, row, p, format='number')\n",
    "    col += 1\n",
    "    writeToCellInSheet(wsSummary, col, row, root.find(\".//Mass\").text, format='number')\n",
    "    col += 1\n",
    "    for element in bcElements:\n",
    "        writeToCellInSheet(wsSummary, col, row, element.text, format='scientific')\n",
    "        col += 1\n",
    "    for oxide in bcOxides:\n",
    "        writeToCellInSheet(wsSummary, col, row, oxide.text, format='number')\n",
    "        col += 1\n",
    "    \n",
    "    phases = list(root.findall(\".//System/Phase\"))\n",
    "    for phase in phases:\n",
    "        phaseType = phase.attrib['Type']\n",
    "        oxides = list(phase.findall(\"Oxide\"))\n",
    "        components = list(phase.findall(\"Component\"))\n",
    "        \n",
    "        try:\n",
    "            wsPhase = wb.get_sheet_by_name(phaseType)\n",
    "        except KeyError:\n",
    "            wsPhase = wb.create_sheet(phaseType)\n",
    "            col = 1\n",
    "            writeToCellInSheet(wsPhase, col, 1, \"T °C\")\n",
    "            col += 1\n",
    "            writeToCellInSheet(wsPhase, col, 1, \"P MPa\")\n",
    "            col += 1\n",
    "            writeToCellInSheet(wsPhase, col, 1, \"Mass g\")\n",
    "            col += 1\n",
    "            writeToCellInSheet(wsPhase, col, 1, \"Formula\")\n",
    "            col += 1\n",
    "            for oxide in oxides:\n",
    "                writeToCellInSheet(wsPhase, col, 1, oxide.attrib['Type'])\n",
    "                col += 1\n",
    "            for component in components:\n",
    "                writeToCellInSheet(wsPhase, col, 1, component.attrib['Name'])\n",
    "                col += 1\n",
    "        \n",
    "        col = 1\n",
    "        writeToCellInSheet(wsPhase, col, row, t, format='number')\n",
    "        col += 1\n",
    "        writeToCellInSheet(wsPhase, col, row, p, format='number')\n",
    "        col += 1\n",
    "        writeToCellInSheet(wsPhase, col, row, phase.find(\"Mass\").text, format='number')\n",
    "        col += 1\n",
    "        writeToCellInSheet(wsPhase, col, row, phase.find(\"Formula\").text)\n",
    "        col += 1\n",
    "        for oxide in oxides:\n",
    "            writeToCellInSheet(wsPhase, col, row, oxide.text, format='number')\n",
    "            col += 1\n",
    "        for component in components:\n",
    "            writeToCellInSheet(wsPhase, col, row, component.text, format='scientific')\n",
    "            col += 1\n"
   ]
  },
  {
   "cell_type": "markdown",
   "metadata": {},
   "source": [
    "## Now, use Method 3 to output results from a sequence of calculations . . . \n",
    "... and, while you are at it, plot the results. "
   ]
  },
  {
   "cell_type": "markdown",
   "metadata": {},
   "source": [
    "Choose temperature increment, number of steps, phases to plot, and color/style for plot display:  \n",
    "b : blue.  \n",
    "g : green.  \n",
    "r : red.  \n",
    "c : cyan.  \n",
    "m : magenta.  \n",
    "y : yellow.  \n",
    "k : black.  \n",
    "w : white.  "
   ]
  },
  {
   "cell_type": "code",
   "execution_count": null,
   "metadata": {},
   "outputs": [],
   "source": [
    "tMin = 750.0\n",
    "tMax = 770.0\n",
    "tIncrement = -1.0\n",
    "increments = 20\n",
    "plotPhases = ['Liquid', 'Sanidine', 'Plagioclase', 'Quartz']\n",
    "plotColors = [ 'ro', 'bo', 'go', 'co']"
   ]
  },
  {
   "cell_type": "markdown",
   "metadata": {},
   "source": [
    "## Run the sequence of calculations."
   ]
  },
  {
   "cell_type": "code",
   "execution_count": null,
   "metadata": {},
   "outputs": [],
   "source": [
    "wb = startExcelWorkbookWithSheetName(sheetName=\"Summary\")\n",
    "row = 0\n",
    "\n",
    "n = len(plotPhases)\n",
    "xPlot = np.zeros(increments+1)\n",
    "yPlot = np.zeros((n, increments+1))\n",
    "xPlot[0] = t - 273.15\n",
    "for i in range (0, n):\n",
    "    if root.find(\".//System/Phase[@Type='\" + plotPhases[i] + \"']/Mass\") != None:\n",
    "        value = root.find(\".//System/Phase[@Type='\" + plotPhases[i] + \"']/Mass\").text\n",
    "    else:\n",
    "        value = 0.0\n",
    "    yPlot[i][0] = value\n",
    "plt.ion()\n",
    "fig = plt.figure()\n",
    "ax = fig.add_subplot(111)\n",
    "ax.set_xlim([tMin, tMax])\n",
    "ax.set_ylim([0., 100.])\n",
    "graphs = []\n",
    "for i in range (0, n):\n",
    "    graphs.append(ax.plot(xPlot, yPlot[i], plotColors[i]))\n",
    "handle = []\n",
    "for (graph,) in graphs:\n",
    "    handle.append(graph)\n",
    "ax.legend(handle, plotPhases, loc='upper left')\n",
    "updateExcelWorkbook(wb, root)\n",
    "\n",
    "for i in range (1, increments):\n",
    "    t = t + tIncrement\n",
    "    melts.incrementTemperature_(t)\n",
    "    output = melts.execute()\n",
    "    print (output.objectForKey_('status'), t-273.15, p)\n",
    "    root = ET.fromstring(melts.equilibrateResultsAsXML())\n",
    "    xPlot[i] = t - 273.15\n",
    "    for j in range (0, n):\n",
    "        if root.find(\".//System/Phase[@Type='\" + plotPhases[j] + \"']/Mass\") != None:\n",
    "            value = root.find(\".//System/Phase[@Type='\" + plotPhases[j] + \"']/Mass\").text\n",
    "        else:\n",
    "            value = 0.0\n",
    "        yPlot[j][i] = value\n",
    "    j = 0\n",
    "    for (graph,) in graphs:\n",
    "        graph.set_xdata(xPlot)\n",
    "        graph.set_ydata(yPlot[j])\n",
    "        j = j + 1\n",
    "    fig.canvas.draw()\n",
    "    updateExcelWorkbook(wb, root)\n",
    "\n",
    "writeExcelWorkbook(wb, \"MELTSv102summary.xlsx\")"
   ]
  },
  {
   "cell_type": "code",
   "execution_count": null,
   "metadata": {},
   "outputs": [],
   "source": []
  }
 ],
 "metadata": {
  "anaconda-cloud": {},
  "kernelspec": {
   "display_name": "Python [default]",
   "language": "python",
   "name": "python3"
  },
  "language_info": {
   "codemirror_mode": {
    "name": "ipython",
    "version": 3
   },
   "file_extension": ".py",
   "mimetype": "text/x-python",
   "name": "python",
   "nbconvert_exporter": "python",
   "pygments_lexer": "ipython3",
   "version": "3.6.1"
  }
 },
 "nbformat": 4,
 "nbformat_minor": 1
}
