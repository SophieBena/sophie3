{
 "cells": [
  {
   "cell_type": "markdown",
   "metadata": {},
   "source": [
    "# PhaseObjC - Stoichiometric Phase Example 2"
   ]
  },
  {
   "cell_type": "markdown",
   "metadata": {},
   "source": [
    "Required Python code to load the phase library."
   ]
  },
  {
   "cell_type": "code",
   "execution_count": null,
   "metadata": {},
   "outputs": [],
   "source": [
    "from ctypes import cdll\n",
    "from ctypes import util\n",
    "from rubicon.objc import ObjCClass, objc_method\n",
    "cdll.LoadLibrary(util.find_library('phaseobjc'))"
   ]
  },
  {
   "cell_type": "markdown",
   "metadata": {},
   "source": [
    "### Create a Python reference to the `QuartzBerman` stoichiometric phase class, and instantiate an instance of that class.  \n",
    "[Documentation for the QuartzBerman class](https://gitlab.com/ENKI-portal/PhaseObjC/blob/master/Documentation/QuartzBerman.md) "
   ]
  },
  {
   "cell_type": "code",
   "execution_count": null,
   "metadata": {},
   "outputs": [],
   "source": [
    "QuartzBerman = ObjCClass('QuartzBerman')\n",
    "obj = QuartzBerman.alloc().init()"
   ]
  },
  {
   "cell_type": "markdown",
   "metadata": {},
   "source": [
    "### Obtain properties of the phase inherited from the `PhaseBase` class.  \n",
    "Same syntax in Objective-C.  `mw` is the molecular weight in grams/mole."
   ]
  },
  {
   "cell_type": "code",
   "execution_count": null,
   "metadata": {},
   "outputs": [],
   "source": [
    "print (obj.phaseName)\n",
    "print (obj.phaseFormula)\n",
    "print (obj.mw)"
   ]
  },
  {
   "cell_type": "markdown",
   "metadata": {},
   "source": [
    "Number of moles of each element calculated from the phase formula.  \n",
    "@property (readonly) DoubleVector *formulaAsElementArray;  \n",
    "\n",
    "Note that the class method, `elementNameFromAtomicNumber`, from the `PhaseBase` base class is used to construct a formula directly from the moles vector.  "
   ]
  },
  {
   "cell_type": "code",
   "execution_count": null,
   "metadata": {},
   "outputs": [],
   "source": [
    "PhaseBase = ObjCClass('PhaseBase')\n",
    "moles_pointer = obj.formulaAsElementArray\n",
    "ne = obj.formulaAsElementArray.size\n",
    "formula = ''\n",
    "for i in range(0, ne):\n",
    "    value = obj.formulaAsElementArray.valueAtIndex_(i)\n",
    "    if value != 0.0:\n",
    "        name = PhaseBase.elementNameFromAtomicNumber_(i)\n",
    "        formula = formula + name + '(' + str(value) + ')'\n",
    "print (formula)"
   ]
  },
  {
   "cell_type": "markdown",
   "metadata": {},
   "source": [
    "## All phases that conform to the Stoichiometric Phase Protocol ...\n",
    "### ...implement the following functions:\n",
    "```\n",
    "(double)getGibbsFreeEnergyFromT:(double)t andP:(double)p;\n",
    "(double)getEnthalpyFromT:(double)t andP:(double)p;\n",
    "(double)getEntropyFromT:(double)t andP:(double)p;\n",
    "(double)getHeatCapacityFromT:(double)t andP:(double)p;\n",
    "(double)getDcpDtFromT:(double)t andP:(double)p;\n",
    "(double)getVolumeFromT:(double)t andP:(double)p;\n",
    "(double)getDvDtFromT:(double)t andP:(double)p;\n",
    "(double)getDvDpFromT:(double)t andP:(double)p;\n",
    "(double)getD2vDt2FromT:(double)t andP:(double)p;\n",
    "(double)getD2vDtDpFromT:(double)t andP:(double)p;\n",
    "(double)getD2vDp2FromT:(double)t andP:(double)p;\n",
    "```\n",
    "where *t* (temperature) is in K, and *p* (pressure) is in bars.\n",
    "### In Python, these calls are written:"
   ]
  },
  {
   "cell_type": "code",
   "execution_count": null,
   "metadata": {},
   "outputs": [],
   "source": [
    "print (\"{0:>10s}{1:15.2f}{2:<20s}\".format(\"G\", obj.getGibbsFreeEnergyFromT_andP_(1000.0, 1000.0), ' J/mol'))\n",
    "print (\"{0:>10s}{1:15.2f}{2:<20s}\".format(\"H\", obj.getEnthalpyFromT_andP_(1000.0, 1000.0), ' J/mol'))\n",
    "print (\"{0:>10s}{1:15.2f}{2:<20s}\".format(\"S\", obj.getEntropyFromT_andP_(1000.0, 1000.0), ' J/K-mol'))\n",
    "print (\"{0:>10s}{1:15.3f}{2:<20s}\".format(\"Cp\", obj.getHeatCapacityFromT_andP_(1000.0, 1000.0), ' J/K-mol'))\n",
    "print (\"{0:>10s}{1:15.6e}{2:<20s}\".format(\"dCp/dT\", obj.getDcpDtFromT_andP_(1000.0, 1000.0), ' J/-K^2-mol'))\n",
    "print (\"{0:>10s}{1:15.3f}{2:<20s}\".format(\"V\", obj.getVolumeFromT_andP_(1000.0, 1000.0), ' J/bar-mol'))\n",
    "print (\"{0:>10s}{1:15.6e}{2:<20s}\".format(\"dV/dT\", obj.getDvDtFromT_andP_(1000.0, 1000.0), ' J/bar-K-mol'))\n",
    "print (\"{0:>10s}{1:15.6e}{2:<20s}\".format(\"dv/dP\", obj.getDvDpFromT_andP_(1000.0, 1000.0), ' J/bar^2-mol'))\n",
    "print (\"{0:>10s}{1:15.6e}{2:<20s}\".format(\"d2V/dT2\", obj.getD2vDt2FromT_andP_(1000.0, 1000.0), ' J/bar-K^2-mol'))\n",
    "print (\"{0:>10s}{1:15.6e}{2:<20s}\".format(\"d2V/dTdP\", obj.getD2vDtDpFromT_andP_(1000.0, 1000.0), ' J/bar^2-K-mol'))\n",
    "print (\"{0:>10s}{1:15.6e}{2:<20s}\".format(\"d2V/dP2\", obj.getD2vDp2FromT_andP_(1000.0, 1000.0), ' J/bar^3-mol'))"
   ]
  },
  {
   "cell_type": "markdown",
   "metadata": {},
   "source": [
    "## Illustrate the Parameter Calibration Protocol."
   ]
  },
  {
   "cell_type": "code",
   "execution_count": null,
   "metadata": {},
   "outputs": [],
   "source": [
    "try:\n",
    "    if obj.supportsParameterCalibration() == 1:\n",
    "        print ('This phase supports the Calibration protocol')\n",
    "    np = obj.getNumberOfFreeParameters()\n",
    "    print ('... there are', np, 'parameters')\n",
    "    names = obj.getArrayOfNamesOfFreeParameters()\n",
    "    import ctypes\n",
    "    m = (ctypes.c_double*1)()\n",
    "    ctypes.cast(m, ctypes.POINTER(ctypes.c_double))\n",
    "    m[0] =  1.0\n",
    "    t = 1000.0\n",
    "    p = 1000.0\n",
    "    for i in range (0, np):\n",
    "        name = names.objectAtIndex_(i)\n",
    "        value = obj.getValueForParameterName_(name)\n",
    "        units = obj.getUnitsForParameterName_(name)\n",
    "        dmudw = obj.getChemicalPotentialDerivativesForParameter_usingMolesOfComponents_andT_andP_(name, m, t, p)\n",
    "        print (\"Parameter {0:<15s} = {1:15.6e} {2:<15s}, dmu/dParameter = {3:15.6e}\".format(name, value, units, \n",
    "                                                                                   dmudw.valueAtIndex_(0)))\n",
    "except AttributeError:\n",
    "    print ('This phase does not implement the parameter calibration protocol')"
   ]
  },
  {
   "cell_type": "code",
   "execution_count": null,
   "metadata": {},
   "outputs": [],
   "source": []
  }
 ],
 "metadata": {
  "anaconda-cloud": {},
  "kernelspec": {
   "display_name": "Python 3",
   "language": "python",
   "name": "python3"
  },
  "language_info": {
   "codemirror_mode": {
    "name": "ipython",
    "version": 3
   },
   "file_extension": ".py",
   "mimetype": "text/x-python",
   "name": "python",
   "nbconvert_exporter": "python",
   "pygments_lexer": "ipython3",
   "version": "3.6.2"
  }
 },
 "nbformat": 4,
 "nbformat_minor": 1
}
