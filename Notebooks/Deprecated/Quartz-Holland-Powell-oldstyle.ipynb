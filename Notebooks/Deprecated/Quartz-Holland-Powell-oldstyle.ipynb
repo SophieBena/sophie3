{
 "cells": [
  {
   "cell_type": "markdown",
   "metadata": {},
   "source": [
    "# PhaseObjC - Stoichiometric Phase Example 1\n",
    "## Illustrate Objective-C type library interaction and plotting\n",
    "Required Python code to load the phase library. "
   ]
  },
  {
   "cell_type": "code",
   "execution_count": null,
   "metadata": {},
   "outputs": [],
   "source": [
    "from ctypes import cdll\n",
    "from ctypes import util\n",
    "from rubicon.objc import ObjCClass, objc_method\n",
    "cdll.LoadLibrary(util.find_library('phaseobjc'))"
   ]
  },
  {
   "cell_type": "markdown",
   "metadata": {},
   "source": [
    "### Create a Python reference to the `ForsteriteHollandAndPowell` stoichiometric phase class, and instantiate an instance of that class. "
   ]
  },
  {
   "cell_type": "code",
   "execution_count": null,
   "metadata": {},
   "outputs": [],
   "source": [
    "#Forsterite = ObjCClass('ForsteriteHollandAndPowell')\n",
    "#obj = Forsterite.alloc().init()\n",
    "Quartz = ObjCClass('QuartzHollandAndPowell')\n",
    "obj = Quartz.alloc().init()"
   ]
  },
  {
   "cell_type": "markdown",
   "metadata": {},
   "source": [
    "### Obtain properties of the phase inherited from the `PhaseBase` class.  \n",
    "Molecular weight in grams/mole"
   ]
  },
  {
   "cell_type": "code",
   "execution_count": null,
   "metadata": {},
   "outputs": [],
   "source": [
    "print (obj.phaseName)\n",
    "print (obj.phaseFormula)\n",
    "print (obj.mw)"
   ]
  },
  {
   "cell_type": "markdown",
   "metadata": {},
   "source": [
    "Number of moles of each element calculated from the phase formula.  \n",
    "@property (readonly) DoubleVector *formulaAsElementArray;  \n",
    "\n",
    "Note that the class method, `elementNameFromAtomicNumber`, from the `PhaseBase` base class is used to construct a formula directly from the moles vector."
   ]
  },
  {
   "cell_type": "code",
   "execution_count": null,
   "metadata": {},
   "outputs": [],
   "source": [
    "PhaseBase = ObjCClass('PhaseBase')\n",
    "moles_pointer = obj.formulaAsElementArray\n",
    "ne = obj.formulaAsElementArray.size\n",
    "formula = ''\n",
    "for i in range(0, ne):\n",
    "    value = obj.formulaAsElementArray.valueAtIndex_(i)\n",
    "    if value != 0.0:\n",
    "        name = PhaseBase.elementNameFromAtomicNumber_(i)\n",
    "        formula = formula + name + '(' + str(value) + ')'\n",
    "print (formula)"
   ]
  },
  {
   "cell_type": "markdown",
   "metadata": {},
   "source": [
    "## All phases that conform to the Stoichiometric Phase Protocol ...\n",
    "### ...implement the following functions:\n",
    "```\n",
    "(double)getGibbsFreeEnergyFromT:(double)t andP:(double)p;\n",
    "(double)getEnthalpyFromT:(double)t andP:(double)p;\n",
    "(double)getEntropyFromT:(double)t andP:(double)p;\n",
    "(double)getHeatCapacityFromT:(double)t andP:(double)p;\n",
    "(double)getDcpDtFromT:(double)t andP:(double)p;\n",
    "(double)getVolumeFromT:(double)t andP:(double)p;\n",
    "(double)getDvDtFromT:(double)t andP:(double)p;\n",
    "(double)getDvDpFromT:(double)t andP:(double)p;\n",
    "(double)getD2vDt2FromT:(double)t andP:(double)p;\n",
    "(double)getD2vDtDpFromT:(double)t andP:(double)p;\n",
    "(double)getD2vDp2FromT:(double)t andP:(double)p;\n",
    "```\n",
    "where *t* (temperature) is in K, and *p* (pressure) is in bars.\n",
    "### In Python, these calls are written:"
   ]
  },
  {
   "cell_type": "code",
   "execution_count": null,
   "metadata": {},
   "outputs": [],
   "source": [
    "t = 1000.0\n",
    "p = 1000.0\n",
    "print (\"{0:>10s}{1:15.2f}{2:<20s}\".format(\"G\", obj.getGibbsFreeEnergyFromT_andP_(t, p), ' J/mol'))\n",
    "print (\"{0:>10s}{1:15.2f}{2:<20s}\".format(\"H\", obj.getEnthalpyFromT_andP_(t, p), ' J/mol'))\n",
    "print (\"{0:>10s}{1:15.2f}{2:<20s}\".format(\"S\", obj.getEntropyFromT_andP_(t, p), ' J/K-mol'))\n",
    "print (\"{0:>10s}{1:15.3f}{2:<20s}\".format(\"Cp\", obj.getHeatCapacityFromT_andP_(t, p), ' J/K-mol'))\n",
    "print (\"{0:>10s}{1:15.6e}{2:<20s}\".format(\"dCp/dT\", obj.getDcpDtFromT_andP_(t, p), ' J/-K^2-mol'))\n",
    "print (\"{0:>10s}{1:15.3f}{2:<20s}\".format(\"V\", obj.getVolumeFromT_andP_(t, p), ' J/bar-mol'))\n",
    "print (\"{0:>10s}{1:15.6e}{2:<20s}\".format(\"dV/dT\", obj.getDvDtFromT_andP_(t, p), ' J/bar-K-mol'))\n",
    "print (\"{0:>10s}{1:15.6e}{2:<20s}\".format(\"dv/dP\", obj.getDvDpFromT_andP_(t, p), ' J/bar^2-mol'))\n",
    "print (\"{0:>10s}{1:15.6e}{2:<20s}\".format(\"d2V/dT2\", obj.getD2vDt2FromT_andP_(t, p), ' J/bar-K^2-mol'))\n",
    "print (\"{0:>10s}{1:15.6e}{2:<20s}\".format(\"d2V/dTdP\", obj.getD2vDtDpFromT_andP_(t, p), ' J/bar^2-K-mol'))\n",
    "print (\"{0:>10s}{1:15.6e}{2:<20s}\".format(\"d2V/dP2\", obj.getD2vDp2FromT_andP_(t, p), ' J/bar^3-mol'))"
   ]
  },
  {
   "cell_type": "code",
   "execution_count": null,
   "metadata": {},
   "outputs": [],
   "source": [
    "from scipy.misc import derivative\n",
    "t = 1000.0\n",
    "p = 1000.0"
   ]
  },
  {
   "cell_type": "code",
   "execution_count": null,
   "metadata": {},
   "outputs": [],
   "source": [
    "def test_h(t,p):\n",
    "    h_est = obj.getGibbsFreeEnergyFromT_andP_(t,p) + t*obj.getEntropyFromT_andP_(t, p)\n",
    "    h_act = obj.getEnthalpyFromT_andP_(t, p)\n",
    "    h_err = (h_est-h_act)*100.0/h_act\n",
    "    print (\"H       {0:10.6f} % error, est: {1:15.6e} act: {2:15.6e}\".format(h_err, h_est, h_act))\n",
    "def g(x, doT=True):\n",
    "    if doT:\n",
    "        return obj.getGibbsFreeEnergyFromT_andP_(x, p)\n",
    "    else:\n",
    "        return obj.getGibbsFreeEnergyFromT_andP_(t, x)\n",
    "def test_g_dt(t,p):\n",
    "    s_est = -derivative(g, t, args=(True,))\n",
    "    s_act = obj.getEntropyFromT_andP_(t, p)\n",
    "    s_err = (s_est-s_act)*100.0/s_act\n",
    "    print (\"S       {0:10.6f} % error, est: {1:15.6e} act: {2:15.6e}\".format(s_err, s_est, s_act))\n",
    "def test_g_dp(t,p):\n",
    "    v_est = derivative(g, p, args=(False,))\n",
    "    v_act = obj.getVolumeFromT_andP_(t, p)\n",
    "    v_err = (v_est-v_act)*100.0/v_act\n",
    "    print (\"V       {0:10.6f} % error, est: {1:15.6e} act: {2:15.6e}\".format(v_err, v_est, v_act))\n",
    "def s(x, doT=True):\n",
    "    if doT:\n",
    "        return obj.getEntropyFromT_andP_(x, p)\n",
    "    else:\n",
    "        return obj.getEntropyFromT_andP_(t, x)\n",
    "def test_s_dt(t,p):\n",
    "    cp_est = t*derivative(s, t, args=(True,))\n",
    "    cp_act = obj.getHeatCapacityFromT_andP_(t, p)\n",
    "    cp_err = (cp_est-cp_act)*100.0/cp_act\n",
    "    print (\"Cp      {0:10.6f} % error, est: {1:15.6e} act: {2:15.6e}\".format(cp_err, cp_est, cp_act))\n",
    "def cp(x, doT=True):\n",
    "    if doT:\n",
    "        return obj.getHeatCapacityFromT_andP_(x, p)\n",
    "    else:\n",
    "        return obj.getHeatCapacityFromT_andP_(t, x)\n",
    "def test_cp_dt(t,p):\n",
    "    dcpdt_est = derivative(cp, t, args=(True,))\n",
    "    dcpdt_act = obj.getDcpDtFromT_andP_(t, p)\n",
    "    dcpdt_err = (dcpdt_est-dcpdt_act)*100.0/dcpdt_act\n",
    "    print (\"dCpDt   {0:10.6f} % error, est: {1:15.6e} act: {2:15.6e}\".format(dcpdt_err, dcpdt_est, dcpdt_act))\n",
    "def v(x, doT=True):\n",
    "    if doT:\n",
    "        return obj.getVolumeFromT_andP_(x, p)\n",
    "    else:\n",
    "        return obj.getVolumeFromT_andP_(t, x)\n",
    "def test_v_dt(t,p):\n",
    "    dvdt_est = derivative(v, t, args=(True,))\n",
    "    dvdt_act = obj.getDvDtFromT_andP_(t, p)\n",
    "    dvdt_err = (dvdt_est-dvdt_act)*100.0/dvdt_act\n",
    "    print (\"dVdT    {0:10.6f} % error, est: {1:15.6e} act: {2:15.6e}\".format(dvdt_err, dvdt_est, dvdt_act))\n",
    "def test_v_dp(t,p):\n",
    "    dvdp_est = derivative(v, p, args=(False,))\n",
    "    dvdp_act = obj.getDvDpFromT_andP_(t, p)\n",
    "    dvdp_err = (dvdp_est-dvdp_act)*100.0/dvdp_act\n",
    "    print (\"dVdP    {0:10.6f} % error, est: {1:15.6e} act: {2:15.6e}\".format(dvdp_err, dvdp_est, dvdp_act))\n",
    "def dvdt(x, doT=True):\n",
    "    if doT:\n",
    "        return obj.getDvDtFromT_andP_(x, p)\n",
    "    else:\n",
    "        return obj.getDvDtFromT_andP_(t, x)\n",
    "def dvdp(x, doT=True):\n",
    "    if doT:\n",
    "        return obj.getDvDpFromT_andP_(x, p)\n",
    "    else:\n",
    "        return obj.getDvDpFromT_andP_(t, x)\n",
    "def test_dvdt_dt(t,p):\n",
    "    d2vdt2_est = derivative(dvdt, t, args=(True,))\n",
    "    d2vdt2_act = obj.getD2vDt2FromT_andP_(t, p)\n",
    "    d2vdt2_err = (d2vdt2_est-d2vdt2_act)*100.0/d2vdt2_act\n",
    "    print (\"d2VdT2  {0:10.6f} % error, est: {1:15.6e} act: {2:15.6e}\".format(d2vdt2_err, d2vdt2_est, d2vdt2_act))\n",
    "def test_dvdt_dp(t,p):\n",
    "    d2vdtdp_est = derivative(dvdt, p, args=(False,))\n",
    "    d2vdtdp_act = obj.getD2vDtDpFromT_andP_(t, p)\n",
    "    d2vdtdp_err = (d2vdtdp_est-d2vdtdp_act)*100.0/d2vdtdp_act\n",
    "    print (\"d2VdTdP {0:10.6f} % error, est: {1:15.6e} act: {2:15.6e}\".format(d2vdtdp_err, d2vdtdp_est, d2vdtdp_act))\n",
    "\n",
    "def test_dvdp_dt(t,p):\n",
    "    d2vdtdp_est = derivative(dvdp, t, args=(True,))\n",
    "    d2vdtdp_act = obj.getD2vDtDpFromT_andP_(t, p)\n",
    "    d2vdtdp_err = (d2vdtdp_est-d2vdtdp_act)*100.0/d2vdtdp_act\n",
    "    print (\"d2VdTDp {0:10.6f} % error, est: {1:15.6e} act: {2:15.6e}\".format(d2vdtdp_err, d2vdtdp_est, d2vdtdp_act))\n",
    "def test_dvdp_dp(t,p):\n",
    "    d2vdp2_est = derivative(dvdp, p, args=(False,))\n",
    "    d2vdp2_act = obj.getD2vDp2FromT_andP_(t, p)\n",
    "    d2vdp2_err = (d2vdp2_est-d2vdp2_act)*100.0/d2vdp2_act\n",
    "    print (\"d2VdP2  {0:10.6f} % error, est: {1:15.6e} act: {2:15.6e}\".format(d2vdp2_err, d2vdp2_est, d2vdp2_act))"
   ]
  },
  {
   "cell_type": "code",
   "execution_count": null,
   "metadata": {},
   "outputs": [],
   "source": [
    "test_h(t,p)\n",
    "test_g_dt(t,p)\n",
    "test_s_dt(t,p)\n",
    "test_cp_dt(t,p)\n",
    "test_g_dp(t,p)\n",
    "test_v_dt(t,p)\n",
    "test_v_dp(t,p)\n",
    "test_dvdt_dt(t,p)\n",
    "test_dvdt_dp(t,p)\n",
    "test_dvdp_dt(t,p)\n",
    "test_dvdp_dp(t,p)"
   ]
  },
  {
   "cell_type": "code",
   "execution_count": null,
   "metadata": {},
   "outputs": [],
   "source": [
    "derivative?"
   ]
  },
  {
   "cell_type": "code",
   "execution_count": null,
   "metadata": {},
   "outputs": [],
   "source": []
  }
 ],
 "metadata": {
  "anaconda-cloud": {},
  "kernelspec": {
   "display_name": "Python [default]",
   "language": "python",
   "name": "python3"
  },
  "language_info": {
   "codemirror_mode": {
    "name": "ipython",
    "version": 3
   },
   "file_extension": ".py",
   "mimetype": "text/x-python",
   "name": "python",
   "nbconvert_exporter": "python",
   "pygments_lexer": "ipython3",
   "version": "3.6.1"
  }
 },
 "nbformat": 4,
 "nbformat_minor": 1
}
