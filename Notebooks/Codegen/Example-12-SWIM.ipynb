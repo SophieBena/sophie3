{
 "cells": [
  {
   "cell_type": "markdown",
   "metadata": {},
   "source": [
    "# SWIM\n",
    "# Standard Water Intergrated Model\n",
    "The SWIM model is described in a notebook located in the Pure-Phases folder with the title \"Water.ipynb.\"  In that folder the model is accessed using server code written in Ovjective-C and bridged to Python utilizing the Rubicon Python to Objective-C wrappper.  \n",
    "\n",
    "SWIM may also be accessed using Cython wrappers to C/C++ code.  That method of access is illustrated in this notebook.  The Cython access method is faster because it avoids the Rubicon bridge and is more easily ported to hardware platforms not normally configured to compile and execute Objective-C.  The method of access to SWIM demonstrated here should be used in preference to the default method, which will soon be deprecated."
   ]
  },
  {
   "cell_type": "code",
   "execution_count": null,
   "metadata": {},
   "outputs": [],
   "source": [
    "from thermoengine import model"
   ]
  },
  {
   "cell_type": "markdown",
   "metadata": {},
   "source": [
    "The Cython-SWIM module is accessed as ..."
   ]
  },
  {
   "cell_type": "code",
   "execution_count": null,
   "metadata": {},
   "outputs": [],
   "source": [
    "modelDB = model.Database(database=\"CoderModule\", calib=True, phase_tuple=('thermoengine.aqueous', {'SWIM':['SWIM','pure']}))"
   ]
  },
  {
   "cell_type": "markdown",
   "metadata": {},
   "source": [
    "... the objective-C/Rubicon code is accessed using the default call, modelDB = model.Database()  \n",
    "\n",
    "The phase is accessed in the standard way once the model database has been instantiated."
   ]
  },
  {
   "cell_type": "code",
   "execution_count": null,
   "metadata": {},
   "outputs": [],
   "source": [
    "SWIM = modelDB.get_phase('SWIM')"
   ]
  },
  {
   "cell_type": "markdown",
   "metadata": {},
   "source": [
    "## Generic Properties of the SWIM phase"
   ]
  },
  {
   "cell_type": "code",
   "execution_count": null,
   "metadata": {},
   "outputs": [],
   "source": [
    "print (SWIM.props['phase_name'])\n",
    "print (SWIM.props['formula'][0])\n",
    "print (SWIM.props['molwt'][0])"
   ]
  },
  {
   "cell_type": "markdown",
   "metadata": {},
   "source": [
    "## Thermodynamic properties of the SWIM phase\n",
    "By default, interpolative smooothing of the integrated model properties is implemented."
   ]
  },
  {
   "cell_type": "code",
   "execution_count": null,
   "metadata": {},
   "outputs": [],
   "source": [
    "t = 1000.0 # K\n",
    "p = 1000.0 # bars  "
   ]
  },
  {
   "cell_type": "code",
   "execution_count": null,
   "metadata": {},
   "outputs": [],
   "source": [
    "import numpy as np\n",
    "def test_func(name, func, t, p, units, deriv=None, const=None, endmember=None):\n",
    "    try:\n",
    "        if deriv:\n",
    "            result = func(t, p, deriv=deriv)\n",
    "            if type(result) is np.ndarray:\n",
    "                if len(result.shape) == 2:\n",
    "                    print (\"{0:>10s}\".format(name), end=' ')\n",
    "                    for x in result[0]:\n",
    "                        print (\"{0:15.6e}\".format(x), end=' ')\n",
    "                    print (\" {0:<20s}\".format(units))\n",
    "                elif len(result.shape) == 3:\n",
    "                    for i in range(0,result.shape[1]):\n",
    "                        print (\"{0:>10s}\".format(name), end=' ')\n",
    "                        for x in result[0][i]:\n",
    "                            print (\"{0:15.6e}\".format(x), end=' ')\n",
    "                        print (\" {0:<20s}\".format(units))\n",
    "                elif len(result.shape) == 4:\n",
    "                    for i in range(0,result.shape[1]):\n",
    "                        for j in range(0,result.shape[2]):\n",
    "                            print (\"{0:>10s}\".format(name), end=' ')\n",
    "                            for x in result[0][i][j]:\n",
    "                                print (\"{0:15.6e}\".format(x), end=' ')\n",
    "                            print (\" {0:<20s}\".format(units))\n",
    "                elif len(result.shape) == 1:\n",
    "                    print (\"{0:>10s}\".format(name), end=' ')\n",
    "                    for x in result:\n",
    "                        print (\"{0:15.6e}\".format(x), end=' ')\n",
    "                    print (\" {0:<20s}\".format(units))\n",
    "                else:\n",
    "                    print ('A', result.shape)\n",
    "            else:\n",
    "                print (\"{0:>10s}{1:15.6e} {2:<20s}\".format(name, result, units))\n",
    "        elif const:\n",
    "            print (\"{0:>10s}{1:15.6e} {2:<20s}\".format(name, func(t, p, const=const), units))\n",
    "        else:\n",
    "            result = func(t, p)\n",
    "            if type(result) is np.ndarray:\n",
    "                if len(result.shape) == 2:\n",
    "                    print (\"{0:>10s}\".format(name), end=' ')\n",
    "                    for x in result[0]:\n",
    "                        print (\"{0:15.6e}\".format(x), end=' ')\n",
    "                    print (\" {0:<20s}\".format(units))\n",
    "                elif len(result.shape) == 1:\n",
    "                    print (\"{0:>10s}\".format(name), end=' ')\n",
    "                    for x in result:\n",
    "                        print (\"{0:15.6e}\".format(x), end=' ')\n",
    "                    print (\" {0:<20s}\".format(units))\n",
    "                else:\n",
    "                    print ('B', len(result.shape))\n",
    "            else:\n",
    "                print (\"{0:>10s}{1:15.6e} {2:<20s}\".format(name, result, units))\n",
    "    except AttributeError:\n",
    "        print (\"{0:>10s} is not implemented\".format(name))\n",
    "\n",
    "test_func('G',  SWIM.gibbs_energy, t, p, 'J/mol')\n",
    "test_func('dG/dT', SWIM.gibbs_energy, t, p, 'J/K-mol', deriv={'dT':1})\n",
    "test_func('dG/dP', SWIM.gibbs_energy, t, p, 'J/bar-mol', deriv={'dP':1})\n",
    "\n",
    "test_func('d2G/dT2', SWIM.gibbs_energy, t, p, 'J/K^2-mol', deriv={'dT':2})\n",
    "test_func('d2G/dTdP', SWIM.gibbs_energy, t, p, 'J/K-bar-mol', deriv={'dT':1, 'dP':1})\n",
    "test_func('d2G/dP2', SWIM.gibbs_energy, t, p, 'J/bar^2-mol', deriv={'dP':2})\n",
    "\n",
    "test_func('d3G/dT3', SWIM.gibbs_energy, t, p, 'J/K^3-mol', deriv={'dT':3})\n",
    "test_func('d3G/dT2dP', SWIM.gibbs_energy, t, p, 'J/K^2-bar-mol', deriv={'dT':2, 'dP':1})\n",
    "test_func('d3G/dTdP2', SWIM.gibbs_energy, t, p, 'J/K-bar^2-mol', deriv={'dT':1, 'dP':2})\n",
    "test_func('d3G/dP3', SWIM.gibbs_energy, t, p, 'J/bar^3-mol', deriv={'dP':3})\n",
    "\n",
    "test_func('H', SWIM.enthalpy, t, p, 'J/mol')\n",
    "test_func('S', SWIM.entropy, t, p, 'J/K-mol')\n",
    "\n",
    "test_func('Cv', SWIM.heat_capacity, t, p, 'J/K-mol', const='V')\n",
    "test_func('Cp', SWIM.heat_capacity, t, p, 'J/K-mol')\n",
    "test_func('dCp/dT', SWIM.heat_capacity, t, p, 'J/-K^2-mol', deriv={'dT':1})\n",
    "\n",
    "test_func('rho', SWIM.density, t, p, 'gm/cc')\n",
    "test_func('alpha', SWIM.thermal_exp, t, p, '1/K')\n",
    "test_func('beta', SWIM.compressibility, t, p, '1/bar')\n",
    "test_func('K', SWIM.bulk_mod, t, p, '')\n",
    "test_func('Kp', SWIM.bulk_mod, t, p, '1/bar', deriv={'dP':1})\n",
    "\n",
    "test_func(\"V\", SWIM.volume, t, p, 'J/bar-mol')\n",
    "test_func(\"dV/dT\", SWIM.volume, t, p, 'J/bar-K-mol', deriv={'dT':1})\n",
    "test_func(\"dv/dP\", SWIM.volume, t, p, 'J/bar^2-mol', deriv={'dP':1})\n",
    "test_func(\"d2V/dT2\", SWIM.volume, t, p, 'J/bar-K^2-mol', deriv={'dT':2})\n",
    "test_func(\"d2V/dTdP\", SWIM.volume, t, p, 'J/bar^2-K-mol', deriv={'dT':1, 'dP':1})\n",
    "test_func(\"d2V/dP2\", SWIM.volume, t, p, 'J/bar^3-mol', deriv={'dP':2})\n",
    "\n",
    "test_func('mu0', SWIM.chem_potential, t, p, 'J/mol')"
   ]
  },
  {
   "cell_type": "markdown",
   "metadata": {},
   "source": [
    "## Smoothing can be turned off using calibration mode\n",
    "There is only one calibration parameter for SWIM.  It is an integer, which if non-zero turns off smoothing and forces the use of one of the four integrated thermodynamic models, even if that model is not applicable at the T,P conditions specified. See further explanation in the Pure-Phase notebook mentioned above."
   ]
  },
  {
   "cell_type": "code",
   "execution_count": null,
   "metadata": {},
   "outputs": [],
   "source": [
    "try:\n",
    "    param_props = SWIM.param_props\n",
    "    supports_calib = param_props['supports_calib']\n",
    "    print ('This phase supports the Calibration protocol')\n",
    "    nparam = param_props['param_num']\n",
    "    print ('... there are', nparam, 'parameters')\n",
    "    names = param_props['param_names']\n",
    "    units = param_props['param_units']\n",
    "    values = param_props['param0']\n",
    "    t = 1000.0\n",
    "    p = 1000.0\n",
    "    for i in range (0, nparam):\n",
    "        print (\"Parameter {0:<15s} has value {1:15.6e}  {2:<20s}\".format(names[i], values[i], units[i]))\n",
    "except AttributeError:\n",
    "    print ('This phase does not implement the parameter calibration protocol')"
   ]
  },
  {
   "cell_type": "markdown",
   "metadata": {},
   "source": [
    "### Use the model of Duan and Zhang (2006)\n",
    "This is the model adopted in MELTS"
   ]
  },
  {
   "cell_type": "code",
   "execution_count": null,
   "metadata": {},
   "outputs": [],
   "source": [
    "SWIM.module.cy_SWIM_aqueous_set_param_value(0,1)\n",
    "SWIM.gibbs_energy(t, p)"
   ]
  },
  {
   "cell_type": "markdown",
   "metadata": {},
   "source": [
    "### Use the model of Zhang and Duan (2005)\n",
    "This is the model adopted in DEW"
   ]
  },
  {
   "cell_type": "code",
   "execution_count": null,
   "metadata": {},
   "outputs": [],
   "source": [
    "SWIM.module.cy_SWIM_aqueous_set_param_value(0,2)\n",
    "SWIM.gibbs_energy(1000,1000)"
   ]
  },
  {
   "cell_type": "markdown",
   "metadata": {},
   "source": [
    "### Use the model of Holten (2014)\n",
    "This is a model applicable to supercoooled water"
   ]
  },
  {
   "cell_type": "code",
   "execution_count": null,
   "metadata": {},
   "outputs": [],
   "source": [
    "SWIM.module.cy_SWIM_aqueous_set_param_value(0,3)\n",
    "SWIM.gibbs_energy(1000,1000)"
   ]
  },
  {
   "cell_type": "markdown",
   "metadata": {},
   "source": [
    "### Use the model of Wagner (2002)\n",
    "This is the standard water model for properties in the liquid and steam region up to the critical point"
   ]
  },
  {
   "cell_type": "code",
   "execution_count": null,
   "metadata": {},
   "outputs": [],
   "source": [
    "SWIM.module.cy_SWIM_aqueous_set_param_value(0,4)\n",
    "SWIM.gibbs_energy(1000,1000)"
   ]
  },
  {
   "cell_type": "code",
   "execution_count": null,
   "metadata": {},
   "outputs": [],
   "source": []
  }
 ],
 "metadata": {
  "kernelspec": {
   "display_name": "Python 3 (ipykernel)",
   "language": "python",
   "name": "python3"
  },
  "language_info": {
   "codemirror_mode": {
    "name": "ipython",
    "version": 3
   },
   "file_extension": ".py",
   "mimetype": "text/x-python",
   "name": "python",
   "nbconvert_exporter": "python",
   "pygments_lexer": "ipython3",
   "version": "3.9.7"
  }
 },
 "nbformat": 4,
 "nbformat_minor": 4
}
