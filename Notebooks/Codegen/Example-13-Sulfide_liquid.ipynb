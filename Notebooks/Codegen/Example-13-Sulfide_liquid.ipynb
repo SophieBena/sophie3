{
 "cells": [
  {
   "cell_type": "markdown",
   "metadata": {},
   "source": [
    "# Sulfide liquid model of Kress\n",
    "This notebook shows how to import the sulfide_liquid module of the ThermoEngine package in order to calculate the thermodynamic properties of liquid solutions in the system O-S-Fe-Ni-Cu. The model used is from Kress (Contributions to Mineralogy and Petrology, 156(6):785-797). DOI: 10.1007/s00410-008-0315-z).\n",
    "\n",
    "The ThermoEngine sulfide_liquid module emulates a \"coder\" solution phase by wrapping the Python package, SulfLiq, which is available on PyPI.org and as a [GitLab project](https://gitlab.com/ENKI-portal/sulfliq). The underlying code in the SulfLiq module is written in C++ (by Kress), which is wrapped using [PyBind11](https://pybind11.readthedocs.io/en/stable/) to expose a Python API. "
   ]
  },
  {
   "cell_type": "code",
   "execution_count": null,
   "metadata": {},
   "outputs": [],
   "source": [
    "from thermoengine import core, model, phases, sulfide_liquid\n",
    "import numpy as np"
   ]
  },
  {
   "cell_type": "markdown",
   "metadata": {},
   "source": [
    "## Test module function calls\n",
    "This section makes function calls directly to the sulfide_liquid module API. All methods are tested, and all coded functions are \"calibration\" versions.  Note that this method of accessing the module functions is not commonly used.  See below for an example of how to load the module into the ThermoEngine package and access the capabilities of the sulfide_liquid module using the standard database and phase properties methods.  \n",
    "\n",
    "Set temperature (K), pressure (bars) and a composition for testing: moles of (O, S, Fe, Ni, Cu) = (2.0, 5.0, 10.0, 1.0, 1.0)"
   ]
  },
  {
   "cell_type": "code",
   "execution_count": null,
   "metadata": {},
   "outputs": [],
   "source": [
    "t = 2000.00\n",
    "p = 1.0\n",
    "n = np.array([2., 5., 10., 1., 1.])"
   ]
  },
  {
   "cell_type": "markdown",
   "metadata": {},
   "source": [
    "### Characteristics"
   ]
  },
  {
   "cell_type": "code",
   "execution_count": null,
   "metadata": {},
   "outputs": [],
   "source": [
    "print(sulfide_liquid.cy_SulfLiq_sulfide_liquid_calib_identifier())\n",
    "print(sulfide_liquid.cy_SulfLiq_sulfide_liquid_calib_name())\n",
    "print(sulfide_liquid.cy_SulfLiq_sulfide_liquid_calib_formula(t,p,n))"
   ]
  },
  {
   "cell_type": "markdown",
   "metadata": {},
   "source": [
    "### Composition conversion methods"
   ]
  },
  {
   "cell_type": "code",
   "execution_count": null,
   "metadata": {},
   "outputs": [],
   "source": [
    "c = sulfide_liquid.cy_SulfLiq_sulfide_liquid_calib_endmember_number()\n",
    "e = np.zeros(106)\n",
    "sum = np.sum(n)\n",
    "for index in range(0,c):\n",
    "    end = sulfide_liquid.cy_SulfLiq_sulfide_liquid_calib_endmember_elements(index)\n",
    "    for i in range(0,106):\n",
    "        e[i] += end[i]*n[index]/sum\n",
    "nConv = sulfide_liquid.cy_SulfLiq_sulfide_liquid_calib_conv_elm_to_moles(e)\n",
    "for i in range(0,c):\n",
    "    print ('X[{0:d}] input {1:13.6e}, calc {2:13.6e}, diff {3:13.6e}'.format(\n",
    "        i, n[i]/sum, nConv[i], nConv[i]-n[i]/sum))\n",
    "if not sulfide_liquid.cy_SulfLiq_sulfide_liquid_calib_test_moles(nConv):\n",
    "    print ('Output of intrinsic composition calculation fails tests for permissible values.')"
   ]
  },
  {
   "cell_type": "code",
   "execution_count": null,
   "metadata": {},
   "outputs": [],
   "source": [
    "print (sulfide_liquid.cy_SulfLiq_sulfide_liquid_calib_conv_moles_to_tot_moles(n))\n",
    "print (sulfide_liquid.cy_SulfLiq_sulfide_liquid_calib_conv_moles_to_mole_frac(n))\n",
    "e = sulfide_liquid.cy_SulfLiq_sulfide_liquid_calib_conv_moles_to_elm(n)\n",
    "print (e)\n",
    "print (sulfide_liquid.cy_SulfLiq_sulfide_liquid_calib_conv_elm_to_moles(e))\n",
    "print (sulfide_liquid.cy_SulfLiq_sulfide_liquid_calib_conv_elm_to_tot_moles(e))\n",
    "print (sulfide_liquid.cy_SulfLiq_sulfide_liquid_calib_conv_elm_to_tot_grams(e))"
   ]
  },
  {
   "cell_type": "code",
   "execution_count": null,
   "metadata": {},
   "outputs": [],
   "source": [
    "try:\n",
    "    sulfide_liquid.cy_SulfLiq_sulfide_liquid_calib_g(t,p,n)\n",
    "except:\n",
    "    print (\"Exception generated on first call to function.\")"
   ]
  },
  {
   "cell_type": "markdown",
   "metadata": {},
   "source": [
    "### Execute the standard thermodynamic property retrieval functions:"
   ]
  },
  {
   "cell_type": "code",
   "execution_count": null,
   "metadata": {},
   "outputs": [],
   "source": [
    "fmt = \"{0:<10.10s} {1:13.6e} {2:<10.10s}\"\n",
    "print(fmt.format('G', sulfide_liquid.cy_SulfLiq_sulfide_liquid_calib_g(t,p,n), 'J'))\n",
    "print(fmt.format('dGdT', sulfide_liquid.cy_SulfLiq_sulfide_liquid_calib_dgdt(t,p,n), 'J/K'))\n",
    "print(fmt.format('dGdP', sulfide_liquid.cy_SulfLiq_sulfide_liquid_calib_dgdp(t,p,n), 'J/bar'))\n",
    "print(fmt.format('d2GdT2', sulfide_liquid.cy_SulfLiq_sulfide_liquid_calib_d2gdt2(t,p,n), 'J/K^2'))\n",
    "print(fmt.format('d2GdTdP', sulfide_liquid.cy_SulfLiq_sulfide_liquid_calib_d2gdtdp(t,p,n), 'J/K-bar'))\n",
    "print(fmt.format('d2GdP2', sulfide_liquid.cy_SulfLiq_sulfide_liquid_calib_d2gdp2(t,p,n), 'J/bar^2'))\n",
    "print(fmt.format('d3GdT3', sulfide_liquid.cy_SulfLiq_sulfide_liquid_calib_d3gdt3(t,p,n), 'J/K^3'))\n",
    "print(fmt.format('d3GdT2dP', sulfide_liquid.cy_SulfLiq_sulfide_liquid_calib_d3gdt2dp(t,p,n), 'J/K^2-bar'))\n",
    "print(fmt.format('d3GdTdP2', sulfide_liquid.cy_SulfLiq_sulfide_liquid_calib_d3gdtdp2(t,p,n), 'J/K-bar^2'))\n",
    "print(fmt.format('d3GdP3', sulfide_liquid.cy_SulfLiq_sulfide_liquid_calib_d3gdp3(t,p,n), 'J/bar^3'))\n",
    "print(fmt.format('S', sulfide_liquid.cy_SulfLiq_sulfide_liquid_calib_s(t,p,n), 'J/K'))\n",
    "print(fmt.format('V', sulfide_liquid.cy_SulfLiq_sulfide_liquid_calib_v(t,p,n), 'J/bar'))\n",
    "print(fmt.format('Cv', sulfide_liquid.cy_SulfLiq_sulfide_liquid_calib_cv(t,p,n), 'J/K'))\n",
    "print(fmt.format('Cp', sulfide_liquid.cy_SulfLiq_sulfide_liquid_calib_cp(t,p,n), 'J/K'))\n",
    "print(fmt.format('dCpdT', sulfide_liquid.cy_SulfLiq_sulfide_liquid_calib_dcpdt(t,p,n), 'J/K^2'))\n",
    "print(fmt.format('alpha', sulfide_liquid.cy_SulfLiq_sulfide_liquid_calib_alpha(t,p,n), '1/K'))\n",
    "print(fmt.format('beta', sulfide_liquid.cy_SulfLiq_sulfide_liquid_calib_beta(t,p,n), '1/bar'))\n",
    "print(fmt.format('K', sulfide_liquid.cy_SulfLiq_sulfide_liquid_calib_K(t,p,n), 'bar'))\n",
    "print(fmt.format('Kp', sulfide_liquid.cy_SulfLiq_sulfide_liquid_calib_Kp(t,p,n), ''))"
   ]
  },
  {
   "cell_type": "markdown",
   "metadata": {},
   "source": [
    "### Execute functions that access endmember properties:"
   ]
  },
  {
   "cell_type": "code",
   "execution_count": null,
   "metadata": {},
   "outputs": [],
   "source": [
    "fmt = \"{0:<10.10s} {1:13.6e} {2:<15.15s}\"\n",
    "print (\"number of components\", sulfide_liquid.cy_SulfLiq_sulfide_liquid_calib_endmember_number())\n",
    "for index in range(0, c):\n",
    "    print (\"{0:<20.20s}\".format(sulfide_liquid.cy_SulfLiq_sulfide_liquid_calib_endmember_name(index)), end=' ')\n",
    "    print (\"{0:<20.20s}\".format(sulfide_liquid.cy_SulfLiq_sulfide_liquid_calib_endmember_formula(index)), end=' ')\n",
    "    print (\"mw: {0:10.2f}\".format(sulfide_liquid.cy_SulfLiq_sulfide_liquid_calib_endmember_mw(index)))\n",
    "    print (fmt.format('mu0', sulfide_liquid.cy_SulfLiq_sulfide_liquid_calib_endmember_mu0(index,t,p), 'J/mol'))\n",
    "    print (fmt.format('dmu0dT', sulfide_liquid.cy_SulfLiq_sulfide_liquid_calib_endmember_dmu0dT(index,t,p), 'J/K-mol'))\n",
    "    print (fmt.format('dmu0dP', sulfide_liquid.cy_SulfLiq_sulfide_liquid_calib_endmember_dmu0dP(index,t,p), 'J/bar-mol'))\n",
    "    print (fmt.format('d2mu0dT2', sulfide_liquid.cy_SulfLiq_sulfide_liquid_calib_endmember_d2mu0dT2(index,t,p), 'J/K^2-mol'))\n",
    "    print (fmt.format('d2mu0dTdP', sulfide_liquid.cy_SulfLiq_sulfide_liquid_calib_endmember_d2mu0dTdP(index,t,p), 'J/K-bar-mol'))\n",
    "    print (fmt.format('d2mu0dP2', sulfide_liquid.cy_SulfLiq_sulfide_liquid_calib_endmember_d2mu0dP2(index,t,p), 'J/bar^2-mol'))\n",
    "    print (fmt.format('d3mu0dT3', sulfide_liquid.cy_SulfLiq_sulfide_liquid_calib_endmember_d3mu0dT3(index,t,p), 'J/K^3-mol'))\n",
    "    print (fmt.format('d3mu0dT2dP', sulfide_liquid.cy_SulfLiq_sulfide_liquid_calib_endmember_d3mu0dT2dP(index,t,p), 'J/K^2-bar-mol'))\n",
    "    print (fmt.format('d3mu0dTdP2', sulfide_liquid.cy_SulfLiq_sulfide_liquid_calib_endmember_d3mu0dTdP2(index,t,p), 'J/K-bar^2-mol'))\n",
    "    print (fmt.format('d3mu0dP3', sulfide_liquid.cy_SulfLiq_sulfide_liquid_calib_endmember_d3mu0dP3(index,t,p), 'J/bar^3-mol'))\n",
    "    print (\"Element array:\")\n",
    "    print (sulfide_liquid.cy_SulfLiq_sulfide_liquid_calib_endmember_elements(index))\n",
    "    print ()"
   ]
  },
  {
   "cell_type": "markdown",
   "metadata": {},
   "source": [
    "### Execute functions that access species properties:"
   ]
  },
  {
   "cell_type": "code",
   "execution_count": null,
   "metadata": {},
   "outputs": [],
   "source": [
    "print (\"number of species\", sulfide_liquid.cy_SulfLiq_sulfide_liquid_calib_species_number())\n",
    "for index in range(0, sulfide_liquid.cy_SulfLiq_sulfide_liquid_calib_species_number()):\n",
    "    print (\"{0:<20.20s}\".format(sulfide_liquid.cy_SulfLiq_sulfide_liquid_calib_species_name(index)), end=' ')\n",
    "    print (\"{0:<20.20s}\".format(sulfide_liquid.cy_SulfLiq_sulfide_liquid_calib_species_formula(index)), end=' ')\n",
    "    print (\"mw: {0:10.2f}\".format(sulfide_liquid.cy_SulfLiq_sulfide_liquid_calib_species_mw(index)))\n",
    "    print (\"Element array:\")\n",
    "    print (sulfide_liquid.cy_SulfLiq_sulfide_liquid_calib_species_elements(index))\n",
    "    print ()"
   ]
  },
  {
   "cell_type": "markdown",
   "metadata": {},
   "source": [
    "### Execute functions for molar derivatives\n",
    "#### Component first derivative vectors:"
   ]
  },
  {
   "cell_type": "code",
   "execution_count": null,
   "metadata": {},
   "outputs": [],
   "source": [
    "def printResult(name, result, units):\n",
    "    print (\"{0:<10.10s}\".format(name), end=' ')\n",
    "    [print (\"{0:13.6e}\".format(x), end=' ') for x in result]\n",
    "    print (\"{0:<10.10s}\".format(units))\n",
    "def printLabels(n):\n",
    "    print (\"{0:<18.18s}\".format(''), end=' ')\n",
    "    [print (\"[{0:3d}]{1:<8.8s}\".format(idx, ''), end=' ') for idx in range(len(n))]\n",
    "    print ()\n",
    "printLabels(n)\n",
    "printResult('dGdn', sulfide_liquid.cy_SulfLiq_sulfide_liquid_calib_dgdn(t,p,n), 'J/m')\n",
    "printResult('d2GdndT', sulfide_liquid.cy_SulfLiq_sulfide_liquid_calib_d2gdndt(t,p,n), 'J/K-m')\n",
    "printResult('d2GdndP', sulfide_liquid.cy_SulfLiq_sulfide_liquid_calib_d2gdndp(t,p,n), 'J/bar-m')\n",
    "printResult('d3GdndT2', sulfide_liquid.cy_SulfLiq_sulfide_liquid_calib_d3gdndt2(t,p,n), 'J/K^2-m')\n",
    "printResult('d3GdndTdP', sulfide_liquid.cy_SulfLiq_sulfide_liquid_calib_d3gdndtdp(t,p,n), 'J/K-bar-m')\n",
    "printResult('d3GdndP2', sulfide_liquid.cy_SulfLiq_sulfide_liquid_calib_d3gdndp2(t,p,n), 'J/bar^2-m')\n",
    "printResult('d4GdndT3', sulfide_liquid.cy_SulfLiq_sulfide_liquid_calib_d4gdndt3(t,p,n), 'J/K^3-m')\n",
    "printResult('d4GdndT2dP', sulfide_liquid.cy_SulfLiq_sulfide_liquid_calib_d4gdndt2dp(t,p,n), 'J/K^2-bar-m')\n",
    "printResult('d4GdndTdP2', sulfide_liquid.cy_SulfLiq_sulfide_liquid_calib_d4gdndtdp2(t,p,n), 'J/K-bar^2-m')\n",
    "printResult('d4GdndP3', sulfide_liquid.cy_SulfLiq_sulfide_liquid_calib_d4gdndp3(t,p,n), 'J/bar^3-m')"
   ]
  },
  {
   "cell_type": "markdown",
   "metadata": {},
   "source": [
    "#### The Hessian matrix (molar second derivative matrix) is stored as a compact linear array"
   ]
  },
  {
   "cell_type": "code",
   "execution_count": null,
   "metadata": {},
   "outputs": [],
   "source": [
    "def printResult(name, result, units):\n",
    "    print (\"{0:<10.10s}\".format(name), end=' ')\n",
    "    [print (\"{0:13.6e}\".format(x), end=' ') for x in result]\n",
    "    print (\"{0:<10.10s}\".format(units))\n",
    "def printLabels(n):\n",
    "    print (\"{0:<18.18s}\".format(''), end=' ')\n",
    "    maxIdx = int(len(n)*(len(n)-1)/2 + len(n))\n",
    "    [print (\"[{0:3d}]{1:<8.8s}\".format(idx, ''), end=' ') for idx in range(maxIdx)]\n",
    "    print ()\n",
    "printLabels(n)\n",
    "printResult('d2Gdn2', sulfide_liquid.cy_SulfLiq_sulfide_liquid_calib_d2gdn2(t,p,n), 'J/m^2')\n",
    "printResult('d3Gdn2dT', sulfide_liquid.cy_SulfLiq_sulfide_liquid_calib_d3gdn2dt(t,p,n), 'J/K-m^2')\n",
    "printResult('d3Gdn2dP', sulfide_liquid.cy_SulfLiq_sulfide_liquid_calib_d3gdn2dp(t,p,n), 'J/bar-m^2')\n",
    "printResult('d4Gdn2dT2', sulfide_liquid.cy_SulfLiq_sulfide_liquid_calib_d4gdn2dt2(t,p,n), 'J/K^2-m^2')\n",
    "printResult('d4Gdn2dTdP', sulfide_liquid.cy_SulfLiq_sulfide_liquid_calib_d4gdn2dtdp(t,p,n), 'J/K-bar-m^2')\n",
    "printResult('d4Gdn2dP2', sulfide_liquid.cy_SulfLiq_sulfide_liquid_calib_d4gdn2dp2(t,p,n), 'J/bar^2-m^2')\n",
    "printResult('d5Gdn2dT3', sulfide_liquid.cy_SulfLiq_sulfide_liquid_calib_d5gdn2dt3(t,p,n), 'J/K^3-m^2')\n",
    "printResult('d5Gdn2dT2dP', sulfide_liquid.cy_SulfLiq_sulfide_liquid_calib_d5gdn2dt2dp(t,p,n), 'J/K^2-bar-m^2')\n",
    "printResult('d5Gdn2dTdP2', sulfide_liquid.cy_SulfLiq_sulfide_liquid_calib_d5gdn2dtdp2(t,p,n), 'J/K-bar^2-m^2')\n",
    "printResult('d5Gdn2dP3', sulfide_liquid.cy_SulfLiq_sulfide_liquid_calib_d5gdn2dp3(t,p,n), 'J/bar^3-m^2')"
   ]
  },
  {
   "cell_type": "markdown",
   "metadata": {},
   "source": [
    "#### The 3-D Tensor (molar third derivative tensor) is stored as a compact linear array"
   ]
  },
  {
   "cell_type": "code",
   "execution_count": null,
   "metadata": {},
   "outputs": [],
   "source": [
    "def printResult(name, result, units):\n",
    "    print (\"{0:<10.10s}\".format(name), end=' ')\n",
    "    [print (\"{0:10.3e}\".format(x), end=' ') for x in result]\n",
    "    print (\"{0:<14.14s}\".format(units))\n",
    "def printLabels(n):\n",
    "    print (\"{0:<15.15s}\".format(''), end=' ')\n",
    "    maxIdx = int(len(n)*(len(n)+1)*(len(n)+2)/6)\n",
    "    [print (\"[{0:3d}]{1:<5.5s}\".format(idx, ''), end=' ') for idx in range(maxIdx)]\n",
    "    print ()\n",
    "printLabels(n)\n",
    "printResult('d3Gdn3', sulfide_liquid.cy_SulfLiq_sulfide_liquid_calib_d3gdn3(t,p,n), 'J/m^3')\n",
    "printResult('d4Gdn3dT', sulfide_liquid.cy_SulfLiq_sulfide_liquid_calib_d4gdn3dt(t,p,n), 'J/K-m^3')\n",
    "printResult('d4Gdn3dP', sulfide_liquid.cy_SulfLiq_sulfide_liquid_calib_d4gdn3dp(t,p,n), 'J/bar-m^3')\n",
    "printResult('d5Gdn3dT2', sulfide_liquid.cy_SulfLiq_sulfide_liquid_calib_d5gdn3dt2(t,p,n), 'J/K^2-m^3')\n",
    "printResult('d5Gdn3dTdP', sulfide_liquid.cy_SulfLiq_sulfide_liquid_calib_d5gdn3dtdp(t,p,n), 'J/K-bar-m^3')\n",
    "printResult('d5Gdn3dP2', sulfide_liquid.cy_SulfLiq_sulfide_liquid_calib_d5gdn3dp2(t,p,n), 'J/bar^2-m^3')\n",
    "printResult('d6Gdn3dT3', sulfide_liquid.cy_SulfLiq_sulfide_liquid_calib_d6gdn3dt3(t,p,n), 'J/K^3-m^3')\n",
    "printResult('d6Gdn3dT2dP', sulfide_liquid.cy_SulfLiq_sulfide_liquid_calib_d6gdn3dt2dp(t,p,n), 'J/K^2-bar-m^3')\n",
    "printResult('d6Gdn3dTdP2', sulfide_liquid.cy_SulfLiq_sulfide_liquid_calib_d6gdn3dtdp2(t,p,n), 'J/K-bar^2-m^3')\n",
    "printResult('d6Gdn3dP3', sulfide_liquid.cy_SulfLiq_sulfide_liquid_calib_d6gdn3dp3(t,p,n), 'J/bar^3-m^3')"
   ]
  },
  {
   "cell_type": "markdown",
   "metadata": {},
   "source": [
    "### Test and time the Gibbs free energy method"
   ]
  },
  {
   "cell_type": "code",
   "execution_count": null,
   "metadata": {},
   "outputs": [],
   "source": [
    "%timeit sulfide_liquid.cy_SulfLiq_sulfide_liquid_calib_g(t, p, n) "
   ]
  },
  {
   "cell_type": "markdown",
   "metadata": {},
   "source": [
    "## Import the sulfide_liquid module into the ThermoEngine package\n",
    "Note that the module is treated as if it was generated using the coder module.  See the Example-8 notebook in this folder for further details. "
   ]
  },
  {
   "cell_type": "code",
   "execution_count": null,
   "metadata": {},
   "outputs": [],
   "source": [
    "modelDB = model.Database(database=\"CoderModule\", calib=\"calib\", \n",
    "                         phase_tuple=('thermoengine.sulfide_liquid', {\n",
    "                             'Sulf':['SulfLiq','solution']\n",
    "                         }))"
   ]
  },
  {
   "cell_type": "code",
   "execution_count": null,
   "metadata": {},
   "outputs": [],
   "source": [
    "phase = modelDB.get_phase('Sulf')"
   ]
  },
  {
   "cell_type": "markdown",
   "metadata": {},
   "source": [
    "### Test module methods wrapped by the standard ThermoEngine interface.  "
   ]
  },
  {
   "cell_type": "code",
   "execution_count": null,
   "metadata": {},
   "outputs": [],
   "source": [
    "print (phase.props['phase_name'])\n",
    "print (phase.props['formula'])\n",
    "print (phase.props['molwt'])\n",
    "print (phase.props['abbrev'])\n",
    "print (phase.props['endmember_num'])\n",
    "print (phase.props['endmember_name'])"
   ]
  },
  {
   "cell_type": "markdown",
   "metadata": {},
   "source": [
    "Test solution composition chosen as above."
   ]
  },
  {
   "cell_type": "code",
   "execution_count": null,
   "metadata": {},
   "outputs": [],
   "source": [
    "moles_end = np.array([2., 5., 10., 1., 1.])\n",
    "for i in range(0,phase.props['endmember_num']):\n",
    "    print (\"mole number of {0:10.10s} = {1:13.6e}\".format(phase.props['endmember_name'][i], moles_end[i]))\n",
    "if not phase.test_endmember_comp(moles_end):\n",
    "    print (\"Calculated composition is infeasible!\")\n",
    "print ('Formula: ', phase.compute_formula(t, p, moles_end))\n",
    "print ('Total moles of endmembers: ', phase.convert_endmember_comp(moles_end,output='total_moles'))\n",
    "mol_elm = phase.convert_endmember_comp(moles_end,output='moles_elements')\n",
    "print ('Mole fractions of endmembers: ', phase.convert_endmember_comp(moles_end,output='mole_fraction'))\n",
    "print ('Moles of endmembers: ', phase.convert_elements(mol_elm, output='moles_end'))\n",
    "print ('Total moles of endmembers: ', phase.convert_elements(mol_elm, output='total_moles'))\n",
    "print ('Total grams of phase: ', phase.convert_elements(mol_elm, output='total_grams'))\n",
    "# Check if intrinsic mode fails\n",
    "if len(moles_end) == 0:\n",
    "    print ('Intrinsic mode returned an empty array; estimating composition ...')\n",
    "    moles_end = np.array([0.20813521, 0.00267478, 0.14968884])\n",
    "    print (moles_end)"
   ]
  },
  {
   "cell_type": "markdown",
   "metadata": {},
   "source": [
    "Test and output the remainder of the methods for retrieval of thermodynamic quantities. "
   ]
  },
  {
   "cell_type": "code",
   "execution_count": null,
   "metadata": {},
   "outputs": [],
   "source": [
    "def test_func(name, func, t, p, units, deriv=None, const=None, endmember=None):\n",
    "    global moles_end\n",
    "    try:\n",
    "        if deriv:\n",
    "            result = func(t, p, deriv=deriv, mol=moles_end)\n",
    "            if type(result) is np.ndarray:\n",
    "                if len(result.shape) == 2:\n",
    "                    print (\"{0:>10s}\".format(name), end=' ')\n",
    "                    for x in result[0]:\n",
    "                        print (\"{0:15.6e}\".format(x), end=' ')\n",
    "                    print (\" {0:<20s}\".format(units))\n",
    "                elif len(result.shape) == 3:\n",
    "                    for i in range(0,result.shape[1]):\n",
    "                        print (\"{0:>10s}\".format(name), end=' ')\n",
    "                        for x in result[0][i]:\n",
    "                            print (\"{0:15.6e}\".format(x), end=' ')\n",
    "                        print (\" {0:<20s}\".format(units))\n",
    "                elif len(result.shape) == 4:\n",
    "                    for i in range(0,result.shape[1]):\n",
    "                        for j in range(0,result.shape[2]):\n",
    "                            print (\"{0:>10s}\".format(name), end=' ')\n",
    "                            for x in result[0][i][j]:\n",
    "                                print (\"{0:15.6e}\".format(x), end=' ')\n",
    "                            print (\" {0:<20s}\".format(units))\n",
    "                elif len(result.shape) == 1:\n",
    "                    print (\"{0:>10s}\".format(name), end=' ')\n",
    "                    for x in result:\n",
    "                        print (\"{0:15.6e}\".format(x), end=' ')\n",
    "                    print (\" {0:<20s}\".format(units))\n",
    "                else:\n",
    "                    print ('A', result.shape)\n",
    "            else:\n",
    "                print (\"{0:>10s}{1:15.6e} {2:<20s}\".format(name, result, units))\n",
    "        elif const:\n",
    "            print (\"{0:>10s}{1:15.6e} {2:<20s}\".format(name, func(t, p, const=const, mol=moles_end), units))\n",
    "        else:\n",
    "            result = func(t, p, mol=moles_end)\n",
    "            if type(result) is np.ndarray:\n",
    "                if len(result.shape) == 2:\n",
    "                    print (\"{0:>10s}\".format(name), end=' ')\n",
    "                    for x in result[0]:\n",
    "                        print (\"{0:15.6e}\".format(x), end=' ')\n",
    "                    print (\" {0:<20s}\".format(units))\n",
    "                elif len(result.shape) == 1:\n",
    "                    print (\"{0:>10s}\".format(name), end=' ')\n",
    "                    for x in result:\n",
    "                        print (\"{0:15.6e}\".format(x), end=' ')\n",
    "                    print (\" {0:<20s}\".format(units))\n",
    "                else:\n",
    "                    print ('B', len(result.shape))\n",
    "            else:\n",
    "                print (\"{0:>10s}{1:15.6e} {2:<20s}\".format(name, result, units))\n",
    "    except AttributeError:\n",
    "        print (\"{0:>10s} is not implemented\".format(name))\n",
    "\n",
    "test_func('G',  phase.gibbs_energy, t, p, 'J/mol')\n",
    "test_func('dG/dT', phase.gibbs_energy, t, p, 'J/K-mol', deriv={'dT':1})\n",
    "test_func('dG/dP', phase.gibbs_energy, t, p, 'J/bar-mol', deriv={'dP':1})\n",
    "test_func('dG/dm', phase.gibbs_energy, t, p, 'J/mol^2', deriv={'dmol':1})\n",
    "\n",
    "test_func('d2G/dT2', phase.gibbs_energy, t, p, 'J/K^2-mol', deriv={'dT':2})\n",
    "test_func('d2G/dTdP', phase.gibbs_energy, t, p, 'J/K-bar-mol', deriv={'dT':1, 'dP':1})\n",
    "test_func('d2G/dTdm', phase.gibbs_energy, t, p, 'J/K-mol^2', deriv={'dT':1, 'dmol':1})\n",
    "test_func('d2G/dP2', phase.gibbs_energy, t, p, 'J/bar^2-mol', deriv={'dP':2})\n",
    "test_func('d2G/dPdm', phase.gibbs_energy, t, p, 'J/bar-mol^2', deriv={'dP':1, 'dmol':1})\n",
    "test_func('d2G/dm2', phase.gibbs_energy, t, p, 'J/mol^3', deriv={'dmol':2})\n",
    "\n",
    "test_func('d3G/dT3', phase.gibbs_energy, t, p, 'J/K^3-mol', deriv={'dT':3})\n",
    "test_func('d3G/dT2dP', phase.gibbs_energy, t, p, 'J/K^2-bar-mol', deriv={'dT':2, 'dP':1})\n",
    "test_func('d3G/dT2dm', phase.gibbs_energy, t, p, 'J/K^2-mol^2', deriv={'dT':2, 'dmol':1})\n",
    "test_func('d3G/dTdP2', phase.gibbs_energy, t, p, 'J/K-bar^2-mol', deriv={'dT':1, 'dP':2})\n",
    "test_func('d3G/dTdPdm', phase.gibbs_energy, t, p, 'J/K-bar-mol^2', deriv={'dT':1, 'dP':1, 'dmol':1})\n",
    "test_func('d3G/dTdm2', phase.gibbs_energy, t, p, 'J/K-mol^3', deriv={'dT':1, 'dmol':2})\n",
    "test_func('d3G/dP3', phase.gibbs_energy, t, p, 'J/bar^3-mol', deriv={'dP':3})\n",
    "test_func('d3G/dP2dm', phase.gibbs_energy, t, p, 'J/bar^2-mol^2', deriv={'dP':2, 'dmol':1})\n",
    "test_func('d3G/dPdm2', phase.gibbs_energy, t, p, 'J/bar-mol^3', deriv={'dP':1, 'dmol':2})\n",
    "test_func('d3G/dm3', phase.gibbs_energy, t, p, 'J/mol^4', deriv={'dmol':3})\n",
    "\n",
    "test_func('H', phase.enthalpy, t, p, 'J/mol')\n",
    "test_func('S', phase.entropy, t, p, 'J/K-mol')\n",
    "test_func('dS/dm', phase.entropy, t, p, 'J/K-mol^2', deriv={'dmol':1})\n",
    "test_func('d2S/dm2', phase.entropy, t, p, 'J/K-mol^3', deriv={'dmol':2})\n",
    "\n",
    "test_func('Cv', phase.heat_capacity, t, p, 'J/K-mol', const='V')\n",
    "test_func('Cp', phase.heat_capacity, t, p, 'J/K-mol')\n",
    "test_func('dCp/dT', phase.heat_capacity, t, p, 'J/-K^2-mol', deriv={'dT':1})\n",
    "test_func('dCp/dm', phase.heat_capacity, t, p, 'J/-K-mol^2', deriv={'dmol':1})\n",
    "\n",
    "test_func('rho', phase.density, t, p, 'gm/cc')\n",
    "test_func('alpha', phase.thermal_exp, t, p, '1/K')\n",
    "test_func('beta', phase.compressibility, t, p, '1/bar')\n",
    "test_func('K', phase.bulk_mod, t, p, '')\n",
    "test_func('Kp', phase.bulk_mod, t, p, '1/bar', deriv={'dP':1})\n",
    "\n",
    "test_func(\"V\", phase.volume, t, p, 'J/bar-mol')\n",
    "test_func(\"dV/dT\", phase.volume, t, p, 'J/bar-K-mol', deriv={'dT':1})\n",
    "test_func(\"dv/dP\", phase.volume, t, p, 'J/bar^2-mol', deriv={'dP':1})\n",
    "test_func(\"dv/dm\", phase.volume, t, p, 'J/bar-mol^2', deriv={'dP':1, 'dmol':1})\n",
    "test_func(\"d2V/dT2\", phase.volume, t, p, 'J/bar-K^2-mol', deriv={'dT':2})\n",
    "test_func(\"d2V/dTdP\", phase.volume, t, p, 'J/bar^2-K-mol', deriv={'dT':1, 'dP':1})\n",
    "test_func(\"d2V/dP2\", phase.volume, t, p, 'J/bar^3-mol', deriv={'dP':2})\n",
    "test_func(\"d2V/dTdm\", phase.volume, t, p, 'J/bar-K-mol^2', deriv={'dT':1, 'dmol':1})\n",
    "test_func(\"d2V/dPdm\", phase.volume, t, p, 'J/bar^2-mol^2', deriv={'dP':1, 'dmol':1})\n",
    "test_func(\"d2V/dm2\", phase.volume, t, p, 'J/bar-mol^3', deriv={'dmol':2})\n",
    "\n",
    "test_func('mu0', phase.chem_potential, t, p, 'J/mol')\n",
    "test_func('activity', phase.activity, t, p, '')\n",
    "test_func('da/dm', phase.activity, t, p, '1/mol', deriv={'dmol':1})"
   ]
  },
  {
   "cell_type": "code",
   "execution_count": null,
   "metadata": {},
   "outputs": [],
   "source": []
  }
 ],
 "metadata": {
  "kernelspec": {
   "display_name": "Python 3 (ipykernel)",
   "language": "python",
   "name": "python3"
  },
  "language_info": {
   "codemirror_mode": {
    "name": "ipython",
    "version": 3
   },
   "file_extension": ".py",
   "mimetype": "text/x-python",
   "name": "python",
   "nbconvert_exporter": "python",
   "pygments_lexer": "ipython3",
   "version": "3.9.7"
  }
 },
 "nbformat": 4,
 "nbformat_minor": 4
}
