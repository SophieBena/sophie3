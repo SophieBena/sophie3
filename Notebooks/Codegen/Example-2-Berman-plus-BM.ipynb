{
 "cells": [
  {
   "cell_type": "markdown",
   "metadata": {},
   "source": [
    "# Berman Standard State Code Generator + Birch-Murnaghan\n",
    "Required system packages and initialization"
   ]
  },
  {
   "cell_type": "code",
   "execution_count": null,
   "metadata": {},
   "outputs": [],
   "source": [
    "import pandas as pd\n",
    "import numpy as np\n",
    "import sympy as sym\n",
    "sym.init_printing()"
   ]
  },
  {
   "cell_type": "code",
   "execution_count": null,
   "metadata": {},
   "outputs": [],
   "source": [
    "from thermoengine import coder"
   ]
  },
  {
   "cell_type": "code",
   "execution_count": null,
   "metadata": {},
   "outputs": [],
   "source": [
    "model = coder.StdStateModel()"
   ]
  },
  {
   "cell_type": "code",
   "execution_count": null,
   "metadata": {},
   "outputs": [],
   "source": [
    "T = model.get_symbol_for_t()\n",
    "P = model.get_symbol_for_p()\n",
    "Tr = model.get_symbol_for_tr()\n",
    "Pr = model.get_symbol_for_pr()"
   ]
  },
  {
   "cell_type": "markdown",
   "metadata": {},
   "source": [
    "### Define model expressions applicable over all of T,P space\n",
    "An expression for the Gibbs free energy, $G(T,P)$ or the Helmholtz energy $A(T,V)$ is constructed.  The expression may have multiple parts.  Often the heat capacity function is postulated, then integrated to yield expressions for the entahlpy, entropy, and in combination the energy potential. Then, an equation of state (EOS) is adopted and that term is integrated in pressure or volume and added to the heat capacity integrals. This proceedure is follwed here.\n",
    "#### (1) $C_P$ integrals\n",
    "The isobaric heat capacity terms parameterized as: $C_P = k_0 + k_1 / T^{1/2} + k_2 / T^2 + k_3 / T^3 $,\n",
    "and in addition the reference condition third law entropy, $ S_{Tr,Pr} $, and enthalpy of formation from the\n",
    "elements, $ \\Delta H_{Tr,Pr} $, constitute additional parameters:"
   ]
  },
  {
   "cell_type": "code",
   "execution_count": null,
   "metadata": {},
   "outputs": [],
   "source": [
    "k0,k1,k2,k3 = sym.symbols('k0 k1 k2 k3')\n",
    "CpPr = k0+k1/sym.sqrt(T)+k2/T**2+k3/T**3\n",
    "STrPr,HTrPr = sym.symbols('S_TrPr H_TrPr')"
   ]
  },
  {
   "cell_type": "markdown",
   "metadata": {},
   "source": [
    "Specify paramters ..."
   ]
  },
  {
   "cell_type": "code",
   "execution_count": null,
   "metadata": {},
   "outputs": [],
   "source": [
    "params = [('H_TrPr','J',HTrPr), ('S_TrPr','J/K',STrPr), ('k0','J/K-m',k0), ('k1','J-K^(1/2)-m',k1),\n",
    "          ('k2','J-K/m',k2),  ('k3','J-K^2',k3)]"
   ]
  },
  {
   "cell_type": "markdown",
   "metadata": {},
   "source": [
    "Define the heat capacity contribution to the Gibbs free energy ..."
   ]
  },
  {
   "cell_type": "code",
   "execution_count": null,
   "metadata": {},
   "outputs": [],
   "source": [
    "GPr = HTrPr + sym.integrate(CpPr,(T,Tr,T)) - T*(STrPr + sym.integrate(CpPr/T,(T,Tr,T)))"
   ]
  },
  {
   "cell_type": "markdown",
   "metadata": {},
   "source": [
    "... and add this expression to the model"
   ]
  },
  {
   "cell_type": "code",
   "execution_count": null,
   "metadata": {},
   "outputs": [],
   "source": [
    "model.add_expression_to_model(GPr, params)"
   ]
  },
  {
   "cell_type": "markdown",
   "metadata": {},
   "source": [
    "#### (2) $V$ (EOS) integrals\n",
    "Next, define a volume-implicit equation of state applicable over the whole of temperature and pressure space.  We will use the 3rd order Birch-Murnaghan expression:  \n",
    "$P = \\frac{{3K}}{2}\\left[ {{{\\left( {\\frac{{{V_{{T_r}.{P_r}}}}}{V}} \\right)}^{\\frac{7}{3}}} - {{\\left( {\\frac{{{V_{{T_r}.{P_r}}}}}{V}} \\right)}^{\\frac{5}{3}}}} \\right]\\left\\{ {\\left( {\\frac{{3{K_P}}}{4} - 3} \\right)\\left[ {{{\\left( {\\frac{{{V_{{T_r}.{P_r}}}}}{V}} \\right)}^{\\frac{2}{3}}} - 1} \\right] + 1} \\right\\}$  \n",
    "The parameters in this expression are:"
   ]
  },
  {
   "cell_type": "code",
   "execution_count": null,
   "metadata": {},
   "outputs": [],
   "source": [
    "VTrPr,K,Kp = sym.symbols('V_TrPr K K_P')\n",
    "params = [('V_TrPr', 'J/bar-m', VTrPr), ('K','bar',K), ('K_P','',Kp)]"
   ]
  },
  {
   "cell_type": "markdown",
   "metadata": {},
   "source": [
    "where *V* is an implicit function of *T* and *P*:"
   ]
  },
  {
   "cell_type": "code",
   "execution_count": null,
   "metadata": {},
   "outputs": [],
   "source": [
    "V = sym.Function('V')(T,P)"
   ]
  },
  {
   "cell_type": "markdown",
   "metadata": {},
   "source": [
    "Define *f*, an implicit function derived from the Birch-Murnaghan expression. *f* has a value zero for internally consistent *V*, *T*, and *P*:  \n",
    "$f = 0 = \\frac{{3K}}{2}\\left[ {{{\\left( {\\frac{{{V_{{T_r}.{P_r}}}}}{V}} \\right)}^{\\frac{7}{3}}} - {{\\left( {\\frac{{{V_{{T_r}.{P_r}}}}}{V}} \\right)}^{\\frac{5}{3}}}} \\right]\\left\\{ {\\left( {\\frac{{3{K_P}}}{4} - 3} \\right)\\left[ {{{\\left( {\\frac{{{V_{{T_r}.{P_r}}}}}{V}} \\right)}^{\\frac{2}{3}}} - 1} \\right] + 1} \\right\\} - P$"
   ]
  },
  {
   "cell_type": "code",
   "execution_count": null,
   "metadata": {},
   "outputs": [],
   "source": [
    "f = (sym.S(3)*K/sym.S(2))*((VTrPr/V)**(sym.S(7)/sym.S(3))-(VTrPr/V)**(sym.S(5)/sym.S(3)))*(1+(sym.S(3)/sym.S(4))*(Kp-4)*((VTrPr/V)**(sym.S(2)/sym.S(3))-1))- P\n",
    "f"
   ]
  },
  {
   "cell_type": "markdown",
   "metadata": {},
   "source": [
    "Because the EOS is explicit in *P* (and a function of *T* and *V*), the natural thermodynamic potential to use is the Helmholtz energy, *A*. *A* is obtained by integrating pressure from the reference volume to the final volume:  \n",
    "${A_{T,P}} - {A_{{T_r},{P_r}}} = \\int_{{V_{{T_r},{P_r}}}}^{{V_{T,P}}} {PdV}$  \n",
    "Note: To perform this integration in SymPy, first define a variable of integration, $V_{TP}$, substitute that variable for the function $V(T,P)$, and integrate $f$ with respect to $V_{TP}$ over the limits $V_{TrPr}$ to $V(T,P)$.  This procedure generates an expression for the Helmholtz energy that is a function of $V(T,P)$.  \n",
    "Note: The integration is performed on the integrand $f+P$, which corresponds to the Birch-Murnaghan expression for $P$."
   ]
  },
  {
   "cell_type": "code",
   "execution_count": null,
   "metadata": {},
   "outputs": [],
   "source": [
    "VTP = sym.symbols('V_TP')\n",
    "A = sym.integrate((f+P).subs(V,VTP),(VTP,VTrPr,V)).simplify()\n",
    "A"
   ]
  },
  {
   "cell_type": "markdown",
   "metadata": {},
   "source": [
    "The Gibbs free energy contribution if given by the identity: $G = A + PV$ and ${G_{T,P}} - {G_{{T_r},{P_r}}} = {A_{T,P}} + PV - {A_{{T_r},{P_r}}} - {P_r}{V_{{T_r},{P_r}}}$"
   ]
  },
  {
   "cell_type": "code",
   "execution_count": null,
   "metadata": {},
   "outputs": [],
   "source": [
    "GTr = A+(f+P)*V-A.subs(V,VTrPr)-Pr*VTrPr\n",
    "GTr"
   ]
  },
  {
   "cell_type": "markdown",
   "metadata": {},
   "source": [
    "The *implicit_function* argument of the *add_expression_to_model* method conveys information about how to compute a value for the implicit variable contained in the Gibbs free energy expression passed as the first argument.  It is an array of tuples; each tuple has three components. The first is a sympy expression for the implicit function, which evaluates to zero for an internally consistent set of *T*, *P*, *V*. The second component is a symbol for the function definition of the implicit variable.  The third component is is a sympy expression that initializes *f* in the iterative routine. This expression must be defined in terms of known parameters and Tr, Pr, T, P.. "
   ]
  },
  {
   "cell_type": "code",
   "execution_count": null,
   "metadata": {},
   "outputs": [],
   "source": [
    "model.add_expression_to_model(GTr, params, implicit_functions=[(f,V,VTrPr/2.0)])"
   ]
  },
  {
   "cell_type": "markdown",
   "metadata": {},
   "source": [
    "Note:  \n",
    "The implicit function will be utilized in code generation not only to compute the value of *V*, given a *T* and *P*, but also to evaluate derivatives of *V*,  Since:  \n",
    "\n",
    "$dP = {\\left( {\\frac{{\\partial P}}{{\\partial V}}} \\right)_T}dV + {\\left( {\\frac{{\\partial P}}{{\\partial T}}} \\right)_V}dT$,   \n",
    "\n",
    "${d^2}P = d{\\left( {\\frac{{\\partial P}}{{\\partial V}}} \\right)_T}dV + {\\left( {\\frac{{\\partial P}}{{\\partial V}}} \\right)_T}{d^2}V + d{\\left( {\\frac{{\\partial P}}{{\\partial T}}} \\right)_V}dT + {\\left( {\\frac{{\\partial P}}{{\\partial T}}} \\right)_V}{d^2}T$, or  \n",
    "\n",
    "${d^2}P = {\\left( {\\frac{{{\\partial ^2}P}}{{\\partial {V^2}}}} \\right)_T}dVdV + 2\\left( {\\frac{{{\\partial ^2}P}}{{\\partial V\\partial T}}} \\right)dVdT + {\\left( {\\frac{{{\\partial ^2}P}}{{\\partial {T^2}}}} \\right)_V}dTdT + {\\left( {\\frac{{\\partial P}}{{\\partial V}}} \\right)_T}{d^2}V + {\\left( {\\frac{{\\partial P}}{{\\partial T}}} \\right)_V}{d^2}T$"
   ]
  },
  {
   "cell_type": "markdown",
   "metadata": {},
   "source": [
    "## Code Print the Model, compile the code and link a Python module\n",
    "Name the model class"
   ]
  },
  {
   "cell_type": "code",
   "execution_count": null,
   "metadata": {},
   "outputs": [],
   "source": [
    "model.set_module_name('berman')\n",
    "#model.get_berman_std_state_database()"
   ]
  },
  {
   "cell_type": "markdown",
   "metadata": {},
   "source": [
    "Make a working sub-directory and move down into the directory.  This is done so that generated files will not clash between alternate model configurations."
   ]
  },
  {
   "cell_type": "code",
   "execution_count": null,
   "metadata": {},
   "outputs": [],
   "source": [
    "model_working_dir = \"working\"\n",
    "!mkdir -p {model_working_dir}\n",
    "%cd {model_working_dir}"
   ]
  },
  {
   "cell_type": "markdown",
   "metadata": {},
   "source": [
    "- Choose an existing phase from the Berman database\n",
    "- Generate an include file and code file for this phase  \n",
    "  \n",
    "Note that the call to\n",
    "```\n",
    "model.create_code_module(phase=phase_name, formula=formula, params=param_dict)\n",
    "```\n",
    "generates fast code with unmodifiable model parameters and \"calibration-\" related functions.  The call to:\n",
    "```\n",
    "model.create_code_module(phase=phase_name, formula=formula, params=param_dict, module_type='calib')\n",
    "```\n",
    "generates code suitable for model parameter calibration. \n"
   ]
  },
  {
   "cell_type": "code",
   "execution_count": null,
   "metadata": {},
   "outputs": [],
   "source": [
    "model_type='fast'"
   ]
  },
  {
   "cell_type": "code",
   "execution_count": null,
   "metadata": {},
   "outputs": [],
   "source": [
    "param_dict = model.get_berman_std_state_database(47, extend_defs=True)\n",
    "#param_dict['K'] = 100.0\n",
    "#param_dict['K_P'] = 4.0\n",
    "phase_name = param_dict.pop('Phase', None).title()\n",
    "formula = param_dict.pop('Formula', None)\n",
    "result = model.create_code_module(phase=phase_name, formula=formula, params=param_dict, module_type=model_type)"
   ]
  },
  {
   "cell_type": "code",
   "execution_count": null,
   "metadata": {},
   "outputs": [],
   "source": [
    "param_dict"
   ]
  },
  {
   "cell_type": "markdown",
   "metadata": {},
   "source": [
    "## Import the new module and test the model"
   ]
  },
  {
   "cell_type": "code",
   "execution_count": null,
   "metadata": {},
   "outputs": [],
   "source": [
    "import berman\n",
    "%cd .."
   ]
  },
  {
   "cell_type": "markdown",
   "metadata": {},
   "source": [
    "Evaluate functions at temperature (K) and pressure (bars)"
   ]
  },
  {
   "cell_type": "code",
   "execution_count": null,
   "metadata": {},
   "outputs": [],
   "source": [
    "t = 1000.0\n",
    "p = 10000.0"
   ]
  },
  {
   "cell_type": "markdown",
   "metadata": {},
   "source": [
    "### Available in both \"Fast\" and \"Calib\" code versions \n",
    "Execute the \"fast\" or \"calibration\" code metadata retrieval functions:"
   ]
  },
  {
   "cell_type": "code",
   "execution_count": null,
   "metadata": {},
   "outputs": [],
   "source": [
    "try:\n",
    "    print(berman.cy_Potassium_Feldspar_berman_identifier())\n",
    "    print(berman.cy_Potassium_Feldspar_berman_name())\n",
    "    print(berman.cy_Potassium_Feldspar_berman_formula())\n",
    "    print(berman.cy_Potassium_Feldspar_berman_mw())\n",
    "    print(berman.cy_Potassium_Feldspar_berman_elements())\n",
    "except AttributeError:\n",
    "    pass\n",
    "try:\n",
    "    print(berman.cy_Potassium_Feldspar_berman_calib_identifier())\n",
    "    print(berman.cy_Potassium_Feldspar_berman_calib_name())\n",
    "    print(berman.cy_Potassium_Feldspar_berman_calib_formula())\n",
    "    print(berman.cy_Potassium_Feldspar_berman_calib_mw())\n",
    "    print(berman.cy_Potassium_Feldspar_berman_calib_elements())\n",
    "except AttributeError:\n",
    "    pass"
   ]
  },
  {
   "cell_type": "markdown",
   "metadata": {},
   "source": [
    "Execute the standard thermodynamic property retrieval functions:"
   ]
  },
  {
   "cell_type": "code",
   "execution_count": null,
   "metadata": {},
   "outputs": [],
   "source": [
    "fmt = \"{0:<10.10s} {1:13.6e} {2:<10.10s}\"\n",
    "try:\n",
    "    print(fmt.format('G', berman.cy_Potassium_Feldspar_berman_g(t,p), 'J/m'))\n",
    "    print(fmt.format('dGdT', berman.cy_Potassium_Feldspar_berman_dgdt(t,p), 'J/K-m'))\n",
    "    print(fmt.format('dGdP', berman.cy_Potassium_Feldspar_berman_dgdp(t,p), 'J/bar-m'))\n",
    "    print(fmt.format('d2GdP2', berman.cy_Potassium_Feldspar_berman_d2gdt2(t,p), 'J/K^2-m'))\n",
    "    print(fmt.format('d2GdTdP', berman.cy_Potassium_Feldspar_berman_d2gdtdp(t,p), 'J/K-bar-m'))\n",
    "    print(fmt.format('d2GdP2', berman.cy_Potassium_Feldspar_berman_d2gdp2(t,p), 'J/bar^2-m'))\n",
    "    print(fmt.format('d3GdT3', berman.cy_Potassium_Feldspar_berman_d3gdt3(t,p), 'J/K^3-m'))\n",
    "    print(fmt.format('d3GdT2dP', berman.cy_Potassium_Feldspar_berman_d3gdt2dp(t,p), 'J/K^2-bar-m'))\n",
    "    print(fmt.format('d3GdTdP2', berman.cy_Potassium_Feldspar_berman_d3gdtdp2(t,p), 'J/K-bar^2-m'))\n",
    "    print(fmt.format('d3GdP3', berman.cy_Potassium_Feldspar_berman_d3gdp3(t,p), 'J/bar^3-m'))\n",
    "    print(fmt.format('S', berman.cy_Potassium_Feldspar_berman_s(t,p), 'J/K-m'))\n",
    "    print(fmt.format('V', berman.cy_Potassium_Feldspar_berman_v(t,p), 'J/bar-m'))\n",
    "    print(fmt.format('Cv', berman.cy_Potassium_Feldspar_berman_cv(t,p), 'J/K-m'))\n",
    "    print(fmt.format('Cp', berman.cy_Potassium_Feldspar_berman_cp(t,p), 'J/K-m'))\n",
    "    print(fmt.format('dCpdT', berman.cy_Potassium_Feldspar_berman_dcpdt(t,p), 'J/K^2-m'))\n",
    "    print(fmt.format('alpha', berman.cy_Potassium_Feldspar_berman_alpha(t,p), '1/K'))\n",
    "    print(fmt.format('beta', berman.cy_Potassium_Feldspar_berman_beta(t,p), '1/bar'))\n",
    "    print(fmt.format('K', berman.cy_Potassium_Feldspar_berman_K(t,p), 'bar'))\n",
    "    print(fmt.format('Kp', berman.cy_Potassium_Feldspar_berman_Kp(t,p), ''))\n",
    "except AttributeError:\n",
    "    pass\n",
    "try:\n",
    "    print(fmt.format('G', berman.cy_Potassium_Feldspar_berman_calib_g(t,p), 'J/m'))\n",
    "    print(fmt.format('dGdT', berman.cy_Potassium_Feldspar_berman_calib_dgdt(t,p), 'J/K-m'))\n",
    "    print(fmt.format('dGdP', berman.cy_Potassium_Feldspar_berman_calib_dgdp(t,p), 'J/bar-m'))\n",
    "    print(fmt.format('d2GdP2', berman.cy_Potassium_Feldspar_berman_calib_d2gdt2(t,p), 'J/K^2-m'))\n",
    "    print(fmt.format('d2GdTdP', berman.cy_Potassium_Feldspar_berman_calib_d2gdtdp(t,p), 'J/K-bar-m'))\n",
    "    print(fmt.format('d2GdP2', berman.cy_Potassium_Feldspar_berman_calib_d2gdp2(t,p), 'J/bar^2-m'))\n",
    "    print(fmt.format('d3GdT3', berman.cy_Potassium_Feldspar_berman_calib_d3gdt3(t,p), 'J/K^3-m'))\n",
    "    print(fmt.format('d3GdT2dP', berman.cy_Potassium_Feldspar_berman_calib_d3gdt2dp(t,p), 'J/K^2-bar-m'))\n",
    "    print(fmt.format('d3GdTdP2', berman.cy_Potassium_Feldspar_berman_calib_d3gdtdp2(t,p), 'J/K-bar^2-m'))\n",
    "    print(fmt.format('d3GdP3', berman.cy_Potassium_Feldspar_berman_calib_d3gdp3(t,p), 'J/bar^3-m'))\n",
    "    print(fmt.format('S', berman.cy_Potassium_Feldspar_berman_calib_s(t,p), 'J/K-m'))\n",
    "    print(fmt.format('V', berman.cy_Potassium_Feldspar_berman_calib_v(t,p), 'J/bar-m'))\n",
    "    print(fmt.format('Cv', berman.cy_Potassium_Feldspar_berman_calib_cv(t,p), 'J/K-m'))\n",
    "    print(fmt.format('Cp', berman.cy_Potassium_Feldspar_berman_calib_cp(t,p), 'J/K-m'))\n",
    "    print(fmt.format('dCpdT', berman.cy_Potassium_Feldspar_berman_calib_dcpdt(t,p), 'J/K^2-m'))\n",
    "    print(fmt.format('alpha', berman.cy_Potassium_Feldspar_berman_calib_alpha(t,p), '1/K'))\n",
    "    print(fmt.format('beta', berman.cy_Potassium_Feldspar_berman_calib_beta(t,p), '1/bar'))\n",
    "    print(fmt.format('K', berman.cy_Potassium_Feldspar_berman_calib_K(t,p), 'bar'))\n",
    "    print(fmt.format('Kp', berman.cy_Potassium_Feldspar_berman_calib_Kp(t,p), ''))\n",
    "except AttributeError:\n",
    "    pass"
   ]
  },
  {
   "cell_type": "markdown",
   "metadata": {},
   "source": [
    "### Available only in the \"Calib\" versions of generated code\n",
    "Execute the parameter value/metadata functions.  \n",
    "These functions are only defined for the \"calibration\" model code implementation:"
   ]
  },
  {
   "cell_type": "code",
   "execution_count": null,
   "metadata": {},
   "outputs": [],
   "source": [
    "try:\n",
    "    np = berman.cy_Potassium_Feldspar_berman_get_param_number()\n",
    "    names = berman.cy_Potassium_Feldspar_berman_get_param_names()\n",
    "    units = berman.cy_Potassium_Feldspar_berman_get_param_units()\n",
    "    values = berman.cy_Potassium_Feldspar_berman_get_param_values()\n",
    "    fmt = \"{0:<10.10s} {1:13.6e} {2:13.6e} {3:<10.10s}\"\n",
    "    for i in range(0,np):\n",
    "        print(fmt.format(names[i], values[i], berman.cy_Potassium_Feldspar_berman_get_param_value(i), units[i]))\n",
    "except AttributeError:\n",
    "    pass"
   ]
  },
  {
   "cell_type": "markdown",
   "metadata": {},
   "source": [
    "Test the functions that allow modification of the array of parameter values"
   ]
  },
  {
   "cell_type": "code",
   "execution_count": null,
   "metadata": {},
   "outputs": [],
   "source": [
    "try:\n",
    "    values[1] = 100.0\n",
    "    berman.cy_Potassium_Feldspar_berman_set_param_values(values)\n",
    "    fmt = \"{0:<10.10s} {1:13.6e} {2:13.6e} {3:<10.10s}\"\n",
    "    for i in range(0,np):\n",
    "        print(fmt.format(names[i], values[i], berman.cy_Potassium_Feldspar_berman_get_param_value(i), units[i]))\n",
    "except (AttributeError, NameError):\n",
    "    pass"
   ]
  },
  {
   "cell_type": "markdown",
   "metadata": {},
   "source": [
    "Test the functions that allow modification of a particular parameter value"
   ]
  },
  {
   "cell_type": "code",
   "execution_count": null,
   "metadata": {},
   "outputs": [],
   "source": [
    "try:\n",
    "    berman.cy_Potassium_Feldspar_berman_set_param_value(1, 1.0)\n",
    "    fmt = \"{0:<10.10s} {1:13.6e} {2:13.6e} {3:<10.10s}\"\n",
    "    for i in range(0,np):\n",
    "        print(fmt.format(names[i], values[i], berman.cy_Potassium_Feldspar_berman_get_param_value(i), units[i]))\n",
    "except AttributeError:\n",
    "    pass"
   ]
  },
  {
   "cell_type": "markdown",
   "metadata": {},
   "source": [
    "Evaluate parameter derivatives ..."
   ]
  },
  {
   "cell_type": "code",
   "execution_count": null,
   "metadata": {},
   "outputs": [],
   "source": [
    "try:\n",
    "    fmt = \"    {0:<10.10s} {1:13.6e}\"\n",
    "    for i in range(0, np):\n",
    "        print ('Derivative with respect to parameter: ', names[i], ' of')\n",
    "        print (fmt.format('G', berman.cy_Potassium_Feldspar_berman_dparam_g(t, p, i)))\n",
    "        print (fmt.format('dGdT', berman.cy_Potassium_Feldspar_berman_dparam_dgdt(t, p, i)))\n",
    "        print (fmt.format('dGdP', berman.cy_Potassium_Feldspar_berman_dparam_dgdp(t, p, i)))\n",
    "        print (fmt.format('d2GdT2', berman.cy_Potassium_Feldspar_berman_dparam_d2gdt2(t, p, i)))\n",
    "        print (fmt.format('d2GdTdP', berman.cy_Potassium_Feldspar_berman_dparam_d2gdtdp(t, p, i)))\n",
    "        print (fmt.format('d2GdP2', berman.cy_Potassium_Feldspar_berman_dparam_d2gdp2(t, p, i)))\n",
    "        print (fmt.format('d3GdT3', berman.cy_Potassium_Feldspar_berman_dparam_d3gdt3(t, p, i)))\n",
    "        print (fmt.format('d3GdT2dP', berman.cy_Potassium_Feldspar_berman_dparam_d3gdt2dp(t, p, i)))\n",
    "        print (fmt.format('d3GdTdP2', berman.cy_Potassium_Feldspar_berman_dparam_d3gdtdp2(t, p, i)))\n",
    "        print (fmt.format('d3GdP3', berman.cy_Potassium_Feldspar_berman_dparam_d3gdp3(t, p, i)))\n",
    "except (AttributeError, TypeError):\n",
    "    pass"
   ]
  },
  {
   "cell_type": "markdown",
   "metadata": {},
   "source": [
    "## Time execution of the code"
   ]
  },
  {
   "cell_type": "code",
   "execution_count": null,
   "metadata": {},
   "outputs": [],
   "source": [
    "try:\n",
    "    %timeit berman.cy_Potassium_Feldspar_berman_calib_g(t,p) \n",
    "except AttributeError:\n",
    "    pass\n",
    "try:\n",
    "    %timeit berman.cy_Potassium_Feldspar_berman_g(t,p) \n",
    "except AttributeError:\n",
    "    pass"
   ]
  },
  {
   "cell_type": "code",
   "execution_count": null,
   "metadata": {},
   "outputs": [],
   "source": []
  }
 ],
 "metadata": {
  "kernelspec": {
   "display_name": "Python 3",
   "language": "python",
   "name": "python3"
  },
  "language_info": {
   "codemirror_mode": {
    "name": "ipython",
    "version": 3
   },
   "file_extension": ".py",
   "mimetype": "text/x-python",
   "name": "python",
   "nbconvert_exporter": "python",
   "pygments_lexer": "ipython3",
   "version": "3.7.3"
  }
 },
 "nbformat": 4,
 "nbformat_minor": 4
}
