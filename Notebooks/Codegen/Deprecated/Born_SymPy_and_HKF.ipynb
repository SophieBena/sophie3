{
 "cells": [
  {
   "cell_type": "markdown",
   "metadata": {},
   "source": [
    "# Born functions in SymPy and HKF"
   ]
  },
  {
   "cell_type": "code",
   "execution_count": null,
   "metadata": {},
   "outputs": [],
   "source": [
    "import sympy as sym\n",
    "sym.init_printing()"
   ]
  },
  {
   "cell_type": "markdown",
   "metadata": {},
   "source": [
    "Define the Born function: $B = - \\frac{1}{\\varepsilon }$  \n",
    "Define: $Q = \\frac{1}{\\varepsilon }{\\left( {\\frac{{\\partial \\ln \\varepsilon }}{{\\partial P}}} \\right)_T}$  and show that $Q = \\frac{{\\partial B}}{{\\partial P}}$  \n",
    "Define: $Y = \\frac{1}{\\varepsilon }{\\left( {\\frac{{\\partial \\ln \\varepsilon }}{{\\partial T}}} \\right)_P}$ and show that $Y = \\frac{{\\partial B}}{{\\partial T}}$  \n",
    "Define: $X = \\frac{1}{\\varepsilon }\\left[ {{{\\left( {\\frac{{{\\partial ^2}\\ln \\varepsilon }}{{\\partial {T^2}}}} \\right)}_P} - \\left( {\\frac{{\\partial \\ln \\varepsilon }}{{\\partial T}}} \\right)_P^2} \\right]$ and show that $X = \\frac{{{\\partial ^2}B}}{{\\partial {T^2}}}$  \n",
    "Define: $N = \\frac{1}{\\varepsilon }\\left[ {{{\\left( {\\frac{{{\\partial ^2}\\ln \\varepsilon }}{{\\partial {P^2}}}} \\right)}_T} - \\left( {\\frac{{\\partial \\ln \\varepsilon }}{{\\partial P}}} \\right)_T^2} \\right]$ and show that $N = \\frac{{{\\partial ^2}B}}{{\\partial {P^2}}}$  \n",
    "Define: $U = \\frac{1}{\\varepsilon }\\left[ {\\left( {\\frac{{{\\partial ^2}\\ln \\varepsilon }}{{\\partial T\\partial P}}} \\right) - {{\\left( {\\frac{{\\partial \\ln \\varepsilon }}{{\\partial T}}} \\right)}_P}{{\\left( {\\frac{{\\partial \\ln \\varepsilon }}{{\\partial P}}} \\right)}_T}} \\right]$   and show that $U = \\frac{{{\\partial ^2}B}}{{\\partial T\\partial P}}$"
   ]
  },
  {
   "cell_type": "markdown",
   "metadata": {},
   "source": [
    "SymPy special function classes"
   ]
  },
  {
   "cell_type": "code",
   "execution_count": null,
   "metadata": {},
   "outputs": [],
   "source": [
    "class X(sym.Function):\n",
    "    nargs = (1, 2)\n",
    "\n",
    "class N(sym.Function):\n",
    "    nargs = (1, 2)\n",
    "\n",
    "class U(sym.Function):\n",
    "    nargs = (1, 2)\n",
    "\n",
    "class Y(sym.Function):\n",
    "    nargs = (1, 2)\n",
    "    \n",
    "    def fdiff(self, argindex=1):\n",
    "        T,P = self.args\n",
    "        if argindex == 1:\n",
    "            return X(T,P)\n",
    "        elif argindex == 2:\n",
    "            return U(T,P)\n",
    "        raise ArgumentIndexError(self, argindex)\n",
    "\n",
    "class Q(sym.Function):\n",
    "    nargs = (1, 2)\n",
    "    \n",
    "    def fdiff(self, argindex=1):\n",
    "        T,P = self.args\n",
    "        if argindex == 1:\n",
    "            return U(T,P)\n",
    "        elif argindex == 2:\n",
    "            return N(T,P)\n",
    "        raise ArgumentIndexError(self, argindex)\n",
    "    \n",
    "class B(sym.Function):\n",
    "    nargs = (1, 2)\n",
    "    \n",
    "    def fdiff(self, argindex=1):\n",
    "        T,P = self.args\n",
    "        if argindex == 1:\n",
    "            return Y(T,P)\n",
    "        elif argindex == 2:\n",
    "            return Q(T,P)\n",
    "        raise ArgumentIndexError(self, argindex)"
   ]
  },
  {
   "cell_type": "code",
   "execution_count": null,
   "metadata": {},
   "outputs": [],
   "source": [
    "from sympy.printing.ccode import C99CodePrinter\n",
    "printer = C99CodePrinter(settings={\"user_functions\":{\"B\":\"B\", \"Q\":\"Q\",\"Y\":\"Y\",\"N\":\"N\",\"X\":\"X\",\"U\":\"U\"}})"
   ]
  },
  {
   "cell_type": "markdown",
   "metadata": {},
   "source": [
    "## HKF - Part III"
   ]
  },
  {
   "cell_type": "markdown",
   "metadata": {},
   "source": [
    "${\\bar v^o} = {a_1} + {a_2}P + \\frac{{\\left( {{a_3} + {a_4}P} \\right)T}}{{T - \\theta }} - \\omega Q$  \n",
    "$\\frac{{\\partial {{\\bar v}^o}}}{{\\partial T}} =  - \\frac{{\\partial {{\\bar s}^o}}}{{\\partial P}}$  \n",
    "$\\bar C_{{P_r}}^o = {c_1} + \\frac{{{c_2}}}{{{{\\left( {T - \\theta } \\right)}^2}}}$"
   ]
  },
  {
   "cell_type": "code",
   "execution_count": null,
   "metadata": {},
   "outputs": [],
   "source": [
    "a1,a2,a3,a4 = sym.symbols('a_1 a_2 a_3 a_4')\n",
    "c1,c2 = sym.symbols('c_1 c_2')\n",
    "omega,theta = sym.symbols('omega theta')\n",
    "T,P,Tr,Pr = sym.symbols('T P T_r P_r')"
   ]
  },
  {
   "cell_type": "code",
   "execution_count": null,
   "metadata": {},
   "outputs": [],
   "source": [
    "vtp = a1 + a2*P + (a3 + a4*P)*T/(T-theta) -omega*Q(T,P)\n",
    "cpr = c1 + c2/(T-theta)**2\n",
    "vtp,cpr"
   ]
  },
  {
   "cell_type": "code",
   "execution_count": null,
   "metadata": {},
   "outputs": [],
   "source": [
    "Href,Sref = sym.symbols('H_ref S_ref')"
   ]
  },
  {
   "cell_type": "code",
   "execution_count": null,
   "metadata": {},
   "outputs": [],
   "source": [
    "spr = Sref + sym.integrate(cpr/T,(T,Tr,T))\n",
    "spr"
   ]
  },
  {
   "cell_type": "code",
   "execution_count": null,
   "metadata": {},
   "outputs": [],
   "source": [
    "gtp = sym.integrate(spr, (T,Tr,T))"
   ]
  },
  {
   "cell_type": "code",
   "execution_count": null,
   "metadata": {},
   "outputs": [],
   "source": [
    "gtp += sym.integrate(a1 + a2*P + (a3 + a4*P)*T/(T-theta),(P,Pr,P)) - omega*(B(T,P) - B(T,Pr))"
   ]
  },
  {
   "cell_type": "code",
   "execution_count": null,
   "metadata": {},
   "outputs": [],
   "source": [
    "gtp"
   ]
  },
  {
   "cell_type": "code",
   "execution_count": null,
   "metadata": {},
   "outputs": [],
   "source": [
    "T*gtp.diff(T,T).subs(P,Pr).simplify().collect(c1)"
   ]
  }
 ],
 "metadata": {
  "kernelspec": {
   "display_name": "Python [default]",
   "language": "python",
   "name": "python3"
  },
  "language_info": {
   "codemirror_mode": {
    "name": "ipython",
    "version": 3
   },
   "file_extension": ".py",
   "mimetype": "text/x-python",
   "name": "python",
   "nbconvert_exporter": "python",
   "pygments_lexer": "ipython3",
   "version": "3.6.5"
  }
 },
 "nbformat": 4,
 "nbformat_minor": 2
}
