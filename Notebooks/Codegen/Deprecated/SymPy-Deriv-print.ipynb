{
 "cells": [
  {
   "cell_type": "code",
   "execution_count": null,
   "metadata": {},
   "outputs": [],
   "source": [
    "import sympy as sym\n",
    "from sympy.printing.ccode import C99CodePrinter\n",
    "from sympy.core.function import UndefinedFunction\n",
    "\n",
    "class SubCodePrinter(C99CodePrinter):\n",
    "    \"\"\"Print derivative of a function of symbols in a shorter form.\n",
    "    \"\"\"\n",
    "    def _print_Derivative(self, expr):\n",
    "        function, *vars = expr.args\n",
    "        number_of_derivatives = len(expr.args) - 1\n",
    "        if function.func.__name__[0:2] == 'mu':\n",
    "            function_string_index = (\n",
    "                int(sym.srepr(function).split(\"'\")[1][2:]) - 1)\n",
    "            if number_of_derivatives == 1:\n",
    "                derivative_string = repr(vars[0][0])\n",
    "                derivative_order  = '' if vars[0][1] == 1 else str(vars[0][1])\n",
    "                result = ('(*endmember[' + str(function_string_index) + '].d' \n",
    "                          + derivative_order + 'mu0d' \n",
    "                          + derivative_string + derivative_order + ')(T, P)')\n",
    "            elif number_of_derivatives == 2:\n",
    "                derivative_string_2 = repr(vars[0][0])\n",
    "                derivative_order_2  = '' if vars[0][1] == 1 else str(vars[0][1])\n",
    "                derivative_string_1 = repr(vars[1][0])\n",
    "                derivative_order_1  = '' if vars[1][1] == 1 else str(vars[1][1])\n",
    "                derivative_total    = str(vars[0][1]+vars[1][1])\n",
    "                result = ('(*endmember[' + str(function_string_index) + '].d' \n",
    "                          + derivative_total + 'mu0d' \n",
    "                          + derivative_string_1 + derivative_order_1 +'d' \n",
    "                          + derivative_string_2 + derivative_order_2 + ')(T, P)')\n",
    "            else:\n",
    "                result = ''\n",
    "        \n",
    "        else:\n",
    "            if (not isinstance(type(function), UndefinedFunction) or \n",
    "                not all(isinstance(i, Symbol) for i in vars)):\n",
    "                return super()._print_Derivative(expr)\n",
    "        return result\n",
    "\n",
    "\n",
    "printer = SubCodePrinter(settings={\"user_functions\":{\"Q\":\"born_Q\"}})\n",
    "\n",
    "T = sym.Symbol(\"T\")\n",
    "P = sym.Symbol(\"P\")\n",
    "f = sym.Function(\"Q\")(T,P)\n",
    "expr = f.diff(T,T,P)\n",
    "\n",
    "# Print the expression using the normal latex printer and our custom\n",
    "# printer.\n",
    "printer.doprint(f)"
   ]
  },
  {
   "cell_type": "code",
   "execution_count": null,
   "metadata": {},
   "outputs": [],
   "source": []
  }
 ],
 "metadata": {
  "kernelspec": {
   "display_name": "Python [conda env:python36]",
   "language": "python",
   "name": "conda-env-python36-py"
  },
  "language_info": {
   "codemirror_mode": {
    "name": "ipython",
    "version": 3
   },
   "file_extension": ".py",
   "mimetype": "text/x-python",
   "name": "python",
   "nbconvert_exporter": "python",
   "pygments_lexer": "ipython3",
   "version": "3.6.5"
  }
 },
 "nbformat": 4,
 "nbformat_minor": 2
}
