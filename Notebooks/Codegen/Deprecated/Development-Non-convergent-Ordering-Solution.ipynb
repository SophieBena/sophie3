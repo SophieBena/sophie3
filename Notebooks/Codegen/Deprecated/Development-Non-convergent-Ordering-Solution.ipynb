{
 "cells": [
  {
   "cell_type": "markdown",
   "metadata": {
    "slideshow": {
     "slide_type": "-"
    }
   },
   "source": [
    "# Solutions with Cation Ordering\n",
    "Generation of configurational entropy (${S^{config}}$) using combinatorics coupled with $n^{th}$-order Taylor expansion of the non-configurational Gibbs free energy (${G^*}$).  The final expression for the Gibbs free energy of solution is given by $G = -{T}{S^{config}} + {G^*}$.  \n",
    "\n",
    "This notebook illustrates construction of this problem using SymPy Python module symbolic mathematics and automatic code generation of C-modules.  \n",
    "\n",
    "Generally, the Taylor expansion of ${G^*}$ is taken to order two (equivalent to regular solution theory) and cation-ordering between symmetrically non-equivalent crystallographic sites is assumed to be non-convergent, i.e. teh random ordering state is not acheived at finite temperature.  Alternately, cation-ordering may be modeled as convergent, inducing a symmetry breaking phase transition at finite temperature, which necessitates Taylor expansion of ${G^*}$ to at least $4^{th}$ order (in ordering parameter) with retention of only even powers of teh ordering variable(s) in the expansion."
   ]
  },
  {
   "cell_type": "code",
   "execution_count": null,
   "metadata": {},
   "outputs": [],
   "source": [
    "import pandas as pd\n",
    "import numpy as np\n",
    "import sympy as sym\n",
    "sym.init_printing()"
   ]
  },
  {
   "cell_type": "markdown",
   "metadata": {},
   "source": [
    "# Solution Properties - Structure of the Equations\n",
    "There are three terms:\n",
    "- Terms describing standard state contributions\n",
    "- Terms describing the configurational entropy of solution\n",
    "- Terms describing the excess enthalpy of solution  \n",
    "\n",
    "Assumptions:\n",
    "- There are $c$ components in the system\n",
    "- There may be more endmember species, $\\sigma$, than there are components, thereby allowing for reciprocal solutions\n",
    "- Cation ordering is permitted, which may be either convergent or non-convergent\n",
    "- The configurational entropy formulation allows for coupled substitution, e.g. molecular mixing\n",
    "- The excess enthalpy is described using a Taylor series expansion in compositional and ordering variables.  The order of the expansion is $\\nu$. "
   ]
  },
  {
   "cell_type": "markdown",
   "metadata": {},
   "source": [
    "### Define temperature and pressure and the universal gas constant units\n",
    "- $T$ is temperature in $K$\n",
    "- $P$ is pressure in $bars$\n",
    "- $R$ is the universal gas constant in $\\frac{J}{{K - mol}}$"
   ]
  },
  {
   "cell_type": "code",
   "execution_count": null,
   "metadata": {},
   "outputs": [],
   "source": [
    "T,P,R = sym.symbols('T P R')"
   ]
  },
  {
   "cell_type": "markdown",
   "metadata": {},
   "source": [
    "# Example for this notebook: pyroxenes\n",
    "## Components\n",
    "Endmembers (8 endmembers): $\\rm{M2}\\rm{M1}\\rm{T}_2\\rm{O}_6$\n",
    "1. ${\\rm{CaMgS}}{{\\rm{i}}_{\\rm{2}}}{{\\rm{O}}_{\\rm{6}}}$\n",
    "2. ${\\rm{CaFeS}}{{\\rm{i}}_{\\rm{2}}}{{\\rm{O}}_{\\rm{6}}}$\n",
    "3. ${\\rm{Ca}}\\left( {{\\rm{M}}{{\\rm{g}}_{{\\rm{1/2}}}}{\\rm{T}}{{\\rm{i}}_{{\\rm{1/2}}}}} \\right){\\rm{AlSi}}{{\\rm{O}}_{\\rm{6}}}$\n",
    "4. ${\\rm{Ca}}\\left( {{\\rm{M}}{{\\rm{g}}_{{\\rm{1/2}}}}{\\rm{T}}{{\\rm{i}}_{{\\rm{1/2}}}}} \\right){\\rm{FeSi}}{{\\rm{O}}_{\\rm{6}}}$\n",
    "5. ${\\rm{CaFeAlSi}}{{\\rm{O}}_{\\rm{6}}}$\n",
    "6. ${\\rm{NaAlS}}{{\\rm{i}}_{\\rm{2}}}{{\\rm{O}}_{\\rm{6}}}$\n",
    "7. ${\\rm{M}}{{\\rm{g}}_2}{\\rm{S}}{{\\rm{i}}_{\\rm{2}}}{{\\rm{O}}_{\\rm{6}}}$\n",
    "8. ${\\rm{CaCrAlSi}}{{\\rm{O}}_{\\rm{6}}}$  "
   ]
  },
  {
   "cell_type": "markdown",
   "metadata": {},
   "source": [
    "## Define number of endmember components"
   ]
  },
  {
   "cell_type": "code",
   "execution_count": null,
   "metadata": {},
   "outputs": [],
   "source": [
    "nc = 8"
   ]
  },
  {
   "cell_type": "markdown",
   "metadata": {},
   "source": [
    "## Independent compositional variables (for pyroxene)\n",
    "\n",
    "#### There are seven independent compositional variables: \n",
    "$r_1$, $r_2$, ... $r_7$, which are taken as equivalent to the mole fractions of ${\\rm{CaFeS}}{{\\rm{i}}_{\\rm{2}}}{{\\rm{O}}_{\\rm{6}}}$, ${\\rm{Ca}}\\left( {{\\rm{M}}{{\\rm{g}}_{{\\rm{1/2}}}}{\\rm{T}}{{\\rm{i}}_{{\\rm{1/2}}}}} \\right){\\rm{AlSi}}{{\\rm{O}}_{\\rm{6}}}$, ... ${\\rm{CaCrAlSi}}{{\\rm{O}}_{\\rm{6}}}$. Therefore the mole fraction of ${\\rm{CaMgS}}{{\\rm{i}}_{\\rm{2}}}{{\\rm{O}}_{\\rm{6}}}$ is calculated as $1-r_1-r_2-r_3-r_4-r_5-r_6-r_7$."
   ]
  },
  {
   "cell_type": "code",
   "execution_count": null,
   "metadata": {},
   "outputs": [],
   "source": [
    "r1, r2, r3, r4, r5, r6, r7 = sym.symbols('r_1 r_2 r_3 r_4 r_5 r_6 r_7')"
   ]
  },
  {
   "cell_type": "markdown",
   "metadata": {},
   "source": [
    "#### There are two ordering variables:\n",
    "- $s_1$, the difference in mole fractions $\\rm{Fe}^{3+}$ and $\\rm{Al}$ on the ***M1*** site\n",
    "- $s_2$, the difference in mole fractions $\\rm{Fe}^{2+}$ and $\\rm{Mg}$ on the ***M2*** site"
   ]
  },
  {
   "cell_type": "code",
   "execution_count": null,
   "metadata": {},
   "outputs": [],
   "source": [
    "ns = 2\n",
    "s1, s2 = sym.symbols('s_1 s_2')"
   ]
  },
  {
   "cell_type": "markdown",
   "metadata": {},
   "source": [
    "#### There are 13 site mole fractions:  \n",
    "$X_{Na}^{M2}$, $X_{Ca}^{M2}$, $X_{Mg}^{M2}$, $X_{{Fe}^{2+}}^{M2}$  \n",
    "$X_{Mg}^{M1}$, $X_{{Fe}^{2+}}^{M1}$, $X_{Al}^{M1}$, $X_{Cr}^{M1}$, $X_{{Fe}^{3+}}^{M1}$, $X_{Ti}^{M1}$  \n",
    "$X_{Al}^{Tet}$, $X_{{Fe}^{3+}}^{Tet}$, $X_{Si}^{Tet}$"
   ]
  },
  {
   "cell_type": "code",
   "execution_count": null,
   "metadata": {},
   "outputs": [],
   "source": [
    "xM2_Mg, xM2_Fe2, xM2_Ca, xM2_Na = sym.symbols('xM2_Mg xM2_Fe2 xM2_Ca xM2_Na')\n",
    "xM1_Mg, xM1_Fe2, xM1_Al, xM1_Cr, xM1_Fe3, xM1_Ti = sym.symbols('xM1_Mg xM1_Fe2 xM1_Al xM1_Cr xM1_Fe3 xM1_Ti')\n",
    "xT_Al, xT_Fe3, xT_Si = sym.symbols('xT_Al xT_Fe3 xT_Si')"
   ]
  },
  {
   "cell_type": "markdown",
   "metadata": {},
   "source": [
    "## Define configurational entropy and configurational Gibbs free energy\n",
    "X,Y are symbols used in testing"
   ]
  },
  {
   "cell_type": "code",
   "execution_count": null,
   "metadata": {},
   "outputs": [],
   "source": [
    "X = sym.Symbol('X', positive=True)\n",
    "Y = sym.Symbol('Y', positive=True)"
   ]
  },
  {
   "cell_type": "markdown",
   "metadata": {},
   "source": [
    "### Configurational entropy - random mixing\n",
    "If there are two cations on site *s*, and their mole fractions on that site are denoted *X* and *Y*, and if there are *c* such sites in the formula unit, then the number of configurations, $\\Omega$, associted with ***random*** mixing of cations on that site is:    \n",
    "$\\Omega  = \\left[ {\\frac{{\\left( {X + Y} \\right)!}}{{X!Y!}}} \\right]$  \n",
    "and the molar configurational entropy conribution associated with these configurations is given by Boltzmann's law: ${{\\hat S}^{conf}} =  R\\log \\Omega$:  \n",
    "${{\\hat S}^{conf}} =  cR\\log \\left[ {\\frac{{\\left( {X + Y} \\right)!}}{{X!Y!}}} \\right]$  \n",
    "Using Stirlings approximation for large factorials, $\\log X! = X\\log X - X$, the configurational entropy can be written:  \n",
    "${{\\hat S}^{conf}} =  cR\\left[ - {X\\log X - Y\\log Y + \\left( {X + Y} \\right)\\log \\left( {X + Y} \\right)} \\right]$  \n",
    "  \n",
    "The following function implements this calculation:"
   ]
  },
  {
   "cell_type": "code",
   "execution_count": null,
   "metadata": {},
   "outputs": [],
   "source": [
    "def Sconf_2cats_random(X, Y):\n",
    "    A = X*sym.log(X) - X\n",
    "    B = Y*sym.log(Y) - Y\n",
    "    ApB = (X+Y)*sym.log(X+Y) - (X+Y)\n",
    "    return ApB -A - B"
   ]
  },
  {
   "cell_type": "markdown",
   "metadata": {},
   "source": [
    "Examples:"
   ]
  },
  {
   "cell_type": "code",
   "execution_count": null,
   "metadata": {},
   "outputs": [],
   "source": [
    "print (\"Case X, Y:   \", R*Sconf_2cats_random(X, Y))\n",
    "print (\"Case X, 1-X: \", R*Sconf_2cats_random(X,1-X))"
   ]
  },
  {
   "cell_type": "markdown",
   "metadata": {},
   "source": [
    "### Multiple cations - random mixing"
   ]
  },
  {
   "cell_type": "code",
   "execution_count": null,
   "metadata": {},
   "outputs": [],
   "source": [
    "def Sconf_3cats_random(X, Y, Z):\n",
    "    if X != 0:\n",
    "        A = X*sym.log(X) - X\n",
    "    else:\n",
    "        A = 0\n",
    "    if Y != 0:\n",
    "        B = Y*sym.log(Y) - Y\n",
    "    else:\n",
    "        B = 0\n",
    "    if Z != 0:\n",
    "        C = Z*sym.log(Z) - Z\n",
    "    else:\n",
    "        C = 0\n",
    "    sum = (X+Y+Z)*sym.log(X+Y+Z) - (X+Y+Z)\n",
    "    return sum - A - B - C"
   ]
  },
  {
   "cell_type": "markdown",
   "metadata": {},
   "source": [
    "### Pyroxene entropy contribution from the tetrahedral sites \n",
    "Sack and Ghiorso (1994a) assume that Si, Al, Fe3+ mix randomly on the tetrahedral sites.  \n",
    "Note that $X_{Si}^{Tet}$ on the tetrahedral site is redundant, and appears implicitely as $1 - X_{Si}^{Tet} = X_{Al}^{Tet} + X_{F{e^{3 + }}}^{Tet}$:"
   ]
  },
  {
   "cell_type": "code",
   "execution_count": null,
   "metadata": {},
   "outputs": [],
   "source": [
    "Sconfig_tet = 2*R*Sconf_3cats_random(xT_Al, xT_Fe3, 0).subs(xT_Al+xT_Fe3,1-xT_Si)\n",
    "Sconfig_tet"
   ]
  },
  {
   "cell_type": "code",
   "execution_count": null,
   "metadata": {},
   "outputs": [],
   "source": [
    "def Sconf_4cats_random(X, Y, Z, W):\n",
    "    if X != 0:\n",
    "        A = X*sym.log(X) - X\n",
    "    else:\n",
    "        A = 0\n",
    "    if Y != 0:\n",
    "        B = Y*sym.log(Y) - Y\n",
    "    else:\n",
    "        B = 0\n",
    "    if Z != 0:\n",
    "        C = Z*sym.log(Z) - Z\n",
    "    else:\n",
    "        C = 0\n",
    "    if W != 0:\n",
    "        D = W*sym.log(W) - W\n",
    "    else:\n",
    "        D = 0\n",
    "    sum = (X+Y+Z+W)*sym.log(X+Y+Z+W) - (X+Y+Z+W)\n",
    "    return sum - A - B - C - D"
   ]
  },
  {
   "cell_type": "markdown",
   "metadata": {},
   "source": [
    "### Pyroxene entropy contribution from the M2 site\n",
    "Sack and Ghiorso (1994a) assume that Ca, Mg, Fe mix randomly on the M2 site.  \n",
    "Note that $X_{Na}^{M2}$ on the 2 site is redundant and appears implicitely as $1 - X_{Na}^{M2} = X_{Ca}^{M2} + X_{Mg}^{M2} + X_{F{e^{2 + }}}^{M2}$:"
   ]
  },
  {
   "cell_type": "code",
   "execution_count": null,
   "metadata": {},
   "outputs": [],
   "source": [
    "Sconfig_M2 = R*Sconf_4cats_random(xM2_Mg, xM2_Fe2, xM2_Ca, 0).subs(xM2_Mg+xM2_Fe2+xM2_Ca, 1-xM2_Na)\n",
    "Sconfig_M2"
   ]
  },
  {
   "cell_type": "markdown",
   "metadata": {},
   "source": [
    "### Configurational entropy - coupled substituion\n",
    "If *X* and *Y* are site mole fractions and there are *c* such sites in the formula unit, then assuming that substition of *X* and *Y* are coupled, the numbet of configurations, $\\Omega$, associted with mixing cations on that site is:  \n",
    "$\\Omega  = {\\left[ {\\frac{{X!}}{{Y!\\left( {X - Y} \\right)!}}} \\right]^c}$  \n",
    "and the configurational entropy conribution associated with these configurations is:  \n",
    "${{\\hat S}^{conf}} =  cR\\log \\left[ {\\frac{{X!}}{{Y!\\left( {X - Y} \\right)!}}} \\right]$  \n",
    "Using Stirlings approximation we have:  \n",
    "${{\\hat S}^{conf}} =  cR\\left[ {X\\log X - Y\\log Y - \\left( {X - Y} \\right)\\log \\left( {X - Y} \\right)} \\right]$  \n",
    "  \n",
    "The following function implements this calculation:"
   ]
  },
  {
   "cell_type": "code",
   "execution_count": null,
   "metadata": {},
   "outputs": [],
   "source": [
    "def Sconf_2cats_coupled(X, Y):\n",
    "    A = X*sym.log(X) - X\n",
    "    B = Y*sym.log(Y) - Y\n",
    "    if A != B:\n",
    "        AmB = (X-Y)*sym.log(X-Y) - (X-Y)\n",
    "    else:\n",
    "        AmB = 0\n",
    "    return A - B - AmB"
   ]
  },
  {
   "cell_type": "markdown",
   "metadata": {},
   "source": [
    "Examples:"
   ]
  },
  {
   "cell_type": "code",
   "execution_count": null,
   "metadata": {},
   "outputs": [],
   "source": [
    "print (\"Case X, Y:       \", R*Sconf_2cats_coupled(X, Y))\n",
    "print (\"Case X, 1-X:     \", R*Sconf_2cats_coupled(X, 1-X))\n",
    "print (\"Case X/2, X/2:   \", R*Sconf_2cats_coupled(X/2, X/2))\n",
    "print (\"Case 1-X/2, X/2: \", R*Sconf_2cats_coupled(1-X/2, X/2))"
   ]
  },
  {
   "cell_type": "markdown",
   "metadata": {},
   "source": [
    "Example: Diopside - Alumino-buffonite join"
   ]
  },
  {
   "cell_type": "code",
   "execution_count": null,
   "metadata": {},
   "outputs": [],
   "source": [
    "R*Sconf_2cats_coupled(xM1_Mg, xM1_Ti).subs([[r1,0],[r3,0],[r4,0],[r5,0],[r6,0],[r7,0],[s2,0]])"
   ]
  },
  {
   "cell_type": "markdown",
   "metadata": {},
   "source": [
    "Example: Diopside - Alumino-buffonite - CaTs"
   ]
  },
  {
   "cell_type": "code",
   "execution_count": null,
   "metadata": {},
   "outputs": [],
   "source": [
    "R*(Sconf_2cats_coupled(xM1_Mg+xM1_Al, xM1_Ti)+Sconf_4cats_random(xM1_Mg-xM1_Ti, xM1_Al, 0, 0))"
   ]
  },
  {
   "cell_type": "markdown",
   "metadata": {},
   "source": [
    "Example: Add Fe2+ to the above"
   ]
  },
  {
   "cell_type": "code",
   "execution_count": null,
   "metadata": {},
   "outputs": [],
   "source": [
    "R*(Sconf_2cats_coupled(xM1_Mg+xM1_Fe2+xM1_Al, xM1_Ti)+Sconf_4cats_random(xM1_Mg+xM1_Fe2-xM1_Ti, xM1_Al, 0, 0))"
   ]
  },
  {
   "cell_type": "markdown",
   "metadata": {},
   "source": [
    "### Pyroxene entropy contribution from the M1 site "
   ]
  },
  {
   "cell_type": "markdown",
   "metadata": {},
   "source": [
    "$X_{Mg}^{M1}$ + $X_{{Fe}^{2+}}^{M1}$ + $X_{Al}^{M1}$ + $X_{Cr}^{M1}$ + $X_{{Fe}^{3+}}^{M1}$ + $X_{Ti}^{M1}$"
   ]
  },
  {
   "cell_type": "code",
   "execution_count": null,
   "metadata": {},
   "outputs": [],
   "source": [
    "Sconfig_M1 = R*(Sconf_2cats_coupled(xM1_Mg+xM1_Fe2+xM1_Al+xM1_Fe3+xM1_Cr, xM1_Ti) + \\\n",
    "   Sconf_4cats_random(xM1_Mg+xM1_Fe2-xM1_Ti, xM1_Al, xM1_Fe3, xM1_Cr) + \\\n",
    "   Sconf_4cats_random(xM1_Mg, xM1_Fe2, 0, 0) \\\n",
    "  ).subs(xM1_Mg+xM1_Fe2+xM1_Al+xM1_Fe3+xM1_Cr,1-xM1_Ti)\n",
    "Sconfig_M1"
   ]
  },
  {
   "cell_type": "markdown",
   "metadata": {},
   "source": [
    "### Pyroxene entropy contribution from the M1 site, entropy reduction due to Na on M2 site\n",
    "Sack and Ghiorso (1994a) model this assuming all Na-endmembers mix as molecular species.  Na on M2 is only associated with Al, Fe3+, Cr and Ti on M1 site.  There is an inconsistency here involving Ti, as Na on M2 with Ti on M1 requires either Al or Fe3+ on the tetrahedral site, and the entriopy on that site is not reduced. "
   ]
  },
  {
   "cell_type": "code",
   "execution_count": null,
   "metadata": {},
   "outputs": [],
   "source": [
    "Sconfig_Na = R*Sconf_2cats_coupled(xM1_Al+xM1_Fe3+xM1_Cr+xM1_Ti, xM2_Na)\n",
    "Sconfig_Na"
   ]
  },
  {
   "cell_type": "markdown",
   "metadata": {},
   "source": [
    "## Molar configurational entropy (pyroxene - from sites)"
   ]
  },
  {
   "cell_type": "code",
   "execution_count": null,
   "metadata": {},
   "outputs": [],
   "source": [
    "S_config = Sconfig_M2 + Sconfig_M1 + Sconfig_tet + Sconfig_Na\n",
    "S_config"
   ]
  },
  {
   "cell_type": "markdown",
   "metadata": {},
   "source": [
    "## Solve for site mole fractions (for pyroxene):  \n",
    "#### Mass balance constraints:\n",
    "- $r_1$ = $X_{{Fe}^{2+}}^{M2}$ + $X_{{Fe}^{2+}}^{M1}$, (${\\rm{CaFeS}}{{\\rm{i}}_{\\rm{2}}}{{\\rm{O}}_{\\rm{6}}}$)\n",
    "- $r_2$ = ($X_{Al}^{M1}$-$X_{{Fe}^{3+}}^{M1}$-$X_{Na}^{M2}$)/2 + ($X_{Al}^{Tet}$-$X_{{Fe}^{3+}}^{Tet}$-$X_{Cr}^{M1}$) + $X_{Ti}^{M1}$, (${\\rm{Ca}}\\left( {{\\rm{M}}{{\\rm{g}}_{{\\rm{1/2}}}}{\\rm{T}}{{\\rm{i}}_{{\\rm{1/2}}}}} \\right){\\rm{AlSi}}{{\\rm{O}}_{\\rm{6}}}$) \n",
    "- $r_3$ = ($X_{{Fe}^{3+}}^{M1}$-$X_{Al}^{M1}$+$X_{Na}^{M2}$)/2 + ($X_{{Fe}^{3+}}^{Tet}$-$X_{Al}^{Tet}$+$X_{Cr}^{M1}$) + $X_{Ti}^{M1}$, (${\\rm{Ca}}\\left( {{\\rm{M}}{{\\rm{g}}_{{\\rm{1/2}}}}{\\rm{T}}{{\\rm{i}}_{{\\rm{1/2}}}}} \\right){\\rm{FeSi}}{{\\rm{O}}_{\\rm{6}}}$)  \n",
    "- $r_4$ = ($X_{Al}^{M1}$+$X_{{Fe}^{3+}}^{M1}$-$X_{Na}^{M2}$)/2 + ($X_{Al}^{Tet}$+$X_{{Fe}^{3+}}^{Tet}$-$X_{Cr}^{M1}$) - $X_{Ti}^{M1}$, (${\\rm{CaFeAlSi}}{{\\rm{O}}_{\\rm{6}}}$)  \n",
    "- $r_5$ = $X_{Na}^{M2}$, (${\\rm{NaAlS}}{{\\rm{i}}_{\\rm{2}}}{{\\rm{O}}_{\\rm{6}}}$)  \n",
    "- $r_6$ = 1 - $X_{Na}^{M2}$ - $X_{Ca}^{M2}$, (${\\rm{M}}{{\\rm{g}}_2}{\\rm{S}}{{\\rm{i}}_{\\rm{2}}}{{\\rm{O}}_{\\rm{6}}}$)  \n",
    "- $r_7$ = $X_{Cr}^{M1}$, (${\\rm{CaCrAlSi}}{{\\rm{O}}_{\\rm{6}}}$)  \n",
    "\n",
    "#### Site balance constraints\n",
    "- $X_{Na}^{M2}$ + $X_{Ca}^{M2}$ + $X_{Mg}^{M2}$ + $X_{{Fe}^{2+}}^{M2}$ = 1  \n",
    "- $X_{Mg}^{M1}$ + $X_{{Fe}^{2+}}^{M1}$ + $X_{Al}^{M1}$ + $X_{Cr}^{M1}$ + $X_{{Fe}^{3+}}^{M1}$ + $X_{Ti}^{M1}$ = 1  \n",
    "- $X_{Al}^{Tet}$ + $X_{{Fe}^{3+}}^{Tet}$ + $X_{Si}^{Tet}$ = 1  \n",
    "\n",
    "#### Charge balance constraints \n",
    "- $X_{Na}^{M2}$ + 2($X_{Ca}^{M2}$ + $X_{Mg}^{M2}$ + $X_{{Fe}^{2+}}^{M2}$ + $X_{Mg}^{M1}$ + $X_{{Fe}^{2+}}^{M1}$) + 3($X_{Al}^{M1}$ + $X_{Cr}^{M1}$ + $X_{{Fe}^{3+}}^{M1}$ + 2$X_{Al}^{Tet}$ + 2$X_{{Fe}^{3+}}^{Tet}$) + 4($X_{Ti}^{M1}$+2$X_{Si}^{Tet}$) = 12  \n",
    "(6 oxygens with a charge of -2; recall that there are 2 tetrahedral sites per formula unit):"
   ]
  },
  {
   "cell_type": "code",
   "execution_count": null,
   "metadata": {},
   "outputs": [],
   "source": [
    "system = [ \\\n",
    "    xM2_Fe2 + xM1_Fe2 - r1, \\\n",
    "    (xM1_Al-xM1_Fe3-xM2_Na)/2 + (xT_Al-xT_Fe3-xM1_Cr/2) + xM1_Ti - r2, \\\n",
    "    (xM1_Fe3-xM1_Al+xM2_Na)/2 + (xT_Fe3-xT_Al+xM1_Cr/2) + xM1_Ti - r3, \\\n",
    "    (xM1_Al+xM1_Fe3-xM2_Na)/2 + (xT_Al+xT_Fe3-xM1_Cr/2) - xM1_Ti - r4, \\\n",
    "    xM2_Na - r5, \\\n",
    "    1 - xM2_Na - xM2_Ca - r6, \\\n",
    "    xM1_Cr - r7, \\\n",
    "    xM1_Fe3 - xM1_Al - s1, \\\n",
    "    xM2_Fe2 - xM2_Mg - s2, \\\n",
    "    xM2_Mg + xM2_Fe2 + xM2_Ca + xM2_Na - 1, \\\n",
    "    xM1_Mg + xM1_Fe2 + xM1_Al + xM1_Cr + xM1_Fe3 + xM1_Ti - 1, \\\n",
    "    xT_Al + xT_Fe3 + xT_Si - 1, \\\n",
    "    xM2_Na + 2*(xM2_Ca+xM2_Mg+xM2_Fe2+xM1_Mg+xM1_Fe2) + 3*(xM1_Fe3+xM1_Al+xM1_Cr+2*xT_Fe3+2*xT_Al) + 4*(xM1_Ti+2*xT_Si) - 12 \n",
    "]"
   ]
  },
  {
   "cell_type": "code",
   "execution_count": null,
   "metadata": {},
   "outputs": [],
   "source": [
    "ans = sym.linsolve(system, xM2_Mg, xM2_Fe2, xM2_Ca, xM2_Na, xM1_Mg, xM1_Fe2, xM1_Al, xM1_Cr, xM1_Fe3, xM1_Ti, xT_Al, xT_Fe3, xT_Si)\n",
    "ans"
   ]
  },
  {
   "cell_type": "code",
   "execution_count": null,
   "metadata": {},
   "outputs": [],
   "source": [
    "replace = [[xM2_Mg,ans.args[0][0]], [xM2_Fe2,ans.args[0][1]], [xM2_Ca,ans.args[0][2]], [xM2_Na,ans.args[0][3]], \\\n",
    "           [xM1_Mg,ans.args[0][4]], [xM1_Fe2,ans.args[0][5]], [xM1_Al,ans.args[0][6]], [xM1_Cr,ans.args[0][7]], \\\n",
    "           [xM1_Fe3,ans.args[0][8]], [xM1_Ti,ans.args[0][9]], [xT_Al,ans.args[0][10]], [xT_Fe3,ans.args[0][11]], \\\n",
    "           [xT_Si,ans.args[0][12]]]\n",
    "replace"
   ]
  },
  {
   "cell_type": "markdown",
   "metadata": {},
   "source": [
    "## Molar configurational Gibbs free energy (pyroxene - from sites)"
   ]
  },
  {
   "cell_type": "code",
   "execution_count": null,
   "metadata": {},
   "outputs": [],
   "source": [
    "G_config = -T*S_config.subs(replace).simplify()\n",
    "G_config"
   ]
  },
  {
   "cell_type": "markdown",
   "metadata": {},
   "source": [
    "# $G^*$ - Non-configurational Gibbs free energy"
   ]
  },
  {
   "cell_type": "markdown",
   "metadata": {},
   "source": [
    "## Define primary extensive compositional variables\n",
    "= $n$ is a vector of mole numbers of each component\n",
    "- $n_T$ is the total number of moles in the solution\n",
    "- $X$ is a vector of mole fractions of components in the system"
   ]
  },
  {
   "cell_type": "code",
   "execution_count": null,
   "metadata": {},
   "outputs": [],
   "source": [
    "component_string = ''\n",
    "for i in range(1,nc+1):\n",
    "    component_string += 'n' + str(i) + ' '\n",
    "n = sym.Matrix(list(sym.symbols(component_string)))\n",
    "nT = (sym.ones(1,nc) * n)[0]\n",
    "X = n/nT\n",
    "nT, X"
   ]
  },
  {
   "cell_type": "markdown",
   "metadata": {},
   "source": [
    "## Map component mole fractions to $r$ vector for later substitution"
   ]
  },
  {
   "cell_type": "code",
   "execution_count": null,
   "metadata": {},
   "outputs": [],
   "source": [
    "r_mapping = [[r1,X[1]], [r2,X[2]], [r3,X[3]], [r4,X[4]], [r5,X[5]], [r6,X[6]], [r7,X[7]]]"
   ]
  },
  {
   "cell_type": "markdown",
   "metadata": {},
   "source": [
    "## Taylor expansion of $G^*$\n",
    "For a second order expansion, the number of Taylor expansion coefficients is:\n",
    "- 1 for $G_{0}$\n",
    "- nc-1 for $G_{r_i}$, $i=1...nc-1$\n",
    "- ns for $G_{s_i}$, $i=1...ns$\n",
    "- (nc-1)(nc-2)/2 for $G_{{r_i},{r_{i+1}}}$, $i= 1...nc-2$\n",
    "- ns(ns-1)/2 for $G_{{s_i},{s_{i+1}}}$, $i= 1...ns-1$\n",
    "- ns(nc-1) for $G_{{r_i},{s_j}}$, $i= 1...nc-1$, $j=1...ns$\n",
    "- nc-1 for $G_{{r_i},{r_i}}$, $i= 1...nc-1$\n",
    "- ns for $G_{{s_i},{s_i}}$, $i= 1...ns$"
   ]
  },
  {
   "cell_type": "code",
   "execution_count": null,
   "metadata": {},
   "outputs": [],
   "source": [
    "var = [r1, r2, r3, r4, r5, r6, r7, s1, s2]\n",
    "taylor_coeff = [sym.symbols('G0')]\n",
    "taylor_terms = [sym.S.One]\n",
    "taylor = taylor_coeff[sym.S.Zero]\n",
    "count = 1\n",
    "for i in range(1,nc):\n",
    "    taylor_coeff.append(sym.symbols('Gr'+str(i)))\n",
    "    taylor += taylor_coeff[count]*var[i-1]\n",
    "    taylor_terms.append(var[i-1])\n",
    "    count += 1\n",
    "for i in range(1,ns+1):\n",
    "    taylor_coeff.append(sym.symbols('Gs'+str(i)))\n",
    "    taylor += taylor_coeff[count]*var[nc-2+i]\n",
    "    taylor_terms.append(var[nc-2+i])\n",
    "    count += 1\n",
    "for i in range(1,nc):\n",
    "    for j in range(i,nc):\n",
    "        taylor_coeff.append(sym.symbols('Grr'+str(i)+str(j)))\n",
    "        taylor += taylor_coeff[count]*var[i-1]*var[j-1]\n",
    "        taylor_terms.append(var[i-1]*var[j-1])\n",
    "        count += 1\n",
    "    for j in range(1,ns+1):\n",
    "        taylor_coeff.append(sym.symbols('Grs'+str(i)+str(j)))\n",
    "        taylor += taylor_coeff[count]*var[i-1]*var[nc-2+j]\n",
    "        taylor_terms.append(var[i-1]*var[nc-2+j])\n",
    "        count += 1\n",
    "for i in range(1,ns+1):\n",
    "    for j in range(i,ns+1):\n",
    "        taylor_coeff.append(sym.symbols('Gss'+str(i)+str(j)))\n",
    "        taylor += taylor_coeff[count]*var[nc-2+i]*var[nc-2+j]\n",
    "        taylor_terms.append(var[nc-2+i]*var[nc-2+j])\n",
    "        count += 1\n",
    "print ('Number of Taylor expansion terms = {0:.0f}'.format(count))\n",
    "taylor"
   ]
  },
  {
   "cell_type": "markdown",
   "metadata": {},
   "source": [
    "### Endmembers in terms of Taylor expansion coefficients\n",
    "1. ${\\rm{CaMgS}}{{\\rm{i}}_{\\rm{2}}}{{\\rm{O}}_{\\rm{6}}}$\n",
    "2. ${\\rm{CaFeS}}{{\\rm{i}}_{\\rm{2}}}{{\\rm{O}}_{\\rm{6}}}$\n",
    "3. ${\\rm{Ca}}\\left( {{\\rm{M}}{{\\rm{g}}_{{\\rm{1/2}}}}{\\rm{T}}{{\\rm{i}}_{{\\rm{1/2}}}}} \\right){\\rm{AlSi}}{{\\rm{O}}_{\\rm{6}}}$\n",
    "4. ${\\rm{Ca}}\\left( {{\\rm{M}}{{\\rm{g}}_{{\\rm{1/2}}}}{\\rm{T}}{{\\rm{i}}_{{\\rm{1/2}}}}} \\right){\\rm{FeSi}}{{\\rm{O}}_{\\rm{6}}}$\n",
    "5. ${\\rm{CaFeAlSi}}{{\\rm{O}}_{\\rm{6}}}$\n",
    "6. ${\\rm{NaAlS}}{{\\rm{i}}_{\\rm{2}}}{{\\rm{O}}_{\\rm{6}}}$\n",
    "7. ${\\rm{M}}{{\\rm{g}}_2}{\\rm{S}}{{\\rm{i}}_{\\rm{2}}}{{\\rm{O}}_{\\rm{6}}}$\n",
    "8. ${\\rm{CaCrAlSi}}{{\\rm{O}}_{\\rm{6}}}$  \n",
    "\n",
    "### There are more endmember species than components:\n",
    "(components are numbered, dependent species are listed below, the list is not exhaustive)  \n",
    "\n",
    "1. ${\\rm{CaMgS}}{{\\rm{i}}_{\\rm{2}}}{{\\rm{O}}_{\\rm{6}}}$\n",
    "2. ${\\rm{CaFeS}}{{\\rm{i}}_{\\rm{2}}}{{\\rm{O}}_{\\rm{6}}}$\n",
    "3. ${\\rm{Ca}}\\left( {{\\rm{M}}{{\\rm{g}}_{{\\rm{1/2}}}}{\\rm{T}}{{\\rm{i}}_{{\\rm{1/2}}}}} \\right){\\rm{AlSi}}{{\\rm{O}}_{\\rm{6}}}$\n",
    "  1. ${\\rm{Mg}}\\left( {{\\rm{M}}{{\\rm{g}}_{{\\rm{1/2}}}}{\\rm{T}}{{\\rm{i}}_{{\\rm{1/2}}}}} \\right){\\rm{AlSi}}{{\\rm{O}}_{\\rm{6}}}$\n",
    "  2. ${\\rm{Fe}}\\left( {{\\rm{M}}{{\\rm{g}}_{{\\rm{1/2}}}}{\\rm{T}}{{\\rm{i}}_{{\\rm{1/2}}}}} \\right){\\rm{AlSi}}{{\\rm{O}}_{\\rm{6}}}$ \n",
    "  3. ${\\rm{Ca}}\\left( {{\\rm{F}}{{\\rm{e}}_{{\\rm{1/2}}}}{\\rm{T}}{{\\rm{i}}_{{\\rm{1/2}}}}} \\right){\\rm{AlSi}}{{\\rm{O}}_{\\rm{6}}}$\n",
    "  4. ${\\rm{Mg}}\\left( {{\\rm{F}}{{\\rm{e}}_{{\\rm{1/2}}}}{\\rm{T}}{{\\rm{i}}_{{\\rm{1/2}}}}} \\right){\\rm{AlSi}}{{\\rm{O}}_{\\rm{6}}}$\n",
    "  5. ${\\rm{Fe}}\\left( {{\\rm{F}}{{\\rm{e}}_{{\\rm{1/2}}}}{\\rm{T}}{{\\rm{i}}_{{\\rm{1/2}}}}} \\right){\\rm{AlSi}}{{\\rm{O}}_{\\rm{6}}}$\n",
    "4. ${\\rm{Ca}}\\left( {{\\rm{M}}{{\\rm{g}}_{{\\rm{1/2}}}}{\\rm{T}}{{\\rm{i}}_{{\\rm{1/2}}}}} \\right){\\rm{FeSi}}{{\\rm{O}}_{\\rm{6}}}$\n",
    "  1. ${\\rm{Mg}}\\left( {{\\rm{M}}{{\\rm{g}}_{{\\rm{1/2}}}}{\\rm{T}}{{\\rm{i}}_{{\\rm{1/2}}}}} \\right){\\rm{FeSi}}{{\\rm{O}}_{\\rm{6}}}$\n",
    "  2. ${\\rm{Fe}}\\left( {{\\rm{M}}{{\\rm{g}}_{{\\rm{1/2}}}}{\\rm{T}}{{\\rm{i}}_{{\\rm{1/2}}}}} \\right){\\rm{FeSi}}{{\\rm{O}}_{\\rm{6}}}$\n",
    "  3. ${\\rm{Ca}}\\left( {{\\rm{F}}{{\\rm{e}}_{{\\rm{1/2}}}}{\\rm{T}}{{\\rm{i}}_{{\\rm{1/2}}}}} \\right){\\rm{FeSi}}{{\\rm{O}}_{\\rm{6}}}$\n",
    "  4. ${\\rm{Mg}}\\left( {{\\rm{F}}{{\\rm{e}}_{{\\rm{1/2}}}}{\\rm{T}}{{\\rm{i}}_{{\\rm{1/2}}}}} \\right){\\rm{FeSi}}{{\\rm{O}}_{\\rm{6}}}$\n",
    "  5. ${\\rm{Fe}}\\left( {{\\rm{F}}{{\\rm{e}}_{{\\rm{1/2}}}}{\\rm{T}}{{\\rm{i}}_{{\\rm{1/2}}}}} \\right){\\rm{FeSi}}{{\\rm{O}}_{\\rm{6}}}$\n",
    "5. ${\\rm{CaFeAlSi}}{{\\rm{O}}_{\\rm{6}}}$\n",
    "  1. ${\\rm{MgFeAlSi}}{{\\rm{O}}_{\\rm{6}}}$\n",
    "  2. ${\\rm{FeFeAlSi}}{{\\rm{O}}_{\\rm{6}}}$\n",
    "  3. ${\\rm{CaAlFeSi}}{{\\rm{O}}_{\\rm{6}}}$\n",
    "  4. ${\\rm{MgAlFeSi}}{{\\rm{O}}_{\\rm{6}}}$\n",
    "  5. ${\\rm{FeAlFeSi}}{{\\rm{O}}_{\\rm{6}}}$\n",
    "  6. ${\\rm{CaAl_2Si}}{{\\rm{O}}_{\\rm{6}}}$\n",
    "  7. ${\\rm{MgAl_2Si}}{{\\rm{O}}_{\\rm{6}}}$\n",
    "  8. ${\\rm{FeAl_2Si}}{{\\rm{O}}_{\\rm{6}}}$\n",
    "  9. ${\\rm{CaFe_2Si}}{{\\rm{O}}_{\\rm{6}}}$\n",
    "  10. ${\\rm{MgFe_2Si}}{{\\rm{O}}_{\\rm{6}}}$\n",
    "  11. ${\\rm{FeFe_2Si}}{{\\rm{O}}_{\\rm{6}}}$\n",
    "6. ${\\rm{NaAlS}}{{\\rm{i}}_{\\rm{2}}}{{\\rm{O}}_{\\rm{6}}}$\n",
    "  1. ${\\rm{NaFeS}}{{\\rm{i}}_{\\rm{2}}}{{\\rm{O}}_{\\rm{6}}}$\n",
    "  2. ${\\rm{NaCrS}}{{\\rm{i}}_{\\rm{2}}}{{\\rm{O}}_{\\rm{6}}}$\n",
    "  3. ${\\rm{NaTiAlSi}}{{\\rm{O}}_{\\rm{6}}}$\n",
    "  4. ${\\rm{NaTiFeSi}}{{\\rm{O}}_{\\rm{6}}}$\n",
    "  5. ${\\rm{Na}}\\left( {{\\rm{M}}{{\\rm{g}}_{{\\rm{1/2}}}}{\\rm{T}}{{\\rm{i}}_{{\\rm{1/2}}}}} \\right){\\rm{Si_2}}{{\\rm{O}}_{\\rm{6}}}$\n",
    "  6. ${\\rm{Na}}\\left( {{\\rm{F}}{{\\rm{e}}_{{\\rm{1/2}}}}{\\rm{T}}{{\\rm{i}}_{{\\rm{1/2}}}}} \\right){\\rm{Si_2}}{{\\rm{O}}_{\\rm{6}}}$\n",
    "7. ${\\rm{M}}{{\\rm{g}}_2}{\\rm{S}}{{\\rm{i}}_{\\rm{2}}}{{\\rm{O}}_{\\rm{6}}}$\n",
    "  1. ${\\rm{Fe}_2}{\\rm{Si}_2}{{\\rm{O}}_{\\rm{6}}}$\n",
    "  2. ${\\rm{MgFe}}{\\rm{Si}_2}{{\\rm{O}}_{\\rm{6}}}$\n",
    "  3. ${\\rm{FeMg}}{\\rm{Si}_2}{{\\rm{O}}_{\\rm{6}}}$\n",
    "8. ${\\rm{CaCrAlSi}}{{\\rm{O}}_{\\rm{6}}}$\n",
    "  1. ${\\rm{MgCrAlSi}}{{\\rm{O}}_{\\rm{6}}}$\n",
    "  2. ${\\rm{FeCrAlSi}}{{\\rm{O}}_{\\rm{6}}}$\n",
    "  3. ${\\rm{CaCrFeSi}}{{\\rm{O}}_{\\rm{6}}}$\n",
    "  4. ${\\rm{MgCrFeSi}}{{\\rm{O}}_{\\rm{6}}}$\n",
    "  5. ${\\rm{FeCrFeSi}}{{\\rm{O}}_{\\rm{6}}}$"
   ]
  },
  {
   "cell_type": "code",
   "execution_count": null,
   "metadata": {},
   "outputs": [],
   "source": [
    "endmembers = [ \\\n",
    "              [[r1,0],[r2,0],[r3,0],[r4,0],[r5,0],[r6,0],[r7,0],[s1, 0],[s2, 0]], \\\n",
    "              [[r1,1],[r2,0],[r3,0],[r4,0],[r5,0],[r6,0],[r7,0],[s1, 0],[s2, 0]], \\\n",
    "              [[r1,0],[r2,1],[r3,0],[r4,0],[r5,0],[r6,0],[r7,0],[s1, 0],[s2, 0]], \\\n",
    "              [[r1,0],[r2,0],[r3,1],[r4,0],[r5,0],[r6,0],[r7,0],[s1, 0],[s2, 0]], \\\n",
    "              [[r1,0],[r2,0],[r3,0],[r4,1],[r5,0],[r6,0],[r7,0],[s1, 1],[s2, 0]], \\\n",
    "              [[r1,0],[r2,0],[r3,0],[r4,0],[r5,1],[r6,0],[r7,0],[s1,-1],[s2, 0]], \\\n",
    "              [[r1,0],[r2,0],[r3,0],[r4,0],[r5,0],[r6,1],[r7,0],[s1, 0],[s2,-1]], \\\n",
    "              [[r1,0],[r2,0],[r3,0],[r4,0],[r5,0],[r6,0],[r7,1],[s1, 0],[s2, 0]] \\\n",
    "             ]\n",
    "species = [ \\\n",
    "    [[r1,  0],[r2, 1],[r3, 0],[r4, 0],[r5, 0],[r6,  1],[r7,  0],[s1, 0],[s2,-1]], # Al-Bf + En - Di \\\n",
    "    [[r1,  1],[r2, 1],[r3, 0],[r4, 0],[r5, 0],[r6,1/2],[r7,  0],[s1, 0],[s2, 1]], # Al-Bf + Hd + 1/2En - 2 Di \\\n",
    "    [[r1,1/2],[r2, 1],[r3, 0],[r4, 0],[r5, 0],[r6,  0],[r7,  0],[s1, 0],[s2, 0]], # Al-Bf + 1/2 Hd - 1/2 Di \\\n",
    "    [[r1,1/2],[r2, 1],[r3, 0],[r4, 0],[r5, 0],[r6,  1],[r7,  0],[s1, 0],[s2,-1]], # Al-Bf + En + 1/2 Hd - 3/2 Di \\\n",
    "    [[r1,3/2],[r2, 1],[r3, 0],[r4, 0],[r5, 0],[r6,  1],[r7,  0],[s1, 0],[s2,-1]], # Al-Bf + 3/2 Hd + En - 5/2 Di \\\n",
    "    [[r1,  0],[r2, 0],[r3, 1],[r4, 0],[r5, 0],[r6,  1],[r7,  0],[s1, 0],[s2,-1]], # Bf + En - Di \\\n",
    "    [[r1,  1],[r2, 0],[r3, 1],[r4, 0],[r5, 0],[r6,1/2],[r7,  0],[s1, 0],[s2, 1]], # Bf + Hd + 1/2 En - 2 Di \\\n",
    "    [[r1,1/2],[r2, 0],[r3, 1],[r4, 0],[r5, 0],[r6,  0],[r7,  0],[s1, 0],[s2, 0]], # Bf + 1/2 Hd - 1/2 Di \\\n",
    "    [[r1,1/2],[r2, 0],[r3, 1],[r4, 0],[r5, 0],[r6,  1],[r7,  0],[s1, 0],[s2,-1]], # Bf + En + 1/2 Hd - 3/2 Di \\\n",
    "    [[r1,3/2],[r2, 0],[r3, 1],[r4, 0],[r5, 0],[r6,  1],[r7,  0],[s1, 0],[s2,-1]], # Bf + 3/2 Hd + En - 5/2 Di \\\n",
    "    [[r1,  0],[r2, 0],[r3, 0],[r4, 1],[r5, 0],[r6,  1],[r7,  0],[s1, 1],[s2,-1]], # Es + En - Di \\\n",
    "    [[r1,  1],[r2, 0],[r3, 0],[r4, 1],[r5, 0],[r6,1/2],[r7,  0],[s1, 1],[s2, 1]], # Es + Hd + 1/2 En - 2 Di \\\n",
    "    [[r1,  0],[r2, 0],[r3, 0],[r4, 1],[r5, 0],[r6,  0],[r7,  0],[s1,-1],[s2, 0]], # Es^ \\\n",
    "    [[r1,  0],[r2, 0],[r3, 0],[r4, 1],[r5, 0],[r6,  1],[r7,  0],[s1,-1],[s2,-1]], # Es^ + En - Di \\\n",
    "    [[r1,  1],[r2, 0],[r3, 0],[r4, 1],[r5, 0],[r6,1/2],[r7,  0],[s1,-1],[s2, 1]], # Es^ + Hd + 1/2 En - 2 Di \\\n",
    "    [[r1,  0],[r2, 1],[r3,-1],[r4, 1],[r5, 0],[r6,  0],[r7,  0],[s1,-1],[s2, 0]], # Es^ + Al-Bf - Bf (CaTs) \\\n",
    "    [[r1,  0],[r2, 1],[r3,-1],[r4, 1],[r5, 0],[r6,  1],[r7,  0],[s1,-1],[s2,-1]], # Es^ + Al-Bf - Bf + En - Di (MaTs) \\\n",
    "    [[r1,  1],[r2, 1],[r3,-1],[r4, 1],[r5, 0],[r6,1/2],[r7,  0],[s1,-1],[s2, 1]], # Es^ + Al-Bf - Bf + Hd + 1/2 En - Di (FaTs) \\\n",
    "    [[r1,  0],[r2,-1],[r3, 1],[r4, 1],[r5, 0],[r6,  0],[r7,  0],[s1, 1],[s2, 0]], # Es^ - Al-Bf + Bf (CaFs) \\\n",
    "    [[r1,  0],[r2,-1],[r3, 1],[r4, 1],[r5, 0],[r6,  1],[r7,  0],[s1, 1],[s2,-1]], # Es^ - Al-Bf + Bf + En - Di (MaFs) \\\n",
    "    [[r1,  1],[r2,-1],[r3, 1],[r4, 1],[r5, 0],[r6,1/2],[r7,  0],[s1, 1],[s2, 1]], # Es^ - Al-Bf + Bf + Hd + 1/2 En - 2 Di (FaFs) \\\n",
    "    [[r1,  0],[r2,-1],[r3, 1],[r4, 0],[r5, 1],[r6,  0],[r7,  0],[s1, 1],[s2, 0]], # Jd + Bf - Al-Bf (Jd with Fe3+) \\\n",
    "    [[r1,  0],[r2,-1],[r3, 1],[r4,-1],[r5, 1],[r6,  0],[r7,  1],[s1, 0],[s2, 0]], # Jd + Cr + Bf - Es^ - Al-Bf (Jd with Fe3+) \\\n",
    "    [[r1,  0],[r2, 1],[r3, 1],[r4,-1],[r5, 1],[r6,  0],[r7,  0],[s1, 0],[s2, 0]], # Jd + Al-Bf + Bf - Es - Di (NaTiAlSiO6) \\\n",
    "    [[r1,  0],[r2, 0],[r3, 2],[r4,-1],[r5, 1],[r6,  0],[r7,  0],[s1, 0],[s2, 0]], # Jd + 2 Bf - Es - Di (NaTiFeSiO6) \\\n",
    "    [[r1,  0],[r2, 0],[r3, 1],[r4,-1],[r5, 1],[r6,  0],[r7,  0],[s1, 0],[s2, 0]], # Jd + Bf - Es (NaMg1/2Ti1/2Si2O6) \\\n",
    "    [[r1,1/2],[r2, 0],[r3, 1],[r4,-1],[r5, 1],[r6,  0],[r7,  0],[s1, 0],[s2, 0]], # Jd + Bf - Es + 1/2 Hd - 1/2 Di (NaFe1/2Ti1/2Si2O6) \\\n",
    "    [[r1,  2],[r2, 0],[r3, 0],[r4, 0],[r5, 0],[r6,  1],[r7,  0],[s1, 0],[s2, 1]], # 2 Hd + En - 2 Di (Fs) \\\n",
    "    [[r1,  1],[r2, 0],[r3, 0],[r4, 0],[r5, 0],[r6,1/2],[r7,  0],[s1, 0],[s2,-1]], # Hd + 1/2 En - Di (MgFe) \\\n",
    "    [[r1,  1],[r2, 0],[r3, 0],[r4, 0],[r5, 0],[r6,1/2],[r7,  0],[s1, 0],[s2, 1]], # Hd + 1/2 En - Di (FeMg) \\\n",
    "    [[r1,  0],[r2, 0],[r3, 0],[r4, 0],[r5, 0],[r6,  1],[r7,  1],[s1, 0],[s2,-1]], # Cr + En - Di (MaCr) \\\n",
    "    [[r1,  1],[r2, 0],[r3, 0],[r4, 0],[r5, 0],[r6,  1],[r7,  1],[s1, 0],[s2, 1]], # Cr + Hd + En - 2Di (FaCr) \\\n",
    "    [[r1,  0],[r2,-1],[r3, 1],[r4, 0],[r5, 0],[r6,  0],[r7,  1],[s1, 0],[s2, 0]], # Cr + Bf - Al-Bf  (CaCrFe3+) \\\n",
    "    [[r1,  0],[r2,-1],[r3, 1],[r4, 0],[r5, 0],[r6,  1],[r7,  1],[s1, 0],[s2,-1]], # Cr + Bf + En - Al-Bf - Di  (MaCrFe3+) \\\n",
    "    [[r1,  1],[r2,-1],[r3, 1],[r4, 0],[r5, 0],[r6,  1],[r7,  1],[s1, 0],[s2, 1]]  # Cr + Bf + Hd + En - Al-Bf - 2 Di  (FaCrFe3+) \\\n",
    "]"
   ]
  },
  {
   "cell_type": "markdown",
   "metadata": {},
   "source": [
    "## Define standard state properties of endmember components and species"
   ]
  },
  {
   "cell_type": "code",
   "execution_count": null,
   "metadata": {},
   "outputs": [],
   "source": [
    "ss_list = []\n",
    "for i in range(1,nc+1):\n",
    "    ss_string = 'mu' + str(i)\n",
    "    ss_list.append(sym.Function(ss_string)(T,P))\n",
    "mu0 = sym.Matrix(ss_list)\n",
    "(Di,Hd,Al_Bf,Bf,Es,Jd,En,Cr) = (0,1,2,3,4,5,6,7)"
   ]
  },
  {
   "cell_type": "code",
   "execution_count": null,
   "metadata": {},
   "outputs": [],
   "source": [
    "Delta_3A,Delta_3B,Delta_3C,Delta_3D,Delta_3E = sym.symbols('Delta_3A Delta_3B Delta_3C Delta_3D Delta_3E')\n",
    "Delta_4A,Delta_4B,Delta_4C,Delta_4D,Delta_4E = sym.symbols('Delta_4A Delta_4B Delta_4C Delta_4D Delta_4E')\n",
    "Delta_5A,Delta_5B,Delta_5C,Delta_5D,Delta_5E = sym.symbols('Delta_5A Delta_5B Delta_5C Delta_5D Delta_5E')\n",
    "Delta_5F,Delta_5G,Delta_5H,Delta_5I,Delta_5J,Delta_5K = sym.symbols('Delta_5F Delta_5G Delta_5H Delta_5I Delta_5J Delta_5K')\n",
    "Delta_6A,Delta_6B,Delta_6C,Delta_6D,Delta_6E,Delta_6F = sym.symbols('Delta_6A Delta_6B Delta_6C Delta_6D Delta_6E Delta_6F')\n",
    "Delta_7A,Delta_7B,Delta_7C = sym.symbols('Delta_7A Delta_7B Delta_7C')\n",
    "Delta_8A,Delta_8B,Delta_8C,Delta_8D,Delta_8E = sym.symbols('Delta_8A Delta_8B Delta_8C Delta_8D Delta_8E')\n",
    "species_mu0 = [ \\\n",
    "    Delta_3A + mu0[Al_Bf]+mu0[En]-mu0[Di],                             # Al-Bf + En - Di \\\n",
    "    Delta_3B + mu0[Al_Bf]+mu0[Hd]+mu0[En]/2-2*mu0[Di],                 # Al-Bf + Hd + 1/2 En - 2 Di \\\n",
    "    Delta_3C + mu0[Al_Bf]+mu0[Hd]/2-mu0[Di]/2,                         # Al-Bf + 1/2 Hd - 1/2 Di \\\n",
    "    Delta_3D + mu0[Al_Bf]+mu0[En]+mu0[Hd]/2-3*mu0[Di]/2,               # Al-Bf + En + 1/2 Hd - 3/2 Di \\\n",
    "    Delta_3E + mu0[Al_Bf]+mu0[En]+3*mu0[Hd]/2-5*mu0[Di]/2,             # Al-Bf + 3/2 Hd + En - 5/2 Di \\\n",
    "    Delta_4A + mu0[Bf]+mu0[En]-mu0[Di],                                # Bf + En - Di \\\n",
    "    Delta_4B + mu0[Bf]+mu0[Hd]+mu0[En]/2-2*mu0[Di],                    # Bf + Hd + 1/2 En - 2 Di \\\n",
    "    Delta_4C + mu0[Bf]+mu0[Hd]/2-mu0[Di]/2,                            # Bf + 1/2 Hd - 1/2 Di \\\n",
    "    Delta_4D + mu0[Bf]+mu0[En]+mu0[Hd]/2-3*mu0[Di]/2,                  # Bf + En + 1/2 Hd - 3/2 Di \\\n",
    "    Delta_4E + mu0[Bf]+mu0[En]+3*mu0[Hd]/2-5*mu0[Di]/2,                # Bf + 3/2 Hd + En - 5/2 Di \\\n",
    "    Delta_5A + mu0[Es]+mu0[En]-mu0[Di],                                # Es + En - Di \\\n",
    "    Delta_5B + mu0[Es]+mu0[Hd]+mu0[En]/2-2*mu0[Di],                    # Es + Hd + 1/2 En - 2 Di \\\n",
    "    Delta_5C + mu0[Es],                                                # Es^ \\\n",
    "    Delta_5D + mu0[Es]+mu0[En]-mu0[Di],                                # Es^ + En - Di \\\n",
    "    Delta_5E + mu0[Es]+mu0[Hd]+mu0[En]/2-2*mu0[Di],                    # Es^ + Hd + 1/2 En - 2 Di \\\n",
    "    Delta_5F + mu0[Es]+mu0[Al_Bf]-mu0[Bf],                             # Es^ + Al-Bf - Bf (CaTs) \\\n",
    "    Delta_5G + mu0[Es]+mu0[Al_Bf]-mu0[Bf]+mu0[En]-mu0[Di],             # Es^ + Al-Bf - Bf + En - Di (MaTs) \\\n",
    "    Delta_5H + mu0[Es]+mu0[Al_Bf]-mu0[Bf]+mu0[Hd]+mu0[En]/2-mu0[Di],   # Es^ + Al-Bf - Bf + Hd + 1/2 En - Di (FaTs) \\\n",
    "    Delta_5I + mu0[Es]-mu0[Al_Bf]+mu0[Bf],                             # Es^ - Al-Bf + Bf (CaFs) \\\n",
    "    Delta_5J + mu0[Es]-mu0[Al_Bf]+mu0[Bf]+mu0[En]-mu0[Di],             # Es^ - Al-Bf + Bf + En - Di (MaFs) \\\n",
    "    Delta_5K + mu0[Es]-mu0[Al_Bf]+mu0[Bf]+mu0[Hd]+mu0[En]/2-2*mu0[Di], # Es^ - Al-Bf + Bf + Hd + 1/2 En - 2 Di (FaFs) \\\n",
    "    Delta_6A + mu0[Jd]-mu0[Al_Bf]+mu0[Bf],                             # Jd + Bf - Al-Bf (Jd with Fe3+) \\\n",
    "    Delta_6B + mu0[Jd]+mu0[Cr]+mu0[Bf]-mu0[Al_Bf]-mu0[Es],             # Jd + Cr + Bf - Es^ - Al-Bf (Jd with Fe3+) \\\n",
    "    Delta_6C + mu0[Jd]+mu0[Al_Bf]+mu0[Bf]-mu0[Es]-mu0[Di],             # Jd + Al-Bf + Bf - Es - Di (NaTiAlSiO6) \\\n",
    "    Delta_6D + mu0[Jd]+2*mu0[Bf]-mu0[Es]-mu0[Di],                      # Jd + 2 Bf - Es - Di (NaTiFeSiO6) \\\n",
    "    Delta_6E + mu0[Jd]+mu0[Bf]-mu0[Es],                                # Jd + Bf - Es (NaMg1/2Ti1/2Si2O6) \\\n",
    "    Delta_6F + mu0[Jd]+mu0[Bf]-mu0[Es]+mu0[Hd]/2-mu0[Di]/2,            # Jd + Bf - Es + 1/2 Hd - 1/2 Di (NaFe1/2Ti1/2Si2O6) \\\n",
    "    Delta_7A + 2*mu0[Hd]+mu0[En]-2*mu0[Di],                            # 2 Hd + En - 2 Di (Fs) \\\n",
    "    Delta_7B + mu0[Hd]+mu0[En]/2-mu0[Di],                              # Hd + 1/2 En - Di (Fs) \\\n",
    "    Delta_7C + mu0[Hd]+mu0[En]/2-mu0[Di],                              # Hd + 1/2 En - Di (Fs) \\\n",
    "    Delta_8A + mu0[Cr]+mu0[En]-mu0[Di],                                # Cr + En - Di (MaCr) \\\n",
    "    Delta_8B + mu0[Cr]+mu0[Hd]+mu0[En]-2*mu0[Di],                      # Cr + Hd + En - 2Di (FaCr) \\\n",
    "    Delta_8C + mu0[Cr]+mu0[Bf]-mu0[Al_Bf],                             # Cr + Bf - Al-Bf  (CaCrFe3+) \\\n",
    "    Delta_8D + mu0[Cr]+mu0[Bf]+mu0[En]-mu0[Al_Bf]-mu0[Di],             # Cr + Bf + En - Al-Bf - Di  (MaCrFe3+) \\\n",
    "    Delta_8E + mu0[Cr]+mu0[Bf]+mu0[Hd]+mu0[En]-mu0[Al_Bf]-2*mu0[Di]    # Cr + Bf + Hd + En - Al-Bf - 2 Di  (FaCrFe3+) \\\n",
    "]"
   ]
  },
  {
   "cell_type": "markdown",
   "metadata": {},
   "source": [
    "## Construct a matrix to map Taylor expansion coefficients to physical variables \n",
    "The variable *taylor_m* will contain a list of lists of rows; each row is of length 55, equal to the number of Taylor expansion coefficients. The first 8 rows are defined, one for each standard state component property.  The varible *taylor_b* hold the result, in this case the standard state chemical potential. The coefficients in the matrix are the multipliers of the Taylor expansion coefficients."
   ]
  },
  {
   "cell_type": "code",
   "execution_count": null,
   "metadata": {},
   "outputs": [],
   "source": [
    "count = 0\n",
    "taylor_m = []\n",
    "taylor_b = []\n",
    "for y in endmembers[:]:\n",
    "    row = [sym.S.One]\n",
    "    for x in taylor_terms[1:]:\n",
    "        row.append(x.subs(y))\n",
    "    taylor_m.append(row)\n",
    "    taylor_b.append(mu0[count])\n",
    "    count += 1"
   ]
  },
  {
   "cell_type": "code",
   "execution_count": null,
   "metadata": {},
   "outputs": [],
   "source": [
    "#sym.Matrix(taylor_m)"
   ]
  },
  {
   "cell_type": "code",
   "execution_count": null,
   "metadata": {},
   "outputs": [],
   "source": [
    "#taylor_b"
   ]
  },
  {
   "cell_type": "markdown",
   "metadata": {},
   "source": [
    "Add species terms"
   ]
  },
  {
   "cell_type": "code",
   "execution_count": null,
   "metadata": {},
   "outputs": [],
   "source": [
    "count = 0\n",
    "for y in species[:]:\n",
    "    row = [sym.S.One]\n",
    "    for x in taylor_terms[1:]:\n",
    "        row.append(x.subs(y))\n",
    "    taylor_m.append(row)\n",
    "    taylor_b.append(species_mu0[count])\n",
    "    count += 1"
   ]
  },
  {
   "cell_type": "code",
   "execution_count": null,
   "metadata": {},
   "outputs": [],
   "source": [
    "#sym.Matrix(taylor_m)"
   ]
  },
  {
   "cell_type": "code",
   "execution_count": null,
   "metadata": {},
   "outputs": [],
   "source": [
    "#taylor_b"
   ]
  },
  {
   "cell_type": "markdown",
   "metadata": {},
   "source": [
    "Evaluate the rank and nullspace of this matrix"
   ]
  },
  {
   "cell_type": "code",
   "execution_count": null,
   "metadata": {},
   "outputs": [],
   "source": [
    "print ('There are {0} rows in the endmembers+species constraint matrix'.format(len(taylor_b)))\n",
    "G_range_space_matrix = sym.Matrix(taylor_m)\n",
    "G_null_space_matrix = G_range_space_matrix.nullspace()\n",
    "ns_rank = len(G_null_space_matrix)\n",
    "print ('There are {0} columns in the null space of Taylor expansion coefficients for the intra-site parameters.'.format(ns_rank))\n",
    "print ('The null space vectors are:')\n",
    "for i in range(0,ns_rank):\n",
    "    constraint = sym.S.Zero\n",
    "    col = G_null_space_matrix[i]\n",
    "    for j in range(0,len(col)):\n",
    "        if col[j] != 0:\n",
    "            constraint += sym.nsimplify(col[j])*taylor_coeff[j]\n",
    "    display(constraint)"
   ]
  },
  {
   "cell_type": "markdown",
   "metadata": {},
   "source": [
    "## Next, construct the binary interaction terms\n",
    "#### There are a number of ways to do this step ...\n",
    "Number of endmembers is the number of components + the number of ordering parameters, since some components can exist in multiple ordering states, e.g. ${\\rm{CaFeAlSi}}{{\\rm{O}}_{\\rm{6}}}$ and ${\\rm{CaAlFeSi}}{{\\rm{O}}_{\\rm{6}}}$ for $s_1$ and ${\\rm{FeMgS}}{{\\rm{i}}_{\\rm{2}}}{{\\rm{O}}_{\\rm{6}}}$ and ${\\rm{MgFeS}}{{\\rm{i}}_{\\rm{2}}}{{\\rm{O}}_{\\rm{6}}}$ for $s_2$"
   ]
  },
  {
   "cell_type": "code",
   "execution_count": null,
   "metadata": {},
   "outputs": [],
   "source": [
    "ne = nc + ns\n",
    "print ('There are {0:.0f} stndard state properties.'.format(ne))"
   ]
  },
  {
   "cell_type": "code",
   "execution_count": null,
   "metadata": {},
   "outputs": [],
   "source": [
    "nt = 1 + nc - 1 + ns + (nc-1)*(nc-2)/2 + ns*(ns-1)/2 + ns*(nc-1) + nc-1 + ns\n",
    "print ('Number of Taylor expansion coefficients for a second order expansion is {0:.0f}.'.format(nt))"
   ]
  },
  {
   "cell_type": "markdown",
   "metadata": {},
   "source": [
    "#### One method is to define strictly regular solution terms (including interactions with ordering endmembers):"
   ]
  },
  {
   "cell_type": "code",
   "execution_count": null,
   "metadata": {},
   "outputs": [],
   "source": [
    "nw = ne*(ne-1)/2\n",
    "print ('For a strictly regular solution this yields {0:.0f} cofficients + {1:.0f} compositional/ordering endmembers.'.format(nw, ne))"
   ]
  },
  {
   "cell_type": "markdown",
   "metadata": {},
   "source": [
    "#### A better method is to isolate intra-site interactions from inter-site interactions ...\n",
    "## Intra-site terms"
   ]
  },
  {
   "cell_type": "markdown",
   "metadata": {},
   "source": [
    "It is useful to define interaction terms isolated to a per site basis.  \n",
    "We have 4 M2 sites: $X_{Na}^{M2}$, $X_{Ca}^{M2}$, $X_{Mg}^{M2}$, $X_{{Fe}^{2+}}^{M2}$  \n",
    "We have 6 M1 sites: $X_{Mg}^{M1}$, $X_{{Fe}^{2+}}^{M1}$, $X_{Al}^{M1}$, $X_{Cr}^{M1}$, $X_{{Fe}^{3+}}^{M1}$, $X_{Ti}^{M1}$  \n",
    "We have 3 tetrahedral sites: $X_{Al}^{Tet}$, $X_{{Fe}^{3+}}^{Tet}$, $X_{Si}^{Tet}$  "
   ]
  },
  {
   "cell_type": "code",
   "execution_count": null,
   "metadata": {},
   "outputs": [],
   "source": [
    "ni = 4*(4-1)/2 + 6*(6-1)/2 + 3*(3-1)/2\n",
    "print ('So, the total number of intrasite W interaction parameters is: {0:.0f}'.format(ni))\n",
    "print ('And the number of cross-site interaction terms is: {0:.0f}'.format(nw-ni))"
   ]
  },
  {
   "cell_type": "markdown",
   "metadata": {},
   "source": [
    "### Intra-site Parameter symbols\n",
    "Regular solution interaction terms between cations on each site"
   ]
  },
  {
   "cell_type": "code",
   "execution_count": null,
   "metadata": {},
   "outputs": [],
   "source": [
    "wM2_Na_Ca, wM2_Na_Mg, wM2_Na_Fe2, wM2_Ca_Mg, wM2_Ca_Fe2, wM2_Mg_Fe2 \\\n",
    "= sym.symbols('wM2_Na_Ca wM2_Na_Mg wM2_Na_Fe2 wM2_Ca_Mg wM2_Ca_Fe2 wM2_Mg_Fe2')\n",
    "wM1_Mg_Fe2, wM1_Mg_Al, wM1_Mg_Cr, wM1_Mg_Fe3, wM1_Mg_Ti, wM1_Fe2_Al, wM1_Fe2_Cr, wM1_Fe2_Fe3, wM1_Fe2_Ti, \\\n",
    "wM1_Al_Cr, wM1_Al_Fe3, wM1_Al_Ti, wM1_Cr_Fe3, wM1_Cr_Ti, wM1_Fe3_Ti \\\n",
    "= sym.symbols('wM1_Mg_Fe2 wM1_Mg_Al wM1_Mg_Cr wM1_Mg_Fe3 wM1_Mg_Ti wM1_Fe2_Al wM1_Fe2_Cr wM1_Fe2_Fe3 wM1_Fe_Ti \\\n",
    "wM1_Al_Cr wM1_Al_Fe3 wM1_Al_Ti wM1_Cr_Fe3 wM1_Cr_Ti wM1_Fe3_Ti')\n",
    "wT_Al_Fe3, wT_Al_Si, wT_Fe3_Si = sym.symbols('wT_Al_Fe3 wT_Al_Si wT_Fe3_Si')"
   ]
  },
  {
   "cell_type": "markdown",
   "metadata": {},
   "source": [
    "### Intra-site Terms and Energetic contributions"
   ]
  },
  {
   "cell_type": "code",
   "execution_count": null,
   "metadata": {},
   "outputs": [],
   "source": [
    "intra_site_terms = [[xM2_Na,xM2_Ca], [xM2_Na,xM2_Mg], [xM2_Na,xM2_Fe2], [xM2_Ca,xM2_Mg], [xM2_Ca,xM2_Fe2], [xM2_Mg,xM2_Fe2], \\\n",
    "                    [xM1_Mg,xM1_Fe2], [xM1_Mg,xM1_Al], [xM1_Mg,xM1_Cr], [xM1_Mg,xM1_Fe3], [xM1_Mg,xM1_Ti], [xM1_Fe2,xM1_Al], [xM1_Fe2,xM1_Cr], [xM1_Fe2,xM1_Fe3], \\\n",
    "                    [xM1_Fe2,xM1_Ti], [xM1_Al,xM1_Cr], [xM1_Al,xM1_Fe3], [xM1_Al,xM1_Ti], [xM1_Cr,xM1_Fe3],  [xM1_Cr,xM1_Ti], [xM1_Fe3,xM1_Ti], \\\n",
    "                    [xT_Al,xT_Fe3], [xT_Al,xT_Si], [xT_Fe3,xT_Si]]\n",
    "intra_site_coeff = [wM2_Na_Ca, wM2_Na_Mg, wM2_Na_Fe2, wM2_Ca_Mg, wM2_Ca_Fe2, wM2_Mg_Fe2, wM1_Mg_Fe2, wM1_Mg_Al, \\\n",
    "                    wM1_Mg_Cr, wM1_Mg_Fe3, wM1_Mg_Ti, wM1_Fe2_Al, wM1_Fe2_Cr, wM1_Fe2_Fe3, wM1_Fe2_Ti, wM1_Al_Cr, \\\n",
    "                    wM1_Al_Fe3, wM1_Al_Ti, wM1_Cr_Fe3, wM1_Cr_Ti, wM1_Fe3_Ti, wT_Al_Fe3, wT_Al_Si, wT_Fe3_Si]\n",
    "w = replace\n",
    "intra_site_defns = [[xM2_Na.subs(w)-1/2, xM2_Ca.subs(w)-1/2, xM2_Mg.subs(w),     xM2_Fe2.subs(w)    ],\n",
    "                    [xM2_Na.subs(w)-1/2, xM2_Ca.subs(w),     xM2_Mg.subs(w)-1/2, xM2_Fe2.subs(w)    ],\n",
    "                    [xM2_Na.subs(w)-1/2, xM2_Ca.subs(w),     xM2_Mg.subs(w),     xM2_Fe2.subs(w)-1/2],\n",
    "                    [xM2_Na.subs(w),     xM2_Ca.subs(w)-1/2, xM2_Mg.subs(w)-1/2, xM2_Fe2.subs(w)    ],\n",
    "                    [xM2_Na.subs(w),     xM2_Ca.subs(w)-1/2, xM2_Mg.subs(w),     xM2_Fe2.subs(w)-1/2],\n",
    "                    [xM2_Na.subs(w),     xM2_Ca.subs(w),     xM2_Mg.subs(w)-1/2, xM2_Fe2.subs(w)-1/2],\n",
    "                    [xM1_Mg.subs(w)-1/2, xM1_Fe2.subs(w)-1/2, xM1_Al.subs(w),     xM1_Cr.subs(w),     xM1_Fe3.subs(w),     xM1_Ti.subs(w)    ],\n",
    "                    [xM1_Mg.subs(w)-1/2, xM1_Fe2.subs(w),     xM1_Al.subs(w)-1/2, xM1_Cr.subs(w),     xM1_Fe3.subs(w),     xM1_Ti.subs(w)    ],\n",
    "                    [xM1_Mg.subs(w)-1/2, xM1_Fe2.subs(w),     xM1_Al.subs(w),     xM1_Cr.subs(w)-1/2, xM1_Fe3.subs(w),     xM1_Ti.subs(w)    ],\n",
    "                    [xM1_Mg.subs(w)-1/2, xM1_Fe2.subs(w),     xM1_Al.subs(w),     xM1_Cr.subs(w),     xM1_Fe3.subs(w)-1/2, xM1_Ti.subs(w)    ],\n",
    "                    [xM1_Mg.subs(w)-1/2, xM1_Fe2.subs(w),     xM1_Al.subs(w),     xM1_Cr.subs(w),     xM1_Fe3.subs(w),     xM1_Ti.subs(w)-1/2],\n",
    "                    [xM1_Mg.subs(w)    , xM1_Fe2.subs(w)-1/2, xM1_Al.subs(w)-1/2, xM1_Cr.subs(w),     xM1_Fe3.subs(w),     xM1_Ti.subs(w)    ],\n",
    "                    [xM1_Mg.subs(w)    , xM1_Fe2.subs(w)-1/2, xM1_Al.subs(w),     xM1_Cr.subs(w)-1/2, xM1_Fe3.subs(w),     xM1_Ti.subs(w)    ],\n",
    "                    [xM1_Mg.subs(w)    , xM1_Fe2.subs(w)-1/2, xM1_Al.subs(w),     xM1_Cr.subs(w),     xM1_Fe3.subs(w)-1/2, xM1_Ti.subs(w)    ],\n",
    "                    [xM1_Mg.subs(w)    , xM1_Fe2.subs(w)-1/2, xM1_Al.subs(w),     xM1_Cr.subs(w),     xM1_Fe3.subs(w),     xM1_Ti.subs(w)-1/2],\n",
    "                    [xM1_Mg.subs(w)    , xM1_Fe2.subs(w)    , xM1_Al.subs(w)-1/2, xM1_Cr.subs(w)-1/2, xM1_Fe3.subs(w),     xM1_Ti.subs(w)    ],\n",
    "                    [xM1_Mg.subs(w)    , xM1_Fe2.subs(w)    , xM1_Al.subs(w)-1/2, xM1_Cr.subs(w),     xM1_Fe3.subs(w)-1/2, xM1_Ti.subs(w)    ],\n",
    "                    [xM1_Mg.subs(w)    , xM1_Fe2.subs(w)    , xM1_Al.subs(w)-1/2, xM1_Cr.subs(w),     xM1_Fe3.subs(w),     xM1_Ti.subs(w)-1/2],\n",
    "                    [xM1_Mg.subs(w)    , xM1_Fe2.subs(w)    , xM1_Al.subs(w),     xM1_Cr.subs(w)-1/2, xM1_Fe3.subs(w)-1/2, xM1_Ti.subs(w)    ],\n",
    "                    [xM1_Mg.subs(w)    , xM1_Fe2.subs(w)    , xM1_Al.subs(w),     xM1_Cr.subs(w)-1/2, xM1_Fe3.subs(w),     xM1_Ti.subs(w)-1/2],\n",
    "                    [xM1_Mg.subs(w)    , xM1_Fe2.subs(w)    , xM1_Al.subs(w),     xM1_Cr.subs(w),     xM1_Fe3.subs(w)-1/2, xM1_Ti.subs(w)-1/2],\n",
    "                    [xT_Al.subs(w)-1/4, xT_Fe3.subs(w)-1/4, xT_Si.subs(w)-1/2],\n",
    "                    [xT_Al.subs(w)-1/4, xT_Fe3.subs(w),     xT_Si.subs(w)-3/4],\n",
    "                    [xT_Al.subs(w),     xT_Fe3.subs(w)-1/4, xT_Si.subs(w)-3/4]\n",
    "                   ]\n",
    "print (len(intra_site_terms), len(intra_site_coeff))"
   ]
  },
  {
   "cell_type": "code",
   "execution_count": null,
   "metadata": {},
   "outputs": [],
   "source": [
    "for x in intra_site_defns[21:]:\n",
    "    x.append(r1)\n",
    "    x.append(r5)\n",
    "    x.append(r6)\n",
    "    display(sym.linsolve(x,r1,r2,r3,r4,r5,r6,r7,s1,s2).args[0])"
   ]
  },
  {
   "cell_type": "markdown",
   "metadata": {},
   "source": [
    "### Add intrasite terms to the matrix that maps Taylor expansion coefficients to physical variables"
   ]
  },
  {
   "cell_type": "code",
   "execution_count": null,
   "metadata": {},
   "outputs": [],
   "source": [
    "count = 0\n",
    "for x in intra_site_terms[:]:\n",
    "    print(x.subs(replace))\n",
    "    p = sym.Poly(x.subs(replace), r1, r2, r3, r4, r5, r6, r7, s1, s2)\n",
    "    row = [p.coeff_monomial(sym.S.One)]\n",
    "    for i in range(1,nc):\n",
    "        row.append(p.coeff_monomial(var[i-1]))\n",
    "    for i in range(1,ns+1):\n",
    "        row.append(p.coeff_monomial(var[nc-2+i]))\n",
    "    for i in range(1,nc):\n",
    "        for j in range(i,nc):\n",
    "            row.append(p.coeff_monomial(var[i-1]*var[j-1]))\n",
    "        for j in range(1,ns+1):\n",
    "            row.append(p.coeff_monomial(var[i-1]*var[nc-2+j]))\n",
    "    for i in range(1,ns+1):\n",
    "        for j in range(i,ns+1):\n",
    "            row.append(p.coeff_monomial(var[nc-2+i]*var[nc-2+j]))\n",
    "    taylor_m.append(row)\n",
    "    taylor_b.append(intra_site_coeff[count])\n",
    "    count += 1\n",
    "sym.Matrix(taylor_m)"
   ]
  },
  {
   "cell_type": "code",
   "execution_count": null,
   "metadata": {},
   "outputs": [],
   "source": [
    "sym.Matrix(taylor_b)"
   ]
  },
  {
   "cell_type": "markdown",
   "metadata": {},
   "source": [
    "### Total intra-site non-configurational Gibbs Free energy"
   ]
  },
  {
   "cell_type": "code",
   "execution_count": null,
   "metadata": {},
   "outputs": [],
   "source": [
    "G_intra_site = sym.S.Zero\n",
    "count = 0\n",
    "for x in intra_site_terms[:]:\n",
    "    G_intra_site += intra_site_coeff[count]*x[0]*x[1]\n",
    "    count += 1\n",
    "G_intra_site"
   ]
  },
  {
   "cell_type": "markdown",
   "metadata": {},
   "source": [
    "#### Intra-site Gibbs energies for the endmembers"
   ]
  },
  {
   "cell_type": "code",
   "execution_count": null,
   "metadata": {},
   "outputs": [],
   "source": [
    "print ('Di, Hd, Al-Bf, Bf, Es, Jd, En, Cr')\n",
    "display(G_intra_site.subs(replace).subs([[r1,0],[r2,0],[r3,0],[r4,0],[r5,0],[r6,0],[r7,0],[s1, 0],[s2, 0]]))\n",
    "display(G_intra_site.subs(replace).subs([[r1,1],[r2,0],[r3,0],[r4,0],[r5,0],[r6,0],[r7,0],[s1, 0],[s2, 0]]))\n",
    "display(G_intra_site.subs(replace).subs([[r1,0],[r2,1],[r3,0],[r4,0],[r5,0],[r6,0],[r7,0],[s1, 0],[s2, 0]]))\n",
    "display(G_intra_site.subs(replace).subs([[r1,0],[r2,0],[r3,1],[r4,0],[r5,0],[r6,0],[r7,0],[s1, 0],[s2, 0]]))\n",
    "display(G_intra_site.subs(replace).subs([[r1,0],[r2,0],[r3,0],[r4,1],[r5,0],[r6,0],[r7,0],[s1, 1],[s2, 0]]))\n",
    "display(G_intra_site.subs(replace).subs([[r1,0],[r2,0],[r3,0],[r4,0],[r5,1],[r6,0],[r7,0],[s1,-1],[s2, 0]]))\n",
    "display(G_intra_site.subs(replace).subs([[r1,0],[r2,0],[r3,0],[r4,0],[r5,0],[r6,1],[r7,0],[s1, 0],[s2,-1]]))\n",
    "display(G_intra_site.subs(replace).subs([[r1,0],[r2,0],[r3,0],[r4,0],[r5,0],[r6,0],[r7,1],[s1, 0],[s2, 0]]))\n",
    "print ('anti-Es, Fs, FeMgSi2O6, MgFeSi2O6')\n",
    "display(G_intra_site.subs(replace).subs([[r1,0],[r2,0],[r3,0],[r4,1],[r5,0],[r6,0],[r7,0],[s1,-1],[s2, 0]]))\n",
    "display(G_intra_site.subs(replace).subs([[r1,2],[r2,0],[r3,0],[r4,0],[r5,0],[r6,1],[r7,0],[s1, 0],[s2, 1]]))\n",
    "display(G_intra_site.subs(replace).subs([[r1,1],[r2,0],[r3,0],[r4,0],[r5,0],[r6,1],[r7,0],[s1, 0],[s2, 1]]))\n",
    "display(G_intra_site.subs(replace).subs([[r1,1],[r2,0],[r3,0],[r4,0],[r5,0],[r6,1],[r7,0],[s1, 0],[s2,-1]]))"
   ]
  },
  {
   "cell_type": "markdown",
   "metadata": {},
   "source": [
    "## Inter-site non-configurational Gibbs Free energy\n",
    "This function is determined by finding the nullspace of Taylor expansion coefficients that are constrained by the intra-site interactions and the standard state terms. The dimension of this null space is already known.  \n",
    "\n",
    "The range space of the matrix of constraints is defined first. We then determine the null space of that matrix, its dimension, and assign symbol names to each of the inter-site (null space) interaction parameters."
   ]
  },
  {
   "cell_type": "code",
   "execution_count": null,
   "metadata": {},
   "outputs": [],
   "source": [
    "G_range_space_matrix = sym.Matrix(taylor_m)\n",
    "G_null_space_matrix = G_range_space_matrix.nullspace()\n",
    "print ('There are {0} columns in the null space of Taylor expansion coefficients for the intra-site parameters.'.format(len(G_null_space_matrix)))\n",
    "wInter = []\n",
    "for i in range(0,len(G_null_space_matrix)):\n",
    "    wInter.append(sym.symbols('wInter_'+str(i+1)))\n",
    "wInter"
   ]
  },
  {
   "cell_type": "code",
   "execution_count": null,
   "metadata": {},
   "outputs": [],
   "source": [
    "print ('Null-space matrix has {0} columns, each with {1} rows.'.format(len(G_null_space_matrix), len(G_null_space_matrix[0])))"
   ]
  },
  {
   "cell_type": "markdown",
   "metadata": {},
   "source": [
    "Finally, we construct from the null space matrix an expession for the inter-site non-configurational Gibbs free energy."
   ]
  },
  {
   "cell_type": "code",
   "execution_count": null,
   "metadata": {},
   "outputs": [],
   "source": [
    "G_inter_site = sym.S.Zero\n",
    "entry = 0\n",
    "for col in G_null_space_matrix[:]:\n",
    "    defn = sym.S.Zero\n",
    "    count = 0\n",
    "    if col[count] != 0:\n",
    "        defn += col[count]\n",
    "    count += 1\n",
    "    for i in range(1,nc):\n",
    "        if col[count] != 0:\n",
    "            defn += col[count]*var[i-1]\n",
    "        count += 1\n",
    "    for i in range(1,ns+1):\n",
    "        if col[count] != 0:\n",
    "            defn += col[count]*var[nc-2+i]\n",
    "        count += 1\n",
    "    for i in range(1,nc):\n",
    "        for j in range(i,nc):\n",
    "            if col[count] != 0:\n",
    "                defn += col[count]*var[i-1]*var[j-1]\n",
    "            count += 1\n",
    "        for j in range(1,ns+1):\n",
    "            if col[count] != 0:\n",
    "                defn += col[count]*var[i-1]*var[nc-2+j]\n",
    "            count += 1\n",
    "    for i in range(1,ns+1):\n",
    "        for j in range(i,ns+1):\n",
    "            if col[count] != 0:\n",
    "                defn += col[count]*var[nc-2+i]*var[nc-2+j]\n",
    "            count += 1\n",
    "    G_inter_site += defn*wInter[entry]\n",
    "    entry += 1\n",
    "G_inter_site"
   ]
  },
  {
   "cell_type": "markdown",
   "metadata": {},
   "source": [
    "## $G^*$"
   ]
  },
  {
   "cell_type": "code",
   "execution_count": null,
   "metadata": {},
   "outputs": [],
   "source": [
    "Gstar = mu0[0]*(1-r1-r2-r3-r4-r5-r6-r7)+mu0[1]*r1+mu0[2]*r2+mu0[3]*r3+mu0[4]*r4+mu0[5]*r5+mu0[6]*r6+mu0[7]*r7 + G_intra_site.subs(replace) + G_inter_site\n",
    "Gstar"
   ]
  },
  {
   "cell_type": "markdown",
   "metadata": {},
   "source": [
    "#### Inter-site Gibbs energies of the endmembers"
   ]
  },
  {
   "cell_type": "code",
   "execution_count": null,
   "metadata": {},
   "outputs": [],
   "source": [
    "print ('Di, Hd, Al-Bf, Bf, Es, Jd, En, Cr')\n",
    "display(Gstar.subs([[r1,0],[r2,0],[r3,0],[r4,0],[r5,0],[r6,0],[r7,0],[s1, 0],[s2, 0]]))\n",
    "display(Gstar.subs([[r1,1],[r2,0],[r3,0],[r4,0],[r5,0],[r6,0],[r7,0],[s1, 0],[s2, 0]]))\n",
    "display(Gstar.subs([[r1,0],[r2,1],[r3,0],[r4,0],[r5,0],[r6,0],[r7,0],[s1, 0],[s2, 0]]))\n",
    "display(Gstar.subs([[r1,0],[r2,0],[r3,1],[r4,0],[r5,0],[r6,0],[r7,0],[s1, 0],[s2, 0]]))\n",
    "display(Gstar.subs([[r1,0],[r2,0],[r3,0],[r4,1],[r5,0],[r6,0],[r7,0],[s1, 1],[s2, 0]]))\n",
    "display(Gstar.subs([[r1,0],[r2,0],[r3,0],[r4,0],[r5,1],[r6,0],[r7,0],[s1,-1],[s2, 0]]))\n",
    "display(Gstar.subs([[r1,0],[r2,0],[r3,0],[r4,0],[r5,0],[r6,1],[r7,0],[s1, 0],[s2,-1]]))\n",
    "display(Gstar.subs([[r1,0],[r2,0],[r3,0],[r4,0],[r5,0],[r6,0],[r7,1],[s1, 0],[s2, 0]]))\n",
    "print ('anti-Es, Fs, FeMgSi2O6, MgFeSi2O6')\n",
    "display(Gstar.subs([[r1,0],[r2,0],[r3,0],[r4,1],[r5,0],[r6,0],[r7,0],[s1,-1],[s2, 0]]))\n",
    "display(Gstar.subs([[r1,2],[r2,0],[r3,0],[r4,0],[r5,0],[r6,1],[r7,0],[s1, 0],[s2, 1]]))\n",
    "display(Gstar.subs([[r1,1],[r2,0],[r3,0],[r4,0],[r5,0],[r6,1],[r7,0],[s1, 0],[s2, 1]]))\n",
    "display(Gstar.subs([[r1,1],[r2,0],[r3,0],[r4,0],[r5,0],[r6,1],[r7,0],[s1, 0],[s2,-1]]))"
   ]
  },
  {
   "cell_type": "code",
   "execution_count": null,
   "metadata": {},
   "outputs": [],
   "source": [
    "sub_for_rs = [ \\\n",
    "    [r1, xM2_Fe2 + xM1_Fe2], \\\n",
    "    [r2, (xM1_Al-xM1_Fe3-xM2_Na)/2 + (xT_Al-xT_Fe3-xM1_Cr/2) + xM1_Ti], \\\n",
    "    [r3, (xM1_Fe3-xM1_Al+xM2_Na)/2 + (xT_Fe3-xT_Al+xM1_Cr/2) + xM1_Ti], \\\n",
    "    [r4, (xM1_Al+xM1_Fe3-xM2_Na)/2 + (xT_Al+xT_Fe3-xM1_Cr/2) - xM1_Ti], \\\n",
    "    [r5, xM2_Na], \\\n",
    "    [r6, 1 - xM2_Na - xM2_Ca], \\\n",
    "    [r7, xM1_Cr], \\\n",
    "    [s1, xM1_Fe3 - xM1_Al], \\\n",
    "    [s2, xM2_Fe2 - xM2_Mg] \\\n",
    "]\n",
    "#inter_site_gstar"
   ]
  },
  {
   "cell_type": "markdown",
   "metadata": {},
   "source": [
    "## Parameterize the excess free energy\n",
    "- Symmetric terms: $W_{ij} = Wh_{ij} - T Ws_{ij} + P Wv_{ij}$, where $Wh_{ij}$ is the excess enthalpy along the $i$-$j$ binary, $Ws_{ij}$ is the excess entropy, and $Wv_{ij}$ is the excess volume\n",
    "- Asymetric terms: $\\Delta W_{ij} = \\Delta Wh_{ij} - T \\Delta Ws_{ij} + P \\Delta Wv_{ij}$\n",
    "- Convention: $\\left[ {{W_{ij}} + \\Delta {W_{ij}}\\left( {{X_i} - {X_j}} \\right)} \\right]{X_i}{X_j} = \\left( {{W_{ij}} + \\Delta {W_{ij}}} \\right)X_i^2{X_j} + \\left( {{W_{ij}} - \\Delta {W_{ij}}} \\right){X_i}X_j^2 = {W_{iij}}X_i^2{X_j} + {W_{ijj}}{X_i}X_j^2$  \n",
    "- Strictly ternary terms: $W_{ijk}X_iX_jX_k$, where $i {\\ne} j {\\ne} k$"
   ]
  },
  {
   "cell_type": "code",
   "execution_count": null,
   "metadata": {},
   "outputs": [],
   "source": [
    "module = 'asymm_regular'\n",
    "params = []\n",
    "units = []\n",
    "symparam = ()\n",
    "G_excess = sym.symbols('G_excess')\n",
    "G_excess = 0\n",
    "for i in range(1,c):\n",
    "    for j in range(i+1,c+1):\n",
    "        param = 'Wh' + str(i) + str(j); params.append(param); units.append('J/m')\n",
    "        h_term = sym.symbols(param); symparam += (h_term,)\n",
    "        param = 'Ws' + str(i) + str(j); params.append(param); units.append('J/K-m')\n",
    "        s_term = sym.symbols(param); symparam += (s_term,)\n",
    "        param = 'Wv' + str(i) + str(j); params.append(param); units.append('J/bar-m')\n",
    "        v_term = sym.symbols(param); symparam += (v_term,)\n",
    "        param = 'dWh' + str(i) + str(j); params.append(param); units.append('J/m')\n",
    "        dh_term = sym.symbols(param); symparam += (dh_term,)\n",
    "        param = 'dWs' + str(i) + str(j); params.append(param); units.append('J/K-m')\n",
    "        ds_term = sym.symbols(param); symparam += (ds_term,)\n",
    "        param = 'dWv' + str(i) + str(j); params.append(param); units.append('J/bar-m')\n",
    "        dv_term = sym.symbols(param); symparam += (dv_term,)\n",
    "        w_term = h_term - T*s_term + P*v_term\n",
    "        dw_term = dh_term - T*ds_term + P*dv_term\n",
    "        G_excess += (w_term + dw_term*(n[i-1]-n[j-1])/nT)*n[i-1]*n[j-1]\n",
    "G_excess /= nT\n",
    "for i in range(1,c-1):\n",
    "    for j in range(i+1,c):\n",
    "        for k in range(j+1,c+1):\n",
    "            param = 'Wh' + str(i) + str(j) + str(k); params.append(param); units.append('J/m')\n",
    "            h_term = sym.symbols(param); symparam += (h_term,)\n",
    "            param = 'Ws' + str(i) + str(j) + str(k); params.append(param); units.append('J/K-m')\n",
    "            s_term = sym.symbols(param); symparam += (s_term,)\n",
    "            param = 'Wv' + str(i) + str(j) + str(k); params.append(param); units.append('J/bar-m')\n",
    "            v_term = sym.symbols(param); symparam += (v_term,)\n",
    "            G_excess += (h_term - T*s_term + P*v_term)*n[i-1]*n[j-1]*n[k-1]/nT/nT\n",
    "G_excess"
   ]
  },
  {
   "cell_type": "code",
   "execution_count": null,
   "metadata": {},
   "outputs": [],
   "source": [
    "print(params)\n",
    "print(units)"
   ]
  },
  {
   "cell_type": "markdown",
   "metadata": {},
   "source": [
    "## Define the Gibbs free energy of solution"
   ]
  },
  {
   "cell_type": "code",
   "execution_count": null,
   "metadata": {},
   "outputs": [],
   "source": [
    "G_ss = (n.transpose()*mu)[0]\n",
    "G_ss"
   ]
  },
  {
   "cell_type": "code",
   "execution_count": null,
   "metadata": {},
   "outputs": [],
   "source": [
    "G = G_ss + G_config + G_excess\n",
    "G"
   ]
  }
 ],
 "metadata": {
  "kernelspec": {
   "display_name": "Python 3",
   "language": "python",
   "name": "python3"
  },
  "language_info": {
   "codemirror_mode": {
    "name": "ipython",
    "version": 3
   },
   "file_extension": ".py",
   "mimetype": "text/x-python",
   "name": "python",
   "nbconvert_exporter": "python",
   "pygments_lexer": "ipython3",
   "version": "3.6.4"
  }
 },
 "nbformat": 4,
 "nbformat_minor": 2
}
