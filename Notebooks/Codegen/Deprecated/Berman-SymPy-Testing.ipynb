{
 "cells": [
  {
   "cell_type": "markdown",
   "metadata": {},
   "source": [
    "# Berman SymPy Testing Theory and Code Generation"
   ]
  },
  {
   "cell_type": "code",
   "execution_count": null,
   "metadata": {},
   "outputs": [],
   "source": [
    "import pandas as pd\n",
    "import numpy as np\n",
    "import sympy as sym\n",
    "sym.init_printing()"
   ]
  },
  {
   "cell_type": "markdown",
   "metadata": {},
   "source": [
    "## Standard State Properties - Structure of the Equations\n",
    "There are three classes of terms:\n",
    "- Terms that apply over the whole of $T$-, $P$-space, $T_r \\le T$, $P_r \\le P$\n",
    "- Terms that apply over a specified range of $T$-, $P$-space, $(T_{r_\\lambda},P_{r_\\lambda}) \\le (T,P) \\le (T_\\lambda,P_\\lambda)$\n",
    "- Terms that apply to a specific $T_t$ and $P_t$ and higher $T$, $P$, $T_t \\le T$, $P_t \\le P$\n",
    "\n",
    "Second-order phase transitions ($lambda$-transitions) are an example of the second type, as are order disorder transformations. First-order phase transitions are an example of the third type.\n",
    "\n",
    "## Berman terms valid over the whole of T,P space\n",
    "Parameters of the Berman (1988) model that pertain to the whole of $T$-$P$ space:\n",
    "- $\\Delta{H_{T_r,P_r}}$, the enthalpy of formation from the elements at $T_r$ and $P_r$\n",
    "- $S_{T_r,P_r}$, the third law entropy at $T_r$ and $P_r$\n",
    "- $V_{T_r,P_r}$, the volume at $T_r$ and $P_r$\n",
    "- $k_0$, $k_1$, $k_2$, and $k_3$, coefficients in the reference pressure heat capacity expression  \n",
    "- $v_1$, $v_2$, $v_3$, and $v_4$, coefficients in Berman Equation of State "
   ]
  },
  {
   "cell_type": "code",
   "execution_count": null,
   "metadata": {},
   "outputs": [],
   "source": [
    "Tr,Pr = sym.symbols('T_r P_r')\n",
    "k0,k1,k2,k3 = sym.symbols('k0 k1 k2 k3')\n",
    "VTrPr,v1,v2,v3,v4 = sym.symbols('V_TrPr v1 v2 v3 v4')\n",
    "STrPr,HTrPr = sym.symbols('S_TrPr H_TrPr')"
   ]
  },
  {
   "cell_type": "markdown",
   "metadata": {},
   "source": [
    "Input variables:"
   ]
  },
  {
   "cell_type": "code",
   "execution_count": null,
   "metadata": {},
   "outputs": [],
   "source": [
    "T,P = sym.symbols('T P')"
   ]
  },
  {
   "cell_type": "markdown",
   "metadata": {},
   "source": [
    "Heat capacity at constant pressure. Berman and Brown (1985) form."
   ]
  },
  {
   "cell_type": "code",
   "execution_count": null,
   "metadata": {},
   "outputs": [],
   "source": [
    "CpPr = k0+k1/sym.sqrt(T)+k2/T**2+k3/T**3\n",
    "CpPr"
   ]
  },
  {
   "cell_type": "markdown",
   "metadata": {},
   "source": [
    "Apparent enthalpy of formation at $T$ and $P_r$.  The quantity is apparent because the heat capacity of the substance is integrated up in $T$ from $T_r$, but the enthalpy of the elements are left at $T_r$ and $P_r$."
   ]
  },
  {
   "cell_type": "code",
   "execution_count": null,
   "metadata": {},
   "outputs": [],
   "source": [
    "HPr = HTrPr + sym.integrate(CpPr,(T,Tr,T))\n",
    "HPr"
   ]
  },
  {
   "cell_type": "markdown",
   "metadata": {},
   "source": [
    "Entropy at $T$ and $P_r$."
   ]
  },
  {
   "cell_type": "code",
   "execution_count": null,
   "metadata": {},
   "outputs": [],
   "source": [
    "SPr = STrPr + sym.integrate(CpPr/T,(T,Tr,T))\n",
    "SPr"
   ]
  },
  {
   "cell_type": "markdown",
   "metadata": {},
   "source": [
    "Volume at $T$ and $P$ evaluated using the Berman (1988) Equation of State."
   ]
  },
  {
   "cell_type": "code",
   "execution_count": null,
   "metadata": {},
   "outputs": [],
   "source": [
    "V = VTrPr*(1+v1*(P-Pr)+v2*(P-Pr)**2+v3*(T-Tr)+v4*(T-Tr)**2)\n",
    "V"
   ]
  },
  {
   "cell_type": "markdown",
   "metadata": {},
   "source": [
    "Apparent Gibbs Free Energy of formation at $T$ and $P_r$."
   ]
  },
  {
   "cell_type": "code",
   "execution_count": null,
   "metadata": {},
   "outputs": [],
   "source": [
    "GPr = HPr - T*SPr\n",
    "sym.simplify(GPr)"
   ]
  },
  {
   "cell_type": "markdown",
   "metadata": {},
   "source": [
    "Apparent Gibbs Free Energy of formation at $T$ and $P$."
   ]
  },
  {
   "cell_type": "code",
   "execution_count": null,
   "metadata": {},
   "outputs": [],
   "source": [
    "G = GPr + sym.integrate(V,(P,Pr,P))\n",
    "sym.simplify(G)"
   ]
  },
  {
   "cell_type": "markdown",
   "metadata": {},
   "source": [
    "## Berman terms valid over an interval of T,P space\n",
    "Parameters of the Berman (1988) lambda transition model:\n",
    "- $l_1$ and $l_2$, coefficients in Berman (1988)'s $lambda$-heat capacity model\n",
    "- $k_{\\lambda}$, $\\frac{{d{T_\\lambda }}}{{dP}}$ in Berman (1988)'s $lambda$-transition model\n",
    "- $T_{\\lambda,{P_r}}$, Temperature of the $\\lambda$-transition at reference pressure\n",
    "- $T_{\\lambda,{ref}}$, Temperature of the lower bound of the heat capacity integral for the $\\lambda$-transition at reference pressure"
   ]
  },
  {
   "cell_type": "code",
   "execution_count": null,
   "metadata": {},
   "outputs": [],
   "source": [
    "l1,l2 = sym.symbols('l1 l2')\n",
    "kl = sym.symbols('k_lambda')\n",
    "TlPr, Tlref = sym.symbols('T_lambda_Pr T_lambda_ref')"
   ]
  },
  {
   "cell_type": "markdown",
   "metadata": {},
   "source": [
    "$T_{\\lambda}$ at $P$."
   ]
  },
  {
   "cell_type": "code",
   "execution_count": null,
   "metadata": {},
   "outputs": [],
   "source": [
    "Tl = TlPr + kl*(P-Pr)\n",
    "Tl"
   ]
  },
  {
   "cell_type": "markdown",
   "metadata": {},
   "source": [
    "Temperature difference between $T_{lambda}$ at $P$ and $P_r$"
   ]
  },
  {
   "cell_type": "code",
   "execution_count": null,
   "metadata": {},
   "outputs": [],
   "source": [
    "td = TlPr - Tl\n",
    "td"
   ]
  },
  {
   "cell_type": "markdown",
   "metadata": {},
   "source": [
    "Reference temperature for lower limit of heat capacity integral."
   ]
  },
  {
   "cell_type": "code",
   "execution_count": null,
   "metadata": {},
   "outputs": [],
   "source": [
    "tr = Tlref - td\n",
    "tr"
   ]
  },
  {
   "cell_type": "markdown",
   "metadata": {},
   "source": [
    "Heat capacity due to the $\\lambda$-transition at $T$ and $P$. Valid: $T_r \\le T \\le T_{\\lambda}$."
   ]
  },
  {
   "cell_type": "code",
   "execution_count": null,
   "metadata": {},
   "outputs": [],
   "source": [
    "Cpl = (T+td)*(l1+l2*(T+td))**2\n",
    "Cpl"
   ]
  },
  {
   "cell_type": "markdown",
   "metadata": {},
   "source": [
    "Enthalpy due to the $\\lambda$-transition at $T$ and $P$. Valid: $T_r \\le T \\le T_{\\lambda}$."
   ]
  },
  {
   "cell_type": "code",
   "execution_count": null,
   "metadata": {},
   "outputs": [],
   "source": [
    "Hl = sym.integrate(Cpl,(T,tr,T))\n",
    "Hl"
   ]
  },
  {
   "cell_type": "markdown",
   "metadata": {},
   "source": [
    "Entropy due to the $\\lambda$-transition at $T$ and $P$. Valid: $T_r \\le T \\le T_{\\lambda}$."
   ]
  },
  {
   "cell_type": "code",
   "execution_count": null,
   "metadata": {},
   "outputs": [],
   "source": [
    "Sl = sym.integrate(Cpl/T,(T,tr,T))\n",
    "Sl"
   ]
  },
  {
   "cell_type": "markdown",
   "metadata": {},
   "source": [
    "Gibbs Free Energy due to the $\\lambda$-transition at $T$ and $P$. Valid: $T_r \\le T \\le T_{\\lambda}$."
   ]
  },
  {
   "cell_type": "code",
   "execution_count": null,
   "metadata": {},
   "outputs": [],
   "source": [
    "Gl = Hl - T*Sl\n",
    "Gl"
   ]
  },
  {
   "cell_type": "markdown",
   "metadata": {},
   "source": [
    "Gibbs Free Energy due to the $\\lambda$-transition at $T$ and $P$ when $k_{\\lambda}$ is zero. Valid: $T_r \\le T \\le T_{\\lambda}$."
   ]
  },
  {
   "cell_type": "code",
   "execution_count": null,
   "metadata": {},
   "outputs": [],
   "source": [
    "sym.simplify(Gl.subs(kl, 0))"
   ]
  },
  {
   "cell_type": "markdown",
   "metadata": {},
   "source": [
    "The volume of the $\\lambda$-transition is given by differentiation of the Gibbs Free Energy:"
   ]
  },
  {
   "cell_type": "code",
   "execution_count": null,
   "metadata": {},
   "outputs": [],
   "source": [
    "Vl = sym.simplify(Gl.diff(P))\n",
    "Vl"
   ]
  },
  {
   "cell_type": "markdown",
   "metadata": {},
   "source": [
    "### For $T > T_{\\lambda}$, we have the following contributions:"
   ]
  },
  {
   "cell_type": "code",
   "execution_count": null,
   "metadata": {},
   "outputs": [],
   "source": [
    "CpatTl = Cpl.subs(T,Tl)\n",
    "CpatTl"
   ]
  },
  {
   "cell_type": "code",
   "execution_count": null,
   "metadata": {},
   "outputs": [],
   "source": [
    "HatTl = sym.simplify(Hl.subs(T,Tl))\n",
    "HatTl"
   ]
  },
  {
   "cell_type": "code",
   "execution_count": null,
   "metadata": {},
   "outputs": [],
   "source": [
    "SatTl = sym.simplify(Sl.subs(T,Tl))\n",
    "SatTl"
   ]
  },
  {
   "cell_type": "code",
   "execution_count": null,
   "metadata": {},
   "outputs": [],
   "source": [
    "_.subs(kl,0)"
   ]
  },
  {
   "cell_type": "code",
   "execution_count": null,
   "metadata": {},
   "outputs": [],
   "source": [
    "GatTl = sym.simplify(HatTl-T*SatTl)\n",
    "GatTl"
   ]
  },
  {
   "cell_type": "code",
   "execution_count": null,
   "metadata": {},
   "outputs": [],
   "source": [
    "sym.simplify(_.subs(kl,0))"
   ]
  },
  {
   "cell_type": "markdown",
   "metadata": {},
   "source": [
    "## Berman terms valid at T $\\ge$ $T_t$\n",
    "Berman parameters (in this case $T_t$ is equivalent to $T_{\\lambda}$:\n",
    "- ${{\\Delta}_t}H$, First order enthalpy contribution at $T_{\\lambda}$"
   ]
  },
  {
   "cell_type": "code",
   "execution_count": null,
   "metadata": {},
   "outputs": [],
   "source": [
    "deltaHt = sym.symbols('H_t')"
   ]
  },
  {
   "cell_type": "markdown",
   "metadata": {},
   "source": [
    "${{\\Delta}_t}S$, First order enropy contribution at $T_{\\lambda}$"
   ]
  },
  {
   "cell_type": "code",
   "execution_count": null,
   "metadata": {},
   "outputs": [],
   "source": [
    "deltaSt = deltaHt/Tl\n",
    "deltaSt"
   ]
  },
  {
   "cell_type": "markdown",
   "metadata": {},
   "source": [
    "### Above $T_{\\lambda}$ the following term is convenient to define"
   ]
  },
  {
   "cell_type": "code",
   "execution_count": null,
   "metadata": {},
   "outputs": [],
   "source": [
    "GaboveTl = -(T-Tl)*(deltaSt+Sl)\n",
    "GaboveTl"
   ]
  },
  {
   "cell_type": "markdown",
   "metadata": {},
   "source": [
    "## Berman terms valid over an interval of T,P space\n",
    "Parameters of the Berman (1988) order-disorder model:\n",
    "- $d_0$, $d_1$, $d_2$, $d_3$, $d_4$, $d_5$, order-disorder coefficients from the Berman (1988) model\n",
    "- $T_{D_{ref}}$, $T_D$, minimum, maximum temperature of ordering interval, $T_{D_{ref}} \\le T \\le T_D$"
   ]
  },
  {
   "cell_type": "code",
   "execution_count": null,
   "metadata": {},
   "outputs": [],
   "source": [
    "d0,d1,d2,d3,d4,d5 = sym.symbols('d0 d1 d2 d3 d4 d5')\n",
    "TD,TDref = sym.symbols('T_D T_D_ref')"
   ]
  },
  {
   "cell_type": "markdown",
   "metadata": {},
   "source": [
    "Heat capacity of disorder at $T$ and $P_r$"
   ]
  },
  {
   "cell_type": "code",
   "execution_count": null,
   "metadata": {},
   "outputs": [],
   "source": [
    "CpDs = d0 + d1/sym.sqrt(T) + d2/T**2 + d3*T + d4*T**2\n",
    "CpDs"
   ]
  },
  {
   "cell_type": "markdown",
   "metadata": {},
   "source": [
    "Enthalpy of disorder at $T$ and $P_r$"
   ]
  },
  {
   "cell_type": "code",
   "execution_count": null,
   "metadata": {},
   "outputs": [],
   "source": [
    "HDs = sym.integrate(CpDs,(T,TDref,T))\n",
    "sym.collect(HDs,(d0,d1,d2,d3,d4))"
   ]
  },
  {
   "cell_type": "markdown",
   "metadata": {},
   "source": [
    "Entropy of disorder at $T$ and $P_r$"
   ]
  },
  {
   "cell_type": "code",
   "execution_count": null,
   "metadata": {},
   "outputs": [],
   "source": [
    "SDs = sym.integrate(CpDs/T,(T,TDref,T))\n",
    "sym.collect(SDs,(d0,d1,d2,d3,d4))"
   ]
  },
  {
   "cell_type": "markdown",
   "metadata": {},
   "source": [
    "Volume of disorder at $T$ and $P$"
   ]
  },
  {
   "cell_type": "code",
   "execution_count": null,
   "metadata": {},
   "outputs": [],
   "source": [
    "VDs = HDs/d5\n",
    "VDs"
   ]
  },
  {
   "cell_type": "markdown",
   "metadata": {},
   "source": [
    "Gibbs Free Energy of disorder at $T$ and $P$"
   ]
  },
  {
   "cell_type": "code",
   "execution_count": null,
   "metadata": {},
   "outputs": [],
   "source": [
    "GDs = HDs - T*SDs + VDs*(P-Pr)\n",
    "sym.collect(GDs,(d0,d1,d2,d3,d4))"
   ]
  },
  {
   "cell_type": "markdown",
   "metadata": {},
   "source": [
    "### Disordering Gibbs energy at $T_D$"
   ]
  },
  {
   "cell_type": "code",
   "execution_count": null,
   "metadata": {},
   "outputs": [],
   "source": [
    "GDsAtTD = GDs.subs(T,TD)\n",
    "GDsAtTD"
   ]
  },
  {
   "cell_type": "markdown",
   "metadata": {},
   "source": [
    "### Above $T_D$ the following term is convenient to define"
   ]
  },
  {
   "cell_type": "code",
   "execution_count": null,
   "metadata": {},
   "outputs": [],
   "source": [
    "GDsAboveTD = -(T-TD)*(SDs.subs(T,TD))\n",
    "GDsAboveTD"
   ]
  },
  {
   "cell_type": "markdown",
   "metadata": {},
   "source": [
    "# Use code printers to construct \"C\" package code\n",
    "Make the berman_calc.h and the berman_calib.h include files"
   ]
  },
  {
   "cell_type": "code",
   "execution_count": null,
   "metadata": {},
   "outputs": [],
   "source": [
    "module = 'berman'\n",
    "params = ['H_TrPr', 'S_TrPr', 'k0', 'k1', 'k2', 'k3', 'V_TrPr', 'v1', 'v2', 'v3', 'v4', \\\n",
    "          'l1', 'l2', 'k_lambda', 'T_lambda_Pr', 'T_lambda_ref', 'H_t', \\\n",
    "          'd0', 'd1', 'd2', 'd3', 'd4', 'd5', 'T_D', 'T_D_ref', 'T_r', 'P_r']\n",
    "units = ['J/m', 'J/K-m', 'J/K-m', 'J/K^(1/2)-m', 'J-K/m', 'J-K^2/m', 'J/bar', '1/bar', '1/bar^2', '1/K', '1/K^2', \\\n",
    "        'J^(1/2)/K-m^(1/2)', 'J^(1/2)/K^2-m^(1/2)', 'K/bar', 'K', 'K', 'J/m', \\\n",
    "        'J/K-m', 'J/K^(1/2)-m', 'J-K/m', 'J/K^2-m', 'J/K^3-m', 'bar', 'K', 'K', 'K', 'bar']"
   ]
  },
  {
   "cell_type": "markdown",
   "metadata": {},
   "source": [
    "Subclass the C99 code printer to expand $x^2$, $x^3$, and $x^4$ as multiplication rather than pow(x, (double)n)"
   ]
  },
  {
   "cell_type": "code",
   "execution_count": null,
   "metadata": {},
   "outputs": [],
   "source": [
    "from sympy.printing.ccode import C99CodePrinter\n",
    "class SubCodePrinter(C99CodePrinter):\n",
    "    def _print_Pow(self, expr):\n",
    "        if expr.exp.is_integer and expr.exp > 0 and expr.exp <= 4:\n",
    "            result = ')*('.join([self._print(expr.base) for i in range(expr.exp)])\n",
    "            return '((' + result + '))'\n",
    "        else:\n",
    "            return super()._print_Pow(expr)\n",
    "printer = SubCodePrinter()"
   ]
  },
  {
   "cell_type": "code",
   "execution_count": null,
   "metadata": {},
   "outputs": [],
   "source": [
    "from sympy.printing.codeprinter import Assignment"
   ]
  },
  {
   "cell_type": "code",
   "execution_count": null,
   "metadata": {},
   "outputs": [],
   "source": [
    "printer.doprint(Tr+2)"
   ]
  },
  {
   "cell_type": "markdown",
   "metadata": {},
   "source": [
    "### (1)\n",
    "Function template for primary routines in berman_calc.h"
   ]
  },
  {
   "cell_type": "code",
   "execution_count": null,
   "metadata": {},
   "outputs": [],
   "source": [
    "!mkdir -p working\n",
    "%cd working"
   ]
  },
  {
   "cell_type": "code",
   "execution_count": null,
   "metadata": {},
   "outputs": [],
   "source": [
    "berman_calc_template = \"\"\"\\\n",
    "\n",
    "static double {module}_{func}(double T, double P) {{\n",
    "    double result = {g_code};\n",
    "    if ((l1 != 0.0) || (l2 != 0.0)) {{\n",
    "      if ((({tlmin}) < T) && (({tlmax}) >= T)) {{\n",
    "        result += {gl_code};  \n",
    "      }} else if (T > ({tlmax})) {{\n",
    "        result += {glmax_code};\n",
    "      }}\n",
    "    }}\n",
    "    if ((H_t != 0.0) && (T >= ({tlmax}))) {{\n",
    "      result += {glabove_code};\n",
    "    }}\n",
    "    if ((d0 != 0.0) || (d1 != 0.0) || (d2 != 0.0) || (d3 != 0.0) || (d4 != 0.0) || (d5 != 0.0)) {{\n",
    "      if ((T_D_ref < T) && (T_D > T)) {{\n",
    "        result += {gd_code};\n",
    "      }} else if (T >= T_D) {{\n",
    "        result += {gdmax_code};\n",
    "        result += {gdabove_code};\n",
    "      }}\n",
    "    }}\n",
    "    return result;\n",
    "}}\n",
    "\\\n",
    "\"\"\""
   ]
  },
  {
   "cell_type": "markdown",
   "metadata": {},
   "source": [
    "Primary routines in berman_calc.h"
   ]
  },
  {
   "cell_type": "code",
   "execution_count": null,
   "metadata": {},
   "outputs": [],
   "source": [
    "f_list = ['g', 'dgdt', 'dgdp', 'd2gdt2', 'd2gdtdp', 'd2gdp2', 'd3gdt3', 'd3gdt2dp', 'd3gdtdp2', 'd3gdp3']\n",
    "G_matrix = sym.Matrix([G, G.diff(T), G.diff(P), G.diff(T,T), G.diff(T,P), G.diff(P,P), \\\n",
    "                       G.diff(T,T,T), G.diff(T,T,P), G.diff(T,P,P), G.diff(P,P,P)])\n",
    "Gl_matrix = sym.Matrix([Gl, Gl.diff(T), Gl.diff(P), Gl.diff(T,T), Gl.diff(T,P), Gl.diff(P,P), \\\n",
    "                        Gl.diff(T,T,T), Gl.diff(T,T,P), Gl.diff(T,P,P), Gl.diff(P,P,P)])\n",
    "GatTl_matrix = sym.Matrix([GatTl, GatTl.diff(T), GatTl.diff(P), GatTl.diff(T,T), GatTl.diff(T,P), \\\n",
    "                           GatTl.diff(P,P), GatTl.diff(T,T,T), GatTl.diff(T,T,P), GatTl.diff(T,P,P), \\\n",
    "                           GatTl.diff(P,P,P)])\n",
    "GaboveTl_matrix = sym.Matrix([GaboveTl, GaboveTl.diff(T), GaboveTl.diff(P), GaboveTl.diff(T,T), \\\n",
    "                              GaboveTl.diff(T,P), GaboveTl.diff(P,P), GaboveTl.diff(T,T,T), \\\n",
    "                              GaboveTl.diff(T,T,P), GaboveTl.diff(T,P,P), GaboveTl.diff(P,P,P)])\n",
    "GDs_matrix = sym.Matrix([GDs, GDs.diff(T), GDs.diff(P), GDs.diff(T,T), GDs.diff(T,P), GDs.diff(P,P), \\\n",
    "                         GDs.diff(T,T,T), GDs.diff(T,T,P), GDs.diff(T,P,P), GDs.diff(P,P,P)])\n",
    "GDsAtTD_matrix = sym.Matrix([GDsAtTD, GDsAtTD.diff(T), GDsAtTD.diff(P), GDsAtTD.diff(T,T), GDsAtTD.diff(T,P), \\\n",
    "                             GDsAtTD.diff(P,P), GDsAtTD.diff(T,T,T), GDsAtTD.diff(T,T,P), GDsAtTD.diff(T,P,P), \\\n",
    "                             GDsAtTD.diff(P,P,P)])\n",
    "GDsAboveTD_matrix = sym.Matrix([GDsAboveTD, GDsAboveTD.diff(T), GDsAboveTD.diff(P), GDsAboveTD.diff(T,T), \\\n",
    "                                GDsAboveTD.diff(T,P), GDsAboveTD.diff(P,P), GDsAboveTD.diff(T,T,T), \\\n",
    "                                GDsAboveTD.diff(T,T,P), GDsAboveTD.diff(T,P,P), GDsAboveTD.diff(P,P,P)])"
   ]
  },
  {
   "cell_type": "code",
   "execution_count": null,
   "metadata": {},
   "outputs": [],
   "source": [
    "berman_calc = '#include <math.h>\\n\\n'\n",
    "\n",
    "for i in range(0,len(f_list)):\n",
    "    berman_calc += berman_calc_template.format(\\\n",
    "                              module=module,\n",
    "                              func=f_list[i],\n",
    "                              g_code=printer.doprint(G_matrix[i]), \\\n",
    "                              tlmin=printer.doprint(tr), \\\n",
    "                              tlmax=printer.doprint(Tl), \\\n",
    "                              gl_code=printer.doprint(Gl_matrix[i]), \\\n",
    "                              glmax_code=printer.doprint(GatTl_matrix[i]), \\\n",
    "                              glabove_code=printer.doprint(GaboveTl_matrix[i]), \\\n",
    "                              gd_code=printer.doprint(GDs_matrix[i]), \\\n",
    "                              gdmax_code=printer.doprint(GDsAtTD_matrix[i]), \\\n",
    "                              gdabove_code=printer.doprint(GDsAboveTD_matrix[i])\n",
    "                             )"
   ]
  },
  {
   "cell_type": "markdown",
   "metadata": {},
   "source": [
    "Add convenience routiines to berman_calc.h"
   ]
  },
  {
   "cell_type": "code",
   "execution_count": null,
   "metadata": {},
   "outputs": [],
   "source": [
    "convenience_template = \"\"\"\\\n",
    "\n",
    "static double {module}_s(double T, double P) {{\n",
    "    double result = -{module}_dgdt(T, P);\n",
    "    return result;\n",
    "}}\n",
    "\n",
    "static double {module}_v(double T, double P) {{\n",
    "    double result = {module}_dgdp(T, P);\n",
    "    return result;\n",
    "}}\n",
    "\n",
    "static double {module}_cv(double T, double P) {{\n",
    "    double result = -T*{module}_d2gdt2(T, P);\n",
    "    double dvdt = {module}_d2gdtdp(T, P);\n",
    "    double dvdp = {module}_d2gdp2(T, P);\n",
    "    result += T*dvdt*dvdt/dvdp;\n",
    "    return result;\n",
    "}}\n",
    "\n",
    "static double {module}_cp(double T, double P) {{\n",
    "    double result = -T*{module}_d2gdt2(T, P);\n",
    "    return result;\n",
    "}}\n",
    "\n",
    "static double {module}_dcpdt(double T, double P) {{\n",
    "    double result = -T*{module}_d3gdt3(T, P) - {module}_d2gdt2(T, P);\n",
    "    return result;\n",
    "}}\n",
    "\n",
    "static double {module}_alpha(double T, double P) {{\n",
    "    double result = {module}_d2gdtdp(T, P)/{module}_dgdp(T, P);\n",
    "    return result;\n",
    "}}\n",
    "\n",
    "static double {module}_beta(double T, double P) {{\n",
    "    double result = -{module}_d2gdp2(T, P)/{module}_dgdp(T, P);\n",
    "    return result;\n",
    "}}\n",
    "\n",
    "static double {module}_K(double T, double P) {{\n",
    "    double result = -{module}_dgdp(T, P)/{module}_d2gdp2(T, P);\n",
    "    return result;\n",
    "}}\n",
    "\n",
    "static double {module}_Kp(double T, double P) {{\n",
    "    double result = {module}_dgdp(T, P);\n",
    "    result *= {module}_d3gdp3(T, P);\n",
    "    result /= pow({module}_d2gdp2(T, P), 2.0);\n",
    "    return result - 1.0;\n",
    "}}\n",
    "\n",
    "\\\n",
    "\"\"\""
   ]
  },
  {
   "cell_type": "code",
   "execution_count": null,
   "metadata": {},
   "outputs": [],
   "source": [
    "berman_calc += convenience_template.format(module=module)"
   ]
  },
  {
   "cell_type": "markdown",
   "metadata": {},
   "source": [
    "Write contents to berman_calc.h"
   ]
  },
  {
   "cell_type": "code",
   "execution_count": null,
   "metadata": {},
   "outputs": [],
   "source": [
    "#print(berman_calc)\n",
    "with open('berman_calc.h', 'w') as f:\n",
    "    f.write(berman_calc)"
   ]
  },
  {
   "cell_type": "markdown",
   "metadata": {},
   "source": [
    "### (2)\n",
    "Function template for primary routines in berman_calc.h"
   ]
  },
  {
   "cell_type": "code",
   "execution_count": null,
   "metadata": {},
   "outputs": [],
   "source": [
    "berman_calib_template = \"\"\"\\\n",
    "\n",
    "#include <math.h>\n",
    "\n",
    "static double {module}_dparam_{func}(double T, double P, int index) {{\n",
    "    double result = 0.0;\n",
    "    switch (index) {{\n",
    "    case 0:\n",
    "        result += {g_code[0]};\n",
    "        break;\n",
    "    case 1:\n",
    "        result += {g_code[1]};\n",
    "        break;\n",
    "    case 2:\n",
    "        result += {g_code[2]};\n",
    "        break;\n",
    "    case 3:\n",
    "        result += {g_code[3]};\n",
    "        break;\n",
    "    case 4:\n",
    "        result += {g_code[4]};\n",
    "        break;\n",
    "    case 5:\n",
    "        result += {g_code[5]};\n",
    "        break;\n",
    "    case 6:\n",
    "        result += {g_code[6]};\n",
    "        break;\n",
    "    case 7:\n",
    "        result += {g_code[7]};\n",
    "        break;\n",
    "    case 8:\n",
    "        result += {g_code[8]};\n",
    "        break;\n",
    "    case 9:\n",
    "        result += {g_code[9]};\n",
    "        break;\n",
    "    case 10:\n",
    "        result += {g_code[10]};\n",
    "        break;\n",
    "    case 25:\n",
    "        result += {g_code[25]};\n",
    "        break;\n",
    "    case 26:\n",
    "        result += {g_code[26]};\n",
    "        break;\n",
    "    default:\n",
    "        break;\n",
    "    }}\n",
    "    if ((l1 != 0.0) || (l2 != 0.0)) {{\n",
    "      if ((({tlmin}) < T) && (({tlmax}) > T)) {{\n",
    "        switch (index) {{\n",
    "        case 11:\n",
    "            result += {gl_code[11]};\n",
    "            break;\n",
    "        case 12:\n",
    "            result += {gl_code[12]};\n",
    "            break;\n",
    "        case 13:\n",
    "            result += {gl_code[13]};\n",
    "            break;\n",
    "        case 14:\n",
    "            result += {gl_code[14]};\n",
    "            break;\n",
    "        case 15:\n",
    "            result += {gl_code[15]};\n",
    "            break;\n",
    "        default:\n",
    "            break;\n",
    "        }}\n",
    "      }} else if (T >= ({tlmax})) {{\n",
    "        switch (index) {{\n",
    "        case 11:\n",
    "            result += {glmax_code[11]};\n",
    "            break;\n",
    "        case 12:\n",
    "            result += {glmax_code[12]};\n",
    "            break;\n",
    "        case 13:\n",
    "            result += {glmax_code[13]};\n",
    "            break;\n",
    "        case 14:\n",
    "            result += {glmax_code[14]};\n",
    "            break;\n",
    "        case 15:\n",
    "            result += {glmax_code[15]};\n",
    "            break;\n",
    "        default:\n",
    "            break;\n",
    "        }}\n",
    "      }}\n",
    "    }}\n",
    "    if ((H_t != 0.0) && (T >= ({tlmax}))) {{\n",
    "      switch (index) {{\n",
    "        case 16:\n",
    "            result += {glabove_code[16]};\n",
    "            break;\n",
    "        default:\n",
    "            break;\n",
    "        }}\n",
    "    }}\n",
    "    if ((d0 != 0.0) || (d1 != 0.0) || (d2 != 0.0) || (d3 != 0.0) || (d4 != 0.0) || (d5 != 0.0)) {{\n",
    "      if ((T_D_ref < T) && (T_D > T)) {{\n",
    "        switch (index) {{\n",
    "        case 17:\n",
    "            result += {gd_code[17]};\n",
    "            break;\n",
    "        case 18:\n",
    "            result += {gd_code[18]};\n",
    "            break;\n",
    "        case 19:\n",
    "            result += {gd_code[19]};\n",
    "            break;\n",
    "        case 20:\n",
    "            result += {gd_code[20]};\n",
    "            break;\n",
    "        case 21:\n",
    "            result += {gd_code[21]};\n",
    "            break;\n",
    "        case 22:\n",
    "            result += {gd_code[22]};\n",
    "            break;\n",
    "        case 23:\n",
    "            result += {gd_code[23]};\n",
    "            break;\n",
    "        case 24:\n",
    "            result += {gd_code[24]};\n",
    "            break;\n",
    "        default:\n",
    "            break;\n",
    "        }}\n",
    "      }} else if (T >= T_D) {{\n",
    "        switch (index) {{\n",
    "        case 17:\n",
    "            result += {gdmax_code[17]};\n",
    "            result += {gdabove_code[17]};\n",
    "            break;\n",
    "        case 18:\n",
    "            result += {gdmax_code[18]};\n",
    "            result += {gdabove_code[18]};\n",
    "            break;\n",
    "        case 19:\n",
    "            result += {gdmax_code[19]};\n",
    "            result += {gdabove_code[19]};\n",
    "            break;\n",
    "        case 20:\n",
    "            result += {gdmax_code[20]};\n",
    "            result += {gdabove_code[20]};\n",
    "            break;\n",
    "        case 21:\n",
    "            result += {gdmax_code[21]};\n",
    "            result += {gdabove_code[21]};\n",
    "            break;\n",
    "        case 22:\n",
    "            result += {gdmax_code[22]};\n",
    "            result += {gdabove_code[22]};\n",
    "            break;\n",
    "        case 23:\n",
    "            result += {gdmax_code[23]};\n",
    "            result += {gdabove_code[23]};\n",
    "            break;\n",
    "        case 24:\n",
    "            result += {gdmax_code[24]};\n",
    "            result += {gdabove_code[24]};\n",
    "            break;\n",
    "        default:\n",
    "            break;\n",
    "        }}\n",
    "      }}\n",
    "    }}\n",
    "    return result;\n",
    "}}\n",
    "\\\n",
    "\"\"\""
   ]
  },
  {
   "cell_type": "code",
   "execution_count": null,
   "metadata": {},
   "outputs": [],
   "source": [
    "symparam = HTrPr, STrPr, k0, k1, k2, k3, VTrPr, v1, v2, v3, v4, l1, l2, kl, TlPr, Tlref, deltaHt, \\\n",
    "           d0, d1, d2, d3, d4, d5, TD, TDref, Tr, Pr"
   ]
  },
  {
   "cell_type": "code",
   "execution_count": null,
   "metadata": {},
   "outputs": [],
   "source": [
    "G_param_jac = sym.Matrix(G_matrix).jacobian(symparam)\n",
    "Gl_param_jac = sym.Matrix(Gl_matrix).jacobian(symparam)\n",
    "GatTl_param_jac = sym.Matrix(GatTl_matrix).jacobian(symparam)\n",
    "GaboveTl_param_jac = sym.Matrix(GaboveTl_matrix).jacobian(symparam)\n",
    "GDs_param_jac = sym.Matrix(GDs_matrix).jacobian(symparam)\n",
    "GDsAtTD_param_jac = sym.Matrix(GDsAtTD_matrix).jacobian(symparam)\n",
    "GDsAboveTD_param_jac = sym.Matrix(GDsAboveTD_matrix).jacobian(symparam)"
   ]
  },
  {
   "cell_type": "code",
   "execution_count": null,
   "metadata": {},
   "outputs": [],
   "source": [
    "berman_calib = ''\n",
    "\n",
    "for j in range(0,len(f_list)):\n",
    "    G_jac_list = [ printer.doprint(G_param_jac[j,i]) for i in range(0, len(params)) ]\n",
    "    Gl_jac_list = [ printer.doprint(Gl_param_jac[j,i]) for i in range(0, len(params)) ]\n",
    "    GatTl_jac_list = [ printer.doprint(GatTl_param_jac[j,i]) for i in range(0, len(params)) ]\n",
    "    GaboveTl_jac_list = [ printer.doprint(GaboveTl_param_jac[j,i]) for i in range(0, len(params)) ]\n",
    "    GDs_jac_list = [ printer.doprint(GDs_param_jac[j,i]) for i in range(0, len(params)) ]\n",
    "    GDsAtTD_jac_list = [ printer.doprint(GDsAtTD_param_jac[j,i]) for i in range(0, len(params)) ]\n",
    "    GDsAboveTD_jac_list = [ printer.doprint(GDsAboveTD_param_jac[j,i]) for i in range(0, len(params)) ]\n",
    "\n",
    "    berman_calib += berman_calib_template.format(\\\n",
    "                              module=module,\n",
    "                              func=f_list[j],\n",
    "                              g_code=G_jac_list, \\\n",
    "                              tlmin=printer.doprint(tr), \\\n",
    "                              tlmax=printer.doprint(Tl), \\\n",
    "                              gl_code=Gl_jac_list, \\\n",
    "                              glmax_code=GatTl_jac_list, \\\n",
    "                              glabove_code=GaboveTl_jac_list, \\\n",
    "                              gd_code=GDs_jac_list, \\\n",
    "                              gdmax_code=GDsAtTD_jac_list, \\\n",
    "                              gdabove_code=GDsAboveTD_jac_list\n",
    "                             )"
   ]
  },
  {
   "cell_type": "markdown",
   "metadata": {},
   "source": [
    "Add convenience routines to berman_calib.h"
   ]
  },
  {
   "cell_type": "code",
   "execution_count": null,
   "metadata": {},
   "outputs": [],
   "source": [
    "extra_template = \"\"\"\\\n",
    "\n",
    "static int {module}_get_param_number(void) {{\n",
    "    return {number_params};\n",
    "}}\n",
    "\n",
    "static const char *paramNames[{number_params}] = {names_params};\n",
    "static const char *paramUnits[{number_params}] = {units_params};\n",
    "\n",
    "static const char **{module}_get_param_names(void) {{\n",
    "    return paramNames;\n",
    "}}\n",
    "\n",
    "static const char **{module}_get_param_units(void) {{\n",
    "    return paramUnits;\n",
    "}}\n",
    "\n",
    "static void {module}_get_param_values(double *values) {{\n",
    "    values[ 0] = {value_params[0]};\n",
    "    values[ 1] = {value_params[1]};\n",
    "    values[ 2] = {value_params[2]};\n",
    "    values[ 3] = {value_params[3]};\n",
    "    values[ 4] = {value_params[4]};\n",
    "    values[ 5] = {value_params[5]};\n",
    "    values[ 6] = {value_params[6]};\n",
    "    values[ 7] = {value_params[7]};\n",
    "    values[ 8] = {value_params[8]};\n",
    "    values[ 9] = {value_params[9]};\n",
    "    values[10] = {value_params[10]};\n",
    "    values[11] = {value_params[11]};\n",
    "    values[12] = {value_params[12]};\n",
    "    values[13] = {value_params[13]};\n",
    "    values[14] = {value_params[14]};\n",
    "    values[15] = {value_params[15]};\n",
    "    values[16] = {value_params[16]};\n",
    "    values[17] = {value_params[17]};\n",
    "    values[18] = {value_params[18]};\n",
    "    values[19] = {value_params[19]};\n",
    "    values[20] = {value_params[20]};\n",
    "    values[21] = {value_params[21]};\n",
    "    values[22] = {value_params[22]};\n",
    "    values[23] = {value_params[23]};\n",
    "    values[24] = {value_params[24]};\n",
    "    values[25] = {value_params[25]};\n",
    "    values[26] = {value_params[26]};\n",
    "}}\n",
    "\n",
    "static int {module}_set_param_values(double *values) {{\n",
    "    {value_params[0]}  = values[ 0];\n",
    "    {value_params[1]}  = values[ 1];\n",
    "    {value_params[2]}  = values[ 2];\n",
    "    {value_params[3]}  = values[ 3];\n",
    "    {value_params[4]}  = values[ 4];\n",
    "    {value_params[5]}  = values[ 5];\n",
    "    {value_params[6]}  = values[ 6];\n",
    "    {value_params[7]}  = values[ 7];\n",
    "    {value_params[8]}  = values[ 8];\n",
    "    {value_params[9]}  = values[ 9];\n",
    "    {value_params[10]} = values[10];\n",
    "    {value_params[11]} = values[11];\n",
    "    {value_params[12]} = values[12];\n",
    "    {value_params[13]} = values[13];\n",
    "    {value_params[14]} = values[14];\n",
    "    {value_params[15]} = values[15];\n",
    "    {value_params[16]} = values[16];\n",
    "    {value_params[17]} = values[17];\n",
    "    {value_params[18]} = values[18];\n",
    "    {value_params[19]} = values[19];\n",
    "    {value_params[20]} = values[20];\n",
    "    {value_params[21]} = values[21];\n",
    "    {value_params[22]} = values[22];\n",
    "    {value_params[23]} = values[23];\n",
    "    {value_params[24]} = values[24];\n",
    "    {value_params[25]} = values[25];\n",
    "    {value_params[26]} = values[26];\n",
    "    return 1;\n",
    "}}\n",
    "\n",
    "static double {module}_get_param_value(int index) {{\n",
    "    double result = 0.0;\n",
    "    switch (index) {{\n",
    "    case 0:\n",
    "        result = {value_params[0]};\n",
    "        break;\n",
    "    case 1:\n",
    "        result = {value_params[1]};\n",
    "        break;\n",
    "    case 2:\n",
    "        result = {value_params[2]};\n",
    "        break;\n",
    "    case 3:\n",
    "        result = {value_params[3]};\n",
    "        break;\n",
    "    case 4:\n",
    "        result = {value_params[4]};\n",
    "        break;\n",
    "    case 5:\n",
    "        result = {value_params[5]};\n",
    "        break;\n",
    "    case 6:\n",
    "        result = {value_params[6]};\n",
    "        break;\n",
    "    case 7:\n",
    "        result = {value_params[7]};\n",
    "        break;\n",
    "    case 8:\n",
    "        result = {value_params[8]};\n",
    "        break;\n",
    "    case 9:\n",
    "        result = {value_params[9]};\n",
    "        break;\n",
    "    case 10:\n",
    "        result = {value_params[10]};\n",
    "        break;\n",
    "    case 11:\n",
    "        result = {value_params[11]};\n",
    "        break;\n",
    "    case 12:\n",
    "        result = {value_params[12]};\n",
    "        break;\n",
    "    case 13:\n",
    "        result = {value_params[13]};\n",
    "        break;\n",
    "    case 14:\n",
    "        result = {value_params[14]};\n",
    "        break;\n",
    "    case 15:\n",
    "        result = {value_params[15]};\n",
    "        break;\n",
    "    case 16:\n",
    "        result = {value_params[16]};\n",
    "        break;\n",
    "    case 17:\n",
    "        result = {value_params[17]};\n",
    "        break;\n",
    "    case 18:\n",
    "        result = {value_params[18]};\n",
    "        break;\n",
    "    case 19:\n",
    "        result = {value_params[19]};\n",
    "        break;\n",
    "    case 20:\n",
    "        result = {value_params[20]};\n",
    "        break;\n",
    "    case 21:\n",
    "        result = {value_params[21]};\n",
    "        break;\n",
    "    case 22:\n",
    "        result = {value_params[22]};\n",
    "        break;\n",
    "    case 23:\n",
    "        result = {value_params[23]};\n",
    "        break;\n",
    "    case 24:\n",
    "        result = {value_params[24]};\n",
    "        break;\n",
    "    case 25:\n",
    "        result = {value_params[25]};\n",
    "        break;\n",
    "    case 26:\n",
    "        result = {value_params[26]};\n",
    "        break;\n",
    "    default:\n",
    "        break;\n",
    "    }}\n",
    "    return result;\n",
    "}}\n",
    "\n",
    "static int {module}_set_param_value(int index, double value) {{\n",
    "    int result = 1;\n",
    "    switch (index) {{\n",
    "    case 0:\n",
    "        {value_params[0]}  = value;\n",
    "        break;\n",
    "    case 1:\n",
    "        {value_params[1]}  = value;\n",
    "        break;\n",
    "    case 2:\n",
    "        {value_params[2]}  = value;\n",
    "        break;\n",
    "    case 3:\n",
    "        {value_params[3]}  = value;\n",
    "        break;\n",
    "    case 4:\n",
    "        {value_params[4]}  = value;\n",
    "        break;\n",
    "    case 5:\n",
    "        {value_params[5]}  = value;\n",
    "        break;\n",
    "    case 6:\n",
    "        {value_params[6]}  = value;\n",
    "        break;\n",
    "    case 7:\n",
    "        {value_params[7]}  = value;\n",
    "        break;\n",
    "    case 8:\n",
    "        {value_params[8]}  = value;\n",
    "        break;\n",
    "    case 9:\n",
    "        {value_params[9]}  = value;\n",
    "        break;\n",
    "    case 10:\n",
    "        {value_params[10]} = value;\n",
    "        break;\n",
    "    case 11:\n",
    "        {value_params[11]} = value;\n",
    "        break;\n",
    "    case 12:\n",
    "        {value_params[12]} = value;\n",
    "        break;\n",
    "    case 13:\n",
    "        {value_params[13]} = value;\n",
    "        break;\n",
    "    case 14:\n",
    "        {value_params[14]} = value;\n",
    "        break;\n",
    "    case 15:\n",
    "        {value_params[15]} = value;\n",
    "        break;\n",
    "    case 16:\n",
    "        {value_params[16]} = value;\n",
    "        break;\n",
    "    case 17:\n",
    "        {value_params[17]} = value;\n",
    "        break;\n",
    "    case 18:\n",
    "        {value_params[18]} = value;\n",
    "        break;\n",
    "    case 19:\n",
    "        {value_params[19]} = value;\n",
    "        break;\n",
    "    case 20:\n",
    "        {value_params[20]} = value;\n",
    "        break;\n",
    "    case 21:\n",
    "        {value_params[21]} = value;\n",
    "        break;\n",
    "    case 22:\n",
    "        {value_params[22]} = value;\n",
    "        break;\n",
    "    case 23:\n",
    "        {value_params[23]} = value;\n",
    "        break;\n",
    "    case 24:\n",
    "        {value_params[24]} = value;\n",
    "        break;\n",
    "    case 25:\n",
    "        {value_params[25]} = value;\n",
    "        break;\n",
    "    case 26:\n",
    "        {value_params[26]} = value;\n",
    "        break;\n",
    "    default:\n",
    "        result = 0;\n",
    "        break;\n",
    "    }}\n",
    "    return result;\n",
    "}}\n",
    "\n",
    "\\\n",
    "\"\"\""
   ]
  },
  {
   "cell_type": "code",
   "execution_count": null,
   "metadata": {},
   "outputs": [],
   "source": [
    "import json\n",
    "berman_calib += extra_template.format(module=module, \\\n",
    "                                      number_params=len(params), \\\n",
    "                                      names_params=json.dumps(params).replace('[', '{').replace(']', '}'), \\\n",
    "                                      units_params=json.dumps(units).replace('[', '{').replace(']', '}'), \\\n",
    "                                      value_params=[ printer.doprint(symparam[i]) for i in range(0, len(params)) ])"
   ]
  },
  {
   "cell_type": "code",
   "execution_count": null,
   "metadata": {},
   "outputs": [],
   "source": [
    "#print(berman_calib)\n",
    "with open('berman_calib.h', 'w') as f:\n",
    "    f.write(berman_calib)"
   ]
  },
  {
   "cell_type": "markdown",
   "metadata": {},
   "source": [
    "# Get the Berman (1988) database as a Panda's data frame"
   ]
  },
  {
   "cell_type": "code",
   "execution_count": null,
   "metadata": {},
   "outputs": [],
   "source": [
    "berman_df = pd.read_json('../berman_1988.json')\n",
    "berman_df['T_r'] = 298.15 \n",
    "berman_df['P_r'] = 1.0\n",
    "berman_df = berman_df[['Phase', 'Formula'] + params]\n",
    "berman_df.fillna(0, inplace=True)\n",
    "#print(berman_df.head())\n",
    "#print(list(berman_df))\n",
    "row = berman_df.iloc[42,:]\n",
    "print(row.Phase.title())\n",
    "print(row.Formula.title().replace(\"(1)\",\"\").replace(\"(\", \"\").replace(\")\",\"\"))\n",
    "print(params[0], row[params[0]])\n",
    "#print(printer.doprint(Assignment(symparam[0], row[params[0]])))\n",
    "print(row[2:])"
   ]
  },
  {
   "cell_type": "code",
   "execution_count": null,
   "metadata": {},
   "outputs": [],
   "source": [
    "elements = pd.read_csv('../elements.csv')\n",
    "entropies = pd.read_csv('../entropies.csv')\n",
    "print(elements.head())"
   ]
  },
  {
   "cell_type": "code",
   "execution_count": null,
   "metadata": {},
   "outputs": [],
   "source": [
    "def parse_formula(formula_string=\"Si(1)O(2)\"):\n",
    "    formula = row.Formula.title().replace('(',',').replace(')',',').split(',')\n",
    "    mw = 0.0\n",
    "    elmvector = np.zeros(120)\n",
    "    for i in range(0,len(formula)-1,2):\n",
    "        element = elements.loc[elements['Abbrv'] == formula[i]]\n",
    "        ind = element.index.values[0]\n",
    "        mw += element.MW.values[0]*float(formula[i+1])\n",
    "        elmvector[ind] = float(formula[i+1])\n",
    "    return mw, elmvector\n",
    "mw, elmvector = parse_formula(row.Formula)\n",
    "print (mw)\n",
    "print (elmvector)"
   ]
  },
  {
   "cell_type": "code",
   "execution_count": null,
   "metadata": {},
   "outputs": [],
   "source": [
    "fast_c_template = \"\"\"\\\n",
    "\n",
    "static const int identifier = {git_identifier};\n",
    "static const double {param_names[0]} = {param_values[0]};\n",
    "static const double {param_names[1]} = {param_values[1]};\n",
    "static const double {param_names[2]} = {param_values[2]};\n",
    "static const double {param_names[3]} = {param_values[3]};\n",
    "static const double {param_names[4]} = {param_values[4]};\n",
    "static const double {param_names[5]} = {param_values[5]};\n",
    "static const double {param_names[6]} = {param_values[6]};\n",
    "static const double {param_names[7]} = {param_values[7]};\n",
    "static const double {param_names[8]} = {param_values[8]};\n",
    "static const double {param_names[9]} = {param_values[9]};\n",
    "static const double {param_names[10]} = {param_values[10]};\n",
    "static const double {param_names[11]} = {param_values[11]};\n",
    "static const double {param_names[12]} = {param_values[12]};\n",
    "static const double {param_names[13]} = {param_values[13]};\n",
    "static const double {param_names[14]} = {param_values[14]};\n",
    "static const double {param_names[15]} = {param_values[15]};\n",
    "static const double {param_names[16]} = {param_values[16]};\n",
    "static const double {param_names[17]} = {param_values[17]};\n",
    "static const double {param_names[18]} = {param_values[18]};\n",
    "static const double {param_names[19]} = {param_values[19]};\n",
    "static const double {param_names[20]} = {param_values[20]};\n",
    "static const double {param_names[21]} = {param_values[21]};\n",
    "static const double {param_names[22]} = {param_values[22]};\n",
    "static const double {param_names[23]} = {param_values[23]};\n",
    "static const double {param_names[24]} = {param_values[24]};\n",
    "static const double {param_names[25]} = {param_values[25]};\n",
    "static const double {param_names[26]} = {param_values[26]};\n",
    "\n",
    "#include \"berman_calc.h\"\n",
    "\n",
    "const int {phase}_{module}_identifier(void) {{\n",
    "    return identifier;\n",
    "}}\n",
    "\n",
    "const char *{phase}_{module}_name(void) {{\n",
    "    return \"{phase}\";\n",
    "}}\n",
    "\n",
    "const char *{phase}_{module}_formula(void) {{\n",
    "    return \"{formula}\";\n",
    "}}\n",
    "\n",
    "const double {phase}_{module}_mw(void) {{\n",
    "    return {mw};\n",
    "}}\n",
    "\n",
    "static const double elmformula[106] = {{\n",
    "        {elmvector[0]},{elmvector[1]},{elmvector[2]},{elmvector[3]},{elmvector[4]},{elmvector[5]},\n",
    "        {elmvector[6]},{elmvector[7]},{elmvector[8]},{elmvector[9]},{elmvector[10]},{elmvector[11]},\n",
    "        {elmvector[12]},{elmvector[13]},{elmvector[14]},{elmvector[15]},{elmvector[16]},{elmvector[17]},\n",
    "        {elmvector[18]},{elmvector[19]},{elmvector[20]},{elmvector[21]},{elmvector[22]},{elmvector[23]},\n",
    "        {elmvector[24]},{elmvector[25]},{elmvector[26]},{elmvector[27]},{elmvector[28]},{elmvector[29]},\n",
    "        {elmvector[30]},{elmvector[31]},{elmvector[32]},{elmvector[33]},{elmvector[34]},{elmvector[35]},\n",
    "        {elmvector[36]},{elmvector[37]},{elmvector[38]},{elmvector[39]},{elmvector[40]},{elmvector[41]},\n",
    "        {elmvector[42]},{elmvector[43]},{elmvector[44]},{elmvector[45]},{elmvector[46]},{elmvector[47]},\n",
    "        {elmvector[48]},{elmvector[49]},{elmvector[50]},{elmvector[51]},{elmvector[52]},{elmvector[53]},\n",
    "        {elmvector[54]},{elmvector[55]},{elmvector[56]},{elmvector[57]},{elmvector[58]},{elmvector[59]},\n",
    "        {elmvector[60]},{elmvector[61]},{elmvector[62]},{elmvector[63]},{elmvector[64]},{elmvector[65]},\n",
    "        {elmvector[66]},{elmvector[67]},{elmvector[68]},{elmvector[69]},{elmvector[70]},{elmvector[71]},\n",
    "        {elmvector[72]},{elmvector[73]},{elmvector[74]},{elmvector[75]},{elmvector[76]},{elmvector[77]},\n",
    "        {elmvector[78]},{elmvector[79]},{elmvector[80]},{elmvector[81]},{elmvector[82]},{elmvector[83]},\n",
    "        {elmvector[84]},{elmvector[85]},{elmvector[86]},{elmvector[87]},{elmvector[88]},{elmvector[89]},\n",
    "        {elmvector[90]},{elmvector[91]},{elmvector[92]},{elmvector[93]},{elmvector[94]},{elmvector[95]},\n",
    "        {elmvector[96]},{elmvector[97]},{elmvector[98]},{elmvector[99]},{elmvector[100]},{elmvector[101]},\n",
    "        {elmvector[102]},{elmvector[103]},{elmvector[104]},{elmvector[105]}\n",
    "    }};\n",
    "\n",
    "const double *{phase}_{module}_elements(void) {{\n",
    "    return elmformula;\n",
    "}}\n",
    "\n",
    "double {phase}_{module}_g(double T, double P) {{\n",
    "    return {module}_g(T, P);\n",
    "}}\n",
    "\n",
    "double {phase}_{module}_dgdt(double T, double P) {{\n",
    "    return {module}_dgdt(T, P);\n",
    "}}\n",
    "\n",
    "double {phase}_{module}_dgdp(double T, double P) {{\n",
    "    return {module}_dgdp(T, P);\n",
    "}}\n",
    "\n",
    "double {phase}_{module}_d2gdt2(double T, double P) {{\n",
    "    return {module}_d2gdt2(T, P);\n",
    "}}\n",
    "\n",
    "double {phase}_{module}_d2gdtdp(double T, double P) {{\n",
    "    return {module}_d2gdtdp(T, P);\n",
    "}}\n",
    "\n",
    "double {phase}_{module}_d2gdp2(double T, double P) {{\n",
    "    return {module}_d2gdp2(T, P);\n",
    "}}\n",
    "\n",
    "double {phase}_{module}_d3gdt3(double T, double P) {{\n",
    "    return {module}_d3gdt3(T, P);\n",
    "}}\n",
    "\n",
    "double {phase}_{module}_d3gdt2dp(double T, double P) {{\n",
    "    return {module}_d3gdt2dp(T, P);\n",
    "}}\n",
    "\n",
    "double {phase}_{module}_d3gdtdp2(double T, double P) {{\n",
    "    return {module}_d3gdtdp2(T, P);\n",
    "}}\n",
    "\n",
    "double {phase}_{module}_d3gdp3(double T, double P) {{\n",
    "    return {module}_d3gdp3(T, P);\n",
    "}}\n",
    "\n",
    "double {phase}_{module}_s(double T, double P) {{\n",
    "    return {module}_s(T, P);\n",
    "}}\n",
    "\n",
    "double {phase}_{module}_v(double T, double P) {{\n",
    "    return {module}_v(T, P);\n",
    "}}\n",
    "\n",
    "double {phase}_{module}_cv(double T, double P) {{\n",
    "    return {module}_cv(T, P);\n",
    "}}\n",
    "\n",
    "double {phase}_{module}_cp(double T, double P) {{\n",
    "    return {module}_cp(T, P);\n",
    "}}\n",
    "\n",
    "double {phase}_{module}_dcpdt(double T, double P) {{\n",
    "    return {module}_dcpdt(T, P);\n",
    "}}\n",
    "\n",
    "double {phase}_{module}_alpha(double T, double P) {{\n",
    "    return {module}_alpha(T, P);\n",
    "}}\n",
    "\n",
    "double {phase}_{module}_beta(double T, double P) {{\n",
    "    return {module}_beta(T, P);\n",
    "}}\n",
    "\n",
    "double {phase}_{module}_K(double T, double P) {{\n",
    "    return {module}_K(T, P);\n",
    "}}\n",
    "\n",
    "double {phase}_{module}_Kp(double T, double P) {{\n",
    "    return {module}_Kp(T, P);\n",
    "}}\n",
    "\n",
    "\\\n",
    "\"\"\""
   ]
  },
  {
   "cell_type": "code",
   "execution_count": null,
   "metadata": {},
   "outputs": [],
   "source": [
    "calib_c_template = \"\"\"\\\n",
    "\n",
    "static int identifier = {git_identifier};\n",
    "static double {param_names[0]} = {param_values[0]};\n",
    "static double {param_names[1]} = {param_values[1]};\n",
    "static double {param_names[2]} = {param_values[2]};\n",
    "static double {param_names[3]} = {param_values[3]};\n",
    "static double {param_names[4]} = {param_values[4]};\n",
    "static double {param_names[5]} = {param_values[5]};\n",
    "static double {param_names[6]} = {param_values[6]};\n",
    "static double {param_names[7]} = {param_values[7]};\n",
    "static double {param_names[8]} = {param_values[8]};\n",
    "static double {param_names[9]} = {param_values[9]};\n",
    "static double {param_names[10]} = {param_values[10]};\n",
    "static double {param_names[11]} = {param_values[11]};\n",
    "static double {param_names[12]} = {param_values[12]};\n",
    "static double {param_names[13]} = {param_values[13]};\n",
    "static double {param_names[14]} = {param_values[14]};\n",
    "static double {param_names[15]} = {param_values[15]};\n",
    "static double {param_names[16]} = {param_values[16]};\n",
    "static double {param_names[17]} = {param_values[17]};\n",
    "static double {param_names[18]} = {param_values[18]};\n",
    "static double {param_names[19]} = {param_values[19]};\n",
    "static double {param_names[20]} = {param_values[20]};\n",
    "static double {param_names[21]} = {param_values[21]};\n",
    "static double {param_names[22]} = {param_values[22]};\n",
    "static double {param_names[23]} = {param_values[23]};\n",
    "static double {param_names[24]} = {param_values[24]};\n",
    "static double {param_names[25]} = {param_values[25]};\n",
    "static double {param_names[26]} = {param_values[26]};\n",
    "\n",
    "#include \"berman_calc.h\"\n",
    "#include \"berman_calib.h\"\n",
    "\n",
    "const int {phase}_{module}_calib_identifier(void) {{\n",
    "    return identifier;\n",
    "}}\n",
    "\n",
    "const char *{phase}_{module}_calib_name(void) {{\n",
    "    return \"{phase}\";\n",
    "}}\n",
    "\n",
    "const char *{phase}_{module}_calib_formula(void) {{\n",
    "    return \"{formula}\";\n",
    "}}\n",
    "\n",
    "const double {phase}_{module}_calib_mw(void) {{\n",
    "    return {mw};\n",
    "}}\n",
    "\n",
    "static const double elmformula[106] = {{\n",
    "        {elmvector[0]},{elmvector[1]},{elmvector[2]},{elmvector[3]},{elmvector[4]},{elmvector[5]},\n",
    "        {elmvector[6]},{elmvector[7]},{elmvector[8]},{elmvector[9]},{elmvector[10]},{elmvector[11]},\n",
    "        {elmvector[12]},{elmvector[13]},{elmvector[14]},{elmvector[15]},{elmvector[16]},{elmvector[17]},\n",
    "        {elmvector[18]},{elmvector[19]},{elmvector[20]},{elmvector[21]},{elmvector[22]},{elmvector[23]},\n",
    "        {elmvector[24]},{elmvector[25]},{elmvector[26]},{elmvector[27]},{elmvector[28]},{elmvector[29]},\n",
    "        {elmvector[30]},{elmvector[31]},{elmvector[32]},{elmvector[33]},{elmvector[34]},{elmvector[35]},\n",
    "        {elmvector[36]},{elmvector[37]},{elmvector[38]},{elmvector[39]},{elmvector[40]},{elmvector[41]},\n",
    "        {elmvector[42]},{elmvector[43]},{elmvector[44]},{elmvector[45]},{elmvector[46]},{elmvector[47]},\n",
    "        {elmvector[48]},{elmvector[49]},{elmvector[50]},{elmvector[51]},{elmvector[52]},{elmvector[53]},\n",
    "        {elmvector[54]},{elmvector[55]},{elmvector[56]},{elmvector[57]},{elmvector[58]},{elmvector[59]},\n",
    "        {elmvector[60]},{elmvector[61]},{elmvector[62]},{elmvector[63]},{elmvector[64]},{elmvector[65]},\n",
    "        {elmvector[66]},{elmvector[67]},{elmvector[68]},{elmvector[69]},{elmvector[70]},{elmvector[71]},\n",
    "        {elmvector[72]},{elmvector[73]},{elmvector[74]},{elmvector[75]},{elmvector[76]},{elmvector[77]},\n",
    "        {elmvector[78]},{elmvector[79]},{elmvector[80]},{elmvector[81]},{elmvector[82]},{elmvector[83]},\n",
    "        {elmvector[84]},{elmvector[85]},{elmvector[86]},{elmvector[87]},{elmvector[88]},{elmvector[89]},\n",
    "        {elmvector[90]},{elmvector[91]},{elmvector[92]},{elmvector[93]},{elmvector[94]},{elmvector[95]},\n",
    "        {elmvector[96]},{elmvector[97]},{elmvector[98]},{elmvector[99]},{elmvector[100]},{elmvector[101]},\n",
    "        {elmvector[102]},{elmvector[103]},{elmvector[104]},{elmvector[105]}\n",
    "    }};\n",
    "\n",
    "const double *{phase}_{module}_calib_elements(void) {{\n",
    "    return elmformula;\n",
    "}}\n",
    "\n",
    "double {phase}_{module}_calib_g(double T, double P) {{\n",
    "    return {module}_g(T, P);\n",
    "}}\n",
    "\n",
    "double {phase}_{module}_calib_dgdt(double T, double P) {{\n",
    "    return {module}_dgdt(T, P);\n",
    "}}\n",
    "\n",
    "double {phase}_{module}_calib_dgdp(double T, double P) {{\n",
    "    return {module}_dgdp(T, P);\n",
    "}}\n",
    "\n",
    "double {phase}_{module}_calib_d2gdt2(double T, double P) {{\n",
    "    return {module}_d2gdt2(T, P);\n",
    "}}\n",
    "\n",
    "double {phase}_{module}_calib_d2gdtdp(double T, double P) {{\n",
    "    return {module}_d2gdtdp(T, P);\n",
    "}}\n",
    "\n",
    "double {phase}_{module}_calib_d2gdp2(double T, double P) {{\n",
    "    return {module}_d2gdp2(T, P);\n",
    "}}\n",
    "\n",
    "double {phase}_{module}_calib_d3gdt3(double T, double P) {{\n",
    "    return {module}_d3gdt3(T, P);\n",
    "}}\n",
    "\n",
    "double {phase}_{module}_calib_d3gdt2dp(double T, double P) {{\n",
    "    return {module}_d3gdt2dp(T, P);\n",
    "}}\n",
    "\n",
    "double {phase}_{module}_calib_d3gdtdp2(double T, double P) {{\n",
    "    return {module}_d3gdtdp2(T, P);\n",
    "}}\n",
    "\n",
    "double {phase}_{module}_calib_d3gdp3(double T, double P) {{\n",
    "    return {module}_d3gdp3(T, P);\n",
    "}}\n",
    "\n",
    "double {phase}_{module}_calib_s(double T, double P) {{\n",
    "    return {module}_s(T, P);\n",
    "}}\n",
    "\n",
    "double {phase}_{module}_calib_v(double T, double P) {{\n",
    "    return {module}_v(T, P);\n",
    "}}\n",
    "\n",
    "double {phase}_{module}_calib_cv(double T, double P) {{\n",
    "    return {module}_cv(T, P);\n",
    "}}\n",
    "\n",
    "double {phase}_{module}_calib_cp(double T, double P) {{\n",
    "    return {module}_cp(T, P);\n",
    "}}\n",
    "\n",
    "double {phase}_{module}_calib_dcpdt(double T, double P) {{\n",
    "    return {module}_dcpdt(T, P);\n",
    "}}\n",
    "\n",
    "double {phase}_{module}_calib_alpha(double T, double P) {{\n",
    "    return {module}_alpha(T, P);\n",
    "}}\n",
    "\n",
    "double {phase}_{module}_calib_beta(double T, double P) {{\n",
    "    return {module}_beta(T, P);\n",
    "}}\n",
    "\n",
    "double {phase}_{module}_calib_K(double T, double P) {{\n",
    "    return {module}_K(T, P);\n",
    "}}\n",
    "\n",
    "double {phase}_{module}_calib_Kp(double T, double P) {{\n",
    "    return {module}_Kp(T, P);\n",
    "}}\n",
    "\n",
    "int {phase}_{module}_get_param_number(void) {{\n",
    "    return {module}_get_param_number();\n",
    "}}\n",
    "\n",
    "const char **{phase}_{module}_get_param_names(void) {{\n",
    "    return {module}_get_param_names();\n",
    "}}\n",
    "\n",
    "const char **{phase}_{module}_get_param_units(void) {{\n",
    "    return {module}_get_param_units();\n",
    "}}\n",
    "\n",
    "void {phase}_{module}_get_param_values(double *values) {{\n",
    "    {module}_get_param_values(values);\n",
    "}}\n",
    "\n",
    "int {phase}_{module}_set_param_values(double *values) {{\n",
    "    return {module}_set_param_values(values);\n",
    "}}\n",
    "\n",
    "double {phase}_{module}_get_param_value(int index) {{\n",
    "    return {module}_get_param_value(index);\n",
    "}}\n",
    "\n",
    "int {phase}_{module}_set_param_value(int index, double value) {{\n",
    "    return {module}_set_param_value(index, value);\n",
    "}}\n",
    "\n",
    "double {phase}_{module}_dparam_g(double T, double P, int index) {{\n",
    "    return {module}_dparam_g(T, P, index);\n",
    "}}\n",
    "\n",
    "double {phase}_{module}_dparam_dgdt(double T, double P, int index) {{\n",
    "    return {module}_dparam_dgdt(T, P, index);\n",
    "}}\n",
    "\n",
    "double {phase}_{module}_dparam_dgdp(double T, double P, int index) {{\n",
    "    return {module}_dparam_dgdp(T, P, index);\n",
    "}}\n",
    "\n",
    "double {phase}_{module}_dparam_d2gdt2(double T, double P, int index) {{\n",
    "    return {module}_dparam_d2gdt2(T, P, index);\n",
    "}}\n",
    "\n",
    "double {phase}_{module}_dparam_d2gdtdp(double T, double P, int index) {{\n",
    "    return {module}_dparam_d2gdtdp(T, P, index);\n",
    "}}\n",
    "\n",
    "double {phase}_{module}_dparam_d2gdp2(double T, double P, int index) {{\n",
    "    return {module}_dparam_d2gdp2(T, P, index);\n",
    "}}\n",
    "\n",
    "double {phase}_{module}_dparam_d3gdt3(double T, double P, int index) {{\n",
    "    return {module}_dparam_d3gdt3(T, P, index);\n",
    "}}\n",
    "\n",
    "double {phase}_{module}_dparam_d3gdt2dp(double T, double P, int index) {{\n",
    "    return {module}_dparam_d3gdt2dp(T, P, index);\n",
    "}}\n",
    "\n",
    "double {phase}_{module}_dparam_d3gdtdp2(double T, double P, int index) {{\n",
    "    return {module}_dparam_d3gdtdp2(T, P, index);\n",
    "}}\n",
    "\n",
    "double {phase}_{module}_dparam_d3gdp3(double T, double P, int index) {{\n",
    "    return {module}_dparam_d3gdp3(T, P, index);\n",
    "}}\n",
    "\n",
    "\\\n",
    "\"\"\""
   ]
  },
  {
   "cell_type": "code",
   "execution_count": null,
   "metadata": {},
   "outputs": [],
   "source": [
    "fast_h_template = \"\"\"\\\n",
    "\n",
    "const char *{phase}_{module}_name(void);\n",
    "const char *{phase}_{module}_formula(void);\n",
    "const double {phase}_{module}_mw(void);\n",
    "const double *{phase}_{module}_elements(void);\n",
    "\n",
    "double {phase}_{module}_g(double T, double P);\n",
    "double {phase}_{module}_dgdt(double T, double P);\n",
    "double {phase}_{module}_dgdp(double T, double P);\n",
    "double {phase}_{module}_d2gdt2(double T, double P);\n",
    "double {phase}_{module}_d2gdtdp(double T, double P);\n",
    "double {phase}_{module}_d2gdp2(double T, double P);\n",
    "double {phase}_{module}_d3gdt3(double T, double P);\n",
    "double {phase}_{module}_d3gdt2dp(double T, double P);\n",
    "double {phase}_{module}_d3gdtdp2(double T, double P);\n",
    "double {phase}_{module}_d3gdp3(double T, double P);\n",
    "\n",
    "double {phase}_{module}_s(double T, double P);\n",
    "double {phase}_{module}_v(double T, double P);\n",
    "double {phase}_{module}_cv(double T, double P);\n",
    "double {phase}_{module}_cp(double T, double P);\n",
    "double {phase}_{module}_dcpdt(double T, double P);\n",
    "double {phase}_{module}_alpha(double T, double P);\n",
    "double {phase}_{module}_beta(double T, double P);\n",
    "double {phase}_{module}_K(double T, double P);\n",
    "double {phase}_{module}_Kp(double T, double P);\n",
    "\n",
    "\\\n",
    "\"\"\""
   ]
  },
  {
   "cell_type": "code",
   "execution_count": null,
   "metadata": {},
   "outputs": [],
   "source": [
    "calib_h_template = \"\"\"\\\n",
    "\n",
    "const char *{phase}_{module}_calib_name(void);\n",
    "const char *{phase}_{module}_calib_formula(void);\n",
    "const double {phase}_{module}_calib_mw(void);\n",
    "const double *{phase}_{module}_calib_elements(void);\n",
    "\n",
    "double {phase}_{module}_calib_g(double T, double P);\n",
    "double {phase}_{module}_calib_dgdt(double T, double P);\n",
    "double {phase}_{module}_calib_dgdp(double T, double P);\n",
    "double {phase}_{module}_calib_d2gdt2(double T, double P);\n",
    "double {phase}_{module}_calib_d2gdtdp(double T, double P);\n",
    "double {phase}_{module}_calib_d2gdp2(double T, double P);\n",
    "double {phase}_{module}_calib_d3gdt3(double T, double P);\n",
    "double {phase}_{module}_calib_d3gdt2dp(double T, double P);\n",
    "double {phase}_{module}_calib_d3gdtdp2(double T, double P);\n",
    "double {phase}_{module}_calib_d3gdp3(double T, double P);\n",
    "\n",
    "double {phase}_{module}_calib_s(double T, double P);\n",
    "double {phase}_{module}_calib_v(double T, double P);\n",
    "double {phase}_{module}_calib_cv(double T, double P);\n",
    "double {phase}_{module}_calib_cp(double T, double P);\n",
    "double {phase}_{module}_calib_dcpdt(double T, double P);\n",
    "double {phase}_{module}_calib_alpha(double T, double P);\n",
    "double {phase}_{module}_calib_beta(double T, double P);\n",
    "double {phase}_{module}_calib_K(double T, double P);\n",
    "double {phase}_{module}_calib_Kp(double T, double P);\n",
    "\n",
    "int {phase}_{module}_get_param_number(void);\n",
    "const char *{phase}_{module}_get_param_names(void);\n",
    "const char *{phase}_{module}_get_param_units(void);\n",
    "void {phase}_{module}_get_param_values(double *values);\n",
    "int {phase}_{module}_set_param_values(double *values);\n",
    "double {phase}_{module}_get_param_value(int index);\n",
    "int {phase}_{module}_set_param_value(int index, double value);\n",
    "\n",
    "double {phase}_{module}_dparam_g(double T, double P, int index);\n",
    "double {phase}_{module}_dparam_dgdt(double T, double P, int index);\n",
    "double {phase}_{module}_dparam_dgdp(double T, double P, int index);\n",
    "double {phase}_{module}_dparam_d2gdt2(double T, double P, int index);\n",
    "double {phase}_{module}_dparam_d2gdtdp(double T, double P, int index);\n",
    "double {phase}_{module}_dparam_d2gdp2(double T, double P, int index);\n",
    "double {phase}_{module}_dparam_d3gdt3(double T, double P, int index);\n",
    "double {phase}_{module}_dparam_d3gdt2dp(double T, double P, int index);\n",
    "double {phase}_{module}_dparam_d3gdtdp2(double T, double P, int index);\n",
    "double {phase}_{module}_dparam_d3gdp3(double T, double P, int index);\n",
    "\n",
    "\\\n",
    "\"\"\""
   ]
  },
  {
   "cell_type": "markdown",
   "metadata": {},
   "source": [
    "Generate both fast computation and calibibration code for each phase in the Berman (1988) database"
   ]
  },
  {
   "cell_type": "code",
   "execution_count": null,
   "metadata": {},
   "outputs": [],
   "source": [
    "for i in range(0,berman_df.shape[0]): #range(0,1) [0,1,6,48,49,50] \n",
    "    row = berman_df.iloc[i,:]\n",
    "    phase = row.Phase.title().replace(\"-\",\"_\")\n",
    "    print (phase)\n",
    "    formula = row.Formula.title().replace(\"(1)\",\"\").replace(\"(\", \"\").replace(\")\",\"\")\n",
    "    mw, elmvector = parse_formula(row.Formula)\n",
    "    berman_phase_c = ''\n",
    "    berman_phase_h = ''\n",
    "    berman_phase_c += fast_c_template.format( \\\n",
    "        module=module, \\\n",
    "        phase=phase, \\\n",
    "        formula=formula, \\\n",
    "        mw=mw, \\\n",
    "        elmvector=elmvector, \\\n",
    "        param_names=[ printer.doprint(symparam[i]) for i in range(0, len(params)) ], \\\n",
    "        param_values=row[2:], \\\n",
    "        git_identifier=1 \\\n",
    "        )\n",
    "    berman_phase_h += fast_h_template.format(module=module, phase=phase)\n",
    "    with open(phase + '_berman.h', 'w') as f:\n",
    "        f.write(berman_phase_h)\n",
    "    with open(phase + '_berman.c', 'w') as f:\n",
    "        f.write(berman_phase_c)\n",
    "    berman_phase_calib_c = ''\n",
    "    berman_phase_calib_h = ''\n",
    "    berman_phase_calib_c += calib_c_template.format( \\\n",
    "        module=module, \\\n",
    "        phase=phase, \\\n",
    "        formula=formula, \\\n",
    "        mw=mw, \\\n",
    "        elmvector=elmvector, \\\n",
    "        param_names=[ printer.doprint(symparam[i]) for i in range(0, len(params)) ], \\\n",
    "        param_values=row[2:], \\\n",
    "        git_identifier=1 \\\n",
    "        )\n",
    "    berman_phase_calib_h += calib_h_template.format(module=module, phase=phase)\n",
    "    with open(phase + '_berman_calib.h', 'w') as f:\n",
    "        f.write(berman_phase_calib_h)\n",
    "    with open(phase + '_berman_calib.c', 'w') as f:\n",
    "        f.write(berman_phase_calib_c)"
   ]
  },
  {
   "cell_type": "markdown",
   "metadata": {},
   "source": [
    "### Load the Cython Jupyter magic"
   ]
  },
  {
   "cell_type": "code",
   "execution_count": null,
   "metadata": {},
   "outputs": [],
   "source": [
    "%load_ext cython"
   ]
  },
  {
   "cell_type": "markdown",
   "metadata": {},
   "source": [
    "Generate the C-code and python extension\n",
    "```\n",
    "setuptools.extension.Extension\n",
    "self, name, sources, include_dirs=None, define_macros=None, undef_macros=None, library_dirs=None, libraries=None, runtime_library_dirs=None, extra_objects=None, extra_compile_args=None, extra_link_args=None, export_symbols=None, swig_opts=None, depends=None, language=None, optional=None, **kw\n",
    "```\n",
    "```\n",
    "-O0, -O1, -O2, -O3, -Ofast, -Os, -Oz, -Og, -O, -O4\n",
    "Specify which optimization level to use:\n",
    "\n",
    "-O0 Means “no optimization”: this level compiles the fastest and generates the most debuggable code.\n",
    "\n",
    "-O1 Somewhere between -O0 and -O2.\n",
    "\n",
    "-O2 Moderate level of optimization which enables most optimizations.\n",
    "\n",
    "-O3 Like -O2, except that it enables optimizations that take longer to perform or that may generate larger code (in an attempt to make the program run faster).\n",
    "\n",
    "-Ofast Enables all the optimizations from -O3 along with other aggressive optimizations that may violate strict compliance with language standards.\n",
    "\n",
    "-Os Like -O2 with extra optimizations to reduce code size.\n",
    "\n",
    "-Oz Like -Os (and thus -O2), but reduces code size further.\n",
    "\n",
    "-Og Like -O1. In future versions, this option might disable different optimizations in order to improve debuggability.\n",
    "\n",
    "-O Equivalent to -O2.\n",
    "\n",
    "-O4 and higher\n",
    "```"
   ]
  },
  {
   "cell_type": "code",
   "execution_count": null,
   "metadata": {},
   "outputs": [],
   "source": [
    "%%writefile berman.pyxbld\n",
    "import numpy\n",
    "\n",
    "#            module name specified by `%%cython_pyximport` magic\n",
    "#            |        just `modname + \".pyx\"`\n",
    "#            |        |\n",
    "def make_ext(modname, pyxfilename):\n",
    "    from setuptools.extension import Extension\n",
    "    return Extension(modname,\n",
    "                     sources=[pyxfilename, 'Akermanite_berman.c', 'Akermanite_berman_calib.c', \\\n",
    "                              'A_Quartz_berman.c', 'A_Quartz_berman_calib.c', \\\n",
    "                              'B_Quartz_berman.c', 'B_Quartz_berman_calib.c', \\\n",
    "                             ],\n",
    "                     include_dirs=['.', numpy.get_include()], extra_compile_args=['-O3'])"
   ]
  },
  {
   "cell_type": "markdown",
   "metadata": {},
   "source": [
    "```\n",
    "preallocate our output array\n",
    "cdef cnp.ndarray[cnp.double_t, ndim=1] dY = np.empty(y.size, dtype=np.double)\n",
    "now call the C function\n",
    "c_odes(<double *> y.data, <double *> dY.data)\n",
    "```"
   ]
  },
  {
   "cell_type": "code",
   "execution_count": null,
   "metadata": {},
   "outputs": [],
   "source": [
    "%%cython_pyximport berman\n",
    "import numpy as np\n",
    "cimport numpy as cnp # cimport gives us access to NumPy's C API\n",
    "\n",
    "# here we just replicate the function signature from the header\n",
    "cdef extern from \"Akermanite_berman.h\":\n",
    "    double Akermanite_berman_g(double t, double p)\n",
    "    double Akermanite_berman_s(double t, double p)\n",
    "    double Akermanite_berman_cp(double t, double p)\n",
    "    double Akermanite_berman_v(double t, double p)\n",
    "cdef extern from \"Akermanite_berman_calib.h\":\n",
    "    double Akermanite_berman_calib_g(double t, double p)\n",
    "    double Akermanite_berman_calib_s(double t, double p)\n",
    "    double Akermanite_berman_calib_cp(double t, double p)\n",
    "    double Akermanite_berman_calib_v(double t, double p)\n",
    "cdef extern from \"A_Quartz_berman.h\":\n",
    "    double A_Quartz_berman_g(double t, double p)\n",
    "    double A_Quartz_berman_s(double t, double p)\n",
    "    double A_Quartz_berman_cp(double t, double p)\n",
    "    double A_Quartz_berman_v(double t, double p)\n",
    "cdef extern from \"A_Quartz_berman_calib.h\":\n",
    "    double A_Quartz_berman_calib_g(double t, double p)\n",
    "    double A_Quartz_berman_calib_s(double t, double p)\n",
    "    double A_Quartz_berman_calib_cp(double t, double p)\n",
    "    double A_Quartz_berman_calib_v(double t, double p)\n",
    "cdef extern from \"B_Quartz_berman.h\":\n",
    "    double B_Quartz_berman_g(double t, double p)\n",
    "    double B_Quartz_berman_s(double t, double p)\n",
    "    double B_Quartz_berman_cp(double t, double p)\n",
    "    double B_Quartz_berman_v(double t, double p)\n",
    "cdef extern from \"B_Quartz_berman_calib.h\":\n",
    "    double B_Quartz_berman_calib_g(double t, double p)\n",
    "    double B_Quartz_berman_calib_s(double t, double p)\n",
    "    double B_Quartz_berman_calib_cp(double t, double p)\n",
    "    double B_Quartz_berman_calib_v(double t, double p)\n",
    "\n",
    "# here is the \"wrapper\" signature\n",
    "def cy_Akermanite_berman_g(double t, double p):\n",
    "    result = Akermanite_berman_g(<double> t, <double> p)\n",
    "    return result\n",
    "def cy_Akermanite_berman_s(double t, double p):\n",
    "    result = Akermanite_berman_s(<double> t, <double> p)\n",
    "    return result\n",
    "def cy_Akermanite_berman_cp(double t, double p):\n",
    "    result = Akermanite_berman_cp(<double> t, <double> p)\n",
    "    return result\n",
    "def cy_Akermanite_berman_v(double t, double p):\n",
    "    result = Akermanite_berman_v(<double> t, <double> p)\n",
    "    return result\n",
    "\n",
    "def cy_Akermanite_berman_calib_g(double t, double p):\n",
    "    result = Akermanite_berman_calib_g(<double> t, <double> p)\n",
    "    return result\n",
    "def cy_Akermanite_berman_calib_s(double t, double p):\n",
    "    result = Akermanite_berman_calib_s(<double> t, <double> p)\n",
    "    return result\n",
    "def cy_Akermanite_berman_calib_cp(double t, double p):\n",
    "    result = Akermanite_berman_calib_cp(<double> t, <double> p)\n",
    "    return result\n",
    "def cy_Akermanite_berman_calib_v(double t, double p):\n",
    "    result = Akermanite_berman_calib_v(<double> t, <double> p)\n",
    "    return result\n",
    "\n",
    "def cy_A_Quartz_berman_g(double t, double p):\n",
    "    result = A_Quartz_berman_g(<double> t, <double> p)\n",
    "    return result\n",
    "def cy_A_Quartz_berman_s(double t, double p):\n",
    "    result = A_Quartz_berman_s(<double> t, <double> p)\n",
    "    return result\n",
    "def cy_A_Quartz_berman_cp(double t, double p):\n",
    "    result = A_Quartz_berman_cp(<double> t, <double> p)\n",
    "    return result\n",
    "def cy_A_Quartz_berman_v(double t, double p):\n",
    "    result = A_Quartz_berman_v(<double> t, <double> p)\n",
    "    return result\n",
    "\n",
    "def cy_A_Quartz_berman_calib_g(double t, double p):\n",
    "    result = A_Quartz_berman_calib_g(<double> t, <double> p)\n",
    "    return result\n",
    "def cy_A_Quartz_berman_calib_s(double t, double p):\n",
    "    result = A_Quartz_berman_calib_s(<double> t, <double> p)\n",
    "    return result\n",
    "def cy_A_Quartz_berman_calib_cp(double t, double p):\n",
    "    result = A_Quartz_berman_calib_cp(<double> t, <double> p)\n",
    "    return result\n",
    "def cy_A_Quartz_berman_calib_v(double t, double p):\n",
    "    result = A_Quartz_berman_calib_v(<double> t, <double> p)\n",
    "    return result\n",
    "\n",
    "def cy_B_Quartz_berman_g(double t, double p):\n",
    "    result = B_Quartz_berman_g(<double> t, <double> p)\n",
    "    return result\n",
    "def cy_B_Quartz_berman_s(double t, double p):\n",
    "    result = B_Quartz_berman_s(<double> t, <double> p)\n",
    "    return result\n",
    "def cy_B_Quartz_berman_cp(double t, double p):\n",
    "    result = B_Quartz_berman_cp(<double> t, <double> p)\n",
    "    return result\n",
    "def cy_B_Quartz_berman_v(double t, double p):\n",
    "    result = B_Quartz_berman_v(<double> t, <double> p)\n",
    "    return result\n",
    "\n",
    "def cy_B_Quartz_berman_calib_g(double t, double p):\n",
    "    result = B_Quartz_berman_calib_g(<double> t, <double> p)\n",
    "    return result\n",
    "def cy_B_Quartz_berman_calib_s(double t, double p):\n",
    "    result = B_Quartz_berman_calib_s(<double> t, <double> p)\n",
    "    return result\n",
    "def cy_B_Quartz_berman_calib_cp(double t, double p):\n",
    "    result = B_Quartz_berman_calib_cp(<double> t, <double> p)\n",
    "    return result\n",
    "def cy_B_Quartz_berman_calib_v(double t, double p):\n",
    "    result = B_Quartz_berman_calib_v(<double> t, <double> p)\n",
    "    return result"
   ]
  },
  {
   "cell_type": "code",
   "execution_count": null,
   "metadata": {},
   "outputs": [],
   "source": [
    "%cd .."
   ]
  },
  {
   "cell_type": "markdown",
   "metadata": {},
   "source": [
    "### Test and time the generated functions for Akermanite"
   ]
  },
  {
   "cell_type": "code",
   "execution_count": null,
   "metadata": {},
   "outputs": [],
   "source": [
    "t = 1000.0\n",
    "p = 10000.0"
   ]
  },
  {
   "cell_type": "code",
   "execution_count": null,
   "metadata": {},
   "outputs": [],
   "source": [
    "newCodeFast = cy_Akermanite_berman_g(t, p)\n",
    "newCodeCalib = cy_Akermanite_berman_calib_g(t, p)\n",
    "print (newCodeFast, newCodeCalib, newCodeFast-newCodeCalib)\n",
    "print (cy_Akermanite_berman_s(t, p))\n",
    "print (cy_Akermanite_berman_calib_s(t, p))"
   ]
  },
  {
   "cell_type": "markdown",
   "metadata": {},
   "source": [
    "Compare results with the Phases Python module (wrapped Objective-C code)"
   ]
  },
  {
   "cell_type": "code",
   "execution_count": null,
   "metadata": {},
   "outputs": [],
   "source": [
    "from thermoengine import phases\n",
    "from thermoengine import model\n",
    "modelDB = model.Database()\n",
    "Akermanite =modelDB.get_phase('Ak')\n",
    "print(Akermanite.props['phase_name'])"
   ]
  },
  {
   "cell_type": "code",
   "execution_count": null,
   "metadata": {},
   "outputs": [],
   "source": [
    "oldCode = Akermanite.gibbs_energy(t, p)\n",
    "print (oldCode)\n",
    "print (oldCode-newCodeFast)\n",
    "print (Akermanite.entropy(t, p))"
   ]
  },
  {
   "cell_type": "markdown",
   "metadata": {},
   "source": [
    "Instantiate the Objective-C code via Rubicon"
   ]
  },
  {
   "cell_type": "code",
   "execution_count": null,
   "metadata": {},
   "outputs": [],
   "source": [
    "from ctypes import cdll\n",
    "from ctypes import util\n",
    "from rubicon.objc import ObjCClass, objc_method\n",
    "cdll.LoadLibrary(util.find_library('phaseobjc'))\n",
    "AkermaniteRaw = ObjCClass('AkermaniteBerman')\n",
    "obj = AkermaniteRaw.alloc().init()\n",
    "print (obj.phaseName)\n",
    "print (obj.phaseFormula)"
   ]
  },
  {
   "cell_type": "markdown",
   "metadata": {},
   "source": [
    "Time the fast code"
   ]
  },
  {
   "cell_type": "code",
   "execution_count": null,
   "metadata": {},
   "outputs": [],
   "source": [
    "%timeit(cy_Akermanite_berman_g(t, p))"
   ]
  },
  {
   "cell_type": "markdown",
   "metadata": {},
   "source": [
    "Time the calibration code"
   ]
  },
  {
   "cell_type": "code",
   "execution_count": null,
   "metadata": {},
   "outputs": [],
   "source": [
    "%timeit(cy_Akermanite_berman_calib_g(t, p))"
   ]
  },
  {
   "cell_type": "markdown",
   "metadata": {},
   "source": [
    "Time the Python+Rubicon wrapped Objective-C code"
   ]
  },
  {
   "cell_type": "code",
   "execution_count": null,
   "metadata": {},
   "outputs": [],
   "source": [
    "%timeit(Akermanite.gibbs_energy(t, p))"
   ]
  },
  {
   "cell_type": "markdown",
   "metadata": {},
   "source": [
    "Time the Rubicon wrapped Objective-C code"
   ]
  },
  {
   "cell_type": "code",
   "execution_count": null,
   "metadata": {},
   "outputs": [],
   "source": [
    "%timeit(obj.getGibbsFreeEnergyFromT_andP_(t, p))"
   ]
  },
  {
   "cell_type": "markdown",
   "metadata": {},
   "source": [
    "### Test and time the generated functions for Quartz"
   ]
  },
  {
   "cell_type": "code",
   "execution_count": null,
   "metadata": {},
   "outputs": [],
   "source": [
    "t = 1000.0\n",
    "p = 10000.0;"
   ]
  },
  {
   "cell_type": "code",
   "execution_count": null,
   "metadata": {},
   "outputs": [],
   "source": [
    "QuartzRaw = ObjCClass('QuartzBerman')\n",
    "obj = QuartzRaw.alloc().init()\n",
    "print (obj.phaseName)\n",
    "print (obj.phaseFormula)\n",
    "QuartzRaw.disableQuartzCorrectionUsed()\n",
    "print (obj.isAlphaPhaseAtT_andP_(t, p))"
   ]
  },
  {
   "cell_type": "code",
   "execution_count": null,
   "metadata": {},
   "outputs": [],
   "source": [
    "new_g_quartz_Alpha = cy_A_Quartz_berman_g(t, p)\n",
    "new_s_quartz_Alpha = cy_A_Quartz_berman_s(t, p)\n",
    "new_cp_quartz_Alpha = cy_A_Quartz_berman_cp(t, p)\n",
    "new_v_quartz_Alpha = cy_A_Quartz_berman_v(t, p)\n",
    "new_g_quartz_Calib_Alpha = cy_A_Quartz_berman_calib_g(t, p)\n",
    "new_g_quartz_Beta = cy_B_Quartz_berman_g(t, p)\n",
    "new_s_quartz_Beta = cy_B_Quartz_berman_s(t, p)\n",
    "new_cp_quartz_Beta = cy_B_Quartz_berman_cp(t, p)\n",
    "new_v_quartz_Beta = cy_B_Quartz_berman_v(t, p)\n",
    "new_g_quartz_Calib_Beta = cy_B_Quartz_berman_calib_g(t, p)\n",
    "oldCode_g = obj.getGibbsFreeEnergyFromT_andP_(t, p)\n",
    "oldCode_s = obj.getEntropyFromT_andP_(t, p)\n",
    "oldCode_cp = obj.getHeatCapacityFromT_andP_(t, p)\n",
    "oldCode_v = obj.getVolumeFromT_andP_(t, p)"
   ]
  },
  {
   "cell_type": "code",
   "execution_count": null,
   "metadata": {},
   "outputs": [],
   "source": [
    "print (new_g_quartz_Alpha, new_g_quartz_Calib_Alpha, new_g_quartz_Alpha-new_g_quartz_Calib_Alpha)\n",
    "print (new_g_quartz_Beta, new_g_quartz_Calib_Beta, new_g_quartz_Beta-new_g_quartz_Calib_Beta)\n",
    "print (new_g_quartz_Alpha-new_g_quartz_Beta)"
   ]
  },
  {
   "cell_type": "code",
   "execution_count": null,
   "metadata": {},
   "outputs": [],
   "source": [
    "print (oldCode_g-new_g_quartz_Alpha, oldCode_g-new_g_quartz_Beta)"
   ]
  },
  {
   "cell_type": "code",
   "execution_count": null,
   "metadata": {},
   "outputs": [],
   "source": [
    "print (oldCode_s-new_s_quartz_Alpha, oldCode_s-new_s_quartz_Beta)"
   ]
  },
  {
   "cell_type": "code",
   "execution_count": null,
   "metadata": {},
   "outputs": [],
   "source": [
    "print (oldCode_cp-new_cp_quartz_Alpha, oldCode_cp-new_cp_quartz_Beta)"
   ]
  },
  {
   "cell_type": "code",
   "execution_count": null,
   "metadata": {},
   "outputs": [],
   "source": [
    "oldCode_h = oldCode_g+t*oldCode_s\n",
    "new_h_quartz_Alpha = new_g_quartz_Alpha+t*new_s_quartz_Alpha\n",
    "new_h_quartz_Beta = new_g_quartz_Beta+t*new_s_quartz_Beta\n",
    "print (oldCode_h-new_h_quartz_Alpha, oldCode_h-new_h_quartz_Beta)"
   ]
  },
  {
   "cell_type": "code",
   "execution_count": null,
   "metadata": {},
   "outputs": [],
   "source": [
    "print (oldCode_v-new_v_quartz_Alpha, oldCode_v-new_v_quartz_Beta)"
   ]
  },
  {
   "cell_type": "code",
   "execution_count": null,
   "metadata": {},
   "outputs": [],
   "source": [
    "%timeit(cy_A_Quartz_berman_g(t, p))"
   ]
  },
  {
   "cell_type": "code",
   "execution_count": null,
   "metadata": {},
   "outputs": [],
   "source": [
    "%timeit(cy_A_Quartz_berman_calib_g(t, p))"
   ]
  },
  {
   "cell_type": "code",
   "execution_count": null,
   "metadata": {},
   "outputs": [],
   "source": [
    "%timeit(obj.getGibbsFreeEnergyFromT_andP_(t, p))"
   ]
  },
  {
   "cell_type": "code",
   "execution_count": null,
   "metadata": {},
   "outputs": [],
   "source": []
  }
 ],
 "metadata": {
  "kernelspec": {
   "display_name": "Python 3",
   "language": "python",
   "name": "python3"
  },
  "language_info": {
   "codemirror_mode": {
    "name": "ipython",
    "version": 3
   },
   "file_extension": ".py",
   "mimetype": "text/x-python",
   "name": "python",
   "nbconvert_exporter": "python",
   "pygments_lexer": "ipython3",
   "version": "3.6.4"
  }
 },
 "nbformat": 4,
 "nbformat_minor": 2
}
