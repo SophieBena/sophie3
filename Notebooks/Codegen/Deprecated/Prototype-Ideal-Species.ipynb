{
 "cells": [
  {
   "cell_type": "markdown",
   "metadata": {},
   "source": [
    "# Prototype code for Coder Speciation class\n",
    "The SimpleSolnModel class will be extended as outlined below:\n",
    "- Basis and non-basis (dependent species) endmember properties are defined using StdStateMdel\n",
    "- A SpeciationSolnModel class is initialized with $c$ components (basis species) and $s$ non-basis species\n",
    "- A model expression for the Gibbs free energy of solution is added that depends only on $T$, $P$, and mole numbers of the basis components\n",
    "  - This expression should be optimzed to make compositional derivatives as compact as possible. This will dramatically lesson code generation and compilation time.\n",
    "- When the class is code printed it generates the speciation code at the cython level, using scipy.optimize.minimize as a solver.  Eventually, this method should be replaced by a pure C implementation so that the code can be cleanly exported. \n",
    "  - A flag has been added to the class to avoid generation of compositional derivative code that is not currently used by the Equilibrate class.  The flag is added to the create_code_module method of the SimpleSoln class as shown below.\n",
    "  - Only the bold derivatives in the list below are required.  The rest are optional.\n",
    "  - dn_g_list: **dgdn**, **d2gdndt**, **d2gdndp**, **d3gdndt2**, **d3gdndtdp**, **d3gdndp2**, d4gdndt3, d4gdndt2dp, d4gdndtdp2, d4gdndp3  \n",
    "  - d2n_g_list: **d2gdn2**, **d3gdn2dt**, **d3gdn2dp**, d4gdn2dt2, d4gdn2dtdp, d4gdn2dp2, d5gdn2dt3, d5gdn2dt2dp, d5gdn2dtdp2, d5gdn2dp3  \n",
    "  - d3n_g_list: **d3gdn3**, d4gdn3dt, d4gdn3dp, d5gdn3dt2, d5gdn3dtdp, d5gdn3dp2, d6gdn3dt3, d6gdn3dt2dp, d6gdn3dtdp2, d6gdn3dp3\n",
    "- Question that needs to be addressed is how does this algorithm scale?  \n",
    " - Will generation and compilation be too slow for 10 basis components and say 100 non-basis species?\n",
    " - Will the scipy.optimize.minimize method converge as quickly or as often as the number of basis species increases?\n",
    " - Should we insert tests for speciation convergence and abort the computation if these fail?"
   ]
  },
  {
   "cell_type": "code",
   "execution_count": null,
   "metadata": {},
   "outputs": [],
   "source": [
    "import numpy as np\n",
    "from os import path\n",
    "import scipy.optimize as opt\n",
    "import sys\n",
    "import fileinput\n",
    "import sympy as sym\n",
    "from thermoengine import coder, core, phases, model, equilibrate\n",
    "sym.init_printing()"
   ]
  },
  {
   "cell_type": "code",
   "execution_count": null,
   "metadata": {},
   "outputs": [],
   "source": [
    "t = 1300.0  # K\n",
    "p =    1.0  # bars\n",
    "module_type = 'calib' # 'fast'"
   ]
  },
  {
   "cell_type": "markdown",
   "metadata": {},
   "source": [
    "# Gas Endmembers (coder)"
   ]
  },
  {
   "cell_type": "code",
   "execution_count": null,
   "metadata": {},
   "outputs": [],
   "source": [
    "modelCD = coder.StdStateModel()"
   ]
  },
  {
   "cell_type": "code",
   "execution_count": null,
   "metadata": {},
   "outputs": [],
   "source": [
    "GTP = sym.symbols('GTP')\n",
    "params = [('GTP','J',GTP)]\n",
    "modelCD.add_expression_to_model(GTP, params)"
   ]
  },
  {
   "cell_type": "code",
   "execution_count": null,
   "metadata": {},
   "outputs": [],
   "source": [
    "modelCD.set_module_name('gas_species')"
   ]
  },
  {
   "cell_type": "code",
   "execution_count": null,
   "metadata": {},
   "outputs": [],
   "source": [
    "model_working_dir = \"working\"\n",
    "!mkdir -p {model_working_dir}\n",
    "%cd {model_working_dir}"
   ]
  },
  {
   "cell_type": "markdown",
   "metadata": {},
   "source": [
    "### Basis"
   ]
  },
  {
   "cell_type": "code",
   "execution_count": null,
   "metadata": {},
   "outputs": [],
   "source": [
    "param_dict = {'Phase':'H','Formula':'H(1)','T_r':298.15,'P_r':1.0,'GTP':-100000.0}\n",
    "result = modelCD.create_code_module(phase=param_dict.pop('Phase', None),\n",
    "                                    formula=param_dict.pop('Formula', None),\n",
    "                                    params=param_dict,\n",
    "                                    module_type=module_type,\n",
    "                                    silent=True)\n",
    "%cp gas_species.pyx endmembers.pyx\n",
    "file_name = '\"H_gas_species_calib.c\"' if module_type == 'calib' else '\"H_gas_species_calc.c\"'"
   ]
  },
  {
   "cell_type": "code",
   "execution_count": null,
   "metadata": {},
   "outputs": [],
   "source": [
    "param_dict = {'Phase':'Al','Formula':'Al(1)','T_r':298.15,'P_r':1.0,'GTP':-200000.0}\n",
    "result = modelCD.create_code_module(phase=param_dict.pop('Phase', None),\n",
    "                                    formula=param_dict.pop('Formula', None),\n",
    "                                    params=param_dict,\n",
    "                                    module_type=module_type,\n",
    "                                    silent=True)\n",
    "%cat gas_species.pyx >> endmembers.pyx\n",
    "file_name += ', \"Al_gas_species_calib.c\"' if module_type == 'calib' else ', \"Al_gas_species_calc.c\"'"
   ]
  },
  {
   "cell_type": "markdown",
   "metadata": {},
   "source": [
    "### Non-basis"
   ]
  },
  {
   "cell_type": "code",
   "execution_count": null,
   "metadata": {},
   "outputs": [],
   "source": [
    "param_dict = {'Phase':'AlH','Formula':'H(1)Al(1)','T_r':298.15,'P_r':1.0,'GTP':-160000.0}\n",
    "result = modelCD.create_code_module(phase=param_dict.pop('Phase', None),\n",
    "                                    formula=param_dict.pop('Formula', None),\n",
    "                                    params=param_dict,\n",
    "                                    module_type=module_type,\n",
    "                                    silent=True)\n",
    "%cat gas_species.pyx >> endmembers.pyx\n",
    "file_name += ', \"AlH_gas_species_calib.c\"' if module_type == 'calib' else ', \"AlH_gas_species_calc.c\"'"
   ]
  },
  {
   "cell_type": "code",
   "execution_count": null,
   "metadata": {},
   "outputs": [],
   "source": [
    "param_dict = {'Phase':'Al2H','Formula':'H(1)Al(2)','T_r':298.15,'P_r':1.0,'GTP':-400000.0}\n",
    "result = modelCD.create_code_module(phase=param_dict.pop('Phase', None),\n",
    "                                    formula=param_dict.pop('Formula', None),\n",
    "                                    params=param_dict,\n",
    "                                    module_type=module_type,\n",
    "                                    silent=True)\n",
    "%cat gas_species.pyx >> endmembers.pyx\n",
    "file_name += ', \"Al2H_gas_species_calib.c\"' if module_type == 'calib' else ', \"Al2H_gas_species_calc.c\"'"
   ]
  },
  {
   "cell_type": "code",
   "execution_count": null,
   "metadata": {},
   "outputs": [],
   "source": [
    "param_dict = {'Phase':'AlH2','Formula':'H(2)Al(1)','T_r':298.15,'P_r':1.0,'GTP':-400000.0}\n",
    "result = modelCD.create_code_module(phase=param_dict.pop('Phase', None),\n",
    "                                    formula=param_dict.pop('Formula', None),\n",
    "                                    params=param_dict,\n",
    "                                    module_type=module_type,\n",
    "                                    silent=True)\n",
    "%cat gas_species.pyx >> endmembers.pyx\n",
    "file_name += ', \"AlH2_gas_species_calib.c\"' if module_type == 'calib' else ', \"AlH2_gas_species_calc.c\"'"
   ]
  },
  {
   "cell_type": "markdown",
   "metadata": {},
   "source": [
    "# Build the endmembers"
   ]
  },
  {
   "cell_type": "code",
   "execution_count": null,
   "metadata": {},
   "outputs": [],
   "source": [
    "%cp endmembers.pyx gas_species.pyx\n",
    "with open('gas_species.pyxbld', 'r') as f:\n",
    "    fold = f.read()\n",
    "    f.close()\n",
    "if module_type == 'calib':\n",
    "    fnew = fold.replace(\"'AlH2_gas_species_calib.c'\", file_name)\n",
    "else:\n",
    "    fnew = fold.replace(\"'AlH2_gas_species_calc.c'\", file_name)\n",
    "with open('gas_species.pyxbld', 'w') as f:\n",
    "    f.write(fnew)\n",
    "    f.close()"
   ]
  },
  {
   "cell_type": "code",
   "execution_count": null,
   "metadata": {},
   "outputs": [],
   "source": [
    "import gas_species\n",
    "%cd .."
   ]
  },
  {
   "cell_type": "code",
   "execution_count": null,
   "metadata": {},
   "outputs": [],
   "source": [
    "if module_type == 'calib':\n",
    "    modelDB = model.Database(database=\"CoderModule\", calib=True, phase_tuple=('gas_species', {\n",
    "        'H':['H','pure'],\n",
    "        'Al':['Al','pure'],\n",
    "        'AlH':['AlH','pure'],\n",
    "        'Al2H':['Al2H','pure'],\n",
    "        'AlH2':['AlH2', 'pure']\n",
    "    }))\n",
    "else:\n",
    "    modelDB = model.Database(database=\"CoderModule\", calib=False, phase_tuple=('gas_species', {\n",
    "        'H':['H','pure'],\n",
    "        'Al':['Al','pure'],\n",
    "        'AlH':['AlH','pure'],\n",
    "        'Al2H':['Al2H','pure'],\n",
    "        'AlH2':['AlH2', 'pure']\n",
    "    }))"
   ]
  },
  {
   "cell_type": "code",
   "execution_count": null,
   "metadata": {},
   "outputs": [],
   "source": [
    "H = modelDB.get_phase('H')\n",
    "Al = modelDB.get_phase('Al')\n",
    "AlH = modelDB.get_phase('AlH')\n",
    "Al2H = modelDB.get_phase('Al2H')\n",
    "AlH2 = modelDB.get_phase('AlH2')\n",
    "mu0 = np.array([\n",
    "    H.gibbs_energy(t,p), \n",
    "    Al.gibbs_energy(t,p), \n",
    "    AlH.gibbs_energy(t,p), \n",
    "    Al2H.gibbs_energy(t,p), \n",
    "    AlH2.gibbs_energy(t,p)\n",
    "])\n",
    "mu0_b = mu0[0:2]\n",
    "mu0_s = mu0[2:]\n",
    "mu0_b, mu0_s"
   ]
  },
  {
   "cell_type": "markdown",
   "metadata": {},
   "source": [
    " # Conversion Matrices"
   ]
  },
  {
   "cell_type": "code",
   "execution_count": null,
   "metadata": {},
   "outputs": [],
   "source": [
    "C = np.array([\n",
    "    H.props['element_comp'][0],\n",
    "    Al.props['element_comp'][0],\n",
    "    AlH.props['element_comp'][0],\n",
    "    Al2H.props['element_comp'][0],\n",
    "    AlH2.props['element_comp'][0]\n",
    "])\n",
    "elm_sys_ind = np.where(np.sum(C,axis=0) > 0)[0]\n",
    "elm_sys = [core.chem.PERIODIC_ORDER[i] for i in elm_sys_ind]\n",
    "C = C[:,elm_sys_ind]\n",
    "elm_sys, C"
   ]
  },
  {
   "cell_type": "code",
   "execution_count": null,
   "metadata": {},
   "outputs": [],
   "source": [
    "Cb = C[0:2,:]\n",
    "Cs = C[2:,:]\n",
    "Cb, Cs"
   ]
  },
  {
   "cell_type": "code",
   "execution_count": null,
   "metadata": {},
   "outputs": [],
   "source": [
    "R = np.matmul(Cs, Cb.T)\n",
    "R"
   ]
  },
  {
   "cell_type": "code",
   "execution_count": null,
   "metadata": {},
   "outputs": [],
   "source": [
    "Q = np.exp(-(mu0_s - np.matmul(R,mu0_b))/(8.3143*t))\n",
    "Q"
   ]
  },
  {
   "cell_type": "markdown",
   "metadata": {},
   "source": [
    "# Test Solution method for Eq #15"
   ]
  },
  {
   "cell_type": "code",
   "execution_count": null,
   "metadata": {},
   "outputs": [],
   "source": [
    "def sys_eqns(n, e, Q, R, Cb, Cs, print_species=False):\n",
    "    nT = np.sum(e)\n",
    "    x = n/nT\n",
    "    prod = []\n",
    "    for i, y in enumerate(Q):\n",
    "        yy = 1.0\n",
    "        for j, xx in enumerate(x):\n",
    "            if R[i,j] != 0.0:\n",
    "                yy *= xx**R[i,j]\n",
    "        prod.append(yy)\n",
    "    prod = np.diag(prod)\n",
    "    if print_species:\n",
    "        print (nT*np.matmul(Q.T,prod))\n",
    "    result = np.matmul(Cb.T,n) + nT*np.matmul(Cs.T,np.matmul(Q.T,prod)) - e\n",
    "    return np.matmul(result.T, result)"
   ]
  },
  {
   "cell_type": "code",
   "execution_count": null,
   "metadata": {},
   "outputs": [],
   "source": [
    "e = np.array([2,2])\n",
    "sys_eqns(np.array([1,1]), e, Q, R, Cb, Cs)"
   ]
  },
  {
   "cell_type": "code",
   "execution_count": null,
   "metadata": {},
   "outputs": [],
   "source": [
    "n0 = np.array([1,1])\n",
    "result = opt.minimize(sys_eqns, n0, args=(e, Q, R, Cb, Cs), bounds=opt.Bounds(np.zeros(2), e, keep_feasible=True))\n",
    "result"
   ]
  },
  {
   "cell_type": "code",
   "execution_count": null,
   "metadata": {},
   "outputs": [],
   "source": [
    "print ('Basis species concentrations:')\n",
    "print (result.x)\n",
    "print ('Non-basis species concentrations:')\n",
    "print ('Function value:', sys_eqns(np.array(result.x), e, Q, R, Cb, Cs, print_species=True))"
   ]
  },
  {
   "cell_type": "markdown",
   "metadata": {},
   "source": [
    "# Construct Solution Phase (coder)"
   ]
  },
  {
   "cell_type": "code",
   "execution_count": null,
   "metadata": {},
   "outputs": [],
   "source": [
    "c = len(elm_sys)\n",
    "modelCD = coder.SimpleSolnModel(nc=c)"
   ]
  },
  {
   "cell_type": "code",
   "execution_count": null,
   "metadata": {},
   "outputs": [],
   "source": [
    "n = modelCD.n\n",
    "nT = modelCD.nT\n",
    "X = n/nT"
   ]
  },
  {
   "cell_type": "code",
   "execution_count": null,
   "metadata": {},
   "outputs": [],
   "source": [
    "T = modelCD.get_symbol_for_t()\n",
    "mu = modelCD.mu"
   ]
  },
  {
   "cell_type": "code",
   "execution_count": null,
   "metadata": {},
   "outputs": [],
   "source": [
    "mu_sp_AlH, mu_sp_Al2H, mu_sp_AlH2, R = sym.symbols('mu_sp_AlH mu_sp_Al2H mu_sp_AlH2 R')"
   ]
  },
  {
   "cell_type": "code",
   "execution_count": null,
   "metadata": {},
   "outputs": [],
   "source": [
    "Q_AlH = sym.exp(-(mu_sp_AlH-mu[0]-mu[1])/R/T)\n",
    "Q_Al2H = sym.exp(-(mu_sp_Al2H-mu[0]-2*mu[1])/R/T)\n",
    "Q_AlH2 = sym.exp(-(mu_sp_AlH2-2*mu[0]-mu[1])/R/T)"
   ]
  },
  {
   "cell_type": "code",
   "execution_count": null,
   "metadata": {},
   "outputs": [],
   "source": [
    "Q_AlH, Q_Al2H, Q_AlH2"
   ]
  },
  {
   "cell_type": "code",
   "execution_count": null,
   "metadata": {},
   "outputs": [],
   "source": [
    "X_AlH  = Q_AlH*X[0]*X[1]\n",
    "X_Al2H = Q_AlH*X[0]*X[0]*X[1]\n",
    "X_AlH2 = Q_AlH*X[0]*X[1]*X[1]"
   ]
  },
  {
   "cell_type": "code",
   "execution_count": null,
   "metadata": {},
   "outputs": [],
   "source": [
    "G_ss = (n.transpose()*mu)[0] + nT*(mu_sp_AlH*X_AlH + mu_sp_Al2H*X_Al2H + mu_sp_AlH2*X_AlH2)\n",
    "G_ss"
   ]
  },
  {
   "cell_type": "code",
   "execution_count": null,
   "metadata": {},
   "outputs": [],
   "source": [
    "S_config = sym.symbols('S_config')\n",
    "S_config = 0\n",
    "for i in range(0,c):\n",
    "    S_config += X[i]*sym.log(X[i])\n",
    "S_config += X_AlH*sym.log(X_AlH)\n",
    "S_config += X_Al2H*sym.log(X_Al2H)\n",
    "S_config += X_AlH2*sym.log(X_AlH2)\n",
    "S_config *= -R*nT\n",
    "S_config"
   ]
  },
  {
   "cell_type": "code",
   "execution_count": null,
   "metadata": {},
   "outputs": [],
   "source": [
    "G = G_ss - T*S_config\n",
    "G"
   ]
  },
  {
   "cell_type": "markdown",
   "metadata": {},
   "source": [
    "# Alternative formulation for G Eq(22)\n",
    "This alternative but equivalent formulation speeds up code generation and compilation by a factor of 10  \n",
    "Code size is also reduced by a factor of three"
   ]
  },
  {
   "cell_type": "code",
   "execution_count": null,
   "metadata": {},
   "outputs": [],
   "source": [
    "Galt = (n.transpose()*mu)[0]\n",
    "Galt"
   ]
  },
  {
   "cell_type": "code",
   "execution_count": null,
   "metadata": {},
   "outputs": [],
   "source": [
    "S_config = 0\n",
    "for i in range(0,c):\n",
    "    S_config += X[i]*sym.log(X[i])\n",
    "S_config *= -R*nT\n",
    "Galt += - T*S_config\n",
    "Galt"
   ]
  },
  {
   "cell_type": "code",
   "execution_count": null,
   "metadata": {},
   "outputs": [],
   "source": [
    "Galt += X_AlH*(mu[0]+R*T*sym.log(X[0])+mu[1]+R*T*sym.log(X[1]))\n",
    "Galt += X_Al2H*(2*mu[0]+2*R*T*sym.log(X[0])+mu[1]+R*T*sym.log(X[1]))\n",
    "Galt += X_AlH2*(mu[0]+R*T*sym.log(X[0])+2*mu[1]+2*R*T*sym.log(X[1]))\n",
    "Galt"
   ]
  },
  {
   "cell_type": "code",
   "execution_count": null,
   "metadata": {},
   "outputs": [],
   "source": [
    "modelCD.add_expression_to_model(Galt, [\n",
    "    ('mu_sp_AlH', 'J', mu_sp_AlH),\n",
    "    ('mu_sp_Al2H', 'J', mu_sp_Al2H),\n",
    "    ('mu_sp_AlH2', 'J', mu_sp_AlH2) \n",
    "])"
   ]
  },
  {
   "cell_type": "code",
   "execution_count": null,
   "metadata": {},
   "outputs": [],
   "source": [
    "modelCD.module = \"gas_soln\""
   ]
  },
  {
   "cell_type": "code",
   "execution_count": null,
   "metadata": {},
   "outputs": [],
   "source": [
    "formula = ''\n",
    "convert = []\n",
    "test = []\n",
    "for ind,elm in enumerate(elm_sys):\n",
    "    formula += elm + '[' + elm + ']'\n",
    "    convert.append('['+str(ind)+']=['+elm+']')\n",
    "    test.append('['+str(ind)+'] >= 0.0')\n",
    "formula, convert, test"
   ]
  },
  {
   "cell_type": "code",
   "execution_count": null,
   "metadata": {},
   "outputs": [],
   "source": [
    "modelCD.formula_string = formula\n",
    "modelCD.conversion_string = convert\n",
    "modelCD.test_string = test"
   ]
  },
  {
   "cell_type": "code",
   "execution_count": null,
   "metadata": {},
   "outputs": [],
   "source": [
    "paramValues = {\n",
    "    'mu_sp_AlH':mu0_s[0],\n",
    "    'mu_sp_Al2H':mu0_s[1],\n",
    "    'mu_sp_AlH2':mu0_s[2],\n",
    "    'T_r':298.15,\n",
    "    'P_r':1.0\n",
    "}\n",
    "endmembers = ['H_gas_species', 'Al_gas_species']\n",
    "paramValues, endmembers"
   ]
  },
  {
   "cell_type": "markdown",
   "metadata": {},
   "source": [
    "# Code the model"
   ]
  },
  {
   "cell_type": "code",
   "execution_count": null,
   "metadata": {},
   "outputs": [],
   "source": [
    "model_working_dir = \"working\"\n",
    "!mkdir -p {model_working_dir}\n",
    "%cd {model_working_dir}"
   ]
  },
  {
   "cell_type": "code",
   "execution_count": null,
   "metadata": {},
   "outputs": [],
   "source": [
    "modelCD.create_code_module(phase=\"IdealGas\", params=paramValues, endmembers=endmembers, \n",
    "                           prefix=\"cy\", module_type=module_type, silent=False, minimal_deriv_set=True)"
   ]
  },
  {
   "cell_type": "markdown",
   "metadata": {},
   "source": [
    "# Inject some Python into the Cython wrapper\n",
    "This injection deals with the speciation calculation (Eq #15), which must be done prior to any solution property calculation"
   ]
  },
  {
   "cell_type": "code",
   "execution_count": null,
   "metadata": {},
   "outputs": [],
   "source": [
    "sub_dict = { mu[0]:sym.symbols('mu_end[0]'), mu[1]:sym.symbols('mu_end[1]'), R:8.3143, T:'t'}\n",
    "sub_dict = dict(sub_dict, **paramValues)\n",
    "code_to_inject = \\\n",
    "'''\n",
    "import math\n",
    "import scipy.optimize as opt\n",
    "\n",
    "def sys_eqns(n, e, Q, R, Cb, Cs):\n",
    "    nT = n[0] + n[1]\n",
    "    x = n/nT\n",
    "    prod = []\n",
    "    for i, y in enumerate(Q):\n",
    "        yy = 1.0\n",
    "        for j, xx in enumerate(x):\n",
    "            if R[i,j] != 0.0:\n",
    "                yy *= xx**R[i,j]\n",
    "        prod.append(yy)\n",
    "    prod = np.diag(prod)\n",
    "    result = np.matmul(Cb.T,n) + nT*np.matmul(Cs.T,np.matmul(Q.T,prod)) - e\n",
    "    return np.matmul(result.T, result)\n",
    "\n",
    "class Storage:\n",
    "    t = 0.0\n",
    "    p = 0.0\n",
    "    e = np.zeros(1)\n",
    "    x = np.zeros(1)\n",
    "\n",
    "def speciate(double t, double p, e):\n",
    "    if Storage.t == t and Storage.p == p and np.array_equal(Storage.e, e):\n",
    "        return Storage.x\n",
    "    Storage.t = t\n",
    "    Storage.p = p\n",
    "    Storage.e = np.copy(e)\n",
    "'''\n",
    "code_to_inject += '    Cb = np.array(' + str(Cb.tolist()) + ')\\n'\n",
    "code_to_inject += '    Cs = np.array(' + str(Cs.tolist()) + ')\\n'\n",
    "code_to_inject += '    R = np.array(' + str(np.matmul(Cs, Cb.T).tolist()) + ')\\n'\n",
    "code_to_inject += '    Q = np.empty(' + str(Cs.shape[0]) + ')\\n'\n",
    "code_to_inject += '    mu_end = np.empty(' + str(Cb.shape[0]) + ')\\n'\n",
    "for i in range(0,Cb.shape[0]):\n",
    "    code_to_inject += '    mu_end['+str(i)+'] = cy_IdealGas_gas_soln_calib_endmember_mu0('+str(i)+', t, p)\\n'\n",
    "for i,x in enumerate([Q_AlH, Q_Al2H, Q_AlH2]):\n",
    "    code_to_inject += '    Q['+str(i)+'] = ' + sym.pycode(x.subs(sub_dict)) + '\\n'\n",
    "code_to_inject += \\\n",
    "'''\n",
    "    n0 = e/2.0\n",
    "    result = opt.minimize(sys_eqns, n0, args=(e, Q, R, Cb, Cs), bounds=opt.Bounds(np.zeros(2), e, keep_feasible=True))\n",
    "    Storage.x = np.copy(result.x)\n",
    "    return result.x\n",
    "\n",
    "'''\n",
    "code_to_add = '    np_array = speciate(t, p, np_array)'"
   ]
  },
  {
   "cell_type": "code",
   "execution_count": null,
   "metadata": {},
   "outputs": [],
   "source": [
    "print (code_to_inject)\n",
    "print (code_to_add)"
   ]
  },
  {
   "cell_type": "code",
   "execution_count": null,
   "metadata": {},
   "outputs": [],
   "source": [
    "with open('gas_soln.pyx', 'r') as f:\n",
    "    fold = f.read()\n",
    "    f.close()\n",
    "st = [\n",
    "    'def cy_IdealGas_gas_soln_calib_g(double t, double p, np_array):',\n",
    "    'def cy_IdealGas_gas_soln_calib_dgdt(double t, double p, np_array):',\n",
    "    'def cy_IdealGas_gas_soln_calib_dgdp(double t, double p, np_array):',\n",
    "    'def cy_IdealGas_gas_soln_calib_d2gdt2(double t, double p, np_array):',\n",
    "    'def cy_IdealGas_gas_soln_calib_d2gdtdp(double t, double p, np_array):',\n",
    "    'def cy_IdealGas_gas_soln_calib_d2gdp2(double t, double p, np_array):',\n",
    "    'def cy_IdealGas_gas_soln_calib_d3gdt3(double t, double p, np_array):',\n",
    "    'def cy_IdealGas_gas_soln_calib_d3gdt2dp(double t, double p, np_array):',\n",
    "    'def cy_IdealGas_gas_soln_calib_d3gdtdp2(double t, double p, np_array):',\n",
    "    'def cy_IdealGas_gas_soln_calib_d3gdp3(double t, double p, np_array):',\n",
    "    'def cy_IdealGas_gas_soln_calib_s(double t, double p, np_array):',\n",
    "    'def cy_IdealGas_gas_soln_calib_v(double t, double p, np_array):',\n",
    "    'def cy_IdealGas_gas_soln_calib_cv(double t, double p, np_array):',\n",
    "    'def cy_IdealGas_gas_soln_calib_cp(double t, double p, np_array):',\n",
    "    'def cy_IdealGas_gas_soln_calib_dcpdt(double t, double p, np_array):',\n",
    "    'def cy_IdealGas_gas_soln_calib_alpha(double t, double p, np_array):',\n",
    "    'def cy_IdealGas_gas_soln_calib_beta(double t, double p, np_array):',\n",
    "    'def cy_IdealGas_gas_soln_calib_K(double t, double p, np_array):',\n",
    "    'def cy_IdealGas_gas_soln_calib_Kp(double t, double p, np_array):',\n",
    "    'def cy_IdealGas_gas_soln_calib_dgdn(double t, double p, np_array):',\n",
    "    'def cy_IdealGas_gas_soln_calib_d2gdndt(double t, double p, np_array):',\n",
    "    'def cy_IdealGas_gas_soln_calib_d2gdndp(double t, double p, np_array):',\n",
    "    'def cy_IdealGas_gas_soln_calib_d3gdndt2(double t, double p, np_array):',\n",
    "    'def cy_IdealGas_gas_soln_calib_d3gdndtdp(double t, double p, np_array):',\n",
    "    'def cy_IdealGas_gas_soln_calib_d3gdndp2(double t, double p, np_array):',\n",
    "    'def cy_IdealGas_gas_soln_calib_d4gdndt3(double t, double p, np_array):',\n",
    "    'def cy_IdealGas_gas_soln_calib_d4gdndt2dp(double t, double p, np_array):',\n",
    "    'def cy_IdealGas_gas_soln_calib_d4gdndtdp2(double t, double p, np_array):',\n",
    "    'def cy_IdealGas_gas_soln_calib_d4gdndp4(double t, double p, np_array):',\n",
    "    'def cy_IdealGas_gas_soln_calib_d2gdn2(double t, double p, np_array):',\n",
    "    'def cy_IdealGas_gas_soln_calib_d3gdn2dt(double t, double p, np_array):',\n",
    "    'def cy_IdealGas_gas_soln_calib_d3gdn2dp(double t, double p, np_array):',\n",
    "    'def cy_IdealGas_gas_soln_calib_d4gdn2dt2(double t, double p, np_array):',\n",
    "    'def cy_IdealGas_gas_soln_calib_d4gdn2dtdp(double t, double p, np_array):',\n",
    "    'def cy_IdealGas_gas_soln_calib_d4gdn2dp2(double t, double p, np_array):',\n",
    "    'def cy_IdealGas_gas_soln_calib_d5gdn2dt3(double t, double p, np_array):',\n",
    "    'def cy_IdealGas_gas_soln_calib_d5gdn2dt2dp(double t, double p, np_array):',\n",
    "    'def cy_IdealGas_gas_soln_calib_d5gdn2dtdp2(double t, double p, np_array):',\n",
    "    'def cy_IdealGas_gas_soln_calib_d5gdn2dp3(double t, double p, np_array):',\n",
    "    'def cy_IdealGas_gas_soln_calib_d3gdn3(double t, double p, np_array):',\n",
    "    'def cy_IdealGas_gas_soln_calib_d4gdn3dt(double t, double p, np_array):',\n",
    "    'def cy_IdealGas_gas_soln_calib_d4gdn3dp(double t, double p, np_array):',\n",
    "    'def cy_IdealGas_gas_soln_calib_d5gdn3dt2(double t, double p, np_array):',\n",
    "    'def cy_IdealGas_gas_soln_calib_d5gdn3dtdp(double t, double p, np_array):',\n",
    "    'def cy_IdealGas_gas_soln_calib_d5gdn3dp2(double t, double p, np_array):',\n",
    "    'def cy_IdealGas_gas_soln_calib_d6gdn3dt3(double t, double p, np_array):',\n",
    "    'def cy_IdealGas_gas_soln_calib_d6gdn3dt2dp(double t, double p, np_array):',\n",
    "    'def cy_IdealGas_gas_soln_calib_d6gdn3dtdp2(double t, double p, np_array):',\n",
    "    'def cy_IdealGas_gas_soln_calib_d6gdn3dp3(double t, double p, np_array):',\n",
    "    'def cy_IdealGas_gas_soln_dparam_g(double t, double p, np_array, int index):',\n",
    "    'def cy_IdealGas_gas_soln_dparam_dgdt(double t, double p, np_array, int index):',\n",
    "    'def cy_IdealGas_gas_soln_dparam_dgdp(double t, double p, np_array, int index):',\n",
    "    'def cy_IdealGas_gas_soln_dparam_d2gdt2(double t, double p, np_array, int index):',\n",
    "    'def cy_IdealGas_gas_soln_dparam_d2gdtdp(double t, double p, np_array, int index):',\n",
    "    'def cy_IdealGas_gas_soln_dparam_d2gdp2(double t, double p, np_array, int index):',\n",
    "    'def cy_IdealGas_gas_soln_dparam_d3gdt3(double t, double p, np_array, int index):',\n",
    "    'def cy_IdealGas_gas_soln_dparam_d3gdt2dp(double t, double p, np_array, int index):',\n",
    "    'def cy_IdealGas_gas_soln_dparam_d3gdtdp2(double t, double p, np_array, int index):',\n",
    "    'def cy_IdealGas_gas_soln_dparam_d3gdp3(double t, double p, np_array, int index):',\n",
    "    'def cy_IdealGas_gas_soln_dparam_dgdn(double t, double p, np_array, int index):'\n",
    "]\n",
    "first = True\n",
    "for x in st:\n",
    "    if first:\n",
    "        fnew = fold.replace(x, code_to_inject + x + '\\n' + code_to_add)\n",
    "        first = False\n",
    "    else:\n",
    "        fnew = fold.replace(x, x + '\\n' + code_to_add)\n",
    "    fold = fnew\n",
    "with open('gas_soln.pyx', 'w') as f:\n",
    "    f.write(fnew)\n",
    "    f.close()"
   ]
  },
  {
   "cell_type": "code",
   "execution_count": null,
   "metadata": {},
   "outputs": [],
   "source": [
    "import gas_soln\n",
    "%cd .."
   ]
  },
  {
   "cell_type": "markdown",
   "metadata": {},
   "source": [
    "# Import the Solution Phase"
   ]
  },
  {
   "cell_type": "code",
   "execution_count": null,
   "metadata": {},
   "outputs": [],
   "source": [
    "if module_type == 'calib':\n",
    "    modelGas = model.Database(database=\"CoderModule\", calib=True, \n",
    "                              phase_tuple=('gas_soln', {'Gas':['IdealGas','solution']}))\n",
    "else:\n",
    "    modelGas = model.Database(database=\"CoderModule\", calib=False, \n",
    "                              phase_tuple=('gas_soln', {'Gas':['IdealGas','solution']}))\n",
    "Gas = modelGas.get_phase('Gas')"
   ]
  },
  {
   "cell_type": "code",
   "execution_count": null,
   "metadata": {},
   "outputs": [],
   "source": [
    "print (Gas.props['phase_name'])\n",
    "print (Gas.props['formula'])\n",
    "print (Gas.props['molwt'])\n",
    "print (Gas.props['abbrev'])\n",
    "print (Gas.props['endmember_num'])\n",
    "print (Gas.props['endmember_name'])"
   ]
  },
  {
   "cell_type": "code",
   "execution_count": null,
   "metadata": {},
   "outputs": [],
   "source": [
    "Gas.gibbs_energy(t,p,mol=np.array([2.,2.]))"
   ]
  },
  {
   "cell_type": "markdown",
   "metadata": {},
   "source": [
    "# Perform Equilibrium Calculation"
   ]
  },
  {
   "cell_type": "code",
   "execution_count": null,
   "metadata": {},
   "outputs": [],
   "source": [
    "phs_sys  = [Gas]\n",
    "equil = equilibrate.Equilibrate(['H','Al'], phs_sys)"
   ]
  },
  {
   "cell_type": "code",
   "execution_count": null,
   "metadata": {},
   "outputs": [],
   "source": [
    "state = equil.execute(t, p, bulk_comp=np.array([2,2]), debug=1)\n",
    "state.print_state()"
   ]
  },
  {
   "cell_type": "code",
   "execution_count": null,
   "metadata": {},
   "outputs": [],
   "source": []
  }
 ],
 "metadata": {
  "kernelspec": {
   "display_name": "Python 3",
   "language": "python",
   "name": "python3"
  },
  "language_info": {
   "codemirror_mode": {
    "name": "ipython",
    "version": 3
   },
   "file_extension": ".py",
   "mimetype": "text/x-python",
   "name": "python",
   "nbconvert_exporter": "python",
   "pygments_lexer": "ipython3",
   "version": "3.7.3"
  }
 },
 "nbformat": 4,
 "nbformat_minor": 4
}
