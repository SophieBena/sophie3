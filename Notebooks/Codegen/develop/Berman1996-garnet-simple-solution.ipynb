{
 "cells": [
  {
   "cell_type": "markdown",
   "metadata": {},
   "source": [
    "# Simple Solution SymPy Code Generation"
   ]
  },
  {
   "cell_type": "code",
   "execution_count": null,
   "metadata": {},
   "outputs": [],
   "source": [
    "import pandas as pd\n",
    "import numpy as np\n",
    "import sympy as sym\n",
    "sym.init_printing()\n",
    "from thermoengine import coder\n",
    "from thermoengine import core\n"
   ]
  },
  {
   "cell_type": "markdown",
   "metadata": {},
   "source": [
    "## Simple Solution Properties - Structure of the Equations\n",
    "There are three terms:\n",
    "- Terms describing standard state contributions\n",
    "- Terms describing the configurational entropy of solution\n",
    "- Terms describing the excess enthalpy of solution  \n",
    "\n",
    "Assumptions:\n",
    "- There are $c$ components in the system\n",
    "- There are as many endmember species, $s$, as there are components\n",
    "- The configurational entropy is described as a simple $x_i log(x_i)$ sum\n",
    "- The excess enthalpy is described using an asymmetric regular solution $\\left[ {{W_{ij}} + \\Delta {W_{ij}}\\left( {{X_i} - {X_j}} \\right)} \\right]{X_i}{X_j}$, where the $W_{ij}$ and $\\Delta{W_{ij}}$ are allowed to be first order functions of both $T$ and $P$\n",
    "- Ternary interaction terms are permittted, i.e. $W_{ijk}$"
   ]
  },
  {
   "cell_type": "markdown",
   "metadata": {},
   "source": [
    "## Number of solution components\n",
    "This notebook illustrates a three component solution"
   ]
  },
  {
   "cell_type": "code",
   "execution_count": null,
   "metadata": {},
   "outputs": [],
   "source": [
    "c = 3"
   ]
  },
  {
   "cell_type": "markdown",
   "metadata": {},
   "source": [
    "## Create a simple solution model\n",
    "... with the specified number of endmember thermodynamic components"
   ]
  },
  {
   "cell_type": "code",
   "execution_count": null,
   "metadata": {},
   "outputs": [],
   "source": [
    "model = coder.SimpleSolnModel(nc=c)"
   ]
  },
  {
   "cell_type": "markdown",
   "metadata": {},
   "source": [
    "## Retrieve primary compositional variables\n",
    "- $n$ is a vector of mole numbers of each component  \n",
    "- $n_T$ is the total number of moles in the solution\n",
    "### and construct a derived mole fraction variable\n",
    "- $X$ is a vector of mole fractions of components in the system"
   ]
  },
  {
   "cell_type": "code",
   "execution_count": null,
   "metadata": {},
   "outputs": [],
   "source": [
    "n = model.n\n",
    "nT = model.nT\n",
    "X = n/nT\n",
    "n, nT, X"
   ]
  },
  {
   "cell_type": "markdown",
   "metadata": {},
   "source": [
    "## Retrieve the temperature, pressure, and standard state chemical potentials\n",
    "- $T$ is temperature in $K$\n",
    "- $P$ is pressure in $bars$\n",
    "- $\\mu$ in Joules"
   ]
  },
  {
   "cell_type": "code",
   "execution_count": null,
   "metadata": {},
   "outputs": [],
   "source": [
    "T = model.get_symbol_for_t()\n",
    "P = model.get_symbol_for_p()\n",
    "mu = model.mu\n",
    "T,P,mu"
   ]
  },
  {
   "cell_type": "markdown",
   "metadata": {},
   "source": [
    "## Define the standard state contribution to solution properties"
   ]
  },
  {
   "cell_type": "code",
   "execution_count": null,
   "metadata": {},
   "outputs": [],
   "source": [
    "G_ss = (n.transpose()*mu)[0]\n",
    "G_ss"
   ]
  },
  {
   "cell_type": "markdown",
   "metadata": {},
   "source": [
    "## Define configurational entropy and configurational Gibbs free energy"
   ]
  },
  {
   "cell_type": "code",
   "execution_count": null,
   "metadata": {},
   "outputs": [],
   "source": [
    "S_config,R = sym.symbols('S_config R')\n",
    "S_config = 0\n",
    "for i in range(0,c):\n",
    "    S_config += X[i]*sym.log(X[i])\n",
    "S_config *= (-R*nT)*3\n",
    "S_config"
   ]
  },
  {
   "cell_type": "code",
   "execution_count": null,
   "metadata": {},
   "outputs": [],
   "source": [
    "G_config = sym.simplify(-T*S_config)\n",
    "G_config"
   ]
  },
  {
   "cell_type": "markdown",
   "metadata": {},
   "source": [
    "## Parameterize the excess free energy\n",
    "- Symmetric terms: $W_{ij} = Wh_{ij} - T Ws_{ij} + P Wv_{ij}$, where $Wh_{ij}$ is the excess enthalpy along the $i$-$j$ binary, $Ws_{ij}$ is the excess entropy, and $Wv_{ij}$ is the excess volume\n",
    "- Asymetric terms: $\\Delta W_{ij} = \\Delta Wh_{ij} - T \\Delta Ws_{ij} + P \\Delta Wv_{ij}$\n",
    "- Convention: $\\left[ {{W_{ij}} + \\Delta {W_{ij}}\\left( {{X_i} - {X_j}} \\right)} \\right]{X_i}{X_j} = \\left( {{W_{ij}} + \\Delta {W_{ij}}} \\right)X_i^2{X_j} + \\left( {{W_{ij}} - \\Delta {W_{ij}}} \\right){X_i}X_j^2 = {W_{iij}}X_i^2{X_j} + {W_{ijj}}{X_i}X_j^2$  \n",
    "- Strictly ternary terms: $W_{ijk}X_iX_jX_k$, where $i {\\ne} j {\\ne} k$"
   ]
  },
  {
   "cell_type": "code",
   "execution_count": null,
   "metadata": {},
   "outputs": [],
   "source": [
    "module = 'asymm_regular'\n",
    "params = []\n",
    "units = []\n",
    "symparam = ()\n",
    "G_excess = sym.symbols('G_excess')\n",
    "G_excess = 0\n",
    "for i in range(1,c):\n",
    "    for j in range(i+1,c+1):\n",
    "        param = 'Wh' + str(i) + str(j); params.append(param); units.append('J/m')\n",
    "        h_term = sym.symbols(param); symparam += (h_term,)\n",
    "        param = 'Ws' + str(i) + str(j); params.append(param); units.append('J/K-m')\n",
    "        s_term = sym.symbols(param); symparam += (s_term,)\n",
    "        param = 'Wv' + str(i) + str(j); params.append(param); units.append('J/bar-m')\n",
    "        v_term = sym.symbols(param); symparam += (v_term,)\n",
    "        param = 'dWh' + str(i) + str(j); params.append(param); units.append('J/m')\n",
    "        dh_term = sym.symbols(param); symparam += (dh_term,)\n",
    "        param = 'dWs' + str(i) + str(j); params.append(param); units.append('J/K-m')\n",
    "        ds_term = sym.symbols(param); symparam += (ds_term,)\n",
    "        param = 'dWv' + str(i) + str(j); params.append(param); units.append('J/bar-m')\n",
    "        dv_term = sym.symbols(param); symparam += (dv_term,)\n",
    "        w_term = h_term - T*s_term + P*v_term\n",
    "        dw_term = dh_term - T*ds_term + P*dv_term\n",
    "        G_excess += (w_term + dw_term*(n[i-1]-n[j-1])/nT)*n[i-1]*n[j-1]\n",
    "G_excess /= nT\n",
    "for i in range(1,c-1):\n",
    "    for j in range(i+1,c):\n",
    "        for k in range(j+1,c+1):\n",
    "            param = 'Wh' + str(i) + str(j) + str(k); params.append(param); units.append('J/m')\n",
    "            h_term = sym.symbols(param); symparam += (h_term,)\n",
    "            param = 'Ws' + str(i) + str(j) + str(k); params.append(param); units.append('J/K-m')\n",
    "            s_term = sym.symbols(param); symparam += (s_term,)\n",
    "            param = 'Wv' + str(i) + str(j) + str(k); params.append(param); units.append('J/bar-m')\n",
    "            v_term = sym.symbols(param); symparam += (v_term,)\n",
    "            G_excess += (h_term - T*s_term + P*v_term)*n[i-1]*n[j-1]*n[k-1]/nT/nT\n",
    "G_excess"
   ]
  },
  {
   "cell_type": "code",
   "execution_count": null,
   "metadata": {},
   "outputs": [],
   "source": [
    "print(params)\n",
    "print(units)"
   ]
  },
  {
   "cell_type": "markdown",
   "metadata": {},
   "source": [
    "## Define the Gibbs free energy of solution"
   ]
  },
  {
   "cell_type": "code",
   "execution_count": null,
   "metadata": {},
   "outputs": [],
   "source": [
    "G = G_ss + G_config + G_excess\n",
    "G"
   ]
  },
  {
   "cell_type": "markdown",
   "metadata": {},
   "source": [
    "## Add the Gibbs free energy of solution to the model"
   ]
  },
  {
   "cell_type": "code",
   "execution_count": null,
   "metadata": {},
   "outputs": [],
   "source": [
    "model.add_expression_to_model(G, list(zip(params, units, symparam)))"
   ]
  },
  {
   "cell_type": "markdown",
   "metadata": {},
   "source": [
    "... give the model a unqiue name"
   ]
  },
  {
   "cell_type": "code",
   "execution_count": null,
   "metadata": {},
   "outputs": [],
   "source": [
    "model.module = \"Berman96_Solution\""
   ]
  },
  {
   "cell_type": "code",
   "execution_count": null,
   "metadata": {},
   "outputs": [],
   "source": [
    "model.formula_string = '(Fe[Fe]Ca[Ca]Mg[Mg])Al2Si3O12'\n",
    "model.conversion_string = ['[0]=[Fe]', '[1]=[Ca]', '[2]=[Mg]']\n",
    "model.test_string = ['[0] > 0.0', '[1] > 0.0', '[2] > 0.0']"
   ]
  },
  {
   "cell_type": "markdown",
   "metadata": {},
   "source": [
    "# Define Parameters of a Garnet Solution\n",
    "Berman and Koziol, 1991 Component order\n",
    "1. Grossular, ${\\rm{Ca_3Al_2Si_3O_{12}}}$\n",
    "2. Pyrope, ${\\rm{Mg_3Al_2Si_3O_{12}}}$\n",
    "3. Almandine, ${\\rm{Fe_3Al_2Si_3O_{12}}}$\n",
    "\n",
    "MELTS component ordering\n",
    "1. Almandine\n",
    "2. Grossular\n",
    "3. Pyrope\n",
    "\n",
    "Original calibration from the Berman and Koziol, 1991 paper using their notation:\n",
    "```\n",
    "wh112   = 21560.0;  /* joules     */\n",
    "ws112   = 18.79;     /* joules/K   */\n",
    "wv112   = 0.10;   /* joules/bar */\n",
    "wh122   = 69200.0;  /* joules     */\n",
    "ws122   = 18.79;     /* joules/K   */\n",
    "wv122   = 0.1;   /* joules/bar */\n",
    "wh113   = 20320.0;   /* joules     */\n",
    "ws113   = 5.08;      /* joules     */\n",
    "wv113   = 0.17;  /* joules     */\n",
    "wh133   = 2620.0;  /* joules     */\n",
    "ws133   = 5.08;  /* joules/bar */\n",
    "wv133   = 0.09;  /* joules     */\n",
    "wh223   = 230.0;   /* joules/bar */\n",
    "ws223   = 0.0;   /* joules/bar */\n",
    "wv223   = 0.01;   /* joules/bar */\n",
    "wh233   = 3720.0;   /* joules/bar */\n",
    "ws223   = 0.0;   /* joules/bar */\n",
    "wv223   = 0.06;   /* joules/bar */\n",
    "```\n",
    "\n",
    "Note that in the notation derveloped in this paper, $\\left[ {{W_{ij}} + \\Delta {W_{ij}}\\left( {{X_i} - {X_j}} \\right)} \\right]{X_i}{X_j}$, is related to the convention used in the original paper: ${{\\tilde W}_{13}}{X_1}{X_3}\\left( {{X_3} + \\frac{{{X_2}}}{2}} \\right) + {{\\tilde W}_{31}}{X_1}{X_3}\\left( {{X_1} + \\frac{{{X_2}}}{2}} \\right)$:   \n",
    "- ${W_{13}} = {{\\tilde W}_{13}} + {{\\tilde W}_{31}}$\n",
    "- $d{W_{13}} = {{\\tilde W}_{31}} - {{\\tilde W}_{13}}$"
   ]
  },
  {
   "cell_type": "code",
   "execution_count": null,
   "metadata": {},
   "outputs": [],
   "source": [
    "print (params)\n",
    "wh21   = 33470\n",
    "ws21   = 18.79\n",
    "wv21   = 0.173\n",
    "wh12   = 68280\n",
    "ws12   = 18.79\n",
    "wv12   = 0.036\n",
    "wh31   = 21951.4\n",
    "ws31   = 9.43\n",
    "wv31   = 0.170\n",
    "wh13   = 11581.5\n",
    "ws13   = 9.43\n",
    "wv13   = 0.09\n",
    "wh32   = 5064.5\n",
    "ws32   = 4.11\n",
    "wv32   = 0.1\n",
    "wh23   = 6269.1\n",
    "ws23   = 4.11\n",
    "wv23   = 0.06\n",
    "paramValues = { 'Wh12':(wh13+wh31)/2,  'Ws12':(ws31+ws13)/2, 'Wv12':(wv31+wv13)/2, \\\n",
    "                'Wh13':(wh23+wh32)/2,  'Ws13':(ws32+ws23)/2,  'Wv13':(wv32+wv23)/2, \\\n",
    "                'Wh23':(wh12+wh21)/2,  'Ws23':(ws21+ws12)/2, 'Wv23':(wv21+wv12)/2, \\\n",
    "                'dWh12':(wh13-wh31)/2, 'dWs12':(ws13-ws31)/2, 'dWv12':(wv13-wv31)/2, \\\n",
    "                'dWh13':(wh23-wh32)/2, 'dWs13':(ws23-ws32)/2, 'dWv13':(wv23-wv32)/2, \\\n",
    "                'dWh23':(wh21-wh12)/2, 'dWs23':(ws21-ws12)/2, 'dWv23':(wv21-wv12)/2,\\\n",
    "                'Wh123':73298.3, 'Ws123':32.33, 'Wv123':0.281, \\\n",
    "                'T_r':298.15, 'P_r':1.0}\n",
    "#paramValues = { 'Wh12':wh31+wh13,  'Ws12':ws31+ws13, 'Wv12':wv31+wv13, \\\n",
    "                #'Wh13':wh32+wh23,  'Ws13':ws32+ws23,  'Wv13':wv32+wv23, \\\n",
    "                #'Wh23':wh21+wh12,  'Ws23':ws21+ws12, 'Wv23':wv21+wv12, \\\n",
    "                #'dWh12':wh31-wh13, 'dWs12':ws31-ws13, 'dWv12':wv31-wv13, \\\n",
    "                #'dWh13':wh32-wh23, 'dWs13':ws32-ws23, 'dWv13':wv32-wv23, \\\n",
    "                #'dWh23':wh21-wh12, 'dWs23':ws21-ws12, 'dWv23':wv21-wv12,\\\n",
    "                #'Wh123':0, 'Ws123':0.0, 'Wv123':0, \\\n",
    "                #'T_r':298.15, 'P_r':1.0}\n",
    "\n",
    "print (paramValues)"
   ]
  },
  {
   "cell_type": "markdown",
   "metadata": {},
   "source": [
    "Generate both fast computation and calibibration code for the feldspar solution"
   ]
  },
  {
   "cell_type": "markdown",
   "metadata": {},
   "source": [
    "# Use code printers to construct \"C\" package code"
   ]
  },
  {
   "cell_type": "code",
   "execution_count": null,
   "metadata": {},
   "outputs": [],
   "source": [
    "model_working_dir = \"working\"\n",
    "!mkdir -p {model_working_dir}\n",
    "%cd {model_working_dir}"
   ]
  },
  {
   "cell_type": "markdown",
   "metadata": {},
   "source": [
    "## Choose model type and create model\n",
    "model_type is \"fast\" or \"calib\""
   ]
  },
  {
   "cell_type": "code",
   "execution_count": null,
   "metadata": {},
   "outputs": [],
   "source": [
    "model_type = \"calib\""
   ]
  },
  {
   "cell_type": "code",
   "execution_count": null,
   "metadata": {},
   "outputs": [],
   "source": [
    "model.create_code_module(phase=\"Garnet\", params=paramValues, \n",
    "                         endmembers=['Almandine_Garnet', 'Grossular_Garnet', 'Pyrope_Garnet'], \n",
    "                         prefix=\"cy\", module_type=model_type, silent=False)"
   ]
  },
  {
   "cell_type": "markdown",
   "metadata": {},
   "source": [
    "## Load the module"
   ]
  },
  {
   "cell_type": "code",
   "execution_count": null,
   "metadata": {},
   "outputs": [],
   "source": [
    "\n",
    "import Berman96_Solution\n",
    "%cd .."
   ]
  },
  {
   "cell_type": "markdown",
   "metadata": {},
   "source": [
    "## Test and time the generated functions for Garnet (T in K, P in bars)"
   ]
  },
  {
   "cell_type": "code",
   "execution_count": null,
   "metadata": {},
   "outputs": [],
   "source": [
    "t = 2000.00\n",
    "p = 1.0\n",
    "n = np.array([1.1, 1.2, 1.3, 1.4, 1.5, 1.6, 1.7])"
   ]
  },
  {
   "cell_type": "markdown",
   "metadata": {},
   "source": [
    "## Available in both \"Fast\" and \"Calib\" code versions \n",
    "Execute the \"fast\" or \"calibration\" code metadata retrieval functions:"
   ]
  },
  {
   "cell_type": "code",
   "execution_count": null,
   "metadata": {},
   "outputs": [],
   "source": [
    "try:\n",
    "    print(Garnet_Solution.cy_Garnet_Garnet_Solution_identifier())\n",
    "    print(Garnet_Solution.cy_Garnet_Garnet_Solution_name())\n",
    "except AttributeError:\n",
    "    pass\n",
    "try:\n",
    "    print(Garnet_Solution.cy_Garnet_Garnet_Solution_calib_identifier())\n",
    "    print(Garnet_Solution.cy_Garnet_Garnet_Solution_calib_name())\n",
    "except AttributeError:\n",
    "    pass"
   ]
  },
  {
   "cell_type": "markdown",
   "metadata": {},
   "source": [
    "Test intrinsic element conversion routine ..."
   ]
  },
  {
   "cell_type": "code",
   "execution_count": null,
   "metadata": {},
   "outputs": [],
   "source": [
    "try:\n",
    "    e = np.zeros(106)\n",
    "    sum = np.sum(n)\n",
    "    for index in range(0,c):\n",
    "        end = Garnet_Solution.cy_Garnet_Garnet_Solution_endmember_elements(index)\n",
    "        for i in range(0,106):\n",
    "            e[i] += end[i]*n[index]/sum\n",
    "    nConv = Garnet_Solution.cy_Garnet_Garnet_Solution_conv_elm_to_moles(e)\n",
    "    for i in range(0,c):\n",
    "        print ('X[{0:d}] input {1:13.6e}, calc {2:13.6e}, diff {3:13.6e}'.format(\n",
    "        i, n[i]/sum, nConv[i], nConv[i]-n[i]/sum))\n",
    "    if not Garnet_Solution.cy_Garnet_Garnet_Solution_test_moles(nConv):\n",
    "        print ('Output of intrinsic composition calculation fails tests for permissible values.')\n",
    "except AttributeError:\n",
    "    pass\n",
    "try:\n",
    "    e = np.zeros(106)\n",
    "    sum = np.sum(n)\n",
    "    for index in range(0,c):\n",
    "        end = Garnet_Solution.cy_Garnet_Garnet_Solution_calib_endmember_elements(index)\n",
    "        for i in range(0,106):\n",
    "            e[i] += end[i]*n[index]/sum\n",
    "    nConv = Garnet_Solution.cy_Garnet_Garnet_Solution_calib_conv_elm_to_moles(e)\n",
    "    for i in range(0,c):\n",
    "        print ('X[{0:d}] input {1:13.6e}, calc {2:13.6e}, diff {3:13.6e}'.format(\n",
    "        i, n[i]/sum, nConv[i], nConv[i]-n[i]/sum))\n",
    "    if not Garnet_Solution.cy_Garnet_Garnet_Solution_calib_test_moles(nConv):\n",
    "        print ('Output of intrinsic composition calculation fails tests for permissible values.')\n",
    "except AttributeError:\n",
    "    pass"
   ]
  },
  {
   "cell_type": "code",
   "execution_count": null,
   "metadata": {},
   "outputs": [],
   "source": [
    "try:\n",
    "    print (Garnet_Solution.cy_Garnet_Garnet_Solution_calib_conv_moles_to_tot_moles(n))\n",
    "    print (Garnet_Solution.cy_Garnet_Garnet_Solution_calib_conv_moles_to_mole_frac(n))\n",
    "    e = Garnet_Solution.cy_Garnet_Garnet_Solution_calib_conv_moles_to_elm(n)\n",
    "    print (e)\n",
    "    print (Garnet_Solution.cy_Garnet_Garnet_Solution_calib_conv_elm_to_moles(e))\n",
    "    print (Garnet_Solution.cy_Garnet_Garnet_Solution_calib_conv_elm_to_tot_moles(e))\n",
    "    print (Garnet_Solution.cy_Garnet_Garnet_Solution_calib_conv_elm_to_tot_grams(e))\n",
    "except AttributeError:\n",
    "    pass\n",
    "try:\n",
    "    print (Garnet_Solution.cy_Garnet_Garnet_Solution_conv_moles_to_tot_moles(n))\n",
    "    print (Garnet_Solution.cy_Garnet_Garnet_Solution_conv_moles_to_mole_frac(n))\n",
    "    e = Garnet_Solution.cy_Garnet_Garnet_Solution_conv_moles_to_elm(n)\n",
    "    print (e)\n",
    "    print (Garnet_Solution.cy_Garnet_Garnet_Solution_conv_elm_to_moles(e))\n",
    "    print (Garnet_Solution.cy_Garnet_Garnet_Solution_conv_elm_to_tot_moles(e))\n",
    "    print (Garnet_Solution.cy_Garnet_Garnet_Solution_conv_elm_to_tot_grams(e))\n",
    "except AttributeError:\n",
    "    pass"
   ]
  },
  {
   "cell_type": "markdown",
   "metadata": {},
   "source": [
    "### Execute the standard thermodynamic property retrieval functions:"
   ]
  },
  {
   "cell_type": "code",
   "execution_count": null,
   "metadata": {},
   "outputs": [],
   "source": [
    "fmt = \"{0:<10.10s} {1:13.6e} {2:<10.10s}\"\n",
    "try:\n",
    "    print(fmt.format('G', Garnet_Solution.cy_Garnet_Garnet_Solution_g(t,p,n), 'J'))\n",
    "    print(fmt.format('dGdT', Garnet_Solution.cy_Garnet_Garnet_Solution_dgdt(t,p,n), 'J/K'))\n",
    "    print(fmt.format('dGdP', Garnet_Solution.cy_Garnet_Garnet_Solution_dgdp(t,p,n), 'J/bar'))\n",
    "    print(fmt.format('d2GdT2', Garnet_Solution.cy_Garnet_Garnet_Solution_d2gdt2(t,p,n), 'J/K^2'))\n",
    "    print(fmt.format('d2GdTdP', Garnet_Solution.cy_Garnet_Garnet_Solution_d2gdtdp(t,p,n), 'J/K-bar'))\n",
    "    print(fmt.format('d2GdP2', Garnet_Solution.cy_Garnet_Garnet_Solution_d2gdp2(t,p,n), 'J/bar^2'))\n",
    "    print(fmt.format('d3GdT3', Garnet_Solution.cy_Garnet_Garnet_Solution_d3gdt3(t,p,n), 'J/K^3'))\n",
    "    print(fmt.format('d3GdT2dP', Garnet_Solution.cy_Garnet_Garnet_Solution_d3gdt2dp(t,p,n), 'J/K^2-bar'))\n",
    "    print(fmt.format('d3GdTdP2', Garnet_Solution.cy_Garnet_Garnet_Solution_d3gdtdp2(t,p,n), 'J/K-bar^2'))\n",
    "    print(fmt.format('d3GdP3', Garnet_Solution.cy_Garnet_Garnet_Solution_d3gdp3(t,p,n), 'J/bar^3'))\n",
    "    print(fmt.format('S', Garnet_Solution.cy_Garnet_Garnet_Solution_s(t,p,n), 'J/K'))\n",
    "    print(fmt.format('V', Garnet_Solution.cy_Garnet_Garnet_Solution_v(t,p,n), 'J/bar'))\n",
    "    print(fmt.format('Cv', Garnet_Solution.cy_Garnet_Garnet_Solution_cv(t,p,n), 'J/K'))\n",
    "    print(fmt.format('Cp', Garnet_Solution.cy_Garnet_Garnet_Solution_cp(t,p,n), 'J/K'))\n",
    "    print(fmt.format('dCpdT', Garnet_Solution.cy_Garnet_Garnet_Solution_dcpdt(t,p,n), 'J/K^2'))\n",
    "    print(fmt.format('alpha', Garnet_Solution.cy_Garnet_Garnet_Solution_alpha(t,p,n), '1/K'))\n",
    "    print(fmt.format('beta', Garnet_Solution.cy_Garnet_Garnet_Solution_beta(t,p,n), '1/bar'))\n",
    "    print(fmt.format('K', Garnet_Solution.cy_Garnet_Garnet_Solution_K(t,p,n), 'bar'))\n",
    "    print(fmt.format('Kp', Garnet_Solution.cy_Garnet_Garnet_Solution_Kp(t,p,n), ''))\n",
    "except AttributeError:\n",
    "    pass\n",
    "try:\n",
    "    print(fmt.format('G', Garnet_Solution.cy_Garnet_Garnet_Solution_calib_g(t,p,n), 'J'))\n",
    "    print(fmt.format('dGdT', Garnet_Solution.cy_Garnet_Garnet_Solution_calib_dgdt(t,p,n), 'J/K'))\n",
    "    print(fmt.format('dGdP', Garnet_Solution.cy_Garnet_Garnet_Solution_calib_dgdp(t,p,n), 'J/bar'))\n",
    "    print(fmt.format('d2GdT2', Garnet_Solution.cy_Garnet_Garnet_Solution_calib_d2gdt2(t,p,n), 'J/K^2'))\n",
    "    print(fmt.format('d2GdTdP', Garnet_Solution.cy_Garnet_Garnet_Solution_calib_d2gdtdp(t,p,n), 'J/K-bar'))\n",
    "    print(fmt.format('d2GdP2', Garnet_Solution.cy_Garnet_Garnet_Solution_calib_d2gdp2(t,p,n), 'J/bar^2'))\n",
    "    print(fmt.format('d3GdT3', Garnet_Solution.cy_Garnet_Garnet_Solution_calib_d3gdt3(t,p,n), 'J/K^3'))\n",
    "    print(fmt.format('d3GdT2dP', Garnet_Solution.cy_Garnet_Garnet_Solution_calib_d3gdt2dp(t,p,n), 'J/K^2-bar'))\n",
    "    print(fmt.format('d3GdTdP2', Garnet_Solution.cy_Garnet_Garnet_Solution_calib_d3gdtdp2(t,p,n), 'J/K-bar^2'))\n",
    "    print(fmt.format('d3GdP3', Garnet_Solution.cy_Garnet_Garnet_Solution_calib_d3gdp3(t,p,n), 'J/bar^3'))\n",
    "    print(fmt.format('S', Garnet_Solution.cy_Garnet_Garnet_Solution_calib_s(t,p,n), 'J/K'))\n",
    "    print(fmt.format('V', Garnet_Solution.cy_Garnet_Garnet_Solution_calib_v(t,p,n), 'J/bar'))\n",
    "    print(fmt.format('Cv', Garnet_Solution.cy_Garnet_Garnet_Solution_calib_cv(t,p,n), 'J/K'))\n",
    "    print(fmt.format('Cp', Garnet_Solution.cy_Garnet_Garnet_Solution_calib_cp(t,p,n), 'J/K'))\n",
    "    print(fmt.format('dCpdT', Garnet_Solution.cy_Garnet_Garnet_Solution_calib_dcpdt(t,p,n), 'J/K^2'))\n",
    "    print(fmt.format('alpha', Garnet_Solution.cy_Garnet_Garnet_Solution_calib_alpha(t,p,n), '1/K'))\n",
    "    print(fmt.format('beta', Garnet_Solution.cy_Garnet_Garnet_Solution_calib_beta(t,p,n), '1/bar'))\n",
    "    print(fmt.format('K', Garnet_Solution.cy_Garnet_Garnet_Solution_calib_K(t,p,n), 'bar'))\n",
    "    print(fmt.format('Kp', Garnet_Solution.cy_Garnet_Garnet_Solution_calib_Kp(t,p,n), ''))\n",
    "except AttributeError:\n",
    "    pass"
   ]
  },
  {
   "cell_type": "markdown",
   "metadata": {},
   "source": [
    "### Execute functions that access endmember properties:"
   ]
  },
  {
   "cell_type": "code",
   "execution_count": null,
   "metadata": {},
   "outputs": [],
   "source": [
    "fmt = \"{0:<10.10s} {1:13.6e} {2:<15.15s}\"\n",
    "try:\n",
    "    print (\"number of components\", Garnet_Solution.cy_Garnet_Garnet_Solution_endmember_number())\n",
    "    for index in range(0, c):\n",
    "        print (\"{0:<20.20s}\".format(Garnet_Solution.cy_Garnet_Garnet_Solution_endmember_name(index)), end=' ')\n",
    "        print (\"{0:<20.20s}\".format(Garnet_Solution.cy_Garnet_Garnet_Solution_endmember_formula(index)))\n",
    "        print (\"mw: {0:10.2f}\".format(Garnet_Solution.cy_Garnet_Garnet_Solution_endmember_mw(index)))\n",
    "        print (fmt.format('mu0', Garnet_Solution.cy_Garnet_Garnet_Solution_endmember_mu0(index,t,p), 'J/mol'))\n",
    "        print (fmt.format('dmu0dT', Garnet_Solution.cy_Garnet_Garnet_Solution_endmember_dmu0dT(index,t,p), 'J/K-mol'))\n",
    "        print (fmt.format('dmu0dP', Garnet_Solution.cy_Garnet_Garnet_Solution_endmember_dmu0dP(index,t,p), 'J/bar-mol'))\n",
    "        print (fmt.format('d2mu0dT2', Garnet_Solution.cy_Garnet_Garnet_Solution_endmember_d2mu0dT2(index,t,p), 'J/K^2-mol'))\n",
    "        print (fmt.format('d2mu0dTdP', Garnet_Solution.cy_Garnet_Garnet_Solution_endmember_d2mu0dTdP(index,t,p), 'J/K-bar-mol'))\n",
    "        print (fmt.format('d2mu0dP2', Garnet_Solution.cy_Garnet_Garnet_Solution_endmember_d2mu0dP2(index,t,p), 'J/bar^2-mol'))\n",
    "        print (fmt.format('d3mu0dT3', Garnet_Solution.cy_Garnet_Garnet_Solution_endmember_d3mu0dT3(index,t,p), 'J/K^3-mol'))\n",
    "        print (fmt.format('d3mu0dT2dP', Garnet_Solution.cy_Garnet_Garnet_Solution_endmember_d3mu0dT2dP(index,t,p), 'J/K^2-bar-mol'))\n",
    "        print (fmt.format('d3mu0dTdP2', Garnet_Solution.cy_Garnet_Garnet_Solution_endmember_d3mu0dTdP2(index,t,p), 'J/K-bar^2-mol'))\n",
    "        print (fmt.format('d3mu0dP3', Garnet_Solution.cy_Garnet_Garnet_Solution_endmember_d3mu0dP3(index,t,p), 'J/bar^3-mol'))\n",
    "        print (\"Element array:\")\n",
    "        print (Garnet_Solution.cy_Garnet_Garnet_Solution_endmember_elements(index))\n",
    "        print ()\n",
    "except AttributeError:\n",
    "    pass\n",
    "try:\n",
    "    print (\"number of components\", Garnet_Solution.cy_Garnet_Garnet_Solution_calib_endmember_number())\n",
    "    for index in range(0, c):\n",
    "        print (\"{0:<20.20s}\".format(Garnet_Solution.cy_Garnet_Garnet_Solution_calib_endmember_name(index)), end=' ')\n",
    "        print (\"{0:<20.20s}\".format(Garnet_Solution.cy_Garnet_Garnet_Solution_calib_endmember_formula(index)), end=' ')\n",
    "        print (\"mw: {0:10.2f}\".format(Garnet_Solution.cy_Garnet_Garnet_Solution_calib_endmember_mw(index)))\n",
    "        print (fmt.format('mu0', Garnet_Solution.cy_Garnet_Garnet_Solution_calib_endmember_mu0(index,t,p), 'J/mol'))\n",
    "        print (fmt.format('dmu0dT', Garnet_Solution.cy_Garnet_Garnet_Solution_calib_endmember_dmu0dT(index,t,p), 'J/K-mol'))\n",
    "        print (fmt.format('dmu0dP', Garnet_Solution.cy_Garnet_Garnet_Solution_calib_endmember_dmu0dP(index,t,p), 'J/bar-mol'))\n",
    "        print (fmt.format('d2mu0dT2', Garnet_Solution.cy_Garnet_Garnet_Solution_calib_endmember_d2mu0dT2(index,t,p), 'J/K^2-mol'))\n",
    "        print (fmt.format('d2mu0dTdP', Garnet_Solution.cy_Garnet_Garnet_Solution_calib_endmember_d2mu0dTdP(index,t,p), 'J/K-bar-mol'))\n",
    "        print (fmt.format('d2mu0dP2', Garnet_Solution.cy_Garnet_Garnet_Solution_calib_endmember_d2mu0dP2(index,t,p), 'J/bar^2-mol'))\n",
    "        print (fmt.format('d3mu0dT3', Garnet_Solution.cy_Garnet_Garnet_Solution_calib_endmember_d3mu0dT3(index,t,p), 'J/K^3-mol'))\n",
    "        print (fmt.format('d3mu0dT2dP', Garnet_Solution.cy_Garnet_Garnet_Solution_calib_endmember_d3mu0dT2dP(index,t,p), 'J/K^2-bar-mol'))\n",
    "        print (fmt.format('d3mu0dTdP2', Garnet_Solution.cy_Garnet_Garnet_Solution_calib_endmember_d3mu0dTdP2(index,t,p), 'J/K-bar^2-mol'))\n",
    "        print (fmt.format('d3mu0dP3', Garnet_Solution.cy_Garnet_Garnet_Solution_calib_endmember_d3mu0dP3(index,t,p), 'J/bar^3-mol'))\n",
    "        print (\"Element array:\")\n",
    "        print (Garnet_Solution.cy_Garnet_Garnet_Solution_calib_endmember_elements(index))\n",
    "        print ()\n",
    "except AttributeError:\n",
    "    pass"
   ]
  },
  {
   "cell_type": "markdown",
   "metadata": {},
   "source": [
    "### Execute functions that access species properties:"
   ]
  },
  {
   "cell_type": "code",
   "execution_count": null,
   "metadata": {},
   "outputs": [],
   "source": [
    "fmt = \"{0:<10.10s} {1:13.6e} {2:<15.15s}\"\n",
    "try:\n",
    "    print (\"number of species\", Garnet_Solution.cy_Garnet_Garnet_Solution_species_number())\n",
    "    for index in range(0, c):\n",
    "        print (\"{0:<20.20s}\".format(Garnet_Solution.cy_Garnet_Garnet_Solution_species_name(index)), end=' ')\n",
    "        print (\"{0:<20.20s}\".format(Garnet_Solution.cy_Garnet_Garnet_Solution_species_formula(index)))\n",
    "        print (\"mw: {0:10.2f}\".format(Garnet_Solution.cy_Garnet_Garnet_Solution_species_mw(index)))\n",
    "        print (\"Element array:\")\n",
    "        print (Garnet_Solution.cy_Garnet_Garnet_Solution_species_elements(index))\n",
    "        print ()\n",
    "except AttributeError:\n",
    "    pass\n",
    "try:\n",
    "    print (\"number of species\", Garnet_Solution.cy_Garnet_Garnet_Solution_calib_species_number())\n",
    "    for index in range(0, c):\n",
    "        print (\"{0:<20.20s}\".format(Garnet_Solution.cy_Garnet_Garnet_Solution_calib_species_name(index)), end=' ')\n",
    "        print (\"{0:<20.20s}\".format(Garnet_Solution.cy_Garnet_Garnet_Solution_calib_species_formula(index)), end=' ')\n",
    "        print (\"mw: {0:10.2f}\".format(Garnet_Solution.cy_Garnet_Garnet_Solution_calib_species_mw(index)))\n",
    "        print (\"Element array:\")\n",
    "        print (Garnet_Solution.cy_Garnet_Garnet_Solution_calib_species_elements(index))\n",
    "        print ()\n",
    "except AttributeError:\n",
    "    pass"
   ]
  },
  {
   "cell_type": "markdown",
   "metadata": {},
   "source": [
    "### Execute functions for molar derivatives\n",
    "#### First derivative vectors:"
   ]
  },
  {
   "cell_type": "code",
   "execution_count": null,
   "metadata": {},
   "outputs": [],
   "source": [
    "def printResult(name, result, units):\n",
    "    print (\"{0:<10.10s}\".format(name), end=' ')\n",
    "    [print (\"{0:13.6e}\".format(x), end=' ') for x in result]\n",
    "    print (\"{0:<10.10s}\".format(units))\n",
    "def printLabels(n):\n",
    "    print (\"{0:<18.18s}\".format(''), end=' ')\n",
    "    [print (\"[{0:3d}]{1:<8.8s}\".format(idx, ''), end=' ') for idx in range(len(n))]\n",
    "    print ()\n",
    "printLabels(n)\n",
    "try:\n",
    "    printResult('dGdn', Garnet_Solution.cy_Garnet_Garnet_Solution_dgdn(t,p,n), 'J/m')\n",
    "    printResult('d2GdndT', Garnet_Solution.cy_Garnet_Garnet_Solution_d2gdndt(t,p,n), 'J/K-m')\n",
    "    printResult('d2GdndP', Garnet_Solution.cy_Garnet_Garnet_Solution_d2gdndp(t,p,n), 'J/bar-m')\n",
    "    printResult('d3GdndT2', Garnet_Solution.cy_Garnet_Garnet_Solution_d3gdndt2(t,p,n), 'J/K^2-m')\n",
    "    printResult('d3GdndTdP', Garnet_Solution.cy_Garnet_Garnet_Solution_d3gdndtdp(t,p,n), 'J/K-bar-m')\n",
    "    printResult('d3GdndP2', Garnet_Solution.cy_Garnet_Garnet_Solution_d3gdndp2(t,p,n), 'J/bar^2-m')\n",
    "    printResult('d4GdndT3', Garnet_Solution.cy_Garnet_Garnet_Solution_d4gdndt3(t,p,n), 'J/K^3-m')\n",
    "    printResult('d4GdndT2dP', Garnet_Solution.cy_Garnet_Garnet_Solution_d4gdndt2dp(t,p,n), 'J/K^2-bar-m')\n",
    "    printResult('d4GdndTdP2', Garnet_Solution.cy_Garnet_Garnet_Solution_d4gdndtdp2(t,p,n), 'J/K-bar^2-m')\n",
    "    printResult('d4GdndP3', Garnet_Solution.cy_Garnet_Garnet_Solution_d4gdndp3(t,p,n), 'J/bar^3-m')\n",
    "except AttributeError:\n",
    "    pass\n",
    "try:\n",
    "    printResult('dGdn', Garnet_Solution.cy_Garnet_Garnet_Solution_calib_dgdn(t,p,n), 'J/m')\n",
    "    printResult('d2GdndT', Garnet_Solution.cy_Garnet_Garnet_Solution_calib_d2gdndt(t,p,n), 'J/K-m')\n",
    "    printResult('d2GdndP', Garnet_Solution.cy_Garnet_Garnet_Solution_calib_d2gdndp(t,p,n), 'J/bar-m')\n",
    "    printResult('d3GdndT2', Garnet_Solution.cy_Garnet_Garnet_Solution_calib_d3gdndt2(t,p,n), 'J/K^2-m')\n",
    "    printResult('d3GdndTdP', Garnet_Solution.cy_Garnet_Garnet_Solution_calib_d3gdndtdp(t,p,n), 'J/K-bar-m')\n",
    "    printResult('d3GdndP2', Garnet_Solution.cy_Garnet_Garnet_Solution_calib_d3gdndp2(t,p,n), 'J/bar^2-m')\n",
    "    printResult('d4GdndT3', Garnet_Solution.cy_Garnet_Garnet_Solution_calib_d4gdndt3(t,p,n), 'J/K^3-m')\n",
    "    printResult('d4GdndT2dP', Garnet_Solution.cy_Garnet_Garnet_Solution_calib_d4gdndt2dp(t,p,n), 'J/K^2-bar-m')\n",
    "    printResult('d4GdndTdP2', Garnet_Solution.cy_Garnet_Garnet_Solution_calib_d4gdndtdp2(t,p,n), 'J/K-bar^2-m')\n",
    "    printResult('d4GdndP3', Garnet_Solution.cy_Garnet_Garnet_Solution_calib_d4gdndp3(t,p,n), 'J/bar^3-m')\n",
    "except AttributeError:\n",
    "    pass    "
   ]
  },
  {
   "cell_type": "markdown",
   "metadata": {},
   "source": [
    "#### The Hessian matrix (molar second derivative matrix) is stored as a compact linear array\n",
    "A function is provided to map matrix indices to compact storage 1-D array indices"
   ]
  },
  {
   "cell_type": "code",
   "execution_count": null,
   "metadata": {},
   "outputs": [],
   "source": [
    "for i in range(1,c+1):\n",
    "    print (\"[ \", end=' ')\n",
    "    for j in range (1,c+1):\n",
    "        print ((i,j), end=' ')\n",
    "    print (']     [', end=' ')\n",
    "    for j in range (1,c+1):\n",
    "        print (model.symmetric_index_from_2d_array(elm=(i,j)), end=' ')\n",
    "    print (']')"
   ]
  },
  {
   "cell_type": "code",
   "execution_count": null,
   "metadata": {},
   "outputs": [],
   "source": [
    "def printResult(name, result, units):\n",
    "    print (\"{0:<10.10s}\".format(name), end=' ')\n",
    "    [print (\"{0:13.6e}\".format(x), end=' ') for x in result]\n",
    "    print (\"{0:<10.10s}\".format(units))\n",
    "def printLabels(n):\n",
    "    print (\"{0:<18.18s}\".format(''), end=' ')\n",
    "    maxIdx = int(len(n)*(len(n)-1)/2 + len(n))\n",
    "    [print (\"[{0:3d}]{1:<8.8s}\".format(idx, ''), end=' ') for idx in range(maxIdx)]\n",
    "    print ()\n",
    "printLabels(n)\n",
    "try:\n",
    "    printResult('d2Gdn2', Garnet_Solution.cy_Garnet_Garnet_Solution_d2gdn2(t,p,n), 'J/m^2')\n",
    "    printResult('d3Gdn2dT', Garnet_Solution.cy_Garnet_Garnet_Solution_d3gdn2dt(t,p,n), 'J/K-m^2')\n",
    "    printResult('d3Gdn2dP', Garnet_Solution.cy_Garnet_Garnet_Solution_d3gdn2dp(t,p,n), 'J/bar-m^2')\n",
    "    printResult('d4Gdn2dT2', Garnet_Solution.cy_Garnet_Garnet_Solution_d4gdn2dt2(t,p,n), 'J/K^2-m^2')\n",
    "    printResult('d4Gdn2dTdP', Garnet_Solution.cy_Garnet_Garnet_Solution_d4gdn2dtdp(t,p,n), 'J/K-bar-m^2')\n",
    "    printResult('d4Gdn2dP2', Garnet_Solution.cy_Garnet_Garnet_Solution_d4gdn2dp2(t,p,n), 'J/bar^2-m^2')\n",
    "    printResult('d5Gdn2dT3', Garnet_Solution.cy_Garnet_Garnet_Solution_d5gdn2dt3(t,p,n), 'J/K^3-m^2')\n",
    "    printResult('d5Gdn2dT2dP', Garnet_Solution.cy_Garnet_Garnet_Solution_d5gdn2dt2dp(t,p,n), 'J/K^2-bar-m^2')\n",
    "    printResult('d5Gdn2dTdP2', Garnet_Solution.cy_Garnet_Garnet_Solution_d5gdn2dtdp2(t,p,n), 'J/K-bar^2-m^2')\n",
    "    printResult('d5Gdn2dP3', Garnet_Solution.cy_Garnet_Garnet_Solution_d5gdn2dp3(t,p,n), 'J/bar^3-m^2')\n",
    "except AttributeError:\n",
    "    pass\n",
    "try:\n",
    "    printResult('d2Gdn2', Garnet_Solution.cy_Garnet_Garnet_Solution_calib_d2gdn2(t,p,n), 'J/m^2')\n",
    "    printResult('d3Gdn2dT', Garnet_Solution.cy_Garnet_Garnet_Solution_calib_d3gdn2dt(t,p,n), 'J/K-m^2')\n",
    "    printResult('d3Gdn2dP', Garnet_Solution.cy_Garnet_Garnet_Solution_calib_d3gdn2dp(t,p,n), 'J/bar-m^2')\n",
    "    printResult('d4Gdn2dT2', Garnet_Solution.cy_Garnet_Garnet_Solution_calib_d4gdn2dt2(t,p,n), 'J/K^2-m^2')\n",
    "    printResult('d4Gdn2dTdP', Garnet_Solution.cy_Garnet_Garnet_Solution_calib_d4gdn2dtdp(t,p,n), 'J/K-bar-m^2')\n",
    "    printResult('d4Gdn2dP2', Garnet_Solution.cy_Garnet_Garnet_Solution_calib_d4gdn2dp2(t,p,n), 'J/bar^2-m^2')\n",
    "    printResult('d5Gdn2dT3', Garnet_Solution.cy_Garnet_Garnet_Solution_calib_d5gdn2dt3(t,p,n), 'J/K^3-m^2')\n",
    "    printResult('d5Gdn2dT2dP', Garnet_Solution.cy_Garnet_Garnet_Solution_calib_d5gdn2dt2dp(t,p,n), 'J/K^2-bar-m^2')\n",
    "    printResult('d5Gdn2dTdP2', Garnet_Solution.cy_Garnet_Garnet_Solution_calib_d5gdn2dtdp2(t,p,n), 'J/K-bar^2-m^2')\n",
    "    printResult('d5Gdn2dP3', Garnet_Solution.cy_Garnet_Garnet_Solution_calib_d5gdn2dp3(t,p,n), 'J/bar^3-m^2')\n",
    "except AttributeError:\n",
    "    pass"
   ]
  },
  {
   "cell_type": "markdown",
   "metadata": {},
   "source": [
    "#### The 3-D Tensor (molar third derivative tensor) is stored as a compact linear array\n",
    "A function is provided to map matrix indices to compact storage 1-D array indices:  \n",
    "If $n_c$ represents the number of components in the solution, and  \n",
    "if $n_d$ represents the dimensionality of molar derivative (in this case 3), then  \n",
    "the number of numerically ordered permutations of $n_c$ molar derivatives taken $n_d$ at a time is:"
   ]
  },
  {
   "cell_type": "code",
   "execution_count": null,
   "metadata": {},
   "outputs": [],
   "source": [
    "n_c,n_d = sym.symbols('n_c n_d')\n",
    "q = sym.factorial(n_c+n_d-1)/sym.factorial(n_d)/sym.factorial(n_c-1)\n",
    "q"
   ]
  },
  {
   "cell_type": "markdown",
   "metadata": {},
   "source": [
    "Substituting $n_d$ equal to 3 and simplifying gives:"
   ]
  },
  {
   "cell_type": "code",
   "execution_count": null,
   "metadata": {},
   "outputs": [],
   "source": [
    "q = sym.simplify(q.subs(n_d,3))\n",
    "q"
   ]
  },
  {
   "cell_type": "markdown",
   "metadata": {},
   "source": [
    "and, for the number of components in this solution, there will be the following number of unique terms in the third derivative tensor:"
   ]
  },
  {
   "cell_type": "code",
   "execution_count": null,
   "metadata": {},
   "outputs": [],
   "source": [
    "q.subs(n_c,c)"
   ]
  },
  {
   "cell_type": "markdown",
   "metadata": {},
   "source": [
    "A function is provided to map matrix indices to compact storage 1-D array indices"
   ]
  },
  {
   "cell_type": "code",
   "execution_count": null,
   "metadata": {},
   "outputs": [],
   "source": [
    "for i in range(1,c+1):\n",
    "    for j in range (1,c+1):\n",
    "        print (\"[\", end=' ')\n",
    "        for k in range (1,c+1):\n",
    "            print (\"{0:1d}{1:1d}{2:1d}\".format(i,j,k), end=' ')\n",
    "        print ('] ', end=' ')\n",
    "    print ('  ->  ', end=' ')\n",
    "    for j in range (1,c+1):\n",
    "        print (\"[\", end=' ')\n",
    "        for k in range (1,c+1):\n",
    "            print (model.symmetric_index_from_3d_array(elm=(i,j,k)), end=' ')\n",
    "        print ('] ', end=' ')\n",
    "    print ('')"
   ]
  },
  {
   "cell_type": "code",
   "execution_count": null,
   "metadata": {},
   "outputs": [],
   "source": [
    "def printResult(name, result, units):\n",
    "    print (\"{0:<10.10s}\".format(name), end=' ')\n",
    "    [print (\"{0:10.3e}\".format(x), end=' ') for x in result]\n",
    "    print (\"{0:<14.14s}\".format(units))\n",
    "def printLabels(n):\n",
    "    print (\"{0:<15.15s}\".format(''), end=' ')\n",
    "    maxIdx = int(len(n)*(len(n)+1)*(len(n)+2)/6)\n",
    "    [print (\"[{0:3d}]{1:<5.5s}\".format(idx, ''), end=' ') for idx in range(maxIdx)]\n",
    "    print ()\n",
    "printLabels(n)\n",
    "try:\n",
    "    printResult('d3Gdn3', Garnet_Solution.cy_Garnet_Garnet_Solution_d3gdn3(t,p,n), 'J/m^3')\n",
    "    printResult('d4Gdn3dT', Garnet_Solution.cy_Garnet_Garnet_Solution_d4gdn3dt(t,p,n), 'J/K-m^3')\n",
    "    printResult('d4Gdn3dP', Garnet_Solution.cy_Garnet_Garnet_Solution_d4gdn3dp(t,p,n), 'J/bar-m^3')\n",
    "    printResult('d5Gdn3dT2', Garnet_Solution.cy_Garnet_Garnet_Solution_d5gdn3dt2(t,p,n), 'J/K^2-m^3')\n",
    "    printResult('d5Gdn3dTdP', Garnet_Solution.cy_Garnet_Garnet_Solution_d5gdn3dtdp(t,p,n), 'J/K-bar-m^3')\n",
    "    printResult('d5Gdn3dP2', Garnet_Solution.cy_Garnet_Garnet_Solution_d5gdn3dp2(t,p,n), 'J/bar^2-m^3')\n",
    "    printResult('d6Gdn3dT3', Garnet_Solution.cy_Garnet_Garnet_Solution_d6gdn3dt3(t,p,n), 'J/K^3-m^3')\n",
    "    printResult('d6Gdn3dT2dP', Garnet_Solution.cy_Garnet_Garnet_Solution_d6gdn3dt2dp(t,p,n), 'J/K^2-bar-m^3')\n",
    "    printResult('d6Gdn3dTdP2', Garnet_Solution.cy_Garnet_Garnet_Solution_d6gdn3dtdp2(t,p,n), 'J/K-bar^2-m^3')\n",
    "    printResult('d6Gdn3dP3', Garnet_Solution.cy_Garnet_Garnet_Solution_d6gdn3dp3(t,p,n), 'J/bar^3-m^3')\n",
    "except AttributeError:\n",
    "    pass\n",
    "try:\n",
    "    printResult('d3Gdn3', Garnet_Solution.cy_Garnet_Garnet_Solution_calib_d3gdn3(t,p,n), 'J/m^3')\n",
    "    printResult('d4Gdn3dT', Garnet_Solution.cy_Garnet_Garnet_Solution_calib_d4gdn3dt(t,p,n), 'J/K-m^3')\n",
    "    printResult('d4Gdn3dP', Garnet_Solution.cy_Garnet_Garnet_Solution_calib_d4gdn3dp(t,p,n), 'J/bar-m^3')\n",
    "    printResult('d5Gdn3dT2', Garnet_Solution.cy_Garnet_Garnet_Solution_calib_d5gdn3dt2(t,p,n), 'J/K^2-m^3')\n",
    "    printResult('d5Gdn3dTdP', Garnet_Solution.cy_Garnet_Garnet_Solution_calib_d5gdn3dtdp(t,p,n), 'J/K-bar-m^3')\n",
    "    printResult('d5Gdn3dP2', Garnet_Solution.cy_Garnet_Garnet_Solution_calib_d5gdn3dp2(t,p,n), 'J/bar^2-m^3')\n",
    "    printResult('d6Gdn3dT3', Garnet_Solution.cy_Garnet_Garnet_Solution_calib_d6gdn3dt3(t,p,n), 'J/K^3-m^3')\n",
    "    printResult('d6Gdn3dT2dP', Garnet_Solution.cy_Garnet_Garnet_Solution_calib_d6gdn3dt2dp(t,p,n), 'J/K^2-bar-m^3')\n",
    "    printResult('d6Gdn3dTdP2', Garnet_Solution.cy_Garnet_Garnet_Solution_calib_d6gdn3dtdp2(t,p,n), 'J/K-bar^2-m^3')\n",
    "    printResult('d6Gdn3dP3', Garnet_Solution.cy_Garnet_Garnet_Solution_calib_d6gdn3dp3(t,p,n), 'J/bar^3-m^3')\n",
    "except AttributeError:\n",
    "    pass"
   ]
  },
  {
   "cell_type": "markdown",
   "metadata": {},
   "source": [
    "## Test and time the generated functions for Garnet"
   ]
  },
  {
   "cell_type": "markdown",
   "metadata": {},
   "source": [
    "Time the code"
   ]
  },
  {
   "cell_type": "code",
   "execution_count": null,
   "metadata": {},
   "outputs": [],
   "source": [
    "try:\n",
    "    %timeit(Garnet_Solution.cy_Garnet_Garnet_Solution_g(t, p, n))\n",
    "except AttributeError:\n",
    "    pass\n",
    "try:\n",
    "    %timeit(Garnet_Solution.cy_Garnet_Garnet_Solution_calib_g(t, p, n))\n",
    "except AttributeError:\n",
    "    pass"
   ]
  },
  {
   "cell_type": "markdown",
   "metadata": {},
   "source": [
    "Time the Rubicon wrapped Objective-C code"
   ]
  },
  {
   "cell_type": "code",
   "execution_count": null,
   "metadata": {},
   "outputs": [],
   "source": [
    "from thermoengine import model as stdmodel\n",
    "modelDB = stdmodel.Database()\n",
    "GarnetHC = modelDB.get_phase('Grt')"
   ]
  },
  {
   "cell_type": "code",
   "execution_count": null,
   "metadata": {},
   "outputs": [],
   "source": [
    "%timeit(GarnetHC.gibbs_energy(t,p,mol=n))"
   ]
  },
  {
   "cell_type": "markdown",
   "metadata": {},
   "source": [
    "## Methods available only in the \"Calib\" versions of generated code\n",
    "### Execute the parameter value/metadata functions.  \n",
    "These functions are only defined for the \"calibration\" model code implementation:"
   ]
  },
  {
   "cell_type": "code",
   "execution_count": null,
   "metadata": {},
   "outputs": [],
   "source": [
    "nparam = 0"
   ]
  },
  {
   "cell_type": "code",
   "execution_count": null,
   "metadata": {},
   "outputs": [],
   "source": [
    "Garnet_Solution.cy_Garnet_Garnet_Solution_get_param_number()\n",
    "try:\n",
    "    nparam = Garnet_Solution.cy_Garnet_Garnet_Solution_get_param_number()\n",
    "    names = Garnet_Solution.cy_Garnet_Garnet_Solution_get_param_names()\n",
    "    units = Garnet_Solution.cy_Garnet_Garnet_Solution_get_param_units()\n",
    "    values = Garnet_Solution.cy_Garnet_Garnet_Solution_get_param_values()\n",
    "    fmt = \"{0:<10.10s} {1:13.6e} {2:13.6e} {3:<10.10s}\"\n",
    "    for i in range(0,nparam):\n",
    "        print(fmt.format(names[i], values[i], Garnet_Solution.cy_Garnet_Garnet_Solution_get_param_value(i), units[i]))\n",
    "except AttributeError:\n",
    "    pass"
   ]
  },
  {
   "cell_type": "markdown",
   "metadata": {},
   "source": [
    "### Functions that allow modification of the array of parameter values"
   ]
  },
  {
   "cell_type": "code",
   "execution_count": null,
   "metadata": {},
   "outputs": [],
   "source": [
    "try:\n",
    "    values[1] = 100.0\n",
    "    Garnet_Solution.cy_Garnet_Garnet_Solution_set_param_values(values)\n",
    "    fmt = \"{0:<10.10s} {1:13.6e} {2:13.6e} {3:<10.10s}\"\n",
    "    for i in range(0,nparam):\n",
    "        print(fmt.format(names[i], values[i], Garnet_Solution.cy_Garnet_Garnet_Solution_get_param_value(i), units[i]))\n",
    "except (AttributeError, NameError):\n",
    "    pass"
   ]
  },
  {
   "cell_type": "markdown",
   "metadata": {},
   "source": [
    "### Functions that allow modification of a particular parameter value"
   ]
  },
  {
   "cell_type": "code",
   "execution_count": null,
   "metadata": {},
   "outputs": [],
   "source": [
    "try:\n",
    "    Garnet_Solution.cy_Garnet_Garnet_Solution_set_param_value(1, 1.0)\n",
    "    fmt = \"{0:<10.10s} {1:13.6e} {2:13.6e} {3:<10.10s}\"\n",
    "    for i in range(0,nparam):\n",
    "        print(fmt.format(names[i], values[i], Garnet_Solution.cy_Garnet_Garnet_Solution_get_param_value(i), units[i]))\n",
    "except AttributeError:\n",
    "    pass"
   ]
  },
  {
   "cell_type": "markdown",
   "metadata": {},
   "source": [
    "### Functions that evaluate parameter derivatives ..."
   ]
  },
  {
   "cell_type": "code",
   "execution_count": null,
   "metadata": {},
   "outputs": [],
   "source": [
    "try:\n",
    "    fmt = \"    {0:<10.10s} {1:13.6e}\"\n",
    "    for i in range(0, np):\n",
    "        print ('Derivative with respect to parameter: ', names[i], ' of')\n",
    "        print (fmt.format('G', Garnet_Solution.cy_Garnet_Garnet_Solution_dparam_g(t, p, n, i)))\n",
    "        print (fmt.format('dGdT', Garnet_Solution.cy_Garnet_Garnet_Solution_dparam_dgdt(t, p, n, i)))\n",
    "        print (fmt.format('dGdP', Garnet_Solution.cy_Garnet_Garnet_Solution_dparam_dgdp(t, p, n, i)))\n",
    "        print (fmt.format('d2GdT2', Garnet_Solution.cy_Garnet_Garnet_Solution_dparam_d2gdt2(t, p, n, i)))\n",
    "        print (fmt.format('d2GdTdP', Garnet_Solution.cy_Garnet_Garnet_Solution_dparam_d2gdtdp(t, p, n, i)))\n",
    "        print (fmt.format('d2GdP2', Garnet_Solution.cy_Garnet_Garnet_Solution_dparam_d2gdp2(t, p, n, i)))\n",
    "        print (fmt.format('d3GdT3', Garnet_Solution.cy_Garnet_Garnet_Solution_dparam_d3gdt3(t, p, n, i)))\n",
    "        print (fmt.format('d3GdT2dP', Garnet_Solution.cy_Garnet_Garnet_Solution_dparam_d3gdt2dp(t, p, n, i)))\n",
    "        print (fmt.format('d3GdTdP2', Garnet_Solution.cy_Garnet_Garnet_Solution_dparam_d3gdtdp2(t, p, n, i)))\n",
    "        print (fmt.format('d3GdP3', Garnet_Solution.cy_Garnet_Garnet_Solution_dparam_d3gdp3(t, p, n, i)))\n",
    "except (AttributeError, TypeError):\n",
    "    pass"
   ]
  },
  {
   "cell_type": "markdown",
   "metadata": {},
   "source": [
    "### Parameter derivatives of the chemical potential"
   ]
  },
  {
   "cell_type": "code",
   "execution_count": null,
   "metadata": {},
   "outputs": [],
   "source": [
    "def printResult(name, result, units):\n",
    "    print (\"dmu[*]/d {0:<10.10s}\".format(name), end=' ')\n",
    "    [print (\"{0:13.6e}\".format(x), end=' ') for x in result]\n",
    "    print (\"{0:<12.12s}\".format(units))\n",
    "def printLabels(n):\n",
    "    print (\"         {0:<18.18s}\".format(''), end=' ')\n",
    "    [print (\"[{0:3d}]{1:<8.8s}\".format(idx, ''), end=' ') for idx in range(len(n))]\n",
    "    print ()\n",
    "printLabels(n)\n",
    "try:\n",
    "    for i in range(0, nparam):\n",
    "        result = Garnet_Solution.cy_Garnet_Garnet_Solution_dparam_dgdn(t,p,n, i)\n",
    "        printResult(names[i], result, 'J/m^2/p-unit')\n",
    "except AttributeError:\n",
    "    pass    "
   ]
  },
  {
   "cell_type": "code",
   "execution_count": null,
   "metadata": {},
   "outputs": [],
   "source": []
  },
  {
   "cell_type": "code",
   "execution_count": null,
   "metadata": {},
   "outputs": [],
   "source": []
  }
 ],
 "metadata": {
  "kernelspec": {
   "display_name": "Python 3",
   "language": "python",
   "name": "python3"
  },
  "language_info": {
   "codemirror_mode": {
    "name": "ipython",
    "version": 3
   },
   "file_extension": ".py",
   "mimetype": "text/x-python",
   "name": "python",
   "nbconvert_exporter": "python",
   "pygments_lexer": "ipython3",
   "version": "3.6.8"
  }
 },
 "nbformat": 4,
 "nbformat_minor": 2
}
