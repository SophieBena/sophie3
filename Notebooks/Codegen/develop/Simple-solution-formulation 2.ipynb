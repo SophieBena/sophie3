{
 "cells": [
  {
   "cell_type": "markdown",
   "metadata": {},
   "source": [
    "The expression from Andersen and Lindsley (1981) that correctly accounts for the ternary term in the asymmetric expansion is  \n",
    "\n",
    "$\\begin{array}{l}\n",
    "\\hat G = {W_{12}}{X_1}{X_2}\\left( {{X_2} + \\frac{1}{2}{X_3}} \\right) + {W_{21}}{X_1}{X_2}\\left( {{X_1} + \\frac{1}{2}{X_3}} \\right) + {W_{13}}{X_1}{X_3}\\left( {{X_3} + \\frac{1}{2}{X_2}} \\right) + {W_{31}}{X_1}{X_3}\\left( {{X_1} + \\frac{1}{2}{X_2}} \\right) + {W_{23}}{X_2}{X_3}\\left( {{X_3} + \\frac{1}{2}{X_1}} \\right) + {W_{32}}{X_2}{X_3}\\left( {{X_2} + \\frac{1}{2}{X_1}} \\right) + {W_{123}}{X_1}{X_2}{X_3}\n",
    "\\end{array}$"
   ]
  },
  {
   "cell_type": "markdown",
   "metadata": {},
   "source": [
    "The 1-2 binary is:  \n",
    "\n",
    "${X_1}{X_2}\\left[ {{W_{12}}\\left( {{X_2} + \\frac{1}{2}{X_3}} \\right) + {W_{21}}\\left( {{X_1} + \\frac{1}{2}{X_3}} \\right)} \\right]$  \n",
    "\n",
    "which I write using an alternate notation in the coder notebook as:  \n",
    "\n",
    "${X_1}{X_2}\\left[ {{W_{12}}\\left( {{X_2} + \\frac{1}{2}{X_3}} \\right) + {W_{21}}\\left( {{X_1} + \\frac{1}{2}{X_3}} \\right)} \\right] = {X_1}{X_2}\\left[ {{{\\bar W}_{12}} + \\Delta {W_{12}}\\left( {{X_1} - {X_2}} \\right)} \\right]$  \n",
    "\n",
    "where ${{\\bar W}_{12}}$ is an average of the two asymmetric binary Ws and $\\Delta {W_{12}}$ is a difference.  \n",
    "\n",
    "Note, that it is much clearer notation to write:  \n",
    "\n",
    "${X_1}{X_2}\\left[ {{W_{12}}\\left( {{X_2} + \\frac{1}{2}{X_3}} \\right) + {W_{21}}\\left( {{X_1} + \\frac{1}{2}{X_3}} \\right)} \\right] = {X_1}{X_2}\\left[ {{W_{122}}\\left( {{X_2} + \\frac{1}{2}{X_3}} \\right) + {W_{112}}\\left( {{X_1} + \\frac{1}{2}{X_3}} \\right)} \\right]$   \n",
    "but, of course, that's a matter of taste."
   ]
  },
  {
   "cell_type": "markdown",
   "metadata": {},
   "source": [
    "Given:  \n",
    "\n",
    "${X_3} + {X_1} + {X_3} = 1$"
   ]
  },
  {
   "cell_type": "markdown",
   "metadata": {},
   "source": [
    "We have the following expansions:  \n",
    "\n",
    "${{\\bar W}_{12}} \\times 1 = {{\\bar W}_{12}}\\left( {{X_1} + {X_2} + {X_3}} \\right) = {{\\bar W}_{12}}\\left( {{X_2} + \\frac{1}{2}{X_3}} \\right) + {{\\bar W}_{12}}\\left( {{X_1} + \\frac{1}{2}{X_3}} \\right)$"
   ]
  },
  {
   "cell_type": "markdown",
   "metadata": {},
   "source": [
    "$\\Delta {W_{12}}\\left( {{X_1} - {X_2}} \\right) = \\Delta {W_{12}}\\left( {{X_1} + \\frac{1}{2}{X_3} - {X_2} - \\frac{1}{2}{X_3}} \\right) = \\Delta {W_{12}}\\left( {{X_1} + \\frac{1}{2}{X_3}} \\right) - \\Delta {W_{12}}\\left( {{X_2} + \\frac{1}{2}{X_3}} \\right)$"
   ]
  },
  {
   "cell_type": "markdown",
   "metadata": {},
   "source": [
    "From which  \n",
    "\n",
    "${W_{12}} = {W_{122}} = {{\\bar W}_{12}} - \\Delta {W_{12}}$"
   ]
  },
  {
   "cell_type": "markdown",
   "metadata": {},
   "source": [
    "${W_{21}} = {W_{112}} = {{\\bar W}_{12}} + \\Delta {W_{12}}$"
   ]
  },
  {
   "cell_type": "markdown",
   "metadata": {},
   "source": [
    "So, there is no difference in the notation used by Andersen and Lindsley (1981), as adopted by Berman (1990), and the expansion for the excess Gibbs free energy used in the asymmetric solution coder notebook."
   ]
  },
  {
   "cell_type": "code",
   "execution_count": null,
   "metadata": {},
   "outputs": [],
   "source": []
  }
 ],
 "metadata": {
  "kernelspec": {
   "display_name": "Python 3",
   "language": "python",
   "name": "python3"
  },
  "language_info": {
   "codemirror_mode": {
    "name": "ipython",
    "version": 3
   },
   "file_extension": ".py",
   "mimetype": "text/x-python",
   "name": "python",
   "nbconvert_exporter": "python",
   "pygments_lexer": "ipython3",
   "version": "3.6.2"
  }
 },
 "nbformat": 4,
 "nbformat_minor": 2
}
