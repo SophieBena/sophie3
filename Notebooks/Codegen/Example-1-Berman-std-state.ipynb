{
 "cells": [
  {
   "cell_type": "markdown",
   "metadata": {},
   "source": [
    "# Berman Standard State Code Generator \n",
    "Required system packages and initialization"
   ]
  },
  {
   "cell_type": "code",
   "execution_count": null,
   "metadata": {},
   "outputs": [],
   "source": [
    "import pandas as pd\n",
    "import numpy as np\n",
    "import sympy as sym\n",
    "sym.init_printing()"
   ]
  },
  {
   "cell_type": "markdown",
   "metadata": {},
   "source": [
    "Required ENKI packages"
   ]
  },
  {
   "cell_type": "code",
   "execution_count": null,
   "metadata": {},
   "outputs": [],
   "source": [
    "from thermoengine import coder"
   ]
  },
  {
   "cell_type": "markdown",
   "metadata": {},
   "source": [
    "# Types of terms in a standard state properties description\n",
    "There are three classes of terms:\n",
    "1. Terms that apply over the whole of $T$-, $P$-space, $T_r \\le T$, $P_r \\le P$\n",
    "2. Terms that apply over a specified range of $T$-, $P$-space, $(T_{r_\\lambda},P_{r_\\lambda}) \\le (T,P) \\le (T_\\lambda,P_\\lambda)$\n",
    "3. Terms that apply to a specific $T_t$ and $P_t$ and higher $T$, $P$, $T_t \\le T$, $P_t \\le P$\n",
    "\n",
    "Second-order phase transitions ($lambda$-transitions) are an example of the second type, as are order disorder transformations. First-order phase transitions are an example of the third type.  "
   ]
  },
  {
   "cell_type": "markdown",
   "metadata": {},
   "source": [
    "## Create a model class for the Gibbs free energy"
   ]
  },
  {
   "cell_type": "code",
   "execution_count": null,
   "metadata": {},
   "outputs": [],
   "source": [
    "model = coder.StdStateModel()"
   ]
  },
  {
   "cell_type": "markdown",
   "metadata": {},
   "source": [
    "Retrieve sympy symbols for model variables and reference conditions"
   ]
  },
  {
   "cell_type": "code",
   "execution_count": null,
   "metadata": {},
   "outputs": [],
   "source": [
    "T = model.get_symbol_for_t()\n",
    "P = model.get_symbol_for_p()\n",
    "Tr = model.get_symbol_for_tr()\n",
    "Pr = model.get_symbol_for_pr()"
   ]
  },
  {
   "cell_type": "markdown",
   "metadata": {},
   "source": [
    "### Define model expressions applicable over all of T,P space\n",
    "An expression for the Gibbs free energy, $G(T,P)$ or the Helmholtz energy $A(T,V)$ is constructed.  The expression may have multiple parts.  Often the heat capacity function is postulated, then integrated to yield expressions for the entahlpy, entropy, and in combination the energy potential. Then, an equation of state (EOS) is adopted and that term is integrated in pressure or volume and added to the heat capacity integrals. This proceedure is follwed here.\n",
    "#### (1) $C_P$ integrals\n",
    "The isobaric heat capacity terms parameterized as: $C_P = k_0 + k_1 / T^{1/2} + k_2 / T^2 + k_3 / T^3 $,\n",
    "and in addition the reference condition third law entropy, $ S_{Tr,Pr} $, and enthalpy of formation from the\n",
    "elements, $ \\Delta H_{Tr,Pr} $, constitute additional parameters:"
   ]
  },
  {
   "cell_type": "code",
   "execution_count": null,
   "metadata": {},
   "outputs": [],
   "source": [
    "k0,k1,k2,k3 = sym.symbols('k0 k1 k2 k3')\n",
    "CpPr = k0+k1/sym.sqrt(T)+k2/T**2+k3/T**3\n",
    "STrPr,HTrPr = sym.symbols('S_TrPr H_TrPr')"
   ]
  },
  {
   "cell_type": "code",
   "execution_count": null,
   "metadata": {},
   "outputs": [],
   "source": [
    "CpPr"
   ]
  },
  {
   "cell_type": "markdown",
   "metadata": {},
   "source": [
    "Specify paramters ..."
   ]
  },
  {
   "cell_type": "code",
   "execution_count": null,
   "metadata": {},
   "outputs": [],
   "source": [
    "params = [('H_TrPr','J',HTrPr), ('S_TrPr','J/K',STrPr), ('k0','J/K-m',k0), ('k1','J-K^(1/2)-m',k1),\n",
    "          ('k2','J-K/m',k2),  ('k3','J-K^2',k3)]"
   ]
  },
  {
   "cell_type": "markdown",
   "metadata": {},
   "source": [
    "Define the heat capacity contribution to the Gibbs free energy ..."
   ]
  },
  {
   "cell_type": "code",
   "execution_count": null,
   "metadata": {},
   "outputs": [],
   "source": [
    "GPr = HTrPr + sym.integrate(CpPr,(T,Tr,T)) - T*(STrPr + sym.integrate(CpPr/T,(T,Tr,T)))"
   ]
  },
  {
   "cell_type": "code",
   "execution_count": null,
   "metadata": {},
   "outputs": [],
   "source": [
    "GPr"
   ]
  },
  {
   "cell_type": "markdown",
   "metadata": {},
   "source": [
    "... and add this expression to the model"
   ]
  },
  {
   "cell_type": "code",
   "execution_count": null,
   "metadata": {},
   "outputs": [],
   "source": [
    "model.add_expression_to_model(GPr, params)"
   ]
  },
  {
   "cell_type": "markdown",
   "metadata": {},
   "source": [
    "#### (2) $V$ (EOS) integrals\n",
    "Next, define a volume-explicit equation of state applicable over the whole of temperature and pressure space"
   ]
  },
  {
   "cell_type": "code",
   "execution_count": null,
   "metadata": {},
   "outputs": [],
   "source": [
    "VTrPr,v1,v2,v3,v4 = sym.symbols('V_TrPr v1 v2 v3 v4')\n",
    "params = [('V_TrPr', 'J/bar-m', VTrPr), ('v1','1/bar',v1), ('v2','1/bar^2',v2), ('v3','1/K',v3),  ('v4','1/K^2',v4)]"
   ]
  },
  {
   "cell_type": "code",
   "execution_count": null,
   "metadata": {},
   "outputs": [],
   "source": [
    "GPrToP = sym.integrate(VTrPr*(1+v1*(P-Pr)+v2*(P-Pr)**2+v3*(T-Tr)+v4*(T-Tr)**2),(P,Pr,P))\n",
    "model.add_expression_to_model(GPrToP, params)"
   ]
  },
  {
   "cell_type": "markdown",
   "metadata": {},
   "source": [
    "### Define additional lambda heat capacity terms applicable over a restricted range of T,P space\n",
    "These contributions to the potential function apply over a limited range of $T,P$ or $T,V$ space.  However, the affects of these functions propagate beyond the upper limits of the range.  Say, $f(T,P)$ is the contribution to the Gibbs free energy that describes a $\\lambda$-like transition over the range $({T_{\\lambda ,ref}},{P_{\\lambda ,ref}})$ to $({T_\\lambda },{P_\\lambda })$.  Then, *above the upper limit* of temperature there is a fixed entropy contribution:  \n",
    "  \n",
    "$- {\\left. {\\frac{{\\partial f\\left( {T,P} \\right)}}{{\\partial T}}} \\right|_{{T_\\lambda },{P_\\lambda }}} = {f_S}({T_\\lambda },{P_\\lambda })$  \n",
    "  \n",
    "and *above the upper limit of pressure* there is a fixed volume contribution:  \n",
    "  \n",
    "${\\left. {\\frac{{\\partial f\\left( {T,P} \\right)}}{{\\partial P}}} \\right|_{{T_\\lambda },{P_\\lambda }}} = {f_V}({T_\\lambda },{P_\\lambda })$  \n",
    "\n",
    "the consequence of which is that for $T > T_{\\lambda}$ and $P > P_{\\lambda}$, there is a contribution to the Gibbs free energy of the form:  \n",
    "\n",
    "$- \\left( {T - {T_\\lambda }} \\right){f_S}({T_\\lambda },{P_\\lambda }) + \\left( {P - {P_\\lambda }} \\right){f_V}({T_\\lambda },{P_\\lambda })$  \n",
    "\n",
    "This contribution is linear in $T$ and $P$.  \n",
    "\n",
    "The additional energetic contributions applicable above the upper range limit will be added automatically to the model function, and need not be explicitly accounted for in building the model expressions.  \n",
    "\n",
    "#### (1) $\\lambda$-transition-like heat capacity integrals \n",
    "Parameters of the Berman (1988) lambda transition model:\n",
    "- $l_1$ and $l_2$, coefficients in Berman (1988)'s $lambda$-heat capacity model\n",
    "- $k_{\\lambda}$, $\\frac{{d{T_\\lambda }}}{{dP}}$ in Berman (1988)'s $lambda$-transition model\n",
    "- $T_{\\lambda,{P_r}}$, Temperature of the $\\lambda$-transition at reference pressure\n",
    "- $T_{\\lambda,{ref}}$, Temperature of the lower bound of the heat capacity integral for the $\\lambda$-transition at reference pressure"
   ]
  },
  {
   "cell_type": "code",
   "execution_count": null,
   "metadata": {},
   "outputs": [],
   "source": [
    "l1,l2 = sym.symbols('l1 l2')\n",
    "kl = sym.symbols('k_lambda')\n",
    "TlPr, Tlref = sym.symbols('T_lambda_Pr T_lambda_ref')\n",
    "params = [('l1','(J/m)^(1/2)-K', l1), ('l2', '(J/m)^(1/2)/K^2', l2), ('k_lambda', 'K/bar', kl), \n",
    "          ('T_lambda_Pr', 'K', TlPr), ('T_lambda_ref', 'K', Tlref)]"
   ]
  },
  {
   "cell_type": "markdown",
   "metadata": {},
   "source": [
    "Calculate the transition temperature, $T_{\\lambda}$, at the pressure, $P$"
   ]
  },
  {
   "cell_type": "code",
   "execution_count": null,
   "metadata": {},
   "outputs": [],
   "source": [
    "Tl = TlPr + kl*(P-Pr)"
   ]
  },
  {
   "cell_type": "markdown",
   "metadata": {},
   "source": [
    "Temperature difference between $T_{\\lambda}$ at $P$ and $P_r$"
   ]
  },
  {
   "cell_type": "code",
   "execution_count": null,
   "metadata": {},
   "outputs": [],
   "source": [
    "td = TlPr - Tl"
   ]
  },
  {
   "cell_type": "markdown",
   "metadata": {},
   "source": [
    "Reference temperature for lower limit of heat capacity integral."
   ]
  },
  {
   "cell_type": "code",
   "execution_count": null,
   "metadata": {},
   "outputs": [],
   "source": [
    "tr = Tlref - td"
   ]
  },
  {
   "cell_type": "markdown",
   "metadata": {},
   "source": [
    "Heat capacity due to the $\\lambda$-transition at $T$ and $P$. Valid: $T_r \\le T \\le T_{\\lambda}$.  \n",
    "\n",
    "**Note:** The syntax of the arguments to the SymPy Piecewise expression is of the form:\n",
    "```\n",
    "(e1,c1), (e2,d2), ..., (eDefault, True)\n",
    "```\n",
    "where the sequence is evaluated left to right. *eN* is the value of the resulting expression if the condition *cN* is *True*.  *cN* is always a logical comparison.  The first *cN* that is *True* provides the value of the expression.  If no *cN* evaluate to *True*, then the resulting expression becomes *eDefault* given by the last tuple in the sequence.  See the example below."
   ]
  },
  {
   "cell_type": "code",
   "execution_count": null,
   "metadata": {},
   "outputs": [],
   "source": [
    "Cpl = (T+td)*(l1+l2*(T+td))**2"
   ]
  },
  {
   "cell_type": "markdown",
   "metadata": {},
   "source": [
    "Compute the Gibbs free energy of the lambda transition"
   ]
  },
  {
   "cell_type": "code",
   "execution_count": null,
   "metadata": {},
   "outputs": [],
   "source": [
    "Gl = sym.integrate(Cpl,(T,tr,T)) - T*sym.integrate(Cpl/T,(T,tr,T))"
   ]
  },
  {
   "cell_type": "markdown",
   "metadata": {},
   "source": [
    "... and add this expression to the model"
   ]
  },
  {
   "cell_type": "code",
   "execution_count": null,
   "metadata": {},
   "outputs": [],
   "source": [
    "model.add_expression_to_model(Gl, params, exp_type='restricted', lower_limits=(tr,Pr), upper_limits=(Tl,None))"
   ]
  },
  {
   "cell_type": "markdown",
   "metadata": {},
   "source": [
    "#### (2) First order phase transition terms\n",
    "Berman terms valid at T $\\ge$ $T_t$. Parameters (in this case $T_t$ is equivalent to $T_{\\lambda}$:\n",
    "- ${{\\Delta}_t}H$, First order enthalpy contribution at $T_{\\lambda}$"
   ]
  },
  {
   "cell_type": "code",
   "execution_count": null,
   "metadata": {},
   "outputs": [],
   "source": [
    "deltaHt = sym.symbols('H_t')\n",
    "params = [('H_t','J/m', deltaHt)]"
   ]
  },
  {
   "cell_type": "markdown",
   "metadata": {},
   "source": [
    "${{\\Delta}_t}S = {{\\Delta}_t}H/T_{\\lambda}$, First order enropy contribution at $T_{\\lambda}$: ${{\\Delta}_t}H - T {{\\Delta}_t}S = -(T-T_{\\lambda}) {{\\Delta}_t}H/T_{\\lambda}$ "
   ]
  },
  {
   "cell_type": "code",
   "execution_count": null,
   "metadata": {},
   "outputs": [],
   "source": [
    "GaboveTl = -(T-Tl)*deltaHt/Tl"
   ]
  },
  {
   "cell_type": "markdown",
   "metadata": {},
   "source": [
    "... and add this expression to the model"
   ]
  },
  {
   "cell_type": "code",
   "execution_count": null,
   "metadata": {},
   "outputs": [],
   "source": [
    "model.add_expression_to_model(GaboveTl , params, exp_type='restricted', lower_limits=(Tl,None), upper_limits=(Tl,None))"
   ]
  },
  {
   "cell_type": "markdown",
   "metadata": {},
   "source": [
    "#### (3) Order-disorder contributions\n",
    "Parameters of the Berman (1988) order-disorder model:\n",
    "- $d_0$, $d_1$, $d_2$, $d_3$, $d_4$, $d_5$, order-disorder coefficients from the Berman (1988) model\n",
    "- $T_{D_{ref}}$, $T_D$, minimum, maximum temperature of ordering interval, $T_{D_{ref}} \\le T \\le T_D$"
   ]
  },
  {
   "cell_type": "code",
   "execution_count": null,
   "metadata": {},
   "outputs": [],
   "source": [
    "d0,d1,d2,d3,d4,d5 = sym.symbols('d0 d1 d2 d3 d4 d5')\n",
    "TD,TDref = sym.symbols('T_D T_D_ref')\n",
    "params = [('d0','J/K-m', d0), ('d1','J/K^(1/2)-m',d1), ('d2','J-K/m',d2), ('d3','J/K^2-m',d3), \n",
    "          ('d4','J/K^3-m',d4), ('d5','bar',d5), ('T_D','K',TD), ('T_D_ref','K',TDref)]"
   ]
  },
  {
   "cell_type": "code",
   "execution_count": null,
   "metadata": {},
   "outputs": [],
   "source": [
    "CpDs = d0 + d1/sym.sqrt(T) + d2/T**2 + d3*T + d4*T**2\n",
    "HDs = sym.integrate(CpDs,(T,TDref,T))\n",
    "SDs = sym.integrate(CpDs/T,(T,TDref,T))\n",
    "VDs = HDs/d5\n",
    "GDs = HDs - T*SDs + VDs*(P-Pr)"
   ]
  },
  {
   "cell_type": "code",
   "execution_count": null,
   "metadata": {},
   "outputs": [],
   "source": [
    "model.add_expression_to_model(GDs , params, exp_type='restricted', lower_limits=(TDref,None), upper_limits=(TD,None))"
   ]
  },
  {
   "cell_type": "markdown",
   "metadata": {},
   "source": [
    "## Code Print the Model, compile the code and link a Python module\n",
    "Name the model class"
   ]
  },
  {
   "cell_type": "code",
   "execution_count": null,
   "metadata": {},
   "outputs": [],
   "source": [
    "model.set_module_name('berman')\n",
    "model.get_berman_std_state_database()"
   ]
  },
  {
   "cell_type": "markdown",
   "metadata": {},
   "source": [
    "Make a working sub-directory and move down into the directory.  This is done so that generated files will not clash between alternate model configurations."
   ]
  },
  {
   "cell_type": "code",
   "execution_count": null,
   "metadata": {},
   "outputs": [],
   "source": [
    "model_working_dir = \"working\"\n",
    "!mkdir -p {model_working_dir}\n",
    "%cd {model_working_dir}"
   ]
  },
  {
   "cell_type": "markdown",
   "metadata": {},
   "source": [
    "- Choose an existing phase from the Berman database\n",
    "- Generate an include file and code file for this phase  \n",
    "  \n",
    "Note that the call to\n",
    "```\n",
    "model.create_code_module(phase=phase_name, formula=formula, params=param_dict)\n",
    "```\n",
    "generates fast code with unmodifiable model parameters and \"calibration-\" related functions.  The call to:\n",
    "```\n",
    "model.create_code_module(phase=phase_name, formula=formula, params=param_dict, module_type='calib')\n",
    "```\n",
    "generates code suitable for model parameter calibration.  \n",
    "model_type is \"fast\" or \"calib\""
   ]
  },
  {
   "cell_type": "code",
   "execution_count": null,
   "metadata": {},
   "outputs": [],
   "source": [
    "model_type = \"calib\""
   ]
  },
  {
   "cell_type": "markdown",
   "metadata": {},
   "source": [
    "#### Index 12 in Berman database is High_Albite"
   ]
  },
  {
   "cell_type": "code",
   "execution_count": null,
   "metadata": {},
   "outputs": [],
   "source": [
    "param_dict = model.get_berman_std_state_database(2)\n",
    "phase_name = param_dict.pop('Phase', None).title()\n",
    "formula = param_dict.pop('Formula', None)\n",
    "result = model.create_code_module(phase=phase_name, formula=formula, params=param_dict, module_type=model_type)"
   ]
  },
  {
   "cell_type": "markdown",
   "metadata": {},
   "source": [
    "Save the cython wrappers for use in example notebook #7 (Simple Solution)"
   ]
  },
  {
   "cell_type": "code",
   "execution_count": null,
   "metadata": {},
   "outputs": [],
   "source": [
    "%cp berman.pyx endmembers.pyx"
   ]
  },
  {
   "cell_type": "markdown",
   "metadata": {},
   "source": [
    "#### Index 56 in Berman database is Anorthite"
   ]
  },
  {
   "cell_type": "code",
   "execution_count": null,
   "metadata": {},
   "outputs": [],
   "source": [
    "param_dict = model.get_berman_std_state_database(6)\n",
    "phase_name = param_dict.pop('Phase', None).title()\n",
    "formula = param_dict.pop('Formula', None)\n",
    "result = model.create_code_module(phase=phase_name, formula=formula, params=param_dict, module_type=model_type)"
   ]
  },
  {
   "cell_type": "markdown",
   "metadata": {},
   "source": [
    "... again, save for notebook #7 (Simple Solution)"
   ]
  },
  {
   "cell_type": "code",
   "execution_count": null,
   "metadata": {},
   "outputs": [],
   "source": [
    "%cat berman.pyx >> endmembers.pyx"
   ]
  },
  {
   "cell_type": "markdown",
   "metadata": {},
   "source": [
    "#### Diopside from Sack and Ghiorso (1994) quadrilateral pyroxene model"
   ]
  },
  {
   "cell_type": "code",
   "execution_count": null,
   "metadata": {},
   "outputs": [],
   "source": [
    "param_dict = {'Phase': 'DIOPSIDE',\n",
    " 'Formula': 'MG(1)CA(1)SI(2)O(6)',\n",
    " 'H_TrPr': -3200583.0,\n",
    " 'S_TrPr': 142.5,\n",
    " 'k0': 305.41,\n",
    " 'k1': -16.049E2,\n",
    " 'k2': -71.660E5,\n",
    " 'k3': 92.184E7,\n",
    " 'V_TrPr': 6.620,\n",
    " 'v1': -0.872E-6,\n",
    " 'v2': 1.707E-12,\n",
    " 'v3': 27.795E-6,\n",
    " 'v4': 83.082E-10,\n",
    " 'l1': 0.0,\n",
    " 'l2': 0.0,\n",
    " 'k_lambda': 0.0,\n",
    " 'T_lambda_Pr': 0.0,\n",
    " 'T_lambda_ref': 0.0,\n",
    " 'H_t': 0.0,\n",
    " 'd0': 0.0,\n",
    " 'd1': 0.0,\n",
    " 'd2': 0.0,\n",
    " 'd3': 0.0,\n",
    " 'd4': 0.0,\n",
    " 'd5': 0.0,\n",
    " 'T_D': 0.0,\n",
    " 'T_D_ref': 0.0,\n",
    " 'T_r': 298.15,\n",
    " 'P_r': 1.0}\n",
    "phase_name = param_dict.pop('Phase', None).title()\n",
    "formula = param_dict.pop('Formula', None)\n",
    "result = model.create_code_module(phase=phase_name, formula=formula, params=param_dict, module_type=model_type)"
   ]
  },
  {
   "cell_type": "markdown",
   "metadata": {},
   "source": [
    "#### Hedenbergite from Sack and Ghiorso (1994) quadrilateral pyroxene model"
   ]
  },
  {
   "cell_type": "code",
   "execution_count": null,
   "metadata": {},
   "outputs": [],
   "source": [
    "param_dict = {'Phase': 'HEDENBERGITE',\n",
    " 'Formula': 'CA(1)FE(1)SI(2)O(6)',\n",
    " 'H_TrPr': -2842221.0,\n",
    " 'S_TrPr': 174.2,\n",
    " 'k0': 307.89,\n",
    " 'k1': -15.973e2,\n",
    " 'k2': -69.925e5,\n",
    " 'k3': 93.522e7,\n",
    " 'V_TrPr': 6.7894,\n",
    " 'v1': -0.9925e-6,\n",
    " 'v2': 1.4835e-12,\n",
    " 'v3': 31.371e-6,\n",
    " 'v4': 83.672e-10,\n",
    " 'l1': 0.0,\n",
    " 'l2': 0.0,\n",
    " 'k_lambda': 0.0,\n",
    " 'T_lambda_Pr': 0.0,\n",
    " 'T_lambda_ref': 0.0,\n",
    " 'H_t': 0.0,\n",
    " 'd0': 0.0,\n",
    " 'd1': 0.0,\n",
    " 'd2': 0.0,\n",
    " 'd3': 0.0,\n",
    " 'd4': 0.0,\n",
    " 'd5': 0.0,\n",
    " 'T_D': 0.0,\n",
    " 'T_D_ref': 0.0,\n",
    " 'T_r': 298.15,\n",
    " 'P_r': 1.0}\n",
    "phase_name = param_dict.pop('Phase', None).title()\n",
    "formula = param_dict.pop('Formula', None)\n",
    "result = model.create_code_module(phase=phase_name, formula=formula, params=param_dict, module_type=model_type)"
   ]
  },
  {
   "cell_type": "markdown",
   "metadata": {},
   "source": [
    "#### Enstatite from Sack and Ghiorso (1994) quadrilateral pyroxene model"
   ]
  },
  {
   "cell_type": "code",
   "execution_count": null,
   "metadata": {},
   "outputs": [],
   "source": [
    "param_dict = {'Phase': 'ENSTATITE',\n",
    " 'Formula': 'MG(2)SI(2)O(6)',\n",
    " 'H_TrPr': -3086083.0,\n",
    " 'S_TrPr': 135.164,\n",
    " 'k0': 333.16,\n",
    " 'k1': -24.012e2,\n",
    " 'k2': -45.412e5,\n",
    " 'k3': 55.830e7,\n",
    " 'V_TrPr': 6.3279,\n",
    " 'v1': -0.749e-6,\n",
    " 'v2': 0.447e-12,\n",
    " 'v3': 24.656e-6,\n",
    " 'v4': 74.670e-10,\n",
    " 'l1': 0.0,\n",
    " 'l2': 0.0,\n",
    " 'k_lambda': 0.0,\n",
    " 'T_lambda_Pr': 0.0,\n",
    " 'T_lambda_ref': 0.0,\n",
    " 'H_t': 0.0,\n",
    " 'd0': 0.0,\n",
    " 'd1': 0.0,\n",
    " 'd2': 0.0,\n",
    " 'd3': 0.0,\n",
    " 'd4': 0.0,\n",
    " 'd5': 0.0,\n",
    " 'T_D': 0.0,\n",
    " 'T_D_ref': 0.0,\n",
    " 'T_r': 298.15,\n",
    " 'P_r': 1.0}\n",
    "phase_name = param_dict.pop('Phase', None).title()\n",
    "formula = param_dict.pop('Formula', None)\n",
    "result = model.create_code_module(phase=phase_name, formula=formula, params=param_dict, module_type=model_type)"
   ]
  },
  {
   "cell_type": "markdown",
   "metadata": {},
   "source": [
    "#### Index 42 in Berman database is Potassium_Feldspar"
   ]
  },
  {
   "cell_type": "code",
   "execution_count": null,
   "metadata": {},
   "outputs": [],
   "source": [
    "param_dict = model.get_berman_std_state_database(47)\n",
    "phase_name = param_dict.pop('Phase', None).title()\n",
    "formula = param_dict.pop('Formula', None)\n",
    "result = model.create_code_module(phase=phase_name, formula=formula, params=param_dict, module_type=model_type)"
   ]
  },
  {
   "cell_type": "markdown",
   "metadata": {},
   "source": [
    "... final endmember for example notebook #7 (Simple Solution)"
   ]
  },
  {
   "cell_type": "code",
   "execution_count": null,
   "metadata": {},
   "outputs": [],
   "source": [
    "%cat berman.pyx >> endmembers.pyx"
   ]
  },
  {
   "cell_type": "markdown",
   "metadata": {},
   "source": [
    "## Import the new module and test the model"
   ]
  },
  {
   "cell_type": "code",
   "execution_count": null,
   "metadata": {},
   "outputs": [],
   "source": [
    "import berman\n",
    "%cd .."
   ]
  },
  {
   "cell_type": "markdown",
   "metadata": {},
   "source": [
    "Evaluate functions at temperature (K) and pressure (bars)"
   ]
  },
  {
   "cell_type": "code",
   "execution_count": null,
   "metadata": {},
   "outputs": [],
   "source": [
    "t = 1000.0\n",
    "p = 10000.0"
   ]
  },
  {
   "cell_type": "markdown",
   "metadata": {},
   "source": [
    "### Available in both \"Fast\" and \"Calib\" code versions \n",
    "Execute the \"fast\" or \"calibration\" code metadata retrieval functions:"
   ]
  },
  {
   "cell_type": "code",
   "execution_count": null,
   "metadata": {},
   "outputs": [],
   "source": [
    "try:\n",
    "    print(berman.cy_Potassium_Feldspar_berman_identifier())\n",
    "    print(berman.cy_Potassium_Feldspar_berman_name())\n",
    "    print(berman.cy_Potassium_Feldspar_berman_formula())\n",
    "    print(berman.cy_Potassium_Feldspar_berman_mw())\n",
    "    print(berman.cy_Potassium_Feldspar_berman_elements())\n",
    "except AttributeError:\n",
    "    pass\n",
    "try:\n",
    "    print(berman.cy_Potassium_Feldspar_berman_calib_identifier())\n",
    "    print(berman.cy_Potassium_Feldspar_berman_calib_name())\n",
    "    print(berman.cy_Potassium_Feldspar_berman_calib_formula())\n",
    "    print(berman.cy_Potassium_Feldspar_berman_calib_mw())\n",
    "    print(berman.cy_Potassium_Feldspar_berman_calib_elements())\n",
    "except AttributeError:\n",
    "    pass"
   ]
  },
  {
   "cell_type": "markdown",
   "metadata": {},
   "source": [
    "Execute the standard thermodynamic property retrieval functions:"
   ]
  },
  {
   "cell_type": "code",
   "execution_count": null,
   "metadata": {},
   "outputs": [],
   "source": [
    "fmt = \"{0:<10.10s} {1:13.6e} {2:<10.10s}\"\n",
    "try:\n",
    "    print(fmt.format('G', berman.cy_Potassium_Feldspar_berman_g(t,p), 'J/m'))\n",
    "    print(fmt.format('dGdT', berman.cy_Potassium_Feldspar_berman_dgdt(t,p), 'J/K-m'))\n",
    "    print(fmt.format('dGdP', berman.cy_Potassium_Feldspar_berman_dgdp(t,p), 'J/bar-m'))\n",
    "    print(fmt.format('d2GdP2', berman.cy_Potassium_Feldspar_berman_d2gdt2(t,p), 'J/K^2-m'))\n",
    "    print(fmt.format('d2GdTdP', berman.cy_Potassium_Feldspar_berman_d2gdtdp(t,p), 'J/K-bar-m'))\n",
    "    print(fmt.format('d2GdP2', berman.cy_Potassium_Feldspar_berman_d2gdp2(t,p), 'J/bar^2-m'))\n",
    "    print(fmt.format('d3GdT3', berman.cy_Potassium_Feldspar_berman_d3gdt3(t,p), 'J/K^3-m'))\n",
    "    print(fmt.format('d3GdT2dP', berman.cy_Potassium_Feldspar_berman_d3gdt2dp(t,p), 'J/K^2-bar-m'))\n",
    "    print(fmt.format('d3GdTdP2', berman.cy_Potassium_Feldspar_berman_d3gdtdp2(t,p), 'J/K-bar^2-m'))\n",
    "    print(fmt.format('d3GdP3', berman.cy_Potassium_Feldspar_berman_d3gdp3(t,p), 'J/bar^3-m'))\n",
    "    print(fmt.format('S', berman.cy_Potassium_Feldspar_berman_s(t,p), 'J/K-m'))\n",
    "    print(fmt.format('V', berman.cy_Potassium_Feldspar_berman_v(t,p), 'J/bar-m'))\n",
    "    print(fmt.format('Cv', berman.cy_Potassium_Feldspar_berman_cv(t,p), 'J/K-m'))\n",
    "    print(fmt.format('Cp', berman.cy_Potassium_Feldspar_berman_cp(t,p), 'J/K-m'))\n",
    "    print(fmt.format('dCpdT', berman.cy_Potassium_Feldspar_berman_dcpdt(t,p), 'J/K^2-m'))\n",
    "    print(fmt.format('alpha', berman.cy_Potassium_Feldspar_berman_alpha(t,p), '1/K'))\n",
    "    print(fmt.format('beta', berman.cy_Potassium_Feldspar_berman_beta(t,p), '1/bar'))\n",
    "    print(fmt.format('K', berman.cy_Potassium_Feldspar_berman_K(t,p), 'bar'))\n",
    "    print(fmt.format('Kp', berman.cy_Potassium_Feldspar_berman_Kp(t,p), ''))\n",
    "except AttributeError:\n",
    "    pass\n",
    "try:\n",
    "    print(fmt.format('G', berman.cy_Potassium_Feldspar_berman_calib_g(t,p), 'J/m'))\n",
    "    print(fmt.format('dGdT', berman.cy_Potassium_Feldspar_berman_calib_dgdt(t,p), 'J/K-m'))\n",
    "    print(fmt.format('dGdP', berman.cy_Potassium_Feldspar_berman_calib_dgdp(t,p), 'J/bar-m'))\n",
    "    print(fmt.format('d2GdP2', berman.cy_Potassium_Feldspar_berman_calib_d2gdt2(t,p), 'J/K^2-m'))\n",
    "    print(fmt.format('d2GdTdP', berman.cy_Potassium_Feldspar_berman_calib_d2gdtdp(t,p), 'J/K-bar-m'))\n",
    "    print(fmt.format('d2GdP2', berman.cy_Potassium_Feldspar_berman_calib_d2gdp2(t,p), 'J/bar^2-m'))\n",
    "    print(fmt.format('d3GdT3', berman.cy_Potassium_Feldspar_berman_calib_d3gdt3(t,p), 'J/K^3-m'))\n",
    "    print(fmt.format('d3GdT2dP', berman.cy_Potassium_Feldspar_berman_calib_d3gdt2dp(t,p), 'J/K^2-bar-m'))\n",
    "    print(fmt.format('d3GdTdP2', berman.cy_Potassium_Feldspar_berman_calib_d3gdtdp2(t,p), 'J/K-bar^2-m'))\n",
    "    print(fmt.format('d3GdP3', berman.cy_Potassium_Feldspar_berman_calib_d3gdp3(t,p), 'J/bar^3-m'))\n",
    "    print(fmt.format('S', berman.cy_Potassium_Feldspar_berman_calib_s(t,p), 'J/K-m'))\n",
    "    print(fmt.format('V', berman.cy_Potassium_Feldspar_berman_calib_v(t,p), 'J/bar-m'))\n",
    "    print(fmt.format('Cv', berman.cy_Potassium_Feldspar_berman_calib_cv(t,p), 'J/K-m'))\n",
    "    print(fmt.format('Cp', berman.cy_Potassium_Feldspar_berman_calib_cp(t,p), 'J/K-m'))\n",
    "    print(fmt.format('dCpdT', berman.cy_Potassium_Feldspar_berman_calib_dcpdt(t,p), 'J/K^2-m'))\n",
    "    print(fmt.format('alpha', berman.cy_Potassium_Feldspar_berman_calib_alpha(t,p), '1/K'))\n",
    "    print(fmt.format('beta', berman.cy_Potassium_Feldspar_berman_calib_beta(t,p), '1/bar'))\n",
    "    print(fmt.format('K', berman.cy_Potassium_Feldspar_berman_calib_K(t,p), 'bar'))\n",
    "    print(fmt.format('Kp', berman.cy_Potassium_Feldspar_berman_calib_Kp(t,p), ''))\n",
    "except AttributeError:\n",
    "    pass"
   ]
  },
  {
   "cell_type": "markdown",
   "metadata": {},
   "source": [
    "### Available only in the \"Calib\" versions of generated code\n",
    "Execute the parameter value/metadata functions.  \n",
    "These functions are only defined for the \"calibration\" model code implementation:"
   ]
  },
  {
   "cell_type": "code",
   "execution_count": null,
   "metadata": {},
   "outputs": [],
   "source": [
    "try:\n",
    "    np = berman.cy_Potassium_Feldspar_berman_get_param_number()\n",
    "    names = berman.cy_Potassium_Feldspar_berman_get_param_names()\n",
    "    units = berman.cy_Potassium_Feldspar_berman_get_param_units()\n",
    "    values = berman.cy_Potassium_Feldspar_berman_get_param_values()\n",
    "    fmt = \"{0:<10.10s} {1:13.6e} {2:13.6e} {3:<10.10s}\"\n",
    "    for i in range(0,np):\n",
    "        print(fmt.format(names[i], values[i], berman.cy_Potassium_Feldspar_berman_get_param_value(i), units[i]))\n",
    "except AttributeError:\n",
    "    pass"
   ]
  },
  {
   "cell_type": "markdown",
   "metadata": {},
   "source": [
    "Test the functions that allow modification of the array of parameter values"
   ]
  },
  {
   "cell_type": "code",
   "execution_count": null,
   "metadata": {},
   "outputs": [],
   "source": [
    "try:\n",
    "    values[1] = 100.0\n",
    "    berman.cy_Potassium_Feldspar_berman_set_param_values(values)\n",
    "    fmt = \"{0:<10.10s} {1:13.6e} {2:13.6e} {3:<10.10s}\"\n",
    "    for i in range(0,np):\n",
    "        print(fmt.format(names[i], values[i], berman.cy_Potassium_Feldspar_berman_get_param_value(i), units[i]))\n",
    "except (AttributeError, NameError):\n",
    "    pass"
   ]
  },
  {
   "cell_type": "markdown",
   "metadata": {},
   "source": [
    "Test the functions that allow modification of a particular parameter value"
   ]
  },
  {
   "cell_type": "code",
   "execution_count": null,
   "metadata": {},
   "outputs": [],
   "source": [
    "try:\n",
    "    berman.cy_Potassium_Feldspar_berman_set_param_value(1, 1.0)\n",
    "    fmt = \"{0:<10.10s} {1:13.6e} {2:13.6e} {3:<10.10s}\"\n",
    "    for i in range(0,np):\n",
    "        print(fmt.format(names[i], values[i], berman.cy_Potassium_Feldspar_berman_get_param_value(i), units[i]))\n",
    "except AttributeError:\n",
    "    pass"
   ]
  },
  {
   "cell_type": "markdown",
   "metadata": {},
   "source": [
    "Evaluate parameter derivatives ..."
   ]
  },
  {
   "cell_type": "code",
   "execution_count": null,
   "metadata": {},
   "outputs": [],
   "source": [
    "try:\n",
    "    fmt = \"    {0:<10.10s} {1:13.6e}\"\n",
    "    for i in range(0, np):\n",
    "        print ('Derivative with respect to parameter: ', names[i], ' of')\n",
    "        print (fmt.format('G', berman.cy_Potassium_Feldspar_berman_dparam_g(t, p, i)))\n",
    "        print (fmt.format('dGdT', berman.cy_Potassium_Feldspar_berman_dparam_dgdt(t, p, i)))\n",
    "        print (fmt.format('dGdP', berman.cy_Potassium_Feldspar_berman_dparam_dgdp(t, p, i)))\n",
    "        print (fmt.format('d2GdT2', berman.cy_Potassium_Feldspar_berman_dparam_d2gdt2(t, p, i)))\n",
    "        print (fmt.format('d2GdTdP', berman.cy_Potassium_Feldspar_berman_dparam_d2gdtdp(t, p, i)))\n",
    "        print (fmt.format('d2GdP2', berman.cy_Potassium_Feldspar_berman_dparam_d2gdp2(t, p, i)))\n",
    "        print (fmt.format('d3GdT3', berman.cy_Potassium_Feldspar_berman_dparam_d3gdt3(t, p, i)))\n",
    "        print (fmt.format('d3GdT2dP', berman.cy_Potassium_Feldspar_berman_dparam_d3gdt2dp(t, p, i)))\n",
    "        print (fmt.format('d3GdTdP2', berman.cy_Potassium_Feldspar_berman_dparam_d3gdtdp2(t, p, i)))\n",
    "        print (fmt.format('d3GdP3', berman.cy_Potassium_Feldspar_berman_dparam_d3gdp3(t, p, i)))\n",
    "except (AttributeError, TypeError):\n",
    "    pass"
   ]
  },
  {
   "cell_type": "markdown",
   "metadata": {},
   "source": [
    "## Test the generated code against the standard Berman code base"
   ]
  },
  {
   "cell_type": "code",
   "execution_count": null,
   "metadata": {},
   "outputs": [],
   "source": [
    "from thermoengine import model"
   ]
  },
  {
   "cell_type": "code",
   "execution_count": null,
   "metadata": {},
   "outputs": [],
   "source": [
    "bermanDB = model.Database()"
   ]
  },
  {
   "cell_type": "code",
   "execution_count": null,
   "metadata": {},
   "outputs": [],
   "source": [
    "abbrv = \"\"\n",
    "for full_name, abbrv in zip(bermanDB.phase_info.phase_name,bermanDB.phase_info.abbrev):\n",
    "    if phase_name == full_name:\n",
    "        break\n",
    "refModel = bermanDB.get_phase(abbrv)"
   ]
  },
  {
   "cell_type": "code",
   "execution_count": null,
   "metadata": {},
   "outputs": [],
   "source": [
    "import math\n",
    "fmt = \"{0:<10.10s} {1:13.6e} {2:13.6e} {3:13.6e} {4:6.2f}%\"\n",
    "fmts = \"{0:<10.10s} {1:13.6e}\"\n",
    "try:\n",
    "    x = berman.cy_Potassium_Feldspar_berman_g(t,p)\n",
    "    y = refModel.gibbs_energy(t,p)\n",
    "    print(fmt.format('G', x, y, x-y, 100.0*math.fabs((x-y)/y)))\n",
    "    x = berman.cy_Potassium_Feldspar_berman_dgdt(t,p)\n",
    "    y = -refModel.entropy(t,p)\n",
    "    print(fmt.format('dGdT', x, y, x-y, 100.0*math.fabs((x-y)/y)))\n",
    "    x = berman.cy_Potassium_Feldspar_berman_dgdp(t,p)\n",
    "    y = refModel.volume(t,p)\n",
    "    print(fmt.format('dGdP', x, y, x-y, 100.0*math.fabs((x-y)/y))) \n",
    "    x = berman.cy_Potassium_Feldspar_berman_d2gdt2(t,p)\n",
    "    print(fmts.format('d2GdT2', x))\n",
    "    x = berman.cy_Potassium_Feldspar_berman_d2gdtdp(t,p)\n",
    "    print(fmts.format('d2GdTdP', x))\n",
    "    x = berman.cy_Potassium_Feldspar_berman_d2gdp2(t,p)\n",
    "    print(fmts.format('d2GdP2', x))\n",
    "    x = berman.cy_Potassium_Feldspar_berman_d3gdt3(t,p)\n",
    "    print(fmts.format('d3GdT3', x))\n",
    "    x = berman.cy_Potassium_Feldspar_berman_d3gdt2dp(t,p)\n",
    "    print(fmts.format('d3GdT2dP', x))\n",
    "    x = berman.cy_Potassium_Feldspar_berman_d3gdtdp2(t,p)\n",
    "    print(fmts.format('d3GdTdP2', x))\n",
    "    x = berman.cy_Potassium_Feldspar_berman_d3gdp3(t,p)\n",
    "    print(fmts.format('d3GdP3', x))\n",
    "    x = berman.cy_Potassium_Feldspar_berman_s(t,p)\n",
    "    y = refModel.entropy(t,p)\n",
    "    print(fmt.format('S', x, y, x-y, 100.0*math.fabs((x-y)/y)))\n",
    "    x = berman.cy_Potassium_Feldspar_berman_v(t,p)\n",
    "    y = refModel.volume(t,p)\n",
    "    print(fmt.format('V', x, y, x-y, 100.0*math.fabs((x-y)/y)))\n",
    "    x = berman.cy_Potassium_Feldspar_berman_cv(t,p)\n",
    "    print(fmts.format('Cv', x))\n",
    "    x = berman.cy_Potassium_Feldspar_berman_cp(t,p)\n",
    "    y = refModel.heat_capacity(t,p)\n",
    "    print(fmt.format('Cp', x, y, x-y, 100.0*math.fabs((x-y)/y)))\n",
    "    x = berman.cy_Potassium_Feldspar_berman_dcpdt(t,p)\n",
    "    print(fmts.format('dCpdT', x))\n",
    "    x = berman.cy_Potassium_Feldspar_berman_alpha(t,p)\n",
    "    print(fmts.format('alpha', x))\n",
    "    x = berman.cy_Potassium_Feldspar_berman_beta(t,p)\n",
    "    print(fmts.format('beta', x))\n",
    "    x = berman.cy_Potassium_Feldspar_berman_K(t,p)\n",
    "    print(fmts.format('K', x))\n",
    "    x = berman.cy_Potassium_Feldspar_berman_Kp(t,p)\n",
    "    print(fmts.format('Kp', x))\n",
    "except AttributeError:\n",
    "    pass\n",
    "try:\n",
    "    x = berman.cy_Potassium_Feldspar_berman_calib_g(t,p)\n",
    "    y = refModel.gibbs_energy(t,p)\n",
    "    print(fmt.format('G', x, y, x-y, 100.0*math.fabs((x-y)/y)))\n",
    "    x = berman.cy_Potassium_Feldspar_berman_calib_dgdt(t,p)\n",
    "    y = -refModel.entropy(t,p)\n",
    "    print(fmt.format('dGdT', x, y, x-y, 100.0*math.fabs((x-y)/y)))\n",
    "    x = berman.cy_Potassium_Feldspar_berman_calib_dgdp(t,p)\n",
    "    y = refModel.volume(t,p)\n",
    "    print(fmt.format('dGdP', x, y, x-y, 100.0*math.fabs((x-y)/y))) \n",
    "    x = berman.cy_Potassium_Feldspar_berman_calib_d2gdt2(t,p)\n",
    "    print(fmts.format('d2GdT2', x))\n",
    "    x = berman.cy_Potassium_Feldspar_berman_calib_d2gdtdp(t,p)\n",
    "    print(fmts.format('d2GdTdP', x))\n",
    "    x = berman.cy_Potassium_Feldspar_berman_calib_d2gdp2(t,p)\n",
    "    print(fmts.format('d2GdP2', x))\n",
    "    x = berman.cy_Potassium_Feldspar_berman_calib_d3gdt3(t,p)\n",
    "    print(fmts.format('d3GdT3', x))\n",
    "    x = berman.cy_Potassium_Feldspar_berman_calib_d3gdt2dp(t,p)\n",
    "    print(fmts.format('d3GdT2dP', x))\n",
    "    x = berman.cy_Potassium_Feldspar_berman_calib_d3gdtdp2(t,p)\n",
    "    print(fmts.format('d3GdTdP2', x))\n",
    "    x = berman.cy_Potassium_Feldspar_berman_calib_d3gdp3(t,p)\n",
    "    print(fmts.format('d3GdP3', x))\n",
    "    x = berman.cy_Potassium_Feldspar_berman_calib_s(t,p)\n",
    "    y = refModel.entropy(t,p)\n",
    "    print(fmt.format('S', x, y, x-y, 100.0*math.fabs((x-y)/y)))\n",
    "    x = berman.cy_Potassium_Feldspar_berman_calib_v(t,p)\n",
    "    y = refModel.volume(t,p)\n",
    "    print(fmt.format('V', x, y, x-y, 100.0*math.fabs((x-y)/y)))\n",
    "    x = berman.cy_Potassium_Feldspar_berman_calib_cv(t,p)\n",
    "    print(fmts.format('Cv', x))\n",
    "    x = berman.cy_Potassium_Feldspar_berman_calib_cp(t,p)\n",
    "    y = refModel.heat_capacity(t,p)\n",
    "    print(fmt.format('Cp', x, y, x-y, 100.0*math.fabs((x-y)/y)))\n",
    "    x = berman.cy_Potassium_Feldspar_berman_calib_dcpdt(t,p)\n",
    "    print(fmts.format('dCpdT', x))\n",
    "    x = berman.cy_Potassium_Feldspar_berman_calib_alpha(t,p)\n",
    "    print(fmts.format('alpha', x))\n",
    "    x = berman.cy_Potassium_Feldspar_berman_calib_beta(t,p)\n",
    "    print(fmts.format('beta', x))\n",
    "    x = berman.cy_Potassium_Feldspar_berman_calib_K(t,p)\n",
    "    print(fmts.format('K', x))\n",
    "    x = berman.cy_Potassium_Feldspar_berman_calib_Kp(t,p)\n",
    "    print(fmts.format('Kp', x))\n",
    "except AttributeError:\n",
    "    pass"
   ]
  },
  {
   "cell_type": "markdown",
   "metadata": {},
   "source": [
    "## Time execution of the code"
   ]
  },
  {
   "cell_type": "code",
   "execution_count": null,
   "metadata": {},
   "outputs": [],
   "source": [
    "try:\n",
    "    %timeit berman.cy_Potassium_Feldspar_berman_calib_g(t,p)\n",
    "except AttributeError:\n",
    "    pass\n",
    "try:\n",
    "    %timeit berman.cy_Potassium_Feldspar_berman_g(t,p)\n",
    "except AttributeError:\n",
    "    pass"
   ]
  },
  {
   "cell_type": "code",
   "execution_count": null,
   "metadata": {},
   "outputs": [],
   "source": [
    "%timeit refModel.gibbs_energy(t,p)"
   ]
  },
  {
   "cell_type": "code",
   "execution_count": null,
   "metadata": {},
   "outputs": [],
   "source": []
  }
 ],
 "metadata": {
  "kernelspec": {
   "display_name": "Python 3 (ipykernel)",
   "language": "python",
   "name": "python3"
  },
  "language_info": {
   "codemirror_mode": {
    "name": "ipython",
    "version": 3
   },
   "file_extension": ".py",
   "mimetype": "text/x-python",
   "name": "python",
   "nbconvert_exporter": "python",
   "pygments_lexer": "ipython3",
   "version": "3.9.7"
  }
 },
 "nbformat": 4,
 "nbformat_minor": 4
}
