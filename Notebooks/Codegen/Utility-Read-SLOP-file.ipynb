{
 "cells": [
  {
   "cell_type": "markdown",
   "metadata": {},
   "source": [
    "# Read a SLOP file and create HKF and SUPCRT parameter databases\n",
    "The SLOP file contains calibrated parameters and parameter estimates for minerals, gasses and aqueous species that are consistent with the revised HKF formulation and with the Helgeson, Delany, Nesbitt and Bird mineral/gas thermodynamic database.  References:    \n",
    "\n",
    "Shock EL, Oelkers EH, Johnson JW, Sverjensky DA, Helgeson HC (1992) Calculation of the thermodynamic properties of aqueous species at high pressures and temperatures. Journal of the Chemical Society Faraday Transactions, 88(6), 803-826  \n",
    "\n",
    "Helgeson HC, Delany JM, Nesbitt HW, and Bird DK (1978) Summary and critique of the thermodynamic properties of rock-forming minerals, American Journal of Sciences, 278-A, 229pp  \n",
    "\n",
    "Note that SLOP contains parameters for an expanded set of aqueous species, mineral, and gas properties.  \n",
    "\n",
    "This notebook creates a pickled dictionary containing Pandas data frames that each contain parameter values.  The pickled dictionary file has the same name as the SLOP file with the extension *dict*.  The contents of the dictionary is described below.  \n",
    "\n",
    "Enter the name of the SLOP file (assumed to be in the same directory as this notebook) below:"
   ]
  },
  {
   "cell_type": "code",
   "execution_count": null,
   "metadata": {},
   "outputs": [],
   "source": [
    "fname = 'slop16_v3_1.dat'\n",
    "dname = fname.split(\".\")[0] + \".dict\"\n",
    "dname"
   ]
  },
  {
   "cell_type": "markdown",
   "metadata": {},
   "source": [
    "Read the SLOP file ..."
   ]
  },
  {
   "cell_type": "code",
   "execution_count": null,
   "metadata": {},
   "outputs": [],
   "source": [
    "lines = [line.rstrip('\\n') for line in open(fname)]"
   ]
  },
  {
   "cell_type": "markdown",
   "metadata": {},
   "source": [
    "Parse the file into documentation and phase type lists ..."
   ]
  },
  {
   "cell_type": "code",
   "execution_count": null,
   "metadata": {},
   "outputs": [],
   "source": [
    "docs = []\n",
    "min_no_trans = []\n",
    "min_one_trans = []\n",
    "min_two_trans = []\n",
    "min_three_trans = []\n",
    "gasses = []\n",
    "aqueous = []\n",
    "\n",
    "no_transition    = False\n",
    "one_transition   = False\n",
    "two_transition   = False\n",
    "three_transition = False\n",
    "gas_entries      = False\n",
    "aqueous_entries  = False\n",
    "extra_entries    = False\n",
    "\n",
    "for line in lines:\n",
    "    if line.startswith('*'):\n",
    "        docs.append(line)\n",
    "    elif line.startswith('          minerals that do not undergo phase transitions'):\n",
    "        no_transition = True\n",
    "        print('          minerals that do not undergo phase transitions')\n",
    "    elif line.startswith('          minerals that undergo one phase transition'):\n",
    "        no_transition  = False\n",
    "        one_transition = True\n",
    "        print('          minerals that undergo one phase transition')\n",
    "    elif line.startswith('          minerals that undergo two phase transitions'):\n",
    "        no_transition  = False\n",
    "        one_transition = False\n",
    "        two_transition = True\n",
    "        print('          minerals that undergo two phase transitions')\n",
    "    elif line.startswith('          minerals that undergo three phase transitions'):\n",
    "        no_transition    = False\n",
    "        one_transition   = False\n",
    "        two_transition   = False\n",
    "        three_transition = True\n",
    "        print('          minerals that undergo three phase transitions')\n",
    "    elif line.startswith('          gases'):\n",
    "        no_transition    = False\n",
    "        one_transition   = False\n",
    "        two_transition   = False\n",
    "        three_transition = False\n",
    "        gas_entries      = True\n",
    "        print('          gases')\n",
    "    elif line.startswith('          aqueous species'):\n",
    "        no_transition    = False\n",
    "        one_transition   = False\n",
    "        two_transition   = False\n",
    "        three_transition = False\n",
    "        gas_entries      = False\n",
    "        aqueous_entries  = True\n",
    "        print('          aqueous species')\n",
    "    elif len(line) == 1:\n",
    "        no_transition    = False\n",
    "        one_transition   = False\n",
    "        two_transition   = False\n",
    "        three_transition = False\n",
    "        gas_entries      = False\n",
    "        aqueous_entries  = False\n",
    "        extra_entries    = True\n",
    "        print('Found an empty line')\n",
    "    elif no_transition:\n",
    "        min_no_trans.append(line)\n",
    "    elif one_transition:\n",
    "        min_one_trans.append(line)\n",
    "    elif two_transition:\n",
    "        min_two_trans.append(line)\n",
    "    elif three_transition:\n",
    "        min_three_trans.append(line)\n",
    "    elif gas_entries:\n",
    "        gasses.append(line)\n",
    "    elif aqueous_entries:\n",
    "        aqueous.append(line)\n",
    "    elif extra_entries:\n",
    "        docs.append(line)"
   ]
  },
  {
   "cell_type": "markdown",
   "metadata": {},
   "source": [
    "### Generic species block for minerals and gases that do not undergo phase transitions\n",
    "LINE 1:name                structural chemical formula                    \n",
    "LINE 2:abbreviation        elemental chemical formula       \n",
    "LINE 3:reference           date last revisited  \n",
    "LINE 4:deltaG(cal/mol)     deltaH(cal/mol)     entropy(cal/mol/K)  \n",
    "LINE 4:volume(cubic cm/mol)  \n",
    "LINE 5:a(10^0)(cal/mol/K)     b(10^3)(cal/mol/K^2)    c(10^-5)(cal K/mol)  \n",
    "LINE 6:Tmax (for a,b and c)(K)  "
   ]
  },
  {
   "cell_type": "code",
   "execution_count": null,
   "metadata": {},
   "outputs": [],
   "source": [
    "import pandas as pd\n",
    "import numpy as np"
   ]
  },
  {
   "cell_type": "code",
   "execution_count": null,
   "metadata": {},
   "outputs": [],
   "source": [
    "ss = []\n",
    "headers = ['Name', 'Struct_formula', 'Abbrv', 'Formula', 'Reference', 'Date_entered', \n",
    "           'deltaG (cal/m)', 'deltaH (cal/m)', 'S (cal/K-m)', 'V (cc/m)', \n",
    "           'a (cal/K-m)', 'b (10^3 cal/K^2-m)', 'c (10^-5 cal-K/m)', 'Tmax (K)']\n",
    "for i in range(0,len(min_no_trans),6):\n",
    "    s = []\n",
    "    for j in range(0,3):\n",
    "        a = min_no_trans[i+j][ 0:20].strip().replace(\" \", \"_\")\n",
    "        b = min_no_trans[i+j][20:].strip().replace(\" \", \"_\")\n",
    "        s.append(a+\" \")\n",
    "        s.append(b+\" \")\n",
    "    for j in range(3,6):\n",
    "        s.append(min_no_trans[i+j])\n",
    "    s = ' '.join(s).split()\n",
    "    s[0] = s[0].lower().capitalize()\n",
    "    if len(s) != 14:\n",
    "        print(s)\n",
    "    ss.append(s)\n",
    "#ss\n",
    "min_no_trans_df = pd.DataFrame(ss, columns=headers)"
   ]
  },
  {
   "cell_type": "markdown",
   "metadata": {},
   "source": [
    "### *min_no_trans_df* is the Pandas dataframe that holds parameters for these phases"
   ]
  },
  {
   "cell_type": "code",
   "execution_count": null,
   "metadata": {},
   "outputs": [],
   "source": [
    "print(\"Number of entries \",len(min_no_trans_df.index))"
   ]
  },
  {
   "cell_type": "markdown",
   "metadata": {},
   "source": [
    "### Generic species block for minerals that undergo phase transitions\n",
    "LINE 1:name                structural chemical formula                    \n",
    "LINE 2:abbreviation        elemental chemical formula       \n",
    "LINE 3:reference           date last revisited  \n",
    "LINE 4:deltaG(cal/mol)     deltaH(cal/mol)     entropy(cal/mol/K)     \n",
    "LINE 4:volume(cubic cm/mol)\n",
    "LINE 5:ai(10^0)(cal/mol/K)    bi(10^3)(cal/mol/K)     ci(10^-5)(cal K/mol)  \n",
    "LINE 5:Tti(K)  deltaHti(cal/mol)   deltaVti(cubic cm/mol)    (dP/dT)ti(bar/K)  \n",
    "LINE 6:an(10^0)(cal/mol/K)    bn(10^3)(cal/mol/K)     cn(10^-5)(cal K/mol)  \n",
    "LINE 7:Tmaxn (for an,bn and cn)  \n",
    "### One phase transition ..."
   ]
  },
  {
   "cell_type": "code",
   "execution_count": null,
   "metadata": {},
   "outputs": [],
   "source": [
    "ss = []\n",
    "headers = ['Name', 'Struct_formula', 'Abbrv', 'Formula', 'Reference', 'Date_entered', \n",
    "           'deltaG (cal/m)', 'deltaH (cal/m)', 'S (cal/K-m)', 'V (cc/m)', \n",
    "           'a (cal/K-m)', 'b (10^3 cal/K^2-m)', 'c (10^-5 cal-K/m)', \n",
    "           'Tt1 (K)', 'DeltaHt1 (cal/m)', 'deltaVt1 (cc/m)', 'dPdTt1 (bar/K)',\n",
    "           'at1 (cal/K-m)', 'bt1 (10^3 cal/K^2-m)', 'ct1 (10^-5 cal-K/m)',\n",
    "           'Tmax (K)']\n",
    "for i in range(0,len(min_one_trans),7):\n",
    "    s = []\n",
    "    for j in range(0,3):\n",
    "        a = min_one_trans[i+j][ 0:20].strip().replace(\" \", \"_\")\n",
    "        b = min_one_trans[i+j][20:].strip().replace(\" \", \"_\")\n",
    "        s.append(a+\" \")\n",
    "        s.append(b+\" \")\n",
    "    for j in range(3,7):\n",
    "        s.append(min_one_trans[i+j])\n",
    "    s = ' '.join(s).split()\n",
    "    s[0] = s[0].lower().capitalize()\n",
    "    if len(s) != 21:\n",
    "        print(s)\n",
    "    for j in range(6,21):\n",
    "        if float(s[j]) == 999999.0:\n",
    "            s[j] = np.nan\n",
    "    ss.append(s)\n",
    "#ss\n",
    "min_one_trans_df = pd.DataFrame(ss, columns=headers)"
   ]
  },
  {
   "cell_type": "markdown",
   "metadata": {},
   "source": [
    "### *min_one_trans_df* is the Pandas dataframe that holds parameters for these phases"
   ]
  },
  {
   "cell_type": "code",
   "execution_count": null,
   "metadata": {},
   "outputs": [],
   "source": [
    "print(\"Number of entries \", len(min_one_trans_df.index))"
   ]
  },
  {
   "cell_type": "markdown",
   "metadata": {},
   "source": [
    "### Two phase transitions ..."
   ]
  },
  {
   "cell_type": "code",
   "execution_count": null,
   "metadata": {},
   "outputs": [],
   "source": [
    "ss = []\n",
    "headers = ['Name', 'Struct_formula', 'Abbrv', 'Formula', 'Reference', 'Date_entered', \n",
    "           'deltaG (cal/m)', 'deltaH (cal/m)', 'S (cal/K-m)', 'V (cc/m)', \n",
    "           'a (cal/K-m)', 'b (10^3 cal/K^2-m)', 'c (10^-5 cal-K/m)', \n",
    "           'Tt1 (K)', 'DeltaHt1 (cal/m)', 'deltaVt1 (cc/m)', 'dPdTt1 (bar/K)',\n",
    "           'at1 (cal/K-m)', 'bt1 (10^3 cal/K^2-m)', 'ct1 (10^-5 cal-K/m)',\n",
    "           'Tt2 (K)', 'DeltaHt2 (cal/m)', 'deltaVt2 (cc/m)', 'dPdTt2 (bar/K)',\n",
    "           'at2 (cal/K-m)', 'bt2 (10^3 cal/K^2-m)', 'ct2 (10^-5 cal-K/m)',\n",
    "           'Tmax (K)']\n",
    "for i in range(0,len(min_two_trans),8):\n",
    "    s = []\n",
    "    for j in range(0,3):\n",
    "        a = min_two_trans[i+j][ 0:20].strip().replace(\" \", \"_\")\n",
    "        b = min_two_trans[i+j][20:].strip().replace(\" \", \"_\")\n",
    "        s.append(a+\" \")\n",
    "        s.append(b+\" \")\n",
    "    for j in range(3,8):\n",
    "        s.append(min_two_trans[i+j])\n",
    "    s = ' '.join(s).split()\n",
    "    s[0] = s[0].lower().capitalize()\n",
    "    if len(s) != 28:\n",
    "        print(s)\n",
    "    for j in range(6,28):\n",
    "        if float(s[j]) == 999999.0:\n",
    "            s[j] = np.nan\n",
    "    ss.append(s)\n",
    "#ss\n",
    "min_two_trans_df = pd.DataFrame(ss, columns=headers)"
   ]
  },
  {
   "cell_type": "markdown",
   "metadata": {},
   "source": [
    "### *min_two_trans_df* is the Pandas dataframe that holds parameters for these phases"
   ]
  },
  {
   "cell_type": "code",
   "execution_count": null,
   "metadata": {},
   "outputs": [],
   "source": [
    "print(\"Number of entries \", len(min_two_trans_df.index))"
   ]
  },
  {
   "cell_type": "markdown",
   "metadata": {},
   "source": [
    "### Three phase transitions ..."
   ]
  },
  {
   "cell_type": "code",
   "execution_count": null,
   "metadata": {},
   "outputs": [],
   "source": [
    "ss = []\n",
    "headers = ['Name', 'Struct_formula', 'Abbrv', 'Formula', 'Reference', 'Date_entered', \n",
    "           'deltaG (cal/m)', 'deltaH (cal/m)', 'S (cal/K-m)', 'V (cc/m)', \n",
    "           'a (cal/K-m)', 'b (10^3 cal/K^2-m)', 'c (10^-5 cal-K/m)', \n",
    "           'Tt1 (K)', 'DeltaHt1 (cal/m)', 'deltaVt1 (cc/m)', 'dPdTt1 (bar/K)',\n",
    "           'at1 (cal/K-m)', 'bt1 (10^3 cal/K^2-m)', 'ct1 (10^-5 cal-K/m)',\n",
    "           'Tt2 (K)', 'DeltaHt2 (cal/m)', 'deltaVt2 (cc/m)', 'dPdTt2 (bar/K)',\n",
    "           'at2 (cal/K-m)', 'bt2 (10^3 cal/K^2-m)', 'ct2 (10^-5 cal-K/m)',\n",
    "           'Tt3 (K)', 'DeltaHt3 (cal/m)', 'deltaVt3 (cc/m)', 'dPdTt3 (bar/K)',\n",
    "           'at3 (cal/K-m)', 'bt3 (10^3 cal/K^2-m)', 'ct3 (10^-5 cal-K/m)',\n",
    "           'Tmax (K)']\n",
    "for i in range(0,len(min_three_trans),9):\n",
    "    s = []\n",
    "    for j in range(0,3):\n",
    "        a = min_three_trans[i+j][ 0:20].strip().replace(\" \", \"_\")\n",
    "        b = min_three_trans[i+j][20:].strip().replace(\" \", \"_\")\n",
    "        s.append(a+\" \")\n",
    "        s.append(b+\" \")\n",
    "    for j in range(3,9):\n",
    "        s.append(min_three_trans[i+j])\n",
    "    s = ' '.join(s).split()\n",
    "    s[0] = s[0].lower().capitalize()\n",
    "    if len(s) != 35:\n",
    "        print(s)\n",
    "    for j in range(6,35):\n",
    "        if float(s[j]) == 999999.0:\n",
    "            s[j] = np.nan\n",
    "    ss.append(s)\n",
    "#ss\n",
    "min_three_trans_df = pd.DataFrame(ss, columns=headers)"
   ]
  },
  {
   "cell_type": "markdown",
   "metadata": {},
   "source": [
    "### *min_three_trans_df* is the Pandas dataframe that holds parameters for these phases"
   ]
  },
  {
   "cell_type": "code",
   "execution_count": null,
   "metadata": {},
   "outputs": [],
   "source": [
    "print(\"Number of entries \",len(min_three_trans_df.index))"
   ]
  },
  {
   "cell_type": "markdown",
   "metadata": {},
   "source": [
    "### Gasses ..."
   ]
  },
  {
   "cell_type": "code",
   "execution_count": null,
   "metadata": {},
   "outputs": [],
   "source": [
    "ss = []\n",
    "headers = ['Name', 'Struct_formula', 'Abbrv', 'Formula', 'Reference', 'Date_entered', \n",
    "           'deltaG (cal/m)', 'deltaH (cal/m)', 'S (cal/K-m)', 'V (cc/m)', \n",
    "           'a (cal/K-m)', 'b (10^3 cal/K^2-m)', 'c (10^-5 cal-K/m)', 'Tmax (K)']\n",
    "for i in range(0,len(gasses),6):\n",
    "    s = []\n",
    "    for j in range(0,3):\n",
    "        a = gasses[i+j][ 0:20].strip().replace(\" \", \"_\")\n",
    "        b = gasses[i+j][20:].strip().replace(\" \", \"_\")\n",
    "        s.append(a+\" \")\n",
    "        s.append(b+\" \")\n",
    "    for j in range(3,6):\n",
    "        s.append(gasses[i+j])\n",
    "    s = ' '.join(s).split()\n",
    "    s[0] = s[0].lower().capitalize()\n",
    "    s[1] = s[1].lower().capitalize()\n",
    "    if len(s) != 14:\n",
    "        print(s)\n",
    "    ss.append(s)\n",
    "#ss\n",
    "gasses_df = pd.DataFrame(ss, columns=headers)"
   ]
  },
  {
   "cell_type": "markdown",
   "metadata": {},
   "source": [
    "### *gasses_df* is the Pandas dataframe that holds parameters for these phases"
   ]
  },
  {
   "cell_type": "code",
   "execution_count": null,
   "metadata": {},
   "outputs": [],
   "source": [
    "print(\"Number of entries \",len(gasses_df.index))"
   ]
  },
  {
   "cell_type": "markdown",
   "metadata": {},
   "source": [
    "### Generic species block for aqueous species\n",
    "LINE 1:name                structural chemical formula                    \n",
    "LINE 2:abbreviation        elemental chemical formula       \n",
    "LINE 3:reference           date last revisited  \n",
    "LINE 4:deltaG(cal/mol)     deltaH(cal/mol)     entropy(cal/mol/K)    \n",
    "LINE 5:a1(10^1)(cal/mol/bar)  a2(10^-2)(cal/mol)  a3(10^0)(cal K/mol/bar)  \n",
    "LINE 5:a4(10^-4)(cal K/mol)  \n",
    "LINE 6:c1(10^0)(cal/mol/K)    c2(10^-4)(cal K/mol)    omega(10^-4)(cal/mol)  \n",
    "LINE 6:charge  "
   ]
  },
  {
   "cell_type": "code",
   "execution_count": null,
   "metadata": {},
   "outputs": [],
   "source": [
    "ss = []\n",
    "headers = ['Name', 'Struct_formula', 'Abbrv', 'Formula', 'Reference', 'Date_entered', \n",
    "           'deltaG (cal/m)', 'deltaH (cal/m)', 'S (cal/K-m)', \n",
    "           'a1 (10 cal/bar-m)', 'a2 (10-23 cal/m)', 'a3 (cal-K/bar-m)', 'a4 (10^-4 cal-K/m)',\n",
    "           'c1 (cal/K-m)', 'c2 (10^-4 cal-K/m)', 'omega (10^-4 cal/m)',\n",
    "           'charge']\n",
    "for i in range(0,len(aqueous),6):\n",
    "    s = []\n",
    "    for j in range(0,3):\n",
    "        a = aqueous[i+j][ 0:20].strip().replace(\" \", \"_\")\n",
    "        b = aqueous[i+j][20:].strip().replace(\" \", \"_\")\n",
    "        s.append(a+\" \")\n",
    "        s.append(b+\" \")\n",
    "    for j in range(3,6):\n",
    "        s.append(aqueous[i+j])\n",
    "    s = ' '.join(s).split()\n",
    "    s[0] = s[0].lower().capitalize()\n",
    "    s[1] = s[1].lower().capitalize()\n",
    "    if len(s) != 17:\n",
    "        print(s)\n",
    "    ss.append(s)\n",
    "#ss\n",
    "aqueous_df = pd.DataFrame(ss, columns=headers)"
   ]
  },
  {
   "cell_type": "markdown",
   "metadata": {},
   "source": [
    "### *aqueous_df* is the Pandas dataframe that holds parameters for these phases"
   ]
  },
  {
   "cell_type": "code",
   "execution_count": null,
   "metadata": {},
   "outputs": [],
   "source": [
    "print(\"Number of entries \",len(aqueous_df.index))"
   ]
  },
  {
   "cell_type": "markdown",
   "metadata": {},
   "source": [
    "## Construct a dictionary of Pandas dataframes with the structure\n",
    "- key: *mineral_no_transitions*, value: min_no_trans_df (Pandas dataframe)\n",
    "- key: *mineral_one_transition*, value: min_one_trans_df (Pandas dataframe)\n",
    "- key: *mineral_two_transitions*, value: min_two_trans_df (Pandas dataframe)\n",
    "- key: *mineral_three_transitions*, value: min_three_trans_df (Pandas dataframe)\n",
    "- key: *gasses*, value: gasses_df (Pandas dataframe)\n",
    "- key: *aqueous_species*, value: aqueous_df (Pandas dataframe)\n",
    "- key: *documentation*, value: docs (list)\n",
    "- key: *original_file*, value: lines (list)"
   ]
  },
  {
   "cell_type": "code",
   "execution_count": null,
   "metadata": {},
   "outputs": [],
   "source": [
    "slop_d = {'mineral_no_transitions':min_no_trans_df, \n",
    "          'mineral_one_transition':min_one_trans_df,\n",
    "          'mineral_two_transitions':min_two_trans_df,\n",
    "          'mineral_three_transitions':min_three_trans_df,\n",
    "          'gasses':gasses_df,\n",
    "          'aqueous_species':aqueous_df,\n",
    "          'documentation':docs,\n",
    "          'original_file':lines}"
   ]
  },
  {
   "cell_type": "markdown",
   "metadata": {},
   "source": [
    "## Pickle the dictionary ..."
   ]
  },
  {
   "cell_type": "code",
   "execution_count": null,
   "metadata": {},
   "outputs": [],
   "source": [
    "import pickle"
   ]
  },
  {
   "cell_type": "code",
   "execution_count": null,
   "metadata": {},
   "outputs": [],
   "source": [
    "with open(dname, 'wb') as f:\n",
    "    pickle.dump(slop_d, f, pickle.HIGHEST_PROTOCOL)"
   ]
  },
  {
   "cell_type": "code",
   "execution_count": null,
   "metadata": {},
   "outputs": [],
   "source": []
  }
 ],
 "metadata": {
  "kernelspec": {
   "display_name": "Python [conda env:python36]",
   "language": "python",
   "name": "conda-env-python36-py"
  },
  "language_info": {
   "codemirror_mode": {
    "name": "ipython",
    "version": 3
   },
   "file_extension": ".py",
   "mimetype": "text/x-python",
   "name": "python",
   "nbconvert_exporter": "python",
   "pygments_lexer": "ipython3",
   "version": "3.6.5"
  }
 },
 "nbformat": 4,
 "nbformat_minor": 2
}
