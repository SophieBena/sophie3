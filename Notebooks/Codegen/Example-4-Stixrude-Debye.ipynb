{
 "cells": [
  {
   "cell_type": "markdown",
   "metadata": {},
   "source": [
    "# Helmholtz energy (Stixrude - Debye integral)\n",
    "Required system packages and initialization"
   ]
  },
  {
   "cell_type": "code",
   "execution_count": null,
   "metadata": {},
   "outputs": [],
   "source": [
    "import pandas as pd\n",
    "import numpy as np\n",
    "import sympy as sym\n",
    "sym.init_printing()"
   ]
  },
  {
   "cell_type": "code",
   "execution_count": null,
   "metadata": {},
   "outputs": [],
   "source": [
    "from thermoengine import coder\n",
    "from thermoengine.coder import Debye as db"
   ]
  },
  {
   "cell_type": "markdown",
   "metadata": {},
   "source": [
    "## Declare *T* and *V* to be independent variables\n",
    "This specifies that the model expression will be defined in terms of the Helmholtz free energy.  Note, that the defauilt model type, *TP*, decalres that the model expression will be the Gibbs free energy."
   ]
  },
  {
   "cell_type": "code",
   "execution_count": null,
   "metadata": {},
   "outputs": [],
   "source": [
    "model = coder.StdStateModel(model_type='TV')"
   ]
  },
  {
   "cell_type": "code",
   "execution_count": null,
   "metadata": {},
   "outputs": [],
   "source": [
    "T = model.get_symbol_for_t()\n",
    "V = model.get_symbol_for_v()\n",
    "Tr = model.get_symbol_for_tr()\n",
    "Vr = model.get_symbol_for_vr()"
   ]
  },
  {
   "cell_type": "markdown",
   "metadata": {},
   "source": [
    "### Define model expressions applicable over all of T,P space\n",
    "An expression for the Gibbs free energy, $G(T,P)$ or the Helmholtz energy $A(T,V)$ is constructed.  The expression may have multiple parts.  Often the heat capacity function is postulated, then integrated to yield expressions for the entahlpy, entropy, and in combination the energy potential. Then, an equation of state (EOS) is adopted and that term is integrated in pressure or volume and added to the heat capacity integrals. This proceedure is follwed here.\n",
    "#### (1) Helmholtz free energy\n",
    "Declare parameters of the Stixrude standard state model:"
   ]
  },
  {
   "cell_type": "code",
   "execution_count": null,
   "metadata": {},
   "outputs": [],
   "source": [
    "a0,n,v0,k00,k0p,theta0,gamma0,q,refS,R = sym.symbols('a0 n v0 k00 k0p theta0 gamma0 q refS R')"
   ]
  },
  {
   "cell_type": "markdown",
   "metadata": {},
   "source": [
    "Specify paramters ..."
   ]
  },
  {
   "cell_type": "code",
   "execution_count": null,
   "metadata": {},
   "outputs": [],
   "source": [
    "params = [('a0','J/m',a0), ('n','',n), ('v0','J/bar-m',v0), ('k00','bar',k00), ('k0p','',k0p),  ('theta0','K',theta0), ('gamma0', '',gamma0), ('q', '', q), ('refS', 'J/K-m', refS), ('R', 'J/K-m', R)]"
   ]
  },
  {
   "cell_type": "markdown",
   "metadata": {},
   "source": [
    "Define the Debye temperature:"
   ]
  },
  {
   "cell_type": "code",
   "execution_count": null,
   "metadata": {},
   "outputs": [],
   "source": [
    "c1 = sym.S(9)*k00*v0\n",
    "c2 = k0p/sym.S(2) - sym.S(2)\n",
    "c5 = sym.S(3)*gamma0\n",
    "c7 = c5*(-sym.S(2) + sym.S(6)*gamma0 - sym.S(3)*q)\n",
    "f = (v0/V)**(sym.S(2)/sym.S(3))/sym.S(2) - sym.S(1)/sym.S(2)\n",
    "d0 = theta0*(sym.S(1) + c7*f*f + sym.S(2)*c5*f)**(sym.S(1)/sym.S(2))\n",
    "d0"
   ]
  },
  {
   "cell_type": "markdown",
   "metadata": {},
   "source": [
    "Define the Debye Helmholtz free energy ...  \n",
    "db(x) returns the Debye *integral* with upper limit *x*"
   ]
  },
  {
   "cell_type": "code",
   "execution_count": null,
   "metadata": {},
   "outputs": [],
   "source": [
    "x = d0/T\n",
    "A_db = n*R*T*(sym.S(3)*sym.ln(sym.S(1)-sym.exp(-x)) - db(x))"
   ]
  },
  {
   "cell_type": "markdown",
   "metadata": {},
   "source": [
    "... and from that the quasiharmonic approximation to the Helmholtz energy ..."
   ]
  },
  {
   "cell_type": "code",
   "execution_count": null,
   "metadata": {},
   "outputs": [],
   "source": [
    "A_quasi = A_db - A_db.subs(T,Tr)"
   ]
  },
  {
   "cell_type": "markdown",
   "metadata": {},
   "source": [
    "... and finally the Stixrude model expression for the Helmholtz free energy:"
   ]
  },
  {
   "cell_type": "code",
   "execution_count": null,
   "metadata": {},
   "outputs": [],
   "source": [
    "A = a0 + c1*f*f*(sym.S(1)/sym.S(2)+c2*f) + A_quasi"
   ]
  },
  {
   "cell_type": "markdown",
   "metadata": {},
   "source": [
    "... and add this expression to the model"
   ]
  },
  {
   "cell_type": "code",
   "execution_count": null,
   "metadata": {},
   "outputs": [],
   "source": [
    "model.add_expression_to_model(A, params)"
   ]
  },
  {
   "cell_type": "markdown",
   "metadata": {},
   "source": [
    "Check that db(x) is actually returning D_3(x)\n",
    "\n",
    "In general\n",
    "\n",
    "$$\n",
    "    \\frac{d}{dx} D_n(x) = \\frac{n}{e^x - 1} - n\\frac{D_n(x)}{x}\n",
    "$$"
   ]
  },
  {
   "cell_type": "code",
   "execution_count": null,
   "metadata": {},
   "outputs": [],
   "source": [
    "db(T).diff(T)"
   ]
  },
  {
   "cell_type": "markdown",
   "metadata": {},
   "source": [
    "## Code Print the Model, compile the code and link a Python module\n",
    "Name the model class"
   ]
  },
  {
   "cell_type": "code",
   "execution_count": null,
   "metadata": {},
   "outputs": [],
   "source": [
    "model.set_module_name('stixrude')\n",
    "model.set_include_debye_code(include=True)"
   ]
  },
  {
   "cell_type": "markdown",
   "metadata": {},
   "source": [
    "Make a working sub-directory and move down into the directory.  This is done so that generated files will not clash between alternate model configurations."
   ]
  },
  {
   "cell_type": "code",
   "execution_count": null,
   "metadata": {},
   "outputs": [],
   "source": [
    "model_working_dir = \"working\"\n",
    "!mkdir -p {model_working_dir}\n",
    "%cd {model_working_dir}"
   ]
  },
  {
   "cell_type": "markdown",
   "metadata": {},
   "source": [
    "- Choose an existing phase from the Berman database\n",
    "- Generate an include file and code file for this phase  \n",
    "  \n",
    "Note that the call to\n",
    "```\n",
    "model.create_code_module(phase=phase_name, formula=formula, params=param_dict)\n",
    "```\n",
    "generates fast code with unmodifiable model parameters and \"calibration-\" related functions.  The call to:\n",
    "```\n",
    "model.create_code_module(phase=phase_name, formula=formula, params=param_dict, module_type='calib')\n",
    "```\n",
    "generates code suitable for model parameter calibration. \n"
   ]
  },
  {
   "cell_type": "code",
   "execution_count": null,
   "metadata": {},
   "outputs": [],
   "source": [
    "param_dict = {'a0':-2055.0*1000.0, 'n':7.0, 'v0':43.6/10.0, 'k00':128.0*10000.0, 'k0p':4.2,\n",
    "              'theta0':809.0, 'gamma0':0.99, 'q':2.1, 'refS':0.0, 'R':8.314472, 'T_r':300.00, \n",
    "              'V_r':43.6/10.0}\n",
    "phase_name = 'Forsterite'\n",
    "formula = 'Mg(2)Si(1)O(4)'\n",
    "model.set_reference_origin(Vr=param_dict['V_r'])\n",
    "result = model.create_code_module(phase=phase_name, formula=formula, params=param_dict)\n",
    "#result = model.create_code_module(phase=phase_name, formula=formula, params=param_dict, module_type='calib')"
   ]
  },
  {
   "cell_type": "code",
   "execution_count": null,
   "metadata": {},
   "outputs": [],
   "source": [
    "param_dict"
   ]
  },
  {
   "cell_type": "markdown",
   "metadata": {},
   "source": [
    "## Import the new module and test the model"
   ]
  },
  {
   "cell_type": "code",
   "execution_count": null,
   "metadata": {},
   "outputs": [],
   "source": [
    "import stixrude\n",
    "%cd .."
   ]
  },
  {
   "cell_type": "markdown",
   "metadata": {},
   "source": [
    "Evaluate functions at temperature (K) and pressure (bars)"
   ]
  },
  {
   "cell_type": "code",
   "execution_count": null,
   "metadata": {},
   "outputs": [],
   "source": [
    "t = 1000.0\n",
    "p = 10000.0"
   ]
  },
  {
   "cell_type": "markdown",
   "metadata": {},
   "source": [
    "### Available in both \"Fast\" and \"Calib\" code versions \n",
    "Execute the \"fast\" or \"calibration\" code metadata retrieval functions:"
   ]
  },
  {
   "cell_type": "code",
   "execution_count": null,
   "metadata": {},
   "outputs": [],
   "source": [
    "try:\n",
    "    print(stixrude.cy_Forsterite_stixrude_identifier())\n",
    "    print(stixrude.cy_Forsterite_stixrude_name())\n",
    "    print(stixrude.cy_Forsterite_stixrude_formula())\n",
    "    print(stixrude.cy_Forsterite_stixrude_mw())\n",
    "    print(stixrude.cy_Forsterite_stixrude_elements())\n",
    "except AttributeError:\n",
    "    pass\n",
    "try:\n",
    "    print(stixrude.cy_Forsterite_stixrude_calib_identifier())\n",
    "    print(stixrude.cy_Forsterite_stixrude_calib_name())\n",
    "    print(stixrude.cy_Forsterite_stixrude_calib_formula())\n",
    "    print(stixrude.cy_Forsterite_stixrude_calib_mw())\n",
    "    print(stixrude.cy_Forsterite_stixrude_calib_elements())\n",
    "except AttributeError:\n",
    "    pass"
   ]
  },
  {
   "cell_type": "markdown",
   "metadata": {},
   "source": [
    "Execute the standard thermodynamic property retrieval functions:"
   ]
  },
  {
   "cell_type": "code",
   "execution_count": null,
   "metadata": {},
   "outputs": [],
   "source": [
    "fmt = \"{0:<10.10s} {1:13.6e} {2:<10.10s}\"\n",
    "try:\n",
    "    print(fmt.format('G', stixrude.cy_Forsterite_stixrude_g(t,p), 'J/m'))\n",
    "    print(fmt.format('dGdT', stixrude.cy_Forsterite_stixrude_dgdt(t,p), 'J/K-m'))\n",
    "    print(fmt.format('dGdP', stixrude.cy_Forsterite_stixrude_dgdp(t,p), 'J/bar-m'))\n",
    "    print(fmt.format('d2GdP2', stixrude.cy_Forsterite_stixrude_d2gdt2(t,p), 'J/K^2-m'))\n",
    "    print(fmt.format('d2GdTdP', stixrude.cy_Forsterite_stixrude_d2gdtdp(t,p), 'J/K-bar-m'))\n",
    "    print(fmt.format('d2GdP2', stixrude.cy_Forsterite_stixrude_d2gdp2(t,p), 'J/bar^2-m'))\n",
    "    print(fmt.format('d3GdT3', stixrude.cy_Forsterite_stixrude_d3gdt3(t,p), 'J/K^3-m'))\n",
    "    print(fmt.format('d3GdT2dP', stixrude.cy_Forsterite_stixrude_d3gdt2dp(t,p), 'J/K^2-bar-m'))\n",
    "    print(fmt.format('d3GdTdP2', stixrude.cy_Forsterite_stixrude_d3gdtdp2(t,p), 'J/K-bar^2-m'))\n",
    "    print(fmt.format('d3GdP3', stixrude.cy_Forsterite_stixrude_d3gdp3(t,p), 'J/bar^3-m'))\n",
    "    print(fmt.format('S', stixrude.cy_Forsterite_stixrude_s(t,p), 'J/K-m'))\n",
    "    print(fmt.format('V', stixrude.cy_Forsterite_stixrude_v(t,p), 'J/bar-m'))\n",
    "    print(fmt.format('Cv', stixrude.cy_Forsterite_stixrude_cv(t,p), 'J/K-m'))\n",
    "    print(fmt.format('Cp', stixrude.cy_Forsterite_stixrude_cp(t,p), 'J/K-m'))\n",
    "    print(fmt.format('dCpdT', stixrude.cy_Forsterite_stixrude_dcpdt(t,p), 'J/K^2-m'))\n",
    "    print(fmt.format('alpha', stixrude.cy_Forsterite_stixrude_alpha(t,p), '1/K'))\n",
    "    print(fmt.format('beta', stixrude.cy_Forsterite_stixrude_beta(t,p), '1/bar'))\n",
    "    print(fmt.format('K', stixrude.cy_Forsterite_stixrude_K(t,p), 'bar'))\n",
    "    print(fmt.format('Kp', stixrude.cy_Forsterite_stixrude_Kp(t,p), ''))\n",
    "except AttributeError:\n",
    "    pass\n",
    "try:\n",
    "    print(fmt.format('G', stixrude.cy_Forsterite_stixrude_calib_g(t,p), 'J/m'))\n",
    "    print(fmt.format('dGdT', stixrude.cy_Forsterite_stixrude_calib_dgdt(t,p), 'J/K-m'))\n",
    "    print(fmt.format('dGdP', stixrude.cy_Forsterite_stixrude_calib_dgdp(t,p), 'J/bar-m'))\n",
    "    print(fmt.format('d2GdP2', stixrude.cy_Forsterite_stixrude_calib_d2gdt2(t,p), 'J/K^2-m'))\n",
    "    print(fmt.format('d2GdTdP', stixrude.cy_Forsterite_stixrude_calib_d2gdtdp(t,p), 'J/K-bar-m'))\n",
    "    print(fmt.format('d2GdP2', stixrude.cy_Forsterite_stixrude_calib_d2gdp2(t,p), 'J/bar^2-m'))\n",
    "    print(fmt.format('d3GdT3', stixrude.cy_Forsterite_stixrude_calib_d3gdt3(t,p), 'J/K^3-m'))\n",
    "    print(fmt.format('d3GdT2dP', stixrude.cy_Forsterite_stixrude_calib_d3gdt2dp(t,p), 'J/K^2-bar-m'))\n",
    "    print(fmt.format('d3GdTdP2', stixrude.cy_Forsterite_stixrude_calib_d3gdtdp2(t,p), 'J/K-bar^2-m'))\n",
    "    print(fmt.format('d3GdP3', stixrude.cy_Forsterite_stixrude_calib_d3gdp3(t,p), 'J/bar^3-m'))\n",
    "    print(fmt.format('S', stixrude.cy_Forsterite_stixrude_calib_s(t,p), 'J/K-m'))\n",
    "    print(fmt.format('V', stixrude.cy_Forsterite_stixrude_calib_v(t,p), 'J/bar-m'))\n",
    "    print(fmt.format('Cv', stixrude.cy_Forsterite_stixrude_calib_cv(t,p), 'J/K-m'))\n",
    "    print(fmt.format('Cp', stixrude.cy_Forsterite_stixrude_calib_cp(t,p), 'J/K-m'))\n",
    "    print(fmt.format('dCpdT', stixrude.cy_Forsterite_stixrude_calib_dcpdt(t,p), 'J/K^2-m'))\n",
    "    print(fmt.format('alpha', stixrude.cy_Forsterite_stixrude_calib_alpha(t,p), '1/K'))\n",
    "    print(fmt.format('beta', stixrude.cy_Forsterite_stixrude_calib_beta(t,p), '1/bar'))\n",
    "    print(fmt.format('K', stixrude.cy_Forsterite_stixrude_calib_K(t,p), 'bar'))\n",
    "    print(fmt.format('Kp', stixrude.cy_Forsterite_stixrude_calib_Kp(t,p), ''))\n",
    "except AttributeError:\n",
    "    pass"
   ]
  },
  {
   "cell_type": "markdown",
   "metadata": {},
   "source": [
    "### Available only in the \"Calib\" versions of generated code\n",
    "Execute the parameter value/metadata functions.  \n",
    "These functions are only defined for the \"calibration\" model code implementation:"
   ]
  },
  {
   "cell_type": "code",
   "execution_count": null,
   "metadata": {},
   "outputs": [],
   "source": [
    "try:\n",
    "    np = stixrude.cy_Forsterite_stixrude_get_param_number()\n",
    "    names = stixrude.cy_Forsterite_stixrude_get_param_names()\n",
    "    units = stixrude.cy_Forsterite_stixrude_get_param_units()\n",
    "    values = stixrude.cy_Forsterite_stixrude_get_param_values()\n",
    "    fmt = \"{0:<10.10s} {1:13.6e} {2:13.6e} {3:<10.10s}\"\n",
    "    for i in range(0,np):\n",
    "        print(fmt.format(names[i], values[i], stixrude.cy_Forsterite_stixrude_get_param_value(i), units[i]))\n",
    "except AttributeError:\n",
    "    pass"
   ]
  },
  {
   "cell_type": "markdown",
   "metadata": {},
   "source": [
    "Test the functions that allow modification of the array of parameter values"
   ]
  },
  {
   "cell_type": "code",
   "execution_count": null,
   "metadata": {},
   "outputs": [],
   "source": [
    "try:\n",
    "    values[1] = 100.0\n",
    "    stixrude.cy_Forsterite_stixrude_set_param_values(values)\n",
    "    fmt = \"{0:<10.10s} {1:13.6e} {2:13.6e} {3:<10.10s}\"\n",
    "    for i in range(0,np):\n",
    "        print(fmt.format(names[i], values[i], stixrude.cy_Forsterite_stixrude_get_param_value(i), units[i]))\n",
    "except (AttributeError, NameError):\n",
    "    pass"
   ]
  },
  {
   "cell_type": "markdown",
   "metadata": {},
   "source": [
    "Test the functions that allow modification of a particular parameter value"
   ]
  },
  {
   "cell_type": "code",
   "execution_count": null,
   "metadata": {},
   "outputs": [],
   "source": [
    "try:\n",
    "    stixrude.cy_Forsterite_stixrude_set_param_value(1, 1.0)\n",
    "    fmt = \"{0:<10.10s} {1:13.6e} {2:13.6e} {3:<10.10s}\"\n",
    "    for i in range(0,np):\n",
    "        print(fmt.format(names[i], values[i], stixrude.cy_Forsterite_stixrude_get_param_value(i), units[i]))\n",
    "except AttributeError:\n",
    "    pass"
   ]
  },
  {
   "cell_type": "markdown",
   "metadata": {},
   "source": [
    "Evaluate parameter derivatives ..."
   ]
  },
  {
   "cell_type": "code",
   "execution_count": null,
   "metadata": {},
   "outputs": [],
   "source": [
    "try:\n",
    "    fmt = \"    {0:<10.10s} {1:13.6e}\"\n",
    "    for i in range(0, np):\n",
    "        print ('Derivative with respect to parameter: ', names[i], ' of')\n",
    "        print (fmt.format('G', stixrude.cy_Forsterite_stixrude_dparam_g(t, p, i)))\n",
    "        print (fmt.format('dGdT', stixrude.cy_Forsterite_stixrude_dparam_dgdt(t, p, i)))\n",
    "        print (fmt.format('dGdP', stixrude.cy_Forsterite_stixrude_dparam_dgdp(t, p, i)))\n",
    "        print (fmt.format('d2GdT2', stixrude.cy_Forsterite_stixrude_dparam_d2gdt2(t, p, i)))\n",
    "        print (fmt.format('d2GdTdP', stixrude.cy_Forsterite_stixrude_dparam_d2gdtdp(t, p, i)))\n",
    "        print (fmt.format('d2GdP2', stixrude.cy_Forsterite_stixrude_dparam_d2gdp2(t, p, i)))\n",
    "        print (fmt.format('d3GdT3', stixrude.cy_Forsterite_stixrude_dparam_d3gdt3(t, p, i)))\n",
    "        print (fmt.format('d3GdT2dP', stixrude.cy_Forsterite_stixrude_dparam_d3gdt2dp(t, p, i)))\n",
    "        print (fmt.format('d3GdTdP2', stixrude.cy_Forsterite_stixrude_dparam_d3gdtdp2(t, p, i)))\n",
    "        print (fmt.format('d3GdP3', stixrude.cy_Forsterite_stixrude_dparam_d3gdp3(t, p, i)))\n",
    "except (AttributeError, TypeError):\n",
    "    pass"
   ]
  },
  {
   "cell_type": "markdown",
   "metadata": {},
   "source": [
    "## Time execution of the code"
   ]
  },
  {
   "cell_type": "code",
   "execution_count": null,
   "metadata": {},
   "outputs": [],
   "source": [
    "try:\n",
    "    %timeit stixrude.cy_Forsterite_stixrude_calib_g(t,p)\n",
    "except AttributeError:\n",
    "    pass\n",
    "try:\n",
    "    %timeit stixrude.cy_Forsterite_stixrude_g(t,p)\n",
    "except AttributeError:\n",
    "    pass"
   ]
  },
  {
   "cell_type": "markdown",
   "metadata": {},
   "source": [
    "## Test the generated code against the standard Stixrude code base"
   ]
  },
  {
   "cell_type": "code",
   "execution_count": null,
   "metadata": {},
   "outputs": [],
   "source": [
    "from thermoengine import model as md\n",
    "stixrudeDB = md.Database(database=\"Stixrude\")"
   ]
  },
  {
   "cell_type": "code",
   "execution_count": null,
   "metadata": {},
   "outputs": [],
   "source": [
    "abbrv = \"\"\n",
    "for full_name, abbrv in zip(stixrudeDB.phase_info.phase_name,stixrudeDB.phase_info.abbrev):\n",
    "    if phase_name == full_name:\n",
    "        break\n",
    "refModel = stixrudeDB.get_phase(abbrv)"
   ]
  },
  {
   "cell_type": "code",
   "execution_count": null,
   "metadata": {},
   "outputs": [],
   "source": [
    "import math\n",
    "fmt = \"{0:<10.10s} {1:13.6e} {2:13.6e} {3:13.6e} {4:6.2f}%\"\n",
    "fmts = \"{0:<10.10s} {1:13.6e}\"\n",
    "try:\n",
    "    x = stixrude.cy_Forsterite_stixrude_g(t,p)\n",
    "    y = refModel.gibbs_energy(t,p)\n",
    "    print(fmt.format('G', x, y, x-y, 100.0*math.fabs((x-y)/y)))\n",
    "    x = stixrude.cy_Forsterite_stixrude_dgdt(t,p)\n",
    "    y = -refModel.entropy(t,p)\n",
    "    print(fmt.format('dGdT', x, y, x-y, 100.0*math.fabs((x-y)/y)))\n",
    "    x = stixrude.cy_Forsterite_stixrude_dgdp(t,p)\n",
    "    y = refModel.volume(t,p)\n",
    "    print(fmt.format('dGdP', x, y, x-y, 100.0*math.fabs((x-y)/y))) \n",
    "    x = stixrude.cy_Forsterite_stixrude_d2gdt2(t,p)\n",
    "    print(fmts.format('d2GdT2', x))\n",
    "    x = stixrude.cy_Forsterite_stixrude_d2gdtdp(t,p)\n",
    "    print(fmts.format('d2GdTdP', x))\n",
    "    x = stixrude.cy_Forsterite_stixrude_d2gdp2(t,p)\n",
    "    print(fmts.format('d2GdP2', x))\n",
    "    x = stixrude.cy_Forsterite_stixrude_d3gdt3(t,p)\n",
    "    print(fmts.format('d3GdT3', x))\n",
    "    x = stixrude.cy_Forsterite_stixrude_d3gdt2dp(t,p)\n",
    "    print(fmts.format('d3GdT2dP', x))\n",
    "    x = stixrude.cy_Forsterite_stixrude_d3gdtdp2(t,p)\n",
    "    print(fmts.format('d3GdTdP2', x))\n",
    "    x = stixrude.cy_Forsterite_stixrude_d3gdp3(t,p)\n",
    "    print(fmts.format('d3GdP3', x))\n",
    "    x = stixrude.cy_Forsterite_stixrude_s(t,p)\n",
    "    y = refModel.entropy(t,p)\n",
    "    print(fmt.format('S', x, y, x-y, 100.0*math.fabs((x-y)/y)))\n",
    "    x = stixrude.cy_Forsterite_stixrude_v(t,p)\n",
    "    y = refModel.volume(t,p)\n",
    "    print(fmt.format('V', x, y, x-y, 100.0*math.fabs((x-y)/y)))\n",
    "    x = stixrude.cy_Forsterite_stixrude_cv(t,p)\n",
    "    print(fmts.format('Cv', x))\n",
    "    x = stixrude.cy_Forsterite_stixrude_cp(t,p)\n",
    "    y = refModel.heat_capacity(t,p)\n",
    "    print(fmt.format('Cp', x, y, x-y, 100.0*math.fabs((x-y)/y)))\n",
    "    x = stixrude.cy_Forsterite_stixrude_dcpdt(t,p)\n",
    "    print(fmts.format('dCpdT', x))\n",
    "    x = stixrude.cy_Forsterite_stixrude_alpha(t,p)\n",
    "    print(fmts.format('alpha', x))\n",
    "    x = stixrude.cy_Forsterite_stixrude_beta(t,p)\n",
    "    print(fmts.format('beta', x))\n",
    "    x = stixrude.cy_Forsterite_stixrude_K(t,p)\n",
    "    print(fmts.format('K', x))\n",
    "    x = stixrude.cy_Forsterite_stixrude_Kp(t,p)\n",
    "    print(fmts.format('Kp', x))\n",
    "except AttributeError:\n",
    "    pass\n",
    "try:\n",
    "    x = stixrude.cy_Forsterite_stixrude_calib_g(t,p)\n",
    "    y = refModel.gibbs_energy(t,p)\n",
    "    print(fmt.format('G', x, y, x-y, 100.0*math.fabs((x-y)/y)))\n",
    "    x = stixrude.cy_Forsterite_stixrude_calib_dgdt(t,p)\n",
    "    y = -refModel.entropy(t,p)\n",
    "    print(fmt.format('dGdT', x, y, x-y, 100.0*math.fabs((x-y)/y)))\n",
    "    x = stixrude.cy_Forsterite_stixrude_calib_dgdp(t,p)\n",
    "    y = refModel.volume(t,p)\n",
    "    print(fmt.format('dGdP', x, y, x-y, 100.0*math.fabs((x-y)/y))) \n",
    "    x = stixrude.cy_Forsterite_stixrude_calib_d2gdt2(t,p)\n",
    "    print(fmts.format('d2GdT2', x))\n",
    "    x = stixrude.cy_Forsterite_stixrude_calib_d2gdtdp(t,p)\n",
    "    print(fmts.format('d2GdTdP', x))\n",
    "    x = stixrude.cy_Forsterite_stixrude_calib_d2gdp2(t,p)\n",
    "    print(fmts.format('d2GdP2', x))\n",
    "    x = stixrude.cy_Forsterite_stixrude_calib_d3gdt3(t,p)\n",
    "    print(fmts.format('d3GdT3', x))\n",
    "    x = stixrude.cy_Forsterite_stixrude_calib_d3gdt2dp(t,p)\n",
    "    print(fmts.format('d3GdT2dP', x))\n",
    "    x = stixrude.cy_Forsterite_stixrude_calib_d3gdtdp2(t,p)\n",
    "    print(fmts.format('d3GdTdP2', x))\n",
    "    x = stixrude.cy_Forsterite_stixrude_calib_d3gdp3(t,p)\n",
    "    print(fmts.format('d3GdP3', x))\n",
    "    x = stixrude.cy_Forsterite_stixrude_calib_s(t,p)\n",
    "    y = refModel.entropy(t,p)\n",
    "    print(fmt.format('S', x, y, x-y, 100.0*math.fabs((x-y)/y)))\n",
    "    x = stixrude.cy_Forsterite_stixrude_calib_v(t,p)\n",
    "    y = refModel.volume(t,p)\n",
    "    print(fmt.format('V', x, y, x-y, 100.0*math.fabs((x-y)/y)))\n",
    "    x = stixrude.cy_Forsterite_stixrude_calib_cv(t,p)\n",
    "    print(fmts.format('Cv', x))\n",
    "    x = stixrude.cy_Forsterite_stixrude_calib_cp(t,p)\n",
    "    y = refModel.heat_capacity(t,p)\n",
    "    print(fmt.format('Cp', x, y, x-y, 100.0*math.fabs((x-y)/y)))\n",
    "    x = stixrude.cy_Forsterite_stixrude_calib_dcpdt(t,p)\n",
    "    print(fmts.format('dCpdT', x))\n",
    "    x = stixrude.cy_Forsterite_stixrude_calib_alpha(t,p)\n",
    "    print(fmts.format('alpha', x))\n",
    "    x = stixrude.cy_Forsterite_stixrude_calib_beta(t,p)\n",
    "    print(fmts.format('beta', x))\n",
    "    x = stixrude.cy_Forsterite_stixrude_calib_K(t,p)\n",
    "    print(fmts.format('K', x))\n",
    "    x = stixrude.cy_Forsterite_stixrude_calib_Kp(t,p)\n",
    "    print(fmts.format('Kp', x))\n",
    "except AttributeError:\n",
    "    pass"
   ]
  },
  {
   "cell_type": "code",
   "execution_count": null,
   "metadata": {},
   "outputs": [],
   "source": []
  }
 ],
 "metadata": {
  "kernelspec": {
   "display_name": "Python 3 (ipykernel)",
   "language": "python",
   "name": "python3"
  },
  "language_info": {
   "codemirror_mode": {
    "name": "ipython",
    "version": 3
   },
   "file_extension": ".py",
   "mimetype": "text/x-python",
   "name": "python",
   "nbconvert_exporter": "python",
   "pygments_lexer": "ipython3",
   "version": "3.9.7"
  }
 },
 "nbformat": 4,
 "nbformat_minor": 4
}
