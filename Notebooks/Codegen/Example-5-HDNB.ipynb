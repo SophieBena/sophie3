{
 "cells": [
  {
   "cell_type": "markdown",
   "metadata": {},
   "source": [
    "# Helgeson, Delany, Nesbitt and Bird Standard State Code Generator \n",
    "\n",
    "Helgeson HC, Delany JM, Nesbitt HW, and Bird DK (1978) Summary and critique of the thermodynamic properties of rock-forming minerals, American Journal of Sciences, 278-A, 229pp\n",
    "\n",
    "This notebook generates code for all minerals in Helgeson et al. (1992) except quartz, which is treated in [another notebook](HDNB-Quartz.ipynb) as a special case. This notebook also generates code for gas phases.  It does not generate code for aqueous species, which are treated in a [separate notebook](HKF.ipynb).\n",
    "\n",
    "Four cases are tested:\n",
    "- Minerals without phase transitions\n",
    "- Minerals with one phase transition\n",
    "- Minerals with two phase transitions\n",
    "- Minerals with three phase transitions\n",
    "- A gas phase\n",
    "\n",
    "Required system packages and initialization ..."
   ]
  },
  {
   "cell_type": "code",
   "execution_count": null,
   "metadata": {},
   "outputs": [],
   "source": [
    "import pandas as pd\n",
    "import numpy as np\n",
    "import sympy as sym\n",
    "import pickle\n",
    "import math\n",
    "sym.init_printing()"
   ]
  },
  {
   "cell_type": "markdown",
   "metadata": {},
   "source": [
    "Required ENKI packages"
   ]
  },
  {
   "cell_type": "code",
   "execution_count": null,
   "metadata": {},
   "outputs": [],
   "source": [
    "from thermoengine import coder"
   ]
  },
  {
   "cell_type": "markdown",
   "metadata": {},
   "source": [
    "# Formulation\n",
    "There are three classes of terms:\n",
    "1. Terms that apply over the whole of $T$-, $P$-space, $T_r \\le T$, $P_r \\le P$\n",
    "2. Terms that apply over a specified range of $T$-, $P$-space, $(T_{r_\\lambda},P_{r_\\lambda}) \\le (T,P) \\le (T_\\lambda,P_\\lambda)$\n",
    "3. Terms that apply to a specific $T_t$ and $P_t$ and higher $T$, $P$, $T_t \\le T$, $P_t \\le P$\n",
    "\n",
    "### Helgeson et al. (1978) model structure\n",
    "The isobaric heat capacity is represented by a Maier-Kelley type expression, ${C_P} = a + bT + \\frac{c}{{{T^2}}}$. A phase transition is represented by a finite change in enthalpy and volume (and since the free energy change at the transition is zero, a dependent change in entropy) at some $T_t$. Above the transition temperature, which can be pressure dependent, a new heat capacity expression is used.  There can be up to three transitions for a single phase.  Gasses and most minerals do not undergo phase transition.  More than one phase transition is unusual."
   ]
  },
  {
   "cell_type": "markdown",
   "metadata": {},
   "source": [
    "Create a model class for the Gibbs free energy"
   ]
  },
  {
   "cell_type": "code",
   "execution_count": null,
   "metadata": {},
   "outputs": [],
   "source": [
    "model = coder.StdStateModel()"
   ]
  },
  {
   "cell_type": "markdown",
   "metadata": {},
   "source": [
    "Retrieve sympy symbols for model variables and reference conditions"
   ]
  },
  {
   "cell_type": "code",
   "execution_count": null,
   "metadata": {},
   "outputs": [],
   "source": [
    "T = model.get_symbol_for_t()\n",
    "P = model.get_symbol_for_p()\n",
    "Tr = model.get_symbol_for_tr()\n",
    "Pr = model.get_symbol_for_pr()"
   ]
  },
  {
   "cell_type": "markdown",
   "metadata": {},
   "source": [
    "- The isobaric heat capacity terms parameterized as: $C_P = a_0 + b_0 T + c_0 / T^2$\n",
    "- Third law entropy: $ S_{Tr,Pr} $\n",
    "- Enthalpy of formation from the elements, $ \\Delta H_{Tr,Pr} $\n",
    "- $T_t$ is the phase transition temperature\n",
    "- $\\Delta H_t$ is the transition enthalpy at $T_t$\n",
    "- $\\Delta V_t$ is the transition volume at $T_t$\n",
    "- ${\\left. {\\frac{{dP}}{{dT}}} \\right|_t}$ is the Clapyron slope of the phase transition at $T_t$.  Here the inverse is used in order to more easily parameterize the model."
   ]
  },
  {
   "cell_type": "code",
   "execution_count": null,
   "metadata": {},
   "outputs": [],
   "source": [
    "a0,b0,c0,a1,b1,c1,a2,b2,c2,a3,b3,c3 = sym.symbols('a0 b0 c0 a1 b1 c1 a2 b2 c2 a3 b3 c3')\n",
    "Tt1,Tt2,Tt3 = sym.symbols('Tt1 Tt2 Tt3')\n",
    "DeltaH1,DeltaH2,DeltaH3 = sym.symbols('DeltaH1 DeltaH2 DeltaH3')\n",
    "DeltaV1,DeltaV2,DeltaV3 = sym.symbols('DeltaV1 DeltaV2 DeltaV3')\n",
    "dPdT1,dPdT2,dPdT3 = sym.symbols('dPdT1 dPdT2 dPdT3')\n",
    "STrPr,GTrPr,VTrPr = sym.symbols('S_TrPr G_TrPr V_TrPr')"
   ]
  },
  {
   "cell_type": "markdown",
   "metadata": {},
   "source": [
    "Contributions applicable over the whole of *T*, *P* space ..."
   ]
  },
  {
   "cell_type": "code",
   "execution_count": null,
   "metadata": {},
   "outputs": [],
   "source": [
    "g = GTrPr - STrPr*(T-Tr) + VTrPr*(P-Pr)\n",
    "params = [('G_TrPr','J/m',GTrPr), ('S_TrPr','J/K-m',STrPr), ('V_TrPr', 'J/bar-m', VTrPr)]\n",
    "model.add_expression_to_model(g, params)"
   ]
  },
  {
   "cell_type": "markdown",
   "metadata": {},
   "source": [
    "Heat capacity contribution up to the first transition ..."
   ]
  },
  {
   "cell_type": "code",
   "execution_count": null,
   "metadata": {},
   "outputs": [],
   "source": [
    "Cp = a0+b0*T+c0/T**2\n",
    "g = sym.integrate(Cp,(T,Tr,T)) - T*sym.integrate(Cp/T,(T,Tr,T))\n",
    "params = [('a0','J/K-m',a0), ('b0','J/K^2-m',b0), ('c0','J-K/m',c0), ('Tt1','K',Tt1)]\n",
    "model.add_expression_to_model(g, params, exp_type='restricted', lower_limits=(None,None), upper_limits=(Tt1,None))\n",
    "gAtTt1 = g.subs(T, Tt1)"
   ]
  },
  {
   "cell_type": "markdown",
   "metadata": {},
   "source": [
    "First order phase transition contribution at the first transition ..."
   ]
  },
  {
   "cell_type": "code",
   "execution_count": null,
   "metadata": {},
   "outputs": [],
   "source": [
    "g = -(T-Tt1)*DeltaH1/Tt1\n",
    "params = [('DeltaH1','J/m',DeltaH1)]\n",
    "model.add_expression_to_model(g, params, exp_type='restricted', lower_limits=(Tt1,None), upper_limits=(None,None))\n",
    "P1 = Pr + dPdT1*(T-Tt1)\n",
    "g = (P-Pr)*DeltaV1\n",
    "params = [('DeltaV1','J/bar-m',DeltaV1), ('dPdT1','bar/K',dPdT1)]\n",
    "model.add_expression_to_model(g, params, exp_type='restricted', lower_limits=(Tt1,None), upper_limits=(None,P1)) "
   ]
  },
  {
   "cell_type": "markdown",
   "metadata": {},
   "source": [
    "Heat capacity contribution above the first transition and up to the second transition ..."
   ]
  },
  {
   "cell_type": "code",
   "execution_count": null,
   "metadata": {},
   "outputs": [],
   "source": [
    "Cp = a1+b1*T+c1/T**2\n",
    "g = sym.integrate(Cp,(T,Tt1,T)) - T*sym.integrate(Cp/T,(T,Tt1,T))\n",
    "params = [('a1','J/K-m',a1), ('b1','J/K^2-m',b1), ('c1','J-K/m',c1), ('Tt2','K',Tt2)]\n",
    "model.add_expression_to_model(g + gAtTt1, params, exp_type='restricted', lower_limits=(Tt1,None), upper_limits=(Tt2,None))\n",
    "gAtTt2 = g.subs(T, Tt2)"
   ]
  },
  {
   "cell_type": "markdown",
   "metadata": {},
   "source": [
    "First order phase transition contribution at the second transition ..."
   ]
  },
  {
   "cell_type": "code",
   "execution_count": null,
   "metadata": {},
   "outputs": [],
   "source": [
    "g = -(T-Tt2)*DeltaH2/Tt2\n",
    "params = [('DeltaH2','J/m',DeltaH2)]\n",
    "model.add_expression_to_model(g, params, exp_type='restricted', lower_limits=(Tt2,None), upper_limits=(None,None))\n",
    "P2 = Pr + dPdT2*(T-Tt2)\n",
    "g = (P-Pr)*DeltaV2\n",
    "params = [('DeltaV2','J/bar-m',DeltaV2), ('dPdT2','bar/K',dPdT2)]\n",
    "model.add_expression_to_model(g, params, exp_type='restricted', lower_limits=(Tt2, None), upper_limits=(None, P2))"
   ]
  },
  {
   "cell_type": "markdown",
   "metadata": {},
   "source": [
    "Heat capacity contribution above the second transition and up to the third transition ..."
   ]
  },
  {
   "cell_type": "code",
   "execution_count": null,
   "metadata": {},
   "outputs": [],
   "source": [
    "Cp = a2+b2*T+c2/T**2\n",
    "g = sym.integrate(Cp,(T,Tt2,T)) - T*sym.integrate(Cp/T,(T,Tt2,T))\n",
    "params = [('a2','J/K-m',a2), ('b2','J/K^2-m',b2), ('c2','J-K/m',c2), ('Tt3','K',Tt3)]\n",
    "model.add_expression_to_model(g + gAtTt1 + gAtTt2, params, exp_type='restricted', lower_limits=(Tt2,None), upper_limits=(Tt3,None))\n",
    "gAtTt3 = g.subs(T, Tt3)"
   ]
  },
  {
   "cell_type": "markdown",
   "metadata": {},
   "source": [
    "First order phase transition contribution at the third transition ..."
   ]
  },
  {
   "cell_type": "code",
   "execution_count": null,
   "metadata": {},
   "outputs": [],
   "source": [
    "g = -(T-Tt3)*DeltaH3/Tt3\n",
    "params = [('DeltaH3','J/m',DeltaH3)]\n",
    "model.add_expression_to_model(g, params, exp_type='restricted', lower_limits=(Tt3,None), upper_limits=(None,None))\n",
    "P3 = Pr + dPdT3*(T-Tt3)\n",
    "g = (P-Pr)*DeltaV3\n",
    "params = [('DeltaV3','J/bar-m',DeltaV3), ('dPdT3','bar/K',dPdT3)]\n",
    "model.add_expression_to_model(g, params, exp_type='restricted', lower_limits=(Tt3,None), upper_limits=(None,P3))"
   ]
  },
  {
   "cell_type": "markdown",
   "metadata": {},
   "source": [
    "Heat capacity contribution above the third transition and up to the third transition ..."
   ]
  },
  {
   "cell_type": "code",
   "execution_count": null,
   "metadata": {},
   "outputs": [],
   "source": [
    "Cp = a3+b3*T+c3/T**2\n",
    "g = sym.integrate(Cp,(T,Tt3,T)) - T*sym.integrate(Cp/T,(T,Tt3,T))\n",
    "params = [('a3','J/K-m',a3), ('b3','J/K^2-m',b3), ('c3','J-K/m',c3)]\n",
    "model.add_expression_to_model(g + gAtTt1 + gAtTt2 + gAtTt3, params, exp_type='restricted', lower_limits=(Tt3,None), \n",
    "                              upper_limits=(None,None))"
   ]
  },
  {
   "cell_type": "markdown",
   "metadata": {},
   "source": [
    "# Code Print the Model, compile the code and link a Python module\n",
    "Name the model class"
   ]
  },
  {
   "cell_type": "code",
   "execution_count": null,
   "metadata": {},
   "outputs": [],
   "source": [
    "model.set_module_name('hdnb')"
   ]
  },
  {
   "cell_type": "markdown",
   "metadata": {},
   "source": [
    "## Retrieve the Helgeson et al. (1978) database ...\n",
    "Load a SLOP file, which consists of dictionaries of Pandas dataframes, and extract the parameters of a phase from the one of the dataframes.  "
   ]
  },
  {
   "cell_type": "code",
   "execution_count": null,
   "metadata": {},
   "outputs": [],
   "source": [
    "with open('slop16_v3_1.dict', 'rb') as pickle_file:\n",
    "    slop_d = pickle.load(pickle_file)"
   ]
  },
  {
   "cell_type": "markdown",
   "metadata": {},
   "source": [
    "Contents of the SLOP dictionary ..."
   ]
  },
  {
   "cell_type": "code",
   "execution_count": null,
   "metadata": {},
   "outputs": [],
   "source": [
    "for key in slop_d.keys():\n",
    "    print ('key:', key)"
   ]
  },
  {
   "cell_type": "markdown",
   "metadata": {},
   "source": [
    "### Select select which class of minerals and gasses to test ..."
   ]
  },
  {
   "cell_type": "code",
   "execution_count": null,
   "metadata": {},
   "outputs": [],
   "source": [
    "test_min_no_transitions = True\n",
    "test_min_one_transition = False\n",
    "test_min_two_transitions = False\n",
    "test_min_three_transitions = False\n",
    "test_gasses = False\n",
    "test_case_no_transitions = 'Calcite'\n",
    "test_case_one_transition = 'Ferrosilite' # 'Ferrosilite' 'Cristobalite' 'Albite'\n",
    "test_case_two_transitions = 'Enstatite'\n",
    "test_case_three_transitions = 'Iron'\n",
    "test_case_gasses = 'Hydrogen'"
   ]
  },
  {
   "cell_type": "code",
   "execution_count": null,
   "metadata": {},
   "outputs": [],
   "source": [
    "ref_properties = {\n",
    "    'Calcite':{'T':1000.0, 'P':10000.0, 'G':-288869.4, 'H':-261265.3, 'S':52.88013, 'V':36.934, 'Cp':29.6},\n",
    "    'Ferrosilite':{'T':1000.0, 'P':10000.0, 'G':-288053.7, 'H':-258018.7, 'S':54.55396, 'V':33.008, 'Cp':32.175},\n",
    "    'Enstatite':{'T':1600.0, 'P':1000.0,  'G':-403698.9, 'H':-332978.2, 'S':60.19175, 'V':32.386, 'Cp':29.26},\n",
    "    'Iron':{'T':2000.0, 'P':1000.0,  'G':0.0,       'H':16021.59,  'S':22.98924, 'V':7.092,  'Cp':9.94},\n",
    "    'Hydrogen':{'T':2000.0, 'P':1000.0,  'G':-68105.93, 'H':12655.64,  'S':45.03699, 'V':0.0,    'Cp':8.083},\n",
    "    'Cristobalite':{'T':1000.0, 'P':10000.0, 'G':-212158.5, 'H':-199867.5, 'S':28.24339, 'V':25.74, 'Cp':16.711},\n",
    "    'Albite':{'T':1000.0, 'P':10000.0, 'G':-928580.2, 'H':-866950.8, 'S':129.799, 'V':100.25, 'Cp':80.4186}\n",
    "    #'Albite':{'T':450.0, 'P':10000.0, 'G':-871655.2, 'H':-907261.3, 'S':72.28305, 'V':100.25, 'Cp':60.54265}\n",
    "}"
   ]
  },
  {
   "cell_type": "markdown",
   "metadata": {},
   "source": [
    "### Retrieve test phase properties from appropriate dataframe ..."
   ]
  },
  {
   "cell_type": "code",
   "execution_count": null,
   "metadata": {},
   "outputs": [],
   "source": [
    "if test_min_no_transitions:\n",
    "    min_df = slop_d.get(\"mineral_no_transitions\")\n",
    "    min_name = test_case_no_transitions\n",
    "elif test_min_one_transition:\n",
    "    min_df = slop_d.get(\"mineral_one_transition\")\n",
    "    min_name = test_case_one_transition\n",
    "elif test_min_two_transitions:\n",
    "    min_df = slop_d.get(\"mineral_two_transitions\")\n",
    "    min_name = test_case_two_transitions\n",
    "elif test_min_three_transitions:\n",
    "    min_df = slop_d.get(\"mineral_three_transitions\")\n",
    "    min_name = test_case_three_transitions\n",
    "elif test_gasses:\n",
    "    min_df = slop_d.get(\"gasses\")\n",
    "    min_name = test_case_gasses\n",
    "\n",
    "labels = min_df.columns.tolist()\n",
    "if test_gasses:\n",
    "    content = min_df.loc[min_df['Struct_formula'] == min_name].get_values().tolist()[0]\n",
    "else:\n",
    "    content = min_df.loc[min_df['Name'] == min_name].get_values().tolist()[0]\n",
    "phase = dict(zip(labels,content))\n",
    "for key in phase.keys():\n",
    "    try:\n",
    "        if np.isnan(phase[key]):\n",
    "            phase[key] = '0.0'\n",
    "    except (TypeError):\n",
    "        pass\n",
    "    print (\"{0:<25.25s} {1:20.20s}\".format(key, phase[key]))"
   ]
  },
  {
   "cell_type": "markdown",
   "metadata": {},
   "source": [
    "Load parameters into a dictionary for code creation ..."
   ]
  },
  {
   "cell_type": "code",
   "execution_count": null,
   "metadata": {},
   "outputs": [],
   "source": [
    "calToJoules = 4.184\n",
    "param_dict = {\n",
    "    'S_TrPr':float(phase['S (cal/K-m)'])*calToJoules,\n",
    "    'G_TrPr':float(phase['deltaG (cal/m)'])*calToJoules,\n",
    "    'V_TrPr':float(phase['V (cc/m)'])/10.0, # J/bar-m\n",
    "    'a0':float(phase['a (cal/K-m)'])*calToJoules,\n",
    "    'b0':float(phase['b (10^3 cal/K^2-m)'])*calToJoules/1000.0,\n",
    "    'c0':float(phase['c (10^-5 cal-K/m)'])*calToJoules*100000.0,\n",
    "    'Tt1':max(float(phase['Tmax (K)']), 2273.15),\n",
    "    'DeltaH1':0.0,\n",
    "    'DeltaV1':0.0,\n",
    "    'dPdT1':0.0,\n",
    "    'a1':0.0,\n",
    "    'b1':0.0,\n",
    "    'c1':0.0,\n",
    "    'Tt2':max(float(phase['Tmax (K)']), 2273.15),\n",
    "    'DeltaH2':0.0,\n",
    "    'DeltaV2':0.0,\n",
    "    'dPdT2':0.0,\n",
    "    'a2':0.0,\n",
    "    'b2':0.0,\n",
    "    'c2':0.0,\n",
    "    'Tt3':max(float(phase['Tmax (K)']), 2273.15),\n",
    "    'DeltaH3':0.0,\n",
    "    'DeltaV3':0.0,\n",
    "    'dPdT3':0.0,\n",
    "    'a3':0.0,\n",
    "    'b3':0.0,\n",
    "    'c3':0.0,\n",
    "    'T_r':298.15,\n",
    "    'P_r':1.0\n",
    "}\n",
    "if test_min_one_transition or test_min_two_transitions or test_min_three_transitions:\n",
    "    param_dict['Tt1']     = float(phase['Tt1 (K)'])\n",
    "    param_dict['DeltaH1'] = float(phase['DeltaHt1 (cal/m)'])*calToJoules\n",
    "    param_dict['DeltaV1'] = float(phase['deltaVt1 (cc/m)'])/10.0 # J/bar-m\n",
    "    param_dict['dPdT1']   = float(phase['dPdTt1 (bar/K)'])\n",
    "    param_dict['a1']      = float(phase['at1 (cal/K-m)'])*calToJoules\n",
    "    param_dict['b1']      = float(phase['bt1 (10^3 cal/K^2-m)'])*calToJoules/1000.0\n",
    "    param_dict['c1']      = float(phase['ct1 (10^-5 cal-K/m)'])*calToJoules*100000.0\n",
    "    param_dict['Tt2']     = max(float(phase['Tmax (K)']), 2273.15)\n",
    "if test_min_two_transitions or test_min_three_transitions:\n",
    "    param_dict['Tt2']     = float(phase['Tt2 (K)'])\n",
    "    param_dict['DeltaH2'] = float(phase['DeltaHt2 (cal/m)'])*calToJoules\n",
    "    param_dict['DeltaV2'] = float(phase['deltaVt2 (cc/m)'])/10.0 # J/bar-m\n",
    "    param_dict['dPdT2']   = float(phase['dPdTt2 (bar/K)'])\n",
    "    param_dict['a2']      = float(phase['at2 (cal/K-m)'])*calToJoules\n",
    "    param_dict['b2']      = float(phase['bt2 (10^3 cal/K^2-m)'])*calToJoules/1000.0\n",
    "    param_dict['c2']      = float(phase['ct2 (10^-5 cal-K/m)'])*calToJoules*100000.0\n",
    "    param_dict['Tt3']     = max(float(phase['Tmax (K)']), 2273.15)\n",
    "if test_min_three_transitions:\n",
    "    param_dict['Tt3']     = float(phase['Tt3 (K)'])\n",
    "    param_dict['DeltaH3'] = float(phase['DeltaHt3 (cal/m)'])*calToJoules\n",
    "    param_dict['DeltaV3'] = float(phase['deltaVt3 (cc/m)'])/10.0 # J/bar-m\n",
    "    param_dict['dPdT3']   = float(phase['dPdTt3 (bar/K)'])\n",
    "    param_dict['a3']      = float(phase['at3 (cal/K-m)'])*calToJoules\n",
    "    param_dict['b3']      = float(phase['bt3 (10^3 cal/K^2-m)'])*calToJoules/1000.0\n",
    "    param_dict['c3']      = float(phase['ct3 (10^-5 cal-K/m)'])*calToJoules*100000.0\n",
    "\n",
    "# normally the next entry would be set to min_name, but here it is set to \n",
    "# generic to allow the testing functions to be applicable to all test cases \n",
    "phase_name = 'Generic' \n",
    "formula = 'Na(1)Al(1)Si(3)O(8)' if min_name == 'Albite' else phase['Formula']"
   ]
  },
  {
   "cell_type": "markdown",
   "metadata": {},
   "source": [
    "Make a working sub-directory and move down into the directory.  This is done so that generated files will not clash between alternate model configurations."
   ]
  },
  {
   "cell_type": "code",
   "execution_count": null,
   "metadata": {},
   "outputs": [],
   "source": [
    "model_working_dir = \"hdnb\"\n",
    "!mkdir -p {model_working_dir}\n",
    "%cd {model_working_dir}"
   ]
  },
  {
   "cell_type": "markdown",
   "metadata": {},
   "source": [
    "Note that the call to\n",
    "```\n",
    "model.create_code_module(phase=phase_name, formula=formula, params=param_dict)\n",
    "```\n",
    "generates fast code with unmodifiable model parameters and \"calibration-\" related functions.  The call to:\n",
    "```\n",
    "model.create_code_module(phase=phase_name, formula=formula, params=param_dict, module_type='calib')\n",
    "```\n",
    "generates code suitable for model parameter calibration.  \n",
    "model_type is \"fast\" or \"calib\""
   ]
  },
  {
   "cell_type": "code",
   "execution_count": null,
   "metadata": {},
   "outputs": [],
   "source": [
    "model_type = \"fast\""
   ]
  },
  {
   "cell_type": "code",
   "execution_count": null,
   "metadata": {},
   "outputs": [],
   "source": [
    "result = model.create_code_module(phase=phase_name, formula=formula, params=param_dict, module_type=model_type)"
   ]
  },
  {
   "cell_type": "markdown",
   "metadata": {},
   "source": [
    "## Import the new module and test the model"
   ]
  },
  {
   "cell_type": "code",
   "execution_count": null,
   "metadata": {},
   "outputs": [],
   "source": [
    "import hdnb\n",
    "%cd .."
   ]
  },
  {
   "cell_type": "markdown",
   "metadata": {},
   "source": [
    "Evaluate functions at temperature (K) and pressure (bars)"
   ]
  },
  {
   "cell_type": "code",
   "execution_count": null,
   "metadata": {},
   "outputs": [],
   "source": [
    "if test_min_no_transitions:\n",
    "    case_name = test_case_no_transitions\n",
    "elif test_min_one_transition:\n",
    "    case_name = test_case_one_transition\n",
    "elif test_min_two_transitions:\n",
    "    case_name = test_case_two_transitions\n",
    "elif test_min_three_transitions:\n",
    "    case_name = test_case_three_transitions\n",
    "elif test_gasses:\n",
    "    case_name = test_case_gasses\n",
    "t = ref_properties[case_name]['T']\n",
    "p = ref_properties[case_name]['P']"
   ]
  },
  {
   "cell_type": "markdown",
   "metadata": {},
   "source": [
    "### Available in both \"Fast\" and \"Calib\" code versions \n",
    "Execute the \"fast\" or \"calibration\" code metadata retrieval functions:"
   ]
  },
  {
   "cell_type": "code",
   "execution_count": null,
   "metadata": {},
   "outputs": [],
   "source": [
    "try:\n",
    "    print(hdnb.cy_Generic_hdnb_identifier())\n",
    "    print(hdnb.cy_Generic_hdnb_name())\n",
    "    print(hdnb.cy_Generic_hdnb_formula())\n",
    "    print(hdnb.cy_Generic_hdnb_mw())\n",
    "    print(hdnb.cy_Generic_hdnb_elements())\n",
    "except AttributeError:\n",
    "    pass\n",
    "try:\n",
    "    print(hdnb.cy_Generic_hdnb_calib_identifier())\n",
    "    print(hdnb.cy_Generic_hdnb_calib_name())\n",
    "    print(hdnb.cy_Generic_hdnb_calib_formula())\n",
    "    print(hdnb.cy_Generic_hdnb_calib_mw())\n",
    "    print(hdnb.cy_Generic_hdnb_calib_elements())\n",
    "except AttributeError:\n",
    "    pass"
   ]
  },
  {
   "cell_type": "markdown",
   "metadata": {},
   "source": [
    "Execute the standard thermodynamic property retrieval functions:"
   ]
  },
  {
   "cell_type": "code",
   "execution_count": null,
   "metadata": {},
   "outputs": [],
   "source": [
    "fmt = \"{0:<10.10s} {1:13.6e} {2:<10.10s}\"\n",
    "fmc = \"{0:<10.10s} {1:13.6e} {2:13.6e} {3:10.3f} % {4:<10.10s}\"\n",
    "try:\n",
    "    print(fmc.format('G', hdnb.cy_Generic_hdnb_g(t,p), \n",
    "                     ref_properties[case_name]['G']*4.184, \n",
    "                     100.0*(hdnb.cy_Generic_hdnb_g(t,p)-ref_properties[case_name]['G']*4.184)/\n",
    "                     ((ref_properties[case_name]['G']*4.184) if ref_properties[case_name]['G'] != 0 else 1.0), \n",
    "                     'J/m'))\n",
    "    print(fmc.format('dGdT', hdnb.cy_Generic_hdnb_dgdt(t,p), \n",
    "                     -ref_properties[case_name]['S']*4.184, \n",
    "                     100.0*(hdnb.cy_Generic_hdnb_dgdt(t,p)+ref_properties[case_name]['S']*4.184)/(-ref_properties[case_name]['S']*4.184), \n",
    "                     'J/K-m'))\n",
    "    print(fmc.format('dGdP', hdnb.cy_Generic_hdnb_dgdp(t,p), \n",
    "                     ref_properties[case_name]['V']/10.0, \n",
    "                     100.0*(hdnb.cy_Generic_hdnb_dgdp(t,p)-ref_properties[case_name]['V']/10.0)/\n",
    "                     ((ref_properties[case_name]['V']/10.0) if ref_properties[case_name]['V'] != 0.0 else 1.0), \n",
    "                     'J/bar-m'))\n",
    "    print(fmc.format('d2GdT2', hdnb.cy_Generic_hdnb_d2gdt2(t,p), \n",
    "                     -ref_properties[case_name]['Cp']*4.184/t, \n",
    "                     100.0*(hdnb.cy_Generic_hdnb_d2gdt2(t,p)+ref_properties[case_name]['Cp']*4.184/t)/\n",
    "                     (ref_properties[case_name]['Cp']*4.184/t), \n",
    "                     'J/K^2-m'))\n",
    "    print(fmt.format('d2GdTdP', hdnb.cy_Generic_hdnb_d2gdtdp(t,p), 'J/K-bar-m'))\n",
    "    print(fmt.format('d2GdP2', hdnb.cy_Generic_hdnb_d2gdp2(t,p), 'J/bar^2-m'))\n",
    "    print(fmt.format('d3GdT3', hdnb.cy_Generic_hdnb_d3gdt3(t,p), 'J/K^3-m'))\n",
    "    print(fmt.format('d3GdT2dP', hdnb.cy_Generic_hdnb_d3gdt2dp(t,p), 'J/K^2-bar-m'))\n",
    "    print(fmt.format('d3GdTdP2', hdnb.cy_Generic_hdnb_d3gdtdp2(t,p), 'J/K-bar^2-m'))\n",
    "    print(fmt.format('d3GdP3', hdnb.cy_Generic_hdnb_d3gdp3(t,p), 'J/bar^3-m'))\n",
    "    print(fmc.format('S', hdnb.cy_Generic_hdnb_s(t,p), \n",
    "                     ref_properties[case_name]['S']*4.184, \n",
    "                     100.0*(hdnb.cy_Generic_hdnb_s(t,p)-ref_properties[case_name]['S']*4.184)/(ref_properties[case_name]['S']*4.184), \n",
    "                     'J/K-m'))\n",
    "    print(fmc.format('V', hdnb.cy_Generic_hdnb_v(t,p), \n",
    "                     ref_properties[case_name]['V']/10.0, \n",
    "                     100.0*(hdnb.cy_Generic_hdnb_dgdp(t,p)-ref_properties[case_name]['V']/10.0)/\n",
    "                     ((ref_properties[case_name]['V']/10.0) if ref_properties[case_name]['V'] != 0.0 else 1.0), \n",
    "                     'J/bar-m'))\n",
    "    print(fmt.format('Cv', hdnb.cy_Generic_hdnb_cv(t,p), 'J/K-m'))\n",
    "    print(fmc.format('Cp', hdnb.cy_Generic_hdnb_cp(t,p), \n",
    "                     ref_properties[case_name]['Cp']*4.184, \n",
    "                     100.0*(hdnb.cy_Generic_hdnb_cp(t,p)-ref_properties[case_name]['Cp']*4.184)/(ref_properties[case_name]['Cp']*4.184), \n",
    "                     'J/K-m'))\n",
    "    print(fmt.format('dCpdT', hdnb.cy_Generic_hdnb_dcpdt(t,p), 'J/K^2-m'))\n",
    "    print(fmt.format('alpha', hdnb.cy_Generic_hdnb_alpha(t,p), '1/K'))\n",
    "    print(fmt.format('beta', hdnb.cy_Generic_hdnb_beta(t,p), '1/bar'))\n",
    "    print(fmt.format('K', hdnb.cy_Generic_hdnb_K(t,p), 'bar'))\n",
    "    print(fmt.format('Kp', hdnb.cy_Generic_hdnb_Kp(t,p), ''))\n",
    "except AttributeError:\n",
    "    pass\n",
    "try:\n",
    "    print(fmt.format('G', hdnb.cy_Generic_hdnb_calib_g(t,p), 'J/m'))\n",
    "    print(fmt.format('dGdT', hdnb.cy_Generic_hdnb_calib_dgdt(t,p), 'J/K-m'))\n",
    "    print(fmt.format('dGdP', hdnb.cy_Generic_hdnb_calib_dgdp(t,p), 'J/bar-m'))\n",
    "    print(fmt.format('d2GdT2', hdnb.cy_Generic_hdnb_calib_d2gdt2(t,p), 'J/K^2-m'))\n",
    "    print(fmt.format('d2GdTdP', hdnb.cy_Generic_hdnb_calib_d2gdtdp(t,p), 'J/K-bar-m'))\n",
    "    print(fmt.format('d2GdP2', hdnb.cy_Generic_hdnb_calib_d2gdp2(t,p), 'J/bar^2-m'))\n",
    "    print(fmt.format('d3GdT3', hdnb.cy_Generic_hdnb_calib_d3gdt3(t,p), 'J/K^3-m'))\n",
    "    print(fmt.format('d3GdT2dP', hdnb.cy_Generic_hdnb_calib_d3gdt2dp(t,p), 'J/K^2-bar-m'))\n",
    "    print(fmt.format('d3GdTdP2', hdnb.cy_Generic_hdnb_calib_d3gdtdp2(t,p), 'J/K-bar^2-m'))\n",
    "    print(fmt.format('d3GdP3', hdnb.cy_Generic_hdnb_calib_d3gdp3(t,p), 'J/bar^3-m'))\n",
    "    print(fmt.format('S', hdnb.cy_Generic_hdnb_calib_s(t,p), 'J/K-m'))\n",
    "    print(fmt.format('V', hdnb.cy_Generic_hdnb_calib_v(t,p), 'J/bar-m'))\n",
    "    print(fmt.format('Cv', hdnb.cy_Generic_hdnb_calib_cv(t,p), 'J/K-m'))\n",
    "    print(fmt.format('Cp', bhdnb.cy_Generic_hdnb_calib_cp(t,p), 'J/K-m'))\n",
    "    print(fmt.format('dCpdT', hdnb.cy_Generic_hdnb_calib_dcpdt(t,p), 'J/K^2-m'))\n",
    "    print(fmt.format('alpha', hdnb.cy_Generic_hdnb_calib_alpha(t,p), '1/K'))\n",
    "    print(fmt.format('beta', hdnb.cy_Generic_hdnb_calib_beta(t,p), '1/bar'))\n",
    "    print(fmt.format('K', hdnb.cy_Generic_hdnb_calib_K(t,p), 'bar'))\n",
    "    print(fmt.format('Kp', hdnb.cy_Generic_hdnb_calib_Kp(t,p), ''))\n",
    "except AttributeError:\n",
    "    pass"
   ]
  },
  {
   "cell_type": "markdown",
   "metadata": {},
   "source": [
    "### Available only in the \"Calib\" versions of generated code\n",
    "Execute the parameter value/metadata functions.  \n",
    "These functions are only defined for the \"calibration\" model code implementation:"
   ]
  },
  {
   "cell_type": "code",
   "execution_count": null,
   "metadata": {},
   "outputs": [],
   "source": [
    "try:\n",
    "    np = hdnb.cy_Generic_hdnb_get_param_number()\n",
    "    names = hdnb.cy_Generic_hdnb_get_param_names()\n",
    "    units = hdnb.cy_Generic_hdnb_get_param_units()\n",
    "    values = hdnb.cy_Generic_hdnb_get_param_values()\n",
    "    fmt = \"{0:<10.10s} {1:13.6e} {2:13.6e} {3:<10.10s}\"\n",
    "    for i in range(0,np):\n",
    "        print(fmt.format(names[i], values[i], hdnb.cy_Generic_hdnb_get_param_value(i), units[i]))\n",
    "except AttributeError:\n",
    "    pass"
   ]
  },
  {
   "cell_type": "markdown",
   "metadata": {},
   "source": [
    "Test the functions that allow modification of the array of parameter values"
   ]
  },
  {
   "cell_type": "code",
   "execution_count": null,
   "metadata": {},
   "outputs": [],
   "source": [
    "try:\n",
    "    values[1] = 100.0\n",
    "    hdnb.cy_Generic_hdnb_set_param_values(values)\n",
    "    fmt = \"{0:<10.10s} {1:13.6e} {2:13.6e} {3:<10.10s}\"\n",
    "    for i in range(0,np):\n",
    "        print(fmt.format(names[i], values[i], hdnb.cy_Generic_hdnb_get_param_value(i), units[i]))\n",
    "except (AttributeError, NameError):\n",
    "    pass"
   ]
  },
  {
   "cell_type": "markdown",
   "metadata": {},
   "source": [
    "Test the functions that allow modification of a particular parameter value"
   ]
  },
  {
   "cell_type": "code",
   "execution_count": null,
   "metadata": {},
   "outputs": [],
   "source": [
    "try:\n",
    "    hdnb.cy_Generic_hdnb_set_param_value(1, 1.0)\n",
    "    fmt = \"{0:<10.10s} {1:13.6e} {2:13.6e} {3:<10.10s}\"\n",
    "    for i in range(0,np):\n",
    "        print(fmt.format(names[i], values[i], hdnb.cy_Generic_hdnb_get_param_value(i), units[i]))\n",
    "except AttributeError:\n",
    "    pass"
   ]
  },
  {
   "cell_type": "markdown",
   "metadata": {},
   "source": [
    "Evaluate parameter derivatives ..."
   ]
  },
  {
   "cell_type": "code",
   "execution_count": null,
   "metadata": {},
   "outputs": [],
   "source": [
    "try:\n",
    "    fmt = \"    {0:<10.10s} {1:13.6e}\"\n",
    "    for i in range(0, np):\n",
    "        print ('Derivative with respect to parameter: ', names[i], ' of')\n",
    "        print (fmt.format('G', hdnb.cy_Generic_hdnb_dparam_g(t, p, i)))\n",
    "        print (fmt.format('dGdT', hdnb.cy_Generic_hdnb_dparam_dgdt(t, p, i)))\n",
    "        print (fmt.format('dGdP', hdnb.cy_Generic_hdnb_dparam_dgdp(t, p, i)))\n",
    "        print (fmt.format('d2GdT2', hdnb.cy_Generic_hdnb_dparam_d2gdt2(t, p, i)))\n",
    "        print (fmt.format('d2GdTdP', hdnb.cy_Generic_hdnb_dparam_d2gdtdp(t, p, i)))\n",
    "        print (fmt.format('d2GdP2', hdnb.cy_Generic_hdnb_dparam_d2gdp2(t, p, i)))\n",
    "        print (fmt.format('d3GdT3', hdnb.cy_Generic_hdnb_dparam_d3gdt3(t, p, i)))\n",
    "        print (fmt.format('d3GdT2dP', hdnb.cy_Generic_hdnb_dparam_d3gdt2dp(t, p, i)))\n",
    "        print (fmt.format('d3GdTdP2', hdnb.cy_Generic_hdnb_dparam_d3gdtdp2(t, p, i)))\n",
    "        print (fmt.format('d3GdP3', hdnb.cy_Generic_hdnb_dparam_d3gdp3(t, p, i)))\n",
    "except (AttributeError, TypeError):\n",
    "    pass"
   ]
  },
  {
   "cell_type": "markdown",
   "metadata": {},
   "source": [
    "## Time execution of the code"
   ]
  },
  {
   "cell_type": "code",
   "execution_count": null,
   "metadata": {},
   "outputs": [],
   "source": [
    "try:\n",
    "    %timeit hdnb.cy_Generic_hdnb_calib_g(t,p)\n",
    "except AttributeError:\n",
    "    pass\n",
    "try:\n",
    "    %timeit hdnb.cy_Generic_hdnb_g(t,p)\n",
    "except AttributeError:\n",
    "    pass"
   ]
  },
  {
   "cell_type": "code",
   "execution_count": null,
   "metadata": {},
   "outputs": [],
   "source": []
  }
 ],
 "metadata": {
  "kernelspec": {
   "display_name": "Python 3",
   "language": "python",
   "name": "python3"
  },
  "language_info": {
   "codemirror_mode": {
    "name": "ipython",
    "version": 3
   },
   "file_extension": ".py",
   "mimetype": "text/x-python",
   "name": "python",
   "nbconvert_exporter": "python",
   "pygments_lexer": "ipython3",
   "version": "3.7.6"
  }
 },
 "nbformat": 4,
 "nbformat_minor": 4
}
