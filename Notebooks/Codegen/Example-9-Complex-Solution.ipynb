{
 "cells": [
  {
   "cell_type": "markdown",
   "metadata": {},
   "source": [
    "# Complex Solution SymPy Code Generation\n",
    "## Solutions with Cation Ordering\n",
    "Generation of configurational entropy (${S^{config}}$) using combinatorics coupled with $n^{th}$-order Taylor expansion of the non-configurational Gibbs free energy (${G^*}$).  The final expression for the Gibbs free energy of solution is given by $G = -{T}{S^{config}} + {G^*}$.  \n",
    "\n",
    "This notebook illustrates construction of this problem using the coder module of the thermoengine package.  \n",
    "\n",
    "Generally, the Taylor expansion of ${G^*}$ is taken to order two (equivalent to regular solution theory) and cation-ordering between symmetrically non-equivalent crystallographic sites is assumed to be non-convergent, i.e. the random ordering state is not acheived at finite temperature.  Alternately, cation-ordering may be modeled as convergent, inducing a symmetry breaking phase transition at finite temperature, which necessitates Taylor expansion of ${G^*}$ to at least $4^{th}$ order (in ordering parameter) with retention of only even powers of the ordering variable(s) in the expansion.  \n",
    "\n",
    "This notebook illustrates non-convergent ordering in a reciprocal solution model for orthpyroxene in the compositional space of the pyroxene quadrilateral: Mg<sub>2</sub>Si<sub>2</sub>O<sub>6</sub>-Fe<sub>2</sub>Si<sub>2</sub>O<sub>6</sub>-CaMgSi<sub>2</sub>O<sub>6</sub>-CaFeSi<sub>2</sub>O<sub>6</sub>"
   ]
  },
  {
   "cell_type": "code",
   "execution_count": null,
   "metadata": {},
   "outputs": [],
   "source": [
    "import pandas as pd\n",
    "import numpy as np\n",
    "import sympy as sym\n",
    "sym.init_printing()\n",
    "from thermoengine import coder\n",
    "from thermoengine import core"
   ]
  },
  {
   "cell_type": "markdown",
   "metadata": {},
   "source": [
    "## Complex Solution Properties - General structure of the model\n",
    "There are three terms:\n",
    "- Terms describing standard state contributions\n",
    "- Terms describing the configurational entropy of solution\n",
    "- Terms describing the excess enthalpy of solution  \n",
    "\n",
    "Assumptions:\n",
    "- There are $c$ components in the system\n",
    "- There may be more endmember species, $w$, than there are components, thereby allowing for reciprocal solutions\n",
    "- Cation ordering is permitted, which may be either convergent or non-convergent.  There may be zero or more cation ordering variables, $s$.\n",
    "- The configurational entropy formulation assumes random mixing on symmetrically distinct crystallographic sites\n",
    "- The excess enthalpy is described using a Taylor series expansion in compositional and ordering variables.  The order of the expansion is $\\nu$. "
   ]
  },
  {
   "cell_type": "markdown",
   "metadata": {},
   "source": [
    "## Number of solution components and number of solution species\n",
    "Note, that the example illustrated in this notebook - orthopyroxene in the system Mg<sub>2</sub>Si<sub>2</sub>O<sub>6</sub>-Fe<sub>2</sub>Si<sub>2</sub>O<sub>6</sub>-CaMgSi<sub>2</sub>O<sub>6</sub>-CaFeSi<sub>2</sub>O<sub>6</sub>, requires three endmember thermodynamic components but clearly has four endmember species.  This is an example of a recipocal solution. One of the species endmembers is compositionally redundent, but *not* energetically redundant.  Hence the Gibbs free energy change of the reaction:  \n",
    "Mg<sub>2</sub>Si<sub>2</sub>O<sub>6</sub> + 2 CaFeSi<sub>2</sub>O<sub>6</sub> = Fe<sub>2</sub>Si<sub>2</sub>O<sub>6</sub> + 2 CaMgSi<sub>2</sub>O<sub>6</sub>  \n",
    "is not zero, even though the concentration of the species Fe<sub>2</sub>Si<sub>2</sub>O<sub>6</sub> may be expressed as:  \n",
    "2 CaFeSi<sub>2</sub>O<sub>6</sub> - 2 CaMgSi<sub>2</sub>O<sub>6</sub> + Mg<sub>2</sub>Si<sub>2</sub>O<sub>6</sub>  \n",
    "Additionally, there is one variable that denotes the degree of cation ordering of Fe<sup>++</sup> and Mg over the M1 and M2 crystallographic sites in the pyroxene structure."
   ]
  },
  {
   "cell_type": "code",
   "execution_count": null,
   "metadata": {},
   "outputs": [],
   "source": [
    "nc = 3\n",
    "nw = 4\n",
    "ns = 1"
   ]
  },
  {
   "cell_type": "markdown",
   "metadata": {},
   "source": [
    "## Create a complex solution model\n",
    "A *complex* solution is one that includes ordering parameters as well as endmember thermodynamic components.  \n",
    "Instantiate the class with the specified number of endmember thermodynamic components and species"
   ]
  },
  {
   "cell_type": "code",
   "execution_count": null,
   "metadata": {},
   "outputs": [],
   "source": [
    "model = coder.ComplexSolnModel(nc=nc, ns=ns, nw=nw)"
   ]
  },
  {
   "cell_type": "markdown",
   "metadata": {},
   "source": [
    "## Retrieve primary compositional variables\n",
    "- $n$ is a vector of mole numbers of each component  \n",
    "- $n_T$ is the total number of moles in the solution\n",
    "- $s$ is a vector of ordering parameters\n",
    "\n",
    "### and construct a derived mole fraction variable\n",
    "- $X$ is a vector of mole fractions of thermodynamic components in the system\n",
    "\n",
    "### and a reduced set of independent composition variables\n",
    "- $r$ is a vector of independent mole fractions in the system. By convention, $r_{i-1}=X_i$, where $i$ ranges from the second index of $X$ up to $c$.  Hence the length of the vector $r$ is $c-1$"
   ]
  },
  {
   "cell_type": "code",
   "execution_count": null,
   "metadata": {},
   "outputs": [],
   "source": [
    "n = model.n\n",
    "nT = model.nT\n",
    "s = model.s\n",
    "X = n/nT\n",
    "r = X[1:]\n",
    "n, nT, X, r, s"
   ]
  },
  {
   "cell_type": "markdown",
   "metadata": {},
   "source": [
    "## Retrieve the temperature, pressure, and standard state chemical potentials\n",
    "- $T$ is temperature in $K$\n",
    "- $P$ is pressure in $bars$\n",
    "- $\\mu^o$ in Joules"
   ]
  },
  {
   "cell_type": "code",
   "execution_count": null,
   "metadata": {},
   "outputs": [],
   "source": [
    "T = model.get_symbol_for_t()\n",
    "P = model.get_symbol_for_p()\n",
    "mu = model.mu\n",
    "T,P,mu"
   ]
  },
  {
   "cell_type": "markdown",
   "metadata": {},
   "source": [
    "## Define the standard state contribution to solution properties"
   ]
  },
  {
   "cell_type": "code",
   "execution_count": null,
   "metadata": {},
   "outputs": [],
   "source": [
    "G_ss = (n.transpose()*mu)[0]\n",
    "G_ss"
   ]
  },
  {
   "cell_type": "markdown",
   "metadata": {},
   "source": [
    "## Define configurational entropy and configurational Gibbs free energy\n",
    "Configurational enropy is calculated by counting site configurations, that is the number of ways of mixing Fe<sup>++</sup>, Mg and Ca on the M2 site, $\\Omega^{M2}$,  times the number of ways of mixing Fe<sup>++</sup> and Mg on the M1 site, $\\Omega^{M1}$; configurations ($\\Omega$) equal  $\\Omega^{M1}\\Omega^{M2}$.  The assumption is made that the mixing on each site is random, i.e.  \n",
    "If there are two cations on site M1, and their mole fractions on that site are denoted $X$ and $Y$, and if there is one such sites in the formula unit, then the number of configurations, $\\Omega$, associted with ***random*** mixing of cations on that site is:    \n",
    "$\\Omega  = \\left[ {\\frac{{\\left( {X + Y} \\right)!}}{{X!Y!}}} \\right]$  \n",
    "and the molar configurational entropy conribution associated with these configurations is given by Boltzmann's law: ${{\\hat S}^{conf}} =  R\\log \\Omega$:  \n",
    "${{\\hat S}^{conf}} =  cR\\log \\left[ {\\frac{{\\left( {X + Y} \\right)!}}{{X!Y!}}} \\right]$  \n",
    "Using Stirlings approximation for large factorials, $\\log X! = X\\log X - X$, the configurational entropy can be written:  \n",
    "${{\\hat S}^{conf}} =  cR\\left[ - {X\\log X - Y\\log Y + \\left( {X + Y} \\right)\\log \\left( {X + Y} \\right)} \\right]$  \n",
    "\n",
    "Consequently, to utilize this appropach we must define site mole fractions in terms of our chosen set of independent compositional variables and ordering parameters.\n",
    "#### There are 5 site mole fractions:  \n",
    "$X_{Ca}^{M2}$, $X_{Mg}^{M2}$, $X_{{Fe}^{2+}}^{M2}$, $X_{Mg}^{M1}$, $X_{{Fe}^{2+}}^{M1}$  \n",
    "#### The requirement of filled sites requires:\n",
    "1. $X_{Ca}^{M2}$ + $X_{Mg}^{M2}$ + $X_{{Fe}^{2+}}^{M2}$ = 1\n",
    "2. $X_{Mg}^{M1}$ + $X_{{Fe}^{2+}}^{M1}$ =1\n",
    "\n",
    "#### Asuuming the endmembers are ordered as:\n",
    "- $n_1$, $X_1$, CaMgSi<sub>2</sub>O<sub>6</sub>\n",
    "- $n_2$, $X_2$, CaFeSi<sub>2</sub>O<sub>6</sub>\n",
    "- $n_3$, $X_3$, Mg<sub>2</sub>Si<sub>2</sub>O<sub>6</sub>\n",
    "\n",
    "#### There are two independent compositional variables:\n",
    "- CaMgSi<sub>2</sub>O<sub>6</sub> = $1-r_1-r_2$\n",
    "- CaFeSi<sub>2</sub>O<sub>6</sub> = $r_1$\n",
    "- Mg<sub>2</sub>Si<sub>2</sub>O<sub>6</sub> = $r_2$  \n",
    "\n",
    "#### The requirement of mass balance requires:\n",
    "3. $r_1$ = $X_{{Fe}^{2+}}^{M2}$ + $X_{{Fe}^{2+}}^{M1}$\n",
    "4. $r_2$ = 1 - $X_{Ca}^{M2}$\n",
    "\n",
    "#### There is one ordering parameter:\n",
    "5. $s_1$ = $X_{{Fe}^{2+}}^{M2}$ - $X_{Mg}^{M2}$\n",
    "\n",
    "#### Relations 1-5 may be solved simultaneously to give the following site mole fraction definitions:\n",
    "- $X_{Ca}^{M2}$ = $1-r_2$\n",
    "- $X_{Mg}^{M2}$ = $\\frac{r_2-s_1}{2}$\n",
    "- $X_{{Fe}^{2+}}^{M2}$ = $\\frac{r_2+s_1}{2}$\n",
    "- $X_{Mg}^{M1}$ = $1-r_1+\\frac{r_2+s_1}{2}$\n",
    "- $X_{{Fe}^{2+}}^{M1}$ = $r_1-\\frac{r_2+s_1}{2}$  \n",
    "\n",
    "While this system is fairly easy to solve by inspection, for more complex situations, assemble the relations in a list of equations that evaluate to zero, and automatiocally solve that system of equations using the sympy routine linsolve, i.e.  \n",
    "```\n",
    "system = [xCaM2 + xMgM2 + xFeM2 - 1, xMgM1 + xFeM1 - 1, xFeM2 + xFeM1 - r[0], 1 - xCaM2 - r[1],\n",
    "          xFeM2 - xMgM2 - s[0]]\n",
    "ans = sym.linsolve(system, xCaM2, xMgM2, xFeM2, xMgM1, xFeM1)\n",
    "```"
   ]
  },
  {
   "cell_type": "code",
   "execution_count": null,
   "metadata": {},
   "outputs": [],
   "source": [
    "xCaM2 = 1 - r[1]\n",
    "xMgM2 = (r[1]-s[0])/2\n",
    "xFeM2 = (r[1]+s[0])/2\n",
    "xMgM1 = 1 - r[0] + (r[1]+s[0])/2\n",
    "xFeM1 = r[0] - (r[1]+s[0])/2"
   ]
  },
  {
   "cell_type": "markdown",
   "metadata": {},
   "source": [
    "### The following functions implement random mixing configurational entropy on the M1 and M2 sites: "
   ]
  },
  {
   "cell_type": "code",
   "execution_count": null,
   "metadata": {},
   "outputs": [],
   "source": [
    "def Sconf_M1_random(X, Y):\n",
    "    A = X*sym.log(X) - X\n",
    "    B = Y*sym.log(Y) - Y\n",
    "    ApB = (X+Y)*sym.log(X+Y) - (X+Y)\n",
    "    return ApB - A - B\n",
    "def Sconf_M2_random(X, Y, Z):\n",
    "    A = X*sym.log(X) - X\n",
    "    B = Y*sym.log(Y) - Y\n",
    "    C = Z*sym.log(Z) - Z\n",
    "    ApBpC = (X+Y+Z)*sym.log(X+Y+Z) - (X+Y+Z)\n",
    "    return ApBpC - A - B - C"
   ]
  },
  {
   "cell_type": "markdown",
   "metadata": {},
   "source": [
    "## Configurational entropy\n",
    "$R$ is the gas constant"
   ]
  },
  {
   "cell_type": "code",
   "execution_count": null,
   "metadata": {},
   "outputs": [],
   "source": [
    "R = sym.symbols('R')\n",
    "S_config = Sconf_M1_random(xMgM1, xFeM1) + Sconf_M2_random(xCaM2, xMgM2, xFeM2)\n",
    "S_config *= R*nT\n",
    "S_config"
   ]
  },
  {
   "cell_type": "markdown",
   "metadata": {},
   "source": [
    "## Configurational Gibbs free energy\n",
    "Note that this quantity is extensive, with units of J, *not J/mole*"
   ]
  },
  {
   "cell_type": "code",
   "execution_count": null,
   "metadata": {},
   "outputs": [],
   "source": [
    "G_config = -T*S_config\n",
    "G_config"
   ]
  },
  {
   "cell_type": "markdown",
   "metadata": {},
   "source": [
    "## $\\hat G^*$ - Non-configurational molar Gibbs free energy\n",
    "$\\hat G^*$ includes all standard state and excess Gibbs free energy contributions.  It is generally modeled as a Taylor expansion in composition ($r$) and ordering ($s$) variables of order 2, 3 or 4.  Here, we choose a model of order two.\n",
    "#### Taylor expansion of $\\hat G^*$\n",
    "For a second order expansion, the number of Taylor expansion coefficients is:\n",
    "- 1 for $G_{0}$\n",
    "- nc-1 for $G_{r_i}$, $i=1...nc-1$\n",
    "- ns for $G_{s_i}$, $i=1...ns$\n",
    "- (nc-1)(nc-2)/2 for $G_{{r_i},{r_{i+1}}}$, $i= 1...nc-2$\n",
    "- ns(ns-1)/2 for $G_{{s_i},{s_{i+1}}}$, $i= 1...ns-1$\n",
    "- ns(nc-1) for $G_{{r_i},{s_j}}$, $i= 1...nc-1$, $j=1...ns$\n",
    "- nc-1 for $G_{{r_i},{r_i}}$, $i= 1...nc-1$\n",
    "- ns for $G_{{s_i},{s_i}}$, $i= 1...ns$"
   ]
  },
  {
   "cell_type": "code",
   "execution_count": null,
   "metadata": {},
   "outputs": [],
   "source": [
    "(count, taylor, taylor_coeff, taylor_terms) = model.taylor_expansion()\n",
    "print ('Number of Taylor expansion terms = {0:.0f}'.format(count))\n",
    "taylor"
   ]
  },
  {
   "cell_type": "markdown",
   "metadata": {},
   "source": [
    "### Identify Taylor terms of $\\hat{G}^*$ corresponding to component endmembers:\n",
    "1. diopside, CaMgSi<sub>2</sub>O<sub>6</sub>\n",
    "2. hedenbergite, CaFeSi<sub>2</sub>O<sub>6</sub>\n",
    "3. enstatite, Mg<sub>2</sub>Si<sub>2</sub>O<sub>6</sub>"
   ]
  },
  {
   "cell_type": "code",
   "execution_count": null,
   "metadata": {},
   "outputs": [],
   "source": [
    "eqn1 = model.eval_endmember([1,0,0],[0],taylor) - mu[0]\n",
    "eqn2 = model.eval_endmember([0,1,0],[0],taylor) - mu[1]\n",
    "eqn3 = model.eval_endmember([0,0,1],[-1],taylor) - mu[2]\n",
    "params = []\n",
    "units = []\n",
    "symparams = []\n",
    "eqn1, eqn2, eqn3"
   ]
  },
  {
   "cell_type": "markdown",
   "metadata": {},
   "source": [
    "### Identify Taylor terms of $\\hat{G}^*$ corresponding to dependent species endmembers:\n",
    "ferrosilite, Fe<sub>2</sub>Si<sub>2</sub>O<sub>6</sub>"
   ]
  },
  {
   "cell_type": "code",
   "execution_count": null,
   "metadata": {},
   "outputs": [],
   "source": [
    "gFs = model.eval_endmember([-2,2,1],[1],taylor)\n",
    "gFs"
   ]
  },
  {
   "cell_type": "markdown",
   "metadata": {},
   "source": [
    "### Identify the free energy of the reciprocal reaction between endmember species:\n",
    "Mg<sub>2</sub>Si<sub>2</sub>O<sub>6</sub> + 2 CaFeSi<sub>2</sub>O<sub>6</sub> = Fe<sub>2</sub>Si<sub>2</sub>O<sub>6</sub> + 2 CaMgSi<sub>2</sub>O<sub>6</sub>  \n",
    "is defined as the \"reciprocal energy,\" $F$, denoting the non-co-planarity of the non-configurational Gibbs free energy of the endmember species. In general, all reciprocal solutions have non-zero $F$. In the paper on pyroxene thermodynamics by Sack and Ghiorso (Contributions to Mineralogy and Petrology 116: 277-286, 1994) $F$ is notated as $\\Delta \\bar G_{27}^o$  \n",
    "\n",
    "$F$ is conveniently defined in terms of expressions 1-4:"
   ]
  },
  {
   "cell_type": "code",
   "execution_count": null,
   "metadata": {},
   "outputs": [],
   "source": [
    "Fh,Fs,Fv = sym.symbols('Fh Fs Fv')\n",
    "params.append('Fh')\n",
    "units.append('J/mol')\n",
    "symparams.append(Fh)\n",
    "params.append('Fs')\n",
    "units.append('J/K-mol')\n",
    "symparams.append(Fs)\n",
    "params.append('Fv')\n",
    "units.append('J/bar-mol')\n",
    "symparams.append(Fv)\n",
    "F = Fh - T*Fs + P*Fv\n",
    "eqn4  =   model.eval_endmember([-2,2,1],[ 1],taylor)\n",
    "eqn4 += 2*model.eval_endmember([ 1,0,0],[ 0],taylor)\n",
    "eqn4 -=   model.eval_endmember([ 0,0,1],[-1],taylor)\n",
    "eqn4 -= 2*model.eval_endmember([ 0,1,0],[ 0],taylor)\n",
    "eqn4 -= F\n",
    "eqn4"
   ]
  },
  {
   "cell_type": "markdown",
   "metadata": {},
   "source": [
    "### Identify the free energy of the ordering reaction:\n",
    "MgFeSi<sub>2</sub>O<sub>6</sub> = FeMgSi<sub>2</sub>O<sub>6</sub>  \n",
    "which will be notated as $Gex$, (in Sack and Ghiorso, 1994, $\\Delta \\bar G_{EX}^o$)  \n",
    "Note that both compositions, MgFeSi<sub>2</sub>O<sub>6</sub> and FeMgSi<sub>2</sub>O<sub>6</sub>, are equivalent and defined by CaFeSi<sub>2</sub>O<sub>6</sub> - CaMgSi<sub>2</sub>O<sub>6</sub> + Mg<sub>2</sub>Si<sub>2</sub>O<sub>6</sub>. They differ only by the sign of the ordering parameter."
   ]
  },
  {
   "cell_type": "code",
   "execution_count": null,
   "metadata": {},
   "outputs": [],
   "source": [
    "Hex,Vex = sym.symbols('Hex Vex')\n",
    "params.append('Hex')\n",
    "units.append('J/mol')\n",
    "symparams.append(Hex)\n",
    "params.append('Vex')\n",
    "units.append('J/bar-mol')\n",
    "symparams.append(Vex)\n",
    "Gex = Hex + P*Vex\n",
    "eqn5  = model.eval_endmember([-1,1,1],[ 1],taylor)\n",
    "eqn5 -= model.eval_endmember([-1,1,1],[-1],taylor)\n",
    "eqn5 -= Gex\n",
    "eqn5"
   ]
  },
  {
   "cell_type": "markdown",
   "metadata": {},
   "source": [
    "### Identify the free energy of the reciprocal ordering reaction:\n",
    "Mg<sub>2</sub>Si<sub>2</sub>O<sub>6</sub> + Fe<sub>2</sub>Si<sub>2</sub>O<sub>6</sub> = MgFeSi<sub>2</sub>O<sub>6</sub> + FeMgSi<sub>2</sub>O<sub>6</sub>  \n",
    "which will be notated as $Gx$, (in Sack and Ghiorso, 1994, $\\Delta \\bar G_{X}^o$) "
   ]
  },
  {
   "cell_type": "code",
   "execution_count": null,
   "metadata": {},
   "outputs": [],
   "source": [
    "Hx,Vx = sym.symbols('Hx Vx')\n",
    "params.append('Hx')\n",
    "units.append('J/mol')\n",
    "symparams.append(Hx)\n",
    "params.append('Vx')\n",
    "units.append('J/bar-mol')\n",
    "symparams.append(Vx)\n",
    "Gx = Hx + P*Vx\n",
    "eqn6  = model.eval_endmember([-1,1,1],[ 1],taylor)\n",
    "eqn6 += model.eval_endmember([-1,1,1],[-1],taylor)\n",
    "eqn6 -= model.eval_endmember([ 0,0,1],[-1],taylor)\n",
    "eqn6 -= model.eval_endmember([-2,2,1],[ 1],taylor)\n",
    "eqn6 -= Gx\n",
    "eqn6"
   ]
  },
  {
   "cell_type": "markdown",
   "metadata": {},
   "source": [
    "### Identify regular solution interaction parameters:\n",
    "- Ca-Mg interaction on the M2 site, the join Mg<sub>2</sub>Si<sub>2</sub>O<sub>6</sub> - CaMgSi<sub>2</sub>O<sub>6</sub>, denoted WM2CaMg\n",
    "- Ca-Fe interaction on the M2 site, the join Fe<sub>2</sub>Si<sub>2</sub>O<sub>6</sub> - CaFeSi<sub>2</sub>O<sub>6</sub>, denoted WM2CaFe\n",
    "- Fe-Mg interaction on the M1 site, the joins Mg<sub>2</sub>Si<sub>2</sub>O<sub>6</sub> - MgFeSi<sub>2</sub>O<sub>6</sub> or Fe<sub>2</sub>Si<sub>2</sub>O<sub>6</sub> - FeMgSi<sub>2</sub>O<sub>6</sub> or CaMgSi<sub>2</sub>O<sub>6</sub> - CaFeSi<sub>2</sub>O<sub>6</sub>, which are assumed to be energetically equivalent, denoted WM1FeMg (in Sack and Ghiorso, 1994, $W_{12}$\n",
    "- Fe-Mg interaction on the M2 site, the joins FeMgSi<sub>2</sub>O<sub>6</sub> - Mg<sub>2</sub>Si<sub>2</sub>O<sub>6</sub> or Fe<sub>2</sub>Si<sub>2</sub>O<sub>6</sub> - MgFeSi<sub>2</sub>O<sub>6</sub>, which are assumed to be energetically equivalent, denoted WM2FeMg  \n",
    "\n",
    "Along the A-B join, described using a regular solution parameter, $W$, $\\hat G^*$ is given by  \n",
    "${\\hat G}^*(X_A,X_B)={X_A}{\\hat G}^*(A)+{X_B}{\\hat G}^*(B)+W{X_A}{X_B}$, so   \n",
    "$W = \\frac{{\\hat G}^*(X_A,X_B) - {X_A}{\\hat G}^*(A) - {X_B}{\\hat G}^*(B)}{{X_A}{X_B}}$  \n",
    "Taking the midpoint of the join provides a way to define the parameter:  \n",
    "$W = \\frac{{\\hat G}^*(\\frac{1}{2},\\frac{1}{2}) - {\\frac{1}{2}}{\\hat G}^*(A) - {\\frac{1}{2}}{\\hat G}^*(B)}{{\\frac{1}{2}}{\\frac{1}{2}}} = 4{\\hat G}^*(\\frac{1}{2},\\frac{1}{2}) - 2{\\hat G}^*(A) - 2{\\hat G}^*(B)$"
   ]
  },
  {
   "cell_type": "markdown",
   "metadata": {},
   "source": [
    "- Ca-Mg interaction on the M2 site, the join Mg<sub>2</sub>Si<sub>2</sub>O<sub>6</sub> - CaMgSi<sub>2</sub>O<sub>6</sub>, denoted WM2CaMg"
   ]
  },
  {
   "cell_type": "code",
   "execution_count": null,
   "metadata": {},
   "outputs": [],
   "source": [
    "WhM2CaMg,WvM2CaMg = sym.symbols('WhM2CaMg WvM2CaMg')\n",
    "params.append('WhM2CaMg')\n",
    "units.append('J/mol')\n",
    "symparams.append(WhM2CaMg)\n",
    "params.append('WvM2CaMg')\n",
    "units.append('J/bar-mol')\n",
    "symparams.append(WvM2CaMg)\n",
    "WM2CaMg = WhM2CaMg + P*WvM2CaMg\n",
    "eqn7 = model.eval_regular_param([1,0,0],[0],[0,0,1],[-1],taylor) - WM2CaMg\n",
    "eqn7"
   ]
  },
  {
   "cell_type": "markdown",
   "metadata": {},
   "source": [
    "- Ca-Fe interaction on the M2 site, the join Fe<sub>2</sub>Si<sub>2</sub>O<sub>6</sub> - CaFeSi<sub>2</sub>O<sub>6</sub>, denoted WM2CaFe"
   ]
  },
  {
   "cell_type": "code",
   "execution_count": null,
   "metadata": {},
   "outputs": [],
   "source": [
    "WhM2CaFe,WvM2CaFe = sym.symbols('WhM2CFe WvM2CaFe')\n",
    "params.append('WhM2CaFe')\n",
    "units.append('J/mol')\n",
    "symparams.append(WhM2CaFe)\n",
    "params.append('WvM2CaFe')\n",
    "units.append('J/bar-mol')\n",
    "symparams.append(WvM2CaFe)\n",
    "WM2CaFe = WhM2CaFe + P*WvM2CaFe\n",
    "eqn8 = model.eval_regular_param([0,1,0],[0],[-2,2,1],[1],taylor) - WM2CaFe\n",
    "eqn8"
   ]
  },
  {
   "cell_type": "markdown",
   "metadata": {},
   "source": [
    "- Fe-Mg interaction on the M1 site, the joins Mg<sub>2</sub>Si<sub>2</sub>O<sub>6</sub> - MgFeSi<sub>2</sub>O<sub>6</sub> or Fe<sub>2</sub>Si<sub>2</sub>O<sub>6</sub> - FeMgSi<sub>2</sub>O<sub>6</sub> or CaMgSi<sub>2</sub>O<sub>6</sub> - CaFeSi<sub>2</sub>O<sub>6</sub>, which are assumed to be energetically equivalent, denoted WM1FeMg (in Sack and Ghiorso, 1994, $W_{12}$"
   ]
  },
  {
   "cell_type": "code",
   "execution_count": null,
   "metadata": {},
   "outputs": [],
   "source": [
    "WhM1FeMg,WvM1FeMg = sym.symbols('WhM1FeMg WvM1FeMg')\n",
    "params.append('WhM1FeMg')\n",
    "units.append('J/mol')\n",
    "symparams.append(WhM1FeMg)\n",
    "params.append('WvM1FeMg')\n",
    "units.append('J/bar-mol')\n",
    "symparams.append(WvM1FeMg)\n",
    "WM1FeMg = WhM1FeMg + P*WvM1FeMg\n",
    "eqn9 = model.eval_regular_param([1,0,0],[0],[0,1,0],[0],taylor) - WM1FeMg\n",
    "eqn9"
   ]
  },
  {
   "cell_type": "markdown",
   "metadata": {},
   "source": [
    "- Fe-Mg interaction on the M2 site, the joins FeMgSi<sub>2</sub>O<sub>6</sub> - Mg<sub>2</sub>Si<sub>2</sub>O<sub>6</sub> or Fe<sub>2</sub>Si<sub>2</sub>O<sub>6</sub> - MgFeSi<sub>2</sub>O<sub>6</sub>, which are assumed to be energetically equivalent, denoted WM2FeMg"
   ]
  },
  {
   "cell_type": "code",
   "execution_count": null,
   "metadata": {},
   "outputs": [],
   "source": [
    "WhM2FeMg,WvM2FeMg = sym.symbols('WhM2FeMg WvM2FeMg')\n",
    "params.append('WhM2FeMg')\n",
    "units.append('J/mol')\n",
    "symparams.append(WhM2FeMg)\n",
    "params.append('WvM2FeMg')\n",
    "units.append('J/bar-mol')\n",
    "symparams.append(WvM2FeMg)\n",
    "WM2FeMg = WhM2FeMg + P*WvM2FeMg\n",
    "eqn10 = model.eval_regular_param([-1,1,1],[1],[0,0,1],[-1],taylor) - WM2FeMg\n",
    "eqn10"
   ]
  },
  {
   "cell_type": "markdown",
   "metadata": {},
   "source": [
    "### Solve for the Taylor coefficients in terms of the preferred parameters"
   ]
  },
  {
   "cell_type": "code",
   "execution_count": null,
   "metadata": {},
   "outputs": [],
   "source": [
    "system = [eqn1, eqn2, eqn3, eqn4, eqn5, eqn6, eqn7, eqn8, eqn9, eqn10]\n",
    "system"
   ]
  },
  {
   "cell_type": "code",
   "execution_count": null,
   "metadata": {},
   "outputs": [],
   "source": [
    "taylor_soln = sym.linsolve(system, taylor_coeff).args[0]\n",
    "taylor_soln"
   ]
  },
  {
   "cell_type": "markdown",
   "metadata": {},
   "source": [
    "### Substitute terms into $\\hat G^*$"
   ]
  },
  {
   "cell_type": "code",
   "execution_count": null,
   "metadata": {},
   "outputs": [],
   "source": [
    "sub_list = []\n",
    "for a,b in zip(taylor_coeff,taylor_soln):\n",
    "    sub_list.append((a,b))\n",
    "G_star_molar = taylor.subs(sub_list)"
   ]
  },
  {
   "cell_type": "code",
   "execution_count": null,
   "metadata": {},
   "outputs": [],
   "source": [
    "print(params)\n",
    "print(units)\n",
    "print(symparams)"
   ]
  },
  {
   "cell_type": "markdown",
   "metadata": {},
   "source": [
    "## Define the Gibbs free energy of solution"
   ]
  },
  {
   "cell_type": "code",
   "execution_count": null,
   "metadata": {},
   "outputs": [],
   "source": [
    "G = G_config + nT*G_star_molar\n",
    "G"
   ]
  },
  {
   "cell_type": "markdown",
   "metadata": {},
   "source": [
    "## Find the condition of homogeneous equilibrium:\n",
    "$\\frac{{\\partial \\hat G*}}{{\\partial {s_1}}} = 0$"
   ]
  },
  {
   "cell_type": "code",
   "execution_count": null,
   "metadata": {},
   "outputs": [],
   "source": [
    "dgds = (nT*G_star_molar+G_config).diff(s[0]).simplify()\n",
    "dgds"
   ]
  },
  {
   "cell_type": "markdown",
   "metadata": {},
   "source": [
    "## Identify bounds on the ordering parameter \n",
    "The code generated to implement this model must compute numerical values of the ordering parameter as a functrion of compositrion, temperature and pressure.  This task requires an iterative procedure.  To construct this procedure the model must have information on the permissble domain of the ordering parameter.  \n",
    "\n",
    "Values of the ordering parameter are bounded by the composition of the solution. We contrain all site mole fractions to have values in the range 0 to 1, and solve this system of inequality constraints to obtain a logical expression that embodies the feasible domain for the numerical procedure. "
   ]
  },
  {
   "cell_type": "code",
   "execution_count": null,
   "metadata": {},
   "outputs": [],
   "source": [
    "out = sym.reduce_inequalities(inequalities=[\n",
    "    0 <= (r[1]-s[0])/2, (r[1]-s[0])/2 <= 1,\n",
    "    0 <= (r[1]+s[0])/2, (r[1]+s[0])/2 <= 1, \n",
    "    0 <= 1-r[0]+(r[1]+s[0])/2,  1-r[0]+(r[1]+s[0])/2 <= 1, \n",
    "    0 <= r[0]-(r[1]+s[0])/2, r[0]-(r[1]+s[0])/2 <= 1], symbols=[s[0]])\n",
    "out"
   ]
  },
  {
   "cell_type": "markdown",
   "metadata": {},
   "source": [
    "## Add the Gibbs free energy of solution to the model"
   ]
  },
  {
   "cell_type": "code",
   "execution_count": null,
   "metadata": {},
   "outputs": [],
   "source": [
    "model.add_expression_to_model(G, list(zip(params, units, symparams)), ordering_functions=([dgds],s,[0],out))"
   ]
  },
  {
   "cell_type": "markdown",
   "metadata": {},
   "source": [
    "... give the model a unqiue name"
   ]
  },
  {
   "cell_type": "code",
   "execution_count": null,
   "metadata": {},
   "outputs": [],
   "source": [
    "model.module = \"Complex_Solution\""
   ]
  },
  {
   "cell_type": "markdown",
   "metadata": {},
   "source": [
    "... assign a formula string for code generation  \n",
    "... assign a conversion string to map element concentrations to moles of end members\n",
    "... assign a test string to evaluate the feasibility of input compositions"
   ]
  },
  {
   "cell_type": "code",
   "execution_count": null,
   "metadata": {},
   "outputs": [],
   "source": [
    "model.formula_string = 'Ca[Ca]Mg[Mg]Fe[Fe]Si[Si]O6'\n",
    "model.conversion_string = ['[0]=[Ca]-[Fe]', '[1]=[Fe]', '[2]=-0.5*[Ca]+0.5*[Fe]+0.5*[Mg]']\n",
    "model.test_string = ['[0]+[1] > 0.0', '[1] > 0.0', '[0]+2.0*[2] > 0.0']"
   ]
  },
  {
   "cell_type": "markdown",
   "metadata": {},
   "source": [
    "# Define Parameters of an Orthopyroxene Solution\n",
    "Components\n",
    "1. diopside, CaMgSi<sub>2</sub>O<sub>6</sub>\n",
    "2. hedenbergite, CaFeSi<sub>2</sub>O<sub>6</sub>\n",
    "3. enstatite, Mg<sub>2</sub>Si<sub>2</sub>O<sub>6</sub>\n",
    "\n",
    "Original calibration from Sack and Ghiorso (Contributions to Mineralogy and Petrology, 116:287-300, 1994):\n",
    "```\n",
    "F       = -13807 + 2.319*T - 0.05878*P;  /* joules     */\n",
    "Gex     =  -7824           - 0.1213*P;   /* joules/K   */\n",
    "Gx      =  -1883           + 0.02824;    /* joules/bar */\n",
    "WM2CaMg =  31631           + 0.03347*P;  /* joules     */\n",
    "WM2CaFe =  17238           + 0.04602*P;  /* joules/K   */\n",
    "WM1FeMg =   8368           + 0.01412*P;  /* joules/bar */\n",
    "WM2FeMg =   8368           + 0.01412*P;  /* joules     */\n",
    "```\n",
    "Asymmetry along the Ca-Mg and Ca-Fe joins (considered by Sack and Ghiorso, 1994) is not considered in this example in order to simplify the presentation."
   ]
  },
  {
   "cell_type": "code",
   "execution_count": null,
   "metadata": {},
   "outputs": [],
   "source": [
    "print (params)\n",
    "paramValues = {'Fh':-13807.0, 'Fs':-2.319, 'Fv':-0.05878, \\\n",
    "               'Hex':-7824.0, 'Vex':-0.1213, \\\n",
    "               'Hx':-1883.0, 'Vx':0.02824, \\\n",
    "               'WhM2CaMg':31631.0, 'WvM2CaMg':0.03347, \\\n",
    "               'WhM2CaFe':17238.0, 'WvM2CaFe':0.04602, \\\n",
    "               'WhM1FeMg':8368.0, 'WvM1FeMg':0.01412, \\\n",
    "               'WhM2FeMg':8368.0, 'WvM2FeMg':0.01412, \\\n",
    "               'T_r':298.15, 'P_r':1.0}\n",
    "print (paramValues)"
   ]
  },
  {
   "cell_type": "markdown",
   "metadata": {},
   "source": [
    "Generate both fast computation and calibibration code for the feldspar solution"
   ]
  },
  {
   "cell_type": "markdown",
   "metadata": {},
   "source": [
    "# Use code printers to construct \"C\" package code"
   ]
  },
  {
   "cell_type": "code",
   "execution_count": null,
   "metadata": {},
   "outputs": [],
   "source": [
    "model_working_dir = \"working\"\n",
    "!mkdir -p {model_working_dir}\n",
    "%cd {model_working_dir}"
   ]
  },
  {
   "cell_type": "markdown",
   "metadata": {},
   "source": [
    "## Choose model type and create model\n",
    "model_type is \"fast\" or \"calib\""
   ]
  },
  {
   "cell_type": "code",
   "execution_count": null,
   "metadata": {},
   "outputs": [],
   "source": [
    "model_type = \"calib\""
   ]
  },
  {
   "cell_type": "code",
   "execution_count": null,
   "metadata": {},
   "outputs": [],
   "source": [
    "model.create_code_module(phase=\"Orthopyroxene\", params=paramValues, \n",
    "                         endmembers=['Diopside_berman', 'Hedenbergite_berman', 'Enstatite_berman'], \n",
    "                         prefix=\"cy\", module_type=model_type, silent=False, \n",
    "                         add_code_to_access_order_paramater=True)"
   ]
  },
  {
   "cell_type": "markdown",
   "metadata": {},
   "source": [
    "## Load the module"
   ]
  },
  {
   "cell_type": "code",
   "execution_count": null,
   "metadata": {},
   "outputs": [],
   "source": [
    "import Complex_Solution\n",
    "%cd .."
   ]
  },
  {
   "cell_type": "markdown",
   "metadata": {},
   "source": [
    "## Test and time the generated functions for Orthopyroxene (T in K, P in bars)"
   ]
  },
  {
   "cell_type": "code",
   "execution_count": null,
   "metadata": {},
   "outputs": [],
   "source": [
    "t = 2000.00\n",
    "p = 1.0\n",
    "n = np.array([1.1, 1.2, 1.3])"
   ]
  },
  {
   "cell_type": "markdown",
   "metadata": {},
   "source": [
    "## Available in both \"Fast\" and \"Calib\" code versions \n",
    "Execute the \"fast\" or \"calibration\" code metadata retrieval functions:"
   ]
  },
  {
   "cell_type": "code",
   "execution_count": null,
   "metadata": {},
   "outputs": [],
   "source": [
    "try:\n",
    "    print(Complex_Solution.cy_Orthopyroxene_Complex_Solution_identifier())\n",
    "    print(Complex_Solution.cy_Orthopyroxene_Complex_Solution_name())\n",
    "    print(Complex_Solution.cy_Orthopyroxene_Complex_Solution_formula(t,p,n))\n",
    "except AttributeError:\n",
    "    pass\n",
    "try:\n",
    "    print(Complex_Solution.cy_Orthopyroxene_Complex_Solution_calib_identifier())\n",
    "    print(Complex_Solution.cy_Orthopyroxene_Complex_Solution_calib_name())\n",
    "    print(Complex_Solution.cy_Orthopyroxene_Complex_Solution_calib_formula(t,p,n))\n",
    "except AttributeError:\n",
    "    pass"
   ]
  },
  {
   "cell_type": "markdown",
   "metadata": {},
   "source": [
    "Test intrinsic element conversion routine ..."
   ]
  },
  {
   "cell_type": "code",
   "execution_count": null,
   "metadata": {},
   "outputs": [],
   "source": [
    "try:\n",
    "    e = np.zeros(106)\n",
    "    sum = np.sum(n)\n",
    "    for index in range(0,nc):\n",
    "        end = Complex_Solution.cy_Orthopyroxene_Complex_Solution_endmember_elements(index)\n",
    "        for i in range(0,106):\n",
    "            e[i] += end[i]*n[index]/sum\n",
    "    nConv = Complex_Solution.cy_Orthopyroxene_Complex_Solution_conv_elm_to_moles(e)\n",
    "    for i in range(0,nc):\n",
    "        print ('X[{0:d}] input {1:13.6e}, calc {2:13.6e}, diff {3:13.6e}'.format(\n",
    "        i, n[i]/sum, nConv[i], nConv[i]-n[i]/sum))\n",
    "    if not Complex_Solution.cy_Orthopyroxene_Complex_Solution_test_moles(nConv):\n",
    "        print ('Output of intrinsic composition calculation fails tests for permissible values.')\n",
    "except AttributeError:\n",
    "    pass\n",
    "try:\n",
    "    e = np.zeros(106)\n",
    "    sum = np.sum(n)\n",
    "    for index in range(0,nc):\n",
    "        end = Complex_Solution.cy_Orthopyroxene_Complex_Solution_calib_endmember_elements(index)\n",
    "        for i in range(0,106):\n",
    "            e[i] += end[i]*n[index]/sum\n",
    "    nConv = Complex_Solution.cy_Orthopyroxene_Complex_Solution_calib_conv_elm_to_moles(e)\n",
    "    for i in range(0,nc):\n",
    "        print ('X[{0:d}] input {1:13.6e}, calc {2:13.6e}, diff {3:13.6e}'.format(\n",
    "        i, n[i]/sum, nConv[i], nConv[i]-n[i]/sum))\n",
    "    if not Complex_Solution.cy_Orthopyroxene_Complex_Solution_calib_test_moles(nConv):\n",
    "        print ('Output of intrinsic composition calculation fails tests for permissible values.')\n",
    "except AttributeError:\n",
    "    pass"
   ]
  },
  {
   "cell_type": "markdown",
   "metadata": {},
   "source": [
    "Test various conversion routines ..."
   ]
  },
  {
   "cell_type": "code",
   "execution_count": null,
   "metadata": {},
   "outputs": [],
   "source": [
    "try:\n",
    "    print (Complex_Solution.cy_Orthopyroxene_Complex_Solution_calib_conv_moles_to_tot_moles(n))\n",
    "    print (Complex_Solution.cy_Orthopyroxene_Complex_Solution_calib_conv_moles_to_mole_frac(n))\n",
    "    e = Complex_Solution.cy_Orthopyroxene_Complex_Solution_calib_conv_moles_to_elm(n)\n",
    "    print (e)\n",
    "    print (Complex_Solution.cy_Orthopyroxene_Complex_Solution_calib_conv_elm_to_moles(e))\n",
    "    print (Complex_Solution.cy_Orthopyroxene_Complex_Solution_calib_conv_elm_to_tot_moles(e))\n",
    "    print (Complex_Solution.cy_Orthopyroxene_Complex_Solution_calib_conv_elm_to_tot_grams(e))\n",
    "except AttributeError:\n",
    "    pass\n",
    "try:\n",
    "    print (Complex_Solution.cy_Orthopyroxene_Complex_Solution_conv_moles_to_tot_moles(n))\n",
    "    print (Complex_Solution.cy_Orthopyroxene_Complex_Solution_conv_moles_to_mole_frac(n))\n",
    "    e = Complex_Solution.cy_Orthopyroxene_Complex_Solution_conv_moles_to_elm(n)\n",
    "    print (e)\n",
    "    print (Complex_Solution.cy_Orthopyroxene_Complex_Solution_conv_elm_to_moles(e))\n",
    "    print (Complex_Solution.cy_Orthopyroxene_Complex_Solution_conv_elm_to_tot_moles(e))\n",
    "    print (Complex_Solution.cy_Orthopyroxene_Complex_Solution_conv_elm_to_tot_grams(e))\n",
    "except AttributeError:\n",
    "    pass"
   ]
  },
  {
   "cell_type": "markdown",
   "metadata": {},
   "source": [
    "### Execute a method that retrieves the ordering parameter \n",
    "This method is normally hidden from the Phases module implementation."
   ]
  },
  {
   "cell_type": "code",
   "execution_count": null,
   "metadata": {},
   "outputs": [],
   "source": [
    "nn = np.array([-0.99, 1, 1])\n",
    "print(Complex_Solution.cy_Orthopyroxene_Complex_Solution_calib_formula(t,p,nn))\n",
    "print(\"Kd = (XFeM1 XMgM2)/(XFeM2 XMgM1), s = XFeM2 - XMgM2\")\n",
    "for tc in [600.0, 900.0, 1000.0, 1200.0, 1400.0, 1600.0, 1800.0, 2000.0]:\n",
    "    ss = Complex_Solution.cy_Orthopyroxene_Complex_Solution_order_params(tc+273.15,p,nn)\n",
    "    vCaM2 = xCaM2.subs([(model.n[0],nn[0]),(model.n[1],nn[1]),(model.n[2],nn[2]),(s[0],ss[0])])\n",
    "    vMgM2 = xMgM2.subs([(model.n[0],nn[0]),(model.n[1],nn[1]),(model.n[2],nn[2]),(s[0],ss[0])])\n",
    "    vFeM2 = xFeM2.subs([(model.n[0],nn[0]),(model.n[1],nn[1]),(model.n[2],nn[2]),(s[0],ss[0])])\n",
    "    vMgM1 = xMgM1.subs([(model.n[0],nn[0]),(model.n[1],nn[1]),(model.n[2],nn[2]),(s[0],ss[0])])\n",
    "    vFeM1 = xFeM1.subs([(model.n[0],nn[0]),(model.n[1],nn[1]),(model.n[2],nn[2]),(s[0],ss[0])])\n",
    "    K = vFeM1*vMgM2/(vMgM1*vFeM2)\n",
    "    print (\"T {0:8.2f}  s {1:8.4f}  RT ln(Kd) {2:10.3f} kJ\".format(tc, ss[0], 8.3143*(tc+273.15)*(np.log(float(K))/1000.0))) "
   ]
  },
  {
   "cell_type": "markdown",
   "metadata": {},
   "source": [
    "### Execute the standard thermodynamic property retrieval functions:"
   ]
  },
  {
   "cell_type": "code",
   "execution_count": null,
   "metadata": {},
   "outputs": [],
   "source": [
    "fmt = \"{0:<10.10s} {1:13.6e} {2:<10.10s}\"\n",
    "try:\n",
    "    print(fmt.format('G', Complex_Solution.cy_Orthopyroxene_Complex_Solution_g(t,p,n), 'J'))\n",
    "    print(fmt.format('dGdT', Complex_Solution.cy_Orthopyroxene_Complex_Solution_dgdt(t,p,n), 'J/K'))\n",
    "    print(fmt.format('dGdP', Complex_Solution.cy_Orthopyroxene_Complex_Solution_dgdp(t,p,n), 'J/bar'))\n",
    "    print(fmt.format('d2GdT2', Complex_Solution.cy_Orthopyroxene_Complex_Solution_d2gdt2(t,p,n), 'J/K^2'))\n",
    "    print(fmt.format('d2GdTdP', Complex_Solution.cy_Orthopyroxene_Complex_Solution_d2gdtdp(t,p,n), 'J/K-bar'))\n",
    "    print(fmt.format('d2GdP2', Complex_Solution.cy_Orthopyroxene_Complex_Solution_d2gdp2(t,p,n), 'J/bar^2'))\n",
    "    print(fmt.format('d3GdT3', Complex_Solution.cy_Orthopyroxene_Complex_Solution_d3gdt3(t,p,n), 'J/K^3'))\n",
    "    print(fmt.format('d3GdT2dP', Complex_Solution.cy_Orthopyroxene_Complex_Solution_d3gdt2dp(t,p,n), 'J/K^2-bar'))\n",
    "    print(fmt.format('d3GdTdP2', Complex_Solution.cy_Orthopyroxene_Complex_Solution_d3gdtdp2(t,p,n), 'J/K-bar^2'))\n",
    "    print(fmt.format('d3GdP3', Complex_Solution.cy_Orthopyroxene_Complex_Solution_d3gdp3(t,p,n), 'J/bar^3'))\n",
    "    print(fmt.format('S', Complex_Solution.cy_Orthopyroxene_Complex_Solution_s(t,p,n), 'J/K'))\n",
    "    print(fmt.format('V', Complex_Solution.cy_Orthopyroxene_Complex_Solution_v(t,p,n), 'J/bar'))\n",
    "    print(fmt.format('Cv', Complex_Solution.cy_Orthopyroxene_Complex_Solution_cv(t,p,n), 'J/K'))\n",
    "    print(fmt.format('Cp', Complex_Solution.cy_Orthopyroxene_Complex_Solution_cp(t,p,n), 'J/K'))\n",
    "    print(fmt.format('dCpdT', Complex_Solution.cy_Orthopyroxene_Complex_Solution_dcpdt(t,p,n), 'J/K^2'))\n",
    "    print(fmt.format('alpha', Complex_Solution.cy_Orthopyroxene_Complex_Solution_alpha(t,p,n), '1/K'))\n",
    "    print(fmt.format('beta', Complex_Solution.cy_Orthopyroxene_Complex_Solution_beta(t,p,n), '1/bar'))\n",
    "    print(fmt.format('K', Complex_Solution.cy_Orthopyroxene_Complex_Solution_K(t,p,n), 'bar'))\n",
    "    print(fmt.format('Kp', Complex_Solution.cy_Orthopyroxene_Complex_Solution_Kp(t,p,n), ''))\n",
    "except AttributeError:\n",
    "    pass\n",
    "try:\n",
    "    print(fmt.format('G', Complex_Solution.cy_Orthopyroxene_Complex_Solution_calib_g(t,p,n), 'J'))\n",
    "    print(fmt.format('dGdT', Complex_Solution.cy_Orthopyroxene_Complex_Solution_calib_dgdt(t,p,n), 'J/K'))\n",
    "    print(fmt.format('dGdP', Complex_Solution.cy_Orthopyroxene_Complex_Solution_calib_dgdp(t,p,n), 'J/bar'))\n",
    "    print(fmt.format('d2GdT2', Complex_Solution.cy_Orthopyroxene_Complex_Solution_calib_d2gdt2(t,p,n), 'J/K^2'))\n",
    "    print(fmt.format('d2GdTdP', Complex_Solution.cy_Orthopyroxene_Complex_Solution_calib_d2gdtdp(t,p,n), 'J/K-bar'))\n",
    "    print(fmt.format('d2GdP2', Complex_Solution.cy_Orthopyroxene_Complex_Solution_calib_d2gdp2(t,p,n), 'J/bar^2'))\n",
    "    print(fmt.format('d3GdT3', Complex_Solution.cy_Orthopyroxene_Complex_Solution_calib_d3gdt3(t,p,n), 'J/K^3'))\n",
    "    print(fmt.format('d3GdT2dP', Complex_Solution.cy_Orthopyroxene_Complex_Solution_calib_d3gdt2dp(t,p,n), 'J/K^2-bar'))\n",
    "    print(fmt.format('d3GdTdP2', Complex_Solution.cy_Orthopyroxene_Complex_Solution_calib_d3gdtdp2(t,p,n), 'J/K-bar^2'))\n",
    "    print(fmt.format('d3GdP3', Complex_Solution.cy_Orthopyroxene_Complex_Solution_calib_d3gdp3(t,p,n), 'J/bar^3'))\n",
    "    print(fmt.format('S', Complex_Solution.cy_Orthopyroxene_Complex_Solution_calib_s(t,p,n), 'J/K'))\n",
    "    print(fmt.format('V', Complex_Solution.cy_Orthopyroxene_Complex_Solution_calib_v(t,p,n), 'J/bar'))\n",
    "    print(fmt.format('Cv', Complex_Solution.cy_Orthopyroxene_Complex_Solution_calib_cv(t,p,n), 'J/K'))\n",
    "    print(fmt.format('Cp', Complex_Solution.cy_Orthopyroxene_Complex_Solution_calib_cp(t,p,n), 'J/K'))\n",
    "    print(fmt.format('dCpdT', Complex_Solution.cy_Orthopyroxene_Complex_Solution_calib_dcpdt(t,p,n), 'J/K^2'))\n",
    "    print(fmt.format('alpha', Complex_Solution.cy_Orthopyroxene_Complex_Solution_calib_alpha(t,p,n), '1/K'))\n",
    "    print(fmt.format('beta', Complex_Solution.cy_Orthopyroxene_Complex_Solution_calib_beta(t,p,n), '1/bar'))\n",
    "    print(fmt.format('K', Complex_Solution.cy_Orthopyroxene_Complex_Solution_calib_K(t,p,n), 'bar'))\n",
    "    print(fmt.format('Kp', Complex_Solution.cy_Orthopyroxene_Complex_Solution_calib_Kp(t,p,n), ''))\n",
    "except AttributeError:\n",
    "    pass"
   ]
  },
  {
   "cell_type": "markdown",
   "metadata": {},
   "source": [
    "### Execute functions that access endmember properties:"
   ]
  },
  {
   "cell_type": "code",
   "execution_count": null,
   "metadata": {},
   "outputs": [],
   "source": [
    "fmt = \"{0:<10.10s} {1:13.6e} {2:<15.15s}\"\n",
    "try:\n",
    "    print (\"number of components\", Complex_Solution.cy_Orthopyroxene_Complex_Solution_endmember_number())\n",
    "    for index in range(0, nc):\n",
    "        print (\"{0:<20.20s}\".format(Complex_Solution.cy_Orthopyroxene_Complex_Solution_endmember_name(index)), end=' ')\n",
    "        print (\"{0:<20.20s}\".format(Complex_Solution.cy_Orthopyroxene_Complex_Solution_endmember_formula(index)))\n",
    "        print (\"mw: {0:10.2f}\".format(Complex_Solution.cy_Orthopyroxene_Complex_Solution_endmember_mw(index)))\n",
    "        print (fmt.format('mu0', Complex_Solution.cy_Orthopyroxene_Complex_Solution_endmember_mu0(index,t,p), 'J/mol'))\n",
    "        print (fmt.format('dmu0dT', Complex_Solution.cy_Orthopyroxene_Complex_Solution_endmember_dmu0dT(index,t,p), 'J/K-mol'))\n",
    "        print (fmt.format('dmu0dP', Complex_Solution.cy_Orthopyroxene_Complex_Solution_endmember_dmu0dP(index,t,p), 'J/bar-mol'))\n",
    "        print (fmt.format('d2mu0dT2', Complex_Solution.cy_Orthopyroxene_Complex_Solution_endmember_d2mu0dT2(index,t,p), 'J/K^2-mol'))\n",
    "        print (fmt.format('d2mu0dTdP', Complex_Solution.cy_Orthopyroxene_Complex_Solution_endmember_d2mu0dTdP(index,t,p), 'J/K-bar-mol'))\n",
    "        print (fmt.format('d2mu0dP2', Complex_Solution.cy_Orthopyroxene_Complex_Solution_endmember_d2mu0dP2(index,t,p), 'J/bar^2-mol'))\n",
    "        print (fmt.format('d3mu0dT3', Complex_Solution.cy_Orthopyroxene_Complex_Solution_endmember_d3mu0dT3(index,t,p), 'J/K^3-mol'))\n",
    "        print (fmt.format('d3mu0dT2dP', Complex_Solution.cy_Orthopyroxene_Complex_Solution_endmember_d3mu0dT2dP(index,t,p), 'J/K^2-bar-mol'))\n",
    "        print (fmt.format('d3mu0dTdP2', Complex_Solution.cy_Orthopyroxene_Complex_Solution_endmember_d3mu0dTdP2(index,t,p), 'J/K-bar^2-mol'))\n",
    "        print (fmt.format('d3mu0dP3', Complex_Solution.cy_Orthopyroxene_Complex_Solution_endmember_d3mu0dP3(index,t,p), 'J/bar^3-mol'))\n",
    "        print (\"Element array:\")\n",
    "        print (Complex_Solution.cy_Orthopyroxene_Complex_Solution_endmember_elements(index))\n",
    "        print ()\n",
    "except AttributeError:\n",
    "    pass\n",
    "try:\n",
    "    print (\"number of components\", Complex_Solution.cy_Orthopyroxene_Complex_Solution_calib_endmember_number())\n",
    "    for index in range(0, nc):\n",
    "        print (\"{0:<20.20s}\".format(Complex_Solution.cy_Orthopyroxene_Complex_Solution_calib_endmember_name(index)), end=' ')\n",
    "        print (\"{0:<20.20s}\".format(Complex_Solution.cy_Orthopyroxene_Complex_Solution_calib_endmember_formula(index)), end=' ')\n",
    "        print (\"mw: {0:10.2f}\".format(Complex_Solution.cy_Orthopyroxene_Complex_Solution_calib_endmember_mw(index)))\n",
    "        print (fmt.format('mu0', Complex_Solution.cy_Orthopyroxene_Complex_Solution_calib_endmember_mu0(index,t,p), 'J/mol'))\n",
    "        print (fmt.format('dmu0dT', Complex_Solution.cy_Orthopyroxene_Complex_Solution_calib_endmember_dmu0dT(index,t,p), 'J/K-mol'))\n",
    "        print (fmt.format('dmu0dP', Complex_Solution.cy_Orthopyroxene_Complex_Solution_calib_endmember_dmu0dP(index,t,p), 'J/bar-mol'))\n",
    "        print (fmt.format('d2mu0dT2', Complex_Solution.cy_Orthopyroxene_Complex_Solution_calib_endmember_d2mu0dT2(index,t,p), 'J/K^2-mol'))\n",
    "        print (fmt.format('d2mu0dTdP', Complex_Solution.cy_Orthopyroxene_Complex_Solution_calib_endmember_d2mu0dTdP(index,t,p), 'J/K-bar-mol'))\n",
    "        print (fmt.format('d2mu0dP2', Complex_Solution.cy_Orthopyroxene_Complex_Solution_calib_endmember_d2mu0dP2(index,t,p), 'J/bar^2-mol'))\n",
    "        print (fmt.format('d3mu0dT3', Complex_Solution.cy_Orthopyroxene_Complex_Solution_calib_endmember_d3mu0dT3(index,t,p), 'J/K^3-mol'))\n",
    "        print (fmt.format('d3mu0dT2dP', Complex_Solution.cy_Orthopyroxene_Complex_Solution_calib_endmember_d3mu0dT2dP(index,t,p), 'J/K^2-bar-mol'))\n",
    "        print (fmt.format('d3mu0dTdP2', Complex_Solution.cy_Orthopyroxene_Complex_Solution_calib_endmember_d3mu0dTdP2(index,t,p), 'J/K-bar^2-mol'))\n",
    "        print (fmt.format('d3mu0dP3', Complex_Solution.cy_Orthopyroxene_Complex_Solution_calib_endmember_d3mu0dP3(index,t,p), 'J/bar^3-mol'))\n",
    "        print (\"Element array:\")\n",
    "        print (Complex_Solution.cy_Orthopyroxene_Complex_Solution_calib_endmember_elements(index))\n",
    "        print ()\n",
    "except AttributeError:\n",
    "    pass"
   ]
  },
  {
   "cell_type": "markdown",
   "metadata": {},
   "source": [
    "### Execute functions that access species properties:"
   ]
  },
  {
   "cell_type": "code",
   "execution_count": null,
   "metadata": {},
   "outputs": [],
   "source": [
    "fmt = \"{0:<10.10s} {1:13.6e} {2:<15.15s}\"\n",
    "try:\n",
    "    print (\"number of species\", Complex_Solution.cy_Orthopyroxene_Complex_Solution_species_number())\n",
    "    for index in range(0, nc):\n",
    "        print (\"{0:<20.20s}\".format(Complex_Solution.cy_Orthopyroxene_Complex_Solution_species_name(index)), end=' ')\n",
    "        print (\"{0:<20.20s}\".format(Complex_Solution.cy_Orthopyroxene_Complex_Solution_species_formula(index)))\n",
    "        print (\"mw: {0:10.2f}\".format(Complex_Solution.cy_Orthopyroxene_Complex_Solution_species_mw(index)))\n",
    "        print (\"Element array:\")\n",
    "        print (Complex_Solution.cy_Orthopyroxene_Complex_Solution_species_elements(index))\n",
    "        print ()\n",
    "except AttributeError:\n",
    "    pass\n",
    "try:\n",
    "    print (\"number of species\", Complex_Solution.cy_Orthopyroxene_Complex_Solution_calib_species_number())\n",
    "    for index in range(0, nc):\n",
    "        print (\"{0:<20.20s}\".format(Complex_Solution.cy_Orthopyroxene_Complex_Solution_calib_species_name(index)), end=' ')\n",
    "        print (\"{0:<20.20s}\".format(Complex_Solution.cy_Orthopyroxene_Complex_Solution_calib_species_formula(index)), end=' ')\n",
    "        print (\"mw: {0:10.2f}\".format(Complex_Solution.cy_Orthopyroxene_Complex_Solution_calib_species_mw(index)))\n",
    "        print (\"Element array:\")\n",
    "        print (Complex_Solution.cy_Orthopyroxene_Complex_Solution_calib_species_elements(index))\n",
    "        print ()\n",
    "except AttributeError:\n",
    "    pass"
   ]
  },
  {
   "cell_type": "markdown",
   "metadata": {},
   "source": [
    "### Execute functions for molar derivatives\n",
    "#### First derivative vectors:"
   ]
  },
  {
   "cell_type": "code",
   "execution_count": null,
   "metadata": {},
   "outputs": [],
   "source": [
    "def printResult(name, result, units):\n",
    "    print (\"{0:<10.10s}\".format(name), end=' ')\n",
    "    [print (\"{0:13.6e}\".format(x), end=' ') for x in result]\n",
    "    print (\"{0:<10.10s}\".format(units))\n",
    "def printLabels(n):\n",
    "    print (\"{0:<18.18s}\".format(''), end=' ')\n",
    "    [print (\"[{0:3d}]{1:<8.8s}\".format(idx, ''), end=' ') for idx in range(len(n))]\n",
    "    print ()\n",
    "printLabels(n)\n",
    "try:\n",
    "    printResult('dGdn', Complex_Solution.cy_Orthopyroxene_Complex_Solution_dgdn(t,p,n), 'J/m')\n",
    "    printResult('d2GdndT', Complex_Solution.cy_Orthopyroxene_Complex_Solution_d2gdndt(t,p,n), 'J/K-m')\n",
    "    printResult('d2GdndP', Complex_Solution.cy_Orthopyroxene_Complex_Solution_d2gdndp(t,p,n), 'J/bar-m')\n",
    "    printResult('d3GdndT2', Complex_Solution.cy_Orthopyroxene_Complex_Solution_d3gdndt2(t,p,n), 'J/K^2-m')\n",
    "    printResult('d3GdndTdP', Complex_Solution.cy_Orthopyroxene_Complex_Solution_d3gdndtdp(t,p,n), 'J/K-bar-m')\n",
    "    printResult('d3GdndP2', Complex_Solution.cy_Orthopyroxene_Complex_Solution_d3gdndp2(t,p,n), 'J/bar^2-m')\n",
    "    printResult('d4GdndT3', Complex_Solution.cy_Orthopyroxene_Complex_Solution_d4gdndt3(t,p,n), 'J/K^3-m')\n",
    "    printResult('d4GdndT2dP', Complex_Solution.cy_Orthopyroxene_Complex_Solution_d4gdndt2dp(t,p,n), 'J/K^2-bar-m')\n",
    "    printResult('d4GdndTdP2', Complex_Solution.cy_Orthopyroxene_Complex_Solution_d4gdndtdp2(t,p,n), 'J/K-bar^2-m')\n",
    "    printResult('d4GdndP3', Complex_Solution.cy_Orthopyroxene_Complex_Solution_d4gdndp3(t,p,n), 'J/bar^3-m')\n",
    "except AttributeError:\n",
    "    pass\n",
    "try:\n",
    "    printResult('dGdn', Complex_Solution.cy_Orthopyroxene_Complex_Solution_calib_dgdn(t,p,n), 'J/m')\n",
    "    printResult('d2GdndT', Complex_Solution.cy_Orthopyroxene_Complex_Solution_calib_d2gdndt(t,p,n), 'J/K-m')\n",
    "    printResult('d2GdndP', Complex_Solution.cy_Orthopyroxene_Complex_Solution_calib_d2gdndp(t,p,n), 'J/bar-m')\n",
    "    printResult('d3GdndT2', Complex_Solution.cy_Orthopyroxene_Complex_Solution_calib_d3gdndt2(t,p,n), 'J/K^2-m')\n",
    "    printResult('d3GdndTdP', Complex_Solution.cy_Orthopyroxene_Complex_Solution_calib_d3gdndtdp(t,p,n), 'J/K-bar-m')\n",
    "    printResult('d3GdndP2', Complex_Solution.cy_Orthopyroxene_Complex_Solution_calib_d3gdndp2(t,p,n), 'J/bar^2-m')\n",
    "    printResult('d4GdndT3', Complex_Solution.cy_Orthopyroxene_Complex_Solution_calib_d4gdndt3(t,p,n), 'J/K^3-m')\n",
    "    printResult('d4GdndT2dP', Complex_Solution.cy_Orthopyroxene_Complex_Solution_calib_d4gdndt2dp(t,p,n), 'J/K^2-bar-m')\n",
    "    printResult('d4GdndTdP2', Complex_Solution.cy_Orthopyroxene_Complex_Solution_calib_d4gdndtdp2(t,p,n), 'J/K-bar^2-m')\n",
    "    printResult('d4GdndP3', Complex_Solution.cy_Orthopyroxene_Complex_Solution_calib_d4gdndp3(t,p,n), 'J/bar^3-m')\n",
    "except AttributeError:\n",
    "    pass    "
   ]
  },
  {
   "cell_type": "markdown",
   "metadata": {},
   "source": [
    "#### The Hessian matrix (molar second derivative matrix) is stored as a compact linear array\n",
    "A function is provided to map matrix indices to compact storage 1-D array indices"
   ]
  },
  {
   "cell_type": "code",
   "execution_count": null,
   "metadata": {},
   "outputs": [],
   "source": [
    "for i in range(1,nc+1):\n",
    "    print (\"[ \", end=' ')\n",
    "    for j in range (1,nc+1):\n",
    "        print ((i,j), end=' ')\n",
    "    print (']     [', end=' ')\n",
    "    for j in range (1,nc+1):\n",
    "        print (model.symmetric_index_from_2d_array(elm=(i,j)), end=' ')\n",
    "    print (']')"
   ]
  },
  {
   "cell_type": "code",
   "execution_count": null,
   "metadata": {},
   "outputs": [],
   "source": [
    "def printResult(name, result, units):\n",
    "    print (\"{0:<10.10s}\".format(name), end=' ')\n",
    "    [print (\"{0:13.6e}\".format(x), end=' ') for x in result]\n",
    "    print (\"{0:<10.10s}\".format(units))\n",
    "def printLabels(n):\n",
    "    print (\"{0:<18.18s}\".format(''), end=' ')\n",
    "    maxIdx = int(len(n)*(len(n)-1)/2 + len(n))\n",
    "    [print (\"[{0:3d}]{1:<8.8s}\".format(idx, ''), end=' ') for idx in range(maxIdx)]\n",
    "    print ()\n",
    "printLabels(n)\n",
    "try:\n",
    "    printResult('d2Gdn2', Complex_Solution.cy_Orthopyroxene_Complex_Solution_d2gdn2(t,p,n), 'J/m^2')\n",
    "    printResult('d3Gdn2dT', Complex_Solution.cy_Orthopyroxene_Complex_Solution_d3gdn2dt(t,p,n), 'J/K-m^2')\n",
    "    printResult('d3Gdn2dP', Complex_Solution.cy_Orthopyroxene_Complex_Solution_d3gdn2dp(t,p,n), 'J/bar-m^2')\n",
    "    printResult('d4Gdn2dT2', Complex_Solution.cy_Orthopyroxene_Complex_Solution_d4gdn2dt2(t,p,n), 'J/K^2-m^2')\n",
    "    printResult('d4Gdn2dTdP', Complex_Solution.cy_Orthopyroxene_Complex_Solution_d4gdn2dtdp(t,p,n), 'J/K-bar-m^2')\n",
    "    printResult('d4Gdn2dP2', Complex_Solution.cy_Orthopyroxene_Complex_Solution_d4gdn2dp2(t,p,n), 'J/bar^2-m^2')\n",
    "    printResult('d5Gdn2dT3', Complex_Solution.cy_Orthopyroxene_Complex_Solution_d5gdn2dt3(t,p,n), 'J/K^3-m^2')\n",
    "    printResult('d5Gdn2dT2dP', Complex_Solution.cy_Orthopyroxene_Complex_Solution_d5gdn2dt2dp(t,p,n), 'J/K^2-bar-m^2')\n",
    "    printResult('d5Gdn2dTdP2', Complex_Solution.cy_Orthopyroxene_Complex_Solution_d5gdn2dtdp2(t,p,n), 'J/K-bar^2-m^2')\n",
    "    printResult('d5Gdn2dP3', Complex_Solution.cy_Orthopyroxene_Complex_Solution_d5gdn2dp3(t,p,n), 'J/bar^3-m^2')\n",
    "except AttributeError:\n",
    "    pass\n",
    "try:\n",
    "    printResult('d2Gdn2', Complex_Solution.cy_Orthopyroxene_Complex_Solution_calib_d2gdn2(t,p,n), 'J/m^2')\n",
    "    printResult('d3Gdn2dT', Complex_Solution.cy_Orthopyroxene_Complex_Solution_calib_d3gdn2dt(t,p,n), 'J/K-m^2')\n",
    "    printResult('d3Gdn2dP', Complex_Solution.cy_Orthopyroxene_Complex_Solution_calib_d3gdn2dp(t,p,n), 'J/bar-m^2')\n",
    "    printResult('d4Gdn2dT2', Complex_Solution.cy_Orthopyroxene_ComplexSolution_calib_d4gdn2dt2(t,p,n), 'J/K^2-m^2')\n",
    "    printResult('d4Gdn2dTdP', Complex_Solution.cy_Orthopyroxene_Complex_Solution_calib_d4gdn2dtdp(t,p,n), 'J/K-bar-m^2')\n",
    "    printResult('d4Gdn2dP2', Complex_Solution.cy_Orthopyroxene_Complex_Solution_calib_d4gdn2dp2(t,p,n), 'J/bar^2-m^2')\n",
    "    printResult('d5Gdn2dT3', Complex_Solution.cy_Orthopyroxene_Complex_Solution_calib_d5gdn2dt3(t,p,n), 'J/K^3-m^2')\n",
    "    printResult('d5Gdn2dT2dP', Complex_Solution.cy_Orthopyroxene_Complex_Solution_calib_d5gdn2dt2dp(t,p,n), 'J/K^2-bar-m^2')\n",
    "    printResult('d5Gdn2dTdP2', Complex_Solution.cy_Orthopyroxene_Complex_Solution_calib_d5gdn2dtdp2(t,p,n), 'J/K-bar^2-m^2')\n",
    "    printResult('d5Gdn2dP3', Complex_Solution.cy_Orthopyroxene_Complex_Solution_calib_d5gdn2dp3(t,p,n), 'J/bar^3-m^2')\n",
    "except AttributeError:\n",
    "    pass"
   ]
  },
  {
   "cell_type": "markdown",
   "metadata": {},
   "source": [
    "#### The 3-D Tensor (molar third derivative tensor) is stored as a compact linear array\n",
    "A function is provided to map matrix indices to compact storage 1-D array indices:  \n",
    "If $n_c$ represents the number of components in the solution, and  \n",
    "if $n_d$ represents the dimensionality of molar derivative (in this case 3), then  \n",
    "the number of numerically ordered permutations of $n_c$ molar derivatives taken $n_d$ at a time is:"
   ]
  },
  {
   "cell_type": "code",
   "execution_count": null,
   "metadata": {},
   "outputs": [],
   "source": [
    "n_c,n_d = sym.symbols('n_c n_d')\n",
    "q = sym.factorial(n_c+n_d-1)/sym.factorial(n_d)/sym.factorial(n_c-1)\n",
    "q"
   ]
  },
  {
   "cell_type": "markdown",
   "metadata": {},
   "source": [
    "Substituting $n_d$ equal to 3 and simplifying gives:"
   ]
  },
  {
   "cell_type": "code",
   "execution_count": null,
   "metadata": {},
   "outputs": [],
   "source": [
    "q = sym.simplify(q.subs(n_d,3))\n",
    "q"
   ]
  },
  {
   "cell_type": "markdown",
   "metadata": {},
   "source": [
    "and, for the number of components in this solution, there will be the following number of unique terms in the third derivative tensor:"
   ]
  },
  {
   "cell_type": "code",
   "execution_count": null,
   "metadata": {},
   "outputs": [],
   "source": [
    "q.subs(n_c,nc)"
   ]
  },
  {
   "cell_type": "markdown",
   "metadata": {},
   "source": [
    "A function is provided to map matrix indices to compact storage 1-D array indices"
   ]
  },
  {
   "cell_type": "code",
   "execution_count": null,
   "metadata": {},
   "outputs": [],
   "source": [
    "for i in range(1,nc+1):\n",
    "    for j in range (1,nc+1):\n",
    "        print (\"[\", end=' ')\n",
    "        for k in range (1,nc+1):\n",
    "            print (\"{0:1d}{1:1d}{2:1d}\".format(i,j,k), end=' ')\n",
    "        print ('] ', end=' ')\n",
    "    print ('  ->  ', end=' ')\n",
    "    for j in range (1,nc+1):\n",
    "        print (\"[\", end=' ')\n",
    "        for k in range (1,nc+1):\n",
    "            print (model.symmetric_index_from_3d_array(elm=(i,j,k)), end=' ')\n",
    "        print ('] ', end=' ')\n",
    "    print ('')"
   ]
  },
  {
   "cell_type": "code",
   "execution_count": null,
   "metadata": {},
   "outputs": [],
   "source": [
    "def printResult(name, result, units):\n",
    "    print (\"{0:<10.10s}\".format(name), end=' ')\n",
    "    [print (\"{0:10.3e}\".format(x), end=' ') for x in result]\n",
    "    print (\"{0:<14.14s}\".format(units))\n",
    "def printLabels(n):\n",
    "    print (\"{0:<15.15s}\".format(''), end=' ')\n",
    "    maxIdx = int(len(n)*(len(n)+1)*(len(n)+2)/6)\n",
    "    [print (\"[{0:3d}]{1:<5.5s}\".format(idx, ''), end=' ') for idx in range(maxIdx)]\n",
    "    print ()\n",
    "printLabels(n)\n",
    "try:\n",
    "    printResult('d3Gdn3', Complex_Solution.cy_Orthopyroxene_Complex_Solution_d3gdn3(t,p,n), 'J/m^3')\n",
    "    printResult('d4Gdn3dT', Complex_Solution.cy_Orthopyroxene_Complex_Solution_d4gdn3dt(t,p,n), 'J/K-m^3')\n",
    "    printResult('d4Gdn3dP', Complex_Solution.cy_Orthopyroxene_Complex_Solution_d4gdn3dp(t,p,n), 'J/bar-m^3')\n",
    "    printResult('d5Gdn3dT2', Complex_Solution.cy_Orthopyroxene_Complex_Solution_d5gdn3dt2(t,p,n), 'J/K^2-m^3')\n",
    "    printResult('d5Gdn3dTdP', Complex_Solution.cy_Orthopyroxene_Complex_Solution_d5gdn3dtdp(t,p,n), 'J/K-bar-m^3')\n",
    "    printResult('d5Gdn3dP2', Complex_Solution.cy_Orthopyroxene_Complex_Solution_d5gdn3dp2(t,p,n), 'J/bar^2-m^3')\n",
    "    printResult('d6Gdn3dT3', Complex_Solution.cy_Orthopyroxene_Complex_Solution_d6gdn3dt3(t,p,n), 'J/K^3-m^3')\n",
    "    printResult('d6Gdn3dT2dP', Complex_Solution.cy_Orthopyroxene_Complex_Solution_d6gdn3dt2dp(t,p,n), 'J/K^2-bar-m^3')\n",
    "    printResult('d6Gdn3dTdP2', Complex_Solution.cy_Orthopyroxene_Complex_Solution_d6gdn3dtdp2(t,p,n), 'J/K-bar^2-m^3')\n",
    "    printResult('d6Gdn3dP3', Complex_Solution.cy_Orthopyroxene_Complex_Solution_d6gdn3dp3(t,p,n), 'J/bar^3-m^3')\n",
    "except AttributeError:\n",
    "    pass\n",
    "try:\n",
    "    printResult('d3Gdn3', Complex_Solution.cy_Orthopyroxene_Complex_Solution_calib_d3gdn3(t,p,n), 'J/m^3')\n",
    "    printResult('d4Gdn3dT', Complex_Solution.cy_Orthopyroxene_Complex_Solution_calib_d4gdn3dt(t,p,n), 'J/K-m^3')\n",
    "    printResult('d4Gdn3dP', Complex_Solution.cy_Orthopyroxene_Complex_Solution_calib_d4gdn3dp(t,p,n), 'J/bar-m^3')\n",
    "    printResult('d5Gdn3dT2', Complex_Solution.cy_Orthopyroxene_Complex_Solution_calib_d5gdn3dt2(t,p,n), 'J/K^2-m^3')\n",
    "    printResult('d5Gdn3dTdP', Complex_Solution.cy_Orthopyroxene_Complex_Solution_calib_d5gdn3dtdp(t,p,n), 'J/K-bar-m^3')\n",
    "    printResult('d5Gdn3dP2', Complex_Solution.cy_Orthopyroxene_Complex_Solution_calib_d5gdn3dp2(t,p,n), 'J/bar^2-m^3')\n",
    "    printResult('d6Gdn3dT3', Complex_Solution.cy_Orthopyroxene_Complex_Solution_calib_d6gdn3dt3(t,p,n), 'J/K^3-m^3')\n",
    "    printResult('d6Gdn3dT2dP', Complex_Solution.cy_Orthopyroxene_Complex_Solution_calib_d6gdn3dt2dp(t,p,n), 'J/K^2-bar-m^3')\n",
    "    printResult('d6Gdn3dTdP2', Complex_Solution.cy_Orthopyroxene_Complex_Solution_calib_d6gdn3dtdp2(t,p,n), 'J/K-bar^2-m^3')\n",
    "    printResult('d6Gdn3dP3', Complex_Solution.cy_Orthopyroxene_Complex_Solution_calib_d6gdn3dp3(t,p,n), 'J/bar^3-m^3')\n",
    "except AttributeError:\n",
    "    pass"
   ]
  },
  {
   "cell_type": "markdown",
   "metadata": {},
   "source": [
    "## Test and time the generated functions for Feldspar"
   ]
  },
  {
   "cell_type": "markdown",
   "metadata": {},
   "source": [
    "Time the code"
   ]
  },
  {
   "cell_type": "code",
   "execution_count": null,
   "metadata": {},
   "outputs": [],
   "source": [
    "try:\n",
    "    %timeit Complex_Solution.cy_Orthopyroxene_Complex_Solution_g(t, p, n)\n",
    "except AttributeError:\n",
    "    pass\n",
    "try:\n",
    "    %timeit Complex_Solution.cy_Orthopyroxene_Complex_Solution_calib_g(t, p, n) \n",
    "except AttributeError:\n",
    "    pass"
   ]
  },
  {
   "cell_type": "markdown",
   "metadata": {},
   "source": [
    "Time the Rubicon wrapped Objective-C code"
   ]
  },
  {
   "cell_type": "code",
   "execution_count": null,
   "metadata": {},
   "outputs": [],
   "source": [
    "from thermoengine import model as stdmodel\n",
    "modelDB = stdmodel.Database()\n",
    "CpxHC = modelDB.get_phase('Cpx')"
   ]
  },
  {
   "cell_type": "code",
   "execution_count": null,
   "metadata": {},
   "outputs": [],
   "source": [
    "%timeit CpxHC.gibbs_energy(t,p,mol=np.array([1.1, 1.2, 1.3, 0.0, 0.0, 0.0, 0.0])) "
   ]
  },
  {
   "cell_type": "markdown",
   "metadata": {},
   "source": [
    "## Methods available only in the \"Calib\" versions of generated code\n",
    "### Execute the parameter value/metadata functions.  \n",
    "These functions are only defined for the \"calibration\" model code implementation:"
   ]
  },
  {
   "cell_type": "code",
   "execution_count": null,
   "metadata": {},
   "outputs": [],
   "source": [
    "nparam = 0"
   ]
  },
  {
   "cell_type": "code",
   "execution_count": null,
   "metadata": {},
   "outputs": [],
   "source": [
    "try:\n",
    "    nparam = Complex_Solution.cy_Orthopyroxene_Complex_Solution_get_param_number()\n",
    "    names = Complex_Solution.cy_Orthopyroxene_Complex_Solution_get_param_names()\n",
    "    units = Complex_Solution.cy_Orthopyroxene_Complex_Solution_get_param_units()\n",
    "    values = Complex_Solution.cy_Orthopyroxene_Complex_Solution_get_param_values()\n",
    "    fmt = \"{0:<10.10s} {1:13.6e} {2:13.6e} {3:<10.10s}\"\n",
    "    for i in range(0,nparam):\n",
    "        print(fmt.format(names[i], values[i], Complex_Solution.cy_Orthopyroxene_Complex_Solution_get_param_value(i), units[i]))\n",
    "except AttributeError:\n",
    "    pass"
   ]
  },
  {
   "cell_type": "markdown",
   "metadata": {},
   "source": [
    "### Functions that allow modification of the array of parameter values"
   ]
  },
  {
   "cell_type": "code",
   "execution_count": null,
   "metadata": {},
   "outputs": [],
   "source": [
    "try:\n",
    "    values[1] = 100.0\n",
    "    Complex_Solution.cy_Orthopyroxene_Complex_Solution_set_param_values(values)\n",
    "    fmt = \"{0:<10.10s} {1:13.6e} {2:13.6e} {3:<10.10s}\"\n",
    "    for i in range(0,nparam):\n",
    "        print(fmt.format(names[i], values[i], Complex_Solution.cy_Orthopyroxene_Complex_Solution_get_param_value(i), units[i]))\n",
    "except (AttributeError, NameError):\n",
    "    pass"
   ]
  },
  {
   "cell_type": "markdown",
   "metadata": {},
   "source": [
    "### Functions that allow modification of a particular parameter value"
   ]
  },
  {
   "cell_type": "code",
   "execution_count": null,
   "metadata": {},
   "outputs": [],
   "source": [
    "try:\n",
    "    Complex_Solution.cy_Orthopyroxene_Complex_Solution_set_param_value(1, 1.0)\n",
    "    fmt = \"{0:<10.10s} {1:13.6e} {2:13.6e} {3:<10.10s}\"\n",
    "    for i in range(0,nparam):\n",
    "        print(fmt.format(names[i], values[i], Complex_Solution.cy_Orthopyroxene_Complex_Solution_get_param_value(i), units[i]))\n",
    "except AttributeError:\n",
    "    pass"
   ]
  },
  {
   "cell_type": "markdown",
   "metadata": {},
   "source": [
    "### Functions that evaluate parameter derivatives ..."
   ]
  },
  {
   "cell_type": "code",
   "execution_count": null,
   "metadata": {},
   "outputs": [],
   "source": [
    "try:\n",
    "    fmt = \"    {0:<10.10s} {1:13.6e}\"\n",
    "    for i in range(0, nparam):\n",
    "        print ('Derivative with respect to parameter: ', names[i], ' of')\n",
    "        print (fmt.format('G', Complex_Solution.cy_Orthopyroxene_Complex_Solution_dparam_g(t, p, n, i)))\n",
    "        print (fmt.format('dGdT', Complex_Solution.cy_Orthopyroxene_Complex_Solution_dparam_dgdt(t, p, n, i)))\n",
    "        print (fmt.format('dGdP', Complex_Solution.cy_Orthopyroxene_Complex_Solution_dparam_dgdp(t, p, n, i)))\n",
    "        print (fmt.format('d2GdT2', Complex_Solution.cy_Orthopyroxene_Complex_Solution_dparam_d2gdt2(t, p, n, i)))\n",
    "        print (fmt.format('d2GdTdP', Complex_Solution.cy_Orthopyroxene_Complex_Solution_dparam_d2gdtdp(t, p, n, i)))\n",
    "        print (fmt.format('d2GdP2', Complex_Solution.cy_Orthopyroxene_Complex_Solution_dparam_d2gdp2(t, p, n, i)))\n",
    "        print (fmt.format('d3GdT3', Complex_Solution.cy_Orthopyroxene_Complex_Solution_dparam_d3gdt3(t, p, n, i)))\n",
    "        print (fmt.format('d3GdT2dP', Complex_Solution.cy_Orthopyroxene_Complex_Solution_dparam_d3gdt2dp(t, p, n, i)))\n",
    "        print (fmt.format('d3GdTdP2', Complex_Solution.cy_Orthopyroxene_Complex_Solution_dparam_d3gdtdp2(t, p, n, i)))\n",
    "        print (fmt.format('d3GdP3', Complex_Solution.cy_Orthopyroxene_Complex_Solution_dparam_d3gdp3(t, p, n, i)))\n",
    "except (AttributeError, TypeError):\n",
    "    pass"
   ]
  },
  {
   "cell_type": "markdown",
   "metadata": {},
   "source": [
    "### Parameter derivatives of the chemical potential"
   ]
  },
  {
   "cell_type": "code",
   "execution_count": null,
   "metadata": {},
   "outputs": [],
   "source": [
    "def printResult(name, result, units):\n",
    "    print (\"dmu[*]/d {0:<10.10s}\".format(name), end=' ')\n",
    "    [print (\"{0:13.6e}\".format(x), end=' ') for x in result]\n",
    "    print (\"{0:<12.12s}\".format(units))\n",
    "def printLabels(n):\n",
    "    print (\"         {0:<18.18s}\".format(''), end=' ')\n",
    "    [print (\"[{0:3d}]{1:<8.8s}\".format(idx, ''), end=' ') for idx in range(len(n))]\n",
    "    print ()\n",
    "try:\n",
    "    printLabels(n)\n",
    "    for i in range(0, nparam):\n",
    "        result = Complex_Solution.cy_Orthopyroxene_Complex_Solution_dparam_dgdn(t,p,n, i)\n",
    "        printResult(names[i], result, 'J/m^2/p-unit')\n",
    "except AttributeError:\n",
    "    pass    "
   ]
  },
  {
   "cell_type": "code",
   "execution_count": null,
   "metadata": {},
   "outputs": [],
   "source": []
  }
 ],
 "metadata": {
  "kernelspec": {
   "display_name": "Python 3 (ipykernel)",
   "language": "python",
   "name": "python3"
  },
  "language_info": {
   "codemirror_mode": {
    "name": "ipython",
    "version": 3
   },
   "file_extension": ".py",
   "mimetype": "text/x-python",
   "name": "python",
   "nbconvert_exporter": "python",
   "pygments_lexer": "ipython3",
   "version": "3.9.7"
  }
 },
 "nbformat": 4,
 "nbformat_minor": 4
}
