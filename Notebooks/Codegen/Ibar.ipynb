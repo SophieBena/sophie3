{
 "cells": [
  {
   "cell_type": "markdown",
   "metadata": {},
   "source": [
    "# Ibar\n",
    "$\\bar I = \\frac{1}{2}\\sum\\limits_i^{species} {{m_i}z_i^2}$"
   ]
  },
  {
   "cell_type": "code",
   "execution_count": null,
   "metadata": {},
   "outputs": [],
   "source": [
    "import sympy as sym\n",
    "from sympy.printing.ccode import C99CodePrinter\n",
    "sym.init_printing()"
   ]
  },
  {
   "cell_type": "code",
   "execution_count": null,
   "metadata": {},
   "outputs": [],
   "source": [
    "nb = 5\n",
    "ns = 10\n",
    "ne = nb + ns\n",
    "i = sym.symbols('i')"
   ]
  },
  {
   "cell_type": "code",
   "execution_count": null,
   "metadata": {},
   "outputs": [],
   "source": [
    "b_list = []\n",
    "b_T = sym.S.Zero\n",
    "for j in range(0,nb):\n",
    "    entry = sym.symbols('b_'+str(j))\n",
    "    b_list.append(entry)\n",
    "    b_T += entry\n",
    "b = b_list\n",
    "b, b_T"
   ]
  },
  {
   "cell_type": "code",
   "execution_count": null,
   "metadata": {},
   "outputs": [],
   "source": [
    "T,P = sym.symbols('T P')\n",
    "class s(sym.Function):\n",
    "    nargs = nb+3"
   ]
  },
  {
   "cell_type": "code",
   "execution_count": null,
   "metadata": {},
   "outputs": [],
   "source": [
    "X = s(i, T, P, *b)/b_T\n",
    "X"
   ]
  },
  {
   "cell_type": "code",
   "execution_count": null,
   "metadata": {},
   "outputs": [],
   "source": [
    "nW = b[0]\n",
    "nW"
   ]
  },
  {
   "cell_type": "code",
   "execution_count": null,
   "metadata": {},
   "outputs": [],
   "source": [
    "CapGam = sym.symbols('Gamma')\n",
    "Xw = nW/b_T\n",
    "Xw"
   ]
  },
  {
   "cell_type": "code",
   "execution_count": null,
   "metadata": {},
   "outputs": [],
   "source": [
    "m = X*CapGam/Xw\n",
    "m"
   ]
  },
  {
   "cell_type": "code",
   "execution_count": null,
   "metadata": {},
   "outputs": [],
   "source": [
    "class z(sym.Function):\n",
    "    nargs = 1"
   ]
  },
  {
   "cell_type": "code",
   "execution_count": null,
   "metadata": {},
   "outputs": [],
   "source": [
    "I = m*z(i)**2/2\n",
    "I"
   ]
  },
  {
   "cell_type": "code",
   "execution_count": null,
   "metadata": {},
   "outputs": [],
   "source": [
    "class SubCodePrinter(C99CodePrinter):\n",
    "    def _print_s(self, expr):\n",
    "        return str(expr.func) + '(' + str(expr.args[0]) + ', ' + str(expr.args[1]) + ', ' + str(expr.args[2]) + ', b)'\n",
    "    def _print_z(self, expr):\n",
    "        return str(expr.func) + '(' + str(expr.args[0]) + ')'\n",
    "    def _print_KroneckerDelta(self, expr):\n",
    "        i = expr.args[0]\n",
    "        j = expr.args[1]\n",
    "        return '((i==j) ? 1 : 0)'\n",
    "    def _print_Derivative(self, expr):\n",
    "        function, *vars = expr.args\n",
    "        number_of_derivatives = len(expr.args) - 1\n",
    "        if function.func.__name__[0:1] == 's':\n",
    "            if number_of_derivatives == 1:\n",
    "                d_str = ''.join(repr(vars[0][0]).split('_'))\n",
    "                d_ord  = '' if vars[0][1] == 1 else str(vars[0][1])\n",
    "                result  = 'd' + d_ord + 's'\n",
    "                for i in range(0,vars[0][1]):\n",
    "                    result += 'D' + d_str\n",
    "                result += '(' + str(function.args[0]) + ', ' + str(function.args[1]) + ', ' + str(function.args[2]) + ', b)'\n",
    "            elif number_of_derivatives == 2:\n",
    "                d_str1 = ''.join(repr(vars[0][0]).split('_'))\n",
    "                d_str2 = ''.join(repr(vars[1][0]).split('_'))\n",
    "                d_ord  = str(vars[0][1]+vars[1][1])\n",
    "                result  = 'd' + d_ord + 's'\n",
    "                for i in range(0,vars[0][1]):\n",
    "                    result += 'D' + d_str1\n",
    "                for i in range(0,vars[1][1]):\n",
    "                    result += 'D' + d_str2\n",
    "                result += '(' + str(function.args[0]) + ', ' + str(function.args[1]) + ', ' + str(function.args[2]) + ', b)'\n",
    "            elif number_of_derivatives == 3:\n",
    "                d_str1 = ''.join(repr(vars[0][0]).split('_'))\n",
    "                d_str2 = ''.join(repr(vars[1][0]).split('_'))\n",
    "                d_str3 = ''.join(repr(vars[2][0]).split('_'))\n",
    "                d_ord  = str(vars[0][1]+vars[1][1]+vars[2][1])\n",
    "                result  = 'd' + d_ord + 's'\n",
    "                for i in range(0,vars[0][1]):\n",
    "                    result += 'D' + d_str1\n",
    "                for i in range(0,vars[1][1]):\n",
    "                    result += 'D' + d_str2\n",
    "                for i in range(0,vars[2][1]):\n",
    "                    result += 'D' + d_str3\n",
    "                result += '(' + str(function.args[0]) + ', ' + str(function.args[1]) + ', ' + str(function.args[2]) + ', b)'\n",
    "            else:\n",
    "                print ('Error: More than three derivatives of s not supported.')\n",
    "                result = ''\n",
    "        else:\n",
    "            if (not isinstance(type(function), UndefinedFunction) or \n",
    "                not all(isinstance(i, Symbol) for i in vars)):\n",
    "                return super()._print_Derivative(expr)\n",
    "        return result\n",
    "printer = SubCodePrinter()"
   ]
  },
  {
   "cell_type": "code",
   "execution_count": null,
   "metadata": {},
   "outputs": [],
   "source": [
    "ibar_template = \\\n",
    "\"\"\"\n",
    "double Ibar = 0.0;\n",
    "for (int i=0; i<ne; i++) {{\n",
    "    Ibar = {ibar};\n",
    "}}\n",
    "\"\"\"\n",
    "print (ibar_template.format(ibar=printer.doprint(I).replace('b_0', 'b[0]')))"
   ]
  },
  {
   "cell_type": "code",
   "execution_count": null,
   "metadata": {},
   "outputs": [],
   "source": [
    "I.diff(b[0])"
   ]
  },
  {
   "cell_type": "code",
   "execution_count": null,
   "metadata": {},
   "outputs": [],
   "source": [
    "header = \\\n",
    "\"\"\"\n",
    "double dIbarDb[nb];\n",
    "for (int i=0; i<ne; i++) {\"\"\"\n",
    "footer = \\\n",
    "\"\"\"}\n",
    "\"\"\"\n",
    "print (header)\n",
    "for i in range(0,nb):\n",
    "    print ('   ', printer.doprint(I.diff(b[i]), assign_to='dIbarDb['+str(i)+']').replace('b_0', 'b[0]'))\n",
    "print (footer)"
   ]
  },
  {
   "cell_type": "code",
   "execution_count": null,
   "metadata": {},
   "outputs": [],
   "source": [
    "I.diff(b[0],b[1])"
   ]
  },
  {
   "cell_type": "code",
   "execution_count": null,
   "metadata": {},
   "outputs": [],
   "source": [
    "header = \\\n",
    "\"\"\"\n",
    "double d2IbarDb2[nb][nb];\n",
    "for (int i=0; i<ne; i++) {\"\"\"\n",
    "footer = \\\n",
    "\"\"\"}\n",
    "\"\"\"\n",
    "print (header)\n",
    "for i in range(0,nb):\n",
    "    for j in range(i,nb):\n",
    "        print ('   ', printer.doprint(I.diff(b[i], b[j]), assign_to='d2IbarDb2['+str(i)+']['+str(j)+']').replace('b_0', 'b[0]'))\n",
    "        if j > i:\n",
    "            print ('   ', 'd2IbarDb2['+str(j)+']['+str(i)+'] = d2IbarDb2['+str(i)+']['+str(j)+']')\n",
    "print (footer)"
   ]
  },
  {
   "cell_type": "code",
   "execution_count": null,
   "metadata": {},
   "outputs": [],
   "source": [
    "I.diff(b[0],b[1],b[2])"
   ]
  },
  {
   "cell_type": "code",
   "execution_count": null,
   "metadata": {},
   "outputs": [],
   "source": [
    "header = \\\n",
    "\"\"\"\n",
    "double d3IbarDb3[nb][nb][nb];\n",
    "for (int i=0; i<ne; i++) {\"\"\"\n",
    "footer = \\\n",
    "\"\"\"}\n",
    "\"\"\"\n",
    "print (header)\n",
    "for i in range(0,nb):\n",
    "    for j in range(i,nb):\n",
    "        for k in range(j,nb):\n",
    "            print('   ', printer.doprint(I.diff(b[i],b[j],b[k]), \n",
    "                                         assign_to='d3IbarDb3['+str(i)+']['+str(j)+']['+str(k)+']').replace('b_0', 'b[0]'))\n",
    "            if k > j:\n",
    "                print('   ', 'd3IbarDb3['+str(i)+']['+str(k)+']['+str(j)+'] = d3IbarDb3['+str(i)+']['+str(j)+']['+str(k)+']')\n",
    "        if j > i:\n",
    "            for k in range(i, nb):\n",
    "                print('   ', 'd3IbarDb3['+str(j)+']['+str(i)+']['+str(k)+'] = d3IbarDb3['+str(i)+']['+str(j)+']['+str(k)+']')\n",
    "                if k > i:\n",
    "                    print('   ', 'd3IbarDb3['+str(j)+']['+str(k)+']['+str(i)+'] = d3IbarDb3['+str(i)+']['+str(j)+']['+str(k)+']')\n",
    "print (footer)"
   ]
  },
  {
   "cell_type": "code",
   "execution_count": null,
   "metadata": {},
   "outputs": [],
   "source": []
  }
 ],
 "metadata": {
  "kernelspec": {
   "display_name": "Python 3",
   "language": "python",
   "name": "python3"
  },
  "language_info": {
   "codemirror_mode": {
    "name": "ipython",
    "version": 3
   },
   "file_extension": ".py",
   "mimetype": "text/x-python",
   "name": "python",
   "nbconvert_exporter": "python",
   "pygments_lexer": "ipython3",
   "version": "3.7.6"
  }
 },
 "nbformat": 4,
 "nbformat_minor": 4
}
