{
 "cells": [
  {
   "cell_type": "markdown",
   "metadata": {},
   "source": [
    "# Complex solution implementation documentation "
   ]
  },
  {
   "cell_type": "code",
   "execution_count": null,
   "metadata": {},
   "outputs": [],
   "source": [
    "import sympy as sym\n",
    "sym.init_printing()"
   ]
  },
  {
   "cell_type": "markdown",
   "metadata": {},
   "source": [
    "## Gibbs free energy with ordering parameters"
   ]
  },
  {
   "cell_type": "markdown",
   "metadata": {},
   "source": [
    "The extensive (mass dependent) Gibbs free energy will be denoted:  \n",
    "$G\\left( {T,P,{\\bf{n}},{\\bf{s}}} \\right)$,  \n",
    "where $\\bf{n}$ is a vector of endmember components of length *nc* and $\\bf{s}$ is a vector of dependent (ordering) parameters of length *ns*.  \n",
    "\n",
    "As a concrete example, *nc* is set to 5 and *ns* is set to 3"
   ]
  },
  {
   "cell_type": "code",
   "execution_count": null,
   "metadata": {},
   "outputs": [],
   "source": [
    "nc = 2\n",
    "ns = 1"
   ]
  },
  {
   "cell_type": "markdown",
   "metadata": {},
   "source": [
    "Construct a vector of endmember component mole numbers ..."
   ]
  },
  {
   "cell_type": "code",
   "execution_count": null,
   "metadata": {},
   "outputs": [],
   "source": [
    "T,P = sym.symbols('T P')\n",
    "c_str = ''\n",
    "for i in range(1,nc+1):\n",
    "    c_str += 'n' + str(i) + ' '\n",
    "n = sym.Matrix(sym.symbols(c_str))"
   ]
  },
  {
   "cell_type": "markdown",
   "metadata": {},
   "source": [
    "... and an argument list for the implicit ordering functions"
   ]
  },
  {
   "cell_type": "code",
   "execution_count": null,
   "metadata": {},
   "outputs": [],
   "source": [
    "s_args = (T,P)\n",
    "s_args += tuple([n[i] for i in range(0,nc)])"
   ]
  },
  {
   "cell_type": "markdown",
   "metadata": {},
   "source": [
    "Construct the ordering functions, $Os_i$, and store them in a matrix, $Os$, and construct ordering variables, $s_i$, for the Gibbs function and store these in a matrix, $s$.  \n",
    "\n",
    "This is done so that we can take derivatives of the Gibbs function with respect to ordering variables and to use ordering functions to evaluate exterior derivatives over the homogeneous equilibrium ordering surface manifold."
   ]
  },
  {
   "cell_type": "code",
   "execution_count": null,
   "metadata": {},
   "outputs": [],
   "source": [
    "Os_list = []\n",
    "s_str = ''\n",
    "for i in range(1,ns+1):\n",
    "    Os_list.append(sym.Function('Os'+str(i))(*s_args))\n",
    "    s_str += 's' + str(i) + ' '\n",
    "Os = sym.Matrix(Os_list)\n",
    "s = sym.Matrix(sym.symbols(s_str if ns > 1 else [s_str]))"
   ]
  },
  {
   "cell_type": "markdown",
   "metadata": {},
   "source": [
    "Construct the argument list for the Gibbs free energy function"
   ]
  },
  {
   "cell_type": "code",
   "execution_count": null,
   "metadata": {},
   "outputs": [],
   "source": [
    "g_args = s_args + tuple([s[i] for i in range(0,ns)])\n",
    "g_args"
   ]
  },
  {
   "cell_type": "markdown",
   "metadata": {},
   "source": [
    "Construct the Gibbs free energy function"
   ]
  },
  {
   "cell_type": "code",
   "execution_count": null,
   "metadata": {},
   "outputs": [],
   "source": [
    "G = sym.Function('G')(*g_args)\n",
    "G"
   ]
  },
  {
   "cell_type": "markdown",
   "metadata": {},
   "source": [
    "## The total derivative of the Gibbs free energy is  \n",
    "\n",
    "$dG = \\frac{{\\partial G}}{{\\partial T}}dT + \\frac{{\\partial G}}{{\\partial P}}dP + \\frac{{\\partial G}}{{\\partial {\\bf{n}}}}d{\\bf{n}} + \\frac{{\\partial G}}{{\\partial {\\bf{s}}}}d{\\bf{s}}$  \n",
    "\n",
    "## At homogeneous equilibrium, $\\frac{{\\partial G}}{{\\partial {\\bf{s}}}} = {\\bf{0}}$:\n",
    "(this expression is non-linear and must be solved iteratively, e.g., Newton's method)"
   ]
  },
  {
   "cell_type": "code",
   "execution_count": null,
   "metadata": {},
   "outputs": [],
   "source": [
    "hEQ = sym.Matrix.zeros(rows=ns,cols=1)\n",
    "sym.Eq(G.diff(s),hEQ)"
   ]
  },
  {
   "cell_type": "markdown",
   "metadata": {},
   "source": [
    "## Consequently, from the total derivative of the Gibbs free energy\n",
    "along the homogenious equilibrium manifold ..."
   ]
  },
  {
   "cell_type": "markdown",
   "metadata": {},
   "source": [
    "### (1-1) ${\\left. {\\frac{{\\partial G}}{{\\partial T}}} \\right|_{eq}} = \\frac{{\\partial G}}{{\\partial T}}$  \n",
    "\n",
    "### (1-2) ${\\left. {\\frac{{\\partial G}}{{\\partial P}}} \\right|_{eq}} = \\frac{{\\partial G}}{{\\partial P}}$  \n",
    "\n",
    "### (1-3) ${\\left. {\\frac{{\\partial G}}{{\\partial \\bf{n}}}} \\right|_{eq}} = \\frac{{\\partial G}}{{\\partial \\bf{n}}}$ "
   ]
  },
  {
   "cell_type": "markdown",
   "metadata": {},
   "source": [
    "## First derivatives of the ordering parameters  \n",
    "\n",
    "$d\\frac{{\\partial G}}{{\\partial {\\bf{s}}}} = {\\bf{0}} = \\frac{{{\\partial ^2}G}}{{\\partial T\\partial {\\bf{s}}}}dT + \\frac{{{\\partial ^2}G}}{{\\partial P\\partial {\\bf{s}}}}dP + \\frac{{{\\partial ^2}G}}{{\\partial {\\bf{n}}\\partial {\\bf{s}}}}d{\\bf{n}} + \\frac{{{\\partial ^2}G}}{{\\partial {{\\bf{s}}^2}}}d{\\bf{s}}$"
   ]
  },
  {
   "cell_type": "markdown",
   "metadata": {},
   "source": [
    "Compute $\\frac{{d{\\bf{s}}}}{{dT}}$  \n",
    "\n",
    "### ${\\bf{0}} = \\frac{{{\\partial ^2}G}}{{\\partial T\\partial {\\bf{s}}}} + \\frac{{{\\partial ^2}G}}{{\\partial {{\\bf{s}}^2}}}\\frac{{d{\\bf{s}}}}{{dT}}$\n",
    "Code generates a vector of length *ns*. Note that the vector orientation (horizontal) follows the convention (p. 52) in Graham, A. (1981) *Kronecker Products and Matrix Calculus with Applications*, John Wiley and Sons, New York, 130pp."
   ]
  },
  {
   "cell_type": "code",
   "execution_count": null,
   "metadata": {},
   "outputs": [],
   "source": [
    "dsdt = Os.diff(T)\n",
    "d2gdtds = sym.Matrix([G.diff(T).diff(x) for x in s])\n",
    "d2gds2 = sym.Matrix([[G.diff(x).diff(y) for x in s] for y in s])\n",
    "dsdt = sym.Matrix(list(sym.solve(sym.Eq(d2gdtds+d2gds2*dsdt,hEQ), dsdt).values())).T\n",
    "dsdt"
   ]
  },
  {
   "cell_type": "markdown",
   "metadata": {},
   "source": [
    "Compute $\\frac{{d{\\bf{s}}}}{{dP}}$  \n",
    "\n",
    "### ${\\bf{0}} = \\frac{{{\\partial ^2}G}}{{\\partial P\\partial {\\bf{s}}}} + \\frac{{{\\partial ^2}G}}{{\\partial {{\\bf{s}}^2}}}\\frac{{d{\\bf{s}}}}{{dP}}$  \n",
    "Code generates a vector of length *ns*. "
   ]
  },
  {
   "cell_type": "code",
   "execution_count": null,
   "metadata": {},
   "outputs": [],
   "source": [
    "dsdp = Os.diff(P)\n",
    "d2gdpds = sym.Matrix([G.diff(P).diff(x) for x in s])\n",
    "dsdp = sym.Matrix(list(sym.solve(sym.Eq(d2gdpds+d2gds2*dsdp,hEQ), dsdp).values())).T\n",
    "dsdp"
   ]
  },
  {
   "cell_type": "markdown",
   "metadata": {},
   "source": [
    "Compute $\\frac{{d{\\bf{s}}}}{{d{\\bf{n}}}}$  \n",
    "\n",
    "### ${\\bf{0}} = \\frac{{{\\partial ^2}G}}{{\\partial {\\bf{n}}\\partial {\\bf{s}}}} + \\frac{{{\\partial ^2}G}}{{\\partial {{\\bf{s}}^2}}}\\frac{{d{\\bf{s}}}}{{d{\\bf{n}}}}$   \n",
    "Code generates a matrix with *nc* rows and *ns* columns, as per the convention (p. 52) discussed in Graham (1981, *loc. cit.*). "
   ]
  },
  {
   "cell_type": "code",
   "execution_count": null,
   "metadata": {},
   "outputs": [],
   "source": [
    "result = []\n",
    "for i in range(0,nc):\n",
    "    dsdn = Os.diff(n[i])\n",
    "    d2gdnds = sym.Matrix([G.diff(n[i]).diff(x) for x in s])\n",
    "    result.append(list(sym.solve(sym.Eq(d2gdnds+d2gds2*dsdn,hEQ), dsdn).values()))\n",
    "dsdn = sym.Matrix(result)\n",
    "dsdn if ns == 1 else dsdn.shape"
   ]
  },
  {
   "cell_type": "markdown",
   "metadata": {},
   "source": [
    "## The second total derivative of the Gibbs free energy \n",
    "\n",
    "Assumptions:\n",
    "- Only the upper triangle of derivatives are computed, i.e. derivative are always taken in the order $T$, $P$, $\\bf{n}$, e.g., $TT$, $TP$, $T\\bf{n}$, $PP$, $P\\bf{n}$, $\\bf{nn}$\n",
    "- Variables are ordered as (1), (2), i.e., ${T_1}{T_2}$\n",
    "\n",
    "${d^2}G = \\frac{{\\partial G}}{{\\partial {T_1}\\partial {T_2}}}d{T_1}d{T_2} + \\frac{{\\partial G}}{{\\partial {T_1}\\partial {P_2}}}d{T_1}d{P_2} + \\frac{{\\partial G}}{{\\partial {T_1}\\partial {{\\bf{n}}_2}}}d{T_1}d{{\\bf{n}}_2} + \\frac{{\\partial G}}{{\\partial {T_1}\\partial {{\\bf{s}}_2}}}d{T_1}d{{\\bf{s}}_2} + \\frac{{\\partial G}}{{\\partial {T_1}}}{d^2}{T_1} + \\frac{{\\partial G}}{{\\partial {T_2}\\partial {P_1}}}d{P_1}d{T_2} + \\frac{{\\partial G}}{{\\partial {P_1}\\partial {P_2}}}d{P_1}d{P_2} + \\frac{{\\partial G}}{{\\partial {P_1}\\partial {{\\bf{n}}_2}}}d{P_1}d{{\\bf{n}}_2} + \\frac{{\\partial G}}{{\\partial {P_1}\\partial {{\\bf{s}}_2}}}d{P_1}d{{\\bf{s}}_2} + \\frac{{\\partial G}}{{\\partial {P_1}}}{d^2}{P_1} + \\frac{{\\partial G}}{{\\partial {T_2}\\partial {{\\bf{n}}_1}}}d{T_2}d{{\\bf{n}}_1} + \\frac{{\\partial G}}{{\\partial {P_2}\\partial {{\\bf{n}}_1}}}d{P_2}d{{\\bf{n}}_1} + \\frac{{\\partial G}}{{\\partial {{\\bf{n}}_1}\\partial {{\\bf{n}}_2}}}d{{\\bf{n}}_1}d{{\\bf{n}}_2} + \\frac{{\\partial G}}{{\\partial {{\\bf{n}}_1}\\partial {{\\bf{s}}_2}}}d{{\\bf{n}}_1}d{{\\bf{s}}_2} + \\frac{{\\partial G}}{{\\partial {{\\bf{n}}_1}}}{d^2}{{\\bf{n}}_1} + \\frac{{\\partial G}}{{\\partial {T_2}\\partial {{\\bf{s}}_1}}}d{T_2}d{{\\bf{s}}_1} + \\frac{{\\partial G}}{{\\partial {P_2}\\partial {{\\bf{s}}_1}}}d{P_2}d{{\\bf{s}}_1} + \\frac{{\\partial G}}{{\\partial {{\\bf{n}}_2}\\partial {{\\bf{s}}_1}}}d{{\\bf{n}}_2}d{{\\bf{s}}_1} + \\frac{{\\partial G}}{{\\partial {{\\bf{s}}_1}\\partial {{\\bf{s}}_2}}}d{{\\bf{s}}_1}d{{\\bf{s}}_2} + \\frac{{\\partial G}}{{\\partial {{\\bf{s}}_1}}}{d^2}{{\\bf{s}}_1}$  \n",
    "\n",
    "## Consequently,\n",
    "along the homogenious equilibrium manifold (*eq*) - $\\frac{{\\partial G}}{{\\partial {{\\bf{s}}}}}$ is assumed to be zero: "
   ]
  },
  {
   "cell_type": "markdown",
   "metadata": {},
   "source": [
    "### (2-1) ${\\left. {\\frac{{{\\partial ^2}G}}{{\\partial {T^2}}}} \\right|_{eq}} = \\frac{{{\\partial ^2}G}}{{\\partial {T^2}}} + 2\\frac{{{\\partial ^2}G}}{{\\partial T\\partial {\\bf{s}}}}\\frac{{d{\\bf{s}}}}{{dT}} + \\frac{{{\\partial ^2}G}}{{\\partial {{\\bf{s}}^2}}}\\frac{{d{\\bf{s}}}}{{dT}}\\frac{{d{\\bf{s}}}}{{dT}}$  \n",
    "Code generates a scalar."
   ]
  },
  {
   "cell_type": "code",
   "execution_count": null,
   "metadata": {},
   "outputs": [],
   "source": [
    "result  = G.diff(T,2)\n",
    "result += 2*(dsdt*d2gdtds)[0]\n",
    "result += (dsdt*d2gds2*dsdt.T)[0]\n",
    "result.simplify()"
   ]
  },
  {
   "cell_type": "markdown",
   "metadata": {},
   "source": [
    "### (2-2) ${\\left. {\\frac{{{\\partial ^2}G}}{{\\partial T\\partial P}}} \\right|_{eq}} = \\frac{{{\\partial ^2}G}}{{\\partial T\\partial P}} + \\frac{{{\\partial ^2}G}}{{\\partial T\\partial {\\bf{s}}}}\\frac{{d{\\bf{s}}}}{{dP}} + \\frac{{{\\partial ^2}G}}{{\\partial P\\partial {\\bf{s}}}}\\frac{{d{\\bf{s}}}}{{dT}} + \\frac{{{\\partial ^2}G}}{{\\partial {{\\bf{s}}^2}}}\\frac{{d{\\bf{s}}}}{{dT}}\\frac{{d{\\bf{s}}}}{{dP}}$  \n",
    "Code generates a scalar."
   ]
  },
  {
   "cell_type": "code",
   "execution_count": null,
   "metadata": {},
   "outputs": [],
   "source": [
    "result  = G.diff(T,P)\n",
    "result += (dsdp*d2gdtds)[0]\n",
    "result += (dsdt*d2gdpds)[0]\n",
    "result += (dsdt*d2gds2*dsdp.T)[0]\n",
    "result.simplify()"
   ]
  },
  {
   "cell_type": "markdown",
   "metadata": {},
   "source": [
    "### (2-3) ${\\left. {\\frac{{{\\partial ^2}G}}{{\\partial T\\partial {\\bf{n}}}}} \\right|_{eq}} = \\frac{{{\\partial ^2}G}}{{\\partial T\\partial {\\bf{n}}}} + \\frac{{{\\partial ^2}G}}{{\\partial T\\partial {\\bf{s}}}}\\frac{{d{\\bf{s}}}}{{d{\\bf{n}}}} + \\frac{{{\\partial ^2}G}}{{\\partial {\\bf{n}}\\partial {\\bf{s}}}}\\frac{{d{\\bf{s}}}}{{dT}} + \\frac{{{\\partial ^2}G}}{{\\partial {{\\bf{s}}^2}}}\\frac{{d{\\bf{s}}}}{{dT}}\\frac{{d{\\bf{s}}}}{{d{\\bf{n}}}}$  \n",
    "Code generates a vector of length *nc*, oriented vertically using the convention discussed in Graham (1981, *loc. cit.*, p. 52)"
   ]
  },
  {
   "cell_type": "code",
   "execution_count": null,
   "metadata": {},
   "outputs": [],
   "source": [
    "d2gdnds = sym.Matrix([[G.diff(y).diff(x) for x in n] for y in s])\n",
    "result  = G.diff(T,n)\n",
    "result += dsdn*d2gdtds\n",
    "result += (dsdt*d2gdnds).T\n",
    "result += (dsdt*d2gds2*(dsdn.T)).T\n",
    "result.simplify()"
   ]
  },
  {
   "cell_type": "markdown",
   "metadata": {},
   "source": [
    "### (2-4) ${\\left. {\\frac{{{\\partial ^2}G}}{{\\partial {P^2}}}} \\right|_{eq}} = \\frac{{{\\partial ^2}G}}{{\\partial {P^2}}} + 2\\frac{{{\\partial ^2}G}}{{\\partial P\\partial {\\bf{s}}}}\\frac{{d{\\bf{s}}}}{{dP}} + \\frac{{{\\partial ^2}G}}{{\\partial {{\\bf{s}}^2}}}\\frac{{d{\\bf{s}}}}{{dP}}\\frac{{d{\\bf{s}}}}{{dP}}$  \n",
    "Code generates a scalar."
   ]
  },
  {
   "cell_type": "code",
   "execution_count": null,
   "metadata": {},
   "outputs": [],
   "source": [
    "result  = G.diff(P,2)\n",
    "result += 2*(dsdp*d2gdpds)[0]\n",
    "result += (dsdp*d2gds2*dsdp.T)[0]\n",
    "result.simplify()"
   ]
  },
  {
   "cell_type": "markdown",
   "metadata": {},
   "source": [
    "### (2-5) ${\\left. {\\frac{{{\\partial ^2}G}}{{\\partial P\\partial {\\bf{n}}}}} \\right|_{eq}} = \\frac{{{\\partial ^2}G}}{{\\partial P\\partial {\\bf{n}}}} + \\frac{{{\\partial ^2}G}}{{\\partial P\\partial {\\bf{s}}}}\\frac{{d{\\bf{s}}}}{{d{\\bf{n}}}} + \\frac{{{\\partial ^2}G}}{{\\partial {\\bf{n}}\\partial {\\bf{s}}}}\\frac{{d{\\bf{s}}}}{{dP}} + \\frac{{{\\partial ^2}G}}{{\\partial {{\\bf{s}}^2}}}\\frac{{d{\\bf{s}}}}{{dP}}\\frac{{d{\\bf{s}}}}{{d{\\bf{n}}}}$  \n",
    "Code generates a vector of length *nc*."
   ]
  },
  {
   "cell_type": "code",
   "execution_count": null,
   "metadata": {},
   "outputs": [],
   "source": [
    "result  = G.diff(P,n)\n",
    "result += dsdn*d2gdpds\n",
    "result += (dsdp*d2gdnds).T\n",
    "result += (dsdp*d2gds2*(dsdn.T)).T\n",
    "result.simplify()"
   ]
  },
  {
   "cell_type": "markdown",
   "metadata": {},
   "source": [
    "### (2-6) ${\\left. {\\frac{{{\\partial ^2}G}}{{\\partial {{\\bf{n}}^2}}}} \\right|_{eq}} = \\frac{{{\\partial ^2}G}}{{\\partial {{\\bf{n}}^2}}} + 2\\frac{{{\\partial ^2}G}}{{\\partial {\\bf{n}}\\partial {\\bf{s}}}}\\frac{{d{\\bf{s}}}}{{d{\\bf{n}}}} + \\frac{{{\\partial ^2}G}}{{\\partial {{\\bf{s}}^2}}}\\frac{{d{\\bf{s}}}}{{d{\\bf{n}}}}\\frac{{d{\\bf{s}}}}{{d{\\bf{n}}}}$  \n",
    "Code generates a symmetric matrix of size *nc*."
   ]
  },
  {
   "cell_type": "code",
   "execution_count": null,
   "metadata": {},
   "outputs": [],
   "source": [
    "result  = sym.Matrix([[G.diff(x,y) for x in n] for y in n])\n",
    "result += dsdn*d2gds2*(dsdn.T)\n",
    "result += 2*dsdn*d2gdnds\n",
    "result if nc < 3 else result.shape"
   ]
  },
  {
   "cell_type": "markdown",
   "metadata": {},
   "source": [
    "## Second derivatives of the ordering parameters   \n",
    "\n",
    "${d^2}\\frac{{\\partial G}}{{\\partial s}} = \\frac{{{\\partial ^3}G}}{{\\partial {T^2}\\partial s}}dTdT + 2\\frac{{{\\partial ^3}G}}{{\\partial T\\partial P\\partial s}}dTdP + 2\\frac{{{\\partial ^3}G}}{{\\partial T\\partial {\\bf{n}}\\partial s}}dTd{\\bf{n}} + 2\\frac{{{\\partial ^3}G}}{{\\partial T\\partial {{\\bf{s}}^2}}}dTd{\\bf{s}} + \\frac{{{\\partial ^2}G}}{{\\partial T\\partial s}}{d^2}T + \\frac{{{\\partial ^3}G}}{{\\partial {P^2}\\partial s}}dPdP + 2\\frac{{{\\partial ^3}G}}{{\\partial P\\partial {\\bf{n}}\\partial s}}dPd{\\bf{n}} + 2\\frac{{{\\partial ^3}G}}{{\\partial P\\partial {{\\bf{s}}^2}}}dPd{\\bf{s}} + \\frac{{{\\partial ^2}G}}{{\\partial P\\partial s}}{d^2}P + \\frac{{{\\partial ^3}G}}{{\\partial {{\\bf{n}}^2}\\partial s}}d{\\bf{n}}d{\\bf{n}} + 2\\frac{{{\\partial ^3}G}}{{\\partial {\\bf{n}}\\partial {{\\bf{s}}^2}}}d{\\bf{n}}d{\\bf{s}} + \\frac{{{\\partial ^2}G}}{{\\partial {\\bf{n}}\\partial s}}{d^2}{\\bf{n}} + \\frac{{{\\partial ^3}G}}{{\\partial {{\\bf{s}}^3}}}d{\\bf{s}}d{\\bf{s}} + \\frac{{{\\partial ^2}G}}{{\\partial {{\\bf{s}}^2}}}{d^2}{\\bf{s}}$"
   ]
  },
  {
   "cell_type": "markdown",
   "metadata": {},
   "source": [
    "## $\\frac{{{d^2}{\\bf{s}}}}{{d{T^2}}}$  \n",
    "\n",
    "### ${\\bf{0}} = \\frac{{{\\partial ^3}G}}{{\\partial {T^2}\\partial s}} + 2\\frac{{{\\partial ^3}G}}{{\\partial T\\partial {{\\bf{s}}^2}}}\\frac{{d{\\bf{s}}}}{{dT}} + \\frac{{{\\partial ^3}G}}{{\\partial {{\\bf{s}}^3}}}\\frac{{d{\\bf{s}}}}{{dT}}\\frac{{d{\\bf{s}}}}{{dT}} + \\frac{{{\\partial ^2}G}}{{\\partial {{\\bf{s}}^2}}}\\frac{{{d^2}{\\bf{s}}}}{{d{T^2}}}$  \n",
    "Code generates a vcetor of length *ns*, oriented horizontally."
   ]
  },
  {
   "cell_type": "code",
   "execution_count": null,
   "metadata": {},
   "outputs": [],
   "source": [
    "d2sdt2 = Os.diff(T,2)\n",
    "d3gdtds2 = sym.Matrix([[G.diff(T).diff(x).diff(y) for x in s] for y in s])\n",
    "d3gds3 = []\n",
    "for x in s:\n",
    "    d3gds3.append(sym.Matrix([[G.diff(x).diff(y).diff(z) for y in s] for z in s]))\n",
    "term = []\n",
    "for i in range (0,ns):\n",
    "    term.append(dsdt*d3gds3[i]*dsdt.T)\n",
    "term  = sym.Matrix(term)\n",
    "term += sym.Matrix([G.diff(T,2).diff(x) for x in s])\n",
    "term += 2*d3gdtds2*(dsdt.T)\n",
    "term += d2gds2*d2sdt2\n",
    "d2sdt2 = sym.Matrix(list(sym.solve(sym.Eq(term,hEQ), d2sdt2).values())).T\n",
    "d2sdt2 if ns == 1 else d2sdt2.shape"
   ]
  },
  {
   "cell_type": "markdown",
   "metadata": {},
   "source": [
    "## $\\frac{{d{{\\bf{s}}^2}}}{{dTdP}}$  \n",
    "\n",
    "### ${\\bf{0}} = \\frac{{{\\partial ^3}G}}{{\\partial T\\partial P\\partial s}} + \\frac{{{\\partial ^3}G}}{{\\partial T\\partial {{\\bf{s}}^2}}}\\frac{{d{\\bf{s}}}}{{dP}} + \\frac{{{\\partial ^3}G}}{{\\partial P\\partial {{\\bf{s}}^2}}}\\frac{{d{\\bf{s}}}}{{dT}} + \\frac{{{\\partial ^3}G}}{{\\partial {{\\bf{s}}^3}}}\\frac{{d{\\bf{s}}}}{{dT}}\\frac{{d{\\bf{s}}}}{{dP}} + \\frac{{{\\partial ^2}G}}{{\\partial {{\\bf{s}}^2}}}\\frac{{{d^2}{\\bf{s}}}}{{dTdP}}$  \n",
    "Code generates a vector of length *ns*, oriented horizontally."
   ]
  },
  {
   "cell_type": "code",
   "execution_count": null,
   "metadata": {},
   "outputs": [],
   "source": [
    "d2sdtdp = Os.diff(T).diff(P)\n",
    "d3gdpds2 = sym.Matrix([[G.diff(P).diff(x).diff(y) for x in s] for y in s])\n",
    "term = []\n",
    "for i in range (0,ns):\n",
    "    term.append(dsdp*d3gds3[i]*dsdt.T)\n",
    "term  = sym.Matrix(term)\n",
    "term += sym.Matrix([G.diff(T).diff(P).diff(x) for x in s])\n",
    "term += d3gdpds2*(dsdt.T)\n",
    "term += d3gdtds2*(dsdp.T)\n",
    "term += d2gds2*d2sdtdp\n",
    "d2sdtdp = sym.Matrix(list(sym.solve(sym.Eq(term,hEQ), d2sdtdp).values())).T\n",
    "d2sdtdp if ns == 1 else d2sdtdp.shape"
   ]
  },
  {
   "cell_type": "markdown",
   "metadata": {},
   "source": [
    "## $\\frac{{{d^2}{\\bf{s}}}}{{dTd{\\bf{n}}}}$  \n",
    "\n",
    "### ${\\bf{0}} = \\frac{{{\\partial ^3}G}}{{\\partial T\\partial {\\bf{n}}\\partial s}} + \\frac{{{\\partial ^3}G}}{{\\partial T\\partial {{\\bf{s}}^2}}}\\frac{{d{\\bf{s}}}}{{d{\\bf{n}}}} + \\frac{{{\\partial ^3}G}}{{\\partial {\\bf{n}}\\partial {{\\bf{s}}^2}}}\\frac{{d{\\bf{s}}}}{{dT}} + \\frac{{{\\partial ^3}G}}{{\\partial {{\\bf{s}}^3}}}\\frac{{d{\\bf{s}}}}{{dT}}\\frac{{d{\\bf{s}}}}{{d{\\bf{n}}}} + \\frac{{{\\partial ^2}G}}{{\\partial {{\\bf{s}}^2}}}\\frac{{{d^2}{\\bf{s}}}}{{dTd{\\bf{n}}}}$  \n",
    "Generates a matrix with *nc* rows and *ns* columns."
   ]
  },
  {
   "cell_type": "code",
   "execution_count": null,
   "metadata": {},
   "outputs": [],
   "source": [
    "d2sdtdn = sym.Matrix([[Os[i].diff(T).diff(x) for i in range(0,ns)] for x in n])\n",
    "d3gdnds2 = []\n",
    "for i in range(0,nc):\n",
    "    d3gdnds2.append(sym.Matrix([[G.diff(n[i]).diff(x).diff(y) for x in s] for y in s]))\n",
    "d3gdtdnds = sym.Matrix([[G.diff(T).diff(x).diff(y) for x in n] for y in s])\n",
    "\n",
    "rows = []\n",
    "for i in range(0,nc):\n",
    "    term = []\n",
    "    for j in range (0,ns):\n",
    "        term.append(dsdn.row(i)*d3gds3[j]*(dsdt.T))\n",
    "    term  = sym.Matrix(term)\n",
    "    term += d3gdnds2[i]*(dsdt.T)\n",
    "    term += d3gdtds2*dsdn.row(i).T\n",
    "    term += d3gdtdnds.col(i)\n",
    "    term += d2gds2*(d2sdtdn.row(i).T)\n",
    "    rows.append(list(sym.solve(sym.Eq(term,hEQ), d2sdtdn.row(i)).values()))\n",
    "d2sdtdn = sym.Matrix(rows)\n",
    "d2sdtdn if ns == 1 else d2sdtdn.shape"
   ]
  },
  {
   "cell_type": "markdown",
   "metadata": {},
   "source": [
    "## $\\frac{{{d^2}{\\bf{s}}}}{{d{P^2}}}$  \n",
    "\n",
    "### ${\\bf{0}} = \\frac{{{\\partial ^3}G}}{{\\partial {P^2}\\partial s}} + 2\\frac{{{\\partial ^3}G}}{{\\partial P\\partial {{\\bf{s}}^2}}}\\frac{{d{\\bf{s}}}}{{dP}} + \\frac{{{\\partial ^3}G}}{{\\partial {{\\bf{s}}^3}}}\\frac{{d{\\bf{s}}}}{{dP}}\\frac{{d{\\bf{s}}}}{{dP}} + \\frac{{{\\partial ^2}G}}{{\\partial {{\\bf{s}}^2}}}\\frac{{{d^2}{\\bf{s}}}}{{d{P^2}}}$"
   ]
  },
  {
   "cell_type": "code",
   "execution_count": null,
   "metadata": {},
   "outputs": [],
   "source": [
    "d2sdp2 = Os.diff(P,2)\n",
    "term = []\n",
    "for i in range (0,ns):\n",
    "    term.append(dsdp*d3gds3[i]*dsdp.T)\n",
    "term  = sym.Matrix(term)\n",
    "term += sym.Matrix([G.diff(P,2).diff(x) for x in s])\n",
    "term += 2*d3gdpds2*(dsdp.T)\n",
    "term += d2gds2*d2sdp2\n",
    "d2sdp2 = sym.Matrix(list(sym.solve(sym.Eq(term,hEQ), d2sdp2).values())).T\n",
    "d2sdp2 if ns == 1 else d2sdp2.shape"
   ]
  },
  {
   "cell_type": "markdown",
   "metadata": {},
   "source": [
    "## $\\frac{{{d^2}{\\bf{s}}}}{{dPd{\\bf{n}}}}$  \n",
    "\n",
    "### ${\\bf{0}} = \\frac{{{\\partial ^3}G}}{{\\partial P\\partial {\\bf{n}}\\partial s}} + \\frac{{{\\partial ^3}G}}{{\\partial P\\partial {{\\bf{s}}^2}}}\\frac{{d{\\bf{s}}}}{{d{\\bf{n}}}} + \\frac{{{\\partial ^3}G}}{{\\partial {\\bf{n}}\\partial {{\\bf{s}}^2}}}\\frac{{d{\\bf{s}}}}{{dP}} + \\frac{{{\\partial ^3}G}}{{\\partial {{\\bf{s}}^3}}}\\frac{{d{\\bf{s}}}}{{dP}}\\frac{{d{\\bf{s}}}}{{d{\\bf{n}}}} + \\frac{{{\\partial ^2}G}}{{\\partial {{\\bf{s}}^2}}}\\frac{{{d^2}{\\bf{s}}}}{{dPd{\\bf{n}}}}$"
   ]
  },
  {
   "cell_type": "code",
   "execution_count": null,
   "metadata": {},
   "outputs": [],
   "source": [
    "d2sdpdn = sym.Matrix([[Os[i].diff(P).diff(x) for i in range(0,ns)] for x in n])\n",
    "d3gdpdnds = sym.Matrix([[G.diff(P).diff(x).diff(y) for x in n] for y in s])\n",
    "\n",
    "rows = []\n",
    "for i in range(0,nc):\n",
    "    term = []\n",
    "    for j in range (0,ns):\n",
    "        term.append(dsdn.row(i)*d3gds3[j]*(dsdp.T))\n",
    "    term  = sym.Matrix(term)\n",
    "    term += d3gdnds2[i]*(dsdp.T)\n",
    "    term += d3gdpds2*dsdn.row(i).T\n",
    "    term += d3gdpdnds.col(i)\n",
    "    term += d2gds2*(d2sdpdn.row(i).T)\n",
    "    rows.append(list(sym.solve(sym.Eq(term,hEQ), d2sdpdn.row(i)).values()))\n",
    "d2sdpdn = sym.Matrix(rows)\n",
    "d2sdpdn if ns == 1 else d2sdpdn.shape"
   ]
  },
  {
   "cell_type": "markdown",
   "metadata": {},
   "source": [
    "## $\\frac{{{d^2}{\\bf{s}}}}{{d{{\\bf{n}}^2}}}$  \n",
    "\n",
    "### ${\\bf{0}} = \\frac{{{\\partial ^3}G}}{{\\partial {{\\bf{n}}^2}\\partial s}} + 2\\frac{{{\\partial ^3}G}}{{\\partial {\\bf{n}}\\partial {{\\bf{s}}^2}}}\\frac{{d{\\bf{s}}}}{{d{\\bf{n}}}} + \\frac{{{\\partial ^3}G}}{{\\partial {{\\bf{s}}^3}}}\\frac{{d{\\bf{s}}}}{{d{\\bf{n}}}}\\frac{{d{\\bf{s}}}}{{d{\\bf{n}}}} + \\frac{{{\\partial ^2}G}}{{\\partial {{\\bf{s}}^2}}}\\frac{{{d^2}{\\bf{s}}}}{{d{{\\bf{n}}^2}}}$  \n",
    "Code generates a list of matrices. The matrices are *nc* by *nc*, the list of of length *ns*."
   ]
  },
  {
   "cell_type": "code",
   "execution_count": null,
   "metadata": {},
   "outputs": [],
   "source": [
    "rows = []\n",
    "for i in range(0,nc):\n",
    "    cols = []\n",
    "    for j in range(0,nc):\n",
    "        term = []\n",
    "        for k in range (0,ns):\n",
    "            term.append((dsdn.row(i))*d3gds3[k]*(dsdn.row(j).T))\n",
    "        term  = sym.Matrix(term)\n",
    "        term += G.diff(n[i]).diff(n[j]).diff(s)\n",
    "        term += 2*d3gdnds2[i]*(dsdn.row(j).T)\n",
    "        term += d2gds2*Os.diff(n[i]).diff(n[j])\n",
    "        cols.append(sym.Matrix(list(sym.solve(sym.Eq(term,hEQ), Os.diff(n[i]).diff(n[j])).values())))\n",
    "    rows.append(cols)\n",
    "d2sdn2 = []\n",
    "for i in range(0,ns):\n",
    "    d2sdn2.append(sym.Matrix([[rows[j][k][i] for j in range(0,nc)] for k in range(0,nc)]))\n",
    "d2sdn2 if ns == 1 else len(d2sdn2)"
   ]
  },
  {
   "cell_type": "markdown",
   "metadata": {},
   "source": [
    "## The third total derivative of the Gibbs free energy is:  \n",
    "\n",
    "On the assumption that the derivatives are always ordered as $T$, $P$, $\\bf{n}$, i.e., we compute *only* the upper triangular wedge of the cube $d^3G$ (derivatives with respect to $\\bf{s}$ are not computed).  The order of differentiation is always 1,2,3, and is implied in the following expression unless ambiguous, in which case derivatives are labeled:  \n",
    "\n",
    "${d^3}G = \\frac{{{\\partial ^3}G}}{{\\partial {T^3}}}dTdTdT + \\frac{{{\\partial ^3}G}}{{\\partial {T^2}\\partial P}}dTdTdP + \\frac{{{\\partial ^3}G}}{{\\partial {T^2}\\partial {\\bf{n}}}}dTdTd{\\bf{n}} + \\frac{{{\\partial ^3}G}}{{\\partial {T^2}\\partial {\\bf{s}}}}dTdTd{\\bf{s}} + \\frac{{{\\partial ^3}G}}{{\\partial {T^2}\\partial {\\bf{s}}}}dTd{\\bf{s}}dT + \\frac{{{\\partial ^3}G}}{{\\partial {T^2}\\partial {\\bf{s}}}}d{\\bf{s}}dTdT + \\frac{{{\\partial ^3}G}}{{\\partial T\\partial {P^2}}}dTdPdP + \\frac{{{\\partial ^3}G}}{{\\partial T\\partial P\\partial {\\bf{n}}}}dTdPd{\\bf{n}} + \\frac{{{\\partial ^3}G}}{{\\partial T\\partial P\\partial {\\bf{s}}}}dTdPd{\\bf{s}} + \\frac{{{\\partial ^3}G}}{{\\partial T\\partial P\\partial {\\bf{s}}}}dTd{\\bf{s}}dP + \\frac{{{\\partial ^3}G}}{{\\partial T\\partial P\\partial {\\bf{s}}}}d{\\bf{s}}dTdP + \\frac{{{\\partial ^3}G}}{{\\partial T\\partial {{\\bf{n}}^2}}}dTd{\\bf{n}}d{\\bf{n}} + \\frac{{{\\partial ^3}G}}{{\\partial T\\partial {\\bf{n}}\\partial {\\bf{s}}}}dTd{\\bf{n}}d{\\bf{s}} + \\frac{{{\\partial ^3}G}}{{\\partial T\\partial {\\bf{n}}\\partial {\\bf{s}}}}dTd{\\bf{s}}d{\\bf{n}} + \\frac{{{\\partial ^3}G}}{{\\partial T\\partial {\\bf{n}}\\partial {\\bf{s}}}}d{\\bf{s}}dTd{\\bf{n}} + \\frac{{{\\partial ^3}G}}{{\\partial T\\partial {{\\bf{s}}^2}}}dTd{\\bf{s}}d{\\bf{s}} + \\frac{{{\\partial ^3}G}}{{\\partial T\\partial {{\\bf{s}}^2}}}d{\\bf{s}}dTd{\\bf{s}} + \\frac{{{\\partial ^3}G}}{{\\partial T\\partial {{\\bf{s}}^2}}}d{\\bf{s}}d{\\bf{s}}dT + \\frac{{{\\partial ^2}G}}{{\\partial T\\partial {\\bf{s}}}}d{T_1}{d^2}{{\\bf{s}}_{2,3}} + \\frac{{{\\partial ^2}G}}{{\\partial T\\partial {\\bf{s}}}}d{T_2}{d^2}{{\\bf{s}}_{1,3}} + \\frac{{{\\partial ^2}G}}{{\\partial T\\partial {\\bf{s}}}}d{T_3}{d^2}{{\\bf{s}}_{1,2}} + \\frac{{{\\partial ^3}G}}{{\\partial {P^3}}}dPdPdP + \\frac{{{\\partial ^3}G}}{{\\partial {P^2}\\partial {\\bf{n}}}}dPdPd{\\bf{n}} + \\frac{{{\\partial ^3}G}}{{\\partial {P^2}\\partial {\\bf{s}}}}dPdPd{\\bf{s}} + \\frac{{{\\partial ^3}G}}{{\\partial {P^2}\\partial {\\bf{s}}}}dPd{\\bf{s}}dP + \\frac{{{\\partial ^3}G}}{{\\partial {P^2}\\partial {\\bf{s}}}}d{\\bf{s}}dPdP + \\frac{{{\\partial ^3}G}}{{\\partial P\\partial {{\\bf{n}}^2}}}dPd{\\bf{n}}d{\\bf{n}} + \\frac{{{\\partial ^3}G}}{{\\partial P\\partial {\\bf{n}}\\partial {\\bf{s}}}}dPd{\\bf{n}}d{\\bf{s}} + \\frac{{{\\partial ^3}G}}{{\\partial P\\partial {\\bf{n}}\\partial {\\bf{s}}}}dPd{\\bf{s}}d{\\bf{n}} + \\frac{{{\\partial ^3}G}}{{\\partial P\\partial {\\bf{n}}\\partial {\\bf{s}}}}d{\\bf{s}}dPd{\\bf{n}} + \\frac{{{\\partial ^3}G}}{{\\partial P\\partial {{\\bf{s}}^2}}}dPd{\\bf{s}}d{\\bf{s}} + \\frac{{{\\partial ^3}G}}{{\\partial P\\partial {{\\bf{s}}^2}}}d{\\bf{s}}dPd{\\bf{s}} + \\frac{{{\\partial ^3}G}}{{\\partial P\\partial {{\\bf{s}}^2}}}d{\\bf{s}}d{\\bf{s}}dP + \\frac{{{\\partial ^2}G}}{{\\partial P\\partial {\\bf{s}}}}d{P_1}{d^2}{{\\bf{s}}_{2,3}} + \\frac{{{\\partial ^2}G}}{{\\partial P\\partial {\\bf{s}}}}d{P_2}{d^2}{{\\bf{s}}_{1,3}} + \\frac{{{\\partial ^2}G}}{{\\partial P\\partial {\\bf{s}}}}d{P_3}{d^2}{{\\bf{s}}_{1,2}} + \\frac{{{\\partial ^3}G}}{{\\partial {{\\bf{n}}^3}}}d{\\bf{n}}d{\\bf{n}}d{\\bf{n}} + \\frac{{{\\partial ^3}G}}{{\\partial {{\\bf{n}}^2}\\partial {\\bf{s}}}}d{\\bf{n}}d{\\bf{n}}d{\\bf{s}} + \\frac{{{\\partial ^3}G}}{{\\partial {{\\bf{n}}^2}\\partial {\\bf{s}}}}d{\\bf{n}}d{\\bf{s}}d{\\bf{n}} + \\frac{{{\\partial ^3}G}}{{\\partial {{\\bf{n}}^2}\\partial {\\bf{s}}}}d{\\bf{s}}d{\\bf{n}}d{\\bf{n}} + \\frac{{{\\partial ^3}G}}{{\\partial {\\bf{n}}\\partial {{\\bf{s}}^2}}}d{\\bf{n}}d{\\bf{s}}d{\\bf{s}} + \\frac{{{\\partial ^3}G}}{{\\partial {\\bf{n}}\\partial {{\\bf{s}}^2}}}d{\\bf{s}}d{\\bf{n}}d{\\bf{s}} + \\frac{{{\\partial ^3}G}}{{\\partial {\\bf{n}}\\partial {{\\bf{s}}^2}}}d{\\bf{s}}d{\\bf{s}}d{\\bf{n}} + \\frac{{{\\partial ^2}G}}{{\\partial {\\bf{n}}\\partial {\\bf{s}}}}d{{\\bf{n}}_1}{d^2}{{\\bf{s}}_{2,3}} + \\frac{{{\\partial ^2}G}}{{\\partial {\\bf{n}}\\partial {\\bf{s}}}}d{{\\bf{n}}_2}{d^2}{{\\bf{s}}_{1,3}} + \\frac{{{\\partial ^2}G}}{{\\partial {\\bf{n}}\\partial {\\bf{s}}}}d{{\\bf{n}}_3}{d^2}{{\\bf{s}}_{1,2}} + \\frac{{{\\partial ^3}G}}{{\\partial {{\\bf{s}}^3}}}d{\\bf{s}}d{\\bf{s}}d{\\bf{s}} + \\frac{{{\\partial ^2}G}}{{\\partial {{\\bf{s}}^2}}}{d^2}{{\\bf{s}}_{2,3}}d{{\\bf{s}}_1} + \\frac{{{\\partial ^2}G}}{{\\partial {{\\bf{s}}^2}}}{d^2}{{\\bf{s}}_{1,3}}d{{\\bf{s}}_2} + \\frac{{{\\partial ^2}G}}{{\\partial {{\\bf{s}}^2}}}{d^2}{{\\bf{s}}_{1,2}}d{{\\bf{s}}_3}$\n",
    "\n",
    "## Consequently,\n",
    "along the homogenious equilibrium manifold ..."
   ]
  },
  {
   "cell_type": "markdown",
   "metadata": {},
   "source": [
    "### (3-1) ${\\left. {\\frac{{{\\partial ^3}G}}{{\\partial {T^3}}}} \\right|_{eq}} = \\frac{{{\\partial ^3}G}}{{\\partial {T^3}}} + 3\\frac{{{\\partial ^3}G}}{{\\partial {T^2}\\partial {\\bf{s}}}}\\frac{{d{\\bf{s}}}}{{dT}} + 3\\frac{{{\\partial ^3}G}}{{\\partial T\\partial {{\\bf{s}}^2}}}\\frac{{d{\\bf{s}}}}{{dT}}\\frac{{d{\\bf{s}}}}{{dT}} + \\frac{{{\\partial ^3}G}}{{\\partial {{\\bf{s}}^3}}}\\frac{{d{\\bf{s}}}}{{dT}}\\frac{{d{\\bf{s}}}}{{dT}}\\frac{{d{\\bf{s}}}}{{dT}} + 3\\frac{{{\\partial ^2}G}}{{\\partial T\\partial {\\bf{s}}}}\\frac{{{d^2}{\\bf{s}}}}{{d{T^2}}} + 3\\frac{{{\\partial ^2}G}}{{\\partial {{\\bf{s}}^2}}}\\frac{{{d^2}{\\bf{s}}}}{{d{T^2}}}\\frac{{d{\\bf{s}}}}{{dT}}$   \n",
    "Code generates a scalar."
   ]
  },
  {
   "cell_type": "code",
   "execution_count": null,
   "metadata": {},
   "outputs": [],
   "source": [
    "d3gdt2ds = G.diff(T,2).diff(s)\n",
    "result  = G.diff(T,3)\n",
    "result += 3*(dsdt*d3gdt2ds)[0]\n",
    "result += 3*(dsdt*d3gdtds2*(dsdt.T))[0]\n",
    "term = []\n",
    "for i in range(0,ns):\n",
    "    term.append(dsdt*d3gds3[i]*(dsdt.T))\n",
    "result += (dsdt*sym.Matrix(term))[0]\n",
    "result += 3*(d2sdt2*d2gdtds)[0]\n",
    "result += 3*(d2sdt2*d2gds2*(dsdt.T))[0]\n",
    "result.simplify()"
   ]
  },
  {
   "cell_type": "markdown",
   "metadata": {},
   "source": [
    "### (3-2) ${\\left. {\\frac{{{\\partial ^3}G}}{{\\partial {T^2}\\partial P}}} \\right|_{eq}} = \\frac{{{\\partial ^3}G}}{{\\partial {T^2}\\partial P}} + \\frac{{{\\partial ^3}G}}{{\\partial {T^2}\\partial {\\bf{s}}}}\\frac{{d{\\bf{s}}}}{{dP}} + 2\\frac{{{\\partial ^3}G}}{{\\partial T\\partial P\\partial {\\bf{s}}}}\\frac{{d{\\bf{s}}}}{{dT}} + 2\\frac{{{\\partial ^3}G}}{{\\partial T\\partial {{\\bf{s}}^2}}}\\frac{{d{\\bf{s}}}}{{dT}}\\frac{{d{\\bf{s}}}}{{dP}} + \\frac{{{\\partial ^3}G}}{{\\partial P\\partial {{\\bf{s}}^2}}}\\frac{{d{\\bf{s}}}}{{dT}}\\frac{{d{\\bf{s}}}}{{dT}} + \\frac{{{\\partial ^3}G}}{{\\partial {{\\bf{s}}^3}}}\\frac{{d{\\bf{s}}}}{{dT}}\\frac{{d{\\bf{s}}}}{{dT}}\\frac{{d{\\bf{s}}}}{{dP}} + 2\\frac{{{\\partial ^2}G}}{{\\partial T\\partial {\\bf{s}}}}\\frac{{{d^2}{\\bf{s}}}}{{dTdP}} + \\frac{{{\\partial ^2}G}}{{\\partial P\\partial {\\bf{s}}}}\\frac{{{d^2}{\\bf{s}}}}{{d{T^2}}} + 2\\frac{{{\\partial ^2}G}}{{\\partial {{\\bf{s}}^2}}}\\frac{{{d^2}{\\bf{s}}}}{{dTdP}}\\frac{{d{\\bf{s}}}}{{dT}} + \\frac{{{\\partial ^2}G}}{{\\partial {{\\bf{s}}^2}}}\\frac{{{d^2}{\\bf{s}}}}{{d{T^2}}}\\frac{{d{\\bf{s}}}}{{dP}}$"
   ]
  },
  {
   "cell_type": "code",
   "execution_count": null,
   "metadata": {},
   "outputs": [],
   "source": [
    "d3gdtdpds = G.diff(T).diff(P).diff(s)\n",
    "result  = G.diff(T,2).diff(P)\n",
    "result +=   (dsdp*d3gdt2ds)[0]\n",
    "result += 2*(dsdt*d3gdtdpds)[0]\n",
    "result += 2*(dsdt*d3gdtds2*(dsdp.T))[0]\n",
    "result +=   (dsdt*d3gdpds2*(dsdp.T))[0]\n",
    "term = []\n",
    "for i in range(0,ns):\n",
    "    term.append(dsdt*d3gds3[i]*(dsdt.T))\n",
    "result += (dsdp*sym.Matrix(term))[0]\n",
    "result += 2*(d2sdtdp*d2gdtds)[0]\n",
    "result +=   (d2sdt2*d2gdpds)[0]\n",
    "result += 2*(d2sdtdp*d2gds2*(dsdt.T))[0]\n",
    "result +=   (d2sdt2*d2gds2*(dsdp.T))[0]\n",
    "result.simplify()"
   ]
  },
  {
   "cell_type": "markdown",
   "metadata": {},
   "source": [
    "### (3-3) ${\\left. {\\frac{{{\\partial ^3}G}}{{\\partial {T^2}\\partial {\\bf{n}}}}} \\right|_{eq}} = \\frac{{{\\partial ^3}G}}{{\\partial {T^2}\\partial {\\bf{n}}}} + \\frac{{{\\partial ^3}G}}{{\\partial {T^2}\\partial {\\bf{s}}}}\\frac{{d{\\bf{s}}}}{{d{\\bf{n}}}} + 2\\frac{{{\\partial ^3}G}}{{\\partial T\\partial {\\bf{n}}\\partial {\\bf{s}}}}\\frac{{d{\\bf{s}}}}{{dT}} + 2\\frac{{{\\partial ^3}G}}{{\\partial T\\partial {{\\bf{s}}^2}}}\\frac{{d{\\bf{s}}}}{{dT}}\\frac{{d{\\bf{s}}}}{{d{\\bf{n}}}} + \\frac{{{\\partial ^3}G}}{{\\partial {\\bf{n}}\\partial {{\\bf{s}}^2}}}\\frac{{d{\\bf{s}}}}{{dT}}\\frac{{d{\\bf{s}}}}{{dT}} + \\frac{{{\\partial ^3}G}}{{\\partial {{\\bf{s}}^3}}}\\frac{{d{\\bf{s}}}}{{dT}}\\frac{{d{\\bf{s}}}}{{dT}}\\frac{{d{\\bf{s}}}}{{d{\\bf{n}}}} + 2\\frac{{{\\partial ^2}G}}{{\\partial T\\partial {\\bf{s}}}}\\frac{{{d^2}{\\bf{s}}}}{{dTd{\\bf{n}}}} + \\frac{{{\\partial ^2}G}}{{\\partial {\\bf{n}}\\partial {\\bf{s}}}}\\frac{{{d^2}{\\bf{s}}}}{{d{T^2}}} + 2\\frac{{{\\partial ^2}G}}{{\\partial {{\\bf{s}}^2}}}\\frac{{{d^2}{\\bf{s}}}}{{dTd{\\bf{n}}}}\\frac{{d{\\bf{s}}}}{{dT}} + \\frac{{{\\partial ^2}G}}{{\\partial {{\\bf{s}}^2}}}\\frac{{{d^2}{\\bf{s}}}}{{d{T^2}}}\\frac{{d{\\bf{s}}}}{{d{\\bf{n}}}}$"
   ]
  },
  {
   "cell_type": "code",
   "execution_count": null,
   "metadata": {},
   "outputs": [],
   "source": [
    "result  = G.diff(T,2).diff(n)\n",
    "result +=   dsdn*d3gdt2ds\n",
    "result += 2*(dsdt*d3gdtdnds).T\n",
    "result += 2*(dsdt*d3gdtds2*(dsdn.T)).T\n",
    "term = []\n",
    "for i in range(0,nc):\n",
    "    term.append(dsdt*d3gdnds2[i]*(dsdt.T))\n",
    "result += sym.Matrix(term)\n",
    "term = []\n",
    "for i in range(0,ns):\n",
    "    term.append(dsdt*d3gds3[i]*(dsdt.T))\n",
    "result += dsdn*sym.Matrix(term)\n",
    "result += 2*d2sdtdn*d2gdtds\n",
    "result +=   (d2sdt2*d2gdnds).T\n",
    "result += 2*d2sdtdn*d2gds2*(dsdt.T)\n",
    "result +=   (d2sdt2*d2gds2*(dsdn.T)).T\n",
    "result.simplify()"
   ]
  },
  {
   "cell_type": "markdown",
   "metadata": {},
   "source": [
    "### (3-4) ${\\left. {\\frac{{{\\partial ^3}G}}{{\\partial T\\partial {P^2}}}} \\right|_{eq}} = \\frac{{{\\partial ^3}G}}{{\\partial T\\partial {P^2}}} + \\frac{{{\\partial ^3}G}}{{\\partial T\\partial P\\partial {\\bf{s}}}}\\frac{{d{\\bf{s}}}}{{dP}} + \\frac{{{\\partial ^3}G}}{{\\partial T\\partial P\\partial {\\bf{s}}}}\\frac{{d{\\bf{s}}}}{{dT}} + \\frac{{{\\partial ^3}G}}{{\\partial T\\partial {{\\bf{s}}^2}}}\\frac{{d{\\bf{s}}}}{{dP}}\\frac{{d{\\bf{s}}}}{{dP}} + \\frac{{{\\partial ^3}G}}{{\\partial {P^2}\\partial {\\bf{s}}}}\\frac{{d{\\bf{s}}}}{{dT}} + 2\\frac{{{\\partial ^3}G}}{{\\partial P\\partial {{\\bf{s}}^2}}}\\frac{{d{\\bf{s}}}}{{dT}}\\frac{{d{\\bf{s}}}}{{dP}} + \\frac{{{\\partial ^3}G}}{{\\partial {{\\bf{s}}^3}}}\\frac{{d{\\bf{s}}}}{{dT}}\\frac{{d{\\bf{s}}}}{{dP}}\\frac{{d{\\bf{s}}}}{{dP}} + \\frac{{{\\partial ^2}G}}{{\\partial T\\partial {\\bf{s}}}}\\frac{{{d^2}{\\bf{s}}}}{{d{P^2}}} + 2\\frac{{{\\partial ^2}G}}{{\\partial P\\partial {\\bf{s}}}}\\frac{{{d^2}{\\bf{s}}}}{{dTdP}} + \\frac{{{\\partial ^2}G}}{{\\partial {{\\bf{s}}^2}}}\\frac{{{d^2}{\\bf{s}}}}{{d{P^2}}}\\frac{{d{\\bf{s}}}}{{dT}} + 2\\frac{{{\\partial ^2}G}}{{\\partial {{\\bf{s}}^2}}}\\frac{{{d^2}{\\bf{s}}}}{{dTdP}}\\frac{{d{\\bf{s}}}}{{dP}}$"
   ]
  },
  {
   "cell_type": "code",
   "execution_count": null,
   "metadata": {},
   "outputs": [],
   "source": [
    "d3gdp2ds = G.diff(P,2).diff(s)\n",
    "result  = G.diff(T).diff(P, 2)\n",
    "result +=   (dsdp*d3gdtdpds)[0]\n",
    "result +=   (dsdt*d3gdtdpds)[0]\n",
    "result +=   (dsdp*d3gdtds2*(dsdp.T))[0]\n",
    "result +=   (dsdt*d3gdp2ds)[0]\n",
    "result += 2*(dsdt*d3gdpds2*(dsdp.T))[0]\n",
    "term = []\n",
    "for i in range(0,ns):\n",
    "    term.append(dsdp*d3gds3[i]*(dsdt.T))\n",
    "result += (dsdp*sym.Matrix(term))[0]\n",
    "result +=   (d2sdp2*d2gdtds)[0]\n",
    "result += 2*(d2sdtdp*d2gdpds)[0]\n",
    "result +=   (d2sdp2*d2gds2*(dsdt.T))[0]\n",
    "result += 2*(d2sdtdp*d2gds2*(dsdp.T))[0]\n",
    "result.simplify()"
   ]
  },
  {
   "cell_type": "markdown",
   "metadata": {},
   "source": [
    "### (3-5) ${\\left. {\\frac{{{\\partial ^3}G}}{{\\partial T\\partial P\\partial {\\bf{n}}}}} \\right|_{eq}} = \\frac{{{\\partial ^3}G}}{{\\partial T\\partial P\\partial {\\bf{n}}}} + \\frac{{{\\partial ^3}G}}{{\\partial T\\partial P\\partial {\\bf{s}}}}\\frac{{d{\\bf{s}}}}{{d{\\bf{n}}}} + \\frac{{{\\partial ^3}G}}{{\\partial T\\partial {\\bf{n}}\\partial {\\bf{s}}}}\\frac{{d{\\bf{s}}}}{{dP}} + \\frac{{{\\partial ^3}G}}{{\\partial T\\partial {{\\bf{s}}^2}}}\\frac{{d{\\bf{s}}}}{{dP}}\\frac{{d{\\bf{s}}}}{{d{\\bf{n}}}} + \\frac{{{\\partial ^3}G}}{{\\partial P\\partial {\\bf{n}}\\partial {\\bf{s}}}}\\frac{{d{\\bf{s}}}}{{dT}} + \\frac{{{\\partial ^3}G}}{{\\partial P\\partial {{\\bf{s}}^2}}}\\frac{{d{\\bf{s}}}}{{dT}}\\frac{{d{\\bf{s}}}}{{d{\\bf{n}}}} + \\frac{{{\\partial ^3}G}}{{\\partial {\\bf{n}}\\partial {{\\bf{s}}^2}}}\\frac{{d{\\bf{s}}}}{{dT}}\\frac{{d{\\bf{s}}}}{{dP}} + \\frac{{{\\partial ^3}G}}{{\\partial {{\\bf{s}}^3}}}\\frac{{d{\\bf{s}}}}{{dT}}\\frac{{d{\\bf{s}}}}{{dP}}\\frac{{d{\\bf{s}}}}{{d{\\bf{n}}}} + \\frac{{{\\partial ^2}G}}{{\\partial T\\partial {\\bf{s}}}}\\frac{{{d^2}{\\bf{s}}}}{{dPd{\\bf{n}}}} + \\frac{{{\\partial ^2}G}}{{\\partial P\\partial {\\bf{s}}}}\\frac{{{d^2}{\\bf{s}}}}{{dTd{\\bf{n}}}} + \\frac{{{\\partial ^2}G}}{{\\partial {\\bf{n}}\\partial {\\bf{s}}}}\\frac{{{d^2}{\\bf{s}}}}{{dTdP}} + \\frac{{{\\partial ^2}G}}{{\\partial {{\\bf{s}}^2}}}\\frac{{{d^2}{\\bf{s}}}}{{dPd{\\bf{n}}}}\\frac{{d{\\bf{s}}}}{{dT}} + \\frac{{{\\partial ^2}G}}{{\\partial {{\\bf{s}}^2}}}\\frac{{{d^2}{\\bf{s}}}}{{dTd{\\bf{n}}}}\\frac{{d{\\bf{s}}}}{{dP}} + \\frac{{{\\partial ^2}G}}{{\\partial {{\\bf{s}}^2}}}\\frac{{{d^2}{\\bf{s}}}}{{dTdP}}\\frac{{d{\\bf{s}}}}{{d{\\bf{n}}}}$"
   ]
  },
  {
   "cell_type": "code",
   "execution_count": null,
   "metadata": {},
   "outputs": [],
   "source": [
    "result  = G.diff(T).diff(P).diff(n)\n",
    "result +=  dsdn*d3gdtdpds\n",
    "result += (dsdp*d3gdtdnds).T\n",
    "result +=  dsdn*d3gdtds2*(dsdp.T)\n",
    "result += (dsdt*d3gdpdnds).T\n",
    "result +=  dsdn*d3gdpds2*(dsdt.T)\n",
    "term = []\n",
    "for i in range(0,nc):\n",
    "    term.append(dsdt*d3gdnds2[i]*(dsdp.T))\n",
    "result += sym.Matrix(term)\n",
    "term = []\n",
    "for i in range(0,ns):\n",
    "    term.append(dsdt*d3gds3[i]*(dsdp.T))\n",
    "result +=  dsdn*sym.Matrix(term)\n",
    "result +=  d2sdpdn*d2gdtds\n",
    "result +=  d2sdtdn*d2gdpds\n",
    "result += (d2sdtdp*d2gdnds).T\n",
    "result += d2sdpdn*d2gds2*(dsdt.T)\n",
    "result += d2sdtdn*d2gds2*(dsdp.T)\n",
    "result += (d2sdtdp*d2gds2*(dsdn.T)).T\n",
    "result"
   ]
  },
  {
   "cell_type": "markdown",
   "metadata": {},
   "source": [
    "### (3-6) ${\\left. {\\frac{{{\\partial ^3}G}}{{\\partial T\\partial {{\\bf{n}}^2}}}} \\right|_{eq}} = \\frac{{{\\partial ^3}G}}{{\\partial T\\partial {{\\bf{n}}^2}}} + 2\\frac{{{\\partial ^3}G}}{{\\partial T\\partial {\\bf{n}}\\partial {\\bf{s}}}}\\frac{{d{\\bf{s}}}}{{d{\\bf{n}}}} + \\frac{{{\\partial ^3}G}}{{\\partial T\\partial {{\\bf{s}}^2}}}\\frac{{d{\\bf{s}}}}{{d{\\bf{n}}}}\\frac{{d{\\bf{s}}}}{{d{\\bf{n}}}} + \\frac{{{\\partial ^3}G}}{{\\partial {{\\bf{n}}^2}\\partial {\\bf{s}}}}\\frac{{d{\\bf{s}}}}{{dT}} + 2\\frac{{{\\partial ^3}G}}{{\\partial {\\bf{n}}\\partial {{\\bf{s}}^2}}}\\frac{{d{\\bf{s}}}}{{dT}}\\frac{{d{\\bf{s}}}}{{d{\\bf{n}}}} + \\frac{{{\\partial ^3}G}}{{\\partial {{\\bf{s}}^3}}}\\frac{{d{\\bf{s}}}}{{dT}}\\frac{{d{\\bf{s}}}}{{d{\\bf{n}}}}\\frac{{d{\\bf{s}}}}{{d{\\bf{n}}}} + 2\\frac{{{\\partial ^2}G}}{{\\partial {\\bf{n}}\\partial {\\bf{s}}}}\\frac{{{d^2}{\\bf{s}}}}{{dTd{\\bf{n}}}} + \\frac{{{\\partial ^2}G}}{{\\partial T\\partial {\\bf{s}}}}\\frac{{{d^2}{\\bf{s}}}}{{d{n^2}}} + \\frac{{{\\partial ^2}G}}{{\\partial {{\\bf{s}}^2}}}\\frac{{{d^2}{\\bf{s}}}}{{d{n^2}}}\\frac{{d{\\bf{s}}}}{{dT}} + 2\\frac{{{\\partial ^2}G}}{{\\partial {{\\bf{s}}^2}}}\\frac{{{d^2}{\\bf{s}}}}{{dTd{\\bf{n}}}}\\frac{{d{\\bf{s}}}}{{d{\\bf{n}}}}$"
   ]
  },
  {
   "cell_type": "code",
   "execution_count": null,
   "metadata": {},
   "outputs": [],
   "source": [
    "result  = sym.Matrix([[G.diff(T).diff(x).diff(y) for x in n] for y in n])\n",
    "result += 2*dsdn*d3gdtdnds\n",
    "result +=   dsdn*d3gdtds2*(dsdn.T)\n",
    "for i in range(0,ns):\n",
    "    result += sym.Matrix([[G.diff(x).diff(y).diff(s[i])*dsdt[i] for x in n] for y in n])\n",
    "term = []\n",
    "for i in range(0,nc):\n",
    "    term.append(dsdt*d3gdnds2[i]*(dsdn.T))\n",
    "result += 2*sym.Matrix(term)\n",
    "for i in range(0,ns):\n",
    "    result += dsdn*d3gds3[i]*(dsdn.T)*dsdt[i]\n",
    "result += 2*d2sdtdn*d2gdnds\n",
    "for i in range(0,ns):\n",
    "    result += d2sdn2[i]*d2gdtds[i]\n",
    "for i in range(0,ns):\n",
    "    result += ((dsdt*d2gds2).row(i))[0]*d2sdn2[i]\n",
    "result += 2*d2sdtdn*d2gds2*(dsdn.T)\n",
    "result"
   ]
  },
  {
   "cell_type": "markdown",
   "metadata": {},
   "source": [
    "### (3-7) ${\\left. {\\frac{{{\\partial ^3}G}}{{\\partial {P^3}}}} \\right|_{eq}} = \\frac{{{\\partial ^3}G}}{{\\partial {P^3}}} + 3\\frac{{{\\partial ^3}G}}{{\\partial {P^2}\\partial {\\bf{s}}}}\\frac{{d{\\bf{s}}}}{{dP}} + 3\\frac{{{\\partial ^3}G}}{{\\partial P\\partial {{\\bf{s}}^2}}}\\frac{{d{\\bf{s}}}}{{dP}}\\frac{{d{\\bf{s}}}}{{dP}} + \\frac{{{\\partial ^3}G}}{{\\partial {{\\bf{s}}^3}}}\\frac{{d{\\bf{s}}}}{{dP}}\\frac{{d{\\bf{s}}}}{{dP}}\\frac{{d{\\bf{s}}}}{{dP}} + 3\\frac{{{\\partial ^2}G}}{{\\partial P\\partial {\\bf{s}}}}\\frac{{{d^2}{\\bf{s}}}}{{d{P^2}}} + 3\\frac{{{\\partial ^2}G}}{{\\partial {{\\bf{s}}^2}}}\\frac{{{d^2}{\\bf{s}}}}{{d{P^2}}}\\frac{{d{\\bf{s}}}}{{dP}}$"
   ]
  },
  {
   "cell_type": "code",
   "execution_count": null,
   "metadata": {},
   "outputs": [],
   "source": [
    "result  = G.diff(P,3)\n",
    "result += 3*(dsdp*d3gdp2ds)[0]\n",
    "result += 3*(dsdp*d3gdpds2*(dsdp.T))[0]\n",
    "term = []\n",
    "for i in range(0,ns):\n",
    "    term.append(dsdp*d3gds3[i]*(dsdp.T))\n",
    "result += (dsdp*sym.Matrix(term))[0]\n",
    "result += 3*(d2sdp2*d2gdpds)[0]\n",
    "result += 3*(d2sdp2*d2gds2*(dsdp.T))[0]\n",
    "result.simplify()"
   ]
  },
  {
   "cell_type": "markdown",
   "metadata": {},
   "source": [
    "### (3-8) ${\\left. {\\frac{{{\\partial ^3}G}}{{\\partial {P^2}\\partial {\\bf{n}}}}} \\right|_{eq}} = \\frac{{{\\partial ^3}G}}{{\\partial {P^2}\\partial {\\bf{n}}}} + \\frac{{{\\partial ^3}G}}{{\\partial {P^2}\\partial {\\bf{s}}}}\\frac{{d{\\bf{s}}}}{{d{\\bf{n}}}} + 2\\frac{{{\\partial ^3}G}}{{\\partial P\\partial {\\bf{n}}\\partial {\\bf{s}}}}\\frac{{d{\\bf{s}}}}{{dP}} + \\frac{{{\\partial ^3}G}}{{\\partial {\\bf{n}}\\partial {{\\bf{s}}^2}}}\\frac{{d{\\bf{s}}}}{{dP}}\\frac{{d{\\bf{s}}}}{{dP}} + 2\\frac{{{\\partial ^3}G}}{{\\partial P\\partial {{\\bf{s}}^2}}}\\frac{{d{\\bf{s}}}}{{dP}}\\frac{{d{\\bf{s}}}}{{d{\\bf{n}}}} + \\frac{{{\\partial ^3}G}}{{\\partial {{\\bf{s}}^3}}}\\frac{{d{\\bf{s}}}}{{dP}}\\frac{{d{\\bf{s}}}}{{dP}}\\frac{{d{\\bf{s}}}}{{d{\\bf{n}}}} + 2\\frac{{{\\partial ^2}G}}{{\\partial P\\partial {\\bf{s}}}}\\frac{{{d^2}{\\bf{s}}}}{{dPd{\\bf{n}}}} + \\frac{{{\\partial ^2}G}}{{\\partial {\\bf{n}}\\partial {\\bf{s}}}}\\frac{{{d^2}{\\bf{s}}}}{{d{P^2}}} + 2\\frac{{{\\partial ^2}G}}{{\\partial {{\\bf{s}}^2}}}\\frac{{{d^2}{\\bf{s}}}}{{dPd{\\bf{n}}}}\\frac{{d{\\bf{s}}}}{{dP}} + \\frac{{{\\partial ^2}G}}{{\\partial {{\\bf{s}}^2}}}\\frac{{{d^2}{\\bf{s}}}}{{d{P^2}}}\\frac{{d{\\bf{s}}}}{{d{\\bf{n}}}}$"
   ]
  },
  {
   "cell_type": "code",
   "execution_count": null,
   "metadata": {},
   "outputs": [],
   "source": [
    "result  = G.diff(P,2).diff(n)\n",
    "result +=   dsdn*d3gdp2ds\n",
    "result += 2*(dsdp*d3gdpdnds).T\n",
    "term = []\n",
    "for i in range(0,nc):\n",
    "    term.append(dsdp*d3gdnds2[i]*(dsdp.T))\n",
    "result += sym.Matrix(term)\n",
    "result += 2*(dsdp*d3gdpds2*(dsdn.T)).T\n",
    "term = []\n",
    "for i in range(0,ns):\n",
    "    term.append(dsdp*d3gds3[i]*(dsdp.T))\n",
    "result += dsdn*sym.Matrix(term)\n",
    "result += 2*d2sdpdn*d2gdpds\n",
    "result +=   (d2sdp2*d2gdnds).T\n",
    "result += 2*d2sdpdn*d2gds2*(dsdp.T)\n",
    "result +=   (d2sdp2*d2gds2*(dsdn.T)).T\n",
    "result.simplify()"
   ]
  },
  {
   "cell_type": "markdown",
   "metadata": {},
   "source": [
    "### (3-9) ${\\left. {\\frac{{{\\partial ^3}G}}{{\\partial P\\partial {{\\bf{n}}^2}}}} \\right|_{eq}} = \\frac{{{\\partial ^3}G}}{{\\partial P\\partial {{\\bf{n}}^2}}} + 2\\frac{{{\\partial ^3}G}}{{\\partial P\\partial {\\bf{n}}\\partial {\\bf{s}}}}\\frac{{d{\\bf{s}}}}{{d{\\bf{n}}}} + \\frac{{{\\partial ^3}G}}{{\\partial P\\partial {{\\bf{s}}^2}}}\\frac{{d{\\bf{s}}}}{{d{\\bf{n}}}}\\frac{{d{\\bf{s}}}}{{d{\\bf{n}}}} + \\frac{{{\\partial ^3}G}}{{\\partial {{\\bf{n}}^2}\\partial {\\bf{s}}}}\\frac{{d{\\bf{s}}}}{{dP}} + 2\\frac{{{\\partial ^3}G}}{{\\partial {\\bf{n}}\\partial {{\\bf{s}}^2}}}\\frac{{d{\\bf{s}}}}{{dP}}\\frac{{d{\\bf{s}}}}{{d{\\bf{n}}}} + \\frac{{{\\partial ^3}G}}{{\\partial {{\\bf{s}}^3}}}\\frac{{d{\\bf{s}}}}{{dP}}\\frac{{d{\\bf{s}}}}{{d{\\bf{n}}}}\\frac{{d{\\bf{s}}}}{{d{\\bf{n}}}} + \\frac{{{\\partial ^2}G}}{{\\partial P\\partial {\\bf{s}}}}\\frac{{{d^2}{\\bf{s}}}}{{d{{\\bf{n}}^2}}} + 2\\frac{{{\\partial ^2}G}}{{\\partial {\\bf{n}}\\partial {\\bf{s}}}}\\frac{{{d^2}{\\bf{s}}}}{{dPd{\\bf{n}}}} + \\frac{{{\\partial ^2}G}}{{\\partial {{\\bf{s}}^2}}}\\frac{{{d^2}{\\bf{s}}}}{{d{{\\bf{n}}^2}}}{\\frac{{d{\\bf{s}}}}{{dP}}_1} + 2\\frac{{{\\partial ^2}G}}{{\\partial {{\\bf{s}}^2}}}\\frac{{{d^2}{\\bf{s}}}}{{dPd{\\bf{n}}}}\\frac{{d{\\bf{s}}}}{{d{\\bf{n}}}}$"
   ]
  },
  {
   "cell_type": "code",
   "execution_count": null,
   "metadata": {},
   "outputs": [],
   "source": [
    "result  = sym.Matrix([[G.diff(P).diff(x).diff(y) for x in n] for y in n])\n",
    "result += 2*dsdn*d3gdpdnds\n",
    "result +=   dsdn*d3gdpds2*(dsdn.T)\n",
    "for i in range(0,ns):\n",
    "    result += sym.Matrix([[G.diff(x).diff(y).diff(s[i])*dsdp[i] for x in n] for y in n])\n",
    "term = []\n",
    "for i in range(0,nc):\n",
    "    term.append(dsdp*d3gdnds2[i]*(dsdn.T))\n",
    "result += 2*sym.Matrix(term)\n",
    "for i in range(0,ns):\n",
    "    result += dsdn*d3gds3[i]*(dsdn.T)*dsdp[i]\n",
    "result += 2*d2sdpdn*d2gdnds\n",
    "for i in range(0,ns):\n",
    "    result += d2sdn2[i]*d2gdpds[i]\n",
    "for i in range(0,ns):\n",
    "    result += ((dsdp*d2gds2).row(i))[0]*d2sdn2[i]\n",
    "result += 2*d2sdpdn*d2gds2*(dsdn.T)\n",
    "result"
   ]
  },
  {
   "cell_type": "markdown",
   "metadata": {},
   "source": [
    "### (3-10) ${\\left. {\\frac{{{\\partial ^3}G}}{{\\partial {{\\bf{n}}^3}}}} \\right|_{eq}} = \\frac{{{\\partial ^3}G}}{{\\partial {{\\bf{n}}^3}}} + 3\\frac{{{\\partial ^3}G}}{{\\partial {{\\bf{n}}^2}\\partial {\\bf{s}}}}\\frac{{d{\\bf{s}}}}{{d{\\bf{n}}}} + 3\\frac{{{\\partial ^3}G}}{{\\partial {\\bf{n}}\\partial {{\\bf{s}}^2}}}\\frac{{d{\\bf{s}}}}{{d{\\bf{n}}}}\\frac{{d{\\bf{s}}}}{{d{\\bf{n}}}} + \\frac{{{\\partial ^3}G}}{{\\partial {{\\bf{s}}^3}}}\\frac{{d{\\bf{s}}}}{{d{\\bf{n}}}}\\frac{{d{\\bf{s}}}}{{d{\\bf{n}}}}\\frac{{d{\\bf{s}}}}{{d{\\bf{n}}}} + 3\\frac{{{\\partial ^2}G}}{{\\partial {\\bf{n}}\\partial {\\bf{s}}}}\\frac{{{d^2}{\\bf{s}}}}{{d{{\\bf{n}}^2}}} + 3\\frac{{{\\partial ^2}G}}{{\\partial {{\\bf{s}}^2}}}\\frac{{{d^2}{\\bf{s}}}}{{d{{\\bf{n}}^2}}}\\frac{{d{\\bf{s}}}}{{d{\\bf{n}}}}$"
   ]
  },
  {
   "cell_type": "code",
   "execution_count": null,
   "metadata": {},
   "outputs": [],
   "source": [
    "result = []\n",
    "for i in range(0,nc):\n",
    "    entry  = sym.Matrix(list([[G.diff(n[i]).diff(x).diff(y) for x in n] for y in n]))\n",
    "    for j in range(0,ns):\n",
    "        entry += 3*sym.Matrix([[G.diff(x).diff(y).diff(s[j]) for x in n] for y in n])*((dsdn.row(i))[j])\n",
    "    entry += 3*dsdn*d3gdnds2[i]*(dsdn.T)\n",
    "    for j in range(0,ns):\n",
    "        entry += dsdn*d3gds3[j]*(dsdn.T)*((dsdn.row(i))[j])\n",
    "    for j in range(0,ns):\n",
    "        entry += 3*d2sdn2[j]*((d2gdnds.col(i))[j])\n",
    "    for j in range(0,ns):\n",
    "        entry += 3*((dsdn.row(i))*d2gds2)[j]*d2sdn2[j]\n",
    "    result.append(entry)\n",
    "result"
   ]
  },
  {
   "cell_type": "markdown",
   "metadata": {},
   "source": [
    "# Generic formulation using Faà di Bruno's formula\n",
    "generalizing the chain rule to higher derivatives ([reference](https://en.wikipedia.org/wiki/Faà_di_Bruno%27s_formula))"
   ]
  },
  {
   "cell_type": "markdown",
   "metadata": {},
   "source": [
    "### $G\\left( {T,P,{n_1}, \\cdots ,{n_{nc}},{s_1}, \\cdots ,{s_{ns}}} \\right)$"
   ]
  },
  {
   "cell_type": "markdown",
   "metadata": {},
   "source": [
    "### $dG = \\frac{{\\partial G}}{{\\partial T}}dT + \\frac{{\\partial G}}{{\\partial P}}dP + \\sum\\limits_{j = 1}^{nc} {\\frac{{\\partial G}}{{\\partial {n_j}}}d{n_j}}  + \\sum\\limits_{i = 1}^{ns} {\\frac{{\\partial G}}{{\\partial {s_i}}}d{s_i}}$"
   ]
  },
  {
   "cell_type": "markdown",
   "metadata": {},
   "source": [
    "## First derivatives:\n",
    "### $\\frac{{\\partial G}}{{\\partial x}} = {\\left. {\\frac{{\\partial G}}{{\\partial x}}} \\right|_{{s_i}}} + \\sum\\limits_{i = 1}^{ns} {\\frac{{\\partial G}}{{\\partial {s_i}}}\\frac{{\\partial {s_i}}}{{\\partial x}}}$\n",
    "where $x$ can be one of $T$, $P$, or $n_j$, and the partual derivatives hold all other variables constant except $x$.  For the first term on the right-hand-side of the expression, the derivative is taken holding all $s_i$ constant."
   ]
  },
  {
   "cell_type": "markdown",
   "metadata": {},
   "source": [
    "## Second derivatives:\n",
    "Differentiating the two terms in $\\frac{{\\partial G}}{{\\partial {x_j}}} = {\\left. {\\frac{{\\partial G}}{{\\partial {x_j}}}} \\right|_{{s_i}}} + \\sum\\limits_{i = 1}^{ns} {\\frac{{\\partial G}}{{\\partial {s_i}}}\\frac{{\\partial {s_i}}}{{\\partial {x_j}}}}$ gives:  \n",
    "- $d\\left( {{{\\left. {\\frac{{\\partial G}}{{\\partial {x_j}}}} \\right|}_{{s_i}}}} \\right) \\Rightarrow {\\left. {\\frac{{{\\partial ^2}G}}{{\\partial {x_j}\\partial {x_k}}}} \\right|_{{s_i}}} + \\sum\\limits_{i = 1}^{ns} {\\left( {\\frac{{{\\partial ^2}G}}{{\\partial {s_i}\\partial {x_j}}}\\frac{{\\partial {s_i}}}{{\\partial {x_k}}}} \\right)}$ and  \n",
    "- $d\\left( {\\frac{{\\partial G}}{{\\partial {s_i}}}\\frac{{\\partial {s_i}}}{{\\partial {x_j}}}} \\right) \\Rightarrow \\frac{{{\\partial ^2}G}}{{\\partial {s_i}\\partial {x_k}}}\\frac{{\\partial {s_i}}}{{\\partial {x_j}}} + \\frac{{{\\partial ^2}G}}{{\\partial s_i^2}}\\frac{{\\partial {s_i}}}{{\\partial {x_j}}}\\frac{{\\partial {s_i}}}{{\\partial {x_k}}} + \\frac{{\\partial G}}{{\\partial {s_i}}}\\frac{{{\\partial ^2}{s_i}}}{{\\partial {x_j}\\partial {x_k}}}$  \n",
    "\n",
    "Together, they provide an expression for the second derivative:  \n",
    "### $\\frac{{{\\partial ^2}G}}{{\\partial {x_j}\\partial {x_k}}} = {\\left. {\\frac{{{\\partial ^2}G}}{{\\partial {x_j}\\partial {x_k}}}} \\right|_{{s_i}}} + \\sum\\limits_{i = 1}^{ns} {\\left( {\\frac{{{\\partial ^2}G}}{{\\partial {x_j}\\partial {s_i}}}\\frac{{\\partial {s_i}}}{{\\partial {x_k}}} + \\frac{{{\\partial ^2}G}}{{\\partial {x_k}\\partial {s_i}}}\\frac{{\\partial {s_i}}}{{\\partial {x_j}}}} \\right)}  + \\sum\\limits_{i = 1}^{ns} {\\frac{{{\\partial ^2}G}}{{\\partial s_i^2}}\\frac{{\\partial {s_i}}}{{\\partial {x_j}}}\\frac{{\\partial {s_i}}}{{\\partial {x_k}}}}  + \\sum\\limits_{i = 1}^{ns} {\\frac{{\\partial G}}{{\\partial {s_i}}}\\frac{{{\\partial ^2}{s_i}}}{{\\partial {x_j}\\partial {x_k}}}}$"
   ]
  },
  {
   "cell_type": "markdown",
   "metadata": {},
   "source": [
    "## Third derivatives:\n",
    "### $\\frac{{{\\partial ^3}G}}{{\\partial {x_j}\\partial {x_k}\\partial {x_l}}} = {\\left. {\\frac{{{\\partial ^3}G}}{{\\partial {x_j}\\partial {x_k}\\partial {x_l}}}} \\right|_{{s_i}}} + \\sum\\limits_{i = 1}^{ns} {\\left( {\\frac{{{\\partial ^3}G}}{{\\partial {x_k}\\partial {x_l}\\partial {s_i}}}\\frac{{\\partial {s_i}}}{{\\partial {x_j}}} + \\frac{{{\\partial ^3}G}}{{\\partial {x_j}\\partial {x_l}\\partial {s_i}}}\\frac{{\\partial {s_i}}}{{\\partial {x_k}}} + \\frac{{{\\partial ^3}G}}{{\\partial {x_j}\\partial {x_k}\\partial {s_i}}}\\frac{{\\partial {s_i}}}{{\\partial {x_l}}}} \\right)} + \\sum\\limits_{i = 1}^{ns} {\\left( {\\frac{{{\\partial ^3}G}}{{\\partial {x_j}\\partial s_i^2}}\\frac{{\\partial {s_i}}}{{\\partial {x_k}}}\\frac{{\\partial {s_i}}}{{\\partial {x_l}}} + \\frac{{{\\partial ^3}G}}{{\\partial {x_k}\\partial s_i^2}}\\frac{{\\partial {s_i}}}{{\\partial {x_j}}}\\frac{{\\partial {s_i}}}{{\\partial {x_l}}} + \\frac{{{\\partial ^3}G}}{{\\partial {x_l}\\partial s_i^2}}\\frac{{\\partial {s_i}}}{{\\partial {x_j}}}\\frac{{\\partial {s_i}}}{{\\partial {x_k}}}} \\right)}  + \\sum\\limits_{i = 1}^{ns} {\\frac{{{\\partial ^3}G}}{{\\partial s_i^3}}\\frac{{\\partial {s_i}}}{{\\partial {x_j}}}\\frac{{\\partial {s_i}}}{{\\partial {x_k}}}\\frac{{\\partial {s_i}}}{{\\partial {x_l}}}} + \\sum\\limits_{i = 1}^{ns} {\\left( {\\frac{{{\\partial ^2}G}}{{\\partial {x_j}\\partial {s_i}}}\\frac{{{\\partial ^2}{s_i}}}{{\\partial {x_k}\\partial {x_l}}} + \\frac{{{\\partial ^2}G}}{{\\partial {x_k}\\partial {s_i}}}\\frac{{{\\partial ^2}{s_i}}}{{\\partial {x_j}\\partial {x_l}}} + \\frac{{{\\partial ^2}G}}{{\\partial {x_l}\\partial {s_i}}}\\frac{{{\\partial ^2}{s_i}}}{{\\partial {x_j}\\partial {x_k}}}} \\right)} + \\sum\\limits_{i = 1}^{ns} {\\frac{{{\\partial ^2}G}}{{\\partial s_i^2}}\\left( {\\frac{{{\\partial ^2}{s_i}}}{{\\partial {x_k}\\partial {x_l}}}\\frac{{\\partial {s_i}}}{{\\partial {x_j}}} + \\frac{{{\\partial ^2}{s_i}}}{{\\partial {x_j}\\partial {x_l}}}\\frac{{\\partial {s_i}}}{{\\partial {x_k}}} + \\frac{{{\\partial ^2}{s_i}}}{{\\partial {x_j}\\partial {x_k}}}\\frac{{\\partial {s_i}}}{{\\partial {x_l}}}} \\right)}  + \\sum\\limits_{i = 1}^{ns} {\\frac{{\\partial G}}{{\\partial {s_i}}}\\frac{{{\\partial ^3}{s_i}}}{{\\partial {x_j}\\partial {x_k}\\partial {x_l}}}}$"
   ]
  },
  {
   "cell_type": "markdown",
   "metadata": {},
   "source": [
    "## Fourth derivatives:\n",
    "### $\\frac{{{\\partial ^4}G}}{{\\partial {x_j}\\partial {x_k}\\partial {x_l}\\partial {x_m}}} = {\\left. {\\frac{{{\\partial ^3}G}}{{\\partial {x_j}\\partial {x_k}\\partial {x_l}\\partial {x_m}}}} \\right|_{{s_i}}} + \\sum\\limits_{i = 1}^{ns} {\\left( {\\frac{{{\\partial ^4}G}}{{\\partial {x_k}\\partial {x_l}\\partial {x_m}\\partial {s_i}}}\\frac{{\\partial {s_i}}}{{\\partial {x_j}}} + \\frac{{{\\partial ^4}G}}{{\\partial {x_j}\\partial {x_l}\\partial {x_m}\\partial {s_i}}}\\frac{{\\partial {s_i}}}{{\\partial {x_k}}} + \\frac{{{\\partial ^4}G}}{{\\partial {x_j}\\partial {x_k}\\partial {x_m}\\partial {s_i}}}\\frac{{\\partial {s_i}}}{{\\partial {x_l}}} + \\frac{{{\\partial ^4}G}}{{\\partial {x_j}\\partial {x_k}\\partial {x_l}\\partial {s_i}}}\\frac{{\\partial {s_i}}}{{\\partial {x_m}}}} \\right)} + \\sum\\limits_{i = 1}^{ns} {\\left( {\\frac{{{\\partial ^4}G}}{{\\partial {x_j}\\partial {x_k}\\partial s_i^2}}\\frac{{\\partial {s_i}}}{{\\partial {x_l}}}\\frac{{\\partial {s_i}}}{{\\partial {x_m}}} + \\frac{{{\\partial ^4}G}}{{\\partial {x_j}\\partial {x_l}\\partial s_i^2}}\\frac{{\\partial {s_i}}}{{\\partial {x_k}}}\\frac{{\\partial {s_i}}}{{\\partial {x_m}}} + \\frac{{{\\partial ^4}G}}{{\\partial {x_j}\\partial {x_m}\\partial s_i^2}}\\frac{{\\partial {s_i}}}{{\\partial {x_k}}}\\frac{{\\partial {s_i}}}{{\\partial {x_l}}} + \\frac{{{\\partial ^4}G}}{{\\partial {x_k}\\partial {x_l}\\partial s_i^2}}\\frac{{\\partial {s_i}}}{{\\partial {x_j}}}\\frac{{\\partial {s_i}}}{{\\partial {x_m}}} + \\frac{{{\\partial ^4}G}}{{\\partial {x_k}\\partial {x_m}\\partial s_i^2}}\\frac{{\\partial {s_i}}}{{\\partial {x_j}}}\\frac{{\\partial {s_i}}}{{\\partial {x_l}}} + \\frac{{{\\partial ^4}G}}{{\\partial {x_l}\\partial {x_m}\\partial s_i^2}}\\frac{{\\partial {s_i}}}{{\\partial {x_j}}}\\frac{{\\partial {s_i}}}{{\\partial {x_k}}}} \\right)} + \\sum\\limits_{i = 1}^{ns} {\\left( {\\frac{{{\\partial ^4}G}}{{\\partial {x_j}\\partial s_i^3}}\\frac{{\\partial {s_i}}}{{\\partial {x_k}}}\\frac{{\\partial {s_i}}}{{\\partial {x_l}}}\\frac{{\\partial {s_i}}}{{\\partial {x_m}}} + \\frac{{{\\partial ^4}G}}{{\\partial {x_k}\\partial s_i^3}}\\frac{{\\partial {s_i}}}{{\\partial {x_j}}}\\frac{{\\partial {s_i}}}{{\\partial {x_l}}}\\frac{{\\partial {s_i}}}{{\\partial {x_m}}} + \\frac{{{\\partial ^4}G}}{{\\partial {x_l}\\partial s_i^3}}\\frac{{\\partial {s_i}}}{{\\partial {x_j}}}\\frac{{\\partial {s_i}}}{{\\partial {x_k}}}\\frac{{\\partial {s_i}}}{{\\partial {x_m}}} + \\frac{{{\\partial ^4}G}}{{\\partial {x_m}\\partial s_i^3}}\\frac{{\\partial {s_i}}}{{\\partial {x_j}}}\\frac{{\\partial {s_i}}}{{\\partial {x_k}}}\\frac{{\\partial {s_i}}}{{\\partial {x_l}}}} \\right)}  + \\sum\\limits_{i = 1}^{ns} {\\frac{{{\\partial ^4}G}}{{\\partial s_i^4}}\\frac{{\\partial {s_i}}}{{\\partial {x_j}}}\\frac{{\\partial {s_i}}}{{\\partial {x_k}}}\\frac{{\\partial {s_i}}}{{\\partial {x_l}}}} \\frac{{\\partial {s_i}}}{{\\partial {x_m}}} + \\sum\\limits_{i = 1}^{ns} {\\left( {\\frac{{{\\partial ^3}G}}{{\\partial {x_j}\\partial {x_k}\\partial {s_i}}}\\frac{{{\\partial ^2}{s_i}}}{{\\partial {x_l}\\partial {x_m}}} + \\frac{{{\\partial ^3}G}}{{\\partial {x_j}\\partial {x_l}\\partial {s_i}}}\\frac{{{\\partial ^2}{s_i}}}{{\\partial {x_k}\\partial {x_m}}} + \\frac{{{\\partial ^3}G}}{{\\partial {x_j}\\partial {x_m}\\partial {s_i}}}\\frac{{{\\partial ^2}{s_i}}}{{\\partial {x_k}\\partial {x_l}}} + \\frac{{{\\partial ^3}G}}{{\\partial {x_k}\\partial {x_l}\\partial {s_i}}}\\frac{{{\\partial ^2}{s_i}}}{{\\partial {x_j}\\partial {x_m}}} + \\frac{{{\\partial ^3}G}}{{\\partial {x_k}\\partial {x_m}\\partial {s_i}}}\\frac{{{\\partial ^2}{s_i}}}{{\\partial {x_j}\\partial {x_l}}} + \\frac{{{\\partial ^3}G}}{{\\partial {x_l}\\partial {x_m}\\partial {s_i}}}\\frac{{{\\partial ^2}{s_i}}}{{\\partial {x_j}\\partial {x_k}}}} \\right)} + \\sum\\limits_{i = 1}^{ns} {\\frac{{{\\partial ^3}G}}{{\\partial {x_j}\\partial s_i^2}}\\left( {\\frac{{{\\partial ^2}{s_i}}}{{\\partial {x_k}\\partial {x_m}}}\\frac{{\\partial {s_i}}}{{\\partial {x_l}}} + \\frac{{{\\partial ^2}{s_i}}}{{\\partial {x_l}\\partial {x_m}}}\\frac{{\\partial {s_i}}}{{\\partial {x_k}}} + \\frac{{{\\partial ^2}{s_i}}}{{\\partial {x_k}\\partial {x_l}}}\\frac{{\\partial {s_i}}}{{\\partial {x_m}}}} \\right)}  + \\sum\\limits_{i = 1}^{ns} {\\frac{{{\\partial ^3}G}}{{\\partial {x_k}\\partial s_i^2}}\\left( {\\frac{{{\\partial ^2}{s_i}}}{{\\partial {x_j}\\partial {x_m}}}\\frac{{\\partial {s_i}}}{{\\partial {x_l}}} + \\frac{{{\\partial ^2}{s_i}}}{{\\partial {x_l}\\partial {x_m}}}\\frac{{\\partial {s_i}}}{{\\partial {x_j}}} + \\frac{{{\\partial ^2}{s_i}}}{{\\partial {x_l}\\partial {x_j}}}\\frac{{\\partial {s_i}}}{{\\partial {x_m}}}} \\right)} + \\sum\\limits_{i = 1}^{ns} {\\frac{{{\\partial ^3}G}}{{\\partial {x_l}\\partial s_i^2}}\\left( {\\frac{{{\\partial ^2}{s_i}}}{{\\partial {x_k}\\partial {x_m}}}\\frac{{\\partial {s_i}}}{{\\partial {x_j}}} + \\frac{{{\\partial ^2}{s_i}}}{{\\partial {x_j}\\partial {x_m}}}\\frac{{\\partial {s_i}}}{{\\partial {x_k}}} + \\frac{{{\\partial ^2}{s_i}}}{{\\partial {x_j}\\partial {x_k}}}\\frac{{\\partial {s_i}}}{{\\partial {x_m}}}} \\right)}  + \\sum\\limits_{i = 1}^{ns} {\\frac{{{\\partial ^3}G}}{{\\partial {x_m}\\partial s_i^2}}\\left( {\\frac{{{\\partial ^2}{s_i}}}{{\\partial {x_j}\\partial {x_k}}}\\frac{{\\partial {s_i}}}{{\\partial {x_l}}} + \\frac{{{\\partial ^2}{s_i}}}{{\\partial {x_j}\\partial {x_l}}}\\frac{{\\partial {s_i}}}{{\\partial {x_k}}} + \\frac{{{\\partial ^2}{s_i}}}{{\\partial {x_l}\\partial {x_k}}}\\frac{{\\partial {s_i}}}{{\\partial {x_j}}}} \\right)} + \\sum\\limits_{i = 1}^{ns} {\\frac{{{\\partial ^3}G}}{{\\partial s_i^3}}\\left( {\\frac{{{\\partial ^2}{s_i}}}{{\\partial {x_j}\\partial {x_k}}}\\frac{{\\partial {s_i}}}{{\\partial {x_l}}}\\frac{{\\partial {s_i}}}{{\\partial {x_m}}} + \\frac{{{\\partial ^2}{s_i}}}{{\\partial {x_j}\\partial {x_l}}}\\frac{{\\partial {s_i}}}{{\\partial {x_k}}}\\frac{{\\partial {s_i}}}{{\\partial {x_m}}} + \\frac{{{\\partial ^2}{s_i}}}{{\\partial {x_j}\\partial {x_m}}}\\frac{{\\partial {s_i}}}{{\\partial {x_k}}}\\frac{{\\partial {s_i}}}{{\\partial {x_l}}} + \\frac{{{\\partial ^2}{s_i}}}{{\\partial {x_k}\\partial {x_l}}}\\frac{{\\partial {s_i}}}{{\\partial {x_j}}}\\frac{{\\partial {s_i}}}{{\\partial {x_m}}} + \\frac{{{\\partial ^2}{s_i}}}{{\\partial {x_k}\\partial {x_m}}}\\frac{{\\partial {s_i}}}{{\\partial {x_j}}}\\frac{{\\partial {s_i}}}{{\\partial {x_l}}} + \\frac{{{\\partial ^2}{s_i}}}{{\\partial {x_l}\\partial {x_m}}}\\frac{{\\partial {s_i}}}{{\\partial {x_j}}}\\frac{{\\partial {s_i}}}{{\\partial {x_k}}}} \\right)} + \\sum\\limits_{i = 1}^{ns} {\\left( {\\frac{{{\\partial ^2}G}}{{\\partial {x_j}\\partial {s_i}}}\\frac{{{\\partial ^3}{s_i}}}{{\\partial {x_k}\\partial {x_l}\\partial {x_m}}} + \\frac{{{\\partial ^2}G}}{{\\partial {x_k}\\partial {s_i}}}\\frac{{{\\partial ^3}{s_i}}}{{\\partial {x_j}\\partial {x_l}\\partial {x_m}}} + \\frac{{{\\partial ^2}G}}{{\\partial {x_l}\\partial {s_i}}}\\frac{{{\\partial ^3}{s_i}}}{{\\partial {x_j}\\partial {x_k}\\partial {x_m}}} + \\frac{{{\\partial ^2}G}}{{\\partial {x_m}\\partial {s_i}}}\\frac{{{\\partial ^3}{s_i}}}{{\\partial {x_j}\\partial {x_k}\\partial {x_l}}}} \\right)} + \\sum\\limits_{i = 1}^{ns} {\\frac{{{\\partial ^2}G}}{{\\partial s_i^2}}\\left( {\\frac{{{\\partial ^2}{s_i}}}{{\\partial {x_j}\\partial {x_k}}}\\frac{{{\\partial ^2}{s_i}}}{{\\partial {x_l}\\partial {x_m}}} + \\frac{{{\\partial ^2}{s_i}}}{{\\partial {x_j}\\partial {x_l}}}\\frac{{{\\partial ^2}{s_i}}}{{\\partial {x_k}\\partial {x_m}}} + \\frac{{{\\partial ^2}{s_i}}}{{\\partial {x_j}\\partial {x_m}}}\\frac{{{\\partial ^2}{s_i}}}{{\\partial {x_k}\\partial {x_l}}}} \\right)}  + \\sum\\limits_{i = 1}^{ns} {\\frac{{\\partial G}}{{\\partial {s_i}}}\\frac{{{\\partial ^4}{s_i}}}{{\\partial {x_j}\\partial {x_k}\\partial {x_l}\\partial {x_m}}}} $"
   ]
  },
  {
   "cell_type": "markdown",
   "metadata": {},
   "source": [
    "## Order parameter first derivatives\n",
    "$\\frac{{\\partial \\frac{{\\partial G}}{{\\partial {s_u}}}}}{{\\partial x}} = {\\left. {\\frac{{\\partial \\frac{{\\partial G}}{{\\partial {s_u}}}}}{{\\partial x}}} \\right|_{{s_i}}} + \\sum\\limits_{i = 1}^{ns} {\\frac{{\\partial \\frac{{\\partial G}}{{\\partial {s_u}}}}}{{\\partial {s_i}}}\\frac{{\\partial {s_i}}}{{\\partial x}}}$  \n",
    "which reduces to  \n",
    "### $0 = \\frac{{{\\partial ^2}G}}{{\\partial x\\partial {s_u}}} + \\sum\\limits_{i = 1}^{ns} {\\frac{{{\\partial ^2}G}}{{\\partial {s_u}\\partial {s_i}}}\\frac{{\\partial {s_i}}}{{\\partial x}}} \\forall {s_u}$"
   ]
  },
  {
   "cell_type": "markdown",
   "metadata": {},
   "source": [
    "## Order parameter second derivatives\n",
    "### $0 = {\\left. {\\frac{{{\\partial ^3}G}}{{\\partial {x_j}\\partial {x_k}\\partial {s_u}}}} \\right|_{{s_i}}} + \\sum\\limits_{i = 1}^{ns} {\\left( {\\frac{{{\\partial ^3}G}}{{\\partial {x_j}\\partial {s_i}\\partial {s_u}}}\\frac{{\\partial {s_i}}}{{\\partial {x_k}}} + \\frac{{{\\partial ^3}G}}{{\\partial {x_k}\\partial {s_i}\\partial {s_u}}}\\frac{{\\partial {s_i}}}{{\\partial {x_j}}}} \\right)}  + \\sum\\limits_{i = 1}^{ns} {\\frac{{{\\partial ^3}G}}{{\\partial s_i^2\\partial {s_u}}}\\frac{{\\partial {s_i}}}{{\\partial {x_j}}}\\frac{{\\partial {s_i}}}{{\\partial {x_k}}}}  + \\sum\\limits_{i = 1}^{ns} {\\frac{{{\\partial ^2}G}}{{\\partial {s_i}\\partial {s_u}}}\\frac{{{\\partial ^2}{s_i}}}{{\\partial {x_j}\\partial {x_k}}}}$"
   ]
  },
  {
   "cell_type": "markdown",
   "metadata": {},
   "source": [
    "## Order parameter third derivatives\n",
    "### $0 = \\frac{{{\\partial ^4}G}}{{\\partial {x_j}\\partial {x_k}\\partial {x_l}\\partial {s_u}}} + \\sum\\limits_{i = 1}^{ns} {\\left( {\\frac{{{\\partial ^4}G}}{{\\partial {x_k}\\partial {x_l}\\partial {s_i}\\partial {s_u}}}\\frac{{\\partial {s_i}}}{{\\partial {x_j}}} + \\frac{{{\\partial ^4}G}}{{\\partial {x_j}\\partial {x_l}\\partial {s_i}\\partial {s_u}}}\\frac{{\\partial {s_i}}}{{\\partial {x_k}}} + \\frac{{{\\partial ^4}G}}{{\\partial {x_j}\\partial {x_k}\\partial {s_i}\\partial {s_u}}}\\frac{{\\partial {s_i}}}{{\\partial {x_l}}}} \\right)} + \\sum\\limits_{i = 1}^{ns} {\\left( {\\frac{{{\\partial ^4}G}}{{\\partial {x_j}\\partial s_i^2\\partial {s_u}}}\\frac{{\\partial {s_i}}}{{\\partial {x_k}}}\\frac{{\\partial {s_i}}}{{\\partial {x_l}}} + \\frac{{{\\partial ^4}G}}{{\\partial {x_k}\\partial s_i^2\\partial {s_u}}}\\frac{{\\partial {s_i}}}{{\\partial {x_j}}}\\frac{{\\partial {s_i}}}{{\\partial {x_l}}} + \\frac{{{\\partial ^4}G}}{{\\partial {x_l}\\partial s_i^2\\partial {s_u}}}\\frac{{\\partial {s_i}}}{{\\partial {x_j}}}\\frac{{\\partial {s_i}}}{{\\partial {x_k}}}} \\right)}  + \\sum\\limits_{i = 1}^{ns} {\\frac{{{\\partial ^4}G}}{{\\partial s_i^3\\partial {s_u}}}\\frac{{\\partial {s_i}}}{{\\partial {x_j}}}\\frac{{\\partial {s_i}}}{{\\partial {x_k}}}\\frac{{\\partial {s_i}}}{{\\partial {x_l}}}} + \\sum\\limits_{i = 1}^{ns} {\\left( {\\frac{{{\\partial ^3}G}}{{\\partial {x_j}\\partial {s_i}\\partial {s_u}}}\\frac{{{\\partial ^2}{s_i}}}{{\\partial {x_k}\\partial {x_l}}} + \\frac{{{\\partial ^3}G}}{{\\partial {x_k}\\partial {s_i}\\partial {s_u}}}\\frac{{{\\partial ^2}{s_i}}}{{\\partial {x_j}\\partial {x_l}}} + \\frac{{{\\partial ^3}G}}{{\\partial {x_l}\\partial {s_i}\\partial {s_u}}}\\frac{{{\\partial ^2}{s_i}}}{{\\partial {x_j}\\partial {x_k}}}} \\right)} + \\sum\\limits_{i = 1}^{ns} {\\frac{{{\\partial ^3}G}}{{\\partial s_i^2\\partial {s_u}}}\\left( {\\frac{{{\\partial ^2}{s_i}}}{{\\partial {x_k}\\partial {x_l}}}\\frac{{\\partial {s_i}}}{{\\partial {x_j}}} + \\frac{{{\\partial ^2}{s_i}}}{{\\partial {x_j}\\partial {x_l}}}\\frac{{\\partial {s_i}}}{{\\partial {x_k}}} + \\frac{{{\\partial ^2}{s_i}}}{{\\partial {x_j}\\partial {x_k}}}\\frac{{\\partial {s_i}}}{{\\partial {x_l}}}} \\right)}  + \\sum\\limits_{i = 1}^{ns} {\\frac{{{\\partial ^2}G}}{{\\partial {s_i}\\partial {s_u}}}\\frac{{{\\partial ^3}{s_i}}}{{\\partial {x_j}\\partial {x_k}\\partial {x_l}}}}$"
   ]
  },
  {
   "cell_type": "markdown",
   "metadata": {},
   "source": [
    "# Required Parameter Derivatives\n",
    "By analogy, if *w* is some model parameter, then\n",
    "### ${\\bf{0}} = \\frac{{{\\partial ^2}G}}{{\\partial w\\partial {\\bf{s}}}} + \\frac{{{\\partial ^2}G}}{{\\partial {{\\bf{s}}^2}}}\\frac{{d{\\bf{s}}}}{{dw}}$"
   ]
  },
  {
   "cell_type": "markdown",
   "metadata": {},
   "source": [
    "From which the required second order Gibbs free energy parameter derivatives are:  \n",
    "\n",
    "### $\\frac{{{\\partial ^2}G}}{{\\partial T\\partial w}} = {\\left. {\\frac{{{\\partial ^2}G}}{{\\partial T\\partial w}}} \\right|_{{s_i}}} + \\frac{{{\\partial ^2}G}}{{\\partial T\\partial {\\bf{s}}}}\\frac{{\\partial {\\bf{s}}}}{{\\partial w}} + \\frac{{{\\partial ^2}G}}{{\\partial w\\partial {\\bf{s}}}}\\frac{{\\partial {\\bf{s}}}}{{\\partial T}} + \\frac{{{\\partial ^2}G}}{{\\partial {{\\bf{s}}^2}}}\\frac{{\\partial {\\bf{s}}}}{{\\partial T}}\\frac{{\\partial {\\bf{s}}}}{{\\partial w}}$\n",
    "### $\\frac{{{\\partial ^2}G}}{{\\partial P\\partial w}} = {\\left. {\\frac{{{\\partial ^2}G}}{{\\partial P\\partial w}}} \\right|_{{s_i}}} + \\frac{{{\\partial ^2}G}}{{\\partial P\\partial {\\bf{s}}}}\\frac{{\\partial {\\bf{s}}}}{{\\partial w}} + \\frac{{{\\partial ^2}G}}{{\\partial w\\partial {\\bf{s}}}}\\frac{{\\partial {\\bf{s}}}}{{\\partial P}} + \\frac{{{\\partial ^2}G}}{{\\partial {{\\bf{s}}^2}}}\\frac{{\\partial {\\bf{s}}}}{{\\partial P}}\\frac{{\\partial {\\bf{s}}}}{{\\partial w}}$\n",
    "### $\\frac{{{\\partial ^2}G}}{{\\partial {\\bf{n}}\\partial w}} = {\\left. {\\frac{{{\\partial ^2}G}}{{\\partial {\\bf{n}}\\partial w}}} \\right|_{{s_i}}} + \\frac{{{\\partial ^2}G}}{{\\partial {\\bf{n}}\\partial {\\bf{s}}}}\\frac{{\\partial {\\bf{s}}}}{{\\partial w}} + \\frac{{{\\partial ^2}G}}{{\\partial w\\partial {\\bf{s}}}}\\frac{{\\partial {\\bf{s}}}}{{\\partial {\\bf{n}}}} + \\frac{{{\\partial ^2}G}}{{\\partial {{\\bf{s}}^2}}}\\frac{{\\partial {\\bf{s}}}}{{\\partial {\\bf{n}}}}\\frac{{\\partial {\\bf{s}}}}{{\\partial w}}$"
   ]
  },
  {
   "cell_type": "markdown",
   "metadata": {},
   "source": [
    "The second order parameter derivatives are:  \n",
    "\n",
    "### ${\\bf{0}} = \\frac{{{\\partial ^3}G}}{{\\partial T\\partial w\\partial \\bf{s}}} + \\frac{{{\\partial ^3}G}}{{\\partial T\\partial {{\\bf{s}}^2}}}\\frac{{d{\\bf{s}}}}{{dw}} + \\frac{{{\\partial ^3}G}}{{\\partial w\\partial {{\\bf{s}}^2}}}\\frac{{d{\\bf{s}}}}{{dT}} + \\frac{{{\\partial ^3}G}}{{\\partial {{\\bf{s}}^3}}}\\frac{{d{\\bf{s}}}}{{dT}}\\frac{{d{\\bf{s}}}}{{dw}} + \\frac{{{\\partial ^2}G}}{{\\partial {{\\bf{s}}^2}}}\\frac{{{d^2}{\\bf{s}}}}{{dTdw}}$\n",
    "### ${\\bf{0}} = \\frac{{{\\partial ^3}G}}{{\\partial w\\partial P\\partial \\bf{s}}} + \\frac{{{\\partial ^3}G}}{{\\partial w\\partial {{\\bf{s}}^2}}}\\frac{{d{\\bf{s}}}}{{dP}} + \\frac{{{\\partial ^3}G}}{{\\partial P\\partial {{\\bf{s}}^2}}}\\frac{{d{\\bf{s}}}}{{dw}} + \\frac{{{\\partial ^3}G}}{{\\partial {{\\bf{s}}^3}}}\\frac{{d{\\bf{s}}}}{{dw}}\\frac{{d{\\bf{s}}}}{{dP}} + \\frac{{{\\partial ^2}G}}{{\\partial {{\\bf{s}}^2}}}\\frac{{{d^2}{\\bf{s}}}}{{dwdP}}$\n",
    "### ${\\bf{0}} = \\frac{{{\\partial ^3}G}}{{\\partial {\\bf{n}}\\partial w\\partial \\bf{s}}} + \\frac{{{\\partial ^3}G}}{{\\partial {\\bf{n}}\\partial {{\\bf{s}}^2}}}\\frac{{d{\\bf{s}}}}{{dP}} + \\frac{{{\\partial ^3}G}}{{\\partial w\\partial {{\\bf{s}}^2}}}\\frac{{d{\\bf{s}}}}{{d{\\bf{n}}}} + \\frac{{{\\partial ^3}G}}{{\\partial {{\\bf{s}}^3}}}\\frac{{d{\\bf{s}}}}{{d{\\bf{n}}}}\\frac{{d{\\bf{s}}}}{{dw}} + \\frac{{{\\partial ^2}G}}{{\\partial {{\\bf{s}}^2}}}\\frac{{{d^2}{\\bf{s}}}}{{d{\\bf{n}}dw}}$"
   ]
  },
  {
   "cell_type": "markdown",
   "metadata": {},
   "source": [
    "From which the required third order Gibbs free energy derivatives are:  \n",
    "\n",
    "$\\frac{{{\\partial ^3}G}}{{\\partial {T^2}\\partial w}} = {\\left. {\\frac{{{\\partial ^3}G}}{{\\partial {T^2}\\partial w}}} \\right|_{{s_i}}} + 2\\frac{{{\\partial ^3}G}}{{\\partial T\\partial w\\partial {\\bf{s}}}}\\frac{{\\partial {\\bf{s}}}}{{\\partial T}} + \\frac{{{\\partial ^3}G}}{{\\partial {T^2}\\partial {\\bf{s}}}}\\frac{{\\partial {\\bf{s}}}}{{\\partial w}} + 2\\frac{{{\\partial ^3}G}}{{\\partial T\\partial {{\\bf{s}}^2}}}\\frac{{\\partial {\\bf{s}}}}{{\\partial T}}\\frac{{\\partial {\\bf{s}}}}{{\\partial w}} + \\frac{{{\\partial ^3}G}}{{\\partial w\\partial {{\\bf{s}}^2}}}\\frac{{\\partial {\\bf{s}}}}{{\\partial T}}\\frac{{\\partial {\\bf{s}}}}{{\\partial T}} + \\frac{{{\\partial ^3}G}}{{\\partial {{\\bf{s}}^3}}}\\frac{{\\partial {\\bf{s}}}}{{\\partial T}}\\frac{{\\partial {\\bf{s}}}}{{\\partial T}}\\frac{{\\partial {\\bf{s}}}}{{\\partial w}} + 2\\frac{{{\\partial ^2}G}}{{\\partial T\\partial {\\bf{s}}}}\\frac{{{\\partial ^2}{\\bf{s}}}}{{\\partial T\\partial w}} + \\frac{{{\\partial ^2}G}}{{\\partial w\\partial {\\bf{s}}}}\\frac{{{\\partial ^2}{\\bf{s}}}}{{\\partial {T^2}}} + 2\\frac{{{\\partial ^2}G}}{{\\partial {{\\bf{s}}^2}}}\\frac{{{\\partial ^2}{\\bf{s}}}}{{\\partial T\\partial w}}\\frac{{\\partial {\\bf{s}}}}{{\\partial T}} + \\frac{{{\\partial ^2}G}}{{\\partial {{\\bf{s}}^2}}}\\frac{{{\\partial ^2}{\\bf{s}}}}{{\\partial {T^2}}}\\frac{{\\partial {\\bf{s}}}}{{\\partial w}}$  \n",
    "\n",
    "$\\frac{{{\\partial ^3}G}}{{\\partial T\\partial P\\partial w}} = {\\left. {\\frac{{{\\partial ^3}G}}{{\\partial T\\partial P\\partial w}}} \\right|_{{s_i}}} + \\frac{{{\\partial ^3}G}}{{\\partial P\\partial w\\partial {\\bf{s}}}}\\frac{{\\partial {\\bf{s}}}}{{\\partial T}} + \\frac{{{\\partial ^3}G}}{{\\partial T\\partial w\\partial {\\bf{s}}}}\\frac{{\\partial {\\bf{s}}}}{{\\partial P}} + \\frac{{{\\partial ^3}G}}{{\\partial T\\partial P\\partial {\\bf{s}}}}\\frac{{\\partial {\\bf{s}}}}{{\\partial w}} + \\frac{{{\\partial ^3}G}}{{\\partial T\\partial {{\\bf{s}}^2}}}\\frac{{\\partial {\\bf{s}}}}{{\\partial P}}\\frac{{\\partial {\\bf{s}}}}{{\\partial w}} + \\frac{{{\\partial ^3}G}}{{\\partial P\\partial {{\\bf{s}}^2}}}\\frac{{\\partial {\\bf{s}}}}{{\\partial T}}\\frac{{\\partial {\\bf{s}}}}{{\\partial w}} + \\frac{{{\\partial ^3}G}}{{\\partial w\\partial {{\\bf{s}}^2}}}\\frac{{\\partial {\\bf{s}}}}{{\\partial T}}\\frac{{\\partial {\\bf{s}}}}{{\\partial P}} + \\frac{{{\\partial ^3}G}}{{\\partial {{\\bf{s}}^3}}}\\frac{{\\partial {\\bf{s}}}}{{\\partial T}}\\frac{{\\partial {\\bf{s}}}}{{\\partial P}}\\frac{{\\partial {\\bf{s}}}}{{\\partial w}} + \\frac{{{\\partial ^2}G}}{{\\partial T\\partial {\\bf{s}}}}\\frac{{{\\partial ^2}{\\bf{s}}}}{{\\partial P\\partial w}} + \\frac{{{\\partial ^2}G}}{{\\partial P\\partial {\\bf{s}}}}\\frac{{{\\partial ^2}{\\bf{s}}}}{{\\partial T\\partial w}} + \\frac{{{\\partial ^2}G}}{{\\partial w\\partial {\\bf{s}}}}\\frac{{{\\partial ^2}{\\bf{s}}}}{{\\partial T\\partial P}} + \\frac{{{\\partial ^2}G}}{{\\partial {{\\bf{s}}^2}}}\\frac{{{\\partial ^2}{\\bf{s}}}}{{\\partial P\\partial w}}\\frac{{\\partial {\\bf{s}}}}{{\\partial T}} + \\frac{{{\\partial ^2}G}}{{\\partial {{\\bf{s}}^2}}}\\frac{{{\\partial ^2}{\\bf{s}}}}{{\\partial T\\partial w}}\\frac{{\\partial {\\bf{s}}}}{{\\partial P}} + \\frac{{{\\partial ^2}G}}{{\\partial {{\\bf{s}}^2}}}\\frac{{{\\partial ^2}{\\bf{s}}}}{{\\partial T\\partial P}}\\frac{{\\partial {\\bf{s}}}}{{\\partial w}}$  \n",
    "\n",
    "$\\frac{{{\\partial ^3}G}}{{\\partial {P^2}\\partial w}} = {\\left. {\\frac{{{\\partial ^3}G}}{{\\partial {P^2}\\partial w}}} \\right|_{{s_i}}} + 2\\frac{{{\\partial ^3}G}}{{\\partial P\\partial w\\partial {\\bf{s}}}}\\frac{{\\partial {\\bf{s}}}}{{\\partial P}} + \\frac{{{\\partial ^3}G}}{{\\partial {P^2}\\partial {\\bf{s}}}}\\frac{{\\partial {\\bf{s}}}}{{\\partial w}} + 2\\frac{{{\\partial ^3}G}}{{\\partial P\\partial {{\\bf{s}}^2}}}\\frac{{\\partial {\\bf{s}}}}{{\\partial P}}\\frac{{\\partial {\\bf{s}}}}{{\\partial w}} + \\frac{{{\\partial ^3}G}}{{\\partial w\\partial {{\\bf{s}}^2}}}\\frac{{\\partial {\\bf{s}}}}{{\\partial P}}\\frac{{\\partial {\\bf{s}}}}{{\\partial P}} + \\frac{{{\\partial ^3}G}}{{\\partial {{\\bf{s}}^3}}}\\frac{{\\partial {\\bf{s}}}}{{\\partial P}}\\frac{{\\partial {\\bf{s}}}}{{\\partial P}}\\frac{{\\partial {\\bf{s}}}}{{\\partial w}} + 2\\frac{{{\\partial ^2}G}}{{\\partial P\\partial {\\bf{s}}}}\\frac{{{\\partial ^2}{\\bf{s}}}}{{\\partial P\\partial w}} + \\frac{{{\\partial ^2}G}}{{\\partial w\\partial {\\bf{s}}}}\\frac{{{\\partial ^2}{\\bf{s}}}}{{\\partial {P^2}}} + 2\\frac{{{\\partial ^2}G}}{{\\partial {{\\bf{s}}^2}}}\\frac{{{\\partial ^2}{\\bf{s}}}}{{\\partial P\\partial w}}\\frac{{\\partial {\\bf{s}}}}{{\\partial P}} + \\frac{{{\\partial ^2}G}}{{\\partial {{\\bf{s}}^2}}}\\frac{{{\\partial ^2}{\\bf{s}}}}{{\\partial {P^2}}}\\frac{{\\partial {\\bf{s}}}}{{\\partial w}}$"
   ]
  },
  {
   "cell_type": "markdown",
   "metadata": {},
   "source": [
    "The third order parameter derivatives are:  \n",
    "\n",
    "${\\bf{0}} = \\frac{{{\\partial ^4}G}}{{\\partial {T^2}\\partial w\\partial {\\bf{s}}}} + 2\\frac{{{\\partial ^4}G}}{{\\partial T\\partial w\\partial {{\\bf{s}}^2}}}\\frac{{\\partial {\\bf{s}}}}{{\\partial T}} + \\frac{{{\\partial ^4}G}}{{\\partial {T^2}\\partial {{\\bf{s}}^2}}}\\frac{{\\partial {\\bf{s}}}}{{\\partial w}} + 2\\frac{{{\\partial ^4}G}}{{\\partial T\\partial {{\\bf{s}}^3}}}\\frac{{\\partial {\\bf{s}}}}{{\\partial T}}\\frac{{\\partial {\\bf{s}}}}{{\\partial w}} + \\frac{{{\\partial ^4}G}}{{\\partial w\\partial {{\\bf{s}}^3}}}\\frac{{\\partial {\\bf{s}}}}{{\\partial T}}\\frac{{\\partial {\\bf{s}}}}{{\\partial T}} + \\frac{{{\\partial ^4}G}}{{\\partial {{\\bf{s}}^4}}}\\frac{{\\partial {\\bf{s}}}}{{\\partial T}}\\frac{{\\partial {\\bf{s}}}}{{\\partial T}}\\frac{{\\partial {\\bf{s}}}}{{\\partial w}} + 2\\frac{{{\\partial ^3}G}}{{\\partial T\\partial {{\\bf{s}}^2}}}\\frac{{{\\partial ^2}{\\bf{s}}}}{{\\partial T\\partial w}} + \\frac{{{\\partial ^3}G}}{{\\partial w\\partial {{\\bf{s}}^2}}}\\frac{{{\\partial ^2}{\\bf{s}}}}{{\\partial {T^2}}} + 2\\frac{{{\\partial ^3}G}}{{\\partial {{\\bf{s}}^3}}}\\frac{{{\\partial ^2}{\\bf{s}}}}{{\\partial T\\partial w}}\\frac{{\\partial {\\bf{s}}}}{{\\partial T}} + \\frac{{{\\partial ^3}G}}{{\\partial {{\\bf{s}}^3}}}\\frac{{{\\partial ^2}{\\bf{s}}}}{{\\partial {T^2}}}\\frac{{\\partial {\\bf{s}}}}{{\\partial w}} + \\frac{{{\\partial ^2}G}}{{\\partial {{\\bf{s}}^2}}}\\frac{{{\\partial ^3}{\\bf{s}}}}{{\\partial {T^2}\\partial w}}$  \n",
    "\n",
    "${\\bf{0}} = \\frac{{{\\partial ^4}G}}{{\\partial T\\partial P\\partial w\\partial {\\bf{s}}}} + \\frac{{{\\partial ^4}G}}{{\\partial P\\partial w\\partial {{\\bf{s}}^2}}}\\frac{{\\partial {\\bf{s}}}}{{\\partial T}} + \\frac{{{\\partial ^4}G}}{{\\partial T\\partial w\\partial {{\\bf{s}}^2}}}\\frac{{\\partial {\\bf{s}}}}{{\\partial P}} + \\frac{{{\\partial ^4}G}}{{\\partial T\\partial P\\partial {{\\bf{s}}^2}}}\\frac{{\\partial {\\bf{s}}}}{{\\partial w}} + \\frac{{{\\partial ^4}G}}{{\\partial T\\partial {{\\bf{s}}^3}}}\\frac{{\\partial {\\bf{s}}}}{{\\partial P}}\\frac{{\\partial {\\bf{s}}}}{{\\partial w}} + \\frac{{{\\partial ^4}G}}{{\\partial P\\partial {{\\bf{s}}^3}}}\\frac{{\\partial {\\bf{s}}}}{{\\partial T}}\\frac{{\\partial {\\bf{s}}}}{{\\partial w}} + \\frac{{{\\partial ^4}G}}{{\\partial w\\partial {{\\bf{s}}^3}}}\\frac{{\\partial {\\bf{s}}}}{{\\partial T}}\\frac{{\\partial {\\bf{s}}}}{{\\partial P}} + \\frac{{{\\partial ^4}G}}{{\\partial {{\\bf{s}}^4}}}\\frac{{\\partial {\\bf{s}}}}{{\\partial T}}\\frac{{\\partial {\\bf{s}}}}{{\\partial P}}\\frac{{\\partial {\\bf{s}}}}{{\\partial w}} + \\frac{{{\\partial ^3}G}}{{\\partial T\\partial {{\\bf{s}}^2}}}\\frac{{{\\partial ^2}{\\bf{s}}}}{{\\partial P\\partial w}} + \\frac{{{\\partial ^3}G}}{{\\partial P\\partial {{\\bf{s}}^2}}}\\frac{{{\\partial ^2}{\\bf{s}}}}{{\\partial T\\partial w}} + \\frac{{{\\partial ^3}G}}{{\\partial w\\partial {{\\bf{s}}^2}}}\\frac{{{\\partial ^2}{\\bf{s}}}}{{\\partial T\\partial P}} + \\frac{{{\\partial ^3}G}}{{\\partial {{\\bf{s}}^3}}}\\frac{{{\\partial ^2}{\\bf{s}}}}{{\\partial P\\partial w}}\\frac{{\\partial {\\bf{s}}}}{{\\partial T}} + \\frac{{{\\partial ^3}G}}{{\\partial {{\\bf{s}}^3}}}\\frac{{{\\partial ^2}{\\bf{s}}}}{{\\partial T\\partial w}}\\frac{{\\partial {\\bf{s}}}}{{\\partial P}} + \\frac{{{\\partial ^3}G}}{{\\partial {{\\bf{s}}^3}}}\\frac{{{\\partial ^2}{\\bf{s}}}}{{\\partial T\\partial P}}\\frac{{\\partial {\\bf{s}}}}{{\\partial w}} + \\frac{{{\\partial ^2}G}}{{\\partial {{\\bf{s}}^2}}}\\frac{{{\\partial ^3}{\\bf{s}}}}{{\\partial T\\partial P\\partial w}}$  \n",
    "\n",
    "${\\bf{0}} = \\frac{{{\\partial ^4}G}}{{\\partial {P^2}\\partial w\\partial {\\bf{s}}}} + 2\\frac{{{\\partial ^4}G}}{{\\partial P\\partial w\\partial {{\\bf{s}}^2}}}\\frac{{\\partial {\\bf{s}}}}{{\\partial P}} + \\frac{{{\\partial ^4}G}}{{\\partial {P^2}\\partial {{\\bf{s}}^2}}}\\frac{{\\partial {\\bf{s}}}}{{\\partial w}} + 2\\frac{{{\\partial ^4}G}}{{\\partial P\\partial {{\\bf{s}}^3}}}\\frac{{\\partial {\\bf{s}}}}{{\\partial P}}\\frac{{\\partial {\\bf{s}}}}{{\\partial w}} + \\frac{{{\\partial ^4}G}}{{\\partial w\\partial {{\\bf{s}}^3}}}\\frac{{\\partial {\\bf{s}}}}{{\\partial P}}\\frac{{\\partial {\\bf{s}}}}{{\\partial P}} + \\frac{{{\\partial ^4}G}}{{\\partial {{\\bf{s}}^4}}}\\frac{{\\partial {\\bf{s}}}}{{\\partial P}}\\frac{{\\partial {\\bf{s}}}}{{\\partial P}}\\frac{{\\partial {\\bf{s}}}}{{\\partial w}} + 2\\frac{{{\\partial ^3}G}}{{\\partial P\\partial {{\\bf{s}}^2}}}\\frac{{{\\partial ^2}{\\bf{s}}}}{{\\partial P\\partial w}} + \\frac{{{\\partial ^3}G}}{{\\partial w\\partial {{\\bf{s}}^2}}}\\frac{{{\\partial ^2}{\\bf{s}}}}{{\\partial {P^2}}} + 2\\frac{{{\\partial ^3}G}}{{\\partial {{\\bf{s}}^3}}}\\frac{{{\\partial ^2}{\\bf{s}}}}{{\\partial P\\partial w}}\\frac{{\\partial {\\bf{s}}}}{{\\partial P}} + \\frac{{{\\partial ^3}G}}{{\\partial {{\\bf{s}}^3}}}\\frac{{{\\partial ^2}{\\bf{s}}}}{{\\partial {P^2}}}\\frac{{\\partial {\\bf{s}}}}{{\\partial w}} + \\frac{{{\\partial ^2}G}}{{\\partial {{\\bf{s}}^2}}}\\frac{{{\\partial ^3}{\\bf{s}}}}{{\\partial {P^2}\\partial w}}$"
   ]
  },
  {
   "cell_type": "markdown",
   "metadata": {},
   "source": [
    "From which the required fourth order Gibbs free energy derivatives are:  \n",
    "\n",
    "$\\frac{{{\\partial ^4}G}}{{\\partial {T^3}\\partial w}} = {\\left. {\\frac{{{\\partial ^3}G}}{{\\partial {T^3}\\partial w}}} \\right|_{{s_i}}} + 3\\frac{{{\\partial ^4}G}}{{\\partial {T^2}\\partial w\\partial {\\bf{s}}}}\\frac{{\\partial {\\bf{s}}}}{{\\partial T}} + \\frac{{{\\partial ^4}G}}{{\\partial {T^3}\\partial {\\bf{s}}}}\\frac{{\\partial {\\bf{s}}}}{{\\partial w}} + 3\\frac{{{\\partial ^4}G}}{{\\partial {T^2}\\partial {{\\bf{s}}^2}}}\\frac{{\\partial {\\bf{s}}}}{{\\partial T}}\\frac{{\\partial {\\bf{s}}}}{{\\partial w}} + 3\\frac{{{\\partial ^4}G}}{{\\partial T\\partial w\\partial {{\\bf{s}}^2}}}\\frac{{\\partial {\\bf{s}}}}{{\\partial T}}\\frac{{\\partial {\\bf{s}}}}{{\\partial T}} + 3\\frac{{{\\partial ^4}G}}{{\\partial T\\partial {{\\bf{s}}^3}}}\\frac{{\\partial {\\bf{s}}}}{{\\partial T}}\\frac{{\\partial {\\bf{s}}}}{{\\partial T}}\\frac{{\\partial {\\bf{s}}}}{{\\partial w}} + \\frac{{{\\partial ^4}G}}{{\\partial w\\partial {{\\bf{s}}^3}}}\\frac{{\\partial {\\bf{s}}}}{{\\partial T}}\\frac{{\\partial {\\bf{s}}}}{{\\partial T}}\\frac{{\\partial {\\bf{s}}}}{{\\partial T}} + \\frac{{{\\partial ^4}G}}{{\\partial {{\\bf{s}}^4}}}\\frac{{\\partial {\\bf{s}}}}{{\\partial T}}\\frac{{\\partial {\\bf{s}}}}{{\\partial T}}\\frac{{\\partial {\\bf{s}}}}{{\\partial T}}\\frac{{\\partial {\\bf{s}}}}{{\\partial w}} + 3\\frac{{{\\partial ^3}G}}{{\\partial {T^2}\\partial {\\bf{s}}}}\\frac{{{\\partial ^2}{\\bf{s}}}}{{\\partial T\\partial w}} + 3\\frac{{{\\partial ^3}G}}{{\\partial T\\partial w\\partial {\\bf{s}}}}\\frac{{{\\partial ^2}{\\bf{s}}}}{{\\partial {T^2}}} + 6\\frac{{{\\partial ^3}G}}{{\\partial T\\partial {{\\bf{s}}^2}}}\\frac{{{\\partial ^2}{\\bf{s}}}}{{\\partial T\\partial w}}\\frac{{\\partial {\\bf{s}}}}{{\\partial T}} + 3\\frac{{{\\partial ^3}G}}{{\\partial T\\partial {{\\bf{s}}^2}}}\\frac{{{\\partial ^2}{\\bf{s}}}}{{\\partial {T^2}}}\\frac{{\\partial {\\bf{s}}}}{{\\partial w}} + 3\\frac{{{\\partial ^3}G}}{{\\partial w\\partial {{\\bf{s}}^2}}}\\frac{{{\\partial ^2}{\\bf{s}}}}{{\\partial {T^2}}}\\frac{{\\partial {\\bf{s}}}}{{\\partial T}} + 3\\frac{{{\\partial ^3}G}}{{\\partial {{\\bf{s}}^3}}}\\frac{{{\\partial ^2}{\\bf{s}}}}{{\\partial {T^2}}}\\frac{{\\partial {\\bf{s}}}}{{\\partial T}}\\frac{{\\partial {\\bf{s}}}}{{\\partial w}} + 3\\frac{{{\\partial ^3}G}}{{\\partial {{\\bf{s}}^3}}}\\frac{{{\\partial ^2}{\\bf{s}}}}{{\\partial T\\partial w}}\\frac{{\\partial {\\bf{s}}}}{{\\partial T}}\\frac{{\\partial {\\bf{s}}}}{{\\partial T}} + 3\\frac{{{\\partial ^2}G}}{{\\partial T\\partial {\\bf{s}}}}\\frac{{{\\partial ^3}{\\bf{s}}}}{{\\partial {T^2}\\partial w}} + \\frac{{{\\partial ^2}G}}{{\\partial w\\partial {\\bf{s}}}}\\frac{{{\\partial ^3}{\\bf{s}}}}{{\\partial {T^3}}} + 3\\frac{{{\\partial ^2}G}}{{\\partial {{\\bf{s}}^2}}}\\frac{{{\\partial ^2}{\\bf{s}}}}{{\\partial {T^2}}}\\frac{{{\\partial ^2}{\\bf{s}}}}{{\\partial T\\partial w}}$  \n",
    "\n",
    "$\\frac{{{\\partial ^4}G}}{{\\partial {T^2}\\partial P\\partial w}} = {\\left. {\\frac{{{\\partial ^3}G}}{{\\partial {T^2}\\partial P\\partial w}}} \\right|_{{s_i}}} + 2\\frac{{{\\partial ^4}G}}{{\\partial T\\partial P\\partial w\\partial {\\bf{s}}}}\\frac{{\\partial {\\bf{s}}}}{{\\partial T}} + \\frac{{{\\partial ^4}G}}{{\\partial {T^2}\\partial w\\partial {\\bf{s}}}}\\frac{{\\partial {\\bf{s}}}}{{\\partial P}} + \\frac{{{\\partial ^4}G}}{{\\partial {T^2}\\partial P\\partial {\\bf{s}}}}\\frac{{\\partial {\\bf{s}}}}{{\\partial w}} + \\frac{{{\\partial ^4}G}}{{\\partial {T^2}\\partial {{\\bf{s}}^2}}}\\frac{{\\partial {\\bf{s}}}}{{\\partial P}}\\frac{{\\partial {\\bf{s}}}}{{\\partial w}} + 2\\frac{{{\\partial ^4}G}}{{\\partial T\\partial P\\partial {{\\bf{s}}^2}}}\\frac{{\\partial {\\bf{s}}}}{{\\partial T}}\\frac{{\\partial {\\bf{s}}}}{{\\partial w}} + 2\\frac{{{\\partial ^4}G}}{{\\partial T\\partial w\\partial {{\\bf{s}}^2}}}\\frac{{\\partial {\\bf{s}}}}{{\\partial T}}\\frac{{\\partial {\\bf{s}}}}{{\\partial P}} + \\frac{{{\\partial ^4}G}}{{\\partial P\\partial w\\partial {{\\bf{s}}^2}}}\\frac{{\\partial {\\bf{s}}}}{{\\partial T}}\\frac{{\\partial {\\bf{s}}}}{{\\partial T}} + 2\\frac{{{\\partial ^4}G}}{{\\partial T\\partial {{\\bf{s}}^3}}}\\frac{{\\partial {\\bf{s}}}}{{\\partial T}}\\frac{{\\partial {\\bf{s}}}}{{\\partial P}}\\frac{{\\partial {\\bf{s}}}}{{\\partial w}} + \\frac{{{\\partial ^4}G}}{{\\partial P\\partial {{\\bf{s}}^3}}}\\frac{{\\partial {\\bf{s}}}}{{\\partial T}}\\frac{{\\partial {\\bf{s}}}}{{\\partial T}}\\frac{{\\partial {\\bf{s}}}}{{\\partial w}} + \\frac{{{\\partial ^4}G}}{{\\partial w\\partial {{\\bf{s}}^3}}}\\frac{{\\partial {\\bf{s}}}}{{\\partial T}}\\frac{{\\partial {\\bf{s}}}}{{\\partial T}}\\frac{{\\partial {\\bf{s}}}}{{\\partial P}} + \\frac{{{\\partial ^4}G}}{{\\partial {{\\bf{s}}^4}}}\\frac{{\\partial {\\bf{s}}}}{{\\partial T}}\\frac{{\\partial {\\bf{s}}}}{{\\partial T}}\\frac{{\\partial {\\bf{s}}}}{{\\partial P}}\\frac{{\\partial {\\bf{s}}}}{{\\partial w}} + \\frac{{{\\partial ^3}G}}{{\\partial {T^2}\\partial {\\bf{s}}}}\\frac{{{\\partial ^2}{\\bf{s}}}}{{\\partial P\\partial w}} + 2\\frac{{{\\partial ^3}G}}{{\\partial T\\partial P\\partial {\\bf{s}}}}\\frac{{{\\partial ^2}{\\bf{s}}}}{{\\partial T\\partial w}} + 2\\frac{{{\\partial ^3}G}}{{\\partial T\\partial w\\partial {\\bf{s}}}}\\frac{{{\\partial ^2}{\\bf{s}}}}{{\\partial T\\partial P}} + \\frac{{{\\partial ^3}G}}{{\\partial P\\partial w\\partial {\\bf{s}}}}\\frac{{{\\partial ^2}{\\bf{s}}}}{{\\partial {T^2}}} + 2\\frac{{{\\partial ^3}G}}{{\\partial T\\partial {{\\bf{s}}^2}}}\\frac{{{\\partial ^2}{\\bf{s}}}}{{\\partial T\\partial w}}\\frac{{\\partial {\\bf{s}}}}{{\\partial P}} + 2\\frac{{{\\partial ^3}G}}{{\\partial T\\partial {{\\bf{s}}^2}}}\\frac{{{\\partial ^2}{\\bf{s}}}}{{\\partial P\\partial w}}\\frac{{\\partial {\\bf{s}}}}{{\\partial T}} + 2\\frac{{{\\partial ^3}G}}{{\\partial T\\partial {{\\bf{s}}^2}}}\\frac{{{\\partial ^2}{\\bf{s}}}}{{\\partial T\\partial P}}\\frac{{\\partial {\\bf{s}}}}{{\\partial w}} + 2\\frac{{{\\partial ^3}G}}{{\\partial P\\partial {{\\bf{s}}^2}}}\\frac{{{\\partial ^2}{\\bf{s}}}}{{\\partial T\\partial w}}\\frac{{\\partial {\\bf{s}}}}{{\\partial T}} + \\frac{{{\\partial ^3}G}}{{\\partial P\\partial {{\\bf{s}}^2}}}\\frac{{{\\partial ^2}{\\bf{s}}}}{{\\partial {T^2}}}\\frac{{\\partial {\\bf{s}}}}{{\\partial w}} + \\frac{{{\\partial ^3}G}}{{\\partial w\\partial {{\\bf{s}}^2}}}\\frac{{{\\partial ^2}{\\bf{s}}}}{{\\partial {T^2}}}\\frac{{\\partial {\\bf{s}}}}{{\\partial P}} + 2\\frac{{{\\partial ^3}G}}{{\\partial w\\partial {{\\bf{s}}^2}}}\\frac{{{\\partial ^2}{\\bf{s}}}}{{\\partial T\\partial P}}\\frac{{\\partial {\\bf{s}}}}{{\\partial T}} + \\frac{{{\\partial ^3}G}}{{\\partial {{\\bf{s}}^3}}}\\frac{{{\\partial ^2}{\\bf{s}}}}{{\\partial {T^2}}}\\frac{{\\partial {\\bf{s}}}}{{\\partial P}}\\frac{{\\partial {\\bf{s}}}}{{\\partial w}} + 2\\frac{{{\\partial ^3}G}}{{\\partial {{\\bf{s}}^3}}}\\frac{{{\\partial ^2}{\\bf{s}}}}{{\\partial T\\partial P}}\\frac{{\\partial {\\bf{s}}}}{{\\partial T}}\\frac{{\\partial {\\bf{s}}}}{{\\partial w}} + \\frac{{{\\partial ^3}G}}{{\\partial {{\\bf{s}}^3}}}\\frac{{{\\partial ^2}{\\bf{s}}}}{{\\partial T\\partial w}}\\frac{{\\partial {\\bf{s}}}}{{\\partial T}}\\frac{{\\partial {\\bf{s}}}}{{\\partial P}} + \\frac{{{\\partial ^3}G}}{{\\partial {{\\bf{s}}^3}}}\\frac{{{\\partial ^2}{\\bf{s}}}}{{\\partial T\\partial w}}\\frac{{\\partial {\\bf{s}}}}{{\\partial T}}\\frac{{\\partial {\\bf{s}}}}{{\\partial P}} + \\frac{{{\\partial ^3}G}}{{\\partial {{\\bf{s}}^3}}}\\frac{{{\\partial ^2}{\\bf{s}}}}{{\\partial P\\partial w}}\\frac{{\\partial {\\bf{s}}}}{{\\partial T}}\\frac{{\\partial {\\bf{s}}}}{{\\partial T}} + 2\\frac{{{\\partial ^2}G}}{{\\partial T\\partial {\\bf{s}}}}\\frac{{{\\partial ^3}{\\bf{s}}}}{{\\partial T\\partial P\\partial w}} + \\frac{{{\\partial ^2}G}}{{\\partial P\\partial {\\bf{s}}}}\\frac{{{\\partial ^3}{\\bf{s}}}}{{\\partial {T^2}\\partial w}} + \\frac{{{\\partial ^2}G}}{{\\partial w\\partial {\\bf{s}}}}\\frac{{{\\partial ^3}{\\bf{s}}}}{{\\partial {T^2}\\partial P}} + \\frac{{{\\partial ^2}G}}{{\\partial {{\\bf{s}}^2}}}\\frac{{{\\partial ^2}{\\bf{s}}}}{{\\partial {T^2}}}\\frac{{{\\partial ^2}{\\bf{s}}}}{{\\partial P\\partial w}} + \\frac{{{\\partial ^2}G}}{{\\partial {{\\bf{s}}^2}}}\\frac{{{\\partial ^2}{\\bf{s}}}}{{\\partial T\\partial P}}\\frac{{{\\partial ^2}{\\bf{s}}}}{{\\partial T\\partial w}} + \\frac{{{\\partial ^2}G}}{{\\partial {{\\bf{s}}^2}}}\\frac{{{\\partial ^2}{\\bf{s}}}}{{\\partial T\\partial w}}\\frac{{{\\partial ^2}{\\bf{s}}}}{{\\partial T\\partial P}}$  \n",
    "\n",
    "$\\frac{{{\\partial ^4}G}}{{\\partial {P^2}\\partial T\\partial w}} = {\\left. {\\frac{{{\\partial ^3}G}}{{\\partial {P^2}\\partial T\\partial w}}} \\right|_{{s_i}}} + 2\\frac{{{\\partial ^4}G}}{{\\partial P\\partial T\\partial w\\partial {\\bf{s}}}}\\frac{{\\partial {\\bf{s}}}}{{\\partial P}} + \\frac{{{\\partial ^4}G}}{{\\partial {P^2}\\partial w\\partial {\\bf{s}}}}\\frac{{\\partial {\\bf{s}}}}{{\\partial T}} + \\frac{{{\\partial ^4}G}}{{\\partial {P^2}\\partial T\\partial {\\bf{s}}}}\\frac{{\\partial {\\bf{s}}}}{{\\partial w}} + \\frac{{{\\partial ^4}G}}{{\\partial {P^2}\\partial {{\\bf{s}}^2}}}\\frac{{\\partial {\\bf{s}}}}{{\\partial T}}\\frac{{\\partial {\\bf{s}}}}{{\\partial w}} + 2\\frac{{{\\partial ^4}G}}{{\\partial P\\partial T\\partial {{\\bf{s}}^2}}}\\frac{{\\partial {\\bf{s}}}}{{\\partial P}}\\frac{{\\partial {\\bf{s}}}}{{\\partial w}} + 2\\frac{{{\\partial ^4}G}}{{\\partial P\\partial w\\partial {{\\bf{s}}^2}}}\\frac{{\\partial {\\bf{s}}}}{{\\partial P}}\\frac{{\\partial {\\bf{s}}}}{{\\partial T}} + \\frac{{{\\partial ^4}G}}{{\\partial T\\partial w\\partial {{\\bf{s}}^2}}}\\frac{{\\partial {\\bf{s}}}}{{\\partial P}}\\frac{{\\partial {\\bf{s}}}}{{\\partial P}} + 2\\frac{{{\\partial ^4}G}}{{\\partial P\\partial {{\\bf{s}}^3}}}\\frac{{\\partial {\\bf{s}}}}{{\\partial P}}\\frac{{\\partial {\\bf{s}}}}{{\\partial T}}\\frac{{\\partial {\\bf{s}}}}{{\\partial w}} + \\frac{{{\\partial ^4}G}}{{\\partial T\\partial {{\\bf{s}}^3}}}\\frac{{\\partial {\\bf{s}}}}{{\\partial P}}\\frac{{\\partial {\\bf{s}}}}{{\\partial P}}\\frac{{\\partial {\\bf{s}}}}{{\\partial w}} + \\frac{{{\\partial ^4}G}}{{\\partial w\\partial {{\\bf{s}}^3}}}\\frac{{\\partial {\\bf{s}}}}{{\\partial P}}\\frac{{\\partial {\\bf{s}}}}{{\\partial P}}\\frac{{\\partial {\\bf{s}}}}{{\\partial T}} + \\frac{{{\\partial ^4}G}}{{\\partial {{\\bf{s}}^4}}}\\frac{{\\partial {\\bf{s}}}}{{\\partial P}}\\frac{{\\partial {\\bf{s}}}}{{\\partial P}}\\frac{{\\partial {\\bf{s}}}}{{\\partial T}}\\frac{{\\partial {\\bf{s}}}}{{\\partial w}} + \\frac{{{\\partial ^3}G}}{{\\partial {P^2}\\partial {\\bf{s}}}}\\frac{{{\\partial ^2}{\\bf{s}}}}{{\\partial T\\partial w}} + 2\\frac{{{\\partial ^3}G}}{{\\partial P\\partial T\\partial {\\bf{s}}}}\\frac{{{\\partial ^2}{\\bf{s}}}}{{\\partial P\\partial w}} + 2\\frac{{{\\partial ^3}G}}{{\\partial P\\partial w\\partial {\\bf{s}}}}\\frac{{{\\partial ^2}{\\bf{s}}}}{{\\partial P\\partial T}} + \\frac{{{\\partial ^3}G}}{{\\partial T\\partial w\\partial {\\bf{s}}}}\\frac{{{\\partial ^2}{\\bf{s}}}}{{\\partial {P^2}}} + 2\\frac{{{\\partial ^3}G}}{{\\partial P\\partial {{\\bf{s}}^2}}}\\frac{{{\\partial ^2}{\\bf{s}}}}{{\\partial P\\partial w}}\\frac{{\\partial {\\bf{s}}}}{{\\partial T}} + 2\\frac{{{\\partial ^3}G}}{{\\partial P\\partial {{\\bf{s}}^2}}}\\frac{{{\\partial ^2}{\\bf{s}}}}{{\\partial T\\partial w}}\\frac{{\\partial {\\bf{s}}}}{{\\partial P}} + 2\\frac{{{\\partial ^3}G}}{{\\partial P\\partial {{\\bf{s}}^2}}}\\frac{{{\\partial ^2}{\\bf{s}}}}{{\\partial P\\partial T}}\\frac{{\\partial {\\bf{s}}}}{{\\partial w}} + 2\\frac{{{\\partial ^3}G}}{{\\partial T\\partial {{\\bf{s}}^2}}}\\frac{{{\\partial ^2}{\\bf{s}}}}{{\\partial P\\partial w}}\\frac{{\\partial {\\bf{s}}}}{{\\partial P}} + \\frac{{{\\partial ^3}G}}{{\\partial T\\partial {{\\bf{s}}^2}}}\\frac{{{\\partial ^2}{\\bf{s}}}}{{\\partial {P^2}}}\\frac{{\\partial {\\bf{s}}}}{{\\partial w}} + \\frac{{{\\partial ^3}G}}{{\\partial w\\partial {{\\bf{s}}^2}}}\\frac{{{\\partial ^2}{\\bf{s}}}}{{\\partial {P^2}}}\\frac{{\\partial {\\bf{s}}}}{{\\partial T}} + 2\\frac{{{\\partial ^3}G}}{{\\partial w\\partial {{\\bf{s}}^2}}}\\frac{{{\\partial ^2}{\\bf{s}}}}{{\\partial P\\partial T}}\\frac{{\\partial {\\bf{s}}}}{{\\partial P}} + \\frac{{{\\partial ^3}G}}{{\\partial {{\\bf{s}}^3}}}\\frac{{{\\partial ^2}{\\bf{s}}}}{{\\partial {P^2}}}\\frac{{\\partial {\\bf{s}}}}{{\\partial T}}\\frac{{\\partial {\\bf{s}}}}{{\\partial w}} + 2\\frac{{{\\partial ^3}G}}{{\\partial {{\\bf{s}}^3}}}\\frac{{{\\partial ^2}{\\bf{s}}}}{{\\partial P\\partial T}}\\frac{{\\partial {\\bf{s}}}}{{\\partial P}}\\frac{{\\partial {\\bf{s}}}}{{\\partial w}} + \\frac{{{\\partial ^3}G}}{{\\partial {{\\bf{s}}^3}}}\\frac{{{\\partial ^2}{\\bf{s}}}}{{\\partial P\\partial w}}\\frac{{\\partial {\\bf{s}}}}{{\\partial P}}\\frac{{\\partial {\\bf{s}}}}{{\\partial T}} + \\frac{{{\\partial ^3}G}}{{\\partial {{\\bf{s}}^3}}}\\frac{{{\\partial ^2}{\\bf{s}}}}{{\\partial P\\partial w}}\\frac{{\\partial {\\bf{s}}}}{{\\partial P}}\\frac{{\\partial {\\bf{s}}}}{{\\partial T}} + \\frac{{{\\partial ^3}G}}{{\\partial {{\\bf{s}}^3}}}\\frac{{{\\partial ^2}{\\bf{s}}}}{{\\partial T\\partial w}}\\frac{{\\partial {\\bf{s}}}}{{\\partial P}}\\frac{{\\partial {\\bf{s}}}}{{\\partial P}} + 2\\frac{{{\\partial ^2}G}}{{\\partial P\\partial {\\bf{s}}}}\\frac{{{\\partial ^3}{\\bf{s}}}}{{\\partial P\\partial T\\partial w}} + \\frac{{{\\partial ^2}G}}{{\\partial T\\partial {\\bf{s}}}}\\frac{{{\\partial ^3}{\\bf{s}}}}{{\\partial {P^2}\\partial w}} + \\frac{{{\\partial ^2}G}}{{\\partial w\\partial {\\bf{s}}}}\\frac{{{\\partial ^3}{\\bf{s}}}}{{\\partial {P^2}\\partial T}} + \\frac{{{\\partial ^2}G}}{{\\partial {{\\bf{s}}^2}}}\\frac{{{\\partial ^2}{\\bf{s}}}}{{\\partial {P^2}}}\\frac{{{\\partial ^2}{\\bf{s}}}}{{\\partial T\\partial w}} + \\frac{{{\\partial ^2}G}}{{\\partial {{\\bf{s}}^2}}}\\frac{{{\\partial ^2}{\\bf{s}}}}{{\\partial P\\partial T}}\\frac{{{\\partial ^2}{\\bf{s}}}}{{\\partial P\\partial w}} + \\frac{{{\\partial ^2}G}}{{\\partial {{\\bf{s}}^2}}}\\frac{{{\\partial ^2}{\\bf{s}}}}{{\\partial P\\partial w}}\\frac{{{\\partial ^2}{\\bf{s}}}}{{\\partial P\\partial T}}$  \n",
    "  \n",
    "$\\frac{{{\\partial ^4}G}}{{\\partial {P^3}\\partial w}} = {\\left. {\\frac{{{\\partial ^3}G}}{{\\partial {P^3}\\partial w}}} \\right|_{{s_i}}} + 3\\frac{{{\\partial ^4}G}}{{\\partial {P^2}\\partial w\\partial {\\bf{s}}}}\\frac{{\\partial {\\bf{s}}}}{{\\partial P}} + \\frac{{{\\partial ^4}G}}{{\\partial {P^3}\\partial {\\bf{s}}}}\\frac{{\\partial {\\bf{s}}}}{{\\partial w}} + 3\\frac{{{\\partial ^4}G}}{{\\partial {P^2}\\partial {{\\bf{s}}^2}}}\\frac{{\\partial {\\bf{s}}}}{{\\partial P}}\\frac{{\\partial {\\bf{s}}}}{{\\partial w}} + 3\\frac{{{\\partial ^4}G}}{{\\partial P\\partial w\\partial {{\\bf{s}}^2}}}\\frac{{\\partial {\\bf{s}}}}{{\\partial P}}\\frac{{\\partial {\\bf{s}}}}{{\\partial P}} + 3\\frac{{{\\partial ^4}G}}{{\\partial P\\partial {{\\bf{s}}^3}}}\\frac{{\\partial {\\bf{s}}}}{{\\partial P}}\\frac{{\\partial {\\bf{s}}}}{{\\partial P}}\\frac{{\\partial {\\bf{s}}}}{{\\partial w}} + \\frac{{{\\partial ^4}G}}{{\\partial w\\partial {{\\bf{s}}^3}}}\\frac{{\\partial {\\bf{s}}}}{{\\partial P}}\\frac{{\\partial {\\bf{s}}}}{{\\partial P}}\\frac{{\\partial {\\bf{s}}}}{{\\partial P}} + \\frac{{{\\partial ^4}G}}{{\\partial {{\\bf{s}}^4}}}\\frac{{\\partial {\\bf{s}}}}{{\\partial P}}\\frac{{\\partial {\\bf{s}}}}{{\\partial P}}\\frac{{\\partial {\\bf{s}}}}{{\\partial P}}\\frac{{\\partial {\\bf{s}}}}{{\\partial w}} + 3\\frac{{{\\partial ^3}G}}{{\\partial {P^2}\\partial {\\bf{s}}}}\\frac{{{\\partial ^2}{\\bf{s}}}}{{\\partial P\\partial w}} + 3\\frac{{{\\partial ^3}G}}{{\\partial P\\partial w\\partial {\\bf{s}}}}\\frac{{{\\partial ^2}{\\bf{s}}}}{{\\partial {P^2}}} + 6\\frac{{{\\partial ^3}G}}{{\\partial P\\partial {{\\bf{s}}^2}}}\\frac{{{\\partial ^2}{\\bf{s}}}}{{\\partial P\\partial w}}\\frac{{\\partial {\\bf{s}}}}{{\\partial P}} + 3\\frac{{{\\partial ^3}G}}{{\\partial P\\partial {{\\bf{s}}^2}}}\\frac{{{\\partial ^2}{\\bf{s}}}}{{\\partial {P^2}}}\\frac{{\\partial {\\bf{s}}}}{{\\partial w}} + 3\\frac{{{\\partial ^3}G}}{{\\partial w\\partial {{\\bf{s}}^2}}}\\frac{{{\\partial ^2}{\\bf{s}}}}{{\\partial {P^2}}}\\frac{{\\partial {\\bf{s}}}}{{\\partial P}} + 3\\frac{{{\\partial ^3}G}}{{\\partial {{\\bf{s}}^3}}}\\frac{{{\\partial ^2}{\\bf{s}}}}{{\\partial {P^2}}}\\frac{{\\partial {\\bf{s}}}}{{\\partial P}}\\frac{{\\partial {\\bf{s}}}}{{\\partial w}} + 3\\frac{{{\\partial ^3}G}}{{\\partial {{\\bf{s}}^3}}}\\frac{{{\\partial ^2}{\\bf{s}}}}{{\\partial P\\partial w}}\\frac{{\\partial {\\bf{s}}}}{{\\partial P}}\\frac{{\\partial {\\bf{s}}}}{{\\partial P}} + 3\\frac{{{\\partial ^2}G}}{{\\partial P\\partial {\\bf{s}}}}\\frac{{{\\partial ^3}{\\bf{s}}}}{{\\partial {P^2}\\partial w}} + \\frac{{{\\partial ^2}G}}{{\\partial w\\partial {\\bf{s}}}}\\frac{{{\\partial ^3}{\\bf{s}}}}{{\\partial {P^3}}} + 3\\frac{{{\\partial ^2}G}}{{\\partial {{\\bf{s}}^2}}}\\frac{{{\\partial ^2}{\\bf{s}}}}{{\\partial {P^2}}}\\frac{{{\\partial ^2}{\\bf{s}}}}{{\\partial P\\partial w}}$"
   ]
  },
  {
   "cell_type": "code",
   "execution_count": null,
   "metadata": {},
   "outputs": [],
   "source": []
  }
 ],
 "metadata": {
  "kernelspec": {
   "display_name": "Python 3",
   "language": "python",
   "name": "python3"
  },
  "language_info": {
   "codemirror_mode": {
    "name": "ipython",
    "version": 3
   },
   "file_extension": ".py",
   "mimetype": "text/x-python",
   "name": "python",
   "nbconvert_exporter": "python",
   "pygments_lexer": "ipython3",
   "version": "3.7.0"
  }
 },
 "nbformat": 4,
 "nbformat_minor": 2
}
