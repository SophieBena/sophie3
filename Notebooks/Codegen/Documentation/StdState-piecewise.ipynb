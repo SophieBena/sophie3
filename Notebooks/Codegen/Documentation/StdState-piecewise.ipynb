{
 "cells": [
  {
   "cell_type": "markdown",
   "metadata": {
    "slideshow": {
     "slide_type": "slide"
    }
   },
   "source": [
    "# Standard States and Piecewise functions"
   ]
  },
  {
   "cell_type": "code",
   "execution_count": null,
   "metadata": {
    "slideshow": {
     "slide_type": "fragment"
    }
   },
   "outputs": [],
   "source": [
    "import sympy as sym\n",
    "import matplotlib.pyplot as plt\n",
    "import numpy as np\n",
    "from thermoengine import phases, model\n",
    "%matplotlib inline\n",
    "sym.init_printing()\n",
    "import warnings\n",
    "warnings.filterwarnings('ignore')"
   ]
  },
  {
   "cell_type": "markdown",
   "metadata": {},
   "source": [
    "## Get the Berman (1988) heat capacity model for Quartz ... "
   ]
  },
  {
   "cell_type": "code",
   "execution_count": null,
   "metadata": {
    "slideshow": {
     "slide_type": "fragment"
    }
   },
   "outputs": [],
   "source": [
    "modelDB = model.Database()\n",
    "Quartz = modelDB.get_phase('Qz')"
   ]
  },
  {
   "cell_type": "markdown",
   "metadata": {},
   "source": [
    "## ... and plot the function"
   ]
  },
  {
   "cell_type": "code",
   "execution_count": null,
   "metadata": {
    "slideshow": {
     "slide_type": "fragment"
    }
   },
   "outputs": [],
   "source": [
    "T_array = np.linspace(250.0, 1200.0, 100, endpoint=True)\n",
    "Cp_array = Quartz.heat_capacity(T_array, 1000.0)\n",
    "plt.plot(T_array, Cp_array)\n",
    "plt.ylabel('Cp J/K-m')\n",
    "plt.xlabel('T K')\n",
    "plt.show()"
   ]
  },
  {
   "cell_type": "markdown",
   "metadata": {},
   "source": [
    "## The Berman (1988) $C_P$ model is formulated in terms of:\n",
    "- A lattice function applicable over the whole of $T$, $P$ space:"
   ]
  },
  {
   "cell_type": "code",
   "execution_count": null,
   "metadata": {},
   "outputs": [],
   "source": [
    "T,P,Tr,Pr,k0,k1,k2,k3 = sym.symbols('T P T_r P_r k0 k1 k2 k3')\n",
    "CpPr = k0+k1/sym.sqrt(T)+k2/T**2+k3/T**3\n",
    "CpPr"
   ]
  },
  {
   "cell_type": "markdown",
   "metadata": {},
   "source": [
    "- and a \"lambda\" transition function applicable over a region of $T$, $P$ space:"
   ]
  },
  {
   "cell_type": "code",
   "execution_count": null,
   "metadata": {},
   "outputs": [],
   "source": [
    "l1,l2 = sym.symbols('l1 l2')\n",
    "TlPr, Tlref = sym.symbols('T_lambda_Pr T_lambda_ref')\n",
    "Cpl = sym.Piecewise((0,T<Tlref),(0,T>TlPr),(T*(l1+l2*T)**2,True))\n",
    "Cpl"
   ]
  },
  {
   "cell_type": "markdown",
   "metadata": {},
   "source": [
    "## Plot $C_P$, $H$, and $S$ from the lattice contribution\n",
    "- ${H_T} = {H_{{T_r}}} + \\int\\limits_{{T_r}}^T {{C_P}dT}$\n",
    "- ${S_T} = {S_{{T_r}}} + \\int\\limits_{{T_r}}^T {\\frac{{{C_P}}}{T}dT}$"
   ]
  },
  {
   "cell_type": "code",
   "execution_count": null,
   "metadata": {},
   "outputs": [],
   "source": [
    "H = sym.integrate(CpPr,(T,Tr,T))\n",
    "S = sym.integrate(CpPr/T,(T,Tr,T))"
   ]
  },
  {
   "cell_type": "code",
   "execution_count": null,
   "metadata": {},
   "outputs": [],
   "source": [
    "Cp_lattice = np.empty(T_array.size)\n",
    "H_lattice = np.empty(T_array.size)\n",
    "S_lattice = np.empty(T_array.size)\n",
    "G_lattice = np.empty(T_array.size)\n",
    "for ind,t in enumerate(T_array):\n",
    "    Cp_lattice[ind] = CpPr.subs([(T,t),(k0,80.01),(k1,-2.403E2),(k2,-35.467E5),(k3,49.157E7)])\n",
    "    H_lattice[ind] = H.subs([(T,t),(Tr,298.15),(k0,80.01),(k1,-2.403E2),(k2,-35.467E5),(k3,49.157E7)])\n",
    "    S_lattice[ind] = S.subs([(T,t),(Tr,298.15),(k0,80.01),(k1,-2.403E2),(k2,-35.467E5),(k3,49.157E7)])\n",
    "    G_lattice[ind] = H_lattice[ind] - t*S_lattice[ind]\n",
    "plt.figure(figsize=(16,8))\n",
    "plt.subplot(141)\n",
    "plt.plot(T_array, Cp_lattice)\n",
    "plt.ylabel('Cp J/K-m')\n",
    "plt.xlabel('T K')\n",
    "plt.subplot(142)\n",
    "plt.plot(T_array, S_lattice)\n",
    "plt.ylabel('S J/K-m')\n",
    "plt.xlabel('T K')\n",
    "plt.subplot(143)\n",
    "plt.plot(T_array, H_lattice)\n",
    "plt.ylabel('H J/m')\n",
    "plt.xlabel('T K')\n",
    "plt.subplot(144)\n",
    "plt.plot(T_array, G_lattice)\n",
    "plt.ylabel('G J/m')\n",
    "plt.xlabel('T K')\n",
    "plt.show()"
   ]
  },
  {
   "cell_type": "markdown",
   "metadata": {},
   "source": [
    "## Plot $C_P$, $H$, and $S$ from the \"lambda\" contribution"
   ]
  },
  {
   "cell_type": "code",
   "execution_count": null,
   "metadata": {},
   "outputs": [],
   "source": [
    "Hl = sym.integrate(Cpl,(T,Tr,T))\n",
    "Sl = sym.integrate(Cpl/T,(T,Tr,T))"
   ]
  },
  {
   "cell_type": "code",
   "execution_count": null,
   "metadata": {},
   "outputs": [],
   "source": [
    "Cp_lambda = np.empty(T_array.size)\n",
    "S_lambda = np.empty(Cp_array.size)\n",
    "H_lambda = np.empty(Cp_array.size)\n",
    "G_lambda = np.empty(Cp_array.size)\n",
    "for ind,t in enumerate(T_array):\n",
    "    Cp_lambda[ind] = Cpl.subs([(T,t),(Tr,298.15),(l1,-9.187E-2),(l2,24.607E-5),(Tlref,373.0),(TlPr,848.0)])\n",
    "    S_lambda[ind] = Sl.subs([(T,t),(Tr,298.15),(l1,-9.187E-2),(l2,24.607E-5),(Tlref,373.0),(TlPr,848.0)])\n",
    "    H_lambda[ind] = Hl.subs([(T,t),(Tr,298.15),(l1,-9.187E-2),(l2,24.607E-5),(Tlref,373.0),(TlPr,848.0)])\n",
    "    G_lambda[ind] = H_lambda[ind] - t*S_lambda[ind]\n",
    "plt.figure(figsize=(16,8))\n",
    "plt.subplot(141)\n",
    "plt.plot(T_array, Cp_lambda)\n",
    "plt.ylabel('Cp J/K-m')\n",
    "plt.xlabel('T K')\n",
    "plt.subplot(142)\n",
    "plt.plot(T_array, S_lambda)\n",
    "plt.ylabel('S J/K-m')\n",
    "plt.xlabel('T K')\n",
    "plt.subplot(143)\n",
    "plt.plot(T_array, H_lambda)\n",
    "plt.ylabel('H J/m')\n",
    "plt.xlabel('T K')\n",
    "plt.subplot(144)\n",
    "plt.plot(T_array, G_lambda)\n",
    "plt.ylabel('G J/m')\n",
    "plt.xlabel('T K')\n",
    "plt.show()"
   ]
  },
  {
   "cell_type": "markdown",
   "metadata": {},
   "source": [
    "## Plot the combined lattice and \"lambda\" functions"
   ]
  },
  {
   "cell_type": "code",
   "execution_count": null,
   "metadata": {},
   "outputs": [],
   "source": [
    "plt.figure(figsize=(16,8))\n",
    "plt.subplot(141)\n",
    "plt.plot(T_array, Cp_lattice+Cp_lambda)\n",
    "plt.plot(T_array, Cp_lattice)\n",
    "plt.ylabel('Cp J/K-m')\n",
    "plt.xlabel('T K')\n",
    "plt.subplot(142)\n",
    "plt.plot(T_array, S_lattice+S_lambda)\n",
    "plt.plot(T_array, S_lattice)\n",
    "plt.ylabel('S J/K-m')\n",
    "plt.xlabel('T K')\n",
    "plt.subplot(143)\n",
    "plt.plot(T_array, H_lattice+H_lambda)\n",
    "plt.plot(T_array, H_lattice)\n",
    "plt.ylabel('H J/m')\n",
    "plt.xlabel('T K')\n",
    "plt.subplot(144)\n",
    "plt.plot(T_array, G_lattice+G_lambda)\n",
    "plt.plot(T_array, G_lattice)\n",
    "plt.ylabel('G J/m')\n",
    "plt.xlabel('T K')\n",
    "plt.show()"
   ]
  },
  {
   "cell_type": "markdown",
   "metadata": {},
   "source": [
    "## What does a piecewise function look printed?"
   ]
  },
  {
   "cell_type": "code",
   "execution_count": null,
   "metadata": {},
   "outputs": [],
   "source": [
    "from sympy.printing.ccode import C99CodePrinter\n",
    "printer = C99CodePrinter()\n",
    "print(printer.doprint(Hl-T*Sl))"
   ]
  },
  {
   "cell_type": "code",
   "execution_count": null,
   "metadata": {},
   "outputs": [],
   "source": []
  }
 ],
 "metadata": {
  "kernelspec": {
   "display_name": "Python 3",
   "language": "python",
   "name": "python3"
  },
  "language_info": {
   "codemirror_mode": {
    "name": "ipython",
    "version": 3
   },
   "file_extension": ".py",
   "mimetype": "text/x-python",
   "name": "python",
   "nbconvert_exporter": "python",
   "pygments_lexer": "ipython3",
   "version": "3.7.6"
  }
 },
 "nbformat": 4,
 "nbformat_minor": 4
}
