{
 "cells": [
  {
   "cell_type": "markdown",
   "metadata": {},
   "source": [
    "# Debye-Hückel Parameters"
   ]
  },
  {
   "cell_type": "code",
   "execution_count": null,
   "metadata": {},
   "outputs": [],
   "source": [
    "import sympy as sym\n",
    "sym.init_printing()"
   ]
  },
  {
   "cell_type": "code",
   "execution_count": null,
   "metadata": {},
   "outputs": [],
   "source": [
    "T,P = sym.symbols('T P')\n",
    "e = sym.Function('epsilon')(T,P)\n",
    "rho = sym.Function('rho')(T,P)\n",
    "f = sym.ln(e)"
   ]
  },
  {
   "cell_type": "markdown",
   "metadata": {},
   "source": [
    "### Born function and its $T$ and $P$ derivatives"
   ]
  },
  {
   "cell_type": "markdown",
   "metadata": {},
   "source": [
    "Define the Born function: $B = - \\frac{1}{\\varepsilon }$  \n",
    "Define: $Q = \\frac{1}{\\varepsilon }{\\left( {\\frac{{\\partial \\ln \\varepsilon }}{{\\partial P}}} \\right)_T}$  and show that $Q = \\frac{{\\partial B}}{{\\partial P}}$  \n",
    "Define: $Y = \\frac{1}{\\varepsilon }{\\left( {\\frac{{\\partial \\ln \\varepsilon }}{{\\partial T}}} \\right)_P}$ and show that $Y = \\frac{{\\partial B}}{{\\partial T}}$  \n",
    "Define: $X = \\frac{1}{\\varepsilon }\\left[ {{{\\left( {\\frac{{{\\partial ^2}\\ln \\varepsilon }}{{\\partial {T^2}}}} \\right)}_P} - \\left( {\\frac{{\\partial \\ln \\varepsilon }}{{\\partial T}}} \\right)_P^2} \\right]$ and show that $X = \\frac{{{\\partial ^2}B}}{{\\partial {T^2}}}$  \n",
    "Define: $N = \\frac{1}{\\varepsilon }\\left[ {{{\\left( {\\frac{{{\\partial ^2}\\ln \\varepsilon }}{{\\partial {P^2}}}} \\right)}_T} - \\left( {\\frac{{\\partial \\ln \\varepsilon }}{{\\partial P}}} \\right)_T^2} \\right]$ and show that $N = \\frac{{{\\partial ^2}B}}{{\\partial {P^2}}}$  \n",
    "Define: $U = \\frac{1}{\\varepsilon }\\left[ {\\left( {\\frac{{{\\partial ^2}\\ln \\varepsilon }}{{\\partial T\\partial P}}} \\right) - {{\\left( {\\frac{{\\partial \\ln \\varepsilon }}{{\\partial T}}} \\right)}_P}{{\\left( {\\frac{{\\partial \\ln \\varepsilon }}{{\\partial P}}} \\right)}_T}} \\right]$   and show that $U = \\frac{{{\\partial ^2}B}}{{\\partial T\\partial P}}$"
   ]
  },
  {
   "cell_type": "code",
   "execution_count": null,
   "metadata": {},
   "outputs": [],
   "source": [
    "B = sym.Function('B')(T,P)\n",
    "Q = sym.Function('Q')(T,P)\n",
    "Y = sym.Function('Y')(T,P)\n",
    "X = sym.Function('X')(T,P)\n",
    "N = sym.Function('N')(T,P)\n",
    "U = sym.Function('U')(T,P)\n",
    "eq0=sym.Eq(B,-1/e)\n",
    "eqP=sym.Eq(Q,f.diff(P)/e)\n",
    "eqT=sym.Eq(Y,f.diff(T)/e)\n",
    "eqTT=sym.Eq(X,(f.diff(T,2)-(f.diff(T))**2)/e)\n",
    "eqPP=sym.Eq(N,(f.diff(P,2)-(f.diff(P))**2)/e)\n",
    "eqTP=sym.Eq(U,(f.diff(P,1,T,1)-(f.diff(P))*(f.diff(T)))/e)"
   ]
  },
  {
   "cell_type": "markdown",
   "metadata": {},
   "source": [
    "# Debye-Hückel Parameters"
   ]
  },
  {
   "cell_type": "code",
   "execution_count": null,
   "metadata": {},
   "outputs": [],
   "source": [
    "Acon = sym.symbols('A_con')\n",
    "Agamma = Acon*sym.sqrt(rho)/(e*T)**(sym.S(3)/sym.S(2))\n",
    "Agamma"
   ]
  },
  {
   "cell_type": "code",
   "execution_count": null,
   "metadata": {},
   "outputs": [],
   "source": [
    "Bcon = sym.symbols('B_con')\n",
    "Bgamma = Bcon*sym.sqrt(rho)/sym.sqrt(e*T)\n",
    "Bgamma"
   ]
  },
  {
   "cell_type": "code",
   "execution_count": null,
   "metadata": {},
   "outputs": [],
   "source": [
    "Ag = Agamma.subs(e, sym.solve(eq0, e)[0])\n",
    "Ag"
   ]
  },
  {
   "cell_type": "code",
   "execution_count": null,
   "metadata": {},
   "outputs": [],
   "source": [
    "Bg = Bgamma.subs(e, sym.solve(eq0, e)[0])\n",
    "Bg"
   ]
  },
  {
   "cell_type": "markdown",
   "metadata": {},
   "source": [
    "To be continued.  It is not clear that using the Born functions will help in programming the derivatives of the Debye-Hückel terms."
   ]
  },
  {
   "cell_type": "code",
   "execution_count": null,
   "metadata": {},
   "outputs": [],
   "source": []
  }
 ],
 "metadata": {
  "kernelspec": {
   "display_name": "Python [conda env:python36]",
   "language": "python",
   "name": "conda-env-python36-py"
  },
  "language_info": {
   "codemirror_mode": {
    "name": "ipython",
    "version": 3
   },
   "file_extension": ".py",
   "mimetype": "text/x-python",
   "name": "python",
   "nbconvert_exporter": "python",
   "pygments_lexer": "ipython3",
   "version": "3.6.5"
  }
 },
 "nbformat": 4,
 "nbformat_minor": 2
}
