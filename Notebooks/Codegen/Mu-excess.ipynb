{
 "cells": [
  {
   "cell_type": "markdown",
   "metadata": {},
   "source": [
    "# Excess chemical potential (Debye-Hückel theory)\n",
    "Total molality:  \n",
    "$m* = \\sum\\limits_i^{species} {{m_i}}  = \\Gamma \\frac{{\\sum\\limits_i^{species} {{X_i}} }}{{{X_w}}} = \\Gamma \\frac{{\\sum\\limits_i^{species} {{n_i}} }}{{{n_w}}}$  \n",
    "Correction for mole fraction to molality conversion (introduced by Helgeson):  \n",
    "${\\Gamma _G} =  - RT\\ln \\left( {1 + \\frac{{m*}}{\\Gamma }} \\right)$  \n",
    "True inoic strength (note sum over species):  \n",
    "$ \\bar I = \\frac{1}{2}\\sum\\limits_i^{species} {{m_i}z_i^2} $  \n",
    "Denominator of Debye-Hückel term:  \n",
    "$\\Lambda  = 1 + {a_0}{B_\\gamma }\\sqrt {\\bar I}$  \n",
    "Excess chemical potential for ions and neutral species:  \n",
    "$RT\\ln {\\gamma _i} = \\frac{{z_i^2{A_G}\\sqrt {\\bar I} }}{{2\\Lambda }} + {\\Gamma _G}$  \n",
    "Excess chemical potential for solvent (water):  \n",
    "$\\sigma  = 3\\frac{{\\Lambda  - \\frac{1}{\\Lambda } - 2\\ln \\left( \\Lambda  \\right)}}{{{{\\left( {\\Lambda  - 1} \\right)}^3}}}$  \n",
    "$RT\\ln {\\gamma _{{{\\rm{H}}_{\\rm{2}}}{\\rm{O}}}} =  - \\frac{{{A_G}{{\\left( {\\sqrt {\\bar I} } \\right)}^3}\\sigma }}{{3\\Gamma }} + {\\Gamma _G}$  \n",
    "### Total chemical potential\n",
    "Water:  \n",
    "$\\mu _{{{\\rm{H}}_{\\rm{2}}}{\\rm{O}}}^{} = {n_{{{\\rm{H}}_{\\rm{2}}}{\\rm{O}}}}RT\\ln {\\gamma _{{{\\rm{H}}_{\\rm{2}}}{\\rm{O}}}}$  \n",
    "ions and neutral species:  \n",
    "$\\mu _i^{} = {n_i}RT\\ln {m_i} + {n_i}RT\\ln {\\gamma _i}$"
   ]
  },
  {
   "cell_type": "code",
   "execution_count": null,
   "metadata": {},
   "outputs": [],
   "source": [
    "import sympy as sym\n",
    "from sympy.printing.ccode import C99CodePrinter\n",
    "sym.init_printing()"
   ]
  },
  {
   "cell_type": "code",
   "execution_count": null,
   "metadata": {},
   "outputs": [],
   "source": [
    "nb = 5\n",
    "ns = 10\n",
    "ne = nb + ns\n",
    "i, R,T,P, CapGamG = sym.symbols('i R T P Gamma_G')"
   ]
  },
  {
   "cell_type": "code",
   "execution_count": null,
   "metadata": {},
   "outputs": [],
   "source": [
    "b_list = []\n",
    "b_T = sym.S.Zero\n",
    "for j in range(0,nb):\n",
    "    entry = sym.symbols('b_'+str(j))\n",
    "    b_list.append(entry)\n",
    "    b_T += entry\n",
    "b = b_list\n",
    "b, b_T"
   ]
  },
  {
   "cell_type": "code",
   "execution_count": null,
   "metadata": {},
   "outputs": [],
   "source": [
    "class s(sym.Function):\n",
    "    nargs = nb+3"
   ]
  },
  {
   "cell_type": "code",
   "execution_count": null,
   "metadata": {},
   "outputs": [],
   "source": [
    "X = s(i, T, P, *b)/b_T\n",
    "nW = b[0]\n",
    "CapGam = sym.symbols('Gamma')\n",
    "Xw = nW/b_T\n",
    "m = X*CapGam/Xw\n",
    "m"
   ]
  },
  {
   "cell_type": "code",
   "execution_count": null,
   "metadata": {},
   "outputs": [],
   "source": [
    "class msum(sym.Function):\n",
    "    nargs = nb\n",
    "mstar = msum(*b)\n",
    "mstar"
   ]
  },
  {
   "cell_type": "code",
   "execution_count": null,
   "metadata": {},
   "outputs": [],
   "source": [
    "class z(sym.Function):\n",
    "    nargs = 1"
   ]
  },
  {
   "cell_type": "code",
   "execution_count": null,
   "metadata": {},
   "outputs": [],
   "source": [
    "Ibar = m*z(i)**2/2\n",
    "Ibar"
   ]
  },
  {
   "cell_type": "code",
   "execution_count": null,
   "metadata": {},
   "outputs": [],
   "source": [
    "CapGamG = -R*T*sym.log(1+mstar/CapGam)\n",
    "CapGamG"
   ]
  },
  {
   "cell_type": "code",
   "execution_count": null,
   "metadata": {},
   "outputs": [],
   "source": [
    "class aZero(sym.Function):\n",
    "    nargs = nb\n",
    "a0 = aZero(*b)\n",
    "a0"
   ]
  },
  {
   "cell_type": "code",
   "execution_count": null,
   "metadata": {},
   "outputs": [],
   "source": [
    "from thermoengine import coder\n",
    "Bgamma = coder.Bgamma(T,P)\n",
    "AsubG = coder.AsubG(T,P)"
   ]
  },
  {
   "cell_type": "code",
   "execution_count": null,
   "metadata": {},
   "outputs": [],
   "source": [
    "CapLambda = 1 + a0*Bgamma*sym.sqrt(Ibar)\n",
    "CapLambda"
   ]
  },
  {
   "cell_type": "code",
   "execution_count": null,
   "metadata": {},
   "outputs": [],
   "source": [
    "RTlnGamma = z(i)**2*AsubG*sym.sqrt(Ibar)/2/CapLambda + CapGamG\n",
    "RTlnGamma"
   ]
  },
  {
   "cell_type": "markdown",
   "metadata": {},
   "source": [
    "$\\sigma  = 3\\frac{{\\Lambda  - \\frac{1}{\\Lambda } - 2\\ln \\left( \\Lambda  \\right)}}{{{{\\left( {\\Lambda  - 1} \\right)}^3}}}$  \n",
    "$RT\\ln {\\gamma _{{{\\rm{H}}_{\\rm{2}}}{\\rm{O}}}} =  - \\frac{{{A_G}{{\\left( {\\sqrt {\\bar I} } \\right)}^3}\\sigma }}{{3\\Gamma }} + {\\Gamma _G}$  "
   ]
  },
  {
   "cell_type": "code",
   "execution_count": null,
   "metadata": {},
   "outputs": [],
   "source": [
    "RTlnGammaWater = -AsubG*(sym.sqrt(Ibar))**3*(CapLambda-1/CapLambda-2*sym.log(CapLambda))/CapGam/(CapLambda-1)**3 + CapGamG\n",
    "RTlnGammaWater"
   ]
  },
  {
   "cell_type": "code",
   "execution_count": null,
   "metadata": {},
   "outputs": [],
   "source": [
    "class SubCodePrinter(C99CodePrinter):\n",
    "    def _print_s(self, expr):\n",
    "        return str(expr.func) + '(' + str(expr.args[0]) + ', ' + str(expr.args[1]) + ', ' + str(expr.args[2]) + ', b)'\n",
    "    def _print_z(self, expr):\n",
    "        return str(expr.func) + '(' + str(expr.args[0]) + ')'\n",
    "    def _print_KroneckerDelta(self, expr):\n",
    "        i = expr.args[0]\n",
    "        j = expr.args[1]\n",
    "        return '((i==j) ? 1 : 0)'\n",
    "    def _print_msum(self, expr):\n",
    "        return str(expr.func) + '(b)'\n",
    "    def _print_aZero(self, expr):\n",
    "        return str(expr.func) + '(b)'\n",
    "    def _print_Derivative(self, expr):\n",
    "        function, *vars = expr.args\n",
    "        number_of_derivatives = len(expr.args) - 1\n",
    "        if function.func.__name__[0:1] == 's':\n",
    "            if number_of_derivatives == 1:\n",
    "                d_str = ''.join(repr(vars[0][0]).split('_'))\n",
    "                d_ord  = '' if vars[0][1] == 1 else str(vars[0][1])\n",
    "                result  = 'd' + d_ord + 's'\n",
    "                for i in range(0,vars[0][1]):\n",
    "                    result += 'D' + d_str\n",
    "                result += '(' + str(function.args[0]) + ', ' + str(function.args[1]) + ', ' + str(function.args[2]) + ', b)'\n",
    "            elif number_of_derivatives == 2:\n",
    "                d_str1 = ''.join(repr(vars[0][0]).split('_'))\n",
    "                d_str2 = ''.join(repr(vars[1][0]).split('_'))\n",
    "                d_ord  = str(vars[0][1]+vars[1][1])\n",
    "                result  = 'd' + d_ord + 's'\n",
    "                for i in range(0,vars[0][1]):\n",
    "                    result += 'D' + d_str1\n",
    "                for i in range(0,vars[1][1]):\n",
    "                    result += 'D' + d_str2\n",
    "                result += '(' + str(function.args[0]) + ', ' + str(function.args[1]) + ', ' + str(function.args[2]) + ', b)'\n",
    "            elif number_of_derivatives == 3:\n",
    "                d_str1 = ''.join(repr(vars[0][0]).split('_'))\n",
    "                d_str2 = ''.join(repr(vars[1][0]).split('_'))\n",
    "                d_str3 = ''.join(repr(vars[2][0]).split('_'))\n",
    "                d_ord  = str(vars[0][1]+vars[1][1]+vars[2][1])\n",
    "                result  = 'd' + d_ord + 's'\n",
    "                for i in range(0,vars[0][1]):\n",
    "                    result += 'D' + d_str1\n",
    "                for i in range(0,vars[1][1]):\n",
    "                    result += 'D' + d_str2\n",
    "                for i in range(0,vars[2][1]):\n",
    "                    result += 'D' + d_str3\n",
    "                result += '(' + str(function.args[0]) + ', ' + str(function.args[1]) + ', ' + str(function.args[2]) + ', b)'\n",
    "            else:\n",
    "                print ('Error: More than three derivatives of s not supported.')\n",
    "                result = ''\n",
    "        elif function.func.__name__[0:5] == 'aZero':\n",
    "            if number_of_derivatives == 1:\n",
    "                d_str1 = repr(vars[0][0]).split('_')[0]\n",
    "                d_str2 = repr(vars[0][0]).split('_')[1]\n",
    "                d_ord  = '' if vars[0][1] == 1 else str(vars[0][1])\n",
    "                result  = 'd' + d_ord + 'aZero' + 'D' + d_str1 + d_ord\n",
    "                for i in range(0,vars[0][1]):\n",
    "                    result += '[' + d_str2 + ']'\n",
    "            elif number_of_derivatives == 2:\n",
    "                d_str11 = repr(vars[0][0]).split('_')[0]\n",
    "                d_str12 = repr(vars[0][0]).split('_')[1]\n",
    "                d_str21 = repr(vars[1][0]).split('_')[0]\n",
    "                d_str22 = repr(vars[1][0]).split('_')[1]\n",
    "                d_ord  = str(vars[0][1]+vars[1][1])\n",
    "                assert d_str11 == d_str21, 'Error in derivative specification to aZero()'\n",
    "                result  = 'd' + d_ord + 'aZero' + 'D' + d_str11 + d_ord\n",
    "                for i in range(0,vars[0][1]):\n",
    "                    result += '[' + d_str12 +']'\n",
    "                for i in range(0,vars[1][1]):\n",
    "                    result += '[' + d_str22 + ']'\n",
    "            elif number_of_derivatives == 3:\n",
    "                d_str11 = repr(vars[0][0]).split('_').split('_')[0]\n",
    "                d_str12 = repr(vars[0][0]).split('_').split('_')[1]\n",
    "                d_str21 = repr(vars[1][0]).split('_').split('_')[0]\n",
    "                d_str22 = repr(vars[1][0]).split('_').split('_')[1]\n",
    "                d_str31 = repr(vars[2][0]).split('_').split('_')[0]\n",
    "                d_str32 = repr(vars[2][0]).split('_').split('_')[1]\n",
    "                d_ord  = str(vars[0][1]+vars[1][1]+vars[2][1])\n",
    "                assert d_str11 == d_str21, 'Error in derivative specification to aZero()'\n",
    "                assert d_str21 == d_str31, 'Error in derivative specification to aZero()'\n",
    "                result  = 'd' + d_ord + 'aZero' + 'D' + d_str11 + d_ord\n",
    "                for i in range(0,vars[0][1]):\n",
    "                    result += '[' + d_str12 + ']'\n",
    "                for i in range(0,vars[1][1]):\n",
    "                    result += '[' + d_str22 + ']'\n",
    "                for i in range(0,vars[2][1]):\n",
    "                    result += '[' + d_str32 + ']'\n",
    "            else:\n",
    "                print ('Error: More than three derivatives of aZero not supported.')\n",
    "                result = ''\n",
    "        elif function.func.__name__[0:4] == 'msum':\n",
    "            if number_of_derivatives == 1:\n",
    "                d_str1 = repr(vars[0][0]).split('_')[0]\n",
    "                d_str2 = repr(vars[0][0]).split('_')[1]\n",
    "                d_ord  = '' if vars[0][1] == 1 else str(vars[0][1])\n",
    "                result  = 'd' + d_ord + 'msum' + 'D' + d_str1 + d_ord\n",
    "                for i in range(0,vars[0][1]):\n",
    "                    result += '[' + d_str2 + ']'\n",
    "            elif number_of_derivatives == 2:\n",
    "                d_str11 = repr(vars[0][0]).split('_')[0]\n",
    "                d_str12 = repr(vars[0][0]).split('_')[1]\n",
    "                d_str21 = repr(vars[1][0]).split('_')[0]\n",
    "                d_str22 = repr(vars[1][0]).split('_')[1]\n",
    "                d_ord  = str(vars[0][1]+vars[1][1])\n",
    "                assert d_str11 == d_str21, 'Error in derivative specification to msum()'\n",
    "                result  = 'd' + d_ord + 'msum' + 'D' + d_str11 + d_ord\n",
    "                for i in range(0,vars[0][1]):\n",
    "                    result += '[' + d_str12 +']'\n",
    "                for i in range(0,vars[1][1]):\n",
    "                    result += '[' + d_str22 + ']'\n",
    "            elif number_of_derivatives == 3:\n",
    "                d_str11 = repr(vars[0][0]).split('_').split('_')[0]\n",
    "                d_str12 = repr(vars[0][0]).split('_').split('_')[1]\n",
    "                d_str21 = repr(vars[1][0]).split('_').split('_')[0]\n",
    "                d_str22 = repr(vars[1][0]).split('_').split('_')[1]\n",
    "                d_str31 = repr(vars[2][0]).split('_').split('_')[0]\n",
    "                d_str32 = repr(vars[2][0]).split('_').split('_')[1]\n",
    "                d_ord  = str(vars[0][1]+vars[1][1]+vars[2][1])\n",
    "                assert d_str11 == d_str21, 'Error in derivative specification to msum()'\n",
    "                assert d_str21 == d_str31, 'Error in derivative specification to msum()'\n",
    "                result  = 'd' + d_ord + 'msum' + 'D' + d_str11 + d_ord\n",
    "                for i in range(0,vars[0][1]):\n",
    "                    result += '[' + d_str12 + ']'\n",
    "                for i in range(0,vars[1][1]):\n",
    "                    result += '[' + d_str22 + ']'\n",
    "                for i in range(0,vars[2][1]):\n",
    "                    result += '[' + d_str32 + ']'\n",
    "            else:\n",
    "                print ('Error: More than three derivatives of msum not supported.')\n",
    "                result = ''\n",
    "        elif (len(function.func.__name__) >= 6 and \n",
    "            function.func.__name__[1:6] == 'gamma'):\n",
    "            if number_of_derivatives == 1:\n",
    "                derivative_string = repr(vars[0][0]).lower()\n",
    "                derivative_order  = '' if vars[0][1] == 1 else str(vars[0][1])\n",
    "                result = ('d' + derivative_order + function.func.__name__ + 'd' \n",
    "                    + derivative_string + derivative_order + '(T, P)')\n",
    "            elif number_of_derivatives == 2:\n",
    "                derivative_string_2 = repr(vars[0][0]).lower()\n",
    "                derivative_order_2  = '' if vars[0][1] == 1 else str(vars[0][1])\n",
    "                derivative_string_1 = repr(vars[1][0]).lower()\n",
    "                derivative_order_1  = '' if vars[1][1] == 1 else str(vars[1][1])\n",
    "                derivative_total    = str(vars[0][1]+vars[1][1])\n",
    "                result = ('d' + derivative_total + function.func.__name__ + 'D' \n",
    "                    + derivative_string_1 + derivative_order_1 +'D' \n",
    "                    + derivative_string_2 + derivative_order_2 + '(T, P)')\n",
    "            else:\n",
    "                result = ''\n",
    "        else:\n",
    "            if (not isinstance(type(function), UndefinedFunction) or \n",
    "                not all(isinstance(i, Symbol) for i in vars)):\n",
    "                return super()._print_Derivative(expr)\n",
    "        return result\n",
    "function_d = {\"Debye\":\"Debye\", \"B\":\"born_B\", \"Y\":\"born_Y\", \"Q\":\"born_Q\", \n",
    "              \"X\":\"born_X\", \"U\":\"born_U\", \"N\":\"born_N\", \"dXdT\":\"born_dXdT\", \n",
    "              \"dUdT\":\"born_dUdT\", \"dNdT\":\"born_dNdT\", \"dUdP\":\"born_dUdP\", \n",
    "              \"dNdP\":\"born_dNdP\", \"gSolvent\":\"gSolvent\", \n",
    "              \"Agamma\":\"Agamma\", \"Bgamma\":\"Bgamma\", \"AsubG\":\"AsubG\", \n",
    "              \"AsubH\":\"AsubH\", \"AsubV\":\"AsubV\", \"AsubJ\":\"AsubJ\", \n",
    "              \"AsubKappa\":\"AsubKappa\", \"AsubEx\":\"AsubEx\", \n",
    "              \"BsubG\":\"BsubG\", \"BsubH\":\"BsubH\", \"BsubV\":\"BsubV\", \n",
    "              \"BsubJ\":\"BsubJ\", \"BsubKappa\":\"BsubKappa\", \"BsubEx\":\"BsubEx\"}\n",
    "printer = SubCodePrinter(settings={\"user_functions\":function_d})"
   ]
  },
  {
   "cell_type": "code",
   "execution_count": null,
   "metadata": {},
   "outputs": [],
   "source": [
    "def substitute(in_s):\n",
    "    sub_d = { 'b_0':'b[0]'}\n",
    "    for key,value in sub_d.items():\n",
    "        out_s = in_s.replace(key, value)\n",
    "        in_s = out_s\n",
    "    return out_s"
   ]
  },
  {
   "cell_type": "code",
   "execution_count": null,
   "metadata": {},
   "outputs": [],
   "source": [
    "print(substitute(printer.doprint(RTlnGamma, assign_to='RTlngamma[i]')))"
   ]
  },
  {
   "cell_type": "code",
   "execution_count": null,
   "metadata": {},
   "outputs": [],
   "source": [
    "print(substitute(printer.doprint(RTlnGammaWater, assign_to='RTlngammaH2O')))"
   ]
  },
  {
   "cell_type": "code",
   "execution_count": null,
   "metadata": {},
   "outputs": [],
   "source": [
    "print(substitute(printer.doprint(RTlnGamma.diff(T), assign_to='dRTlngammaDt[i]')))"
   ]
  },
  {
   "cell_type": "code",
   "execution_count": null,
   "metadata": {},
   "outputs": [],
   "source": [
    "print(substitute(printer.doprint(RTlnGamma.diff(T,2), assign_to='d2RTlngammaDt2[i]')))"
   ]
  },
  {
   "cell_type": "code",
   "execution_count": null,
   "metadata": {},
   "outputs": [],
   "source": [
    "print(substitute(printer.doprint(RTlnGamma.diff(T,P), assign_to='d2RTlngammaDtDp[i]')))"
   ]
  },
  {
   "cell_type": "code",
   "execution_count": null,
   "metadata": {},
   "outputs": [],
   "source": [
    "print(substitute(printer.doprint(RTlnGamma.diff(P), assign_to='dRTlngammaDp[i]')))"
   ]
  },
  {
   "cell_type": "code",
   "execution_count": null,
   "metadata": {},
   "outputs": [],
   "source": [
    "print(substitute(printer.doprint(RTlnGamma.diff(P,2), assign_to='d2RTlngammaDp2[i]')))"
   ]
  },
  {
   "cell_type": "code",
   "execution_count": null,
   "metadata": {},
   "outputs": [],
   "source": [
    "print(substitute(printer.doprint(RTlnGamma.diff(b[0]), assign_to='dRTlngammaDb0[i]')))"
   ]
  },
  {
   "cell_type": "code",
   "execution_count": null,
   "metadata": {},
   "outputs": [],
   "source": [
    "print(substitute(printer.doprint(RTlnGamma.diff(b[1]), assign_to='dRTlngammaDb1[i]')))"
   ]
  },
  {
   "cell_type": "code",
   "execution_count": null,
   "metadata": {},
   "outputs": [],
   "source": [
    "print(substitute(printer.doprint(RTlnGamma.diff(b[0],2), assign_to='d2RTlngammaDb0Db0[i]')))"
   ]
  },
  {
   "cell_type": "code",
   "execution_count": null,
   "metadata": {},
   "outputs": [],
   "source": [
    "print(substitute(printer.doprint(RTlnGamma.diff(b[0],b[1]), assign_to='d2RTlngammaDb0Db1[i]')))"
   ]
  },
  {
   "cell_type": "code",
   "execution_count": null,
   "metadata": {},
   "outputs": [],
   "source": [
    "print(substitute(printer.doprint(RTlnGamma.diff(b[0],3), assign_to='d2RTlngammaDb0Db0Db0[i]')))"
   ]
  },
  {
   "cell_type": "code",
   "execution_count": null,
   "metadata": {},
   "outputs": [],
   "source": []
  }
 ],
 "metadata": {
  "kernelspec": {
   "display_name": "Python 3",
   "language": "python",
   "name": "python3"
  },
  "language_info": {
   "codemirror_mode": {
    "name": "ipython",
    "version": 3
   },
   "file_extension": ".py",
   "mimetype": "text/x-python",
   "name": "python",
   "nbconvert_exporter": "python",
   "pygments_lexer": "ipython3",
   "version": "3.7.6"
  }
 },
 "nbformat": 4,
 "nbformat_minor": 4
}
