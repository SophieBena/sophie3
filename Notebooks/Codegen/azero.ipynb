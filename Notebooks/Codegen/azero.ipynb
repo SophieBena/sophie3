{
 "cells": [
  {
   "cell_type": "markdown",
   "metadata": {},
   "source": [
    "# aZero\n",
    "${a_0} = 2\\frac{{\\sum\\limits_i^{components} {{b_i}{a_{0,i}}} }}{{\\sum\\limits_i^{components} {{b_i}} }}$"
   ]
  },
  {
   "cell_type": "code",
   "execution_count": null,
   "metadata": {},
   "outputs": [],
   "source": [
    "import sympy as sym\n",
    "from sympy.printing.ccode import C99CodePrinter\n",
    "sym.init_printing()"
   ]
  },
  {
   "cell_type": "code",
   "execution_count": null,
   "metadata": {},
   "outputs": [],
   "source": [
    "nb = 2\n",
    "i = sym.symbols('i')\n",
    "printer = C99CodePrinter()"
   ]
  },
  {
   "cell_type": "code",
   "execution_count": null,
   "metadata": {},
   "outputs": [],
   "source": [
    "b_list = []\n",
    "aZero_list = []\n",
    "b_T = sym.S.Zero\n",
    "aZeroSum = sym.S.Zero\n",
    "for j in range(0,nb):\n",
    "    entry1 = sym.symbols('b_'+str(j))\n",
    "    b_list.append(entry1)\n",
    "    b_T += entry1\n",
    "    entry2 = sym.symbols('aZero_'+str(j))\n",
    "    aZero_list.append(entry2)\n",
    "    aZeroSum += entry1*entry2\n",
    "b = b_list\n",
    "aZero = aZero_list\n",
    "print(b)\n",
    "print(b_T)\n",
    "print(aZero)\n",
    "print(aZeroSum)"
   ]
  },
  {
   "cell_type": "code",
   "execution_count": null,
   "metadata": {},
   "outputs": [],
   "source": [
    "result = 2*aZeroSum/b_T\n",
    "result"
   ]
  },
  {
   "cell_type": "code",
   "execution_count": null,
   "metadata": {},
   "outputs": [],
   "source": [
    "print (printer.doprint(result, assign_to='aZero'))"
   ]
  },
  {
   "cell_type": "code",
   "execution_count": null,
   "metadata": {},
   "outputs": [],
   "source": [
    "header = \\\n",
    "\"\"\"\n",
    "double daZeroDb[nb];\"\"\"\n",
    "footer = \\\n",
    "\"\"\"}\n",
    "\"\"\"\n",
    "print (header)\n",
    "for i in range(0,nb):\n",
    "    print ('   ', printer.doprint(result.diff(b[i]), assign_to='daZeroDb['+str(i)+']'))\n",
    "print (footer)"
   ]
  },
  {
   "cell_type": "code",
   "execution_count": null,
   "metadata": {},
   "outputs": [],
   "source": [
    "header = \\\n",
    "\"\"\"\n",
    "double d2aZeroDb2[nb][nb];\"\"\"\n",
    "footer = \\\n",
    "\"\"\"}\n",
    "\"\"\"\n",
    "print (header)\n",
    "for i in range(0,nb):\n",
    "    for j in range(i,nb):\n",
    "        print ('   ', printer.doprint(result.diff(b[i], b[j]), assign_to='d2aZeroDb2['+str(i)+']['+str(j)+']'))\n",
    "        if j > i:\n",
    "            print ('   ', 'd2aZeroDb2['+str(j)+']['+str(i)+'] = d2aZeroDb2['+str(i)+']['+str(j)+']')\n",
    "print (footer)"
   ]
  },
  {
   "cell_type": "code",
   "execution_count": null,
   "metadata": {},
   "outputs": [],
   "source": [
    "header = \\\n",
    "\"\"\"\n",
    "double d3aZeroDb3[nb][nb][nb];\"\"\"\n",
    "footer = \\\n",
    "\"\"\"}\n",
    "\"\"\"\n",
    "print (header)\n",
    "for i in range(0,nb):\n",
    "    for j in range(i,nb):\n",
    "        for k in range(j,nb):\n",
    "            print('   ', printer.doprint(result.diff(b[i],b[j],b[k]), \n",
    "                                         assign_to='d3aZeroDb3['+str(i)+']['+str(j)+']['+str(k)+']'))\n",
    "            if k > j:\n",
    "                print('   ', 'd3aZeroDb3['+str(i)+']['+str(k)+']['+str(j)+'] = d3aZeroDb3['+str(i)+']['+str(j)+']['+str(k)+']')\n",
    "        if j > i:\n",
    "            for k in range(i, nb):\n",
    "                print('   ', 'd3aZeroDb3['+str(j)+']['+str(i)+']['+str(k)+'] = d3aZeroDb3['+str(i)+']['+str(j)+']['+str(k)+']')\n",
    "                if k > i:\n",
    "                    print('   ', 'd3aZeroDb3['+str(j)+']['+str(k)+']['+str(i)+'] = d3aZeroDb3['+str(i)+']['+str(j)+']['+str(k)+']')\n",
    "print (footer)"
   ]
  },
  {
   "cell_type": "code",
   "execution_count": null,
   "metadata": {},
   "outputs": [],
   "source": []
  }
 ],
 "metadata": {
  "kernelspec": {
   "display_name": "Python 3",
   "language": "python",
   "name": "python3"
  },
  "language_info": {
   "codemirror_mode": {
    "name": "ipython",
    "version": 3
   },
   "file_extension": ".py",
   "mimetype": "text/x-python",
   "name": "python",
   "nbconvert_exporter": "python",
   "pygments_lexer": "ipython3",
   "version": "3.7.6"
  }
 },
 "nbformat": 4,
 "nbformat_minor": 4
}
