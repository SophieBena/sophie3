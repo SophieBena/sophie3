{
 "cells": [
  {
   "cell_type": "markdown",
   "metadata": {},
   "source": [
    "# Revised HKF - Standard State\n",
    "\n",
    "**This notebook develops code for the revised HKF (Helgeson-Kirkham-Flowers) formalism for the thermodynamic properties of aqueous species.**\n",
    "\n",
    "The derivation follows that in Appendix B of  \n",
    "\n",
    "Shock EL, Oelkers EH, Johnson JW, Sverjensky DA, Helgeson HC (1992) Calculation of the thermodynamic properties of aqueous species at high pressures and temperatures. Journal of the Chemical Society Faraday Transactions, 88(6), 803-826  \n",
    "\n",
    "and in  \n",
    "\n",
    "Tanger JC, Helgeson HC (1988) Calculation of the thermodynamic and transport properties of aqueous species at high pressures and temperatures: Revised equations of state for the standard partial molal properties if ions and electrolytes. American Journal of Science, 288, 19-98\n",
    "\n",
    "Required system packages and initialization  "
   ]
  },
  {
   "cell_type": "code",
   "execution_count": null,
   "metadata": {},
   "outputs": [],
   "source": [
    "import pandas as pd\n",
    "import numpy as np\n",
    "import sympy as sym\n",
    "sym.init_printing()"
   ]
  },
  {
   "cell_type": "markdown",
   "metadata": {},
   "source": [
    "Import the coder module and retrieve sympy extensions for the Born functions and for the Shock et al., (1992) \"*g*\" function:"
   ]
  },
  {
   "cell_type": "code",
   "execution_count": null,
   "metadata": {},
   "outputs": [],
   "source": [
    "from thermoengine import coder\n",
    "from thermoengine.coder import B, Q, Y, U, N, X, dUdT, dUdP, dNdT, dNdP, dXdT, gSolvent"
   ]
  },
  {
   "cell_type": "markdown",
   "metadata": {},
   "source": [
    "Create a standard state model instance ..."
   ]
  },
  {
   "cell_type": "code",
   "execution_count": null,
   "metadata": {},
   "outputs": [],
   "source": [
    "model = coder.StdStateModel()"
   ]
  },
  {
   "cell_type": "markdown",
   "metadata": {},
   "source": [
    "... and retrieve sympy symbols for standard variables."
   ]
  },
  {
   "cell_type": "code",
   "execution_count": null,
   "metadata": {},
   "outputs": [],
   "source": [
    "T = model.get_symbol_for_t()\n",
    "P = model.get_symbol_for_p()\n",
    "Tr = model.get_symbol_for_tr()\n",
    "Pr = model.get_symbol_for_pr()"
   ]
  },
  {
   "cell_type": "markdown",
   "metadata": {},
   "source": [
    "## Equation of State (EOS)\n",
    "Shock et al., 1992, eqn. B10:   \n",
    "\n",
    "${\\bar v^o} = {a_1} + \\frac{{{a_2}}}{{\\Psi  + P}} + \\left( {{a_3} + \\frac{{{a_4}}}{{\\Psi  + P}}} \\right)\\frac{1}{{T - \\theta }} - \\omega Q - \\left( {B + 1} \\right){\\left( {\\frac{{\\partial \\omega }}{{\\partial P}}} \\right)_T}$  \n",
    "\n",
    "$\\Psi$ has a value of 2600 bars as determined by Tanger and Helgeson (1988)  \n",
    "$\\theta$ has a value of 228 K as determined by Helgeson and Kirkham (1976)  \n",
    "\n",
    "$\\omega$ is defined in terms of the charge on the ion (*z*) and a mysterious function, *g*, as derived by Shock et al. (1992),building on the work of Tanger and Helgeson (1988):  \n",
    "\n",
    "$\\omega  = \\eta z\\left( {\\frac{z}{{{r_{e,ref}} + \\left| z \\right|g}} - \\frac{1}{{{r_{e,{H^ + }}} + g}}} \\right)$  \n",
    "\n",
    "where $\\eta$ is a conversion constant.  The reference ionic radius is:\n",
    "\n",
    "${r_{e,ref}} = \\frac{{{z^2}}}{{\\frac{{{\\omega _{ref}}}}{\\eta } + \\frac{z}{{{r_{e,{H^ + }}}}}}}$   \n",
    "\n",
    "which when inserted into the definition becomes  \n",
    "\n",
    "$\\omega  = \\left( {\\frac{{{\\omega _{ref}} + \\frac{{z\\eta }}{{{r_{e,{H^ + }}}}}}}{{1 + \\frac{{\\sqrt {{z^2}} }}{{{z^2}}}g\\left( {\\frac{{{\\omega _{ref}}}}{\\eta } + \\frac{z}{{{r_{e,{H^ + }}}}}} \\right)}} - \\frac{{\\eta z}}{{{r_{e,{H^ + }}} + g}}} \\right)$  \n",
    "\n",
    "The above expression is cast into a slightly different form than the one provided by Shock et al. (1992), but is otherwise identical. This form is applicable to both charged and neutral species, as demonstrated below."
   ]
  },
  {
   "cell_type": "code",
   "execution_count": null,
   "metadata": {},
   "outputs": [],
   "source": [
    "eta, rH, omega0, z = sym.symbols('eta rH omega0 z', real=True)"
   ]
  },
  {
   "cell_type": "code",
   "execution_count": null,
   "metadata": {},
   "outputs": [],
   "source": [
    "omega_def = sym.Piecewise((omega0, sym.Eq(z,0)), \\\n",
    "            ((omega0 + z*eta/rH)/(1 + sym.Abs(z)*gSolvent(T,P)*(omega0/eta + z/rH)/z**2) - eta*z/(rH + gSolvent(T,P)), True))\n",
    "omega_def"
   ]
  },
  {
   "cell_type": "markdown",
   "metadata": {},
   "source": [
    "Hence, ${\\bar v^o} = {a_1} + \\frac{{{a_2}}}{{\\Psi  + P}} + \\left( {{a_3} + \\frac{{{a_4}}}{{\\Psi  + P}}} \\right)\\frac{1}{{T - \\theta }} - \\omega Q - \\left( {B + 1} \\right){\\left( {\\frac{{\\partial \\omega }}{{\\partial P}}} \\right)_T}$ is"
   ]
  },
  {
   "cell_type": "code",
   "execution_count": null,
   "metadata": {},
   "outputs": [],
   "source": [
    "a1,a2,a3,a4 = sym.symbols('a1 a2 a3 a4')\n",
    "Psi,theta = sym.symbols('Psi theta')\n",
    "omega = sym.Function('omega')(T,P)"
   ]
  },
  {
   "cell_type": "code",
   "execution_count": null,
   "metadata": {},
   "outputs": [],
   "source": [
    "vtp = a1 + a2/(Psi+P) + (a3 + a4/(Psi+P))/(T-theta) - omega*Q(T,P) - (B(T,P)+1)*omega.diff(P)\n",
    "vtp"
   ]
  },
  {
   "cell_type": "markdown",
   "metadata": {},
   "source": [
    "Note that the derivative of $ - \\left[ {\\left( {{B_{T,P}} + 1} \\right){\\omega _{T,P}} - \\left( {{B_{T,{P_r}}} + 1} \\right){\\omega _{T,{P_r}}}} \\right]$"
   ]
  },
  {
   "cell_type": "code",
   "execution_count": null,
   "metadata": {},
   "outputs": [],
   "source": [
    "-(1+B(T,P))*omega + (1+B(T,Pr))*(omega.subs(P,Pr))"
   ]
  },
  {
   "cell_type": "markdown",
   "metadata": {},
   "source": [
    "is"
   ]
  },
  {
   "cell_type": "code",
   "execution_count": null,
   "metadata": {},
   "outputs": [],
   "source": [
    "(-(1+B(T,P))*omega + (1+B(T,Pr))*(omega.subs(P,Pr))).diff(P)"
   ]
  },
  {
   "cell_type": "markdown",
   "metadata": {},
   "source": [
    "So that $\\int_{{P_r}}^P {{{\\bar v}^o}} dP$ may be written:"
   ]
  },
  {
   "cell_type": "code",
   "execution_count": null,
   "metadata": {},
   "outputs": [],
   "source": [
    "deltaG = sym.integrate(a1 + a2/(Psi+P) + (a3 + a4/(Psi+P))/(T-theta), (P,Pr,P)) - (1+B(T,P))*omega + (1+B(T,Pr))*omega.subs(P,Pr)\n",
    "deltaG"
   ]
  },
  {
   "cell_type": "markdown",
   "metadata": {},
   "source": [
    "The second derivative of this volume integral gives the contribution to the heat capacity, i.e. $\\frac{{{\\partial ^2}G}}{{\\partial {T^2}}} =  - \\frac{{\\partial S}}{{\\partial T}} =  - \\frac{{{C_P}}}{T}$ so that  \n",
    "\n",
    "${{\\bar c}_P}\\left( {T,P} \\right) - {{\\bar c}_P}\\left( {T,{P_r}} \\right) =  - T\\frac{{{\\partial ^2}\\int_{{P_r}}^P {{{\\bar v}^o}} dP}}{{\\partial {T^2}}}$"
   ]
  },
  {
   "cell_type": "code",
   "execution_count": null,
   "metadata": {},
   "outputs": [],
   "source": [
    "-T*deltaG.diff(T,2)"
   ]
  },
  {
   "cell_type": "markdown",
   "metadata": {},
   "source": [
    "## Heat Capacity functions\n",
    "Heat capacity is parameterized as (Tanger and Helgeson, 1988, eq A-4, p 78):\n",
    "\n",
    "${{\\bar c}_P} = {c_1} + \\frac{{{c_2}}}{{{{\\left( {T - \\theta } \\right)}^2}}} - \\left[ {\\frac{{2T}}{{{{\\left( {T - \\theta } \\right)}^3}}}} \\right]\\left[ {{a_3}\\left( {P - {P_r}} \\right) + {a_4}\\ln \\left( {\\frac{{\\Psi  + P}}{{\\Psi  + {P_r}}}} \\right)} \\right] + \\omega TX + 2TY\\frac{{\\partial \\omega }}{{\\partial T}} - T\\left( {\\frac{1}{\\varepsilon } - 1} \\right)\\frac{{{\\partial ^2}\\omega }}{{\\partial {T^2}}}$  \n",
    "\n",
    "or equivalently, as the Born function is defined as $B =  - \\frac{1}{\\varepsilon }$  \n",
    "\n",
    "${{\\bar c}_P} = {c_1} + \\frac{{{c_2}}}{{{{\\left( {T - \\theta } \\right)}^2}}} - \\left[ {\\frac{{2T}}{{{{\\left( {T - \\theta } \\right)}^3}}}} \\right]\\left[ {{a_3}\\left( {P - {P_r}} \\right) + {a_4}\\ln \\left( {\\frac{{\\Psi  + P}}{{\\Psi  + {P_r}}}} \\right)} \\right] + \\omega TX + 2TY\\frac{{\\partial \\omega }}{{\\partial T}} + T\\left( {B + 1} \\right)\\frac{{{\\partial ^2}\\omega }}{{\\partial {T^2}}}$  \n",
    "\n",
    "at the reference pressure this expression becomes  \n",
    "\n",
    "${\\bar c_{{P_r}}} = {c_1} + \\frac{{{c_2}}}{{{{\\left( {T - \\theta } \\right)}^2}}} + {\\omega _{{P_r}}}T{X_{T,{P_r}}} + 2T{Y_{T,{P_r}}}{\\left. {\\frac{{\\partial \\omega }}{{\\partial T}}} \\right|_{T,{P_r}}} + T\\left( {{B_{T,{P_r}}} + 1} \\right){\\left. {\\frac{{{\\partial ^2}\\omega }}{{\\partial {T^2}}}} \\right|_{T,{P_r}}}$  \n",
    "\n",
    "Note that the \"Born\" function terms are the equivalent of $T{\\left. {\\frac{{{\\partial ^2}\\left( {B + 1} \\right)\\omega }}{{\\partial {T^2}}}} \\right|_{T,{P_r}}}$, so that the reference pressure heat capacity can be equivalently written:  \n",
    "\n",
    "${{\\bar c}_{{P_r}}} = {c_1} + \\frac{{{c_2}}}{{{{\\left( {T - \\theta } \\right)}^2}}} + T{\\left. {\\frac{{{\\partial ^2}\\left( {B + 1} \\right)\\omega }}{{\\partial {T^2}}}} \\right|_{T,{P_r}}}$\n",
    "\n",
    "as demonstrated here:"
   ]
  },
  {
   "cell_type": "code",
   "execution_count": null,
   "metadata": {},
   "outputs": [],
   "source": [
    "c1,c2 = sym.symbols('c1 c2')\n",
    "ctpr = c1 + c2/(T-theta)**2 + (T*((B(T,P)+1)*omega).diff(T,2)).subs(P,Pr)\n",
    "ctpr"
   ]
  },
  {
   "cell_type": "markdown",
   "metadata": {},
   "source": [
    "## Gibbs free energy\n",
    "The above analysis gives a way to write the Gibbs free energy using the identity $dG =  - SdT + VdP$, from which:  \n",
    "\n",
    "${G_{T,P}} = {G_{{T_r},{P_r}}} - \\int_{{T_r}}^T {{S_{T,{P_r}}}dT}  + \\int_{{P_r}}^P {{V_{T,P}}dP}$  \n",
    "\n",
    "The entropy term is given by  \n",
    "\n",
    "${S_{T,{P_r}}} = {S_{{T_r},{P_r}}} + \\int_{{T_r}}^T {\\frac{{{{\\bar c}_{T,{P_r}}}}}{T}dT}$  \n",
    "\n",
    "Combining expressions  \n",
    "\n",
    "${G_{T,P}} = {G_{{T_r},{P_r}}} - {S_{{T_r},{P_r}}}\\left( {T - {T_r}} \\right) - \\int_{{T_r}}^T {\\int_{{T_r}}^T {\\frac{{{{\\bar c}_{T,{P_r}}}}}{T}dT} dT}  + \\int_{{P_r}}^P {{V_{T,P}}dP}$  \n",
    "\n",
    "Now, using the above expression for the reference pressure heat capacity we can write  \n",
    "\n",
    "${G_{T,P}} = {G_{{T_r},{P_r}}} - {S_{{T_r},{P_r}}}\\left( {T - {T_r}} \\right) - \\int_{{T_r}}^T {\\int_{{T_r}}^T {\\frac{{\\left( {{c_1} + \\frac{{{c_2}}}{{{{\\left( {T - \\theta } \\right)}^2}}} + T{{\\left. {\\frac{{{\\partial ^2}\\left( {B + 1} \\right)\\omega }}{{\\partial {T^2}}}} \\right|}_{T,{P_r}}}} \\right)}}{T}dT} dT}  + \\int_{{P_r}}^P {{V_{T,P}}dP}$  \n",
    "\n",
    "or  \n",
    "\n",
    "${G_{T,P}} = {G_{{T_r},{P_r}}} - {S_{{T_r},{P_r}}}\\left( {T - {T_r}} \\right) - \\int_{{T_r}}^T {\\int_{{T_r}}^T {\\left[ {\\frac{{{c_1}}}{T} + \\frac{{{c_2}}}{{T{{\\left( {T - \\theta } \\right)}^2}}} + {{\\left. {\\frac{{{\\partial ^2}\\left( {B + 1} \\right)\\omega }}{{\\partial {T^2}}}} \\right|}_{T,{P_r}}}} \\right]dT} dT}  + \\int_{{P_r}}^P {{V_{T,P}}dP}$  \n",
    "\n",
    "which expands to  \n",
    "\n",
    "${G_{T,P}} = {G_{{T_r},{P_r}}} - {S_{{T_r},{P_r}}}\\left( {T - {T_r}} \\right) - \\int_{{T_r}}^T {\\int_{{T_r}}^T {\\left[ {\\frac{{{c_1}}}{T} + \\frac{{{c_2}}}{{T{{\\left( {T - \\theta } \\right)}^2}}}} \\right]dT} dT}  - \\int_{{T_r}}^T {\\int_{{T_r}}^T {{{\\left. {\\frac{{{\\partial ^2}\\left( {B + 1} \\right)\\omega }}{{\\partial {T^2}}}} \\right|}_{T,{P_r}}}dT} dT}  + \\int_{{P_r}}^P {{V_{T,P}}dP}$  \n",
    "\n",
    "Note that $\\int_{{T_r}}^T {\\int_{{T_r}}^T {{{\\left. {\\frac{{{\\partial ^2}\\left( {B + 1} \\right)\\omega }}{{\\partial {T^2}}}} \\right|}_{T,{P_r}}}dT} dT}$ evaluates to:  \n",
    "\n",
    "$\\int_{{T_r}}^T {\\int_{{T_r}}^T {{{\\left. {\\frac{{{\\partial ^2}\\left( {B + 1} \\right)\\omega }}{{\\partial {T^2}}}} \\right|}_{T,{P_r}}}dT} dT}  = \\int_{{T_r}}^T {\\left[ {{{\\left. {\\frac{{\\partial \\left( {B + 1} \\right)\\omega }}{{\\partial T}}} \\right|}_{T,{P_r}}} - {{\\left. {\\frac{{\\partial \\left( {B + 1} \\right)\\omega }}{{\\partial T}}} \\right|}_{{T_r},{P_r}}}} \\right]dT}$  \n",
    "\n",
    "and further to:  \n",
    "\n",
    "$\\int_{{T_r}}^T {\\int_{{T_r}}^T {{{\\left. {\\frac{{{\\partial ^2}\\left( {B + 1} \\right)\\omega }}{{\\partial {T^2}}}} \\right|}_{T,{P_r}}}dT} dT}  = \\left( {{B_{T,{P_r}}} + 1} \\right){\\omega _{T,P_r}} - \\left( {{B_{{T_r},{P_r}}} + 1} \\right){\\omega _{{T_r},{P_r}}} - {\\left. {\\frac{{\\partial \\left( {B + 1} \\right)\\omega }}{{\\partial T}}} \\right|_{{T_r},{P_r}}}\\left( {T - {T_r}} \\right)$  \n",
    "\n",
    "and still further to:  \n",
    "\n",
    "$\\int_{{T_r}}^T {\\int_{{T_r}}^T {{{\\left. {\\frac{{{\\partial ^2}\\left( {B + 1} \\right)\\omega }}{{\\partial {T^2}}}} \\right|}_{T,{P_r}}}dT} dT}  = \\left( {{B_{T,{P_r}}} + 1} \\right){\\omega _{T,{P_r}}} - \\left( {{B_{{T_r},{P_r}}} + 1} \\right){\\omega _{{T_r},{P_r}}} - {\\left. {\\frac{{\\partial B}}{{\\partial T}}} \\right|_{{T_r},{P_r}}}{\\omega _{{T_r},{P_r}}}\\left( {T - {T_r}} \\right) - {\\left. {\\left( {{B_{{T_r},{P_r}}} + 1} \\right)\\frac{{\\partial \\omega }}{{\\partial T}}} \\right|_{{T_r},{P_r}}}\\left( {T - {T_r}} \\right)$  \n",
    "\n",
    "recognizing that $Y = \\frac{{\\partial B}}{{\\partial T}}$, we have finally  \n",
    "\n",
    "$\\int_{{T_r}}^T {\\int_{{T_r}}^T {{{\\left. {\\frac{{{\\partial ^2}\\left( {B + 1} \\right)\\omega }}{{\\partial {T^2}}}} \\right|}_{T,{P_r}}}dT} dT}  = \\left( {{B_{T,{P_r}}} + 1} \\right){\\omega _{T,{P_r}}} - \\left( {{B_{{T_r},{P_r}}} + 1} \\right){\\omega _{{T_r},{P_r}}} - {Y_{{T_r},{P_r}}}\\left( {T - {T_r}} \\right){\\omega _{{T_r},{P_r}}} - {\\left. {\\left( {{B_{{T_r},{P_r}}} + 1} \\right)\\left( {T - {T_r}} \\right)\\frac{{\\partial \\omega }}{{\\partial T}}} \\right|_{{T_r},{P_r}}}$  \n",
    "\n",
    "Note that:  \n",
    "\n",
    "$ - \\int_{{T_r}}^T {\\int_{{T_r}}^T {{{\\left. {\\frac{{{\\partial ^2}\\left( {B + 1} \\right)\\omega }}{{\\partial {T^2}}}} \\right|}_{T,{P_r}}}dT} dT}  =  - \\left( {{B_{T,{P_r}}} + 1} \\right){\\omega _{T,{P_r}}} + \\left( {{B_{{T_r},{P_r}}} + 1} \\right){\\omega _{{T_r},{P_r}}} + {Y_{{T_r},{P_r}}}\\left( {T - {T_r}} \\right){\\omega _{{T_r},{P_r}}} + {\\left. {\\left( {{B_{{T_r},{P_r}}} + 1} \\right)\\left( {T - {T_r}} \\right)\\frac{{\\partial \\omega }}{{\\partial T}}} \\right|_{{T_r},{P_r}}}$  \n",
    "\n",
    "and\n",
    "\n",
    "$\\int_{{P_r}}^P {{V_{T,P}}dP}  = f\\left( {T,\\theta ,{a_1},{a_2},{a_3},{a_4},T,P,{P_r}} \\right) - \\left( {{B_{T,P}} + 1} \\right){\\omega _{T,P}} + \\left( {{B_{T,{P_r}}} + 1} \\right){\\omega _{T,{P_r}}}$"
   ]
  },
  {
   "cell_type": "markdown",
   "metadata": {},
   "source": [
    "Add to the above parameters the reference state enthalpy, $H_{ref}$ and the reference state entropy, $S_{ref}$"
   ]
  },
  {
   "cell_type": "code",
   "execution_count": null,
   "metadata": {},
   "outputs": [],
   "source": [
    "Gref,Sref = sym.symbols('G_ref S_ref')"
   ]
  },
  {
   "cell_type": "markdown",
   "metadata": {},
   "source": [
    "##  Derive an expression for the Gibbs free energy"
   ]
  },
  {
   "cell_type": "code",
   "execution_count": null,
   "metadata": {},
   "outputs": [],
   "source": [
    "gtp = Gref - Sref*(T-Tr) - sym.integrate(sym.integrate((c1 + c2/(T-theta)**2)/T, (T,Tr,T)), (T,Tr,T)) \\\n",
    "    - (B(T,Pr)+1)*omega.subs(P,Pr) + (B(Tr,Pr)+1)*omega.subs(P,Pr).subs(T,Tr) \\\n",
    "    + Y(Tr,Pr)*(T-Tr)*omega.subs(P,Pr).subs(T,Tr) + (B(Tr,Pr)+1)*(T-Tr)*omega.diff(T).subs(P,Pr) \\\n",
    "    + sym.integrate(a1 + a2/(Psi+P) + (a3 + a4/(Psi+P))/(T-theta), (P,Pr,P)) - (1+B(T,P))*omega + (1+B(T,Pr))*omega.subs(P,Pr)\n",
    "gtp"
   ]
  },
  {
   "cell_type": "markdown",
   "metadata": {},
   "source": [
    "At the reference pressure, $\\omega$ is a constant, $\\omega_0$, and its derivatives are zero too."
   ]
  },
  {
   "cell_type": "code",
   "execution_count": null,
   "metadata": {},
   "outputs": [],
   "source": [
    "gtp = gtp.subs(omega.subs(T,Tr).subs(P,Pr), omega0)\n",
    "gtp = gtp.subs(omega.diff(T).subs(P,Pr),0)\n",
    "gtp"
   ]
  },
  {
   "cell_type": "markdown",
   "metadata": {},
   "source": [
    "Substitute the definition of the omega function into the expression for the Gibbs free energy"
   ]
  },
  {
   "cell_type": "code",
   "execution_count": null,
   "metadata": {},
   "outputs": [],
   "source": [
    "gtp = gtp.subs(omega,omega_def)\n",
    "gtp"
   ]
  },
  {
   "cell_type": "markdown",
   "metadata": {},
   "source": [
    "The \"charge\" contribution to the Gibbs free energy is "
   ]
  },
  {
   "cell_type": "code",
   "execution_count": null,
   "metadata": {},
   "outputs": [],
   "source": [
    "gtp-gtp.subs(z,0)"
   ]
  },
  {
   "cell_type": "markdown",
   "metadata": {},
   "source": [
    "Add the derived expression for *G(T,P)* and its parameter list to the model"
   ]
  },
  {
   "cell_type": "code",
   "execution_count": null,
   "metadata": {},
   "outputs": [],
   "source": [
    "params = [('G_ref','J',Gref), ('S_ref','J/K',Sref), \n",
    "          ('a1','J/bar-m',a1), ('a2','J/bar^2-m',a2), ('a3','J/bar-m',a3),  ('a4','J/bar^2-m',a4), \n",
    "          ('c1','J/K-m',c1), ('c2','J-K/m',c2), \n",
    "          ('Psi', 'bar', Psi), ('eta', 'Å-J/mole', eta), ('rH', 'Å', rH), ('omega0','J',omega0), \n",
    "          ('theta','K',theta), ('z', '', z)]\n",
    "model.add_expression_to_model(gtp, params)"
   ]
  },
  {
   "cell_type": "markdown",
   "metadata": {},
   "source": [
    "## Code Print the Model, compile the code and link a Python module\n",
    "Name the model class"
   ]
  },
  {
   "cell_type": "code",
   "execution_count": null,
   "metadata": {},
   "outputs": [],
   "source": [
    "model.set_module_name('hkf')\n",
    "model.set_include_born_code(True)"
   ]
  },
  {
   "cell_type": "markdown",
   "metadata": {},
   "source": [
    "Make a working sub-directory and move down into the directory.  This is done so that generated files will not clash between alternate model configurations."
   ]
  },
  {
   "cell_type": "code",
   "execution_count": null,
   "metadata": {},
   "outputs": [],
   "source": [
    "model_working_dir = \"aqueous\"\n",
    "!mkdir -p {model_working_dir}\n",
    "%cd {model_working_dir}"
   ]
  },
  {
   "cell_type": "markdown",
   "metadata": {},
   "source": [
    "Define a parameter dictionary for a specific aqueous species. Parameters from DEW."
   ]
  },
  {
   "cell_type": "code",
   "execution_count": null,
   "metadata": {},
   "outputs": [],
   "source": [
    "use_charged_species_example = True\n",
    "\n",
    "if use_charged_species_example:\n",
    "    species     = 'Na+'\n",
    "    formula     = 'Na(1)'\n",
    "    DEW_g       = -62591.0     #       cal/mol\n",
    "    DEW_h       = -57433.0     #       cal/mol\n",
    "    DEW_s       = 13.96        #       cal/mol/K\n",
    "    DEW_v       = -1.106808692 #       cm^3/mol\n",
    "    DEW_cp      = 9.076552599  #       cal/mol/K\n",
    "    DEW_omega   = 0.3306       # 10^-5 cal/mol\n",
    "    DEW_z       = 1.0          #       charge\n",
    "    DEW_a1      = 1.839        # 10    cal/mol/bar\n",
    "    DEW_a2      = -2.285       # 10^-2 cal/mol\n",
    "    DEW_a3      = 3.256        #       cal-K/mol/bar\n",
    "    DEW_a4      = -2.726       # 10^-4 cal-K/mol\n",
    "    DEW_c1      = 18.18        #       cal/mol/K\n",
    "    DEW_c2      = -2.981       # 10^-4 cal-K/mol\n",
    "    DEW_comment = \"Shock & Helgeson (1988)\"\n",
    "else:\n",
    "    species     = 'NaCl'\n",
    "    formula     = \"Na(1)Cl(1)\"\n",
    "    DEW_g       = -92910.0     #       cal/mol\n",
    "    DEW_h       = -96120.0     #       cal/mol\n",
    "    DEW_s       = 28.00        #       cal/mol/K\n",
    "    DEW_v       = 24.00006579  #       cm^3/mol\n",
    "    DEW_cp      = 8.508360325  #       cal/mol/K\n",
    "    DEW_omega   = -0.038       # 10^-5 cal/mol\n",
    "    DEW_z       = 0.0          #       charge\n",
    "    DEW_a1      = 5.0363       # 10    cal/mol/bar\n",
    "    DEW_a2      = 4.7365       # 10^-2 cal/mol\n",
    "    DEW_a3      = 3.4154       #       cal-K/mol/bar\n",
    "    DEW_a4      = -2.9748      # 10^-4 cal-K/mol\n",
    "    DEW_c1      = 10.8         #       cal/mol/K\n",
    "    DEW_c2      = -1.3         # 10^-4 cal-K/mol\n",
    "    DEW_comment = \"Shock & Helgeson (1988)\""
   ]
  },
  {
   "cell_type": "markdown",
   "metadata": {},
   "source": [
    "Scaling constants .."
   ]
  },
  {
   "cell_type": "code",
   "execution_count": null,
   "metadata": {},
   "outputs": [],
   "source": [
    "SCALEforOmega = 1.0e+5\n",
    "SCALEforA1    = 1.0e-1\n",
    "SCALEforA2    = 1.0e+2\n",
    "SCALEforA4    = 1.0e+4\n",
    "SCALEforC2    = 1.0e+4\n",
    "CALtoJOULES   = 4.184"
   ]
  },
  {
   "cell_type": "code",
   "execution_count": null,
   "metadata": {},
   "outputs": [],
   "source": [
    "param_dict = {'G_ref':DEW_g*CALtoJOULES, \n",
    "              'S_ref':DEW_s*CALtoJOULES, \n",
    "              'a1':DEW_a1*CALtoJOULES*SCALEforA1, \n",
    "              'a2':DEW_a2*CALtoJOULES*SCALEforA2, \n",
    "              'a3':DEW_a3*CALtoJOULES,  \n",
    "              'a4':DEW_a4*CALtoJOULES*SCALEforA4, \n",
    "              'c1':DEW_c1*CALtoJOULES, \n",
    "              'c2':DEW_c2*CALtoJOULES*SCALEforC2, \n",
    "              'omega0':DEW_omega*CALtoJOULES*SCALEforOmega, \n",
    "              'theta':228.0,\n",
    "              'Psi':2600.0,\n",
    "              'eta':1.66027e5*CALtoJOULES,\n",
    "              'rH':3.082,\n",
    "              'z':DEW_z,\n",
    "              'T_r':298.15,\n",
    "              'P_r':1.0\n",
    "             }\n",
    "phase_name = \"Na_1_cation\"\n",
    "param_dict"
   ]
  },
  {
   "cell_type": "markdown",
   "metadata": {},
   "source": [
    "Note that the call to\n",
    "```\n",
    "model.create_code_module(phase=phase_name, formula=formula, params=param_dict)\n",
    "```\n",
    "generates fast code with unmodifiable model parameters and \"calibration-\" related functions.  The call to:\n",
    "```\n",
    "model.create_code_module(phase=phase_name, formula=formula, params=param_dict, module_type='calib')\n",
    "```\n",
    "generates code suitable for model parameter calibration. "
   ]
  },
  {
   "cell_type": "code",
   "execution_count": null,
   "metadata": {},
   "outputs": [],
   "source": [
    "#result = model.create_code_module(phase=phase_name, formula=formula, params=param_dict)\n",
    "result = model.create_code_module(phase=phase_name, formula=formula, params=param_dict, module_type='calib')"
   ]
  },
  {
   "cell_type": "markdown",
   "metadata": {},
   "source": [
    "## Import the new module and test the model"
   ]
  },
  {
   "cell_type": "code",
   "execution_count": null,
   "metadata": {},
   "outputs": [],
   "source": [
    "import hkf\n",
    "%cd .."
   ]
  },
  {
   "cell_type": "markdown",
   "metadata": {},
   "source": [
    "Evaluate functions at temperature (K) and pressure (bars)"
   ]
  },
  {
   "cell_type": "code",
   "execution_count": null,
   "metadata": {},
   "outputs": [],
   "source": [
    "t = 1298.15\n",
    "p = 1001.0"
   ]
  },
  {
   "cell_type": "markdown",
   "metadata": {},
   "source": [
    "### Available in both \"Fast\" and \"Calib\" code versions \n",
    "Execute the \"fast\" or \"calibration\" code metadata retrieval functions:"
   ]
  },
  {
   "cell_type": "code",
   "execution_count": null,
   "metadata": {},
   "outputs": [],
   "source": [
    "try:\n",
    "    print(hkf.cy_Na_1_cation_hkf_identifier())\n",
    "    print(hkf.cy_Na_1_cation_hkf_name())\n",
    "    print(hkf.cy_Na_1_cation_hkf_formula())\n",
    "    print(hkf.cy_Na_1_cation_hkf_mw())\n",
    "    print(hkf.cy_Na_1_cation_hkf_elements())\n",
    "except AttributeError:\n",
    "    pass\n",
    "try:\n",
    "    print(hkf.cy_Na_1_cation_hkf_calib_identifier())\n",
    "    print(hkf.cy_Na_1_cation_hkf_calib_name())\n",
    "    print(hkf.cy_Na_1_cation_hkf_calib_formula())\n",
    "    print(hkf.cy_Na_1_cation_hkf_calib_mw())\n",
    "    print(hkf.cy_Na_1_cation_hkf_calib_elements())\n",
    "except AttributeError:\n",
    "    pass"
   ]
  },
  {
   "cell_type": "markdown",
   "metadata": {},
   "source": [
    "Execute the standard thermodynamic property retrieval functions:"
   ]
  },
  {
   "cell_type": "code",
   "execution_count": null,
   "metadata": {},
   "outputs": [],
   "source": [
    "fmt = \"{0:<10.10s} {1:13.6e} {2:<10.10s}\"\n",
    "try:\n",
    "    print(fmt.format('G', hkf.cy_Na_1_cation_hkf_g(t,p), 'J/m'))\n",
    "    print(fmt.format('dGdT', hkf.cy_Na_1_cation_hkf_dgdt(t,p), 'J/K-m'))\n",
    "    print(fmt.format('dGdP', hkf.cy_Na_1_cation_hkf_dgdp(t,p), 'J/bar-m'))\n",
    "    print(fmt.format('d2GdP2', hkf.cy_Na_1_cation_hkf_d2gdt2(t,p), 'J/K^2-m'))\n",
    "    print(fmt.format('d2GdTdP', hkf.cy_Na_1_cation_hkf_d2gdtdp(t,p), 'J/K-bar-m'))\n",
    "    print(fmt.format('d2GdP2', hkf.cy_Na_1_cation_hkf_d2gdp2(t,p), 'J/bar^2-m'))\n",
    "    print(fmt.format('d3GdT3', hkf.cy_Na_1_cation_hkf_d3gdt3(t,p), 'J/K^3-m'))\n",
    "    print(fmt.format('d3GdT2dP', hkf.cy_Na_1_cation_hkf_d3gdt2dp(t,p), 'J/K^2-bar-m'))\n",
    "    print(fmt.format('d3GdTdP2', hkf.cy_Na_1_cation_hkf_d3gdtdp2(t,p), 'J/K-bar^2-m'))\n",
    "    print(fmt.format('d3GdP3', hkf.cy_Na_1_cation_hkf_d3gdp3(t,p), 'J/bar^3-m'))\n",
    "    print(fmt.format('S', hkf.cy_Na_1_cation_hkf_s(t,p), 'J/K-m'))\n",
    "    print(fmt.format('V', hkf.cy_Na_1_cation_hkf_v(t,p), 'J/bar-m'))\n",
    "    print(fmt.format('Cv', hkf.cy_Na_1_cation_hkf_cv(t,p), 'J/K-m'))\n",
    "    print(fmt.format('Cp', hkf.cy_Na_1_cation_hkf_cp(t,p), 'J/K-m'))\n",
    "    print(fmt.format('dCpdT', hkf.cy_Na_1_cation_hkf_dcpdt(t,p), 'J/K^2-m'))\n",
    "    print(fmt.format('alpha', hkf.cy_Na_1_cation_hkf_alpha(t,p), '1/K'))\n",
    "    print(fmt.format('beta', hkf.cy_Na_1_cation_hkf_beta(t,p), '1/bar'))\n",
    "    print(fmt.format('K', hkf.cy_Na_1_cation_hkf_K(t,p), 'bar'))\n",
    "    print(fmt.format('Kp', hkf.cy_Na_1_cation_hkf_Kp(t,p), ''))\n",
    "except AttributeError:\n",
    "    pass\n",
    "try:\n",
    "    print(fmt.format('G', hkf.cy_Na_1_cation_hkf_calib_g(t,p), 'J/m'))\n",
    "    print(fmt.format('dGdT', hkf.cy_Na_1_cation_hkf_calib_dgdt(t,p), 'J/K-m'))\n",
    "    print(fmt.format('dGdP', hkf.cy_Na_1_cation_hkf_calib_dgdp(t,p), 'J/bar-m'))\n",
    "    print(fmt.format('d2GdP2', hkf.cy_Na_1_cation_hkf_calib_d2gdt2(t,p), 'J/K^2-m'))\n",
    "    print(fmt.format('d2GdTdP', hkf.cy_Na_1_cation_hkf_calib_d2gdtdp(t,p), 'J/K-bar-m'))\n",
    "    print(fmt.format('d2GdP2', hkf.cy_Na_1_cation_hkf_calib_d2gdp2(t,p), 'J/bar^2-m'))\n",
    "    print(fmt.format('d3GdT3', hkf.cy_Na_1_cation_hkf_calib_d3gdt3(t,p), 'J/K^3-m'))\n",
    "    print(fmt.format('d3GdT2dP', hkf.cy_Na_1_cation_hkf_calib_d3gdt2dp(t,p), 'J/K^2-bar-m'))\n",
    "    print(fmt.format('d3GdTdP2', hkf.cy_Na_1_cation_hkf_calib_d3gdtdp2(t,p), 'J/K-bar^2-m'))\n",
    "    print(fmt.format('d3GdP3', hkf.cy_Na_1_cation_hkf_calib_d3gdp3(t,p), 'J/bar^3-m'))\n",
    "    print(fmt.format('S', hkf.cy_Na_1_cation_hkf_calib_s(t,p), 'J/K-m'))\n",
    "    print(fmt.format('V', hkf.cy_Na_1_cation_hkf_calib_v(t,p), 'J/bar-m'))\n",
    "    print(fmt.format('Cv', hkf.cy_Na_1_cation_hkf_calib_cv(t,p), 'J/K-m'))\n",
    "    print(fmt.format('Cp', hkf.cy_Na_1_cation_hkf_calib_cp(t,p), 'J/K-m'))\n",
    "    print(fmt.format('dCpdT', hkf.cy_Na_1_cation_hkf_calib_dcpdt(t,p), 'J/K^2-m'))\n",
    "    print(fmt.format('alpha', hkf.cy_Na_1_cation_hkf_calib_alpha(t,p), '1/K'))\n",
    "    print(fmt.format('beta', hkf.cy_Na_1_cation_hkf_calib_beta(t,p), '1/bar'))\n",
    "    print(fmt.format('K', hkf.cy_Na_1_cation_hkf_calib_K(t,p), 'bar'))\n",
    "    print(fmt.format('Kp', hkf.cy_Na_1_cation_hkf_calib_Kp(t,p), ''))\n",
    "except AttributeError:\n",
    "    pass"
   ]
  },
  {
   "cell_type": "markdown",
   "metadata": {},
   "source": [
    "### Available only in the \"Calib\" versions of generated code\n",
    "Execute the parameter value/metadata functions.  \n",
    "These functions are only defined for the \"calibration\" model code implementation:"
   ]
  },
  {
   "cell_type": "code",
   "execution_count": null,
   "metadata": {},
   "outputs": [],
   "source": [
    "try:\n",
    "    np = hkf.cy_Na_1_cation_hkf_get_param_number()\n",
    "    names = hkf.cy_Na_1_cation_hkf_get_param_names()\n",
    "    units = hkf.cy_Na_1_cation_hkf_get_param_units()\n",
    "    values = hkf.cy_Na_1_cation_hkf_get_param_values()\n",
    "    fmt = \"{0:<10.10s} {1:13.6e} {2:13.6e} {3:<10.10s}\"\n",
    "    for i in range(0,np):\n",
    "        print(fmt.format(names[i], values[i], hkf.cy_Na_1_cation_hkf_get_param_value(i), units[i]))\n",
    "except AttributeError:\n",
    "    pass"
   ]
  },
  {
   "cell_type": "markdown",
   "metadata": {},
   "source": [
    "Test the functions that allow modification of the array of parameter values"
   ]
  },
  {
   "cell_type": "code",
   "execution_count": null,
   "metadata": {},
   "outputs": [],
   "source": [
    "try:\n",
    "    values[1] = 100.0\n",
    "    hkf.cy_Na_1_cation_hkf_set_param_values(values)\n",
    "    fmt = \"{0:<10.10s} {1:13.6e} {2:13.6e} {3:<10.10s}\"\n",
    "    for i in range(0,np):\n",
    "        print(fmt.format(names[i], values[i], hkf.cy_Na_1_cation_hkf_get_param_value(i), units[i]))\n",
    "except (AttributeError, NameError):\n",
    "    pass"
   ]
  },
  {
   "cell_type": "markdown",
   "metadata": {},
   "source": [
    "Test the functions that allow modification of a particular parameter value"
   ]
  },
  {
   "cell_type": "code",
   "execution_count": null,
   "metadata": {},
   "outputs": [],
   "source": [
    "try:\n",
    "    hkf.cy_Na_1_cation_hkf_set_param_value(1, 1.0)\n",
    "    fmt = \"{0:<10.10s} {1:13.6e} {2:13.6e} {3:<10.10s}\"\n",
    "    for i in range(0,np):\n",
    "        print(fmt.format(names[i], values[i], hkf.cy_Na_1_cation_hkf_get_param_value(i), units[i]))\n",
    "except AttributeError:\n",
    "    pass"
   ]
  },
  {
   "cell_type": "markdown",
   "metadata": {},
   "source": [
    "Evaluate parameter derivatives ..."
   ]
  },
  {
   "cell_type": "code",
   "execution_count": null,
   "metadata": {},
   "outputs": [],
   "source": [
    "try:\n",
    "    fmt = \"    {0:<10.10s} {1:13.6e}\"\n",
    "    for i in range(0, np):\n",
    "        print ('Derivative with respect to parameter: ', names[i], ' of')\n",
    "        print (fmt.format('G', hkf.cy_Na_1_cation_hkf_dparam_g(t, p, i)))\n",
    "        print (fmt.format('dGdT', hkf.cy_Na_1_cation_hkf_dparam_dgdt(t, p, i)))\n",
    "        print (fmt.format('dGdP', hkf.cy_Na_1_cation_hkf_dparam_dgdp(t, p, i)))\n",
    "        print (fmt.format('d2GdT2', hkf.cy_Na_1_cation_hkf_dparam_d2gdt2(t, p, i)))\n",
    "        print (fmt.format('d2GdTdP', hkf.cy_Na_1_cation_hkf_dparam_d2gdtdp(t, p, i)))\n",
    "        print (fmt.format('d2GdP2', hkf.cy_Na_1_cation_hkf_dparam_d2gdp2(t, p, i)))\n",
    "        print (fmt.format('d3GdT3', hkf.cy_Na_1_cation_hkf_dparam_d3gdt3(t, p, i)))\n",
    "        print (fmt.format('d3GdT2dP', hkf.cy_Na_1_cation_hkf_dparam_d3gdt2dp(t, p, i)))\n",
    "        print (fmt.format('d3GdTdP2', hkf.cy_Na_1_cation_hkf_dparam_d3gdtdp2(t, p, i)))\n",
    "        print (fmt.format('d3GdP3', hkf.cy_Na_1_cation_hkf_dparam_d3gdp3(t, p, i)))\n",
    "except (AttributeError, TypeError):\n",
    "    pass"
   ]
  },
  {
   "cell_type": "markdown",
   "metadata": {},
   "source": [
    "## Time execution of the code"
   ]
  },
  {
   "cell_type": "code",
   "execution_count": null,
   "metadata": {},
   "outputs": [],
   "source": [
    "try:\n",
    "    %timeit hkf.cy_Na_1_cation_hkf_calib_g(t,p) \n",
    "except AttributeError:\n",
    "    pass\n",
    "try:\n",
    "    %timeit hkf.cy_Na_1_cation_hkf_g(t,p) \n",
    "except AttributeError:\n",
    "    pass"
   ]
  },
  {
   "cell_type": "markdown",
   "metadata": {},
   "source": [
    "## Compare to Objective-C implementation of DEW model"
   ]
  },
  {
   "cell_type": "code",
   "execution_count": null,
   "metadata": {},
   "outputs": [],
   "source": [
    "from ctypes import cdll\n",
    "from ctypes import util\n",
    "from rubicon.objc import ObjCClass, objc_method\n",
    "cdll.LoadLibrary(util.find_library('phaseobjc'))"
   ]
  },
  {
   "cell_type": "code",
   "execution_count": null,
   "metadata": {},
   "outputs": [],
   "source": [
    "DEWFluid = ObjCClass('DEWFluid')\n",
    "obj = DEWFluid.alloc().init()\n",
    "if use_charged_species_example:\n",
    "    refModel = obj.endmembers.objectAtIndex_(25) # 25 is Na+\n",
    "else:\n",
    "    refModel = obj.endmembers.objectAtIndex_(24) # 24 is NaCl\n",
    "refModel.phaseName"
   ]
  },
  {
   "cell_type": "code",
   "execution_count": null,
   "metadata": {},
   "outputs": [],
   "source": [
    "t = 1298.15\n",
    "p = 5001.0"
   ]
  },
  {
   "cell_type": "code",
   "execution_count": null,
   "metadata": {},
   "outputs": [],
   "source": [
    "import math\n",
    "fmt = \"{0:<10.10s} {1:13.6e} {2:13.6e} {3:13.6e} {4:6.2f}%\"\n",
    "fmts = \"{0:<10.10s} {1:13.6e}\"\n",
    "try:\n",
    "    x = hkf.cy_Na_1_cation_hkf_g(t,p)\n",
    "    y = refModel.getGibbsFreeEnergyFromT_andP_(t,p)\n",
    "    print(fmt.format('G', x, y, x-y, 100.0*math.fabs((x-y)/y)))\n",
    "    x = hkf.cy_Na_1_cation_hkf_dgdt(t,p)\n",
    "    y = -refModel.getEntropyFromT_andP_(t,p)\n",
    "    print(fmt.format('dGdT', x, y, x-y, 100.0*math.fabs((x-y)/y)))\n",
    "    x = hkf.cy_Na_1_cation_hkf_dgdp(t,p)\n",
    "    y = refModel.getVolumeFromT_andP_(t,p)\n",
    "    print(fmt.format('dGdP', x, y, x-y, 100.0*math.fabs((x-y)/y))) \n",
    "    x = hkf.cy_Na_1_cation_hkf_d2gdt2(t,p)\n",
    "    print(fmts.format('d2GdT2', x))\n",
    "    x = hkf.cy_Na_1_cation_hkf_d2gdtdp(t,p)\n",
    "    y = refModel.getDvDtFromT_andP_(t,p)\n",
    "    print(fmt.format('d2GdTdP', x, y, x-y, 100.0*math.fabs((x-y)/y)))\n",
    "    x = hkf.cy_Na_1_cation_hkf_d2gdp2(t,p)\n",
    "    y = refModel.getDvDpFromT_andP_(t,p)\n",
    "    print(fmt.format('d2GdP2', x, y, x-y, 100.0*math.fabs((x-y)/y)))\n",
    "    x = hkf.cy_Na_1_cation_hkf_d3gdt3(t,p)\n",
    "    print(fmts.format('d3GdT3', x))\n",
    "    x = hkf.cy_Na_1_cation_hkf_d3gdt2dp(t,p)\n",
    "    y = refModel.getD2vDt2FromT_andP_(t,p)\n",
    "    print(fmt.format('d3GdT2dP', x, y, x-y, 100.0*math.fabs((x-y)/y)))\n",
    "    x = hkf.cy_Na_1_cation_hkf_d3gdtdp2(t,p)\n",
    "    y = refModel.getD2vDtDpFromT_andP_(t,p)\n",
    "    print(fmt.format('d3GdTdP2', x, y, x-y, 100.0*math.fabs((x-y)/y)))\n",
    "    x = hkf.cy_Na_1_cation_hkf_d3gdp3(t,p)\n",
    "    y = refModel.getD2vDp2FromT_andP_(t,p)\n",
    "    print(fmt.format('d3GdP3', x, y, x-y, 100.0*math.fabs((x-y)/y)))\n",
    "    x = hkf.cy_Na_1_cation_hkf_s(t,p)\n",
    "    y = refModel.getEntropyFromT_andP_(t,p)\n",
    "    print(fmt.format('S', x, y, x-y, 100.0*math.fabs((x-y)/y)))\n",
    "    x = hkf.cy_Na_1_cation_hkf_v(t,p)\n",
    "    y = refModel.getVolumeFromT_andP_(t,p)\n",
    "    print(fmt.format('V', x, y, x-y, 100.0*math.fabs((x-y)/y)))\n",
    "    x = hkf.cy_Na_1_cation_hkf_cv(t,p)\n",
    "    print(fmts.format('Cv', x))\n",
    "    x = hkf.cy_Na_1_cation_hkf_cp(t,p)\n",
    "    y = refModel.getHeatCapacityFromT_andP_(t,p)\n",
    "    print(fmt.format('Cp', x, y, x-y, 100.0*math.fabs((x-y)/y)))\n",
    "    x = hkf.cy_Na_1_cation_hkf_dcpdt(t,p)\n",
    "    y = refModel.getDcpDtFromT_andP_(t,p)\n",
    "    print(fmt.format('dCpdT', x, y, x-y, 100.0*math.fabs((x-y)/y)))\n",
    "    x = hkf.cy_Na_1_cation_hkf_alpha(t,p)\n",
    "    print(fmts.format('alpha', x))\n",
    "    x = hkf.cy_Na_1_cation_hkf_beta(t,p)\n",
    "    print(fmts.format('beta', x))\n",
    "    x = hkf.cy_Na_1_cation_hkf_K(t,p)\n",
    "    print(fmts.format('K', x))\n",
    "    x = hkf.cy_Na_1_cation_hkf_Kp(t,p)\n",
    "    print(fmts.format('Kp', x))\n",
    "except AttributeError:\n",
    "    pass\n",
    "try:\n",
    "    x = hkf.cy_Na_1_cation_hkf_calib_g(t,p)\n",
    "    y = refModel.getGibbsFreeEnergyFromT_andP_(t,p)\n",
    "    print(fmt.format('G', x, y, x-y, 100.0*math.fabs((x-y)/y)))\n",
    "    x = hkf.cy_Na_1_cation_hkf_calib_dgdt(t,p)\n",
    "    y = -refModel.getEntropyFromT_andP_(t,p)\n",
    "    print(fmt.format('dGdT', x, y, x-y, 100.0*math.fabs((x-y)/y)))\n",
    "    x = hkf.cy_Na_1_cation_hkf_calib_dgdp(t,p)\n",
    "    y = refModel.getVolumeFromT_andP_(t,p)\n",
    "    print(fmt.format('dGdP', x, y, x-y, 100.0*math.fabs((x-y)/y))) \n",
    "    x = hkf.cy_Na_1_cation_hkf_calib_d2gdt2(t,p)\n",
    "    print(fmts.format('d2GdT2', x))\n",
    "    x = hkf.cy_Na_1_cation_hkf_calib_d2gdtdp(t,p)\n",
    "    y = refModel.getDvDtFromT_andP_(t,p)\n",
    "    print(fmt.format('d2GdTdP', x, y, x-y, 100.0*math.fabs((x-y)/y)))\n",
    "    x = hkf.cy_Na_1_cation_hkf_calib_d2gdp2(t,p)\n",
    "    y = refModel.getDvDpFromT_andP_(t,p)\n",
    "    print(fmt.format('d2GdP2', x, y, x-y, 100.0*math.fabs((x-y)/y)))\n",
    "    x = hkf.cy_Na_1_cation_hkf_calib_d3gdt3(t,p)\n",
    "    print(fmts.format('d3GdT3', x))\n",
    "    x = hkf.cy_Na_1_cation_hkf_calib_d3gdt2dp(t,p)\n",
    "    y = refModel.getD2vDt2FromT_andP_(t,p)\n",
    "    print(fmt.format('d3GdT2dP', x, y, x-y, 100.0*math.fabs((x-y)/y)))\n",
    "    x = hkf.cy_Na_1_cation_hkf_calib_d3gdtdp2(t,p)\n",
    "    y = refModel.getD2vDtDpFromT_andP_(t,p)\n",
    "    print(fmt.format('d3GdTdP2', x, y, x-y, 100.0*math.fabs((x-y)/y)))\n",
    "    x = hkf.cy_Na_1_cation_hkf_calib_d3gdp3(t,p)\n",
    "    y = refModel.getD2vDp2FromT_andP_(t,p)\n",
    "    print(fmt.format('d3GdP3', x, y, x-y, 100.0*math.fabs((x-y)/y)))\n",
    "    x = hkf.cy_Na_1_cation_hkf_calib_s(t,p)\n",
    "    y = refModel.getEntropyFromT_andP_(t,p)\n",
    "    print(fmt.format('S', x, y, x-y, 100.0*math.fabs((x-y)/y)))\n",
    "    x = hkf.cy_Na_1_cation_hkf_calib_v(t,p)\n",
    "    y = refModel.getVolumeFromT_andP_(t,p)\n",
    "    print(fmt.format('V', x, y, x-y, 100.0*math.fabs((x-y)/y)))\n",
    "    x = hkf.cy_Na_1_cation_hkf_calib_cv(t,p)\n",
    "    print(fmts.format('Cv', x))\n",
    "    x = hkf.cy_Na_1_cation_hkf_calib_cp(t,p)\n",
    "    y = refModel.getHeatCapacityFromT_andP_(t,p)\n",
    "    print(fmt.format('Cp', x, y, x-y, 100.0*math.fabs((x-y)/y)))\n",
    "    x = hkf.cy_Na_1_cation_hkf_calib_dcpdt(t,p)\n",
    "    y = refModel.getDcpDtFromT_andP_(t,p)\n",
    "    print(fmt.format('dCpdT', x, y, x-y, 100.0*math.fabs((x-y)/y)))\n",
    "    x = hkf.cy_Na_1_cation_hkf_calib_alpha(t,p)\n",
    "    print(fmts.format('alpha', x))\n",
    "    x = hkf.cy_Na_1_cation_hkf_calib_beta(t,p)\n",
    "    print(fmts.format('beta', x))\n",
    "    x = hkf.cy_Na_1_cation_hkf_calib_K(t,p)\n",
    "    print(fmts.format('K', x))\n",
    "    x = hkf.cy_Na_1_cation_hkf_calib_Kp(t,p)\n",
    "    print(fmts.format('Kp', x))\n",
    "except AttributeError:\n",
    "    pass"
   ]
  },
  {
   "cell_type": "code",
   "execution_count": null,
   "metadata": {},
   "outputs": [],
   "source": []
  }
 ],
 "metadata": {
  "kernelspec": {
   "display_name": "Python 3 (ipykernel)",
   "language": "python",
   "name": "python3"
  },
  "language_info": {
   "codemirror_mode": {
    "name": "ipython",
    "version": 3
   },
   "file_extension": ".py",
   "mimetype": "text/x-python",
   "name": "python",
   "nbconvert_exporter": "python",
   "pygments_lexer": "ipython3",
   "version": "3.9.7"
  }
 },
 "nbformat": 4,
 "nbformat_minor": 4
}
