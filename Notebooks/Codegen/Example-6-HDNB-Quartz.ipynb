{
 "cells": [
  {
   "cell_type": "markdown",
   "metadata": {},
   "source": [
    "# Helgeson, Delany, Nesbitt and Bird Standard State Code Generator \n",
    "## Special case for Quartz\n",
    "\n",
    "Helgeson HC, Delany JM, Nesbitt HW, and Bird DK (1978) Summary and critique of the thermodynamic properties of rock-forming minerals, American Journal of Sciences, 278-A, 229pp\n",
    "\n",
    "This notebook generates code to calculate thermodynamic properties of the mineral quartz, which is treated as a special case in Helgeson et al. (1992). The general case for minerals and gasses is provided in [another notebook](HDNB.ipynb).  Code generation for teh properties of aqueous species is treated in yet [another notebook](HKF.ipynb).\n",
    "\n",
    "Required system packages and initialization"
   ]
  },
  {
   "cell_type": "code",
   "execution_count": null,
   "metadata": {},
   "outputs": [],
   "source": [
    "import pandas as pd\n",
    "import numpy as np\n",
    "import sympy as sym\n",
    "import pickle\n",
    "sym.init_printing()"
   ]
  },
  {
   "cell_type": "markdown",
   "metadata": {},
   "source": [
    "Required ENKI packages"
   ]
  },
  {
   "cell_type": "code",
   "execution_count": null,
   "metadata": {},
   "outputs": [],
   "source": [
    "from thermoengine import coder"
   ]
  },
  {
   "cell_type": "markdown",
   "metadata": {},
   "source": [
    "# Formulation\n",
    "There are three classes of terms:\n",
    "1. Terms that apply over the whole of $T$-, $P$-space, $T_r \\le T$, $P_r \\le P$\n",
    "2. Terms that apply over a specified range of $T$-, $P$-space, $(T_{r_\\lambda},P_{r_\\lambda}) \\le (T,P) \\le (T_\\lambda,P_\\lambda)$\n",
    "3. Terms that apply to a specific $T_t$ and $P_t$ and higher $T$, $P$, $T_t \\le T$, $P_t \\le P$\n",
    "\n",
    "### Helgeson et al. (1978) model structure\n",
    "The isobaric heat capacity is represented by a Maier-Kelley type expression, ${C_P} = a + bT + \\frac{c}{{{T^2}}}$. A phase transition is represented by a finite change in enthalpy and volume (and since the free energy change at the transition is zero, a dependent change in entropy) at some $T_t$. Above the transition temperature, which can be pressure dependent, a new heat capacity expression is used.  There can be up to three transitions for a single phase.  Gasses and most minerals do not undergo phase transition.  MOre than one phase transition is unusual."
   ]
  },
  {
   "cell_type": "markdown",
   "metadata": {},
   "source": [
    "Create a model class for the Gibbs free energy"
   ]
  },
  {
   "cell_type": "code",
   "execution_count": null,
   "metadata": {},
   "outputs": [],
   "source": [
    "model = coder.StdStateModel()"
   ]
  },
  {
   "cell_type": "markdown",
   "metadata": {},
   "source": [
    "Retrieve sympy symbols for model variables and reference conditions"
   ]
  },
  {
   "cell_type": "code",
   "execution_count": null,
   "metadata": {},
   "outputs": [],
   "source": [
    "T = model.get_symbol_for_t()\n",
    "P = model.get_symbol_for_p()\n",
    "Tr = model.get_symbol_for_tr()\n",
    "Pr = model.get_symbol_for_pr()"
   ]
  },
  {
   "cell_type": "markdown",
   "metadata": {},
   "source": [
    "- The isobaric heat capacity terms parameterized as: $C_P = a_0 + b_0 T + c_0 / T^2$\n",
    "- Third law entropy: $ S_{Tr,Pr} $\n",
    "- Enthalpy of formation from the elements, $ \\Delta H_{Tr,Pr} $\n",
    "- $T_t$ is the phase transition temperature\n",
    "- $\\Delta H_t$ is the transition enthalpy at $T_t$\n",
    "- $\\Delta V_t$ is the transition volume at $T_t$\n",
    "- ${\\left. {\\frac{{dP}}{{dT}}} \\right|_t}$ is the Clapyron slope of the phase transition at $T_t$.  Here the inverse is used in order to more easily parameterize the model\n",
    "- In this special case, the volume of quartz in the low symmetry polymorph is taken to be a function of both temperature and pressure (see Eq. 109 in Helgeson et al. (1978), page 83)"
   ]
  },
  {
   "cell_type": "code",
   "execution_count": null,
   "metadata": {},
   "outputs": [],
   "source": [
    "a0,b0,c0,a1,b1,c1 = sym.symbols('a0 b0 c0 a1 b1 c1')\n",
    "Tt = sym.symbols('Tt')\n",
    "DeltaH = sym.symbols('DeltaH')\n",
    "DeltaV = sym.symbols('DeltaV')\n",
    "dPdT = sym.symbols('dPdT')\n",
    "VTtPta = sym.symbols('VTtPta')\n",
    "dVdPa = sym.symbols('dVdPa')\n",
    "STrPr,GTrPr,VTrPr = sym.symbols('S_TrPr G_TrPr V_TrPr')"
   ]
  },
  {
   "cell_type": "markdown",
   "metadata": {},
   "source": [
    "Contributions applicable over the whole of *T*, *P* space ..."
   ]
  },
  {
   "cell_type": "code",
   "execution_count": null,
   "metadata": {},
   "outputs": [],
   "source": [
    "g = GTrPr - STrPr*(T-Tr)\n",
    "params = [('G_TrPr','J/m',GTrPr), ('S_TrPr','J/K-m',STrPr)]\n",
    "model.add_expression_to_model(g, params)"
   ]
  },
  {
   "cell_type": "markdown",
   "metadata": {},
   "source": [
    "Heat capacity contribution up to the $\\alpha$-$\\beta$ transition ..."
   ]
  },
  {
   "cell_type": "code",
   "execution_count": null,
   "metadata": {},
   "outputs": [],
   "source": [
    "Cp = a0+b0*T+c0/T**2\n",
    "g = sym.integrate(Cp,(T,Tr,T)) - T*sym.integrate(Cp/T,(T,Tr,T))\n",
    "params = [('a0','J/K-m',a0), ('b0','J/K^2-m',b0), ('c0','J-K/m',c0), ('Tt','K',Tt)]\n",
    "model.add_expression_to_model(g, params, exp_type='restricted', lower_limits=(None,None), upper_limits=(Tt,None))\n",
    "gAtTt = g.subs(T, Tt)"
   ]
  },
  {
   "cell_type": "markdown",
   "metadata": {},
   "source": [
    "Volume integral up to the $\\alpha$-$\\beta$ transition"
   ]
  },
  {
   "cell_type": "code",
   "execution_count": null,
   "metadata": {},
   "outputs": [],
   "source": [
    "a_alpha = Tt - Pr/dPdT - Tr\n",
    "b_alpha = VTtPta - VTrPr + dVdPa*Pr\n",
    "g = VTrPr*(P-Pr) - dVdPa*(2*Pr*(P-Pr)-(P*P-Pr*Pr))/2 - dVdPa*dPdT*(T-Tr)*(P-Pr) + dPdT*(b_alpha+a_alpha*dVdPa*dPdT)*(T-Tr)*(\n",
    "    sym.ln((a_alpha+P/dPdT)/(a_alpha+Pr/dPdT)))\n",
    "params = [('V_TrPr', 'J/bar-m', VTrPr), ('VTtPta','J/bar-m',VTtPta), ('dVdPa','J/bar^2-m',dVdPa), ('dPdT','bar/K',dPdT)]\n",
    "model.add_expression_to_model(g, params, exp_type='restricted', lower_limits=(None,None), upper_limits=(Tt,None))"
   ]
  },
  {
   "cell_type": "markdown",
   "metadata": {},
   "source": [
    "First order phase transition contribution at the $\\alpha$-$\\beta$ transition ..."
   ]
  },
  {
   "cell_type": "code",
   "execution_count": null,
   "metadata": {},
   "outputs": [],
   "source": [
    "g = -(T-Tt)*DeltaH/Tt\n",
    "params = [('DeltaH','J/m',DeltaH)]\n",
    "model.add_expression_to_model(g, params, exp_type='restricted', lower_limits=(Tt,None), upper_limits=(None,None))"
   ]
  },
  {
   "cell_type": "markdown",
   "metadata": {},
   "source": [
    "Volume integral above the $\\alpha$-$\\beta$ transition"
   ]
  },
  {
   "cell_type": "code",
   "execution_count": null,
   "metadata": {},
   "outputs": [],
   "source": [
    "Pt = Pr + dPdT*(T-Tt)\n",
    "dVdTa = (VTtPta-VTrPr-dVdPa*(Pt-Pr))/(Tt-Tr)\n",
    "g = VTrPr*(P-Pt) + (VTtPta+DeltaV)*(Pt-Pr) - dVdPa*(2*Pr*(P-Pt)-(P*P-Pt*Pt))/2 - dVdPa*dPdT*(T-Tr)*(P-Pt) + dPdT*(\n",
    "    b_alpha+a_alpha*dVdPa*dPdT)*(T-Tr)*(sym.ln((a_alpha+P/dPdT)/(a_alpha+Pt/dPdT)))\n",
    "params = [('DeltaV','J/bar-m',DeltaV)]\n",
    "model.add_expression_to_model(g, params, exp_type='restricted', lower_limits=(Tt,None), upper_limits=(None,None))"
   ]
  },
  {
   "cell_type": "markdown",
   "metadata": {},
   "source": [
    "Heat capacity contribution above the $\\alpha$-$\\beta$ transition ..."
   ]
  },
  {
   "cell_type": "code",
   "execution_count": null,
   "metadata": {},
   "outputs": [],
   "source": [
    "Cp = a1+b1*T+c1/T**2\n",
    "g = sym.integrate(Cp,(T,Tt,T)) - T*sym.integrate(Cp/T,(T,Tt,T))\n",
    "params = [('a1','J/K-m',a1), ('b1','J/K^2-m',b1), ('c1','J-K/m',c1)]\n",
    "model.add_expression_to_model(g+gAtTt, params, exp_type='restricted', lower_limits=(Tt,None), upper_limits=(None,None))"
   ]
  },
  {
   "cell_type": "markdown",
   "metadata": {},
   "source": [
    "## Code Print the Model, compile the code and link a Python module\n",
    "Name the model class"
   ]
  },
  {
   "cell_type": "code",
   "execution_count": null,
   "metadata": {},
   "outputs": [],
   "source": [
    "model.set_module_name('hdnb')"
   ]
  },
  {
   "cell_type": "markdown",
   "metadata": {},
   "source": [
    "### Retrieve a phase from the Helgeson et al. (1978) database ...\n",
    "Load a SLOP file, which consists of dictionaries of Pandas dataframes, and extract the parameters of a phase from the one of the dataframes.  "
   ]
  },
  {
   "cell_type": "code",
   "execution_count": null,
   "metadata": {},
   "outputs": [],
   "source": [
    "with open('slop16_v3_1.dict', 'rb') as pickle_file:\n",
    "    slop_d = pickle.load(pickle_file)"
   ]
  },
  {
   "cell_type": "markdown",
   "metadata": {},
   "source": [
    "Contents of the SLOP dictionary ..."
   ]
  },
  {
   "cell_type": "code",
   "execution_count": null,
   "metadata": {},
   "outputs": [],
   "source": [
    "for key in slop_d.keys():\n",
    "    print ('key:', key)"
   ]
  },
  {
   "cell_type": "markdown",
   "metadata": {},
   "source": [
    "Select the Pandas dataframe for minerals with a single phase transition and retrieve parameters for quartz ..."
   ]
  },
  {
   "cell_type": "code",
   "execution_count": null,
   "metadata": {},
   "outputs": [],
   "source": [
    "min_df = slop_d.get(\"mineral_one_transition\")\n",
    "labels = min_df.columns.tolist()\n",
    "content = min_df.loc[min_df['Name'] == 'Quartz'].get_values().tolist()[0]\n",
    "quartz = dict(zip(labels,content))\n",
    "for key in quartz.keys():\n",
    "    print (\"{0:<25.25s} {1:15.15s}\".format(key, quartz[key]))"
   ]
  },
  {
   "cell_type": "markdown",
   "metadata": {},
   "source": [
    "Load a parameter dictionary with SLOP values ..."
   ]
  },
  {
   "cell_type": "code",
   "execution_count": null,
   "metadata": {},
   "outputs": [],
   "source": [
    "calToJoules = 4.184\n",
    "param_dict = {\n",
    "    'S_TrPr':float(quartz['S (cal/K-m)'])*calToJoules,\n",
    "    'G_TrPr':float(quartz['deltaG (cal/m)'])*calToJoules,\n",
    "    'V_TrPr':float(quartz['V (cc/m)'])/10.0, # J/bar-m\n",
    "    'a0':float(quartz['a (cal/K-m)'])*calToJoules,\n",
    "    'b0':float(quartz['b (10^3 cal/K^2-m)'])*calToJoules/1000.0,\n",
    "    'c0':float(quartz['c (10^-5 cal-K/m)'])*calToJoules*100000.0,\n",
    "    'Tt':float(quartz['Tt1 (K)']),\n",
    "    'DeltaH':float(quartz['DeltaHt1 (cal/m)'])*calToJoules,\n",
    "    'DeltaV':float(quartz['deltaVt1 (cc/m)'])/10.0, # J/bar-m\n",
    "    'dPdT':float(quartz['dPdTt1 (bar/K)']),\n",
    "    'VTtPta': 23.348/10.0, # J/bar-m (from Helgeson et al., 1978)\n",
    "    'dVdPa':-4.973e-5/10.0,  # J/bar^2-m (from Helgeson et al., 1978)\n",
    "    'a1':float(quartz['at1 (cal/K-m)'])*calToJoules,\n",
    "    'b1':float(quartz['bt1 (10^3 cal/K^2-m)'])*calToJoules/1000.0,\n",
    "    'c1':float(quartz['ct1 (10^-5 cal-K/m)'])*calToJoules*100000.0,\n",
    "    'T_r':298.15,\n",
    "    'P_r':1.0\n",
    "}\n",
    "phase_name = quartz['Name']\n",
    "formula = quartz['Formula']"
   ]
  },
  {
   "cell_type": "markdown",
   "metadata": {},
   "source": [
    "Make a working sub-directory and move down into the directory.  This is done so that generated files will not clash between alternate model configurations."
   ]
  },
  {
   "cell_type": "code",
   "execution_count": null,
   "metadata": {},
   "outputs": [],
   "source": [
    "model_working_dir = \"hdnb\"\n",
    "!mkdir -p {model_working_dir}\n",
    "%cd {model_working_dir}"
   ]
  },
  {
   "cell_type": "markdown",
   "metadata": {},
   "source": [
    "Note that the call to\n",
    "```\n",
    "model.create_code_module(phase=phase_name, formula=formula, params=param_dict)\n",
    "```\n",
    "generates fast code with unmodifiable model parameters and \"calibration-\" related functions.  The call to:\n",
    "```\n",
    "model.create_code_module(phase=phase_name, formula=formula, params=param_dict, module_type='calib')\n",
    "```\n",
    "generates code suitable for model parameter calibration.  \n",
    "model_type is \"fast\" or \"calib\""
   ]
  },
  {
   "cell_type": "code",
   "execution_count": null,
   "metadata": {},
   "outputs": [],
   "source": [
    "model_type = \"fast\""
   ]
  },
  {
   "cell_type": "code",
   "execution_count": null,
   "metadata": {},
   "outputs": [],
   "source": [
    "result = model.create_code_module(phase=phase_name, formula=formula, params=param_dict, module_type=model_type)"
   ]
  },
  {
   "cell_type": "markdown",
   "metadata": {},
   "source": [
    "## Import the new module and test the model"
   ]
  },
  {
   "cell_type": "code",
   "execution_count": null,
   "metadata": {},
   "outputs": [],
   "source": [
    "import hdnb\n",
    "%cd .."
   ]
  },
  {
   "cell_type": "markdown",
   "metadata": {},
   "source": [
    "### Available in both \"Fast\" and \"Calib\" code versions \n",
    "Execute the \"fast\" or \"calibration\" code metadata retrieval functions:"
   ]
  },
  {
   "cell_type": "code",
   "execution_count": null,
   "metadata": {},
   "outputs": [],
   "source": [
    "try:\n",
    "    print(hdnb.cy_Quartz_hdnb_identifier())\n",
    "    print(hdnb.cy_Quartz_hdnb_name())\n",
    "    print(hdnb.cy_Quartz_hdnb_formula())\n",
    "    print(hdnb.cy_Quartz_hdnb_mw())\n",
    "    print(hdnb.cy_Quartz_hdnb_elements())\n",
    "except AttributeError:\n",
    "    pass\n",
    "try:\n",
    "    print(hdnb.cy_Quartz_hdnb_calib_identifier())\n",
    "    print(hdnb.cy_Quartz_hdnb_calib_name())\n",
    "    print(hdnb.cy_Quartz_hdnb_calib_formula())\n",
    "    print(hdnb.cy_Quartz_hdnb_calib_mw())\n",
    "    print(hdnb.cy_Quartz_hdnb_calib_elements())\n",
    "except AttributeError:\n",
    "    pass"
   ]
  },
  {
   "cell_type": "markdown",
   "metadata": {},
   "source": [
    "### Supcrt reference properties at 1000 K and 5000 bars  \n",
    "\n",
    "**Note**: These numbers are from SUPCRT92 (via CHINOSZ).  They are incorrect because Helgeson et al (1992) assumed that $P_{\\alpha-\\beta}$ is independent of $T$.  It is not. Helgeson et al. (1978) write (Eq 111):  \n",
    "\n",
    "$\\Delta G_{T,P}^o = \\Delta G_{T,{P_r}}^o + V_{\\alpha ,{P_r},{T_r}}^o\\left( {P - P*} \\right) + V_{\\beta ,{P_r},{T_r}}^o\\left( {P - P*} \\right) - \\frac{{{c_\\alpha }\\left[ {2{P_r}\\left( {P - P*} \\right) - \\left( {{P^2} - P{*^2}} \\right)} \\right]}}{2} - {c_\\alpha }k\\left( {T - {T_r}} \\right)\\left( {P - P*} \\right)$$ + k\\left( {{b_\\alpha } + {a_\\alpha }{c_\\alpha }k} \\right)\\left( {T - {T_r}} \\right)\\ln \\frac{{{a_\\alpha } + P/k}}{{{a_\\alpha } + P*/k}}$  \n",
    "\n",
    "where $P*$ is taken to be $P_r$ below the $\\alpha-\\beta$ phase transition and $P_{\\alpha-\\beta}$, where ${P_{\\alpha-\\beta}} = {P_r} + k\\left( {T - {T_r}} \\right)$, above the transition. In talking the temperature derivative of the above expression, Helgeson et al. (1978) assume that $P*$ is independent of $T$, e.g. their equations 110 and 114.  This eroneous assumption generates incorrect values for the temperature partial derivatives of the Gibbs free energy above the $\\alpha-\\beta$ transition.  Consequently, the entropy and heat capacity values calculated from SUPCRT92 are in error by about 2% and 8%, respectively."
   ]
  },
  {
   "cell_type": "code",
   "execution_count": null,
   "metadata": {},
   "outputs": [],
   "source": [
    "ref_properties = {\n",
    "    'Plow':{'T':1000.0, 'P':1.0, 'G':-218580.1, 'H':-206731.2, 'S':27.79857, 'V':23.72, 'Cp':16.35},\n",
    "    'Phigh':{'T':1000.0, 'P':5000.0, 'G':-215746, 'H':-203897.1, 'S':27.79857, 'V':23.72, 'Cp':16.35}\n",
    "}"
   ]
  },
  {
   "cell_type": "markdown",
   "metadata": {},
   "source": [
    "Evaluate functions at temperature (K) and pressure (bars)"
   ]
  },
  {
   "cell_type": "code",
   "execution_count": null,
   "metadata": {},
   "outputs": [],
   "source": [
    "test_case = 'Phigh'\n",
    "t = ref_properties[test_case]['T']\n",
    "p = ref_properties[test_case]['P']"
   ]
  },
  {
   "cell_type": "markdown",
   "metadata": {},
   "source": [
    "Execute the standard thermodynamic property retrieval functions:"
   ]
  },
  {
   "cell_type": "code",
   "execution_count": null,
   "metadata": {},
   "outputs": [],
   "source": [
    "fmt = \"{0:<10.10s} {1:13.6e} {2:<10.10s}\"\n",
    "fmc = \"{0:<10.10s} {1:13.6e} {2:13.6e} {3:10.3f} % {4:<10.10s}\"\n",
    "try:\n",
    "    print(fmc.format('G', hdnb.cy_Quartz_hdnb_g(t,p), \n",
    "                     ref_properties[test_case]['G']*4.184, \n",
    "                     100.0*(hdnb.cy_Quartz_hdnb_g(t,p)-ref_properties[test_case]['G']*4.184)/\n",
    "                     ((ref_properties[test_case]['G']*4.184) if ref_properties[test_case]['G'] != 0 else 1.0), \n",
    "                     'J/m'))\n",
    "    print(fmc.format('dGdT', hdnb.cy_Quartz_hdnb_dgdt(t,p), \n",
    "                     -ref_properties[test_case]['S']*4.184, \n",
    "                     100.0*(hdnb.cy_Quartz_hdnb_dgdt(t,p)+ref_properties[test_case]['S']*4.184)/(-ref_properties[test_case]['S']*4.184), \n",
    "                     'J/K-m'))\n",
    "    print(fmc.format('dGdP', hdnb.cy_Quartz_hdnb_dgdp(t,p), \n",
    "                     ref_properties[test_case]['V']/10.0, \n",
    "                     100.0*(hdnb.cy_Quartz_hdnb_dgdp(t,p)-ref_properties[test_case]['V']/10.0)/\n",
    "                     ((ref_properties[test_case]['V']/10.0) if ref_properties[test_case]['V'] != 0.0 else 1.0), \n",
    "                     'J/bar-m'))\n",
    "    print(fmc.format('d2GdT2', hdnb.cy_Quartz_hdnb_d2gdt2(t,p), \n",
    "                     -ref_properties[test_case]['Cp']*4.184/t, \n",
    "                     100.0*(hdnb.cy_Quartz_hdnb_d2gdt2(t,p)+ref_properties[test_case]['Cp']*4.184/t)/\n",
    "                     (ref_properties[test_case]['Cp']*4.184/t), \n",
    "                     'J/K^2-m'))\n",
    "    print(fmt.format('d2GdTdP', hdnb.cy_Quartz_hdnb_d2gdtdp(t,p), 'J/K-bar-m'))\n",
    "    print(fmt.format('d2GdP2', hdnb.cy_Quartz_hdnb_d2gdp2(t,p), 'J/bar^2-m'))\n",
    "    print(fmt.format('d3GdT3', hdnb.cy_Quartz_hdnb_d3gdt3(t,p), 'J/K^3-m'))\n",
    "    print(fmt.format('d3GdT2dP', hdnb.cy_Quartz_hdnb_d3gdt2dp(t,p), 'J/K^2-bar-m'))\n",
    "    print(fmt.format('d3GdTdP2', hdnb.cy_Quartz_hdnb_d3gdtdp2(t,p), 'J/K-bar^2-m'))\n",
    "    print(fmt.format('d3GdP3', hdnb.cy_Quartz_hdnb_d3gdp3(t,p), 'J/bar^3-m'))\n",
    "    print(fmc.format('S', hdnb.cy_Quartz_hdnb_s(t,p), \n",
    "                     ref_properties[test_case]['S']*4.184, \n",
    "                     100.0*(hdnb.cy_Quartz_hdnb_s(t,p)-ref_properties[test_case]['S']*4.184)/(ref_properties[test_case]['S']*4.184), \n",
    "                     'J/K-m'))\n",
    "    print(fmc.format('V', hdnb.cy_Quartz_hdnb_v(t,p), \n",
    "                     ref_properties[test_case]['V']/10.0, \n",
    "                     100.0*(hdnb.cy_Quartz_hdnb_dgdp(t,p)-ref_properties[test_case]['V']/10.0)/\n",
    "                     ((ref_properties[test_case]['V']/10.0) if ref_properties[test_case]['V'] != 0.0 else 1.0), \n",
    "                     'J/bar-m'))\n",
    "    print(fmt.format('Cv', hdnb.cy_Quartz_hdnb_cv(t,p), 'J/K-m'))\n",
    "    print(fmc.format('Cp', hdnb.cy_Quartz_hdnb_cp(t,p), \n",
    "                     ref_properties[test_case]['Cp']*4.184, \n",
    "                     100.0*(hdnb.cy_Quartz_hdnb_cp(t,p)-ref_properties[test_case]['Cp']*4.184)/(ref_properties[test_case]['Cp']*4.184), \n",
    "                     'J/K-m'))\n",
    "    print(fmt.format('dCpdT', hdnb.cy_Quartz_hdnb_dcpdt(t,p), 'J/K^2-m'))\n",
    "    print(fmt.format('alpha', hdnb.cy_Quartz_hdnb_alpha(t,p), '1/K'))\n",
    "    print(fmt.format('beta', hdnb.cy_Quartz_hdnb_beta(t,p), '1/bar'))\n",
    "    print(fmt.format('K', hdnb.cy_Quartz_hdnb_K(t,p), 'bar'))\n",
    "    print(fmt.format('Kp', hdnb.cy_Quartz_hdnb_Kp(t,p), ''))\n",
    "except AttributeError:\n",
    "    pass\n",
    "try:\n",
    "    print(fmt.format('G', hdnb.cy_Quartz_hdnb_calib_g(t,p), 'J/m'))\n",
    "    print(fmt.format('dGdT', hdnb.cy_Quartz_hdnb_calib_dgdt(t,p), 'J/K-m'))\n",
    "    print(fmt.format('dGdP', hdnb.cy_Quartz_hdnb_calib_dgdp(t,p), 'J/bar-m'))\n",
    "    print(fmt.format('d2GdP2', hdnb.cy_Quartz_hdnb_calib_d2gdt2(t,p), 'J/K^2-m'))\n",
    "    print(fmt.format('d2GdTdP', hdnb.cy_Quartz_hdnb_calib_d2gdtdp(t,p), 'J/K-bar-m'))\n",
    "    print(fmt.format('d2GdP2', hdnb.cy_Quartz_hdnb_calib_d2gdp2(t,p), 'J/bar^2-m'))\n",
    "    print(fmt.format('d3GdT3', hdnb.cy_Quartz_hdnb_calib_d3gdt3(t,p), 'J/K^3-m'))\n",
    "    print(fmt.format('d3GdT2dP', hdnb.cy_Quartz_hdnb_calib_d3gdt2dp(t,p), 'J/K^2-bar-m'))\n",
    "    print(fmt.format('d3GdTdP2', hdnb.cy_Quartz_hdnb_calib_d3gdtdp2(t,p), 'J/K-bar^2-m'))\n",
    "    print(fmt.format('d3GdP3', hdnb.cy_Quartz_hdnb_calib_d3gdp3(t,p), 'J/bar^3-m'))\n",
    "    print(fmt.format('S', hdnb.cy_Quartz_hdnb_calib_s(t,p), 'J/K-m'))\n",
    "    print(fmt.format('V', hdnb.cy_Quartz_hdnb_calib_v(t,p), 'J/bar-m'))\n",
    "    print(fmt.format('Cv', hdnb.cy_Quartz_hdnb_calib_cv(t,p), 'J/K-m'))\n",
    "    print(fmt.format('Cp', bhdnb.cy_Quartz_hdnb_calib_cp(t,p), 'J/K-m'))\n",
    "    print(fmt.format('dCpdT', hdnb.cy_Quartz_hdnb_calib_dcpdt(t,p), 'J/K^2-m'))\n",
    "    print(fmt.format('alpha', hdnb.cy_Quartz_hdnb_calib_alpha(t,p), '1/K'))\n",
    "    print(fmt.format('beta', hdnb.cy_Quartz_hdnb_calib_beta(t,p), '1/bar'))\n",
    "    print(fmt.format('K', hdnb.cy_Quartz_hdnb_calib_K(t,p), 'bar'))\n",
    "    print(fmt.format('Kp', hdnb.cy_Quartz_hdnb_calib_Kp(t,p), ''))\n",
    "except AttributeError:\n",
    "    pass"
   ]
  },
  {
   "cell_type": "markdown",
   "metadata": {},
   "source": [
    "### Available only in the \"Calib\" versions of generated code\n",
    "Execute the parameter value/metadata functions.  \n",
    "These functions are only defined for the \"calibration\" model code implementation:"
   ]
  },
  {
   "cell_type": "code",
   "execution_count": null,
   "metadata": {},
   "outputs": [],
   "source": [
    "try:\n",
    "    np = hdnb.cy_Quartz_hdnb_get_param_number()\n",
    "    names = hdnb.cy_Quartz_hdnb_get_param_names()\n",
    "    units = hdnb.cy_Quartz_hdnb_get_param_units()\n",
    "    values = hdnb.cy_Quartz_hdnb_get_param_values()\n",
    "    fmt = \"{0:<10.10s} {1:13.6e} {2:13.6e} {3:<10.10s}\"\n",
    "    for i in range(0,np):\n",
    "        print(fmt.format(names[i], values[i], hdnb.cy_Quartz_hdnb_get_param_value(i), units[i]))\n",
    "except AttributeError:\n",
    "    pass"
   ]
  },
  {
   "cell_type": "markdown",
   "metadata": {},
   "source": [
    "Test the functions that allow modification of the array of parameter values"
   ]
  },
  {
   "cell_type": "code",
   "execution_count": null,
   "metadata": {},
   "outputs": [],
   "source": [
    "try:\n",
    "    values[1] = 100.0\n",
    "    hdnb.cy_Quartz_hdnb_set_param_values(values)\n",
    "    fmt = \"{0:<10.10s} {1:13.6e} {2:13.6e} {3:<10.10s}\"\n",
    "    for i in range(0,np):\n",
    "        print(fmt.format(names[i], values[i], hdnb.cy_Quartz_hdnb_get_param_value(i), units[i]))\n",
    "except (AttributeError, NameError):\n",
    "    pass"
   ]
  },
  {
   "cell_type": "markdown",
   "metadata": {},
   "source": [
    "Test the functions that allow modification of a particular parameter value"
   ]
  },
  {
   "cell_type": "code",
   "execution_count": null,
   "metadata": {},
   "outputs": [],
   "source": [
    "try:\n",
    "    hdnb.cy_Quartz_hdnb_set_param_value(1, 1.0)\n",
    "    fmt = \"{0:<10.10s} {1:13.6e} {2:13.6e} {3:<10.10s}\"\n",
    "    for i in range(0,np):\n",
    "        print(fmt.format(names[i], values[i], hdnb.cy_Quartz_hdnb_get_param_value(i), units[i]))\n",
    "except AttributeError:\n",
    "    pass"
   ]
  },
  {
   "cell_type": "markdown",
   "metadata": {},
   "source": [
    "Evaluate parameter derivatives ..."
   ]
  },
  {
   "cell_type": "code",
   "execution_count": null,
   "metadata": {},
   "outputs": [],
   "source": [
    "try:\n",
    "    fmt = \"    {0:<10.10s} {1:13.6e}\"\n",
    "    for i in range(0, np):\n",
    "        print ('Derivative with respect to parameter: ', names[i], ' of')\n",
    "        print (fmt.format('G', hdnb.cy_Quartz_hdnb_dparam_g(t, p, i)))\n",
    "        print (fmt.format('dGdT', hdnb.cy_Quartz_hdnb_dparam_dgdt(t, p, i)))\n",
    "        print (fmt.format('dGdP', hdnb.cy_Quartz_hdnb_dparam_dgdp(t, p, i)))\n",
    "        print (fmt.format('d2GdT2', hdnb.cy_Quartz_hdnb_dparam_d2gdt2(t, p, i)))\n",
    "        print (fmt.format('d2GdTdP', hdnb.cy_Quartz_hdnb_dparam_d2gdtdp(t, p, i)))\n",
    "        print (fmt.format('d2GdP2', hdnb.cy_Quartz_hdnb_dparam_d2gdp2(t, p, i)))\n",
    "        print (fmt.format('d3GdT3', hdnb.cy_Quartz_hdnb_dparam_d3gdt3(t, p, i)))\n",
    "        print (fmt.format('d3GdT2dP', hdnb.cy_Quartz_hdnb_dparam_d3gdt2dp(t, p, i)))\n",
    "        print (fmt.format('d3GdTdP2', hdnb.cy_Quartz_hdnb_dparam_d3gdtdp2(t, p, i)))\n",
    "        print (fmt.format('d3GdP3', hdnb.cy_Quartz_hdnb_dparam_d3gdp3(t, p, i)))\n",
    "except (AttributeError, TypeError):\n",
    "    pass"
   ]
  },
  {
   "cell_type": "markdown",
   "metadata": {},
   "source": [
    "## Time execution of the code"
   ]
  },
  {
   "cell_type": "code",
   "execution_count": null,
   "metadata": {},
   "outputs": [],
   "source": [
    "try:\n",
    "    %timeit hdnb.cy_Quartz_hdnb_calib_g(t,p)\n",
    "except AttributeError:\n",
    "    pass\n",
    "try:\n",
    "    %timeit hdnb.cy_Quartz_hdnb_g(t,p)\n",
    "except AttributeError:\n",
    "    pass"
   ]
  },
  {
   "cell_type": "code",
   "execution_count": null,
   "metadata": {},
   "outputs": [],
   "source": []
  }
 ],
 "metadata": {
  "kernelspec": {
   "display_name": "Python 3",
   "language": "python",
   "name": "python3"
  },
  "language_info": {
   "codemirror_mode": {
    "name": "ipython",
    "version": 3
   },
   "file_extension": ".py",
   "mimetype": "text/x-python",
   "name": "python",
   "nbconvert_exporter": "python",
   "pygments_lexer": "ipython3",
   "version": "3.7.3"
  }
 },
 "nbformat": 4,
 "nbformat_minor": 4
}
