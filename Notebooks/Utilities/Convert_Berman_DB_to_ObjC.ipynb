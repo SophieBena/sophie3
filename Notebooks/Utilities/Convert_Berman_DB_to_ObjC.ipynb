{
 "cells": [
  {
   "cell_type": "code",
   "execution_count": null,
   "metadata": {},
   "outputs": [],
   "source": [
    "import mysql.connector"
   ]
  },
  {
   "cell_type": "code",
   "execution_count": null,
   "metadata": {},
   "outputs": [],
   "source": [
    "cnx = mysql.connector.connect(user='webauthor', password='xxxxxx',\n",
    "                              host='public.ofm-research.org',\n",
    "                              database='berman')"
   ]
  },
  {
   "cell_type": "markdown",
   "metadata": {},
   "source": [
    "Objective-C header and class generation code"
   ]
  },
  {
   "cell_type": "code",
   "execution_count": null,
   "metadata": {},
   "outputs": [],
   "source": [
    "query = (\"SELECT p.name, p.formula, r.h, r.s, r.v, Cp.k0, Cp.k1, Cp.k2, Cp.k3, Vtp.v1, Vtp.v2, Vtp.v3, Vtp.v4 \"\n",
    "         \"FROM Phases p, Reference r, Cp, Vtp \"\n",
    "         \"WHERE p.index = r.index AND p.index = cp.index AND p.index = Vtp.index\")\n",
    "cursor = cnx.cursor()\n",
    "cursor.execute(query)"
   ]
  },
  {
   "cell_type": "code",
   "execution_count": null,
   "metadata": {},
   "outputs": [],
   "source": [
    "for name,formula,h,s,v,k0,k1,k2,k3,v1,v2,v3,v4 in cursor:\n",
    "    print (\"@interface \" + name.title() + \"Berman\" + \": BermanProperties { }\")\n",
    "    print (\"@end\")\n",
    "    print ()"
   ]
  },
  {
   "cell_type": "code",
   "execution_count": null,
   "metadata": {},
   "outputs": [],
   "source": [
    "for name,formula,h,s,v,k0,k1,k2,k3,v1,v2,v3,v4 in cursor:\n",
    "    modForm = formula.title().replace(\"(1)\",\"\").replace(\"(\", \"\").replace(\")\",\"\")\n",
    "    print (\"@implementation \" + name.title() + \"Berman\")\n",
    "    print ()\n",
    "    print (\"-(id)init {\")\n",
    "    print (\"    if ((self = [super initWithH:\" + str(h))\n",
    "    print (\"                               S:\" + str(s))\n",
    "    print (\"                              k0:\" + str(k0))\n",
    "    print (\"                              k1:\" + str(k1))\n",
    "    print (\"                              k2:\" + str(k2))\n",
    "    print (\"                              k3:\" + str(k3))\n",
    "    print (\"                              v0:\" + str(v))\n",
    "    print (\"                              v1:\" + str(v3))\n",
    "    print (\"                              v2:\" + str(v4))\n",
    "    print (\"                              v3:\" + str(v1))\n",
    "    print (\"                              v4:\" + str(v2) + \"])) {\")\n",
    "    print (\"    [self setPhaseFormula:@\" + '\"' + modForm + '\"' + \"];\")\n",
    "    print (\"    [self setPhaseName:@\" + '\"' + name.title() + '\"' + \"];\")\n",
    "    print (\"    }\")\n",
    "    print (\"    return self;\")\n",
    "    print (\"}\")\n",
    "    print ()\n",
    "    print (\"@end\")\n",
    "    print ()"
   ]
  },
  {
   "cell_type": "markdown",
   "metadata": {},
   "source": [
    "Pandas dataframe generation code"
   ]
  },
  {
   "cell_type": "code",
   "execution_count": null,
   "metadata": {},
   "outputs": [],
   "source": [
    "query = (\"SELECT p.name AS Phase, p.formula AS Formula, p.short_abbrv AS sAbbrev, p.long_abbrv AS lAbbrev, \"\n",
    "         \"r.h AS H_TrPr, r.s AS S_TrPr, r.v AS V_TrPr, \"\n",
    "         \"Cp.k0, Cp.k1, Cp.k2, Cp.k3, Cp.k4, Cp.k5, Cp.k6, \"\n",
    "         \"t.Tt AS T_lambda_Pr, T.Tr AS T_lambda_ref, t.l1, t.l2, t.Ht AS H_t, t.dTdP as k_lambda, \"\n",
    "         \"Vtp.v3 as v1, Vtp.v4 as v2, Vtp.v1 as v3, Vtp.v2 as v4, \"\n",
    "         \"d.d0 as d0, d.d1 as d1, d.d2 as d2, d.d4 as d3, d.d5 as d4, d.d6 as d5, d.Tmin AS T_D_ref, d.Tmax AS T_D \"\n",
    "         \"FROM Phases p \"\n",
    "         \"LEFT JOIN Reference r on p.index = r.index \"\n",
    "         \"LEFT JOIN Cp on p.index = cp.index \"\n",
    "         \"LEFT JOIN Vtp on p.index = Vtp.index \"\n",
    "         \"LEFT JOIN Transition t ON p.index = t.index \"\n",
    "         \"LEFT JOIN Disorder d ON p.index = d.index\")\n",
    "cursor = cnx.cursor()\n",
    "cursor.execute(query)"
   ]
  },
  {
   "cell_type": "code",
   "execution_count": null,
   "metadata": {},
   "outputs": [],
   "source": [
    "import pandas as pd\n",
    "berman_df = pd.DataFrame(cursor.fetchall())\n",
    "berman_df.columns = cursor.column_names"
   ]
  },
  {
   "cell_type": "code",
   "execution_count": null,
   "metadata": {},
   "outputs": [],
   "source": [
    "print(berman_df.shape)"
   ]
  },
  {
   "cell_type": "code",
   "execution_count": null,
   "metadata": {},
   "outputs": [],
   "source": [
    "berman_df.to_json('berman_1988.json')"
   ]
  },
  {
   "cell_type": "code",
   "execution_count": null,
   "metadata": {},
   "outputs": [],
   "source": []
  }
 ],
 "metadata": {
  "anaconda-cloud": {},
  "kernelspec": {
   "display_name": "Python [conda env:python36]",
   "language": "python",
   "name": "conda-env-python36-py"
  },
  "language_info": {
   "codemirror_mode": {
    "name": "ipython",
    "version": 3
   },
   "file_extension": ".py",
   "mimetype": "text/x-python",
   "name": "python",
   "nbconvert_exporter": "python",
   "pygments_lexer": "ipython3",
   "version": "3.6.4"
  }
 },
 "nbformat": 4,
 "nbformat_minor": 2
}
