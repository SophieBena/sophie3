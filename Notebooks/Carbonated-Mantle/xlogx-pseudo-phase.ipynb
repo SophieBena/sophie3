{
 "cells": [
  {
   "cell_type": "markdown",
   "metadata": {},
   "source": [
    "# Stixrude-Lithgow-Bertelloni pseudo-omnicomponent phase generation\n",
    "Required Python packages/modules"
   ]
  },
  {
   "cell_type": "code",
   "execution_count": null,
   "metadata": {},
   "outputs": [],
   "source": [
    "import numpy as np\n",
    "from os import path\n",
    "import pandas as pd\n",
    "import scipy.optimize as opt\n",
    "import scipy.linalg as lin \n",
    "import scipy as sci\n",
    "import sys\n",
    "import sympy as sym\n",
    "\n",
    "import matplotlib.pyplot as plt"
   ]
  },
  {
   "cell_type": "markdown",
   "metadata": {},
   "source": [
    "Required ENKI modules (ignore the error message from Rubicon running under Python 3.6+)"
   ]
  },
  {
   "cell_type": "code",
   "execution_count": null,
   "metadata": {},
   "outputs": [],
   "source": [
    "from thermoengine import coder, core, phases, model, equilibrate"
   ]
  },
  {
   "cell_type": "markdown",
   "metadata": {},
   "source": [
    "### T,P, parameters and options for pseudo-phase generation"
   ]
  },
  {
   "cell_type": "code",
   "execution_count": null,
   "metadata": {},
   "outputs": [],
   "source": [
    "T = 1300.0                  # K\n",
    "P = 20000.0                 # bars\n",
    "# T = 1500.0                  # K\n",
    "# P = 40000.0                 # bars\n",
    "test_endmember_code = False # output tests to validate solution endmember code generation\n",
    "test_solution_code = False  # output tests to validate solution code generation\n",
    "offset_value = 0.0          # Offset penality (in J) to destabilize pseudo-omnicomponent phase 4000\n",
    "use_oxides_as_basis = False # Construct the pseudo-phase using oxides as components (False == elements)"
   ]
  },
  {
   "cell_type": "code",
   "execution_count": null,
   "metadata": {},
   "outputs": [],
   "source": []
  },
  {
   "cell_type": "code",
   "execution_count": null,
   "metadata": {},
   "outputs": [],
   "source": [
    "modelDB = model.Database(database='Berman')\n",
    "phases = modelDB.phases\n",
    "phases.pop('Liq');\n",
    "# ADD extra phases (e.g. carbonates as needed here)\n",
    "phases.keys()"
   ]
  },
  {
   "cell_type": "code",
   "execution_count": null,
   "metadata": {},
   "outputs": [],
   "source": [
    "modelDB = model.Database(database='Stixrude')\n",
    "phases = modelDB.phases\n",
    "phases.pop('Liq');\n",
    "phases.pop('H2O');\n",
    "# ADD extra phases (e.g. carbonates as needed here)\n",
    "phases.keys()"
   ]
  },
  {
   "cell_type": "code",
   "execution_count": null,
   "metadata": {},
   "outputs": [],
   "source": []
  },
  {
   "cell_type": "code",
   "execution_count": null,
   "metadata": {},
   "outputs": [],
   "source": [
    "def system_energy_landscape(T, P, phases, TOL=1e-3):\n",
    "    elem_comps = []\n",
    "    phs_sym = []\n",
    "    endmem_ids = []\n",
    "    mu = []\n",
    "    for phsnm in phases:\n",
    "        phs = phases[phsnm]\n",
    "        \n",
    "        elem_comp = phs.props['element_comp']\n",
    "        abbrev = phs.abbrev\n",
    "        endmem_num = phs.endmember_num\n",
    "        iendmem_ids = list(np.arange(endmem_num))\n",
    "        \n",
    "        if phs.phase_type=='pure':\n",
    "            nelem = np.sum(elem_comp)\n",
    "            mu += [phs.gibbs_energy(T, P)/nelem]\n",
    "            # print(nelem)\n",
    "        else:\n",
    "            nelem = np.sum(elem_comp,axis=1)\n",
    "            # print(nelem)\n",
    "            for i in iendmem_ids:\n",
    "                imol = np.eye(phs.endmember_num)[i]\n",
    "                mu += [phs.gibbs_energy(T, P, mol=imol,deriv={\"dmol\":1})[0,i]/nelem[i]]\n",
    "                # print(nelem[i])\n",
    "                \n",
    "        endmem_ids.extend(iendmem_ids)\n",
    "        phs_sym.extend(list(np.tile(abbrev,endmem_num)))\n",
    "        # print(elem_comp)\n",
    "        \n",
    "        elem_comps.extend(elem_comp)\n",
    "        # print(elem_comp)\n",
    "        # print(phs)\n",
    "        \n",
    "    elem_comps = np.vstack(elem_comps)\n",
    "    \n",
    "    natoms = np.sum(elem_comps,axis=1)\n",
    "    elem_comps = elem_comps/natoms[:,np.newaxis]\n",
    "    \n",
    "    elem_mask = ~np.all(elem_comps<TOL, axis=0)\n",
    "    \n",
    "    elem_comps = elem_comps[:, elem_mask]\n",
    "    mu = np.array(mu)\n",
    "    endmem_ids = np.array(endmem_ids)\n",
    "    \n",
    "    sys_elems = core.chem.PERIODIC_ORDER[elem_mask]\n",
    "    return phs_sym, endmem_ids, mu, elem_comps, sys_elems\n",
    "\n",
    "def prune_polymorphs(phs_sym, endmem_ids, mu, elem_comps, decimals=4):\n",
    "    elem_round_comps = np.round(elem_comps, decimals=decimals)\n",
    "        # Drop identical comps\n",
    "    elem_comps_uniq = np.unique(elem_round_comps, axis=0)\n",
    "    \n",
    "    # uniq_num = elem_comps_uniq.shape[0]\n",
    "    mu_uniq = []\n",
    "    phs_sym_uniq = []\n",
    "    endmem_ids_uniq = []\n",
    "    for elem_comp in elem_comps_uniq:\n",
    "        is_equiv_comp = np.all(elem_round_comps == elem_comp[np.newaxis,:], axis=1)\n",
    "        equiv_ind = np.where(is_equiv_comp)[0]\n",
    "        min_ind = equiv_ind[np.argsort(mu[equiv_ind])[0]]\n",
    "        min_mu = mu[min_ind]\n",
    "        assert np.all(min_mu <= mu[equiv_ind]), 'fail'\n",
    "        \n",
    "        mu_uniq.append(min_mu)\n",
    "        phs_sym_uniq.append(phs_sym[min_ind])\n",
    "        endmem_ids_uniq.append(endmem_ids[min_ind])\n",
    "        \n",
    "    mu_uniq = np.array(mu_uniq)\n",
    "    \n",
    "    return phs_sym_uniq, endmem_ids_uniq, mu_uniq, elem_comps_uniq\n",
    "\n"
   ]
  },
  {
   "cell_type": "code",
   "execution_count": null,
   "metadata": {},
   "outputs": [],
   "source": []
  },
  {
   "cell_type": "code",
   "execution_count": null,
   "metadata": {},
   "outputs": [],
   "source": []
  },
  {
   "cell_type": "code",
   "execution_count": null,
   "metadata": {},
   "outputs": [],
   "source": [
    "\n"
   ]
  },
  {
   "cell_type": "code",
   "execution_count": null,
   "metadata": {},
   "outputs": [],
   "source": []
  },
  {
   "cell_type": "code",
   "execution_count": null,
   "metadata": {},
   "outputs": [],
   "source": [
    "\n",
    "phs_sym, endmem_ids, mu, elem_comps, sys_elems = system_energy_landscape(T, P, phases)\n",
    "# display(phs_sym, endmem_ids, mu, elem_comps, sys_elems)\n",
    "phs_sym_uniq, endmem_ids_uniq, mu_uniq, elem_comps_uniq = (\n",
    "    prune_polymorphs(phs_sym, endmem_ids, mu, elem_comps))\n",
    "\n",
    "min_mu_ind = np.argmin(mu_uniq)\n",
    "\n",
    "print(sys_elems)\n",
    "print(len(phs_sym))\n",
    "print(phs_sym[min_mu_ind])\n",
    "Nelems = len(sys_elems)\n",
    "Npts = mu_uniq.size\n",
    "print(Npts)"
   ]
  },
  {
   "cell_type": "code",
   "execution_count": null,
   "metadata": {},
   "outputs": [],
   "source": []
  },
  {
   "cell_type": "code",
   "execution_count": null,
   "metadata": {},
   "outputs": [],
   "source": []
  },
  {
   "cell_type": "code",
   "execution_count": null,
   "metadata": {},
   "outputs": [],
   "source": []
  },
  {
   "cell_type": "code",
   "execution_count": null,
   "metadata": {},
   "outputs": [],
   "source": []
  },
  {
   "cell_type": "code",
   "execution_count": null,
   "metadata": {},
   "outputs": [],
   "source": [
    "def calc_eig_comps(elem_comps_uniq):\n",
    "    avg_comp = np.mean(elem_comps_uniq, axis=0)\n",
    "    comp_dev = elem_comps_uniq-avg_comp\n",
    "    \n",
    "    # u,s,vh = np.linalg.svd(comp_dev[:,:-1])\n",
    "    # comp_eig = np.dot(comp_dev[:,:-1], vh.T)\n",
    "    \n",
    "    u,s,vh = np.linalg.svd(comp_dev)\n",
    "    comp_eig = np.dot(comp_dev, vh.T)\n",
    "    \n",
    "    # print(s)\n",
    "    return comp_eig, comp_dev, avg_comp, s, vh\n",
    "\n"
   ]
  },
  {
   "cell_type": "code",
   "execution_count": null,
   "metadata": {},
   "outputs": [],
   "source": []
  },
  {
   "cell_type": "code",
   "execution_count": null,
   "metadata": {},
   "outputs": [],
   "source": [
    "# elem_comps_all = np.vstack((elem_comps_uniq, comp_midpts))\n",
    "# mu_all = np.hstack((mu_uniq, mu_midpts))\n",
    "\n",
    "\n",
    "elem_comps_all = elem_comps_uniq\n",
    "mu_all = mu_uniq\n",
    "\n",
    "\n",
    "# comp_midpts=None\n",
    "# mu_midpts=None\n",
    "# elem_comps_all = np.vstack((elem_comps_uniq, comp_midpts))\n",
    "# mu_all = np.hstack((mu_uniq, mu_midpts))\n"
   ]
  },
  {
   "cell_type": "code",
   "execution_count": null,
   "metadata": {},
   "outputs": [],
   "source": [
    "elem_comps_all.shape"
   ]
  },
  {
   "cell_type": "code",
   "execution_count": null,
   "metadata": {},
   "outputs": [],
   "source": []
  },
  {
   "cell_type": "code",
   "execution_count": null,
   "metadata": {},
   "outputs": [],
   "source": [
    "ind_rows, ind_cols = np.tril_indices(Nelems,-1)\n",
    "cross_term_inds = np.vstack((ind_rows,ind_cols))\n",
    "cross_term_inds"
   ]
  },
  {
   "cell_type": "code",
   "execution_count": null,
   "metadata": {},
   "outputs": [],
   "source": [
    "XiXj = elem_comps_all[:, cross_term_inds[0]]*elem_comps_all[:, cross_term_inds[1]]\n",
    "X2_sum = np.sum(XiXj,axis=1)\n",
    "X2_sum.shape"
   ]
  },
  {
   "cell_type": "code",
   "execution_count": null,
   "metadata": {},
   "outputs": [],
   "source": [
    "# (np.sum(XiXj>0, axis=1)).shape\n",
    "XiXj.shape"
   ]
  },
  {
   "cell_type": "code",
   "execution_count": null,
   "metadata": {},
   "outputs": [],
   "source": []
  },
  {
   "cell_type": "code",
   "execution_count": null,
   "metadata": {},
   "outputs": [],
   "source": []
  },
  {
   "cell_type": "code",
   "execution_count": null,
   "metadata": {},
   "outputs": [],
   "source": []
  },
  {
   "cell_type": "code",
   "execution_count": null,
   "metadata": {},
   "outputs": [],
   "source": [
    "XlogX = elem_comps_all*np.log(elem_comps_all)\n",
    "XlogX[elem_comps_all==0] = 0\n",
    "XlogX_sum = np.sum(XlogX,axis=1)\n",
    "XlogX_sum"
   ]
  },
  {
   "cell_type": "code",
   "execution_count": null,
   "metadata": {},
   "outputs": [],
   "source": [
    "plt.figure()\n",
    "plt.plot(XlogX_sum, 'ro')\n",
    "plt.plot(-3.5*X2_sum, 'kx')\n",
    "\n",
    "x = np.linspace(-1.5,0, 10)\n",
    "plt.figure()\n",
    "plt.plot(XlogX_sum, -3.5*X2_sum, 'ro')\n",
    "plt.plot(x,x, 'k--')"
   ]
  },
  {
   "cell_type": "code",
   "execution_count": null,
   "metadata": {},
   "outputs": [],
   "source": [
    "# %%timeit\n",
    "# comp_eig, comp_dev, avg_comp, s, vh = calc_eig_comps(elem_comps_uniq)\n",
    "comp_eig, comp_dev, avg_comp, s, vh = calc_eig_comps(elem_comps_all)"
   ]
  },
  {
   "cell_type": "code",
   "execution_count": null,
   "metadata": {},
   "outputs": [],
   "source": [
    "plt.figure()\n",
    "plt.plot(s,'ko')"
   ]
  },
  {
   "cell_type": "code",
   "execution_count": null,
   "metadata": {},
   "outputs": [],
   "source": [
    "s[-1]"
   ]
  },
  {
   "cell_type": "code",
   "execution_count": null,
   "metadata": {},
   "outputs": [],
   "source": [
    "np.sqrt(np.sum(comp_eig[:,-1]**2))"
   ]
  },
  {
   "cell_type": "code",
   "execution_count": null,
   "metadata": {},
   "outputs": [],
   "source": []
  },
  {
   "cell_type": "code",
   "execution_count": null,
   "metadata": {},
   "outputs": [],
   "source": [
    "# np.mean(comp_dev,axis=0)\n",
    "plt.figure()\n",
    "plt.imshow(comp_eig,cmap='seismic')\n",
    "# plt.figure()\n",
    "# plt.imshow(np.dot(comp_dev,vh.T),cmap='seismic')"
   ]
  },
  {
   "cell_type": "code",
   "execution_count": null,
   "metadata": {},
   "outputs": [],
   "source": [
    "plt.figure()\n",
    "plt.imshow(vh,cmap='seismic')"
   ]
  },
  {
   "cell_type": "code",
   "execution_count": null,
   "metadata": {},
   "outputs": [],
   "source": [
    "vh[-1]"
   ]
  },
  {
   "cell_type": "code",
   "execution_count": null,
   "metadata": {},
   "outputs": [],
   "source": [
    "# avg_mu = np.mean(mu_uniq)\n",
    "# X = elem_comps_uniq-avg_comp\n",
    "avg_mu = np.mean(mu_all)\n",
    "y = mu_all-avg_mu\n",
    "Ndim = comp_eig.shape[1]"
   ]
  },
  {
   "cell_type": "code",
   "execution_count": null,
   "metadata": {},
   "outputs": [],
   "source": []
  },
  {
   "cell_type": "code",
   "execution_count": null,
   "metadata": {},
   "outputs": [],
   "source": [
    "\n",
    "# X2_term = np.sum(comp_eig**2,axis=1)\n",
    "\n",
    "# xobs = np.hstack((comp_eig, comp_eig**2))\n",
    "# xobs = np.hstack((np.ones((len(y),1)), comp_eig, comp_eig**2))\n",
    "\n",
    "# xobs = np.hstack((comp_eig, comp_eig**2))\n",
    "# xobs = np.hstack((elem_comps_uniq, XlogX_sum[:,np.newaxis]))\n",
    "\n",
    "\n",
    "xobs = np.hstack((elem_comps_all, XlogX_sum[:,np.newaxis]))\n",
    "# xobs = np.hstack((elem_comps_all, X2_sum[:,np.newaxis]))\n",
    "# xobs = np.hstack((elem_comps_all, XiXj))\n",
    "\n",
    "# xobs = np.hstack((comp_eig, X2_term[:,np.newaxis]))\n",
    "# comp_ext = np.vstack((comp_eig, comp_midpt))\n",
    "# xobs = np.hstack((comp_ext, comp_ext**2))\n",
    "\n",
    "yexp_scl = np.floor(np.log10(np.max(y)-np.min(y)))\n",
    "yscl = 10**yexp_scl\n",
    "# y_ext = np.hstack((y, y_midpt))\n",
    "# yobs = mu_dev_uniq/1e5\n",
    "\n",
    "yobs = y/yscl\n",
    "# yobs = y_ext/yscl\n",
    "print(yscl)"
   ]
  },
  {
   "cell_type": "code",
   "execution_count": null,
   "metadata": {},
   "outputs": [],
   "source": [
    "yscl"
   ]
  },
  {
   "cell_type": "code",
   "execution_count": null,
   "metadata": {},
   "outputs": [],
   "source": []
  },
  {
   "cell_type": "code",
   "execution_count": null,
   "metadata": {},
   "outputs": [],
   "source": []
  },
  {
   "cell_type": "code",
   "execution_count": null,
   "metadata": {},
   "outputs": [],
   "source": [
    "print(xobs[0])"
   ]
  },
  {
   "cell_type": "code",
   "execution_count": null,
   "metadata": {},
   "outputs": [],
   "source": [
    "plt.figure()\n",
    "plt.plot(yobs,'o');\n",
    "\n",
    "plt.figure()\n",
    "plt.plot(xobs,'-');"
   ]
  },
  {
   "cell_type": "code",
   "execution_count": null,
   "metadata": {},
   "outputs": [],
   "source": []
  },
  {
   "cell_type": "code",
   "execution_count": null,
   "metadata": {},
   "outputs": [],
   "source": [
    "def reweight_fit(scl, xobs, yobs, Ndim=None, yresid=0, TOL=1e-4, param0=None):\n",
    "    if np.isscalar(yresid):\n",
    "        yresid = np.tile(yresid, yobs.size)\n",
    "        \n",
    "    err = np.ones(yobs.shape)\n",
    "    mask_pos = yresid>0\n",
    "    mask_neg = yresid<0\n",
    "    \n",
    "    yabs_dev = np.abs(yresid)\n",
    "    err0 = np.median(yabs_dev)\n",
    "    if err0==0:\n",
    "        err0=1\n",
    "    \n",
    "    yabs_dev[yabs_dev<TOL] = TOL\n",
    "    \n",
    "    err_fac = 1/np.sqrt(yabs_dev)\n",
    "    # d = 1\n",
    "    # err_fac = d*np.sqrt(np.sqrt(1+1/np.sqrt(yabs_dev)\n",
    "    \n",
    "    # err[mask_pos] = scl*yabs_dev[mask_pos]\n",
    "    # err[mask_neg] = 1/scl\n",
    "    \n",
    "    # err[mask_pos] = err0*scl*yabs_dev[mask_pos]\n",
    "    # err[mask_pos] = err0*scl*err_fac[mask_pos]\n",
    "    err[mask_pos] = err0*scl*err_fac[mask_pos]\n",
    "    err[mask_neg] = err0/scl*err_fac[mask_neg]\n",
    "    # err[mask_neg] = err0/scl\n",
    "    \n",
    "    # err[mask_pos] = scl\n",
    "    # err[mask_neg] = 1/scl/yabs_dev[mask_neg]\n",
    "    # err[mask_pos] = scl/yabs_dev[mask_pos]\n",
    "    # err[mask_neg] = 1/scl/yabs_dev[mask_neg]\n",
    "    \n",
    "    xobs_wt = xobs/err[:, np.newaxis]\n",
    "    yobs_wt = yobs/err\n",
    "    wt_fit = np.linalg.lstsq(xobs_wt, yobs_wt, rcond=None)\n",
    "    param_wt = wt_fit[0]\n",
    "    \n",
    "    # N = Ndim\n",
    "    # Nquad = xobs.shape[1]-N\n",
    "    # # lowbnd = np.hstack((-10, np.tile(-np.inf, N), np.tile(0, N)))\n",
    "    # # hibnd = np.hstack((+10, np.tile(+np.inf, N), np.tile(+np.inf, N)))\n",
    "    # \n",
    "    # # lowbnd = np.hstack((np.tile(-np.inf, N), 0))\n",
    "    # # lowbnd = np.hstack((np.tile(-np.inf, N), -np.inf))\n",
    "    # # hibnd = np.hstack((np.tile(+np.inf, N), +np.inf))\n",
    "    # lowbnd = np.hstack((np.tile(-np.inf, N), np.tile(-np.inf,Nquad )))\n",
    "    # hibnd = np.hstack((np.tile(+np.inf, N), np.tile(0,Nquad)))\n",
    "    # # lowbnd = np.hstack((np.tile(-np.inf, N), np.tile(-np.inf, N)))\n",
    "    # \n",
    "    # wt_fit = opt.lsq_linear(xobs_wt, yobs_wt, bounds=(lowbnd, hibnd)) \n",
    "    # \n",
    "    # bnds = []\n",
    "    # for ihi, ilo in zip(hibnd, lowbnd):\n",
    "    #     bnds.append((ilo, ihi))\n",
    "    # \n",
    "    # \n",
    "    # fun = lambda params, x=xobs_wt, y=yobs_wt: np.sum((y-np.dot(x, params))**2)\n",
    "    # if param0 is None:\n",
    "    #     param0 = -np.ones(Ndim+1)\n",
    "    #     \n",
    "    # # print(x0)\n",
    "    # # print(fun(x0))\n",
    "    # wt_fit = opt.minimize(fun, param0, bounds=bnds) \n",
    "    # \n",
    "    # \n",
    "    # param_wt = wt_fit['x']\n",
    "    yresid_wt = yobs -  np.dot(xobs, param_wt)\n",
    "    \n",
    "    return param_wt, yresid_wt, err\n",
    "    \n",
    "def plot_resid(ind, yresid, comp, err=None, xlim=(-0.1,1.1)):\n",
    "    plt.figure()\n",
    "    icomp = comp.T[ind]\n",
    "    \n",
    "    # xmax = np.max((np.abs(np.min(icomp)), np.abs(np.max(icomp))))\n",
    "    # x = np.linspace(-1.1*xmax, +1.1*xmax, 101)\n",
    "    x = np.linspace(xlim[0], xlim[1], 101)\n",
    "    if err is None:\n",
    "        plt.plot(icomp, yresid, 'ko')\n",
    "    else:\n",
    "        plt.errorbar(icomp, yresid, yerr=err, fmt='ko')\n",
    "        \n",
    "    plt.plot(x,0*x,'r--')\n",
    "    plt.xlim(xlim)\n",
    "    "
   ]
  },
  {
   "cell_type": "code",
   "execution_count": null,
   "metadata": {},
   "outputs": [],
   "source": [
    "def energy_diff(wt, yobs, comp, param_wt, cross_term_inds=cross_term_inds):\n",
    "    comp_wt = np.dot(comp.T, wt)\n",
    "    \n",
    "    N = comp.shape[1]\n",
    "    mu_pseudo_lin = np.dot(param_wt[:N], comp_wt)\n",
    "    \n",
    "    \n",
    "    # XiXj = comp_wt[cross_term_inds[0]]*comp_wt[cross_term_inds[1]]\n",
    "    # NX = XiXj.size\n",
    "    # X2_sum = np.sum(XiXj)\n",
    "    # mu_pseudo_curv = param_wt[-1]*X2_sum\n",
    "    # mu_pseudo_curv = np.dot(param_wt[-NX:],XiXj)\n",
    "    \n",
    "    XlogX = comp_wt*np.log(comp_wt)\n",
    "    XlogX[comp_wt==0] = 0\n",
    "    XlogX_sum = np.sum(XlogX)\n",
    "    mu_pseudo_curv = param_wt[-1]*XlogX_sum\n",
    "    \n",
    "    \n",
    "    mu_endmem = np.dot(wt, yobs)\n",
    "    \n",
    "    dmu = mu_pseudo_lin + mu_pseudo_curv - mu_endmem\n",
    "    return dmu\n",
    "\n",
    "def endmem_subset(mask, yobs, comp):\n",
    "    comp_sub = comp[mask,:]\n",
    "    yobs_sub = yobs[mask]\n",
    "    \n",
    "    return yobs_sub, comp_sub\n",
    "    \n",
    "    \n",
    "# def energy_jac(wt, dmu_lin, quad_terms):\n",
    "#     # dmu_lin = np.dot(param_wt[:NX],comp_eig.T)\n",
    "#     dmu_quad = np.dot(wt, quad_terms)\n",
    "#     # dmu_endmem = yobs\n",
    "#     \n",
    "#     dmu_dw =  dmu_lin+dmu_quad\n",
    "#     return dmu_dw"
   ]
  },
  {
   "cell_type": "code",
   "execution_count": null,
   "metadata": {},
   "outputs": [],
   "source": [
    "yobs.shape"
   ]
  },
  {
   "cell_type": "code",
   "execution_count": null,
   "metadata": {},
   "outputs": [],
   "source": []
  },
  {
   "cell_type": "code",
   "execution_count": null,
   "metadata": {},
   "outputs": [],
   "source": []
  },
  {
   "cell_type": "code",
   "execution_count": null,
   "metadata": {},
   "outputs": [],
   "source": []
  },
  {
   "cell_type": "code",
   "execution_count": null,
   "metadata": {},
   "outputs": [],
   "source": [
    "\n",
    "# %%timeit\n",
    "param, yresid, err = reweight_fit(1.0, xobs, yobs, yresid=0, Ndim=Ndim)\n",
    "# print(param)\n",
    "param_wt = param\n",
    "yresid_wt = yresid\n",
    "\n",
    "NX = comp_eig.shape[1]\n",
    "print(param[:NX])\n",
    "print(param[-NX:])\n",
    "# param_wt[-NX:]=.01\n",
    "\n",
    "\n",
    "# plot_resid(3, yresid, comp_eig, xlim=[-.5,.5])\n",
    "# plot_eig_resid(3, yresid, comp_ext)\n",
    "# print(yresid)"
   ]
  },
  {
   "cell_type": "code",
   "execution_count": null,
   "metadata": {},
   "outputs": [],
   "source": [
    "\n",
    "expfac = (1+np.arange(20))/10\n",
    "# plot_eig_resid(3, yresid, comp_eig)\n",
    "param_wt = param.copy()\n",
    "yresid_wt = yresid.copy()\n",
    "for fac in expfac:\n",
    "    # param_wt, yresid_wt, err = reweight_fit(10**fac, xobs, yobs, yresid=yresid_wt, Ndim=Ndim,\n",
    "    #                                        param0=param_wt)\n",
    "    # plot_eig_resid(3, yresid_wt, comp_eig)\n",
    "    # param_wt, yresid_wt, err = reweight_fit(10**fac, xobs, yobs, yresid=yresid_wt, Ndim=Ndim)\n",
    "    param_wt, yresid_wt, err = reweight_fit(10**fac, xobs, yobs, yresid=yresid_wt, \n",
    "                                            param0=param_wt,Ndim=Ndim)\n",
    "    # param_wt, yresid_wt, err = reweight_fit(10**fac, xobs, yobs, yresid_wt, Ndim=Ndim)\n",
    "    \n",
    "# param_wt, yresid_wt, err = reweight_fit(10**expfac[-1], xobs, yobs, yresid_wt, Ndim=Ndim)\n",
    "    \n",
    "NX = comp_eig.shape[1]\n",
    "print(param_wt[:NX])\n",
    "print(param_wt[-1])\n",
    "\n",
    "comp_eig= np.dot(xobs[:,:-1],vh.T)\n",
    "# plot_resid(3, yresid_wt, comp_eig, xlim=[-.5,.5])\n",
    "# plot_eig_resid(3, yresid_wt, comp_ext)\n",
    "\n",
    "# print(param_wt[0])\n",
    "# print(param_wt[1:NX+1])\n",
    "# print(param_wt[-NX:])\n",
    "# print('done')"
   ]
  },
  {
   "cell_type": "code",
   "execution_count": null,
   "metadata": {},
   "outputs": [],
   "source": [
    "np.max(np.abs(yresid_wt))"
   ]
  },
  {
   "cell_type": "code",
   "execution_count": null,
   "metadata": {},
   "outputs": [],
   "source": [
    "# plot_resid(3, yresid, comp_eig,xlim=[-.5,.5])\n",
    "\n",
    "plot_resid(0, yresid_wt, comp_eig, xlim=(-.5,0.5))"
   ]
  },
  {
   "cell_type": "code",
   "execution_count": null,
   "metadata": {},
   "outputs": [],
   "source": [
    "plot_resid(0, yresid_wt, xobs[:,:-1], xlim=(-.1,1.1))"
   ]
  },
  {
   "cell_type": "code",
   "execution_count": null,
   "metadata": {},
   "outputs": [],
   "source": [
    "np.sum(np.sort(yresid_wt[:Npts])<.1)"
   ]
  },
  {
   "cell_type": "code",
   "execution_count": null,
   "metadata": {},
   "outputs": [],
   "source": [
    "Npts"
   ]
  },
  {
   "cell_type": "code",
   "execution_count": null,
   "metadata": {},
   "outputs": [],
   "source": [
    "plot_resid(3, yresid, comp_eig,xlim=[-.5,.5])\n",
    "\n",
    "plot_resid(0, yresid_wt, comp_eig, xlim=(-.5,0.5))"
   ]
  },
  {
   "cell_type": "code",
   "execution_count": null,
   "metadata": {},
   "outputs": [],
   "source": [
    "plot_resid(2, yresid_wt, xobs[:,:-1], xlim=(-.1,1.1))"
   ]
  },
  {
   "cell_type": "code",
   "execution_count": null,
   "metadata": {},
   "outputs": [],
   "source": [
    "np.sum(np.sort(yresid_wt[:Npts])<.1)"
   ]
  },
  {
   "cell_type": "code",
   "execution_count": null,
   "metadata": {},
   "outputs": [],
   "source": [
    "Npts"
   ]
  },
  {
   "cell_type": "code",
   "execution_count": null,
   "metadata": {},
   "outputs": [],
   "source": []
  },
  {
   "cell_type": "code",
   "execution_count": null,
   "metadata": {},
   "outputs": [],
   "source": [
    "# xobs = np.hstack((comp_eig, comp_eig**2))"
   ]
  },
  {
   "cell_type": "code",
   "execution_count": null,
   "metadata": {},
   "outputs": [],
   "source": [
    "comp_eig.shape"
   ]
  },
  {
   "cell_type": "code",
   "execution_count": null,
   "metadata": {},
   "outputs": [],
   "source": [
    "inds = np.argsort(yresid_wt)\n",
    "# mask = yresid_wt<0\n",
    "# neg_std = np.sqrt(np.mean(yresid_wt[mask]**2))\n",
    "# mask = yresid_wt< 3*neg_std\n",
    "\n",
    "neg_max = np.abs(np.min(yresid_wt))\n",
    "mask = yresid_wt< +3*neg_max\n",
    "plt.plot(yresid_wt[~mask], 'ko')\n",
    "plt.plot(yresid_wt[mask], 'rx')\n",
    "# plt.ylim(-.001,.001)"
   ]
  },
  {
   "cell_type": "code",
   "execution_count": null,
   "metadata": {},
   "outputs": [],
   "source": [
    "np.sum(mask)"
   ]
  },
  {
   "cell_type": "code",
   "execution_count": null,
   "metadata": {},
   "outputs": [],
   "source": [
    "yobs = yobs[inds[:40]]\n",
    "xobs = xobs[inds[:40],:]"
   ]
  },
  {
   "cell_type": "code",
   "execution_count": null,
   "metadata": {},
   "outputs": [],
   "source": []
  },
  {
   "cell_type": "code",
   "execution_count": null,
   "metadata": {},
   "outputs": [],
   "source": [
    "# yresid_wt[mask]"
   ]
  },
  {
   "cell_type": "code",
   "execution_count": null,
   "metadata": {},
   "outputs": [],
   "source": [
    "yobs[mask]"
   ]
  },
  {
   "cell_type": "code",
   "execution_count": null,
   "metadata": {},
   "outputs": [],
   "source": [
    "yresid_wt[mask]"
   ]
  },
  {
   "cell_type": "code",
   "execution_count": null,
   "metadata": {},
   "outputs": [],
   "source": [
    "param_wt.shape"
   ]
  },
  {
   "cell_type": "code",
   "execution_count": null,
   "metadata": {},
   "outputs": [],
   "source": [
    "comp_dev.shape\n",
    "mask.shape"
   ]
  },
  {
   "cell_type": "code",
   "execution_count": null,
   "metadata": {},
   "outputs": [],
   "source": [
    "param_wt"
   ]
  },
  {
   "cell_type": "code",
   "execution_count": null,
   "metadata": {},
   "outputs": [],
   "source": [
    "# def calc_comp_terms(comp_eig, param_wt, yobs):\n",
    "#     NX = comp_eig.shape[1]\n",
    "#     comp2_eig = np.zeros((comp_eig.shape[0],comp_eig.shape[0],comp_eig.shape[1]))\n",
    "#     for ind in range(comp_eig.shape[1]):\n",
    "#         icomp_eig = comp_eig[:,ind]\n",
    "#         icomp2 = np.dot(icomp_eig[:,np.newaxis], icomp_eig[np.newaxis,:])\n",
    "#         comp2_eig[:,:,ind] = icomp2\n",
    "#     \n",
    "#     dmu_lin = param_wt[0]+np.dot(param_wt[1:NX+1],comp_eig.T)-yobs\n",
    "#     quad_terms = 2*np.dot(comp2_eig, param_wt[-NX:])\n",
    "#     return comp2_eig, dmu_lin, quad_terms"
   ]
  },
  {
   "cell_type": "code",
   "execution_count": null,
   "metadata": {},
   "outputs": [],
   "source": []
  },
  {
   "cell_type": "code",
   "execution_count": null,
   "metadata": {},
   "outputs": [],
   "source": []
  },
  {
   "cell_type": "code",
   "execution_count": null,
   "metadata": {},
   "outputs": [],
   "source": [
    "# comp2_eig, dmu_lin, quad_terms = calc_comp_terms(comp_eig, param_wt, yobs)"
   ]
  },
  {
   "cell_type": "code",
   "execution_count": null,
   "metadata": {},
   "outputs": [],
   "source": []
  },
  {
   "cell_type": "code",
   "execution_count": null,
   "metadata": {},
   "outputs": [],
   "source": [
    "yobs.size"
   ]
  },
  {
   "cell_type": "code",
   "execution_count": null,
   "metadata": {},
   "outputs": [],
   "source": [
    "N = np.sum(mask)\n",
    "N = len(yobs)\n",
    "wt = np.random.rand(N)    \n",
    "wt = wt/np.sum(wt)\n",
    "# wt.sum()\n",
    "# wt = np.zeros(N)\n",
    "# wt[4] = 1\n",
    "\n",
    "energy_diff(wt,yobs,xobs[:,:-1],param_wt)"
   ]
  },
  {
   "cell_type": "code",
   "execution_count": null,
   "metadata": {},
   "outputs": [],
   "source": []
  },
  {
   "cell_type": "code",
   "execution_count": null,
   "metadata": {},
   "outputs": [],
   "source": [
    "elem_comps_all.shape"
   ]
  },
  {
   "cell_type": "code",
   "execution_count": null,
   "metadata": {},
   "outputs": [],
   "source": []
  },
  {
   "cell_type": "code",
   "execution_count": null,
   "metadata": {},
   "outputs": [],
   "source": [
    "# dmudw = energy_jac(wt, dmu_lin, quad_terms)\n",
    "# \n",
    "# dw = 1e-3\n",
    "# dmudw_num = np.zeros(wt.shape)\n",
    "# for ind in range(wt.size):\n",
    "#     wt_num = wt.copy()\n",
    "#     wt_num[ind] += dw\n",
    "#     dmudw_num[ind] = (energy_diff(wt_num,yobs,comp_eig)-energy_diff(wt,yobs,comp_eig))/dw\n",
    "# "
   ]
  },
  {
   "cell_type": "code",
   "execution_count": null,
   "metadata": {},
   "outputs": [],
   "source": [
    "# dmudw_num"
   ]
  },
  {
   "cell_type": "code",
   "execution_count": null,
   "metadata": {},
   "outputs": [],
   "source": [
    "# plt.figure()\n",
    "# plt.plot(100*(dmudw_num/dmudw-1), 'ko')\n",
    "# plt.y"
   ]
  },
  {
   "cell_type": "code",
   "execution_count": null,
   "metadata": {},
   "outputs": [],
   "source": [
    "%%timeit\n",
    "energy_diff(wt, yobs, elem_comps_all)"
   ]
  },
  {
   "cell_type": "code",
   "execution_count": null,
   "metadata": {},
   "outputs": [],
   "source": [
    "# %%timeit\n",
    "# energy_jac(wt, dmu_lin, quad_terms)"
   ]
  },
  {
   "cell_type": "code",
   "execution_count": null,
   "metadata": {},
   "outputs": [],
   "source": [
    "\n",
    "yobs.shape"
   ]
  },
  {
   "cell_type": "code",
   "execution_count": null,
   "metadata": {},
   "outputs": [],
   "source": [
    "mu_uniq.size"
   ]
  },
  {
   "cell_type": "code",
   "execution_count": null,
   "metadata": {},
   "outputs": [],
   "source": [
    "mask.sum()"
   ]
  },
  {
   "cell_type": "code",
   "execution_count": null,
   "metadata": {},
   "outputs": [],
   "source": [
    "import scipy as sp\n",
    "# sp.optimize.minimize?"
   ]
  },
  {
   "cell_type": "code",
   "execution_count": null,
   "metadata": {},
   "outputs": [],
   "source": [
    "\n",
    "N = len(yobs)\n",
    "yobs_sub, comp_sub = yobs, xobs[:,:-1]\n",
    "# N = np.sum(mask)\n",
    "# yobs_sub, comp_sub = endmem_subset(mask, yobs, elem_comps_all)\n",
    "\n",
    "wt0 = np.random.rand(N)\n",
    "wt0 = wt0/np.sum(wt0)\n",
    "\n",
    "# comp2_eig_sub, dmu_lin_sub, quad_terms_sub = calc_comp_terms(\n",
    "#     comp_eig_sub, param_wt, yobs_sub)\n",
    "\n",
    "fun = (lambda wt, yobs=yobs_sub, comp=comp_sub, param_wt=param_wt, inds=cross_term_inds:\n",
    "       energy_diff(wt, yobs, comp, param_wt, cross_term_inds=inds))\n",
    "\n",
    "# fun = (lambda wt, yobs=yobs, comp=elem_comps_all, param_wt=param_wt, inds=cross_term_inds:\n",
    "#        energy_diff(wt, yobs, comp, param_wt=param_wt, cross_term_inds=inds))\n",
    "\n",
    "# energy_diff(wt, yobs, comp, param_wt=param_wt, cross_term_inds=cross_term_inds)\n",
    "\n",
    "# jac = (lambda wt, dmu_lin=dmu_lin_sub, quad_terms=quad_terms_sub: \n",
    "#        energy_jac(wt, dmu_lin, quad_terms))\n",
    "\n",
    "# def energy_diff(wt, yobs, comp_eig, param_wt=param_wt):\n",
    "\n",
    "bnds = np.vstack((np.zeros(N),np.ones(N))).T\n",
    "# fun(wt0)\n",
    "\n",
    "A = np.ones(N)\n",
    "constr = sp.optimize.LinearConstraint(A, 1.0, 1.0)\n",
    "\n",
    "# wt0.shape\n",
    "# bnds\n"
   ]
  },
  {
   "cell_type": "code",
   "execution_count": null,
   "metadata": {},
   "outputs": [],
   "source": [
    "wt0.shape"
   ]
  },
  {
   "cell_type": "code",
   "execution_count": null,
   "metadata": {},
   "outputs": [],
   "source": [
    "wt0 = np.random.rand(N)\n",
    "wt0 = wt0/np.sum(wt0)\n",
    "\n",
    "output = sp.optimize.minimize(fun, wt0, bounds=bnds, constraints=constr)\n",
    "output"
   ]
  },
  {
   "cell_type": "code",
   "execution_count": null,
   "metadata": {},
   "outputs": [],
   "source": []
  },
  {
   "cell_type": "code",
   "execution_count": null,
   "metadata": {},
   "outputs": [],
   "source": []
  },
  {
   "cell_type": "code",
   "execution_count": null,
   "metadata": {},
   "outputs": [],
   "source": []
  },
  {
   "cell_type": "code",
   "execution_count": null,
   "metadata": {},
   "outputs": [],
   "source": []
  },
  {
   "cell_type": "code",
   "execution_count": null,
   "metadata": {},
   "outputs": [],
   "source": []
  },
  {
   "cell_type": "code",
   "execution_count": null,
   "metadata": {},
   "outputs": [],
   "source": []
  },
  {
   "cell_type": "code",
   "execution_count": null,
   "metadata": {},
   "outputs": [],
   "source": [
    "%%timeit\n",
    "    \n",
    "output = sp.optimize.minimize(fun, wt0, bounds=bnds, constraints=constr)\n"
   ]
  },
  {
   "cell_type": "code",
   "execution_count": null,
   "metadata": {},
   "outputs": [],
   "source": [
    "# %%timeit\n",
    "#     \n",
    "# output = sp.optimize.minimize(fun, wt0, bounds=bnds, constraints=constr, jac=jac)\n"
   ]
  },
  {
   "cell_type": "code",
   "execution_count": null,
   "metadata": {},
   "outputs": [],
   "source": []
  },
  {
   "cell_type": "code",
   "execution_count": null,
   "metadata": {},
   "outputs": [],
   "source": []
  },
  {
   "cell_type": "code",
   "execution_count": null,
   "metadata": {},
   "outputs": [],
   "source": []
  },
  {
   "cell_type": "code",
   "execution_count": null,
   "metadata": {},
   "outputs": [],
   "source": [
    "\n",
    "wt_fit = output['x']\n",
    "\n",
    "plt.figure()\n",
    "plt.plot(wt_fit, 'ko')\n",
    "plt.title(output['fun'])"
   ]
  },
  {
   "cell_type": "code",
   "execution_count": null,
   "metadata": {},
   "outputs": [],
   "source": []
  },
  {
   "cell_type": "code",
   "execution_count": null,
   "metadata": {},
   "outputs": [],
   "source": [
    "# plt.plot(yresid_wt[~mask], 'ko')\n",
    "yresid_wt[mask][wt_fit>.01]"
   ]
  },
  {
   "cell_type": "code",
   "execution_count": null,
   "metadata": {},
   "outputs": [],
   "source": [
    "\n",
    "wt_fit = output['x']\n",
    "\n",
    "plt.figure()\n",
    "plt.plot(wt_fit, 'ko')\n",
    "plt.title(output['fun'])"
   ]
  },
  {
   "cell_type": "code",
   "execution_count": null,
   "metadata": {},
   "outputs": [],
   "source": [
    ".01533*100"
   ]
  },
  {
   "cell_type": "code",
   "execution_count": null,
   "metadata": {},
   "outputs": [],
   "source": []
  },
  {
   "cell_type": "code",
   "execution_count": null,
   "metadata": {},
   "outputs": [],
   "source": [
    "\n",
    "N = np.sum(mask)\n",
    "wt0 = np.random.rand(N)\n",
    "wt0 = wt0/np.sum(wt0)\n",
    "# %%timeit\n",
    "# output_min = sp.optimize.minimize(energy_diff, wt0, bounds=bnds, constraints=constr)\n",
    "\n",
    "# wt0 = np.random.rand(N)\n",
    "output = sp.optimize.minimize(fun, wt0, bounds=bnds, constraints=constr)\n",
    "output['fun']"
   ]
  },
  {
   "cell_type": "code",
   "execution_count": null,
   "metadata": {},
   "outputs": [],
   "source": [
    "\n",
    "N = len(yobs)\n",
    "N"
   ]
  },
  {
   "cell_type": "code",
   "execution_count": null,
   "metadata": {},
   "outputs": [],
   "source": []
  },
  {
   "cell_type": "code",
   "execution_count": null,
   "metadata": {},
   "outputs": [],
   "source": [
    "# %%timeit\n",
    "\n",
    "# output_min = sp.optimize.minimize(energy_diff, wt0, bounds=bnds, constraints=constr)\n",
    "# minimizer_kwargs = \n",
    "# T = 10.0\n",
    "\n",
    "wt0 = np.random.rand(N)\n",
    "T = 3\n",
    "min_kwargs = {}\n",
    "min_kwargs['bounds'] = bnds\n",
    "min_kwargs['constraints'] = constr\n",
    "\n",
    "# min_kwargs['jac'] = jac\n",
    "\n",
    "# output_bh = sp.optimize.basinhopping(\n",
    "#     energy_diff, wt0, minimizer_kwargs=min_kwargs, T=T, stepsize=.2, niter=10)\n",
    "output_bh = sp.optimize.basinhopping(\n",
    "    fun, wt0, minimizer_kwargs=min_kwargs, T=T, stepsize=.5, niter=30)\n",
    "\n",
    "wt_fit = output_bh['x']\n",
    "funval = output_bh['fun']\n",
    "\n",
    "shift = -output_bh['fun']\n",
    "print(shift)"
   ]
  },
  {
   "cell_type": "code",
   "execution_count": null,
   "metadata": {},
   "outputs": [],
   "source": []
  },
  {
   "cell_type": "code",
   "execution_count": null,
   "metadata": {},
   "outputs": [],
   "source": [
    "plt.figure()\n",
    "plt.plot(wt_fit, 'ko')\n",
    "plt.title(output_bh['fun'])\n",
    "plt.ylim(-.2, .1)\n",
    "# yresid_wt[mask][wt_fit>.1]"
   ]
  },
  {
   "cell_type": "code",
   "execution_count": null,
   "metadata": {},
   "outputs": [],
   "source": []
  },
  {
   "cell_type": "code",
   "execution_count": null,
   "metadata": {},
   "outputs": [],
   "source": [
    "fun2 = lambda wt: fun(wt)+shift"
   ]
  },
  {
   "cell_type": "code",
   "execution_count": null,
   "metadata": {},
   "outputs": [],
   "source": [
    "fun2(wt_fit)"
   ]
  },
  {
   "cell_type": "code",
   "execution_count": null,
   "metadata": {},
   "outputs": [],
   "source": [
    "# %%timeit\n",
    "\n",
    "# output_min = sp.optimize.minimize(energy_diff, wt0, bounds=bnds, constraints=constr)\n",
    "# minimizer_kwargs = \n",
    "# T = 10.0\n",
    "\n",
    "wt0 = np.random.rand(N)\n",
    "T = 3\n",
    "min_kwargs = {}\n",
    "min_kwargs['bounds'] = bnds\n",
    "min_kwargs['constraints'] = constr\n",
    "min_kwargs['jac'] = jac\n",
    "# output_bh = sp.optimize.basinhopping(\n",
    "#     energy_diff, wt0, minimizer_kwargs=min_kwargs, T=T, stepsize=.2, niter=10)\n",
    "output_bh = sp.optimize.basinhopping(\n",
    "    fun2, wt0, minimizer_kwargs=min_kwargs, T=T, stepsize=.5, niter=30)\n",
    "\n",
    "wt_fit = output_bh['x']\n",
    "funval = output_bh['fun']\n",
    "print(funval)\n"
   ]
  },
  {
   "cell_type": "code",
   "execution_count": null,
   "metadata": {},
   "outputs": [],
   "source": [
    "plt.figure()\n",
    "plt.plot(wt_fit, 'ko')\n",
    "plt.title(output_bh['fun'])\n",
    "yresid_wt[mask][wt_fit>.1]"
   ]
  },
  {
   "cell_type": "code",
   "execution_count": null,
   "metadata": {},
   "outputs": [],
   "source": []
  },
  {
   "cell_type": "code",
   "execution_count": null,
   "metadata": {},
   "outputs": [],
   "source": []
  },
  {
   "cell_type": "code",
   "execution_count": null,
   "metadata": {},
   "outputs": [],
   "source": []
  },
  {
   "cell_type": "code",
   "execution_count": null,
   "metadata": {},
   "outputs": [],
   "source": [
    "# T=1.0, stepsize=0.5, minimizer_kwargs=None, take_step=None, \n",
    "# accept_test=None, callback=None, interval=50, \n",
    "# disp=False, niter_success=None, seed=None"
   ]
  },
  {
   "cell_type": "code",
   "execution_count": null,
   "metadata": {},
   "outputs": [],
   "source": [
    "output_bh"
   ]
  },
  {
   "cell_type": "code",
   "execution_count": null,
   "metadata": {},
   "outputs": [],
   "source": []
  },
  {
   "cell_type": "code",
   "execution_count": null,
   "metadata": {},
   "outputs": [],
   "source": [
    "wt = np.ones(yresid_wt.shape)\n",
    "wt[mask] = 3\n",
    "\n",
    "# wt = np.zeros(yresid_wt.shape)\n",
    "# wt[mask] = 1\n",
    "\n",
    "wt = np.random.rand(yresid_wt.size)\n",
    "wt = wt/np.sum(wt)\n",
    "comp_dev_wt = np.dot(wt, comp_dev)\n",
    "\n",
    "comp_eig_wt = np.dot(comp_dev_wt, vh.T)\n",
    "elems = avg_comp+comp_dev_wt\n",
    "\n",
    "\n",
    "plt.figure()\n",
    "plt.plot(wt, yobs, 'ko')\n",
    "\n",
    "print(energy_diff(wt))\n",
    "print(np.polyfit(wt, yobs,1))\n",
    "\n",
    "# elems"
   ]
  },
  {
   "cell_type": "code",
   "execution_count": null,
   "metadata": {},
   "outputs": [],
   "source": []
  },
  {
   "cell_type": "code",
   "execution_count": null,
   "metadata": {},
   "outputs": [],
   "source": []
  },
  {
   "cell_type": "code",
   "execution_count": null,
   "metadata": {},
   "outputs": [],
   "source": [
    "# np.dot(comp_dev_wt, vh.T)"
   ]
  },
  {
   "cell_type": "code",
   "execution_count": null,
   "metadata": {},
   "outputs": [],
   "source": [
    "energy_diff(wt)"
   ]
  },
  {
   "cell_type": "code",
   "execution_count": null,
   "metadata": {},
   "outputs": [],
   "source": [
    "wt"
   ]
  },
  {
   "cell_type": "code",
   "execution_count": null,
   "metadata": {},
   "outputs": [],
   "source": [
    "comp_eig_wt = np.dot(comp_dev_wt, vh.T)\n",
    "comp_eig_wt"
   ]
  },
  {
   "cell_type": "code",
   "execution_count": null,
   "metadata": {},
   "outputs": [],
   "source": [
    "ind=2\n",
    "plot_eig_resid(ind, yresid_wt, comp_eig)\n",
    "plt.plot(comp_eig_wt[ind],0, 'ro')"
   ]
  },
  {
   "cell_type": "code",
   "execution_count": null,
   "metadata": {},
   "outputs": [],
   "source": []
  },
  {
   "cell_type": "code",
   "execution_count": null,
   "metadata": {},
   "outputs": [],
   "source": []
  },
  {
   "cell_type": "code",
   "execution_count": null,
   "metadata": {},
   "outputs": [],
   "source": [
    "elems = avg_comp+np.dot(comp_dev.T,wt)\n",
    "elems"
   ]
  },
  {
   "cell_type": "code",
   "execution_count": null,
   "metadata": {},
   "outputs": [],
   "source": []
  },
  {
   "cell_type": "code",
   "execution_count": null,
   "metadata": {},
   "outputs": [],
   "source": [
    "avg_comp +np.dot(comp_eig.T, wt)"
   ]
  },
  {
   "cell_type": "code",
   "execution_count": null,
   "metadata": {},
   "outputs": [],
   "source": [
    "\n",
    "param_wt, yresid_wt, err =  reweight_fit(scl, xobs, yobs, yresid)"
   ]
  },
  {
   "cell_type": "code",
   "execution_count": null,
   "metadata": {},
   "outputs": [],
   "source": [
    "yresid_scl = yresid/np.std(yresid)\n",
    "scl = 1.0\n",
    "err = np.ones(yresid_scl.shape)\n",
    "err[yresid_scl>0] = scl\n",
    "err[yresid_scl<0] = 1/scl"
   ]
  },
  {
   "cell_type": "code",
   "execution_count": null,
   "metadata": {},
   "outputs": [],
   "source": [
    "\n",
    "scl_vals = np.logspace(0,1,5)\n"
   ]
  },
  {
   "cell_type": "code",
   "execution_count": null,
   "metadata": {},
   "outputs": [],
   "source": [
    "plt.figure()\n",
    "icomp_eig = comp_eig.T[2]\n",
    "# plt.plot(icomp_eig, yresid_scl, 'ko')\n",
    "plt.errorbar(icomp_eig, yresid_scl, yerr=err, fmt='ko')\n",
    "# plt.plot(icomp_eig, yresid_scl, 'ko')\n",
    "plt.plot(x,0*x,'r--')\n",
    "plt.xlim(-1,1)"
   ]
  },
  {
   "cell_type": "code",
   "execution_count": null,
   "metadata": {},
   "outputs": [],
   "source": [
    "# Aw = A * np.sqrt(W[:,np.newaxis])\n",
    "# Bw = B * np.sqrt(W)\n",
    "# X = np.linalg.lstsq(Aw, Bw)\n",
    "\n",
    "X\n",
    "\n",
    "xobs_wt = xobs/err[:, np.newaxis]\n",
    "yobs_wt = yobs/err\n",
    "wt_fit = np.linalg.lstsq(xobs_wt, yobs_wt)\n",
    "yresid_wt = yobs -  np.dot(xobs, wt_fit[0])\n",
    "\n",
    "\n",
    "plt.figure()\n",
    "icomp_eig = comp_eig.T[2]\n",
    "# plt.plot(icomp_eig, yresid_scl, 'ko')\n",
    "# plt.errorbar(icomp_eig, yresid_wt, yerr=err, fmt='ko')\n",
    "plt.plot(icomp_eig, yresid_wt, 'ko')\n",
    "plt.plot(x,0*x,'r--')\n",
    "plt.xlim(-1,1)"
   ]
  },
  {
   "cell_type": "code",
   "execution_count": null,
   "metadata": {},
   "outputs": [],
   "source": []
  },
  {
   "cell_type": "code",
   "execution_count": null,
   "metadata": {},
   "outputs": [],
   "source": []
  },
  {
   "cell_type": "code",
   "execution_count": null,
   "metadata": {},
   "outputs": [],
   "source": []
  },
  {
   "cell_type": "code",
   "execution_count": null,
   "metadata": {},
   "outputs": [],
   "source": [
    "obs = np.hstack((mu_dev_uniq[:,np.newaxis]/1e5, comp_eig, comp_eig**2))\n",
    "\n",
    "reg = LinearRegression()\n",
    "reg.fit(obs[:,1:], obs[:,0])\n",
    "\n",
    "reg.coef_\n",
    "\n",
    "\n",
    "resid = obs[:,0] - reg.predict(obs[:,1:])\n",
    "\n",
    "np.std(resid*1e5)"
   ]
  },
  {
   "cell_type": "code",
   "execution_count": null,
   "metadata": {},
   "outputs": [],
   "source": [
    "plt.figure()\n",
    "icomp_eig = comp_eig.T[2]\n",
    "plt.plot(icomp_eig, resid*1e5/1e3, 'ko')"
   ]
  },
  {
   "cell_type": "code",
   "execution_count": null,
   "metadata": {},
   "outputs": [],
   "source": [
    "\n",
    "obs_resid = np.hstack((resid[:,np.newaxis], comp_eig, comp_eig**2))\n",
    "obs_resid.shape"
   ]
  },
  {
   "cell_type": "code",
   "execution_count": null,
   "metadata": {},
   "outputs": [],
   "source": [
    "hibnd = -np.ones(obs_resid.shape[0])\n",
    "lobnd = +np.ones(obs_resid.shape[0])\n",
    "y = np.hstack((hibnd, lobnd))\n",
    "\n",
    "fac = 10.0\n",
    "X = np.vstack((obs_resid/fac, obs_resid*fac))"
   ]
  },
  {
   "cell_type": "code",
   "execution_count": null,
   "metadata": {},
   "outputs": [],
   "source": [
    "y.shape\n",
    "reg = LogisticRegression(fit_intercept=False, solver='liblinear', warm_start=True)"
   ]
  },
  {
   "cell_type": "code",
   "execution_count": null,
   "metadata": {},
   "outputs": [],
   "source": [
    "# prop_terms\n",
    "# prop_terms.shape\n",
    "reg.fit(X, y)\n",
    "params = np.squeeze(reg.coef_)\n",
    "# params[0]\n",
    "params_scl = params/params[0]\n",
    "params_scl"
   ]
  },
  {
   "cell_type": "code",
   "execution_count": null,
   "metadata": {},
   "outputs": [],
   "source": [
    "mumod = np.dot(obs_resid[:,1:], params_scl[1:])\n"
   ]
  },
  {
   "cell_type": "code",
   "execution_count": null,
   "metadata": {},
   "outputs": [],
   "source": [
    "plt.figure()\n",
    "icomp_eig = comp_eig.T[9]\n",
    "plt.plot(icomp_eig, -mumod*1e5/1e3, 'ko')\n",
    "xl = plt.xlim()\n",
    "plt.plot(xl,[0,0], 'r-')"
   ]
  },
  {
   "cell_type": "code",
   "execution_count": null,
   "metadata": {},
   "outputs": [],
   "source": []
  },
  {
   "cell_type": "code",
   "execution_count": null,
   "metadata": {},
   "outputs": [],
   "source": []
  },
  {
   "cell_type": "code",
   "execution_count": null,
   "metadata": {},
   "outputs": [],
   "source": []
  },
  {
   "cell_type": "code",
   "execution_count": null,
   "metadata": {},
   "outputs": [],
   "source": []
  },
  {
   "cell_type": "code",
   "execution_count": null,
   "metadata": {},
   "outputs": [],
   "source": [
    "# elem_comps_uniq.shape"
   ]
  },
  {
   "cell_type": "code",
   "execution_count": null,
   "metadata": {},
   "outputs": [],
   "source": [
    "# icomp[np.newaxis,:] * icomp[:, np.newaxis]\n",
    "lin_terms = elem_comps_uniq\n",
    "lin_terms.shape"
   ]
  },
  {
   "cell_type": "code",
   "execution_count": null,
   "metadata": {},
   "outputs": [],
   "source": [
    "quad_terms = elem_comps_uniq[:,np.newaxis,:]*elem_comps_uniq[:,:,np.newaxis]\n",
    "shp = quad_terms.shape\n"
   ]
  },
  {
   "cell_type": "code",
   "execution_count": null,
   "metadata": {},
   "outputs": [],
   "source": [
    "shp"
   ]
  },
  {
   "cell_type": "code",
   "execution_count": null,
   "metadata": {},
   "outputs": [],
   "source": [
    "# offset_terms = np.ones(shp[0])[:,np.newaxis]\n",
    "# offset_terms.shape"
   ]
  },
  {
   "cell_type": "code",
   "execution_count": null,
   "metadata": {},
   "outputs": [],
   "source": [
    "quad_terms_flat = np.reshape(quad_terms, (shp[0],shp[1]*shp[2]))\n",
    "# quad_terms_flat[17] -quad_terms[17].ravel()\n",
    "quad_terms_flat.shape\n",
    "\n"
   ]
  },
  {
   "cell_type": "code",
   "execution_count": null,
   "metadata": {},
   "outputs": [],
   "source": [
    "all_terms = np.hstack((lin_terms, quad_terms_flat))\n",
    "all_terms.shape"
   ]
  },
  {
   "cell_type": "code",
   "execution_count": null,
   "metadata": {},
   "outputs": [],
   "source": [
    "ind_rows, ind_cols = np.tril_indices(shp[0],-1)\n",
    "pt_pairs = np.vstack((ind_rows,ind_cols)).T\n",
    "# pt_pairs"
   ]
  },
  {
   "cell_type": "code",
   "execution_count": null,
   "metadata": {},
   "outputs": [],
   "source": [
    "pt_pairs.shape"
   ]
  },
  {
   "cell_type": "code",
   "execution_count": null,
   "metadata": {},
   "outputs": [],
   "source": [
    "midpt_terms = np.mean(all_terms[pt_pairs],axis=1)\n",
    "midpt_mu = np.mean(mu_uniq[pt_pairs],axis=1)"
   ]
  },
  {
   "cell_type": "code",
   "execution_count": null,
   "metadata": {},
   "outputs": [],
   "source": []
  },
  {
   "cell_type": "code",
   "execution_count": null,
   "metadata": {},
   "outputs": [],
   "source": [
    "\n",
    "from sklearn.linear_model import LinearRegression, LogisticRegression\n",
    "\n",
    "from sklearn import linear_model"
   ]
  },
  {
   "cell_type": "code",
   "execution_count": null,
   "metadata": {},
   "outputs": [],
   "source": []
  },
  {
   "cell_type": "code",
   "execution_count": null,
   "metadata": {},
   "outputs": [],
   "source": []
  },
  {
   "cell_type": "code",
   "execution_count": null,
   "metadata": {},
   "outputs": [],
   "source": []
  },
  {
   "cell_type": "code",
   "execution_count": null,
   "metadata": {},
   "outputs": [],
   "source": [
    "avg_mu = np.mean(midpt_mu)\n",
    "np.std(midpt_mu-avg_mu)"
   ]
  },
  {
   "cell_type": "code",
   "execution_count": null,
   "metadata": {},
   "outputs": [],
   "source": [
    "midpt_terms.shape"
   ]
  },
  {
   "cell_type": "code",
   "execution_count": null,
   "metadata": {},
   "outputs": [],
   "source": []
  },
  {
   "cell_type": "code",
   "execution_count": null,
   "metadata": {},
   "outputs": [],
   "source": [
    "reg = LinearRegression()\n",
    "\n",
    "ideal_terms = expand_terms[:, :len(sys_elems)]"
   ]
  },
  {
   "cell_type": "code",
   "execution_count": null,
   "metadata": {},
   "outputs": [],
   "source": [
    "\n",
    "reg.fit(ideal_terms, expand_mu)\n",
    "reg.coef_\n",
    "ideal_mu = reg.predict(ideal_terms)\n",
    "dmu = expand_mu-ideal_mu\n",
    "np.std(dmu)/1e3"
   ]
  },
  {
   "cell_type": "code",
   "execution_count": null,
   "metadata": {},
   "outputs": [],
   "source": [
    "hibnd = -np.ones(expand_terms.shape[0])\n",
    "lobnd = +np.ones(expand_terms.shape[0])\n",
    "\n",
    "prop_terms = np.hstack((dmu[:,np.newaxis]/1e6, expand_terms))\n",
    "fac =10\n",
    "X = np.vstack((prop_terms*fac, prop_terms/fac))\n",
    "y = np.hstack((hibnd, lobnd))"
   ]
  },
  {
   "cell_type": "code",
   "execution_count": null,
   "metadata": {},
   "outputs": [],
   "source": [
    "Nparams = prop_terms.shape[1]\n",
    "Nparams\n",
    "coef0 = np.zeros(Nparams)\n",
    "coef0[0] = 1"
   ]
  },
  {
   "cell_type": "code",
   "execution_count": null,
   "metadata": {},
   "outputs": [],
   "source": [
    "# prop_terms\n",
    "# prop_terms.shape\n",
    "reg = LogisticRegression(fit_intercept=False, solver='liblinear')\n",
    "reg.fit(X, y)\n",
    "reg.coef_\n",
    "reg.coef_"
   ]
  },
  {
   "cell_type": "code",
   "execution_count": null,
   "metadata": {},
   "outputs": [],
   "source": [
    "# np.linalg.lstsq?"
   ]
  },
  {
   "cell_type": "code",
   "execution_count": null,
   "metadata": {},
   "outputs": [],
   "source": [
    "y = 2*np.random.randint(2,size=expand_mu.size)-1"
   ]
  },
  {
   "cell_type": "code",
   "execution_count": null,
   "metadata": {},
   "outputs": [],
   "source": [
    "# reg = LinearRegression().fit(all_terms, mu_uniq)\n",
    "\n",
    "reg = LogisticRegression(fit_intercept=True)\n",
    "\n",
    "# \n",
    "# reg.score(all_terms, mu_uniq)"
   ]
  },
  {
   "cell_type": "code",
   "execution_count": null,
   "metadata": {},
   "outputs": [],
   "source": [
    "\n",
    "reg.fit(expand_terms, y)\n",
    "\n",
    "reg.coef_"
   ]
  },
  {
   "cell_type": "code",
   "execution_count": null,
   "metadata": {},
   "outputs": [],
   "source": [
    "reg.fit_intercept=False\n",
    "reg.intercept_ = np.random.randn(expand_mu.size)\n",
    "\n",
    "reg.fit(expand_terms, y)"
   ]
  },
  {
   "cell_type": "code",
   "execution_count": null,
   "metadata": {},
   "outputs": [],
   "source": [
    "reg.intercept_"
   ]
  },
  {
   "cell_type": "code",
   "execution_count": null,
   "metadata": {},
   "outputs": [],
   "source": [
    "reg = Regression().fit(expand_terms, expand_mu)\n",
    "reg.coef_"
   ]
  },
  {
   "cell_type": "code",
   "execution_count": null,
   "metadata": {},
   "outputs": [],
   "source": [
    "\n",
    "\n",
    "# reg.coef_\n",
    "# \n",
    "# reg.intercept_ \n",
    "\n",
    "# mu_uniq-reg.predict(all_terms)\n",
    "(expand_mu-reg.predict(expand_terms))/1e3\n"
   ]
  },
  {
   "cell_type": "code",
   "execution_count": null,
   "metadata": {},
   "outputs": [],
   "source": []
  },
  {
   "cell_type": "code",
   "execution_count": null,
   "metadata": {},
   "outputs": [],
   "source": []
  },
  {
   "cell_type": "code",
   "execution_count": null,
   "metadata": {},
   "outputs": [],
   "source": []
  },
  {
   "cell_type": "code",
   "execution_count": null,
   "metadata": {},
   "outputs": [],
   "source": []
  },
  {
   "cell_type": "code",
   "execution_count": null,
   "metadata": {},
   "outputs": [],
   "source": [
    "reg = linear_model.Ridge(alpha=1e0, max_iter=1e4)\n",
    "reg.fit(all_terms, mu_uniq)\n",
    "\n",
    "\n",
    "# reg.coef_\n",
    "reg.score(all_terms, mu_uniq)\n",
    "mu_uniq-reg.predict(all_terms)"
   ]
  },
  {
   "cell_type": "code",
   "execution_count": null,
   "metadata": {},
   "outputs": [],
   "source": [
    "reg = linear_model.Lasso(alpha=0.5,max_iter=1e4)\n",
    "reg.fit(all_terms, mu_uniq)\n",
    "\n",
    "\n",
    "reg.coef_"
   ]
  },
  {
   "cell_type": "code",
   "execution_count": null,
   "metadata": {},
   "outputs": [],
   "source": []
  },
  {
   "cell_type": "code",
   "execution_count": null,
   "metadata": {},
   "outputs": [],
   "source": []
  },
  {
   "cell_type": "code",
   "execution_count": null,
   "metadata": {},
   "outputs": [],
   "source": [
    "np.linalg.lstsq(all_terms, mu_uniq)"
   ]
  },
  {
   "cell_type": "code",
   "execution_count": null,
   "metadata": {},
   "outputs": [],
   "source": []
  },
  {
   "cell_type": "markdown",
   "metadata": {},
   "source": [
    "Now contruct the convex hull, using the extra bulk composition point as a viewpoint below the hull.  \n",
    "The 'OJ' option is required to avoid roundoff errors that inhibit contruction; remove the option and run the code for a complete explanation.  \n",
    "The 'OGn' option locates the viewpoint, which does not otherwise contribute to hull construction. "
   ]
  },
  {
   "cell_type": "code",
   "execution_count": null,
   "metadata": {},
   "outputs": [],
   "source": [
    "hull = sci.spatial.ConvexHull(points, qhull_options='QJ QG'+str(points.shape[0]-1))"
   ]
  },
  {
   "cell_type": "code",
   "execution_count": null,
   "metadata": {},
   "outputs": [],
   "source": [
    "hull.simplices.shape, hull.vertices.shape, hull.points.shape"
   ]
  },
  {
   "cell_type": "code",
   "execution_count": null,
   "metadata": {},
   "outputs": [],
   "source": [
    "hull.simplices"
   ]
  },
  {
   "cell_type": "code",
   "execution_count": null,
   "metadata": {},
   "outputs": [],
   "source": []
  },
  {
   "cell_type": "code",
   "execution_count": null,
   "metadata": {},
   "outputs": [],
   "source": []
  },
  {
   "cell_type": "code",
   "execution_count": null,
   "metadata": {},
   "outputs": [],
   "source": []
  },
  {
   "cell_type": "code",
   "execution_count": null,
   "metadata": {},
   "outputs": [],
   "source": []
  },
  {
   "cell_type": "code",
   "execution_count": null,
   "metadata": {},
   "outputs": [],
   "source": [
    "def get_pseudo_phase(T, P, phases, offset=0, oxide_basis=False,\n",
    "                     test_endmember=False, test_solution=False):\n",
    "    \n",
    "    \n",
    "    \n",
    "    "
   ]
  },
  {
   "cell_type": "markdown",
   "metadata": {},
   "source": [
    "## Phases in Stixrude\n",
    "Instantiate the database and optionally, print an info table"
   ]
  },
  {
   "cell_type": "markdown",
   "metadata": {},
   "source": [
    "#### Create a Phase object for each phase in the database\n",
    "Lode this information into dictionaries and lists for future reference"
   ]
  },
  {
   "cell_type": "markdown",
   "metadata": {},
   "source": [
    "# Construct pseudophase\n",
    "\n",
    "Aaron's notes:\n",
    "\n",
    "1. Calculate the lower convex hull for the pure and endmember phases.\n",
    "2. Adopt a modified ideal solution, where the mixing contribution is given by a scaled ideal entropy $-c RT \\sum_i X_i \\log X_i$.\n",
    "3. Endmember chemical potentials as well as the scale factor $c$, are determined by least-squares fitting.\n",
    "4. Endmember chemical potentials must be adjusted upwards to guarantee that the phase is everywhere metastable.\n",
    "4.1 Endmember potentials are shifted so that every vertex of the convex hull lies on or below the omnicomponent surface, ensuring that all the equilibrium pure and endmember phases are individually stable relative to the omnicomponent phase.\n",
    "4.2 Calculate center point of the hull vertices, add $X_i \\sum_i \\log X_i$ to the hull at thgis point, and insure that omnicomponent phase has an energy equal to or above this energy\n",
    "5. Finally add an additional 1 J to each endmember potential just to insure numerical stability."
   ]
  },
  {
   "cell_type": "markdown",
   "metadata": {},
   "source": [
    "### (1) composition matrix\n",
    "Relate endmember of each phase (rows) to moles of elements (columns):\n",
    "- columns are indexed on atomic number\n",
    "- rows are indexed on phase order, listed above"
   ]
  },
  {
   "cell_type": "code",
   "execution_count": null,
   "metadata": {},
   "outputs": [],
   "source": [
    "C = []\n",
    "row_names = []\n",
    "for phase in pure_phases:\n",
    "    if use_oxides_as_basis:\n",
    "        C.append(core.chem.calc_mol_oxide_comp(phase.props['element_comp'][0]))\n",
    "    else:\n",
    "        C.append(phase.props['element_comp'][0])\n",
    "    row_names.append(phase.props['endmember_name'][0])\n",
    "for phase in soln_phases:\n",
    "    for i in range(0,phase.endmember_num):\n",
    "        if use_oxides_as_basis:\n",
    "            C.append(core.chem.calc_mol_oxide_comp(phase.props['element_comp'][i]))\n",
    "        else:\n",
    "            C.append(phase.props['element_comp'][i])\n",
    "        row_names.append(phase.props['endmember_name'][i])\n",
    "C = np.array(C)\n",
    "C.shape"
   ]
  },
  {
   "cell_type": "markdown",
   "metadata": {},
   "source": [
    "Filter for the non-zero abundance elements/oxides in the system"
   ]
  },
  {
   "cell_type": "code",
   "execution_count": null,
   "metadata": {},
   "outputs": [],
   "source": [
    "elm_sys_ind = np.where(np.sum(C,axis=0) > 0)[0]\n",
    "if use_oxides_as_basis:\n",
    "    elm_sys = [core.chem.oxide_props['oxides'][i] for i in elm_sys_ind]\n",
    "else:\n",
    "    elm_sys = [core.chem.PERIODIC_ORDER[i] for i in elm_sys_ind]\n",
    "elm_sys"
   ]
  },
  {
   "cell_type": "markdown",
   "metadata": {},
   "source": [
    "Deflate the composition matrix:\n",
    "- columns correspond to non-zero elemental abundances in teh system\n",
    "- rows are as previous"
   ]
  },
  {
   "cell_type": "code",
   "execution_count": null,
   "metadata": {},
   "outputs": [],
   "source": [
    "C = C[:,elm_sys_ind]\n",
    "C.shape"
   ]
  },
  {
   "cell_type": "code",
   "execution_count": null,
   "metadata": {},
   "outputs": [],
   "source": []
  },
  {
   "cell_type": "markdown",
   "metadata": {},
   "source": [
    "### (2) make a vector of chemical potentials of each endmember"
   ]
  },
  {
   "cell_type": "code",
   "execution_count": null,
   "metadata": {},
   "outputs": [],
   "source": [
    "mu = []\n",
    "for pureph in pure_phases:\n",
    "    mu += [pureph.gibbs_energy(t,p)]\n",
    "for solnph in soln_phases:\n",
    "    mu += [solnph.gibbs_energy(t,p,mol=np.eye(solnph.endmember_num)[i],deriv={\"dmol\":1})[0,i] for i in range(0,solnph.endmember_num)]\n",
    "mu = np.array(mu)\n",
    "mu.shape"
   ]
  },
  {
   "cell_type": "markdown",
   "metadata": {},
   "source": [
    "### (3) Convex Hull construction\n",
    "- Hull construction depends ONLY on C and mu as defined above\n",
    "- We define an additional multidimensional point called a viewpoint from which we can ask the question \"what hull facets are viewable from that viewpoint?\" \n",
    "- If the viewpoint is the bulk composition of the system, and we give the viewpoint an energy lower than any of the computed values of mu, then we should be able to \"see\" from that viewpoint all the hull facets that define the lowest energy polyhedron.\n",
    "- The vertices of these facets are the \"active\" phases from which we can construct the pseudo-omnicomponent phase\n",
    "\n",
    "For the system bulk composition, we use the average composition of the system, normalized to one mole.  \n",
    "For the chemical potential we use 1.5 times the most negative chemical potential of any endmember in the system"
   ]
  },
  {
   "cell_type": "markdown",
   "metadata": {},
   "source": [
    "#### Reduce the C matrix to unique rows (unique phase stoichiometry)\n",
    "The c_inverse_array maps the indices of C_unique back to the full C matrix"
   ]
  },
  {
   "cell_type": "code",
   "execution_count": null,
   "metadata": {},
   "outputs": [],
   "source": [
    "C_unique,C_inverse_ind = np.unique(C, axis=0,return_inverse=True)\n",
    "C_unique.shape,C_inverse_ind.shape"
   ]
  },
  {
   "cell_type": "markdown",
   "metadata": {},
   "source": [
    "Examine the chemical potentials of all stoichiometrically redundant phases and load an array with the most negative chemical potential (the stablest) of all the values found."
   ]
  },
  {
   "cell_type": "code",
   "execution_count": null,
   "metadata": {},
   "outputs": [],
   "source": [
    "mu_unique = []\n",
    "for i in range(0,C_unique.shape[0]):\n",
    "     mu_unique.append(np.min(mu[np.where(C_inverse_ind == i)]))\n",
    "mu_unique = np.array(mu_unique)"
   ]
  },
  {
   "cell_type": "markdown",
   "metadata": {},
   "source": [
    "Next, scale all the rows for one mole of each phase"
   ]
  },
  {
   "cell_type": "code",
   "execution_count": null,
   "metadata": {},
   "outputs": [],
   "source": [
    "for i in range(0,C_unique.shape[0]):\n",
    "    sum = np.sum(C_unique[i,:])\n",
    "    C_unique[i,:] /= sum\n",
    "    mu_unique[i] /= sum"
   ]
  },
  {
   "cell_type": "markdown",
   "metadata": {},
   "source": [
    "Compute an average composition and assign it a chemical potentials 1.5 times more negative than the most negative unique endmember"
   ]
  },
  {
   "cell_type": "code",
   "execution_count": null,
   "metadata": {},
   "outputs": [],
   "source": [
    "blk_cmp = np.sum(C_unique,axis=0)\n",
    "blk_cmp = blk_cmp/np.sum(blk_cmp)\n",
    "print ('Average composition of the viewpoint:', blk_cmp)\n",
    "mu_blk_cmp = np.min(mu_unique)*1.5\n",
    "print ('Chemical potential of the viewpoint:', mu_blk_cmp)"
   ]
  },
  {
   "cell_type": "markdown",
   "metadata": {},
   "source": [
    "Now contruct the convex hull, using the extra bulk composition point as a viewpoint below the hull.  \n",
    "The 'OJ' option is required to avoid roundoff errors that inhibit contruction; remove the option and run the code for a complete explanation.  \n",
    "The 'OGn' option locates the viewpoint, which does not otherwise contribute to hull construction. "
   ]
  },
  {
   "cell_type": "code",
   "execution_count": null,
   "metadata": {},
   "outputs": [],
   "source": [
    "point_A = np.vstack((C_unique,blk_cmp))\n",
    "point_B = np.vstack((np.reshape(mu_unique,(mu_unique.shape[0],1)),np.array([mu_blk_cmp])))\n",
    "points = np.hstack((point_A,point_B))\n",
    "hull = sci.spatial.ConvexHull(points, qhull_options='QJ QG'+str(points.shape[0]-1))"
   ]
  },
  {
   "cell_type": "code",
   "execution_count": null,
   "metadata": {},
   "outputs": [],
   "source": [
    "hull.simplices.shape, hull.vertices.shape, hull.points.shape"
   ]
  },
  {
   "cell_type": "markdown",
   "metadata": {},
   "source": [
    "### (4) Cull the hull\n",
    "Determine which rows (phase endmembers) contribute to the lower most hull (as seen by the bulk composition)"
   ]
  },
  {
   "cell_type": "code",
   "execution_count": null,
   "metadata": {},
   "outputs": [],
   "source": [
    "act_ind = np.full(mu_unique.shape, False, dtype=bool)\n",
    "for visible_facet in hull.simplices[hull.good]:\n",
    "    for index in visible_facet:\n",
    "        act_ind[index] = True\n",
    "for i,v in enumerate(act_ind):\n",
    "    if not v:\n",
    "        print(row_names[i], 'is not on the lower hull')\n",
    "act_ind"
   ]
  },
  {
   "cell_type": "markdown",
   "metadata": {},
   "source": [
    "Remove rows from C and mu, that is remove the phases that cannot be \"seen\" from the viewpoint"
   ]
  },
  {
   "cell_type": "code",
   "execution_count": null,
   "metadata": {},
   "outputs": [],
   "source": [
    "mu = mu_unique[act_ind]\n",
    "mu.shape"
   ]
  },
  {
   "cell_type": "code",
   "execution_count": null,
   "metadata": {},
   "outputs": [],
   "source": [
    "C = C_unique[act_ind,:]\n",
    "C.shape"
   ]
  },
  {
   "cell_type": "markdown",
   "metadata": {},
   "source": [
    "### (5) solve for the internally consistent chemical potenials of the elements\n",
    "Note that the endmember chemical potentials are adjusted by the pseudo-phase solution entropy.  This insures that the regression yields endmember potentials for the chemical elements that are consistent with ideal mixing."
   ]
  },
  {
   "cell_type": "code",
   "execution_count": null,
   "metadata": {},
   "outputs": [],
   "source": [
    "Cplus = np.hstack((C,np.zeros((C.shape[0],1))))\n",
    "for i in range(0,C.shape[0]):\n",
    "    sum = np.sum(C[i,:])\n",
    "    s = 0.0\n",
    "    for j in range(0,C.shape[1]):\n",
    "        if C[i,j] > 0:\n",
    "            X = C[i,j]/sum\n",
    "            s += X*np.log(X)\n",
    "    Cplus[i,-1] = s*sum*8.3143*t"
   ]
  },
  {
   "cell_type": "markdown",
   "metadata": {},
   "source": [
    "The last regression parameter, $m$, is a multiplicity factor on the ideal entropy, while the other terms, $\\mu _i^{o,elm}$, are the endmember chemical potentials of the pseudo-phase. The endmembers are the chemical elements.  I.e.,  \n",
    "${\\hat G^{pseudo}} = \\sum\\limits_i^{elm} {X_i^{elm}} \\mu _i^{o,elm} + mRT\\sum\\limits_i^{elm} {X_i^{elm}\\ln } X_i^{elm}$"
   ]
  },
  {
   "cell_type": "code",
   "execution_count": null,
   "metadata": {},
   "outputs": [],
   "source": [
    "x,residuals,rank,s = np.linalg.lstsq(Cplus,mu,rcond=None)\n",
    "x,np.sqrt(residuals),rank,s"
   ]
  },
  {
   "cell_type": "markdown",
   "metadata": {},
   "source": [
    "Apply the offset to the endmember chemical potentials"
   ]
  },
  {
   "cell_type": "code",
   "execution_count": null,
   "metadata": {},
   "outputs": [],
   "source": [
    "for i in range(0,x.shape[0]-1):\n",
    "    x[i] += offset_value"
   ]
  },
  {
   "cell_type": "markdown",
   "metadata": {},
   "source": [
    "## Build endmembers of pseudo-phase using the coder module"
   ]
  },
  {
   "cell_type": "code",
   "execution_count": null,
   "metadata": {},
   "outputs": [],
   "source": [
    "modelCD = coder.StdStateModel()"
   ]
  },
  {
   "cell_type": "code",
   "execution_count": null,
   "metadata": {},
   "outputs": [],
   "source": [
    "GTP = sym.symbols('GTP')\n",
    "params = [('GTP','J',GTP)]\n",
    "modelCD.add_expression_to_model(GTP, params)"
   ]
  },
  {
   "cell_type": "code",
   "execution_count": null,
   "metadata": {},
   "outputs": [],
   "source": [
    "modelCD.set_module_name('pseudo_end')"
   ]
  },
  {
   "cell_type": "code",
   "execution_count": null,
   "metadata": {},
   "outputs": [],
   "source": [
    "model_working_dir = \"working\"\n",
    "!mkdir -p {model_working_dir}\n",
    "%cd {model_working_dir}"
   ]
  },
  {
   "cell_type": "code",
   "execution_count": null,
   "metadata": {},
   "outputs": [],
   "source": [
    "def standardize_formula(form):\n",
    "    cmp = form.split('O')\n",
    "    str = ''\n",
    "    if cmp[0][-1].isdigit():\n",
    "        str += cmp[0][:-1] + '(' + cmp[0][-1] + ')'\n",
    "    else:\n",
    "        str += cmp[0] + '(1)'\n",
    "    if cmp[1] == '':\n",
    "        str += 'O'\n",
    "    else:\n",
    "        str += 'O(' + cmp[1] + ')'\n",
    "    return str"
   ]
  },
  {
   "cell_type": "code",
   "execution_count": null,
   "metadata": {},
   "outputs": [],
   "source": [
    "model_type = \"calib\"\n",
    "for ind,elm in enumerate(elm_sys):\n",
    "    if use_oxides_as_basis:\n",
    "        formula = standardize_formula(elm)\n",
    "    else:\n",
    "        formula = elm+'(1)'\n",
    "    param_dict = {'Phase':elm,'Formula':formula,'T_r':298.15,'P_r':1.0,'GTP':x[ind]}\n",
    "    print (param_dict)\n",
    "    result = modelCD.create_code_module(phase=param_dict.pop('Phase', None),\n",
    "                                      formula=param_dict.pop('Formula', None),\n",
    "                                      params=param_dict,\n",
    "                                      module_type=model_type,\n",
    "                                      silent=True)\n",
    "    print ('Component', elm, 'done!')"
   ]
  },
  {
   "cell_type": "markdown",
   "metadata": {},
   "source": [
    "Build the code (ignore error messages generated by Cython regarding 'language_level')"
   ]
  },
  {
   "cell_type": "code",
   "execution_count": null,
   "metadata": {},
   "outputs": [],
   "source": [
    "import pseudo_end\n",
    "%cd .."
   ]
  },
  {
   "cell_type": "markdown",
   "metadata": {},
   "source": [
    "## Test the endmember code"
   ]
  },
  {
   "cell_type": "code",
   "execution_count": null,
   "metadata": {},
   "outputs": [],
   "source": [
    "if test_endmember_code:\n",
    "    print ('Endmember metadata:')\n",
    "    try:\n",
    "        print(pseudo_end.cy_Fe_pseudo_end_calib_identifier())\n",
    "        print(pseudo_end.cy_Fe_pseudo_end_calib_name())\n",
    "        print(pseudo_end.cy_Fe_pseudo_end_calib_formula())\n",
    "        print(pseudo_end.cy_Fe_pseudo_end_calib_mw())\n",
    "        print(pseudo_end.cy_Fe_pseudo_end_calib_elements())\n",
    "    except AttributeError:\n",
    "        pass\n",
    "    fmt = \"{0:<10.10s} {1:13.6e} {2:<10.10s}\"\n",
    "    print ('Thermodynamic properties:')\n",
    "    try:\n",
    "        print(fmt.format('G', pseudo_end.cy_Fe_pseudo_end_calib_g(t,p), 'J/m'))\n",
    "        print(fmt.format('dGdT', pseudo_end.cy_Fe_pseudo_end_calib_dgdt(t,p), 'J/K-m'))\n",
    "        print(fmt.format('dGdP', pseudo_end.cy_Fe_pseudo_end_calib_dgdp(t,p), 'J/bar-m'))\n",
    "        print(fmt.format('d2GdP2', pseudo_end.cy_Fe_pseudo_end_calib_d2gdt2(t,p), 'J/K^2-m'))\n",
    "        print(fmt.format('d2GdTdP', pseudo_end.cy_Fe_pseudo_end_calib_d2gdtdp(t,p), 'J/K-bar-m'))\n",
    "        print(fmt.format('d2GdP2', pseudo_end.cy_Fe_pseudo_end_calib_d2gdp2(t,p), 'J/bar^2-m'))\n",
    "        print(fmt.format('d3GdT3', pseudo_end.cy_Fe_pseudo_end_calib_d3gdt3(t,p), 'J/K^3-m'))\n",
    "        print(fmt.format('d3GdT2dP', pseudo_end.cy_Fe_pseudo_end_calib_d3gdt2dp(t,p), 'J/K^2-bar-m'))\n",
    "        print(fmt.format('d3GdTdP2', pseudo_end.cy_Fe_pseudo_end_calib_d3gdtdp2(t,p), 'J/K-bar^2-m'))\n",
    "        print(fmt.format('d3GdP3', pseudo_end.cy_Fe_pseudo_end_calib_d3gdp3(t,p), 'J/bar^3-m'))\n",
    "        print(fmt.format('S', pseudo_end.cy_Fe_pseudo_end_calib_s(t,p), 'J/K-m'))\n",
    "        print(fmt.format('V', pseudo_end.cy_Fe_pseudo_end_calib_v(t,p), 'J/bar-m'))\n",
    "        print(fmt.format('Cv', pseudo_end.cy_Fe_pseudo_end_calib_cv(t,p), 'J/K-m'))\n",
    "        print(fmt.format('Cp', pseudo_end.cy_Fe_pseudo_end_calib_cp(t,p), 'J/K-m'))\n",
    "        print(fmt.format('dCpdT', pseudo_end.cy_Fe_pseudo_end_calib_dcpdt(t,p), 'J/K^2-m'))\n",
    "        print(fmt.format('alpha', pseudo_end.cy_Fe_pseudo_end_calib_alpha(t,p), '1/K'))\n",
    "        print(fmt.format('beta', pseudo_end.cy_Fe_pseudo_end_calib_beta(t,p), '1/bar'))\n",
    "        print(fmt.format('K', pseudo_end.cy_Fe_pseudo_end_calib_K(t,p), 'bar'))\n",
    "        print(fmt.format('Kp', pseudo_end.cy_Fe_pseudo_end_calib_Kp(t,p), ''))\n",
    "    except AttributeError:\n",
    "        pass\n",
    "    print ('Parameters:')\n",
    "    try:\n",
    "        npar = pseudo_end.cy_Fe_pseudo_end_get_param_number()\n",
    "        names = pseudo_end.cy_Fe_pseudo_end_get_param_names()\n",
    "        units = pseudo_end.cy_Fe_pseudo_end_get_param_units()\n",
    "        values = pseudo_end.cy_Fe_pseudo_end_get_param_values()\n",
    "        fmt = \"{0:<10.10s} {1:13.6e} {2:13.6e} {3:<10.10s}\"\n",
    "        for i in range(0,npar):\n",
    "            print(fmt.format(names[i], values[i], pseudo_end.cy_Fe_pseudo_end_get_param_value(i), units[i]))\n",
    "    except AttributeError:\n",
    "        pass\n",
    "    try:\n",
    "        values[1] = 100.0\n",
    "        pseudo_end.cy_Fe_pseudo_end_set_param_values(values)\n",
    "        fmt = \"{0:<10.10s} {1:13.6e} {2:13.6e} {3:<10.10s}\"\n",
    "        for i in range(0,npar):\n",
    "            print(fmt.format(names[i], values[i], pseudo_end.cy_Fe_pseudo_end_get_param_value(i), units[i]))\n",
    "    except (AttributeError, NameError):\n",
    "        pass\n",
    "    try:\n",
    "        pseudo_end.cy_Fe_pseudo_end_set_param_value(1, 1.0)\n",
    "        fmt = \"{0:<10.10s} {1:13.6e} {2:13.6e} {3:<10.10s}\"\n",
    "        for i in range(0,npar):\n",
    "            print(fmt.format(names[i], values[i], pseudo_end.cy_Fe_pseudo_end_get_param_value(i), units[i]))\n",
    "    except AttributeError:\n",
    "        pass"
   ]
  },
  {
   "cell_type": "markdown",
   "metadata": {},
   "source": [
    "## Build solution pseudo-phase using the coder module\n",
    "This code utilizes the previous endmember models generated above. "
   ]
  },
  {
   "cell_type": "code",
   "execution_count": null,
   "metadata": {},
   "outputs": [],
   "source": [
    "c = len(elm_sys)"
   ]
  },
  {
   "cell_type": "code",
   "execution_count": null,
   "metadata": {},
   "outputs": [],
   "source": [
    "modelCD = coder.SimpleSolnModel(nc=c)"
   ]
  },
  {
   "cell_type": "code",
   "execution_count": null,
   "metadata": {},
   "outputs": [],
   "source": [
    "n = modelCD.n\n",
    "nT = modelCD.nT\n",
    "X = n/nT"
   ]
  },
  {
   "cell_type": "code",
   "execution_count": null,
   "metadata": {},
   "outputs": [],
   "source": [
    "T = modelCD.get_symbol_for_t()\n",
    "mu = modelCD.mu"
   ]
  },
  {
   "cell_type": "code",
   "execution_count": null,
   "metadata": {},
   "outputs": [],
   "source": [
    "G_ss = (n.transpose()*mu)[0]\n",
    "G_ss"
   ]
  },
  {
   "cell_type": "code",
   "execution_count": null,
   "metadata": {},
   "outputs": [],
   "source": [
    "S_config,R,multiplier = sym.symbols('S_config R multiplier')\n",
    "S_config = 0\n",
    "for i in range(0,c):\n",
    "    S_config += X[i]*sym.log(X[i])\n",
    "S_config *= -R*nT*multiplier"
   ]
  },
  {
   "cell_type": "code",
   "execution_count": null,
   "metadata": {},
   "outputs": [],
   "source": [
    "G_config = sym.simplify(-T*S_config)\n",
    "G_config"
   ]
  },
  {
   "cell_type": "code",
   "execution_count": null,
   "metadata": {},
   "outputs": [],
   "source": [
    "G = G_ss + G_config"
   ]
  },
  {
   "cell_type": "code",
   "execution_count": null,
   "metadata": {},
   "outputs": [],
   "source": [
    "modelCD.add_expression_to_model(G, [('multiplier', 'none', multiplier)])"
   ]
  },
  {
   "cell_type": "code",
   "execution_count": null,
   "metadata": {},
   "outputs": [],
   "source": [
    "modelCD.module = \"pseudo_soln\""
   ]
  },
  {
   "cell_type": "code",
   "execution_count": null,
   "metadata": {},
   "outputs": [],
   "source": [
    "formula = ''\n",
    "convert = []\n",
    "test = []\n",
    "if use_oxides_as_basis:\n",
    "    for ind,elm in enumerate(elm_sys):\n",
    "        ox_index = list(core.chem.oxide_props['oxides']).index(elm)\n",
    "        ox_cat = core.chem.oxide_props['cations'][ox_index]\n",
    "        formula += ox_cat + '[' + ox_cat + ']'\n",
    "        ox_cat_num = core.chem.oxide_props['cat_num'][ox_index]\n",
    "        if ox_cat_num > 1:\n",
    "            convert.append('['+str(ind)+']=['+ox_cat+']/'+str(ox_cat_num)+'.0')\n",
    "        else:\n",
    "            convert.append('['+str(ind)+']=['+ox_cat+']')\n",
    "        test.append('['+str(ind)+'] >= 0.0')\n",
    "    formula += 'O[O]'\n",
    "else:\n",
    "    for ind,elm in enumerate(elm_sys):\n",
    "        formula += elm + '[' + elm + ']'\n",
    "        convert.append('['+str(ind)+']=['+elm+']')\n",
    "        test.append('['+str(ind)+'] >= 0.0')\n",
    "formula, convert, test"
   ]
  },
  {
   "cell_type": "code",
   "execution_count": null,
   "metadata": {},
   "outputs": [],
   "source": [
    "modelCD.formula_string = formula\n",
    "modelCD.conversion_string = convert\n",
    "modelCD.test_string = test"
   ]
  },
  {
   "cell_type": "code",
   "execution_count": null,
   "metadata": {},
   "outputs": [],
   "source": [
    "paramValues = {'multiplier':x[-1],'T_r':298.15,'P_r':1.0,}\n",
    "endmembers = []\n",
    "for elm in elm_sys:\n",
    "    endmembers.append(str(elm)+'_pseudo_end')"
   ]
  },
  {
   "cell_type": "code",
   "execution_count": null,
   "metadata": {},
   "outputs": [],
   "source": [
    "model_working_dir = \"working\"\n",
    "!mkdir -p {model_working_dir}\n",
    "%cd {model_working_dir}"
   ]
  },
  {
   "cell_type": "code",
   "execution_count": null,
   "metadata": {},
   "outputs": [],
   "source": [
    "modelCD.create_code_module(phase=\"PseudoPhase\", params=paramValues, endmembers=endmembers, \n",
    "                         prefix=\"cy\", module_type='calib', silent=False)"
   ]
  },
  {
   "cell_type": "code",
   "execution_count": null,
   "metadata": {},
   "outputs": [],
   "source": [
    "import pseudo_soln\n",
    "%cd .."
   ]
  },
  {
   "cell_type": "markdown",
   "metadata": {},
   "source": [
    "## Test the solution\n",
    "Characteristics of the solution"
   ]
  },
  {
   "cell_type": "code",
   "execution_count": null,
   "metadata": {},
   "outputs": [],
   "source": [
    "if test_solution_code:\n",
    "    mol = blk_cmp\n",
    "    print ('Solution metadata:')\n",
    "    try:\n",
    "        print(pseudo_soln.cy_PseudoPhase_pseudo_soln_calib_identifier())\n",
    "        print(pseudo_soln.cy_PseudoPhase_pseudo_soln_calib_name())\n",
    "        print(pseudo_soln.cy_PseudoPhase_pseudo_soln_calib_formula(t,p,mol))\n",
    "    except AttributeError:\n",
    "        pass\n",
    "    print ('Elemental conversion routines')\n",
    "    try:\n",
    "        e = np.zeros(106)\n",
    "        sum = np.sum(mol)\n",
    "        for index in range(0,c):\n",
    "            end = pseudo_soln.cy_PseudoPhase_pseudo_soln_calib_endmember_elements(index)\n",
    "            for i in range(0,106):\n",
    "                e[i] += end[i]*mol[index]/sum\n",
    "        nConv = pseudo_soln.cy_PseudoPhase_pseudo_soln_calib_conv_elm_to_moles(e)\n",
    "        for i in range(0,c):\n",
    "            print ('X[{0:d}] input {1:13.6e}, calc {2:13.6e}, diff {3:13.6e}'.format(\n",
    "                i, mol[i]/sum, nConv[i], nConv[i]-mol[i]/sum))\n",
    "        if not pseudo_soln.cy_PseudoPhase_pseudo_soln_calib_test_moles(nConv):\n",
    "            print ('Output of intrinsic composition calculation fails tests for permissible values.')\n",
    "    except AttributeError:\n",
    "        pass\n",
    "    print ('Composition conversion routines')\n",
    "    try:\n",
    "        print (pseudo_soln.cy_PseudoPhase_pseudo_soln_calib_conv_moles_to_tot_moles(mol))\n",
    "        print (pseudo_soln.cy_PseudoPhase_pseudo_soln_calib_conv_moles_to_mole_frac(mol))\n",
    "        e = pseudo_soln.cy_PseudoPhase_pseudo_soln_calib_conv_moles_to_elm(mol)\n",
    "        print (e)\n",
    "        print (pseudo_soln.cy_PseudoPhase_pseudo_soln_calib_conv_elm_to_moles(e))\n",
    "        print (pseudo_soln.cy_PseudoPhase_pseudo_soln_calib_conv_elm_to_tot_moles(e))\n",
    "        print (pseudo_soln.cy_PseudoPhase_pseudo_soln_calib_conv_elm_to_tot_grams(e))\n",
    "    except AttributeError:\n",
    "        pass\n",
    "    print ('Simple thermodynamic functions')\n",
    "    fmt = \"{0:<10.10s} {1:13.6e} {2:<10.10s}\"\n",
    "    try:\n",
    "        print(fmt.format('G', pseudo_soln.cy_PseudoPhase_pseudo_soln_calib_g(t,p,mol), 'J'))\n",
    "        print(fmt.format('dGdT', pseudo_soln.cy_PseudoPhase_pseudo_soln_calib_dgdt(t,p,mol), 'J/K'))\n",
    "        print(fmt.format('dGdP', pseudo_soln.cy_PseudoPhase_pseudo_soln_calib_dgdp(t,p,mol), 'J/bar'))\n",
    "        print(fmt.format('d2GdT2', pseudo_soln.cy_PseudoPhase_pseudo_soln_calib_d2gdt2(t,p,mol), 'J/K^2'))\n",
    "        print(fmt.format('d2GdTdP', pseudo_soln.cy_PseudoPhase_pseudo_soln_calib_d2gdtdp(t,p,mol), 'J/K-bar'))\n",
    "        print(fmt.format('d2GdP2', pseudo_soln.cy_PseudoPhase_pseudo_soln_calib_d2gdp2(t,p,mol), 'J/bar^2'))\n",
    "        print(fmt.format('d3GdT3', pseudo_soln.cy_PseudoPhase_pseudo_soln_calib_d3gdt3(t,p,mol), 'J/K^3'))\n",
    "        print(fmt.format('d3GdT2dP', pseudo_soln.cy_PseudoPhase_pseudo_soln_calib_d3gdt2dp(t,p,mol), 'J/K^2-bar'))\n",
    "        print(fmt.format('d3GdTdP2', pseudo_soln.cy_PseudoPhase_pseudo_soln_calib_d3gdtdp2(t,p,mol), 'J/K-bar^2'))\n",
    "        print(fmt.format('d3GdP3', pseudo_soln.cy_PseudoPhase_pseudo_soln_calib_d3gdp3(t,p,mol), 'J/bar^3'))\n",
    "        print(fmt.format('S', pseudo_soln.cy_PseudoPhase_pseudo_soln_calib_s(t,p,mol), 'J/K'))\n",
    "        print(fmt.format('V', pseudo_soln.cy_PseudoPhase_pseudo_soln_calib_v(t,p,mol), 'J/bar'))\n",
    "        print(fmt.format('Cv', pseudo_soln.cy_PseudoPhase_pseudo_soln_calib_cv(t,p,mol), 'J/K'))\n",
    "        print(fmt.format('Cp', pseudo_soln.cy_PseudoPhase_pseudo_soln_calib_cp(t,p,mol), 'J/K'))\n",
    "        print(fmt.format('dCpdT', pseudo_soln.cy_PseudoPhase_pseudo_soln_calib_dcpdt(t,p,mol), 'J/K^2'))\n",
    "        print(fmt.format('alpha', pseudo_soln.cy_PseudoPhase_pseudo_soln_calib_alpha(t,p,mol), '1/K'))\n",
    "        print(fmt.format('beta', pseudo_soln.cy_PseudoPhase_pseudo_soln_calib_beta(t,p,mol), '1/bar'))\n",
    "        print(fmt.format('K', pseudo_soln.cy_PseudoPhase_pseudo_soln_calib_K(t,p,mol), 'bar'))\n",
    "        print(fmt.format('Kp', pseudo_soln.cy_PseudoPhase_pseudo_soln_calib_Kp(t,p,mol), ''))\n",
    "    except AttributeError:\n",
    "        pass\n",
    "    print ('Endmember properties')\n",
    "    fmt = \"{0:<10.10s} {1:13.6e} {2:<15.15s}\"\n",
    "    try:\n",
    "        print (\"number of components\", pseudo_soln.cy_PseudoPhase_pseudo_soln_calib_endmember_number())\n",
    "        for index in range(0, c):\n",
    "            print (\"{0:<20.20s}\".format(pseudo_soln.cy_PseudoPhase_pseudo_soln_calib_endmember_name(index)), end=' ')\n",
    "            print (\"{0:<20.20s}\".format(pseudo_soln.cy_PseudoPhase_pseudo_soln_calib_endmember_formula(index)), end=' ')\n",
    "            print (\"mw: {0:10.2f}\".format(pseudo_soln.cy_PseudoPhase_pseudo_soln_calib_endmember_mw(index)))\n",
    "            print (fmt.format('mu0', pseudo_soln.cy_PseudoPhase_pseudo_soln_calib_endmember_mu0(index,t,p), 'J/mol'))\n",
    "            print (fmt.format('dmu0dT', pseudo_soln.cy_PseudoPhase_pseudo_soln_calib_endmember_dmu0dT(index,t,p), 'J/K-mol'))\n",
    "            print (fmt.format('dmu0dP', pseudo_soln.cy_PseudoPhase_pseudo_soln_calib_endmember_dmu0dP(index,t,p), 'J/bar-mol'))\n",
    "            print (fmt.format('d2mu0dT2', pseudo_soln.cy_PseudoPhase_pseudo_soln_calib_endmember_d2mu0dT2(index,t,p), 'J/K^2-mol'))\n",
    "            print (fmt.format('d2mu0dTdP', pseudo_soln.cy_PseudoPhase_pseudo_soln_calib_endmember_d2mu0dTdP(index,t,p), 'J/K-bar-mol'))\n",
    "            print (fmt.format('d2mu0dP2', pseudo_soln.cy_PseudoPhase_pseudo_soln_calib_endmember_d2mu0dP2(index,t,p), 'J/bar^2-mol'))\n",
    "            print (fmt.format('d3mu0dT3', pseudo_soln.cy_PseudoPhase_pseudo_soln_calib_endmember_d3mu0dT3(index,t,p), 'J/K^3-mol'))\n",
    "            print (fmt.format('d3mu0dT2dP', pseudo_soln.cy_PseudoPhase_pseudo_soln_calib_endmember_d3mu0dT2dP(index,t,p), 'J/K^2-bar-mol'))\n",
    "            print (fmt.format('d3mu0dTdP2', pseudo_soln.cy_PseudoPhase_pseudo_soln_calib_endmember_d3mu0dTdP2(index,t,p), 'J/K-bar^2-mol'))\n",
    "            print (fmt.format('d3mu0dP3', pseudo_soln.cy_PseudoPhase_pseudo_soln_calib_endmember_d3mu0dP3(index,t,p), 'J/bar^3-mol'))\n",
    "            print (\"Element array:\")\n",
    "            print (pseudo_soln.cy_PseudoPhase_pseudo_soln_calib_endmember_elements(index))\n",
    "            print ()\n",
    "    except AttributeError:\n",
    "        pass\n",
    "    print ('Species properties:')\n",
    "    fmt = \"{0:<10.10s} {1:13.6e} {2:<15.15s}\"\n",
    "    try:\n",
    "        print (\"number of species\", pseudo_soln.cy_PseudoPhase_pseudo_soln_calib_species_number())\n",
    "        for index in range(0, c):\n",
    "            print (\"{0:<20.20s}\".format(pseudo_soln.cy_PseudoPhase_pseudo_soln_calib_species_name(index)), end=' ')\n",
    "            print (\"{0:<20.20s}\".format(pseudo_soln.cy_PseudoPhase_pseudo_soln_calib_species_formula(index)), end=' ')\n",
    "            print (\"mw: {0:10.2f}\".format(pseudo_soln.cy_PseudoPhase_pseudo_soln_calib_species_mw(index)))\n",
    "            print (\"Element array:\")\n",
    "            print (pseudo_soln.cy_PseudoPhase_pseudo_soln_calib_species_elements(index))\n",
    "            print ()\n",
    "    except AttributeError:\n",
    "        pass\n",
    "    print ('First compositional derivatines:')\n",
    "    def printResult(name, result, units):\n",
    "        print (\"{0:<10.10s}\".format(name), end=' ')\n",
    "        [print (\"{0:13.6e}\".format(x), end=' ') for x in result]\n",
    "        print (\"{0:<10.10s}\".format(units))\n",
    "    def printLabels(n):\n",
    "        print (\"{0:<18.18s}\".format(''), end=' ')\n",
    "        [print (\"[{0:3d}]{1:<8.8s}\".format(idx, ''), end=' ') for idx in range(len(n))]\n",
    "        print ()\n",
    "    printLabels(mol)\n",
    "    try:\n",
    "        printResult('dGdn', pseudo_soln.cy_PseudoPhase_pseudo_soln_calib_dgdn(t,p,mol), 'J/m')\n",
    "        printResult('d2GdndT', pseudo_soln.cy_PseudoPhase_pseudo_soln_calib_d2gdndt(t,p,mol), 'J/K-m')\n",
    "        printResult('d2GdndP', pseudo_soln.cy_PseudoPhase_pseudo_soln_calib_d2gdndp(t,p,mol), 'J/bar-m')\n",
    "        printResult('d3GdndT2', pseudo_soln.cy_PseudoPhase_pseudo_soln_calib_d3gdndt2(t,p,mol), 'J/K^2-m')\n",
    "        printResult('d3GdndTdP', pseudo_soln.cy_PseudoPhase_pseudo_soln_calib_d3gdndtdp(t,p,mol), 'J/K-bar-m')\n",
    "        printResult('d3GdndP2', pseudo_soln.cy_PseudoPhase_pseudo_soln_calib_d3gdndp2(t,p,mol), 'J/bar^2-m')\n",
    "        printResult('d4GdndT3', pseudo_soln.cy_PseudoPhase_pseudo_soln_calib_d4gdndt3(t,p,mol), 'J/K^3-m')\n",
    "        printResult('d4GdndT2dP', pseudo_soln.cy_PseudoPhase_pseudo_soln_calib_d4gdndt2dp(t,p,mol), 'J/K^2-bar-m')\n",
    "        printResult('d4GdndTdP2', pseudo_soln.cy_PseudoPhase_pseudo_soln_calib_d4gdndtdp2(t,p,mol), 'J/K-bar^2-m')\n",
    "        printResult('d4GdndP3', pseudo_soln.cy_PseudoPhase_pseudo_soln_calib_d4gdndp3(t,p,mol), 'J/bar^3-m')\n",
    "    except AttributeError:\n",
    "        pass \n",
    "    print ('Second compositional derivatives:')\n",
    "    def printResult(name, result, units):\n",
    "        print (\"{0:<10.10s}\".format(name), end=' ')\n",
    "        [print (\"{0:13.6e}\".format(x), end=' ') for x in result]\n",
    "        print (\"{0:<10.10s}\".format(units))\n",
    "    def printLabels(n):\n",
    "        print (\"{0:<18.18s}\".format(''), end=' ')\n",
    "        maxIdx = int(len(n)*(len(n)-1)/2 + len(n))\n",
    "        [print (\"[{0:3d}]{1:<8.8s}\".format(idx, ''), end=' ') for idx in range(maxIdx)]\n",
    "        print ()\n",
    "    printLabels(mol)\n",
    "    try:\n",
    "        printResult('d2Gdn2', pseudo_soln.cy_PseudoPhase_pseudo_soln_calib_d2gdn2(t,p,mol), 'J/m^2')\n",
    "        printResult('d3Gdn2dT', pseudo_soln.cy_PseudoPhase_pseudo_soln_calib_d3gdn2dt(t,p,mol), 'J/K-m^2')\n",
    "        printResult('d3Gdn2dP', pseudo_soln.cy_PseudoPhase_pseudo_soln_calib_d3gdn2dp(t,p,mol), 'J/bar-m^2')\n",
    "        printResult('d4Gdn2dT2', pseudo_soln.cy_PseudoPhase_pseudo_soln_calib_d4gdn2dt2(t,p,mol), 'J/K^2-m^2')\n",
    "        printResult('d4Gdn2dTdP', pseudo_soln.cy_PseudoPhase_pseudo_soln_calib_d4gdn2dtdp(t,p,mol), 'J/K-bar-m^2')\n",
    "        printResult('d4Gdn2dP2', pseudo_soln.cy_PseudoPhase_pseudo_soln_calib_d4gdn2dp2(t,p,mol), 'J/bar^2-m^2')\n",
    "        printResult('d5Gdn2dT3', pseudo_soln.cy_PseudoPhase_pseudo_soln_calib_d5gdn2dt3(t,p,mol), 'J/K^3-m^2')\n",
    "        printResult('d5Gdn2dT2dP', pseudo_soln.cy_PseudoPhase_pseudo_soln_calib_d5gdn2dt2dp(t,p,mol), 'J/K^2-bar-m^2')\n",
    "        printResult('d5Gdn2dTdP2', pseudo_soln.cy_PseudoPhase_pseudo_soln_calib_d5gdn2dtdp2(t,p,mol), 'J/K-bar^2-m^2')\n",
    "        printResult('d5Gdn2dP3', pseudo_soln.cy_PseudoPhase_pseudo_soln_calib_d5gdn2dp3(t,p,mol), 'J/bar^3-m^2')\n",
    "    except AttributeError:\n",
    "        pass\n",
    "    print ('Third compositional derivatives:')\n",
    "    def printResult(name, result, units):\n",
    "        print (\"{0:<10.10s}\".format(name), end=' ')\n",
    "        [print (\"{0:10.3e}\".format(x), end=' ') for x in result]\n",
    "        print (\"{0:<14.14s}\".format(units))\n",
    "    def printLabels(n):\n",
    "        print (\"{0:<15.15s}\".format(''), end=' ')\n",
    "        maxIdx = int(len(n)*(len(n)+1)*(len(n)+2)/6)\n",
    "        [print (\"[{0:3d}]{1:<5.5s}\".format(idx, ''), end=' ') for idx in range(maxIdx)]\n",
    "        print ()\n",
    "    printLabels(mol)\n",
    "    try:\n",
    "        printResult('d3Gdn3', pseudo_soln.cy_PseudoPhase_pseudo_soln_calib_d3gdn3(t,p,mol), 'J/m^3')\n",
    "        printResult('d4Gdn3dT', pseudo_soln.cy_PseudoPhase_pseudo_soln_calib_d4gdn3dt(t,p,mol), 'J/K-m^3')\n",
    "        printResult('d4Gdn3dP', pseudo_soln.cy_PseudoPhase_pseudo_soln_calib_d4gdn3dp(t,p,mol), 'J/bar-m^3')\n",
    "        printResult('d5Gdn3dT2', pseudo_soln.cy_PseudoPhase_pseudo_soln_calib_d5gdn3dt2(t,p,mol), 'J/K^2-m^3')\n",
    "        printResult('d5Gdn3dTdP', pseudo_soln.cy_PseudoPhase_pseudo_soln_calib_d5gdn3dtdp(t,p,mol), 'J/K-bar-m^3')\n",
    "        printResult('d5Gdn3dP2', pseudo_soln.cy_PseudoPhase_pseudo_soln_calib_d5gdn3dp2(t,p,mol), 'J/bar^2-m^3')\n",
    "        printResult('d6Gdn3dT3', pseudo_soln.cy_PseudoPhase_pseudo_soln_calib_d6gdn3dt3(t,p,mol), 'J/K^3-m^3')\n",
    "        printResult('d6Gdn3dT2dP', pseudo_soln.cy_PseudoPhase_pseudo_soln_calib_d6gdn3dt2dp(t,p,mol), 'J/K^2-bar-m^3')\n",
    "        printResult('d6Gdn3dTdP2', pseudo_soln.cy_PseudoPhase_pseudo_soln_calib_d6gdn3dtdp2(t,p,mol), 'J/K-bar^2-m^3')\n",
    "        printResult('d6Gdn3dP3', pseudo_soln.cy_PseudoPhase_pseudo_soln_calib_d6gdn3dp3(t,p,mol), 'J/bar^3-m^3')\n",
    "    except AttributeError:\n",
    "        pass"
   ]
  },
  {
   "cell_type": "markdown",
   "metadata": {},
   "source": [
    "## Import model for the pseudo-phase into the ThermoEngine package"
   ]
  },
  {
   "cell_type": "code",
   "execution_count": null,
   "metadata": {},
   "outputs": [],
   "source": [
    "#%cd working\n",
    "#import pseudo_soln\n",
    "#%cd ..\n",
    "modelPseudo = model.Database(database=\"CoderModule\", calib=\"calib\", \n",
    "                         phase_tuple=('pseudo_soln', {'Psu':['PseudoPhase','solution']}))\n",
    "Pseudo = modelPseudo.get_phase('Psu')\n",
    "\n",
    "for phase_name, abbrv in zip(modelPseudo.phase_info.phase_name,modelPseudo.phase_info.abbrev):\n",
    "    print ('Abbreviation: {0:<10s} Name: {1:<30s}'.format(abbrv, phase_name))"
   ]
  },
  {
   "cell_type": "markdown",
   "metadata": {},
   "source": [
    "Check pseudo-phase import by printning some phase characteristics"
   ]
  },
  {
   "cell_type": "code",
   "execution_count": null,
   "metadata": {},
   "outputs": [],
   "source": [
    "print (Pseudo.props['phase_name'])\n",
    "print (Pseudo.props['formula'])\n",
    "print (Pseudo.props['molwt'])\n",
    "print (Pseudo.props['abbrev'])\n",
    "print (Pseudo.props['endmember_num'])\n",
    "print (Pseudo.props['endmember_name'])"
   ]
  },
  {
   "cell_type": "markdown",
   "metadata": {},
   "source": [
    "## Try the equiibrium calculations with the omnicomponent pseudo-phase\n",
    "#### Choose a phase assemblage"
   ]
  },
  {
   "cell_type": "code",
   "execution_count": null,
   "metadata": {},
   "outputs": [],
   "source": [
    "#stix_phases.keys()\n",
    "phs_sys  = [Pseudo]\n",
    "phs_sys += [stix_phases['Fsp'], stix_phases['Ol'], stix_phases['Cpx'], stix_phases['Grt']] # solutiopns,\n",
    "phs_sys += [stix_phases['Qz'], stix_phases['Ky'], stix_phases['Nph']]\n",
    "#\n",
    "#phs_sys  = [Pseudo, stix_phases['Opx']]"
   ]
  },
  {
   "cell_type": "code",
   "execution_count": null,
   "metadata": {},
   "outputs": [],
   "source": [
    "equil = equilibrate.Equilibrate(['O','Na','Mg','Al','Si','Ca','Fe'], phs_sys)"
   ]
  },
  {
   "cell_type": "markdown",
   "metadata": {},
   "source": [
    "#### Set the bulk composition of the system\n",
    "Input is a bulk peridotite suggested by Stixrude and Lithgow-Bertelloni"
   ]
  },
  {
   "cell_type": "code",
   "execution_count": null,
   "metadata": {},
   "outputs": [],
   "source": [
    "grm_oxides = {\n",
    "    'SiO2':  45.47, \n",
    "    'Al2O3':  4.0, \n",
    "    'FeO':    7.22, \n",
    "    'MgO':   38.53, \n",
    "    'CaO':    3.59, \n",
    "    'Na2O':   0.31\n",
    "}\n",
    "blk_cmp = np.zeros(7)\n",
    "mol_oxides = core.chem.format_mol_oxide_comp(grm_oxides, convert_grams_to_moles=True)\n",
    "blk_cmp[0] = 2.0*mol_oxides[0] + 3.0*mol_oxides[2] + mol_oxides[5] + mol_oxides[7] + mol_oxides[10] + mol_oxides[11] # oxygen\n",
    "blk_cmp[1] = 2.0*mol_oxides[11] # sodium\n",
    "blk_cmp[2] = mol_oxides[7]      # magnesium\n",
    "blk_cmp[3] = 2.0*mol_oxides[2]  # aluminum\n",
    "blk_cmp[4] = mol_oxides[0]      # silicon\n",
    "blk_cmp[5] = mol_oxides[10]     # calcium\n",
    "blk_cmp[6] = mol_oxides[5]      # iron"
   ]
  },
  {
   "cell_type": "code",
   "execution_count": null,
   "metadata": {},
   "outputs": [],
   "source": [
    "state = equil.execute(t, p, bulk_comp=blk_cmp, debug=0)\n",
    "state.print_state()"
   ]
  },
  {
   "cell_type": "code",
   "execution_count": null,
   "metadata": {},
   "outputs": [],
   "source": []
  }
 ],
 "metadata": {
  "anaconda-cloud": {},
  "kernelspec": {
   "display_name": "Python 3",
   "language": "python",
   "name": "python3"
  },
  "language_info": {
   "codemirror_mode": {
    "name": "ipython",
    "version": 3
   },
   "file_extension": ".py",
   "mimetype": "text/x-python",
   "name": "python",
   "nbconvert_exporter": "python",
   "pygments_lexer": "ipython3",
   "version": "3.6.2"
  }
 },
 "nbformat": 4,
 "nbformat_minor": 2
}
