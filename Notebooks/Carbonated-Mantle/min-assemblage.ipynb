{
 "cells": [
  {
   "cell_type": "markdown",
   "metadata": {},
   "source": [
    "# Stixrude-Lithgow-Bertelloni min assemblage\n",
    "Required Python packages/modules"
   ]
  },
  {
   "cell_type": "code",
   "execution_count": null,
   "metadata": {},
   "outputs": [],
   "source": [
    "import numpy as np\n",
    "from os import path\n",
    "import pandas as pd\n",
    "import scipy.optimize as opt\n",
    "from scipy import optimize\n",
    "import scipy.linalg as lin \n",
    "import scipy as sp\n",
    "import sys\n",
    "import sympy as sym\n",
    "\n",
    "from collections import OrderedDict as odict\n",
    "\n",
    "import matplotlib.pyplot as plt"
   ]
  },
  {
   "cell_type": "code",
   "execution_count": null,
   "metadata": {},
   "outputs": [],
   "source": []
  },
  {
   "cell_type": "markdown",
   "metadata": {},
   "source": [
    "Required ENKI modules (ignore the error message from Rubicon running under Python 3.6+)"
   ]
  },
  {
   "cell_type": "code",
   "execution_count": null,
   "metadata": {},
   "outputs": [],
   "source": [
    "from thermoengine import coder, core, phases, model, equilibrate"
   ]
  },
  {
   "cell_type": "code",
   "execution_count": null,
   "metadata": {},
   "outputs": [],
   "source": []
  },
  {
   "cell_type": "code",
   "execution_count": null,
   "metadata": {},
   "outputs": [],
   "source": []
  },
  {
   "cell_type": "code",
   "execution_count": null,
   "metadata": {},
   "outputs": [],
   "source": [
    "def get_subsolidus_phases(database='Berman'):\n",
    "    remove_phases = ['Liq','H2O']\n",
    "    \n",
    "    modelDB = model.Database(database)\n",
    "    if database=='Stixrude':\n",
    "        pure_soln_endmems = [\n",
    "            'An', 'Ab', 'Spl', 'Hc', 'Fo', 'Fa', 'MgWds', 'FeWds', 'MgRwd', \n",
    "            'FeRwd', 'En', 'Fs', 'MgTs', 'oDi', 'Di', 'Hd', 'cEn', \n",
    "            'CaTs', 'Jd', 'hpcEn', 'hpcFs',  'MgAki', 'FeAki', 'AlAki', 'Prp', \n",
    "            'Alm', 'Grs', 'Maj', 'NaMaj', 'MgPrv', 'FePrv', \n",
    "            'AlPrv', 'MgPpv', 'FePpv', 'AlPpv', 'Per', 'Wus', 'MgCf', 'FeCf', \n",
    "            'NaCf']\n",
    "        \n",
    "        # soln_keys_Stixrude = ['Fsp', 'Ol', 'Wds', 'Rwd', 'PrvS', 'PpvS', 'Opx', \n",
    "        #                   'Cpx', 'hpCpx', 'AkiS', 'Grt', 'Fp', 'CfS', 'SplS']\n",
    "        # pure_keys_Stixrude = ['CaPrv','Qz', 'Coe', 'Sti', 'Seif', 'Ky', 'Nph']\n",
    "    elif database=='Berman':\n",
    "        pure_soln_endmems = []\n",
    "        \n",
    "    else:\n",
    "        assert False, [\n",
    "            'Need to define list of pure solution endmembers to be removed '+\n",
    "            'from the system, to avoid double counting.']\n",
    "        \n",
    "\n",
    "    phases = modelDB.phases\n",
    "    [phases.pop(phs) for phs in remove_phases]\n",
    "    [phases.pop(phs) for phs in pure_soln_endmems]\n",
    "        \n",
    "    return phases\n",
    "        \n",
    "def system_energy_landscape(T, P, phases, prune_polymorphs=True, TOL=1e-3):\n",
    "    elem_comps = []\n",
    "    phs_sym = []\n",
    "    endmem_ids = []\n",
    "    mu = []\n",
    "    phase_comps = odict()\n",
    "    for phsnm in phases:\n",
    "        phs = phases[phsnm]\n",
    "        \n",
    "        elem_comp = phs.props['element_comp']\n",
    "        abbrev = phs.abbrev\n",
    "        endmem_num = phs.endmember_num\n",
    "        iendmem_ids = list(np.arange(endmem_num))\n",
    "        \n",
    "        if phs.phase_type=='pure':\n",
    "            nelem = np.sum(elem_comp)\n",
    "            mu += [phs.gibbs_energy(T, P)/nelem]\n",
    "            # print(nelem)\n",
    "        else:\n",
    "            nelem = np.sum(elem_comp,axis=1)\n",
    "            # print(nelem)\n",
    "            for i in iendmem_ids:\n",
    "                imol = np.eye(phs.endmember_num)[i]\n",
    "                mu += [phs.gibbs_energy(T, P, mol=imol,deriv={\"dmol\":1})[0,i]/nelem[i]]\n",
    "                # print(nelem[i])\n",
    "                \n",
    "        endmem_ids.extend(iendmem_ids)\n",
    "        phs_sym.extend(list(np.tile(abbrev,endmem_num)))\n",
    "        # print(elem_comp)\n",
    "        \n",
    "        phase_comps[phsnm] = elem_comp\n",
    "        \n",
    "        elem_comps.extend(elem_comp)\n",
    "        # print(elem_comp)\n",
    "        # print(phs)\n",
    "        \n",
    "    elem_comps = np.vstack(elem_comps)\n",
    "    \n",
    "    natoms = np.sum(elem_comps,axis=1)\n",
    "    elem_comps = elem_comps/natoms[:,np.newaxis]\n",
    "    \n",
    "    elem_mask = ~np.all(elem_comps<TOL, axis=0)\n",
    "    \n",
    "    for phsnm in phase_comps:\n",
    "        icomp = phase_comps[phsnm]\n",
    "        inatom = np.sum(icomp, axis=1)\n",
    "        phase_comps[phsnm] = icomp[:,elem_mask]/inatom[:,np.newaxis]\n",
    "        # phase_comps[phsnm] = icomp[:,elem_mask]\n",
    "    \n",
    "    elem_comps = elem_comps[:, elem_mask]\n",
    "    mu = np.array(mu)\n",
    "    endmem_ids = np.array(endmem_ids)\n",
    "    \n",
    "    sys_elems = core.chem.PERIODIC_ORDER[elem_mask]\n",
    "    \n",
    "    if prune_polymorphs:\n",
    "        phs_sym, endmem_ids, mu, elem_comps = (\n",
    "            remove_polymorphs(phs_sym, endmem_ids, mu, elem_comps))\n",
    "    \n",
    "    phs_sym = np.array(phs_sym)\n",
    "    return phs_sym, endmem_ids, mu, elem_comps, sys_elems, phase_comps\n",
    "\n",
    "def remove_polymorphs(phs_sym, endmem_ids, mu, elem_comps, decimals=4):\n",
    "    elem_round_comps = np.round(elem_comps, decimals=decimals)\n",
    "        # Drop identical comps\n",
    "    elem_comps_uniq = np.unique(elem_round_comps, axis=0)\n",
    "    \n",
    "    # uniq_num = elem_comps_uniq.shape[0]\n",
    "    mu_uniq = []\n",
    "    phs_sym_uniq = []\n",
    "    endmem_ids_uniq = []\n",
    "    for elem_comp in elem_comps_uniq:\n",
    "        is_equiv_comp = np.all(elem_round_comps == elem_comp[np.newaxis,:], axis=1)\n",
    "        equiv_ind = np.where(is_equiv_comp)[0]\n",
    "        min_ind = equiv_ind[np.argsort(mu[equiv_ind])[0]]\n",
    "        min_mu = mu[min_ind]\n",
    "        assert np.all(min_mu <= mu[equiv_ind]), 'fail'\n",
    "        \n",
    "        mu_uniq.append(min_mu)\n",
    "        phs_sym_uniq.append(phs_sym[min_ind])\n",
    "        endmem_ids_uniq.append(endmem_ids[min_ind])\n",
    "        \n",
    "    mu_uniq = np.array(mu_uniq)\n",
    "    phs_sym_uniq = np.array(phs_sym_uniq)\n",
    "    elem_comps_uniq = np.array(elem_comps_uniq)\n",
    "    \n",
    "    return phs_sym_uniq, endmem_ids_uniq, mu_uniq, elem_comps_uniq\n",
    "\n"
   ]
  },
  {
   "cell_type": "code",
   "execution_count": null,
   "metadata": {},
   "outputs": [],
   "source": []
  },
  {
   "cell_type": "code",
   "execution_count": null,
   "metadata": {},
   "outputs": [],
   "source": [
    "def eval_curv(comps, method, cross_term_inds):\n",
    "    single_pt = False\n",
    "    if comps.ndim==1:\n",
    "        single_pt = True\n",
    "        comps = comps[np.newaxis,:]\n",
    "        \n",
    "    if method=='quad':\n",
    "        XiXj = comps[:, cross_term_inds[0]]*comps[:, cross_term_inds[1]]\n",
    "        X2_sum = np.sum(XiXj,axis=1)\n",
    "        curv_term = X2_sum\n",
    "    elif method=='quad-full':\n",
    "        XiXj = comps[:, cross_term_inds[0]]*comps[:, cross_term_inds[1]]\n",
    "        curv_term = XiXj\n",
    "    elif method=='xlogx':\n",
    "        logX = np.log(comps)\n",
    "        logX[comps==0] = 0\n",
    "        XlogX = comps*logX\n",
    "        # XlogX[comps==0] = 0\n",
    "        XlogX_sum = np.sum(XlogX,axis=1)\n",
    "        curv_term = XlogX_sum\n",
    "    elif method=='none':\n",
    "        curv_term = np.zeros((comps.shape[0],0))\n",
    "    else:\n",
    "        assert False, method + ' is not a valid method for eval_curv.'\n",
    "        \n",
    "    if single_pt:\n",
    "        curv_term = curv_term[0]\n",
    "    \n",
    "    return curv_term"
   ]
  },
  {
   "cell_type": "code",
   "execution_count": null,
   "metadata": {},
   "outputs": [],
   "source": [
    "def init_lstsq(comps, mu, curv_method, cross_term_inds, yscl=None):\n",
    "    curv_term = eval_curv(comps, curv_method, cross_term_inds)\n",
    "    if curv_term.ndim==1:\n",
    "        curv_term = curv_term[:,np.newaxis]\n",
    "    \n",
    "    print(curv_term)\n",
    "        \n",
    "    xobs = np.hstack((comps, curv_term))\n",
    "    if yscl is None:\n",
    "        yexp_scl = np.floor(np.log10(np.max(mu)-np.min(mu)))\n",
    "        yscl = 10**yexp_scl\n",
    "        \n",
    "    yobs = mu/yscl\n",
    "    \n",
    "    return xobs, yobs, yscl"
   ]
  },
  {
   "cell_type": "code",
   "execution_count": null,
   "metadata": {},
   "outputs": [],
   "source": []
  },
  {
   "cell_type": "markdown",
   "metadata": {},
   "source": [
    "### T,P, parameters and options for pseudo-phase generation"
   ]
  },
  {
   "cell_type": "code",
   "execution_count": null,
   "metadata": {},
   "outputs": [],
   "source": [
    "# T = 1300.0                  # K\n",
    "T = 1100.0                  # K\n",
    "P = 300000.0                 # bars\n",
    "\n",
    "# T = 2300.0                  # K\n",
    "# P = 200000.0                 # bars\n",
    "\n",
    "# P = 20000.0                 # bars\n",
    "# T = 1500.0                  # K\n",
    "# P = 40000.0                 # bars"
   ]
  },
  {
   "cell_type": "code",
   "execution_count": null,
   "metadata": {},
   "outputs": [],
   "source": [
    "# database='Berman'\n",
    "database='Stixrude'"
   ]
  },
  {
   "cell_type": "code",
   "execution_count": null,
   "metadata": {},
   "outputs": [],
   "source": []
  },
  {
   "cell_type": "code",
   "execution_count": null,
   "metadata": {},
   "outputs": [],
   "source": [
    "# ADD extra phases (e.g. carbonates as needed here)"
   ]
  },
  {
   "cell_type": "code",
   "execution_count": null,
   "metadata": {},
   "outputs": [],
   "source": [
    "phases = get_subsolidus_phases(database=database)\n",
    "phs_sym, endmem_ids, mu_endmem, comp_endmem, sys_elems, phase_comps = (\n",
    "    system_energy_landscape(T, P, phases, prune_polymorphs=False))\n",
    "# display(phs_sym, endmem_ids, mu, elem_comps, sys_elems)\n",
    "Nelems = len(sys_elems)\n",
    "Npts = mu_endmem.size"
   ]
  },
  {
   "cell_type": "code",
   "execution_count": null,
   "metadata": {},
   "outputs": [],
   "source": [
    "sys_elems"
   ]
  },
  {
   "cell_type": "code",
   "execution_count": null,
   "metadata": {},
   "outputs": [],
   "source": [
    "cpx_comp = phase_comps['Cpx']\n",
    "print(2*(cpx_comp[0]-.5*cpx_comp[2]))\n",
    "print(2*(cpx_comp[-1]-.5*cpx_comp[-2]+cpx_comp[1]))\n",
    "print((10*cpx_comp))"
   ]
  },
  {
   "cell_type": "code",
   "execution_count": null,
   "metadata": {},
   "outputs": [],
   "source": [
    "Nend = cpx_comp.shape[0]\n",
    "wt = 2*np.random.rand(Nend)-1\n",
    "np.dot(cpx_comp.T, wt)\n",
    "cpx_comp-cpx_comp[0]\n",
    "cpx_comp\n",
    "np.linalg.svd(cpx_comp-cpx_comp[1])"
   ]
  },
  {
   "cell_type": "code",
   "execution_count": null,
   "metadata": {},
   "outputs": [],
   "source": [
    "np.linalg.qr(cpx_comp-cpx_comp[0])"
   ]
  },
  {
   "cell_type": "code",
   "execution_count": null,
   "metadata": {},
   "outputs": [],
   "source": [
    "iphs = phases['Cpx']\n",
    "iphs.endmember_num\n",
    "iphs.props['species_num']\n",
    "iphs.props['species_name']\n",
    "# elem_comp = iphs.props['element_comp']"
   ]
  },
  {
   "cell_type": "code",
   "execution_count": null,
   "metadata": {},
   "outputs": [],
   "source": [
    "sys_elems\n",
    "phase_comps"
   ]
  },
  {
   "cell_type": "code",
   "execution_count": null,
   "metadata": {},
   "outputs": [],
   "source": [
    "phases"
   ]
  },
  {
   "cell_type": "code",
   "execution_count": null,
   "metadata": {},
   "outputs": [],
   "source": [
    "# phs_sym"
   ]
  },
  {
   "cell_type": "code",
   "execution_count": null,
   "metadata": {},
   "outputs": [],
   "source": [
    "def get_quad_inds(Nelems):\n",
    "    ind_rows, ind_cols = np.tril_indices(Nelems,-1)\n",
    "    cross_term_inds = np.vstack((ind_rows,ind_cols))\n",
    "    return cross_term_inds\n",
    "\n",
    "cross_term_inds = get_quad_inds(Nelems)\n",
    "# cross_term_inds[0]"
   ]
  },
  {
   "cell_type": "code",
   "execution_count": null,
   "metadata": {},
   "outputs": [],
   "source": []
  },
  {
   "cell_type": "markdown",
   "metadata": {},
   "source": [
    "# Define bulk composition"
   ]
  },
  {
   "cell_type": "code",
   "execution_count": null,
   "metadata": {},
   "outputs": [],
   "source": [
    "wt = np.random.rand(comp_endmem.shape[0])\n",
    "wt = wt/np.sum(wt)\n",
    "bulk_comp = np.dot(wt, comp_endmem)"
   ]
  },
  {
   "cell_type": "code",
   "execution_count": null,
   "metadata": {},
   "outputs": [],
   "source": [
    "# bulk_comp = np.array([0.59760393, 0.01614512, 0.04809849, 0.09232406, 0.1571301 ,\n",
    "#        0.03304928, 0.05565109])"
   ]
  },
  {
   "cell_type": "code",
   "execution_count": null,
   "metadata": {},
   "outputs": [],
   "source": [
    "# phase_comps"
   ]
  },
  {
   "cell_type": "code",
   "execution_count": null,
   "metadata": {},
   "outputs": [],
   "source": []
  },
  {
   "cell_type": "markdown",
   "metadata": {},
   "source": [
    "# Get minimum energy assemblage"
   ]
  },
  {
   "cell_type": "code",
   "execution_count": null,
   "metadata": {},
   "outputs": [],
   "source": [
    "# mu[:,np.newaxis]"
   ]
  },
  {
   "cell_type": "code",
   "execution_count": null,
   "metadata": {},
   "outputs": [],
   "source": []
  },
  {
   "cell_type": "code",
   "execution_count": null,
   "metadata": {},
   "outputs": [],
   "source": [
    "def min_energy_assemblage_orig(bulk_comp, comp, mu, TOLmu=10, TOL=1e-5):\n",
    "    xy = np.hstack((comp, mu[:,np.newaxis]))\n",
    "    yavg = np.mean(mu)\n",
    "    xy_bulk = np.hstack((bulk_comp, yavg))\n",
    "    \n",
    "    wt0, rnorm0 = opt.nnls(xy.T, xy_bulk)\n",
    "    # print('rnorm',rnorm0)\n",
    "    \n",
    "    \n",
    "    def fun(mu, shift=0):\n",
    "        xy_bulk[-1] = mu\n",
    "        wt, rnorm = opt.nnls(xy.T, xy_bulk)\n",
    "        return rnorm-shift\n",
    "    \n",
    "    \n",
    "    delmu = .1\n",
    "    if rnorm0==0:\n",
    "        shift_dir = -1\n",
    "        soln_found = True\n",
    "    else:\n",
    "        output = opt.minimize_scalar(fun, bounds=[np.min(mu), np.max(mu)])\n",
    "        xy_bulk[-1] = output['x']\n",
    "        wt0, rnorm0 = opt.nnls(xy.T, xy_bulk)\n",
    "        shift_dir = -1\n",
    "        \n",
    "    mu_prev=xy_bulk[-1]\n",
    "    rnorm=rnorm0\n",
    "    \n",
    "    while True:\n",
    "        mu_prev = xy_bulk[-1]\n",
    "        rnorm_prev = rnorm\n",
    "        \n",
    "        xy_bulk[-1] += shift_dir*delmu\n",
    "        wt, rnorm = opt.nnls(xy.T, xy_bulk)\n",
    "        delmu *= 2\n",
    "        \n",
    "        # print(shift_dir, rnorm)\n",
    "        if ((shift_dir==+1)&(rnorm>rnorm_prev)) or ((shift_dir==-1)&(rnorm>0)):\n",
    "            break\n",
    "            \n",
    "        \n",
    "    fun_fit = lambda mu, TOL=TOL: fun(mu, shift=TOL)\n",
    "    if rnorm > TOL:\n",
    "        mu_bulk = opt.brentq(fun_fit, mu_prev, xy_bulk[-1], xtol=TOLmu)\n",
    "        xy_bulk[-1] = mu_bulk\n",
    "        wt, rnorm = opt.nnls(xy.T, xy_bulk)\n",
    "        \n",
    "    mu_bulk = xy_bulk[-1]\n",
    "    wt_bulk = wt\n",
    "        \n",
    "        \n",
    "    ind_assem = np.where(wt_bulk>0)[0]\n",
    "    return wt_bulk, mu_bulk, ind_assem \n"
   ]
  },
  {
   "cell_type": "code",
   "execution_count": null,
   "metadata": {},
   "outputs": [],
   "source": [
    "\n",
    "def linear_step(ycurr, rnorm_curr, yscl, bulk_comp, xy, step=.03):\n",
    "    #bnds[0]*(1-step)+bnds[1]*step\n",
    "    xy_bnd_step = np.hstack((bulk_comp, ycurr + step*yscl))\n",
    "    wt_step, rnorm_step = opt.nnls(xy.T, xy_bnd_step)\n",
    "    \n",
    "    rnorm_grad = (rnorm_curr-rnorm_step)/step\n",
    "    df = rnorm_curr/rnorm_grad\n",
    "    \n",
    "    ynext = ycurr + df*yscl\n",
    "    # imu = bnds[0]*(1-df)+bnds[1]*df\n",
    "    # ixy_bnd = np.hstack((bulk_comp, imu))\n",
    "    xy_bnd_next = np.hstack((bulk_comp, ynext))\n",
    "    wt_next, rnorm_next = opt.nnls(xy.T, xy_bnd_next)\n",
    "    yscl_next = rnorm_next/rnorm_grad\n",
    "    \n",
    "    return ynext, rnorm_next, yscl_next, wt_next"
   ]
  },
  {
   "cell_type": "code",
   "execution_count": null,
   "metadata": {},
   "outputs": [],
   "source": [
    "comp = comp_endmem\n",
    "TOLmu=10\n",
    " \n",
    "    \n",
    "def min_assemblage_samp(bulk_comp, comp, mu, chempot=None, sample=True, N=1001):\n",
    "    if chempot is None:\n",
    "        output = np.linalg.lstsq(comp, mu, rcond=None)\n",
    "        chempot = output[0]\n",
    "    \n",
    "    if np.isscalar(chempot) and chempot==0:\n",
    "        chempot = np.zeros(len(bulk_comp))\n",
    "    # print(chempot)\n",
    "    \n",
    "    mu0_bulk = np.dot(chempot, bulk_comp)\n",
    "    mu_mod = np.dot(chempot, comp.T)\n",
    "    dmu = mu-mu_mod\n",
    "    ind_min = np.argmin(dmu)\n",
    "    mu_shft = dmu[ind_min]\n",
    "    # mu_shft = -5000\n",
    "    \n",
    "    bnds = np.array([mu_shft, 0]) + mu0_bulk\n",
    "\n",
    "    xy = np.hstack((comp, mu[:,np.newaxis]))\n",
    "\n",
    "    # xy_bnd_hi = np.hstack((bulk_comp, bnds[1]))\n",
    "    # wt_hi, rnorm_hi = opt.nnls(xy.T, xy_bnd_hi)\n",
    "\n",
    "    if sample:\n",
    "        # mu_vals = np.linspace(bnds[0],bnds[1],N)\n",
    "        mu_shft = np.min((mu_shft,-1000))\n",
    "        mu_vals = np.linspace(mu0_bulk+4*mu_shft,mu0_bulk-3*mu_shft,N)\n",
    "        wt = np.zeros((N, len(mu)))\n",
    "        rnorm = np.zeros(N)\n",
    "        chempot = np.zeros((N, comp.shape[1]))\n",
    "        for ind,imu in enumerate(mu_vals):\n",
    "            ixy_bnd = np.hstack((bulk_comp, imu))\n",
    "            iwt, irnorm = opt.nnls(xy.T, ixy_bnd)\n",
    "            \n",
    "            icomp_assem = comp[iwt>0,:]\n",
    "            imu_assem = mu[iwt>0]\n",
    "            ioutput = np.linalg.lstsq(icomp_assem, imu_assem, rcond=None)\n",
    "            ichempot = ioutput[0]\n",
    "            \n",
    "            wt[ind] = iwt\n",
    "            rnorm[ind] = irnorm\n",
    "            chempot[ind,:] = ichempot\n",
    "            \n",
    "        return chempot, mu_vals, rnorm, None, wt\n",
    "        \n",
    "    mu_init = bnds[0]\n",
    "    xy_bnd_init = np.hstack((bulk_comp, mu_init))\n",
    "    wt_init, rnorm_init = opt.nnls(xy.T, xy_bnd_init)\n",
    "    \n",
    "    \n",
    "    mu_scl = bnds[1]-bnds[0]\n",
    "    mu_next, rnorm_next, mu_scl_next, wt_next = linear_step(\n",
    "        mu_init, rnorm_init, mu_scl, bulk_comp, xy, step=.03)\n",
    "    \n",
    "\n",
    "    comp_assem = comp[wt_next>0,:]\n",
    "    mu_assem = mu[wt_next>0]\n",
    "    output = np.linalg.lstsq(comp_assem, mu_assem, rcond=None)\n",
    "    chempot_next = output[0]\n",
    "    \n",
    "    return chempot_next, mu_next, rnorm_next, mu_scl_next, wt_next\n",
    "\n",
    "\n",
    "    \n",
    "\n"
   ]
  },
  {
   "cell_type": "code",
   "execution_count": null,
   "metadata": {},
   "outputs": [],
   "source": [
    "def min_assemblage(bulk_comp, comp, mu, mu_shft=None, chempot=None):\n",
    "    \n",
    "    if chempot is None:\n",
    "        output = np.linalg.lstsq(comp, mu, rcond=None)\n",
    "        chempot = output[0]\n",
    "        \n",
    "    if np.isscalar(chempot) and chempot==0:\n",
    "        chempot = np.zeros(len(bulk_comp))\n",
    "    \n",
    "    \n",
    "    mu0_bulk = np.dot(chempot, bulk_comp)\n",
    "    mu_mod = np.dot(chempot, comp.T)\n",
    "    Aff = mu-mu_mod\n",
    "    print(Aff)\n",
    "    \n",
    "    if mu_shft is None:\n",
    "        mu_shft = np.min(Aff)\n",
    "    \n",
    "    print('mu_shft = ', mu_shft)\n",
    "    mu_bnd = mu0_bulk+mu_shft\n",
    "    # might need to bump up \n",
    "    \n",
    "    # ind_min = np.argmin(dmu)\n",
    "    # bnds = np.array([dmu[ind_min], 0]) + mu0_bulk\n",
    "\n",
    "    xy = np.hstack((comp, mu[:,np.newaxis]))\n",
    "\n",
    "    xy_bnd = np.hstack((bulk_comp, mu_bnd))\n",
    "    wt_bnd, rnorm_bnd = opt.nnls(xy.T, xy_bnd)\n",
    "    print('wt_bnd = ', wt_bnd)\n",
    "    \n",
    "    ind_assem = np.where(wt_bnd>0)[0]\n",
    "    comp_assem_sub = comp[ind_assem,:]\n",
    "    mu_assem_sub = mu[ind_assem]\n",
    "    \n",
    "    output = np.linalg.lstsq(comp_assem_sub, mu_assem_sub, rcond=None)\n",
    "    chempot_assem = output[0]\n",
    "    \n",
    "    wt_assem = np.zeros(wt_bnd.size)\n",
    "    wt_assem_sub, rnorm_assem = opt.nnls(comp_assem_sub.T, bulk_comp)\n",
    "    mu_assem = np.dot(wt_assem_sub, mu_assem_sub)\n",
    "    \n",
    "    wt_assem[ind_assem] = wt_assem_sub\n",
    "    \n",
    "    \n",
    "    return chempot_assem, mu_assem, rnorm_assem, wt_assem\n",
    "\n",
    "\n",
    "    \n"
   ]
  },
  {
   "cell_type": "code",
   "execution_count": null,
   "metadata": {},
   "outputs": [],
   "source": [
    "def find_min_assemblage(bulk_comp, comp, mu, mu_shft=None, chempot=None, mu_shft_bnd=-100, debug=False):\n",
    "    \n",
    "    if chempot is None:\n",
    "        output = np.linalg.lstsq(comp, mu, rcond=None)\n",
    "        chempot = output[0]\n",
    "        \n",
    "    if np.isscalar(chempot) and chempot==0:\n",
    "        chempot = np.zeros(len(bulk_comp))\n",
    "    \n",
    "    \n",
    "    bulk_mu0_avg = np.dot(chempot, bulk_comp)\n",
    "    mu_mod = np.dot(chempot, comp.T)\n",
    "    Aff = mu-mu_mod\n",
    "    \n",
    "    if mu_shft is None:\n",
    "        mu_shft = np.min([np.min(Aff),-mu_shft_bnd])\n",
    "    \n",
    "    bulk_mu0 = bulk_mu0_avg+mu_shft\n",
    "    # might need to bump up \n",
    "    \n",
    "    # ind_min = np.argmin(dmu)\n",
    "    # bnds = np.array([dmu[ind_min], 0]) + mu0_bulk\n",
    "    \n",
    "    bulk_mu, wt_hull, rnorm_hull=  find_local_convex_hull(bulk_comp, bulk_mu0, comp, mu)\n",
    "    if debug:\n",
    "        print('rnorm_hull = ',rnorm_hull)\n",
    "    \n",
    "    chempot_assem, Gtot, wt_assem, rnorm_assem = fit_chempot_constraints(bulk_comp, wt_hull, comp, mu)\n",
    "    \n",
    "    return chempot_assem, Gtot, wt_assem, rnorm_assem\n",
    "\n",
    "def fit_chempot_constraints(bulk_comp, wt_hull, comp, mu, debug=False):\n",
    "    ind_assem = np.where(wt_hull>0)[0]\n",
    "    comp_assem_sub = comp[ind_assem,:]\n",
    "    mu_assem_sub = mu[ind_assem]\n",
    "    \n",
    "    # Add additional constraints on chempot here!\n",
    "    output = np.linalg.lstsq(comp_assem_sub, mu_assem_sub, rcond=None)\n",
    "    chempot = output[0]\n",
    "    \n",
    "    # Add additional constraints on chempot here also!\n",
    "    wt_assem = np.zeros(mu.size)\n",
    "    wt_assem_sub, rnorm_assem = opt.nnls(comp_assem_sub.T, bulk_comp)\n",
    "    \n",
    "    # This is more general to apply to chempot (non-bulk-comp) constraints\n",
    "    Gtot = np.dot(wt_assem_sub, mu_assem_sub)\n",
    "    Gtot_chempot = np.dot(chempot, bulk_comp)\n",
    "    \n",
    "    # This check only possible if full bulk comp is provided\n",
    "    if debug and np.abs(Gtot_chempot-Gtot)>1e-3:\n",
    "        print('****  delG = ', Gtot_chempot-Gtot, '  *****')\n",
    "        # assert False, 'Total Gibbs energy does not agree between methods'\n",
    "    \n",
    "    # print(Gtot_chempot-Gtot)\n",
    "    \n",
    "    wt_assem[ind_assem] = wt_assem_sub\n",
    "    return chempot, Gtot, wt_assem, rnorm_assem\n",
    "\n",
    "def find_local_convex_hull(bulk_comp, bulk_mu0, comp, mu, mu_step=3, rnorm_TOL=1e-6, debug=False):\n",
    "    \"\"\"\n",
    "    Find phases on local part of convex hull (at chosen bulk comp)\n",
    "    \"\"\"\n",
    "    \n",
    "    xy = np.hstack((comp, mu[:,np.newaxis]))\n",
    "    # print('INIT: bulk_mu = ', bulk_mu0)\n",
    "    \n",
    "    bulk_mu = bulk_mu0\n",
    "    xy_bulk = np.hstack((bulk_comp, bulk_mu))\n",
    "    wt, rnorm = opt.nnls(xy.T, xy_bulk)\n",
    "    \n",
    "    wt_comp, rnorm_lim = optimize.nnls(comp.T, bulk_comp)\n",
    "    if debug:\n",
    "        print('rnorm_lim = ', rnorm_lim)\n",
    "    \n",
    "    def newton_solve(rnorm, xy_bulk, xy=xy, mu_step=mu_step, rnorm_lim=rnorm_lim):\n",
    "        bulk_mu = xy_bulk[-1] \n",
    "        xy_bulk[-1] = bulk_mu-mu_step\n",
    "        \n",
    "        wt_step, rnorm_step = opt.nnls(xy.T, xy_bulk)\n",
    "        drnorm = rnorm_step-rnorm\n",
    "        grad = -drnorm/mu_step\n",
    "        \n",
    "        bulk_mu_zero = bulk_mu-(rnorm-rnorm_lim)/grad\n",
    "        xy_bulk[-1] = bulk_mu_zero\n",
    "        \n",
    "        wt_zero, rnorm_zero = opt.nnls(xy.T, xy_bulk)\n",
    "        return bulk_mu_zero, wt_zero, rnorm_zero, grad\n",
    "    \n",
    "    rnorm_prev = rnorm\n",
    "    bulk_mu_prev = bulk_mu\n",
    "    \n",
    "    while True:\n",
    "        # print('rnorm = ', rnorm)\n",
    "        # print('bulk_mu = ', bulk_mu )\n",
    "        xy_bulk[-1] = bulk_mu_prev\n",
    "        bulk_mu, wt, rnorm, grad = newton_solve(rnorm_prev, xy_bulk)\n",
    "        # print('grad = ', grad)\n",
    "        mu_step = np.abs(rnorm_prev/grad)\n",
    "        \n",
    "        \n",
    "        while rnorm==rnorm_lim:\n",
    "            # print('rnorm0 ...')\n",
    "            bulk_mu -= 0.1*mu_step\n",
    "            # mu_step *= 0.9\n",
    "            # print('bulk_mu = ', bulk_mu)\n",
    "            xy_bulk[-1] = bulk_mu\n",
    "            wt, rnorm = opt.nnls(xy.T, xy_bulk)\n",
    "            # print('rnorm = ', rnorm)\n",
    "            \n",
    "        rnorm_prev = rnorm\n",
    "        bulk_mu_prev = bulk_mu\n",
    "        if rnorm - rnorm_lim< rnorm_TOL:\n",
    "            break\n",
    "            \n",
    "    return bulk_mu, wt, rnorm\n",
    "            \n",
    "    \n"
   ]
  },
  {
   "cell_type": "code",
   "execution_count": null,
   "metadata": {},
   "outputs": [],
   "source": [
    "\n"
   ]
  },
  {
   "cell_type": "code",
   "execution_count": null,
   "metadata": {},
   "outputs": [],
   "source": []
  },
  {
   "cell_type": "code",
   "execution_count": null,
   "metadata": {},
   "outputs": [],
   "source": []
  },
  {
   "cell_type": "code",
   "execution_count": null,
   "metadata": {},
   "outputs": [],
   "source": [
    "def phase_affinity(chempot, phases, phase_comps,T, P):\n",
    "    Nphs = len(phases)\n",
    "    mu_soln = []\n",
    "    # A = []\n",
    "    phase_names = []\n",
    "    \n",
    "    A = odict()\n",
    "    X = odict()\n",
    "    mu_soln = odict()\n",
    "    comp_soln = odict()\n",
    "    natom = odict()\n",
    "    dmudn_soln = odict()\n",
    "    \n",
    "    for iphs_nm, iphs in phases.items():\n",
    "        # print(iphs_nm,iphs)\n",
    "        # print(iphs)\n",
    "        phase_names.append(iphs_nm)\n",
    "        \n",
    "        icomp = phase_comps[iphs_nm]\n",
    "        inatom = iphs.props['atom_num']\n",
    "        \n",
    "        # icomp *= inatom[:,np.newaxis]\n",
    "        # print(icomp)\n",
    "        ichempot = np.dot(icomp*inatom[:,np.newaxis], chempot)\n",
    "        # print(ichempot)\n",
    "        iA, iX = iphs.affinity_and_comp(T, P, ichempot)\n",
    "        \n",
    "        #icomp /= inatom[:,np.newaxis]\n",
    "        icomp_soln = np.dot(iX, icomp)\n",
    "        \n",
    "        X[iphs_nm] = iX\n",
    "        inatom_scl = np.dot(inatom,iX)\n",
    "        \n",
    "        if iX.size==1:\n",
    "            iX = None\n",
    "            \n",
    "        \n",
    "        \n",
    "        natom[iphs_nm] = inatom\n",
    "        imu = np.squeeze(iphs.chem_potential(T,P,mol=iX))\n",
    "        # imu /= iphs.props['atom_num']\n",
    "        \n",
    "        # if imu.size==1:\n",
    "        #     imu = [imu]\n",
    "        \n",
    "        # imu = iphs.gibbs_energy(T,P,mol=iX, deriv={'dmol':1})\n",
    "        \n",
    "        # print(imu)\n",
    "        if iX is None:\n",
    "            id2Gdm2 = np.array([[0]])\n",
    "        else:\n",
    "            id2Gdm2 = np.squeeze(iphs.gibbs_energy(\n",
    "                T, P, mol=iX, deriv={'dmol':2}))\n",
    "            # print(np.dot(id2Gdm2, iX))\n",
    "            # idn = 2*np.random.rand(iX.size)-1\n",
    "            # print(np.dot(id2Gdm2,idn))\n",
    "            # print('---')\n",
    "        \n",
    "        # print(id2Gdm2)\n",
    "        # scale by natom\n",
    "        mu_soln[iphs_nm] = imu/inatom\n",
    "        dmudn_soln[iphs_nm] = id2Gdm2\n",
    "        \n",
    "        \n",
    "        A[iphs_nm] = iA/inatom_scl\n",
    "        comp_soln[iphs_nm] = icomp_soln\n",
    "        # print(id2Gdm2.squeeze())\n",
    "        \n",
    "        \n",
    "        # print(np.squeeze(imu))\n",
    "        # print(iX)\n",
    "        # A.append(iA)\n",
    "        # mu_soln.extend(imu)\n",
    "        \n",
    "    # A = np.array(A)\n",
    "    # mu_soln = np.array(mu_soln)\n",
    "    phase_names = np.array(phase_names)\n",
    "\n",
    "    return mu_soln, dmudn_soln, comp_soln, X, A, natom,phase_names"
   ]
  },
  {
   "cell_type": "code",
   "execution_count": null,
   "metadata": {},
   "outputs": [],
   "source": []
  },
  {
   "cell_type": "code",
   "execution_count": null,
   "metadata": {},
   "outputs": [],
   "source": [
    "# wt_assem0"
   ]
  },
  {
   "cell_type": "code",
   "execution_count": null,
   "metadata": {},
   "outputs": [],
   "source": []
  },
  {
   "cell_type": "code",
   "execution_count": null,
   "metadata": {},
   "outputs": [],
   "source": [
    "phases = get_subsolidus_phases(database=database)\n",
    "phs_sym, endmem_ids, mu_endmem, comp_endmem, sys_elems, phase_comps = (\n",
    "    system_energy_landscape(T, P, phases, prune_polymorphs=False))"
   ]
  },
  {
   "cell_type": "code",
   "execution_count": null,
   "metadata": {},
   "outputs": [],
   "source": []
  },
  {
   "cell_type": "code",
   "execution_count": null,
   "metadata": {},
   "outputs": [],
   "source": [
    "# plt.figure()\n",
    "# plt.plot((approx_mu_phases(wt_assem0)-mu)/1e3,'ko')\n",
    "# plt.plot((approx_mu_phases(nelem0)-mu)/1e3,'rx')"
   ]
  },
  {
   "cell_type": "code",
   "execution_count": null,
   "metadata": {},
   "outputs": [],
   "source": [
    "def equilibrium_assemblage(T, P, bulk_comp, phases, \n",
    "                           comp_endmem, mu_endmem, GTOL=0.1):\n",
    "    # This options should slightly speed calculation, \n",
    "    #  but is currently broken\n",
    "    \n",
    "    rank = np.linalg.matrix_rank(comp_endmem)\n",
    "    # print('rank = ', rank)\n",
    "    \n",
    "    # Initialize with endmembers\n",
    "    chempot_assem0, Gtot0, wt_assem0, rnorm_assem = find_min_assemblage(\n",
    "        bulk_comp, comp_endmem, mu_endmem, chempot=None)\n",
    "    # print('Gtot = ', Gtot0)\n",
    "    chempot_assem = chempot_assem0\n",
    "\n",
    "    mu_soln0, dmudn_soln0, comp_soln0, X0, A0, natom,phase_names =  (\n",
    "        phase_affinity(chempot_assem0, phases, phase_comps, T, P))\n",
    "    Aff_soln0_a = np.array(list(A0.values()))\n",
    "    comp_soln0_a = np.array(list(comp_soln0.values()))\n",
    "    \n",
    "    Aff_soln_a = Aff_soln0_a.copy()\n",
    "    comp_soln_a = comp_soln0_a.copy()\n",
    "    \n",
    "    \n",
    "    inds = np.argsort(Aff_soln_a)\n",
    "    print('phs_names [sort] = ', phase_names[inds])\n",
    "    print('Aff_soln [sort] = ', Aff_soln_a[inds])\n",
    "    # print('Aff_soln = ', Aff_soln_a)\n",
    "    # print('comp_soln = ', comp_soln_a)\n",
    "    print('=============')\n",
    "    \n",
    "    while True:\n",
    "        try:\n",
    "            dchempot_assem, Gtot, wt_assem, rnorm_assem = find_min_assemblage(\n",
    "                bulk_comp, comp_soln_a, Aff_soln_a, chempot=0)\n",
    "        except:\n",
    "            chempot_next, mu_next, rnorm_next, mu_scl_next, wt_next = min_assemblage_samp(\n",
    "                bulk_comp, comp_soln_a, Aff_soln_a, chempot=0, sample=True)\n",
    "            \n",
    "            plt.figure()\n",
    "            plt.plot(mu_next, rnorm_next,'-');\n",
    "            \n",
    "            plt.figure()\n",
    "            plt.plot(mu_next, wt_next,'-');\n",
    "            print('FAIL')\n",
    "            break\n",
    "            \n",
    "    \n",
    "        # print('dchempot = ', dchempot_assem)\n",
    "        # print('   Gtot = ', Gtot)\n",
    "        \n",
    "        Aff_assem = Aff_soln_a[wt_assem>0]\n",
    "        if (Gtot < GTOL and np.all(dchempot_assem < GTOL) and \n",
    "            np.all(np.abs(Aff_assem)<GTOL)):\n",
    "            break\n",
    "        \n",
    "        \n",
    "        # chempot_assem = chempot_assem0+dchempot_assem\n",
    "        chempot_assem += dchempot_assem\n",
    "        \n",
    "        mu_soln, dmudn_soln, comp_soln, X, A, natom,phase_names =  (\n",
    "            phase_affinity(chempot_assem, phases, phase_comps, T, P))\n",
    "        Aff_soln_a = np.array(list(A.values()))\n",
    "        comp_soln_a = np.array(list(comp_soln.values()))\n",
    "        \n",
    "        print('dchempot = ', dchempot_assem)\n",
    "        inds = np.argsort(Aff_soln_a)\n",
    "        print('phs_names [sort] = ', phase_names[inds])\n",
    "        print('Aff_soln [sort] = ', Aff_soln_a[inds])\n",
    "        # print('Aff_soln [sort] = ', np.sort(Aff_soln_a))\n",
    "        # print('comp_soln = ', comp_soln_a)\n",
    "        print('=============')\n",
    "        \n",
    "        \n",
    "    return chempot_assem, Aff_soln_a, comp_soln_a"
   ]
  },
  {
   "cell_type": "code",
   "execution_count": null,
   "metadata": {},
   "outputs": [],
   "source": [
    "# wt = np.random.rand(comp_endmem.shape[0])\n",
    "# wt = wt/np.sum(wt)\n",
    "# bulk_comp = np.dot(wt, comp_endmem)"
   ]
  },
  {
   "cell_type": "code",
   "execution_count": null,
   "metadata": {},
   "outputs": [],
   "source": [
    "# comp_endmem.shape"
   ]
  },
  {
   "cell_type": "markdown",
   "metadata": {},
   "source": [
    "# Get bulk comp appropriate to lower mantle"
   ]
  },
  {
   "cell_type": "code",
   "execution_count": null,
   "metadata": {},
   "outputs": [],
   "source": [
    "\n",
    "\n",
    "# phs_assem = ['PrvS','AkiS','CfS','Sti','CaPrv','Fp']\n",
    "phs_assem = ['PrvS','CaPrv','Fp','AkiS','CfS']\n",
    "# phs_assem\n",
    "\n",
    "mask = np.sum([phs_sym==iphs for iphs in phs_assem],axis=0)>0\n",
    "phs_sym[mask]"
   ]
  },
  {
   "cell_type": "code",
   "execution_count": null,
   "metadata": {},
   "outputs": [],
   "source": [
    "wt = np.random.rand(comp_endmem.shape[0])\n",
    "wt[~mask] = 0\n",
    "wt = wt/np.sum(wt)\n",
    "bulk_comp = np.dot(wt, comp_endmem)"
   ]
  },
  {
   "cell_type": "code",
   "execution_count": null,
   "metadata": {},
   "outputs": [],
   "source": []
  },
  {
   "cell_type": "code",
   "execution_count": null,
   "metadata": {},
   "outputs": [],
   "source": [
    "# %timeit\n",
    "# chempot_assem, Aff_soln_a, comp_soln_a = equilibrium_assemblage(\n",
    "#     T, P, bulk_comp, phases, comp_endmem, mu_endmem)"
   ]
  },
  {
   "cell_type": "code",
   "execution_count": null,
   "metadata": {},
   "outputs": [],
   "source": []
  },
  {
   "cell_type": "code",
   "execution_count": null,
   "metadata": {},
   "outputs": [],
   "source": [
    "rank = np.linalg.matrix_rank(comp)\n",
    "rank"
   ]
  },
  {
   "cell_type": "code",
   "execution_count": null,
   "metadata": {},
   "outputs": [],
   "source": [
    "def get_phase_endmem_sym(phs_sym, endmem_ids):\n",
    "    phs_endmem_sym = []\n",
    "    for iphs,id_num in zip(phs_sym,endmem_ids.astype(dtype=str)):\n",
    "        iphsid = iphs+'_'+id_num\n",
    "        phs_endmem_sym.append(iphsid)\n",
    "        \n",
    "    phs_endmem_sym = np.array(phs_endmem_sym)\n",
    "    return phs_endmem_sym\n",
    "    \n",
    "    "
   ]
  },
  {
   "cell_type": "code",
   "execution_count": null,
   "metadata": {},
   "outputs": [],
   "source": []
  },
  {
   "cell_type": "code",
   "execution_count": null,
   "metadata": {},
   "outputs": [],
   "source": [
    "# comp_curr*wt_assem[:,np.newaxis]"
   ]
  },
  {
   "cell_type": "code",
   "execution_count": null,
   "metadata": {},
   "outputs": [],
   "source": [
    "# assem_phases = np.unique(phase_name_parent[wt_assem>0])\n",
    "# for iphsnm in assem_phases:\n",
    "#     iphs = phases[iphsnm]\n",
    "#     phase_name_parent\n",
    "#     imask = phase_name_parent==iphsnm\n",
    "#     icomp = np.dot(comp_curr[imask].T,wt_assem[imask])\n",
    "#     print(iphs)\n",
    "#     print(icomp)\n",
    "#     print('===')"
   ]
  },
  {
   "cell_type": "code",
   "execution_count": null,
   "metadata": {},
   "outputs": [],
   "source": []
  },
  {
   "cell_type": "code",
   "execution_count": null,
   "metadata": {},
   "outputs": [],
   "source": [
    "\n",
    "def update_phase_affinities(chempot, T=T, P=P, comp_endmem=comp_endmem,\n",
    "                            phases=phases, phase_comps=phase_comps):\n",
    "\n",
    "    mu_soln, dmudn_soln, comp_soln_d, X_soln, A_d, natom, phase_names_soln =  phase_affinity(\n",
    "        chempot, phases, phase_comps,T, P)\n",
    "\n",
    "    extras = {'mu0':mu_soln, 'dmudn':dmudn_soln, 'X':X_soln, 'elem_comp':comp_soln_d,\n",
    "             'phase_comps':phase_comps}\n",
    "\n",
    "    Aff_soln = np.array(list(A_d.values()))\n",
    "    comp_soln = np.array(list(comp_soln_d.values()))\n",
    "    \n",
    "    \n",
    "    Aff_endmem = []\n",
    "    \n",
    "    for iphs in A_d:\n",
    "        iA = A_d[iphs]\n",
    "        iX = X_soln[iphs]\n",
    "        # imask = phs_sym==iphs\n",
    "        iN = iX.size\n",
    "        Aff_endmem.append(np.tile(iA, iN))\n",
    "        # dmu_endmem[imask] = iA+Ashft\n",
    "        \n",
    "    Aff_endmem = np.hstack(Aff_endmem)\n",
    "    \n",
    "    return comp_soln, X_soln, Aff_soln, Aff_endmem, phase_names_soln, extras"
   ]
  },
  {
   "cell_type": "code",
   "execution_count": null,
   "metadata": {},
   "outputs": [],
   "source": [
    "# comp_endmem.shape"
   ]
  },
  {
   "cell_type": "code",
   "execution_count": null,
   "metadata": {},
   "outputs": [],
   "source": []
  },
  {
   "cell_type": "code",
   "execution_count": null,
   "metadata": {},
   "outputs": [],
   "source": [
    "def get_current_phase_mu(Aff_soln, Aff_endmem, comp_soln, comp_endmem=comp_endmem, \n",
    "                         phs_sym=phs_sym, Ashft=1e3, phases=phases):\n",
    "    \n",
    "    # mu_endmem_curr = np.dot(comp_endmem, chempot_init)\n",
    "    Nendmem = comp_endmem.shape[0]\n",
    "    dmu_endmem = np.zeros(Nendmem)\n",
    "    \n",
    "    # for iphs in phase_aff:\n",
    "    #     iA = phase_aff[iphs]\n",
    "    #     imask = phs_sym==iphs\n",
    "    #     dmu_endmem[imask] = iA+Ashft\n",
    "    \n",
    "    dmu_endmem = Aff_endmem + Ashft\n",
    "        \n",
    "    \n",
    "    dmu_curr = np.hstack((Aff_soln,dmu_endmem))\n",
    "    \n",
    "    comp_curr = np.vstack((comp_soln, comp_endmem))\n",
    "    # phase_name_curr = np.hstack((phase_names, phs_endmem_sym))\n",
    "    # phase_parent_curr = np.hstack((phase_names, phs_sym))\n",
    "    # \n",
    "    # phase_names = phase_name_curr\n",
    "    # soln_phase_names = phase_parent_curr\n",
    "    \n",
    "    # return comp_curr, dmu_curr, phase_names, soln_phase_names\n",
    "    return comp_curr, dmu_curr\n",
    "    \n",
    "    \n"
   ]
  },
  {
   "cell_type": "code",
   "execution_count": null,
   "metadata": {},
   "outputs": [],
   "source": []
  },
  {
   "cell_type": "code",
   "execution_count": null,
   "metadata": {},
   "outputs": [],
   "source": [
    "# %%timeit\n",
    "# linear only method with vertical offset, with update\n",
    "# IN PROGRESS!!!\n",
    "\n",
    "# Nphs = len(phases)\n",
    "# Nphs\n",
    "\n",
    "def get_init_assem(bulk_comp, comp_endmem, mu_endmem, \n",
    "                   reduced_assem=False, chempot_init=None, Ashft=1e3, endmem_ids=endmem_ids):\n",
    "\n",
    "    \n",
    "    if chempot_init is None:\n",
    "        output = np.linalg.lstsq(comp_endmem, mu_endmem, rcond=None)\n",
    "        chempot_init = output[0]\n",
    "        \n",
    "    chempot = chempot_init.copy()\n",
    "    \n",
    "    \n",
    "    # mu_endmem_mod = np.dot(comp_endmem,chempot) \n",
    "    # inds = np.argsort(mu_endmem-mu_endmem_mod)\n",
    "    # ind_good = inds[:15]\n",
    "    # output = np.linalg.lstsq(comp_endmem[ind_good,:], mu_endmem[ind_good], rcond=None)\n",
    "    # chempot = output[0]\n",
    "    \n",
    "\n",
    "    while True:\n",
    "        comp_soln, X_soln, Aff_soln, Aff_endmem, phase_names_soln, extras = update_phase_affinities(chempot)\n",
    "        comp_curr, dmu_curr =  get_current_phase_mu(Aff_soln, Aff_endmem, comp_soln, Ashft=Ashft) \n",
    "        \n",
    "        \n",
    "        \n",
    "        phs_endmem_sym =  get_phase_endmem_sym(phs_sym, endmem_ids)\n",
    "        phase_name_curr = np.hstack((phase_names_soln, phs_endmem_sym))\n",
    "        phase_name_parent = np.hstack((phase_names_soln, phs_sym))\n",
    "        \n",
    "        \n",
    "        # BIG TEST OF FIXED ENDMEM mu values\n",
    "        # NOT good to replace local mu with actual endmem\n",
    "        # print(dmu_curr)\n",
    "        # dmu_curr[Nphs:] = mu_endmem-np.dot(comp_endmem, chempot) + Ashft\n",
    "        # print(dmu_curr)\n",
    "        \n",
    "        dchempot_assem, Gtot, wt_assem, rnorm_assem = find_min_assemblage(\n",
    "            bulk_comp, comp_curr, dmu_curr, chempot=0)\n",
    "        \n",
    "        \n",
    "        # imu = iphs.gibbs_energy(T,P,mol=iX, deriv={'dmol':1})\n",
    "        \n",
    "        # print('Gtot = ', Gtot)\n",
    "        chempot += dchempot_assem\n",
    "        \n",
    "        \n",
    "        # plt.figure()\n",
    "        # plt.plot(wt_assem, 'ko-')\n",
    "        \n",
    "        \n",
    "        \n",
    "        \n",
    "        inds = np.argsort(Aff_soln)\n",
    "        # print(phase_names_soln[inds][:rank])\n",
    "        # print(Aff_soln[inds][:rank])\n",
    "        # print(phase_names_soln[inds][rank:])\n",
    "        # print(Aff_soln[inds][rank:])\n",
    "            \n",
    "        Aff_s = Aff_soln[inds]\n",
    "        phase_stable = phase_names_soln[inds][Aff_s<Ashft]\n",
    "        Nstable = np.sum(Aff_soln<Ashft)\n",
    "        \n",
    "        \n",
    "        phase_name_assem = phase_name_parent[wt_assem>0]\n",
    "        valid_stable = Nstable <= rank\n",
    "        valid_assem = np.all([iphsnm in phase_stable for iphsnm in phase_name_assem])\n",
    "        \n",
    "        if valid_stable and valid_assem:\n",
    "            # print(rnorm_assem)\n",
    "            \n",
    "            # from IPython.core.debugger import set_trace; from IPython import embed; embed(); set_trace()\n",
    "            \n",
    "            # print('valid_assem = ', valid_assem)\n",
    "            # print('valid_stable = ', valid_stable)\n",
    "            # \n",
    "            # print('phase_stable = ', phase_stable)\n",
    "            # print(Aff_s[Aff_s<Ashft])\n",
    "            \n",
    "            \n",
    "            # print('phs wts: ',phase_name_curr[wt_assem>0])\n",
    "            # print('phs assem: ',phase_name_assem)\n",
    "            # print('phs stable: ',phase_stable)\n",
    "            \n",
    "            # print('dchempot = ', dchempot_assem)\n",
    "            break\n",
    "            \n",
    "    \n",
    "    \n",
    "    # if reduced_assem:\n",
    "    #     phase_name_assem = []\n",
    "    #     ind_assem =0\n",
    "    #     \n",
    "    #     while True:\n",
    "    #         phase_name_assem\n",
    "            \n",
    "    \n",
    "    \n",
    "    wt_stable = wt_assem[wt_assem>0]\n",
    "    comp_assem = comp_curr[wt_assem>0]\n",
    "    phase_name_assem = phase_name_parent[wt_assem>0]\n",
    "    # print(phase_name_assem)\n",
    "    # print(phase_name_parent)\n",
    "    \n",
    "    # REorder phases so that Pure phases are at the end as required\n",
    "    endmem_num = []\n",
    "    phase_stable0 = []\n",
    "    for iphsnm in phase_name_assem:\n",
    "        if iphsnm not in phase_stable0:\n",
    "            iphs = phases[iphsnm]\n",
    "            endmem_num.append(iphs.endmember_num)\n",
    "            phase_stable0.append(iphsnm)\n",
    "            \n",
    "    endmem_num = np.array(endmem_num)\n",
    "    phase_stable0 = np.array(phase_stable0)\n",
    "    # print(endmem_num)\n",
    "    \n",
    "    phase_stable = np.hstack((phase_stable0[endmem_num>1], phase_stable0[endmem_num==1]))\n",
    "    # print(phase_stable)\n",
    "    \n",
    "    # phase_stable = np.unique(phase_name_assem)\n",
    "    \n",
    "    \n",
    "    \n",
    "    Nelems = len(chempot)\n",
    "    Nstable = len(phase_stable)\n",
    "    \n",
    "    Nphases = len(extras['X'].keys())\n",
    "    wt_endmems = wt_assem[Nphases:]\n",
    "    \n",
    "    \n",
    "    nmol_elems = np.zeros((Nstable,Nelems))\n",
    "    \n",
    "    nmol_stable = []\n",
    "    comp_endmem_stable = []\n",
    "    \n",
    "    endmem_num = []\n",
    "    \n",
    "    for ind, iphsnm in enumerate(phase_stable):\n",
    "        imask = phase_name_assem==iphsnm\n",
    "        iwt = wt_stable[imask]\n",
    "        # icomp_stable = np.sum(comp_assem[imask,:], axis=0)\n",
    "        inmol_elems = np.dot(iwt, comp_assem[imask])\n",
    "        # iX = extras['X'][iphsnm]\n",
    "        # inmol_endmem = iX\n",
    "        # \n",
    "        # \n",
    "        # imask_phs = phase_name_curr==iphsnm\n",
    "        # print(iX)\n",
    "        # print(imask_phs)\n",
    "        \n",
    "        iphscomp = extras['phase_comps'][iphsnm]\n",
    "        \n",
    "        # imask_all = \n",
    "        # print(iphsnm)\n",
    "        \n",
    "        output = np.linalg.lstsq(iphscomp.T, inmol_elems, rcond=None)\n",
    "        inmol_endmem = output[0]\n",
    "        \n",
    "        \n",
    "        # print(imask)\n",
    "        # print('nmol elems = ', inmol_stable)\n",
    "        # print('nmol endmem = ', inmol_endmem)\n",
    "        # print('dev = ', np.dot(iphscomp.T, inmol_endmem)-inmol_stable)\n",
    "        # print('iphscomp = ',iphscomp)\n",
    "        # print('tot = ', np.sum(inmol_stable))\n",
    "        # print('----')\n",
    "        nmol_elems[ind] = inmol_elems\n",
    "        nmol_stable.append(inmol_endmem)\n",
    "        comp_endmem_stable.append(iphscomp)\n",
    "        \n",
    "    nmol_stable = np.hstack(nmol_stable)\n",
    "    comp_endmem_stable = np.vstack(comp_endmem_stable)\n",
    "    \n",
    "    # print(phase_stable)\n",
    "    # print(nmol_stable)\n",
    "    # print(comp_endmem_stable)\n",
    "            \n",
    "    extras['chempot'] = chempot\n",
    "    extras['wt_assem'] = wt_assem\n",
    "    extras['Aff_soln'] = Aff_soln\n",
    "    extras['Aff_endmem'] = Aff_endmem\n",
    "    extras['phase_name_parent'] = phase_name_parent\n",
    "    extras['phase_endmem_ids'] = phase_name_curr\n",
    "            \n",
    "    return phase_stable, nmol_stable, comp_endmem_stable, extras\n",
    "    "
   ]
  },
  {
   "cell_type": "code",
   "execution_count": null,
   "metadata": {},
   "outputs": [],
   "source": [
    "\n"
   ]
  },
  {
   "cell_type": "code",
   "execution_count": null,
   "metadata": {},
   "outputs": [],
   "source": []
  },
  {
   "cell_type": "code",
   "execution_count": null,
   "metadata": {},
   "outputs": [],
   "source": [
    "def build_stable_linear_phase_model(phase_stable, nmol_stable, T, P, phases):\n",
    "    \n",
    "    Nendmem_stable = nmol_stable.size\n",
    "    mu0_stable = np.zeros(Nendmem_stable)\n",
    "    dmudn_stable = np.zeros((Nendmem_stable,Nendmem_stable))\n",
    "    phase_endmem_num_stable = []\n",
    "    \n",
    "    ind = 0\n",
    "    for iphsnm in phase_stable:\n",
    "        iphs = phases[iphsnm]\n",
    "        iendmem_num = iphs.endmember_num\n",
    "        inmol = nmol_stable[ind:ind+iendmem_num]\n",
    "        \n",
    "        elem_comp = iphs.props['element_comp']\n",
    "        inelem = np.sum(elem_comp,axis=1)\n",
    "        \n",
    "        phase_endmem_num_stable.append(inmol.size)\n",
    "        # print(iphsnm)\n",
    "        # print(iendmem_num)\n",
    "        # print(inmol_stable)\n",
    "        \n",
    "        if inmol.size==1:\n",
    "            iX = None\n",
    "        else:\n",
    "            iX = inmol.copy()\n",
    "                \n",
    "        imu0 = iphs.chem_potential(T, P, mol=iX).squeeze()/inelem\n",
    "        \n",
    "        # print(inelem)\n",
    "        # print(imu0)\n",
    "        # print(iphs.chem_potential(T, P, mol=iX).squeeze())\n",
    "        # imu0 = iphs.gibbs_energy(T, P, mol=inmol_stable, derivs={'dmol':1})\n",
    "        \n",
    "        if iX is None:\n",
    "            idmudn = np.array([[0]])\n",
    "        else:\n",
    "            idmudn = np.squeeze(iphs.gibbs_energy(\n",
    "                T, P, mol=iX, deriv={'dmol':2}))/inelem\n",
    "        \n",
    "        \n",
    "        # print(idmudn)\n",
    "        # print('---')\n",
    "        \n",
    "        mu0_stable[ind:ind+iendmem_num] = imu0\n",
    "        dmudn_stable[ind:ind+iendmem_num,\n",
    "                     ind:ind+iendmem_num] = idmudn\n",
    "        \n",
    "        ind += iendmem_num\n",
    "        \n",
    "    phase_endmem_num_stable = np.array(phase_endmem_num_stable)\n",
    "    \n",
    "    return mu0_stable, dmudn_stable, phase_endmem_num_stable"
   ]
  },
  {
   "cell_type": "code",
   "execution_count": null,
   "metadata": {},
   "outputs": [],
   "source": []
  },
  {
   "cell_type": "code",
   "execution_count": null,
   "metadata": {},
   "outputs": [],
   "source": []
  },
  {
   "cell_type": "code",
   "execution_count": null,
   "metadata": {},
   "outputs": [],
   "source": []
  },
  {
   "cell_type": "code",
   "execution_count": null,
   "metadata": {},
   "outputs": [],
   "source": []
  },
  {
   "cell_type": "code",
   "execution_count": null,
   "metadata": {},
   "outputs": [],
   "source": [
    "# %load_ext snakeviz"
   ]
  },
  {
   "cell_type": "code",
   "execution_count": null,
   "metadata": {},
   "outputs": [],
   "source": [
    "\n",
    "\n",
    "# Failure of affinity and comp method\n",
    "bulk_comp_fail =  np.array([0.57923856, 0.01926474, 0.06734043, 0.13956022, 0.09832938,\n",
    "       0.03137229, 0.06489438])"
   ]
  },
  {
   "cell_type": "code",
   "execution_count": null,
   "metadata": {},
   "outputs": [],
   "source": []
  },
  {
   "cell_type": "code",
   "execution_count": null,
   "metadata": {},
   "outputs": [],
   "source": []
  },
  {
   "cell_type": "code",
   "execution_count": null,
   "metadata": {},
   "outputs": [],
   "source": []
  },
  {
   "cell_type": "code",
   "execution_count": null,
   "metadata": {},
   "outputs": [],
   "source": [
    "def get_affinity_wt(Aff_phases, phase_endmem_num, Ascl_thresh, Aff_cutoff=300):\n",
    "    \n",
    "    Ascl = np.abs(np.median(Aff_phases[Aff_phases<=0]))\n",
    "    Ascl = np.max((Ascl, Ascl_thresh))\n",
    "    \n",
    "    Amag = Aff_phases/Ascl\n",
    "    # Amask = Amag>Aff_cutoff\n",
    "    Amask = Aff_phases>Aff_cutoff\n",
    "\n",
    "    wtstdt = (1+1/5*Amag[Amask]**2)**(-(5+1)/2)\n",
    "    # wtcauchy = 1/(1+Amag[Amask]**2)\n",
    "\n",
    "    Affwt = np.ones(Amag.size)\n",
    "    Affwt[Amask] = wtstdt\n",
    "    # Affwt[Amask] = 0\n",
    "    \n",
    "    Affwt_endmem = np.repeat(Affwt, phase_endmem_num)\n",
    "    # print('Aff_phases = ', Aff_phases)\n",
    "    # print('Affwt = ', Affwt)\n",
    "    # print('Affwt_endmem = ', Affwt_endmem)\n",
    "    return Affwt_endmem, Affwt\n",
    "    \n",
    "def get_linear_phase_model(dmudn, X, mu0):\n",
    "    \n",
    "    # M_tot = np.zeros((Nendmem, Nendmem))\n",
    "    # dndmu_tot = np.zeros((Nendmem, Nendmem))\n",
    "    dmudn_tot = np.zeros((Nendmem, Nendmem))\n",
    "    nmol_end0 = np.zeros(Nendmem)\n",
    "    mu0_endmem = np.zeros(Nendmem)\n",
    "    \n",
    "    ind_endmem = 0\n",
    "    for phsnm in mu0:\n",
    "        idmudn = dmudn[phsnm]\n",
    "        iX = X[phsnm]\n",
    "        iendmem_num = iX.size\n",
    "        \n",
    "        imu0 = mu0[phsnm]\n",
    "        # icomp = comp[phsnm]\n",
    "        # iphs_comp = phase_comps[phsnm]\n",
    "        \n",
    "        # idndmu = np.linalg.pinv(idmudn)\n",
    "        # iM = np.dot(idmudn, idndmu)\n",
    "        # \n",
    "        # M_tot[ind_endmem:ind_endmem+iendmem_num, \n",
    "        #       ind_endmem:ind_endmem+iendmem_num] = iM\n",
    "        \n",
    "        # dndmu_tot[ind_endmem:ind_endmem+iendmem_num, \n",
    "        #           ind_endmem:ind_endmem+iendmem_num] = idndmu\n",
    "        dmudn_tot[ind_endmem:ind_endmem+iendmem_num, \n",
    "                  ind_endmem:ind_endmem+iendmem_num] = idmudn\n",
    "        \n",
    "        nmol_end0[ind_endmem:ind_endmem+iendmem_num] = iX\n",
    "        \n",
    "        mu0_endmem[ind_endmem:ind_endmem+iendmem_num] = imu0\n",
    "        \n",
    "        ind_endmem += iendmem_num\n",
    "        \n",
    "    return mu0_endmem, nmol_end0, dmudn_tot \n",
    "    \n",
    "    \n",
    "def get_linear_constraints(bulk_comp, Gtot, mu0_endmem, nmol_end0, dmudn_tot, \n",
    "                           phase_endmem_num, comp_endmem, apply_nmol0_prior=False):\n",
    "    Npure = np.sum(phase_endmem_num==1)\n",
    "    Nendmem = phase_endmem_num.sum()\n",
    "    Nelems = comp_endmem.shape[1]\n",
    "    Nparams = Nelems+Nendmem\n",
    "    Nsoln_endmem = Nendmem-Npure\n",
    "    \n",
    "    mask_pure = np.tile(False, Nendmem)\n",
    "    mask_pure[-Npure:] = True\n",
    "    \n",
    "    A_mu_pure = np.zeros((Npure, Nparams))\n",
    "    A_mu_pure[:,:Nelems] = comp_endmem[mask_pure,:]\n",
    "    B_mu_pure = mu0_endmem[mask_pure].copy()\n",
    "    \n",
    "    # NOTE: this relies on the pure elements being last!!!!\n",
    "    A_mu_soln = np.zeros((Nsoln_endmem, Nparams))\n",
    "    A_mu_soln[:,:Nelems] = comp_endmem[~mask_pure,:]\n",
    "    A_mu_soln[:,Nelems:Nelems+Nsoln_endmem] = -dmudn_tot[:-Npure,:-Npure]\n",
    "    B_mu_soln = mu0_endmem[:-Npure] - np.dot(dmudn_tot[:-Npure,:-Npure], nmol_end0[:-Npure])\n",
    "    \n",
    "    A_comp = np.zeros((Nelems, Nparams))\n",
    "    A_comp[:, -Nendmem:] = comp_endmem.T\n",
    "    B_comp = bulk_comp.copy()\n",
    "    \n",
    "    # A_mu_comp = np.zeros((Nsoln_endmem, Nparams))\n",
    "    # A_mu_comp[:,:Nelems] = -np.dot(dndmu_tot[:-Npure,:-Npure], comp_endmem[:-Npure, :])\n",
    "    # A_mu_comp[:,Nelems:Nelems+Nsoln_endmem] = np.eye(Nsoln_endmem)\n",
    "    # B_mu_comp = np.zeros(Nsoln_endmem)\n",
    "    # B_mu_comp = nmol_end0[:-Npure] - np.dot(dndmu_tot[:-Npure,:-Npure], mu0_endmem[:-Npure])\n",
    "\n",
    "    A_nmol_prior = np.zeros((Nendmem, Nparams))\n",
    "    A_nmol_prior[:,Nelems:] = np.eye(Nendmem)\n",
    "    if apply_nmol0_prior:\n",
    "        B_nmol_prior = nmol_end0\n",
    "    else:\n",
    "        B_nmol_prior = np.zeros(Nendmem)\n",
    "            \n",
    "    \n",
    "    A_mu_prior = np.zeros((1,Nparams))\n",
    "    A_mu_prior[0,0] = 1\n",
    "    B_mu_prior = np.zeros(1)\n",
    "    \n",
    "    A_Gtot = np.zeros((1, Nparams))\n",
    "    A_Gtot[0,:Nelems] = bulk_comp\n",
    "    B_Gtot = Gtot\n",
    "    \n",
    "    A = {}\n",
    "    A['mu_pure'] = A_mu_pure\n",
    "    A['mu_soln'] = A_mu_soln\n",
    "    A['comp']    = A_comp\n",
    "    A['nmol_prior'] = A_nmol_prior\n",
    "    A['mu_prior'] = A_mu_prior\n",
    "    A['Gtot'] = A_Gtot\n",
    "    \n",
    "    B = {}\n",
    "    B['mu_pure'] = B_mu_pure\n",
    "    B['mu_soln'] = B_mu_soln\n",
    "    B['comp']    = B_comp\n",
    "    B['nmol_prior'] = B_nmol_prior\n",
    "    B['mu_prior'] = B_mu_prior\n",
    "    B['Gtot'] = B_Gtot\n",
    "    \n",
    "    return A, B \n",
    "    \n",
    "def build_lstsq(A, B, Affwt_endmem, phase_endmem_num, sig_nmol_prior=.2, sig_comp=.01, sig_mu=10, sig_Gtot=1e-3):\n",
    "    Npure = np.sum(phase_endmem_num==1)\n",
    "    Affwt_soln = Affwt_endmem[:-Npure]\n",
    "    Affwt_pure = Affwt_endmem[-Npure:]\n",
    "    \n",
    "    sig_mu_prior = sig_mu*3\n",
    "    \n",
    "    \n",
    "    # # single constraints on bulk_comp, mu_pure, mu_soln\n",
    "    # A_lsq = np.vstack((A['mu_pure']*Affwt_pure[:,np.newaxis]/sig_mu, \n",
    "    #                    A['mu_soln']*Affwt_soln[:,np.newaxis]/sig_mu, \n",
    "    #                    A['comp']/sig_comp,\n",
    "    #                    A['Gtot']/sig_Gtot))\n",
    "    # \n",
    "    # B_lsq = np.hstack((B['mu_pure']*Affwt_pure/sig_mu, \n",
    "    #                    B['mu_soln']*Affwt_soln/sig_mu, \n",
    "    #                    B['comp']/sig_comp,\n",
    "    #                    B['Gtot']/sig_Gtot))\n",
    "    \n",
    "    Nendmem = Affwt_endmem.size\n",
    "    Affcompwt = np.zeros(A['comp'].shape[1])\n",
    "    Affcompwt[-Nendmem:] = Affwt_endmem\n",
    "    \n",
    "    # single constraints on bulk_comp, mu_pure, mu_soln\n",
    "    A_lsq = np.vstack((A['mu_pure']*Affwt_pure[:,np.newaxis]/sig_mu, \n",
    "                       A['mu_soln']*Affwt_soln[:,np.newaxis]/sig_mu, \n",
    "                       A['comp']*Affcompwt[np.newaxis,:]/sig_comp,\n",
    "                       A['nmol_prior']*Affwt_endmem[:, np.newaxis]/sig_nmol_prior,\n",
    "                       A['mu_prior']/sig_mu_prior))\n",
    "    \n",
    "    \n",
    "    B_lsq = np.hstack((B['mu_pure']*Affwt_pure/sig_mu, \n",
    "                       B['mu_soln']*Affwt_soln/sig_mu, \n",
    "                       B['comp']/sig_comp,\n",
    "                       B['nmol_prior']*Affwt_endmem/sig_nmol_prior,\n",
    "                       B['mu_prior']/sig_mu_prior))\n",
    "    \n",
    "    # # single constraints on bulk_comp, mu_pure, mu_soln\n",
    "    # A_lsq = np.vstack((A['mu_pure']*Affwt_pure[:,np.newaxis]/sig_mu, \n",
    "    #                    A['mu_soln']*Affwt_soln[:,np.newaxis]/sig_mu, \n",
    "    #                    A['comp']*Affcompwt[np.newaxis,:]/sig_comp,\n",
    "    #                    A['mu_prior']/sig_mu_prior))\n",
    "    # \n",
    "    # \n",
    "    # B_lsq = np.hstack((B['mu_pure']*Affwt_pure/sig_mu, \n",
    "    #                    B['mu_soln']*Affwt_soln/sig_mu, \n",
    "    #                    B['comp']/sig_comp,\n",
    "    #                    B['mu_prior']/sig_mu_prior))\n",
    "    \n",
    "    \n",
    "    if ~np.isnan(B['Gtot']):\n",
    "        A_lsq = np.vstack((A_lsq, A['Gtot']/sig_Gtot))\n",
    "        B_lsq = np.hstack((B_lsq, B['Gtot']/sig_Gtot))\n",
    "        \n",
    "    # A_lsq = np.vstack((A['mu_pure']*Affwt_pure[:,np.newaxis]/sig_mu, \n",
    "    #                    A['mu_soln']*Affwt_soln[:,np.newaxis]/sig_mu, \n",
    "    #                    A['comp']/sig_comp,\n",
    "    #                    A['nmol_prior']/sig_nmol_prior,\n",
    "    #                    A['mu_prior']/sig_mu_prior))\n",
    "    # \n",
    "    # B_lsq = np.hstack((B['mu_pure']*Affwt_pure/sig_mu, \n",
    "    #                    B['mu_soln']*Affwt_soln/sig_mu, \n",
    "    #                    B['comp']/sig_comp,\n",
    "    #                    B['nmol_prior']/sig_nmol_prior,\n",
    "    #                    B['mu_prior']/sig_mu_prior))\n",
    "    return A_lsq, B_lsq\n",
    "\n",
    "\n",
    "def update_fitted_affinities(params, A, B, phase_endmem_num):\n",
    "    Nendmem = phase_endmem_num.sum()\n",
    "    nmols_fit = params[-Nendmem:]\n",
    "    \n",
    "    dmu_soln_fit = B['mu_soln'] - np.dot(A['mu_soln'], params)\n",
    "    dmu_pure_fit = B['mu_pure'] - np.dot(A['mu_pure'], params)\n",
    "    dmu_fit = np.hstack((dmu_soln_fit, dmu_pure_fit))\n",
    "    \n",
    "    ind_curr=0\n",
    "    Aff_phases_fit = []\n",
    "    for iendmem_num in phase_endmem_num:\n",
    "        idmu = dmu_fit[ind_curr:ind_curr+iendmem_num]\n",
    "        inmol = nmols_fit[ind_curr:ind_curr+iendmem_num]\n",
    "        \n",
    "        iAff = np.dot(inmol/np.sum(inmol), idmu)\n",
    "        Aff_phases_fit.append(iAff)\n",
    "        \n",
    "        ind_curr += iendmem_num\n",
    "        \n",
    "    Aff_phases_fit = np.array(Aff_phases_fit)\n",
    "    return Aff_phases_fit\n",
    "    \n",
    "def discover_approx_hull(bulk_comp, chempot_init, Gtot_init, Aff_phases_init, mu0, dmudn, X, \n",
    "                         phase_endmem_num, comp_endmem,\n",
    "                         debug=False, muTOL=0.1, sig_nmol_prior=.2, sig_comp=.01, sig_mu=10,\n",
    "                         Ascl_min=1, Ascl_max=1e3, Nsteps=10, max_iter=50, Gshft=1e3):\n",
    "    \n",
    "    Aff_phases = Aff_phases_init\n",
    "    Npure = np.sum(phase_endmem_num==1)\n",
    "    \n",
    "    # Gtot_init = np.dot(chempot_init, bulk_comp)\n",
    "    \n",
    "    mu0_endmem, nmol_end0, dmudn_tot  = get_linear_phase_model(dmudn, X, mu0)\n",
    "    \n",
    "    \n",
    "    A, B = get_linear_constraints(bulk_comp, Gtot_init, mu0_endmem, nmol_end0, dmudn_tot, \n",
    "                                  phase_endmem_num, comp_endmem)\n",
    "    \n",
    "    B['Gtot'] = Gtot_init-Gshft\n",
    "    \n",
    "    Ascl_thresh = Ascl_max\n",
    "    nmol = nmol_end0.copy()\n",
    "    chempot = chempot_init.copy()\n",
    "    \n",
    "    \n",
    "    Ascl_fac = np.exp(np.log(Ascl_max/Ascl_min)/Nsteps)\n",
    "    \n",
    "    \n",
    "    count=1\n",
    "    while True:\n",
    "            \n",
    "        # Affwt_endmem, Affwt = get_affinity_wt(Aff_phases, phase_endmem_num, Ascl_thresh)\n",
    "        Affwt_endmem, Affwt = get_affinity_wt(Aff_phases_init, phase_endmem_num, Ascl_thresh)\n",
    "        A_lsq, B_lsq = build_lstsq(A, B, Affwt_endmem, phase_endmem_num, \n",
    "                                   sig_nmol_prior=sig_nmol_prior, sig_comp=sig_comp, sig_mu=sig_mu)\n",
    "    \n",
    "        output = np.linalg.lstsq(A_lsq, B_lsq, rcond=None)\n",
    "        params = output[0]\n",
    "        chempot_fit = params[:Nelems]\n",
    "        nmol_fit = params[Nelems:]\n",
    "        Aff_phases_fit = update_fitted_affinities(params, A, B, phase_endmem_num)\n",
    "        dnmol = nmol_fit-nmol\n",
    "        dchempot = chempot_fit-chempot\n",
    "        \n",
    "        resid = np.dot(A_lsq, params)-B_lsq\n",
    "        chisqr = np.sqrt(np.mean(resid**2))\n",
    "        \n",
    "            \n",
    "        if debug:\n",
    "            print('chi2 = ', chisqr)\n",
    "            print('Aff_phases_fit = ', Aff_phases_fit)\n",
    "            print('sig. wt count = ', np.sum(Affwt_endmem>.05))\n",
    "            print('Ascl_thresh = ', Ascl_thresh)\n",
    "            print(np.max(dnmol))\n",
    "            print('    dchempot = ',np.max(np.abs(dchempot)))\n",
    "            print('----------')\n",
    "        \n",
    "        # if np.all(np.abs(dnmol) < TOL):\n",
    "        #     break\n",
    "            \n",
    "        if count >= max_iter:\n",
    "            break\n",
    "            \n",
    "        if np.all(np.abs(dchempot) < muTOL):\n",
    "            break\n",
    "            \n",
    "        Aff_phases = Aff_phases_fit\n",
    "        nmol = nmol_fit\n",
    "        chempot = chempot_fit\n",
    "        \n",
    "        if Ascl_thresh > Ascl_min:\n",
    "            Ascl_thresh /= Ascl_fac\n",
    "            \n",
    "        count += 1\n",
    "    \n",
    "    return chempot_fit, nmol_fit, Aff_phases_fit, Affwt\n"
   ]
  },
  {
   "cell_type": "code",
   "execution_count": null,
   "metadata": {},
   "outputs": [],
   "source": []
  },
  {
   "cell_type": "code",
   "execution_count": null,
   "metadata": {},
   "outputs": [],
   "source": []
  },
  {
   "cell_type": "code",
   "execution_count": null,
   "metadata": {},
   "outputs": [],
   "source": []
  },
  {
   "cell_type": "code",
   "execution_count": null,
   "metadata": {},
   "outputs": [],
   "source": []
  },
  {
   "cell_type": "code",
   "execution_count": null,
   "metadata": {},
   "outputs": [],
   "source": []
  },
  {
   "cell_type": "markdown",
   "metadata": {},
   "source": [
    "## minimize assemblage"
   ]
  },
  {
   "cell_type": "code",
   "execution_count": null,
   "metadata": {},
   "outputs": [],
   "source": [
    "def equil_min_assemblage(bulk_comp, nmol_stable, mu0_stable, dmudn_stable, \n",
    "                         comp_endmem_stable, phase_endmem_num_stable, \n",
    "                         sig_nmol_prior=0.1, sig_mu=10, sig_comp=0.01, molTOL=1e-4):\n",
    "\n",
    "    Gtot_init = np.nan \n",
    "\n",
    "    while True:\n",
    "        A, B = get_linear_constraints(bulk_comp, Gtot_init, mu0_stable, nmol_stable, dmudn_stable, \n",
    "                                      phase_endmem_num_stable, comp_endmem_stable, apply_nmol0_prior=True)\n",
    "        \n",
    "        \n",
    "        wt_stable = np.ones(phase_endmem_num_stable.sum())\n",
    "        A_lsq, B_lsq = build_lstsq(A, B, wt_stable, phase_endmem_num_stable, \n",
    "                                   sig_nmol_prior=sig_nmol_prior, sig_comp=sig_comp, sig_mu=sig_mu)\n",
    "        \n",
    "        output = np.linalg.lstsq(A_lsq, B_lsq, rcond=None)\n",
    "        params = output[0]\n",
    "        chempot_fit = params[:Nelems]\n",
    "        nmol_fit = params[Nelems:]\n",
    "        \n",
    "        resid = np.dot(A_lsq, params)-B_lsq\n",
    "        chisqr = np.sqrt(np.mean(resid**2))\n",
    "        \n",
    "        dnmol = nmol_fit - nmol_stable\n",
    "        mu_fit = mu0_stable + np.dot(dmudn_stable, dnmol)\n",
    "        \n",
    "        # print('chisqr = ', chisqr)\n",
    "        # print('dcomp = ', np.dot(A['comp'],params)-B['comp'])\n",
    "        # print('dmu(pure) = ', np.dot(A['mu_pure'],params)-B['mu_pure'])\n",
    "        # print('dmu(soln) = ', np.dot(A['mu_soln'],params)-B['mu_soln'])\n",
    "        \n",
    "        \n",
    "        mu0_stable_next, dmudn_stable_next, phase_endmem_num_stable = build_stable_linear_phase_model(\n",
    "            phase_stable, nmol_fit, T, P, phases)\n",
    "        \n",
    "        \n",
    "        # extras['mu0']+np.dot(extras['dmudn_stable'],nmol_stable - extras['nmol0_stable']) - mu_stable_fin\n",
    "        # dmu_corr = mu0_stable + np.dot(dmudn_stable,nmol_fit) - mu0_stable_next\n",
    "        dmu_corr = mu0_stable_next-mu_fit\n",
    "        # print(dmu_corr)\n",
    "        \n",
    "        \n",
    "        nmol0_stable = nmol_stable.copy()\n",
    "        \n",
    "        chempot_stable = chempot_fit\n",
    "        nmol_stable = nmol_fit\n",
    "        mu0_stable = mu0_stable_next\n",
    "        dmudn_stable = dmudn_stable_next\n",
    "        \n",
    "        if np.all(np.abs(dnmol)<molTOL):\n",
    "            break\n",
    "        \n",
    "            \n",
    "    extras = {}\n",
    "    extras['mu_fit'] = mu_fit\n",
    "    extras['mu0'] = mu0_stable\n",
    "    extras['nmol0_stable'] = nmol0_stable\n",
    "    extras['dmudn_stable'] = dmudn_stable\n",
    "    extras['chisqr'] = chisqr\n",
    "        \n",
    "    return chempot_stable, nmol_stable, extras"
   ]
  },
  {
   "cell_type": "code",
   "execution_count": null,
   "metadata": {},
   "outputs": [],
   "source": []
  },
  {
   "cell_type": "code",
   "execution_count": null,
   "metadata": {},
   "outputs": [],
   "source": [
    "\n",
    "phs_assem = ['PrvS','CaPrv','Fp','AkiS','CfS']\n",
    "mask = np.sum([phs_sym==iphs for iphs in phs_assem],axis=0)>0\n",
    "\n",
    "wt = np.random.rand(comp_endmem.shape[0])\n",
    "wt[~mask] = 0\n",
    "wt = wt/np.sum(wt)\n",
    "bulk_comp = np.dot(wt, comp_endmem)"
   ]
  },
  {
   "cell_type": "code",
   "execution_count": null,
   "metadata": {},
   "outputs": [],
   "source": [
    "\n",
    "# phase_stable, nmol0_stable, comp_endmem_stable, extras = get_init_assem(bulk_comp, comp_endmem, mu_endmem)"
   ]
  },
  {
   "cell_type": "code",
   "execution_count": null,
   "metadata": {},
   "outputs": [],
   "source": []
  },
  {
   "cell_type": "code",
   "execution_count": null,
   "metadata": {},
   "outputs": [],
   "source": [
    "phase_stable, nmol0_stable, comp_endmem_stable, extras = get_init_assem(bulk_comp, comp_endmem, mu_endmem)\n",
    "\n",
    "\n",
    "mu0_stable, dmudn_stable, phase_endmem_num_stable = build_stable_linear_phase_model(phase_stable, nmol0_stable, T, P, phases)\n",
    "nmol_init_stable = nmol0_stable.copy()\n",
    "nmol_stable = nmol0_stable.copy()\n",
    "print(phase_endmem_num_stable)\n",
    "np.dot(comp_endmem_stable.T, nmol_stable)-bulk_comp"
   ]
  },
  {
   "cell_type": "code",
   "execution_count": null,
   "metadata": {},
   "outputs": [],
   "source": [
    "extras.keys()"
   ]
  },
  {
   "cell_type": "code",
   "execution_count": null,
   "metadata": {},
   "outputs": [],
   "source": [
    "inds = np.argsort(Aff_soln)\n",
    "phase_names_soln[inds]\n",
    "\n",
    "phase_assem = []\n",
    "inds_curr = 0\n",
    "rank_curr = 0\n",
    "\n",
    "while True:\n",
    "    # print(phase_assem)\n",
    "    iphase_assem = phase_assem.copy()\n",
    "    iphase_assem.append(phase_names_soln[inds[inds_curr]])\n",
    "    [phase_comps[iphsnm] for iphsnm in phase_assem]\n",
    "    np.linalg.matrix_rank(np.vstack())\n",
    "    inds_curr += 1"
   ]
  },
  {
   "cell_type": "code",
   "execution_count": null,
   "metadata": {},
   "outputs": [],
   "source": []
  },
  {
   "cell_type": "code",
   "execution_count": null,
   "metadata": {},
   "outputs": [],
   "source": [
    "np.linalg.matrix_rank()"
   ]
  },
  {
   "cell_type": "code",
   "execution_count": null,
   "metadata": {},
   "outputs": [],
   "source": [
    "print('nmol0 = ', nmol0_stable)\n",
    "print('phase_endmem_num_stable = ', phase_endmem_num_stable)"
   ]
  },
  {
   "cell_type": "code",
   "execution_count": null,
   "metadata": {},
   "outputs": [],
   "source": [
    "\n",
    "chempot_stable, nmol_stable, extras = equil_min_assemblage(\n",
    "    bulk_comp, nmol_stable, mu0_stable, dmudn_stable, comp_endmem_stable, phase_endmem_num_stable, \n",
    "    sig_nmol_prior=0.1, molTOL=1e-6)"
   ]
  },
  {
   "cell_type": "code",
   "execution_count": null,
   "metadata": {},
   "outputs": [],
   "source": []
  },
  {
   "cell_type": "code",
   "execution_count": null,
   "metadata": {},
   "outputs": [],
   "source": [
    "np.dot(comp_endmem_stable, chempot_stable)-extras['mu0']"
   ]
  },
  {
   "cell_type": "code",
   "execution_count": null,
   "metadata": {},
   "outputs": [],
   "source": []
  },
  {
   "cell_type": "code",
   "execution_count": null,
   "metadata": {},
   "outputs": [],
   "source": [
    "extras['mu0'] - extras['mu_fit']"
   ]
  },
  {
   "cell_type": "code",
   "execution_count": null,
   "metadata": {},
   "outputs": [],
   "source": [
    "np.dot(comp_endmem_stable.T, nmol_stable)-bulk_comp"
   ]
  },
  {
   "cell_type": "code",
   "execution_count": null,
   "metadata": {},
   "outputs": [],
   "source": [
    "comp_soln, X_soln, Aff_soln, Aff_endmem, phase_names_soln, extras_aff = update_phase_affinities(chempot_stable)\n"
   ]
  },
  {
   "cell_type": "code",
   "execution_count": null,
   "metadata": {},
   "outputs": [],
   "source": [
    "# phase_names_soln\n",
    "mask_stable = np.isin(phase_names_soln, phase_stable)\n",
    "print(Aff_soln[mask_stable])\n",
    "print(phase_names_soln[Aff_soln<1])\n",
    "\n",
    "# why are these not all 0 within tolerance?"
   ]
  },
  {
   "cell_type": "code",
   "execution_count": null,
   "metadata": {},
   "outputs": [],
   "source": []
  },
  {
   "cell_type": "code",
   "execution_count": null,
   "metadata": {},
   "outputs": [],
   "source": [
    "\n",
    "phase_stable, nmol0_stable, comp_endmem_stable, extras = get_init_assem(\n",
    "    bulk_comp, comp_endmem, mu_endmem,chempot_init=chempot_stable)\n",
    "\n",
    "nmol0_stable=np.abs(nmol0_stable)\n",
    "\n",
    "mu0_stable, dmudn_stable, phase_endmem_num_stable = build_stable_linear_phase_model(phase_stable, nmol0_stable, T, P, phases)\n",
    "nmol_init_stable = nmol0_stable.copy()\n",
    "nmol_stable = nmol0_stable.copy()\n"
   ]
  },
  {
   "cell_type": "code",
   "execution_count": null,
   "metadata": {},
   "outputs": [],
   "source": []
  },
  {
   "cell_type": "code",
   "execution_count": null,
   "metadata": {},
   "outputs": [],
   "source": []
  },
  {
   "cell_type": "code",
   "execution_count": null,
   "metadata": {},
   "outputs": [],
   "source": [
    "\n",
    "chempot_stable, nmol_stable, extras = equil_min_assemblage(\n",
    "    bulk_comp, nmol_stable, mu0_stable, dmudn_stable, comp_endmem_stable, phase_endmem_num_stable, \n",
    "    sig_nmol_prior=0.1, molTOL=1e-6)"
   ]
  },
  {
   "cell_type": "code",
   "execution_count": null,
   "metadata": {},
   "outputs": [],
   "source": []
  },
  {
   "cell_type": "code",
   "execution_count": null,
   "metadata": {},
   "outputs": [],
   "source": []
  },
  {
   "cell_type": "code",
   "execution_count": null,
   "metadata": {},
   "outputs": [],
   "source": []
  },
  {
   "cell_type": "code",
   "execution_count": null,
   "metadata": {},
   "outputs": [],
   "source": [
    "phase_neg_aff = phase_names_soln[Aff_soln < 1]\n",
    "mask_new = np.array([iphs not in phase_stable for iphs in phase_neg_aff])\n",
    "new_phases = phase_neg_aff[mask_new]\n",
    "\n",
    "new_endmem_num = []\n",
    "comp_endmem_new = []\n",
    "for iphsnm in new_phases:\n",
    "    iphs = phases[iphsnm]\n",
    "    iendmem_num = iphs.endmember_num\n",
    "    iphs_comp = phase_comps[iphsnm]\n",
    "    \n",
    "    print(iphs_comp)\n",
    "    \n",
    "    new_endmem_num.append(iendmem_num)\n",
    "    comp_endmem_new.append(iphs_comp)\n",
    "    \n",
    "comp_endmem_new.append(comp_endmem_stable)\n",
    "    \n",
    "comp_endmem_new = np.vstack(comp_endmem_new)\n",
    "phase_new_stable = np.hstack((new_phases, phase_stable))\n",
    "\n",
    "new_endmem_num = np.array(new_endmem_num)\n",
    "new_nmol = 1e-2*np.ones(new_endmem_num.sum())\n",
    "# comp_endmem_new = np.vstack((comp_endmem_stable, comp_endmem_new))\n",
    "\n",
    "# phase_endmem_num_stable_new = np.hstack((phase_endmem_num_stable, new_endmem_num))\n",
    "nmol_stable_new = np.hstack((new_nmol, nmol_stable))"
   ]
  },
  {
   "cell_type": "code",
   "execution_count": null,
   "metadata": {},
   "outputs": [],
   "source": []
  },
  {
   "cell_type": "code",
   "execution_count": null,
   "metadata": {},
   "outputs": [],
   "source": [
    "\n",
    "# mu0_stable, dmudn_stable, phase_endmem_num_stable = build_stable_linear_phase_model(phase_stable, nmol0_stable, T, P, phases)\n",
    "# nmol_init_stable = nmol0_stable.copy()\n",
    "# nmol_stable = nmol0_stable.copy()\n",
    "# \n",
    "# np.dot(comp_endmem_stable.T, nmol_stable)-bulk_comp"
   ]
  },
  {
   "cell_type": "code",
   "execution_count": null,
   "metadata": {},
   "outputs": [],
   "source": [
    "mu1_stable, dmudn1_stable, phase_endmem_num1_stable = build_stable_linear_phase_model(\n",
    "    phase_new_stable, nmol_stable_new, T, P, phases)\n"
   ]
  },
  {
   "cell_type": "code",
   "execution_count": null,
   "metadata": {},
   "outputs": [],
   "source": [
    "phase_endmem_num1_stable"
   ]
  },
  {
   "cell_type": "code",
   "execution_count": null,
   "metadata": {},
   "outputs": [],
   "source": [
    "\n",
    "chempot_stable, nmol_stable, extras = equil_min_assemblage(\n",
    "    bulk_comp, nmol_stable_new, mu1_stable, dmudn1_stable, comp_endmem_new, phase_endmem_num1_stable, \n",
    "    sig_nmol_prior=0.1, molTOL=1e-6)"
   ]
  },
  {
   "cell_type": "code",
   "execution_count": null,
   "metadata": {},
   "outputs": [],
   "source": []
  },
  {
   "cell_type": "code",
   "execution_count": null,
   "metadata": {},
   "outputs": [],
   "source": [
    "def alt_equil_min_assemblage(bulk_comp, nmol_stable, mu0_stable, dmudn_stable, \n",
    "                         comp_endmem_stable, phase_endmem_num_stable, \n",
    "                         sig_nmol_prior=0.1, sig_mu=10, sig_comp=0.01, molTOL=1e-4):\n",
    "\n",
    "    Gtot_init = np.nan \n",
    "\n",
    "    while True:\n",
    "        A, B = get_linear_constraints(bulk_comp, Gtot_init, mu0_stable, nmol_stable, dmudn_stable, \n",
    "                                      phase_endmem_num_stable, comp_endmem_stable, apply_nmol0_prior=True)\n",
    "        \n",
    "        \n",
    "        wt_stable = np.ones(phase_endmem_num_stable.sum())\n",
    "        A_lsq, B_lsq = build_lstsq(A, B, wt_stable, phase_endmem_num_stable, \n",
    "                                   sig_nmol_prior=sig_nmol_prior, sig_comp=sig_comp, sig_mu=sig_mu)\n",
    "        \n",
    "        output = np.linalg.lstsq(A_lsq, B_lsq, rcond=None)\n",
    "        params = output[0]\n",
    "        chempot_fit = params[:Nelems]\n",
    "        nmol_fit = params[Nelems:]\n",
    "        \n",
    "        resid = np.dot(A_lsq, params)-B_lsq\n",
    "        chisqr = np.sqrt(np.mean(resid**2))\n",
    "        \n",
    "        dnmol = nmol_fit - nmol_stable\n",
    "        mu_fit = mu0_stable + np.dot(dmudn_stable, dnmol)\n",
    "        \n",
    "        # print('chisqr = ', chisqr)\n",
    "        # print('dcomp = ', np.dot(A['comp'],params)-B['comp'])\n",
    "        # print('dmu(pure) = ', np.dot(A['mu_pure'],params)-B['mu_pure'])\n",
    "        # print('dmu(soln) = ', np.dot(A['mu_soln'],params)-B['mu_soln'])\n",
    "        \n",
    "        \n",
    "        mu0_stable_next, dmudn_stable_next, phase_endmem_num_stable = build_stable_linear_phase_model(\n",
    "            phase_stable, nmol_fit, T, P, phases)\n",
    "        \n",
    "        \n",
    "        # extras['mu0']+np.dot(extras['dmudn_stable'],nmol_stable - extras['nmol0_stable']) - mu_stable_fin\n",
    "        # dmu_corr = mu0_stable + np.dot(dmudn_stable,nmol_fit) - mu0_stable_next\n",
    "        dmu_corr = mu0_stable_next-mu_fit\n",
    "        # print(dmu_corr)\n",
    "        \n",
    "        \n",
    "        nmol0_stable = nmol_stable.copy()\n",
    "        \n",
    "        chempot_stable = chempot_fit\n",
    "        nmol_stable = nmol_fit\n",
    "        mu0_stable = mu0_stable_next\n",
    "        dmudn_stable = dmudn_stable_next\n",
    "        \n",
    "        if np.all(np.abs(dnmol)<molTOL):\n",
    "            break\n",
    "        \n",
    "            \n",
    "    extras = {}\n",
    "    extras['mu_fit'] = mu_fit\n",
    "    extras['mu0'] = mu0_stable\n",
    "    extras['nmol0_stable'] = nmol0_stable\n",
    "    extras['dmudn_stable'] = dmudn_stable\n",
    "    extras['chisqr'] = chisqr\n",
    "        \n",
    "    return chempot_stable, nmol_stable, extras"
   ]
  },
  {
   "cell_type": "code",
   "execution_count": null,
   "metadata": {},
   "outputs": [],
   "source": [
    "phase_endmem_num"
   ]
  },
  {
   "cell_type": "code",
   "execution_count": null,
   "metadata": {},
   "outputs": [],
   "source": [
    "phase_stable_new = np.hstack((phase_stable, new_phases))"
   ]
  },
  {
   "cell_type": "code",
   "execution_count": null,
   "metadata": {},
   "outputs": [],
   "source": [
    "\n",
    "mu0_stable, dmudn_stable, phase_endmem_num_stable = build_stable_linear_phase_model(phase_stable, nmol0_stable, T, P, phases)"
   ]
  },
  {
   "cell_type": "code",
   "execution_count": null,
   "metadata": {},
   "outputs": [],
   "source": []
  },
  {
   "cell_type": "code",
   "execution_count": null,
   "metadata": {},
   "outputs": [],
   "source": []
  },
  {
   "cell_type": "code",
   "execution_count": null,
   "metadata": {},
   "outputs": [],
   "source": []
  },
  {
   "cell_type": "code",
   "execution_count": null,
   "metadata": {},
   "outputs": [],
   "source": [
    "X_eq = np.hstack([X_soln[iphs] for iphs in phase_stable])\n",
    "X_eq\n",
    "\n",
    "ind = 0\n",
    "for iendmem_num in phase_endmem_num_stable:\n",
    "    iX = X_eq[ind:ind+iendmem_num]\n",
    "    inmol = nmol_stable[ind:ind+iendmem_num]\n",
    "    iX_fit = inmol/np.sum(inmol)\n",
    "    print(iX-iX_fit)\n",
    "    \n",
    "    ind += iendmem_num"
   ]
  },
  {
   "cell_type": "code",
   "execution_count": null,
   "metadata": {},
   "outputs": [],
   "source": [
    "array([ 1.46879207e-03, -1.61401333e+00,  1.00056641e-06,  1.12829730e-06])"
   ]
  },
  {
   "cell_type": "code",
   "execution_count": null,
   "metadata": {},
   "outputs": [],
   "source": [
    "\n",
    "mask_new = ~np.isin(phase_names_soln, phase_stable)\n",
    "inds = np.argsort(Aff_soln[mask_new])\n",
    "print(Aff_soln[mask_new])\n",
    "phase_names_soln[mask_new][Aff_soln[mask_new]<0]"
   ]
  },
  {
   "cell_type": "code",
   "execution_count": null,
   "metadata": {},
   "outputs": [],
   "source": []
  },
  {
   "cell_type": "code",
   "execution_count": null,
   "metadata": {},
   "outputs": [],
   "source": [
    "\n",
    "        comp_curr, dmu_curr =  get_current_phase_mu(Aff_soln, Aff_endmem, comp_soln, Ashft=Ashft) \n",
    "        \n",
    "        \n",
    "        phs_endmem_sym =  get_phase_endmem_sym(phs_sym, endmem_ids)\n",
    "        phase_name_curr = np.hstack((phase_names_soln, phs_endmem_sym))\n",
    "        phase_name_parent = np.hstack((phase_names_soln, phs_sym))"
   ]
  },
  {
   "cell_type": "code",
   "execution_count": null,
   "metadata": {},
   "outputs": [],
   "source": []
  },
  {
   "cell_type": "code",
   "execution_count": null,
   "metadata": {},
   "outputs": [],
   "source": []
  },
  {
   "cell_type": "code",
   "execution_count": null,
   "metadata": {},
   "outputs": [],
   "source": [
    "\n",
    "mu_stable_fin, dmudn_stable_fin, phase_endmem_num_stable_fin = build_stable_linear_phase_model(\n",
    "    phase_stable, nmol_stable, T, P, phases)"
   ]
  },
  {
   "cell_type": "code",
   "execution_count": null,
   "metadata": {},
   "outputs": [],
   "source": [
    "mu_stable_fin-extras['mu_fit']"
   ]
  },
  {
   "cell_type": "code",
   "execution_count": null,
   "metadata": {},
   "outputs": [],
   "source": [
    "mu_stable_fin-np.dot(chempot_stable,comp_endmem_stable.T)"
   ]
  },
  {
   "cell_type": "code",
   "execution_count": null,
   "metadata": {},
   "outputs": [],
   "source": [
    "# mu0_stable+np.dot(dmudn_stable,nmol_stable - nmol0_stable) - mu_stable_fin\n",
    "extras['mu0']+np.dot(extras['dmudn_stable'],nmol_stable - extras['nmol0_stable']) - mu_stable_fin\n",
    "\n"
   ]
  },
  {
   "cell_type": "code",
   "execution_count": null,
   "metadata": {},
   "outputs": [],
   "source": [
    "mu0_stable = mu_stable_fin.copy()\n",
    "dmudn_stable = dmudn_stable_fin.copy()\n",
    "nmol0_stable = nmol_stable.copy()\n"
   ]
  },
  {
   "cell_type": "code",
   "execution_count": null,
   "metadata": {},
   "outputs": [],
   "source": [
    "chempot_stable"
   ]
  },
  {
   "cell_type": "code",
   "execution_count": null,
   "metadata": {},
   "outputs": [],
   "source": [
    "chempot_stable_fin = chempot_stable.copy()"
   ]
  },
  {
   "cell_type": "code",
   "execution_count": null,
   "metadata": {},
   "outputs": [],
   "source": [
    "chempot_stable-chempot_stable_fin"
   ]
  },
  {
   "cell_type": "code",
   "execution_count": null,
   "metadata": {},
   "outputs": [],
   "source": []
  },
  {
   "cell_type": "code",
   "execution_count": null,
   "metadata": {},
   "outputs": [],
   "source": []
  },
  {
   "cell_type": "code",
   "execution_count": null,
   "metadata": {},
   "outputs": [],
   "source": [
    "for iphsnm in phase_stable:\n",
    "    iphs = phases[iphsnm]\n",
    "    # print(iphs)\n",
    "    iphs.chem"
   ]
  },
  {
   "cell_type": "code",
   "execution_count": null,
   "metadata": {},
   "outputs": [],
   "source": []
  },
  {
   "cell_type": "code",
   "execution_count": null,
   "metadata": {},
   "outputs": [],
   "source": [
    "chempot_stable"
   ]
  },
  {
   "cell_type": "code",
   "execution_count": null,
   "metadata": {},
   "outputs": [],
   "source": [
    "nmol_stable"
   ]
  },
  {
   "cell_type": "code",
   "execution_count": null,
   "metadata": {},
   "outputs": [],
   "source": [
    "nmol_stable"
   ]
  },
  {
   "cell_type": "code",
   "execution_count": null,
   "metadata": {},
   "outputs": [],
   "source": []
  },
  {
   "cell_type": "code",
   "execution_count": null,
   "metadata": {},
   "outputs": [],
   "source": [
    "\n",
    "phase_stable, nmol_stable, comp_endmem_stable, extras = get_init_assem(bulk_comp, comp_endmem, mu_endmem, \n",
    "                                                                       chempot_init=chempot_stable)\n",
    "mu0_stable, dmudn_stable, phase_endmem_num_stable = build_stable_linear_phase_model(phase_stable, nmol_stable, T, P, phases)\n",
    "np.dot(comp_endmem_stable.T, nmol_stable)-bulk_comp"
   ]
  },
  {
   "cell_type": "code",
   "execution_count": null,
   "metadata": {},
   "outputs": [],
   "source": [
    "np.unique(phase_stable)"
   ]
  },
  {
   "cell_type": "code",
   "execution_count": null,
   "metadata": {},
   "outputs": [],
   "source": [
    "extras.keys()"
   ]
  },
  {
   "cell_type": "code",
   "execution_count": null,
   "metadata": {},
   "outputs": [],
   "source": [
    "extras['phase_n'] = "
   ]
  },
  {
   "cell_type": "code",
   "execution_count": null,
   "metadata": {},
   "outputs": [],
   "source": [
    "phase_names_soln_stable[extras['Aff_soln']<0]"
   ]
  },
  {
   "cell_type": "code",
   "execution_count": null,
   "metadata": {},
   "outputs": [],
   "source": []
  },
  {
   "cell_type": "code",
   "execution_count": null,
   "metadata": {},
   "outputs": [],
   "source": [
    "comp_soln_stable, X_soln_stable, Aff_soln_stable, Aff_endmem_stable, phase_names_soln_stable, extras_stable = update_phase_affinities(chempot_stable)"
   ]
  },
  {
   "cell_type": "code",
   "execution_count": null,
   "metadata": {},
   "outputs": [],
   "source": [
    "Aff_soln_stable"
   ]
  },
  {
   "cell_type": "code",
   "execution_count": null,
   "metadata": {},
   "outputs": [],
   "source": [
    "phase_names_soln_stable[Aff_soln_stable<100]"
   ]
  },
  {
   "cell_type": "code",
   "execution_count": null,
   "metadata": {},
   "outputs": [],
   "source": [
    "phase_stable"
   ]
  },
  {
   "cell_type": "code",
   "execution_count": null,
   "metadata": {},
   "outputs": [],
   "source": [
    "dmudn_stable_next"
   ]
  },
  {
   "cell_type": "code",
   "execution_count": null,
   "metadata": {},
   "outputs": [],
   "source": [
    "dmudn_stable"
   ]
  },
  {
   "cell_type": "code",
   "execution_count": null,
   "metadata": {},
   "outputs": [],
   "source": []
  },
  {
   "cell_type": "code",
   "execution_count": null,
   "metadata": {},
   "outputs": [],
   "source": []
  },
  {
   "cell_type": "code",
   "execution_count": null,
   "metadata": {},
   "outputs": [],
   "source": [
    "\n",
    "        Aff_phases_fit = update_fitted_affinities(params, A, B, phase_endmem_num)\n",
    "        dnmol = nmol_fit-nmol\n",
    "        dchempot = chempot_fit-chempot\n",
    "        \n",
    "        resid = np.dot(A_lsq, params)-B_lsq\n",
    "        chisqr = np.sqrt(np.mean(resid**2))"
   ]
  },
  {
   "cell_type": "code",
   "execution_count": null,
   "metadata": {},
   "outputs": [],
   "source": []
  },
  {
   "cell_type": "code",
   "execution_count": null,
   "metadata": {},
   "outputs": [],
   "source": []
  },
  {
   "cell_type": "code",
   "execution_count": null,
   "metadata": {},
   "outputs": [],
   "source": [
    "B_lsq"
   ]
  },
  {
   "cell_type": "code",
   "execution_count": null,
   "metadata": {},
   "outputs": [],
   "source": [
    "\n",
    "    \n",
    "    B['Gtot'] = Gtot_init-Gshft\n",
    "    \n",
    "    Ascl_thresh = Ascl_max\n",
    "    nmol = nmol_end0.copy()\n",
    "    chempot = chempot_init.copy()\n",
    "    \n",
    "    \n",
    "    Ascl_fac = np.exp(np.log(Ascl_max/Ascl_min)/Nsteps)\n",
    "    \n",
    "    \n",
    "    count=1\n",
    "    while True:\n",
    "            \n",
    "        # Affwt_endmem, Affwt = get_affinity_wt(Aff_phases, phase_endmem_num, Ascl_thresh)\n",
    "        Affwt_endmem, Affwt = get_affinity_wt(Aff_phases_init, phase_endmem_num, Ascl_thresh)\n",
    "        A_lsq, B_lsq = build_lstsq(A, B, Affwt_endmem, phase_endmem_num, \n",
    "                                   sig_nmol_prior=sig_nmol_prior, sig_comp=sig_comp, sig_mu=sig_mu)\n",
    "    \n",
    "        output = np.linalg.lstsq(A_lsq, B_lsq, rcond=None)\n",
    "        params = output[0]\n",
    "        chempot_fit = params[:Nelems]\n",
    "        nmol_fit = params[Nelems:]\n",
    "        Aff_phases_fit = update_fitted_affinities(params, A, B, phase_endmem_num)\n",
    "        dnmol = nmol_fit-nmol\n",
    "        dchempot = chempot_fit-chempot\n",
    "        \n",
    "        resid = np.dot(A_lsq, params)-B_lsq\n",
    "        chisqr = np.sqrt(np.mean(resid**2))\n",
    "        \n",
    "            \n",
    "        if debug:\n",
    "            print('chi2 = ', chisqr)\n",
    "            print('Aff_phases_fit = ', Aff_phases_fit)\n",
    "            print('sig. wt count = ', np.sum(Affwt_endmem>.05))\n",
    "            print('Ascl_thresh = ', Ascl_thresh)\n",
    "            print(np.max(dnmol))\n",
    "            print('    dchempot = ',np.max(np.abs(dchempot)))\n",
    "            print('----------')\n",
    "        \n",
    "        # if np.all(np.abs(dnmol) < TOL):\n",
    "        #     break\n",
    "            \n",
    "        if count >= max_iter:\n",
    "            break\n",
    "            \n",
    "        if np.all(np.abs(dchempot) < muTOL):\n",
    "            break\n",
    "            \n",
    "        Aff_phases = Aff_phases_fit\n",
    "        nmol = nmol_fit\n",
    "        chempot = chempot_fit\n",
    "        \n",
    "        if Ascl_thresh > Ascl_min:\n",
    "            Ascl_thresh /= Ascl_fac\n",
    "            \n",
    "        count += 1\n",
    "    \n",
    "    return chempot_fit, nmol_fit, Aff_phases_fit, Affwt"
   ]
  },
  {
   "cell_type": "code",
   "execution_count": null,
   "metadata": {},
   "outputs": [],
   "source": []
  },
  {
   "cell_type": "code",
   "execution_count": null,
   "metadata": {},
   "outputs": [],
   "source": []
  },
  {
   "cell_type": "code",
   "execution_count": null,
   "metadata": {},
   "outputs": [],
   "source": []
  },
  {
   "cell_type": "code",
   "execution_count": null,
   "metadata": {},
   "outputs": [],
   "source": [
    "mu0_stable"
   ]
  },
  {
   "cell_type": "markdown",
   "metadata": {},
   "source": [
    "# Test"
   ]
  },
  {
   "cell_type": "code",
   "execution_count": null,
   "metadata": {},
   "outputs": [],
   "source": [
    "# This takes ~1 sec due to inefficiency of affinity_and_comp\n",
    "chempot_init, phase_stable, wt_assem, extras = get_init_assem(bulk_comp, comp_endmem, mu_endmem)\n",
    "\n",
    "dmudn = extras['dmudn']\n",
    "X = extras['X']\n",
    "mu0 = extras['mu0']\n",
    "comp = extras['elem_comp']\n",
    "Aff_phases_init = extras['Aff_soln']\n"
   ]
  },
  {
   "cell_type": "code",
   "execution_count": null,
   "metadata": {},
   "outputs": [],
   "source": [
    "extras['phase_name_parent']\n",
    "# extras['phase_endmem_ids']\n",
    "\n",
    "# phase_stable\n",
    "extras.keys()"
   ]
  },
  {
   "cell_type": "code",
   "execution_count": null,
   "metadata": {},
   "outputs": [],
   "source": [
    "Gtot_init = np.dot(chempot_init, bulk_comp)\n",
    "print('Gtot = ', Gtot_init)\n",
    "\n",
    "chempot = chempot_init.copy()\n",
    "Aff_phases = Aff_phases_init.copy()\n",
    "\n",
    "plt.figure()\n",
    "plt.plot(Aff_phases/1e3, 'ko')\n",
    "plt.ylim(-.5, .5)\n",
    "\n"
   ]
  },
  {
   "cell_type": "code",
   "execution_count": null,
   "metadata": {},
   "outputs": [],
   "source": [
    "\n",
    "\n",
    "chempot_fit, nmol_fit, Aff_phases_fit, Affwt = discover_approx_hull(\n",
    "    bulk_comp, chempot, Gtot_init, Aff_phases, mu0, dmudn, X, phase_endmem_num, comp_endmem,\n",
    "    debug=True, sig_comp=1e-2, sig_nmol_prior=1.0, Ascl_min=1e-10, Ascl_max=1e-10, Nsteps=4,\n",
    "    max_iter=8, Gshft=1e3)\n",
    "\n",
    "Gtot = np.dot(chempot_fit, bulk_comp)\n",
    "print('Gtot diff = ', Gtot-Gtot_init)\n",
    "print('bulk_comp diff = ', np.dot(comp_endmem.T, nmol_fit )-bulk_comp)\n",
    "# print('chempot_fit', chempot_fit)\n",
    "# print('nmol_fit', nmol_fit)\n",
    "# print('Aff_phases_fit', Aff_phases_fit)\n",
    "\n",
    "comp_soln, X_soln, Aff_soln, Aff_endmem, phase_names_soln, extras = update_phase_affinities(chempot_fit)\n",
    "\n",
    "dmudn = extras['dmudn']\n",
    "X = extras['X']\n",
    "mu0 = extras['mu0']\n",
    "\n",
    "dchempot = chempot_fit-chempot\n",
    "print(np.max(np.abs(dchempot)))\n",
    "\n",
    "chempot = chempot_fit\n",
    "Aff_phases = Aff_soln\n",
    "\n"
   ]
  },
  {
   "cell_type": "code",
   "execution_count": null,
   "metadata": {},
   "outputs": [],
   "source": [
    "\n",
    "Affwt_endmem = np.repeat(Affwt, phase_endmem_num)\n",
    "print(Affwt_endmem.size)\n",
    "    \n",
    "    \n",
    "\n",
    "plt.figure()\n",
    "plt.scatter(range(Aff_phases.size), Aff_phases/1e3, c=Affwt)\n",
    "plt.plot(Aff_phases_init/1e3, 'rx')\n",
    "\n",
    "\n",
    "\n",
    "plt.figure()\n",
    "plt.scatter(range(nmol_fit.size), nmol_fit, c=Affwt_endmem)\n",
    "# plt.scatter(Affwt, Aff_phases_init/1e3, 'rx')"
   ]
  },
  {
   "cell_type": "code",
   "execution_count": null,
   "metadata": {},
   "outputs": [],
   "source": [
    "nmol_fit "
   ]
  },
  {
   "cell_type": "code",
   "execution_count": null,
   "metadata": {},
   "outputs": [],
   "source": [
    "TOL = 0.1\n",
    "\n",
    "ind = 0\n",
    "bulk_approx = np.zeros(bulk_comp.size)\n",
    "print(bulk_approx)\n",
    "\n",
    "for iendmem,iwt, iphsnm in zip(phase_endmem_num,Affwt, phases):\n",
    "    inmol = nmol_fit[ind:ind+iendmem]\n",
    "    \n",
    "    inmol[inmol<0] = 0\n",
    "    \n",
    "    \n",
    "    icomp_end = comp_endmem[ind:ind+iendmem,:]\n",
    "    iphs = phases[iphsnm]\n",
    "    iX = X[iphsnm]\n",
    "    \n",
    "    if iwt > TOL:\n",
    "        print('wt = ', iwt)\n",
    "        print('nmol = ', inmol)\n",
    "        print('iX = ', iX)\n",
    "        bulk_approx += np.dot(icomp_end.T, inmol)\n",
    "        \n",
    "        if len(iX) > 1:\n",
    "            ichempot = iphs.chem_potential(T, P, mol=inmol).squeeze()\n",
    "            print('dchempot = ', ichempot-np.dot(icomp_end, chempot))\n",
    "            print('ichempot = ', ichempot)\n",
    "            \n",
    "            \n",
    "        \n",
    "    print('---')\n",
    "    \n",
    "    \n",
    "    ind += iendmem"
   ]
  },
  {
   "cell_type": "code",
   "execution_count": null,
   "metadata": {},
   "outputs": [],
   "source": [
    "bulk_approx-bulk_comp"
   ]
  },
  {
   "cell_type": "code",
   "execution_count": null,
   "metadata": {},
   "outputs": [],
   "source": []
  },
  {
   "cell_type": "code",
   "execution_count": null,
   "metadata": {},
   "outputs": [],
   "source": []
  },
  {
   "cell_type": "code",
   "execution_count": null,
   "metadata": {},
   "outputs": [],
   "source": [
    "# %%timeit\n",
    "# %%snakeviz\n",
    "\n",
    "\n",
    "# This takes ~1 sec due to inefficiency of affinity_and_comp\n",
    "chempot_init, phase_stable, wt_assem, extras = get_init_assem(bulk_comp, comp_endmem, mu_endmem)\n",
    "\n",
    "dmudn = extras['dmudn']\n",
    "X = extras['X']\n",
    "mu0 = extras['mu0']\n",
    "comp = extras['elem_comp']\n",
    "Aff_phases_init = extras['Aff_soln']"
   ]
  },
  {
   "cell_type": "code",
   "execution_count": null,
   "metadata": {},
   "outputs": [],
   "source": []
  },
  {
   "cell_type": "code",
   "execution_count": null,
   "metadata": {},
   "outputs": [],
   "source": []
  },
  {
   "cell_type": "code",
   "execution_count": null,
   "metadata": {},
   "outputs": [],
   "source": [
    "# np.dot(dmudn['Fsp'], np.ones(2))\n",
    "# print(X.keys())\n",
    "# [X[iphsnm].size for iphsnm in X]"
   ]
  },
  {
   "cell_type": "code",
   "execution_count": null,
   "metadata": {},
   "outputs": [],
   "source": [
    "Nendmem = comp_endmem.shape[0]\n",
    "phase_endmem_num = np.array([len(X[iphs]) for iphs in X])\n",
    "\n",
    "\n",
    "Nphs = len(phase_endmem_num)\n",
    "Npure = np.sum(phase_endmem_num==1)\n",
    "Nsoln = np.sum(phase_endmem_num>1)\n",
    "\n",
    "Nsoln_endmem = Nendmem-Npure"
   ]
  },
  {
   "cell_type": "code",
   "execution_count": null,
   "metadata": {},
   "outputs": [],
   "source": [
    "chempot_fit, nmol_fit, Aff_phases_fit = discover_approx_hull(\n",
    "    bulk_comp, chempot_init, Aff_phases_init, mu0, dmudn, X, phase_endmem_num, comp_endmem,\n",
    "    debug=False, sig_nmol_prior=.1, Ascl_min=1, Ascl_max=1e3, Nsteps=10)"
   ]
  },
  {
   "cell_type": "code",
   "execution_count": null,
   "metadata": {},
   "outputs": [],
   "source": [
    "np.dot(nmol_fit, comp_endmem)-bulk_comp"
   ]
  },
  {
   "cell_type": "code",
   "execution_count": null,
   "metadata": {},
   "outputs": [],
   "source": [
    "plt.figure()\n",
    "plt.plot(nmol_fit, 'ko')"
   ]
  },
  {
   "cell_type": "code",
   "execution_count": null,
   "metadata": {},
   "outputs": [],
   "source": []
  },
  {
   "cell_type": "code",
   "execution_count": null,
   "metadata": {},
   "outputs": [],
   "source": [
    "(np.dot(comp_endmem,chempot)-np.dot(comp_endmem, chempot_init))/1e3"
   ]
  },
  {
   "cell_type": "code",
   "execution_count": null,
   "metadata": {},
   "outputs": [],
   "source": [
    "np.dot(comp_endmem, chempot_init)"
   ]
  },
  {
   "cell_type": "code",
   "execution_count": null,
   "metadata": {},
   "outputs": [],
   "source": []
  },
  {
   "cell_type": "code",
   "execution_count": null,
   "metadata": {},
   "outputs": [],
   "source": [
    "\n",
    "chempot = chempot_init.copy()\n",
    "Aff_phases = Aff_phases_init.copy()\n",
    "\n",
    "for ind in range(10):\n",
    "    chempot_fit, nmol_fit, Aff_phases_fit = discover_approx_hull(\n",
    "        bulk_comp, chempot, Aff_phases, mu0, dmudn, X, phase_endmem_num, comp_endmem,\n",
    "        debug=False, sig_nmol_prior=1e10, Ascl_min=1, Ascl_max=1e3, Nsteps=10)\n",
    "    \n",
    "    print('chempot_fit', chempot_fit)\n",
    "    print('nmol_fit', nmol_fit)\n",
    "    print('Aff_phases_fit', Aff_phases_fit)\n",
    "    \n",
    "    comp_soln, X_soln, Aff_soln, Aff_endmem, phase_names_soln, extras = update_phase_affinities(chempot_fit)\n",
    "    \n",
    "    dmudn = extras['dmudn']\n",
    "    X = extras['X']\n",
    "    mu0 = extras['mu0']\n",
    "    \n",
    "    dchempot = chempot_fit-chempot\n",
    "    print(np.max(np.abs(dchempot)))\n",
    "    \n",
    "    chempot = chempot_fit\n",
    "    Aff_phases = Aff_soln\n",
    "\n"
   ]
  },
  {
   "cell_type": "code",
   "execution_count": null,
   "metadata": {},
   "outputs": [],
   "source": [
    "chempot"
   ]
  },
  {
   "cell_type": "code",
   "execution_count": null,
   "metadata": {},
   "outputs": [],
   "source": []
  },
  {
   "cell_type": "code",
   "execution_count": null,
   "metadata": {},
   "outputs": [],
   "source": []
  },
  {
   "cell_type": "code",
   "execution_count": null,
   "metadata": {},
   "outputs": [],
   "source": []
  },
  {
   "cell_type": "code",
   "execution_count": null,
   "metadata": {},
   "outputs": [],
   "source": [
    "Ascl_min = 1\n",
    "Ascl = np.abs(np.median(Aff_soln[Aff_soln<=0]))\n",
    "print(Ascl)\n",
    "Ascl = np.max((Ascl, Ascl_min))\n"
   ]
  },
  {
   "cell_type": "code",
   "execution_count": null,
   "metadata": {},
   "outputs": [],
   "source": [
    "Amag = Aff_soln/Ascl\n",
    "Amask = Amag>0\n",
    "\n",
    "\n",
    "wtstdt = (1+1/5*Amag[Amask]**2)**(-(5+1)/2)\n",
    "wtcauchy = 1/(1+Amag[Amask]**2)\n",
    "\n",
    "\n",
    "Awt = np.ones(Amag.size)\n",
    "Awt[Amask] = wtstdt\n",
    "# Awt[Amask] = wtcauchy\n",
    "\n",
    "plt.figure()\n",
    "# plt.semilogy(Awt, 'ko')\n",
    "plt.plot(Awt, 'ko')\n",
    "\n",
    "# plt.plot(Amag, Awt, 'ko')"
   ]
  },
  {
   "cell_type": "code",
   "execution_count": null,
   "metadata": {},
   "outputs": [],
   "source": [
    "\n",
    "Awt_endmem = np.repeat(Awt, phase_endmem_num)\n",
    "Awt_soln = Awt_endmem[:-Npure]\n",
    "Awt_pure = Awt_endmem[-Npure:]"
   ]
  },
  {
   "cell_type": "code",
   "execution_count": null,
   "metadata": {},
   "outputs": [],
   "source": []
  },
  {
   "cell_type": "code",
   "execution_count": null,
   "metadata": {},
   "outputs": [],
   "source": []
  },
  {
   "cell_type": "code",
   "execution_count": null,
   "metadata": {},
   "outputs": [],
   "source": []
  },
  {
   "cell_type": "code",
   "execution_count": null,
   "metadata": {},
   "outputs": [],
   "source": [
    "\n",
    "plt.figure()\n",
    "plt.plot(Aff_soln/Ascl, 'ko')"
   ]
  },
  {
   "cell_type": "code",
   "execution_count": null,
   "metadata": {},
   "outputs": [],
   "source": [
    "\n",
    "Agrid = np.linspace(-10, 10,1001)\n",
    "wtgrid = np.ones(Agrid.size)\n",
    "\n",
    "wtnorm = np.exp(-.5*Agrid**2)\n",
    "wtcauchy = 1/(1+Agrid**2)\n",
    "wtstdt = (1+1/5*Agrid**2)**(-(5+1)/2)\n",
    "\n",
    "# wtgrid[Agrid>0] = wtnorm[Agrid>0]\n",
    "# wtgrid[Agrid>0] = wtlog[Agrid>0]\n",
    "# wtgrid[Agrid>0] = wtlaplace[Agrid>0]\n",
    "# wtgrid[Agrid>0] = wtcauchy[Agrid>0]\n",
    "wtgrid[Agrid>0] = wtstdt[Agrid>0]\n",
    "\n",
    "# wtnorm\n",
    "plt.figure()\n",
    "plt.plot(Agrid, wtgrid, '-')\n",
    "plt.xlim(-2, 10)"
   ]
  },
  {
   "cell_type": "code",
   "execution_count": null,
   "metadata": {},
   "outputs": [],
   "source": []
  },
  {
   "cell_type": "code",
   "execution_count": null,
   "metadata": {},
   "outputs": [],
   "source": [
    "# X"
   ]
  },
  {
   "cell_type": "code",
   "execution_count": null,
   "metadata": {},
   "outputs": [],
   "source": []
  },
  {
   "cell_type": "code",
   "execution_count": null,
   "metadata": {},
   "outputs": [],
   "source": []
  },
  {
   "cell_type": "code",
   "execution_count": null,
   "metadata": {},
   "outputs": [],
   "source": [
    "phsnm = 'Fsp'\n",
    "phsnm = 'SplS'\n",
    "phsnm = 'Cpx'\n",
    "np.dot(dmudn[phsnm], X[phsnm])\n",
    "idmudn = dmudn[phsnm]\n",
    "iX = X[phsnm]\n",
    "imu0 = mu0[phsnm]\n",
    "icomp = comp[phsnm]\n",
    "iphs_comp = phase_comps[phsnm]"
   ]
  },
  {
   "cell_type": "code",
   "execution_count": null,
   "metadata": {},
   "outputs": [],
   "source": []
  },
  {
   "cell_type": "code",
   "execution_count": null,
   "metadata": {},
   "outputs": [],
   "source": [
    "idmudlogn = idmudn*iX\n",
    "idlogndmu = np.linalg.pinv(idmudlogn)\n",
    "np.dot(idmudlogn, np.ones(iX.size))"
   ]
  },
  {
   "cell_type": "code",
   "execution_count": null,
   "metadata": {},
   "outputs": [],
   "source": [
    "idndmu = np.linalg.pinv(idmudn)"
   ]
  },
  {
   "cell_type": "code",
   "execution_count": null,
   "metadata": {},
   "outputs": [],
   "source": [
    "np.dot(idmudn, idndmu)"
   ]
  },
  {
   "cell_type": "code",
   "execution_count": null,
   "metadata": {},
   "outputs": [],
   "source": [
    "M = np.dot(idmudlogn,idlogndmu)\n",
    "U, S, Vh = np.linalg.svd(M)\n",
    "print(S)"
   ]
  },
  {
   "cell_type": "code",
   "execution_count": null,
   "metadata": {},
   "outputs": [],
   "source": [
    "M = np.dot(idmudn,idndmu)\n",
    "U, S, Vh = np.linalg.svd(M)\n",
    "print(S)"
   ]
  },
  {
   "cell_type": "code",
   "execution_count": null,
   "metadata": {},
   "outputs": [],
   "source": [
    "np.dot(M, Vh[3])-Vh[3]"
   ]
  },
  {
   "cell_type": "code",
   "execution_count": null,
   "metadata": {},
   "outputs": [],
   "source": [
    "Vh[-1]/iX"
   ]
  },
  {
   "cell_type": "code",
   "execution_count": null,
   "metadata": {},
   "outputs": [],
   "source": []
  },
  {
   "cell_type": "markdown",
   "metadata": {},
   "source": [
    "# Linear lst sqr refinement of current best phases"
   ]
  },
  {
   "cell_type": "code",
   "execution_count": null,
   "metadata": {},
   "outputs": [],
   "source": [
    "\n",
    "mask_pure = np.tile(False, Nendmem)\n",
    "mask_pure[-Npure:] = True"
   ]
  },
  {
   "cell_type": "code",
   "execution_count": null,
   "metadata": {},
   "outputs": [],
   "source": []
  },
  {
   "cell_type": "code",
   "execution_count": null,
   "metadata": {},
   "outputs": [],
   "source": [
    "# phsnm = 'SplS'\n",
    "# phsnm = 'Cpx'\n",
    "# Nphs \n",
    "# Npure\n",
    "# Nsoln\n",
    "\n",
    "Nparams = Nelems+Nendmem\n",
    "\n",
    "\n",
    "M_tot = np.zeros((Nendmem, Nendmem))\n",
    "dndmu_tot = np.zeros((Nendmem, Nendmem))\n",
    "dmudn_tot = np.zeros((Nendmem, Nendmem))\n",
    "nmol_end0 = np.zeros(Nendmem)\n",
    "mu0_endmem = np.zeros(Nendmem)\n",
    "\n",
    "ind_endmem = 0\n",
    "for phsnm in mu0:\n",
    "    idmudn = dmudn[phsnm]\n",
    "    iX = X[phsnm]\n",
    "    iendmem_num = iX.size\n",
    "    \n",
    "    imu0 = mu0[phsnm]\n",
    "    icomp = comp[phsnm]\n",
    "    iphs_comp = phase_comps[phsnm]\n",
    "    \n",
    "    idndmu = np.linalg.pinv(idmudn)\n",
    "    iM = np.dot(idmudn, idndmu)\n",
    "    \n",
    "    M_tot[ind_endmem:ind_endmem+iendmem_num, \n",
    "          ind_endmem:ind_endmem+iendmem_num] = iM\n",
    "    \n",
    "    dndmu_tot[ind_endmem:ind_endmem+iendmem_num, \n",
    "              ind_endmem:ind_endmem+iendmem_num] = idndmu\n",
    "    dmudn_tot[ind_endmem:ind_endmem+iendmem_num, \n",
    "              ind_endmem:ind_endmem+iendmem_num] = idmudn\n",
    "    \n",
    "    nmol_end0[ind_endmem:ind_endmem+iendmem_num] = iX\n",
    "    \n",
    "    mu0_endmem[ind_endmem:ind_endmem+iendmem_num] = imu0\n",
    "    \n",
    "    # print(iM)\n",
    "    # print(np.dot(iM, ))\n",
    "    \n",
    "    # iA_mu = np.dot(iM,iphs_comp)-iphs_comp\n",
    "    # iB_mu = np.dot(iM, imu0) - imu0\n",
    "    # \n",
    "    # \n",
    "    # idn0 = iX - np.dot(idndmu, imu0)\n",
    "    # iB_comp = bulk_comp-np.dot(idn0, iphs_comp)\n",
    "    # \n",
    "    # idn_end = np.dot(idndmu, iphs_comp)\n",
    "    # iA_comp = np.dot(iphs_comp.T, idn_end)\n",
    "    \n",
    "    # iA_comp = np.dot(iphs_comp, np.dot(idndmu, iphs_comp).T)\n",
    "    # print(iphs_comp)\n",
    "    # B_comp += iB_comp\n",
    "    # A_comp += iA_comp\n",
    "    \n",
    "    # A_mu.append(iA_mu)\n",
    "    # B_mu.append(iB_mu)\n",
    "    \n",
    "    ind_endmem += iendmem_num\n",
    "    \n",
    "    \n",
    "# A_mu = np.vstack(A_mu)\n",
    "# B_mu = np.hstack(B_mu)\n",
    "# mu0_endmem = np.hstack(mu0_endmem)\n"
   ]
  },
  {
   "cell_type": "code",
   "execution_count": null,
   "metadata": {},
   "outputs": [],
   "source": []
  },
  {
   "cell_type": "code",
   "execution_count": null,
   "metadata": {},
   "outputs": [],
   "source": [
    "# mask_2d_soln = np.dot(~mask_pure[:,np.newaxis],~mask_pure[np.newaxis,:])"
   ]
  },
  {
   "cell_type": "code",
   "execution_count": null,
   "metadata": {},
   "outputs": [],
   "source": [
    "A_mu_pure = np.zeros((Npure, Nparams))\n",
    "A_mu_pure[:,:Nelems] = comp_endmem[mask_pure,:]\n",
    "B_mu_pure = mu0_endmem[mask_pure].copy()"
   ]
  },
  {
   "cell_type": "code",
   "execution_count": null,
   "metadata": {},
   "outputs": [],
   "source": [
    "# NOTE: this relies on the pure elements being last!!!!\n",
    "\n",
    "A_mu_soln = np.zeros((Nsoln_endmem, Nparams))\n",
    "A_mu_soln[:,:Nelems] = comp_endmem[~mask_pure,:]\n",
    "A_mu_soln[:,Nelems:Nelems+Nsoln_endmem] = -dmudn_tot[:-Npure,:-Npure]\n",
    "B_mu_soln = mu0_endmem[:-Npure] - np.dot(dmudn_tot[:-Npure,:-Npure], nmol_end0[:-Npure])\n"
   ]
  },
  {
   "cell_type": "code",
   "execution_count": null,
   "metadata": {},
   "outputs": [],
   "source": [
    "A_comp = np.zeros((Nelems, Nparams))\n",
    "A_comp[:, -Nendmem:] = comp_endmem.T\n",
    "B_comp = bulk_comp.copy()\n"
   ]
  },
  {
   "cell_type": "code",
   "execution_count": null,
   "metadata": {},
   "outputs": [],
   "source": [
    "A_mu_comp = np.zeros((Nsoln_endmem, Nparams))\n",
    "A_mu_comp[:,:Nelems] = -np.dot(dndmu_tot[:-Npure,:-Npure], comp_endmem[:-Npure, :])\n",
    "A_mu_comp[:,Nelems:Nelems+Nsoln_endmem] = np.eye(Nsoln_endmem)\n",
    "B_mu_comp = np.zeros(Nsoln_endmem)\n",
    "B_mu_comp = nmol_end0[:-Npure] - np.dot(dndmu_tot[:-Npure,:-Npure], mu0_endmem[:-Npure])\n",
    "\n",
    "# plt.figure()\n",
    "# plt.imshow(A_mu_comp[:,:Nelems])\n",
    "# plt.figure()\n",
    "# plt.imshow(A_mu_comp[:,Nelems:Nelems+Nsoln_endmem])\n",
    "# plt.figure()\n",
    "# plt.imshow(A_mu_comp[:,-Npure:])\n"
   ]
  },
  {
   "cell_type": "code",
   "execution_count": null,
   "metadata": {},
   "outputs": [],
   "source": []
  },
  {
   "cell_type": "code",
   "execution_count": null,
   "metadata": {},
   "outputs": [],
   "source": [
    "A_comp_prior = np.zeros((Nendmem, Nparams))\n",
    "A_comp_prior[:,Nelems:] = np.eye(Nendmem)\n",
    "\n",
    "B_comp_prior = np.zeros(Nendmem)\n"
   ]
  },
  {
   "cell_type": "code",
   "execution_count": null,
   "metadata": {},
   "outputs": [],
   "source": [
    "A_mu_prior = np.zeros((1,Nparams))\n",
    "A_mu_prior[0,0] = 1\n",
    "B_mu_prior = np.zeros(1)\n",
    "B_mu_prior"
   ]
  },
  {
   "cell_type": "code",
   "execution_count": null,
   "metadata": {},
   "outputs": [],
   "source": [
    "sys_elems"
   ]
  },
  {
   "cell_type": "code",
   "execution_count": null,
   "metadata": {},
   "outputs": [],
   "source": [
    "A_mu_pure.shape"
   ]
  },
  {
   "cell_type": "code",
   "execution_count": null,
   "metadata": {},
   "outputs": [],
   "source": [
    "A_mu_comp.shape"
   ]
  },
  {
   "cell_type": "code",
   "execution_count": null,
   "metadata": {},
   "outputs": [],
   "source": [
    "plt.figure()\n",
    "plt.plot(Awt_pure, 'ko')\n",
    "plt.plot(Awt_soln, 'rx')"
   ]
  },
  {
   "cell_type": "code",
   "execution_count": null,
   "metadata": {},
   "outputs": [],
   "source": [
    "sig_comp = .01\n",
    "sig_mu = 10\n",
    "sig_comp_prior = sig_comp*3\n",
    "sig_mu_prior = sig_mu*3\n",
    "\n",
    "# single constraints on bulk_comp, mu_pure, mu_soln\n",
    "A_lsq = np.vstack((A_mu_pure*Awt_pure[:,np.newaxis]/sig_mu, \n",
    "                   A_mu_soln*Awt_soln[:,np.newaxis]/sig_mu, \n",
    "                   A_comp/sig_comp,\n",
    "                   A_comp_prior/sig_comp_prior,\n",
    "                   A_mu_prior/sig_mu_prior))\n",
    "B_lsq = np.hstack((B_mu_pure*Awt_pure/sig_mu, \n",
    "                   B_mu_soln*Awt_soln/sig_mu, \n",
    "                   B_comp/sig_comp,\n",
    "                   B_comp_prior/sig_comp_prior,\n",
    "                   B_mu_prior/sig_mu_prior))\n",
    "\n",
    "# single constraints on bulk_comp, mu_pure, mu_soln\n",
    "# A_lsq = np.vstack((A_mu_pure*Awt_pure[:,np.newaxis]/sig_mu, \n",
    "#                    A_mu_soln*Awt_soln[:,np.newaxis]/sig_mu, \n",
    "#                    A_comp/sig_comp))\n",
    "# B_lsq = np.hstack((B_mu_pure*Awt_pure/sig_mu, \n",
    "#                    B_mu_soln*Awt_soln/sig_mu, \n",
    "#                    B_comp/sig_comp))\n",
    "\n",
    "# Impose both fwd and bwd constraints on comp-mu link\n",
    "# A_lsq = np.vstack((A_mu_pure*Awt_pure[:,np.newaxis]/sig_mu, A_mu_soln*Awt_soln[:,np.newaxis]/sig_mu, \n",
    "#                    A_comp/sig_comp, A_mu_comp*Awt_soln[:,np.newaxis]/sig_comp))\n",
    "# B_lsq = np.hstack((B_mu_pure*Awt_pure/sig_mu, B_mu_soln*Awt_soln/sig_mu, \n",
    "#                    B_comp/sig_comp, B_mu_comp*Awt_soln/sig_comp))\n",
    "\n",
    "\n",
    "# A_lsq = np.vstack((A_mu_pure*Awt_pure[:,np.newaxis]/sig_mu, A_mu_soln*Awt_soln[:,np.newaxis]/sig_mu, \n",
    "#                    A_comp*Awt_pure[:,np.newaxis]/sig_comp, A_mu_comp*Awt_soln[:,np.newaxis]/sig_comp))\n",
    "# B_lsq = np.hstack((B_mu_pure*Awt_pure/sig_mu, B_mu_soln*Awt_soln/sig_mu, \n",
    "#                    B_comp*Awt_pure/sig_comp, B_mu_comp*Awt_soln/sig_comp))\n",
    "\n",
    "# A_tot = np.vstack((A_mu/sig_mu, A_comp/sig_comp))\n",
    "# B_tot = np.hstack((B_mu/sig_mu, B_comp/sig_comp))\n",
    "\n",
    "output = np.linalg.lstsq(A_lsq, B_lsq, rcond=None)\n",
    "params = output[0]\n",
    "print('chempot_fit = ',params[:Nelems])\n",
    "print('nmols = ', params[Nelems:])"
   ]
  },
  {
   "cell_type": "code",
   "execution_count": null,
   "metadata": {},
   "outputs": [],
   "source": [
    "np.linalg.matrix_rank(A_lsq)"
   ]
  },
  {
   "cell_type": "code",
   "execution_count": null,
   "metadata": {},
   "outputs": [],
   "source": [
    "Awt_endmem.sum()"
   ]
  },
  {
   "cell_type": "code",
   "execution_count": null,
   "metadata": {},
   "outputs": [],
   "source": [
    "plt.figure()\n",
    "plt.plot(params[Nelems:], 'ko')"
   ]
  },
  {
   "cell_type": "code",
   "execution_count": null,
   "metadata": {},
   "outputs": [],
   "source": [
    "plt.figure()\n",
    "plt.plot(np.dot(A_lsq,params)-B_lsq, 'ko')"
   ]
  },
  {
   "cell_type": "code",
   "execution_count": null,
   "metadata": {},
   "outputs": [],
   "source": []
  },
  {
   "cell_type": "code",
   "execution_count": null,
   "metadata": {},
   "outputs": [],
   "source": []
  },
  {
   "cell_type": "code",
   "execution_count": null,
   "metadata": {},
   "outputs": [],
   "source": [
    "nmols_fit = params[Nelems:]\n",
    "\n",
    "dmu_pure_fit = B_mu_pure - np.dot(A_mu_pure, params)\n",
    "dmu_soln_fit = B_mu_soln - np.dot(A_mu_soln, params)\n",
    "dmu_fit = np.hstack((dmu_soln_fit, dmu_pure_fit))\n",
    "\n",
    "ind_curr=0\n",
    "Aff_soln_fit = []\n",
    "for iendmem_num in phase_endmem_num:\n",
    "    idmu = dmu_fit[ind_curr:ind_curr+iendmem_num]\n",
    "    inmol = nmols_fit[ind_curr:ind_curr+iendmem_num]\n",
    "    \n",
    "    iAff = np.dot(inmol/np.sum(inmol),idmu)\n",
    "    Aff_soln_fit.append(iAff)\n",
    "    \n",
    "    ind_curr += iendmem_num\n",
    "    \n",
    "Aff_soln_fit = np.array(Aff_soln_fit)"
   ]
  },
  {
   "cell_type": "code",
   "execution_count": null,
   "metadata": {},
   "outputs": [],
   "source": [
    "Aff_soln_fit"
   ]
  },
  {
   "cell_type": "code",
   "execution_count": null,
   "metadata": {},
   "outputs": [],
   "source": [
    "Aff_soln"
   ]
  },
  {
   "cell_type": "code",
   "execution_count": null,
   "metadata": {},
   "outputs": [],
   "source": [
    "plt.figure()\n",
    "plt.plot(Aff_soln/1e3, 'ko')\n",
    "plt.plot(Aff_soln_fit/1e3, 'rx')\n",
    "plt.ylim(-10,100)"
   ]
  },
  {
   "cell_type": "code",
   "execution_count": null,
   "metadata": {},
   "outputs": [],
   "source": []
  },
  {
   "cell_type": "code",
   "execution_count": null,
   "metadata": {},
   "outputs": [],
   "source": [
    "Aff_soln = Aff_soln_fit"
   ]
  },
  {
   "cell_type": "code",
   "execution_count": null,
   "metadata": {},
   "outputs": [],
   "source": []
  },
  {
   "cell_type": "code",
   "execution_count": null,
   "metadata": {},
   "outputs": [],
   "source": []
  },
  {
   "cell_type": "code",
   "execution_count": null,
   "metadata": {},
   "outputs": [],
   "source": []
  },
  {
   "cell_type": "code",
   "execution_count": null,
   "metadata": {},
   "outputs": [],
   "source": []
  },
  {
   "cell_type": "code",
   "execution_count": null,
   "metadata": {},
   "outputs": [],
   "source": []
  },
  {
   "cell_type": "code",
   "execution_count": null,
   "metadata": {},
   "outputs": [],
   "source": []
  },
  {
   "cell_type": "code",
   "execution_count": null,
   "metadata": {},
   "outputs": [],
   "source": [
    "params[Nelems:]"
   ]
  },
  {
   "cell_type": "code",
   "execution_count": null,
   "metadata": {},
   "outputs": [],
   "source": []
  },
  {
   "cell_type": "code",
   "execution_count": null,
   "metadata": {},
   "outputs": [],
   "source": []
  },
  {
   "cell_type": "code",
   "execution_count": null,
   "metadata": {},
   "outputs": [],
   "source": [
    "params[Nelems:-Npure].shape"
   ]
  },
  {
   "cell_type": "code",
   "execution_count": null,
   "metadata": {},
   "outputs": [],
   "source": [
    "phase_endmem_num[:-Npure]"
   ]
  },
  {
   "cell_type": "code",
   "execution_count": null,
   "metadata": {},
   "outputs": [],
   "source": [
    "Aff_soln_fit"
   ]
  },
  {
   "cell_type": "code",
   "execution_count": null,
   "metadata": {},
   "outputs": [],
   "source": []
  },
  {
   "cell_type": "code",
   "execution_count": null,
   "metadata": {},
   "outputs": [],
   "source": []
  },
  {
   "cell_type": "code",
   "execution_count": null,
   "metadata": {},
   "outputs": [],
   "source": [
    "output"
   ]
  },
  {
   "cell_type": "code",
   "execution_count": null,
   "metadata": {},
   "outputs": [],
   "source": [
    "np.dot(comp_endmem.T, params[Nelems:])-bulk_comp"
   ]
  },
  {
   "cell_type": "code",
   "execution_count": null,
   "metadata": {},
   "outputs": [],
   "source": [
    "params[:Nelems]"
   ]
  },
  {
   "cell_type": "code",
   "execution_count": null,
   "metadata": {},
   "outputs": [],
   "source": [
    "params[Nelems:]"
   ]
  },
  {
   "cell_type": "code",
   "execution_count": null,
   "metadata": {},
   "outputs": [],
   "source": [
    "plt.figure()\n",
    "plt.plot(params[Nelems:],'ko')\n",
    "# plt.plot(params[Nelems:]*Awt_endmem,'ko')\n",
    "# plt.plot(Awt_endmem,'rx')"
   ]
  },
  {
   "cell_type": "code",
   "execution_count": null,
   "metadata": {},
   "outputs": [],
   "source": [
    "sig_comp_prior"
   ]
  },
  {
   "cell_type": "code",
   "execution_count": null,
   "metadata": {},
   "outputs": [],
   "source": [
    "plt.figure()\n",
    "plt.plot(params[Nelems:],'ko')\n",
    "# plt.plot(params[Nelems:]*Awt_endmem,'ko')\n",
    "# plt.plot(Awt_endmem,'rx')"
   ]
  },
  {
   "cell_type": "code",
   "execution_count": null,
   "metadata": {},
   "outputs": [],
   "source": []
  },
  {
   "cell_type": "code",
   "execution_count": null,
   "metadata": {},
   "outputs": [],
   "source": []
  },
  {
   "cell_type": "code",
   "execution_count": null,
   "metadata": {},
   "outputs": [],
   "source": []
  },
  {
   "cell_type": "code",
   "execution_count": null,
   "metadata": {},
   "outputs": [],
   "source": [
    "bnd_lo = np.tile(-np.inf, Nparams)\n",
    "bnd_hi = np.tile(+np.inf, Nparams)\n",
    "bnd_lo[-Npure:] = 0\n",
    "\n",
    "output = opt.lsq_linear(A_lsq,B_lsq,bounds=(bnd_lo,bnd_hi))\n",
    "\n",
    "\n"
   ]
  },
  {
   "cell_type": "code",
   "execution_count": null,
   "metadata": {},
   "outputs": [],
   "source": [
    "bnd_lo = np.tile(-np.inf, Nparams)\n",
    "bnd_hi = np.tile(+np.inf, Nparams)\n",
    "bnd_lo[-Npure:] = 0\n",
    "# bnd_lo[:] = 0\n",
    "\n",
    "output = opt.lsq_linear(A_lsq,B_lsq,bounds=(bnd_lo,bnd_hi))\n",
    "\n",
    "\n"
   ]
  },
  {
   "cell_type": "code",
   "execution_count": null,
   "metadata": {},
   "outputs": [],
   "source": [
    "chempot_fit = output['x'][:Nelems]\n",
    "nmol_fit = output['x'][Nelems:]\n"
   ]
  },
  {
   "cell_type": "code",
   "execution_count": null,
   "metadata": {},
   "outputs": [],
   "source": [
    "np.dot(comp_endmem.T, nmol_fit)-bulk_comp"
   ]
  },
  {
   "cell_type": "code",
   "execution_count": null,
   "metadata": {},
   "outputs": [],
   "source": [
    "plt.figure()\n",
    "plt.plot((chempot_fit-chempot)/1e3, 'ro')\n",
    "\n",
    "plt.figure()\n",
    "plt.plot(nmol_fit, 'ko')\n",
    "plt.plot(params[Nelems:],'g^')\n",
    "# plt.plot(Awt_endmem*nmol_fit, 'ko')\n",
    "# plt.plot(Awt_endmem,'rx')\n",
    "# plt.plot(params[Nelems:]*Awt_endmem,'g^')"
   ]
  },
  {
   "cell_type": "code",
   "execution_count": null,
   "metadata": {},
   "outputs": [],
   "source": []
  },
  {
   "cell_type": "code",
   "execution_count": null,
   "metadata": {},
   "outputs": [],
   "source": []
  },
  {
   "cell_type": "code",
   "execution_count": null,
   "metadata": {},
   "outputs": [],
   "source": []
  },
  {
   "cell_type": "code",
   "execution_count": null,
   "metadata": {},
   "outputs": [],
   "source": [
    "nmols = params[Nelems:]*Awt_endmem\n",
    "plt.figure()\n",
    "plt.plot(nmols, 'ko')\n",
    "plt.plot(params[Nelems:], 'ro')\n",
    "plt.plot(nmol_fit, 'co')"
   ]
  },
  {
   "cell_type": "code",
   "execution_count": null,
   "metadata": {},
   "outputs": [],
   "source": [
    "np.dot(comp_endmem.T, nmols)/bulk_comp"
   ]
  },
  {
   "cell_type": "code",
   "execution_count": null,
   "metadata": {},
   "outputs": [],
   "source": [
    "\n",
    "np.dot(comp_endmem.T, params[Nelems:])-bulk_comp\n",
    "np.dot(comp_endmem.T, nmol_fit)-bulk_comp"
   ]
  },
  {
   "cell_type": "code",
   "execution_count": null,
   "metadata": {},
   "outputs": [],
   "source": []
  },
  {
   "cell_type": "code",
   "execution_count": null,
   "metadata": {},
   "outputs": [],
   "source": [
    "# phsnm = 'Fsp'\n",
    "ind_endmem = 0\n",
    "for phsnm in mu0:\n",
    "    idmudn = dmudn[phsnm]\n",
    "    iX = X[phsnm]\n",
    "    iendmem_num = iX.size\n",
    "    \n",
    "    imu0 = mu0[phsnm]\n",
    "    icomp = comp[phsnm]\n",
    "    iphs_comp = phase_comps[phsnm]\n",
    "    \n",
    "    idndmu = np.linalg.pinv(idmudn)\n",
    "    iM = np.dot(idmudn, idndmu)\n",
    "    \n",
    "    M_tot[ind_endmem:ind_endmem+iendmem_num, \n",
    "          ind_endmem:ind_endmem+iendmem_num] = iM\n",
    "    \n",
    "    dndmu_tot[ind_endmem:ind_endmem+iendmem_num, \n",
    "              ind_endmem:ind_endmem+iendmem_num] = idndmu\n",
    "    dmudn_tot[ind_endmem:ind_endmem+iendmem_num, \n",
    "              ind_endmem:ind_endmem+iendmem_num] = idmudn\n",
    "    \n",
    "    nmol_end0[ind_endmem:ind_endmem+iendmem_num] = iX\n",
    "    # print(iM)\n",
    "    # print(np.dot(iM, ))\n",
    "    \n",
    "    iA_mu = np.dot(iM,iphs_comp)-iphs_comp\n",
    "    iB_mu = np.dot(iM, imu0) - imu0\n",
    "    \n",
    "    \n",
    "    idn0 = iX - np.dot(idndmu, imu0)\n",
    "    iB_comp = bulk_comp-np.dot(idn0, iphs_comp)\n",
    "    \n",
    "    idn_end = np.dot(idndmu, iphs_comp)\n",
    "    iA_comp = np.dot(iphs_comp.T, idn_end)\n",
    "    \n",
    "    # iA_comp = np.dot(iphs_comp, np.dot(idndmu, iphs_comp).T)\n",
    "    # print(iphs_comp)\n",
    "    B_comp += iB_comp\n",
    "    A_comp += iA_comp\n",
    "    \n",
    "    A_mu.append(iA_mu)\n",
    "    B_mu.append(iB_mu)\n",
    "    mu0_endmem.append(imu0)\n",
    "    \n",
    "    ind_endmem += iendmem_num\n",
    "    \n",
    "    \n",
    "    \n",
    "A_mu = np.vstack(A_mu)\n",
    "B_mu = np.hstack(B_mu)\n",
    "mu0_endmem = np.hstack(mu0_endmem)\n",
    "\n"
   ]
  },
  {
   "cell_type": "code",
   "execution_count": null,
   "metadata": {},
   "outputs": [],
   "source": []
  },
  {
   "cell_type": "code",
   "execution_count": null,
   "metadata": {},
   "outputs": [],
   "source": [
    "np.dot(comp_endmem, chempot)"
   ]
  },
  {
   "cell_type": "code",
   "execution_count": null,
   "metadata": {},
   "outputs": [],
   "source": []
  },
  {
   "cell_type": "code",
   "execution_count": null,
   "metadata": {},
   "outputs": [],
   "source": []
  },
  {
   "cell_type": "code",
   "execution_count": null,
   "metadata": {},
   "outputs": [],
   "source": [
    "sig_comp = .001\n",
    "sig_mu = 10\n",
    "\n",
    "A_tot = np.vstack((A_mu/sig_mu, A_comp/sig_comp))\n",
    "B_tot = np.hstack((B_mu/sig_mu, B_comp/sig_comp))\n",
    "\n",
    "output = np.linalg.lstsq(A_tot, B_tot, rcond=None)\n",
    "mu_elem = output[0]\n",
    "mu_elem"
   ]
  },
  {
   "cell_type": "code",
   "execution_count": null,
   "metadata": {},
   "outputs": [],
   "source": [
    "# Change in chempot\n",
    "mu_change = np.dot(comp_endmem, mu_elem)-np.dot(comp_endmem, chempot)\n",
    "plt.figure()\n",
    "plt.plot(mu_change/1e3, 'ro')"
   ]
  },
  {
   "cell_type": "code",
   "execution_count": null,
   "metadata": {},
   "outputs": [],
   "source": [
    "(mu_elem-chempot)/1e3"
   ]
  },
  {
   "cell_type": "code",
   "execution_count": null,
   "metadata": {},
   "outputs": [],
   "source": []
  },
  {
   "cell_type": "code",
   "execution_count": null,
   "metadata": {},
   "outputs": [],
   "source": [
    "dmu_endmem = np.dot(comp_endmem, mu_elem)-mu0_endmem\n",
    "\n",
    "plt.figure()\n",
    "plt.plot((np.dot(M_tot, dmu_endmem)-dmu_endmem)/1e3, 'ko')"
   ]
  },
  {
   "cell_type": "code",
   "execution_count": null,
   "metadata": {},
   "outputs": [],
   "source": [
    "nmol_end = nmol_end0 + np.dot(dndmu_tot, dmu_endmem)\n",
    "plt.figure()\n",
    "plt.plot(nmol_end, 'ko')\n",
    "plt.plot(nmol_end[nmol_end<0], 'ro')\n",
    "\n",
    "\n",
    "plt.figure()\n",
    "plt.plot(nmol_end, dmu_endmem, 'ko')"
   ]
  },
  {
   "cell_type": "code",
   "execution_count": null,
   "metadata": {},
   "outputs": [],
   "source": []
  },
  {
   "cell_type": "code",
   "execution_count": null,
   "metadata": {},
   "outputs": [],
   "source": []
  },
  {
   "cell_type": "code",
   "execution_count": null,
   "metadata": {},
   "outputs": [],
   "source": [
    "\n",
    "np.dot(M_tot, mu0_endmem)"
   ]
  },
  {
   "cell_type": "code",
   "execution_count": null,
   "metadata": {},
   "outputs": [],
   "source": [
    "np.dot(comp_endmem, mu_elem)"
   ]
  },
  {
   "cell_type": "code",
   "execution_count": null,
   "metadata": {},
   "outputs": [],
   "source": [
    "comp"
   ]
  },
  {
   "cell_type": "code",
   "execution_count": null,
   "metadata": {},
   "outputs": [],
   "source": [
    "nend_"
   ]
  },
  {
   "cell_type": "code",
   "execution_count": null,
   "metadata": {},
   "outputs": [],
   "source": [
    "bulk_comp\n",
    "# iphs_comp-\n",
    "iphs_comp\n",
    "idn0 = iX - np.dot(idndmu, imu0)\n",
    "iB_comp = bulk_comp-np.dot(iphs_comp, idn0)\n",
    "\n",
    "iB_mu = np.dot(iM, imu0) - imu0"
   ]
  },
  {
   "cell_type": "code",
   "execution_count": null,
   "metadata": {},
   "outputs": [],
   "source": [
    "# hess = np.dot(A_mu.T,A_mu)\n",
    "# np.linalg.svd(hess)"
   ]
  },
  {
   "cell_type": "code",
   "execution_count": null,
   "metadata": {},
   "outputs": [],
   "source": [
    "\n",
    "\n",
    "np.linalg.lstsq(A_mu, B_mu, rcond=None)"
   ]
  },
  {
   "cell_type": "code",
   "execution_count": null,
   "metadata": {},
   "outputs": [],
   "source": [
    "1e3*Vh[0]"
   ]
  },
  {
   "cell_type": "code",
   "execution_count": null,
   "metadata": {},
   "outputs": [],
   "source": []
  },
  {
   "cell_type": "code",
   "execution_count": null,
   "metadata": {},
   "outputs": [],
   "source": []
  },
  {
   "cell_type": "code",
   "execution_count": null,
   "metadata": {},
   "outputs": [],
   "source": []
  },
  {
   "cell_type": "code",
   "execution_count": null,
   "metadata": {},
   "outputs": [],
   "source": []
  },
  {
   "cell_type": "code",
   "execution_count": null,
   "metadata": {},
   "outputs": [],
   "source": [
    "display(Vh)\n",
    "display(M)"
   ]
  },
  {
   "cell_type": "code",
   "execution_count": null,
   "metadata": {},
   "outputs": [],
   "source": [
    "# dmudn is rank deficient:\n",
    "#  for a phase with D endmembers, there is only D-1 degrees of freedom to specify the chemical potential\n",
    "# thus, must use pseudo inverse (which is least squares optimal)\n",
    "idndmu = np.linalg.pinv(idmudn)"
   ]
  },
  {
   "cell_type": "code",
   "execution_count": null,
   "metadata": {},
   "outputs": [],
   "source": []
  },
  {
   "cell_type": "code",
   "execution_count": null,
   "metadata": {},
   "outputs": [],
   "source": [
    "idmu = np.zeros(imu0.size)\n",
    "idmu = 1e3*np.random.randn(imu0.size)\n",
    "\n",
    "np.dot(idndmu, idmu)"
   ]
  },
  {
   "cell_type": "code",
   "execution_count": null,
   "metadata": {},
   "outputs": [],
   "source": [
    "np.linalg.det(idmudn)"
   ]
  },
  {
   "cell_type": "code",
   "execution_count": null,
   "metadata": {},
   "outputs": [],
   "source": [
    "# %%timeit\n",
    "U, S, Vh = np.linalg.svd(idmudn)\n",
    "# Vh[-1]/iX"
   ]
  },
  {
   "cell_type": "code",
   "execution_count": null,
   "metadata": {},
   "outputs": [],
   "source": [
    "idndmu_p = np.linalg.pinv(idmudn)"
   ]
  },
  {
   "cell_type": "code",
   "execution_count": null,
   "metadata": {},
   "outputs": [],
   "source": [
    "display(idndmu_p)\n",
    "display(idndmu)"
   ]
  },
  {
   "cell_type": "code",
   "execution_count": null,
   "metadata": {},
   "outputs": [],
   "source": [
    "np.linalg.pinv(idndmu_p)-idmudn"
   ]
  },
  {
   "cell_type": "code",
   "execution_count": null,
   "metadata": {},
   "outputs": [],
   "source": [
    "np.linalg.inv(idndmu) -idmudn"
   ]
  },
  {
   "cell_type": "code",
   "execution_count": null,
   "metadata": {},
   "outputs": [],
   "source": [
    "np.linalg.det(Vh[:-1])"
   ]
  },
  {
   "cell_type": "code",
   "execution_count": null,
   "metadata": {},
   "outputs": [],
   "source": [
    "Vh[-1]"
   ]
  },
  {
   "cell_type": "code",
   "execution_count": null,
   "metadata": {},
   "outputs": [],
   "source": [
    "print('phase_stable = ', phase_stable)\n",
    "print('wt_assem = ', wt_assem)"
   ]
  },
  {
   "cell_type": "code",
   "execution_count": null,
   "metadata": {},
   "outputs": [],
   "source": []
  },
  {
   "cell_type": "code",
   "execution_count": null,
   "metadata": {},
   "outputs": [],
   "source": []
  },
  {
   "cell_type": "code",
   "execution_count": null,
   "metadata": {},
   "outputs": [],
   "source": [
    "# X_soln"
   ]
  },
  {
   "cell_type": "code",
   "execution_count": null,
   "metadata": {},
   "outputs": [],
   "source": []
  },
  {
   "cell_type": "code",
   "execution_count": null,
   "metadata": {},
   "outputs": [],
   "source": [
    "Nsoln = len(X_soln)\n",
    "\n",
    "wt_assem_soln = wt_assem[:Nsoln]\n",
    "wt_assem_endmem = wt_assem[Nsoln:]"
   ]
  },
  {
   "cell_type": "code",
   "execution_count": null,
   "metadata": {},
   "outputs": [],
   "source": []
  },
  {
   "cell_type": "code",
   "execution_count": null,
   "metadata": {},
   "outputs": [],
   "source": [
    "\n",
    "mu_endmem_assem = []\n",
    "comp_endmem_assem = []\n",
    "\n",
    "wt_assem\n",
    "comp_curr.shape\n",
    "phase_name_curr\n",
    "phase_assem = np.unique(phase_name_parent[wt_assem>0])\n",
    "comp_tot = np.zeros(bulk_comp.size)\n",
    "for iphsnm in phase_assem:\n",
    "    iX = X_soln[iphsnm]\n",
    "    imask_soln = phase_names==iphsnm\n",
    "    imask_endmem = phs_sym==iphsnm\n",
    "    \n",
    "    iwt_soln = wt_assem_soln[imask_soln]\n",
    "    iwt_endmem = wt_assem_endmem[imask_endmem]\n",
    "    \n",
    "    imol_tot = iwt_soln*iX + iwt_endmem\n",
    "    # imol_tot = iX \n",
    "    \n",
    "    # icomp = np.dot(comp_endmem[imask_endmem,:].T, imol_tot)\n",
    "    # comp_tot += icomp\n",
    "    \n",
    "    iphs = phases[iphsnm]\n",
    "    \n",
    "    iNelem = np.sum(iphs.props['element_comp'],axis=1)\n",
    "    # print(iNelem)\n",
    "    \n",
    "    iNendmem = len(imol_tot)\n",
    "    if iNendmem>1:\n",
    "        imu = iphs.chem_potential(T, P, mol=imol_tot).squeeze()/iNelem\n",
    "    else:\n",
    "        imu = mu_endmem[imask_endmem].squeeze()\n",
    "        \n",
    "    icomp_endmem = comp_endmem[imask_endmem,:]\n",
    "    # icomp_soln = np.dot(icomp_endmem,iX)\n",
    "    # print(imu)\n",
    "    # print(np.dot(icomp_soln.T, chempot))\n",
    "        \n",
    "    mu_endmem_assem.append(imu)\n",
    "    comp_endmem_assem.append(icomp_endmem)\n",
    "        \n",
    "    # print('del(imu) = ', imu-mu_endmem[imask_endmem].squeeze())\n",
    "    # print('soln: ')\n",
    "    # print(iwt_soln)\n",
    "    # print(iX)\n",
    "    # print('endmem: ')\n",
    "    # print(iwt_endmem)\n",
    "    # print('imol_tot = ', imol_tot)\n",
    "    # print('icomp = ', icomp)\n",
    "    # print('----')\n",
    "    \n",
    "mu_endmem_assem = np.hstack(mu_endmem_assem)\n",
    "comp_endmem_assem = np.vstack(comp_endmem_assem)"
   ]
  },
  {
   "cell_type": "code",
   "execution_count": null,
   "metadata": {},
   "outputs": [],
   "source": [
    "comp_endmem_assem"
   ]
  },
  {
   "cell_type": "code",
   "execution_count": null,
   "metadata": {},
   "outputs": [],
   "source": [
    "output = np.linalg.lstsq(comp_endmem_assem, mu_endmem_assem, rcond=None)\n",
    "chempot_update = output[0]\n",
    "print(chempot_update-chempot)\n"
   ]
  },
  {
   "cell_type": "code",
   "execution_count": null,
   "metadata": {},
   "outputs": [],
   "source": [
    "\n",
    "chempot=chempot_update"
   ]
  },
  {
   "cell_type": "code",
   "execution_count": null,
   "metadata": {},
   "outputs": [],
   "source": [
    "chempot_update"
   ]
  },
  {
   "cell_type": "code",
   "execution_count": null,
   "metadata": {},
   "outputs": [],
   "source": [
    "chempot"
   ]
  },
  {
   "cell_type": "code",
   "execution_count": null,
   "metadata": {},
   "outputs": [],
   "source": []
  },
  {
   "cell_type": "code",
   "execution_count": null,
   "metadata": {},
   "outputs": [],
   "source": [
    "\n",
    "output = np.linalg.lstsq(comp_endmem, mu_endmem, rcond=None)\n",
    "chempot_init = output[0]\n",
    "chempot = chempot_init.copy()"
   ]
  },
  {
   "cell_type": "code",
   "execution_count": null,
   "metadata": {},
   "outputs": [],
   "source": [
    "# linear only method with vertical offset, no update\n",
    "\n",
    "Ashft = 1e3\n",
    "comp_soln, Aff_soln, Aff_endmem, phase_names_soln, extras = update_phase_affinities(chempot)\n",
    "comp_curr, dmu_curr =  get_current_phase_mu(Aff_soln, Aff_endmem, comp_soln, Ashft=Ashft) \n",
    "\n",
    "dchempot_assem, Gtot, wt_assem, rnorm_assem = find_min_assemblage(\n",
    "    bulk_comp, comp_curr, dmu_curr, chempot=0)\n",
    "\n",
    "\n",
    "plt.figure()\n",
    "plt.plot(wt_assem, 'ko-')\n",
    "\n",
    "print('Gtot = ', Gtot)\n",
    "chempot += dchempot_assem\n",
    "\n",
    "\n",
    "\n",
    "inds = np.argsort(Aff_soln)\n",
    "# print(phase_names_soln[inds][:rank])\n",
    "# print(Aff_soln[inds][:rank])\n",
    "# print(phase_names_soln[inds][rank:])\n",
    "# print(Aff_soln[inds][rank:])\n",
    "    \n",
    "Aff_s = Aff_soln[inds]\n",
    "print(phase_names_soln[inds][Aff_s<Ashft])\n",
    "print(Aff_s[Aff_s<Ashft])\n",
    "\n",
    "print('phs wts: ',phase_name_curr[wt_assem>0])\n",
    "\n",
    "print('dchempot = ', dchempot_assem)\n",
    "\n"
   ]
  },
  {
   "cell_type": "code",
   "execution_count": null,
   "metadata": {},
   "outputs": [],
   "source": [
    "np.dot(comp_curr.T,wt_assem)-bulk_comp"
   ]
  },
  {
   "cell_type": "code",
   "execution_count": null,
   "metadata": {},
   "outputs": [],
   "source": []
  },
  {
   "cell_type": "code",
   "execution_count": null,
   "metadata": {},
   "outputs": [],
   "source": []
  },
  {
   "cell_type": "code",
   "execution_count": null,
   "metadata": {},
   "outputs": [],
   "source": [
    "\n"
   ]
  },
  {
   "cell_type": "code",
   "execution_count": null,
   "metadata": {},
   "outputs": [],
   "source": [
    "print(phase_names_soln)\n",
    "print(phs_sym)\n",
    "endmem_ids"
   ]
  },
  {
   "cell_type": "code",
   "execution_count": null,
   "metadata": {},
   "outputs": [],
   "source": []
  },
  {
   "cell_type": "code",
   "execution_count": null,
   "metadata": {},
   "outputs": [],
   "source": [
    "plt.figure()\n",
    "plt.imshow(comp_soln[:,1:].T)\n",
    "plt.ylabel('elem id')\n",
    "\n",
    "plt.figure()\n",
    "plt.plot(Aff_soln, 'ko')"
   ]
  },
  {
   "cell_type": "code",
   "execution_count": null,
   "metadata": {},
   "outputs": [],
   "source": []
  },
  {
   "cell_type": "code",
   "execution_count": null,
   "metadata": {},
   "outputs": [],
   "source": [
    "\n",
    "comp_curr, dmu_curr, phase_names, soln_phase_names = get_current_phase_mu(\n",
    "    phase_aff, comp_soln, comp_endmem=comp_endmem, phs_sym=phs_sym, Ashft=1e3)"
   ]
  },
  {
   "cell_type": "code",
   "execution_count": null,
   "metadata": {},
   "outputs": [],
   "source": []
  },
  {
   "cell_type": "code",
   "execution_count": null,
   "metadata": {},
   "outputs": [],
   "source": [
    "    "
   ]
  },
  {
   "cell_type": "code",
   "execution_count": null,
   "metadata": {},
   "outputs": [],
   "source": [
    "# comp_curr"
   ]
  },
  {
   "cell_type": "code",
   "execution_count": null,
   "metadata": {},
   "outputs": [],
   "source": [
    "# wt_bulk, rnorm_bulk = optimize.nnls(comp_soln_a.T,bulk_comp)\n",
    "# if rnorm_bulk < 1e-8:\n",
    "#     comp_curr = comp_soln_a\n",
    "#     dmu_curr = Aff_soln_a\n",
    "#     phase_name_curr = phase_names"
   ]
  },
  {
   "cell_type": "code",
   "execution_count": null,
   "metadata": {},
   "outputs": [],
   "source": [
    "dchempot_assem"
   ]
  },
  {
   "cell_type": "code",
   "execution_count": null,
   "metadata": {},
   "outputs": [],
   "source": [
    "\n",
    "    inds = np.argsort(Aff_soln_a)\n",
    "    print(phase_names[inds][:rank])\n",
    "    print(Aff_soln_a[inds][:rank])\n",
    "    print(phase_names[inds][rank:])\n",
    "    print(Aff_soln_a[inds][rank:])\n",
    "    \n",
    "    Aff_s = Aff_soln_a[inds]\n",
    "    print(Aff_s[Aff_s<100])\n",
    "    print(phase_names[inds][Aff_s<100])\n",
    "    \n",
    "    dchempot_assem, Gtot, wt_assem, rnorm_assem = find_min_assemblage(\n",
    "        bulk_comp, comp_curr, dmu_curr, chempot=0)\n",
    "    print('Gtot = ', Gtot)\n",
    "    \n",
    "    print(phase_name_curr[wt_assem>0])\n",
    "    print(np.unique(phase_parent_curr[wt_assem>0]))\n",
    "    \n",
    "    chempot_init += dchempot_assem"
   ]
  },
  {
   "cell_type": "code",
   "execution_count": null,
   "metadata": {},
   "outputs": [],
   "source": []
  },
  {
   "cell_type": "code",
   "execution_count": null,
   "metadata": {},
   "outputs": [],
   "source": []
  },
  {
   "cell_type": "code",
   "execution_count": null,
   "metadata": {},
   "outputs": [],
   "source": [
    "rank = np.linalg.matrix_rank(comp)\n",
    "rank"
   ]
  },
  {
   "cell_type": "code",
   "execution_count": null,
   "metadata": {},
   "outputs": [],
   "source": [
    "phs_endmem_sym = []\n",
    "for iphs,id_num in zip(phs_sym,endmem_ids.astype(dtype=str)):\n",
    "    iphsid = iphs+'_'+id_num\n",
    "    phs_endmem_sym.append(iphsid)\n",
    "    \n",
    "phs_endmem_sym = np.array(phs_endmem_sym)\n",
    "    \n",
    "    "
   ]
  },
  {
   "cell_type": "code",
   "execution_count": null,
   "metadata": {},
   "outputs": [],
   "source": [
    "\n",
    "output = np.linalg.lstsq(comp_endmem, mu_endmem, rcond=None)\n",
    "chempot_init = output[0]"
   ]
  },
  {
   "cell_type": "code",
   "execution_count": null,
   "metadata": {},
   "outputs": [],
   "source": []
  },
  {
   "cell_type": "code",
   "execution_count": null,
   "metadata": {},
   "outputs": [],
   "source": [
    "\n",
    "\n",
    "mu_soln0, dmudn_soln0, comp_soln0, X0, A0, natom,phase_names =  phase_affinity(\n",
    "        chempot_init, phases, phase_comps,T, P)\n",
    "\n"
   ]
  },
  {
   "cell_type": "code",
   "execution_count": null,
   "metadata": {},
   "outputs": [],
   "source": [
    "Aff_soln0_a = np.array(list(A0.values()))\n",
    "comp_soln0_a = np.array(list(comp_soln0.values()))\n",
    "comp_soln0_a.shape\n",
    "\n",
    "comp_soln_a = comp_soln0_a.copy()\n",
    "Aff_soln_a = Aff_soln0_a.copy()"
   ]
  },
  {
   "cell_type": "code",
   "execution_count": null,
   "metadata": {},
   "outputs": [],
   "source": []
  },
  {
   "cell_type": "code",
   "execution_count": null,
   "metadata": {},
   "outputs": [],
   "source": [
    "mu_endmem_curr = np.dot(comp_endmem, chempot_init)\n",
    "dmu_endmem = np.zeros(mu_endmem.size)\n",
    "\n",
    "# Ashft = 1e3\n",
    "# for iphs in A0:\n",
    "#     iA = A0[iphs]\n",
    "#     imask = phs_sym==iphs\n",
    "#     dmu_endmem[imask] = iA+Ashft\n",
    "    \n",
    "Ashft = 1e3\n",
    "for iphs in A0:\n",
    "    iA = A0[iphs]\n",
    "    iX = X0[iphs]\n",
    "    imask = phs_sym==iphs\n",
    "    dmu_endmem[imask] = iA+Ashft"
   ]
  },
  {
   "cell_type": "code",
   "execution_count": null,
   "metadata": {},
   "outputs": [],
   "source": [
    "dmu_endmem"
   ]
  },
  {
   "cell_type": "code",
   "execution_count": null,
   "metadata": {},
   "outputs": [],
   "source": [
    "dmu_curr = np.hstack((Aff_soln_a,dmu_endmem))\n",
    "# dmu_curr\n",
    "\n",
    "comp_curr = np.vstack((comp_soln_a, comp_endmem))\n",
    "phase_name_curr = np.hstack((phase_names, phs_endmem_sym))\n",
    "phase_parent_curr = np.hstack((phase_names, phs_sym))\n",
    "# phase_name_curr\n",
    "# comp_curr"
   ]
  },
  {
   "cell_type": "code",
   "execution_count": null,
   "metadata": {},
   "outputs": [],
   "source": [
    "# wt_bulk, rnorm_bulk = optimize.nnls(comp_soln_a.T,bulk_comp)\n",
    "# if rnorm_bulk < 1e-8:\n",
    "#     comp_curr = comp_soln_a\n",
    "#     dmu_curr = Aff_soln_a\n",
    "#     phase_name_curr = phase_names"
   ]
  },
  {
   "cell_type": "code",
   "execution_count": null,
   "metadata": {},
   "outputs": [],
   "source": [
    "inds = np.argsort(Aff_soln_a)\n",
    "print(phase_names[inds][:rank])\n",
    "print(Aff_soln_a[inds][:rank])\n",
    "print(phase_names[inds][rank:])\n",
    "print(Aff_soln_a[inds][rank:])\n",
    "\n",
    "Aff_s = Aff_soln_a[inds]\n",
    "print(Aff_s[Aff_s<100])\n",
    "print(phase_names[inds][Aff_s<100])"
   ]
  },
  {
   "cell_type": "code",
   "execution_count": null,
   "metadata": {},
   "outputs": [],
   "source": [
    "\n",
    "dchempot_assem, Gtot, wt_assem, rnorm_assem = find_min_assemblage(\n",
    "    bulk_comp, comp_curr, dmu_curr, chempot=0)\n",
    "print('Gtot = ', Gtot)"
   ]
  },
  {
   "cell_type": "code",
   "execution_count": null,
   "metadata": {},
   "outputs": [],
   "source": [
    "print(phase_name_curr[wt_assem>0])\n",
    "print(np.unique(phase_parent_curr[wt_assem>0]))"
   ]
  },
  {
   "cell_type": "code",
   "execution_count": null,
   "metadata": {},
   "outputs": [],
   "source": [
    "# X0"
   ]
  },
  {
   "cell_type": "code",
   "execution_count": null,
   "metadata": {},
   "outputs": [],
   "source": [
    "dchempot_assem"
   ]
  },
  {
   "cell_type": "code",
   "execution_count": null,
   "metadata": {},
   "outputs": [],
   "source": [
    "\n",
    "chempot_init += dchempot_assem"
   ]
  },
  {
   "cell_type": "code",
   "execution_count": null,
   "metadata": {},
   "outputs": [],
   "source": []
  },
  {
   "cell_type": "code",
   "execution_count": null,
   "metadata": {},
   "outputs": [],
   "source": []
  },
  {
   "cell_type": "code",
   "execution_count": null,
   "metadata": {},
   "outputs": [],
   "source": []
  },
  {
   "cell_type": "code",
   "execution_count": null,
   "metadata": {},
   "outputs": [],
   "source": []
  }
 ],
 "metadata": {
  "anaconda-cloud": {},
  "kernelspec": {
   "display_name": "Python 3",
   "language": "python",
   "name": "python3"
  },
  "language_info": {
   "codemirror_mode": {
    "name": "ipython",
    "version": 3
   },
   "file_extension": ".py",
   "mimetype": "text/x-python",
   "name": "python",
   "nbconvert_exporter": "python",
   "pygments_lexer": "ipython3",
   "version": "3.6.2"
  }
 },
 "nbformat": 4,
 "nbformat_minor": 2
}
