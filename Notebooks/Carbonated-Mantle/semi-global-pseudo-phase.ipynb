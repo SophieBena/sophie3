{
 "cells": [
  {
   "cell_type": "markdown",
   "metadata": {},
   "source": [
    "# Stixrude-Lithgow-Bertelloni pseudo-omnicomponent phase generation\n",
    "Required Python packages/modules"
   ]
  },
  {
   "cell_type": "code",
   "execution_count": null,
   "metadata": {},
   "outputs": [],
   "source": [
    "import numpy as np\n",
    "from os import path\n",
    "import pandas as pd\n",
    "import scipy.optimize as opt\n",
    "import scipy.linalg as lin \n",
    "import scipy as sp\n",
    "import sys\n",
    "import sympy as sym\n",
    "\n",
    "import matplotlib.pyplot as plt"
   ]
  },
  {
   "cell_type": "code",
   "execution_count": null,
   "metadata": {},
   "outputs": [],
   "source": []
  },
  {
   "cell_type": "markdown",
   "metadata": {},
   "source": [
    "Required ENKI modules (ignore the error message from Rubicon running under Python 3.6+)"
   ]
  },
  {
   "cell_type": "code",
   "execution_count": null,
   "metadata": {},
   "outputs": [],
   "source": [
    "from thermoengine import coder, core, phases, model, equilibrate"
   ]
  },
  {
   "cell_type": "code",
   "execution_count": null,
   "metadata": {},
   "outputs": [],
   "source": [
    "def get_subsolidus_phases(database='Berman'):\n",
    "    remove_phases = ['Liq','H2O']\n",
    "    \n",
    "    modelDB = model.Database(database)\n",
    "    phases = modelDB.phases\n",
    "    [phases.pop(phs) for phs in remove_phases]\n",
    "        \n",
    "    return phases\n",
    "        \n",
    "def system_energy_landscape(T, P, phases, TOL=1e-3):\n",
    "    elem_comps = []\n",
    "    phs_sym = []\n",
    "    endmem_ids = []\n",
    "    mu = []\n",
    "    for phsnm in phases:\n",
    "        phs = phases[phsnm]\n",
    "        \n",
    "        elem_comp = phs.props['element_comp']\n",
    "        abbrev = phs.abbrev\n",
    "        endmem_num = phs.endmember_num\n",
    "        iendmem_ids = list(np.arange(endmem_num))\n",
    "        \n",
    "        if phs.phase_type=='pure':\n",
    "            nelem = np.sum(elem_comp)\n",
    "            mu += [phs.gibbs_energy(T, P)/nelem]\n",
    "            # print(nelem)\n",
    "        else:\n",
    "            nelem = np.sum(elem_comp,axis=1)\n",
    "            # print(nelem)\n",
    "            for i in iendmem_ids:\n",
    "                imol = np.eye(phs.endmember_num)[i]\n",
    "                mu += [phs.gibbs_energy(T, P, mol=imol,deriv={\"dmol\":1})[0,i]/nelem[i]]\n",
    "                # print(nelem[i])\n",
    "                \n",
    "        endmem_ids.extend(iendmem_ids)\n",
    "        phs_sym.extend(list(np.tile(abbrev,endmem_num)))\n",
    "        # print(elem_comp)\n",
    "        \n",
    "        elem_comps.extend(elem_comp)\n",
    "        # print(elem_comp)\n",
    "        # print(phs)\n",
    "        \n",
    "    elem_comps = np.vstack(elem_comps)\n",
    "    \n",
    "    natoms = np.sum(elem_comps,axis=1)\n",
    "    elem_comps = elem_comps/natoms[:,np.newaxis]\n",
    "    \n",
    "    elem_mask = ~np.all(elem_comps<TOL, axis=0)\n",
    "    \n",
    "    elem_comps = elem_comps[:, elem_mask]\n",
    "    mu = np.array(mu)\n",
    "    endmem_ids = np.array(endmem_ids)\n",
    "    \n",
    "    sys_elems = core.chem.PERIODIC_ORDER[elem_mask]\n",
    "    return phs_sym, endmem_ids, mu, elem_comps, sys_elems\n",
    "\n",
    "def prune_polymorphs(phs_sym, endmem_ids, mu, elem_comps, decimals=4):\n",
    "    elem_round_comps = np.round(elem_comps, decimals=decimals)\n",
    "        # Drop identical comps\n",
    "    elem_comps_uniq = np.unique(elem_round_comps, axis=0)\n",
    "    \n",
    "    # uniq_num = elem_comps_uniq.shape[0]\n",
    "    mu_uniq = []\n",
    "    phs_sym_uniq = []\n",
    "    endmem_ids_uniq = []\n",
    "    for elem_comp in elem_comps_uniq:\n",
    "        is_equiv_comp = np.all(elem_round_comps == elem_comp[np.newaxis,:], axis=1)\n",
    "        equiv_ind = np.where(is_equiv_comp)[0]\n",
    "        min_ind = equiv_ind[np.argsort(mu[equiv_ind])[0]]\n",
    "        min_mu = mu[min_ind]\n",
    "        assert np.all(min_mu <= mu[equiv_ind]), 'fail'\n",
    "        \n",
    "        mu_uniq.append(min_mu)\n",
    "        phs_sym_uniq.append(phs_sym[min_ind])\n",
    "        endmem_ids_uniq.append(endmem_ids[min_ind])\n",
    "        \n",
    "    mu_uniq = np.array(mu_uniq)\n",
    "    phs_sym_uniq = np.array(phs_sym_uniq)\n",
    "    elem_comps_uniq = np.array(elem_comps_uniq)\n",
    "    \n",
    "    return phs_sym_uniq, endmem_ids_uniq, mu_uniq, elem_comps_uniq\n",
    "\n"
   ]
  },
  {
   "cell_type": "code",
   "execution_count": null,
   "metadata": {},
   "outputs": [],
   "source": []
  },
  {
   "cell_type": "markdown",
   "metadata": {},
   "source": [
    "### T,P, parameters and options for pseudo-phase generation"
   ]
  },
  {
   "cell_type": "code",
   "execution_count": null,
   "metadata": {},
   "outputs": [],
   "source": [
    "T = 1300.0                  # K\n",
    "P = 5000.0                 # bars\n",
    "P = 300000.0                 # bars\n",
    "# T = 1500.0                  # K\n",
    "# P = 40000.0                 # bars"
   ]
  },
  {
   "cell_type": "code",
   "execution_count": null,
   "metadata": {},
   "outputs": [],
   "source": [
    "database='Berman'\n",
    "database='Stixrude'"
   ]
  },
  {
   "cell_type": "code",
   "execution_count": null,
   "metadata": {},
   "outputs": [],
   "source": []
  },
  {
   "cell_type": "code",
   "execution_count": null,
   "metadata": {},
   "outputs": [],
   "source": [
    "test_endmember_code = False # output tests to validate solution endmember code generation\n",
    "test_solution_code = False  # output tests to validate solution code generation\n",
    "offset_value = 0.0          # Offset penality (in J) to destabilize pseudo-omnicomponent phase 4000\n",
    "use_oxides_as_basis = False # Construct the pseudo-phase using oxides as components (False == elements)"
   ]
  },
  {
   "cell_type": "code",
   "execution_count": null,
   "metadata": {},
   "outputs": [],
   "source": []
  },
  {
   "cell_type": "code",
   "execution_count": null,
   "metadata": {},
   "outputs": [],
   "source": [
    "phases = get_subsolidus_phases(database=database)\n",
    "# ADD extra phases (e.g. carbonates as needed here)"
   ]
  },
  {
   "cell_type": "code",
   "execution_count": null,
   "metadata": {},
   "outputs": [],
   "source": [
    "phs_sym, endmem_ids, mu, elem_comps, sys_elems = system_energy_landscape(T, P, phases)\n",
    "# display(phs_sym, endmem_ids, mu, elem_comps, sys_elems)\n",
    "phs_sym_uniq, endmem_ids_uniq, mu_uniq, elem_comps_uniq = (\n",
    "    prune_polymorphs(phs_sym, endmem_ids, mu, elem_comps))\n",
    "Nelems = len(sys_elems)\n",
    "Npts = mu_uniq.size"
   ]
  },
  {
   "cell_type": "code",
   "execution_count": null,
   "metadata": {},
   "outputs": [],
   "source": [
    "sys_elems"
   ]
  },
  {
   "cell_type": "code",
   "execution_count": null,
   "metadata": {},
   "outputs": [],
   "source": [
    "comps = elem_comps_uniq\n",
    "mu = mu_uniq"
   ]
  },
  {
   "cell_type": "code",
   "execution_count": null,
   "metadata": {},
   "outputs": [],
   "source": [
    "def min_energy_assemblage(bulk_comp, comp, mu, TOLmu=10, TOL=1e-5):\n",
    "    xy = np.hstack((comp, mu[:,np.newaxis]))\n",
    "    yavg = np.mean(mu)\n",
    "    xy_bulk = np.hstack((bulk_comp, yavg))\n",
    "    \n",
    "    wt0, rnorm0 = opt.nnls(xy.T, xy_bulk)\n",
    "    # print('rnorm',rnorm0)\n",
    "    \n",
    "    \n",
    "    def fun(mu, shift=0):\n",
    "        xy_bulk[-1] = mu\n",
    "        wt, rnorm = opt.nnls(xy.T, xy_bulk)\n",
    "        return rnorm-shift\n",
    "    \n",
    "    \n",
    "    delmu = .1\n",
    "    if rnorm0==0:\n",
    "        shift_dir = -1\n",
    "        soln_found = True\n",
    "    else:\n",
    "        output = opt.minimize_scalar(fun, bounds=[np.min(mu), np.max(mu)])\n",
    "        xy_bulk[-1] = output['x']\n",
    "        wt0, rnorm0 = opt.nnls(xy.T, xy_bulk)\n",
    "        shift_dir = -1\n",
    "        \n",
    "    mu_prev=xy_bulk[-1]\n",
    "    rnorm=rnorm0\n",
    "    \n",
    "    while True:\n",
    "        mu_prev = xy_bulk[-1]\n",
    "        rnorm_prev = rnorm\n",
    "        \n",
    "        xy_bulk[-1] += shift_dir*delmu\n",
    "        wt, rnorm = opt.nnls(xy.T, xy_bulk)\n",
    "        delmu *= 2\n",
    "        \n",
    "        # print(shift_dir, rnorm)\n",
    "        if ((shift_dir==+1)&(rnorm>rnorm_prev)) or ((shift_dir==-1)&(rnorm>0)):\n",
    "            break\n",
    "            \n",
    "        \n",
    "    fun_fit = lambda mu, TOL=TOL: fun(mu, shift=TOL)\n",
    "    if rnorm > TOL:\n",
    "        mu_bulk = opt.brentq(fun_fit, mu_prev, xy_bulk[-1], xtol=TOLmu)\n",
    "        xy_bulk[-1] = mu_bulk\n",
    "        wt, rnorm = opt.nnls(xy.T, xy_bulk)\n",
    "        \n",
    "    mu_bulk = xy_bulk[-1]\n",
    "    wt_bulk = wt\n",
    "        \n",
    "        \n",
    "    ind_assem = np.where(wt_bulk>0)[0]\n",
    "    return wt_bulk, mu_bulk, ind_assem \n"
   ]
  },
  {
   "cell_type": "code",
   "execution_count": null,
   "metadata": {},
   "outputs": [],
   "source": []
  },
  {
   "cell_type": "markdown",
   "metadata": {},
   "source": [
    "# Define bulk composition"
   ]
  },
  {
   "cell_type": "code",
   "execution_count": null,
   "metadata": {},
   "outputs": [],
   "source": [
    "wt = np.random.rand(elem_comps_uniq.shape[0])\n",
    "wt = wt/np.sum(wt)\n",
    "bulk_comp = np.dot(wt, elem_comps_uniq)"
   ]
  },
  {
   "cell_type": "code",
   "execution_count": null,
   "metadata": {},
   "outputs": [],
   "source": []
  },
  {
   "cell_type": "markdown",
   "metadata": {},
   "source": [
    "# Get minimum energy assemblage"
   ]
  },
  {
   "cell_type": "code",
   "execution_count": null,
   "metadata": {},
   "outputs": [],
   "source": [
    "wt_bulk, mu_bulk, ind_assem = min_energy_assemblage(\n",
    "    bulk_comp, elem_comps_uniq, mu_uniq, TOLmu=10)\n",
    "# print(len(ind_assem))\n",
    "\n",
    "np.sum(wt_bulk)\n",
    "np.sum(wt_bulk>0)"
   ]
  },
  {
   "cell_type": "code",
   "execution_count": null,
   "metadata": {},
   "outputs": [],
   "source": [
    "hull_phs_sym = np.unique(phs_sym_uniq[ind_assem])\n",
    "hull_phs_sym"
   ]
  },
  {
   "cell_type": "code",
   "execution_count": null,
   "metadata": {},
   "outputs": [],
   "source": [
    "# np.dot(wt_bulk,mu_uniq)"
   ]
  },
  {
   "cell_type": "code",
   "execution_count": null,
   "metadata": {},
   "outputs": [],
   "source": [
    "# mu_bulk/1e3"
   ]
  },
  {
   "cell_type": "code",
   "execution_count": null,
   "metadata": {},
   "outputs": [],
   "source": []
  },
  {
   "cell_type": "markdown",
   "metadata": {},
   "source": [
    "# Determine hull phases"
   ]
  },
  {
   "cell_type": "code",
   "execution_count": null,
   "metadata": {},
   "outputs": [],
   "source": [
    "def get_hull_pts(comps, mu, ind_assem, debug=True, TOL=1e-4, Nelems=Nelems):\n",
    "    comp_hull = comps[ind_assem,:]\n",
    "    mu_hull = mu[ind_assem]\n",
    "    ind_hull = ind_assem.copy()\n",
    "    \n",
    "    Nphs = len(mu)\n",
    "    mask = np.tile(True, Nphs)\n",
    "    mask[ind_assem] = False\n",
    "    \n",
    "    mu_extra = mu[mask]\n",
    "    comp_extra = comps[mask,:]\n",
    "    ind_extra = np.arange(Nphs)[mask]\n",
    "    \n",
    "    for icomp, imu, ind in zip(comp_extra, mu_extra, ind_extra):\n",
    "        \n",
    "        # for ind in inds[Nhull_pts:]:\n",
    "        iwt_hull, wt_resid = sp.optimize.nnls(comp_hull.T,icomp,maxiter=1000)\n",
    "        icomp_mod = np.dot(iwt_hull, comp_hull) \n",
    "        imu_mod = np.dot(iwt_hull, mu_hull)\n",
    "        \n",
    "        icomp_resid = icomp-icomp_mod\n",
    "        comp_match = np.all(np.abs(icomp_resid)<TOL)\n",
    "        imaxdev = np.max(np.abs(icomp_resid))\n",
    "        lower_energy = imu< imu_mod\n",
    "        \n",
    "        add_pt = (not comp_match) or (comp_match and lower_energy)\n",
    "        if debug:\n",
    "            print(add_pt, '---', len(mu_hull),\n",
    "                  '(',comp_match,' , ', lower_energy, ') : ', imaxdev)\n",
    "        if add_pt:\n",
    "            comp_hull = np.vstack((comp_hull, icomp))\n",
    "            mu_hull = np.hstack((mu_hull, imu))\n",
    "            ind_hull = np.hstack((ind_hull, ind))\n",
    "            \n",
    "    return comp_hull, mu_hull, ind_hull"
   ]
  },
  {
   "cell_type": "code",
   "execution_count": null,
   "metadata": {},
   "outputs": [],
   "source": []
  },
  {
   "cell_type": "code",
   "execution_count": null,
   "metadata": {},
   "outputs": [],
   "source": [
    "comp_hull, mu_hull, ind_hull = get_hull_pts(\n",
    "    elem_comps_uniq, mu_uniq, ind_assem, debug=False, TOL=1e-4, Nelems=Nelems)"
   ]
  },
  {
   "cell_type": "code",
   "execution_count": null,
   "metadata": {},
   "outputs": [],
   "source": [
    "ind_hull"
   ]
  },
  {
   "cell_type": "code",
   "execution_count": null,
   "metadata": {},
   "outputs": [],
   "source": [
    "def get_quad_inds(Nelems):\n",
    "    ind_rows, ind_cols = np.tril_indices(Nelems,-1)\n",
    "    cross_term_inds = np.vstack((ind_rows,ind_cols))\n",
    "    return cross_term_inds"
   ]
  },
  {
   "cell_type": "code",
   "execution_count": null,
   "metadata": {},
   "outputs": [],
   "source": [
    "def eval_curv(comps, method, cross_term_inds):\n",
    "    single_pt = False\n",
    "    if comps.ndim==1:\n",
    "        single_pt = True\n",
    "        comps = comps[np.newaxis,:]\n",
    "        \n",
    "    if method=='quad':\n",
    "        XiXj = comps[:, cross_term_inds[0]]*comps[:, cross_term_inds[1]]\n",
    "        X2_sum = np.sum(XiXj,axis=1)\n",
    "        curv_term = X2_sum\n",
    "    elif method=='quad-full':\n",
    "        XiXj = comps[:, cross_term_inds[0]]*comps[:, cross_term_inds[1]]\n",
    "        curv_term = XiXj\n",
    "    elif method=='xlogx':\n",
    "        logX = np.log(comps)\n",
    "        logX[comps==0] = 0\n",
    "        XlogX = comps*logX\n",
    "        # XlogX[comps==0] = 0\n",
    "        XlogX_sum = np.sum(XlogX,axis=1)\n",
    "        curv_term = XlogX_sum\n",
    "    else:\n",
    "        assert False, method + ' is not a valid method for eval_curv.'\n",
    "        \n",
    "    if single_pt:\n",
    "        curv_term = curv_term[0]\n",
    "    \n",
    "    return curv_term"
   ]
  },
  {
   "cell_type": "code",
   "execution_count": null,
   "metadata": {},
   "outputs": [],
   "source": [
    "cross_term_inds = get_quad_inds(Nelems)"
   ]
  },
  {
   "cell_type": "code",
   "execution_count": null,
   "metadata": {},
   "outputs": [],
   "source": []
  },
  {
   "cell_type": "markdown",
   "metadata": {},
   "source": [
    "# Add linear combo points to flesh out hull"
   ]
  },
  {
   "cell_type": "code",
   "execution_count": null,
   "metadata": {},
   "outputs": [],
   "source": [
    "N_hull = comp_hull.shape[0]\n",
    "mix_cross_ind = np.vstack(np.tril_indices(N_hull, -1))\n",
    "\n",
    "comp_mix = 0.5*comp_hull[mix_cross_ind[0]]+0.5*comp_hull[mix_cross_ind[1]]\n",
    "mu_mix= 0.5*mu_hull[mix_cross_ind[0]] + 0.5*mu_hull[mix_cross_ind[1]]\n"
   ]
  },
  {
   "cell_type": "code",
   "execution_count": null,
   "metadata": {},
   "outputs": [],
   "source": [
    "comp_full = np.vstack((comp_hull,comp_mix))\n",
    "mu_full = np.hstack((mu_hull,mu_mix))"
   ]
  },
  {
   "cell_type": "code",
   "execution_count": null,
   "metadata": {},
   "outputs": [],
   "source": []
  },
  {
   "cell_type": "code",
   "execution_count": null,
   "metadata": {},
   "outputs": [],
   "source": []
  },
  {
   "cell_type": "code",
   "execution_count": null,
   "metadata": {},
   "outputs": [],
   "source": [
    "def init_lstsq_xobs(comps, mu, curv_method, cross_term_inds=cross_term_inds):\n",
    "    curv_term = eval_curv(comps, curv_method, cross_term_inds)\n",
    "    if curv_term.ndim==1:\n",
    "        curv_term = curv_term[:,np.newaxis]\n",
    "        \n",
    "    xobs = np.hstack((comps, curv_term))\n",
    "    yexp_scl = np.floor(np.log10(np.max(mu)-np.min(mu)))\n",
    "    yscl = 10**yexp_scl\n",
    "    yobs = mu/yscl\n",
    "    \n",
    "    return xobs, yobs, yscl"
   ]
  },
  {
   "cell_type": "code",
   "execution_count": null,
   "metadata": {},
   "outputs": [],
   "source": []
  },
  {
   "cell_type": "code",
   "execution_count": null,
   "metadata": {},
   "outputs": [],
   "source": [
    "# curv_term = eval_curv(comps, 'quad-full', cross_term_inds)\n",
    "# xlogx = eval_curv(comps, 'xlogx', None)\n",
    "# quad = eval_curv(comps, 'quad', cross_term_inds)"
   ]
  },
  {
   "cell_type": "code",
   "execution_count": null,
   "metadata": {},
   "outputs": [],
   "source": []
  },
  {
   "cell_type": "code",
   "execution_count": null,
   "metadata": {},
   "outputs": [],
   "source": [
    "curv_method = 'quad-full'\n",
    "curv_method = 'quad'\n",
    "# xobs, yobs, yscl = init_lstsq_xobs(comps, mu, curv_method)\n",
    "xobs, yobs, yscl = init_lstsq_xobs(comp_full, mu_full, curv_method)"
   ]
  },
  {
   "cell_type": "code",
   "execution_count": null,
   "metadata": {},
   "outputs": [],
   "source": [
    "yobs\n",
    "yscl"
   ]
  },
  {
   "cell_type": "code",
   "execution_count": null,
   "metadata": {},
   "outputs": [],
   "source": []
  },
  {
   "cell_type": "code",
   "execution_count": null,
   "metadata": {},
   "outputs": [],
   "source": []
  },
  {
   "cell_type": "code",
   "execution_count": null,
   "metadata": {},
   "outputs": [],
   "source": [
    "def reweight_fit(scl, xobs, yobs, bound='lower', yresid=0, TOL=1e-4, Nelems=Nelems):\n",
    "    if np.isscalar(yresid):\n",
    "        yresid = np.tile(yresid, yobs.size)\n",
    "        \n",
    "    err = np.ones(yobs.shape)\n",
    "    mask_pos = yresid>0\n",
    "    mask_neg = yresid<0\n",
    "    \n",
    "    yabs_dev = np.abs(yresid)\n",
    "    err0 = np.median(yabs_dev)\n",
    "    if err0==0:\n",
    "        err0=1\n",
    "    \n",
    "    yabs_dev[yabs_dev<TOL] = TOL\n",
    "    \n",
    "    err_fac = 1/np.sqrt(yabs_dev)\n",
    "    \n",
    "    # err[mask_pos] = err0*scl*err_fac[mask_pos]\n",
    "    # err[mask_neg] = err0/scl*err_fac[mask_neg]\n",
    "    if bound=='lower':\n",
    "        err[mask_pos] = err0/scl*err_fac[mask_pos]\n",
    "        err[mask_neg] = err0*scl*err_fac[mask_neg]\n",
    "    elif bound=='upper':\n",
    "        err[mask_pos] = err0/scl*err_fac[mask_pos]\n",
    "        err[mask_neg] = err0*scl*err_fac[mask_neg]\n",
    "    else:\n",
    "        assert False, 'bound not valid.'\n",
    "    \n",
    "    xobs_wt = xobs/err[:, np.newaxis]\n",
    "    yobs_wt = yobs/err\n",
    "    \n",
    "    \n",
    "    \n",
    "    # wt_fit = np.linalg.lstsq(xobs_wt, yobs_wt, rcond=None)\n",
    "    # param_wt = wt_fit[0]\n",
    "    \n",
    "    Nparams = xobs.shape[1]\n",
    "    Ncurv = Nparams-Nelems\n",
    "    # lowbnd = np.hstack((-10, np.tile(-np.inf, N), np.tile(0, N)))\n",
    "    # hibnd = np.hstack((+10, np.tile(+np.inf, N), np.tile(+np.inf, N)))\n",
    "    \n",
    "    lowbnd = np.tile(-np.inf, Nparams)\n",
    "    hibnd = np.tile(+np.inf, Nparams)\n",
    "    # lowbnd[-Ncurv:] = 0\n",
    "    hibnd[-Ncurv:] = 0\n",
    "    \n",
    "    # lowbnd = np.hstack((np.tile(-np.inf, Nelems), np.tile(0, Ncurv) ))\n",
    "    # hibnd = np.hstack((np.tile(+np.inf, Nelems), np.tile(+np.inf, Ncurv)))\n",
    "    \n",
    "    # lowbnd = np.hstack((np.tile(-np.inf, N), np.tile(-np.inf, N)))\n",
    "    \n",
    "    # bnds = []\n",
    "    # for ihi, ilo in zip(hibnd, lowbnd):\n",
    "    #     bnds.append((ilo, ihi))\n",
    "    \n",
    "    # N = int(xobs.shape[1]/2)\n",
    "    # lowbnd = np.hstack((np.tile(-np.inf, N), np.tile(0, N)))\n",
    "    # hibnd = np.hstack((np.tile(+np.inf, N), np.tile(+np.inf, N)))\n",
    "    \n",
    "    wt_fit = opt.lsq_linear(xobs_wt, yobs_wt, bounds=(lowbnd, hibnd)) \n",
    "    # fun = lambda params, x=xobs_wt, y=yobs_wt: np.sum((y-np.dot(x, params))**2)\n",
    "    # if param0 is None:\n",
    "    #     param0 = -np.ones(2*Ndim)\n",
    "    #     \n",
    "    # # print(x0)\n",
    "    # # print(fun(x0))\n",
    "    # wt_fit = opt.minimize(fun, param0, bounds=bnds) \n",
    "    param_wt = wt_fit['x']\n",
    "    \n",
    "    \n",
    "    \n",
    "    \n",
    "    yresid_wt = yobs -  np.dot(xobs, param_wt)\n",
    "    \n",
    "    return param_wt, yresid_wt, err\n",
    "    \n",
    "def plot_resid(ind, yresid, comp, err=None, xlim=(-0.1,1.1)):\n",
    "    plt.figure()\n",
    "    icomp = comp.T[ind]\n",
    "    \n",
    "    # xmax = np.max((np.abs(np.min(icomp)), np.abs(np.max(icomp))))\n",
    "    # x = np.linspace(-1.1*xmax, +1.1*xmax, 101)\n",
    "    x = np.linspace(xlim[0], xlim[1], 101)\n",
    "    if err is None:\n",
    "        plt.plot(icomp, yresid, 'ko')\n",
    "    else:\n",
    "        plt.errorbar(icomp, yresid, yerr=err, fmt='ko')\n",
    "        \n",
    "    plt.plot(x,0*x,'r--')\n",
    "    plt.xlim(xlim)\n",
    "    \n",
    "def energy_diff(wt, yobs, comp, param_wt, curv_method='quad', \n",
    "                cross_term_inds=cross_term_inds):\n",
    "    comp_wt = np.dot(comp.T, wt)\n",
    "    \n",
    "    N = comp.shape[1]\n",
    "    mu_pseudo_lin = np.dot(param_wt[:N], comp_wt)\n",
    "    \n",
    "    curv_term = eval_curv(comp_wt, method=curv_method, \n",
    "                          cross_term_inds=cross_term_inds)\n",
    "    mu_pseudo_curv = param_wt[-1]*curv_term\n",
    "    \n",
    "    mu_endmem = np.dot(wt, yobs)\n",
    "    \n",
    "    dmu = mu_pseudo_lin + mu_pseudo_curv - mu_endmem\n",
    "    return dmu\n",
    "\n",
    "def endmem_subset(mask, yobs, comp):\n",
    "    comp_sub = comp[mask,:]\n",
    "    yobs_sub = yobs[mask]\n",
    "    \n",
    "    return yobs_sub, comp_sub\n",
    "    \n",
    "    \n",
    "# def energy_jac(wt, dmu_lin, quad_terms):\n",
    "#     # dmu_lin = np.dot(param_wt[:NX],comp_eig.T)\n",
    "#     dmu_quad = np.dot(wt, quad_terms)\n",
    "#     # dmu_endmem = yobs\n",
    "#     \n",
    "#     dmu_dw =  dmu_lin+dmu_quad\n",
    "#     return dmu_dw"
   ]
  },
  {
   "cell_type": "code",
   "execution_count": null,
   "metadata": {},
   "outputs": [],
   "source": []
  },
  {
   "cell_type": "code",
   "execution_count": null,
   "metadata": {},
   "outputs": [],
   "source": []
  },
  {
   "cell_type": "code",
   "execution_count": null,
   "metadata": {},
   "outputs": [],
   "source": [
    "def fit_bound(param_wt, yresid_wt, xobs, yobs, \n",
    "              bound='lower', hull_thresh=1e3, expfac_inc=0.1):\n",
    "    fac=0\n",
    "    while True:\n",
    "        fac += expfac_inc\n",
    "        param_wt, yresid_wt, err = reweight_fit(\n",
    "            10**fac, xobs, yobs, bound=bound, yresid=yresid_wt)\n",
    "        \n",
    "        if bound=='lower':\n",
    "            mask = yresid_wt<0\n",
    "        else:\n",
    "            mask = yresid_wt>0\n",
    "            \n",
    "        err_bnd = np.sqrt(np.mean(yresid_wt[mask]**2))\n",
    "        if err_bnd*yscl < 0.3*hull_thresh:\n",
    "            break\n",
    "            \n",
    "    return param_wt, yresid_wt, err\n"
   ]
  },
  {
   "cell_type": "code",
   "execution_count": null,
   "metadata": {},
   "outputs": [],
   "source": []
  },
  {
   "cell_type": "code",
   "execution_count": null,
   "metadata": {},
   "outputs": [],
   "source": []
  },
  {
   "cell_type": "markdown",
   "metadata": {},
   "source": [
    "# Initial Fit"
   ]
  },
  {
   "cell_type": "code",
   "execution_count": null,
   "metadata": {},
   "outputs": [],
   "source": [
    "param0, yresid0, err0 = reweight_fit(1.0, xobs, yobs, yresid=0)\n"
   ]
  },
  {
   "cell_type": "code",
   "execution_count": null,
   "metadata": {},
   "outputs": [],
   "source": [
    "comp_dev = np.sum((comp_full-bulk_comp)**2, axis=1)\n",
    "# comp_dev"
   ]
  },
  {
   "cell_type": "code",
   "execution_count": null,
   "metadata": {},
   "outputs": [],
   "source": [
    "plt.figure()\n",
    "plt.plot(comp_dev, yscl*yresid0,'ko')\n",
    "plt.plot(comp_dev[ind_assem], yscl*yresid0[ind_assem],'rx', ms=10, mew=3)\n",
    "plt.ylabel('G [J]')"
   ]
  },
  {
   "cell_type": "code",
   "execution_count": null,
   "metadata": {},
   "outputs": [],
   "source": [
    "yscl"
   ]
  },
  {
   "cell_type": "markdown",
   "metadata": {},
   "source": [
    "# Fit upper bound on points"
   ]
  },
  {
   "cell_type": "code",
   "execution_count": null,
   "metadata": {},
   "outputs": [],
   "source": [
    "bound='upper'\n",
    "# bound='lower'\n",
    "param, yresid, err = fit_bound(param0, yresid0, xobs, yobs,bound=bound)"
   ]
  },
  {
   "cell_type": "code",
   "execution_count": null,
   "metadata": {},
   "outputs": [],
   "source": [
    "plt.figure()\n",
    "plt.plot(comp_dev, yscl*yresid,'ko')\n",
    "plt.plot(comp_dev[ind_assem], yscl*yresid[ind_assem],'rx', ms=10, mew=3)"
   ]
  },
  {
   "cell_type": "code",
   "execution_count": null,
   "metadata": {},
   "outputs": [],
   "source": [
    "param[Nelems:]"
   ]
  },
  {
   "cell_type": "code",
   "execution_count": null,
   "metadata": {},
   "outputs": [],
   "source": [
    "## Shift upwards to obey all points1-"
   ]
  },
  {
   "cell_type": "code",
   "execution_count": null,
   "metadata": {},
   "outputs": [],
   "source": [
    "mu_uniq"
   ]
  },
  {
   "cell_type": "code",
   "execution_count": null,
   "metadata": {},
   "outputs": [],
   "source": []
  },
  {
   "cell_type": "code",
   "execution_count": null,
   "metadata": {},
   "outputs": [],
   "source": [
    "dmu = yscl*np.max(yresid)\n",
    "dmu"
   ]
  },
  {
   "cell_type": "code",
   "execution_count": null,
   "metadata": {},
   "outputs": [],
   "source": [
    "param[:Nelems]+= dmu/yscl"
   ]
  },
  {
   "cell_type": "code",
   "execution_count": null,
   "metadata": {},
   "outputs": [],
   "source": []
  },
  {
   "cell_type": "code",
   "execution_count": null,
   "metadata": {},
   "outputs": [],
   "source": [
    "yresid = yobs - np.dot(xobs, param)"
   ]
  },
  {
   "cell_type": "code",
   "execution_count": null,
   "metadata": {},
   "outputs": [],
   "source": [
    "plt.figure()\n",
    "plt.plot(comp_dev, yscl/1e3*yresid,'ko')\n",
    "plt.plot(comp_dev[ind_assem], yscl/1e3*yresid[ind_assem],'rx', ms=10, mew=3)\n",
    "plt.plot([0,np.max(comp_dev)], [0,0], 'r--')\n",
    "# plt.ylim(-15,1)"
   ]
  },
  {
   "cell_type": "code",
   "execution_count": null,
   "metadata": {},
   "outputs": [],
   "source": [
    "# np.dot(xobs, yscl*param)"
   ]
  },
  {
   "cell_type": "code",
   "execution_count": null,
   "metadata": {},
   "outputs": [],
   "source": [
    "len(param)\n",
    "param[Nelems:]"
   ]
  },
  {
   "cell_type": "code",
   "execution_count": null,
   "metadata": {},
   "outputs": [],
   "source": [
    "mu_curv = param[Nelems:]\n",
    "dlogmu = 2\n",
    "thresh = np.max(np.log10(mu_curv)) - dlogmu\n",
    "ind = np.arange(len(mu_curv))\n",
    "mask = mu_curv<thresh\n",
    "\n",
    "plt.figure()\n",
    "plt.semilogy(ind, mu_curv,'ko')\n",
    "plt.semilogy(ind[mask],mu_curv[mask],'rx',mew=3, ms=10)\n",
    "\n",
    "# mu_curv[mask] = thresh"
   ]
  },
  {
   "cell_type": "code",
   "execution_count": null,
   "metadata": {},
   "outputs": [],
   "source": [
    "mu_curv"
   ]
  },
  {
   "cell_type": "code",
   "execution_count": null,
   "metadata": {},
   "outputs": [],
   "source": []
  },
  {
   "cell_type": "code",
   "execution_count": null,
   "metadata": {},
   "outputs": [],
   "source": [
    "curv_mat = np.zeros((Nelems,Nelems))\n",
    "\n",
    "curv_mat[cross_term_inds[0], cross_term_inds[1]] = mu_curv\n",
    "curv_mat[cross_term_inds[1], cross_term_inds[0]] = mu_curv\n",
    "# curv_mat[cross_term_inds[0], cross_term_inds[1]] = 1\n",
    "# curv_mat[cross_term_inds[1], cross_term_inds[0]] = 1\n",
    "# for i,j in cross_term_inds.T:\n",
    "#     curv_mat[i, j] = mu_curv\n",
    "np.linalg.det(curv_mat)"
   ]
  },
  {
   "cell_type": "code",
   "execution_count": null,
   "metadata": {},
   "outputs": [],
   "source": [
    "plt.imshow(curv_mat, cmap='viridis')\n",
    "plt.colorbar()"
   ]
  },
  {
   "cell_type": "code",
   "execution_count": null,
   "metadata": {},
   "outputs": [],
   "source": [
    "# param[Nelems:] = mu_curv\n",
    "# yresid = yobs - np.dot(xobs, param)"
   ]
  },
  {
   "cell_type": "code",
   "execution_count": null,
   "metadata": {},
   "outputs": [],
   "source": []
  },
  {
   "cell_type": "code",
   "execution_count": null,
   "metadata": {},
   "outputs": [],
   "source": [
    "# plt.figure()\n",
    "# plt.plot(comp_dev, yscl/1e3*yresid,'ko')\n",
    "# plt.plot(comp_dev[ind_assem], yscl/1e3*yresid[ind_assem],'rx', ms=10, mew=3)\n",
    "# plt.plot([0,np.max(comp_dev)], [0,0], 'r--')\n",
    "# plt.ylim(-15,1)"
   ]
  },
  {
   "cell_type": "code",
   "execution_count": null,
   "metadata": {},
   "outputs": [],
   "source": []
  },
  {
   "cell_type": "code",
   "execution_count": null,
   "metadata": {},
   "outputs": [],
   "source": []
  },
  {
   "cell_type": "code",
   "execution_count": null,
   "metadata": {},
   "outputs": [],
   "source": []
  },
  {
   "cell_type": "code",
   "execution_count": null,
   "metadata": {},
   "outputs": [],
   "source": [
    "# mu_local, curv_local, mu_resid = fit_local_model(\n",
    "#     bulk_comp, mu_bulk, ind_assem, elem_comps_uniq, mu_uniq, \n",
    "#     mu_TOL=5e3, display_fit=True)\n",
    "# # plt.ylim(-300,30)\n",
    "# print(mu_local/1e3)\n",
    "# print(curv_local/1e3)"
   ]
  },
  {
   "cell_type": "code",
   "execution_count": null,
   "metadata": {},
   "outputs": [],
   "source": []
  },
  {
   "cell_type": "code",
   "execution_count": null,
   "metadata": {},
   "outputs": [],
   "source": []
  },
  {
   "cell_type": "code",
   "execution_count": null,
   "metadata": {},
   "outputs": [],
   "source": [
    "# bulk_comp, mu_bulk, ind_assem, comps, mu = (\n",
    "#     bulk_comp, mu_bulk, ind_assem, elem_comps_uniq, mu_uniq\n",
    "# )\n",
    "# mu_TOL=10"
   ]
  },
  {
   "cell_type": "code",
   "execution_count": null,
   "metadata": {},
   "outputs": [],
   "source": []
  },
  {
   "cell_type": "code",
   "execution_count": null,
   "metadata": {},
   "outputs": [],
   "source": [
    "#     \n",
    "# comp_assem = comps[ind_assem,:]\n",
    "# mu_assem = mu[ind_assem]\n",
    "# \n",
    "# output = np.linalg.lstsq(comp_assem, mu_assem, rcond=None)\n",
    "# mu_local = output[0]\n",
    "# \n",
    "# mu_local += mu_bulk-np.dot(mu_local, bulk_comp) + mu_TOL\n",
    "# \n",
    "# \n",
    "# comp_dev = comps-bulk_comp\n",
    "# curv_term = np.sum(comp_dev**2, axis=1)\n",
    "# \n",
    "# dmu = mu-np.dot(comps, mu_local)\n",
    "# \n",
    "# mask = np.tile(True, len(mu))\n",
    "# mask[ind_assem] = False\n",
    "# \n",
    "# \n",
    "# x = curv_term[mask, np.newaxis]\n",
    "# y = dmu[mask, np.newaxis]\n",
    "# \n",
    "# output = np.linalg.lstsq(x, y, rcond=None)\n",
    "# curv_local = output[0][0][0]\n",
    "# \n",
    "# mu_resid = dmu - curv_local*curv_term\n",
    "# \n",
    "# "
   ]
  },
  {
   "cell_type": "code",
   "execution_count": null,
   "metadata": {},
   "outputs": [],
   "source": []
  },
  {
   "cell_type": "code",
   "execution_count": null,
   "metadata": {},
   "outputs": [],
   "source": []
  },
  {
   "cell_type": "code",
   "execution_count": null,
   "metadata": {},
   "outputs": [],
   "source": [
    "# hull_thresh = 1e3\n",
    "# # %%timeit\n",
    "# param0, yresid0, err0 = reweight_fit(1.0, xobs, yobs, yresid=0)\n",
    "# param_wt, yresid_wt, err = fit_lower_bound(param0, yresid0, xobs, yobs, hull_thresh)\n"
   ]
  },
  {
   "cell_type": "code",
   "execution_count": null,
   "metadata": {},
   "outputs": [],
   "source": [
    "# plt.figure()\n",
    "# plt.plot(yresid_wt,'ko')"
   ]
  },
  {
   "cell_type": "code",
   "execution_count": null,
   "metadata": {},
   "outputs": [],
   "source": []
  },
  {
   "cell_type": "code",
   "execution_count": null,
   "metadata": {},
   "outputs": [],
   "source": [
    "# np.sum(curv_term>0,axis=0)"
   ]
  },
  {
   "cell_type": "code",
   "execution_count": null,
   "metadata": {},
   "outputs": [],
   "source": []
  },
  {
   "cell_type": "code",
   "execution_count": null,
   "metadata": {},
   "outputs": [],
   "source": []
  },
  {
   "cell_type": "code",
   "execution_count": null,
   "metadata": {},
   "outputs": [],
   "source": [
    "# # x = curv_term[mask, np.newaxis]\n",
    "# # y = dmu[mask, np.newaxis]\n",
    "# x = np.hstack((comps, curv_term, xlogx[:,np.newaxis]))\n",
    "# # x = np.hstack((comps, xlogx[:,np.newaxis]))\n",
    "# # x = np.hstack((comps, quad[:,np.newaxis]))\n",
    "# y = mu[:, np.newaxis]\n"
   ]
  },
  {
   "cell_type": "code",
   "execution_count": null,
   "metadata": {},
   "outputs": [],
   "source": [
    "# output = np.linalg.lstsq(x, y, rcond=None)"
   ]
  },
  {
   "cell_type": "code",
   "execution_count": null,
   "metadata": {},
   "outputs": [],
   "source": [
    "# params = np.squeeze(output[0])"
   ]
  },
  {
   "cell_type": "code",
   "execution_count": null,
   "metadata": {},
   "outputs": [],
   "source": [
    "# params[Nelems:]"
   ]
  },
  {
   "cell_type": "code",
   "execution_count": null,
   "metadata": {},
   "outputs": [],
   "source": [
    "# params.shape"
   ]
  },
  {
   "cell_type": "code",
   "execution_count": null,
   "metadata": {},
   "outputs": [],
   "source": [
    "# resid = mu-np.dot(x,params)"
   ]
  },
  {
   "cell_type": "code",
   "execution_count": null,
   "metadata": {},
   "outputs": [],
   "source": [
    "# plt.figure()\n",
    "# plt.plot(resid/1e3,'ko')\n",
    "# plt.plot([0, len(resid)],[0,0],'r--')"
   ]
  },
  {
   "cell_type": "code",
   "execution_count": null,
   "metadata": {},
   "outputs": [],
   "source": [
    "# plt.figure()\n",
    "# plt.plot(resid/1e3,'ko')\n",
    "# plt.plot([0, len(resid)],[0,0],'r--')"
   ]
  },
  {
   "cell_type": "code",
   "execution_count": null,
   "metadata": {},
   "outputs": [],
   "source": []
  },
  {
   "cell_type": "code",
   "execution_count": null,
   "metadata": {},
   "outputs": [],
   "source": []
  },
  {
   "cell_type": "code",
   "execution_count": null,
   "metadata": {},
   "outputs": [],
   "source": []
  },
  {
   "cell_type": "code",
   "execution_count": null,
   "metadata": {},
   "outputs": [],
   "source": [
    "# # xobs = np.hstack((comps, curv_term[:, np.newaxis]))\n",
    "# \n",
    "# comp_dist = np.sqrt(curv_term)\n",
    "# plt.figure()\n",
    "# plt.plot(comp_dist, mu_resid/1e3,'ko')\n",
    "# plt.plot(comp_dist[ind_assem], mu_resid[ind_assem]/1e3,'rx')\n",
    "# plt.plot([0, np.max(comp_dist)], [0,0],'r--')\n",
    "# print(mu_resid[ind_assem]/1e3)\n",
    "# print(comp_dist[ind_assem])"
   ]
  },
  {
   "cell_type": "code",
   "execution_count": null,
   "metadata": {},
   "outputs": [],
   "source": []
  },
  {
   "cell_type": "code",
   "execution_count": null,
   "metadata": {},
   "outputs": [],
   "source": []
  },
  {
   "cell_type": "code",
   "execution_count": null,
   "metadata": {},
   "outputs": [],
   "source": [
    "# %%timeit\n",
    "# \n",
    "# wt_bulk, mu_bulk, ind_assem = min_energy_assemblage(bulk_comp, elem_comps_uniq, mu_uniq, TOLmu=10)\n",
    "# mu_local, curv_local = fit_local_model(\n",
    "#     bulk_comp, mu_bulk, ind_assem, elem_comps_uniq, mu_uniq)"
   ]
  },
  {
   "cell_type": "code",
   "execution_count": null,
   "metadata": {},
   "outputs": [],
   "source": []
  },
  {
   "cell_type": "markdown",
   "metadata": {},
   "source": [
    "## Build endmembers of pseudo-phase using the coder module"
   ]
  },
  {
   "cell_type": "code",
   "execution_count": null,
   "metadata": {},
   "outputs": [],
   "source": [
    "modelCD = coder.StdStateModel()"
   ]
  },
  {
   "cell_type": "code",
   "execution_count": null,
   "metadata": {},
   "outputs": [],
   "source": [
    "GTP = sym.symbols('GTP')\n",
    "params = [('GTP','J',GTP)]\n",
    "modelCD.add_expression_to_model(GTP, params)"
   ]
  },
  {
   "cell_type": "code",
   "execution_count": null,
   "metadata": {},
   "outputs": [],
   "source": [
    "modelCD.set_module_name('pseudo_end')"
   ]
  },
  {
   "cell_type": "code",
   "execution_count": null,
   "metadata": {},
   "outputs": [],
   "source": [
    "model_working_dir = \"working\"\n",
    "!mkdir -p {model_working_dir}\n",
    "%cd {model_working_dir}"
   ]
  },
  {
   "cell_type": "code",
   "execution_count": null,
   "metadata": {},
   "outputs": [],
   "source": [
    "def standardize_formula(form):\n",
    "    cmp = form.split('O')\n",
    "    str = ''\n",
    "    if cmp[0][-1].isdigit():\n",
    "        str += cmp[0][:-1] + '(' + cmp[0][-1] + ')'\n",
    "    else:\n",
    "        str += cmp[0] + '(1)'\n",
    "    if cmp[1] == '':\n",
    "        str += 'O'\n",
    "    else:\n",
    "        str += 'O(' + cmp[1] + ')'\n",
    "    return str"
   ]
  },
  {
   "cell_type": "code",
   "execution_count": null,
   "metadata": {},
   "outputs": [],
   "source": []
  },
  {
   "cell_type": "code",
   "execution_count": null,
   "metadata": {},
   "outputs": [],
   "source": [
    "# param"
   ]
  },
  {
   "cell_type": "code",
   "execution_count": null,
   "metadata": {},
   "outputs": [],
   "source": []
  },
  {
   "cell_type": "code",
   "execution_count": null,
   "metadata": {},
   "outputs": [],
   "source": [
    "mu_linear = yscl*param[:Nelems]\n",
    "mu_curv = yscl*param[Nelems:]"
   ]
  },
  {
   "cell_type": "code",
   "execution_count": null,
   "metadata": {},
   "outputs": [],
   "source": []
  },
  {
   "cell_type": "code",
   "execution_count": null,
   "metadata": {},
   "outputs": [],
   "source": [
    "model_type = \"calib\"\n",
    "for ind,elm in enumerate(sys_elems):\n",
    "    imu = mu_linear[ind]\n",
    "    if use_oxides_as_basis:\n",
    "        formula = standardize_formula(elm)\n",
    "    else:\n",
    "        formula = elm+'(1)'\n",
    "    param_dict = {'Phase':elm,'Formula':formula,'T_r':298.15,'P_r':1.0,'GTP':imu}\n",
    "    print (param_dict)\n",
    "    result = modelCD.create_code_module(\n",
    "        phase=param_dict.pop('Phase', None),\n",
    "        formula=param_dict.pop('Formula', None),\n",
    "        params=param_dict, module_type=model_type, silent=True)\n",
    "    print ('Component', elm, 'done!')"
   ]
  },
  {
   "cell_type": "markdown",
   "metadata": {},
   "source": [
    "Build the code (ignore error messages generated by Cython regarding 'language_level')"
   ]
  },
  {
   "cell_type": "code",
   "execution_count": null,
   "metadata": {},
   "outputs": [],
   "source": [
    "import pseudo_end\n",
    "%cd .."
   ]
  },
  {
   "cell_type": "code",
   "execution_count": null,
   "metadata": {},
   "outputs": [],
   "source": []
  },
  {
   "cell_type": "code",
   "execution_count": null,
   "metadata": {},
   "outputs": [],
   "source": [
    "elm_sys=sys_elems"
   ]
  },
  {
   "cell_type": "code",
   "execution_count": null,
   "metadata": {},
   "outputs": [],
   "source": [
    "c = len(elm_sys)\n",
    "c"
   ]
  },
  {
   "cell_type": "code",
   "execution_count": null,
   "metadata": {},
   "outputs": [],
   "source": [
    "modelCD = coder.SimpleSolnModel(nc=c)"
   ]
  },
  {
   "cell_type": "code",
   "execution_count": null,
   "metadata": {},
   "outputs": [],
   "source": []
  },
  {
   "cell_type": "code",
   "execution_count": null,
   "metadata": {},
   "outputs": [],
   "source": []
  },
  {
   "cell_type": "code",
   "execution_count": null,
   "metadata": {},
   "outputs": [],
   "source": [
    "n = modelCD.n\n",
    "nT = modelCD.nT\n",
    "X = n/nT"
   ]
  },
  {
   "cell_type": "code",
   "execution_count": null,
   "metadata": {},
   "outputs": [],
   "source": [
    "len(X)"
   ]
  },
  {
   "cell_type": "code",
   "execution_count": null,
   "metadata": {},
   "outputs": [],
   "source": [
    "# XiXj = np.dot(n,n.T)[cross_term_inds[0], cross_term_inds[1]]/nT**2\n",
    "# XiXj"
   ]
  },
  {
   "cell_type": "code",
   "execution_count": null,
   "metadata": {},
   "outputs": [],
   "source": [
    "mu = modelCD.mu\n",
    "mu"
   ]
  },
  {
   "cell_type": "code",
   "execution_count": null,
   "metadata": {},
   "outputs": [],
   "source": []
  },
  {
   "cell_type": "code",
   "execution_count": null,
   "metadata": {},
   "outputs": [],
   "source": [
    "# Tsym = modelCD.get_symbol_for_t()"
   ]
  },
  {
   "cell_type": "code",
   "execution_count": null,
   "metadata": {},
   "outputs": [],
   "source": [
    "G_ss = (n.transpose()*mu)[0]\n",
    "G_ss"
   ]
  },
  {
   "cell_type": "code",
   "execution_count": null,
   "metadata": {},
   "outputs": [],
   "source": [
    "X.shape"
   ]
  },
  {
   "cell_type": "code",
   "execution_count": null,
   "metadata": {},
   "outputs": [],
   "source": [
    "# dX = X[:,0]- bulk_comp[:,np.newaxis]\n",
    "# dX"
   ]
  },
  {
   "cell_type": "code",
   "execution_count": null,
   "metadata": {},
   "outputs": [],
   "source": [
    "# X0 = sym.MatrixSymbol('X_0',c,1)\n",
    "# X0.shape"
   ]
  },
  {
   "cell_type": "code",
   "execution_count": null,
   "metadata": {},
   "outputs": [],
   "source": [
    "# dX = (X[:,0]-X0[:,0])\n",
    "# dX = X-X0\n",
    "# dX.shape"
   ]
  },
  {
   "cell_type": "code",
   "execution_count": null,
   "metadata": {},
   "outputs": [],
   "source": [
    "# sym.Matrix(dX)"
   ]
  },
  {
   "cell_type": "code",
   "execution_count": null,
   "metadata": {},
   "outputs": [],
   "source": [
    "# if curv_method=='quad-full':\n",
    "curv_string = ''\n",
    "quad_strs = []\n",
    "for i,j in cross_term_inds.T:\n",
    "    # print(i, j)\n",
    "    istr = 'k_' + str(i+1) + '_' + str(j+1)\n",
    "    curv_string +=  istr + ' '\n",
    "    quad_strs.append(istr)\n",
    "    \n",
    "\n",
    "quad_consts = sym.Matrix(list(sym.symbols(curv_string)))\n"
   ]
  },
  {
   "cell_type": "code",
   "execution_count": null,
   "metadata": {},
   "outputs": [],
   "source": [
    "quad_consts"
   ]
  },
  {
   "cell_type": "code",
   "execution_count": null,
   "metadata": {},
   "outputs": [],
   "source": []
  },
  {
   "cell_type": "code",
   "execution_count": null,
   "metadata": {},
   "outputs": [],
   "source": [
    "# quad_strs"
   ]
  },
  {
   "cell_type": "code",
   "execution_count": null,
   "metadata": {},
   "outputs": [],
   "source": [
    "XiXj = np.dot(n,n.T)[cross_term_inds[0], cross_term_inds[1]]/nT**2\n",
    "G_quad = nT*np.dot(XiXj, quad_consts)[0]"
   ]
  },
  {
   "cell_type": "code",
   "execution_count": null,
   "metadata": {},
   "outputs": [],
   "source": []
  },
  {
   "cell_type": "code",
   "execution_count": null,
   "metadata": {},
   "outputs": [],
   "source": [
    "G_quad"
   ]
  },
  {
   "cell_type": "code",
   "execution_count": null,
   "metadata": {},
   "outputs": [],
   "source": [
    "mu_shft = sym.symbols('mu_shft')\n",
    "mu_shft"
   ]
  },
  {
   "cell_type": "code",
   "execution_count": null,
   "metadata": {},
   "outputs": [],
   "source": []
  },
  {
   "cell_type": "code",
   "execution_count": null,
   "metadata": {},
   "outputs": [],
   "source": [
    "Ncross_terms = cross_term_inds.shape[1]\n",
    "Ncross_terms"
   ]
  },
  {
   "cell_type": "code",
   "execution_count": null,
   "metadata": {},
   "outputs": [],
   "source": [
    "Gshft = mu_shft*nT"
   ]
  },
  {
   "cell_type": "code",
   "execution_count": null,
   "metadata": {},
   "outputs": [],
   "source": [
    "G = G_ss + G_quad + Gshft"
   ]
  },
  {
   "cell_type": "code",
   "execution_count": null,
   "metadata": {},
   "outputs": [],
   "source": [
    "for istr, isym in zip(quad_strs, quad_consts):\n",
    "    modelCD.add_expression_to_model(\n",
    "        G, [(istr, 'J', isym)])"
   ]
  },
  {
   "cell_type": "code",
   "execution_count": null,
   "metadata": {},
   "outputs": [],
   "source": [
    "modelCD.add_expression_to_model(G, [('mu_shft', 'J/m', mu_shft)])"
   ]
  },
  {
   "cell_type": "code",
   "execution_count": null,
   "metadata": {},
   "outputs": [],
   "source": [
    "modelCD.module = \"pseudo_soln\""
   ]
  },
  {
   "cell_type": "code",
   "execution_count": null,
   "metadata": {},
   "outputs": [],
   "source": []
  },
  {
   "cell_type": "code",
   "execution_count": null,
   "metadata": {},
   "outputs": [],
   "source": [
    "# dX = (X[:,0]-bulk_comp[:,np.newaxis])\n",
    "# dX2 = np.dot(dX.T,dX)[0,0]\n",
    "# dX2\n",
    "# \n",
    "# G_mix, k_mix = sym.symbols('G_mix k_mix')"
   ]
  },
  {
   "cell_type": "code",
   "execution_count": null,
   "metadata": {},
   "outputs": [],
   "source": []
  },
  {
   "cell_type": "code",
   "execution_count": null,
   "metadata": {},
   "outputs": [],
   "source": [
    "# G_mix = k_mix*dX2\n",
    "# G_mix"
   ]
  },
  {
   "cell_type": "code",
   "execution_count": null,
   "metadata": {},
   "outputs": [],
   "source": []
  },
  {
   "cell_type": "code",
   "execution_count": null,
   "metadata": {},
   "outputs": [],
   "source": [
    "# G = G_ss + G_mix"
   ]
  },
  {
   "cell_type": "code",
   "execution_count": null,
   "metadata": {},
   "outputs": [],
   "source": [
    "# modelCD.add_expression_to_model(G, [('k_mix', 'none', k_mix)])"
   ]
  },
  {
   "cell_type": "code",
   "execution_count": null,
   "metadata": {},
   "outputs": [],
   "source": [
    "# modelCD.module = \"pseudo_soln\""
   ]
  },
  {
   "cell_type": "code",
   "execution_count": null,
   "metadata": {},
   "outputs": [],
   "source": [
    "formula = ''\n",
    "convert = []\n",
    "test = []\n",
    "if use_oxides_as_basis:\n",
    "    for ind,elm in enumerate(elm_sys):\n",
    "        ox_index = list(core.chem.oxide_props['oxides']).index(elm)\n",
    "        ox_cat = core.chem.oxide_props['cations'][ox_index]\n",
    "        formula += ox_cat + '[' + ox_cat + ']'\n",
    "        ox_cat_num = core.chem.oxide_props['cat_num'][ox_index]\n",
    "        if ox_cat_num > 1:\n",
    "            convert.append('['+str(ind)+']=['+ox_cat+']/'+str(ox_cat_num)+'.0')\n",
    "        else:\n",
    "            convert.append('['+str(ind)+']=['+ox_cat+']')\n",
    "        test.append('['+str(ind)+'] >= 0.0')\n",
    "    formula += 'O[O]'\n",
    "else:\n",
    "    for ind,elm in enumerate(elm_sys):\n",
    "        formula += elm + '[' + elm + ']'\n",
    "        convert.append('['+str(ind)+']=['+elm+']')\n",
    "        test.append('['+str(ind)+'] >= 0.0')\n",
    "formula, convert, test"
   ]
  },
  {
   "cell_type": "code",
   "execution_count": null,
   "metadata": {},
   "outputs": [],
   "source": [
    "modelCD.formula_string = formula\n",
    "modelCD.conversion_string = convert\n",
    "modelCD.test_string = test"
   ]
  },
  {
   "cell_type": "code",
   "execution_count": null,
   "metadata": {},
   "outputs": [],
   "source": [
    "mu_curv = np.tile(mu_curv/Ncross_terms, Ncross_terms)\n",
    "mu_curv"
   ]
  },
  {
   "cell_type": "code",
   "execution_count": null,
   "metadata": {},
   "outputs": [],
   "source": [
    "# curv_local"
   ]
  },
  {
   "cell_type": "code",
   "execution_count": null,
   "metadata": {},
   "outputs": [],
   "source": [
    "paramValues = {'T_r':298.15,'P_r':1.0}"
   ]
  },
  {
   "cell_type": "code",
   "execution_count": null,
   "metadata": {},
   "outputs": [],
   "source": [
    "for isym, ival in zip(quad_strs, mu_curv):\n",
    "    paramValues[isym] = ival\n",
    "    \n",
    "paramValues['mu_shft'] = 1e3\n",
    "    \n",
    "endmembers = []\n",
    "for elm in elm_sys:\n",
    "    endmembers.append(str(elm)+'_pseudo_end')"
   ]
  },
  {
   "cell_type": "code",
   "execution_count": null,
   "metadata": {},
   "outputs": [],
   "source": [
    "paramValues"
   ]
  },
  {
   "cell_type": "code",
   "execution_count": null,
   "metadata": {},
   "outputs": [],
   "source": [
    "# paramValues = {'k_mix':curv_local,'T_r':298.15,'P_r':1.0,}\n"
   ]
  },
  {
   "cell_type": "code",
   "execution_count": null,
   "metadata": {},
   "outputs": [],
   "source": [
    "model_working_dir = \"working\"\n",
    "!mkdir -p {model_working_dir}\n",
    "%cd {model_working_dir}"
   ]
  },
  {
   "cell_type": "code",
   "execution_count": null,
   "metadata": {},
   "outputs": [],
   "source": [
    "# cd .."
   ]
  },
  {
   "cell_type": "code",
   "execution_count": null,
   "metadata": {},
   "outputs": [],
   "source": [
    "modelCD.create_code_module(\n",
    "    phase=\"PseudoPhase\", params=paramValues, endmembers=endmembers, \n",
    "    prefix=\"cy\", module_type='calib', silent=False)"
   ]
  },
  {
   "cell_type": "code",
   "execution_count": null,
   "metadata": {},
   "outputs": [],
   "source": [
    "import pseudo_soln\n",
    "%cd .."
   ]
  },
  {
   "cell_type": "code",
   "execution_count": null,
   "metadata": {},
   "outputs": [],
   "source": []
  },
  {
   "cell_type": "code",
   "execution_count": null,
   "metadata": {},
   "outputs": [],
   "source": []
  },
  {
   "cell_type": "code",
   "execution_count": null,
   "metadata": {},
   "outputs": [],
   "source": [
    "#%cd working\n",
    "#import pseudo_soln\n",
    "#%cd ..\n",
    "modelPseudo = model.Database(database=\"CoderModule\", calib=\"calib\", \n",
    "                         phase_tuple=('pseudo_soln', {'Psu':['PseudoPhase','solution']}))\n",
    "Pseudo = modelPseudo.get_phase('Psu')\n",
    "\n",
    "for phase_name, abbrv in zip(modelPseudo.phase_info.phase_name,modelPseudo.phase_info.abbrev):\n",
    "    print ('Abbreviation: {0:<10s} Name: {1:<30s}'.format(abbrv, phase_name))"
   ]
  },
  {
   "cell_type": "code",
   "execution_count": null,
   "metadata": {},
   "outputs": [],
   "source": [
    "vals = Pseudo.get_param_values(all_params=True)\n",
    "names = Pseudo.param_names\n",
    "\n",
    "# Pseudo.set_param_values(param_names=[2],param_values=[1.0])"
   ]
  },
  {
   "cell_type": "code",
   "execution_count": null,
   "metadata": {},
   "outputs": [],
   "source": [
    "vals = Pseudo.get_param_values(all_params=True)\n",
    "len(vals)"
   ]
  },
  {
   "cell_type": "code",
   "execution_count": null,
   "metadata": {},
   "outputs": [],
   "source": [
    "# mu_bulk"
   ]
  },
  {
   "cell_type": "code",
   "execution_count": null,
   "metadata": {},
   "outputs": [],
   "source": [
    "# mu_shft_val=+50e3\n",
    "# mu_shft_val=+10e3\n",
    "# mu_shft_val=+15e3\n",
    "# mu_shft_val=+100e3\n",
    "# mu_shft_val=+1000e3\n",
    "mu_shft_val=-mu_bulk+5e3\n",
    "# mu_shft_val=0\n",
    "Pseudo.set_param_values(param_names=[len(vals)-1], param_values=[mu_shft_val])"
   ]
  },
  {
   "cell_type": "code",
   "execution_count": null,
   "metadata": {},
   "outputs": [],
   "source": [
    "# vals[2:] *= 10"
   ]
  },
  {
   "cell_type": "code",
   "execution_count": null,
   "metadata": {},
   "outputs": [],
   "source": [
    "# mu_curv"
   ]
  },
  {
   "cell_type": "code",
   "execution_count": null,
   "metadata": {},
   "outputs": [],
   "source": [
    "# vals"
   ]
  },
  {
   "cell_type": "code",
   "execution_count": null,
   "metadata": {},
   "outputs": [],
   "source": [
    "# for ind, ival in enumerate(vals[2:]):\n",
    "#     Pseudo.set_param_values(param_names=[ind+2], param_values=[ival])"
   ]
  },
  {
   "cell_type": "code",
   "execution_count": null,
   "metadata": {},
   "outputs": [],
   "source": [
    "# Pseudo.get_param_values(all_params=True)"
   ]
  },
  {
   "cell_type": "markdown",
   "metadata": {},
   "source": [
    "Check pseudo-phase import by printning some phase characteristics"
   ]
  },
  {
   "cell_type": "code",
   "execution_count": null,
   "metadata": {},
   "outputs": [],
   "source": [
    "print (Pseudo.props['phase_name'])\n",
    "print (Pseudo.props['formula'])\n",
    "print (Pseudo.props['molwt'])\n",
    "print (Pseudo.props['abbrev'])\n",
    "print (Pseudo.props['endmember_num'])\n",
    "print (Pseudo.props['endmember_name'])"
   ]
  },
  {
   "cell_type": "code",
   "execution_count": null,
   "metadata": {},
   "outputs": [],
   "source": []
  },
  {
   "cell_type": "markdown",
   "metadata": {},
   "source": [
    "## Try the equiibrium calculations with the omnicomponent pseudo-phase\n",
    "#### Choose a phase assemblage"
   ]
  },
  {
   "cell_type": "code",
   "execution_count": null,
   "metadata": {},
   "outputs": [],
   "source": [
    "#stix_phases.keys()\n",
    "phs_sys  = [Pseudo]\n",
    "\n",
    "# phs_sys.extend(phases.values())\n",
    "\n",
    "# phs_sys += [phases['Fsp'], phases['Ol'], phases['Cpx'], phases['Grt']] # solutiopns,\n",
    "# phs_sys += [phases['Qz'], phases['Ky'], phases['Nph']]\n",
    "#\n",
    "#phs_sys  = [Pseudo, stix_phases['Opx']]"
   ]
  },
  {
   "cell_type": "code",
   "execution_count": null,
   "metadata": {},
   "outputs": [],
   "source": []
  },
  {
   "cell_type": "code",
   "execution_count": null,
   "metadata": {},
   "outputs": [],
   "source": [
    "for iphssym in hull_phs_sym:\n",
    "    phs_sys.append(phases[iphssym])\n",
    "    \n",
    "    "
   ]
  },
  {
   "cell_type": "code",
   "execution_count": null,
   "metadata": {},
   "outputs": [],
   "source": []
  },
  {
   "cell_type": "code",
   "execution_count": null,
   "metadata": {},
   "outputs": [],
   "source": [
    "phs_sys"
   ]
  },
  {
   "cell_type": "code",
   "execution_count": null,
   "metadata": {},
   "outputs": [],
   "source": [
    "# phases = get_subsolidus_phases(database=database)"
   ]
  },
  {
   "cell_type": "code",
   "execution_count": null,
   "metadata": {},
   "outputs": [],
   "source": [
    "sys_elems\n",
    "# phs_sys"
   ]
  },
  {
   "cell_type": "code",
   "execution_count": null,
   "metadata": {},
   "outputs": [],
   "source": [
    "# equil = equilibrate.Equilibrate(['O','Na','Mg','Al','Si','Ca','Fe'], phs_sys)\n",
    "equil = equilibrate.Equilibrate(sys_elems, phs_sys)"
   ]
  },
  {
   "cell_type": "code",
   "execution_count": null,
   "metadata": {},
   "outputs": [],
   "source": [
    "mu_bulk"
   ]
  },
  {
   "cell_type": "code",
   "execution_count": null,
   "metadata": {},
   "outputs": [],
   "source": [
    "1467815.52"
   ]
  },
  {
   "cell_type": "code",
   "execution_count": null,
   "metadata": {},
   "outputs": [],
   "source": []
  },
  {
   "cell_type": "code",
   "execution_count": null,
   "metadata": {},
   "outputs": [],
   "source": [
    "state = equil.execute(T, P, bulk_comp=bulk_comp, debug=0)\n",
    "state.print_state()"
   ]
  },
  {
   "cell_type": "code",
   "execution_count": null,
   "metadata": {},
   "outputs": [],
   "source": [
    "equil.element_list"
   ]
  },
  {
   "cell_type": "code",
   "execution_count": null,
   "metadata": {},
   "outputs": [],
   "source": [
    "equil.moles_in"
   ]
  },
  {
   "cell_type": "code",
   "execution_count": null,
   "metadata": {},
   "outputs": [],
   "source": []
  },
  {
   "cell_type": "code",
   "execution_count": null,
   "metadata": {},
   "outputs": [],
   "source": []
  },
  {
   "cell_type": "markdown",
   "metadata": {},
   "source": [
    "#### Set the bulk composition of the system\n",
    "Input is a bulk peridotite suggested by Stixrude and Lithgow-Bertelloni"
   ]
  },
  {
   "cell_type": "code",
   "execution_count": null,
   "metadata": {},
   "outputs": [],
   "source": [
    "grm_oxides = {\n",
    "    'SiO2':  45.47, \n",
    "    'Al2O3':  4.0, \n",
    "    'FeO':    7.22, \n",
    "    'MgO':   38.53, \n",
    "    'CaO':    3.59, \n",
    "    'Na2O':   0.31\n",
    "}\n",
    "blk_cmp = np.zeros(7)\n",
    "mol_oxides = core.chem.format_mol_oxide_comp(grm_oxides, convert_grams_to_moles=True)\n",
    "blk_cmp[0] = 2.0*mol_oxides[0] + 3.0*mol_oxides[2] + mol_oxides[5] + mol_oxides[7] + mol_oxides[10] + mol_oxides[11] # oxygen\n",
    "blk_cmp[1] = 2.0*mol_oxides[11] # sodium\n",
    "blk_cmp[2] = mol_oxides[7]      # magnesium\n",
    "blk_cmp[3] = 2.0*mol_oxides[2]  # aluminum\n",
    "blk_cmp[4] = mol_oxides[0]      # silicon\n",
    "blk_cmp[5] = mol_oxides[10]     # calcium\n",
    "blk_cmp[6] = mol_oxides[5]      # iron"
   ]
  },
  {
   "cell_type": "code",
   "execution_count": null,
   "metadata": {},
   "outputs": [],
   "source": [
    "state = equil.execute(t, p, bulk_comp=blk_cmp, debug=0)\n",
    "state.print_state()"
   ]
  },
  {
   "cell_type": "code",
   "execution_count": null,
   "metadata": {},
   "outputs": [],
   "source": []
  },
  {
   "cell_type": "code",
   "execution_count": null,
   "metadata": {},
   "outputs": [],
   "source": []
  },
  {
   "cell_type": "code",
   "execution_count": null,
   "metadata": {},
   "outputs": [],
   "source": []
  },
  {
   "cell_type": "code",
   "execution_count": null,
   "metadata": {},
   "outputs": [],
   "source": []
  },
  {
   "cell_type": "code",
   "execution_count": null,
   "metadata": {},
   "outputs": [],
   "source": []
  },
  {
   "cell_type": "code",
   "execution_count": null,
   "metadata": {},
   "outputs": [],
   "source": []
  },
  {
   "cell_type": "code",
   "execution_count": null,
   "metadata": {},
   "outputs": [],
   "source": [
    "grm_oxides = {\n",
    "    'SiO2':  45.47, \n",
    "    'Al2O3':  4.0, \n",
    "    'FeO':    7.22, \n",
    "    'MgO':   38.53, \n",
    "    'CaO':    3.59, \n",
    "    'Na2O':   0.31\n",
    "}\n",
    "blk_cmp = np.zeros(7)\n",
    "mol_oxides = core.chem.format_mol_oxide_comp(grm_oxides, convert_grams_to_moles=True)\n",
    "blk_cmp[0] = 2.0*mol_oxides[0] + 3.0*mol_oxides[2] + mol_oxides[5] + mol_oxides[7] + mol_oxides[10] + mol_oxides[11] # oxygen\n",
    "blk_cmp[1] = 2.0*mol_oxides[11] # sodium\n",
    "blk_cmp[2] = mol_oxides[7]      # magnesium\n",
    "blk_cmp[3] = 2.0*mol_oxides[2]  # aluminum\n",
    "blk_cmp[4] = mol_oxides[0]      # silicon\n",
    "blk_cmp[5] = mol_oxides[10]     # calcium\n",
    "blk_cmp[6] = mol_oxides[5]      # iron\n",
    "blk_cmp"
   ]
  },
  {
   "cell_type": "code",
   "execution_count": null,
   "metadata": {},
   "outputs": [],
   "source": [
    "\n",
    "sys_elems"
   ]
  },
  {
   "cell_type": "code",
   "execution_count": null,
   "metadata": {},
   "outputs": [],
   "source": [
    "mass_oxides = {\n",
    "    'SiO2':  45.47, \n",
    "    'Al2O3':  4.0, \n",
    "    'FeO':    7.22, \n",
    "    'MgO':   38.53, \n",
    "    'CaO':    3.59, \n",
    "    'Na2O':   0.31\n",
    "}\n",
    "mol_oxides = core.chem.format_mol_oxide_comp(mass_oxides, convert_grams_to_moles=True)\n",
    "\n",
    "#elem_ind = {}\n",
    "#elem_ind['O'] = np.find(sys_elems=='O')[0]\n",
    "#bulk_comp = np.zeros(Nelems)\n",
    "#bulk_comp[sys_elems=='Mg'] =1\n",
    "#bulk_comp[sys_elems=='Si'] =1\n",
    "#bulk_comp[sys_elems=='Al'] =1\n",
    "#bulk_comp[sys_elems=='Fe'] =1\n",
    "#bulk_comp[sys_elems=='Ca'] =1\n",
    "#bulk_comp[sys_elems=='Na'] =1"
   ]
  },
  {
   "cell_type": "code",
   "execution_count": null,
   "metadata": {},
   "outputs": [],
   "source": [
    "core.chem.OXIDE_ORDER"
   ]
  },
  {
   "cell_type": "code",
   "execution_count": null,
   "metadata": {},
   "outputs": [],
   "source": [
    "\n",
    "bulk_elems = ['O','Na','Mg','Al','Si','Ca','Fe']"
   ]
  },
  {
   "cell_type": "code",
   "execution_count": null,
   "metadata": {},
   "outputs": [],
   "source": [
    "elem_inds = {}\n",
    "for elem in bulk_elems:\n",
    "    elem_inds[elem] = np.where(sys_elems==elem)[0][0]"
   ]
  },
  {
   "cell_type": "code",
   "execution_count": null,
   "metadata": {},
   "outputs": [],
   "source": [
    "elem_inds"
   ]
  },
  {
   "cell_type": "code",
   "execution_count": null,
   "metadata": {},
   "outputs": [],
   "source": [
    "oxide_elems = {}\n",
    "oxide_elems['SiO2'] = {'Si':1,'O':2}\n",
    "oxide_elems['MgO'] = {'Mg':1,'O':1}\n",
    "oxide_elems['Al2O3'] = {'Al':2,'O':3}\n",
    "oxide_elems['CaO'] = {'Ca':1,'O':1}\n",
    "oxide_elems['NaO'] = {'Na':1,'O':1}\n",
    "oxide_elems['FeO'] = {'Fe':1,'O':1}\n",
    "\n",
    "oxide_elems"
   ]
  },
  {
   "cell_type": "code",
   "execution_count": null,
   "metadata": {},
   "outputs": [],
   "source": [
    "bulk_comp = np.zeros(Nelems)\n",
    "for ox in mol_oxides:\n",
    "    val = mol_oxides[ox]\n",
    "    print(val)"
   ]
  },
  {
   "cell_type": "code",
   "execution_count": null,
   "metadata": {},
   "outputs": [],
   "source": []
  },
  {
   "cell_type": "code",
   "execution_count": null,
   "metadata": {},
   "outputs": [],
   "source": [
    "\n",
    "bulk_comp[sys_elems=='Mg'] =1\n",
    "bulk_comp[sys_elems=='Si'] =1\n",
    "bulk_comp[sys_elems=='Al'] =1"
   ]
  },
  {
   "cell_type": "code",
   "execution_count": null,
   "metadata": {},
   "outputs": [],
   "source": []
  },
  {
   "cell_type": "code",
   "execution_count": null,
   "metadata": {},
   "outputs": [],
   "source": []
  },
  {
   "cell_type": "code",
   "execution_count": null,
   "metadata": {},
   "outputs": [],
   "source": []
  },
  {
   "cell_type": "markdown",
   "metadata": {},
   "source": [
    "## Phases in Stixrude\n",
    "Instantiate the database and optionally, print an info table"
   ]
  },
  {
   "cell_type": "markdown",
   "metadata": {},
   "source": [
    "#### Create a Phase object for each phase in the database\n",
    "Lode this information into dictionaries and lists for future reference"
   ]
  },
  {
   "cell_type": "markdown",
   "metadata": {},
   "source": [
    "# Construct pseudophase\n",
    "\n",
    "Aaron's notes:\n",
    "\n",
    "1. Calculate the lower convex hull for the pure and endmember phases.\n",
    "2. Adopt a modified ideal solution, where the mixing contribution is given by a scaled ideal entropy $-c RT \\sum_i X_i \\log X_i$.\n",
    "3. Endmember chemical potentials as well as the scale factor $c$, are determined by least-squares fitting.\n",
    "4. Endmember chemical potentials must be adjusted upwards to guarantee that the phase is everywhere metastable.\n",
    "4.1 Endmember potentials are shifted so that every vertex of the convex hull lies on or below the omnicomponent surface, ensuring that all the equilibrium pure and endmember phases are individually stable relative to the omnicomponent phase.\n",
    "4.2 Calculate center point of the hull vertices, add $X_i \\sum_i \\log X_i$ to the hull at thgis point, and insure that omnicomponent phase has an energy equal to or above this energy\n",
    "5. Finally add an additional 1 J to each endmember potential just to insure numerical stability."
   ]
  },
  {
   "cell_type": "markdown",
   "metadata": {},
   "source": [
    "### (1) composition matrix\n",
    "Relate endmember of each phase (rows) to moles of elements (columns):\n",
    "- columns are indexed on atomic number\n",
    "- rows are indexed on phase order, listed above"
   ]
  },
  {
   "cell_type": "code",
   "execution_count": null,
   "metadata": {},
   "outputs": [],
   "source": [
    "C = []\n",
    "row_names = []\n",
    "for phase in pure_phases:\n",
    "    if use_oxides_as_basis:\n",
    "        C.append(core.chem.calc_mol_oxide_comp(phase.props['element_comp'][0]))\n",
    "    else:\n",
    "        C.append(phase.props['element_comp'][0])\n",
    "    row_names.append(phase.props['endmember_name'][0])\n",
    "for phase in soln_phases:\n",
    "    for i in range(0,phase.endmember_num):\n",
    "        if use_oxides_as_basis:\n",
    "            C.append(core.chem.calc_mol_oxide_comp(phase.props['element_comp'][i]))\n",
    "        else:\n",
    "            C.append(phase.props['element_comp'][i])\n",
    "        row_names.append(phase.props['endmember_name'][i])\n",
    "C = np.array(C)\n",
    "C.shape"
   ]
  },
  {
   "cell_type": "markdown",
   "metadata": {},
   "source": [
    "Filter for the non-zero abundance elements/oxides in the system"
   ]
  },
  {
   "cell_type": "code",
   "execution_count": null,
   "metadata": {},
   "outputs": [],
   "source": [
    "elm_sys_ind = np.where(np.sum(C,axis=0) > 0)[0]\n",
    "if use_oxides_as_basis:\n",
    "    elm_sys = [core.chem.oxide_props['oxides'][i] for i in elm_sys_ind]\n",
    "else:\n",
    "    elm_sys = [core.chem.PERIODIC_ORDER[i] for i in elm_sys_ind]\n",
    "elm_sys"
   ]
  },
  {
   "cell_type": "markdown",
   "metadata": {},
   "source": [
    "Deflate the composition matrix:\n",
    "- columns correspond to non-zero elemental abundances in teh system\n",
    "- rows are as previous"
   ]
  },
  {
   "cell_type": "code",
   "execution_count": null,
   "metadata": {},
   "outputs": [],
   "source": [
    "C = C[:,elm_sys_ind]\n",
    "C.shape"
   ]
  },
  {
   "cell_type": "code",
   "execution_count": null,
   "metadata": {},
   "outputs": [],
   "source": []
  },
  {
   "cell_type": "markdown",
   "metadata": {},
   "source": [
    "### (2) make a vector of chemical potentials of each endmember"
   ]
  },
  {
   "cell_type": "code",
   "execution_count": null,
   "metadata": {},
   "outputs": [],
   "source": [
    "mu = []\n",
    "for pureph in pure_phases:\n",
    "    mu += [pureph.gibbs_energy(t,p)]\n",
    "for solnph in soln_phases:\n",
    "    mu += [solnph.gibbs_energy(t,p,mol=np.eye(solnph.endmember_num)[i],deriv={\"dmol\":1})[0,i] for i in range(0,solnph.endmember_num)]\n",
    "mu = np.array(mu)\n",
    "mu.shape"
   ]
  },
  {
   "cell_type": "markdown",
   "metadata": {},
   "source": [
    "### (3) Convex Hull construction\n",
    "- Hull construction depends ONLY on C and mu as defined above\n",
    "- We define an additional multidimensional point called a viewpoint from which we can ask the question \"what hull facets are viewable from that viewpoint?\" \n",
    "- If the viewpoint is the bulk composition of the system, and we give the viewpoint an energy lower than any of the computed values of mu, then we should be able to \"see\" from that viewpoint all the hull facets that define the lowest energy polyhedron.\n",
    "- The vertices of these facets are the \"active\" phases from which we can construct the pseudo-omnicomponent phase\n",
    "\n",
    "For the system bulk composition, we use the average composition of the system, normalized to one mole.  \n",
    "For the chemical potential we use 1.5 times the most negative chemical potential of any endmember in the system"
   ]
  },
  {
   "cell_type": "markdown",
   "metadata": {},
   "source": [
    "#### Reduce the C matrix to unique rows (unique phase stoichiometry)\n",
    "The c_inverse_array maps the indices of C_unique back to the full C matrix"
   ]
  },
  {
   "cell_type": "code",
   "execution_count": null,
   "metadata": {},
   "outputs": [],
   "source": [
    "C_unique,C_inverse_ind = np.unique(C, axis=0,return_inverse=True)\n",
    "C_unique.shape,C_inverse_ind.shape"
   ]
  },
  {
   "cell_type": "markdown",
   "metadata": {},
   "source": [
    "Examine the chemical potentials of all stoichiometrically redundant phases and load an array with the most negative chemical potential (the stablest) of all the values found."
   ]
  },
  {
   "cell_type": "code",
   "execution_count": null,
   "metadata": {},
   "outputs": [],
   "source": [
    "mu_unique = []\n",
    "for i in range(0,C_unique.shape[0]):\n",
    "     mu_unique.append(np.min(mu[np.where(C_inverse_ind == i)]))\n",
    "mu_unique = np.array(mu_unique)"
   ]
  },
  {
   "cell_type": "markdown",
   "metadata": {},
   "source": [
    "Next, scale all the rows for one mole of each phase"
   ]
  },
  {
   "cell_type": "code",
   "execution_count": null,
   "metadata": {},
   "outputs": [],
   "source": [
    "for i in range(0,C_unique.shape[0]):\n",
    "    sum = np.sum(C_unique[i,:])\n",
    "    C_unique[i,:] /= sum\n",
    "    mu_unique[i] /= sum"
   ]
  },
  {
   "cell_type": "markdown",
   "metadata": {},
   "source": [
    "Compute an average composition and assign it a chemical potentials 1.5 times more negative than the most negative unique endmember"
   ]
  },
  {
   "cell_type": "code",
   "execution_count": null,
   "metadata": {},
   "outputs": [],
   "source": [
    "blk_cmp = np.sum(C_unique,axis=0)\n",
    "blk_cmp = blk_cmp/np.sum(blk_cmp)\n",
    "print ('Average composition of the viewpoint:', blk_cmp)\n",
    "mu_blk_cmp = np.min(mu_unique)*1.5\n",
    "print ('Chemical potential of the viewpoint:', mu_blk_cmp)"
   ]
  },
  {
   "cell_type": "markdown",
   "metadata": {},
   "source": [
    "Now contruct the convex hull, using the extra bulk composition point as a viewpoint below the hull.  \n",
    "The 'OJ' option is required to avoid roundoff errors that inhibit contruction; remove the option and run the code for a complete explanation.  \n",
    "The 'OGn' option locates the viewpoint, which does not otherwise contribute to hull construction. "
   ]
  },
  {
   "cell_type": "code",
   "execution_count": null,
   "metadata": {},
   "outputs": [],
   "source": [
    "point_A = np.vstack((C_unique,blk_cmp))\n",
    "point_B = np.vstack((np.reshape(mu_unique,(mu_unique.shape[0],1)),np.array([mu_blk_cmp])))\n",
    "points = np.hstack((point_A,point_B))\n",
    "hull = sci.spatial.ConvexHull(points, qhull_options='QJ QG'+str(points.shape[0]-1))"
   ]
  },
  {
   "cell_type": "code",
   "execution_count": null,
   "metadata": {},
   "outputs": [],
   "source": [
    "hull.simplices.shape, hull.vertices.shape, hull.points.shape"
   ]
  },
  {
   "cell_type": "markdown",
   "metadata": {},
   "source": [
    "### (4) Cull the hull\n",
    "Determine which rows (phase endmembers) contribute to the lower most hull (as seen by the bulk composition)"
   ]
  },
  {
   "cell_type": "code",
   "execution_count": null,
   "metadata": {},
   "outputs": [],
   "source": [
    "act_ind = np.full(mu_unique.shape, False, dtype=bool)\n",
    "for visible_facet in hull.simplices[hull.good]:\n",
    "    for index in visible_facet:\n",
    "        act_ind[index] = True\n",
    "for i,v in enumerate(act_ind):\n",
    "    if not v:\n",
    "        print(row_names[i], 'is not on the lower hull')\n",
    "act_ind"
   ]
  },
  {
   "cell_type": "markdown",
   "metadata": {},
   "source": [
    "Remove rows from C and mu, that is remove the phases that cannot be \"seen\" from the viewpoint"
   ]
  },
  {
   "cell_type": "code",
   "execution_count": null,
   "metadata": {},
   "outputs": [],
   "source": [
    "mu = mu_unique[act_ind]\n",
    "mu.shape"
   ]
  },
  {
   "cell_type": "code",
   "execution_count": null,
   "metadata": {},
   "outputs": [],
   "source": [
    "C = C_unique[act_ind,:]\n",
    "C.shape"
   ]
  },
  {
   "cell_type": "markdown",
   "metadata": {},
   "source": [
    "### (5) solve for the internally consistent chemical potenials of the elements\n",
    "Note that the endmember chemical potentials are adjusted by the pseudo-phase solution entropy.  This insures that the regression yields endmember potentials for the chemical elements that are consistent with ideal mixing."
   ]
  },
  {
   "cell_type": "code",
   "execution_count": null,
   "metadata": {},
   "outputs": [],
   "source": [
    "Cplus = np.hstack((C,np.zeros((C.shape[0],1))))\n",
    "for i in range(0,C.shape[0]):\n",
    "    sum = np.sum(C[i,:])\n",
    "    s = 0.0\n",
    "    for j in range(0,C.shape[1]):\n",
    "        if C[i,j] > 0:\n",
    "            X = C[i,j]/sum\n",
    "            s += X*np.log(X)\n",
    "    Cplus[i,-1] = s*sum*8.3143*t"
   ]
  },
  {
   "cell_type": "markdown",
   "metadata": {},
   "source": [
    "The last regression parameter, $m$, is a multiplicity factor on the ideal entropy, while the other terms, $\\mu _i^{o,elm}$, are the endmember chemical potentials of the pseudo-phase. The endmembers are the chemical elements.  I.e.,  \n",
    "${\\hat G^{pseudo}} = \\sum\\limits_i^{elm} {X_i^{elm}} \\mu _i^{o,elm} + mRT\\sum\\limits_i^{elm} {X_i^{elm}\\ln } X_i^{elm}$"
   ]
  },
  {
   "cell_type": "code",
   "execution_count": null,
   "metadata": {},
   "outputs": [],
   "source": [
    "x,residuals,rank,s = np.linalg.lstsq(Cplus,mu,rcond=None)\n",
    "x,np.sqrt(residuals),rank,s"
   ]
  },
  {
   "cell_type": "markdown",
   "metadata": {},
   "source": [
    "Apply the offset to the endmember chemical potentials"
   ]
  },
  {
   "cell_type": "code",
   "execution_count": null,
   "metadata": {},
   "outputs": [],
   "source": [
    "for i in range(0,x.shape[0]-1):\n",
    "    x[i] += offset_value"
   ]
  },
  {
   "cell_type": "markdown",
   "metadata": {},
   "source": [
    "## Build endmembers of pseudo-phase using the coder module"
   ]
  },
  {
   "cell_type": "code",
   "execution_count": null,
   "metadata": {},
   "outputs": [],
   "source": [
    "modelCD = coder.StdStateModel()"
   ]
  },
  {
   "cell_type": "code",
   "execution_count": null,
   "metadata": {},
   "outputs": [],
   "source": [
    "GTP = sym.symbols('GTP')\n",
    "params = [('GTP','J',GTP)]\n",
    "modelCD.add_expression_to_model(GTP, params)"
   ]
  },
  {
   "cell_type": "code",
   "execution_count": null,
   "metadata": {},
   "outputs": [],
   "source": [
    "modelCD.set_module_name('pseudo_end')"
   ]
  },
  {
   "cell_type": "code",
   "execution_count": null,
   "metadata": {},
   "outputs": [],
   "source": [
    "model_working_dir = \"working\"\n",
    "!mkdir -p {model_working_dir}\n",
    "%cd {model_working_dir}"
   ]
  },
  {
   "cell_type": "code",
   "execution_count": null,
   "metadata": {},
   "outputs": [],
   "source": [
    "def standardize_formula(form):\n",
    "    cmp = form.split('O')\n",
    "    str = ''\n",
    "    if cmp[0][-1].isdigit():\n",
    "        str += cmp[0][:-1] + '(' + cmp[0][-1] + ')'\n",
    "    else:\n",
    "        str += cmp[0] + '(1)'\n",
    "    if cmp[1] == '':\n",
    "        str += 'O'\n",
    "    else:\n",
    "        str += 'O(' + cmp[1] + ')'\n",
    "    return str"
   ]
  },
  {
   "cell_type": "code",
   "execution_count": null,
   "metadata": {},
   "outputs": [],
   "source": [
    "model_type = \"calib\"\n",
    "for ind,elm in enumerate(elm_sys):\n",
    "    if use_oxides_as_basis:\n",
    "        formula = standardize_formula(elm)\n",
    "    else:\n",
    "        formula = elm+'(1)'\n",
    "    param_dict = {'Phase':elm,'Formula':formula,'T_r':298.15,'P_r':1.0,'GTP':x[ind]}\n",
    "    print (param_dict)\n",
    "    result = modelCD.create_code_module(phase=param_dict.pop('Phase', None),\n",
    "                                      formula=param_dict.pop('Formula', None),\n",
    "                                      params=param_dict,\n",
    "                                      module_type=model_type,\n",
    "                                      silent=True)\n",
    "    print ('Component', elm, 'done!')"
   ]
  },
  {
   "cell_type": "markdown",
   "metadata": {},
   "source": [
    "Build the code (ignore error messages generated by Cython regarding 'language_level')"
   ]
  },
  {
   "cell_type": "code",
   "execution_count": null,
   "metadata": {},
   "outputs": [],
   "source": [
    "import pseudo_end\n",
    "%cd .."
   ]
  },
  {
   "cell_type": "markdown",
   "metadata": {},
   "source": [
    "## Test the endmember code"
   ]
  },
  {
   "cell_type": "code",
   "execution_count": null,
   "metadata": {},
   "outputs": [],
   "source": [
    "if test_endmember_code:\n",
    "    print ('Endmember metadata:')\n",
    "    try:\n",
    "        print(pseudo_end.cy_Fe_pseudo_end_calib_identifier())\n",
    "        print(pseudo_end.cy_Fe_pseudo_end_calib_name())\n",
    "        print(pseudo_end.cy_Fe_pseudo_end_calib_formula())\n",
    "        print(pseudo_end.cy_Fe_pseudo_end_calib_mw())\n",
    "        print(pseudo_end.cy_Fe_pseudo_end_calib_elements())\n",
    "    except AttributeError:\n",
    "        pass\n",
    "    fmt = \"{0:<10.10s} {1:13.6e} {2:<10.10s}\"\n",
    "    print ('Thermodynamic properties:')\n",
    "    try:\n",
    "        print(fmt.format('G', pseudo_end.cy_Fe_pseudo_end_calib_g(t,p), 'J/m'))\n",
    "        print(fmt.format('dGdT', pseudo_end.cy_Fe_pseudo_end_calib_dgdt(t,p), 'J/K-m'))\n",
    "        print(fmt.format('dGdP', pseudo_end.cy_Fe_pseudo_end_calib_dgdp(t,p), 'J/bar-m'))\n",
    "        print(fmt.format('d2GdP2', pseudo_end.cy_Fe_pseudo_end_calib_d2gdt2(t,p), 'J/K^2-m'))\n",
    "        print(fmt.format('d2GdTdP', pseudo_end.cy_Fe_pseudo_end_calib_d2gdtdp(t,p), 'J/K-bar-m'))\n",
    "        print(fmt.format('d2GdP2', pseudo_end.cy_Fe_pseudo_end_calib_d2gdp2(t,p), 'J/bar^2-m'))\n",
    "        print(fmt.format('d3GdT3', pseudo_end.cy_Fe_pseudo_end_calib_d3gdt3(t,p), 'J/K^3-m'))\n",
    "        print(fmt.format('d3GdT2dP', pseudo_end.cy_Fe_pseudo_end_calib_d3gdt2dp(t,p), 'J/K^2-bar-m'))\n",
    "        print(fmt.format('d3GdTdP2', pseudo_end.cy_Fe_pseudo_end_calib_d3gdtdp2(t,p), 'J/K-bar^2-m'))\n",
    "        print(fmt.format('d3GdP3', pseudo_end.cy_Fe_pseudo_end_calib_d3gdp3(t,p), 'J/bar^3-m'))\n",
    "        print(fmt.format('S', pseudo_end.cy_Fe_pseudo_end_calib_s(t,p), 'J/K-m'))\n",
    "        print(fmt.format('V', pseudo_end.cy_Fe_pseudo_end_calib_v(t,p), 'J/bar-m'))\n",
    "        print(fmt.format('Cv', pseudo_end.cy_Fe_pseudo_end_calib_cv(t,p), 'J/K-m'))\n",
    "        print(fmt.format('Cp', pseudo_end.cy_Fe_pseudo_end_calib_cp(t,p), 'J/K-m'))\n",
    "        print(fmt.format('dCpdT', pseudo_end.cy_Fe_pseudo_end_calib_dcpdt(t,p), 'J/K^2-m'))\n",
    "        print(fmt.format('alpha', pseudo_end.cy_Fe_pseudo_end_calib_alpha(t,p), '1/K'))\n",
    "        print(fmt.format('beta', pseudo_end.cy_Fe_pseudo_end_calib_beta(t,p), '1/bar'))\n",
    "        print(fmt.format('K', pseudo_end.cy_Fe_pseudo_end_calib_K(t,p), 'bar'))\n",
    "        print(fmt.format('Kp', pseudo_end.cy_Fe_pseudo_end_calib_Kp(t,p), ''))\n",
    "    except AttributeError:\n",
    "        pass\n",
    "    print ('Parameters:')\n",
    "    try:\n",
    "        npar = pseudo_end.cy_Fe_pseudo_end_get_param_number()\n",
    "        names = pseudo_end.cy_Fe_pseudo_end_get_param_names()\n",
    "        units = pseudo_end.cy_Fe_pseudo_end_get_param_units()\n",
    "        values = pseudo_end.cy_Fe_pseudo_end_get_param_values()\n",
    "        fmt = \"{0:<10.10s} {1:13.6e} {2:13.6e} {3:<10.10s}\"\n",
    "        for i in range(0,npar):\n",
    "            print(fmt.format(names[i], values[i], pseudo_end.cy_Fe_pseudo_end_get_param_value(i), units[i]))\n",
    "    except AttributeError:\n",
    "        pass\n",
    "    try:\n",
    "        values[1] = 100.0\n",
    "        pseudo_end.cy_Fe_pseudo_end_set_param_values(values)\n",
    "        fmt = \"{0:<10.10s} {1:13.6e} {2:13.6e} {3:<10.10s}\"\n",
    "        for i in range(0,npar):\n",
    "            print(fmt.format(names[i], values[i], pseudo_end.cy_Fe_pseudo_end_get_param_value(i), units[i]))\n",
    "    except (AttributeError, NameError):\n",
    "        pass\n",
    "    try:\n",
    "        pseudo_end.cy_Fe_pseudo_end_set_param_value(1, 1.0)\n",
    "        fmt = \"{0:<10.10s} {1:13.6e} {2:13.6e} {3:<10.10s}\"\n",
    "        for i in range(0,npar):\n",
    "            print(fmt.format(names[i], values[i], pseudo_end.cy_Fe_pseudo_end_get_param_value(i), units[i]))\n",
    "    except AttributeError:\n",
    "        pass"
   ]
  },
  {
   "cell_type": "markdown",
   "metadata": {},
   "source": [
    "## Build solution pseudo-phase using the coder module\n",
    "This code utilizes the previous endmember models generated above. "
   ]
  },
  {
   "cell_type": "code",
   "execution_count": null,
   "metadata": {},
   "outputs": [],
   "source": [
    "c = len(elm_sys)"
   ]
  },
  {
   "cell_type": "code",
   "execution_count": null,
   "metadata": {},
   "outputs": [],
   "source": [
    "modelCD = coder.SimpleSolnModel(nc=c)"
   ]
  },
  {
   "cell_type": "code",
   "execution_count": null,
   "metadata": {},
   "outputs": [],
   "source": [
    "n = modelCD.n\n",
    "nT = modelCD.nT\n",
    "X = n/nT"
   ]
  },
  {
   "cell_type": "code",
   "execution_count": null,
   "metadata": {},
   "outputs": [],
   "source": [
    "T = modelCD.get_symbol_for_t()\n",
    "mu = modelCD.mu"
   ]
  },
  {
   "cell_type": "code",
   "execution_count": null,
   "metadata": {},
   "outputs": [],
   "source": [
    "G_ss = (n.transpose()*mu)[0]\n",
    "G_ss"
   ]
  },
  {
   "cell_type": "code",
   "execution_count": null,
   "metadata": {},
   "outputs": [],
   "source": [
    "S_config,R,multiplier = sym.symbols('S_config R multiplier')\n",
    "S_config = 0\n",
    "for i in range(0,c):\n",
    "    S_config += X[i]*sym.log(X[i])\n",
    "S_config *= -R*nT*multiplier"
   ]
  },
  {
   "cell_type": "code",
   "execution_count": null,
   "metadata": {},
   "outputs": [],
   "source": [
    "G_config = sym.simplify(-T*S_config)\n",
    "G_config"
   ]
  },
  {
   "cell_type": "code",
   "execution_count": null,
   "metadata": {},
   "outputs": [],
   "source": [
    "G = G_ss + G_config"
   ]
  },
  {
   "cell_type": "code",
   "execution_count": null,
   "metadata": {},
   "outputs": [],
   "source": [
    "modelCD.add_expression_to_model(G, [('multiplier', 'none', multiplier)])"
   ]
  },
  {
   "cell_type": "code",
   "execution_count": null,
   "metadata": {},
   "outputs": [],
   "source": [
    "modelCD.module = \"pseudo_soln\""
   ]
  },
  {
   "cell_type": "code",
   "execution_count": null,
   "metadata": {},
   "outputs": [],
   "source": [
    "formula = ''\n",
    "convert = []\n",
    "test = []\n",
    "if use_oxides_as_basis:\n",
    "    for ind,elm in enumerate(elm_sys):\n",
    "        ox_index = list(core.chem.oxide_props['oxides']).index(elm)\n",
    "        ox_cat = core.chem.oxide_props['cations'][ox_index]\n",
    "        formula += ox_cat + '[' + ox_cat + ']'\n",
    "        ox_cat_num = core.chem.oxide_props['cat_num'][ox_index]\n",
    "        if ox_cat_num > 1:\n",
    "            convert.append('['+str(ind)+']=['+ox_cat+']/'+str(ox_cat_num)+'.0')\n",
    "        else:\n",
    "            convert.append('['+str(ind)+']=['+ox_cat+']')\n",
    "        test.append('['+str(ind)+'] >= 0.0')\n",
    "    formula += 'O[O]'\n",
    "else:\n",
    "    for ind,elm in enumerate(elm_sys):\n",
    "        formula += elm + '[' + elm + ']'\n",
    "        convert.append('['+str(ind)+']=['+elm+']')\n",
    "        test.append('['+str(ind)+'] >= 0.0')\n",
    "formula, convert, test"
   ]
  },
  {
   "cell_type": "code",
   "execution_count": null,
   "metadata": {},
   "outputs": [],
   "source": [
    "modelCD.formula_string = formula\n",
    "modelCD.conversion_string = convert\n",
    "modelCD.test_string = test"
   ]
  },
  {
   "cell_type": "code",
   "execution_count": null,
   "metadata": {},
   "outputs": [],
   "source": [
    "paramValues = {'multiplier':x[-1],'T_r':298.15,'P_r':1.0,}\n",
    "endmembers = []\n",
    "for elm in elm_sys:\n",
    "    endmembers.append(str(elm)+'_pseudo_end')"
   ]
  },
  {
   "cell_type": "code",
   "execution_count": null,
   "metadata": {},
   "outputs": [],
   "source": [
    "model_working_dir = \"working\"\n",
    "!mkdir -p {model_working_dir}\n",
    "%cd {model_working_dir}"
   ]
  },
  {
   "cell_type": "code",
   "execution_count": null,
   "metadata": {},
   "outputs": [],
   "source": [
    "modelCD.create_code_module(phase=\"PseudoPhase\", params=paramValues, endmembers=endmembers, \n",
    "                         prefix=\"cy\", module_type='calib', silent=False)"
   ]
  },
  {
   "cell_type": "code",
   "execution_count": null,
   "metadata": {},
   "outputs": [],
   "source": [
    "import pseudo_soln\n",
    "%cd .."
   ]
  },
  {
   "cell_type": "markdown",
   "metadata": {},
   "source": [
    "## Test the solution\n",
    "Characteristics of the solution"
   ]
  },
  {
   "cell_type": "code",
   "execution_count": null,
   "metadata": {},
   "outputs": [],
   "source": [
    "if test_solution_code:\n",
    "    mol = blk_cmp\n",
    "    print ('Solution metadata:')\n",
    "    try:\n",
    "        print(pseudo_soln.cy_PseudoPhase_pseudo_soln_calib_identifier())\n",
    "        print(pseudo_soln.cy_PseudoPhase_pseudo_soln_calib_name())\n",
    "        print(pseudo_soln.cy_PseudoPhase_pseudo_soln_calib_formula(t,p,mol))\n",
    "    except AttributeError:\n",
    "        pass\n",
    "    print ('Elemental conversion routines')\n",
    "    try:\n",
    "        e = np.zeros(106)\n",
    "        sum = np.sum(mol)\n",
    "        for index in range(0,c):\n",
    "            end = pseudo_soln.cy_PseudoPhase_pseudo_soln_calib_endmember_elements(index)\n",
    "            for i in range(0,106):\n",
    "                e[i] += end[i]*mol[index]/sum\n",
    "        nConv = pseudo_soln.cy_PseudoPhase_pseudo_soln_calib_conv_elm_to_moles(e)\n",
    "        for i in range(0,c):\n",
    "            print ('X[{0:d}] input {1:13.6e}, calc {2:13.6e}, diff {3:13.6e}'.format(\n",
    "                i, mol[i]/sum, nConv[i], nConv[i]-mol[i]/sum))\n",
    "        if not pseudo_soln.cy_PseudoPhase_pseudo_soln_calib_test_moles(nConv):\n",
    "            print ('Output of intrinsic composition calculation fails tests for permissible values.')\n",
    "    except AttributeError:\n",
    "        pass\n",
    "    print ('Composition conversion routines')\n",
    "    try:\n",
    "        print (pseudo_soln.cy_PseudoPhase_pseudo_soln_calib_conv_moles_to_tot_moles(mol))\n",
    "        print (pseudo_soln.cy_PseudoPhase_pseudo_soln_calib_conv_moles_to_mole_frac(mol))\n",
    "        e = pseudo_soln.cy_PseudoPhase_pseudo_soln_calib_conv_moles_to_elm(mol)\n",
    "        print (e)\n",
    "        print (pseudo_soln.cy_PseudoPhase_pseudo_soln_calib_conv_elm_to_moles(e))\n",
    "        print (pseudo_soln.cy_PseudoPhase_pseudo_soln_calib_conv_elm_to_tot_moles(e))\n",
    "        print (pseudo_soln.cy_PseudoPhase_pseudo_soln_calib_conv_elm_to_tot_grams(e))\n",
    "    except AttributeError:\n",
    "        pass\n",
    "    print ('Simple thermodynamic functions')\n",
    "    fmt = \"{0:<10.10s} {1:13.6e} {2:<10.10s}\"\n",
    "    try:\n",
    "        print(fmt.format('G', pseudo_soln.cy_PseudoPhase_pseudo_soln_calib_g(t,p,mol), 'J'))\n",
    "        print(fmt.format('dGdT', pseudo_soln.cy_PseudoPhase_pseudo_soln_calib_dgdt(t,p,mol), 'J/K'))\n",
    "        print(fmt.format('dGdP', pseudo_soln.cy_PseudoPhase_pseudo_soln_calib_dgdp(t,p,mol), 'J/bar'))\n",
    "        print(fmt.format('d2GdT2', pseudo_soln.cy_PseudoPhase_pseudo_soln_calib_d2gdt2(t,p,mol), 'J/K^2'))\n",
    "        print(fmt.format('d2GdTdP', pseudo_soln.cy_PseudoPhase_pseudo_soln_calib_d2gdtdp(t,p,mol), 'J/K-bar'))\n",
    "        print(fmt.format('d2GdP2', pseudo_soln.cy_PseudoPhase_pseudo_soln_calib_d2gdp2(t,p,mol), 'J/bar^2'))\n",
    "        print(fmt.format('d3GdT3', pseudo_soln.cy_PseudoPhase_pseudo_soln_calib_d3gdt3(t,p,mol), 'J/K^3'))\n",
    "        print(fmt.format('d3GdT2dP', pseudo_soln.cy_PseudoPhase_pseudo_soln_calib_d3gdt2dp(t,p,mol), 'J/K^2-bar'))\n",
    "        print(fmt.format('d3GdTdP2', pseudo_soln.cy_PseudoPhase_pseudo_soln_calib_d3gdtdp2(t,p,mol), 'J/K-bar^2'))\n",
    "        print(fmt.format('d3GdP3', pseudo_soln.cy_PseudoPhase_pseudo_soln_calib_d3gdp3(t,p,mol), 'J/bar^3'))\n",
    "        print(fmt.format('S', pseudo_soln.cy_PseudoPhase_pseudo_soln_calib_s(t,p,mol), 'J/K'))\n",
    "        print(fmt.format('V', pseudo_soln.cy_PseudoPhase_pseudo_soln_calib_v(t,p,mol), 'J/bar'))\n",
    "        print(fmt.format('Cv', pseudo_soln.cy_PseudoPhase_pseudo_soln_calib_cv(t,p,mol), 'J/K'))\n",
    "        print(fmt.format('Cp', pseudo_soln.cy_PseudoPhase_pseudo_soln_calib_cp(t,p,mol), 'J/K'))\n",
    "        print(fmt.format('dCpdT', pseudo_soln.cy_PseudoPhase_pseudo_soln_calib_dcpdt(t,p,mol), 'J/K^2'))\n",
    "        print(fmt.format('alpha', pseudo_soln.cy_PseudoPhase_pseudo_soln_calib_alpha(t,p,mol), '1/K'))\n",
    "        print(fmt.format('beta', pseudo_soln.cy_PseudoPhase_pseudo_soln_calib_beta(t,p,mol), '1/bar'))\n",
    "        print(fmt.format('K', pseudo_soln.cy_PseudoPhase_pseudo_soln_calib_K(t,p,mol), 'bar'))\n",
    "        print(fmt.format('Kp', pseudo_soln.cy_PseudoPhase_pseudo_soln_calib_Kp(t,p,mol), ''))\n",
    "    except AttributeError:\n",
    "        pass\n",
    "    print ('Endmember properties')\n",
    "    fmt = \"{0:<10.10s} {1:13.6e} {2:<15.15s}\"\n",
    "    try:\n",
    "        print (\"number of components\", pseudo_soln.cy_PseudoPhase_pseudo_soln_calib_endmember_number())\n",
    "        for index in range(0, c):\n",
    "            print (\"{0:<20.20s}\".format(pseudo_soln.cy_PseudoPhase_pseudo_soln_calib_endmember_name(index)), end=' ')\n",
    "            print (\"{0:<20.20s}\".format(pseudo_soln.cy_PseudoPhase_pseudo_soln_calib_endmember_formula(index)), end=' ')\n",
    "            print (\"mw: {0:10.2f}\".format(pseudo_soln.cy_PseudoPhase_pseudo_soln_calib_endmember_mw(index)))\n",
    "            print (fmt.format('mu0', pseudo_soln.cy_PseudoPhase_pseudo_soln_calib_endmember_mu0(index,t,p), 'J/mol'))\n",
    "            print (fmt.format('dmu0dT', pseudo_soln.cy_PseudoPhase_pseudo_soln_calib_endmember_dmu0dT(index,t,p), 'J/K-mol'))\n",
    "            print (fmt.format('dmu0dP', pseudo_soln.cy_PseudoPhase_pseudo_soln_calib_endmember_dmu0dP(index,t,p), 'J/bar-mol'))\n",
    "            print (fmt.format('d2mu0dT2', pseudo_soln.cy_PseudoPhase_pseudo_soln_calib_endmember_d2mu0dT2(index,t,p), 'J/K^2-mol'))\n",
    "            print (fmt.format('d2mu0dTdP', pseudo_soln.cy_PseudoPhase_pseudo_soln_calib_endmember_d2mu0dTdP(index,t,p), 'J/K-bar-mol'))\n",
    "            print (fmt.format('d2mu0dP2', pseudo_soln.cy_PseudoPhase_pseudo_soln_calib_endmember_d2mu0dP2(index,t,p), 'J/bar^2-mol'))\n",
    "            print (fmt.format('d3mu0dT3', pseudo_soln.cy_PseudoPhase_pseudo_soln_calib_endmember_d3mu0dT3(index,t,p), 'J/K^3-mol'))\n",
    "            print (fmt.format('d3mu0dT2dP', pseudo_soln.cy_PseudoPhase_pseudo_soln_calib_endmember_d3mu0dT2dP(index,t,p), 'J/K^2-bar-mol'))\n",
    "            print (fmt.format('d3mu0dTdP2', pseudo_soln.cy_PseudoPhase_pseudo_soln_calib_endmember_d3mu0dTdP2(index,t,p), 'J/K-bar^2-mol'))\n",
    "            print (fmt.format('d3mu0dP3', pseudo_soln.cy_PseudoPhase_pseudo_soln_calib_endmember_d3mu0dP3(index,t,p), 'J/bar^3-mol'))\n",
    "            print (\"Element array:\")\n",
    "            print (pseudo_soln.cy_PseudoPhase_pseudo_soln_calib_endmember_elements(index))\n",
    "            print ()\n",
    "    except AttributeError:\n",
    "        pass\n",
    "    print ('Species properties:')\n",
    "    fmt = \"{0:<10.10s} {1:13.6e} {2:<15.15s}\"\n",
    "    try:\n",
    "        print (\"number of species\", pseudo_soln.cy_PseudoPhase_pseudo_soln_calib_species_number())\n",
    "        for index in range(0, c):\n",
    "            print (\"{0:<20.20s}\".format(pseudo_soln.cy_PseudoPhase_pseudo_soln_calib_species_name(index)), end=' ')\n",
    "            print (\"{0:<20.20s}\".format(pseudo_soln.cy_PseudoPhase_pseudo_soln_calib_species_formula(index)), end=' ')\n",
    "            print (\"mw: {0:10.2f}\".format(pseudo_soln.cy_PseudoPhase_pseudo_soln_calib_species_mw(index)))\n",
    "            print (\"Element array:\")\n",
    "            print (pseudo_soln.cy_PseudoPhase_pseudo_soln_calib_species_elements(index))\n",
    "            print ()\n",
    "    except AttributeError:\n",
    "        pass\n",
    "    print ('First compositional derivatines:')\n",
    "    def printResult(name, result, units):\n",
    "        print (\"{0:<10.10s}\".format(name), end=' ')\n",
    "        [print (\"{0:13.6e}\".format(x), end=' ') for x in result]\n",
    "        print (\"{0:<10.10s}\".format(units))\n",
    "    def printLabels(n):\n",
    "        print (\"{0:<18.18s}\".format(''), end=' ')\n",
    "        [print (\"[{0:3d}]{1:<8.8s}\".format(idx, ''), end=' ') for idx in range(len(n))]\n",
    "        print ()\n",
    "    printLabels(mol)\n",
    "    try:\n",
    "        printResult('dGdn', pseudo_soln.cy_PseudoPhase_pseudo_soln_calib_dgdn(t,p,mol), 'J/m')\n",
    "        printResult('d2GdndT', pseudo_soln.cy_PseudoPhase_pseudo_soln_calib_d2gdndt(t,p,mol), 'J/K-m')\n",
    "        printResult('d2GdndP', pseudo_soln.cy_PseudoPhase_pseudo_soln_calib_d2gdndp(t,p,mol), 'J/bar-m')\n",
    "        printResult('d3GdndT2', pseudo_soln.cy_PseudoPhase_pseudo_soln_calib_d3gdndt2(t,p,mol), 'J/K^2-m')\n",
    "        printResult('d3GdndTdP', pseudo_soln.cy_PseudoPhase_pseudo_soln_calib_d3gdndtdp(t,p,mol), 'J/K-bar-m')\n",
    "        printResult('d3GdndP2', pseudo_soln.cy_PseudoPhase_pseudo_soln_calib_d3gdndp2(t,p,mol), 'J/bar^2-m')\n",
    "        printResult('d4GdndT3', pseudo_soln.cy_PseudoPhase_pseudo_soln_calib_d4gdndt3(t,p,mol), 'J/K^3-m')\n",
    "        printResult('d4GdndT2dP', pseudo_soln.cy_PseudoPhase_pseudo_soln_calib_d4gdndt2dp(t,p,mol), 'J/K^2-bar-m')\n",
    "        printResult('d4GdndTdP2', pseudo_soln.cy_PseudoPhase_pseudo_soln_calib_d4gdndtdp2(t,p,mol), 'J/K-bar^2-m')\n",
    "        printResult('d4GdndP3', pseudo_soln.cy_PseudoPhase_pseudo_soln_calib_d4gdndp3(t,p,mol), 'J/bar^3-m')\n",
    "    except AttributeError:\n",
    "        pass \n",
    "    print ('Second compositional derivatives:')\n",
    "    def printResult(name, result, units):\n",
    "        print (\"{0:<10.10s}\".format(name), end=' ')\n",
    "        [print (\"{0:13.6e}\".format(x), end=' ') for x in result]\n",
    "        print (\"{0:<10.10s}\".format(units))\n",
    "    def printLabels(n):\n",
    "        print (\"{0:<18.18s}\".format(''), end=' ')\n",
    "        maxIdx = int(len(n)*(len(n)-1)/2 + len(n))\n",
    "        [print (\"[{0:3d}]{1:<8.8s}\".format(idx, ''), end=' ') for idx in range(maxIdx)]\n",
    "        print ()\n",
    "    printLabels(mol)\n",
    "    try:\n",
    "        printResult('d2Gdn2', pseudo_soln.cy_PseudoPhase_pseudo_soln_calib_d2gdn2(t,p,mol), 'J/m^2')\n",
    "        printResult('d3Gdn2dT', pseudo_soln.cy_PseudoPhase_pseudo_soln_calib_d3gdn2dt(t,p,mol), 'J/K-m^2')\n",
    "        printResult('d3Gdn2dP', pseudo_soln.cy_PseudoPhase_pseudo_soln_calib_d3gdn2dp(t,p,mol), 'J/bar-m^2')\n",
    "        printResult('d4Gdn2dT2', pseudo_soln.cy_PseudoPhase_pseudo_soln_calib_d4gdn2dt2(t,p,mol), 'J/K^2-m^2')\n",
    "        printResult('d4Gdn2dTdP', pseudo_soln.cy_PseudoPhase_pseudo_soln_calib_d4gdn2dtdp(t,p,mol), 'J/K-bar-m^2')\n",
    "        printResult('d4Gdn2dP2', pseudo_soln.cy_PseudoPhase_pseudo_soln_calib_d4gdn2dp2(t,p,mol), 'J/bar^2-m^2')\n",
    "        printResult('d5Gdn2dT3', pseudo_soln.cy_PseudoPhase_pseudo_soln_calib_d5gdn2dt3(t,p,mol), 'J/K^3-m^2')\n",
    "        printResult('d5Gdn2dT2dP', pseudo_soln.cy_PseudoPhase_pseudo_soln_calib_d5gdn2dt2dp(t,p,mol), 'J/K^2-bar-m^2')\n",
    "        printResult('d5Gdn2dTdP2', pseudo_soln.cy_PseudoPhase_pseudo_soln_calib_d5gdn2dtdp2(t,p,mol), 'J/K-bar^2-m^2')\n",
    "        printResult('d5Gdn2dP3', pseudo_soln.cy_PseudoPhase_pseudo_soln_calib_d5gdn2dp3(t,p,mol), 'J/bar^3-m^2')\n",
    "    except AttributeError:\n",
    "        pass\n",
    "    print ('Third compositional derivatives:')\n",
    "    def printResult(name, result, units):\n",
    "        print (\"{0:<10.10s}\".format(name), end=' ')\n",
    "        [print (\"{0:10.3e}\".format(x), end=' ') for x in result]\n",
    "        print (\"{0:<14.14s}\".format(units))\n",
    "    def printLabels(n):\n",
    "        print (\"{0:<15.15s}\".format(''), end=' ')\n",
    "        maxIdx = int(len(n)*(len(n)+1)*(len(n)+2)/6)\n",
    "        [print (\"[{0:3d}]{1:<5.5s}\".format(idx, ''), end=' ') for idx in range(maxIdx)]\n",
    "        print ()\n",
    "    printLabels(mol)\n",
    "    try:\n",
    "        printResult('d3Gdn3', pseudo_soln.cy_PseudoPhase_pseudo_soln_calib_d3gdn3(t,p,mol), 'J/m^3')\n",
    "        printResult('d4Gdn3dT', pseudo_soln.cy_PseudoPhase_pseudo_soln_calib_d4gdn3dt(t,p,mol), 'J/K-m^3')\n",
    "        printResult('d4Gdn3dP', pseudo_soln.cy_PseudoPhase_pseudo_soln_calib_d4gdn3dp(t,p,mol), 'J/bar-m^3')\n",
    "        printResult('d5Gdn3dT2', pseudo_soln.cy_PseudoPhase_pseudo_soln_calib_d5gdn3dt2(t,p,mol), 'J/K^2-m^3')\n",
    "        printResult('d5Gdn3dTdP', pseudo_soln.cy_PseudoPhase_pseudo_soln_calib_d5gdn3dtdp(t,p,mol), 'J/K-bar-m^3')\n",
    "        printResult('d5Gdn3dP2', pseudo_soln.cy_PseudoPhase_pseudo_soln_calib_d5gdn3dp2(t,p,mol), 'J/bar^2-m^3')\n",
    "        printResult('d6Gdn3dT3', pseudo_soln.cy_PseudoPhase_pseudo_soln_calib_d6gdn3dt3(t,p,mol), 'J/K^3-m^3')\n",
    "        printResult('d6Gdn3dT2dP', pseudo_soln.cy_PseudoPhase_pseudo_soln_calib_d6gdn3dt2dp(t,p,mol), 'J/K^2-bar-m^3')\n",
    "        printResult('d6Gdn3dTdP2', pseudo_soln.cy_PseudoPhase_pseudo_soln_calib_d6gdn3dtdp2(t,p,mol), 'J/K-bar^2-m^3')\n",
    "        printResult('d6Gdn3dP3', pseudo_soln.cy_PseudoPhase_pseudo_soln_calib_d6gdn3dp3(t,p,mol), 'J/bar^3-m^3')\n",
    "    except AttributeError:\n",
    "        pass"
   ]
  },
  {
   "cell_type": "markdown",
   "metadata": {},
   "source": [
    "## Import model for the pseudo-phase into the ThermoEngine package"
   ]
  },
  {
   "cell_type": "code",
   "execution_count": null,
   "metadata": {},
   "outputs": [],
   "source": [
    "#%cd working\n",
    "#import pseudo_soln\n",
    "#%cd ..\n",
    "modelPseudo = model.Database(database=\"CoderModule\", calib=\"calib\", \n",
    "                         phase_tuple=('pseudo_soln', {'Psu':['PseudoPhase','solution']}))\n",
    "Pseudo = modelPseudo.get_phase('Psu')\n",
    "\n",
    "for phase_name, abbrv in zip(modelPseudo.phase_info.phase_name,modelPseudo.phase_info.abbrev):\n",
    "    print ('Abbreviation: {0:<10s} Name: {1:<30s}'.format(abbrv, phase_name))"
   ]
  },
  {
   "cell_type": "markdown",
   "metadata": {},
   "source": [
    "Check pseudo-phase import by printning some phase characteristics"
   ]
  },
  {
   "cell_type": "code",
   "execution_count": null,
   "metadata": {},
   "outputs": [],
   "source": [
    "print (Pseudo.props['phase_name'])\n",
    "print (Pseudo.props['formula'])\n",
    "print (Pseudo.props['molwt'])\n",
    "print (Pseudo.props['abbrev'])\n",
    "print (Pseudo.props['endmember_num'])\n",
    "print (Pseudo.props['endmember_name'])"
   ]
  },
  {
   "cell_type": "markdown",
   "metadata": {},
   "source": [
    "## Try the equiibrium calculations with the omnicomponent pseudo-phase\n",
    "#### Choose a phase assemblage"
   ]
  },
  {
   "cell_type": "code",
   "execution_count": null,
   "metadata": {},
   "outputs": [],
   "source": [
    "#stix_phases.keys()\n",
    "phs_sys  = [Pseudo]\n",
    "phs_sys += [stix_phases['Fsp'], stix_phases['Ol'], stix_phases['Cpx'], stix_phases['Grt']] # solutiopns,\n",
    "phs_sys += [stix_phases['Qz'], stix_phases['Ky'], stix_phases['Nph']]\n",
    "#\n",
    "#phs_sys  = [Pseudo, stix_phases['Opx']]"
   ]
  },
  {
   "cell_type": "code",
   "execution_count": null,
   "metadata": {},
   "outputs": [],
   "source": [
    "equil = equilibrate.Equilibrate(['O','Na','Mg','Al','Si','Ca','Fe'], phs_sys)"
   ]
  },
  {
   "cell_type": "markdown",
   "metadata": {},
   "source": [
    "#### Set the bulk composition of the system\n",
    "Input is a bulk peridotite suggested by Stixrude and Lithgow-Bertelloni"
   ]
  },
  {
   "cell_type": "code",
   "execution_count": null,
   "metadata": {},
   "outputs": [],
   "source": [
    "grm_oxides = {\n",
    "    'SiO2':  45.47, \n",
    "    'Al2O3':  4.0, \n",
    "    'FeO':    7.22, \n",
    "    'MgO':   38.53, \n",
    "    'CaO':    3.59, \n",
    "    'Na2O':   0.31\n",
    "}\n",
    "blk_cmp = np.zeros(7)\n",
    "mol_oxides = core.chem.format_mol_oxide_comp(grm_oxides, convert_grams_to_moles=True)\n",
    "blk_cmp[0] = 2.0*mol_oxides[0] + 3.0*mol_oxides[2] + mol_oxides[5] + mol_oxides[7] + mol_oxides[10] + mol_oxides[11] # oxygen\n",
    "blk_cmp[1] = 2.0*mol_oxides[11] # sodium\n",
    "blk_cmp[2] = mol_oxides[7]      # magnesium\n",
    "blk_cmp[3] = 2.0*mol_oxides[2]  # aluminum\n",
    "blk_cmp[4] = mol_oxides[0]      # silicon\n",
    "blk_cmp[5] = mol_oxides[10]     # calcium\n",
    "blk_cmp[6] = mol_oxides[5]      # iron"
   ]
  },
  {
   "cell_type": "code",
   "execution_count": null,
   "metadata": {},
   "outputs": [],
   "source": [
    "state = equil.execute(t, p, bulk_comp=blk_cmp, debug=0)\n",
    "state.print_state()"
   ]
  },
  {
   "cell_type": "code",
   "execution_count": null,
   "metadata": {},
   "outputs": [],
   "source": []
  }
 ],
 "metadata": {
  "anaconda-cloud": {},
  "kernelspec": {
   "display_name": "Python 3",
   "language": "python",
   "name": "python3"
  },
  "language_info": {
   "codemirror_mode": {
    "name": "ipython",
    "version": 3
   },
   "file_extension": ".py",
   "mimetype": "text/x-python",
   "name": "python",
   "nbconvert_exporter": "python",
   "pygments_lexer": "ipython3",
   "version": "3.6.2"
  }
 },
 "nbformat": 4,
 "nbformat_minor": 2
}
