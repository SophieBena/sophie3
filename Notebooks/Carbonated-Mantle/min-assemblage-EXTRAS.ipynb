{
 "cells": [
  {
   "cell_type": "code",
   "execution_count": null,
   "metadata": {},
   "outputs": [],
   "source": []
  },
  {
   "cell_type": "code",
   "execution_count": null,
   "metadata": {},
   "outputs": [],
   "source": []
  },
  {
   "cell_type": "markdown",
   "metadata": {},
   "source": [
    "# Choose random comp that is valid at T/P conditions"
   ]
  },
  {
   "cell_type": "code",
   "execution_count": null,
   "metadata": {},
   "outputs": [],
   "source": [
    "phase_names = np.array(list(phase_comps.keys()))\n",
    "phase_names\n",
    "comp_phase_avg = np.zeros((len(phase_names), len(sys_elems)))\n",
    "\n",
    "for ind, iphs_nm in enumerate(phase_names):\n",
    "    imask = phs_sym==iphs_nm\n",
    "    icomp = comp_endmem[imask,:]\n",
    "    icomp_avg = np.mean(icomp, axis=0)\n",
    "    comp_phase_avg[ind] = icomp_avg\n",
    "    \n",
    "    \n",
    "    \n"
   ]
  },
  {
   "cell_type": "code",
   "execution_count": null,
   "metadata": {},
   "outputs": [],
   "source": [
    "num_phs_remove = 0"
   ]
  },
  {
   "cell_type": "code",
   "execution_count": null,
   "metadata": {},
   "outputs": [],
   "source": [
    "\n",
    "rank = np.linalg.matrix_rank(comp_endmem)"
   ]
  },
  {
   "cell_type": "code",
   "execution_count": null,
   "metadata": {},
   "outputs": [],
   "source": [
    "# comp_avg = \n",
    "comp_avg = np.mean(comp_phase_avg, axis=0)\n",
    "comp_avg"
   ]
  },
  {
   "cell_type": "code",
   "execution_count": null,
   "metadata": {},
   "outputs": [],
   "source": [
    "output = np.linalg.lstsq(comp_endmem, mu_endmem, rcond=None)\n",
    "chempot_avg = output[0]\n",
    "chempot_avg"
   ]
  },
  {
   "cell_type": "code",
   "execution_count": null,
   "metadata": {},
   "outputs": [],
   "source": []
  },
  {
   "cell_type": "code",
   "execution_count": null,
   "metadata": {},
   "outputs": [],
   "source": [
    "chempot_avg"
   ]
  },
  {
   "cell_type": "code",
   "execution_count": null,
   "metadata": {},
   "outputs": [],
   "source": [
    "mu_soln, dmudn_soln, comp_soln, X, A, natom, phase_names =  (\n",
    "    phase_affinity(chempot_avg, phases, phase_comps,T, P))\n",
    "\n",
    "Aff_soln_a = np.array(list(A.values()))\n",
    "comp_soln_a = np.array(list(comp_soln.values()))\n",
    "comp_soln_a.shape\n"
   ]
  },
  {
   "cell_type": "code",
   "execution_count": null,
   "metadata": {},
   "outputs": [],
   "source": [
    "# phase_names"
   ]
  },
  {
   "cell_type": "code",
   "execution_count": null,
   "metadata": {},
   "outputs": [],
   "source": [
    "# phs_sym"
   ]
  },
  {
   "cell_type": "code",
   "execution_count": null,
   "metadata": {},
   "outputs": [],
   "source": [
    "inds = np.argsort(Aff_soln_a)\n",
    "print(phase_names[inds][:rank])\n",
    "print(Aff_soln_a[inds][:rank])\n",
    "print(phase_names[inds][rank:])\n",
    "print(Aff_soln_a[inds][rank:])\n",
    "\n",
    "A_thresh = +100\n",
    "Aff_s = Aff_soln_a[inds]\n",
    "# mask = Aff_s<A_thresh\n",
    "# mask = Aff_s<100\n",
    "\n",
    "# print(Aff_s[mask])\n",
    "# stable_phase_names = phase_names[inds][mask]\n",
    "# print(stable_phase_names)\n",
    "\n",
    "\n",
    "mask = Aff_soln_a < A_thresh\n",
    "mask = Aff_soln_a < -9000\n",
    "\n",
    "# print(Aff_s[mask])\n",
    "stable_phase_names = phase_names[mask]\n",
    "print(stable_phase_names)\n"
   ]
  },
  {
   "cell_type": "code",
   "execution_count": null,
   "metadata": {},
   "outputs": [],
   "source": [
    "num_phs_remove += 1\n",
    "ind_phs_include = inds[:-num_phs_remove]"
   ]
  },
  {
   "cell_type": "code",
   "execution_count": null,
   "metadata": {},
   "outputs": [],
   "source": [
    "# ind_phs_include"
   ]
  },
  {
   "cell_type": "code",
   "execution_count": null,
   "metadata": {},
   "outputs": [],
   "source": [
    "print(num_phs_remove)\n",
    "print(Aff_soln_a[ind_phs_include])\n",
    "comp_soln_a[ind_phs_include,:]\n",
    "\n",
    "# comp_avg = np.mean(comp_soln_a[ind_phs_include,:], axis=0)\n",
    "comp_avg = np.mean(comp_phase_avg[ind_phs_include,:], axis=0)\n",
    "\n",
    "output = np.linalg.lstsq(comp_soln_a[ind_phs_include,:], \n",
    "                         Aff_soln_a[ind_phs_include], rcond=None)\n",
    "dchempot_avg = output[0]\n",
    "print(dchempot_avg)\n",
    "chempot_avg += dchempot_avg\n"
   ]
  },
  {
   "cell_type": "code",
   "execution_count": null,
   "metadata": {},
   "outputs": [],
   "source": []
  },
  {
   "cell_type": "code",
   "execution_count": null,
   "metadata": {},
   "outputs": [],
   "source": []
  },
  {
   "cell_type": "code",
   "execution_count": null,
   "metadata": {},
   "outputs": [],
   "source": []
  },
  {
   "cell_type": "code",
   "execution_count": null,
   "metadata": {},
   "outputs": [],
   "source": []
  },
  {
   "cell_type": "code",
   "execution_count": null,
   "metadata": {},
   "outputs": [],
   "source": [
    "comp_avg = np.mean(comp_soln_a[mask,:], axis=0)\n",
    "print(comp_avg)\n",
    "\n",
    "output = np.linalg.lstsq(comp_soln_a[mask,:], Aff_soln_a[mask], rcond=None)\n",
    "dchempot_avg = output[0]\n",
    "print(dchempot_avg)\n",
    "chempot_avg += dchempot_avg"
   ]
  },
  {
   "cell_type": "code",
   "execution_count": null,
   "metadata": {},
   "outputs": [],
   "source": [
    "\n",
    "# mask = np.sum([phs_sym==iphs for iphs in stable_phase_names],axis=0)>0\n",
    "# print(phs_sym[mask])\n",
    "# comp_avg = np.mean(comp_endmem[mask,:], axis=0)\n",
    "# \n",
    "# output = np.linalg.lstsq(comp_endmem[mask,:], mu_endmem[mask], rcond=None)\n",
    "# chempot_avg = output[0]\n",
    "# print(chempot_avg)"
   ]
  },
  {
   "cell_type": "code",
   "execution_count": null,
   "metadata": {},
   "outputs": [],
   "source": []
  },
  {
   "cell_type": "code",
   "execution_count": null,
   "metadata": {},
   "outputs": [],
   "source": []
  },
  {
   "cell_type": "code",
   "execution_count": null,
   "metadata": {},
   "outputs": [],
   "source": []
  },
  {
   "cell_type": "code",
   "execution_count": null,
   "metadata": {},
   "outputs": [],
   "source": []
  },
  {
   "cell_type": "code",
   "execution_count": null,
   "metadata": {},
   "outputs": [],
   "source": [
    "# np.array([0.59531019, 0.01197101, 0.07431611, 0.08530512, 0.15395332,\n",
    "#        0.01759411, 0.06155015])"
   ]
  },
  {
   "cell_type": "code",
   "execution_count": null,
   "metadata": {},
   "outputs": [],
   "source": []
  },
  {
   "cell_type": "code",
   "execution_count": null,
   "metadata": {},
   "outputs": [],
   "source": []
  },
  {
   "cell_type": "code",
   "execution_count": null,
   "metadata": {},
   "outputs": [],
   "source": [
    "\n",
    "\n",
    "# nelem=nelem0\n",
    "# wt_assem = wt_assem0.copy()\n",
    "# mu_elem = approx_mu_phases(nelem)\n",
    "# mu_phs_elems = approx_mu_phases(wt_assem)\n",
    "# mu_elem = approx_mu_phases(nelem0)"
   ]
  },
  {
   "cell_type": "code",
   "execution_count": null,
   "metadata": {},
   "outputs": [],
   "source": []
  },
  {
   "cell_type": "code",
   "execution_count": null,
   "metadata": {},
   "outputs": [],
   "source": []
  },
  {
   "cell_type": "code",
   "execution_count": null,
   "metadata": {},
   "outputs": [],
   "source": []
  },
  {
   "cell_type": "code",
   "execution_count": null,
   "metadata": {},
   "outputs": [],
   "source": []
  },
  {
   "cell_type": "code",
   "execution_count": null,
   "metadata": {},
   "outputs": [],
   "source": [
    "def build_quad_model(mu_soln0, dmudn_soln0, X0, natom):\n",
    "    mu_soln0_all = np.zeros(mu.size)\n",
    "    dmudn_soln0_all = np.zeros((mu.size,mu.size))\n",
    "    X0_all = np.zeros(mu.size)\n",
    "    natom_all = np.zeros(mu.size)\n",
    "    \n",
    "    ind=0\n",
    "    for iphs_nm in mu_soln0:\n",
    "        imu_soln0 = mu_soln0[iphs_nm]\n",
    "        idmudn_soln0 = dmudn_soln0[iphs_nm]\n",
    "        iX0 = X0[iphs_nm]\n",
    "        inatom = natom[iphs_nm]\n",
    "        iendmem = imu_soln0.size\n",
    "        natom_all[ind:ind+iendmem] = inatom\n",
    "        mu_soln0_all[ind:ind+iendmem] = imu_soln0\n",
    "        dmudn_soln0_all[ind:ind+iendmem,ind:ind+iendmem] = idmudn_soln0\n",
    "        X0_all[ind:ind+iendmem] = iX0\n",
    "        \n",
    "        ind += iendmem\n",
    "        # print(mu_soln_all)\n",
    "        \n",
    "        \n",
    "    # mu_soln_all\n",
    "    # dmudn_soln_all\n",
    "    # natom_all\n",
    "    \n",
    "    natom_pair_all = np.dot(natom_all[:,np.newaxis],natom_all[np.newaxis,:])\n",
    "    nelem0 = X0_all\n",
    "    mu_elem0 = mu_soln0_all/natom_all\n",
    "    dmudn_elem0 = dmudn_soln0_all/natom_pair_all\n",
    "    \n",
    "    return mu_elem0, nelem0, dmudn_elem0\n",
    "    \n",
    "\n",
    "def approx_mu_phases(wt_assem, mu_elem0, nelem0, dmudn_elem0):\n",
    "    dnelem = wt_assem-nelem0\n",
    "    dmu = np.dot(dmudn_elem0, dnelem)\n",
    "    # print(dmu/1e3)\n",
    "    mu_phs_elems = mu_elem0 + dmu\n",
    "    return mu_phs_elems"
   ]
  },
  {
   "cell_type": "code",
   "execution_count": null,
   "metadata": {},
   "outputs": [],
   "source": []
  },
  {
   "cell_type": "code",
   "execution_count": null,
   "metadata": {},
   "outputs": [],
   "source": []
  },
  {
   "cell_type": "code",
   "execution_count": null,
   "metadata": {},
   "outputs": [],
   "source": [
    "wt_assem"
   ]
  },
  {
   "cell_type": "code",
   "execution_count": null,
   "metadata": {},
   "outputs": [],
   "source": []
  },
  {
   "cell_type": "code",
   "execution_count": null,
   "metadata": {},
   "outputs": [],
   "source": [
    "dchempot_assem"
   ]
  },
  {
   "cell_type": "code",
   "execution_count": null,
   "metadata": {},
   "outputs": [],
   "source": [
    "# optimize.nnls(comp_soln_a[inds][Aff_s<100].T, bulk_comp)\n",
    "# np.linalg.lstsq(comp_soln_a[inds][Aff_s<100].T, bulk_comp)\n",
    "\n",
    "optimize.nnls(comp_curr.T, bulk_comp)\n",
    "# np.linalg.lstsq(comp_soln_a[inds][Aff_s<100].T, bulk_comp)\n",
    "\n",
    "# np.linalg.lstsq?"
   ]
  },
  {
   "cell_type": "code",
   "execution_count": null,
   "metadata": {},
   "outputs": [],
   "source": [
    "nstable = np.sum(Aff_s<100)\n",
    "if nstable > rank:\n",
    "    phs_assem0 = phase_names[inds][:nstable]\n",
    "else:\n",
    "    phs_assem0 = phase_names[inds][:rank+1]\n",
    "\n",
    "# mask = np.sum([phs_sym==iphs for iphs in phs_assem0],axis=0)>0\n",
    "mask = np.sum([phase_names==iphs for iphs in phs_assem0],axis=0)>0"
   ]
  },
  {
   "cell_type": "code",
   "execution_count": null,
   "metadata": {},
   "outputs": [],
   "source": [
    "phs_assem0"
   ]
  },
  {
   "cell_type": "code",
   "execution_count": null,
   "metadata": {},
   "outputs": [],
   "source": [
    "\n",
    "# output = np.linalg.lstsq(comp_endmem[mask,:], mu_endmem[mask], rcond=None)\n",
    "output = np.linalg.lstsq(comp_soln_a[mask,:], Aff_soln_a[mask], rcond=None)\n",
    "dchempot_init = output[0]\n",
    "print(dchempot_init)"
   ]
  },
  {
   "cell_type": "code",
   "execution_count": null,
   "metadata": {},
   "outputs": [],
   "source": [
    "chempot_init += dchempot_init"
   ]
  },
  {
   "cell_type": "code",
   "execution_count": null,
   "metadata": {},
   "outputs": [],
   "source": []
  },
  {
   "cell_type": "code",
   "execution_count": null,
   "metadata": {},
   "outputs": [],
   "source": [
    "chempot_assem0 = chempot_init.copy()"
   ]
  },
  {
   "cell_type": "code",
   "execution_count": null,
   "metadata": {},
   "outputs": [],
   "source": [
    "chempot_assem0"
   ]
  },
  {
   "cell_type": "code",
   "execution_count": null,
   "metadata": {},
   "outputs": [],
   "source": []
  },
  {
   "cell_type": "code",
   "execution_count": null,
   "metadata": {},
   "outputs": [],
   "source": []
  },
  {
   "cell_type": "markdown",
   "metadata": {},
   "source": [
    "# All very old code"
   ]
  },
  {
   "cell_type": "code",
   "execution_count": null,
   "metadata": {},
   "outputs": [],
   "source": []
  },
  {
   "cell_type": "code",
   "execution_count": null,
   "metadata": {},
   "outputs": [],
   "source": [
    "\n",
    "chempot_assem0, Gtot0, wt_assem0, rnorm_assem = find_min_assemblage(\n",
    "    bulk_comp, comp_endmem, mu_endmem, chempot=chempot_init)"
   ]
  },
  {
   "cell_type": "code",
   "execution_count": null,
   "metadata": {},
   "outputs": [],
   "source": [
    "\n",
    "# chempot_assem0, mu_assem0, rnorm_assem, wt_assem0 =  min_assemblage(\n",
    "#     bulk_comp, comp, mu, chempot=None)\n",
    "\n",
    "chempot_assem = chempot_assem0\n",
    "\n",
    "mu_soln0, dmudn_soln0, comp_soln0, X0, A0, natom,phase_names =  phase_affinity(\n",
    "        chempot_assem0, phases, phase_comps,T, P)\n",
    "\n",
    "\n",
    "# print(chempot_assem/1e3)"
   ]
  },
  {
   "cell_type": "code",
   "execution_count": null,
   "metadata": {},
   "outputs": [],
   "source": [
    "phs_sym[wt_assem0>0]"
   ]
  },
  {
   "cell_type": "code",
   "execution_count": null,
   "metadata": {},
   "outputs": [],
   "source": [
    "Aff_soln0_a = np.array(list(A0.values()))\n",
    "comp_soln0_a = np.array(list(comp_soln0.values()))\n",
    "comp_soln0_a.shape\n",
    "\n",
    "comp_soln_a = comp_soln0_a.copy()\n",
    "Aff_soln_a = Aff_soln0_a.copy()"
   ]
  },
  {
   "cell_type": "code",
   "execution_count": null,
   "metadata": {},
   "outputs": [],
   "source": [
    "inds = np.argsort(Aff_soln_a)\n",
    "print(phase_names[inds][:rank])\n",
    "print(Aff_soln_a[inds][:rank])\n",
    "print(phase_names[inds][rank:])\n",
    "print(Aff_soln_a[inds][rank:])"
   ]
  },
  {
   "cell_type": "code",
   "execution_count": null,
   "metadata": {},
   "outputs": [],
   "source": []
  },
  {
   "cell_type": "code",
   "execution_count": null,
   "metadata": {},
   "outputs": [],
   "source": [
    "# dchempot_assem, mu_assem, rnorm_assem, wt_assem =  min_assemblage(\n",
    "#     bulk_comp, comp_soln0_a, Aff_soln0_a, chempot=0, mu_shft=-800)\n",
    "\n",
    "\n",
    "dchempot_assem, Gtot, wt_assem, rnorm_assem = find_min_assemblage(\n",
    "    bulk_comp, comp_soln_a, Aff_soln_a, chempot=0)\n",
    "dchempot_assem"
   ]
  },
  {
   "cell_type": "code",
   "execution_count": null,
   "metadata": {},
   "outputs": [],
   "source": [
    "print(dchempot_assem)\n",
    "print(Gtot)\n",
    "print(rnorm_assem)\n",
    "print(phase_names[wt_assem>0])"
   ]
  },
  {
   "cell_type": "code",
   "execution_count": null,
   "metadata": {},
   "outputs": [],
   "source": [
    "np.sum(comp_soln_a,axis=1)\n",
    "optimize.nnls(comp_soln_a.T, bulk_comp)"
   ]
  },
  {
   "cell_type": "code",
   "execution_count": null,
   "metadata": {},
   "outputs": [],
   "source": [
    "chempot_next, mu_next, rnorm_next, mu_scl_next, wt_next = min_assemblage_samp(\n",
    "    bulk_comp, comp_soln_a, Aff_soln_a, chempot=0, sample=True)\n",
    "\n",
    "\n",
    "\n",
    "plt.figure()\n",
    "plt.plot(mu_next, rnorm_next,'-');\n",
    "plt.ylim(-.01,.3)\n",
    "\n",
    "plt.figure()\n",
    "plt.plot(mu_next, wt_next,'-');"
   ]
  },
  {
   "cell_type": "code",
   "execution_count": null,
   "metadata": {},
   "outputs": [],
   "source": [
    "chempot_assem += dchempot_assem"
   ]
  },
  {
   "cell_type": "code",
   "execution_count": null,
   "metadata": {},
   "outputs": [],
   "source": [
    "mu_soln, dmudn_soln, comp_soln, X, A, natom,phase_names =  phase_affinity(\n",
    "        chempot_assem, phases, phase_comps,T, P)"
   ]
  },
  {
   "cell_type": "code",
   "execution_count": null,
   "metadata": {},
   "outputs": [],
   "source": [
    "Aff_soln_a = np.array(list(A.values()))\n",
    "comp_soln_a = np.array(list(comp_soln.values()))\n",
    "comp_soln_a.shape\n",
    "\n",
    "np.sort(Aff_soln_a)"
   ]
  },
  {
   "cell_type": "code",
   "execution_count": null,
   "metadata": {},
   "outputs": [],
   "source": [
    "inds = np.argsort(Aff_soln_a)\n",
    "print(phase_names[inds][:rank])\n",
    "print(Aff_soln_a[inds][:rank])\n",
    "print(phase_names[inds][rank:])\n",
    "print(Aff_soln_a[inds][rank:])\n",
    "\n",
    "Aff_s = Aff_soln_a[inds]\n",
    "print(Aff_s[Aff_s<100])\n",
    "print(phase_names[inds][Aff_s<100])"
   ]
  },
  {
   "cell_type": "code",
   "execution_count": null,
   "metadata": {},
   "outputs": [],
   "source": []
  },
  {
   "cell_type": "code",
   "execution_count": null,
   "metadata": {},
   "outputs": [],
   "source": []
  },
  {
   "cell_type": "code",
   "execution_count": null,
   "metadata": {},
   "outputs": [],
   "source": [
    "# NEED TO refine once more to get answer to within 1 J (rather than 30 J)"
   ]
  },
  {
   "cell_type": "code",
   "execution_count": null,
   "metadata": {},
   "outputs": [],
   "source": [
    "wt_assem\n",
    "rnorm_assem\n",
    "chempot_assem,\n"
   ]
  },
  {
   "cell_type": "code",
   "execution_count": null,
   "metadata": {},
   "outputs": [],
   "source": [
    "Aff_soln0_a\n",
    "inds = np.argsort(Aff_soln0_a)\n",
    "\n",
    "phs_assem = np.array(phase_names)[inds][:rank]\n",
    "phs_assem"
   ]
  },
  {
   "cell_type": "code",
   "execution_count": null,
   "metadata": {},
   "outputs": [],
   "source": [
    "# np.sum(comp_soln0_a,axis=1)\n",
    "\n",
    "comp_soln_assem = comp_soln0_a[inds[:rank]]\n",
    "Aff_soln_assem = Aff_soln0_a[inds[:rank]]\n",
    "\n",
    "Aff_soln_assem"
   ]
  },
  {
   "cell_type": "code",
   "execution_count": null,
   "metadata": {},
   "outputs": [],
   "source": []
  },
  {
   "cell_type": "code",
   "execution_count": null,
   "metadata": {},
   "outputs": [],
   "source": [
    "optimize.nnls(comp_soln_assem.T, bulk_comp)"
   ]
  },
  {
   "cell_type": "code",
   "execution_count": null,
   "metadata": {},
   "outputs": [],
   "source": [
    "output_comp = np.linalg.lstsq(comp_soln_assem.T, bulk_comp, rcond=None)\n",
    "\n",
    "\n",
    "wt_comp = output_comp[0]\n",
    "print(wt_comp)\n",
    "output_dchempot = np.linalg.lstsq(comp_soln_assem, Aff_soln_assem, rcond=None)\n",
    "dchempot = output_dchempot[0]\n",
    "print(dchempot/1e3)"
   ]
  },
  {
   "cell_type": "code",
   "execution_count": null,
   "metadata": {},
   "outputs": [],
   "source": [
    "np.dot(comp_soln_assem, dchempot)-Aff_soln_assem"
   ]
  },
  {
   "cell_type": "code",
   "execution_count": null,
   "metadata": {},
   "outputs": [],
   "source": [
    "chempot_assem = chempot_assem+0.5*dchempot"
   ]
  },
  {
   "cell_type": "code",
   "execution_count": null,
   "metadata": {},
   "outputs": [],
   "source": [
    "mu_soln, dmudn_soln, comp_soln, X, A, natom,phase_names =  phase_affinity(\n",
    "        chempot_assem, phases, phase_comps,T, P)"
   ]
  },
  {
   "cell_type": "code",
   "execution_count": null,
   "metadata": {},
   "outputs": [],
   "source": [
    "for ind in inds:\n",
    "    iphs = phase_names[ind]\n",
    "    print(iphs)\n",
    "    print(A0[iphs])\n",
    "    print(A[iphs])\n",
    "    print('---')"
   ]
  },
  {
   "cell_type": "code",
   "execution_count": null,
   "metadata": {},
   "outputs": [],
   "source": [
    "for iphs in phs_assem:\n",
    "    print(iphs)\n",
    "    print(X0[iphs])\n",
    "    print(X[iphs])\n",
    "    print('---')"
   ]
  },
  {
   "cell_type": "code",
   "execution_count": null,
   "metadata": {},
   "outputs": [],
   "source": []
  },
  {
   "cell_type": "code",
   "execution_count": null,
   "metadata": {},
   "outputs": [],
   "source": [
    "Aff_soln_a = np.array(list(A.values()))\n",
    "comp_soln_a = np.array(list(comp_soln.values()))\n",
    "\n",
    "print(Aff_soln_a/1e3)\n",
    "inds = np.argsort(Aff_soln_a)\n",
    "\n",
    "phs_assem = np.array(phase_names)[inds][:rank]\n",
    "\n",
    "phs_assem"
   ]
  },
  {
   "cell_type": "code",
   "execution_count": null,
   "metadata": {},
   "outputs": [],
   "source": [
    "# np.sum(comp_soln0_a,axis=1)\n",
    "\n",
    "shft = 1\n",
    "comp_soln_assem = comp_soln_a[inds[:rank+shft]]\n",
    "Aff_soln_assem = Aff_soln_a[inds[:rank+shft]]\n",
    "\n",
    "Aff_soln_assem"
   ]
  },
  {
   "cell_type": "code",
   "execution_count": null,
   "metadata": {},
   "outputs": [],
   "source": []
  },
  {
   "cell_type": "code",
   "execution_count": null,
   "metadata": {},
   "outputs": [],
   "source": []
  },
  {
   "cell_type": "code",
   "execution_count": null,
   "metadata": {},
   "outputs": [],
   "source": []
  },
  {
   "cell_type": "code",
   "execution_count": null,
   "metadata": {},
   "outputs": [],
   "source": []
  },
  {
   "cell_type": "code",
   "execution_count": null,
   "metadata": {},
   "outputs": [],
   "source": []
  },
  {
   "cell_type": "code",
   "execution_count": null,
   "metadata": {},
   "outputs": [],
   "source": [
    "\n",
    "chempot_assem0, mu_assem0, rnorm_assem, wt_assem0 =  min_assemblage(\n",
    "    bulk_comp, comp, mu, chempot=None)\n",
    "chempot_assem = chempot_assem0\n",
    "\n",
    "mu_soln0, dmudn_soln0, comp_soln0, X0, A0, natom,phase_names =  phase_affinity(\n",
    "        chempot_assem0, phases, phase_comps,T, P)\n",
    "\n",
    "Avals = [A0[iphs] for iphs in A0]\n",
    "\n",
    "# print(chempot_assem/1e3)"
   ]
  },
  {
   "cell_type": "code",
   "execution_count": null,
   "metadata": {},
   "outputs": [],
   "source": []
  },
  {
   "cell_type": "code",
   "execution_count": null,
   "metadata": {},
   "outputs": [],
   "source": [
    "mu_elem0, nelem0, dmudn_elem0 = build_quad_model(\n",
    "    mu_soln0, dmudn_soln0, X0, natom)\n",
    "\n",
    "wt_assem = wt_assem0.copy()\n",
    "mu_assem = mu_assem0\n",
    "wt_assem_prev = wt_assem.copy()"
   ]
  },
  {
   "cell_type": "code",
   "execution_count": null,
   "metadata": {},
   "outputs": [],
   "source": [
    "dwt_assem = 1e6\n",
    "TOL = 1e-10\n",
    "while np.any(np.abs(dwt_assem)>TOL):\n",
    "# for ind in range(20):\n",
    "    print('Gavg = ', mu_assem)\n",
    "    \n",
    "    mu_phs_elems = approx_mu_phases(wt_assem, mu_elem0, nelem0, dmudn_elem0)\n",
    "    chempot_assem, mu_assem, rnorm_assem, wt_assem =  min_assemblage(\n",
    "        bulk_comp, comp, mu_phs_elems, chempot=chempot_assem)\n",
    "    # print('Gavg = ', mu_assem)\n",
    "    dwt_assem = wt_assem-wt_assem_prev\n",
    "    # print(dwt_assem)\n",
    "    \n",
    "    wt_assem_prev = wt_assem.copy()\n",
    "    mask = wt_assem>TOL\n",
    "    # print(np.linalg.matrix_rank(comp[mask]))\n",
    "    # print(np.sum(mask))\n",
    "    \n",
    "    \n",
    "    mu_phs_elems = approx_mu_phases(wt_assem, mu_elem0, nelem0, dmudn_elem0)\n",
    "    chempot_assem, mu_assem, rnorm_assem, wt_assem =  min_assemblage(\n",
    "        bulk_comp, comp, mu_phs_elems, chempot=chempot_assem)\n",
    "    # print('Gavg = ', mu_assem)\n",
    "    # dwt_assem = wt_assem-wt_assem_prev\n",
    "    # print(dwt_assem)\n",
    "    \n",
    "    \n",
    "    mu_soln0, dmudn_soln0, comp_soln0, X0, A0, natom,phase_names =  phase_affinity(\n",
    "            chempot_assem, phases, phase_comps,T, P)\n",
    "    Avals = [A0[iphs] for iphs in A0]\n",
    "    # print(Avals)\n",
    "    # print('Aff = ', np.sort(Avals))\n",
    "    \n",
    "    mu_elem0, nelem0, dmudn_elem0 = build_quad_model(\n",
    "        mu_soln0, dmudn_soln0, X0, natom)\n",
    "    np.array(phs_sym)[wt_assem>0]"
   ]
  },
  {
   "cell_type": "code",
   "execution_count": null,
   "metadata": {},
   "outputs": [],
   "source": [
    "dwt_assem\n",
    "\n",
    "np.array(phs_sym)[wt_assem>0]"
   ]
  },
  {
   "cell_type": "code",
   "execution_count": null,
   "metadata": {},
   "outputs": [],
   "source": [
    "A0"
   ]
  },
  {
   "cell_type": "code",
   "execution_count": null,
   "metadata": {},
   "outputs": [],
   "source": [
    "np.array(phs_sym)[wt_assem>0]"
   ]
  },
  {
   "cell_type": "code",
   "execution_count": null,
   "metadata": {},
   "outputs": [],
   "source": [
    "np.unique(phs_sym)\n",
    "phs_ind = odict()\n",
    "for phs_nm in phases.keys():\n",
    "    ind = np.where(np.array(phs_sym)==phs_nm)[0]\n",
    "    phs_ind[phs_nm] = ind\n",
    "    \n",
    "phs_ind"
   ]
  },
  {
   "cell_type": "code",
   "execution_count": null,
   "metadata": {},
   "outputs": [],
   "source": []
  },
  {
   "cell_type": "code",
   "execution_count": null,
   "metadata": {},
   "outputs": [],
   "source": [
    "def eval_potential(wt_assem,phs_ind=phs_ind,phases=phases,natom=natom,\n",
    "                   bulk_comp=bulk_comp,elem_comps=elem_comps,T=T,P=P,\n",
    "                   comp_tol=1e-5,TOL=1e-6):\n",
    "    G = 0\n",
    "    \n",
    "    for iphs_nm, iphs in phases.items():\n",
    "        iphs_ind = phs_ind[iphs_nm]\n",
    "        inatom = natom[iphs_nm]\n",
    "        \n",
    "        iwt = wt_assem[iphs_ind]\n",
    "        \n",
    "        if np.any(iwt>TOL):\n",
    "            if len(iwt)==1:\n",
    "                iG = iwt/inatom*iphs.gibbs_energy(T, P)\n",
    "                \n",
    "            else:\n",
    "                iG = iphs.gibbs_energy(T, P, mol=iwt/inatom)\n",
    "                \n",
    "            G += iG\n",
    "            \n",
    "    \n",
    "    dcomp = np.dot(wt_assem,elem_comps)-bulk_comp\n",
    "    G+=np.sum((dcomp/comp_tol)**2)\n",
    "    \n",
    "    return G\n"
   ]
  },
  {
   "cell_type": "code",
   "execution_count": null,
   "metadata": {},
   "outputs": [],
   "source": [
    "eval_potential(wt_assem_prev)"
   ]
  },
  {
   "cell_type": "code",
   "execution_count": null,
   "metadata": {},
   "outputs": [],
   "source": []
  },
  {
   "cell_type": "code",
   "execution_count": null,
   "metadata": {},
   "outputs": [],
   "source": [
    "optimize.minimize?"
   ]
  },
  {
   "cell_type": "code",
   "execution_count": null,
   "metadata": {},
   "outputs": [],
   "source": [
    "optimize.minimize(eval_potential,wt_assem_prev)"
   ]
  },
  {
   "cell_type": "code",
   "execution_count": null,
   "metadata": {},
   "outputs": [],
   "source": []
  },
  {
   "cell_type": "code",
   "execution_count": null,
   "metadata": {},
   "outputs": [],
   "source": [
    "\n",
    "\n",
    "print('Gavg = ', mu_assem)\n",
    "\n",
    "for i in range (2):\n",
    "    mu_phs_elems = approx_mu_phases(wt_assem, mu_elem0, nelem0, dmudn_elem0)\n",
    "    \n",
    "    chempot_assem, mu_assem, rnorm_assem, wt_assem =  min_assemblage(\n",
    "        bulk_comp, comp, mu_phs_elems, chempot=chempot_assem)\n",
    "    \n",
    "    # print('rnorm = ', rnorm_assem)\n",
    "    print('Gavg = ', mu_assem)\n",
    "    # print('chempot = ', chempot_assem)\n",
    "    # print('wt = ', wt_assem)\n",
    "    # print('mu_phs_elems = ', mu_phs_elems)\n",
    "\n",
    "# mu_soln0, dmudn_soln0, X0, A0, natom,phase_names =  phase_affinity(\n",
    "#         chempot_assem, phases, phase_comps,T, P)\n",
    "\n",
    "\n",
    "mu_soln0, dmudn_soln0, X0, A0, natom,phase_names =  phase_affinity(\n",
    "        chempot_assem, phases, phase_comps,T, P)\n",
    "\n",
    "mu_elem0, nelem0, dmudn_elem0 = build_quad_model(\n",
    "    mu_soln0, dmudn_soln0, X0, natom)\n",
    "dwt_assem = wt_assem-wt_assem0\n",
    "print(dwt_assem)\n",
    "np.array(phs_sym)[wt_assem>0]"
   ]
  },
  {
   "cell_type": "code",
   "execution_count": null,
   "metadata": {},
   "outputs": [],
   "source": [
    "np.array(phs_sym)[wt_assem>0]"
   ]
  },
  {
   "cell_type": "code",
   "execution_count": null,
   "metadata": {},
   "outputs": [],
   "source": [
    "\n",
    "mu_phs_elems = approx_mu_phases(wt_assem, mu_elem0, nelem0, dmudn_elem0)"
   ]
  },
  {
   "cell_type": "code",
   "execution_count": null,
   "metadata": {},
   "outputs": [],
   "source": [
    "wt_assem"
   ]
  },
  {
   "cell_type": "code",
   "execution_count": null,
   "metadata": {},
   "outputs": [],
   "source": []
  },
  {
   "cell_type": "code",
   "execution_count": null,
   "metadata": {},
   "outputs": [],
   "source": []
  },
  {
   "cell_type": "code",
   "execution_count": null,
   "metadata": {},
   "outputs": [],
   "source": [
    "\n",
    "\n",
    "mu_phs_elems = approx_mu_phases(wt_assem, mu_elem0, nelem0, dmudn_elem0)\n",
    "print('Gavg = ', mu_assem)\n",
    "\n",
    "for i in range (1):\n",
    "    \n",
    "    chempot_assem, mu_assem, rnorm_assem, wt_assem =  min_assemblage(\n",
    "        bulk_comp, comp, mu_phs_elems, chempot=chempot_assem)\n",
    "    \n",
    "    mu_phs_elems = approx_mu_phases(wt_assem, mu_elem0, nelem0, dmudn_elem0)\n",
    "    \n",
    "    # print('rnorm = ', rnorm_assem)\n",
    "    print('Gavg = ', mu_assem)\n",
    "    # print('chempot = ', chempot_assem)\n",
    "    # print('wt = ', wt_assem)\n",
    "    # print('mu_phs_elems = ', mu_phs_elems)\n",
    "\n",
    "# mu_soln0, dmudn_soln0, X0, A0, natom,phase_names =  phase_affinity(\n",
    "#         chempot_assem, phases, phase_comps,T, P)\n",
    "\n",
    "\n",
    "mu_soln0, dmudn_soln0, X0, A0, natom,phase_names =  phase_affinity(\n",
    "        chempot_assem, phases, phase_comps,T, P)\n",
    "\n",
    "mu_elem0, nelem0, dmudn_elem0 = build_quad_model(\n",
    "    mu_soln0, dmudn_soln0, X0, natom)"
   ]
  },
  {
   "cell_type": "code",
   "execution_count": null,
   "metadata": {},
   "outputs": [],
   "source": []
  },
  {
   "cell_type": "code",
   "execution_count": null,
   "metadata": {},
   "outputs": [],
   "source": [
    "# 20 times range(2) alt\n",
    "Gavg =  -151832.49004587045\n",
    "Gavg =  -151987.94798739138\n",
    "Gavg =  -151968.70375445113"
   ]
  },
  {
   "cell_type": "code",
   "execution_count": null,
   "metadata": {},
   "outputs": [],
   "source": [
    "# 20 times range(2)\n",
    "Gavg =  -151832.49004587045\n",
    "Gavg =  -151987.94798739138\n",
    "Gavg =  -151968.70375445113"
   ]
  },
  {
   "cell_type": "code",
   "execution_count": null,
   "metadata": {},
   "outputs": [],
   "source": [
    "# 20 times range(1)\n",
    "Gavg =  -150713.06377762597\n",
    "Gavg =  -150688.93194539295"
   ]
  },
  {
   "cell_type": "code",
   "execution_count": null,
   "metadata": {},
   "outputs": [],
   "source": []
  },
  {
   "cell_type": "code",
   "execution_count": null,
   "metadata": {},
   "outputs": [],
   "source": [
    "Gavg =  -153198.2802497751\n",
    "Gavg =  -153354.77008352795\n",
    "Gavg =  -153335.09059467597"
   ]
  },
  {
   "cell_type": "code",
   "execution_count": null,
   "metadata": {},
   "outputs": [],
   "source": []
  },
  {
   "cell_type": "code",
   "execution_count": null,
   "metadata": {},
   "outputs": [],
   "source": [
    "\n",
    "chempot_assem0, mu_assem0, rnorm_assem, wt_assem0 =  min_assemblage(\n",
    "    bulk_comp, comp, mu, chempot=None)\n",
    "chempot_assem = chempot_assem0\n",
    "\n",
    "mu_soln0, dmudn_soln0, X0, A0, natom,phase_names =  phase_affinity(\n",
    "        chempot_assem0, phases, phase_comps,T, P)"
   ]
  },
  {
   "cell_type": "code",
   "execution_count": null,
   "metadata": {},
   "outputs": [],
   "source": [
    "mu_elem0, nelem0, dmudn_elem0 = build_quad_model(\n",
    "    mu_soln0, dmudn_soln0, X0, natom)"
   ]
  },
  {
   "cell_type": "code",
   "execution_count": null,
   "metadata": {},
   "outputs": [],
   "source": [
    "wt_assem = wt_assem0.copy()"
   ]
  },
  {
   "cell_type": "code",
   "execution_count": null,
   "metadata": {},
   "outputs": [],
   "source": [
    "mu_assem = mu_assem0"
   ]
  },
  {
   "cell_type": "code",
   "execution_count": null,
   "metadata": {},
   "outputs": [],
   "source": [
    "\n",
    "\n",
    "print('Gavg = ', mu_assem)\n",
    "\n",
    "for i in range (1):\n",
    "    mu_phs_elems = approx_mu_phases(wt_assem, mu_elem0, nelem0, dmudn_elem0)\n",
    "    \n",
    "    chempot_assem, mu_assem, rnorm_assem, wt_assem =  min_assemblage(\n",
    "        bulk_comp, comp, mu_phs_elems, chempot=chempot_assem)\n",
    "    \n",
    "    # print('rnorm = ', rnorm_assem)\n",
    "    print('Gavg = ', mu_assem)\n",
    "    # print('chempot = ', chempot_assem)\n",
    "    # print('wt = ', wt_assem)\n",
    "    # print('mu_phs_elems = ', mu_phs_elems)\n",
    "\n",
    "# mu_soln0, dmudn_soln0, X0, A0, natom,phase_names =  phase_affinity(\n",
    "#         chempot_assem, phases, phase_comps,T, P)"
   ]
  },
  {
   "cell_type": "code",
   "execution_count": null,
   "metadata": {},
   "outputs": [],
   "source": []
  },
  {
   "cell_type": "code",
   "execution_count": null,
   "metadata": {},
   "outputs": [],
   "source": [
    "mu_soln0, dmudn_soln0, X0, A0, natom,phase_names =  phase_affinity(\n",
    "        chempot_assem, phases, phase_comps,T, P)\n",
    "\n",
    "mu_elem0, nelem0, dmudn_elem0 = build_quad_model(\n",
    "    mu_soln0, dmudn_soln0, X0, natom)"
   ]
  },
  {
   "cell_type": "code",
   "execution_count": null,
   "metadata": {},
   "outputs": [],
   "source": []
  },
  {
   "cell_type": "code",
   "execution_count": null,
   "metadata": {},
   "outputs": [],
   "source": []
  },
  {
   "cell_type": "code",
   "execution_count": null,
   "metadata": {},
   "outputs": [],
   "source": [
    "Gavg =  -149715.44671521254\n",
    "Gavg =  -149675.45563429059\n",
    "Gavg =  -149712.38052668946\n",
    "Gavg =  -149675.45563429059"
   ]
  },
  {
   "cell_type": "code",
   "execution_count": null,
   "metadata": {},
   "outputs": [],
   "source": [
    "phase_comps"
   ]
  },
  {
   "cell_type": "code",
   "execution_count": null,
   "metadata": {},
   "outputs": [],
   "source": [
    "# dmudn_soln0"
   ]
  },
  {
   "cell_type": "code",
   "execution_count": null,
   "metadata": {},
   "outputs": [],
   "source": [
    "# natom_pair_all = np.tile(natom_all,(mu.size,1))\n",
    "# plt.figure()\n",
    "# plt.imshow(natom_pair_all)\n",
    "def eval_"
   ]
  },
  {
   "cell_type": "code",
   "execution_count": null,
   "metadata": {},
   "outputs": [],
   "source": []
  },
  {
   "cell_type": "code",
   "execution_count": null,
   "metadata": {},
   "outputs": [],
   "source": [
    "mu_soln0_scl = mu_soln0_all/natom_all\n",
    "dX_all = .0001*(2*np.random.rand(mu.size)-1)\n",
    "dmudn_soln0_scl = dmudn_soln0_all/natom_pair_all\n",
    "\n",
    "mu_soln_all = mu_soln0_scl +  dmu_all\n",
    "(mu_soln_all-mu)/1e3\n",
    "\n",
    "plt.figure()\n",
    "plt.plot((mu_soln0_scl-mu)/1e3,'ko')\n",
    "plt.plot((mu_soln0_all-mu)/1e3,'rx')"
   ]
  },
  {
   "cell_type": "code",
   "execution_count": null,
   "metadata": {},
   "outputs": [],
   "source": [
    "plt.figure()\n",
    "plt.imshow(dmudn_soln_all!=0)\n",
    "# plt.colorbar()"
   ]
  },
  {
   "cell_type": "code",
   "execution_count": null,
   "metadata": {},
   "outputs": [],
   "source": []
  },
  {
   "cell_type": "code",
   "execution_count": null,
   "metadata": {},
   "outputs": [],
   "source": [
    "U,S,Vh = np.linalg.svd(comp)\n",
    "U.shape\n",
    "plt.figure()\n",
    "plt.plot(S,'ko')\n",
    "\n",
    "# np.dot(U[6:],comp)\n",
    "Vh\n",
    "nsp = np.linalg.(comp)"
   ]
  },
  {
   "cell_type": "code",
   "execution_count": null,
   "metadata": {},
   "outputs": [],
   "source": [
    "\n",
    "TOL = 1e-13\n",
    "nnz = (S >= TOL).sum()\n",
    "nnz\n",
    "# ns = vh[nnz:].conj().T\n",
    "endmem_null = U[:,nnz:].conj().T\n",
    "\n",
    "# np.dot(ns,comp)\n",
    "\n",
    "wt = .01*(2*np.random.rand(endmem_null.shape[0])-1)\n",
    "# dX_all = np.dot(wt,endmem_null)\n",
    "# X0_all"
   ]
  },
  {
   "cell_type": "code",
   "execution_count": null,
   "metadata": {},
   "outputs": [],
   "source": []
  },
  {
   "cell_type": "code",
   "execution_count": null,
   "metadata": {},
   "outputs": [],
   "source": []
  },
  {
   "cell_type": "code",
   "execution_count": null,
   "metadata": {},
   "outputs": [],
   "source": [
    "\n",
    "dX_all = .01*(2*np.random.rand(mu.size)-1)\n",
    "dmu_all = np.dot(dmudn_soln0_scl,dX_all)/1e3\n",
    "plt.figure()\n",
    "plt.plot(dmu_all, 'ko')\n",
    "plt.plot(mu_soln0_scl/1e3, 'rx')"
   ]
  },
  {
   "cell_type": "code",
   "execution_count": null,
   "metadata": {},
   "outputs": [],
   "source": [
    "mu_soln0_scl/1e3"
   ]
  },
  {
   "cell_type": "code",
   "execution_count": null,
   "metadata": {},
   "outputs": [],
   "source": []
  },
  {
   "cell_type": "code",
   "execution_count": null,
   "metadata": {},
   "outputs": [],
   "source": [
    "for ind in range(20):\n",
    "    mu_soln, A, X, phase_names =  phase_affinity(\n",
    "        chempot_assem, phases, phase_comps,T, P)\n",
    "    \n",
    "    chempot_assem, mu_assem, rnorm_assem, wt_assem_new =  min_assemblage(\n",
    "        bulk_comp, comp, mu_soln, chempot=chempot_assem)\n",
    "    # print(wt_assem-wt_assem0)\n",
    "    # print(chempot_assem-chempot_assem0)\n",
    "    # print(mu_assem-mu_assem0)\n",
    "    print(wt_assem_new-wt_assem)\n",
    "    wt_assem=wt_assem_new"
   ]
  },
  {
   "cell_type": "code",
   "execution_count": null,
   "metadata": {},
   "outputs": [],
   "source": []
  },
  {
   "cell_type": "code",
   "execution_count": null,
   "metadata": {},
   "outputs": [],
   "source": []
  },
  {
   "cell_type": "code",
   "execution_count": null,
   "metadata": {},
   "outputs": [],
   "source": [
    "iphs_nm = 'AkiS'\n",
    "# iphs_nm = 'Fsp'\n",
    "# iphs_nm = 'PpvS'\n",
    "\n",
    "iphs = phases[iphs_nm]\n",
    "imu0 = mu_soln0[iphs_nm]\n",
    "\n",
    "idmudn0 = np.squeeze(dmudn_soln0[iphs_nm])\n",
    "iX0 = X0[iphs_nm]\n",
    "\n",
    "idmu = np.zeros(imu0.size)\n",
    "idmu = np.array([0,0,0])\n",
    "# idmu = 1e-10*np.random.randn(imu0.size)\n",
    "idmu = np.array([0,+.01])\n"
   ]
  },
  {
   "cell_type": "code",
   "execution_count": null,
   "metadata": {},
   "outputs": [],
   "source": [
    "curv_inv = np.linalg.inv(idmudn0)\n",
    "curv_inv\n",
    "# idmudn0"
   ]
  },
  {
   "cell_type": "code",
   "execution_count": null,
   "metadata": {},
   "outputs": [],
   "source": [
    "\n",
    "U,s,Vh = np.linalg.svd(idmudn0)\n",
    "# U,s,Vh = np.linalg.svd(curv_inv)\n",
    "ind = 0\n",
    "\n",
    "idn = Vh[ind]\n",
    "ival = s[ind]\n",
    "idmu = np.dot(idmudn0,idn)\n",
    "# idmu = np.dot(idmudn0,idn)*ival\n",
    "# \n",
    "idmu\n",
    "print(idn/iX0)\n",
    "print(idn)\n",
    "# np.dot(idmudn0,iX0)"
   ]
  },
  {
   "cell_type": "code",
   "execution_count": null,
   "metadata": {},
   "outputs": [],
   "source": [
    "imu = imu0+idmu\n",
    "\n",
    "a = np.squeeze(idmudn0)\n",
    "# b = np.squeeze(imu-imu0 + 0*np.dot(idmudn0,iX0))\n",
    "b = np.squeeze(imu-imu0)\n",
    "b = np.squeeze(idmu)\n",
    "# np.dot(iX0,idmudn0)\n",
    "np.linalg.solve(a,b)"
   ]
  },
  {
   "cell_type": "code",
   "execution_count": null,
   "metadata": {},
   "outputs": [],
   "source": []
  },
  {
   "cell_type": "code",
   "execution_count": null,
   "metadata": {},
   "outputs": [],
   "source": [
    "np.dot(idmudn0,iX0)"
   ]
  },
  {
   "cell_type": "code",
   "execution_count": null,
   "metadata": {},
   "outputs": [],
   "source": [
    "idn/iX0"
   ]
  },
  {
   "cell_type": "code",
   "execution_count": null,
   "metadata": {},
   "outputs": [],
   "source": [
    "idn"
   ]
  },
  {
   "cell_type": "code",
   "execution_count": null,
   "metadata": {},
   "outputs": [],
   "source": [
    "idmu = .3*Vh[1]\n",
    "\n",
    "imu = imu0+idmu\n",
    "\n",
    "a = np.squeeze(idmudn0)\n",
    "b = np.squeeze(imu-imu0 +np.dot(idmudn0,iX0))\n",
    "# np.dot(iX0,idmudn0)\n",
    "np.linalg.solve(a,b)"
   ]
  },
  {
   "cell_type": "code",
   "execution_count": null,
   "metadata": {},
   "outputs": [],
   "source": [
    "idmu"
   ]
  },
  {
   "cell_type": "code",
   "execution_count": null,
   "metadata": {},
   "outputs": [],
   "source": [
    "\n",
    "iphs.gibbs_energy(T,P,mol=iX0,deriv={'dmol':1})\n",
    "# iphs.gibbs_energy(T,P,mol=iX0,deriv={'dmol':1})\n",
    "\n",
    "idX = 1e-5\n",
    "iX1 = iX0.copy()\n",
    "iX1[1] += idX\n",
    "(iphs.chem_potential(T,P,mol=iX1)- iphs.chem_potential(T,P,mol=iX0))/idX"
   ]
  },
  {
   "cell_type": "code",
   "execution_count": null,
   "metadata": {},
   "outputs": [],
   "source": [
    "idmudn0"
   ]
  },
  {
   "cell_type": "code",
   "execution_count": null,
   "metadata": {},
   "outputs": [],
   "source": [
    "imu"
   ]
  },
  {
   "cell_type": "code",
   "execution_count": null,
   "metadata": {},
   "outputs": [],
   "source": [
    "idmudn0"
   ]
  },
  {
   "cell_type": "code",
   "execution_count": null,
   "metadata": {},
   "outputs": [],
   "source": [
    "mu_soln0\n",
    "# dmudn_soln0\n",
    "# X0\n",
    "#A0"
   ]
  },
  {
   "cell_type": "code",
   "execution_count": null,
   "metadata": {},
   "outputs": [],
   "source": [
    "\n",
    "mu_soln0"
   ]
  },
  {
   "cell_type": "code",
   "execution_count": null,
   "metadata": {},
   "outputs": [],
   "source": [
    "for ind in range(20):\n",
    "    mu_soln, A, X, phase_names =  phase_affinity(\n",
    "        chempot_assem, phases, phase_comps,T, P)\n",
    "    chempot_assem, mu_assem, rnorm_assem, wt_assem_new =  min_assemblage(\n",
    "        bulk_comp, comp, mu_soln, chempot=chempot_assem)\n",
    "    # print(wt_assem-wt_assem0)\n",
    "    # print(chempot_assem-chempot_assem0)\n",
    "    # print(mu_assem-mu_assem0)\n",
    "    print(wt_assem_new-wt_assem)\n",
    "    wt_assem=wt_assem_new"
   ]
  },
  {
   "cell_type": "code",
   "execution_count": null,
   "metadata": {},
   "outputs": [],
   "source": [
    "wt_assem"
   ]
  },
  {
   "cell_type": "code",
   "execution_count": null,
   "metadata": {},
   "outputs": [],
   "source": []
  },
  {
   "cell_type": "code",
   "execution_count": null,
   "metadata": {},
   "outputs": [],
   "source": []
  },
  {
   "cell_type": "code",
   "execution_count": null,
   "metadata": {},
   "outputs": [],
   "source": []
  },
  {
   "cell_type": "code",
   "execution_count": null,
   "metadata": {},
   "outputs": [],
   "source": []
  },
  {
   "cell_type": "code",
   "execution_count": null,
   "metadata": {},
   "outputs": [],
   "source": []
  },
  {
   "cell_type": "code",
   "execution_count": null,
   "metadata": {},
   "outputs": [],
   "source": [
    "mu_soln, A, X, phase_names =  phase_affinity(\n",
    "    chempot_assem, phases, phase_comps,T, P)"
   ]
  },
  {
   "cell_type": "code",
   "execution_count": null,
   "metadata": {},
   "outputs": [],
   "source": [
    "\n",
    "chempot_assem1, mu_assem1, rnorm_assem1, wt_assem1 =  min_assemblage(\n",
    "    bulk_comp, comp, mu_soln, chempot=chempot_assem)"
   ]
  },
  {
   "cell_type": "code",
   "execution_count": null,
   "metadata": {},
   "outputs": [],
   "source": [
    "chempot_assem1"
   ]
  },
  {
   "cell_type": "code",
   "execution_count": null,
   "metadata": {},
   "outputs": [],
   "source": [
    "\n",
    "chempot_assem1-chempot_assem"
   ]
  },
  {
   "cell_type": "code",
   "execution_count": null,
   "metadata": {},
   "outputs": [],
   "source": []
  },
  {
   "cell_type": "code",
   "execution_count": null,
   "metadata": {},
   "outputs": [],
   "source": [
    "mu_soln2, A2, X2, phase_names2 =  phase_affinity(\n",
    "    chempot_assem1, phases, phase_comps,T, P)"
   ]
  },
  {
   "cell_type": "code",
   "execution_count": null,
   "metadata": {},
   "outputs": [],
   "source": [
    "\n",
    "chempot_assem2, mu_assem2, rnorm_assem2, wt_assem2 =  min_assemblage(\n",
    "    bulk_comp, comp, mu_soln2, chempot=chempot_assem1)"
   ]
  },
  {
   "cell_type": "code",
   "execution_count": null,
   "metadata": {},
   "outputs": [],
   "source": [
    "\n",
    "chempot_assem2-chempot_assem1"
   ]
  },
  {
   "cell_type": "code",
   "execution_count": null,
   "metadata": {},
   "outputs": [],
   "source": [
    "np.dot(wt_assem1,mu_soln)"
   ]
  },
  {
   "cell_type": "code",
   "execution_count": null,
   "metadata": {},
   "outputs": [],
   "source": [
    "wt_assem"
   ]
  },
  {
   "cell_type": "code",
   "execution_count": null,
   "metadata": {},
   "outputs": [],
   "source": [
    "wt_assem1"
   ]
  },
  {
   "cell_type": "code",
   "execution_count": null,
   "metadata": {},
   "outputs": [],
   "source": [
    "TOL = 1e-6\n",
    "np.array(list(A.values()))<TOL"
   ]
  },
  {
   "cell_type": "code",
   "execution_count": null,
   "metadata": {},
   "outputs": [],
   "source": [
    "A"
   ]
  },
  {
   "cell_type": "code",
   "execution_count": null,
   "metadata": {},
   "outputs": [],
   "source": []
  },
  {
   "cell_type": "code",
   "execution_count": null,
   "metadata": {},
   "outputs": [],
   "source": [
    "Nphs = len(phases)\n",
    "X = {}\n",
    "mu_soln = []\n",
    "A = []\n",
    "phase_names = []\n",
    "\n",
    "for iphs_nm, iphs in phases.items():\n",
    "    # print(iphs_nm,iphs)\n",
    "    # print(iphs)\n",
    "    phase_names.append(iphs_nm)\n",
    "    \n",
    "    icomp = phase_comps[iphs_nm]\n",
    "    # print(icomp)\n",
    "    ichempot = np.dot(icomp, chempot_fit)\n",
    "    # print(ichempot)\n",
    "    iA, iX = iphs.affinity_and_comp(T, P, ichempot)\n",
    "    if iX.size==1:\n",
    "        iX = None\n",
    "        \n",
    "    imu = np.squeeze(iphs.chem_potential(T,P,mol=iX))\n",
    "    imu /= iphs.props['atom_num']\n",
    "    \n",
    "    # if imu.size==1:\n",
    "    #     imu = [imu]\n",
    "    \n",
    "    # imu = iphs.gibbs_energy(T,P,mol=iX, deriv={'dmol':1})\n",
    "    # print(np.squeeze(imu))\n",
    "    # print(iX)\n",
    "    A.append(iA)\n",
    "    mu_soln.extend(imu)\n",
    "    X[iphs_nm] = iX\n",
    "    \n",
    "A = np.array(A)\n",
    "mu_soln = np.array(mu_soln)"
   ]
  },
  {
   "cell_type": "code",
   "execution_count": null,
   "metadata": {},
   "outputs": [],
   "source": []
  },
  {
   "cell_type": "code",
   "execution_count": null,
   "metadata": {},
   "outputs": [],
   "source": []
  },
  {
   "cell_type": "code",
   "execution_count": null,
   "metadata": {},
   "outputs": [],
   "source": []
  },
  {
   "cell_type": "code",
   "execution_count": null,
   "metadata": {},
   "outputs": [],
   "source": [
    "chempot_next, mu_next, rnorm_next, mu_scl_next, wt_next = min_assemblage(\n",
    "    bulk_comp, comp, mu, chempot=None)"
   ]
  },
  {
   "cell_type": "code",
   "execution_count": null,
   "metadata": {},
   "outputs": [],
   "source": [
    "\n",
    "chempot_samp, mu_vals_samp, rnorm_samp, mu_scl_samp, wt_samp = min_assemblage(\n",
    "    bulk_comp, comp, mu, chempot=None, sample=True,N=1001)"
   ]
  },
  {
   "cell_type": "code",
   "execution_count": null,
   "metadata": {},
   "outputs": [],
   "source": [
    "TOL = 1e-6\n",
    "ind = np.where(rnorm_samp<TOL)[0][0]-1\n",
    "\n",
    "plt.figure()\n",
    "# plt.plot(mu_vals_samp-mu_vals_samp[0],rnorm_samp, '-')\n",
    "plt.plot(rnorm_samp, '-')\n",
    "plt.plot(ind,rnorm_samp[ind], 'x')\n",
    "# plt.ylim(-.0001,.001)"
   ]
  },
  {
   "cell_type": "code",
   "execution_count": null,
   "metadata": {},
   "outputs": [],
   "source": [
    "wt_samp[ind-1]-wt_samp[ind]"
   ]
  },
  {
   "cell_type": "code",
   "execution_count": null,
   "metadata": {},
   "outputs": [],
   "source": [
    "\n",
    "dmu_vals = mu_vals_samp-mu_vals_samp[ind]\n",
    "\n",
    "plt.figure()\n",
    "# plt.plot(wt_samp-wt_samp[ind],'-')\n",
    "# plt.plot(dmu_vals, wt_samp,'-x');\n",
    "plt.plot(dmu_vals, wt_samp-wt_samp[ind],'-');\n",
    "# plt.xlim(-25,25)\n",
    "plt.ylim(-.03,+.03)"
   ]
  },
  {
   "cell_type": "code",
   "execution_count": null,
   "metadata": {},
   "outputs": [],
   "source": [
    "ind_assem = wt_samp[0]>0\n",
    "\n",
    "comp_assem=comp[ind_assem,:]\n",
    "mu_assem = mu[ind_assem]\n",
    "\n",
    "\n",
    "# comp_assem = comp[wt_fit>0,:]\n",
    "# mu_assem = mu[wt_fit>0]\n",
    "\n",
    "output = np.linalg.lstsq(comp_assem, mu_assem, rcond=None)\n",
    "chempot_fit = output[0]\n",
    "\n",
    "chempot_fit\n"
   ]
  },
  {
   "cell_type": "code",
   "execution_count": null,
   "metadata": {},
   "outputs": [],
   "source": []
  },
  {
   "cell_type": "code",
   "execution_count": null,
   "metadata": {},
   "outputs": [],
   "source": [
    "# xy_bnd_init = np.hstack((bulk_comp, mu_init))\n",
    "comp\n",
    "wt_fit, rnorm_fit = opt.nnls(comp_assem.T, bulk_comp)\n",
    "wt_fit"
   ]
  },
  {
   "cell_type": "code",
   "execution_count": null,
   "metadata": {},
   "outputs": [],
   "source": [
    "np.dot(wt_fit,comp_assem)-bulk_comp"
   ]
  },
  {
   "cell_type": "code",
   "execution_count": null,
   "metadata": {},
   "outputs": [],
   "source": [
    "chempot_fit"
   ]
  },
  {
   "cell_type": "code",
   "execution_count": null,
   "metadata": {},
   "outputs": [],
   "source": []
  },
  {
   "cell_type": "code",
   "execution_count": null,
   "metadata": {},
   "outputs": [],
   "source": []
  },
  {
   "cell_type": "code",
   "execution_count": null,
   "metadata": {},
   "outputs": [],
   "source": [
    "# chempot_next\n",
    "TOL=1e-3\n",
    "dmu = mu-np.dot(comp, chempot_fit)\n",
    "np.sum(dmu<TOL)"
   ]
  },
  {
   "cell_type": "code",
   "execution_count": null,
   "metadata": {},
   "outputs": [],
   "source": []
  },
  {
   "cell_type": "code",
   "execution_count": null,
   "metadata": {},
   "outputs": [],
   "source": [
    "plt.figure()\n",
    "# plt.plot(dmu, wt_next, 'ko')\n",
    "plt.plot(dmu, 'ko')\n",
    "# plt.plot(dmu[wt_next>0], 'ro')\n",
    "# plt.xlim(-10,1e4)\n",
    "# plt.ylim(-1,1)\n"
   ]
  },
  {
   "cell_type": "code",
   "execution_count": null,
   "metadata": {},
   "outputs": [],
   "source": []
  },
  {
   "cell_type": "code",
   "execution_count": null,
   "metadata": {},
   "outputs": [],
   "source": [
    "chempot_fit"
   ]
  },
  {
   "cell_type": "code",
   "execution_count": null,
   "metadata": {},
   "outputs": [],
   "source": []
  },
  {
   "cell_type": "code",
   "execution_count": null,
   "metadata": {},
   "outputs": [],
   "source": []
  },
  {
   "cell_type": "code",
   "execution_count": null,
   "metadata": {},
   "outputs": [],
   "source": [
    "np.array(phs_sym)[wt_next>0]"
   ]
  },
  {
   "cell_type": "code",
   "execution_count": null,
   "metadata": {},
   "outputs": [],
   "source": []
  },
  {
   "cell_type": "code",
   "execution_count": null,
   "metadata": {},
   "outputs": [],
   "source": [
    "Nphs = len(phases)\n",
    "A = {}\n",
    "X = {}\n",
    "\n",
    "for iphs_nm, iphs in phases.items():\n",
    "    # print(iphs_nm,iphs)\n",
    "    # print(iphs)\n",
    "    icomp = phase_comps[iphs_nm]\n",
    "    # print(icomp)\n",
    "    ichempot = np.dot(icomp, chempot_fit)\n",
    "    # print(ichempot)\n",
    "    iA, iX = iphs.affinity_and_comp(T, P, ichempot)\n",
    "    # print(iX)\n",
    "    A[iphs_nm] = iA\n",
    "    X[iphs_nm] = iX"
   ]
  },
  {
   "cell_type": "code",
   "execution_count": null,
   "metadata": {},
   "outputs": [],
   "source": [
    "A"
   ]
  },
  {
   "cell_type": "code",
   "execution_count": null,
   "metadata": {},
   "outputs": [],
   "source": [
    "np.dot(icomp, chempot_next)"
   ]
  },
  {
   "cell_type": "code",
   "execution_count": null,
   "metadata": {},
   "outputs": [],
   "source": []
  },
  {
   "cell_type": "code",
   "execution_count": null,
   "metadata": {},
   "outputs": [],
   "source": [
    "iphs.props['element_comp']"
   ]
  },
  {
   "cell_type": "code",
   "execution_count": null,
   "metadata": {},
   "outputs": [],
   "source": [
    "phase_comps[iphs_nm]"
   ]
  },
  {
   "cell_type": "code",
   "execution_count": null,
   "metadata": {},
   "outputs": [],
   "source": []
  },
  {
   "cell_type": "code",
   "execution_count": null,
   "metadata": {},
   "outputs": [],
   "source": [
    "iphs.affinity_and_comp?\n",
    "affinity_and_comp(T, P, mu)"
   ]
  },
  {
   "cell_type": "code",
   "execution_count": null,
   "metadata": {},
   "outputs": [],
   "source": [
    "print(np.sum(wt_next))\n",
    "print(np.sum(wt_next>0))"
   ]
  },
  {
   "cell_type": "code",
   "execution_count": null,
   "metadata": {},
   "outputs": [],
   "source": [
    "np.dot(wt_next,comp)-bulk_comp"
   ]
  },
  {
   "cell_type": "code",
   "execution_count": null,
   "metadata": {},
   "outputs": [],
   "source": [
    "np.dot(wt_next,mu)-mu_next"
   ]
  },
  {
   "cell_type": "code",
   "execution_count": null,
   "metadata": {},
   "outputs": [],
   "source": [
    "# np.dot(wt_next, )"
   ]
  },
  {
   "cell_type": "code",
   "execution_count": null,
   "metadata": {},
   "outputs": [],
   "source": [
    "ycurr = bnds[0]\n",
    "rnorm_curr = rnorm_lo\n",
    "yscl = bnds[1]-bnds[0]\n",
    "yscl\n"
   ]
  },
  {
   "cell_type": "code",
   "execution_count": null,
   "metadata": {},
   "outputs": [],
   "source": [
    "# %time\n"
   ]
  },
  {
   "cell_type": "code",
   "execution_count": null,
   "metadata": {},
   "outputs": [],
   "source": []
  },
  {
   "cell_type": "code",
   "execution_count": null,
   "metadata": {},
   "outputs": [],
   "source": [
    "# ynext, rnorm_next, yscl_next = linear_step(ycurr, rnorm_curr, yscl, \n",
    "#                                            bulk_comp, xy, step=.03)\n",
    "ynext, rnorm_next, yscl_next, wt_next = linear_step(ycurr, rnorm_curr, yscl, \n",
    "                                           bulk_comp, xy, step=.03)\n",
    "print(ynext, rnorm_next)"
   ]
  },
  {
   "cell_type": "code",
   "execution_count": null,
   "metadata": {},
   "outputs": [],
   "source": [
    "# Only a single linear decent is required to get match"
   ]
  },
  {
   "cell_type": "code",
   "execution_count": null,
   "metadata": {},
   "outputs": [],
   "source": [
    "# now we need to update phases"
   ]
  },
  {
   "cell_type": "code",
   "execution_count": null,
   "metadata": {},
   "outputs": [],
   "source": []
  },
  {
   "cell_type": "code",
   "execution_count": null,
   "metadata": {},
   "outputs": [],
   "source": [
    "comp[wt_next>0,:].shape"
   ]
  },
  {
   "cell_type": "code",
   "execution_count": null,
   "metadata": {},
   "outputs": [],
   "source": [
    "phs_assem0 = np.array(phs_sym)[wt_next>0]"
   ]
  },
  {
   "cell_type": "code",
   "execution_count": null,
   "metadata": {},
   "outputs": [],
   "source": [
    "comp_assem0 = comp[wt_next>0,:]\n",
    "mu_assem0 = mu[wt_next>0]\n",
    "output = np.linalg.lstsq(comp_assem0, mu_assem0, rcond=None)\n",
    "chempot = output[0]\n",
    "chempot"
   ]
  },
  {
   "cell_type": "code",
   "execution_count": null,
   "metadata": {},
   "outputs": [],
   "source": [
    "phases.items"
   ]
  },
  {
   "cell_type": "code",
   "execution_count": null,
   "metadata": {},
   "outputs": [],
   "source": []
  },
  {
   "cell_type": "code",
   "execution_count": null,
   "metadata": {},
   "outputs": [],
   "source": []
  },
  {
   "cell_type": "code",
   "execution_count": null,
   "metadata": {},
   "outputs": [],
   "source": []
  },
  {
   "cell_type": "code",
   "execution_count": null,
   "metadata": {},
   "outputs": [],
   "source": []
  },
  {
   "cell_type": "code",
   "execution_count": null,
   "metadata": {},
   "outputs": [],
   "source": []
  },
  {
   "cell_type": "code",
   "execution_count": null,
   "metadata": {},
   "outputs": [],
   "source": [
    "phs_assem0"
   ]
  },
  {
   "cell_type": "code",
   "execution_count": null,
   "metadata": {},
   "outputs": [],
   "source": [
    "phases[phs_assem0[0]]"
   ]
  },
  {
   "cell_type": "code",
   "execution_count": null,
   "metadata": {},
   "outputs": [],
   "source": []
  },
  {
   "cell_type": "code",
   "execution_count": null,
   "metadata": {},
   "outputs": [],
   "source": []
  },
  {
   "cell_type": "code",
   "execution_count": null,
   "metadata": {},
   "outputs": [],
   "source": []
  },
  {
   "cell_type": "code",
   "execution_count": null,
   "metadata": {},
   "outputs": [],
   "source": [
    "# %time\n",
    "step = .03\n",
    "#bnds[0]*(1-step)+bnds[1]*step\n",
    "xy_bnd_step = np.hstack((bulk_comp, ycurr + step*yscl))\n",
    "wt_step, rnorm_step = opt.nnls(xy.T, xy_bnd_step)\n",
    "\n",
    "rnorm_grad0 = (rnorm_curr-rnorm_step)/step\n",
    "df = rnorm_lo/rnorm_grad0\n",
    "\n",
    "ynext = ycurr + df*yscl\n",
    "# imu = bnds[0]*(1-df)+bnds[1]*df\n",
    "# ixy_bnd = np.hstack((bulk_comp, imu))\n",
    "xy_bnd_next = np.hstack((bulk_comp, ynext))\n",
    "wt_next, rnorm_next = opt.nnls(xy.T, xy_bnd_next)\n",
    "rnorm_next"
   ]
  },
  {
   "cell_type": "code",
   "execution_count": null,
   "metadata": {},
   "outputs": [],
   "source": [
    "df = irnorm/rnorm_grad0\n",
    "ixy_bnd = np.hstack((bulk_comp, imu+df*dbnd))\n",
    "iwt, irnorm = opt.nnls(xy.T, ixy_bnd)\n",
    "irnorm"
   ]
  },
  {
   "cell_type": "code",
   "execution_count": null,
   "metadata": {},
   "outputs": [],
   "source": [
    "\n",
    "wt0, rnorm0 = opt.nnls(xy.T, xy_bulk)\n",
    "frac = np.linspace(0,1,1001)\n",
    "rnorm = np.zeros(len(frac))\n",
    "\n",
    "for ind, ifrac in enumerate(frac):\n",
    "    imu = bnds[0]*ifrac + bnds[1]*(1-ifrac)\n",
    "    ixy_bulk = np.hstack((bulk_comp, imu))\n",
    "    iwt, irnorm = opt.nnls(xy.T, ixy_bulk)\n",
    "    \n",
    "    rnorm[ind] = irnorm"
   ]
  },
  {
   "cell_type": "code",
   "execution_count": null,
   "metadata": {},
   "outputs": [],
   "source": [
    "plt.figure()\n",
    "rnorm_grad = np.gradient(rnorm,frac)\n",
    "\n",
    "# plt.plot(frac, rnorm_grad-rnorm_grad[-1], 'k-x')\n",
    "# plt.ylim(-1e-1,+1e-1)\n",
    "plt.plot(frac, rnorm, 'k-')"
   ]
  },
  {
   "cell_type": "code",
   "execution_count": null,
   "metadata": {},
   "outputs": [],
   "source": []
  },
  {
   "cell_type": "code",
   "execution_count": null,
   "metadata": {},
   "outputs": [],
   "source": [
    "def min_energy_assemblage(bulk_comp, comp, mu, TOLmu=10, TOL=1e-5):\n",
    "    \n",
    "    output = np.linalg.lstsq(comp, mu, rcond=None)\n",
    "    mu_avg = output[0]\n",
    "    mu0_bulk = np.dot(mu_avg, bulk_comp)\n",
    "    \n",
    "    \n",
    "    xy = np.hstack((comp, mu[:,np.newaxis]))\n",
    "    yavg = np.mean(mu)\n",
    "    xy_bulk = np.hstack((bulk_comp, yavg))\n",
    "    \n",
    "    wt0, rnorm0 = opt.nnls(xy.T, xy_bulk)\n",
    "    # print('rnorm',rnorm0)\n",
    "    \n",
    "    \n",
    "    def fun(mu, shift=0):\n",
    "        xy_bulk[-1] = mu\n",
    "        wt, rnorm = opt.nnls(xy.T, xy_bulk)\n",
    "        return rnorm-shift\n",
    "    \n",
    "    \n",
    "    delmu = .1\n",
    "    if rnorm0==0:\n",
    "        shift_dir = -1\n",
    "        soln_found = True\n",
    "    else:\n",
    "        output = opt.minimize_scalar(fun, bounds=[np.min(mu), np.max(mu)])\n",
    "        xy_bulk[-1] = output['x']\n",
    "        wt0, rnorm0 = opt.nnls(xy.T, xy_bulk)\n",
    "        shift_dir = -1\n",
    "        \n",
    "    mu_prev=xy_bulk[-1]\n",
    "    rnorm=rnorm0\n",
    "    \n",
    "    while True:\n",
    "        mu_prev = xy_bulk[-1]\n",
    "        rnorm_prev = rnorm\n",
    "        \n",
    "        xy_bulk[-1] += shift_dir*delmu\n",
    "        wt, rnorm = opt.nnls(xy.T, xy_bulk)\n",
    "        delmu *= 2\n",
    "        \n",
    "        # print(shift_dir, rnorm)\n",
    "        if ((shift_dir==+1)&(rnorm>rnorm_prev)) or ((shift_dir==-1)&(rnorm>0)):\n",
    "            break\n",
    "            \n",
    "        \n",
    "    fun_fit = lambda mu, TOL=TOL: fun(mu, shift=TOL)\n",
    "    if rnorm > TOL:\n",
    "        mu_bulk = opt.brentq(fun_fit, mu_prev, xy_bulk[-1], xtol=TOLmu)\n",
    "        xy_bulk[-1] = mu_bulk\n",
    "        wt, rnorm = opt.nnls(xy.T, xy_bulk)\n",
    "        \n",
    "    mu_bulk = xy_bulk[-1]\n",
    "    wt_bulk = wt\n",
    "        \n",
    "        \n",
    "    ind_assem = np.where(wt_bulk>0)[0]\n",
    "    return wt_bulk, mu_bulk, ind_assem \n"
   ]
  },
  {
   "cell_type": "code",
   "execution_count": null,
   "metadata": {},
   "outputs": [],
   "source": [
    "# a = np.hstack()\n",
    "\n",
    "output = np.linalg.lstsq(elem_comps, mu, rcond=None)\n",
    "mu_avg = output[0]\n",
    "np.dot(mu_avg,bulk_comp)\n",
    "# plt.figure()\n",
    "# plt.plot(np.dot(elem_comps, output[0])-mu, 'ko')\n",
    "# mu\n",
    "#np.linalg.lstsq?\n"
   ]
  },
  {
   "cell_type": "code",
   "execution_count": null,
   "metadata": {},
   "outputs": [],
   "source": [
    "mu_mod = np.dot(mu_avg, elem_comps.T)\n",
    "dmu = mu-mu_mod"
   ]
  },
  {
   "cell_type": "code",
   "execution_count": null,
   "metadata": {},
   "outputs": [],
   "source": [
    "ind_min = np.argmin(dmu)\n",
    "mu[ind_min]\n",
    "mu_mod[ind_min]\n",
    "dmu[ind_min]"
   ]
  },
  {
   "cell_type": "code",
   "execution_count": null,
   "metadata": {},
   "outputs": [],
   "source": []
  },
  {
   "cell_type": "code",
   "execution_count": null,
   "metadata": {},
   "outputs": [],
   "source": [
    "# -mulinprog is slow!!\n",
    "# %%time\n",
    "# output = optimize.linprog(mu, A_eq=A_eq, b_eq=bulk_comp, method='interior-point')"
   ]
  },
  {
   "cell_type": "code",
   "execution_count": null,
   "metadata": {},
   "outputs": [],
   "source": [
    "%%time\n",
    "wt_bulk, mu_bulk, ind_assem = min_energy_assemblage(\n",
    "    bulk_comp, elem_comps, mu, TOLmu=10)\n"
   ]
  },
  {
   "cell_type": "code",
   "execution_count": null,
   "metadata": {},
   "outputs": [],
   "source": [
    "\n",
    "comp_assem, mu_assem = elem_comps[ind_assem], mu[ind_assem]\n",
    "comp_assem_avg = np.mean(comp_assem,axis=0)\n",
    "X2scl = np.min(np.sum((comp_assem-comp_assem_avg)**2,axis=1))"
   ]
  },
  {
   "cell_type": "code",
   "execution_count": null,
   "metadata": {},
   "outputs": [],
   "source": [
    "np.array(phs_sym)[ind_assem]"
   ]
  },
  {
   "cell_type": "code",
   "execution_count": null,
   "metadata": {},
   "outputs": [],
   "source": [
    "output = np.linalg.lstsq(comp_assem, mu_assem, rcond=-1)\n",
    "# np.linalg.lstsq?\n",
    "mu_endmem= output[0]\n",
    "np.dot(comp_assem,mu_endmem)"
   ]
  },
  {
   "cell_type": "code",
   "execution_count": null,
   "metadata": {},
   "outputs": [],
   "source": []
  },
  {
   "cell_type": "code",
   "execution_count": null,
   "metadata": {},
   "outputs": [],
   "source": [
    "for iabbrev, iphs in phases.items():\n",
    "    print(iabbrev, iphs)"
   ]
  },
  {
   "cell_type": "code",
   "execution_count": null,
   "metadata": {},
   "outputs": [],
   "source": []
  },
  {
   "cell_type": "code",
   "execution_count": null,
   "metadata": {},
   "outputs": [],
   "source": [
    "wt_bulk[ind_assem]"
   ]
  },
  {
   "cell_type": "code",
   "execution_count": null,
   "metadata": {},
   "outputs": [],
   "source": [
    "from scipy import optimize"
   ]
  },
  {
   "cell_type": "code",
   "execution_count": null,
   "metadata": {},
   "outputs": [],
   "source": [
    "optimize.mi"
   ]
  },
  {
   "cell_type": "code",
   "execution_count": null,
   "metadata": {},
   "outputs": [],
   "source": []
  },
  {
   "cell_type": "code",
   "execution_count": null,
   "metadata": {},
   "outputs": [],
   "source": []
  },
  {
   "cell_type": "markdown",
   "metadata": {},
   "source": [
    "# Fit simple quadratic (diagonal terms only) as function of endmember fractions\n"
   ]
  },
  {
   "cell_type": "code",
   "execution_count": null,
   "metadata": {},
   "outputs": [],
   "source": []
  },
  {
   "cell_type": "code",
   "execution_count": null,
   "metadata": {},
   "outputs": [],
   "source": [
    "dmu_bulk = 0.1e3\n",
    "# dmu_endmem = 3e3\n",
    "# dmu_endmem = 8e3\n",
    "dmu_endmem = 2e3"
   ]
  },
  {
   "cell_type": "code",
   "execution_count": null,
   "metadata": {},
   "outputs": [],
   "source": [
    "\n",
    "\n",
    "def fit_quad_excess_endmem(comp_assem, wt_bulk_assem, dmu_endmem):\n",
    "    N_assem = comp_assem.shape[0]\n",
    "    \n",
    "    wt_endmem = np.eye(N_assem)\n",
    "    dwt_endmem = wt_endmem - wt_bulk_assem\n",
    "    # X_endmem = np.vstack((np.eye(N_assem), wt_bulk_assem))\n",
    "    # mu_vals = np.hstack((np.tile(dmu_endmem, N_assem), dmu_bulk))\n",
    "    mu_vals = np.tile(dmu_endmem, N_assem)\n",
    "    \n",
    "    # np.round(X_endmem,decimals=3)\n",
    "    # xobs = np.hstack((dX_endmem, dX2_endmem))\n",
    "    \n",
    "    dwt2_endmem = dwt_endmem**2\n",
    "    output = np.linalg.lstsq(dwt2_endmem, mu_vals, rcond=None)\n",
    "    # output = np.linalg.lstsq(xobs, mu_vals, rcond=None)\n",
    "    curv_endmem = output[0]\n",
    "    \n",
    "    return curv_endmem"
   ]
  },
  {
   "cell_type": "code",
   "execution_count": null,
   "metadata": {},
   "outputs": [],
   "source": [
    "wt_bulk_assem = wt_bulk[ind_assem]\n",
    "curv_endmem = fit_quad_excess_endmem(comp_assem, wt_bulk_assem, dmu_endmem)\n",
    "\n",
    "wt_bulk_assem"
   ]
  },
  {
   "cell_type": "code",
   "execution_count": null,
   "metadata": {},
   "outputs": [],
   "source": []
  },
  {
   "cell_type": "markdown",
   "metadata": {},
   "source": [
    "# Define quadratic surface offset\n",
    "- NOTE: **dmu_endmem > dmu_bulk** MUST hold true\n",
    "- dmu_bulk is offset at bulk composition\n",
    "- dmu_endmem is offset at each endmember composition"
   ]
  },
  {
   "cell_type": "code",
   "execution_count": null,
   "metadata": {},
   "outputs": [],
   "source": [
    "def random_sample(curv_endmem, wt_bulk_assem, Nsamp=9000):\n",
    "    N_assem = len(wt_bulk_assem)\n",
    "    wt_rand = np.random.rand(Nsamp, N_assem)\n",
    "    wt_rand = wt_rand/np.sum(wt_rand, axis=1)[:,np.newaxis]\n",
    "    \n",
    "    dwt_rand = wt_rand-wt_bulk_assem\n",
    "    dwt2_rand = dwt_rand**2\n",
    "    \n",
    "    mu_rand = np.dot(dwt2_rand, curv_endmem)\n",
    "    \n",
    "    \n",
    "    return wt_rand, mu_rand\n"
   ]
  },
  {
   "cell_type": "code",
   "execution_count": null,
   "metadata": {},
   "outputs": [],
   "source": [
    "wt_rand, mu_rand = random_sample(curv_endmem, wt_bulk_assem)\n",
    "comp_rand = np.dot(wt_rand, comp_assem)"
   ]
  },
  {
   "cell_type": "code",
   "execution_count": null,
   "metadata": {},
   "outputs": [],
   "source": []
  },
  {
   "cell_type": "code",
   "execution_count": null,
   "metadata": {},
   "outputs": [],
   "source": []
  },
  {
   "cell_type": "markdown",
   "metadata": {},
   "source": [
    "# Fit diagonal quadratic in endmember (eigen) space\n",
    "* remap quadratic to elemental space\n",
    "* visualize quad model in elemental space"
   ]
  },
  {
   "cell_type": "code",
   "execution_count": null,
   "metadata": {},
   "outputs": [],
   "source": [
    "def fit_quad_shift(bulk_comp, comp_rand, mu_rand, comp_assem, dmu_endmem, dmu_bulk):\n",
    "    \n",
    "    N_assem = comp_assem.shape[0]\n",
    "    N_elems = len(bulk_comp)\n",
    "    \n",
    "    yobs = np.hstack((0, np.tile(dmu_endmem, N_assem), mu_rand)) + dmu_bulk\n",
    "    comps = np.vstack((bulk_comp, comp_assem, comp_rand))\n",
    "    \n",
    "    cross_terms_ind = get_quad_inds(N_elems)\n",
    "    X2 = eval_curv(comps, 'quad-full', cross_terms_ind)\n",
    "    \n",
    "    xobs = np.hstack((comps,X2))\n",
    "    \n",
    "    fit_output = np.linalg.lstsq(xobs, yobs, rcond=None)\n",
    "    coef = fit_output[0]\n",
    "    chem_pot = coef[:N_elems]\n",
    "    quad_coef = coef[N_elems:]\n",
    "    \n",
    "    \n",
    "    return chem_pot, quad_coef, xobs, yobs, fit_output\n",
    "\n",
    "chem_pot, quad_coef, xobs, yobs, fit_output = fit_quad_shift(bulk_comp, comp_rand,mu_rand, comp_assem, dmu_endmem, dmu_bulk)\n",
    "\n"
   ]
  },
  {
   "cell_type": "code",
   "execution_count": null,
   "metadata": {},
   "outputs": [],
   "source": []
  },
  {
   "cell_type": "code",
   "execution_count": null,
   "metadata": {},
   "outputs": [],
   "source": [
    "N_assem = comp_assem.shape[0]\n",
    "for ind in range(Nelems):\n",
    "    plt.figure()\n",
    "    plt.plot(xobs[N_assem+1:,ind],yobs[N_assem+1:], 'o',color=[.5,.5,.5] )\n",
    "    plt.plot(xobs[:N_assem+1, ind],yobs[:N_assem+1], 'rx', ms=8)\n",
    "    plt.plot(comp_assem[:,ind],np.zeros(N_assem), 'k--x')\n",
    "    plt.plot(bulk_comp[ind],0, 'kx', mew=4,ms=10)\n",
    "\n"
   ]
  },
  {
   "cell_type": "code",
   "execution_count": null,
   "metadata": {},
   "outputs": [],
   "source": []
  },
  {
   "cell_type": "markdown",
   "metadata": {},
   "source": [
    "# Calc elemental chem potentials \n",
    "* elem chempot = quadratic surface + equil assembalge"
   ]
  },
  {
   "cell_type": "code",
   "execution_count": null,
   "metadata": {},
   "outputs": [],
   "source": [
    "def fit_assemblage_chem_pot(comp_assem, mu_assem):\n",
    "    fit_output_assem = np.linalg.lstsq(comp_assem, mu_assem, rcond=None)\n",
    "    chem_pot_assem = fit_output_assem[0]\n",
    "    \n",
    "    return chem_pot_assem, fit_output_assem\n",
    "\n",
    "chem_pot_assem, fit_output_assem = fit_assemblage_chem_pot(comp_assem, mu_assem)"
   ]
  },
  {
   "cell_type": "code",
   "execution_count": null,
   "metadata": {},
   "outputs": [],
   "source": [
    "mu_linear = chem_pot_assem+chem_pot"
   ]
  },
  {
   "cell_type": "code",
   "execution_count": null,
   "metadata": {},
   "outputs": [],
   "source": []
  },
  {
   "cell_type": "code",
   "execution_count": null,
   "metadata": {},
   "outputs": [],
   "source": []
  },
  {
   "cell_type": "code",
   "execution_count": null,
   "metadata": {},
   "outputs": [],
   "source": []
  },
  {
   "cell_type": "code",
   "execution_count": null,
   "metadata": {},
   "outputs": [],
   "source": []
  },
  {
   "cell_type": "markdown",
   "metadata": {},
   "source": [
    "## Build endmembers of pseudo-phase using the coder module"
   ]
  },
  {
   "cell_type": "code",
   "execution_count": null,
   "metadata": {},
   "outputs": [],
   "source": [
    "modelCD = coder.StdStateModel()\n",
    "modelCD.set_module_name('pseudo_end')\n",
    "\n",
    "GTP = sym.symbols('GTP')\n",
    "params = [('GTP','J',GTP)]\n",
    "modelCD.add_expression_to_model(GTP, params)\n",
    "\n",
    "\n",
    "model_working_dir = \"working\"\n",
    "!mkdir -p {model_working_dir}\n",
    "%cd {model_working_dir}"
   ]
  },
  {
   "cell_type": "code",
   "execution_count": null,
   "metadata": {},
   "outputs": [],
   "source": []
  },
  {
   "cell_type": "code",
   "execution_count": null,
   "metadata": {},
   "outputs": [],
   "source": [
    "def standardize_formula(form):\n",
    "    cmp = form.split('O')\n",
    "    str = ''\n",
    "    if cmp[0][-1].isdigit():\n",
    "        str += cmp[0][:-1] + '(' + cmp[0][-1] + ')'\n",
    "    else:\n",
    "        str += cmp[0] + '(1)'\n",
    "    if cmp[1] == '':\n",
    "        str += 'O'\n",
    "    else:\n",
    "        str += 'O(' + cmp[1] + ')'\n",
    "    return str"
   ]
  },
  {
   "cell_type": "code",
   "execution_count": null,
   "metadata": {},
   "outputs": [],
   "source": [
    "use_oxides_as_basis = False"
   ]
  },
  {
   "cell_type": "code",
   "execution_count": null,
   "metadata": {},
   "outputs": [],
   "source": []
  },
  {
   "cell_type": "code",
   "execution_count": null,
   "metadata": {},
   "outputs": [],
   "source": [
    "model_type = \"calib\"\n",
    "for ind,elm in enumerate(sys_elems):\n",
    "    imu = mu_linear[ind]\n",
    "    print(imu)\n",
    "    if use_oxides_as_basis:\n",
    "        formula = standardize_formula(elm)\n",
    "    else:\n",
    "        formula = elm+'(1)'\n",
    "    param_dict = {'Phase':elm,'Formula':formula,'T_r':298.15,'P_r':1.0,'GTP':imu}\n",
    "    print (param_dict)\n",
    "    result = modelCD.create_code_module(\n",
    "        phase=param_dict.pop('Phase', None),\n",
    "        formula=param_dict.pop('Formula', None),\n",
    "        params=param_dict, module_type=model_type, silent=True)\n",
    "    print ('Component', elm, 'done!')"
   ]
  },
  {
   "cell_type": "markdown",
   "metadata": {},
   "source": [
    "Build the code (ignore error messages generated by Cython regarding 'language_level')"
   ]
  },
  {
   "cell_type": "code",
   "execution_count": null,
   "metadata": {},
   "outputs": [],
   "source": [
    "import pseudo_end\n",
    "%cd .."
   ]
  },
  {
   "cell_type": "code",
   "execution_count": null,
   "metadata": {},
   "outputs": [],
   "source": []
  },
  {
   "cell_type": "markdown",
   "metadata": {},
   "source": [
    "# Create Simple Solution Coder Module"
   ]
  },
  {
   "cell_type": "code",
   "execution_count": null,
   "metadata": {},
   "outputs": [],
   "source": [
    "elm_sys=sys_elems"
   ]
  },
  {
   "cell_type": "code",
   "execution_count": null,
   "metadata": {},
   "outputs": [],
   "source": [
    "c = len(elm_sys)\n",
    "c"
   ]
  },
  {
   "cell_type": "code",
   "execution_count": null,
   "metadata": {},
   "outputs": [],
   "source": [
    "modelCD = coder.SimpleSolnModel(nc=c)"
   ]
  },
  {
   "cell_type": "code",
   "execution_count": null,
   "metadata": {},
   "outputs": [],
   "source": []
  },
  {
   "cell_type": "code",
   "execution_count": null,
   "metadata": {},
   "outputs": [],
   "source": []
  },
  {
   "cell_type": "code",
   "execution_count": null,
   "metadata": {},
   "outputs": [],
   "source": [
    "n = modelCD.n\n",
    "nT = modelCD.nT\n",
    "X = n/nT"
   ]
  },
  {
   "cell_type": "code",
   "execution_count": null,
   "metadata": {},
   "outputs": [],
   "source": []
  },
  {
   "cell_type": "code",
   "execution_count": null,
   "metadata": {},
   "outputs": [],
   "source": []
  },
  {
   "cell_type": "code",
   "execution_count": null,
   "metadata": {},
   "outputs": [],
   "source": [
    "mu = modelCD.mu\n",
    "mu"
   ]
  },
  {
   "cell_type": "code",
   "execution_count": null,
   "metadata": {},
   "outputs": [],
   "source": []
  },
  {
   "cell_type": "code",
   "execution_count": null,
   "metadata": {},
   "outputs": [],
   "source": [
    "# Tsym = modelCD.get_symbol_for_t()"
   ]
  },
  {
   "cell_type": "code",
   "execution_count": null,
   "metadata": {},
   "outputs": [],
   "source": [
    "G_ss = (n.transpose()*mu)[0]\n",
    "G_ss"
   ]
  },
  {
   "cell_type": "code",
   "execution_count": null,
   "metadata": {},
   "outputs": [],
   "source": []
  },
  {
   "cell_type": "code",
   "execution_count": null,
   "metadata": {},
   "outputs": [],
   "source": [
    "# if curv_method=='quad-full':\n",
    "\n",
    "curv_string = ''\n",
    "quad_strs = []\n",
    "for i,j in cross_term_inds.T:\n",
    "    # print(i, j)\n",
    "    istr = 'k_' + str(i+1) + '_' + str(j+1)\n",
    "    curv_string +=  istr + ' '\n",
    "    quad_strs.append(istr)\n",
    "    \n",
    "\n",
    "quad_consts = sym.Matrix(list(sym.symbols(curv_string)))\n",
    "\n",
    "# k_curv = sym.symbols('k_curv')\n",
    "# k_curv\n",
    "\n",
    "print(quad_consts)\n",
    "print(quad_coef)\n",
    "print(quad_strs)"
   ]
  },
  {
   "cell_type": "code",
   "execution_count": null,
   "metadata": {},
   "outputs": [],
   "source": [
    "XiXj = np.dot(n,n.T)[cross_term_inds[0], cross_term_inds[1]]/nT**2\n",
    "G_quad = nT*np.dot(XiXj, quad_consts)[0]\n",
    "G_quad"
   ]
  },
  {
   "cell_type": "code",
   "execution_count": null,
   "metadata": {},
   "outputs": [],
   "source": [
    "\n"
   ]
  },
  {
   "cell_type": "markdown",
   "metadata": {},
   "source": [
    "# Create mu_shft for convenient modification after compiling"
   ]
  },
  {
   "cell_type": "code",
   "execution_count": null,
   "metadata": {},
   "outputs": [],
   "source": [
    "mu_shft = sym.symbols('mu_shft')\n",
    "mu_shft"
   ]
  },
  {
   "cell_type": "code",
   "execution_count": null,
   "metadata": {},
   "outputs": [],
   "source": []
  },
  {
   "cell_type": "code",
   "execution_count": null,
   "metadata": {},
   "outputs": [],
   "source": []
  },
  {
   "cell_type": "code",
   "execution_count": null,
   "metadata": {},
   "outputs": [],
   "source": [
    "Gshft = mu_shft*nT"
   ]
  },
  {
   "cell_type": "code",
   "execution_count": null,
   "metadata": {},
   "outputs": [],
   "source": [
    "G = G_ss + G_quad + Gshft\n",
    "G"
   ]
  },
  {
   "cell_type": "code",
   "execution_count": null,
   "metadata": {},
   "outputs": [],
   "source": [
    "mu_expr = G.diff(n)\n",
    "print(mu_expr[0])"
   ]
  },
  {
   "cell_type": "code",
   "execution_count": null,
   "metadata": {},
   "outputs": [],
   "source": []
  },
  {
   "cell_type": "code",
   "execution_count": null,
   "metadata": {},
   "outputs": [],
   "source": []
  },
  {
   "cell_type": "code",
   "execution_count": null,
   "metadata": {},
   "outputs": [],
   "source": [
    "soln_params = []\n",
    "soln_params.append(('mu_shft', 'J/m', mu_shft))\n",
    "for iquad, iquad_str in zip(quad_consts, quad_strs):\n",
    "    soln_params.append((iquad_str, 'J/m', iquad))\n",
    "    \n",
    "soln_params"
   ]
  },
  {
   "cell_type": "code",
   "execution_count": null,
   "metadata": {},
   "outputs": [],
   "source": []
  },
  {
   "cell_type": "code",
   "execution_count": null,
   "metadata": {},
   "outputs": [],
   "source": []
  },
  {
   "cell_type": "code",
   "execution_count": null,
   "metadata": {},
   "outputs": [],
   "source": [
    "\n",
    "# Need mu_shft here as an expression\n",
    "modelCD.add_expression_to_model(G, soln_params)\n",
    "\n"
   ]
  },
  {
   "cell_type": "code",
   "execution_count": null,
   "metadata": {},
   "outputs": [],
   "source": []
  },
  {
   "cell_type": "code",
   "execution_count": null,
   "metadata": {},
   "outputs": [],
   "source": []
  },
  {
   "cell_type": "code",
   "execution_count": null,
   "metadata": {},
   "outputs": [],
   "source": [
    "modelCD.module = \"pseudo_soln\""
   ]
  },
  {
   "cell_type": "code",
   "execution_count": null,
   "metadata": {},
   "outputs": [],
   "source": []
  },
  {
   "cell_type": "code",
   "execution_count": null,
   "metadata": {},
   "outputs": [],
   "source": [
    "formula = ''\n",
    "convert = []\n",
    "test = []\n",
    "if use_oxides_as_basis:\n",
    "    for ind,elm in enumerate(elm_sys):\n",
    "        ox_index = list(core.chem.oxide_props['oxides']).index(elm)\n",
    "        ox_cat = core.chem.oxide_props['cations'][ox_index]\n",
    "        formula += ox_cat + '[' + ox_cat + ']'\n",
    "        ox_cat_num = core.chem.oxide_props['cat_num'][ox_index]\n",
    "        if ox_cat_num > 1:\n",
    "            convert.append('['+str(ind)+']=['+ox_cat+']/'+str(ox_cat_num)+'.0')\n",
    "        else:\n",
    "            convert.append('['+str(ind)+']=['+ox_cat+']')\n",
    "        test.append('['+str(ind)+'] >= 0.0')\n",
    "    formula += 'O[O]'\n",
    "else:\n",
    "    for ind,elm in enumerate(elm_sys):\n",
    "        formula += elm + '[' + elm + ']'\n",
    "        convert.append('['+str(ind)+']=['+elm+']')\n",
    "        test.append('['+str(ind)+'] >= 0.0')\n",
    "        # test.append('['+str(ind)+'] >= -10.0')\n",
    "        \n",
    "# Loosen constraint on Al as a test\n",
    "# test[3] = '[3] >= -100.0'\n",
    "# test[6] = '[6] >= -100.0'\n",
    "# test[0] = '[0] >= 0.0'\n",
    "        \n",
    "formula, convert, test"
   ]
  },
  {
   "cell_type": "code",
   "execution_count": null,
   "metadata": {},
   "outputs": [],
   "source": []
  },
  {
   "cell_type": "code",
   "execution_count": null,
   "metadata": {},
   "outputs": [],
   "source": [
    "modelCD.formula_string = formula\n",
    "modelCD.conversion_string = convert\n",
    "modelCD.test_string = test"
   ]
  },
  {
   "cell_type": "code",
   "execution_count": null,
   "metadata": {},
   "outputs": [],
   "source": [
    "test"
   ]
  },
  {
   "cell_type": "code",
   "execution_count": null,
   "metadata": {},
   "outputs": [],
   "source": [
    "paramValues = {'T_r':298.15,'P_r':1.0}\n",
    "\n",
    "paramValues['mu_shft'] = 0\n",
    "for iquad_val, iquad_str in zip(quad_coef, quad_strs):\n",
    "    paramValues[iquad_str] = iquad_val\n",
    "\n",
    "\n",
    "endmembers = []\n",
    "for elm in elm_sys:\n",
    "    # endmembers.append(str(elm)+'_pseudo_end_calib')\n",
    "    endmembers.append(str(elm)+'_pseudo_end')"
   ]
  },
  {
   "cell_type": "code",
   "execution_count": null,
   "metadata": {},
   "outputs": [],
   "source": [
    "paramValues"
   ]
  },
  {
   "cell_type": "code",
   "execution_count": null,
   "metadata": {},
   "outputs": [],
   "source": []
  },
  {
   "cell_type": "markdown",
   "metadata": {},
   "source": [
    "# Compile and import solution phase code"
   ]
  },
  {
   "cell_type": "code",
   "execution_count": null,
   "metadata": {},
   "outputs": [],
   "source": [
    "import os\n",
    "def compile_soln_phase(paramValues, endmembers, working_dir='working'):\n",
    "    try:\n",
    "        os.mkdir(working_dir)\n",
    "    except FileExistsError:\n",
    "        os.chdir(working_dir)\n",
    "    except:\n",
    "        assert False, 'Problem making working dir'\n",
    "    \n",
    "    # !mkdir -p {working_dir}\n",
    "    # %cd {working_dir}\n",
    "    \n",
    "    modelCD.create_code_module(\n",
    "        phase=\"PseudoPhase\", params=paramValues, endmembers=endmembers, \n",
    "        prefix=\"cy\", module_type='calib', silent=False)\n",
    "    \n",
    "    import pseudo_soln\n",
    "    # %cd ..\n",
    "    os.chdir('..')\n",
    "    \n",
    "    return pseudo_soln\n"
   ]
  },
  {
   "cell_type": "code",
   "execution_count": null,
   "metadata": {},
   "outputs": [],
   "source": [
    "pseudo_soln = compile_soln_phase(paramValues, endmembers)"
   ]
  },
  {
   "cell_type": "code",
   "execution_count": null,
   "metadata": {},
   "outputs": [],
   "source": [
    "\n",
    "# model_working_dir = \"working\"\n",
    "# !mkdir -p {model_working_dir}\n",
    "# %cd {model_working_dir}\n",
    "# \n",
    "# modelCD.create_code_module(\n",
    "#     phase=\"PseudoPhase\", params=paramValues, endmembers=endmembers, \n",
    "#     prefix=\"cy\", module_type='calib', silent=False)\n",
    "# \n",
    "# import pseudo_soln\n",
    "# %cd ..\n"
   ]
  },
  {
   "cell_type": "code",
   "execution_count": null,
   "metadata": {},
   "outputs": [],
   "source": []
  },
  {
   "cell_type": "code",
   "execution_count": null,
   "metadata": {},
   "outputs": [],
   "source": []
  },
  {
   "cell_type": "code",
   "execution_count": null,
   "metadata": {},
   "outputs": [],
   "source": []
  },
  {
   "cell_type": "markdown",
   "metadata": {},
   "source": [
    "# Use custom module"
   ]
  },
  {
   "cell_type": "code",
   "execution_count": null,
   "metadata": {},
   "outputs": [],
   "source": [
    "def get_pseudo_phase():\n",
    "    modelPseudo = model.Database(database=\"CoderModule\", calib=\"calib\", \n",
    "                                 phase_tuple=('pseudo_soln', {'Psu':['PseudoPhase','solution']}))\n",
    "    Pseudo = modelPseudo.get_phase('Psu')\n",
    "\n",
    "    for phase_name, abbrv in zip(modelPseudo.phase_info.phase_name,modelPseudo.phase_info.abbrev):\n",
    "        print ('Abbreviation: {0:<10s} Name: {1:<30s}'.format(abbrv, phase_name))\n",
    "\n",
    "    return Pseudo\n",
    "\n",
    "Pseudo = get_pseudo_phase()"
   ]
  },
  {
   "cell_type": "code",
   "execution_count": null,
   "metadata": {},
   "outputs": [],
   "source": []
  },
  {
   "cell_type": "code",
   "execution_count": null,
   "metadata": {},
   "outputs": [],
   "source": [
    "vals = Pseudo.get_param_values(all_params=True)\n",
    "names = np.array(Pseudo.param_names)\n",
    "\n",
    "print(names)\n",
    "print(vals)\n",
    "# Pseudo.set_param_values(param_names=[2],param_values=[1.0])"
   ]
  },
  {
   "cell_type": "code",
   "execution_count": null,
   "metadata": {},
   "outputs": [],
   "source": []
  },
  {
   "cell_type": "code",
   "execution_count": null,
   "metadata": {},
   "outputs": [],
   "source": [
    "mudiff = Pseudo.gibbs_energy(T, P, mol=bulk_comp)-mu_bulk\n",
    "mudiff"
   ]
  },
  {
   "cell_type": "code",
   "execution_count": null,
   "metadata": {},
   "outputs": [],
   "source": [
    "# shift pseudo if needed\n",
    "\n",
    "# mu_shft_val= +1e4 \n",
    "# mu_shft_val= 0 \n",
    "# Pseudo.set_param_values(param_names=[len(vals)-1], param_values=[mu_shft_val])\n",
    "# Pseudo.get_param_values(all_params=True)\n",
    "\n",
    "# mudiff = Pseudo.gibbs_energy(T, P, mol=bulk_comp)-mu_bulk\n",
    "# mudiff"
   ]
  },
  {
   "cell_type": "code",
   "execution_count": null,
   "metadata": {},
   "outputs": [],
   "source": []
  },
  {
   "cell_type": "code",
   "execution_count": null,
   "metadata": {},
   "outputs": [],
   "source": []
  },
  {
   "cell_type": "markdown",
   "metadata": {},
   "source": [
    "Check pseudo-phase import by printning some phase characteristics"
   ]
  },
  {
   "cell_type": "code",
   "execution_count": null,
   "metadata": {},
   "outputs": [],
   "source": [
    "print (Pseudo.props['phase_name'])\n",
    "print (Pseudo.props['formula'])\n",
    "print (Pseudo.props['molwt'])\n",
    "print (Pseudo.props['abbrev'])\n",
    "print (Pseudo.props['endmember_num'])\n",
    "print (Pseudo.props['endmember_name'])"
   ]
  },
  {
   "cell_type": "code",
   "execution_count": null,
   "metadata": {},
   "outputs": [],
   "source": []
  },
  {
   "cell_type": "markdown",
   "metadata": {},
   "source": [
    "## Try the equiibrium calculations with the omnicomponent pseudo-phase\n",
    "#### Choose a phase assemblage"
   ]
  },
  {
   "cell_type": "code",
   "execution_count": null,
   "metadata": {},
   "outputs": [],
   "source": [
    "\n",
    "phs_sys = [Pseudo]\n",
    "phs_sys.extend(list(phases.values()))\n",
    "\n",
    "# phs_sys += [phases['Fsp'], phases['Ol'], phases['Cpx'], phases['Grt']] # solutiopns,\n",
    "# phs_sys += [phases['Qz'], phases['Ky'], phases['Nph']]\n",
    "#\n",
    "#phs_sys  = [Pseudo, stix_phases['Opx']]\n",
    "\n"
   ]
  },
  {
   "cell_type": "code",
   "execution_count": null,
   "metadata": {},
   "outputs": [],
   "source": []
  },
  {
   "cell_type": "code",
   "execution_count": null,
   "metadata": {},
   "outputs": [],
   "source": [
    "equil = equilibrate.Equilibrate(sys_elems, phs_sys)"
   ]
  },
  {
   "cell_type": "code",
   "execution_count": null,
   "metadata": {},
   "outputs": [],
   "source": [
    "np.array(phs_sym)[ind_assem]"
   ]
  },
  {
   "cell_type": "code",
   "execution_count": null,
   "metadata": {},
   "outputs": [],
   "source": [
    "bulk_comp"
   ]
  },
  {
   "cell_type": "code",
   "execution_count": null,
   "metadata": {},
   "outputs": [],
   "source": [
    "state = equil.execute(T, P, bulk_comp=bulk_comp, debug=0)"
   ]
  },
  {
   "cell_type": "code",
   "execution_count": null,
   "metadata": {},
   "outputs": [],
   "source": []
  },
  {
   "cell_type": "code",
   "execution_count": null,
   "metadata": {},
   "outputs": [],
   "source": [
    "\n",
    "\n",
    "state.print_state()"
   ]
  },
  {
   "cell_type": "code",
   "execution_count": null,
   "metadata": {},
   "outputs": [],
   "source": [
    "np.array(phs_sym)[ind_assem]"
   ]
  },
  {
   "cell_type": "code",
   "execution_count": null,
   "metadata": {},
   "outputs": [],
   "source": [
    "phases"
   ]
  },
  {
   "cell_type": "code",
   "execution_count": null,
   "metadata": {},
   "outputs": [],
   "source": [
    "state.tot_grams_phase('PseudoPhase')"
   ]
  },
  {
   "cell_type": "code",
   "execution_count": null,
   "metadata": {},
   "outputs": [],
   "source": [
    "state.properties()"
   ]
  },
  {
   "cell_type": "code",
   "execution_count": null,
   "metadata": {},
   "outputs": [],
   "source": []
  },
  {
   "cell_type": "code",
   "execution_count": null,
   "metadata": {},
   "outputs": [],
   "source": []
  },
  {
   "cell_type": "code",
   "execution_count": null,
   "metadata": {},
   "outputs": [],
   "source": []
  },
  {
   "cell_type": "code",
   "execution_count": null,
   "metadata": {},
   "outputs": [],
   "source": []
  }
 ],
 "metadata": {
  "kernelspec": {
   "display_name": "Python 3",
   "language": "python",
   "name": "python3"
  },
  "language_info": {
   "codemirror_mode": {
    "name": "ipython",
    "version": 3
   },
   "file_extension": ".py",
   "mimetype": "text/x-python",
   "name": "python",
   "nbconvert_exporter": "python",
   "pygments_lexer": "ipython3",
   "version": "3.6.2"
  }
 },
 "nbformat": 4,
 "nbformat_minor": 2
}
