{
 "cells": [
  {
   "cell_type": "markdown",
   "metadata": {},
   "source": [
    "# Holland & Powell 2011 Standard State Code Generator \n",
    "Required system packages and initialization"
   ]
  },
  {
   "cell_type": "code",
   "execution_count": null,
   "metadata": {},
   "outputs": [],
   "source": [
    "import pandas as pd\n",
    "import numpy as np\n",
    "import sympy as sym\n",
    "sym.init_printing()"
   ]
  },
  {
   "cell_type": "markdown",
   "metadata": {},
   "source": [
    "Required ENKI packages"
   ]
  },
  {
   "cell_type": "code",
   "execution_count": null,
   "metadata": {},
   "outputs": [],
   "source": [
    "from thermoengine import coder"
   ]
  },
  {
   "cell_type": "markdown",
   "metadata": {},
   "source": [
    "# Types of terms in a standard state properties description\n",
    "There are three classes of terms:\n",
    "1. Terms that apply over the whole of $T$-, $P$-space, $T_r \\le T$, $P_r \\le P$\n",
    "2. Terms that apply over a specified range of $T$-, $P$-space, $(T_{r_\\lambda},P_{r_\\lambda}) \\le (T,P) \\le (T_\\lambda,P_\\lambda)$\n",
    "3. Terms that apply to a specific $T_t$ and $P_t$ and higher $T$, $P$, $T_t \\le T$, $P_t \\le P$\n",
    "\n",
    "Second-order phase transitions ($lambda$-transitions) are an example of the second type, as are order disorder transformations. First-order phase transitions are an example of the third type.  "
   ]
  },
  {
   "cell_type": "markdown",
   "metadata": {},
   "source": [
    "## Create a model class for the Gibbs free energy"
   ]
  },
  {
   "cell_type": "code",
   "execution_count": null,
   "metadata": {},
   "outputs": [],
   "source": [
    "model = coder.StdStateModel()"
   ]
  },
  {
   "cell_type": "markdown",
   "metadata": {},
   "source": [
    "Retrieve sympy symbols for model variables and reference conditions"
   ]
  },
  {
   "cell_type": "code",
   "execution_count": null,
   "metadata": {},
   "outputs": [],
   "source": [
    "T = model.get_symbol_for_t()\n",
    "P = model.get_symbol_for_p()\n",
    "Tr = model.get_symbol_for_tr()\n",
    "Pr = model.get_symbol_for_pr()"
   ]
  },
  {
   "cell_type": "markdown",
   "metadata": {},
   "source": [
    "### Define model expressions applicable over all of T,P space\n",
    "An expression for the Gibbs free energy, $G(T,P)$ or the Helmholtz energy $A(T,V)$ is constructed.  The expression may have multiple parts.  Often the heat capacity function is postulated, then integrated to yield expressions for the entahlpy, entropy, and in combination the energy potential. Then, an equation of state (EOS) is adopted and that term is integrated in pressure or volume and added to the heat capacity integrals. This proceedure is follwed here.\n",
    "#### (1) $C_P$ integrals\n",
    "The isobaric heat capacity terms parameterized as: $C_P =  $,\n",
    "and in addition the reference condition third law entropy, $ S_{Tr,Pr} $, and enthalpy of formation from the\n",
    "elements, $ \\Delta H_{Tr,Pr} $, constitute additional parameters:"
   ]
  },
  {
   "cell_type": "markdown",
   "metadata": {},
   "source": [
    "* NOTE this does not include critical heat capacity contribution"
   ]
  },
  {
   "cell_type": "code",
   "execution_count": null,
   "metadata": {},
   "outputs": [],
   "source": [
    "a_cp,b_cp,c_cp,d_cp= sym.symbols('a_cp b_cp c_cp d_cp')\n",
    "S_max = sym.symbols('S_max')\n",
    "CpPr = a_cp+b_cp*T+c_cp/T**2+d_cp/sym.sqrt(T)\n",
    "STrPr,HTrPr = sym.symbols('S_TrPr H_TrPr')\n",
    "CpPr"
   ]
  },
  {
   "cell_type": "code",
   "execution_count": null,
   "metadata": {},
   "outputs": [],
   "source": []
  },
  {
   "cell_type": "code",
   "execution_count": null,
   "metadata": {},
   "outputs": [],
   "source": [
    "\n",
    "# Tc = sym.symbols('Tc')\n",
    "# Cp_c = S_max*T/2/sym.sqrt(Tc)/sym.sqrt(T-Tc)\n",
    "# Cp_c = sym.Piecewise((S_max*T/2/sym.sqrt(Tc)/sym.sqrt(T-Tc), T<Tc), (0,T>=Tc))\n",
    "# Cp_c"
   ]
  },
  {
   "cell_type": "markdown",
   "metadata": {},
   "source": [
    "Specify parameters ..."
   ]
  },
  {
   "cell_type": "code",
   "execution_count": null,
   "metadata": {},
   "outputs": [],
   "source": [
    "params = [('H_TrPr','J',HTrPr), ('S_TrPr','J/K',STrPr), ('a_cp','J/K-m',a_cp),('b_cp','J/K^2-m',b_cp),\n",
    "          ('c_cp','J-K/m',c_cp), ('d_cp','J-K^(1/2)/m',d_cp)]"
   ]
  },
  {
   "cell_type": "markdown",
   "metadata": {},
   "source": [
    "Define the heat capacity contribution to the Gibbs free energy ..."
   ]
  },
  {
   "cell_type": "code",
   "execution_count": null,
   "metadata": {},
   "outputs": [],
   "source": [
    "GPr = HTrPr + sym.integrate(CpPr,(T,Tr,T)) - T*(STrPr + sym.integrate(CpPr/T,(T,Tr,T)))"
   ]
  },
  {
   "cell_type": "code",
   "execution_count": null,
   "metadata": {},
   "outputs": [],
   "source": [
    "GPr"
   ]
  },
  {
   "cell_type": "markdown",
   "metadata": {},
   "source": [
    "... and add this expression to the model"
   ]
  },
  {
   "cell_type": "code",
   "execution_count": null,
   "metadata": {},
   "outputs": [],
   "source": [
    "model.add_expression_to_model(GPr, params)"
   ]
  },
  {
   "cell_type": "markdown",
   "metadata": {},
   "source": [
    "#### (2) $V$ (EOS) integrals\n",
    "Next, define a volume-explicit equation of state applicable over the whole of temperature and pressure space"
   ]
  },
  {
   "cell_type": "code",
   "execution_count": null,
   "metadata": {},
   "outputs": [],
   "source": [
    "\n",
    "VTrPr,a0,K0,K_P,K_P2 = sym.symbols('V_TrPr a0 K0 K_P K_P2')\n",
    "a_v,b_v,c_v = sym.symbols('a_v b_v c_v')\n",
    "\n",
    "Pth = sym.symbols('P_th')\n",
    "# V_T, K_T, dK_T, dK_P = sym.symbols(\"V_T K_T K'_T K'_P\")\n",
    "# dK_P "
   ]
  },
  {
   "cell_type": "code",
   "execution_count": null,
   "metadata": {},
   "outputs": [],
   "source": [
    "V = VTrPr*( 1 - a_v*(1-(1+b_v*(P-Pth))**(-c_v)) )\n",
    "V"
   ]
  },
  {
   "cell_type": "code",
   "execution_count": null,
   "metadata": {},
   "outputs": [],
   "source": [
    "VdP = sym.integrate(V, (P, 0, P), conds='none')\n",
    "VdP = VdP.simplify()\n",
    "\n",
    "VdP = VdP.subs(a_v, (1+K_P)/(1+K_P+K0*K_P2))\n",
    "VdP = VdP.subs(b_v, K_P/K0 - K_P2/(1+K_P))\n",
    "VdP = VdP.subs(c_v, (1+K_P+K0*K_P2)/(K_P**2 +K_P - K0*K_P2))\n",
    "VdP = VdP.subs(K_P2, -K_P/K0)\n",
    "VdP.simplify()"
   ]
  },
  {
   "cell_type": "code",
   "execution_count": null,
   "metadata": {},
   "outputs": [],
   "source": [
    "\n",
    "# V = VTrPr*(-K_P +(1+K_P)*(1+K_P/K0*(2+K_P)/(1+K_P)*(P-Pth))**(-1/K_P/(2+K_P)))  \n",
    "# V"
   ]
  },
  {
   "cell_type": "code",
   "execution_count": null,
   "metadata": {},
   "outputs": [],
   "source": [
    "# VdP_HP = P*VTrPr*(1-a_v + a_v*((1-b_v*Pth)**(1-c_v) - (1+b_v*(P-Pth))**(1-c_v))/(b_v*(c_v-1)*P) )\n",
    "# VdP_HP = VdP_HP.simplify()\n",
    "# VdP_HP = VdP_HP.subs(a_v, (1+K_P)/(1+K_P+K0*K_P2))\n",
    "# VdP_HP = VdP_HP.subs(b_v, K_P/K0 - K_P2/(1+K_P))\n",
    "# VdP_HP = VdP_HP.subs(c_v, (1+K_P+K0*K_P2)/(K_P**2 +K_P - K0*K_P2))\n",
    "# VdP_HP = VdP_HP.subs(K_P2, -K_P/K0)\n",
    "# VdP_HP.simplify()\n"
   ]
  },
  {
   "cell_type": "code",
   "execution_count": null,
   "metadata": {},
   "outputs": [],
   "source": []
  },
  {
   "cell_type": "code",
   "execution_count": null,
   "metadata": {},
   "outputs": [],
   "source": []
  },
  {
   "cell_type": "code",
   "execution_count": null,
   "metadata": {},
   "outputs": [],
   "source": []
  },
  {
   "cell_type": "code",
   "execution_count": null,
   "metadata": {},
   "outputs": [],
   "source": [
    "V = V.subs(a_v, (1+K_P)/(1+K_P+K0*K_P2))\n",
    "V = V.subs(b_v, K_P/K0 - K_P2/(1+K_P))\n",
    "V = V.subs(c_v, (1+K_P+K0*K_P2)/(K_P**2 +K_P - K0*K_P2))\n",
    "V = V.subs(K_P2, -K_P/K0)\n",
    "V"
   ]
  },
  {
   "cell_type": "code",
   "execution_count": null,
   "metadata": {},
   "outputs": [],
   "source": []
  },
  {
   "cell_type": "code",
   "execution_count": null,
   "metadata": {},
   "outputs": [],
   "source": []
  },
  {
   "cell_type": "code",
   "execution_count": null,
   "metadata": {},
   "outputs": [],
   "source": [
    "theta, n = sym.symbols('theta n')\n",
    "alphaK = (theta/T)**2*sym.exp(theta/T)/(sym.exp(theta/T)-1)**2\n",
    "alphaK\n",
    "\n"
   ]
  },
  {
   "cell_type": "code",
   "execution_count": null,
   "metadata": {},
   "outputs": [],
   "source": [
    "theta_expr = 10636/(STrPr/n +6.44)\n",
    "alphaK = alphaK.subs(theta, theta_expr)\n",
    "alphaK"
   ]
  },
  {
   "cell_type": "code",
   "execution_count": null,
   "metadata": {},
   "outputs": [],
   "source": [
    "alphaK0 = alphaK.subs(T,Tr)\n",
    "alphaK0"
   ]
  },
  {
   "cell_type": "code",
   "execution_count": null,
   "metadata": {},
   "outputs": [],
   "source": [
    "\n",
    "alpha0 = sym.symbols('alpha0')\n",
    "\n",
    "Pth_expr = alpha0*K0*theta/alphaK0*(1/(sym.exp(theta/T)) -1/(sym.exp(theta/Tr)))\n",
    "Pth_expr = Pth_expr.subs(theta, theta_expr)\n",
    "Pth_expr"
   ]
  },
  {
   "cell_type": "code",
   "execution_count": null,
   "metadata": {},
   "outputs": [],
   "source": [
    "V = V.subs(Pth, Pth_expr)\n",
    "V"
   ]
  },
  {
   "cell_type": "code",
   "execution_count": null,
   "metadata": {},
   "outputs": [],
   "source": [
    "VdP = VdP.subs(Pth, Pth_expr)\n",
    "VdP"
   ]
  },
  {
   "cell_type": "code",
   "execution_count": null,
   "metadata": {},
   "outputs": [],
   "source": [
    "VdP.free_symbols"
   ]
  },
  {
   "cell_type": "code",
   "execution_count": null,
   "metadata": {},
   "outputs": [],
   "source": [
    "        "
   ]
  },
  {
   "cell_type": "code",
   "execution_count": null,
   "metadata": {},
   "outputs": [],
   "source": [
    "# params= [('V_TrPr', 'J/bar-m', VTrPr), ('a0','1/K',a0),  ('K0','bar',K0), ('dKdT','1/K',dK_T)]\n",
    "params= [('V_TrPr', 'J/bar-m', VTrPr), ('S_TrPr', 'J/K-m', STrPr), \n",
    "         ('alpha0','1/K',alpha0),  ('n','',n), ('K0','bar',K0),  ('K_P','',K_P)]"
   ]
  },
  {
   "cell_type": "code",
   "execution_count": null,
   "metadata": {},
   "outputs": [],
   "source": [
    "model.add_expression_to_model(VdP, params)"
   ]
  },
  {
   "cell_type": "code",
   "execution_count": null,
   "metadata": {},
   "outputs": [],
   "source": []
  }
 ],
 "metadata": {
  "kernelspec": {
   "display_name": "Python 3",
   "language": "python",
   "name": "python3"
  },
  "language_info": {
   "codemirror_mode": {
    "name": "ipython",
    "version": 3
   },
   "file_extension": ".py",
   "mimetype": "text/x-python",
   "name": "python",
   "nbconvert_exporter": "python",
   "pygments_lexer": "ipython3",
   "version": "3.6.2"
  }
 },
 "nbformat": 4,
 "nbformat_minor": 2
}
