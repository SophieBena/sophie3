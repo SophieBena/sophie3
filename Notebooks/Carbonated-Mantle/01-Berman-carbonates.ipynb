{
 "cells": [
  {
   "cell_type": "markdown",
   "metadata": {},
   "source": [
    "# Berman Carbonate Database \n",
    "Required system packages and initialization"
   ]
  },
  {
   "cell_type": "code",
   "execution_count": null,
   "metadata": {},
   "outputs": [],
   "source": [
    "import pandas as pd\n",
    "import numpy as np\n",
    "import sympy as sym\n",
    "import os\n",
    "import thermoengine\n",
    "import dill\n",
    "\n",
    "import importlib\n",
    "sym.init_printing()\n",
    "\n"
   ]
  },
  {
   "cell_type": "code",
   "execution_count": null,
   "metadata": {},
   "outputs": [],
   "source": []
  },
  {
   "cell_type": "markdown",
   "metadata": {},
   "source": [
    "# Create coder module for pure phase using Berman Std State\n",
    "* Head over to Berman-std-state-model Notebook to see coder expressions and model formulation"
   ]
  },
  {
   "cell_type": "code",
   "execution_count": null,
   "metadata": {},
   "outputs": [],
   "source": [
    "%run core.ipynb\n",
    "%run Berman-std-state-model.ipynb"
   ]
  },
  {
   "cell_type": "code",
   "execution_count": null,
   "metadata": {},
   "outputs": [],
   "source": []
  },
  {
   "cell_type": "code",
   "execution_count": null,
   "metadata": {},
   "outputs": [],
   "source": [
    "def Berman_params(Phase='Name', Formula='', \n",
    "                  H_TrPr=-1e6, S_TrPr=1e2, V_TrPr=3,\n",
    "                  k0=1e2, k1=-10.0E2, k2=-5.0E5, k3=16.667E7,\n",
    "                  v1=-1.0E-6, v2=0.0, v3=9.0E-6, v4=300.0E-10):\n",
    "    \n",
    "    param_dict = {\n",
    "        'Phase': Phase, 'Formula': Formula,\n",
    "        'T_r': 298.15, 'P_r': 1.0,\n",
    "        'H_TrPr': H_TrPr, 'S_TrPr': S_TrPr, 'V_TrPr': V_TrPr,\n",
    "        'k0': k0, 'k1': k1, 'k2': k2, 'k3': k3,\n",
    "        'v1': v1, 'v2': v2, 'v3': v3, 'v4': v4,\n",
    "        'l1': 0.0, 'l2': 0.0, 'k_lambda': 0.0,\n",
    "        'T_lambda_Pr': 0.0, 'T_lambda_ref': 0.0, 'H_t': 0.0,\n",
    "        'd0': 0.0, 'd1': 0.0, 'd2': 0.0, 'd3': 0.0, 'd4': 0.0, 'd5': 0.0,\n",
    "        'T_D': 0.0, 'T_D_ref': 0.0}\n",
    "    return param_dict"
   ]
  },
  {
   "cell_type": "code",
   "execution_count": null,
   "metadata": {},
   "outputs": [],
   "source": []
  },
  {
   "cell_type": "markdown",
   "metadata": {},
   "source": [
    "# Build up each phase from known properties\n",
    "* taken from Berman 1988 for calcite, magnesite, dolomite\n",
    "* other phases invented based on Robie (1995), Berman and Brown (1985), and NIST constraints"
   ]
  },
  {
   "cell_type": "code",
   "execution_count": null,
   "metadata": {},
   "outputs": [],
   "source": [
    "phase_params = {}"
   ]
  },
  {
   "cell_type": "code",
   "execution_count": null,
   "metadata": {},
   "outputs": [],
   "source": [
    "lookup_phase_info('calcite')"
   ]
  },
  {
   "cell_type": "code",
   "execution_count": null,
   "metadata": {},
   "outputs": [],
   "source": [
    "phase_params['Cal'] = Berman_params(\n",
    "    Phase='Calcite', Formula='Ca(1)C(1)O(3)',\n",
    "    H_TrPr=-1206819.0, S_TrPr=91.725, V_TrPr=3.690,\n",
    "    k0=178.19, k1=-16.577E2, k2=-4.827E5, k3=16.660E7,\n",
    "    v1=-1.4E-6, v2=0.0, v3=8.907E-6, v4=227.402E-10)"
   ]
  },
  {
   "cell_type": "code",
   "execution_count": null,
   "metadata": {},
   "outputs": [],
   "source": []
  },
  {
   "cell_type": "code",
   "execution_count": null,
   "metadata": {},
   "outputs": [],
   "source": [
    "lookup_phase_info('magnesite')"
   ]
  },
  {
   "cell_type": "code",
   "execution_count": null,
   "metadata": {},
   "outputs": [],
   "source": [
    "phase_params['Mgs'] = Berman_params(\n",
    "    Phase='Magnesite', Formula='Mg(1)C(1)O(3)',\n",
    "    H_TrPr=-1113636.0, S_TrPr=65.210, V_TrPr=2.803,\n",
    "    k0=162.30, k1=-11.093E2, k2=-48.826E5, k3=87.466E7,\n",
    "    v1=-0.890E-6, v2=2.212E-12, v3=18.436E-6, v4=415.968E-10)"
   ]
  },
  {
   "cell_type": "code",
   "execution_count": null,
   "metadata": {},
   "outputs": [],
   "source": []
  },
  {
   "cell_type": "code",
   "execution_count": null,
   "metadata": {},
   "outputs": [],
   "source": [
    "lookup_phase_info('aragonite')"
   ]
  },
  {
   "cell_type": "code",
   "execution_count": null,
   "metadata": {},
   "outputs": [],
   "source": [
    "phase_params['Arg'] = Berman_params(\n",
    "    Phase='Aragonite', Formula='Ca(1)C(1)O(3)',\n",
    "    H_TrPr=-1206819.0+1100.0, S_TrPr=88.0, V_TrPr=3.415,\n",
    "    k0=166.62, k1=-14.994E2, k2=0.0, k3=5.449E7,\n",
    "    v1=-1.4E-6, v2=0.0, v3=8.907E-6, v4=227.402E-10)"
   ]
  },
  {
   "cell_type": "code",
   "execution_count": null,
   "metadata": {},
   "outputs": [],
   "source": []
  },
  {
   "cell_type": "code",
   "execution_count": null,
   "metadata": {},
   "outputs": [],
   "source": [
    "lookup_phase_info('siderite')"
   ]
  },
  {
   "cell_type": "code",
   "execution_count": null,
   "metadata": {},
   "outputs": [],
   "source": [
    "phase_params['Sd'] = Berman_params(\n",
    "    Phase='Siderite', Formula='Fe(1)C(1)O(3)',\n",
    "    H_TrPr=-755900.0, S_TrPr=95.5, V_TrPr=2.938,\n",
    "    k0=177.36, k1=-16.694E2, k2=-3.551E5, k3=15.078E7,\n",
    "    v1=-0.890E-6, v2=2.212E-12, v3=18.436E-6, v4=415.968E-10)"
   ]
  },
  {
   "cell_type": "code",
   "execution_count": null,
   "metadata": {},
   "outputs": [],
   "source": []
  },
  {
   "cell_type": "code",
   "execution_count": null,
   "metadata": {},
   "outputs": [],
   "source": [
    "lookup_phase_info('dolomite')"
   ]
  },
  {
   "cell_type": "code",
   "execution_count": null,
   "metadata": {},
   "outputs": [],
   "source": [
    "phase_params['Dol'] = Berman_params(\n",
    "    Phase='Dolomite', Formula='Ca(1)Mg(1)C(2)O(6)',\n",
    "    H_TrPr=-2324500.0+1100.0, S_TrPr=155.2, V_TrPr=6.434,\n",
    "    k0=368.02, k1=-37.508E2, k2=0.0, k3=18.079E7,\n",
    "    v1=-1.4E-6, v2=0.0, v3=8.907E-6, v4=227.402E-10)"
   ]
  },
  {
   "cell_type": "code",
   "execution_count": null,
   "metadata": {},
   "outputs": [],
   "source": []
  },
  {
   "cell_type": "code",
   "execution_count": null,
   "metadata": {},
   "outputs": [],
   "source": []
  },
  {
   "cell_type": "markdown",
   "metadata": {},
   "source": [
    "# Build Databse"
   ]
  },
  {
   "cell_type": "code",
   "execution_count": null,
   "metadata": {},
   "outputs": [],
   "source": [
    "mod_name = 'berman'"
   ]
  },
  {
   "cell_type": "code",
   "execution_count": null,
   "metadata": {},
   "outputs": [],
   "source": [
    "modelDB, coder_mod = make_custom_database(mod_name, phase_params)"
   ]
  },
  {
   "cell_type": "code",
   "execution_count": null,
   "metadata": {},
   "outputs": [],
   "source": []
  },
  {
   "cell_type": "markdown",
   "metadata": {},
   "source": [
    "# Examine Phases in DB\n",
    "* note Water and liq (melt) are always present according to MELTS and DEW models..."
   ]
  },
  {
   "cell_type": "code",
   "execution_count": null,
   "metadata": {},
   "outputs": [],
   "source": [
    "modelDB.phase_info"
   ]
  },
  {
   "cell_type": "code",
   "execution_count": null,
   "metadata": {},
   "outputs": [],
   "source": []
  },
  {
   "cell_type": "markdown",
   "metadata": {},
   "source": [
    "# Save output phases for later"
   ]
  },
  {
   "cell_type": "code",
   "execution_count": null,
   "metadata": {},
   "outputs": [],
   "source": [
    "output = {}\n",
    "\n",
    "for phsnm in phase_params:\n",
    "    iphs = modelDB.get_phase(phsnm)\n",
    "    output[phsnm] = iphs\n",
    "    "
   ]
  },
  {
   "cell_type": "code",
   "execution_count": null,
   "metadata": {},
   "outputs": [],
   "source": [
    "output"
   ]
  },
  {
   "cell_type": "code",
   "execution_count": null,
   "metadata": {},
   "outputs": [],
   "source": [
    "with open('carbon-phases.pkl','wb') as file:\n",
    "    dill.dump(output, file)\n",
    "    file.close()"
   ]
  },
  {
   "cell_type": "code",
   "execution_count": null,
   "metadata": {},
   "outputs": [],
   "source": []
  },
  {
   "cell_type": "code",
   "execution_count": null,
   "metadata": {},
   "outputs": [],
   "source": []
  }
 ],
 "metadata": {
  "kernelspec": {
   "display_name": "Python 3",
   "language": "python",
   "name": "python3"
  },
  "language_info": {
   "codemirror_mode": {
    "name": "ipython",
    "version": 3
   },
   "file_extension": ".py",
   "mimetype": "text/x-python",
   "name": "python",
   "nbconvert_exporter": "python",
   "pygments_lexer": "ipython3",
   "version": "3.6.2"
  }
 },
 "nbformat": 4,
 "nbformat_minor": 2
}
