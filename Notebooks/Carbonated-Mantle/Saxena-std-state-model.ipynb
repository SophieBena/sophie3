{
 "cells": [
  {
   "cell_type": "markdown",
   "metadata": {},
   "source": [
    "# Saxena Standard State Code Generator \n",
    "Required system packages and initialization"
   ]
  },
  {
   "cell_type": "code",
   "execution_count": null,
   "metadata": {},
   "outputs": [],
   "source": [
    "import pandas as pd\n",
    "import numpy as np\n",
    "import sympy as sym\n",
    "sym.init_printing()"
   ]
  },
  {
   "cell_type": "code",
   "execution_count": null,
   "metadata": {},
   "outputs": [],
   "source": []
  },
  {
   "cell_type": "markdown",
   "metadata": {},
   "source": [
    "Required ENKI packages"
   ]
  },
  {
   "cell_type": "code",
   "execution_count": null,
   "metadata": {},
   "outputs": [],
   "source": [
    "from thermoengine import coder"
   ]
  },
  {
   "cell_type": "markdown",
   "metadata": {},
   "source": [
    "# Types of terms in a standard state properties description\n",
    "There are three classes of terms:\n",
    "1. Terms that apply over the whole of $T$-, $P$-space, $T_r \\le T$, $P_r \\le P$\n",
    "2. Terms that apply over a specified range of $T$-, $P$-space, $(T_{r_\\lambda},P_{r_\\lambda}) \\le (T,P) \\le (T_\\lambda,P_\\lambda)$\n",
    "3. Terms that apply to a specific $T_t$ and $P_t$ and higher $T$, $P$, $T_t \\le T$, $P_t \\le P$\n",
    "\n",
    "Second-order phase transitions ($lambda$-transitions) are an example of the second type, as are order disorder transformations. First-order phase transitions are an example of the third type.  "
   ]
  },
  {
   "cell_type": "markdown",
   "metadata": {},
   "source": [
    "## Create a model class for the Gibbs free energy"
   ]
  },
  {
   "cell_type": "code",
   "execution_count": null,
   "metadata": {},
   "outputs": [],
   "source": [
    "model = coder.StdStateModel()"
   ]
  },
  {
   "cell_type": "markdown",
   "metadata": {},
   "source": [
    "Retrieve sympy symbols for model variables and reference conditions"
   ]
  },
  {
   "cell_type": "code",
   "execution_count": null,
   "metadata": {},
   "outputs": [],
   "source": [
    "T = model.get_symbol_for_t()\n",
    "P = model.get_symbol_for_p()\n",
    "Tr = model.get_symbol_for_tr()\n",
    "Pr = model.get_symbol_for_pr()"
   ]
  },
  {
   "cell_type": "markdown",
   "metadata": {},
   "source": [
    "### Define model expressions applicable over all of T,P space\n",
    "An expression for the Gibbs free energy, $G(T,P)$ or the Helmholtz energy $A(T,V)$ is constructed.  The expression may have multiple parts.  Often the heat capacity function is postulated, then integrated to yield expressions for the entahlpy, entropy, and in combination the energy potential. Then, an equation of state (EOS) is adopted and that term is integrated in pressure or volume and added to the heat capacity integrals. This proceedure is follwed here.\n",
    "#### (1) $C_P$ integrals\n",
    "The isobaric heat capacity terms parameterized as: $C_P = a_{C_P} + b_{C_P} T + c_{C_P}/T^2 + d_{C_P} T^2 + e_{C_P}/T^3 + g_{C_P}/\\sqrt{T} + h_{C_P}/T$,\n",
    "\n",
    "\n",
    "and in addition the reference condition third law entropy, $ S_{Tr,Pr} $, and enthalpy of formation from the\n",
    "elements, $ \\Delta H_{Tr,Pr} $, constitute additional parameters:"
   ]
  },
  {
   "cell_type": "code",
   "execution_count": null,
   "metadata": {},
   "outputs": [],
   "source": [
    "acp,bcp,ccp,dcp,ecp,gcp,hcp = sym.symbols('a_cp b_cp c_cp d_cp e_cp g_cp h_cp')\n",
    "CpPr = acp + bcp*T + ccp/T**2 + dcp*T**2 + ecp/T**3 + gcp/sym.sqrt(T) + hcp/T\n",
    "STrPr,HTrPr = sym.symbols('S_TrPr H_TrPr')"
   ]
  },
  {
   "cell_type": "code",
   "execution_count": null,
   "metadata": {},
   "outputs": [],
   "source": [
    "CpPr"
   ]
  },
  {
   "cell_type": "markdown",
   "metadata": {},
   "source": [
    "Specify paramters ..."
   ]
  },
  {
   "cell_type": "code",
   "execution_count": null,
   "metadata": {},
   "outputs": [],
   "source": [
    "params = [('H_TrPr','J',HTrPr), ('S_TrPr','J/K',STrPr), \n",
    "          ('a_cp','J/K-m',acp), \n",
    "          ('b_cp','J/K^2-m',bcp), \n",
    "          ('c_cp','J*K/m',ccp), \n",
    "          ('d_cp','J/K^3-m',dcp), \n",
    "          ('e_cp','J*K^2/m',ecp), \n",
    "          ('g_cp','J/K^{1/2}-m',gcp),\n",
    "          ('h_cp','J/m',hcp)]"
   ]
  },
  {
   "cell_type": "markdown",
   "metadata": {},
   "source": [
    "Define the heat capacity contribution to the Gibbs free energy ..."
   ]
  },
  {
   "cell_type": "code",
   "execution_count": null,
   "metadata": {},
   "outputs": [],
   "source": [
    "GPr = HTrPr + sym.integrate(CpPr,(T,Tr,T)) - T*(STrPr + sym.integrate(CpPr/T,(T,Tr,T)))"
   ]
  },
  {
   "cell_type": "code",
   "execution_count": null,
   "metadata": {},
   "outputs": [],
   "source": [
    "GPr"
   ]
  },
  {
   "cell_type": "markdown",
   "metadata": {},
   "source": [
    "... and add this expression to the model"
   ]
  },
  {
   "cell_type": "code",
   "execution_count": null,
   "metadata": {},
   "outputs": [],
   "source": [
    "model.add_expression_to_model(GPr, params)"
   ]
  },
  {
   "cell_type": "code",
   "execution_count": null,
   "metadata": {},
   "outputs": [],
   "source": []
  },
  {
   "cell_type": "markdown",
   "metadata": {},
   "source": [
    "#### (2) $V$ (EOS) integrals\n",
    "Next, define a volume-explicit equation of state applicable over the whole of temperature and pressure space\n"
   ]
  },
  {
   "cell_type": "code",
   "execution_count": null,
   "metadata": {},
   "outputs": [],
   "source": [
    "VTrPr,a0,K0 = sym.symbols('V_TrPr a0 K0')\n",
    "\n",
    "V_T, K_T, dK_T, dK_P = sym.symbols(\"V_T K_T K'_T K'_P\")"
   ]
  },
  {
   "cell_type": "code",
   "execution_count": null,
   "metadata": {},
   "outputs": [],
   "source": [
    "V = V_T*(1+dK_P*P/K_T)**(-1/dK_P)\n",
    "V"
   ]
  },
  {
   "cell_type": "markdown",
   "metadata": {},
   "source": [
    "#### (2) $V$ (EOS) integrals\n",
    "Next, define a volume-implicit equation of state applicable over the whole of temperature and pressure space.  We will use the 3rd order Birch-Murnaghan expression:  \n",
    "$P = \\frac{{3K}}{2}\\left[ {{{\\left( {\\frac{{{V_{{T_r}.{P_r}}}}}{V}} \\right)}^{\\frac{7}{3}}} - {{\\left( {\\frac{{{V_{{T_r}.{P_r}}}}}{V}} \\right)}^{\\frac{5}{3}}}} \\right]\\left\\{ {\\left( {\\frac{{3{K_P}}}{4} - 3} \\right)\\left[ {{{\\left( {\\frac{{{V_{{T_r}.{P_r}}}}}{V}} \\right)}^{\\frac{2}{3}}} - 1} \\right] + 1} \\right\\}$  \n",
    "The parameters in this expression are:"
   ]
  },
  {
   "cell_type": "code",
   "execution_count": null,
   "metadata": {},
   "outputs": [],
   "source": []
  },
  {
   "cell_type": "code",
   "execution_count": null,
   "metadata": {},
   "outputs": [],
   "source": [
    "VTrPr,K,Kp, alpha = sym.symbols('V_TrPr K K_P alpha')\n",
    "params = [('V_TrPr', 'J/bar-m', VTrPr), ('K','bar',K), ('K_P','',Kp), \n",
    "          ('alpha','1/K',alpha)]"
   ]
  },
  {
   "cell_type": "markdown",
   "metadata": {},
   "source": [
    "where *V* is an implicit function of *T* and *P*:"
   ]
  },
  {
   "cell_type": "code",
   "execution_count": null,
   "metadata": {},
   "outputs": [],
   "source": [
    "V = sym.Function('V')(T,P)"
   ]
  },
  {
   "cell_type": "markdown",
   "metadata": {},
   "source": [
    "Define *f*, an implicit function derived from the Birch-Murnaghan expression. *f* has a value zero for internally consistent *V*, *T*, and *P*:  \n",
    "$f = 0 = \\frac{{3K}}{2}\\left[ {{{\\left( {\\frac{{{V_{{T_r}.{P_r}}}}}{V}} \\right)}^{\\frac{7}{3}}} - {{\\left( {\\frac{{{V_{{T_r}.{P_r}}}}}{V}} \\right)}^{\\frac{5}{3}}}} \\right]\\left\\{ {\\left( {\\frac{{3{K_P}}}{4} - 3} \\right)\\left[ {{{\\left( {\\frac{{{V_{{T_r}.{P_r}}}}}{V}} \\right)}^{\\frac{2}{3}}} - 1} \\right] + 1} \\right\\} - P$"
   ]
  },
  {
   "cell_type": "code",
   "execution_count": null,
   "metadata": {},
   "outputs": [],
   "source": [
    "f = (sym.S(3)*K/sym.S(2))*(\n",
    "    (VTrPr/V)**(sym.S(7)/sym.S(3))-(VTrPr/V)**(sym.S(5)/sym.S(3)))*(\n",
    "    1+(sym.S(3)/sym.S(4))*(Kp-4)*((VTrPr/V)**(sym.S(2)/sym.S(3))-1)) -(\n",
    "    alpha*K*(T-Tr)) + Pr - P \n",
    "f"
   ]
  },
  {
   "cell_type": "markdown",
   "metadata": {},
   "source": [
    "Because the EOS is explicit in *P* (and a function of *T* and *V*), the natural thermodynamic potential to use is the Helmholtz energy, *A*. *A* is obtained by integrating pressure from the reference volume to the final volume:  \n",
    "${A_{T,P}} - {A_{{T_r},{P_r}}} = \\int_{{V_{{T_r},{P_r}}}}^{{V_{T,P}}} {PdV}$  \n",
    "Note: To perform this integration in SymPy, first define a variable of integration, $V_{TP}$, substitute that variable for the function $V(T,P)$, and integrate $f$ with respect to $V_{TP}$ over the limits $V_{TrPr}$ to $V(T,P)$.  This procedure generates an expression for the Helmholtz energy that is a function of $V(T,P)$.  \n",
    "Note: The integration is performed on the integrand $f+P$, which corresponds to the Birch-Murnaghan expression for $P$."
   ]
  },
  {
   "cell_type": "code",
   "execution_count": null,
   "metadata": {},
   "outputs": [],
   "source": [
    "VTP = sym.symbols('V_TP')\n",
    "A = sym.integrate((f+P).subs(V,VTP),(VTP,VTrPr,V)).simplify()\n",
    "A"
   ]
  },
  {
   "cell_type": "markdown",
   "metadata": {},
   "source": [
    "The Gibbs free energy contribution if given by the identity: $G = A + PV$ and ${G_{T,P}} - {G_{{T_r},{P_r}}} = {A_{T,P}} + PV - {A_{{T_r},{P_r}}} - {P_r}{V_{{T_r},{P_r}}}$"
   ]
  },
  {
   "cell_type": "code",
   "execution_count": null,
   "metadata": {},
   "outputs": [],
   "source": [
    "GTr = A+(f+P)*V-A.subs(V,VTrPr)-Pr*VTrPr\n",
    "GTr"
   ]
  },
  {
   "cell_type": "markdown",
   "metadata": {},
   "source": [
    "The *implicit_function* argument of the *add_expression_to_model* method conveys information about how to compute a value for the implicit variable contained in the Gibbs free energy expression passed as the first argument.  It is an array of tuples; each tuple has three components. The first is a sympy expression for the implicit function, which evaluates to zero for an internally consistent set of *T*, *P*, *V*. The second component is a symbol for the function definition of the implicit variable.  The third component is is a sympy expression that initializes *f* in the iterative routine. This expression must be defined in terms of known parameters and Tr, Pr, T, P.. "
   ]
  },
  {
   "cell_type": "code",
   "execution_count": null,
   "metadata": {},
   "outputs": [],
   "source": [
    "model.add_expression_to_model(GTr, params, implicit_functions=[(f,V,VTrPr*.95)])"
   ]
  },
  {
   "cell_type": "markdown",
   "metadata": {},
   "source": [
    "Note:  \n",
    "The implicit function will be utilized in code generation not only to compute the value of *V*, given a *T* and *P*, but also to evaluate derivatives of *V*,  Since:  \n",
    "\n",
    "$dP = {\\left( {\\frac{{\\partial P}}{{\\partial V}}} \\right)_T}dV + {\\left( {\\frac{{\\partial P}}{{\\partial T}}} \\right)_V}dT$,   \n",
    "\n",
    "${d^2}P = d{\\left( {\\frac{{\\partial P}}{{\\partial V}}} \\right)_T}dV + {\\left( {\\frac{{\\partial P}}{{\\partial V}}} \\right)_T}{d^2}V + d{\\left( {\\frac{{\\partial P}}{{\\partial T}}} \\right)_V}dT + {\\left( {\\frac{{\\partial P}}{{\\partial T}}} \\right)_V}{d^2}T$, or  \n",
    "\n",
    "${d^2}P = {\\left( {\\frac{{{\\partial ^2}P}}{{\\partial {V^2}}}} \\right)_T}dVdV + 2\\left( {\\frac{{{\\partial ^2}P}}{{\\partial V\\partial T}}} \\right)dVdT + {\\left( {\\frac{{{\\partial ^2}P}}{{\\partial {T^2}}}} \\right)_V}dTdT + {\\left( {\\frac{{\\partial P}}{{\\partial V}}} \\right)_T}{d^2}V + {\\left( {\\frac{{\\partial P}}{{\\partial T}}} \\right)_V}{d^2}T$"
   ]
  },
  {
   "cell_type": "code",
   "execution_count": null,
   "metadata": {},
   "outputs": [],
   "source": []
  }
 ],
 "metadata": {
  "kernelspec": {
   "display_name": "Python 3",
   "language": "python",
   "name": "python3"
  },
  "language_info": {
   "codemirror_mode": {
    "name": "ipython",
    "version": 3
   },
   "file_extension": ".py",
   "mimetype": "text/x-python",
   "name": "python",
   "nbconvert_exporter": "python",
   "pygments_lexer": "ipython3",
   "version": "3.6.2"
  }
 },
 "nbformat": 4,
 "nbformat_minor": 2
}
