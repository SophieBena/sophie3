{
 "cells": [
  {
   "cell_type": "markdown",
   "metadata": {},
   "source": [
    "# Stixrude-Lithgow-Bertelloni pseudo-omnicomponent phase generation\n",
    "Required Python packages/modules"
   ]
  },
  {
   "cell_type": "code",
   "execution_count": null,
   "metadata": {},
   "outputs": [],
   "source": [
    "import numpy as np\n",
    "from os import path\n",
    "import pandas as pd\n",
    "import scipy.optimize as opt\n",
    "import scipy.linalg as lin \n",
    "import scipy as sp\n",
    "import sys\n",
    "import sympy as sym\n",
    "\n",
    "import matplotlib.pyplot as plt"
   ]
  },
  {
   "cell_type": "code",
   "execution_count": null,
   "metadata": {},
   "outputs": [],
   "source": []
  },
  {
   "cell_type": "markdown",
   "metadata": {},
   "source": [
    "Required ENKI modules (ignore the error message from Rubicon running under Python 3.6+)"
   ]
  },
  {
   "cell_type": "code",
   "execution_count": null,
   "metadata": {},
   "outputs": [],
   "source": [
    "from thermoengine import coder, core, phases, model, equilibrate"
   ]
  },
  {
   "cell_type": "code",
   "execution_count": null,
   "metadata": {},
   "outputs": [],
   "source": []
  },
  {
   "cell_type": "code",
   "execution_count": null,
   "metadata": {},
   "outputs": [],
   "source": []
  },
  {
   "cell_type": "code",
   "execution_count": null,
   "metadata": {},
   "outputs": [],
   "source": [
    "def get_subsolidus_phases(database='Berman'):\n",
    "    remove_phases = ['Liq','H2O']\n",
    "    \n",
    "    modelDB = model.Database(database)\n",
    "    phases = modelDB.phases\n",
    "    [phases.pop(phs) for phs in remove_phases]\n",
    "        \n",
    "    return phases\n",
    "        \n",
    "def system_energy_landscape(T, P, phases, TOL=1e-3):\n",
    "    elem_comps = []\n",
    "    phs_sym = []\n",
    "    endmem_ids = []\n",
    "    mu = []\n",
    "    for phsnm in phases:\n",
    "        phs = phases[phsnm]\n",
    "        \n",
    "        elem_comp = phs.props['element_comp']\n",
    "        abbrev = phs.abbrev\n",
    "        endmem_num = phs.endmember_num\n",
    "        iendmem_ids = list(np.arange(endmem_num))\n",
    "        \n",
    "        if phs.phase_type=='pure':\n",
    "            nelem = np.sum(elem_comp)\n",
    "            mu += [phs.gibbs_energy(T, P)/nelem]\n",
    "            # print(nelem)\n",
    "        else:\n",
    "            nelem = np.sum(elem_comp,axis=1)\n",
    "            # print(nelem)\n",
    "            for i in iendmem_ids:\n",
    "                imol = np.eye(phs.endmember_num)[i]\n",
    "                mu += [phs.gibbs_energy(T, P, mol=imol,deriv={\"dmol\":1})[0,i]/nelem[i]]\n",
    "                # print(nelem[i])\n",
    "                \n",
    "        endmem_ids.extend(iendmem_ids)\n",
    "        phs_sym.extend(list(np.tile(abbrev,endmem_num)))\n",
    "        # print(elem_comp)\n",
    "        \n",
    "        elem_comps.extend(elem_comp)\n",
    "        # print(elem_comp)\n",
    "        # print(phs)\n",
    "        \n",
    "    elem_comps = np.vstack(elem_comps)\n",
    "    \n",
    "    natoms = np.sum(elem_comps,axis=1)\n",
    "    elem_comps = elem_comps/natoms[:,np.newaxis]\n",
    "    \n",
    "    elem_mask = ~np.all(elem_comps<TOL, axis=0)\n",
    "    \n",
    "    elem_comps = elem_comps[:, elem_mask]\n",
    "    mu = np.array(mu)\n",
    "    endmem_ids = np.array(endmem_ids)\n",
    "    \n",
    "    sys_elems = core.chem.PERIODIC_ORDER[elem_mask]\n",
    "    return phs_sym, endmem_ids, mu, elem_comps, sys_elems\n",
    "\n",
    "def prune_polymorphs(phs_sym, endmem_ids, mu, elem_comps, decimals=4):\n",
    "    elem_round_comps = np.round(elem_comps, decimals=decimals)\n",
    "        # Drop identical comps\n",
    "    elem_comps_uniq = np.unique(elem_round_comps, axis=0)\n",
    "    \n",
    "    # uniq_num = elem_comps_uniq.shape[0]\n",
    "    mu_uniq = []\n",
    "    phs_sym_uniq = []\n",
    "    endmem_ids_uniq = []\n",
    "    for elem_comp in elem_comps_uniq:\n",
    "        is_equiv_comp = np.all(elem_round_comps == elem_comp[np.newaxis,:], axis=1)\n",
    "        equiv_ind = np.where(is_equiv_comp)[0]\n",
    "        min_ind = equiv_ind[np.argsort(mu[equiv_ind])[0]]\n",
    "        min_mu = mu[min_ind]\n",
    "        assert np.all(min_mu <= mu[equiv_ind]), 'fail'\n",
    "        \n",
    "        mu_uniq.append(min_mu)\n",
    "        phs_sym_uniq.append(phs_sym[min_ind])\n",
    "        endmem_ids_uniq.append(endmem_ids[min_ind])\n",
    "        \n",
    "    mu_uniq = np.array(mu_uniq)\n",
    "    phs_sym_uniq = np.array(phs_sym_uniq)\n",
    "    elem_comps_uniq = np.array(elem_comps_uniq)\n",
    "    \n",
    "    return phs_sym_uniq, endmem_ids_uniq, mu_uniq, elem_comps_uniq\n",
    "\n"
   ]
  },
  {
   "cell_type": "code",
   "execution_count": null,
   "metadata": {},
   "outputs": [],
   "source": []
  },
  {
   "cell_type": "code",
   "execution_count": null,
   "metadata": {},
   "outputs": [],
   "source": [
    "def min_energy_assemblage(bulk_comp, comp, mu, TOLmu=10, TOL=1e-5):\n",
    "    xy = np.hstack((comp, mu[:,np.newaxis]))\n",
    "    yavg = np.mean(mu)\n",
    "    xy_bulk = np.hstack((bulk_comp, yavg))\n",
    "    \n",
    "    wt0, rnorm0 = opt.nnls(xy.T, xy_bulk)\n",
    "    # print('rnorm',rnorm0)\n",
    "    \n",
    "    \n",
    "    def fun(mu, shift=0):\n",
    "        xy_bulk[-1] = mu\n",
    "        wt, rnorm = opt.nnls(xy.T, xy_bulk)\n",
    "        return rnorm-shift\n",
    "    \n",
    "    \n",
    "    delmu = .1\n",
    "    if rnorm0==0:\n",
    "        shift_dir = -1\n",
    "        soln_found = True\n",
    "    else:\n",
    "        output = opt.minimize_scalar(fun, bounds=[np.min(mu), np.max(mu)])\n",
    "        xy_bulk[-1] = output['x']\n",
    "        wt0, rnorm0 = opt.nnls(xy.T, xy_bulk)\n",
    "        shift_dir = -1\n",
    "        \n",
    "    mu_prev=xy_bulk[-1]\n",
    "    rnorm=rnorm0\n",
    "    \n",
    "    while True:\n",
    "        mu_prev = xy_bulk[-1]\n",
    "        rnorm_prev = rnorm\n",
    "        \n",
    "        xy_bulk[-1] += shift_dir*delmu\n",
    "        wt, rnorm = opt.nnls(xy.T, xy_bulk)\n",
    "        delmu *= 2\n",
    "        \n",
    "        # print(shift_dir, rnorm)\n",
    "        if ((shift_dir==+1)&(rnorm>rnorm_prev)) or ((shift_dir==-1)&(rnorm>0)):\n",
    "            break\n",
    "            \n",
    "        \n",
    "    fun_fit = lambda mu, TOL=TOL: fun(mu, shift=TOL)\n",
    "    if rnorm > TOL:\n",
    "        mu_bulk = opt.brentq(fun_fit, mu_prev, xy_bulk[-1], xtol=TOLmu)\n",
    "        xy_bulk[-1] = mu_bulk\n",
    "        wt, rnorm = opt.nnls(xy.T, xy_bulk)\n",
    "        \n",
    "    mu_bulk = xy_bulk[-1]\n",
    "    wt_bulk = wt\n",
    "        \n",
    "        \n",
    "    ind_assem = np.where(wt_bulk>0)[0]\n",
    "    return wt_bulk, mu_bulk, ind_assem \n"
   ]
  },
  {
   "cell_type": "code",
   "execution_count": null,
   "metadata": {},
   "outputs": [],
   "source": [
    "def eval_curv(comps, method, cross_term_inds):\n",
    "    single_pt = False\n",
    "    if comps.ndim==1:\n",
    "        single_pt = True\n",
    "        comps = comps[np.newaxis,:]\n",
    "        \n",
    "    if method=='quad':\n",
    "        XiXj = comps[:, cross_term_inds[0]]*comps[:, cross_term_inds[1]]\n",
    "        X2_sum = np.sum(XiXj,axis=1)\n",
    "        curv_term = X2_sum\n",
    "    elif method=='quad-full':\n",
    "        XiXj = comps[:, cross_term_inds[0]]*comps[:, cross_term_inds[1]]\n",
    "        curv_term = XiXj\n",
    "    elif method=='xlogx':\n",
    "        logX = np.log(comps)\n",
    "        logX[comps==0] = 0\n",
    "        XlogX = comps*logX\n",
    "        # XlogX[comps==0] = 0\n",
    "        XlogX_sum = np.sum(XlogX,axis=1)\n",
    "        curv_term = XlogX_sum\n",
    "    elif method=='none':\n",
    "        curv_term = np.zeros((comps.shape[0],0))\n",
    "    else:\n",
    "        assert False, method + ' is not a valid method for eval_curv.'\n",
    "        \n",
    "    if single_pt:\n",
    "        curv_term = curv_term[0]\n",
    "    \n",
    "    return curv_term"
   ]
  },
  {
   "cell_type": "code",
   "execution_count": null,
   "metadata": {},
   "outputs": [],
   "source": [
    "def init_lstsq(comps, mu, curv_method, cross_term_inds, yscl=None):\n",
    "    curv_term = eval_curv(comps, curv_method, cross_term_inds)\n",
    "    if curv_term.ndim==1:\n",
    "        curv_term = curv_term[:,np.newaxis]\n",
    "    \n",
    "    print(curv_term)\n",
    "        \n",
    "    xobs = np.hstack((comps, curv_term))\n",
    "    if yscl is None:\n",
    "        yexp_scl = np.floor(np.log10(np.max(mu)-np.min(mu)))\n",
    "        yscl = 10**yexp_scl\n",
    "        \n",
    "    yobs = mu/yscl\n",
    "    \n",
    "    return xobs, yobs, yscl"
   ]
  },
  {
   "cell_type": "code",
   "execution_count": null,
   "metadata": {},
   "outputs": [],
   "source": []
  },
  {
   "cell_type": "markdown",
   "metadata": {},
   "source": [
    "### T,P, parameters and options for pseudo-phase generation"
   ]
  },
  {
   "cell_type": "code",
   "execution_count": null,
   "metadata": {},
   "outputs": [],
   "source": [
    "T = 1300.0                  # K\n",
    "P = 20000.0                 # bars\n",
    "P = 300000.0                 # bars\n",
    "# T = 1500.0                  # K\n",
    "# P = 40000.0                 # bars"
   ]
  },
  {
   "cell_type": "code",
   "execution_count": null,
   "metadata": {},
   "outputs": [],
   "source": [
    "# database='Berman'\n",
    "database='Stixrude'"
   ]
  },
  {
   "cell_type": "code",
   "execution_count": null,
   "metadata": {},
   "outputs": [],
   "source": [
    "# ADD extra phases (e.g. carbonates as needed here)"
   ]
  },
  {
   "cell_type": "code",
   "execution_count": null,
   "metadata": {},
   "outputs": [],
   "source": [
    "database='Stixrude'\n",
    "phases = get_subsolidus_phases(database=database)\n",
    "phs_sym, endmem_ids, mu, elem_comps, sys_elems = system_energy_landscape(T, P, phases)\n",
    "# display(phs_sym, endmem_ids, mu, elem_comps, sys_elems)\n",
    "phs_sym_uniq, endmem_ids_uniq, mu_uniq, elem_comps_uniq = (\n",
    "    prune_polymorphs(phs_sym, endmem_ids, mu, elem_comps))\n",
    "Nelems = len(sys_elems)\n",
    "Npts = mu_uniq.size"
   ]
  },
  {
   "cell_type": "code",
   "execution_count": null,
   "metadata": {},
   "outputs": [],
   "source": [
    "sys_elems"
   ]
  },
  {
   "cell_type": "code",
   "execution_count": null,
   "metadata": {},
   "outputs": [],
   "source": []
  },
  {
   "cell_type": "code",
   "execution_count": null,
   "metadata": {},
   "outputs": [],
   "source": [
    "def get_quad_inds(Nelems):\n",
    "    ind_rows, ind_cols = np.tril_indices(Nelems,-1)\n",
    "    cross_term_inds = np.vstack((ind_rows,ind_cols))\n",
    "    return cross_term_inds\n",
    "\n",
    "cross_term_inds = get_quad_inds(Nelems)\n",
    "# cross_term_inds[0]"
   ]
  },
  {
   "cell_type": "code",
   "execution_count": null,
   "metadata": {},
   "outputs": [],
   "source": []
  },
  {
   "cell_type": "markdown",
   "metadata": {},
   "source": [
    "# Define bulk composition"
   ]
  },
  {
   "cell_type": "code",
   "execution_count": null,
   "metadata": {},
   "outputs": [],
   "source": [
    "wt = np.random.rand(elem_comps_uniq.shape[0])\n",
    "wt = wt/np.sum(wt)\n",
    "bulk_comp = np.dot(wt, elem_comps_uniq)"
   ]
  },
  {
   "cell_type": "code",
   "execution_count": null,
   "metadata": {},
   "outputs": [],
   "source": []
  },
  {
   "cell_type": "markdown",
   "metadata": {},
   "source": [
    "# Get minimum energy assemblage"
   ]
  },
  {
   "cell_type": "code",
   "execution_count": null,
   "metadata": {},
   "outputs": [],
   "source": [
    "wt_bulk, mu_bulk, ind_assem = min_energy_assemblage(\n",
    "    bulk_comp, elem_comps_uniq, mu_uniq, TOLmu=10)\n",
    "comp_assem, mu_assem = elem_comps_uniq[ind_assem], mu_uniq[ind_assem]\n",
    "comp_assem_avg = np.mean(comp_assem,axis=0)\n",
    "X2scl = np.min(np.sum((comp_assem-comp_assem_avg)**2,axis=1))"
   ]
  },
  {
   "cell_type": "code",
   "execution_count": null,
   "metadata": {},
   "outputs": [],
   "source": [
    "comp_assem"
   ]
  },
  {
   "cell_type": "code",
   "execution_count": null,
   "metadata": {},
   "outputs": [],
   "source": [
    "bulk_comp"
   ]
  },
  {
   "cell_type": "code",
   "execution_count": null,
   "metadata": {},
   "outputs": [],
   "source": [
    "wt_bulk[ind_assem]"
   ]
  },
  {
   "cell_type": "markdown",
   "metadata": {},
   "source": [
    "# Fit simple quadratic (diagonal terms only) as function of endmember fractions\n"
   ]
  },
  {
   "cell_type": "code",
   "execution_count": null,
   "metadata": {},
   "outputs": [],
   "source": [
    "\n",
    "\n",
    "def fit_quad_excess_endmem(comp_assem, wt_bulk_assem, dmu_endmem=3e3):\n",
    "    N_assem = comp_assem.shape[0]\n",
    "    \n",
    "    wt_endmem = np.eye(N_assem)\n",
    "    dwt_endmem = wt_endmem - wt_bulk_assem\n",
    "    # X_endmem = np.vstack((np.eye(N_assem), wt_bulk_assem))\n",
    "    # mu_vals = np.hstack((np.tile(dmu_endmem, N_assem), dmu_bulk))\n",
    "    mu_vals = np.tile(dmu_endmem, N_assem)\n",
    "    \n",
    "    # np.round(X_endmem,decimals=3)\n",
    "    # xobs = np.hstack((dX_endmem, dX2_endmem))\n",
    "    \n",
    "    dwt2_endmem = dwt_endmem**2\n",
    "    output = np.linalg.lstsq(dwt2_endmem, mu_vals, rcond=None)\n",
    "    # output = np.linalg.lstsq(xobs, mu_vals, rcond=None)\n",
    "    curv_endmem = output[0]\n",
    "    \n",
    "    return curv_endmem"
   ]
  },
  {
   "cell_type": "code",
   "execution_count": null,
   "metadata": {},
   "outputs": [],
   "source": [
    "wt_bulk_assem = wt_bulk[ind_assem]\n",
    "curv_endmem = fit_quad_excess_endmem(comp_assem, wt_bulk_assem, dmu_endmem=3e3)"
   ]
  },
  {
   "cell_type": "code",
   "execution_count": null,
   "metadata": {},
   "outputs": [],
   "source": [
    "wt_bulk_assem"
   ]
  },
  {
   "cell_type": "code",
   "execution_count": null,
   "metadata": {},
   "outputs": [],
   "source": [
    "dmu_bulk = 0.3e3\n",
    "dmu_endmem = 3e3"
   ]
  },
  {
   "cell_type": "code",
   "execution_count": null,
   "metadata": {},
   "outputs": [],
   "source": [
    "def random_sample(curv_endmem, wt_bulk_assem, Nsamp=9000):\n",
    "    N_assem = len(wt_bulk_assem)\n",
    "    wt_rand = np.random.rand(Nsamp, N_assem)\n",
    "    wt_rand = wt_rand/np.sum(wt_rand, axis=1)[:,np.newaxis]\n",
    "    \n",
    "    dwt_rand = wt_rand-wt_bulk_assem\n",
    "    dwt2_rand = dwt_rand**2\n",
    "    \n",
    "    mu_rand = np.dot(dwt2_rand, curv_endmem)\n",
    "    \n",
    "    \n",
    "    return wt_rand, mu_rand\n"
   ]
  },
  {
   "cell_type": "code",
   "execution_count": null,
   "metadata": {},
   "outputs": [],
   "source": [
    "wt_rand, mu_rand = random_sample(curv_endmem, wt_bulk_assem)\n",
    "comp_rand = np.dot(wt_rand, comp_assem)"
   ]
  },
  {
   "cell_type": "code",
   "execution_count": null,
   "metadata": {},
   "outputs": [],
   "source": []
  },
  {
   "cell_type": "code",
   "execution_count": null,
   "metadata": {},
   "outputs": [],
   "source": []
  },
  {
   "cell_type": "code",
   "execution_count": null,
   "metadata": {},
   "outputs": [],
   "source": []
  },
  {
   "cell_type": "code",
   "execution_count": null,
   "metadata": {},
   "outputs": [],
   "source": [
    "def fit_quad_shift(bulk_comp, comp_rand, mu_rand, comp_assem, dmu_endmem, dmu_bulk):\n",
    "    \n",
    "    N_assem = comp_assem.shape[0]\n",
    "    N_elems = len(bulk_comp)\n",
    "    \n",
    "    yobs = np.hstack((0, np.tile(dmu_endmem, N_assem), mu_rand)) + dmu_bulk\n",
    "    comps = np.vstack((bulk_comp, comp_assem, comp_rand))\n",
    "    \n",
    "    cross_terms_ind = get_quad_inds(N_elems)\n",
    "    X2 = eval_curv(comps, 'quad-full', cross_terms_ind)\n",
    "    \n",
    "    xobs = np.hstack((comps,X2))\n",
    "    \n",
    "    fit_output = np.linalg.lstsq(xobs, yobs, rcond=None)\n",
    "    coef = fit_output[0]\n",
    "    chem_pot = coef[:N_elems]\n",
    "    quad_coef = coef[N_elems:]\n",
    "    \n",
    "    \n",
    "    return chem_pot, quad_coef, xobs, yobs, fit_output\n",
    "\n",
    "chem_pot, quad_coef, xobs, yobs, fit_output = fit_quad_shift(bulk_comp, comp_rand,mu_rand, comp_assem, dmu_endmem, dmu_bulk)\n",
    "\n"
   ]
  },
  {
   "cell_type": "code",
   "execution_count": null,
   "metadata": {},
   "outputs": [],
   "source": [
    "N_assem = comp_assem.shape[0]\n",
    "for ind in range(Nelems):\n",
    "    plt.figure()\n",
    "    plt.plot(xobs[N_assem+1:,ind],yobs[N_assem+1:], 'o',color=[.5,.5,.5] )\n",
    "    plt.plot(xobs[:N_assem+1, ind],yobs[:N_assem+1], 'rx', ms=8)\n",
    "    plt.plot(comp_assem[:,ind],np.zeros(N_assem), 'k--x')\n",
    "    plt.plot(bulk_comp[ind],0, 'kx', mew=4,ms=10)\n",
    "\n"
   ]
  },
  {
   "cell_type": "code",
   "execution_count": null,
   "metadata": {},
   "outputs": [],
   "source": []
  },
  {
   "cell_type": "code",
   "execution_count": null,
   "metadata": {},
   "outputs": [],
   "source": [
    "def fit_assemblage_chem_pot(comp_assem, mu_assem):\n",
    "    fit_output_assem = np.linalg.lstsq(comp_assem, mu_assem, rcond=None)\n",
    "    chem_pot_assem = fit_output_assem[0]\n",
    "    \n",
    "    return chem_pot_assem, fit_output_assem\n",
    "\n",
    "chem_pot_assem, fit_output_assem = fit_assemblage_chem_pot(comp_assem, mu_assem)"
   ]
  },
  {
   "cell_type": "code",
   "execution_count": null,
   "metadata": {},
   "outputs": [],
   "source": [
    "chem_pot_assem"
   ]
  },
  {
   "cell_type": "code",
   "execution_count": null,
   "metadata": {},
   "outputs": [],
   "source": [
    "chem_pot"
   ]
  },
  {
   "cell_type": "code",
   "execution_count": null,
   "metadata": {},
   "outputs": [],
   "source": [
    "mu_linear = chem_pot_assem+chem_pot\n",
    "mu_linear"
   ]
  },
  {
   "cell_type": "code",
   "execution_count": null,
   "metadata": {},
   "outputs": [],
   "source": [
    "# quad_consts = quad_coef"
   ]
  },
  {
   "cell_type": "code",
   "execution_count": null,
   "metadata": {},
   "outputs": [],
   "source": []
  },
  {
   "cell_type": "markdown",
   "metadata": {},
   "source": [
    "## Build endmembers of pseudo-phase using the coder module"
   ]
  },
  {
   "cell_type": "code",
   "execution_count": null,
   "metadata": {},
   "outputs": [],
   "source": [
    "modelCD = coder.StdStateModel()\n",
    "modelCD.set_module_name('pseudo_end')\n",
    "\n",
    "GTP = sym.symbols('GTP')\n",
    "params = [('GTP','J',GTP)]\n",
    "modelCD.add_expression_to_model(GTP, params)\n",
    "\n",
    "\n",
    "model_working_dir = \"working\"\n",
    "!mkdir -p {model_working_dir}\n",
    "%cd {model_working_dir}"
   ]
  },
  {
   "cell_type": "code",
   "execution_count": null,
   "metadata": {},
   "outputs": [],
   "source": []
  },
  {
   "cell_type": "code",
   "execution_count": null,
   "metadata": {},
   "outputs": [],
   "source": [
    "def standardize_formula(form):\n",
    "    cmp = form.split('O')\n",
    "    str = ''\n",
    "    if cmp[0][-1].isdigit():\n",
    "        str += cmp[0][:-1] + '(' + cmp[0][-1] + ')'\n",
    "    else:\n",
    "        str += cmp[0] + '(1)'\n",
    "    if cmp[1] == '':\n",
    "        str += 'O'\n",
    "    else:\n",
    "        str += 'O(' + cmp[1] + ')'\n",
    "    return str"
   ]
  },
  {
   "cell_type": "code",
   "execution_count": null,
   "metadata": {},
   "outputs": [],
   "source": [
    "use_oxides_as_basis = False"
   ]
  },
  {
   "cell_type": "code",
   "execution_count": null,
   "metadata": {},
   "outputs": [],
   "source": [
    "model_type = \"calib\"\n",
    "for ind,elm in enumerate(sys_elems):\n",
    "    imu = mu_linear[ind]\n",
    "    print(imu)\n",
    "    if use_oxides_as_basis:\n",
    "        formula = standardize_formula(elm)\n",
    "    else:\n",
    "        formula = elm+'(1)'\n",
    "    param_dict = {'Phase':elm,'Formula':formula,'T_r':298.15,'P_r':1.0,'GTP':imu}\n",
    "    print (param_dict)\n",
    "    result = modelCD.create_code_module(\n",
    "        phase=param_dict.pop('Phase', None),\n",
    "        formula=param_dict.pop('Formula', None),\n",
    "        params=param_dict, module_type=model_type, silent=True)\n",
    "    print ('Component', elm, 'done!')"
   ]
  },
  {
   "cell_type": "markdown",
   "metadata": {},
   "source": [
    "Build the code (ignore error messages generated by Cython regarding 'language_level')"
   ]
  },
  {
   "cell_type": "code",
   "execution_count": null,
   "metadata": {},
   "outputs": [],
   "source": [
    "import pseudo_end\n",
    "%cd .."
   ]
  },
  {
   "cell_type": "code",
   "execution_count": null,
   "metadata": {},
   "outputs": [],
   "source": []
  },
  {
   "cell_type": "code",
   "execution_count": null,
   "metadata": {},
   "outputs": [],
   "source": [
    "elm_sys=sys_elems"
   ]
  },
  {
   "cell_type": "code",
   "execution_count": null,
   "metadata": {},
   "outputs": [],
   "source": [
    "c = len(elm_sys)\n",
    "c"
   ]
  },
  {
   "cell_type": "code",
   "execution_count": null,
   "metadata": {},
   "outputs": [],
   "source": [
    "modelCD = coder.SimpleSolnModel(nc=c)"
   ]
  },
  {
   "cell_type": "code",
   "execution_count": null,
   "metadata": {},
   "outputs": [],
   "source": []
  },
  {
   "cell_type": "code",
   "execution_count": null,
   "metadata": {},
   "outputs": [],
   "source": []
  },
  {
   "cell_type": "code",
   "execution_count": null,
   "metadata": {},
   "outputs": [],
   "source": [
    "n = modelCD.n\n",
    "nT = modelCD.nT\n",
    "X = n/nT"
   ]
  },
  {
   "cell_type": "code",
   "execution_count": null,
   "metadata": {},
   "outputs": [],
   "source": [
    "len(X)"
   ]
  },
  {
   "cell_type": "code",
   "execution_count": null,
   "metadata": {},
   "outputs": [],
   "source": [
    "# XiXj = np.dot(n,n.T)[cross_term_inds[0], cross_term_inds[1]]/nT**2\n",
    "# XiXj"
   ]
  },
  {
   "cell_type": "code",
   "execution_count": null,
   "metadata": {},
   "outputs": [],
   "source": [
    "mu = modelCD.mu\n",
    "mu"
   ]
  },
  {
   "cell_type": "code",
   "execution_count": null,
   "metadata": {},
   "outputs": [],
   "source": []
  },
  {
   "cell_type": "code",
   "execution_count": null,
   "metadata": {},
   "outputs": [],
   "source": [
    "# Tsym = modelCD.get_symbol_for_t()"
   ]
  },
  {
   "cell_type": "code",
   "execution_count": null,
   "metadata": {},
   "outputs": [],
   "source": [
    "G_ss = (n.transpose()*mu)[0]\n",
    "G_ss"
   ]
  },
  {
   "cell_type": "code",
   "execution_count": null,
   "metadata": {},
   "outputs": [],
   "source": [
    "X.shape"
   ]
  },
  {
   "cell_type": "code",
   "execution_count": null,
   "metadata": {},
   "outputs": [],
   "source": [
    "# dX = X[:,0]- bulk_comp[:,np.newaxis]\n",
    "# dX"
   ]
  },
  {
   "cell_type": "code",
   "execution_count": null,
   "metadata": {},
   "outputs": [],
   "source": [
    "# X0 = sym.MatrixSymbol('X_0',c,1)\n",
    "# X0.shape"
   ]
  },
  {
   "cell_type": "code",
   "execution_count": null,
   "metadata": {},
   "outputs": [],
   "source": [
    "# dX = (X[:,0]-X0[:,0])\n",
    "# dX = X-X0\n",
    "# dX.shape"
   ]
  },
  {
   "cell_type": "code",
   "execution_count": null,
   "metadata": {},
   "outputs": [],
   "source": [
    "# sym.Matrix(dX)"
   ]
  },
  {
   "cell_type": "code",
   "execution_count": null,
   "metadata": {},
   "outputs": [],
   "source": [
    "# if curv_method=='quad-full':\n",
    "\n",
    "curv_string = ''\n",
    "quad_strs = []\n",
    "for i,j in cross_term_inds.T:\n",
    "    # print(i, j)\n",
    "    istr = 'k_' + str(i+1) + '_' + str(j+1)\n",
    "    curv_string +=  istr + ' '\n",
    "    quad_strs.append(istr)\n",
    "    \n",
    "\n",
    "quad_consts = sym.Matrix(list(sym.symbols(curv_string)))\n",
    "\n",
    "# k_curv = sym.symbols('k_curv')\n",
    "# k_curv\n",
    "\n",
    "quad_consts"
   ]
  },
  {
   "cell_type": "code",
   "execution_count": null,
   "metadata": {},
   "outputs": [],
   "source": [
    "# Bulk composition unnecessary\n",
    "\n",
    "# bulk_string = ''\n",
    "# bulk_strs = []\n",
    "# for i in np.arange(Nelems):\n",
    "#     # print(i, j)\n",
    "#     istr = 'Xbulk_' + str(i+1)\n",
    "#     bulk_string +=  istr + ' '\n",
    "#     bulk_strs.append(istr)\n",
    "#     \n",
    "# \n",
    "# bulk_sym = sym.Matrix(list(sym.symbols(bulk_string)))"
   ]
  },
  {
   "cell_type": "code",
   "execution_count": null,
   "metadata": {},
   "outputs": [],
   "source": [
    "# bulk_sym"
   ]
  },
  {
   "cell_type": "code",
   "execution_count": null,
   "metadata": {},
   "outputs": [],
   "source": [
    "# quad_consts"
   ]
  },
  {
   "cell_type": "code",
   "execution_count": null,
   "metadata": {},
   "outputs": [],
   "source": [
    "#dX = n/nT-bulk_sym\n",
    "\n",
    "# X2_sym = np.dot(dX.T,dX)[0,0]\n",
    "# G_local_quad = nT*k_curv*X2_sym\n",
    "# G_local_quad\n",
    "\n",
    "# XiXj = np.dot(n,n.T)[cross_term_inds[0], cross_term_inds[1]]/nT**2\n",
    "# G_curv = k_curv*np.sum(nT*XiXj)"
   ]
  },
  {
   "cell_type": "code",
   "execution_count": null,
   "metadata": {},
   "outputs": [],
   "source": []
  },
  {
   "cell_type": "code",
   "execution_count": null,
   "metadata": {},
   "outputs": [],
   "source": [
    "# quad_strs"
   ]
  },
  {
   "cell_type": "code",
   "execution_count": null,
   "metadata": {},
   "outputs": [],
   "source": [
    "XiXj = np.dot(n,n.T)[cross_term_inds[0], cross_term_inds[1]]/nT**2\n",
    "G_quad = nT*np.dot(XiXj, quad_consts)[0]\n",
    "G_quad"
   ]
  },
  {
   "cell_type": "code",
   "execution_count": null,
   "metadata": {},
   "outputs": [],
   "source": [
    "\n"
   ]
  },
  {
   "cell_type": "code",
   "execution_count": null,
   "metadata": {},
   "outputs": [],
   "source": [
    "# G_quad"
   ]
  },
  {
   "cell_type": "code",
   "execution_count": null,
   "metadata": {},
   "outputs": [],
   "source": [
    "mu_shft = sym.symbols('mu_shft')\n",
    "mu_shft"
   ]
  },
  {
   "cell_type": "code",
   "execution_count": null,
   "metadata": {},
   "outputs": [],
   "source": []
  },
  {
   "cell_type": "code",
   "execution_count": null,
   "metadata": {},
   "outputs": [],
   "source": [
    "# Ncross_terms = cross_term_inds.shape[1]\n",
    "# Ncross_terms"
   ]
  },
  {
   "cell_type": "code",
   "execution_count": null,
   "metadata": {},
   "outputs": [],
   "source": [
    "Gshft = mu_shft*nT"
   ]
  },
  {
   "cell_type": "code",
   "execution_count": null,
   "metadata": {},
   "outputs": [],
   "source": [
    "# G = G_ss + G_local_quad + Gshft\n",
    "# G = G_ss + G_curv + Gshft\n",
    "G = G_ss + G_quad + Gshft\n",
    "G"
   ]
  },
  {
   "cell_type": "code",
   "execution_count": null,
   "metadata": {},
   "outputs": [],
   "source": [
    "mu_expr = G.diff(n)\n",
    "mu_expr[0]"
   ]
  },
  {
   "cell_type": "code",
   "execution_count": null,
   "metadata": {},
   "outputs": [],
   "source": [
    "mu"
   ]
  },
  {
   "cell_type": "code",
   "execution_count": null,
   "metadata": {},
   "outputs": [],
   "source": []
  },
  {
   "cell_type": "code",
   "execution_count": null,
   "metadata": {},
   "outputs": [],
   "source": [
    "mu"
   ]
  },
  {
   "cell_type": "code",
   "execution_count": null,
   "metadata": {},
   "outputs": [],
   "source": []
  },
  {
   "cell_type": "code",
   "execution_count": null,
   "metadata": {},
   "outputs": [],
   "source": [
    "subs = dict()\n",
    "\n",
    "# DO NOT SUBSTITUTE bulk comp, since this is defined in absolute comp\n",
    "# subs.update([(ni,iX)  for ni, iX in zip(n, bulk_comp)])\n",
    "# subs"
   ]
  },
  {
   "cell_type": "code",
   "execution_count": null,
   "metadata": {},
   "outputs": [],
   "source": [
    "\n",
    "subs.update([(isym,imu) for isym, imu in zip(mu, mu_linear)])\n",
    "subs[mu_shft] = 0\n",
    "subs"
   ]
  },
  {
   "cell_type": "code",
   "execution_count": null,
   "metadata": {},
   "outputs": [],
   "source": []
  },
  {
   "cell_type": "code",
   "execution_count": null,
   "metadata": {},
   "outputs": [],
   "source": [
    "subs.update([(isym,ival) for isym, ival in zip(quad_consts, quad_coef)])"
   ]
  },
  {
   "cell_type": "code",
   "execution_count": null,
   "metadata": {},
   "outputs": [],
   "source": [
    "# mu_expr.subs({[ni for ni in n:bulk_comp})\n",
    "# d.update([(isym,imu) for isym, imu in zip(mu, mod_lstsq[:-1])])\n",
    "# d[k_curv] = mod_lstsq[-1]\n",
    "subs         "
   ]
  },
  {
   "cell_type": "code",
   "execution_count": null,
   "metadata": {},
   "outputs": [],
   "source": []
  },
  {
   "cell_type": "code",
   "execution_count": null,
   "metadata": {},
   "outputs": [],
   "source": [
    "# mu_local"
   ]
  },
  {
   "cell_type": "code",
   "execution_count": null,
   "metadata": {},
   "outputs": [],
   "source": [
    "# mod_lstsq[:-1]"
   ]
  },
  {
   "cell_type": "code",
   "execution_count": null,
   "metadata": {},
   "outputs": [],
   "source": [
    "# mu_local_mod = np.array(mu_expr.subs(subs), dtype=np.float).squeeze()\n",
    "# mu_local_mod"
   ]
  },
  {
   "cell_type": "code",
   "execution_count": null,
   "metadata": {},
   "outputs": [],
   "source": []
  },
  {
   "cell_type": "code",
   "execution_count": null,
   "metadata": {},
   "outputs": [],
   "source": [
    "# mu_local_mod = np.array(mu_expr.subs(d), dtype=np.float).squeeze()\n",
    "# dmu = mu_local-mu_local_mod\n",
    "# mod_adj = np.hstack((mod_lstsq[:-1]+dmu, mod_lstsq[-1]))\n",
    "# \n",
    "# yresid = np.dot(xobs, mod_adj)-yobs\n",
    "# yobs.shape\n",
    "# \n",
    "# np.dot(xobs, mod_lstsq)"
   ]
  },
  {
   "cell_type": "code",
   "execution_count": null,
   "metadata": {},
   "outputs": [],
   "source": []
  },
  {
   "cell_type": "code",
   "execution_count": null,
   "metadata": {},
   "outputs": [],
   "source": [
    "G"
   ]
  },
  {
   "cell_type": "code",
   "execution_count": null,
   "metadata": {},
   "outputs": [],
   "source": []
  },
  {
   "cell_type": "code",
   "execution_count": null,
   "metadata": {},
   "outputs": [],
   "source": [
    "# bulk_strs"
   ]
  },
  {
   "cell_type": "code",
   "execution_count": null,
   "metadata": {},
   "outputs": [],
   "source": [
    "# bulk_sym"
   ]
  },
  {
   "cell_type": "code",
   "execution_count": null,
   "metadata": {},
   "outputs": [],
   "source": [
    "# bulk composition not needed for global model\n",
    "\n",
    "# for istr, isym in zip(bulk_strs, bulk_sym):\n",
    "#     modelCD.add_expression_to_model(\n",
    "#         G, [(istr, 'none', isym)])\n",
    "    \n",
    "\n",
    "modelCD.add_expression_to_model(G, [('mu_shft', 'J/m', mu_shft)])"
   ]
  },
  {
   "cell_type": "code",
   "execution_count": null,
   "metadata": {},
   "outputs": [],
   "source": []
  },
  {
   "cell_type": "code",
   "execution_count": null,
   "metadata": {},
   "outputs": [],
   "source": [
    "# modelCD.add_expression_to_model(G, [('k_curv', 'J/m^2', k_curv)])"
   ]
  },
  {
   "cell_type": "code",
   "execution_count": null,
   "metadata": {},
   "outputs": [],
   "source": [
    "modelCD.module = \"pseudo_soln\""
   ]
  },
  {
   "cell_type": "code",
   "execution_count": null,
   "metadata": {},
   "outputs": [],
   "source": []
  },
  {
   "cell_type": "code",
   "execution_count": null,
   "metadata": {},
   "outputs": [],
   "source": [
    "# dX = (X[:,0]-bulk_comp[:,np.newaxis])\n",
    "# dX2 = np.dot(dX.T,dX)[0,0]\n",
    "# dX2\n",
    "# \n",
    "# G_mix, k_mix = sym.symbols('G_mix k_mix')"
   ]
  },
  {
   "cell_type": "code",
   "execution_count": null,
   "metadata": {},
   "outputs": [],
   "source": []
  },
  {
   "cell_type": "code",
   "execution_count": null,
   "metadata": {},
   "outputs": [],
   "source": [
    "# G_mix = k_mix*dX2\n",
    "# G_mix"
   ]
  },
  {
   "cell_type": "code",
   "execution_count": null,
   "metadata": {},
   "outputs": [],
   "source": []
  },
  {
   "cell_type": "code",
   "execution_count": null,
   "metadata": {},
   "outputs": [],
   "source": [
    "# G = G_ss + G_mix"
   ]
  },
  {
   "cell_type": "code",
   "execution_count": null,
   "metadata": {},
   "outputs": [],
   "source": [
    "# modelCD.add_expression_to_model(G, [('k_mix', 'none', k_mix)])"
   ]
  },
  {
   "cell_type": "code",
   "execution_count": null,
   "metadata": {},
   "outputs": [],
   "source": [
    "# modelCD.module = \"pseudo_soln\""
   ]
  },
  {
   "cell_type": "code",
   "execution_count": null,
   "metadata": {},
   "outputs": [],
   "source": [
    "formula = ''\n",
    "convert = []\n",
    "test = []\n",
    "if use_oxides_as_basis:\n",
    "    for ind,elm in enumerate(elm_sys):\n",
    "        ox_index = list(core.chem.oxide_props['oxides']).index(elm)\n",
    "        ox_cat = core.chem.oxide_props['cations'][ox_index]\n",
    "        formula += ox_cat + '[' + ox_cat + ']'\n",
    "        ox_cat_num = core.chem.oxide_props['cat_num'][ox_index]\n",
    "        if ox_cat_num > 1:\n",
    "            convert.append('['+str(ind)+']=['+ox_cat+']/'+str(ox_cat_num)+'.0')\n",
    "        else:\n",
    "            convert.append('['+str(ind)+']=['+ox_cat+']')\n",
    "        test.append('['+str(ind)+'] >= 0.0')\n",
    "    formula += 'O[O]'\n",
    "else:\n",
    "    for ind,elm in enumerate(elm_sys):\n",
    "        formula += elm + '[' + elm + ']'\n",
    "        convert.append('['+str(ind)+']=['+elm+']')\n",
    "        test.append('['+str(ind)+'] >= 0.0')\n",
    "formula, convert, test"
   ]
  },
  {
   "cell_type": "code",
   "execution_count": null,
   "metadata": {},
   "outputs": [],
   "source": [
    "modelCD.formula_string = formula\n",
    "modelCD.conversion_string = convert\n",
    "modelCD.test_string = test"
   ]
  },
  {
   "cell_type": "code",
   "execution_count": null,
   "metadata": {},
   "outputs": [],
   "source": [
    "# mu_curv = np.tile(mu_curv/Ncross_terms, Ncross_terms)\n",
    "# mu_curv"
   ]
  },
  {
   "cell_type": "code",
   "execution_count": null,
   "metadata": {},
   "outputs": [],
   "source": [
    "# curv_local\n",
    "# local_curv\n",
    "quad_consts"
   ]
  },
  {
   "cell_type": "code",
   "execution_count": null,
   "metadata": {},
   "outputs": [],
   "source": [
    "paramValues = {'T_r':298.15,'P_r':1.0}"
   ]
  },
  {
   "cell_type": "code",
   "execution_count": null,
   "metadata": {},
   "outputs": [],
   "source": [
    "# for isym, ival in zip(quad_strs, mu_curv):\n",
    "#     paramValues[isym] = ival\n",
    "# paramValues['k_curv'] = mu_curv\n",
    "\n",
    "# for ibulk_val, ibulk_str in zip(bulk_comp, bulk_strs):\n",
    "#     paramValues[ibulk_str] = ibulk_val\n",
    "    \n",
    "# for ibulk_val, ibulk_str in zip(bulk_comp, bulk_strs):\n",
    "#     paramValues[ibulk_str] = ibulk_val\n",
    "    \n",
    "paramValues['mu_shft'] = 0\n",
    "    \n",
    "endmembers = []\n",
    "for elm in elm_sys:\n",
    "    endmembers.append(str(elm)+'_pseudo_end')"
   ]
  },
  {
   "cell_type": "code",
   "execution_count": null,
   "metadata": {},
   "outputs": [],
   "source": [
    "paramValues"
   ]
  },
  {
   "cell_type": "code",
   "execution_count": null,
   "metadata": {},
   "outputs": [],
   "source": [
    "bulk_comp"
   ]
  },
  {
   "cell_type": "code",
   "execution_count": null,
   "metadata": {},
   "outputs": [],
   "source": []
  },
  {
   "cell_type": "code",
   "execution_count": null,
   "metadata": {},
   "outputs": [],
   "source": [
    "[iexp.expression for iexp in modelCD.expression_parts]"
   ]
  },
  {
   "cell_type": "code",
   "execution_count": null,
   "metadata": {},
   "outputs": [],
   "source": [
    "paramValues"
   ]
  },
  {
   "cell_type": "code",
   "execution_count": null,
   "metadata": {},
   "outputs": [],
   "source": [
    "# paramValues = {'k_mix':curv_local,'T_r':298.15,'P_r':1.0,}\n"
   ]
  },
  {
   "cell_type": "code",
   "execution_count": null,
   "metadata": {},
   "outputs": [],
   "source": [
    "model_working_dir = \"working\"\n",
    "!mkdir -p {model_working_dir}\n",
    "%cd {model_working_dir}"
   ]
  },
  {
   "cell_type": "code",
   "execution_count": null,
   "metadata": {},
   "outputs": [],
   "source": [
    "# cd .."
   ]
  },
  {
   "cell_type": "code",
   "execution_count": null,
   "metadata": {},
   "outputs": [],
   "source": [
    "modelCD.create_code_module(\n",
    "    phase=\"PseudoPhase\", params=paramValues, endmembers=endmembers, \n",
    "    prefix=\"cy\", module_type='calib', silent=False)"
   ]
  },
  {
   "cell_type": "code",
   "execution_count": null,
   "metadata": {},
   "outputs": [],
   "source": [
    "pwd"
   ]
  },
  {
   "cell_type": "code",
   "execution_count": null,
   "metadata": {},
   "outputs": [],
   "source": [
    "import pseudo_soln\n",
    "%cd .."
   ]
  },
  {
   "cell_type": "code",
   "execution_count": null,
   "metadata": {},
   "outputs": [],
   "source": [
    "endmembers"
   ]
  },
  {
   "cell_type": "code",
   "execution_count": null,
   "metadata": {},
   "outputs": [],
   "source": [
    "G"
   ]
  },
  {
   "cell_type": "code",
   "execution_count": null,
   "metadata": {},
   "outputs": [],
   "source": [
    "#%cd working\n",
    "#import pseudo_soln\n",
    "#%cd ..\n",
    "modelPseudo = model.Database(database=\"CoderModule\", calib=\"calib\", \n",
    "                         phase_tuple=('pseudo_soln', {'Psu':['PseudoPhase','solution']}))\n",
    "Pseudo = modelPseudo.get_phase('Psu')\n",
    "\n",
    "for phase_name, abbrv in zip(modelPseudo.phase_info.phase_name,modelPseudo.phase_info.abbrev):\n",
    "    print ('Abbreviation: {0:<10s} Name: {1:<30s}'.format(abbrv, phase_name))"
   ]
  },
  {
   "cell_type": "code",
   "execution_count": null,
   "metadata": {},
   "outputs": [],
   "source": [
    "vals = Pseudo.get_param_values(all_params=True)\n",
    "names = np.array(Pseudo.param_names)\n",
    "\n",
    "# Pseudo.set_param_values(param_names=[2],param_values=[1.0])"
   ]
  },
  {
   "cell_type": "code",
   "execution_count": null,
   "metadata": {},
   "outputs": [],
   "source": [
    "vals = Pseudo.get_param_values(all_params=True)\n",
    "len(vals)"
   ]
  },
  {
   "cell_type": "code",
   "execution_count": null,
   "metadata": {},
   "outputs": [],
   "source": [
    "mudiff = Pseudo.gibbs_energy(T, P, mol=bulk_comp)-mu_bulk"
   ]
  },
  {
   "cell_type": "code",
   "execution_count": null,
   "metadata": {},
   "outputs": [],
   "source": [
    "mu_bulk"
   ]
  },
  {
   "cell_type": "code",
   "execution_count": null,
   "metadata": {},
   "outputs": [],
   "source": [
    "Pseudo.endmember_names"
   ]
  },
  {
   "cell_type": "code",
   "execution_count": null,
   "metadata": {},
   "outputs": [],
   "source": [
    "names"
   ]
  },
  {
   "cell_type": "code",
   "execution_count": null,
   "metadata": {},
   "outputs": [],
   "source": [
    "# ind_kcurv = np.where(names=='k_curv')[0][0]\n",
    "# k_curv\n",
    "# Pseudo.set_param_values(param_names=[ind_kcurv], param_values=[0*local_curv[0]])"
   ]
  },
  {
   "cell_type": "code",
   "execution_count": null,
   "metadata": {},
   "outputs": [],
   "source": []
  },
  {
   "cell_type": "code",
   "execution_count": null,
   "metadata": {},
   "outputs": [],
   "source": [
    "np.sum(bulk_comp)"
   ]
  },
  {
   "cell_type": "code",
   "execution_count": null,
   "metadata": {},
   "outputs": [],
   "source": [
    "# mu_bulk\n",
    "mudiff/2"
   ]
  },
  {
   "cell_type": "code",
   "execution_count": null,
   "metadata": {},
   "outputs": [],
   "source": [
    "# mu_shft_val=+50e3\n",
    "# mu_shft_val=+10e3\n",
    "# mu_shft_val=+15e3\n",
    "# mu_shft_val=+100e3\n",
    "# mu_shft_val=+1000e3\n",
    "# mu_shft_val=-mu_bulk+5e3\n",
    "mu_shft_val= +1169084.0 \n",
    "Pseudo.set_param_values(param_names=[len(vals)-1], param_values=[mu_shft_val])\n",
    "Pseudo.get_param_values(all_params=True)"
   ]
  },
  {
   "cell_type": "code",
   "execution_count": null,
   "metadata": {},
   "outputs": [],
   "source": []
  },
  {
   "cell_type": "code",
   "execution_count": null,
   "metadata": {},
   "outputs": [],
   "source": [
    "mudiff = Pseudo.gibbs_energy(T, P, mol=bulk_comp)-mu_bulk\n",
    "mudiff"
   ]
  },
  {
   "cell_type": "code",
   "execution_count": null,
   "metadata": {},
   "outputs": [],
   "source": []
  },
  {
   "cell_type": "code",
   "execution_count": null,
   "metadata": {},
   "outputs": [],
   "source": [
    "Pseudo.get_param_values(all_params=True)"
   ]
  },
  {
   "cell_type": "code",
   "execution_count": null,
   "metadata": {},
   "outputs": [],
   "source": [
    "# vals[2:] *= 10"
   ]
  },
  {
   "cell_type": "code",
   "execution_count": null,
   "metadata": {},
   "outputs": [],
   "source": [
    "# mu_curv"
   ]
  },
  {
   "cell_type": "code",
   "execution_count": null,
   "metadata": {},
   "outputs": [],
   "source": [
    "# vals"
   ]
  },
  {
   "cell_type": "code",
   "execution_count": null,
   "metadata": {},
   "outputs": [],
   "source": [
    "# for ind, ival in enumerate(vals[2:]):\n",
    "#     Pseudo.set_param_values(param_names=[ind+2], param_values=[ival])"
   ]
  },
  {
   "cell_type": "code",
   "execution_count": null,
   "metadata": {},
   "outputs": [],
   "source": [
    "# Pseudo.get_param_values(all_params=True)"
   ]
  },
  {
   "cell_type": "markdown",
   "metadata": {},
   "source": [
    "Check pseudo-phase import by printning some phase characteristics"
   ]
  },
  {
   "cell_type": "code",
   "execution_count": null,
   "metadata": {},
   "outputs": [],
   "source": [
    "print (Pseudo.props['phase_name'])\n",
    "print (Pseudo.props['formula'])\n",
    "print (Pseudo.props['molwt'])\n",
    "print (Pseudo.props['abbrev'])\n",
    "print (Pseudo.props['endmember_num'])\n",
    "print (Pseudo.props['endmember_name'])"
   ]
  },
  {
   "cell_type": "code",
   "execution_count": null,
   "metadata": {},
   "outputs": [],
   "source": []
  },
  {
   "cell_type": "markdown",
   "metadata": {},
   "source": [
    "## Try the equiibrium calculations with the omnicomponent pseudo-phase\n",
    "#### Choose a phase assemblage"
   ]
  },
  {
   "cell_type": "code",
   "execution_count": null,
   "metadata": {},
   "outputs": [],
   "source": [
    "#stix_phases.keys()\n",
    "phs_sys  = [Pseudo]\n",
    "\n",
    "# phs_sys.extend(phases.values())\n",
    "\n",
    "# phs_sys += [phases['Fsp'], phases['Ol'], phases['Cpx'], phases['Grt']] # solutiopns,\n",
    "# phs_sys += [phases['Qz'], phases['Ky'], phases['Nph']]\n",
    "#\n",
    "#phs_sys  = [Pseudo, stix_phases['Opx']]"
   ]
  },
  {
   "cell_type": "code",
   "execution_count": null,
   "metadata": {},
   "outputs": [],
   "source": []
  },
  {
   "cell_type": "code",
   "execution_count": null,
   "metadata": {},
   "outputs": [],
   "source": [
    "for iphssym in hull_phs_sym:\n",
    "    phs_sys.append(phases[iphssym])\n",
    "    \n",
    "    "
   ]
  },
  {
   "cell_type": "code",
   "execution_count": null,
   "metadata": {},
   "outputs": [],
   "source": []
  },
  {
   "cell_type": "code",
   "execution_count": null,
   "metadata": {},
   "outputs": [],
   "source": [
    "phs_sys"
   ]
  },
  {
   "cell_type": "code",
   "execution_count": null,
   "metadata": {},
   "outputs": [],
   "source": [
    "# phases = get_subsolidus_phases(database=database)"
   ]
  },
  {
   "cell_type": "code",
   "execution_count": null,
   "metadata": {},
   "outputs": [],
   "source": [
    "sys_elems\n",
    "# phs_sys"
   ]
  },
  {
   "cell_type": "code",
   "execution_count": null,
   "metadata": {},
   "outputs": [],
   "source": [
    "# equil = equilibrate.Equilibrate(['O','Na','Mg','Al','Si','Ca','Fe'], phs_sys)\n",
    "equil = equilibrate.Equilibrate(sys_elems, phs_sys)"
   ]
  },
  {
   "cell_type": "code",
   "execution_count": null,
   "metadata": {},
   "outputs": [],
   "source": [
    "mu_bulk"
   ]
  },
  {
   "cell_type": "code",
   "execution_count": null,
   "metadata": {},
   "outputs": [],
   "source": [
    "1467815.52"
   ]
  },
  {
   "cell_type": "code",
   "execution_count": null,
   "metadata": {},
   "outputs": [],
   "source": []
  },
  {
   "cell_type": "code",
   "execution_count": null,
   "metadata": {},
   "outputs": [],
   "source": [
    "state = equil.execute(T, P, bulk_comp=bulk_comp, debug=0)\n",
    "state.print_state()"
   ]
  },
  {
   "cell_type": "code",
   "execution_count": null,
   "metadata": {},
   "outputs": [],
   "source": []
  },
  {
   "cell_type": "code",
   "execution_count": null,
   "metadata": {},
   "outputs": [],
   "source": []
  },
  {
   "cell_type": "code",
   "execution_count": null,
   "metadata": {},
   "outputs": [],
   "source": []
  },
  {
   "cell_type": "code",
   "execution_count": null,
   "metadata": {},
   "outputs": [],
   "source": []
  },
  {
   "cell_type": "code",
   "execution_count": null,
   "metadata": {},
   "outputs": [],
   "source": []
  },
  {
   "cell_type": "code",
   "execution_count": null,
   "metadata": {},
   "outputs": [],
   "source": []
  },
  {
   "cell_type": "code",
   "execution_count": null,
   "metadata": {},
   "outputs": [],
   "source": []
  }
 ],
 "metadata": {
  "anaconda-cloud": {},
  "kernelspec": {
   "display_name": "Python 3",
   "language": "python",
   "name": "python3"
  },
  "language_info": {
   "codemirror_mode": {
    "name": "ipython",
    "version": 3
   },
   "file_extension": ".py",
   "mimetype": "text/x-python",
   "name": "python",
   "nbconvert_exporter": "python",
   "pygments_lexer": "ipython3",
   "version": "3.6.2"
  }
 },
 "nbformat": 4,
 "nbformat_minor": 2
}
