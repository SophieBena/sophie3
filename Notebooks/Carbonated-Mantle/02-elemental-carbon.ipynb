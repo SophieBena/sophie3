{
 "cells": [
  {
   "cell_type": "markdown",
   "metadata": {},
   "source": [
    "# Elemental Carbon Database \n",
    "Required system packages and initialization"
   ]
  },
  {
   "cell_type": "code",
   "execution_count": null,
   "metadata": {},
   "outputs": [],
   "source": [
    "import pandas as pd\n",
    "import numpy as np\n",
    "import sympy as sym\n",
    "import os\n",
    "import thermoengine\n",
    "import dill\n",
    "\n",
    "from scipy import optimize\n",
    "\n",
    "sym.init_printing()\n",
    "\n",
    "import matplotlib.pyplot  as plt"
   ]
  },
  {
   "cell_type": "code",
   "execution_count": null,
   "metadata": {},
   "outputs": [],
   "source": []
  },
  {
   "cell_type": "markdown",
   "metadata": {},
   "source": [
    "# Load available coder modules & phases"
   ]
  },
  {
   "cell_type": "code",
   "execution_count": null,
   "metadata": {},
   "outputs": [],
   "source": [
    "%run core.ipynb"
   ]
  },
  {
   "cell_type": "code",
   "execution_count": null,
   "metadata": {},
   "outputs": [],
   "source": [
    "load_coder_modules()"
   ]
  },
  {
   "cell_type": "code",
   "execution_count": null,
   "metadata": {},
   "outputs": [],
   "source": [
    "with open('carbon-phases.pkl','rb') as file:\n",
    "    output = dill.load(file)\n",
    "    file.close()\n",
    "    \n",
    "output"
   ]
  },
  {
   "cell_type": "code",
   "execution_count": null,
   "metadata": {},
   "outputs": [],
   "source": []
  },
  {
   "cell_type": "markdown",
   "metadata": {},
   "source": [
    "# Fitting a reasonable high-temp Cp model\n",
    "* Saxena data from NIST provides carbon properties accurately from 250K to 1200K\n",
    "* high temperature extrapolation of diamond is an UNPHYSICAL MESS\n",
    "* not appropriate for the mantle\n"
   ]
  },
  {
   "cell_type": "code",
   "execution_count": null,
   "metadata": {},
   "outputs": [],
   "source": [
    "def saxena_cp(k, T):\n",
    "    return k[0] + k[1]*T + k[2]/T**2 + k[3]*T**2 + k[4]/T**3 + k[5]/np.sqrt(T) + k[6]/T\n",
    "\n",
    "def berman_cp(k, T):\n",
    "    return k[0]+k[1]/np.sqrt(T)+ k[2]/T**2 + k[3]/T**3\n",
    "\n",
    "k_cp_saxena_Dia = [98.45, -3.655e-2, 1.217e6, 1.098e-5, 0.0, -1.659e3, 0.0]\n",
    "k_cp_saxena_Gr = [60.86, -1.024e-2, 7.139e5, 1.669e-6, 0.0, -9.922e2, 0.0]"
   ]
  },
  {
   "cell_type": "code",
   "execution_count": null,
   "metadata": {},
   "outputs": [],
   "source": [
    "\n",
    "\n",
    "T= np.linspace(280, 1200.0,2001)\n",
    "T_full= np.linspace(280, 7000.0,2001)\n",
    "# Cp_Dia = saxena_cp(k_cp_saxena_Dia, T)\n",
    "# Cp_Gr = saxena_cp(k_cp_saxena_Gr, T)\n",
    "\n",
    "plt.figure()\n",
    "plt.plot(T, saxena_cp(k_cp_saxena_Dia,T), 'r-',label='Dia')\n",
    "plt.plot(T, saxena_cp(k_cp_saxena_Gr,T), 'k-', label='Gr')\n",
    "plt.xlabel('Temp  [K]')\n",
    "plt.ylabel('Cp  [J/K/mol]')\n",
    "plt.legend()\n",
    "\n",
    "plt.figure()\n",
    "plt.plot(T_full, saxena_cp(k_cp_saxena_Dia,T_full), 'r:',label='Dia')\n",
    "plt.plot(T_full, saxena_cp(k_cp_saxena_Gr,T_full), 'k:',label='Gr')\n",
    "plt.xlabel('Temp  [K]')\n",
    "plt.ylabel('Cp  [J/K/mol]')\n",
    "plt.legend()\n",
    "# plt.ylabel('% Deviation')"
   ]
  },
  {
   "cell_type": "markdown",
   "metadata": {},
   "source": [
    "# Fit this to safe Berman Cp form using least squares\n",
    "* data is robust from 280K to 1200K, so we will fit that\n",
    "* create fitting or (design) matrix for Berman model representing each temp-dependent term"
   ]
  },
  {
   "cell_type": "code",
   "execution_count": null,
   "metadata": {},
   "outputs": [],
   "source": [
    "T= np.linspace(280, 1200.0,2001)\n",
    "Cp_Dia = saxena_cp(k_cp_saxena_Dia, T)\n",
    "Cp_Gr = saxena_cp(k_cp_saxena_Gr, T)\n",
    "\n",
    "\n",
    "Tmat = np.vstack((np.ones(T.size), \n",
    "                  1/np.sqrt(T), \n",
    "                  1/T**2, \n",
    "                  1/T**3)).T\n",
    "\n",
    "k_Cp_Dia = np.linalg.lstsq(Tmat, Cp_Dia, rcond=None)[0]\n",
    "k_Cp_Gr = np.linalg.lstsq(Tmat, Cp_Gr, rcond=None)[0]\n",
    "\n",
    "print('Diamond = ', k_Cp_Dia)\n",
    "\n",
    "print('Graphite = ', k_Cp_Gr)"
   ]
  },
  {
   "cell_type": "code",
   "execution_count": null,
   "metadata": {},
   "outputs": [],
   "source": [
    "\n",
    "T= np.linspace(280, 4000.0,2001)\n",
    "\n",
    "Cp_Dia = saxena_cp(k_cp_saxena_Dia, T)\n",
    "Cp_Gr = saxena_cp(k_cp_saxena_Gr, T)\n",
    "\n",
    "plt.figure()\n",
    "plt.plot(T, 100*(berman_cp(k_Cp_Dia,T)/Cp_Dia-1), 'r-',label='Dia')\n",
    "plt.plot(T, 100*(berman_cp(k_Cp_Gr,T)/Cp_Gr-1), 'k-',label='Gr')\n",
    "plt.xlim(280,1200)\n",
    "plt.ylim(-2,2)\n",
    "plt.xlabel('Temp  [K]')\n",
    "plt.ylabel('% Deviation')\n",
    "plt.legend()\n",
    "\n",
    "\n",
    "\n",
    "plt.figure()\n",
    "plt.plot(T, berman_cp(k_Cp_Dia,T), 'r-',label='Dia')\n",
    "plt.plot(T, saxena_cp(k_cp_saxena_Dia, T), 'r:')\n",
    "plt.plot(T, berman_cp(k_Cp_Gr,T), 'k-',label='Gr')\n",
    "plt.plot(T, saxena_cp(k_cp_saxena_Gr, T), 'k:')\n",
    "plt.xlabel('Temp  [K]')\n",
    "plt.ylabel('Cp  [J/K/mol]')\n",
    "plt.legend()\n"
   ]
  },
  {
   "cell_type": "markdown",
   "metadata": {},
   "source": [
    "# Create Frankenstein coder module for elemental Carbon\n",
    "* Head over to coder Notebooks to see how Cp model and EOS are defined"
   ]
  },
  {
   "cell_type": "code",
   "execution_count": null,
   "metadata": {},
   "outputs": [],
   "source": [
    "# %run HP11-std-state.ipynb\n",
    "# %run modHP11-std-state.ipynb"
   ]
  },
  {
   "cell_type": "code",
   "execution_count": null,
   "metadata": {},
   "outputs": [],
   "source": [
    "# %run mod-Berman-std-state.ipynb\n",
    "\n",
    "%run init-coder-model.ipynb\n",
    "%run Berman-Cp-model.ipynb \n",
    "%run thermal-Murnaghan-EOS.ipynb"
   ]
  },
  {
   "cell_type": "code",
   "execution_count": null,
   "metadata": {},
   "outputs": [],
   "source": [
    "def mod_Berman_params(Phase='Name', Formula='', \n",
    "                      H_TrPr=-1e6, S_TrPr=1e2, V_TrPr=3,\n",
    "                      k0=1e2, k1=-10.0E2, k2=-5.0E5, k3=16.667E7,\n",
    "                      alpha0=1.0E-5, K0=100.0, K_P=4.0):\n",
    "    \n",
    "    param_dict = {\n",
    "        'Phase': Phase, 'Formula': Formula,\n",
    "        'T_r': 298.15, 'P_r': 1.0,\n",
    "        'H_TrPr': H_TrPr, 'S_TrPr': S_TrPr, 'V_TrPr': V_TrPr,\n",
    "        'k0': k0, 'k1': k1, 'k2': k2, 'k3': k3,\n",
    "        'alpha0':alpha0, 'K0':K0, 'K_P':K_P}\n",
    "    return param_dict"
   ]
  },
  {
   "cell_type": "code",
   "execution_count": null,
   "metadata": {},
   "outputs": [],
   "source": []
  },
  {
   "cell_type": "markdown",
   "metadata": {},
   "source": [
    "# Store parameters for elemental Carbon (Graphite & Diamond)\n",
    "* heat capacities from reparameterized Saxena data (represented using Berman form)\n",
    "* Std State properties from NIST\n",
    "* EOS from Saxena, reparameterized to thermal-murnaghan EOS"
   ]
  },
  {
   "cell_type": "code",
   "execution_count": null,
   "metadata": {},
   "outputs": [],
   "source": [
    "phase_params = {}"
   ]
  },
  {
   "cell_type": "code",
   "execution_count": null,
   "metadata": {},
   "outputs": [],
   "source": [
    "lookup_phase_info('diamond')"
   ]
  },
  {
   "cell_type": "code",
   "execution_count": null,
   "metadata": {},
   "outputs": [],
   "source": [
    "\n",
    "phase_params['Dia'] = mod_Berman_params(\n",
    "    Phase='Diamond', Formula='C(1)',\n",
    "    H_TrPr=1900.0, S_TrPr=2.38, V_TrPr=0.3417,\n",
    "    k0=k_Cp_Dia[0], k1=k_Cp_Dia[1], k2=k_Cp_Dia[2], k3=k_Cp_Dia[3],\n",
    "    alpha0=0.2243e-4, K0=444.0*1e4, K_P=1.9)\n",
    "\n"
   ]
  },
  {
   "cell_type": "code",
   "execution_count": null,
   "metadata": {},
   "outputs": [],
   "source": []
  },
  {
   "cell_type": "code",
   "execution_count": null,
   "metadata": {},
   "outputs": [],
   "source": [
    "lookup_phase_info('graphite')"
   ]
  },
  {
   "cell_type": "code",
   "execution_count": null,
   "metadata": {},
   "outputs": [],
   "source": [
    "\n",
    "phase_params['Gr'] = mod_Berman_params(\n",
    "    Phase='Graphite', Formula='C(1)',\n",
    "    H_TrPr=0.0, S_TrPr=5.74, V_TrPr=0.5298,\n",
    "    k0=k_Cp_Gr[0], k1=k_Cp_Gr[1], k2=k_Cp_Gr[2], k3=k_Cp_Gr[3],\n",
    "    alpha0=0.3460e-4, K0=33.8*1e4, K_P=8.9)\n",
    "\n"
   ]
  },
  {
   "cell_type": "code",
   "execution_count": null,
   "metadata": {},
   "outputs": [],
   "source": []
  },
  {
   "cell_type": "code",
   "execution_count": null,
   "metadata": {},
   "outputs": [],
   "source": []
  },
  {
   "cell_type": "code",
   "execution_count": null,
   "metadata": {},
   "outputs": [],
   "source": [
    "modelDB, coder_mod = make_custom_database('saxena', phase_params)"
   ]
  },
  {
   "cell_type": "code",
   "execution_count": null,
   "metadata": {},
   "outputs": [],
   "source": [
    "display(modelDB.phase_info)\n",
    "Dia = modelDB.get_phase('Dia')\n",
    "Gr = modelDB.get_phase('Gr')"
   ]
  },
  {
   "cell_type": "code",
   "execution_count": null,
   "metadata": {},
   "outputs": [],
   "source": []
  },
  {
   "cell_type": "markdown",
   "metadata": {},
   "source": [
    "# Create Reaction and test phase boundary\n",
    "* Gr -> Dia"
   ]
  },
  {
   "cell_type": "code",
   "execution_count": null,
   "metadata": {},
   "outputs": [],
   "source": [
    "rxn = modelDB.get_rxn(['Gr','Dia'], [0,0], [-1, +1])"
   ]
  },
  {
   "cell_type": "markdown",
   "metadata": {},
   "source": [
    "* Verify that Graphite is stable at Std temp and press\n",
    "* affinity should be negative (toward graphite)"
   ]
  },
  {
   "cell_type": "code",
   "execution_count": null,
   "metadata": {},
   "outputs": [],
   "source": [
    "rxn.affinity(298.15, 1)"
   ]
  },
  {
   "cell_type": "code",
   "execution_count": null,
   "metadata": {},
   "outputs": [],
   "source": []
  },
  {
   "cell_type": "markdown",
   "metadata": {},
   "source": [
    "# Manually determine rxn boundary for messy problems"
   ]
  },
  {
   "cell_type": "code",
   "execution_count": null,
   "metadata": {},
   "outputs": [],
   "source": [
    "P = np.linspace(1, 50e4,101)\n",
    "Tlims = [100, 5000]\n",
    "\n",
    "Tbnd = np.tile(np.nan, P.shape)\n",
    "\n",
    "for ind, iP in enumerate(P):\n",
    "    fun = lambda T, P=iP: rxn.affinity(T, P)\n",
    "    try:\n",
    "        Tbnd[ind]=optimize.brentq(fun, Tlims[0], Tlims[1])\n",
    "    except:\n",
    "        continue"
   ]
  },
  {
   "cell_type": "code",
   "execution_count": null,
   "metadata": {},
   "outputs": [],
   "source": []
  },
  {
   "cell_type": "code",
   "execution_count": null,
   "metadata": {},
   "outputs": [],
   "source": [
    "plt.figure()\n",
    "plt.plot(Tbnd, P/1e4, 'k-')\n",
    "\n",
    "plt.ylabel('Press. [GPa]')\n",
    "plt.xlabel('Temp. [K]')\n",
    "\n",
    "plt.text(800,10, 'Diamond')\n",
    "plt.text(3000,4, 'Graphite')"
   ]
  },
  {
   "cell_type": "code",
   "execution_count": null,
   "metadata": {},
   "outputs": [],
   "source": [
    "T_bnd, P_bnd = rxn.trace_boundary(Plims=[2e4,15e4])\n",
    "plt.figure()\n",
    "plt.plot(T_bnd, P_bnd/1e4,'k-')\n",
    "\n",
    "plt.plot(Tbnd, P/1e4, 'r--')\n",
    "\n",
    "\n",
    "plt.ylabel('Press. [GPa]')\n",
    "plt.xlabel('Temp. [K]')\n",
    "\n",
    "plt.text(800, 10,'Diamond')\n",
    "plt.text(3000, 4,'Graphite')"
   ]
  },
  {
   "cell_type": "code",
   "execution_count": null,
   "metadata": {},
   "outputs": [],
   "source": []
  },
  {
   "cell_type": "markdown",
   "metadata": {},
   "source": [
    "# Store resulting phases"
   ]
  },
  {
   "cell_type": "code",
   "execution_count": null,
   "metadata": {},
   "outputs": [],
   "source": [
    "\n",
    "for phsnm in phase_params:\n",
    "    iphs = modelDB.get_phase(phsnm)\n",
    "    output[phsnm] = iphs\n",
    "    \n",
    "output"
   ]
  },
  {
   "cell_type": "code",
   "execution_count": null,
   "metadata": {},
   "outputs": [],
   "source": [
    "with open('carbon-phases.pkl','wb') as file:\n",
    "    dill.dump(output, file)\n",
    "    file.close()"
   ]
  },
  {
   "cell_type": "code",
   "execution_count": null,
   "metadata": {},
   "outputs": [],
   "source": []
  },
  {
   "cell_type": "code",
   "execution_count": null,
   "metadata": {},
   "outputs": [],
   "source": []
  },
  {
   "cell_type": "code",
   "execution_count": null,
   "metadata": {},
   "outputs": [],
   "source": []
  },
  {
   "cell_type": "code",
   "execution_count": null,
   "metadata": {},
   "outputs": [],
   "source": []
  },
  {
   "cell_type": "code",
   "execution_count": null,
   "metadata": {},
   "outputs": [],
   "source": []
  },
  {
   "cell_type": "code",
   "execution_count": null,
   "metadata": {},
   "outputs": [],
   "source": []
  },
  {
   "cell_type": "markdown",
   "metadata": {},
   "source": [
    "# ...Extra Code for fooling around"
   ]
  },
  {
   "cell_type": "code",
   "execution_count": null,
   "metadata": {},
   "outputs": [],
   "source": []
  },
  {
   "cell_type": "code",
   "execution_count": null,
   "metadata": {},
   "outputs": [],
   "source": [
    "def HP11_params(Phase='Name', Formula='', \n",
    "                H_TrPr=-1e6, S_TrPr=1e2, V_TrPr=3,\n",
    "                a_cp=100, b_cp=-1.0e-2, c_cp=3.0e6, d_cp=1.0e-6,\n",
    "                alpha0=1.0E-5, K0=100.0, K_P=4.0, n=1):\n",
    "    \n",
    "    param_dict = {\n",
    "        'Phase': Phase, 'Formula': Formula,\n",
    "        'T_r': 298.15, 'P_r': 1.0,\n",
    "        'H_TrPr': H_TrPr, 'S_TrPr': S_TrPr, 'V_TrPr': V_TrPr,\n",
    "        'a_cp': a_cp, 'b_cp': b_cp, 'c_cp': c_cp, 'd_cp': d_cp, \n",
    "        'alpha0':alpha0, 'K0':K0, 'K_P':K_P, 'n':n}\n",
    "    return param_dict"
   ]
  },
  {
   "cell_type": "code",
   "execution_count": null,
   "metadata": {},
   "outputs": [],
   "source": [
    "def modHP11_params(Phase='Name', Formula='', \n",
    "                   H_TrPr=-1e6, S_TrPr=1e2, V_TrPr=3,\n",
    "                   a_cp=100, b_cp=-1.0e-2, c_cp=3.0e6, d_cp=1.0e-6,\n",
    "                   alpha0=1.0E-5, K0=100.0, K_P=4.0):\n",
    "    \n",
    "    param_dict = {\n",
    "        'Phase': Phase, 'Formula': Formula,\n",
    "        'T_r': 298.15, 'P_r': 1.0,\n",
    "        'H_TrPr': H_TrPr, 'S_TrPr': S_TrPr, 'V_TrPr': V_TrPr,\n",
    "        'a_cp': a_cp, 'b_cp': b_cp, 'c_cp': c_cp, 'd_cp': d_cp, \n",
    "        'alpha0':alpha0, 'K0':K0, 'K_P':K_P}\n",
    "    return param_dict"
   ]
  },
  {
   "cell_type": "code",
   "execution_count": null,
   "metadata": {},
   "outputs": [],
   "source": [
    "def Saxena_params(Phase='Name', Formula='', \n",
    "                  H_TrPr=-1e6, S_TrPr=1e2, V_TrPr=3,\n",
    "                  a_cp=100, b_cp=-1.0e-2, c_cp=3.0e6, d_cp=1.0e-6,\n",
    "                  e_cp=0.0, g_cp=-1.0e3, h_cp=0.0,\n",
    "                  alpha0=1.0E-5, K0=100.0, K_P=4.0):\n",
    "    \n",
    "    param_dict = {\n",
    "        'Phase': Phase, 'Formula': Formula,\n",
    "        'T_r': 298.15, 'P_r': 1.0,\n",
    "        'H_TrPr': H_TrPr, 'S_TrPr': S_TrPr, 'V_TrPr': V_TrPr,\n",
    "        'a_cp': a_cp, 'b_cp': b_cp, 'c_cp': c_cp, 'd_cp': d_cp, \n",
    "        'e_cp':e_cp, 'g_cp':g_cp, 'h_cp':h_cp,\n",
    "        'alpha0':alpha0, 'K0':K0, 'K_P':K_P}\n",
    "    return param_dict"
   ]
  },
  {
   "cell_type": "code",
   "execution_count": null,
   "metadata": {},
   "outputs": [],
   "source": [
    "\n",
    "# phase_params['Dia'] = Saxena_params(\n",
    "#     Phase='Diamond', Formula='C(1)',\n",
    "#     H_TrPr=2000.0, S_TrPr=2.38, V_TrPr=0.342,\n",
    "#     a_cp=.0243, b_cp=.6272, c_cp=-377.4, d_cp=-.2734,\n",
    "#     alpha0=0.2243e-4, K0=444.0*1e4, K_P=1.9)\n",
    "\n",
    "# phase_params['Dia'] = Saxena_params(\n",
    "#     Phase='Diamond', Formula='C(1)',\n",
    "#     H_TrPr=1900.0, S_TrPr=2.38, V_TrPr=0.3417,\n",
    "#     a_cp=98.45, b_cp=-3.655e-2, c_cp=1.217e6, d_cp=1.098e-5,\n",
    "#     e_cp=0.0, g_cp=-1.659e3, h_cp=0.0,\n",
    "#     alpha0=0.2243e-4, K0=444.0*1e4, K_P=1.9)\n",
    "\n",
    "\n",
    "# phase_params['Gr'] = modHP11_params(\n",
    "#     Phase='Graphite', Formula='C(1)',\n",
    "#     H_TrPr=0.0, S_TrPr=5.74, V_TrPr=0.53,\n",
    "#     a_cp=0.051, b_cp=-.4429, c_cp=488.6, d_cp=-.8055,\n",
    "#     alpha0=0.3460e-4, K0=33.8*1e4, K_P=8.9)\n",
    "\n",
    "# phase_params['Gr'] = Saxena_params(\n",
    "#     Phase='Graphite', Formula='C(1)',\n",
    "#     H_TrPr=0.0, S_TrPr=5.74, V_TrPr=0.5298,\n",
    "#     a_cp=60.86, b_cp=-1.024e-2, c_cp=7.139e5, d_cp=1.669e-6,\n",
    "#     e_cp=0.0, g_cp=-9.922e2, h_cp=0.0,\n",
    "#     alpha0=0.3460e-4, K0=33.8*1e4, K_P=8.9)\n",
    "# V_TrPr=0.5298"
   ]
  }
 ],
 "metadata": {
  "kernelspec": {
   "display_name": "Python 3",
   "language": "python",
   "name": "python3"
  },
  "language_info": {
   "codemirror_mode": {
    "name": "ipython",
    "version": 3
   },
   "file_extension": ".py",
   "mimetype": "text/x-python",
   "name": "python",
   "nbconvert_exporter": "python",
   "pygments_lexer": "ipython3",
   "version": "3.6.2"
  }
 },
 "nbformat": 4,
 "nbformat_minor": 2
}
