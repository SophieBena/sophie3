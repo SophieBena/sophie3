{
 "cells": [
  {
   "cell_type": "markdown",
   "metadata": {},
   "source": [
    "# Saxena Carbon Database \n",
    "Required system packages and initialization"
   ]
  },
  {
   "cell_type": "code",
   "execution_count": null,
   "metadata": {},
   "outputs": [],
   "source": [
    "import pandas as pd\n",
    "import numpy as np\n",
    "import sympy as sym\n",
    "import os\n",
    "import thermoengine\n",
    "\n",
    "import importlib\n",
    "sym.init_printing()\n",
    "\n",
    "\n",
    "import matplotlib.pyplot  as plt\n",
    "from fuzzywuzzy import fuzz\n",
    "# python-Levenshtein"
   ]
  },
  {
   "cell_type": "code",
   "execution_count": null,
   "metadata": {},
   "outputs": [],
   "source": []
  },
  {
   "cell_type": "markdown",
   "metadata": {},
   "source": [
    "# Create coder module for pure phase using Berman Std State"
   ]
  },
  {
   "cell_type": "code",
   "execution_count": null,
   "metadata": {},
   "outputs": [],
   "source": [
    "%run core.ipynb"
   ]
  },
  {
   "cell_type": "code",
   "execution_count": null,
   "metadata": {},
   "outputs": [],
   "source": [
    "%run Saxena-std-state-model.ipynb"
   ]
  },
  {
   "cell_type": "code",
   "execution_count": null,
   "metadata": {},
   "outputs": [],
   "source": []
  },
  {
   "cell_type": "code",
   "execution_count": null,
   "metadata": {},
   "outputs": [],
   "source": [
    "def Saxena_params(Phase='Name', Formula='', \n",
    "                  H_TrPr=-1e6, S_TrPr=1e2, V_TrPr=3,\n",
    "                  a_cp=100, b_cp=-1.0e-2, c_cp=3.0e6, d_cp=1.0e-6,\n",
    "                  e_cp=0.0, g_cp=-1.0e3, h_cp=0.0,\n",
    "                  alpha=1.0E-5, K=100.0, K_P=4.0):\n",
    "    \n",
    "    param_dict = {\n",
    "        'Phase': Phase, 'Formula': Formula,\n",
    "        'T_r': 298.15, 'P_r': 1.0,\n",
    "        'H_TrPr': H_TrPr, 'S_TrPr': S_TrPr, 'V_TrPr': V_TrPr,\n",
    "        'a_cp': a_cp, 'b_cp': b_cp, 'c_cp': c_cp, 'd_cp': d_cp, \n",
    "        'e_cp':e_cp, 'g_cp':g_cp, 'h_cp':h_cp,\n",
    "        'alpha':alpha, 'K':K, 'K_P':K_P}\n",
    "    return param_dict"
   ]
  },
  {
   "cell_type": "code",
   "execution_count": null,
   "metadata": {},
   "outputs": [],
   "source": [
    "    \n",
    "    "
   ]
  },
  {
   "cell_type": "code",
   "execution_count": null,
   "metadata": {},
   "outputs": [],
   "source": []
  },
  {
   "cell_type": "code",
   "execution_count": null,
   "metadata": {},
   "outputs": [],
   "source": [
    "phase_params = {}"
   ]
  },
  {
   "cell_type": "code",
   "execution_count": null,
   "metadata": {},
   "outputs": [],
   "source": []
  },
  {
   "cell_type": "code",
   "execution_count": null,
   "metadata": {},
   "outputs": [],
   "source": [
    "lookup_phase_info('diamond')"
   ]
  },
  {
   "cell_type": "code",
   "execution_count": null,
   "metadata": {},
   "outputs": [],
   "source": [
    "phase_params['Dia'] = Saxena_params(\n",
    "    Phase='Diamond', Formula='C(1)',\n",
    "    H_TrPr=1900.0, S_TrPr=2.38, V_TrPr=0.3417,\n",
    "    a_cp=98.45, b_cp=-3.655e-2, c_cp=1.217e6, d_cp=1.098e-5,\n",
    "    e_cp=0.0, g_cp=-1.659e3, h_cp=0.0,\n",
    "    alpha=0.2243e-4, K=444.0*1e4, K_P=1.9)"
   ]
  },
  {
   "cell_type": "code",
   "execution_count": null,
   "metadata": {},
   "outputs": [],
   "source": []
  },
  {
   "cell_type": "code",
   "execution_count": null,
   "metadata": {},
   "outputs": [],
   "source": [
    "lookup_phase_info('graphite')"
   ]
  },
  {
   "cell_type": "code",
   "execution_count": null,
   "metadata": {},
   "outputs": [],
   "source": [
    "phase_params['Gr'] = Saxena_params(\n",
    "    Phase='Graphite', Formula='C(1)',\n",
    "    H_TrPr=0.0, S_TrPr=5.74, V_TrPr=0.5298,\n",
    "    a_cp=60.86, b_cp=-1.024e-2, c_cp=7.139e5, d_cp=1.669e-6,\n",
    "    e_cp=0.0, g_cp=-9.922e2, h_cp=0.0,\n",
    "    alpha=0.3460e-4, K=33.8*1e4, K_P=8.9)"
   ]
  },
  {
   "cell_type": "code",
   "execution_count": null,
   "metadata": {},
   "outputs": [],
   "source": []
  },
  {
   "cell_type": "code",
   "execution_count": null,
   "metadata": {},
   "outputs": [],
   "source": []
  },
  {
   "cell_type": "code",
   "execution_count": null,
   "metadata": {},
   "outputs": [],
   "source": [
    "modelDB = make_custom_database('saxena', phase_params)"
   ]
  },
  {
   "cell_type": "code",
   "execution_count": null,
   "metadata": {},
   "outputs": [],
   "source": [
    "display(modelDB.phase_info)\n",
    "Dia = modelDB.get_phase('Dia')\n",
    "Gr = modelDB.get_phase('Gr')"
   ]
  },
  {
   "cell_type": "code",
   "execution_count": null,
   "metadata": {},
   "outputs": [],
   "source": [
    "Dia.volume(298.15,1.0)"
   ]
  },
  {
   "cell_type": "code",
   "execution_count": null,
   "metadata": {},
   "outputs": [],
   "source": [
    "Gr.volume(298.15,1)"
   ]
  },
  {
   "cell_type": "code",
   "execution_count": null,
   "metadata": {},
   "outputs": [],
   "source": [
    "# Dia.param_names"
   ]
  },
  {
   "cell_type": "code",
   "execution_count": null,
   "metadata": {},
   "outputs": [],
   "source": [
    "# Dia.get_param_values(param_names=Dia.param_names)"
   ]
  },
  {
   "cell_type": "code",
   "execution_count": null,
   "metadata": {},
   "outputs": [],
   "source": [
    "Dia.entropy(298.15,1.0)"
   ]
  },
  {
   "cell_type": "code",
   "execution_count": null,
   "metadata": {},
   "outputs": [],
   "source": [
    "\n",
    "T= np.linspace(240, 4000.0,2001)\n",
    "Cp = Dia.heat_capacity(T, 1.0)\n",
    "\n",
    "plt.figure()\n",
    "plt.plot(T, Cp, 'k-')\n",
    "plt.xlim(100,4000)"
   ]
  },
  {
   "cell_type": "code",
   "execution_count": null,
   "metadata": {},
   "outputs": [],
   "source": []
  },
  {
   "cell_type": "code",
   "execution_count": null,
   "metadata": {},
   "outputs": [],
   "source": []
  },
  {
   "cell_type": "code",
   "execution_count": null,
   "metadata": {},
   "outputs": [],
   "source": [
    "rxn = modelDB.get_rxn(['Gr','Dia'], [0,0], [-1, +1])"
   ]
  },
  {
   "cell_type": "code",
   "execution_count": null,
   "metadata": {},
   "outputs": [],
   "source": []
  },
  {
   "cell_type": "code",
   "execution_count": null,
   "metadata": {},
   "outputs": [],
   "source": [
    "# rxn.affinity(298.15, 1)\n",
    "rxn.affinity(298.15, 1)"
   ]
  },
  {
   "cell_type": "code",
   "execution_count": null,
   "metadata": {},
   "outputs": [],
   "source": [
    "from scipy import optimize"
   ]
  },
  {
   "cell_type": "code",
   "execution_count": null,
   "metadata": {},
   "outputs": [],
   "source": [
    "P = 3e4\n",
    "P = np.linspace(1, 60e4,101)\n",
    "Tlims = [10, 2500]\n",
    "\n",
    "Tbnd = np.tile(np.nan, P.shape)\n",
    "\n",
    "for ind, iP in enumerate(P):\n",
    "    fun = lambda T, P=iP: rxn.affinity(T, P)\n",
    "    try:\n",
    "        Tbnd[ind]=optimize.brentq(fun, Tlims[0], Tlims[1])\n",
    "    except:\n",
    "        continue"
   ]
  },
  {
   "cell_type": "code",
   "execution_count": null,
   "metadata": {},
   "outputs": [],
   "source": []
  },
  {
   "cell_type": "code",
   "execution_count": null,
   "metadata": {},
   "outputs": [],
   "source": [
    "plt.figure()\n",
    "plt.plot(P/1e4, Tbnd, 'k-')\n",
    "\n",
    "plt.xlabel('Press. [GPa]')\n",
    "plt.ylabel('Temp. [K]')\n",
    "\n",
    "plt.text(40, 500,'Diamond')\n",
    "plt.text(20, 2000,'Graphite')"
   ]
  },
  {
   "cell_type": "code",
   "execution_count": null,
   "metadata": {},
   "outputs": [],
   "source": [
    "rxn.affinity(500, 30e4)"
   ]
  },
  {
   "cell_type": "code",
   "execution_count": null,
   "metadata": {},
   "outputs": [],
   "source": [
    "rxn.affinity(300, .5e9)"
   ]
  },
  {
   "cell_type": "code",
   "execution_count": null,
   "metadata": {},
   "outputs": [],
   "source": [
    "\n",
    "rxn.affinity(35, 1)\n",
    "rxn.affinity(40, 1e3)\n",
    "rxn.affinity(45, 1e4)\n",
    "rxn.affinity(90, 5e4)\n",
    "rxn.affinity(90, 1e5)"
   ]
  },
  {
   "cell_type": "code",
   "execution_count": null,
   "metadata": {},
   "outputs": [],
   "source": [
    "import matplotlib.pyplot as plt"
   ]
  },
  {
   "cell_type": "code",
   "execution_count": null,
   "metadata": {},
   "outputs": [],
   "source": [
    "P = 1.0\n",
    "P = 1e3\n",
    "# P = 3e3\n",
    "# P = 1e4\n",
    "# P = 3e4\n",
    "P = 10.0e4\n",
    "# P = 30.0e4\n",
    "# P = 50.0e4\n",
    "T = np.linspace(0.1, 4000, 2001)\n",
    "plt.figure()\n",
    "plt.plot(T, rxn.affinity(T, P), 'k-')\n",
    "plt.plot(T, 0*T, 'k--')\n",
    "plt.ylim(-1e4, +1e4)\n",
    "P"
   ]
  },
  {
   "cell_type": "code",
   "execution_count": null,
   "metadata": {},
   "outputs": [],
   "source": []
  },
  {
   "cell_type": "code",
   "execution_count": null,
   "metadata": {},
   "outputs": [],
   "source": [
    "\n",
    "rxn.trace_boundary(Plims=[1,1e4], init_guess=35.0)"
   ]
  },
  {
   "cell_type": "code",
   "execution_count": null,
   "metadata": {},
   "outputs": [],
   "source": [
    "# rxn.trace_boundary(Plims=[1,1e6], init_guess=3000.0)\n",
    "# rxn.trace_boundary(Tlims=[300,1000])"
   ]
  },
  {
   "cell_type": "code",
   "execution_count": null,
   "metadata": {},
   "outputs": [],
   "source": [
    "thermoengine.phases.FixedRxnSet?"
   ]
  },
  {
   "cell_type": "code",
   "execution_count": null,
   "metadata": {},
   "outputs": [],
   "source": [
    "Dia = modelDB.get_phase('Dia')"
   ]
  },
  {
   "cell_type": "code",
   "execution_count": null,
   "metadata": {},
   "outputs": [],
   "source": [
    "Dia.chem_potential(300.0, 30e3)"
   ]
  },
  {
   "cell_type": "code",
   "execution_count": null,
   "metadata": {},
   "outputs": [],
   "source": []
  },
  {
   "cell_type": "code",
   "execution_count": null,
   "metadata": {},
   "outputs": [],
   "source": [
    "import dill"
   ]
  },
  {
   "cell_type": "code",
   "execution_count": null,
   "metadata": {},
   "outputs": [],
   "source": [
    "Cal = modelDB.get_phase('Cal')"
   ]
  },
  {
   "cell_type": "code",
   "execution_count": null,
   "metadata": {},
   "outputs": [],
   "source": [
    "output = {}\n",
    "output['Cal'] = Cal"
   ]
  },
  {
   "cell_type": "code",
   "execution_count": null,
   "metadata": {},
   "outputs": [],
   "source": []
  },
  {
   "cell_type": "code",
   "execution_count": null,
   "metadata": {},
   "outputs": [],
   "source": [
    "with open('test.pkl','wb') as file:\n",
    "    dill.dump(output, file)"
   ]
  },
  {
   "cell_type": "code",
   "execution_count": null,
   "metadata": {},
   "outputs": [],
   "source": []
  },
  {
   "cell_type": "code",
   "execution_count": null,
   "metadata": {},
   "outputs": [],
   "source": []
  }
 ],
 "metadata": {
  "kernelspec": {
   "display_name": "Python 3",
   "language": "python",
   "name": "python3"
  },
  "language_info": {
   "codemirror_mode": {
    "name": "ipython",
    "version": 3
   },
   "file_extension": ".py",
   "mimetype": "text/x-python",
   "name": "python",
   "nbconvert_exporter": "python",
   "pygments_lexer": "ipython3",
   "version": "3.6.2"
  }
 },
 "nbformat": 4,
 "nbformat_minor": 2
}
