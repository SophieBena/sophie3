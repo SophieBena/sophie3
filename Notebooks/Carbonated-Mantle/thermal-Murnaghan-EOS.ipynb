{
 "cells": [
  {
   "cell_type": "markdown",
   "metadata": {},
   "source": [
    "# Thermal Murnaghan EOS for Code Generator \n",
    "Required system packages and initialization"
   ]
  },
  {
   "cell_type": "code",
   "execution_count": null,
   "metadata": {},
   "outputs": [],
   "source": [
    "# %run 'init-coder-model.ipynb'"
   ]
  },
  {
   "cell_type": "markdown",
   "metadata": {},
   "source": [
    "#### (2) $V$ (EOS) integrals\n",
    "Next, define a volume-explicit equation of state applicable over the whole of temperature and pressure space\n",
    "\n",
    "Let's use a temp-dependent Murnaghan EOS (which is invertible for V(P, T))"
   ]
  },
  {
   "cell_type": "code",
   "execution_count": null,
   "metadata": {},
   "outputs": [],
   "source": [
    "\n",
    "VTrPr,a0,K0,K_P,K_P2 = sym.symbols('V_TrPr a0 K0 K_P K_P2')\n",
    "a_v,b_v,c_v = sym.symbols('a_v b_v c_v')\n",
    "\n",
    "Pth = sym.symbols('P_th')\n",
    "# V_T, K_T, dK_T, dK_P = sym.symbols(\"V_T K_T K'_T K'_P\")\n",
    "# dK_P "
   ]
  },
  {
   "cell_type": "code",
   "execution_count": null,
   "metadata": {},
   "outputs": [],
   "source": [
    "V0T,K0T = sym.symbols('V_0T K_0T')"
   ]
  },
  {
   "cell_type": "code",
   "execution_count": null,
   "metadata": {},
   "outputs": [],
   "source": [
    "# V = V0T*( 1 - a_v*(1-(1+b_v*P)**(-c_v)) )\n",
    "# V"
   ]
  },
  {
   "cell_type": "code",
   "execution_count": null,
   "metadata": {},
   "outputs": [],
   "source": [
    "# V = V0T*( 1 - sym.sqrt((1+c_v)/c_v)*(1-(1+b_v*P)**(-c_v)) )\n",
    "# V"
   ]
  },
  {
   "cell_type": "code",
   "execution_count": null,
   "metadata": {},
   "outputs": [],
   "source": [
    "V = V0T*( 1 + K_P/K0T*P)**(-1/K_P)\n",
    "V"
   ]
  },
  {
   "cell_type": "code",
   "execution_count": null,
   "metadata": {},
   "outputs": [],
   "source": []
  },
  {
   "cell_type": "markdown",
   "metadata": {},
   "source": [
    "Integrate VdP to get energetic contribution:\n",
    "\n",
    "G(T,P) - G(T, Pr)"
   ]
  },
  {
   "cell_type": "code",
   "execution_count": null,
   "metadata": {},
   "outputs": [],
   "source": [
    "# V = VTrPr*( 1 + K_P/K0*P)**(-1/K_P)\n",
    "# V"
   ]
  },
  {
   "cell_type": "code",
   "execution_count": null,
   "metadata": {},
   "outputs": [],
   "source": [
    "VdP = sym.integrate(V, (P, 0, P), conds='none')\n",
    "VdP = VdP.simplify()\n",
    "\n",
    "# VdP = VdP.subs(a_v, (1+K_P)/(1+K_P+K0T*K_P2))\n",
    "VdP"
   ]
  },
  {
   "cell_type": "code",
   "execution_count": null,
   "metadata": {},
   "outputs": [],
   "source": []
  },
  {
   "cell_type": "code",
   "execution_count": null,
   "metadata": {},
   "outputs": [],
   "source": [
    "# # V = V.subs(a_v, (1+K_P)/(1+K_P+K0T*K_P2))\n",
    "# V = V.subs(b_v, K_P/K0T - K_P2/(1+K_P))\n",
    "# V = V.subs(c_v, (1+K_P+K0T*K_P2)/(K_P**2 +K_P - K0T*K_P2))\n",
    "# V = V.subs(K_P2, -K_P/K0)\n",
    "# V"
   ]
  },
  {
   "cell_type": "code",
   "execution_count": null,
   "metadata": {},
   "outputs": [],
   "source": []
  },
  {
   "cell_type": "code",
   "execution_count": null,
   "metadata": {},
   "outputs": [],
   "source": [
    "# VdP = sym.integrate(V, (P, 0, P), conds='none')\n",
    "# VdP = VdP.simplify()\n",
    "# \n",
    "# # VdP = VdP.subs(a_v, (1+K_P)/(1+K_P+K0T*K_P2))\n",
    "# VdP = VdP.subs(b_v, K_P/K0T - K_P2/(1+K_P))\n",
    "# VdP = VdP.subs(c_v, (1+K_P+K0T*K_P2)/(K_P**2 +K_P - K0T*K_P2))\n",
    "# VdP = VdP.subs(K_P2, -K_P/K0)\n",
    "# VdP.simplify()"
   ]
  },
  {
   "cell_type": "code",
   "execution_count": null,
   "metadata": {},
   "outputs": [],
   "source": []
  },
  {
   "cell_type": "code",
   "execution_count": null,
   "metadata": {},
   "outputs": [],
   "source": []
  },
  {
   "cell_type": "markdown",
   "metadata": {},
   "source": [
    "# Simple linear Thermal expansion model for volume\n",
    "* use Anderson-Gruneisen approach to approximate thermal softening"
   ]
  },
  {
   "cell_type": "code",
   "execution_count": null,
   "metadata": {},
   "outputs": [],
   "source": [
    "alpha0 = sym.symbols('alpha0')\n",
    "\n",
    "V0T_expr = VTrPr*(1+alpha0*(T-Tr))\n",
    "V0T_expr"
   ]
  },
  {
   "cell_type": "code",
   "execution_count": null,
   "metadata": {},
   "outputs": [],
   "source": [
    "K0T_expr = K0*(VTrPr/V0T_expr)**K_P\n",
    "K0T_expr"
   ]
  },
  {
   "cell_type": "code",
   "execution_count": null,
   "metadata": {},
   "outputs": [],
   "source": [
    "V = V.subs(V0T, V0T_expr)\n",
    "V = V.subs(K0T, K0T_expr)\n",
    "V"
   ]
  },
  {
   "cell_type": "code",
   "execution_count": null,
   "metadata": {},
   "outputs": [],
   "source": [
    "VdP = VdP.subs(V0T, V0T_expr)\n",
    "VdP = VdP.subs(K0T, K0T_expr)\n",
    "VdP.simplify()"
   ]
  },
  {
   "cell_type": "code",
   "execution_count": null,
   "metadata": {},
   "outputs": [],
   "source": []
  },
  {
   "cell_type": "code",
   "execution_count": null,
   "metadata": {},
   "outputs": [],
   "source": []
  },
  {
   "cell_type": "code",
   "execution_count": null,
   "metadata": {},
   "outputs": [],
   "source": [
    "VdP.free_symbols"
   ]
  },
  {
   "cell_type": "markdown",
   "metadata": {},
   "source": [
    "# Store results in model"
   ]
  },
  {
   "cell_type": "code",
   "execution_count": null,
   "metadata": {},
   "outputs": [],
   "source": [
    "# params= [('V_TrPr', 'J/bar-m', VTrPr), ('a0','1/K',a0),  ('K0','bar',K0), ('dKdT','1/K',dK_T)]\n",
    "params= [('V_TrPr', 'J/bar-m', VTrPr), \n",
    "         ('alpha0','1/K',alpha0),  ('K0','bar',K0),  ('K_P','',K_P)]"
   ]
  },
  {
   "cell_type": "code",
   "execution_count": null,
   "metadata": {},
   "outputs": [],
   "source": [
    "model.add_expression_to_model(VdP, params)"
   ]
  },
  {
   "cell_type": "code",
   "execution_count": null,
   "metadata": {},
   "outputs": [],
   "source": []
  }
 ],
 "metadata": {
  "kernelspec": {
   "display_name": "Python 3",
   "language": "python",
   "name": "python3"
  },
  "language_info": {
   "codemirror_mode": {
    "name": "ipython",
    "version": 3
   },
   "file_extension": ".py",
   "mimetype": "text/x-python",
   "name": "python",
   "nbconvert_exporter": "python",
   "pygments_lexer": "ipython3",
   "version": "3.6.2"
  }
 },
 "nbformat": 4,
 "nbformat_minor": 2
}
