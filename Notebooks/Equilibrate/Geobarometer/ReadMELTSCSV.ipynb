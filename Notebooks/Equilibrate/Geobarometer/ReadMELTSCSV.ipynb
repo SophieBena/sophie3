{
 "cells": [
  {
   "cell_type": "code",
   "execution_count": 15,
   "metadata": {},
   "outputs": [],
   "source": [
    "import pandas as pd\n",
    "from openpyxl import Workbook\n",
    "import numpy as np"
   ]
  },
  {
   "cell_type": "code",
   "execution_count": 26,
   "metadata": {},
   "outputs": [],
   "source": [
    "CSV_Filename = 'name.csv'"
   ]
  },
  {
   "cell_type": "code",
   "execution_count": 27,
   "metadata": {},
   "outputs": [],
   "source": [
    "def start_excel_workbook_with_sheet_name(sheetName=\"Summary\"):\n",
    "    wb = Workbook()\n",
    "    ws = wb.active\n",
    "    ws.title = sheetName\n",
    "    row = 0\n",
    "    return wb"
   ]
  },
  {
   "cell_type": "code",
   "execution_count": 28,
   "metadata": {},
   "outputs": [],
   "source": [
    "def write_excel_workbook(wb, fileName=\"junk.xlsx\"):\n",
    "    wb.save(filename = fileName)"
   ]
  },
  {
   "cell_type": "code",
   "execution_count": 39,
   "metadata": {},
   "outputs": [],
   "source": [
    "def write_to_cell_in_sheet_row_col(ws, row, col, value, format='general'):\n",
    "\n",
    "    if format == 'number':\n",
    "        ws.cell(row=row, column=col, value=float(value)).number_format = '0.00'\n",
    "    elif format == 'scientific':\n",
    "        ws.cell(row=row, column=col, value=float(value)).number_format = '0.00E+00'\n",
    "    else:\n",
    "        ws.cell(row=row, column=col, value=value)"
   ]
  },
  {
   "cell_type": "code",
   "execution_count": 40,
   "metadata": {},
   "outputs": [],
   "source": [
    "def update_melts_excel_output_workbook(wb, comp_dict, params):\n",
    "        \n",
    "    condSh = wb[\"init_cond\"]\n",
    "    # NEED TO GET OXIDE COMPOSITION OF SYSTEM\n",
    "    oxides = [i for i in comp_dict.keys()]\n",
    "    for i in range(0,len(oxides)):\n",
    "        write_to_cell_in_sheet_row_col(condSh, i+1, 1, oxides[i])\n",
    "        write_to_cell_in_sheet_row_col(condSh, i+1, 2, comp_dict.get(oxides[i]))\n",
    "\n",
    "        write_to_cell_in_sheet_row_col(condSh, 1, 4,  \"T1 (C)\")\n",
    "        write_to_cell_in_sheet_row_col(condSh, 2, 4,  \"T2 (C)\")\n",
    "        write_to_cell_in_sheet_row_col(condSh, 3, 4,  \"T step (C)\")\n",
    "        write_to_cell_in_sheet_row_col(condSh, 5, 4, \"P1 (MPa)\")\n",
    "        write_to_cell_in_sheet_row_col(condSh, 6, 4, \"P2 (MPa)\")\n",
    "        write_to_cell_in_sheet_row_col(condSh, 7, 4, \"P step (MPa)\")\n",
    "        write_to_cell_in_sheet_row_col(condSh, 9, 4, \"fO2 value\")\n",
    "        write_to_cell_in_sheet_row_col(condSh, 10, 4, \"fO2 buffer\")\n",
    "\n",
    "        write_to_cell_in_sheet_row_col(condSh, 1, 5, params[0])\n",
    "        write_to_cell_in_sheet_row_col(condSh, 2, 5, params[1])\n",
    "        write_to_cell_in_sheet_row_col(condSh, 3, 5, params[2])\n",
    "        write_to_cell_in_sheet_row_col(condSh, 5, 5, params[3])\n",
    "        write_to_cell_in_sheet_row_col(condSh, 6, 5, params[4])\n",
    "        write_to_cell_in_sheet_row_col(condSh, 7, 5, params[5])\n",
    "        write_to_cell_in_sheet_row_col(condSh, 9, 5, params[6])\n",
    "        write_to_cell_in_sheet_row_col(condSh, 10, 5, params[7])\n",
    "\n",
    "        CalcType = params[9]\n",
    "        MELTS_Model = params[10]\n",
    "\n",
    "        if CalcType == 'HP_Sequence':\n",
    "            write_to_cell_in_sheet_row_col(condSh, 12, 4, \"H step (kJ)\")\n",
    "            write_to_cell_in_sheet_row_col(condSh, 12, 5, delta_H)\n",
    "\n",
    "        if CalcType == \"TV_Sequence\":\n",
    "            write_to_cell_in_sheet_row_col(condSh, 12, 4, \"V step (cm3)\")\n",
    "            write_to_cell_in_sheet_row_col(condSh, 12, 5, delta_V)\n",
    "\n",
    "        if CalcType == \"SP_Sequence\":\n",
    "            write_to_cell_in_sheet_row_col(condSh, 12, 4, \"S step (kJ)\")\n",
    "            write_to_cell_in_sheet_row_col(condSh, 12, 5, delta_S)\n",
    "\n",
    "        write_to_cell_in_sheet_row_col(condSh, 1, 7, \"Model\")\n",
    "        write_to_cell_in_sheet_row_col(condSh, 2, 7, \"Calculation\")\n",
    "        write_to_cell_in_sheet_row_col(condSh, 1, 8, \"rhyolite-Melts_v\"+MELTS_Model[:-2]+\".x\")\n",
    "        write_to_cell_in_sheet_row_col(condSh, 2, 8, CalcType)\n",
    "\n",
    "        if (CalcType == \"Draw_Phase_Diagram\" and Include_P_Calc == True):\n",
    "            write_to_cell_in_sheet_row_col(condSh, 2, 8, \"QF_P_Calc\")\n"
   ]
  },
  {
   "cell_type": "markdown",
   "metadata": {},
   "source": [
    "## Loop to create initial condition sheets for all compositions, "
   ]
  },
  {
   "cell_type": "code",
   "execution_count": 42,
   "metadata": {},
   "outputs": [
    {
     "name": "stdout",
     "output_type": "stream",
     "text": [
      "T conditions: 1100.0 700.0 1.0\n",
      "P conditions: 150.0 50.0 25.0\n",
      "fO2 conditions: TRUE NNO 0.0\n"
     ]
    }
   ],
   "source": [
    "comps = pd.read_csv(CSV_Filename).replace(np.nan, 0, regex=True).set_index(' ', drop = True)\n",
    "for c in comps:\n",
    "    comp = comps[c]\n",
    "    composition = comp[:15]\n",
    "    composition = pd.to_numeric(composition).to_dict()\n",
    "    T1 = float(comp['T1'])\n",
    "    T2 = float(comp['T2'])\n",
    "    delta_T = float(comp['?T'])\n",
    "    P1 = float(comp['P1'])\n",
    "    P2 = float(comp['P2'])\n",
    "    delta_P = float(comp['?P'])\n",
    "    const_fO2 = comp['fO2 constraint']\n",
    "    fO2Path = comp['fO2 buffer']\n",
    "    fO2_offset = float(comp['fO2 offset'])\n",
    "    # parameters for modeling to be saved\n",
    "    params = [T1, T2, delta_T, P1, P2, delta_P, fO2_offset, fO2Path, const_fO2]\n",
    "\n",
    "    # might be unnecessary\n",
    "    print('T conditions:', T1, T2, delta_T)\n",
    "    print('P conditions:', P1, P2, delta_P)\n",
    "    print('fO2 conditions:', const_fO2, fO2Path, fO2_offset)\n",
    "\n",
    "    CalcType = comp['Calculation']\n",
    "    params.append(CalcType)\n",
    "    MELTS_Model = comp['Model']\n",
    "    # the below might be unnecessary\n",
    "    if MELTS_Model == '1.0.x':\n",
    "        MELTS_Model = '1.0.2'\n",
    "    elif MELTS_Model == '1.2.x':\n",
    "        MELTS_Model = '1.2.0'\n",
    "    elif MELTS_Model == '5.6.x':\n",
    "        MELTS_Model = '5.6.1'\n",
    "    elif MELTS_Model == '1.1.x':\n",
    "        MELTS_Model = '1.1.0'\n",
    "    params.append(MELTS_Model)\n",
    "    \n",
    "    wb = start_excel_workbook_with_sheet_name(sheetName=\"init_cond\")\n",
    "    update_melts_excel_output_workbook(wb, composition, params)\n",
    "    write_excel_workbook(wb, fileName=\"Test.xlsx\")"
   ]
  },
  {
   "cell_type": "code",
   "execution_count": null,
   "metadata": {},
   "outputs": [],
   "source": []
  }
 ],
 "metadata": {
  "kernelspec": {
   "display_name": "Python 3",
   "language": "python",
   "name": "python3"
  },
  "language_info": {
   "codemirror_mode": {
    "name": "ipython",
    "version": 3
   },
   "file_extension": ".py",
   "mimetype": "text/x-python",
   "name": "python",
   "nbconvert_exporter": "python",
   "pygments_lexer": "ipython3",
   "version": "3.7.9"
  }
 },
 "nbformat": 4,
 "nbformat_minor": 4
}
