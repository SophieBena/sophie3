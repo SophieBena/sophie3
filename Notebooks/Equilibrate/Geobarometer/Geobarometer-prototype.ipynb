{
 "cells": [
  {
   "cell_type": "markdown",
   "id": "numerous-boxing",
   "metadata": {},
   "source": [
    "# Quartz-Feldspar Geobarometer Prototype &\n",
    "# Liquidus Phase Diagram Generator Prototype"
   ]
  },
  {
   "cell_type": "markdown",
   "id": "tender-sheriff",
   "metadata": {},
   "source": [
    "Required Python packages"
   ]
  },
  {
   "cell_type": "code",
   "execution_count": null,
   "id": "collaborative-strengthening",
   "metadata": {},
   "outputs": [],
   "source": [
    "import numpy as np\n",
    "import scipy.optimize as opt\n",
    "import scipy.linalg as lin \n",
    "import sys\n",
    "import matplotlib.pyplot as plt\n",
    "%matplotlib inline"
   ]
  },
  {
   "cell_type": "markdown",
   "id": "constitutional-niagara",
   "metadata": {},
   "source": [
    "Required ThermoEngine packages"
   ]
  },
  {
   "cell_type": "code",
   "execution_count": null,
   "id": "religious-layout",
   "metadata": {},
   "outputs": [],
   "source": [
    "from thermoengine import core, phases, model, equilibrate\n",
    "import warnings\n",
    "warnings.filterwarnings(\"ignore\", category=DeprecationWarning)\n",
    "warnings.filterwarnings(\"ignore\", category=FutureWarning)"
   ]
  },
  {
   "cell_type": "markdown",
   "id": "brutal-garbage",
   "metadata": {},
   "source": [
    "## Use rhyolite-MELTS 1.0.2 liquid as the omnicomponent phase"
   ]
  },
  {
   "cell_type": "code",
   "execution_count": null,
   "id": "experimental-hampton",
   "metadata": {},
   "outputs": [],
   "source": [
    "src_obj = core.get_src_object('EquilibrateUsingMELTSv102')\n",
    "modelDB = model.Database(liq_mod='v1.0')\n",
    "Liquid = modelDB.get_phase('Liq')"
   ]
  },
  {
   "cell_type": "markdown",
   "id": "better-ceiling",
   "metadata": {},
   "source": [
    "### Specify a collection of compatible solid phases"
   ]
  },
  {
   "cell_type": "code",
   "execution_count": null,
   "id": "mathematical-adrian",
   "metadata": {},
   "outputs": [],
   "source": [
    "Feldspar = modelDB.get_phase('Fsp')\n",
    "Quartz = modelDB.get_phase('Qz')\n",
    "Spinel = modelDB.get_phase('SplS')\n",
    "Opx = modelDB.get_phase('Opx')\n",
    "RhomOx = modelDB.get_phase('Rhom')"
   ]
  },
  {
   "cell_type": "markdown",
   "id": "coupled-substance",
   "metadata": {},
   "source": [
    "Set up conversion matrices for translating solid phase (endmember) stoichiometry to liquid components"
   ]
  },
  {
   "cell_type": "code",
   "execution_count": null,
   "id": "exact-daily",
   "metadata": {},
   "outputs": [],
   "source": [
    "elmLiqMat = Liquid.props['element_comp']\n",
    "idx = np.argwhere(np.all(elmLiqMat[..., :] == 0, axis=0))\n",
    "conLiqMat = np.linalg.inv(np.delete(elmLiqMat, idx, axis=1))\n",
    "conLiqMat[np.abs(conLiqMat) < np.finfo(np.float).eps] = 0\n",
    "conPhs_d = {}\n",
    "for phs in [Quartz, Feldspar, Spinel, Opx, RhomOx]:\n",
    "    name = phs.props['phase_name']\n",
    "    elmPhsMat = phs.props['element_comp']\n",
    "    elmPhsMat = (np.delete(elmPhsMat, idx, axis=1))\n",
    "    conPhsMat = np.matmul(elmPhsMat, conLiqMat)\n",
    "    conPhsMat[np.abs(conPhsMat) < 100*np.finfo(np.float).eps] = 0\n",
    "    conPhs_d[name] = conPhsMat"
   ]
  },
  {
   "cell_type": "markdown",
   "id": "answering-roads",
   "metadata": {},
   "source": [
    "### Specify a compatible fluid phase"
   ]
  },
  {
   "cell_type": "code",
   "execution_count": null,
   "id": "instant-consolidation",
   "metadata": {},
   "outputs": [],
   "source": [
    "Water = phases.PurePhase('WaterMelts', 'H2O', calib=False)"
   ]
  },
  {
   "cell_type": "markdown",
   "id": "controlled-huntington",
   "metadata": {},
   "source": [
    "## Specify a bulk composition for testing\n",
    "This composition is late erupted Bishop Tuff"
   ]
  },
  {
   "cell_type": "code",
   "execution_count": null,
   "id": "seasonal-camel",
   "metadata": {},
   "outputs": [],
   "source": [
    "grm_oxides = {\n",
    "    'SiO2':  77.5, \n",
    "    'TiO2':   0.08, \n",
    "    'Al2O3': 12.5, \n",
    "    'Fe2O3':  0.207,\n",
    "    'Cr2O3':  0.0, \n",
    "    'FeO':    0.473, \n",
    "    'MnO':    0.0,\n",
    "    'MgO':    0.03, \n",
    "    'NiO':    0.0, \n",
    "    'CoO':    0.0,\n",
    "    'CaO':    0.43, \n",
    "    'Na2O':   3.98, \n",
    "    'K2O':    4.88, \n",
    "    'P2O5':   0.0, \n",
    "    'H2O':    10.0\n",
    "}\n",
    "tot_grm_oxides = 0.0\n",
    "for key in grm_oxides.keys():\n",
    "    tot_grm_oxides += grm_oxides[key]"
   ]
  },
  {
   "cell_type": "markdown",
   "id": "entitled-expression",
   "metadata": {},
   "source": [
    "Convert to moles and check feasibility of composition"
   ]
  },
  {
   "cell_type": "code",
   "execution_count": null,
   "id": "professional-scout",
   "metadata": {},
   "outputs": [],
   "source": [
    "mol_oxides = core.chem.format_mol_oxide_comp(grm_oxides, convert_grams_to_moles=True)\n",
    "moles_end,oxide_res = Liquid.calc_endmember_comp(\n",
    "    mol_oxide_comp=mol_oxides, method='intrinsic', output_residual=True)\n",
    "if not Liquid.test_endmember_comp(moles_end):\n",
    "    print (\"Calculated composition is infeasible!\")\n",
    "mol_elm = Liquid.covert_endmember_comp(moles_end,output='moles_elements')"
   ]
  },
  {
   "cell_type": "markdown",
   "id": "behind-distribution",
   "metadata": {},
   "source": [
    "Convert to moles of elements for input to the Equilibrate class"
   ]
  },
  {
   "cell_type": "code",
   "execution_count": null,
   "id": "advisory-making",
   "metadata": {},
   "outputs": [],
   "source": [
    "elm_sys = ['H','O','Na','Mg','Al','Si','P','K','Ca','Ti','Cr','Mn','Fe','Co','Ni']\n",
    "blk_cmp = []\n",
    "for elm in elm_sys:\n",
    "    index = core.chem.PERIODIC_ORDER.tolist().index(elm)\n",
    "    blk_cmp.append(mol_elm[index])\n",
    "blk_cmp = np.array(blk_cmp)"
   ]
  },
  {
   "cell_type": "markdown",
   "id": "numerical-hands",
   "metadata": {},
   "source": [
    "## Equilibrate class instance for Geobarometer\n",
    "- Only liquid and water phases in system\n",
    "- Oxygen fugacity is constrained using Kress and Carmichael"
   ]
  },
  {
   "cell_type": "code",
   "execution_count": null,
   "id": "metropolitan-cotton",
   "metadata": {},
   "outputs": [],
   "source": [
    "phs_sys = [Liquid, Water]\n",
    "equil = equilibrate.Equilibrate(elm_sys, phs_sys)"
   ]
  },
  {
   "cell_type": "markdown",
   "id": "opened-madison",
   "metadata": {},
   "source": [
    "This function:\n",
    "- Is used by a minimizer (below) to refine t and p\n",
    "- Accepts a bulk composition (in moles of elements) and fO2 offset from NNO\n",
    "- Equilibrates a liquid with water at the specified fO2\n",
    "- Calculates a chemical affinity of feldspar saturation and one for quartz saturation\n",
    "- result all results of affinity calculations (return_for_scipy=False), or\n",
    "- a sum of squares of the calculated affinities for teh two phases\n",
    "\n",
    "If feldspar and quartz are liquidus phases at some input t, p, then their affinities are zero. "
   ]
  },
  {
   "cell_type": "code",
   "execution_count": null,
   "id": "increasing-consultancy",
   "metadata": {},
   "outputs": [],
   "source": [
    "def affinity(x, blk_cmp, NNO_offset, doprint=False, return_for_scipy=True):\n",
    "    global state, equil, Feldspar, Quartz\n",
    "    t = x[0] \n",
    "    p = x[1]\n",
    "    if state is None:\n",
    "        state = equil.execute(t, p, bulk_comp=blk_cmp, con_deltaNNO=NNO_offset, debug=0, stats=False)\n",
    "    else:\n",
    "        state = equil.execute(t, p, state=state, con_deltaNNO=NNO_offset, debug=0, stats=False)\n",
    "    if doprint:\n",
    "        state.print_state()\n",
    "    muLiq = state.dGdn(t=t, p=p, element_basis=False)[:,0]\n",
    "    result = {}\n",
    "    muFld = np.array([\n",
    "        5.0*muLiq[0]/2.0 + muLiq[2]/2.0 + muLiq[11]/2.0,\n",
    "            muLiq[0] + muLiq[2] + muLiq[10],\n",
    "        2.0*muLiq[0] + muLiq[12]\n",
    "    ])\n",
    "    muQtz = np.array([muLiq[0]])\n",
    "    result['Feldspar'] = Feldspar.affinity_and_comp(t, p, muFld, method='special')\n",
    "    result['Quartz']   = Quartz.affinity_and_comp(t, p, muQtz, method='special')\n",
    "    if return_for_scipy:\n",
    "        AffnFld = result['Feldspar'][0]\n",
    "        AffnQtz = result['Quartz'][0]\n",
    "        sumsq = (AffnFld/13.0)**2 + (AffnQtz/3.0)**2\n",
    "        print ('x', end='')\n",
    "        return sumsq\n",
    "    else:\n",
    "        return result"
   ]
  },
  {
   "cell_type": "markdown",
   "id": "detailed-devices",
   "metadata": {},
   "source": [
    "Call the function to compute results for some arbitrarily chosen t, p"
   ]
  },
  {
   "cell_type": "code",
   "execution_count": null,
   "id": "experimental-liabilities",
   "metadata": {},
   "outputs": [],
   "source": [
    "t = 1034.0\n",
    "p = 1750.0\n",
    "NNO_offset = 0.0\n",
    "state = None\n",
    "res_d = affinity(np.array([t, p]), blk_cmp, NNO_offset, doprint=True, return_for_scipy=False)\n",
    "print ()\n",
    "for key,value in res_d.items():\n",
    "    print ('{0:<12.12s} Affn: {1:10.2f} Comp: '.format(key, value[0]), end='')\n",
    "    print (value[1])"
   ]
  },
  {
   "cell_type": "markdown",
   "id": "assisted-boston",
   "metadata": {},
   "source": [
    "This next call should execute faster because the state *global variable* is used as an initial guess "
   ]
  },
  {
   "cell_type": "code",
   "execution_count": null,
   "id": "metallic-model",
   "metadata": {},
   "outputs": [],
   "source": [
    "res_d = affinity(np.array([t, p]), blk_cmp, NNO_offset, doprint=True, return_for_scipy=False)\n",
    "print ()\n",
    "for key,value in res_d.items():\n",
    "    print ('{0:<12.12s} Affn: {1:10.2f} Comp: '.format(key, value[0]), end='')\n",
    "    print (value[1])"
   ]
  },
  {
   "cell_type": "markdown",
   "id": "under-concentration",
   "metadata": {},
   "source": [
    "## Perform the Geobarometer calculation\n",
    "Use a minimizer from SciPy optimize to find values of t,p that minimize the sum-of-squares of the affinity\n",
    "- The function result of this minimization should be \"zero\" if both phases are simultaneously on the liquidus"
   ]
  },
  {
   "cell_type": "code",
   "execution_count": null,
   "id": "adjusted-rebecca",
   "metadata": {},
   "outputs": [],
   "source": [
    "t = 1034.0\n",
    "p = 1750.0\n",
    "NNO_offset = 0.0\n",
    "state = None\n",
    "result = opt.minimize(affinity, \n",
    "             np.array([t, p]), \n",
    "             args=(blk_cmp, NNO_offset),\n",
    "             options={'disp':True, 'xatol':1.0, 'fatol':1.0, 'return_all':True},\n",
    "             method='Nelder-Mead'\n",
    "            )\n",
    "result"
   ]
  },
  {
   "cell_type": "markdown",
   "id": "divine-cincinnati",
   "metadata": {},
   "source": [
    "### Check the result by calling the affinity function directly"
   ]
  },
  {
   "cell_type": "code",
   "execution_count": null,
   "id": "western-policy",
   "metadata": {},
   "outputs": [],
   "source": [
    "print ('T =', result.x[0]-273.15, '°C, P =', result.x[1], 'bars')\n",
    "res_d = affinity(result.x, blk_cmp, NNO_offset, doprint=True, return_for_scipy=False)\n",
    "print ()\n",
    "for key,value in res_d.items():\n",
    "    print ('{0:<12.12s} Affn: {1:10.2f} Comp: '.format(key, value[0]), end='')\n",
    "    print (value[1])"
   ]
  },
  {
   "cell_type": "markdown",
   "id": "cellular-strap",
   "metadata": {},
   "source": [
    "### Check the result by plotting convergence iterates"
   ]
  },
  {
   "cell_type": "code",
   "execution_count": null,
   "id": "behind-forwarding",
   "metadata": {},
   "outputs": [],
   "source": [
    "fig = plt.figure(figsize=(15,5))\n",
    "plt.subplot(1,2,1)\n",
    "plt.title('Temperature Convergence')\n",
    "for i,row in enumerate(np.array(result.allvecs)):\n",
    "    plt.plot(i, row[0]-273.15, 'ro')\n",
    "plt.xlabel('Iteration')\n",
    "plt.ylabel('T °C')\n",
    "plt.subplot(1,2,2)\n",
    "plt.title('Pressure Convergence')\n",
    "for i,row in enumerate(np.array(result.allvecs)):\n",
    "    plt.plot(i, row[1], 'ro')\n",
    "plt.xlabel('Iteration')\n",
    "plt.ylabel('P bars')\n",
    "plt.tight_layout()\n",
    "plt.show()"
   ]
  },
  {
   "cell_type": "markdown",
   "id": "retained-campus",
   "metadata": {},
   "source": [
    "## Are quartz and feldspar the true liquidus phases?\n",
    "- Create a rhyolite-MELTS instance with all potential phases instantiated\n",
    "- Use the calculated t,p is compute a stable phase assemblage.\n",
    "- Is the stable assemblage quartz, feldspar and water? Yes, then we are done. No, then the baraometer does not apply"
   ]
  },
  {
   "cell_type": "code",
   "execution_count": null,
   "id": "complex-shaft",
   "metadata": {},
   "outputs": [],
   "source": [
    "equilTest = equilibrate.Equilibrate(elm_sys, [Liquid, Feldspar, Quartz, Spinel, Opx, RhomOx, Water])\n",
    "state = equilTest.execute(result.x[0], result.x[1], bulk_comp=blk_cmp, con_deltaNNO=0.0, debug=0, stats=False)\n",
    "state.print_state()"
   ]
  },
  {
   "cell_type": "markdown",
   "id": "effective-therapy",
   "metadata": {},
   "source": [
    "## Is there a second feldspar on the liquidus?\n",
    "- Run the \"phase stability\" method on the feldspar just computed to see if that composition unmixes\n",
    "- If compositions are returned that are different from the input composition, and the function value associated with that composition is near zero or negative, then unmixing is likely"
   ]
  },
  {
   "cell_type": "code",
   "execution_count": null,
   "id": "traditional-designer",
   "metadata": {},
   "outputs": [],
   "source": [
    "comp_feldspar = state.compositions(phase_name='Feldspar', units='mole_frac')\n",
    "result_l = Feldspar.determine_phase_stability(result.x[0], result.x[1], comp_feldspar, return_all_results=True)\n",
    "print ('{0:>10.10s} {1:>7.7s}  '.format('func', 'norm'), end='')\n",
    "for xend in Feldspar.props['endmember_name']:\n",
    "    print ('{0:>7.7s} '.format(xend), end='')\n",
    "print ('')\n",
    "print ('{0:20.20s}'.format(''), end='')\n",
    "for xend in comp_feldspar:\n",
    "    print ('{0:7.4f} '.format(xend), end='')\n",
    "print (' Reference composition')\n",
    "for res in result_l:\n",
    "    print ('{0:10.3g} {1:7.4f}  '.format(res[0], np.linalg.norm(res[1]-comp_feldspar)), end='')\n",
    "    for xend in res[1]:\n",
    "        print ('{0:7.4f} '.format(xend), end='')\n",
    "    print ('')"
   ]
  },
  {
   "cell_type": "markdown",
   "id": "israeli-commons",
   "metadata": {},
   "source": [
    "## Verify a second feldspar\n",
    "- Lower t by s \"small amount\" and recompute equilibrium. \n",
    "- If a feldspar show sup, the what we have found is a quartz + two feldspar pressure"
   ]
  },
  {
   "cell_type": "code",
   "execution_count": null,
   "id": "every-insider",
   "metadata": {},
   "outputs": [],
   "source": [
    "state = equilTest.execute(result.x[0]-.5, result.x[1], bulk_comp=blk_cmp, con_deltaNNO=0.0, debug=0, stats=False)\n",
    "state.print_state()"
   ]
  },
  {
   "cell_type": "markdown",
   "id": "smart-international",
   "metadata": {},
   "source": [
    "# Liquidus Phase Diagrams"
   ]
  },
  {
   "cell_type": "markdown",
   "id": "seven-pollution",
   "metadata": {},
   "source": [
    "Liquidus saturation curve method for scalar root finder:  \n",
    "- Specify t, p, bulk composition, fO2 offset, and a phase instance\n",
    "- Returns the chemical affinity (and composition) of that phase"
   ]
  },
  {
   "cell_type": "code",
   "execution_count": null,
   "id": "cutting-booking",
   "metadata": {},
   "outputs": [],
   "source": [
    "def saturation_curve(t, p, blk_cmp, NNO_offset, phase_obj, doprint=False, return_for_scipy=True):\n",
    "    global state, equil, conPhs_d\n",
    "    if state is None:\n",
    "        state = equil.execute(t, p, bulk_comp=blk_cmp, con_deltaNNO=NNO_offset, debug=0, stats=False)\n",
    "    else:\n",
    "        state = equil.execute(t, p, state=state, con_deltaNNO=NNO_offset, debug=0, stats=False)\n",
    "    if doprint:\n",
    "        state.print_state()\n",
    "    muLiq = state.dGdn(t=t, p=p, element_basis=False)[:,0]\n",
    "    mLiq  = state.compositions(phase_name='Liquid')\n",
    "    phase_name = phase_obj.props['phase_name']\n",
    "    assert phase_name in conPhs_d, phase_name+\" is not in conPhs_d\"\n",
    "    muPhase = []\n",
    "    conPhsMat = conPhs_d[phase_name]\n",
    "    for i in range(0,conPhsMat.shape[0]):\n",
    "        sum = 0.0\n",
    "        for j in range (0,conPhsMat.shape[1]):\n",
    "            if conPhsMat[i,j] != 0 and mLiq[j] == 0:\n",
    "                sum = 0.0\n",
    "                break\n",
    "            sum += conPhsMat[i,j]*muLiq[j]\n",
    "        muPhase.append(sum)\n",
    "    muPhase = np.array(muPhase)\n",
    "    result = phase_obj.affinity_and_comp(t, p, muPhase, method='special')\n",
    "    if return_for_scipy:\n",
    "        return result[0] \n",
    "    else:\n",
    "        return result"
   ]
  },
  {
   "cell_type": "markdown",
   "id": "better-palestine",
   "metadata": {},
   "source": [
    "## Minimizer to zero chemical affinity by changing T\n",
    "- in a loop over phases and an inner loop over P\n",
    "  - find the T that zeroes the affinitry for the phase \n",
    "- collect results and plot the diagram\n",
    "- accuarcy is ± 0.1 °C"
   ]
  },
  {
   "cell_type": "code",
   "execution_count": null,
   "id": "indoor-education",
   "metadata": {},
   "outputs": [],
   "source": [
    "t = 1050\n",
    "NNO_offset = 0.0\n",
    "fig = plt.figure(figsize=(15,10))\n",
    "colors = ['r-', 'g-', 'b-', 'y-', 'm-']\n",
    "for ic,phs in enumerate([Quartz, Feldspar, Spinel, Opx, RhomOx]): \n",
    "    x = []\n",
    "    y = []\n",
    "    tk = t\n",
    "    state = None\n",
    "    print (phs.props['phase_name'])\n",
    "    for ip in range(0,21):\n",
    "        y.append(3000-ip*100)\n",
    "        result = opt.root_scalar(saturation_curve, \n",
    "                                 bracket=(500,2000), \n",
    "                                 x0=tk, x1=tk-25, \n",
    "                                 xtol=.1, \n",
    "                                 args=(3000-ip*100, blk_cmp, NNO_offset, phs), \n",
    "                                 method='secant') # secant is fastest\n",
    "        tk = result.root\n",
    "        x.append(tk-273.15)\n",
    "        print ('{0:6.1f}'.format(tk-273.15), end=' ')\n",
    "    print ()\n",
    "    plt.plot(np.array(x), np.array(y), colors[ic], label=phs.props['phase_name'])\n",
    "plt.title('Liquidus Phase Diagram')\n",
    "plt.xlabel('T °C')\n",
    "plt.ylabel('P bars')\n",
    "plt.legend()\n",
    "plt.show()"
   ]
  },
  {
   "cell_type": "code",
   "execution_count": null,
   "id": "promotional-adoption",
   "metadata": {},
   "outputs": [],
   "source": []
  }
 ],
 "metadata": {
  "kernelspec": {
   "display_name": "Python 3",
   "language": "python",
   "name": "python3"
  },
  "language_info": {
   "codemirror_mode": {
    "name": "ipython",
    "version": 3
   },
   "file_extension": ".py",
   "mimetype": "text/x-python",
   "name": "python",
   "nbconvert_exporter": "python",
   "pygments_lexer": "ipython3",
   "version": "3.7.9"
  }
 },
 "nbformat": 4,
 "nbformat_minor": 5
}
