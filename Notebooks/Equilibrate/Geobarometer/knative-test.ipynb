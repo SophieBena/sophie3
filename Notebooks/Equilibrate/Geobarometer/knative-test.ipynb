{
 "cells": [
  {
   "cell_type": "markdown",
   "id": "flexible-investigation",
   "metadata": {},
   "source": [
    "# Geobarometer Knative service test\n",
    "See also Python script async_tests.py for testing asynchronous calls to the web services"
   ]
  },
  {
   "cell_type": "code",
   "execution_count": null,
   "id": "facial-azerbaijan",
   "metadata": {},
   "outputs": [],
   "source": [
    "import requests"
   ]
  },
  {
   "cell_type": "code",
   "execution_count": null,
   "id": "printable-designation",
   "metadata": {},
   "outputs": [],
   "source": [
    "url = \"http://geobarometer.default.enki-portal.net\""
   ]
  },
  {
   "cell_type": "code",
   "execution_count": null,
   "id": "brilliant-chicago",
   "metadata": {},
   "outputs": [],
   "source": [
    "params = [\n",
    "    ('SiO2',  \"77.5\"), \n",
    "    ('TiO2',   \"0.08\"), \n",
    "    ('Al2O3', \"12.5\"), \n",
    "    ('Fe2O3',  \"0.207\"),\n",
    "    ('Cr2O3',  \"0.0\"), \n",
    "    ('FeO',    \"0.473\"), \n",
    "    ('MnO',    \"0.0\"),\n",
    "    ('MgO',    \"0.03\"), \n",
    "    ('NiO',    \"0.0\"), \n",
    "    ('CoO',    \"0.0\"),\n",
    "    ('CaO',    \"0.43\"), \n",
    "    ('Na2O',   \"3.98\"), \n",
    "    ('K2O',    \"4.88\"), \n",
    "    ('P2O5',   \"0.0\"), \n",
    "    ('H2O',    \"10.0\"),\n",
    "    ('fO2 offset', \"0.0\")\n",
    "]"
   ]
  },
  {
   "cell_type": "code",
   "execution_count": null,
   "id": "passive-mozambique",
   "metadata": {},
   "outputs": [],
   "source": [
    "%%time\n",
    "resp = requests.get(url, params=params)"
   ]
  },
  {
   "cell_type": "code",
   "execution_count": null,
   "id": "gorgeous-vehicle",
   "metadata": {},
   "outputs": [],
   "source": [
    "print (resp.status_code)\n",
    "print (resp.content)"
   ]
  },
  {
   "cell_type": "code",
   "execution_count": null,
   "id": "premium-possession",
   "metadata": {},
   "outputs": [],
   "source": [
    "%%time \n",
    "resp = requests.post(url, data=params)"
   ]
  },
  {
   "cell_type": "code",
   "execution_count": null,
   "id": "careful-colors",
   "metadata": {},
   "outputs": [],
   "source": [
    "print (resp.status_code)\n",
    "print (resp.content)"
   ]
  }
 ],
 "metadata": {
  "kernelspec": {
   "display_name": "Python 3",
   "language": "python",
   "name": "python3"
  },
  "language_info": {
   "codemirror_mode": {
    "name": "ipython",
    "version": 3
   },
   "file_extension": ".py",
   "mimetype": "text/x-python",
   "name": "python",
   "nbconvert_exporter": "python",
   "pygments_lexer": "ipython3",
   "version": "3.7.9"
  }
 },
 "nbformat": 4,
 "nbformat_minor": 5
}
