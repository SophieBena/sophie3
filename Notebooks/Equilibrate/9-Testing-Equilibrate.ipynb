{
 "cells": [
  {
   "cell_type": "markdown",
   "metadata": {},
   "source": [
    "# Testing the equilibrate code, and notes"
   ]
  },
  {
   "cell_type": "code",
   "execution_count": null,
   "metadata": {},
   "outputs": [],
   "source": [
    "import numpy as np\n",
    "import scipy.optimize as opt\n",
    "import scipy.linalg as lin \n",
    "import scipy as sci\n",
    "import sys"
   ]
  },
  {
   "cell_type": "code",
   "execution_count": null,
   "metadata": {},
   "outputs": [],
   "source": [
    "from thermoengine import core, phases, model, equilibrate"
   ]
  },
  {
   "cell_type": "code",
   "execution_count": null,
   "metadata": {},
   "outputs": [],
   "source": [
    "np.set_printoptions(linewidth=200, precision=1)"
   ]
  },
  {
   "cell_type": "markdown",
   "metadata": {},
   "source": [
    "### T,P"
   ]
  },
  {
   "cell_type": "code",
   "execution_count": null,
   "metadata": {},
   "outputs": [],
   "source": [
    "t = 1050.0\n",
    "p = 1750.0"
   ]
  },
  {
   "cell_type": "markdown",
   "metadata": {},
   "source": [
    "## Flags\n",
    "By default, both of these flags are False.\n",
    "- lagrange_use_omni forces the system to use ONLY the omnicomponent phase to balance the imposed chemical potential constraint\n",
    "- lagrange_no_mol_deriv forces the construction of the Khorzhinskii potential to use a constant value for the imposed potential, equal to that of the imposed constraint"
   ]
  },
  {
   "cell_type": "code",
   "execution_count": null,
   "metadata": {},
   "outputs": [],
   "source": [
    "lagrange_use_omni = True\n",
    "lagrange_no_mol_deriv = True"
   ]
  },
  {
   "cell_type": "markdown",
   "metadata": {},
   "source": [
    "## Create phases for equilibrium assemblages"
   ]
  },
  {
   "cell_type": "code",
   "execution_count": null,
   "metadata": {},
   "outputs": [],
   "source": [
    "modelDB = model.Database(liq_mod='v1.0')"
   ]
  },
  {
   "cell_type": "code",
   "execution_count": null,
   "metadata": {},
   "outputs": [],
   "source": [
    "Liquid = modelDB.get_phase('Liq')\n",
    "Feldspar = modelDB.get_phase('Fsp')\n",
    "Corundum = modelDB.get_phase('Crn')"
   ]
  },
  {
   "cell_type": "markdown",
   "metadata": {},
   "source": [
    "This is the starting composition of the system (moles of components, liquid first, then feldspar)"
   ]
  },
  {
   "cell_type": "code",
   "execution_count": null,
   "metadata": {},
   "outputs": [],
   "source": [
    "if lagrange_use_omni:\n",
    "    nref = np.array([1.11066366e+00, 1.00126660e-03, 2.34951267e-01, 1.29624365e-03, 0.00000000e+00, 3.29174461e-03, \n",
    "                     0.00000000e+00, 3.72167803e-04, 0.00000000e+00, 0.00000000e+00, 7.66351040e-03, 6.42125223e-02,\n",
    "                     1.03614268e-01, 0.00000000e+00, 3.05297749e-01, 5.67713421e-06, 4.18932529e-06, 1.33540497e-07])\n",
    "else:\n",
    "    nref = np.array([1.11066104e+00, 1.00126660e-03, 2.34939818e-01, 1.29624365e-03, 0.00000000e+00, 3.29174461e-03,\n",
    "                     0.00000000e+00, 3.72167803e-04, 0.00000000e+00, 0.00000000e+00, 7.66655039e-03, 6.42116348e-02,\n",
    "                     1.03613656e-01, 0.00000000e+00, 3.05297749e-01, 7.45226819e-06, 1.14933970e-06, 7.45751928e-07])\n",
    "nref_l = nref[:-3]\n",
    "nref_f = nref[-3:]\n",
    "nref_l,nref_f"
   ]
  },
  {
   "cell_type": "markdown",
   "metadata": {},
   "source": [
    "Phase properties - liquid"
   ]
  },
  {
   "cell_type": "code",
   "execution_count": null,
   "metadata": {},
   "outputs": [],
   "source": [
    "gLiq = Liquid.gibbs_energy(t,p,mol=nref_l,deriv={\"dmol\":0})\n",
    "dgLiq = Liquid.gibbs_energy(t,p,mol=nref_l,deriv={\"dmol\":1})[0]\n",
    "d2gLiq = Liquid.gibbs_energy(t,p,mol=nref_l,deriv={\"dmol\":2})[0]\n",
    "d3gLiq = Liquid.gibbs_energy(t,p,mol=nref_l,deriv={\"dmol\":3})[0]"
   ]
  },
  {
   "cell_type": "markdown",
   "metadata": {},
   "source": [
    "Phase properties - feldspar"
   ]
  },
  {
   "cell_type": "code",
   "execution_count": null,
   "metadata": {},
   "outputs": [],
   "source": [
    "gFld = Feldspar.gibbs_energy(t,p,mol=nref_f,deriv={\"dmol\":0})\n",
    "dgFld = Feldspar.gibbs_energy(t,p,mol=nref_f,deriv={\"dmol\":1})[0]\n",
    "d2gFld = Feldspar.gibbs_energy(t,p,mol=nref_f,deriv={\"dmol\":2})[0]\n",
    "d3gFld = Feldspar.gibbs_energy(t,p,mol=nref_f,deriv={\"dmol\":3})[0]"
   ]
  },
  {
   "cell_type": "markdown",
   "metadata": {},
   "source": [
    "# Algorithm Testing\n",
    "Output from notebook 7b  \n",
    "Rhyolite liquid, MELTS 1.0.2 model  \n",
    "Supersaturation with feldspar  \n",
    "Forced to be at corundum saturation"
   ]
  },
  {
   "cell_type": "markdown",
   "metadata": {},
   "source": [
    "Khorzhinskii potential:  \n",
    "$L = G\\left( {{\\bf{n}},T,P} \\right) - \\left( {{{\\bf{r}}^T}{\\bf{n}}} \\right)\\Phi \\left( {{\\bf{n}},T,P} \\right)$  \n",
    "\n",
    "where $\\Phi \\left( {{\\bf{n}},T,P} \\right) = {{\\bf{r}}^T}\\frac{{\\partial G\\left( {{\\bf{n}},T,P} \\right)}}{{\\partial {\\bf{n}}}}$ is a general chemical potential constraint and $\\bf{r}$ is a vector of stoichiometric reaction coefficients relating system phase components to the imposed potential.   \n",
    "\n",
    "The first derivative (gradient) is:  \n",
    "$\\frac{{\\partial L}}{{\\partial {\\bf{n}}}} = \\frac{{\\partial G\\left( {{\\bf{n}},T,P} \\right)}}{{\\partial {\\bf{n}}}} - \\left( {{{\\bf{r}}^T}\\frac{{\\partial {\\bf{n}}}}{{\\partial {\\bf{n}}}} + {\\bf{n}}\\frac{{\\partial {{\\bf{r}}^T}}}{{\\partial {\\bf{n}}}}} \\right)\\Phi \\left( {{\\bf{n}},T,P} \\right) - \\left( {{{\\bf{r}}^T}{\\bf{n}}} \\right)\\frac{{\\partial \\Phi \\left( {{\\bf{n}},T,P} \\right)}}{{\\partial {\\bf{n}}}}$  \n",
    "\n",
    "note $\\frac{{\\partial {\\bf{n}}}}{{\\partial {\\bf{n}}}} = {\\bf{I}}$, $\\frac{{\\partial {{\\bf{r}}^T}}}{{\\partial {\\bf{n}}}} = {\\bf{0}}$, ${{\\bf{r}}^T}{\\bf{I}} = {\\bf{r}}$  \n",
    "\n",
    "$\\frac{{\\partial L}}{{\\partial {\\bf{n}}}} = \\frac{{\\partial G\\left( {{\\bf{n}},T,P} \\right)}}{{\\partial {\\bf{n}}}} - {\\bf{r}}\\Phi \\left( {{\\bf{n}},T,P} \\right) - \\left( {{{\\bf{r}}^T}{\\bf{n}}} \\right)\\frac{{\\partial \\Phi \\left( {{\\bf{n}},T,P} \\right)}}{{\\partial {\\bf{n}}}}$  \n",
    "\n",
    "The second derivative (hessian) is:  \n",
    "$\\frac{{{\\partial ^2}L}}{{\\partial {{\\bf{n}}^2}}} = \\frac{{{\\partial ^2}G\\left( {{\\bf{n}},T,P} \\right)}}{{\\partial {{\\bf{n}}^2}}} - \\frac{{\\partial \\Phi \\left( {{\\bf{n}},T,P} \\right)}}{{\\partial {\\bf{n}}}}{{\\bf{r}}^T} - {\\bf{r}}\\frac{{\\partial \\Phi \\left( {{\\bf{n}},T,P} \\right)}}{{\\partial {\\bf{n}}}} - \\left( {{{\\bf{r}}^T}{\\bf{n}}} \\right)\\frac{{{\\partial ^2}\\Phi \\left( {{\\bf{n}},T,P} \\right)}}{{\\partial {{\\bf{n}}^2}}}$  \n",
    "\n",
    "The Lagrangian is:  \n",
    "$\\Lambda  = L - \\lambda \\left( {\\Phi \\left( {{\\bf{n}},T,P} \\right) - {\\Phi ^{fix}}\\left( {T,P} \\right)} \\right)$  \n",
    "\n",
    "and its contribution to the second derivative is:  \n",
    "$\\frac{{{\\partial ^2}\\Lambda }}{{\\partial {{\\bf{n}}^2}}} =  - \\lambda \\frac{{{\\partial ^2}\\Phi \\left( {{\\bf{n}},T,P} \\right)}}{{\\partial {{\\bf{n}}^2}}}$  \n",
    "\n",
    "Note that as $\\Phi \\left( {{\\bf{n}},T,P} \\right) = {{\\bf{r}}^T}\\frac{{\\partial G\\left( {{\\bf{n}},T,P} \\right)}}{{\\partial {\\bf{n}}}}$, the derivative is:  \n",
    "$\\frac{{\\partial \\Phi \\left( {{\\bf{n}},T,P} \\right)}}{{\\partial {\\bf{n}}}} = \\frac{{{\\partial ^2}G\\left( {{\\bf{n}},T,P} \\right)}}{{\\partial {{\\bf{n}}^2}}}{\\bf{r}}$"
   ]
  },
  {
   "cell_type": "markdown",
   "metadata": {},
   "source": [
    "### Constraint matrices (columns elements)\n",
    "_f Feldspar  \n",
    "_q Quartz  \n",
    "_c Corundum  \n",
    "_qc Quartz+Corundum  \n",
    "_qf Quartz+Feldspar  \n",
    "_ox Oxygen\n",
    "\n",
    "We only use the corundum constraint matrix in the following"
   ]
  },
  {
   "cell_type": "code",
   "execution_count": null,
   "metadata": {},
   "outputs": [],
   "source": [
    "CTf_f = np.array([[0., 8., 1., 0., 1., 3., 0., 0., 0., 0., 0., 0., 0., 0., 0.],\n",
    "                  [0., 8., 0., 0., 2., 2., 0., 0., 1., 0., 0., 0., 0., 0., 0.],\n",
    "                  [0., 8., 0., 0., 1., 3., 0., 1., 0., 0., 0., 0., 0., 0., 0.]])\n",
    "CTf_q = np.array([[0., 2., 0., 0., 0., 1., 0., 0., 0., 0., 0., 0., 0., 0., 0.]])\n",
    "CTf_c = np.array([[0., 3., 0., 0., 2., 0., 0., 0., 0., 0., 0., 0., 0., 0., 0.]])\n",
    "CTf_qc = np.array([[0., 2., 0., 0., 0., 1., 0., 0., 0., 0., 0., 0., 0., 0., 0.],\n",
    "                   [0., 3., 0., 0., 2., 0., 0., 0., 0., 0., 0., 0., 0., 0., 0.]])\n",
    "CTf_qf = np.array([[0., 8., 1., 0., 1., 3., 0., 0., 0., 0., 0., 0., 0., 0., 0.],\n",
    "                   [0., 8., 0., 0., 2., 2., 0., 0., 1., 0., 0., 0., 0., 0., 0.],\n",
    "                   [0., 8., 0., 0., 1., 3., 0., 1., 0., 0., 0., 0., 0., 0., 0.],\n",
    "                   [0., 2., 0., 0., 0., 1., 0., 0., 0., 0., 0., 0., 0., 0., 0.]])\n",
    "CTf_ox = np.array([[0., 2., 0., 0., 0., 0., 0., 0., 0., 0., 0., 0., 0., 0., 0.]])\n",
    "#CTf_m = np.array([[0.4388],[0.0104], [0.5508]]) # Feldspar composition at supersaturation\n",
    "#CTf = CTf_m*CTf\n",
    "CTf = CTf_c\n",
    "CTf"
   ]
  },
  {
   "cell_type": "markdown",
   "metadata": {},
   "source": [
    "Inflated constraint matrix"
   ]
  },
  {
   "cell_type": "code",
   "execution_count": null,
   "metadata": {},
   "outputs": [],
   "source": [
    "CTf = np.pad(CTf,((0,CTf.shape[1]-CTf.shape[0]),(0,0)),mode='constant')\n",
    "print (CTf.shape)\n",
    "CTf"
   ]
  },
  {
   "cell_type": "markdown",
   "metadata": {},
   "source": [
    "Utility function to eliminate rounding \"zeros\""
   ]
  },
  {
   "cell_type": "code",
   "execution_count": null,
   "metadata": {},
   "outputs": [],
   "source": [
    "filtr = lambda x : x if abs(x) > float(1000*sys.float_info.epsilon) else 0\n",
    "vfiltr = np.vectorize(filtr, otypes=[float])"
   ]
  },
  {
   "cell_type": "markdown",
   "metadata": {},
   "source": [
    "Stoichiometric constraint matrices:  \n",
    "- A (silicate liquid, MELTS model, columns = components, rows = elements)\n",
    "- A_w like A, additional column for water (not used in the following)\n",
    "- A_f like A, additional three columns for feldspar "
   ]
  },
  {
   "cell_type": "code",
   "execution_count": null,
   "metadata": {},
   "outputs": [],
   "source": [
    "A = np.array([[0.,  0.,  0.,  0.,  0.,  0.,  0.,  0.,  0.,  0.,  0.,  0.,  0.,  0.,  2. ],\n",
    "              [2.,  2.,  3.,  3.,  4.,  4.,  2.,  4.,  2.,  2.,  3.,  3.,  4.,  8.,  1. ],\n",
    "              [0.,  0.,  0.,  0.,  0.,  0.,  0.,  0.,  0.,  0.,  0.,  2.,  0.,  0.,  0. ],\n",
    "              [0.,  0.,  0.,  0.,  1.,  0.,  0.,  2.,  0.,  0.,  0.,  0.,  0.,  0.,  0. ],\n",
    "              [0.,  0.,  2.,  0.,  0.,  0.,  0.,  0.,  0.,  0.,  0.,  0.,  1.,  0.,  0. ],\n",
    "              [1.,  0.,  0.,  0.,  0.,  1.,  0.5, 1.,  0.5, 0.5, 1.,  1.,  1.,  0.,  0. ],\n",
    "              [0.,  0.,  0.,  0.,  0.,  0.,  0.,  0.,  0.,  0.,  0.,  0.,  0.,  2.,  0. ],\n",
    "              [0.,  0.,  0.,  0.,  0.,  0.,  0.,  0.,  0.,  0.,  0.,  0.,  1.,  0.,  0. ],\n",
    "              [0.,  0.,  0.,  0.,  0.,  0.,  0.,  0.,  0.,  0.,  1.,  0.,  0.,  3.,  0. ],\n",
    "              [0.,  1.,  0.,  0.,  0.,  0.,  0.,  0.,  0.,  0.,  0.,  0.,  0.,  0.,  0. ],\n",
    "              [0.,  0.,  0.,  0.,  2.,  0.,  0.,  0.,  0.,  0.,  0.,  0.,  0.,  0.,  0. ],\n",
    "              [0.,  0.,  0.,  0.,  0.,  0.,  1.,  0.,  0.,  0.,  0.,  0.,  0.,  0.,  0. ],\n",
    "              [0.,  0.,  0.,  2.,  0.,  2.,  0.,  0.,  0.,  0.,  0.,  0.,  0.,  0.,  0. ],\n",
    "              [0.,  0.,  0.,  0.,  0.,  0.,  0.,  0.,  0.,  1.,  0.,  0.,  0.,  0.,  0. ],\n",
    "              [0.,  0.,  0.,  0.,  0.,  0.,  0.,  0.,  1.,  0.,  0.,  0.,  0.,  0.,  0. ]])\n",
    "A_w = np.array([[0.,  0.,  0.,  0.,  0.,  0.,  0.,  0.,  0.,  0.,  0.,  0.,  0.,  0.,  2., 2. ],\n",
    "              [2.,  2.,  3.,  3.,  4.,  4.,  2.,  4.,  2.,  2.,  3.,  3.,  4.,  8.,  1., 1. ],\n",
    "              [0.,  0.,  0.,  0.,  0.,  0.,  0.,  0.,  0.,  0.,  0.,  2.,  0.,  0.,  0., 0. ],\n",
    "              [0.,  0.,  0.,  0.,  1.,  0.,  0.,  2.,  0.,  0.,  0.,  0.,  0.,  0.,  0., 0. ],\n",
    "              [0.,  0.,  2.,  0.,  0.,  0.,  0.,  0.,  0.,  0.,  0.,  0.,  1.,  0.,  0., 0. ],\n",
    "              [1.,  0.,  0.,  0.,  0.,  1.,  0.5, 1.,  0.5, 0.5, 1.,  1.,  1.,  0.,  0., 0. ],\n",
    "              [0.,  0.,  0.,  0.,  0.,  0.,  0.,  0.,  0.,  0.,  0.,  0.,  0.,  2.,  0., 0. ],\n",
    "              [0.,  0.,  0.,  0.,  0.,  0.,  0.,  0.,  0.,  0.,  0.,  0.,  1.,  0.,  0., 0. ],\n",
    "              [0.,  0.,  0.,  0.,  0.,  0.,  0.,  0.,  0.,  0.,  1.,  0.,  0.,  3.,  0., 0. ],\n",
    "              [0.,  1.,  0.,  0.,  0.,  0.,  0.,  0.,  0.,  0.,  0.,  0.,  0.,  0.,  0., 0. ],\n",
    "              [0.,  0.,  0.,  0.,  2.,  0.,  0.,  0.,  0.,  0.,  0.,  0.,  0.,  0.,  0., 0. ],\n",
    "              [0.,  0.,  0.,  0.,  0.,  0.,  1.,  0.,  0.,  0.,  0.,  0.,  0.,  0.,  0., 0. ],\n",
    "              [0.,  0.,  0.,  2.,  0.,  2.,  0.,  0.,  0.,  0.,  0.,  0.,  0.,  0.,  0., 0. ],\n",
    "              [0.,  0.,  0.,  0.,  0.,  0.,  0.,  0.,  0.,  1.,  0.,  0.,  0.,  0.,  0., 0. ],\n",
    "              [0.,  0.,  0.,  0.,  0.,  0.,  0.,  0.,  1.,  0.,  0.,  0.,  0.,  0.,  0., 0. ]])\n",
    "A_f = np.array([[0.,  0.,  0.,  0.,  0.,  0.,  0.,  0.,  0.,  0.,  0.,  0.,  0.,  0.,  2., 0., 0., 0. ],\n",
    "              [2.,  2.,  3.,  3.,  4.,  4.,  2.,  4.,  2.,  2.,  3.,  3.,  4.,  8.,  1., 8., 8., 8. ],\n",
    "              [0.,  0.,  0.,  0.,  0.,  0.,  0.,  0.,  0.,  0.,  0.,  2.,  0.,  0.,  0., 1., 0., 0. ],\n",
    "              [0.,  0.,  0.,  0.,  1.,  0.,  0.,  2.,  0.,  0.,  0.,  0.,  0.,  0.,  0., 0., 0., 0. ],\n",
    "              [0.,  0.,  2.,  0.,  0.,  0.,  0.,  0.,  0.,  0.,  0.,  0.,  1.,  0.,  0., 1., 2., 1. ],\n",
    "              [1.,  0.,  0.,  0.,  0.,  1.,  0.5, 1.,  0.5, 0.5, 1.,  1.,  1.,  0.,  0., 3., 2., 3. ],\n",
    "              [0.,  0.,  0.,  0.,  0.,  0.,  0.,  0.,  0.,  0.,  0.,  0.,  0.,  2.,  0., 0., 0., 0. ],\n",
    "              [0.,  0.,  0.,  0.,  0.,  0.,  0.,  0.,  0.,  0.,  0.,  0.,  1.,  0.,  0., 0., 0., 1. ],\n",
    "              [0.,  0.,  0.,  0.,  0.,  0.,  0.,  0.,  0.,  0.,  1.,  0.,  0.,  3.,  0., 0., 1., 0. ],\n",
    "              [0.,  1.,  0.,  0.,  0.,  0.,  0.,  0.,  0.,  0.,  0.,  0.,  0.,  0.,  0., 0., 0., 0. ],\n",
    "              [0.,  0.,  0.,  0.,  2.,  0.,  0.,  0.,  0.,  0.,  0.,  0.,  0.,  0.,  0., 0., 0., 0. ],\n",
    "              [0.,  0.,  0.,  0.,  0.,  0.,  1.,  0.,  0.,  0.,  0.,  0.,  0.,  0.,  0., 0., 0., 0. ],\n",
    "              [0.,  0.,  0.,  2.,  0.,  2.,  0.,  0.,  0.,  0.,  0.,  0.,  0.,  0.,  0., 0., 0., 0. ],\n",
    "              [0.,  0.,  0.,  0.,  0.,  0.,  0.,  0.,  0.,  1.,  0.,  0.,  0.,  0.,  0., 0., 0., 0. ],\n",
    "              [0.,  0.,  0.,  0.,  0.,  0.,  0.,  0.,  1.,  0.,  0.,  0.,  0.,  0.,  0., 0., 0., 0. ]])"
   ]
  },
  {
   "cell_type": "markdown",
   "metadata": {},
   "source": [
    "We are going to convert the A_f matrix from an element basis to the basis of the omnicomponent phase (liquid).  \n",
    "First, invert the A matrix (columns = liquid components, rows = elements) ..."
   ]
  },
  {
   "cell_type": "code",
   "execution_count": null,
   "metadata": {},
   "outputs": [],
   "source": [
    "Ainv = np.linalg.inv(A)"
   ]
  },
  {
   "cell_type": "markdown",
   "metadata": {},
   "source": [
    "Second, project the A_f matrix by multiplying it by this inverse.  \n",
    "This process yields Acomp, a bulk composition constraint matrix with columns = liquid components, rows = liquid components  \n",
    "Note, that this process partitions the constraint matrix into an identity matrix and a reaction matrix whose columns describe the stoichiomtry of reactions between feldspar components and liquid components. "
   ]
  },
  {
   "cell_type": "code",
   "execution_count": null,
   "metadata": {},
   "outputs": [],
   "source": [
    "Acomp = np.matmul(Ainv, A_f)\n",
    "Acomp"
   ]
  },
  {
   "cell_type": "markdown",
   "metadata": {},
   "source": [
    "Row of constraints to be added to a reduced A_f matrix for the chemical potential of alumina:  \n",
    "\n",
    "Constraints:  \n",
    "$\\Phi \\left( {{\\bf{n}},T,P} \\right) = {{\\bf{r}}^T}\\frac{{\\partial G\\left( {{\\bf{n}},T,P} \\right)}}{{\\partial {\\bf{n}}}}$  \n",
    "\n",
    "Constraint derivatives:   \n",
    "$\\frac{{\\partial \\Phi \\left( {{\\bf{n}},T,P} \\right)}}{{\\partial {\\bf{n}}}} = \\frac{{{\\partial ^2}G\\left( {{\\bf{n}},T,P} \\right)}}{{\\partial {{\\bf{n}}^2}}}{\\bf{r}}$  \n",
    "\n",
    "\n",
    "Balanced reaction involving silicate liquid + feldspar constraining the chemical potential of alumina"
   ]
  },
  {
   "cell_type": "code",
   "execution_count": null,
   "metadata": {},
   "outputs": [],
   "source": [
    "if lagrange_use_omni:\n",
    "    Areact = np.hstack((Acomp[:,:15],np.zeros((15,3))))\n",
    "else:\n",
    "    Areact = Acomp\n",
    "react, res, rank, s = np.linalg.lstsq(Areact, np.matmul(Ainv,CTf_c.T), rcond=None)\n",
    "reaction = react.T\n",
    "reaction"
   ]
  },
  {
   "cell_type": "markdown",
   "metadata": {},
   "source": [
    "Computed chemical potential of the constraining reaction:"
   ]
  },
  {
   "cell_type": "code",
   "execution_count": null,
   "metadata": {},
   "outputs": [],
   "source": [
    "mu_est = np.matmul(reaction[0], np.hstack((dgLiq,dgFld)))\n",
    "mu_est - Corundum.gibbs_energy(t,p)"
   ]
  },
  {
   "cell_type": "code",
   "execution_count": null,
   "metadata": {},
   "outputs": [],
   "source": [
    "Con = np.matmul(reaction, sci.linalg.block_diag(*[d2gLiq,d2gFld]))\n",
    "Con"
   ]
  },
  {
   "cell_type": "markdown",
   "metadata": {},
   "source": [
    "Next, project the constraint matrix (columns = elements, rows = imposed chemical potential constraints) by multiplying by Ainv, and then construct the null space of this projection.  \n",
    "The null space shows which liquid component and feldspar component mole numbers are constrained."
   ]
  },
  {
   "cell_type": "code",
   "execution_count": null,
   "metadata": {},
   "outputs": [],
   "source": [
    "ns = sci.linalg.null_space(np.matmul(Ainv,CTf.T).T)\n",
    "vfiltr(ns)"
   ]
  },
  {
   "cell_type": "markdown",
   "metadata": {},
   "source": [
    "Finally, form the final constraint matrix by  \n",
    "- First, projecting the Acomp matrix into the null space of the imposed chemical potential constraints, and\n",
    "- Second, stacking that projection on top of the chemical potential derivative coinstraint vector, Con"
   ]
  },
  {
   "cell_type": "code",
   "execution_count": null,
   "metadata": {},
   "outputs": [],
   "source": [
    "A = np.vstack((vfiltr(np.matmul(ns.T,Acomp)), Con))\n",
    "A"
   ]
  },
  {
   "cell_type": "markdown",
   "metadata": {},
   "source": [
    "Decompose the A matrix into an orthogonal projection operator for the gradient and hessian"
   ]
  },
  {
   "cell_type": "code",
   "execution_count": null,
   "metadata": {},
   "outputs": [],
   "source": [
    "row,col = A.shape\n",
    "df = col - row\n",
    "R, Q = sci.linalg.rq(A, mode='full')\n",
    "R11 = vfiltr(R[:,df:])\n",
    "Q1 = vfiltr(Q[df:,:])\n",
    "Q2 = vfiltr(Q[0:df,:])\n",
    "Q2"
   ]
  },
  {
   "cell_type": "markdown",
   "metadata": {},
   "source": [
    "The Korzhinskii potential:  \n",
    "$L = G\\left( {{\\bf{n}},T,P} \\right) - \\left( {{{\\bf{r}}^T}{\\bf{n}}} \\right)\\Phi \\left( {{\\bf{n}},T,P} \\right)$  \n",
    "\n",
    "has the first derivative with respect to composition (n contains liquid + feldspar component mole numbers):  \n",
    "$\\frac{{\\partial L}}{{\\partial {\\bf{n}}}} = \\frac{{\\partial G\\left( {{\\bf{n}},T,P} \\right)}}{{\\partial {\\bf{n}}}} - \\left( {{{\\bf{r}}^T}\\frac{{\\partial {\\bf{n}}}}{{\\partial {\\bf{n}}}} + {\\bf{n}}\\frac{{\\partial {{\\bf{r}}^T}}}{{\\partial {\\bf{n}}}}} \\right)\\Phi \\left( {{\\bf{n}},T,P} \\right) - \\left( {{{\\bf{r}}^T}{\\bf{n}}} \\right)\\frac{{\\partial \\Phi \\left( {{\\bf{n}},T,P} \\right)}}{{\\partial {\\bf{n}}}}$  \n",
    "\n",
    "and from the identities:\n",
    "$\\frac{{\\partial {\\bf{n}}}}{{\\partial {\\bf{n}}}} = {\\bf{I}}$ and $\\frac{{\\partial {{\\bf{r}}^T}}}{{\\partial {\\bf{n}}}} = {\\bf{0}}$, ${{\\bf{r}}^T}{\\bf{I}} = {\\bf{r}}$  \n",
    "\n",
    "The expression for the gradient is:  \n",
    "$\\frac{{\\partial L}}{{\\partial {\\bf{n}}}} = \\frac{{\\partial G\\left( {{\\bf{n}},T,P} \\right)}}{{\\partial {\\bf{n}}}} - {\\bf{r}}\\Phi \\left( {{\\bf{n}},T,P} \\right) - \\left( {{{\\bf{r}}^T}{\\bf{n}}} \\right)\\frac{{\\partial \\Phi \\left( {{\\bf{n}},T,P} \\right)}}{{\\partial {\\bf{n}}}}$  \n",
    "\n",
    "There are three terms:\n",
    "- the Gibbs energy gradient\n",
    "- the chemical potential part (second term rhs above, _add_1 below)\n",
    "- the chemical potential derivative part (third term rhs above, _add_2 below)"
   ]
  },
  {
   "cell_type": "code",
   "execution_count": null,
   "metadata": {},
   "outputs": [],
   "source": [
    "g = np.hstack((dgLiq,dgFld))\n",
    "g = np.reshape(g,(g.size,1))\n",
    "if lagrange_no_mol_deriv:\n",
    "    g_add_1 = -Corundum.gibbs_energy(t,p)*reaction\n",
    "else:\n",
    "    g_add_1 = -np.matmul(reaction,g)[0][0]*reaction\n",
    "g_add_1 = np.reshape(g_add_1,(g_add_1.size,1))\n",
    "moles = np.matmul(reaction, nref)[0]\n",
    "if lagrange_no_mol_deriv:\n",
    "    g_add_2 = np.zeros(g.shape)\n",
    "else:\n",
    "    g_add_2 = -moles*np.matmul(reaction, sci.linalg.block_diag(*[d2gLiq,d2gFld]))\n",
    "    g_add_2 = np.reshape(g_add_2,(g_add_2.size,1))"
   ]
  },
  {
   "cell_type": "markdown",
   "metadata": {},
   "source": [
    "The hessian of the Korzhinskii potential is:  \n",
    "$\\frac{{{\\partial ^2}L}}{{\\partial {{\\bf{n}}^2}}} = \\frac{{{\\partial ^2}G\\left( {{\\bf{n}},T,P} \\right)}}{{\\partial {{\\bf{n}}^2}}} - \\frac{{\\partial \\Phi \\left( {{\\bf{n}},T,P} \\right)}}{{\\partial {\\bf{n}}}}{{\\bf{r}}^T} - {\\bf{r}}\\frac{{\\partial \\Phi \\left( {{\\bf{n}},T,P} \\right)}}{{\\partial {\\bf{n}}}} - \\left( {{{\\bf{r}}^T}{\\bf{n}}} \\right)\\frac{{{\\partial ^2}\\Phi \\left( {{\\bf{n}},T,P} \\right)}}{{\\partial {{\\bf{n}}^2}}}$  \n",
    "\n",
    "There are four terms:\n",
    "- the hessian of the Gibbs free energy\n",
    "- a chemical potential derivative term (second term rhs above, _add_1 below)\n",
    "- another chemical potential derivative term (third term rhs above, _add_2 below)\n",
    "- the second chemical potential derivative term (fourth term rhs above, _add_3 below)"
   ]
  },
  {
   "cell_type": "code",
   "execution_count": null,
   "metadata": {},
   "outputs": [],
   "source": [
    "H = sci.linalg.block_diag(*[d2gLiq,d2gFld])\n",
    "if lagrange_no_mol_deriv:\n",
    "    H_add_1 = np.zeros(H.shape)\n",
    "    H_add_2 = np.zeros(H.shape)\n",
    "else:\n",
    "    H_add_1 = -np.outer(reaction,np.matmul(reaction, sci.linalg.block_diag(*[d2gLiq,d2gFld])))\n",
    "    H_add_2 = -np.outer(np.matmul(reaction, sci.linalg.block_diag(*[d2gLiq,d2gFld])),reaction.T)\n",
    "H_add_3_L = np.zeros(d2gLiq.shape)\n",
    "H_add_3_F = np.zeros(d2gFld.shape)\n",
    "def d3gP (index, d3g):\n",
    "    nc = d3g.shape[0]\n",
    "    result = np.zeros((nc,nc))\n",
    "    for i in range(0,nc):\n",
    "        for j in range(i,nc):\n",
    "            for k in range(j,nc):\n",
    "                if i == index:\n",
    "                    result[j][k] = d3g[i][j][k]\n",
    "                    result[k][j] = d3g[i][j][k]\n",
    "                elif j == index:\n",
    "                    result[i][k] = d3g[i][j][k]\n",
    "                    result[k][i] = d3g[i][j][k]\n",
    "                elif k == index:\n",
    "                    result[i][j] = d3g[i][j][k]\n",
    "                    result[j][i] = d3g[i][j][k]\n",
    "    return result\n",
    "for index,coeff in enumerate(reaction[0]):\n",
    "    if index < 15:\n",
    "        H_add_3_L += coeff*d3gP(index, d3gLiq)\n",
    "    else:\n",
    "        H_add_3_F += coeff*d3gP(index-15, d3gFld)\n",
    "if lagrange_no_mol_deriv:\n",
    "    H_add_3 = np.zeros(H.shape)\n",
    "else:\n",
    "    H_add_3 = -moles*sci.linalg.block_diag(*[H_add_3_L,H_add_3_F])"
   ]
  },
  {
   "cell_type": "markdown",
   "metadata": {},
   "source": [
    "Lagrange multipliers constructed from the gradient and equility constraint matrix"
   ]
  },
  {
   "cell_type": "code",
   "execution_count": null,
   "metadata": {},
   "outputs": [],
   "source": [
    "lagrange_m, res, rank, s = np.linalg.lstsq(A.T, g+g_add_1+g_add_2, rcond=None)\n",
    "lagrange_m"
   ]
  },
  {
   "cell_type": "markdown",
   "metadata": {},
   "source": [
    "Augmentation to the hessian matrix to transform it into the second derivative matrix of the Lagrangian.  \n",
    "\n",
    "The Lagrangian:  \n",
    "$\\Lambda  = L - \\lambda \\left( {\\Phi \\left( {{\\bf{n}},T,P} \\right) - {\\Phi ^{fix}}\\left( {T,P} \\right)} \\right)$  \n",
    "$\\frac{{{\\partial ^2}\\Lambda }}{{\\partial {{\\bf{n}}^2}}} =  - \\lambda \\frac{{{\\partial ^2}\\Phi \\left( {{\\bf{n}},T,P} \\right)}}{{\\partial {{\\bf{n}}^2}}}$  \n",
    "\n",
    "Constraint derivatives:  \n",
    "$\\Phi \\left( {{\\bf{n}},T,P} \\right) = {{\\bf{r}}^T}\\frac{{\\partial G\\left( {{\\bf{n}},T,P} \\right)}}{{\\partial {\\bf{n}}}}$  \n",
    "$\\frac{{\\partial \\Phi \\left( {{\\bf{n}},T,P} \\right)}}{{\\partial {\\bf{n}}}} = \\frac{{{\\partial ^2}G\\left( {{\\bf{n}},T,P} \\right)}}{{\\partial {{\\bf{n}}^2}}}{\\bf{r}}$"
   ]
  },
  {
   "cell_type": "code",
   "execution_count": null,
   "metadata": {},
   "outputs": [],
   "source": [
    "lagrange_m[-1][0]\n",
    "H_add_c = -lagrange_m[-1][0]*sci.linalg.block_diag(*[H_add_3_L,H_add_3_F])"
   ]
  },
  {
   "cell_type": "code",
   "execution_count": null,
   "metadata": {},
   "outputs": [],
   "source": [
    "np.set_printoptions(linewidth=200, precision=8)"
   ]
  },
  {
   "cell_type": "markdown",
   "metadata": {},
   "source": [
    "Project the gradient of the Korzhinskii function into the constraint null space "
   ]
  },
  {
   "cell_type": "code",
   "execution_count": null,
   "metadata": {},
   "outputs": [],
   "source": [
    "g_p = np.matmul(Q2, g+g_add_1+g_add_2)\n",
    "g_p, g_p.shape"
   ]
  },
  {
   "cell_type": "markdown",
   "metadata": {},
   "source": [
    "Project the hessian of the Lagrangian function into the constraint null space"
   ]
  },
  {
   "cell_type": "code",
   "execution_count": null,
   "metadata": {},
   "outputs": [],
   "source": [
    "H_p = np.matmul(np.matmul(Q2, H+H_add_1+H_add_2+H_add_3+H_add_c), Q2.T)\n",
    "H_p, H_p.shape"
   ]
  },
  {
   "cell_type": "markdown",
   "metadata": {},
   "source": [
    "Solve the \"quadratic search\" sub-problem"
   ]
  },
  {
   "cell_type": "code",
   "execution_count": null,
   "metadata": {},
   "outputs": [],
   "source": [
    "result, residuals, rank, S = np.linalg.lstsq(H_p, -g_p, rcond=None)\n",
    "result, residuals, rank, S"
   ]
  },
  {
   "cell_type": "markdown",
   "metadata": {},
   "source": [
    "Reconstruct the \"quadratic search\" direction vector"
   ]
  },
  {
   "cell_type": "code",
   "execution_count": null,
   "metadata": {},
   "outputs": [],
   "source": [
    "n2 = np.matmul(Q2.T, result)\n",
    "n2"
   ]
  },
  {
   "cell_type": "markdown",
   "metadata": {},
   "source": [
    "For a unit step along the computed \"quadratic search\" direction, how do the mole numbers of phase components change?  \n",
    "\n",
    "All mole numbers should be positive for a steplength of ~1, as we are adding feldspar to a liquid assemblage that is known to be saturated in feldspar."
   ]
  },
  {
   "cell_type": "code",
   "execution_count": null,
   "metadata": {},
   "outputs": [],
   "source": [
    "step = 1.0\n",
    "loop = True\n",
    "while loop:\n",
    "    x = nref + n2[:,0]*step\n",
    "    found = False\n",
    "    for entry in [x < 0][0]:\n",
    "        if entry:\n",
    "            step /= 2.0\n",
    "            found = True\n",
    "    loop = found\n",
    "print (\"step length:\", step)\n",
    "for i in range(0,x.size):\n",
    "    print (\"{0:13.6e} {1:13.6e} {2:13.6e}\".format(nref[i], x[i], x[i]-nref[i]))"
   ]
  },
  {
   "cell_type": "code",
   "execution_count": null,
   "metadata": {},
   "outputs": [],
   "source": []
  }
 ],
 "metadata": {
  "anaconda-cloud": {},
  "kernelspec": {
   "display_name": "Python 3",
   "language": "python",
   "name": "python3"
  },
  "language_info": {
   "codemirror_mode": {
    "name": "ipython",
    "version": 3
   },
   "file_extension": ".py",
   "mimetype": "text/x-python",
   "name": "python",
   "nbconvert_exporter": "python",
   "pygments_lexer": "ipython3",
   "version": "3.7.3"
  }
 },
 "nbformat": 4,
 "nbformat_minor": 2
}
