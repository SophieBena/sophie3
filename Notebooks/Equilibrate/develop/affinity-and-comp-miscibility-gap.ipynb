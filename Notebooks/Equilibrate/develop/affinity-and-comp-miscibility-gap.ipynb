{
 "cells": [
  {
   "cell_type": "markdown",
   "metadata": {},
   "source": [
    "# Test Affinity and comp w/ Miscibility Gap on Feldspar Ternary\n",
    "- this algorithm is usually fast and accurate\n",
    "- but it can fail to converge, causing major problems\n"
   ]
  },
  {
   "cell_type": "code",
   "execution_count": null,
   "metadata": {
    "lines_to_next_cell": 0
   },
   "outputs": [],
   "source": [
    "import numpy as np\n",
    "from os import path\n",
    "import pandas as pd\n",
    "import scipy.optimize as opt\n",
    "from scipy import optimize\n",
    "import scipy.linalg as lin\n",
    "import scipy as sp\n",
    "import sys\n",
    "import sympy as sym\n",
    "\n",
    "from collections import OrderedDict as odict\n",
    "\n",
    "import matplotlib.pyplot as plt\n",
    "\n",
    "import sunkenhull as hull\n",
    "from thermoengine.model import GeoCompDB, SysComp\n",
    "\n",
    "from scipy.spatial import ConvexHull\n",
    "import scipy.interpolate as interp\n",
    "\n",
    "import ternary"
   ]
  },
  {
   "cell_type": "code",
   "execution_count": null,
   "metadata": {
    "lines_to_next_cell": 2
   },
   "outputs": [],
   "source": []
  },
  {
   "cell_type": "markdown",
   "metadata": {},
   "source": [
    "Required ENKI modules (ignore the error message from Rubicon running under Python 3.6+)"
   ]
  },
  {
   "cell_type": "code",
   "execution_count": null,
   "metadata": {},
   "outputs": [],
   "source": [
    "from thermoengine import coder, core, phases, model, equilibrate"
   ]
  },
  {
   "cell_type": "code",
   "execution_count": null,
   "metadata": {},
   "outputs": [],
   "source": [
    "modelDB = model.Database(database='Berman')"
   ]
  },
  {
   "cell_type": "code",
   "execution_count": null,
   "metadata": {},
   "outputs": [],
   "source": []
  },
  {
   "cell_type": "markdown",
   "metadata": {},
   "source": [
    "## Test miscibility gap for Feldspar"
   ]
  },
  {
   "cell_type": "code",
   "execution_count": null,
   "metadata": {},
   "outputs": [],
   "source": [
    "Fsp = modelDB.get_phase('Fsp')"
   ]
  },
  {
   "cell_type": "code",
   "execution_count": null,
   "metadata": {},
   "outputs": [],
   "source": []
  },
  {
   "cell_type": "markdown",
   "metadata": {},
   "source": [
    "## P/T conditions relevant to coexisting feldspars"
   ]
  },
  {
   "cell_type": "code",
   "execution_count": null,
   "metadata": {},
   "outputs": [],
   "source": [
    "T = 900+273\n",
    "P = 8e3"
   ]
  },
  {
   "cell_type": "code",
   "execution_count": null,
   "metadata": {},
   "outputs": [],
   "source": []
  },
  {
   "cell_type": "code",
   "execution_count": null,
   "metadata": {},
   "outputs": [],
   "source": []
  },
  {
   "cell_type": "code",
   "execution_count": null,
   "metadata": {},
   "outputs": [],
   "source": [
    "Fsp.endmember_names"
   ]
  },
  {
   "cell_type": "markdown",
   "metadata": {},
   "source": [
    "## Manually determine unmixing pair"
   ]
  },
  {
   "cell_type": "code",
   "execution_count": null,
   "metadata": {},
   "outputs": [],
   "source": []
  },
  {
   "cell_type": "code",
   "execution_count": null,
   "metadata": {},
   "outputs": [],
   "source": [
    "def eval_pseudo_binary(f_Ab_kspar, nmol_bulk, TOL=3e-3):\n",
    "    N = np.ceil(1/TOL).astype(int)\n",
    "    nmol_kspar = np.array([f_Ab_kspar*nmol_bulk[0], 0, nmol_bulk[2]])\n",
    "    nmol_plag  = np.array([(1-f_Ab_kspar)*nmol_bulk[0], nmol_bulk[1], 0])\n",
    "    \n",
    "    # print(nmol_kspar + nmol_plag - nmol_bulk)\n",
    "    Y_kspar_bulk = nmol_kspar.sum()/(nmol_kspar.sum()+nmol_plag.sum())\n",
    "    \n",
    "    # Normalize pseudo-binary endmembers, critical step!!\n",
    "    nmol_kspar /= nmol_kspar.sum()\n",
    "    nmol_plag /= nmol_plag.sum()\n",
    "    \n",
    "    \n",
    "    Y_kspar = np.linspace(0,1,N)\n",
    "    nmol_binary = Y_kspar[:,np.newaxis]*nmol_kspar+(1-Y_kspar[:,np.newaxis])*nmol_plag\n",
    "    G_binary = Fsp.gibbs_energy(np.full(N,T), np.full(N,P), mol=nmol_binary)\n",
    "    G_endmems = G_binary[[0,-1]]\n",
    "    G_ideal = G_endmems[0]*(1-Y_kspar) + G_endmems[1]*Y_kspar\n",
    "    \n",
    "    G_xs = G_binary-G_ideal\n",
    "    \n",
    "    \n",
    "    return Y_kspar, G_xs, Y_kspar_bulk, nmol_binary, G_endmems\n",
    "\n",
    "def get_binary_hull(Y_kspar, G_xs, fac_max=1e2):\n",
    "    G_range = np.max(G_xs)-np.min(G_xs)\n",
    "    G_max = G_range*1e2\n",
    "    \n",
    "    pts0 = np.vstack((Y_kspar, G_xs)).T\n",
    "    pts = np.vstack((pts0, [0.5,G_max]))\n",
    "    hull = ConvexHull(pts)\n",
    "    ind_hull = hull.vertices\n",
    "    ind_hull = np.sort(ind_hull)[:-1]\n",
    "    \n",
    "    fun_hull_xs = interp.interp1d(Y_kspar[ind_hull], G_xs[ind_hull], kind='linear')\n",
    "    \n",
    "    return fun_hull_xs, ind_hull\n",
    "\n",
    "def eval_gibbs_misc_gap(logitf_Ab_kspar, nmol_bulk, TOL=3e-3):\n",
    "    f_Ab_kspar = 1/(1+np.exp(-logitf_Ab_kspar))\n",
    "    Y_kspar, G_xs, Y_kspar_bulk, nmol_binary, G_endmems = eval_pseudo_binary(\n",
    "        f_Ab_kspar, nmol_bulk, TOL=TOL)\n",
    "    try:\n",
    "        fun_hull_xs, ind_hull = get_binary_hull(Y_kspar, G_xs)\n",
    "        Y_gap_edges, G_gap_edges = refine_misc_gap_edges(Y_kspar, G_xs, ind_hull)\n",
    "\n",
    "        endmem_num = Fsp.endmember_num\n",
    "        mu_phs_endmem = Fsp.gibbs_energy(np.full(endmem_num,T), np.full(endmem_num,P), \n",
    "                                         mol=np.eye(endmem_num))\n",
    "        #print(np.dot(mu_phs_endmem,nmol_binary[0]))\n",
    "        #print(G_endmems[0])\n",
    "        Gex_endmem0 = G_endmems[0]-np.dot(mu_phs_endmem,nmol_binary[0])\n",
    "        Gex_endmem1 = G_endmems[1]-np.dot(mu_phs_endmem,nmol_binary[-1])\n",
    "        \n",
    "        #fun_binary = (lambda Y, G_endmems=G_endmems, fun_hull_xs=fun_hull_xs: \n",
    "        #              fun_hull_xs(Y) + Gex_endmem0*(1-Y) + Gex_endmem1*Y)\n",
    "    \n",
    "        #G_bulk = fun_binary(f_Ab_kspar)\n",
    "        \n",
    "        \n",
    "        gap_frac = (Y_kspar_bulk-Y_gap_edges[0])/np.diff(Y_gap_edges)\n",
    "\n",
    "        G_bulk_xs = np.dot(G_gap_edges, np.hstack((1-gap_frac, gap_frac))) \n",
    "        G_bulk = G_bulk_xs + Y_kspar_bulk*Gex_endmem1 + (1-Y_kspar_bulk)*Gex_endmem0\n",
    "        \n",
    "    except:\n",
    "        G_bulk = np.inf\n",
    "    return G_bulk"
   ]
  },
  {
   "cell_type": "code",
   "execution_count": null,
   "metadata": {},
   "outputs": [],
   "source": [
    "def refine_misc_gap_edges(Y_kspar, G_xs, ind_hull, YTOL=1e-7, resfac=3, keyboard=False):\n",
    "    if keyboard:\n",
    "        from IPython import embed; embed()\n",
    "\n",
    "    dYres = Y_kspar[1]-Y_kspar[0]\n",
    "\n",
    "    f_xs = interp.interp1d(Y_kspar, G_xs, kind='cubic')\n",
    "    ind_hull_gap = np.where(np.diff(ind_hull)>1)[0][0]\n",
    "    ind_gap_edges = ind_hull[[ind_hull_gap, ind_hull_gap+1]]\n",
    "    # nmol_gap_edges = nmol_binary[ind_gap_edges]\n",
    "    G_gap_edges = G_xs[ind_gap_edges]\n",
    "    Y_gap_edges = Y_kspar[ind_gap_edges]\n",
    "\n",
    "\n",
    "    while True:\n",
    "        dGdY = np.diff(G_gap_edges)/np.diff(Y_gap_edges)\n",
    "        mu_bin1 = G_gap_edges[0] - dGdY*Y_gap_edges[0]\n",
    "        mu_bin2 = G_gap_edges[1] + dGdY*(1-Y_gap_edges[1])\n",
    "\n",
    "        df_xs = lambda Y, mu_bin1=mu_bin1, mu_bin2=mu_bin2: (\n",
    "            f_xs(Y)-(Y*mu_bin2+(1-Y)*mu_bin1) )\n",
    "\n",
    "        bnds1 = Y_gap_edges[0]+resfac*dYres*np.array([-1,+1])\n",
    "        bnds2 = Y_gap_edges[1]+resfac*dYres*np.array([-1,+1])\n",
    "\n",
    "        output1 = optimize.minimize_scalar(df_xs,  method='bounded',bounds=bnds1)\n",
    "        output2 = optimize.minimize_scalar(df_xs,  method='bounded',bounds=bnds2)\n",
    "\n",
    "\n",
    "        dG_gap_edges = np.array([output1['fun'], output2['fun']]).squeeze()\n",
    "        G_gap_edges += dG_gap_edges\n",
    "        Y_gap_edges_new = np.array([output1['x'], output2['x']]).squeeze()\n",
    "        dY_gap_edges = Y_gap_edges_new-Y_gap_edges\n",
    "        Y_gap_edges = Y_gap_edges_new\n",
    "\n",
    "        #print(dG_gap_edges)\n",
    "        #print(dY_gap_edges)\n",
    "        if np.all(  np.abs(dY_gap_edges)<YTOL):\n",
    "            break\n",
    "\n",
    "    return Y_gap_edges, G_gap_edges"
   ]
  },
  {
   "cell_type": "code",
   "execution_count": null,
   "metadata": {},
   "outputs": [],
   "source": [
    "# itieline = get_misc_gap_edges(f_Ab_kspar_min, nmol_bulk, TOL=TOL,keyboard=True)"
   ]
  },
  {
   "cell_type": "code",
   "execution_count": null,
   "metadata": {},
   "outputs": [],
   "source": []
  },
  {
   "cell_type": "code",
   "execution_count": null,
   "metadata": {},
   "outputs": [],
   "source": []
  },
  {
   "cell_type": "code",
   "execution_count": null,
   "metadata": {},
   "outputs": [],
   "source": [
    "\n",
    "nmol_bulk = np.array([.33,.33,.33])\n",
    "\n",
    "f_Ab_kspar0 = 0.9"
   ]
  },
  {
   "cell_type": "code",
   "execution_count": null,
   "metadata": {},
   "outputs": [],
   "source": [
    "\n",
    "Y_kspar, G_xs, Y_kspar_bulk, nmol_binary, G_endmems = eval_pseudo_binary(\n",
    "    f_Ab_kspar0, nmol_bulk, TOL=3e-3)\n",
    "\n",
    "\n",
    "fun_hull_xs, ind_hull = get_binary_hull(Y_kspar, G_xs)\n",
    "Y_gap_edges, G_gap_edges = refine_misc_gap_edges(Y_kspar, G_xs, ind_hull)\n",
    "\n",
    "\n",
    "endmem_num = Fsp.endmember_num\n",
    "mu_phs_endmem = Fsp.gibbs_energy(np.full(endmem_num,T), np.full(endmem_num,P), \n",
    "                                         mol=np.eye(endmem_num))\n",
    "#print(np.dot(mu_phs_endmem,nmol_binary[0]))\n",
    "#print(G_endmems[0])\n",
    "Gex_endmem0 = G_endmems[0]-np.dot(mu_phs_endmem,nmol_binary[0])\n",
    "Gex_endmem1 = G_endmems[1]-np.dot(mu_phs_endmem,nmol_binary[-1])\n",
    "\n",
    "# fun_binary = (lambda Y, G_endmems=G_endmems, fun_hull_xs=fun_hull_xs: \n",
    "#               fun_hull_xs(Y) + Gex_endmem0*(1-Y) + Gex_endmem1*Y)\n",
    "\n",
    "# G_bulk = fun_binary(f_Ab_kspar0)\n",
    "\n",
    "gap_frac = (Y_kspar_bulk-Y_gap_edges[0])/np.diff(Y_gap_edges)\n",
    "\n",
    "G_bulk_xs = np.dot(G_gap_edges, np.hstack((1-gap_frac, gap_frac))) \n",
    "G_bulk = G_bulk_xs + Y_kspar_bulk*Gex_endmem1 + (1-Y_kspar_bulk)*Gex_endmem0\n",
    "\n",
    "\n"
   ]
  },
  {
   "cell_type": "code",
   "execution_count": null,
   "metadata": {},
   "outputs": [],
   "source": [
    "G_bulk"
   ]
  },
  {
   "cell_type": "code",
   "execution_count": null,
   "metadata": {},
   "outputs": [],
   "source": []
  },
  {
   "cell_type": "code",
   "execution_count": null,
   "metadata": {},
   "outputs": [],
   "source": []
  },
  {
   "cell_type": "code",
   "execution_count": null,
   "metadata": {},
   "outputs": [],
   "source": [
    "plt.figure()\n",
    "#plt.plot(Y_kspar, G_binary,'ko-')\n",
    "#plt.plot(Y_kspar, G_ideal, 'r--')\n",
    "plt.plot(Y_kspar, G_xs, 'k+-')\n",
    "plt.plot(Y_kspar,fun_hull_xs(Y_kspar), 'r--')\n",
    "plt.plot(Y_kspar_bulk,fun_hull_xs(Y_kspar_bulk), 'rx')\n",
    "#plt.plot([0,1],[mu_bin1,mu_bin2],'b:')"
   ]
  },
  {
   "cell_type": "code",
   "execution_count": null,
   "metadata": {},
   "outputs": [],
   "source": []
  },
  {
   "cell_type": "code",
   "execution_count": null,
   "metadata": {},
   "outputs": [],
   "source": [
    "#nmol_bulk = np.array([.33,.33,.33])\n",
    "nmol_bulk = np.array([.6,.1,.3])\n",
    "nmol_bulk = np.array([.6,.35,.05])\n",
    "nmol_bulk = np.array([.4,.3,.3])\n",
    "#nmol_bulk = np.array([.4,.1,.5])\n",
    "# nmol_bulk = np.array([.4,.05,.55])\n",
    "\n",
    "logitf_Ab_kspar_grid = np.linspace(-5,+5,101)\n",
    "G_bulk_ties = np.array([eval_gibbs_misc_gap(logitf, nmol_bulk) \n",
    "                        for logitf in logitf_Ab_kspar_grid])\n",
    "\n",
    "plt.figure()\n",
    "plt.plot(logitf_Ab_kspar_grid, G_bulk_ties,'-')"
   ]
  },
  {
   "cell_type": "code",
   "execution_count": null,
   "metadata": {},
   "outputs": [],
   "source": []
  },
  {
   "cell_type": "code",
   "execution_count": null,
   "metadata": {},
   "outputs": [],
   "source": []
  },
  {
   "cell_type": "code",
   "execution_count": null,
   "metadata": {},
   "outputs": [],
   "source": [
    "#output = optimize.minimize_scalar(eval_gibbs_misc_gap, bounds=[0.0,1.0], \n",
    "#                                  method='bounded', args=(nmol_bulk))\n",
    "\n",
    "output = optimize.minimize_scalar(eval_gibbs_misc_gap, \n",
    "                                  method='brent', args=(nmol_bulk))\n",
    "output\n",
    "logitf_Ab_kspar_min = output['x']\n",
    "f_Ab_kspar_min = 1/(1+np.exp(-logitf_Ab_kspar_min))\n",
    "print(f_Ab_kspar_min)\n",
    "print(logitf_Ab_kspar_min)"
   ]
  },
  {
   "cell_type": "code",
   "execution_count": null,
   "metadata": {},
   "outputs": [],
   "source": []
  },
  {
   "cell_type": "code",
   "execution_count": null,
   "metadata": {},
   "outputs": [],
   "source": [
    "def get_misc_gap_edges(f_Ab_kspar, nmol_bulk, TOL=3e-3, keyboard=False):\n",
    "    Y_kspar, G_xs, Y_kspar_bulk, nmol_binary, G_endmems = eval_pseudo_binary(\n",
    "        f_Ab_kspar, nmol_bulk, TOL=TOL)\n",
    "    fun_hull_xs, ind_hull = get_binary_hull(Y_kspar, G_xs)\n",
    "    \n",
    "      \n",
    "    \n",
    "    try:\n",
    "        \n",
    "        Y_gap_edges, G_gap_edges = refine_misc_gap_edges(Y_kspar, G_xs, ind_hull, \n",
    "                                                         keyboard=keyboard)\n",
    "        \n",
    "        # print('Y_gap_edges = ', Y_gap_edges)\n",
    "        # ind_hull_gap = np.where(np.diff(ind_hull)>1)[0][0]\n",
    "        # ind_gap_edges = ind_hull[[ind_hull_gap, ind_hull_gap+1]]\n",
    "        # nmol_gap_edges = nmol_binary[ind_gap_edges]\n",
    "        nmol_gap_edges = np.vstack(\n",
    "            (Y_gap_edges[0]*nmol_binary[-1]+(1-Y_gap_edges[0])*nmol_binary[0],\n",
    "             Y_gap_edges[1]*nmol_binary[-1]+(1-Y_gap_edges[1])*nmol_binary[0]))\n",
    "    except:\n",
    "        nmol_gap_edges = np.tile(np.nan, (3,2))\n",
    "        \n",
    "    plot_edges = 100*nmol_gap_edges[:,::-1]\n",
    "    \n",
    "    tieline = {}\n",
    "    tieline['Y_kspar'] = Y_kspar\n",
    "    tieline['G_xs'] = G_xs\n",
    "    tieline['Y_kspar_bulk'] = Y_kspar_bulk\n",
    "    tieline['fun_hull_xs'] = fun_hull_xs\n",
    "    tieline['mol_edges'] = nmol_gap_edges\n",
    "    tieline['plot_edges'] = plot_edges\n",
    "    return tieline"
   ]
  },
  {
   "cell_type": "code",
   "execution_count": null,
   "metadata": {},
   "outputs": [],
   "source": []
  },
  {
   "cell_type": "markdown",
   "metadata": {},
   "source": [
    "## Validate that miscibility gap edges have same chem potential\n",
    "- test currently fails regardless of tol settings\n",
    "- hull alone is not enough to get convergence"
   ]
  },
  {
   "cell_type": "code",
   "execution_count": null,
   "metadata": {},
   "outputs": [],
   "source": [
    "nmol_bulk = np.array([.2,.4,.4])\n",
    "nmol_bulk = np.array([.4,.05,.55])\n",
    "nAb = .5\n",
    "kspar_split = .5\n",
    "\n",
    "nmol_bulk = np.array([nAb, (1-kspar_split)*(1-nAb),kspar_split*(1-nAb)])\n",
    "\n",
    "TOL=1e-3\n",
    "XTOL = 1e-10\n",
    "#xatol=1e-5\n",
    "#output = optimize.minimize_scalar(eval_gibbs_misc_gap, bounds=[1e-4,1.0-1e-4], \n",
    "#                                   method='bounded', args=(nmol_bulk, TOL),\n",
    "#                                   options={'xatol': xatol})\n",
    "\n",
    "output = optimize.minimize_scalar(eval_gibbs_misc_gap, \n",
    "                                  method='brent', args=(nmol_bulk, TOL), options={'xtol':XTOL})\n",
    "\n",
    "print(output)\n",
    "logitf_Ab_kspar_min = output['x']\n",
    "\n",
    "f_Ab_kspar_min = 1/(1+np.exp(-logitf_Ab_kspar_min))\n",
    "print(f_Ab_kspar_min)\n",
    "itieline = get_misc_gap_edges(f_Ab_kspar_min, nmol_bulk, TOL=TOL,keyboard=False)\n",
    "mol_edges = itieline['mol_edges']\n",
    "print(mol_edges)"
   ]
  },
  {
   "cell_type": "code",
   "execution_count": null,
   "metadata": {},
   "outputs": [],
   "source": [
    "mu_1 = Fsp.chem_potential(T, P, mol=mol_edges[0]).squeeze()\n",
    "mu_2 = Fsp.chem_potential(T, P, mol=mol_edges[1]).squeeze()\n",
    "mu_1-mu_2\n"
   ]
  },
  {
   "cell_type": "code",
   "execution_count": null,
   "metadata": {},
   "outputs": [],
   "source": []
  },
  {
   "cell_type": "code",
   "execution_count": null,
   "metadata": {},
   "outputs": [],
   "source": [
    "plt.figure()\n",
    "#plt.plot(Y_kspar, G_binary,'ko-')\n",
    "#plt.plot(Y_kspar, G_ideal, 'r--')\n",
    "plt.plot(itieline['Y_kspar'], itieline['G_xs'], 'k-')\n",
    "plt.plot(itieline['Y_kspar'],itieline['fun_hull_xs'](itieline['Y_kspar']), 'r--')\n",
    "plt.plot(itieline['Y_kspar_bulk'],itieline['fun_hull_xs'](itieline['Y_kspar_bulk']), 'rx')"
   ]
  },
  {
   "cell_type": "code",
   "execution_count": null,
   "metadata": {},
   "outputs": [],
   "source": [
    "# itieline"
   ]
  },
  {
   "cell_type": "code",
   "execution_count": null,
   "metadata": {},
   "outputs": [],
   "source": [
    "tieline_edge_kspar = []\n",
    "tieline_edge_plag = []\n",
    "X_plag = []\n",
    "X_kspar = []\n",
    "tieline_data = []\n",
    "dmu_edges = []\n",
    "muavg_edges = []\n",
    "\n",
    "TOL = 3e-3\n",
    "# xatol=1e-5\n",
    "\n",
    "nmol_Ab = np.linspace(1e-2,.99, 31)\n",
    "\n",
    "for inmol_Ab in nmol_Ab:\n",
    "    kspar_split = .8\n",
    "    ielse = (1-inmol_Ab)\n",
    "    inmol_bulk = np.array([inmol_Ab,ielse*(1-kspar_split),ielse*kspar_split])\n",
    "    print(inmol_bulk)\n",
    "\n",
    "\n",
    "    ioutput = optimize.minimize_scalar(eval_gibbs_misc_gap, \n",
    "                                      method='brent', args=(inmol_bulk, TOL))\n",
    "    #ioutput = optimize.minimize_scalar(eval_gibbs_misc_gap, bounds=[0.0,1.0], \n",
    "    #                                   method='bounded', args=(inmol_bulk, TOL),\n",
    "    #                                   options={'xatol': xatol})\n",
    "\n",
    "    logitf_Ab_kspar_min = ioutput['x']\n",
    "    f_Ab_kspar_min = 1/(1+np.exp(-logitf_Ab_kspar_min))\n",
    "    #print(f_Ab_kspar_min)\n",
    "    itieline = get_misc_gap_edges(f_Ab_kspar_min, inmol_bulk, TOL=TOL)\n",
    "    imu1 = Fsp.chem_potential(T, P, mol=itieline['mol_edges'][0]).squeeze()\n",
    "    imu2 = Fsp.chem_potential(T, P, mol=itieline['mol_edges'][1]).squeeze()\n",
    "    \n",
    "    dmu_edges.append(imu1-imu2)\n",
    "    muavg_edges.append(0.5*(imu1+imu2))\n",
    "    \n",
    "    tieline_data.append(itieline)\n",
    "\n",
    "    tieline_edge_plag.append(itieline['plot_edges'][0])\n",
    "    tieline_edge_kspar.append(itieline['plot_edges'][1])\n",
    "    X_plag.append(itieline['mol_edges'][0])\n",
    "    X_kspar.append(itieline['mol_edges'][1])\n",
    "    \n",
    "tieline_edge_plag = np.array(tieline_edge_plag)\n",
    "tieline_edge_kspar = np.array(tieline_edge_kspar)\n",
    "#X_plag = np.vstack(X_plag)\n",
    "#X_kspar = np.vstack(X_kspar)\n",
    "dmu_edges = np.array(dmu_edges)\n",
    "muavg_edges = np.array(muavg_edges)"
   ]
  },
  {
   "cell_type": "code",
   "execution_count": null,
   "metadata": {},
   "outputs": [],
   "source": [
    "X_plag[7]"
   ]
  },
  {
   "cell_type": "code",
   "execution_count": null,
   "metadata": {},
   "outputs": [],
   "source": [
    "scale = 100\n",
    "figure, tax = ternary.figure(scale=scale)\n",
    "figure.set_size_inches(10, 10)\n",
    "# Plot a few different styles with a legend\n",
    "# points = random_points(30, scale=scale)\n",
    "#tax.scatter(100*tieline['mol_edges'], marker='s', color='red', label=\"Red Squares\")\n",
    "\n",
    "for i in range(tieline_edge_plag.shape[0]):\n",
    "    tax.line(tieline_edge_plag[i],\n",
    "             tieline_edge_kspar[i], \n",
    "             linewidth=1., marker='o', color='blue', linestyle=\"--\",ms=3)\n",
    "    \n",
    "#points = random_points(30, scale=scale)\n",
    "#tax.scatter(points, marker='D', color='green', label=\"Green Diamonds\")\n",
    "tax.legend()\n",
    "tax.set_title(\"Feldspar Miscibility Gap\", fontsize=20)\n",
    "tax.boundary(linewidth=2.0)\n",
    "tax.gridlines(multiple=10, color=\"gray\")\n",
    "tax.ticks(axis='lbr', linewidth=1, multiple=10)\n",
    "tax.clear_matplotlib_ticks()\n",
    "tax.get_axes().axis('off')\n",
    "\n",
    "tax.show()"
   ]
  },
  {
   "cell_type": "code",
   "execution_count": null,
   "metadata": {},
   "outputs": [],
   "source": []
  },
  {
   "cell_type": "markdown",
   "metadata": {},
   "source": [
    "## Validate affinity_and_comp on tieline edges\n",
    "- show we can recover both ends of tieline\n",
    "- comp agree to within 1e-4 moles"
   ]
  },
  {
   "cell_type": "code",
   "execution_count": null,
   "metadata": {},
   "outputs": [],
   "source": [
    "ind=3\n",
    "imu = muavg_edges[ind]\n",
    "iX_plag = X_plag[ind]\n",
    "iX_kspar = X_kspar[ind]\n",
    "\n",
    "#iX_plag /= iX_plag.sum()\n",
    "#iX_kspar /= iX_kspar.sum()"
   ]
  },
  {
   "cell_type": "code",
   "execution_count": null,
   "metadata": {},
   "outputs": [],
   "source": [
    "Fsp.affinity_and_comp(T, P, imu)"
   ]
  },
  {
   "cell_type": "code",
   "execution_count": null,
   "metadata": {},
   "outputs": [],
   "source": [
    "A_kspar, nmol_kspar = Fsp.affinity_and_comp(T, P, imu, X_init=[0,0,1])\n",
    "A_plag, nmol_plag = Fsp.affinity_and_comp(T, P, imu, X_init=[0,1,0])"
   ]
  },
  {
   "cell_type": "code",
   "execution_count": null,
   "metadata": {},
   "outputs": [],
   "source": [
    "nmol_kspar-iX_kspar"
   ]
  },
  {
   "cell_type": "code",
   "execution_count": null,
   "metadata": {},
   "outputs": [],
   "source": [
    "nmol_plag-iX_plag"
   ]
  },
  {
   "cell_type": "code",
   "execution_count": null,
   "metadata": {},
   "outputs": [],
   "source": []
  }
 ],
 "metadata": {
  "jupytext": {
   "formats": "ipynb,py:light"
  },
  "kernelspec": {
   "display_name": "Python 3",
   "language": "python",
   "name": "python3"
  },
  "language_info": {
   "codemirror_mode": {
    "name": "ipython",
    "version": 3
   },
   "file_extension": ".py",
   "mimetype": "text/x-python",
   "name": "python",
   "nbconvert_exporter": "python",
   "pygments_lexer": "ipython3",
   "version": "3.7.6"
  }
 },
 "nbformat": 4,
 "nbformat_minor": 4
}
