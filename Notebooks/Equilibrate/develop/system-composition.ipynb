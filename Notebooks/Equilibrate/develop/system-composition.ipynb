{
 "cells": [
  {
   "cell_type": "markdown",
   "metadata": {},
   "source": [
    "# System Composition\n",
    "- define clean method of setting system composition\n",
    "- convert between units (e.g. g or mols)\n",
    "- convert between components (e.g. endmembers, elements, oxides, etc.)"
   ]
  },
  {
   "cell_type": "code",
   "execution_count": null,
   "metadata": {},
   "outputs": [],
   "source": [
    "import numpy as np\n",
    "import pandas as pd\n",
    "import scipy.linalg as lin\n",
    "\n",
    "from thermoengine.model import SysComp\n",
    "\n",
    "import matplotlib.pyplot as plt"
   ]
  },
  {
   "cell_type": "code",
   "execution_count": null,
   "metadata": {},
   "outputs": [],
   "source": [
    "from thermoengine import core, phases, model, equilibrate"
   ]
  },
  {
   "cell_type": "code",
   "execution_count": null,
   "metadata": {},
   "outputs": [],
   "source": []
  },
  {
   "cell_type": "markdown",
   "metadata": {},
   "source": [
    "# Set composition manually"
   ]
  },
  {
   "cell_type": "code",
   "execution_count": null,
   "metadata": {},
   "outputs": [],
   "source": [
    "\n",
    "oxide_comp = pd.DataFrame([{\n",
    "    'SiO2':  77.5, \n",
    "    'TiO2':   0.08, \n",
    "    'Al2O3': 12.5, \n",
    "    'Fe2O3':  0.207,\n",
    "    'Cr2O3':  0.0, \n",
    "    'FeO':    0.473, \n",
    "    'MnO':    0.0,\n",
    "    'MgO':    0.03, \n",
    "    'NiO':    0.0, \n",
    "    'CoO':    0.0,\n",
    "    'CaO':    0.43, \n",
    "    'Na2O':   3.98, \n",
    "    'K2O':    4.88, \n",
    "    'P2O5':   0.0, \n",
    "    'H2O':    5.5,\n",
    "}])\n",
    "# Major oxides: SiO2  Al2O3   FeO* MgO  CaO  Na2O  K2O  H2O\n",
    "oxide_comp     "
   ]
  },
  {
   "cell_type": "code",
   "execution_count": null,
   "metadata": {},
   "outputs": [],
   "source": [
    "syscomp = SysComp(oxide_comp, components='oxides', units='wt')\n"
   ]
  },
  {
   "cell_type": "code",
   "execution_count": null,
   "metadata": {},
   "outputs": [],
   "source": [
    "columns = syscomp.wt_comp().columns\n"
   ]
  },
  {
   "cell_type": "code",
   "execution_count": null,
   "metadata": {},
   "outputs": [],
   "source": [
    "syscomp.wt_comp()"
   ]
  },
  {
   "cell_type": "code",
   "execution_count": null,
   "metadata": {},
   "outputs": [],
   "source": [
    "syscomp.mol_comp()"
   ]
  },
  {
   "cell_type": "code",
   "execution_count": null,
   "metadata": {},
   "outputs": [],
   "source": [
    "elem_comp = syscomp.mol_comp(components='elems')\n",
    "elem_comp.values[0]\n",
    "elem_comp.columns"
   ]
  },
  {
   "cell_type": "code",
   "execution_count": null,
   "metadata": {},
   "outputs": [],
   "source": [
    "elem_comp"
   ]
  },
  {
   "cell_type": "markdown",
   "metadata": {},
   "source": [
    "## Equilibrate system with this composition"
   ]
  },
  {
   "cell_type": "code",
   "execution_count": null,
   "metadata": {},
   "outputs": [],
   "source": [
    "modelDB = model.Database(liq_mod='v1.0')"
   ]
  },
  {
   "cell_type": "code",
   "execution_count": null,
   "metadata": {},
   "outputs": [],
   "source": [
    "Liquid = modelDB.get_phase('Liq')\n",
    "Feldspar = modelDB.get_phase('Fsp')\n",
    "Quartz = modelDB.get_phase('Qz')\n",
    "Spinel = modelDB.get_phase('SplS')\n",
    "Opx = modelDB.get_phase('Opx')\n",
    "RhomOx = modelDB.get_phase('Rhom')"
   ]
  },
  {
   "cell_type": "markdown",
   "metadata": {},
   "source": [
    "The Berman model database provides the SWIM water model by default.  Instead, override that choice by instantiating the MELTS 1.0.2 water model directly."
   ]
  },
  {
   "cell_type": "code",
   "execution_count": null,
   "metadata": {},
   "outputs": [],
   "source": [
    "Water = phases.PurePhase('WaterMelts', 'H2O', calib=False)\n",
    "phs_sys = [Liquid, Feldspar, Water, Quartz, Spinel, Opx, RhomOx]"
   ]
  },
  {
   "cell_type": "code",
   "execution_count": null,
   "metadata": {},
   "outputs": [],
   "source": [
    "equil = equilibrate.Equilibrate(elem_comp.columns, phs_sys)"
   ]
  },
  {
   "cell_type": "code",
   "execution_count": null,
   "metadata": {},
   "outputs": [],
   "source": [
    "T = 1050.0\n",
    "P = 1750.0\n",
    "state = equil.execute(T, P, bulk_comp=elem_comp.values[0], debug=0, stats=True)\n",
    "state.print_state()"
   ]
  },
  {
   "cell_type": "markdown",
   "metadata": {},
   "source": [
    "Pickup runs use previously computed state"
   ]
  },
  {
   "cell_type": "code",
   "execution_count": null,
   "metadata": {},
   "outputs": [],
   "source": []
  },
  {
   "cell_type": "markdown",
   "metadata": {},
   "source": [
    "## Default composition selection for major oxides"
   ]
  },
  {
   "cell_type": "code",
   "execution_count": null,
   "metadata": {},
   "outputs": [],
   "source": [
    "comp = [77.5,12.5,.6,.03,.43,3.98,4.88,5.5]\n",
    "\n",
    "syscomp = SysComp(comp, components='major_oxides')"
   ]
  },
  {
   "cell_type": "code",
   "execution_count": null,
   "metadata": {},
   "outputs": [],
   "source": [
    "syscomp.elem_wts"
   ]
  },
  {
   "cell_type": "code",
   "execution_count": null,
   "metadata": {},
   "outputs": [],
   "source": [
    "syscomp.endmember_wts"
   ]
  },
  {
   "cell_type": "code",
   "execution_count": null,
   "metadata": {},
   "outputs": [],
   "source": []
  },
  {
   "cell_type": "code",
   "execution_count": null,
   "metadata": {},
   "outputs": [],
   "source": [
    "syscomp.wt_comp()"
   ]
  },
  {
   "cell_type": "code",
   "execution_count": null,
   "metadata": {},
   "outputs": [],
   "source": []
  },
  {
   "cell_type": "code",
   "execution_count": null,
   "metadata": {},
   "outputs": [],
   "source": [
    "syscomp.wt_comp(normalize=True)"
   ]
  },
  {
   "cell_type": "code",
   "execution_count": null,
   "metadata": {},
   "outputs": [],
   "source": [
    "syscomp.mol_comp(basis='formula', normalize=False)"
   ]
  },
  {
   "cell_type": "code",
   "execution_count": null,
   "metadata": {},
   "outputs": [],
   "source": [
    "syscomp.mol_comp(basis='atomic')"
   ]
  },
  {
   "cell_type": "code",
   "execution_count": null,
   "metadata": {},
   "outputs": [],
   "source": [
    "syscomp.wt_comp()"
   ]
  },
  {
   "cell_type": "code",
   "execution_count": null,
   "metadata": {},
   "outputs": [],
   "source": [
    "syscomp.wt_comp().dot(syscomp.endmember_stoic)"
   ]
  },
  {
   "cell_type": "code",
   "execution_count": null,
   "metadata": {},
   "outputs": [],
   "source": [
    "syscomp.endmember_stoic"
   ]
  },
  {
   "cell_type": "code",
   "execution_count": null,
   "metadata": {},
   "outputs": [],
   "source": [
    "syscomp.mol_comp(components='oxides')"
   ]
  },
  {
   "cell_type": "code",
   "execution_count": null,
   "metadata": {},
   "outputs": [],
   "source": [
    "elem_comp = syscomp.mol_comp(components='elems')\n",
    "elem_comp"
   ]
  },
  {
   "cell_type": "code",
   "execution_count": null,
   "metadata": {},
   "outputs": [],
   "source": [
    "elem_comp.columns"
   ]
  },
  {
   "cell_type": "code",
   "execution_count": null,
   "metadata": {},
   "outputs": [],
   "source": [
    "elem_comp.values[0]"
   ]
  },
  {
   "cell_type": "code",
   "execution_count": null,
   "metadata": {},
   "outputs": [],
   "source": []
  },
  {
   "cell_type": "markdown",
   "metadata": {},
   "source": [
    "## Set nonzero oxides"
   ]
  },
  {
   "cell_type": "code",
   "execution_count": null,
   "metadata": {},
   "outputs": [],
   "source": [
    "oxide_comp = pd.DataFrame([{\n",
    "    'SiO2':  77.5, \n",
    "    'MgO': 0.1,\n",
    "    'Al2O3': 12.5,\n",
    "    'Na2O':   3.98, \n",
    "    'K2O':    4.88,\n",
    "}])\n",
    "oxide_comp"
   ]
  },
  {
   "cell_type": "code",
   "execution_count": null,
   "metadata": {},
   "outputs": [],
   "source": [
    "syscomp = SysComp(oxide_comp, components='major_oxides')\n",
    "syscomp.wt_comp()"
   ]
  },
  {
   "cell_type": "code",
   "execution_count": null,
   "metadata": {},
   "outputs": [],
   "source": []
  },
  {
   "cell_type": "markdown",
   "metadata": {},
   "source": [
    "## Set custom oxides"
   ]
  },
  {
   "cell_type": "code",
   "execution_count": null,
   "metadata": {},
   "outputs": [],
   "source": [
    "oxide_comp = pd.DataFrame([{\n",
    "    'SiO2':  77.5, \n",
    "    'MgO': 0.1,\n",
    "    'Al2O3': 12.5,\n",
    "    'Na2O':   3.98, \n",
    "    'K2O':    4.88,\n",
    "}])\n",
    "oxide_comp"
   ]
  },
  {
   "cell_type": "code",
   "execution_count": null,
   "metadata": {},
   "outputs": [],
   "source": [
    "syscomp = SysComp(oxide_comp)\n",
    "syscomp.wt_comp()"
   ]
  },
  {
   "cell_type": "code",
   "execution_count": null,
   "metadata": {},
   "outputs": [],
   "source": []
  },
  {
   "cell_type": "code",
   "execution_count": null,
   "metadata": {},
   "outputs": [],
   "source": []
  },
  {
   "cell_type": "markdown",
   "metadata": {},
   "source": [
    "## Set custom non-oxide endmembers"
   ]
  },
  {
   "cell_type": "code",
   "execution_count": null,
   "metadata": {},
   "outputs": [],
   "source": [
    "endmem_comp = pd.DataFrame([{\n",
    "    'MgO': 0.1,\n",
    "    'Al2O3': 12.5,\n",
    "    'MgSiO3':  70.5, \n",
    "    'Na2O':   3.98, \n",
    "    'K2O':    4.88,\n",
    "}])\n",
    "endmem_comp"
   ]
  },
  {
   "cell_type": "code",
   "execution_count": null,
   "metadata": {},
   "outputs": [],
   "source": [
    "syscomp = SysComp(endmem_comp, stoic={'MgSiO3': {'Mg':1, 'Si':1, 'O':3}})\n",
    "syscomp.wt_comp()"
   ]
  },
  {
   "cell_type": "code",
   "execution_count": null,
   "metadata": {},
   "outputs": [],
   "source": []
  },
  {
   "cell_type": "code",
   "execution_count": null,
   "metadata": {},
   "outputs": [],
   "source": []
  },
  {
   "cell_type": "markdown",
   "metadata": {},
   "source": [
    "## Override volatiles"
   ]
  },
  {
   "cell_type": "code",
   "execution_count": null,
   "metadata": {},
   "outputs": [],
   "source": [
    "\n",
    "oxide_comp = pd.DataFrame([{\n",
    "    'SiO2':  77.5, \n",
    "    'TiO2':   0.08, \n",
    "    'Al2O3': 12.5, \n",
    "    'Fe2O3':  0.207,\n",
    "    'Cr2O3':  0.0, \n",
    "    'FeO':    0.473, \n",
    "    'MnO':    0.0,\n",
    "    'MgO':    0.03, \n",
    "    'NiO':    0.0, \n",
    "    'CoO':    0.0,\n",
    "    'CaO':    0.43, \n",
    "    'Na2O':   3.98, \n",
    "    'K2O':    4.88, \n",
    "    'P2O5':   0.0, \n",
    "    'H2O':    5.5,\n",
    "    'CO2':  0\n",
    "}])\n",
    "# Major oxides: SiO2  Al2O3   FeO* MgO  CaO  Na2O  K2O  H2O\n",
    "oxide_comp  "
   ]
  },
  {
   "cell_type": "code",
   "execution_count": null,
   "metadata": {},
   "outputs": [],
   "source": [
    "syscomp = SysComp(oxide_comp, H2O='none', CO2='none')\n",
    "syscomp.wt_comp()"
   ]
  },
  {
   "cell_type": "code",
   "execution_count": null,
   "metadata": {},
   "outputs": [],
   "source": []
  },
  {
   "cell_type": "code",
   "execution_count": null,
   "metadata": {},
   "outputs": [],
   "source": []
  }
 ],
 "metadata": {
  "kernelspec": {
   "display_name": "Python 3",
   "language": "python",
   "name": "python3"
  },
  "language_info": {
   "codemirror_mode": {
    "name": "ipython",
    "version": 3
   },
   "file_extension": ".py",
   "mimetype": "text/x-python",
   "name": "python",
   "nbconvert_exporter": "python",
   "pygments_lexer": "ipython3",
   "version": "3.7.6"
  }
 },
 "nbformat": 4,
 "nbformat_minor": 4
}
