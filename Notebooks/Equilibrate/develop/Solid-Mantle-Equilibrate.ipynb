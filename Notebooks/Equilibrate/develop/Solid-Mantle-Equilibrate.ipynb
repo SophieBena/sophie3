{
 "cells": [
  {
   "cell_type": "markdown",
   "metadata": {
    "pycharm": {
     "name": "#%% md\n"
    }
   },
   "source": [
    "# Equilibrium mantle assemblages\n",
    "## or how to find the stable system below the solidus\n",
    "* The standard MELTS algorithm relies on the presence of an omnicomponent phase (like melt, gas, or aqueous solution)\n",
    "* For sub-solidus conditions, only mineral phases are available for constructing the stable assemblage, and generally no single phase spans all allowable degrees of compositional variation.\n",
    "* This notebook introduces an approach to equilibration appropriate for conditions where an omnicomponent phase is not present."
   ]
  },
  {
   "cell_type": "markdown",
   "metadata": {
    "pycharm": {
     "name": "#%% md\n"
    }
   },
   "source": [
    "## Building the mantle\n",
    "* The modern mantle is a completely solidified chunk of rock, whose mineral phase assemblage varies with pressure, temperature, and composition.\n",
    "* Due to the overburden pressure of 1000s of km of rock, the mantle experiences huge extremes in pressure ranging over 3 orders of magnitude (from ~0.1 GPa to 136 GPa).\n",
    "* In comparison, temperature and compositional variations are rather modest, as the bulk mantle composition is at least partially homogenized by mantle convection (the exact degree is up to debate!) and temperature increases by a few 1000 K, less than a factor of 2, along the mantle adiabat (this isentropic profiles is also due to convection).\n",
    "* So assuming a representative mantle temperature and composition, pressure exerts first order control over the mantle phase assemblage, as it varies dramatically from the surface to the core."
   ]
  },
  {
   "cell_type": "markdown",
   "metadata": {
    "jupyter": {
     "outputs_hidden": false
    },
    "pycharm": {
     "name": "#%%\n"
    }
   },
   "source": [
    "## Performing a mantle equilibrium calculation\n",
    "* This notebook demonstrates the use of the Stixrude and Lithgow Bertolloni thermodynamic database, which is the best currently available for deep mantle phases (down to the core-mantle boundary).\n",
    "* It also demonstrates a simple interface for tracking systems over a range of conditions, including a simple representation of composition."
   ]
  },
  {
   "cell_type": "code",
   "execution_count": null,
   "metadata": {
    "pycharm": {
     "name": "#%%\n"
    },
    "tags": []
   },
   "outputs": [],
   "source": [
    "from __future__ import annotations # Enable Python 4 type hints in Python 3\n",
    "from thermoengine.equilibrate import PhaseLibrary, GibbsMinimizer, System\n",
    "import thermoengine as thermo\n",
    "from thermoengine.const import units\n",
    "from thermoengine.core import UnorderedList"
   ]
  },
  {
   "cell_type": "markdown",
   "metadata": {},
   "source": [
    "### retrieve stixrude database and add all phases to the potential phase library..."
   ]
  },
  {
   "cell_type": "code",
   "execution_count": null,
   "metadata": {
    "collapsed": false,
    "jupyter": {
     "outputs_hidden": false
    },
    "pycharm": {
     "name": "#%%\n"
    }
   },
   "outputs": [],
   "source": [
    "stixrudeDB = thermo.model.Database(database='Stixrude')\n",
    "all_stixrude_phases = stixrudeDB.get_all_phases()\n",
    "stixrude_phs_library = PhaseLibrary(all_stixrude_phases)"
   ]
  },
  {
   "cell_type": "markdown",
   "metadata": {},
   "source": [
    "### setup conditions of system\n",
    "* assume representative mantle temperature and composition\n",
    "    * Temperature ~ 1600 K\n",
    "    * Composition ~ simplified pyrolite in CMASFN system\n",
    "* currently uses molar oxide abundance, but will switch to oxide wt%"
   ]
  },
  {
   "cell_type": "code",
   "execution_count": null,
   "metadata": {
    "collapsed": false,
    "jupyter": {
     "outputs_hidden": false
    },
    "pycharm": {
     "name": "#%%\n"
    }
   },
   "outputs": [],
   "source": [
    "BSE_comp = thermo.OxideWtComp(SiO2=44.95, Al2O3=3.52, FeO=7.97,\n",
    "                              MgO=39.50, CaO=2.79, Na2O=0.298)\n",
    "\n",
    "system = System(T=1600, comp=BSE_comp,\n",
    "                options={'grid_spacing':1/10},\n",
    "                phase_library=stixrude_phs_library)\n"
   ]
  },
  {
   "cell_type": "markdown",
   "metadata": {},
   "source": [
    "### determine equilibrium assemblage for a series of pressures, sampling major layers in the mantle each with their own unique phase assemblage..."
   ]
  },
  {
   "cell_type": "code",
   "execution_count": null,
   "metadata": {
    "collapsed": false,
    "jupyter": {
     "outputs_hidden": false
    },
    "pycharm": {
     "name": "#%%\n"
    }
   },
   "outputs": [],
   "source": [
    "print('Mid Upper Mantle:')\n",
    "system.update(P=5 * units.GPA).stable_phase_names\n",
    "display(system.stable_phase_names)\n",
    "display(UnorderedList(['Ol', 'Opx', 'Cpx', 'Grt']))\n",
    "print(system.summary)\n"
   ]
  },
  {
   "cell_type": "code",
   "execution_count": null,
   "metadata": {
    "collapsed": false,
    "jupyter": {
     "outputs_hidden": false
    },
    "pycharm": {
     "name": "#%%\n"
    }
   },
   "outputs": [],
   "source": [
    "print('Deep Upper Mantle:')\n",
    "system.update(P=10 * units.GPA)\n",
    "display(system.stable_phase_names)\n",
    "display(UnorderedList(['Ol', 'hpCpx', 'Cpx', 'Grt']))\n",
    "print(system.summary)"
   ]
  },
  {
   "cell_type": "code",
   "execution_count": null,
   "metadata": {
    "collapsed": false,
    "jupyter": {
     "outputs_hidden": false
    },
    "pycharm": {
     "name": "#%%\n"
    }
   },
   "outputs": [],
   "source": [
    "print('Transition Zone:')\n",
    "system.update(P=17 * units.GPA)\n",
    "display(system.stable_phase_names)\n",
    "display(UnorderedList(['Wds', 'Grt']))\n",
    "print(system.summary)"
   ]
  },
  {
   "cell_type": "code",
   "execution_count": null,
   "metadata": {
    "collapsed": false,
    "jupyter": {
     "outputs_hidden": false
    },
    "pycharm": {
     "name": "#%%\n"
    }
   },
   "outputs": [],
   "source": [
    "print('Shallow Lower Mantle:')\n",
    "system.update(P=24 * units.GPA)\n",
    "display(system.stable_phase_names)\n",
    "display(UnorderedList(['CaPrv', 'PrvS', 'Fp', 'Grt']))\n",
    "print(system.summary)"
   ]
  },
  {
   "cell_type": "code",
   "execution_count": null,
   "metadata": {
    "collapsed": false,
    "jupyter": {
     "outputs_hidden": false
    },
    "pycharm": {
     "name": "#%%\n"
    }
   },
   "outputs": [],
   "source": [
    "print('Lower Mantle:')\n",
    "system.update(P=100 * units.GPA)\n",
    "display(system.stable_phase_names)\n",
    "display(UnorderedList(['PrvS', 'CaPrv', 'Fp', 'CfS']))\n",
    "print(system.summary)"
   ]
  },
  {
   "cell_type": "code",
   "execution_count": null,
   "metadata": {
    "collapsed": false,
    "jupyter": {
     "outputs_hidden": false
    },
    "pycharm": {
     "name": "#%%\n"
    }
   },
   "outputs": [],
   "source": [
    "print('Core-Mantle Boundary Region (D\"):')\n",
    "system.update(P=136 * units.GPA)\n",
    "display(system.stable_phase_names)\n",
    "display(UnorderedList(['PpvS', 'CaPrv', 'Fp', 'CfS']))\n",
    "print(system.summary)"
   ]
  },
  {
   "cell_type": "code",
   "execution_count": null,
   "metadata": {
    "collapsed": false,
    "jupyter": {
     "outputs_hidden": false
    },
    "pycharm": {
     "name": "#%%\n"
    }
   },
   "outputs": [],
   "source": []
  }
 ],
 "metadata": {
  "kernelspec": {
   "display_name": "Python 3",
   "language": "python",
   "name": "python3"
  },
  "language_info": {
   "codemirror_mode": {
    "name": "ipython",
    "version": 3
   },
   "file_extension": ".py",
   "mimetype": "text/x-python",
   "name": "python",
   "nbconvert_exporter": "python",
   "pygments_lexer": "ipython3",
   "version": "3.8.5"
  }
 },
 "nbformat": 4,
 "nbformat_minor": 4
}