{
 "cells": [
  {
   "cell_type": "markdown",
   "metadata": {},
   "source": [
    "# Test Affinity and comp algorithm on liquid\n",
    "- this algorithm is usually fast and accurate\n",
    "- but it can fail to converge, causing major problems\n"
   ]
  },
  {
   "cell_type": "code",
   "execution_count": null,
   "metadata": {
    "lines_to_next_cell": 0
   },
   "outputs": [],
   "source": [
    "import numpy as np\n",
    "from os import path\n",
    "import pandas as pd\n",
    "import scipy.optimize as opt\n",
    "from scipy import optimize\n",
    "import scipy.linalg as lin\n",
    "import scipy as sp\n",
    "import sys\n",
    "import sympy as sym\n",
    "\n",
    "from collections import OrderedDict as odict\n",
    "\n",
    "import matplotlib.pyplot as plt\n",
    "\n",
    "import sunkenhull as hull\n",
    "from thermoengine.model import GeoCompDB, SysComp"
   ]
  },
  {
   "cell_type": "code",
   "execution_count": null,
   "metadata": {
    "lines_to_next_cell": 2
   },
   "outputs": [],
   "source": []
  },
  {
   "cell_type": "markdown",
   "metadata": {},
   "source": [
    "Required ENKI modules (ignore the error message from Rubicon running under Python 3.6+)"
   ]
  },
  {
   "cell_type": "code",
   "execution_count": null,
   "metadata": {},
   "outputs": [],
   "source": [
    "from thermoengine import coder, core, phases, model, equilibrate"
   ]
  },
  {
   "cell_type": "code",
   "execution_count": null,
   "metadata": {},
   "outputs": [],
   "source": [
    "modelDB = model.Database(database='Berman')"
   ]
  },
  {
   "cell_type": "code",
   "execution_count": null,
   "metadata": {},
   "outputs": [],
   "source": []
  },
  {
   "cell_type": "markdown",
   "metadata": {},
   "source": [
    "## Assume MORB Bulk Composition\n"
   ]
  },
  {
   "cell_type": "code",
   "execution_count": null,
   "metadata": {},
   "outputs": [],
   "source": [
    "compDB = GeoCompDB()"
   ]
  },
  {
   "cell_type": "code",
   "execution_count": null,
   "metadata": {},
   "outputs": [],
   "source": [
    "sysID = 'MORB_primitive'\n",
    "CO2='none'\n",
    "# H2O='none'\n",
    "H2O = 'input'\n",
    "syscomp = compDB.get_syscomp(\n",
    "    sysID, components='oxides',CO2=CO2,H2O=H2O)\n",
    "display(syscomp.wt_comp())\n",
    "display(syscomp.mol_comp('oxides'))"
   ]
  },
  {
   "cell_type": "code",
   "execution_count": null,
   "metadata": {},
   "outputs": [],
   "source": []
  },
  {
   "cell_type": "code",
   "execution_count": null,
   "metadata": {},
   "outputs": [],
   "source": []
  },
  {
   "cell_type": "code",
   "execution_count": null,
   "metadata": {},
   "outputs": [],
   "source": [
    "elem_comp = syscomp.mol_comp(components='elems')\n",
    "sys_elems=elem_comp.columns.values\n",
    "bulk_comp = elem_comp.values[0]"
   ]
  },
  {
   "cell_type": "code",
   "execution_count": null,
   "metadata": {},
   "outputs": [],
   "source": []
  },
  {
   "cell_type": "code",
   "execution_count": null,
   "metadata": {},
   "outputs": [],
   "source": []
  },
  {
   "cell_type": "markdown",
   "metadata": {},
   "source": [
    "## P/T conditions selected to involve many phases present"
   ]
  },
  {
   "cell_type": "code",
   "execution_count": null,
   "metadata": {},
   "outputs": [],
   "source": [
    "T = 1175+273.15\n",
    "T= 1600+273\n",
    "P = 1e3"
   ]
  },
  {
   "cell_type": "code",
   "execution_count": null,
   "metadata": {},
   "outputs": [],
   "source": []
  },
  {
   "cell_type": "markdown",
   "metadata": {},
   "source": [
    "## Initialize assemblage w/ pure liquid\n",
    "- if omnicomponent phase is present this will produce good initial guess for chempot\n",
    "- assume pure liquid for MORB composition system\n"
   ]
  },
  {
   "cell_type": "code",
   "execution_count": null,
   "metadata": {},
   "outputs": [],
   "source": [
    "mol_oxides=syscomp.mol_comp(components='oxides')\n",
    "mol_oxides['CO2']=0\n",
    "mol_oxides.values.squeeze()"
   ]
  },
  {
   "cell_type": "code",
   "execution_count": null,
   "metadata": {},
   "outputs": [],
   "source": [
    "liq = modelDB.get_phase('Liq')"
   ]
  },
  {
   "cell_type": "code",
   "execution_count": null,
   "metadata": {},
   "outputs": [],
   "source": []
  },
  {
   "cell_type": "code",
   "execution_count": null,
   "metadata": {},
   "outputs": [],
   "source": [
    "mol_endmem = liq.calc_endmember_comp(mol_oxides.values.squeeze(),method='intrinsic')\n",
    "mol_endmem/=mol_endmem.sum()"
   ]
  },
  {
   "cell_type": "code",
   "execution_count": null,
   "metadata": {},
   "outputs": [],
   "source": []
  },
  {
   "cell_type": "code",
   "execution_count": null,
   "metadata": {},
   "outputs": [],
   "source": [
    "chempot = liq.chem_potential(T, P,  mol=mol_endmem).squeeze()"
   ]
  },
  {
   "cell_type": "code",
   "execution_count": null,
   "metadata": {},
   "outputs": [],
   "source": []
  },
  {
   "cell_type": "code",
   "execution_count": null,
   "metadata": {},
   "outputs": [],
   "source": [
    "dG = liq.gibbs_energy(T, P, mol=mol_endmem)-chempot.dot(mol_endmem)\n",
    "dG"
   ]
  },
  {
   "cell_type": "code",
   "execution_count": null,
   "metadata": {},
   "outputs": [],
   "source": []
  },
  {
   "cell_type": "code",
   "execution_count": null,
   "metadata": {},
   "outputs": [],
   "source": [
    "# lin.lstsq()"
   ]
  },
  {
   "cell_type": "code",
   "execution_count": null,
   "metadata": {},
   "outputs": [],
   "source": [
    "liq_elem_comp = pd.DataFrame(liq.props['element_comp'],index=liq.endmember_names, \n",
    "                             columns=SysComp.PERIODIC_ORDER)[sys_elems]\n",
    "liq_elem_comp\n"
   ]
  },
  {
   "cell_type": "markdown",
   "metadata": {},
   "source": [
    "## verify that liquid composition calculated correctly"
   ]
  },
  {
   "cell_type": "code",
   "execution_count": null,
   "metadata": {},
   "outputs": [],
   "source": [
    "elem_diff = liq_elem_comp.T.dot(mol_endmem)-elem_comp\n",
    "elem_diff.abs()<1e-10"
   ]
  },
  {
   "cell_type": "code",
   "execution_count": null,
   "metadata": {},
   "outputs": [],
   "source": []
  },
  {
   "cell_type": "code",
   "execution_count": null,
   "metadata": {},
   "outputs": [],
   "source": [
    "chempot_elems = lin.lstsq(liq_elem_comp, chempot)[0]\n",
    "chempot_elems"
   ]
  },
  {
   "cell_type": "code",
   "execution_count": null,
   "metadata": {},
   "outputs": [],
   "source": [
    "mu = chempot.copy()\n",
    "mu[mol_endmem==0]=0\n",
    "mu"
   ]
  },
  {
   "cell_type": "code",
   "execution_count": null,
   "metadata": {},
   "outputs": [],
   "source": []
  },
  {
   "cell_type": "code",
   "execution_count": null,
   "metadata": {},
   "outputs": [],
   "source": []
  },
  {
   "cell_type": "code",
   "execution_count": null,
   "metadata": {},
   "outputs": [],
   "source": []
  },
  {
   "cell_type": "code",
   "execution_count": null,
   "metadata": {},
   "outputs": [],
   "source": [
    "noise = .3\n",
    "# noise=0"
   ]
  },
  {
   "cell_type": "code",
   "execution_count": null,
   "metadata": {},
   "outputs": [],
   "source": [
    "X_init = mol_endmem*np.exp(noise*np.random.randn(mu.size))\n",
    "X_init[X_init<0] = 0\n",
    "X_init[X_init>1] = 1\n",
    "X_init[mol_endmem==0] = 0"
   ]
  },
  {
   "cell_type": "code",
   "execution_count": null,
   "metadata": {},
   "outputs": [],
   "source": [
    "# X_init /= X_init.sum()"
   ]
  },
  {
   "cell_type": "code",
   "execution_count": null,
   "metadata": {},
   "outputs": [],
   "source": [
    "liq.chem_potential(T, P,  mol=X_init).squeeze()"
   ]
  },
  {
   "cell_type": "code",
   "execution_count": null,
   "metadata": {},
   "outputs": [],
   "source": []
  },
  {
   "cell_type": "markdown",
   "metadata": {},
   "source": [
    "## Cold-start legacy version"
   ]
  },
  {
   "cell_type": "code",
   "execution_count": null,
   "metadata": {},
   "outputs": [],
   "source": []
  },
  {
   "cell_type": "code",
   "execution_count": null,
   "metadata": {},
   "outputs": [],
   "source": [
    "A0, X0 = liq.affinity_and_comp_legacy(T, P, mu)\n",
    "print(A0)\n",
    "logdx = np.log(X0/mol_endmem)\n",
    "logdx[mol_endmem==0] = 0\n",
    "logdx"
   ]
  },
  {
   "cell_type": "code",
   "execution_count": null,
   "metadata": {},
   "outputs": [],
   "source": [
    "A, X = liq.affinity_and_comp(T, P, mu)\n",
    "print(A)\n",
    "logdx = np.log(X/mol_endmem)\n",
    "logdx[mol_endmem==0] = 0\n",
    "logdx"
   ]
  },
  {
   "cell_type": "code",
   "execution_count": null,
   "metadata": {},
   "outputs": [],
   "source": [
    "dmu = (liq.chem_potential(T, P, mol=X)-mu).squeeze()\n",
    "dmu[mu==0]=0\n",
    "np.dot(dmu, X)"
   ]
  },
  {
   "cell_type": "code",
   "execution_count": null,
   "metadata": {},
   "outputs": [],
   "source": []
  },
  {
   "cell_type": "code",
   "execution_count": null,
   "metadata": {},
   "outputs": [],
   "source": [
    "site_m = liq.exchange_equil._est_site_mult(T, P)"
   ]
  },
  {
   "cell_type": "markdown",
   "metadata": {},
   "source": [
    "## Cold-start converges rapidly"
   ]
  },
  {
   "cell_type": "code",
   "execution_count": null,
   "metadata": {},
   "outputs": [],
   "source": [
    "A, X = liq.affinity_and_comp(T, P, mu, debug=True, converge_method='lstsq', site_m=site_m)"
   ]
  },
  {
   "cell_type": "code",
   "execution_count": null,
   "metadata": {},
   "outputs": [],
   "source": [
    "mol_lims = [1e-4,1]\n",
    "plt.figure()\n",
    "plt.loglog(mol_endmem, X, 'bo')\n",
    "plt.loglog(mol_endmem, X_init, 'rx')\n",
    "plt.plot(mol_lims, mol_lims, 'r--')\n",
    "# plt.xlim(0,1)\n",
    "# plt.ylim(0,1)\n",
    "plt.xlim(mol_lims)\n",
    "plt.ylim(mol_lims)"
   ]
  },
  {
   "cell_type": "code",
   "execution_count": null,
   "metadata": {},
   "outputs": [],
   "source": []
  },
  {
   "cell_type": "markdown",
   "metadata": {},
   "source": [
    "## Warm-start also converges\n",
    "- roughly same convergence time for cold start and warm start"
   ]
  },
  {
   "cell_type": "code",
   "execution_count": null,
   "metadata": {},
   "outputs": [],
   "source": [
    "A, X = liq.affinity_and_comp(T, P, mu, X_init=X_init, debug=True, converge_method='approx', site_m=site_m)"
   ]
  },
  {
   "cell_type": "code",
   "execution_count": null,
   "metadata": {},
   "outputs": [],
   "source": [
    "display(A)\n",
    "display(X)"
   ]
  },
  {
   "cell_type": "code",
   "execution_count": null,
   "metadata": {},
   "outputs": [],
   "source": [
    "dmu = (liq.chem_potential(T, P, mol=X)-mu).squeeze()\n",
    "dmu[mu==0]=0\n",
    "np.dot(dmu, X)"
   ]
  },
  {
   "cell_type": "code",
   "execution_count": null,
   "metadata": {},
   "outputs": [],
   "source": [
    "\n",
    "np.dot(liq.chem_potential(T, P, mol=X)-mu, X)"
   ]
  },
  {
   "cell_type": "code",
   "execution_count": null,
   "metadata": {},
   "outputs": [],
   "source": [
    "np.log(X/mol_endmem)[mol_endmem!=0]"
   ]
  },
  {
   "cell_type": "code",
   "execution_count": null,
   "metadata": {},
   "outputs": [],
   "source": [
    "Xdiff = X-mol_endmem\n",
    "Xdiff_max = np.max(np.abs(Xdiff))\n",
    "print('max Xdiff = ', Xdiff_max)"
   ]
  },
  {
   "cell_type": "code",
   "execution_count": null,
   "metadata": {},
   "outputs": [],
   "source": [
    "plt.figure()\n",
    "plt.plot(mol_endmem, X, 'o')\n",
    "plt.plot([0,1],[0,1], 'r--')\n",
    "plt.xlim(0,1)\n",
    "plt.ylim(0,1)"
   ]
  },
  {
   "cell_type": "code",
   "execution_count": null,
   "metadata": {},
   "outputs": [],
   "source": [
    "mol_lims = [1e-4,1]\n",
    "plt.figure()\n",
    "plt.loglog(mol_endmem, X, 'bo')\n",
    "plt.loglog(mol_endmem, X_init, 'rx')\n",
    "plt.plot(mol_lims, mol_lims, 'r--')\n",
    "# plt.xlim(0,1)\n",
    "# plt.ylim(0,1)\n",
    "plt.xlim(mol_lims)\n",
    "plt.ylim(mol_lims)"
   ]
  },
  {
   "cell_type": "code",
   "execution_count": null,
   "metadata": {},
   "outputs": [],
   "source": []
  },
  {
   "cell_type": "code",
   "execution_count": null,
   "metadata": {},
   "outputs": [],
   "source": [
    "inds = np.argsort(mol_endmem)[::-1]"
   ]
  },
  {
   "cell_type": "code",
   "execution_count": null,
   "metadata": {},
   "outputs": [],
   "source": [
    "\n",
    "mol_pure = np.eye(mol_endmem.size)\n",
    "mol_pure[0]"
   ]
  },
  {
   "cell_type": "code",
   "execution_count": null,
   "metadata": {},
   "outputs": [],
   "source": [
    "'''\n",
    "A, X = liq.affinity_and_comp(T, P, mu, X_init=mol_pure[inds[6]], ATOL=1e-3, XTOL=1e-4, iter_max=50, debug=True)\n",
    "plt.figure()\n",
    "plt.plot(mol_endmem, X, 'o')\n",
    "plt.xlim(0,1)\n",
    "plt.ylim(0,1)\n",
    "np.max(X-mol_endmem)\n",
    "'''"
   ]
  },
  {
   "cell_type": "code",
   "execution_count": null,
   "metadata": {},
   "outputs": [],
   "source": []
  }
 ],
 "metadata": {
  "jupytext": {
   "formats": "ipynb,py:light"
  },
  "kernelspec": {
   "display_name": "Python 3",
   "language": "python",
   "name": "python3"
  },
  "language_info": {
   "codemirror_mode": {
    "name": "ipython",
    "version": 3
   },
   "file_extension": ".py",
   "mimetype": "text/x-python",
   "name": "python",
   "nbconvert_exporter": "python",
   "pygments_lexer": "ipython3",
   "version": "3.8.5"
  }
 },
 "nbformat": 4,
 "nbformat_minor": 4
}
