{
 "cells": [
  {
   "cell_type": "markdown",
   "metadata": {},
   "source": [
    "# System Composition\n",
    "- define clean method of setting system composition\n",
    "- convert between units (e.g. g or mols)\n",
    "- convert between components (e.g. endmembers, elements, oxides, etc.)"
   ]
  },
  {
   "cell_type": "code",
   "execution_count": 1,
   "metadata": {},
   "outputs": [],
   "source": [
    "import numpy as np\n",
    "import pandas as pd\n",
    "import scipy.linalg as lin\n",
    "\n",
    "from thermoengine.model import SysComp\n",
    "from thermoengine.model import GeoCompDB\n",
    "\n",
    "import matplotlib.pyplot as plt"
   ]
  },
  {
   "cell_type": "code",
   "execution_count": 2,
   "metadata": {},
   "outputs": [],
   "source": [
    "from thermoengine import core, phases, model, equilibrate"
   ]
  },
  {
   "cell_type": "code",
   "execution_count": null,
   "metadata": {},
   "outputs": [],
   "source": []
  },
  {
   "cell_type": "code",
   "execution_count": 3,
   "metadata": {},
   "outputs": [],
   "source": [
    "ver='v1.0'\n",
    "CO2='none'\n",
    "\n",
    "# ver='v1.2'\n",
    "# CO2='input'\n",
    "modelDB = model.Database(liq_mod=ver)"
   ]
  },
  {
   "cell_type": "markdown",
   "metadata": {},
   "source": [
    "# Get composition for classic geo-relevant systems"
   ]
  },
  {
   "cell_type": "code",
   "execution_count": 4,
   "metadata": {},
   "outputs": [],
   "source": [
    "compDB = GeoCompDB()"
   ]
  },
  {
   "cell_type": "code",
   "execution_count": 5,
   "metadata": {},
   "outputs": [
    {
     "data": {
      "text/plain": [
       "array(['MORB', 'MORB_primitive', 'Bishop_Tuff_Early', 'Bishop_Tuff_Late',\n",
       "       'MM3', 'DMM1'], dtype='<U17')"
      ]
     },
     "execution_count": 5,
     "metadata": {},
     "output_type": "execute_result"
    }
   ],
   "source": [
    "compDB.record_names"
   ]
  },
  {
   "cell_type": "code",
   "execution_count": null,
   "metadata": {},
   "outputs": [],
   "source": []
  },
  {
   "cell_type": "code",
   "execution_count": 6,
   "metadata": {},
   "outputs": [],
   "source": [
    "sysID = 'MORB_primitive'\n",
    "#sysID = 'MORB'"
   ]
  },
  {
   "cell_type": "code",
   "execution_count": 7,
   "metadata": {},
   "outputs": [
    {
     "name": "stderr",
     "output_type": "stream",
     "text": [
      "/Users/aswolf/anaconda/envs/py37/lib/python3.7/site-packages/pandas/core/frame.py:3997: SettingWithCopyWarning: \n",
      "A value is trying to be set on a copy of a slice from a DataFrame\n",
      "\n",
      "See the caveats in the documentation: https://pandas.pydata.org/pandas-docs/stable/user_guide/indexing.html#returning-a-view-versus-a-copy\n",
      "  errors=errors,\n"
     ]
    },
    {
     "data": {
      "text/html": [
       "<div>\n",
       "<style scoped>\n",
       "    .dataframe tbody tr th:only-of-type {\n",
       "        vertical-align: middle;\n",
       "    }\n",
       "\n",
       "    .dataframe tbody tr th {\n",
       "        vertical-align: top;\n",
       "    }\n",
       "\n",
       "    .dataframe thead th {\n",
       "        text-align: right;\n",
       "    }\n",
       "</style>\n",
       "<table border=\"1\" class=\"dataframe\">\n",
       "  <thead>\n",
       "    <tr style=\"text-align: right;\">\n",
       "      <th></th>\n",
       "      <th>SiO2</th>\n",
       "      <th>TiO2</th>\n",
       "      <th>Al2O3</th>\n",
       "      <th>Fe2O3</th>\n",
       "      <th>Cr2O3</th>\n",
       "      <th>FeO</th>\n",
       "      <th>MnO</th>\n",
       "      <th>MgO</th>\n",
       "      <th>NiO</th>\n",
       "      <th>CoO</th>\n",
       "      <th>CaO</th>\n",
       "      <th>Na2O</th>\n",
       "      <th>K2O</th>\n",
       "      <th>P2O5</th>\n",
       "      <th>H2O</th>\n",
       "    </tr>\n",
       "  </thead>\n",
       "  <tbody>\n",
       "    <tr>\n",
       "      <th>MORB_primitive</th>\n",
       "      <td>48.68</td>\n",
       "      <td>1.01</td>\n",
       "      <td>17.64</td>\n",
       "      <td>0.89</td>\n",
       "      <td>0.0425</td>\n",
       "      <td>7.59</td>\n",
       "      <td>0</td>\n",
       "      <td>9.1</td>\n",
       "      <td>0</td>\n",
       "      <td>0</td>\n",
       "      <td>12.45</td>\n",
       "      <td>2.65</td>\n",
       "      <td>0.03</td>\n",
       "      <td>0.08</td>\n",
       "      <td>0.2</td>\n",
       "    </tr>\n",
       "  </tbody>\n",
       "</table>\n",
       "</div>"
      ],
      "text/plain": [
       "                 SiO2  TiO2  Al2O3  Fe2O3   Cr2O3   FeO  MnO  MgO  NiO  CoO  \\\n",
       "MORB_primitive  48.68  1.01  17.64   0.89  0.0425  7.59    0  9.1    0    0   \n",
       "\n",
       "                  CaO  Na2O   K2O  P2O5  H2O  \n",
       "MORB_primitive  12.45  2.65  0.03  0.08  0.2  "
      ]
     },
     "metadata": {},
     "output_type": "display_data"
    },
    {
     "data": {
      "text/html": [
       "<div>\n",
       "<style scoped>\n",
       "    .dataframe tbody tr th:only-of-type {\n",
       "        vertical-align: middle;\n",
       "    }\n",
       "\n",
       "    .dataframe tbody tr th {\n",
       "        vertical-align: top;\n",
       "    }\n",
       "\n",
       "    .dataframe thead th {\n",
       "        text-align: right;\n",
       "    }\n",
       "</style>\n",
       "<table border=\"1\" class=\"dataframe\">\n",
       "  <thead>\n",
       "    <tr style=\"text-align: right;\">\n",
       "      <th></th>\n",
       "      <th>H</th>\n",
       "      <th>O</th>\n",
       "      <th>Na</th>\n",
       "      <th>Mg</th>\n",
       "      <th>Al</th>\n",
       "      <th>Si</th>\n",
       "      <th>P</th>\n",
       "      <th>K</th>\n",
       "      <th>Ca</th>\n",
       "      <th>Ti</th>\n",
       "      <th>Cr</th>\n",
       "      <th>Mn</th>\n",
       "      <th>Fe</th>\n",
       "      <th>Co</th>\n",
       "      <th>Ni</th>\n",
       "    </tr>\n",
       "  </thead>\n",
       "  <tbody>\n",
       "    <tr>\n",
       "      <th>MORB_primitive</th>\n",
       "      <td>0.022203</td>\n",
       "      <td>2.792676</td>\n",
       "      <td>0.085513</td>\n",
       "      <td>0.225782</td>\n",
       "      <td>0.346014</td>\n",
       "      <td>0.810195</td>\n",
       "      <td>0.001127</td>\n",
       "      <td>0.000637</td>\n",
       "      <td>0.222007</td>\n",
       "      <td>0.012641</td>\n",
       "      <td>0.000559</td>\n",
       "      <td>0.0</td>\n",
       "      <td>0.116788</td>\n",
       "      <td>0.0</td>\n",
       "      <td>0.0</td>\n",
       "    </tr>\n",
       "  </tbody>\n",
       "</table>\n",
       "</div>"
      ],
      "text/plain": [
       "                       H         O        Na        Mg        Al        Si  \\\n",
       "MORB_primitive  0.022203  2.792676  0.085513  0.225782  0.346014  0.810195   \n",
       "\n",
       "                       P         K        Ca        Ti        Cr   Mn  \\\n",
       "MORB_primitive  0.001127  0.000637  0.222007  0.012641  0.000559  0.0   \n",
       "\n",
       "                      Fe   Co   Ni  \n",
       "MORB_primitive  0.116788  0.0  0.0  "
      ]
     },
     "metadata": {},
     "output_type": "display_data"
    }
   ],
   "source": [
    "\n",
    "syscomp = compDB.get_syscomp(\n",
    "    sysID, components='oxides',CO2=CO2)\n",
    "display(syscomp.wt_comp())\n",
    "display(syscomp.mol_comp('elems'))"
   ]
  },
  {
   "cell_type": "code",
   "execution_count": 8,
   "metadata": {},
   "outputs": [
    {
     "data": {
      "text/plain": [
       "Index(['H', 'O', 'Na', 'Mg', 'Al', 'Si', 'P', 'K', 'Ca', 'Ti', 'Cr', 'Mn',\n",
       "       'Fe', 'Co', 'Ni'],\n",
       "      dtype='object')"
      ]
     },
     "execution_count": 8,
     "metadata": {},
     "output_type": "execute_result"
    }
   ],
   "source": [
    "elem_comp = syscomp.mol_comp(components='elems')\n",
    "#elem_comp.reset_index(inplace=True, drop=True)\n",
    "elem_comp.values[0]\n",
    "elem_comp.columns"
   ]
  },
  {
   "cell_type": "code",
   "execution_count": null,
   "metadata": {},
   "outputs": [],
   "source": []
  },
  {
   "cell_type": "code",
   "execution_count": null,
   "metadata": {},
   "outputs": [],
   "source": []
  },
  {
   "cell_type": "code",
   "execution_count": null,
   "metadata": {},
   "outputs": [],
   "source": []
  },
  {
   "cell_type": "markdown",
   "metadata": {},
   "source": [
    "## Equilibrate system with this composition"
   ]
  },
  {
   "cell_type": "code",
   "execution_count": null,
   "metadata": {},
   "outputs": [],
   "source": []
  },
  {
   "cell_type": "code",
   "execution_count": 9,
   "metadata": {},
   "outputs": [],
   "source": [
    "Feldspar = modelDB.get_phase('Fsp')\n",
    "Olivine = modelDB.get_phase('Ol')\n",
    "Cpx = modelDB.get_phase('Cpx')\n",
    "Spinel = modelDB.get_phase('SplS')\n",
    "Liquid = modelDB.get_phase('Liq')\n",
    "\n",
    "# Quartz = modelDB.get_phase('Qz')\n",
    "# Opx = modelDB.get_phase('Opx')\n",
    "# RhomOx = modelDB.get_phase('Rhom')"
   ]
  },
  {
   "cell_type": "code",
   "execution_count": 10,
   "metadata": {},
   "outputs": [],
   "source": [
    "# elem_comp.values[0].astype(float)"
   ]
  },
  {
   "cell_type": "code",
   "execution_count": 11,
   "metadata": {},
   "outputs": [],
   "source": [
    "# Water = phases.PurePhase('WaterMelts', 'H2O', calib=False)\n",
    "# phs_sys = [Liquid, Olivine,Feldspar, Water, Quartz, Spinel, Opx, Cpx, RhomOx]\n",
    "# phs_sys = [Liquid, Olivine,Feldspar, Water, Quartz, Spinel, Cpx]\n"
   ]
  },
  {
   "cell_type": "code",
   "execution_count": 12,
   "metadata": {},
   "outputs": [],
   "source": [
    "phs_sys = [Feldspar, Olivine, Cpx, Spinel, Liquid]\n",
    "equil = equilibrate.Equilibrate(elem_comp.columns, phs_sys)"
   ]
  },
  {
   "cell_type": "code",
   "execution_count": null,
   "metadata": {},
   "outputs": [],
   "source": []
  },
  {
   "cell_type": "code",
   "execution_count": 13,
   "metadata": {},
   "outputs": [],
   "source": [
    "P = 1000.0\n",
    "T = np.arange(1600, 1300-.1, -25)\n",
    "T0 = T[0]"
   ]
  },
  {
   "cell_type": "code",
   "execution_count": 14,
   "metadata": {},
   "outputs": [
    {
     "name": "stdout",
     "output_type": "stream",
     "text": [
      " \n",
      "T =    1326.85 °C, P =      100.0 MPa\n",
      "Feldspar        affn:    3226.11\n",
      "         albite form:  NaAlSi3O8      X:  0.1426\n",
      "      anorthite form:  CaAl2Si2O8     X:  0.8573\n",
      "       sanidine form:  KAlSi3O8       X:  0.0001\n",
      "Olivine         affn:    5278.26\n",
      "      tephroite form:  Mn2SiO4        X:  0.0000\n",
      "       fayalite form:  Fe2SiO4        X:  0.1331\n",
      "     co-olivine form:  Co2SiO4        X:  0.0000\n",
      "     ni-olivine form:  Ni2SiO4        X:  0.0000\n",
      "   monticellite form:  CaMgSiO4       X:  0.0172\n",
      "     forsterite form:  Mg2SiO4        X:  0.8497\n",
      "Clinopyroxene   affn:    7875.73\n",
      "       diopside form:  CaMgSi2O6      X: -0.0985\n",
      " clinoenstatite form:  Mg2Si2O6       X:  0.7299\n",
      "   hedenbergite form:  CaFeSi2O6      X:  0.2531\n",
      "alumino-buffoni form:  CaTi0.5Mg0     X:  0.0796\n",
      "      buffonite form:  CaTi0.5Mg0     X: -0.0728\n",
      "       essenite form:  CaFeAlSiO6     X:  0.1030\n",
      "        jadeite form:  NaAlSi2O6      X:  0.0057\n",
      "Spinel          affn:    4465.40\n",
      "       chromite form:  FeCr2O4        X:  0.2511\n",
      "      hercynite form:  FeAl2O4        X: -0.1522\n",
      "      magnetite form:  Fe3O4          X:  0.1008\n",
      "         spinel form:  MgAl2O4        X:  0.7856\n",
      "     ulvospinel form:  Fe2TiO4        X:  0.0147\n",
      "Liquid          moles:   1.013043 grams: 100.362\n",
      "           SiO2 form:  SiO2           X:  0.3760  wt%    SiO2   48.50\n",
      "           TiO2 form:  TiO2           X:  0.0125  wt%    TiO2    1.01\n",
      "          Al2O3 form:  Al2O3          X:  0.1705  wt%   Al2O3   17.58\n",
      "          Fe2O3 form:  Fe2O3          X:  0.0055  wt%   Fe2O3    0.89\n",
      "        MgCr2O4 form:  MgCr2O4        X:  0.0003  wt%   Cr2O3    0.04\n",
      "        Fe2SiO4 form:  Fe2SiO4        X:  0.0521  wt%     FeO    7.56\n",
      "      MnSi0.5O2 form:  MnSi0.5O2      X:  0.0000  wt%     MgO    9.07\n",
      "        Mg2SiO4 form:  Mg2SiO4        X:  0.1113  wt%     CaO   12.40\n",
      "      NiSi0.5O2 form:  NiSi0.5O2      X:  0.0000  wt%    Na2O    2.64\n",
      "      CoSi0.5O2 form:  CoSi0.5O2      X:  0.0000  wt%     K2O    0.03\n",
      "         CaSiO3 form:  CaSiO3         X:  0.2175  wt%    P2O5    0.08\n",
      "        Na2SiO3 form:  Na2SiO3        X:  0.0422  wt%     H2O    0.20\n",
      "        KAlSiO4 form:  KAlSiO4        X:  0.0006  \n",
      "      Ca3(PO4)2 form:  Ca3(PO4)2      X:  0.0006  \n",
      "            H2O form:  H2O            X:  0.0110  \n"
     ]
    },
    {
     "name": "stderr",
     "output_type": "stream",
     "text": [
      "/Users/aswolf/anaconda/envs/py37/lib/python3.7/site-packages/thermoengine/equilibrate.py:128: DeprecatedWarning: covert_endmember_comp is deprecated as of 1.0 and will be removed in 2.0. This legacy function name has a typo. Use convert_endmember_comp instead.\n",
      "  mol,output='moles_elements')\n"
     ]
    }
   ],
   "source": [
    "state = equil.execute(T0, P, bulk_comp=elem_comp.values[0], stats=True)\n",
    "state.print_state()\n",
    "phases = state.phase_d.keys()"
   ]
  },
  {
   "cell_type": "code",
   "execution_count": 15,
   "metadata": {},
   "outputs": [],
   "source": [
    "std_oxides = SysComp.STD_OXIDES\n",
    "iliq_comp_oxides = state.compositions(phase_name='Liquid',  ctype='oxides', units='wt%')"
   ]
  },
  {
   "cell_type": "code",
   "execution_count": null,
   "metadata": {},
   "outputs": [],
   "source": []
  },
  {
   "cell_type": "code",
   "execution_count": null,
   "metadata": {},
   "outputs": [],
   "source": []
  },
  {
   "cell_type": "code",
   "execution_count": 16,
   "metadata": {},
   "outputs": [],
   "source": [
    "phase_frac = []\n",
    "liq_comp = []\n",
    "\n",
    "iphase_masses = np.array([state.tot_grams_phase(phs) for phs in phases])\n",
    "iphase_frac = iphase_masses/iphase_masses.sum()\n",
    "phase_frac.append(iphase_frac)\n",
    "liq_comp.append(iliq_comp_oxides)"
   ]
  },
  {
   "cell_type": "code",
   "execution_count": 17,
   "metadata": {},
   "outputs": [
    {
     "name": "stdout",
     "output_type": "stream",
     "text": [
      "1575.0\n",
      "1550.0\n",
      "Minimal energy termination of quadratic loop.\n",
      "1525.0\n",
      "Minimal energy termination of quadratic loop.\n",
      "1500.0\n",
      "Minimal energy termination of quadratic loop.\n",
      "Minimal energy termination of quadratic loop.\n",
      "1475.0\n",
      "Minimal energy termination of quadratic loop.\n",
      "Minimal energy termination of quadratic loop.\n",
      "Minimal energy termination of quadratic loop.\n",
      "1450.0\n",
      "Minimal energy termination of quadratic loop.\n",
      "Minimal energy termination of quadratic loop.\n",
      "Minimal energy termination of quadratic loop.\n",
      "Minimal energy termination of quadratic loop.\n",
      "1425.0\n",
      "Minimal energy termination of quadratic loop.\n",
      "Minimal energy termination of quadratic loop.\n",
      "Minimal energy termination of quadratic loop.\n",
      "Minimal energy termination of quadratic loop.\n",
      "1400.0\n",
      "Minimal energy termination of quadratic loop.\n",
      "Minimal energy termination of quadratic loop.\n",
      "Minimal energy termination of quadratic loop.\n",
      "Minimal energy termination of quadratic loop.\n",
      "1375.0\n",
      "Minimal energy termination of quadratic loop.\n",
      "Minimal energy termination of quadratic loop.\n",
      "Minimal energy termination of quadratic loop.\n",
      "Minimal energy termination of quadratic loop.\n",
      "1350.0\n",
      "Minimal energy termination of quadratic loop.\n",
      "Minimal energy termination of quadratic loop.\n",
      "Minimal energy termination of quadratic loop.\n",
      "Minimal energy termination of quadratic loop.\n",
      "1325.0\n",
      "Minimal energy termination of quadratic loop.\n",
      "Minimal energy termination of quadratic loop.\n",
      "Minimal energy termination of quadratic loop.\n",
      "Minimal energy termination of quadratic loop.\n",
      "1300.0\n",
      "Minimal energy termination of quadratic loop.\n",
      "Minimal energy termination of quadratic loop.\n",
      "Minimal energy termination of quadratic loop.\n",
      "Minimal energy termination of quadratic loop.\n"
     ]
    }
   ],
   "source": [
    "for iT in T[1:]:\n",
    "    print(iT)\n",
    "    state = equil.execute(iT, P)\n",
    "    # state.print_state()\n",
    "    iphase_masses = np.array([state.tot_grams_phase(phs) for phs in phases])\n",
    "    iphase_frac = iphase_masses/iphase_masses.sum()\n",
    "    \n",
    "    iliq_comp_oxides = state.compositions(\n",
    "        phase_name='Liquid',  ctype='oxides', units='wt%')\n",
    "    \n",
    "    phase_frac.append(iphase_frac)\n",
    "    liq_comp.append(iliq_comp_oxides)"
   ]
  },
  {
   "cell_type": "code",
   "execution_count": null,
   "metadata": {},
   "outputs": [],
   "source": []
  },
  {
   "cell_type": "code",
   "execution_count": 18,
   "metadata": {},
   "outputs": [],
   "source": [
    "phase_frac = pd.DataFrame(phase_frac, columns=phases, index=T-273.15)\n",
    "liq_comp = pd.DataFrame(liq_comp, columns=std_oxides, index=T-273.15)"
   ]
  },
  {
   "cell_type": "code",
   "execution_count": 19,
   "metadata": {},
   "outputs": [],
   "source": [
    "liq_comp['SiO2']=liq_comp['SiO2']/3\n",
    "liq_comp = liq_comp.rename(columns={'SiO2':'SiO2/3'})\n",
    "liq_comp.drop(['MnO','NiO','CoO','CO2'], axis=1, inplace=True)"
   ]
  },
  {
   "cell_type": "markdown",
   "metadata": {},
   "source": [
    "# Equilibrium batch crystallization of MORB\n",
    "- comparable with Ghiorso1997 Fig. 1"
   ]
  },
  {
   "cell_type": "code",
   "execution_count": 20,
   "metadata": {},
   "outputs": [
    {
     "data": {
      "text/plain": [
       "(0.0, 1.0)"
      ]
     },
     "execution_count": 20,
     "metadata": {},
     "output_type": "execute_result"
    },
    {
     "data": {
      "image/png": "[encoded data removed]",
      "text/plain": [
       "<Figure size 432x288 with 1 Axes>"
      ]
     },
     "metadata": {
      "needs_background": "light"
     },
     "output_type": "display_data"
    }
   ],
   "source": [
    "phase_frac.plot.area(lw=0)\n",
    "plt.legend(loc='upper right')\n",
    "plt.xlabel('Temp [C]')\n",
    "plt.ylabel('Phase fraction [wt%]')\n",
    "plt.xlim(phase_frac.index[[-1,0]])\n",
    "plt.ylim(0,1)"
   ]
  },
  {
   "cell_type": "code",
   "execution_count": null,
   "metadata": {},
   "outputs": [],
   "source": []
  },
  {
   "cell_type": "code",
   "execution_count": 21,
   "metadata": {},
   "outputs": [
    {
     "data": {
      "text/plain": [
       "(1026.85, 1326.85)"
      ]
     },
     "execution_count": 21,
     "metadata": {},
     "output_type": "execute_result"
    },
    {
     "data": {
      "image/png": "[encoded data removed]",
      "text/plain": [
       "<Figure size 432x288 with 1 Axes>"
      ]
     },
     "metadata": {
      "needs_background": "light"
     },
     "output_type": "display_data"
    }
   ],
   "source": [
    "liq_comp.plot()\n",
    "plt.legend(bbox_to_anchor=(1.05, 1))\n",
    "plt.xlabel('Temp [C]')\n",
    "plt.ylabel('Liquid Comp. [wt%]')\n",
    "plt.xlim(phase_frac.index[[-1,0]])\n",
    "\n"
   ]
  },
  {
   "cell_type": "code",
   "execution_count": null,
   "metadata": {},
   "outputs": [],
   "source": []
  },
  {
   "cell_type": "markdown",
   "metadata": {},
   "source": [
    "## Retrieve final Geo-relevant Compositions"
   ]
  },
  {
   "cell_type": "code",
   "execution_count": 22,
   "metadata": {},
   "outputs": [
    {
     "name": "stdout",
     "output_type": "stream",
     "text": [
      "T =  1300.0\n",
      "P =  1000.0\n"
     ]
    }
   ],
   "source": [
    "print('T = ', state.temperature)\n",
    "print('P = ', state.pressure)"
   ]
  },
  {
   "cell_type": "code",
   "execution_count": 23,
   "metadata": {},
   "outputs": [
    {
     "name": "stdout",
     "output_type": "stream",
     "text": [
      "Feldspar:\n",
      "X_fsp = \n"
     ]
    },
    {
     "data": {
      "text/plain": [
       "array([0.34977646, 0.64880775, 0.00141579])"
      ]
     },
     "metadata": {},
     "output_type": "display_data"
    }
   ],
   "source": [
    "X_fsp = state.compositions(phase_name='Feldspar',  ctype='components', units='mole_frac')\n",
    "print('Feldspar:')\n",
    "print('X_fsp = ')\n",
    "display(X_fsp)"
   ]
  },
  {
   "cell_type": "code",
   "execution_count": 24,
   "metadata": {},
   "outputs": [
    {
     "name": "stdout",
     "output_type": "stream",
     "text": [
      "Spinel:\n",
      "X_spl = \n"
     ]
    },
    {
     "data": {
      "text/plain": [
       "array([ 0.02303716, -0.30059573,  0.2486363 ,  0.36282285,  0.66609942])"
      ]
     },
     "metadata": {},
     "output_type": "display_data"
    }
   ],
   "source": [
    "X_spl = state.compositions(phase_name='Spinel',  ctype='components', units='mole_frac')\n",
    "print('Spinel:')\n",
    "print('X_spl = ')\n",
    "display(X_spl)"
   ]
  },
  {
   "cell_type": "code",
   "execution_count": 25,
   "metadata": {},
   "outputs": [
    {
     "name": "stdout",
     "output_type": "stream",
     "text": [
      "Clinopyroxene:\n",
      "X_cpx = \n"
     ]
    },
    {
     "data": {
      "text/plain": [
       "array([ 0.45232238,  0.17056242,  0.23701685,  0.07978534, -0.01092643,\n",
       "        0.04901947,  0.02221997])"
      ]
     },
     "metadata": {},
     "output_type": "display_data"
    }
   ],
   "source": [
    "X_cpx = state.compositions(phase_name='Clinopyroxene',  ctype='components', units='mole_frac')\n",
    "print('Clinopyroxene:')\n",
    "print('X_cpx = ')\n",
    "display(X_cpx)"
   ]
  },
  {
   "cell_type": "code",
   "execution_count": null,
   "metadata": {},
   "outputs": [],
   "source": []
  },
  {
   "cell_type": "code",
   "execution_count": null,
   "metadata": {},
   "outputs": [],
   "source": []
  }
 ],
 "metadata": {
  "kernelspec": {
   "display_name": "Python 3",
   "language": "python",
   "name": "python3"
  },
  "language_info": {
   "codemirror_mode": {
    "name": "ipython",
    "version": 3
   },
   "file_extension": ".py",
   "mimetype": "text/x-python",
   "name": "python",
   "nbconvert_exporter": "python",
   "pygments_lexer": "ipython3",
   "version": "3.7.6"
  }
 },
 "nbformat": 4,
 "nbformat_minor": 4
}
