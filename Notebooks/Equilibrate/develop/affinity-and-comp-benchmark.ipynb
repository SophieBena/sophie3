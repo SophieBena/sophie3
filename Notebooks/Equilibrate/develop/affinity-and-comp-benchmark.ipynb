{
 "cells": [
  {
   "cell_type": "markdown",
   "metadata": {},
   "source": [
    "# Test Affinity and comp algorithm on liquid\n",
    "- this algorithm is usually fast and accurate\n",
    "- but it can fail to converge, causing major problems\n"
   ]
  },
  {
   "cell_type": "code",
   "execution_count": null,
   "metadata": {
    "lines_to_next_cell": 0
   },
   "outputs": [],
   "source": [
    "import numpy as np\n",
    "from os import path\n",
    "import pandas as pd\n",
    "import scipy.optimize as opt\n",
    "from scipy import optimize\n",
    "import scipy.linalg as lin\n",
    "import scipy as sp\n",
    "import sys\n",
    "import sympy as sym\n",
    "\n",
    "from collections import OrderedDict as odict\n",
    "\n",
    "import matplotlib.pyplot as plt\n",
    "\n",
    "import sunkenhull as hull\n",
    "from thermoengine.model import GeoCompDB, SysComp"
   ]
  },
  {
   "cell_type": "code",
   "execution_count": null,
   "metadata": {
    "lines_to_next_cell": 2
   },
   "outputs": [],
   "source": []
  },
  {
   "cell_type": "markdown",
   "metadata": {},
   "source": [
    "Required ENKI modules (ignore the error message from Rubicon running under Python 3.6+)"
   ]
  },
  {
   "cell_type": "code",
   "execution_count": null,
   "metadata": {},
   "outputs": [],
   "source": [
    "from thermoengine import coder, core, phases, model, equilibrate"
   ]
  },
  {
   "cell_type": "code",
   "execution_count": null,
   "metadata": {},
   "outputs": [],
   "source": [
    "modelDB = model.Database(database='Berman')"
   ]
  },
  {
   "cell_type": "code",
   "execution_count": null,
   "metadata": {},
   "outputs": [],
   "source": []
  },
  {
   "cell_type": "markdown",
   "metadata": {},
   "source": [
    "## Assume MORB Bulk Composition\n"
   ]
  },
  {
   "cell_type": "code",
   "execution_count": null,
   "metadata": {},
   "outputs": [],
   "source": [
    "compDB = GeoCompDB()"
   ]
  },
  {
   "cell_type": "code",
   "execution_count": null,
   "metadata": {},
   "outputs": [],
   "source": [
    "sysID = 'MORB_primitive'\n",
    "CO2='none'\n",
    "# H2O='none'\n",
    "H2O = 'input'\n",
    "syscomp = compDB.get_syscomp(\n",
    "    sysID, components='oxides',CO2=CO2,H2O=H2O)\n",
    "display(syscomp.wt_comp())\n",
    "display(syscomp.mol_comp('oxides'))"
   ]
  },
  {
   "cell_type": "code",
   "execution_count": null,
   "metadata": {},
   "outputs": [],
   "source": []
  },
  {
   "cell_type": "code",
   "execution_count": null,
   "metadata": {},
   "outputs": [],
   "source": []
  },
  {
   "cell_type": "code",
   "execution_count": null,
   "metadata": {},
   "outputs": [],
   "source": [
    "elem_comp = syscomp.mol_comp(components='elems')\n",
    "sys_elems=elem_comp.columns.values\n",
    "bulk_comp = elem_comp.values[0]"
   ]
  },
  {
   "cell_type": "code",
   "execution_count": null,
   "metadata": {},
   "outputs": [],
   "source": []
  },
  {
   "cell_type": "code",
   "execution_count": null,
   "metadata": {},
   "outputs": [],
   "source": []
  },
  {
   "cell_type": "markdown",
   "metadata": {},
   "source": [
    "## P/T conditions selected to involve many phases present"
   ]
  },
  {
   "cell_type": "code",
   "execution_count": null,
   "metadata": {},
   "outputs": [],
   "source": [
    "T = 1175+273.15\n",
    "T= 1600+273\n",
    "P = 1e3"
   ]
  },
  {
   "cell_type": "code",
   "execution_count": null,
   "metadata": {},
   "outputs": [],
   "source": []
  },
  {
   "cell_type": "markdown",
   "metadata": {},
   "source": [
    "## Initialize assemblage w/ pure liquid\n",
    "- if omnicomponent phase is present this will produce good initial guess for chempot\n",
    "- assume pure liquid for MORB composition system\n"
   ]
  },
  {
   "cell_type": "code",
   "execution_count": null,
   "metadata": {},
   "outputs": [],
   "source": [
    "mol_oxides=syscomp.mol_comp(components='oxides')\n",
    "mol_oxides['CO2']=0\n",
    "mol_oxides.values.squeeze()"
   ]
  },
  {
   "cell_type": "code",
   "execution_count": null,
   "metadata": {},
   "outputs": [],
   "source": [
    "liq = modelDB.get_phase('Liq')"
   ]
  },
  {
   "cell_type": "code",
   "execution_count": null,
   "metadata": {},
   "outputs": [],
   "source": []
  },
  {
   "cell_type": "code",
   "execution_count": null,
   "metadata": {},
   "outputs": [],
   "source": [
    "mol_endmem = liq.calc_endmember_comp(mol_oxides.values.squeeze(),method='intrinsic')\n",
    "mol_endmem/=mol_endmem.sum()"
   ]
  },
  {
   "cell_type": "code",
   "execution_count": null,
   "metadata": {},
   "outputs": [],
   "source": []
  },
  {
   "cell_type": "code",
   "execution_count": null,
   "metadata": {},
   "outputs": [],
   "source": [
    "chempot = liq.chem_potential(T, P,  mol=mol_endmem).squeeze()"
   ]
  },
  {
   "cell_type": "code",
   "execution_count": null,
   "metadata": {},
   "outputs": [],
   "source": []
  },
  {
   "cell_type": "code",
   "execution_count": null,
   "metadata": {},
   "outputs": [],
   "source": [
    "dG = liq.gibbs_energy(T, P, mol=mol_endmem)-chempot.dot(mol_endmem)\n",
    "dG"
   ]
  },
  {
   "cell_type": "code",
   "execution_count": null,
   "metadata": {},
   "outputs": [],
   "source": []
  },
  {
   "cell_type": "code",
   "execution_count": null,
   "metadata": {},
   "outputs": [],
   "source": [
    "# lin.lstsq()"
   ]
  },
  {
   "cell_type": "code",
   "execution_count": null,
   "metadata": {},
   "outputs": [],
   "source": [
    "liq_elem_comp = pd.DataFrame(liq.props['element_comp'],index=liq.endmember_names, \n",
    "                             columns=SysComp.PERIODIC_ORDER)[sys_elems]\n",
    "liq_elem_comp\n"
   ]
  },
  {
   "cell_type": "markdown",
   "metadata": {},
   "source": [
    "## verify that liquid composition calculated correctly"
   ]
  },
  {
   "cell_type": "code",
   "execution_count": null,
   "metadata": {},
   "outputs": [],
   "source": [
    "elem_diff = liq_elem_comp.T.dot(mol_endmem)-elem_comp\n",
    "elem_diff.abs()<1e-10"
   ]
  },
  {
   "cell_type": "code",
   "execution_count": null,
   "metadata": {},
   "outputs": [],
   "source": []
  },
  {
   "cell_type": "code",
   "execution_count": null,
   "metadata": {},
   "outputs": [],
   "source": [
    "chempot_elems = lin.lstsq(liq_elem_comp, chempot)[0]\n",
    "chempot_elems"
   ]
  },
  {
   "cell_type": "code",
   "execution_count": null,
   "metadata": {},
   "outputs": [],
   "source": [
    "mu = chempot.copy()\n",
    "mu[mol_endmem==0]=0\n",
    "mu"
   ]
  },
  {
   "cell_type": "code",
   "execution_count": null,
   "metadata": {},
   "outputs": [],
   "source": []
  },
  {
   "cell_type": "code",
   "execution_count": null,
   "metadata": {},
   "outputs": [],
   "source": []
  },
  {
   "cell_type": "code",
   "execution_count": null,
   "metadata": {},
   "outputs": [],
   "source": []
  },
  {
   "cell_type": "code",
   "execution_count": null,
   "metadata": {},
   "outputs": [],
   "source": [
    "noise = .3\n",
    "# noise=0"
   ]
  },
  {
   "cell_type": "code",
   "execution_count": null,
   "metadata": {},
   "outputs": [],
   "source": [
    "X_init = mol_endmem*np.exp(noise*np.random.randn(mu.size))\n",
    "X_init[X_init<0] = 0\n",
    "X_init[X_init>1] = 1\n",
    "X_init[mol_endmem==0] = 0"
   ]
  },
  {
   "cell_type": "code",
   "execution_count": null,
   "metadata": {},
   "outputs": [],
   "source": [
    "# X_init /= X_init.sum()"
   ]
  },
  {
   "cell_type": "code",
   "execution_count": null,
   "metadata": {},
   "outputs": [],
   "source": [
    "%%timeit\n",
    "liq.chem_potential(T, P,  mol=X_init).squeeze()"
   ]
  },
  {
   "cell_type": "code",
   "execution_count": null,
   "metadata": {},
   "outputs": [],
   "source": [
    "%%timeit\n",
    "liq.gibbs_energy(T, P,  mol=X_init, deriv={'dmol':1}).squeeze()"
   ]
  },
  {
   "cell_type": "code",
   "execution_count": null,
   "metadata": {},
   "outputs": [],
   "source": []
  },
  {
   "cell_type": "markdown",
   "metadata": {},
   "source": [
    "## Benchmark calc. times\n",
    "- compare legacy algo and new direct algo\n",
    "- compare with hot start"
   ]
  },
  {
   "cell_type": "markdown",
   "metadata": {},
   "source": [
    "### Legacy algorithm\n",
    "- fails to completely converge"
   ]
  },
  {
   "cell_type": "code",
   "execution_count": null,
   "metadata": {},
   "outputs": [],
   "source": [
    "%%timeit\n",
    "A0, X0 = liq.affinity_and_comp_legacy(T, P, mu, debug=False)"
   ]
  },
  {
   "cell_type": "markdown",
   "metadata": {},
   "source": [
    "## Updated Direct Algorithm\n",
    "- converges w/in machine precision\n",
    "- fewer iterations and much faster"
   ]
  },
  {
   "cell_type": "markdown",
   "metadata": {},
   "source": [
    "### Cold-start\n",
    "- converges w/in machine precision\n",
    "- ~30x faster"
   ]
  },
  {
   "cell_type": "code",
   "execution_count": null,
   "metadata": {},
   "outputs": [],
   "source": [
    "converge_method='approx'\n",
    "\n",
    "converge_method='lstsq'\n",
    "#converge_method='direct'\n",
    "site_m = liq.exchange_equil._est_site_mult(T, P)"
   ]
  },
  {
   "cell_type": "code",
   "execution_count": null,
   "metadata": {},
   "outputs": [],
   "source": [
    "%%timeit\n",
    "A, X = liq.affinity_and_comp(T, P, mu, converge_method=converge_method, site_m=site_m)"
   ]
  },
  {
   "cell_type": "markdown",
   "metadata": {},
   "source": [
    "### Warm-start\n",
    "- start w/ noisy initial guess for composition\n",
    "- approx same runtime as cold-start (depending on phase, just a bit faster)\n",
    "- perfect convergence"
   ]
  },
  {
   "cell_type": "code",
   "execution_count": null,
   "metadata": {},
   "outputs": [],
   "source": [
    "%%timeit\n",
    "A, X = liq.affinity_and_comp(T, P, mu, X_init=X_init, converge_method=converge_method, site_m=site_m)"
   ]
  },
  {
   "cell_type": "markdown",
   "metadata": {},
   "source": [
    "### Hot-start\n",
    "- initialized with very good guess\n",
    "- is 2x faster again"
   ]
  },
  {
   "cell_type": "code",
   "execution_count": null,
   "metadata": {},
   "outputs": [],
   "source": [
    "noise = .01\n",
    "# noise=0"
   ]
  },
  {
   "cell_type": "code",
   "execution_count": null,
   "metadata": {},
   "outputs": [],
   "source": [
    "X_init = mol_endmem*np.exp(noise*np.random.randn(mu.size))\n",
    "X_init[X_init<0] = 0\n",
    "X_init[X_init>1] = 1\n",
    "X_init[mol_endmem==0] = 0"
   ]
  },
  {
   "cell_type": "code",
   "execution_count": null,
   "metadata": {},
   "outputs": [],
   "source": [
    "%%timeit\n",
    "A, X = liq.affinity_and_comp(T, P, mu, X_init=X_init, converge_method=converge_method, site_m=site_m)"
   ]
  },
  {
   "cell_type": "markdown",
   "metadata": {},
   "source": [
    "### Perfect start\n",
    "- 3x faster again\n",
    "- only attained currently using perfect initial guess for composition\n",
    "- provides limiting case for speed"
   ]
  },
  {
   "cell_type": "code",
   "execution_count": null,
   "metadata": {},
   "outputs": [],
   "source": [
    "%%timeit\n",
    "A, X = liq.affinity_and_comp(T, P, mu, X_init=mol_endmem, converge_method=converge_method, site_m=site_m)"
   ]
  },
  {
   "cell_type": "code",
   "execution_count": null,
   "metadata": {},
   "outputs": [],
   "source": []
  },
  {
   "cell_type": "code",
   "execution_count": null,
   "metadata": {},
   "outputs": [],
   "source": [
    "%load_ext snakeviz"
   ]
  },
  {
   "cell_type": "code",
   "execution_count": null,
   "metadata": {},
   "outputs": [],
   "source": [
    "%%snakeviz\n",
    "A, X = liq.affinity_and_comp(T, P, mu, converge_method='lstsq', site_m=site_m)"
   ]
  },
  {
   "cell_type": "code",
   "execution_count": null,
   "metadata": {},
   "outputs": [],
   "source": []
  }
 ],
 "metadata": {
  "jupytext": {
   "formats": "ipynb,py:light"
  },
  "kernelspec": {
   "display_name": "Python 3",
   "language": "python",
   "name": "python3"
  },
  "language_info": {
   "codemirror_mode": {
    "name": "ipython",
    "version": 3
   },
   "file_extension": ".py",
   "mimetype": "text/x-python",
   "name": "python",
   "nbconvert_exporter": "python",
   "pygments_lexer": "ipython3",
   "version": "3.8.5"
  }
 },
 "nbformat": 4,
 "nbformat_minor": 4
}
