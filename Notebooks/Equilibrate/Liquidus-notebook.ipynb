{
 "cells": [
  {
   "cell_type": "markdown",
   "metadata": {},
   "source": [
    "# Gibbs free energy potential minimization (T, P)\n",
    "### With rhyolite-MELTS and $\\mu$O<sub>2</sub> constrained using the empirical method of Kress and Carmichael (1991)\n",
    "\n",
    "This notebook demonstates the use of the Equilibrate class in the equilibrate module to perform equilibrium crystallization clculations for the special case of oxygen fugacity constrained using the model of Kress and Carmichael (1991).  This model is applicable to natural composition silicate liquids and is usually applied in conjunction with thermodynamic models published by Ghiorso and Sack (1995) [MELTS], Ghiorso et al., (2003) [pMELTS], Gualda et al. (2012) [rhyolite-MELTS] or Ghiorso and Gualda (2015) [rhyoliteMELTS + CO2].\n",
    "\n",
    "**References:**  \n",
    "\n",
    "Ghiorso, Mark S., and Sack, Richard O. (1995) Chemical Mass Transfer in Magmatic Processes. IV. A Revised and Internally Consistent Thermodynamic Model for the Interpolation and Extrapolation of Liquid-Solid Equilibria in Magmatic Systems at Elevated Temperatures and Pressures. Contributions to Mineralogy and Petrology, 119, 197-212  \n",
    "\n",
    "Ghiorso, Mark S., Hirschmann, Marc M., Reiners, Peter W., and Kress, Victor C. III (2002) The pMELTS: An revision of MELTS aimed at improving calculation of phase relations and major element partitioning involved in partial melting of the mantle at pressures up to 3 GPa. Geochemistry, Geophysics, Geosystems 3(5), 10.1029/2001GC000217  \n",
    "\n",
    "Gualda G.A.R., Ghiorso M.S., Lemons R.V., Carley T.L. (2012) Rhyolite-MELTS: A modified calibration of MELTS optimized for silica-rich, fluid-bearing magmatic systems. Journal of Petrology, 53, 875-890  \n",
    "\n",
    "Ghiorso M.S., Gualda, G.A.R., (2015) An H<sub>2</sub>O-CO<sub>2</sub> mixed fluid saturation model compatible with rhyolite-MELTS. Contributions to Mineralogy and Petrology 2015, doi:10.1007/s00410-015-1141-8  \n",
    "\n",
    "Kress and Carmichael (1991, The compressibility of silicate liquids containing Fe<sub>2</sub>O<sub>3</sub> and the effect of composition, temperature, oxygen fugacity and pressure on their redox states, Contributions to Mineralogy and Petrology 108:82-92\n",
    "\n",
    "**Note** that the method demonstrated in this notebook should ideally be cast into a proper Khorzhinskii potential minimization, as is done for the $\\mu$H<sub>2</sub>O constraint method illustrated in the next notebook. However, the method of Kress and Carmichael (1991) is inconsistent with the thermodynamic models of Ghiorso and others, even though the latter were dependently calibrated on the basis of the former. This inconsistency prevents a minima in the Khorzhinskii potential of a system containing a Ghiorso-like liquid model from reproducing the calibration of Kress and Carmichael. Hence, the empirical method of this notebook is made avaialble for practical application; the method used here mimics the method used in MELTS, etc."
   ]
  },
  {
   "cell_type": "code",
   "execution_count": null,
   "metadata": {},
   "outputs": [],
   "source": [
    "import numpy as np\n",
    "import scipy.optimize as opt\n",
    "import scipy.linalg as lin \n",
    "import sys"
   ]
  },
  {
   "cell_type": "code",
   "execution_count": null,
   "metadata": {},
   "outputs": [],
   "source": [
    "from thermoengine import core, phases, model, equilibrate\n",
    "import warnings\n",
    "warnings.filterwarnings(\"ignore\", category=DeprecationWarning)\n",
    "warnings.filterwarnings(\"ignore\", category=FutureWarning)"
   ]
  },
  {
   "cell_type": "markdown",
   "metadata": {},
   "source": [
    "## Create phases for equilibrium assemblages\n",
    "Minimal rhyolitic phase assemblage"
   ]
  },
  {
   "cell_type": "code",
   "execution_count": null,
   "metadata": {},
   "outputs": [],
   "source": [
    "src_obj = core.get_src_object('EquilibrateUsingMELTSv102')\n",
    "modelDB = model.Database(liq_mod='v1.0')"
   ]
  },
  {
   "cell_type": "code",
   "execution_count": null,
   "metadata": {},
   "outputs": [],
   "source": [
    "Liquid = modelDB.get_phase('Liq')\n",
    "Feldspar = modelDB.get_phase('Fsp')\n",
    "Quartz = modelDB.get_phase('Qz')\n",
    "Spinel = modelDB.get_phase('SplS')\n",
    "Opx = modelDB.get_phase('Opx')\n",
    "RhomOx = modelDB.get_phase('Rhom')"
   ]
  },
  {
   "cell_type": "markdown",
   "metadata": {},
   "source": [
    "The Berman model database provides the SWIM water model by default.  Instead, override that choice by instantiating the MELTS 1.0.2 water model directly."
   ]
  },
  {
   "cell_type": "code",
   "execution_count": null,
   "metadata": {},
   "outputs": [],
   "source": [
    "Water = phases.PurePhase('WaterMelts', 'H2O', calib=False)"
   ]
  },
  {
   "cell_type": "markdown",
   "metadata": {},
   "source": [
    "## Define elements in system and phases in system\n",
    "These 15 elements are required for the silicate liquid model of MELTS (rhyolite-MELTS)"
   ]
  },
  {
   "cell_type": "code",
   "execution_count": null,
   "metadata": {},
   "outputs": [],
   "source": [
    "elm_sys = ['H','O','Na','Mg','Al','Si','P','K','Ca','Ti','Cr','Mn','Fe','Co','Ni']\n",
    "phs_sys = [Liquid, Feldspar, Water, Quartz, Spinel, Opx, RhomOx]"
   ]
  },
  {
   "cell_type": "markdown",
   "metadata": {},
   "source": [
    "## Composition of the system\n",
    "This is a high-silica rhyolite"
   ]
  },
  {
   "cell_type": "code",
   "execution_count": null,
   "metadata": {},
   "outputs": [],
   "source": [
    "grm_oxides = {\n",
    "    'SiO2':  77.5, \n",
    "    'TiO2':   0.08, \n",
    "    'Al2O3': 12.5, \n",
    "    'Fe2O3':  0.207,\n",
    "    'Cr2O3':  0.0, \n",
    "    'FeO':    0.473, \n",
    "    'MnO':    0.0,\n",
    "    'MgO':    0.03, \n",
    "    'NiO':    0.0, \n",
    "    'CoO':    0.0,\n",
    "    'CaO':    0.43, \n",
    "    'Na2O':   3.98, \n",
    "    'K2O':    4.88, \n",
    "    'P2O5':   0.0, \n",
    "    'H2O':    5.5\n",
    "}\n",
    "tot_grm_oxides = 0.0\n",
    "for key in grm_oxides.keys():\n",
    "    tot_grm_oxides += grm_oxides[key]"
   ]
  },
  {
   "cell_type": "markdown",
   "metadata": {},
   "source": [
    "Cast this composition as moles of elements for input to the Equilibrate class"
   ]
  },
  {
   "cell_type": "code",
   "execution_count": null,
   "metadata": {},
   "outputs": [],
   "source": [
    "mol_oxides = core.chem.format_mol_oxide_comp(grm_oxides, convert_grams_to_moles=True)\n",
    "moles_end,oxide_res = Liquid.calc_endmember_comp(\n",
    "    mol_oxide_comp=mol_oxides, method='intrinsic', output_residual=True)\n",
    "if not Liquid.test_endmember_comp(moles_end):\n",
    "    print (\"Calculated composition is infeasible!\")\n",
    "mol_elm = Liquid.covert_endmember_comp(moles_end,output='moles_elements')"
   ]
  },
  {
   "cell_type": "code",
   "execution_count": null,
   "metadata": {},
   "outputs": [],
   "source": [
    "blk_cmp = []\n",
    "for elm in elm_sys:\n",
    "    index = core.chem.PERIODIC_ORDER.tolist().index(elm)\n",
    "    blk_cmp.append(mol_elm[index])\n",
    "blk_cmp = np.array(blk_cmp)"
   ]
  },
  {
   "cell_type": "code",
   "execution_count": null,
   "metadata": {},
   "outputs": [],
   "source": [
    "blk_cmp"
   ]
  },
  {
   "cell_type": "markdown",
   "metadata": {},
   "source": [
    "# Run the calculation"
   ]
  },
  {
   "cell_type": "code",
   "execution_count": null,
   "metadata": {},
   "outputs": [],
   "source": [
    "equil = equilibrate.Equilibrate(elm_sys, phs_sys)"
   ]
  },
  {
   "cell_type": "markdown",
   "metadata": {},
   "source": [
    "Uncomment here and in the next cell to generate a call graph that traces execution times by method and module "
   ]
  },
  {
   "cell_type": "code",
   "execution_count": null,
   "metadata": {},
   "outputs": [],
   "source": [
    "t = 1033.5\n",
    "p = 1750\n",
    "NNO_offset = 0.0\n",
    "state = equil.execute(t, p, bulk_comp=blk_cmp, con_deltaNNO=NNO_offset, debug=0, stats=False)\n",
    "state.print_state()"
   ]
  },
  {
   "cell_type": "code",
   "execution_count": null,
   "metadata": {},
   "outputs": [],
   "source": [
    "Quartz.props['element_comp']"
   ]
  },
  {
   "cell_type": "code",
   "execution_count": null,
   "metadata": {},
   "outputs": [],
   "source": [
    "elmLiqMat = Liquid.props['element_comp']\n",
    "idx = np.argwhere(np.all(elmLiqMat[..., :] == 0, axis=0))\n",
    "conLiqMat = np.linalg.inv(np.delete(elmLiqMat, idx, axis=1))\n",
    "conLiqMat[np.abs(conLiqMat) < np.finfo(np.float).eps] = 0\n",
    "conPhs_d = {}\n",
    "for phs in [Quartz, Feldspar, Spinel, Opx, RhomOx]:\n",
    "    name = phs.props['phase_name']\n",
    "    elmPhsMat = phs.props['element_comp']\n",
    "    elmPhsMat = (np.delete(elmPhsMat, idx, axis=1))\n",
    "    conPhsMat = np.matmul(elmPhsMat, conLiqMat)\n",
    "    conPhsMat[np.abs(conPhsMat) < 100*np.finfo(np.float).eps] = 0\n",
    "    conPhs_d[name] = conPhsMat"
   ]
  },
  {
   "cell_type": "code",
   "execution_count": null,
   "metadata": {},
   "outputs": [],
   "source": [
    "for key,val in conPhs_d.items():\n",
    "    for x in val:\n",
    "        print ('{0:<15.15s}'.format(key), end=' = ')\n",
    "        for indx,y in enumerate(x):\n",
    "            if y != 0.0:\n",
    "                print (' {0:+6.3f} {1:<10.10s}'.format(y, Liquid.props['endmember_name'][indx]), end=' ')\n",
    "        print ()"
   ]
  },
  {
   "cell_type": "code",
   "execution_count": null,
   "metadata": {},
   "outputs": [],
   "source": [
    "muLiq = state.dGdn(t=t, p=p, element_basis=False)[:,0]\n",
    "mLiq  = state.compositions(phase_name='Liquid')\n",
    "phase_name = Quartz.props['phase_name']\n",
    "assert phase_name in conPhs_d, phase_name+\" is not in conPhs_d\"\n",
    "muPhase = []\n",
    "conPhsMat = conPhs_d[phase_name]\n",
    "for i in range(0,conPhsMat.shape[0]):\n",
    "    sum = 0.0\n",
    "    for j in range (0,conPhsMat.shape[1]):\n",
    "        if conPhsMat[i,j] != 0 and mLiq[j] == 0:\n",
    "            sum = 0.0\n",
    "            break\n",
    "        sum += conPhsMat[i,j]*muLiq[j]\n",
    "    muPhase.append(sum)\n",
    "muPhase = np.array(muPhase)\n",
    "result = Quartz.affinity_and_comp(t, p, muPhase, method='special')"
   ]
  },
  {
   "cell_type": "code",
   "execution_count": null,
   "metadata": {},
   "outputs": [],
   "source": [
    "t = 1050\n",
    "p = 1750\n",
    "NNO_offset = 0.0\n",
    "equil = equilibrate.Equilibrate(elm_sys, [Liquid, Water])\n",
    "state = None\n",
    "def saturation_curve(t, p, blk_cmp, NNO_offset, phs):\n",
    "    global state, equil, conPhs_d\n",
    "    if state is None:\n",
    "        state = equil.execute(t, p, bulk_comp=blk_cmp, con_deltaNNO=NNO_offset, debug=0, stats=False)\n",
    "    else:\n",
    "        state = equil.execute(t, p, state=state, con_deltaNNO=NNO_offset, debug=0, stats=False)\n",
    "    muLiq = state.dGdn(t=t, p=p, element_basis=False)[:,0]\n",
    "    mLiq  = state.compositions(phase_name='Liquid')\n",
    "    phase_name = phs.props['phase_name']\n",
    "    assert phase_name in conPhs_d, phase_name+\" is not in conPhs_d\"\n",
    "    muPhase = []\n",
    "    conPhsMat = conPhs_d[phase_name]\n",
    "    for i in range(0,conPhsMat.shape[0]):\n",
    "        sum = 0.0\n",
    "        for j in range (0,conPhsMat.shape[1]):\n",
    "            if conPhsMat[i,j] != 0 and mLiq[j] == 0:\n",
    "                sum = 0.0\n",
    "                break\n",
    "            sum += conPhsMat[i,j]*muLiq[j]\n",
    "        muPhase.append(sum)\n",
    "    muPhase = np.array(muPhase)\n",
    "    result = phs.affinity_and_comp(t, p, muPhase, method='special')\n",
    "    return result[0] "
   ]
  },
  {
   "cell_type": "code",
   "execution_count": null,
   "metadata": {},
   "outputs": [],
   "source": [
    "saturation_curve(t, p, blk_cmp, NNO_offset, Quartz)"
   ]
  },
  {
   "cell_type": "code",
   "execution_count": null,
   "metadata": {},
   "outputs": [],
   "source": [
    "p = 1765\n",
    "for ic,phs in enumerate([Quartz, Feldspar, Spinel, Opx, RhomOx]): \n",
    "    tk = t\n",
    "    state = None\n",
    "    result = opt.root_scalar(saturation_curve, \n",
    "                             bracket=(900,1100), \n",
    "                             x0=tk, x1=tk-25, \n",
    "                             xtol=.1, \n",
    "                             args=(p, blk_cmp, NNO_offset, phs), \n",
    "                             method='secant')\n",
    "    tk = result.root\n",
    "    print ('Liquidus for {0:<20.20s} is at {1:6.1f} °C at {2:8.1f} MPa'.format(phs.props['phase_name'], tk-273.15, p/10.))"
   ]
  },
  {
   "cell_type": "code",
   "execution_count": null,
   "metadata": {},
   "outputs": [],
   "source": []
  }
 ],
 "metadata": {
  "anaconda-cloud": {},
  "kernelspec": {
   "display_name": "Python 3 (ipykernel)",
   "language": "python",
   "name": "python3"
  },
  "language_info": {
   "codemirror_mode": {
    "name": "ipython",
    "version": 3
   },
   "file_extension": ".py",
   "mimetype": "text/x-python",
   "name": "python",
   "nbconvert_exporter": "python",
   "pygments_lexer": "ipython3",
   "version": "3.9.7"
  }
 },
 "nbformat": 4,
 "nbformat_minor": 4
}
