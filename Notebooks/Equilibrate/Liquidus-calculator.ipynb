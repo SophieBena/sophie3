{
 "cells": [
  {
   "cell_type": "markdown",
   "metadata": {},
   "source": [
    "# Gibbs energy minimization (fixed T, P, bulk composition)\n",
    "Closed system; crystallization of a rhyolitic liquid using rhyolite-MELTS"
   ]
  },
  {
   "cell_type": "code",
   "execution_count": null,
   "metadata": {},
   "outputs": [],
   "source": [
    "import numpy as np\n",
    "import scipy.optimize as opt\n",
    "import scipy.linalg as lin \n",
    "import sys"
   ]
  },
  {
   "cell_type": "code",
   "execution_count": null,
   "metadata": {},
   "outputs": [],
   "source": [
    "from thermoengine import core, phases, model, equilibrate\n",
    "import warnings\n",
    "warnings.filterwarnings(\"ignore\", category=DeprecationWarning)\n",
    "warnings.filterwarnings(\"ignore\", category=FutureWarning)"
   ]
  },
  {
   "cell_type": "markdown",
   "metadata": {},
   "source": [
    "## Create phases for equilibrium assemblages"
   ]
  },
  {
   "cell_type": "code",
   "execution_count": null,
   "metadata": {},
   "outputs": [],
   "source": [
    "src_obj = core.get_src_object('EquilibrateUsingMELTSv102')\n",
    "modelDB = model.Database(liq_mod='v1.0')"
   ]
  },
  {
   "cell_type": "code",
   "execution_count": null,
   "metadata": {},
   "outputs": [],
   "source": [
    "Liquid = modelDB.get_phase('Liq')\n",
    "Feldspar = modelDB.get_phase('Fsp')\n",
    "Quartz = modelDB.get_phase('Qz')\n",
    "Spinel = modelDB.get_phase('SplS')\n",
    "Opx = modelDB.get_phase('Opx')\n",
    "RhomOx = modelDB.get_phase('Rhom')"
   ]
  },
  {
   "cell_type": "markdown",
   "metadata": {},
   "source": [
    "The Berman model database provides the SWIM water model by default.  Instead, override that choice by instantiating the MELTS 1.0.2 water model directly."
   ]
  },
  {
   "cell_type": "code",
   "execution_count": null,
   "metadata": {},
   "outputs": [],
   "source": [
    "Water = phases.PurePhase('WaterMelts', 'H2O', calib=False)"
   ]
  },
  {
   "cell_type": "markdown",
   "metadata": {},
   "source": [
    "## Define elements in system and phases in system"
   ]
  },
  {
   "cell_type": "code",
   "execution_count": null,
   "metadata": {},
   "outputs": [],
   "source": [
    "elm_sys = ['H','O','Na','Mg','Al','Si','P','K','Ca','Ti','Cr','Mn','Fe','Co','Ni']\n",
    "phs_sys = [Liquid, Feldspar, Water, Quartz, Spinel, Opx, RhomOx]"
   ]
  },
  {
   "cell_type": "markdown",
   "metadata": {},
   "source": [
    "## Composition of the system\n",
    "This is a high-silica rhyolite"
   ]
  },
  {
   "cell_type": "code",
   "execution_count": null,
   "metadata": {},
   "outputs": [],
   "source": [
    "grm_oxides = {\n",
    "    'SiO2':  77.5, \n",
    "    'TiO2':   0.08, \n",
    "    'Al2O3': 12.5, \n",
    "    'Fe2O3':  0.207,\n",
    "    'Cr2O3':  0.0, \n",
    "    'FeO':    0.473, \n",
    "    'MnO':    0.0,\n",
    "    'MgO':    0.03, \n",
    "    'NiO':    0.0, \n",
    "    'CoO':    0.0,\n",
    "    'CaO':    0.43, \n",
    "    'Na2O':   3.98, \n",
    "    'K2O':    4.88, \n",
    "    'P2O5':   0.0, \n",
    "    'H2O':    5.5\n",
    "}"
   ]
  },
  {
   "cell_type": "markdown",
   "metadata": {},
   "source": [
    "Cast this composition as moles of elements for input to the Equilibrate class"
   ]
  },
  {
   "cell_type": "code",
   "execution_count": null,
   "metadata": {},
   "outputs": [],
   "source": [
    "mol_oxides = core.chem.format_mol_oxide_comp(grm_oxides, convert_grams_to_moles=True)\n",
    "moles_end,oxide_res = Liquid.calc_endmember_comp(\n",
    "    mol_oxide_comp=mol_oxides, method='intrinsic', output_residual=True)\n",
    "if not Liquid.test_endmember_comp(moles_end):\n",
    "    print (\"Calculated composition is infeasible!\")\n",
    "mol_elm = Liquid.covert_endmember_comp(moles_end,output='moles_elements')"
   ]
  },
  {
   "cell_type": "code",
   "execution_count": null,
   "metadata": {},
   "outputs": [],
   "source": [
    "blk_cmp = []\n",
    "for elm in elm_sys:\n",
    "    index = core.chem.PERIODIC_ORDER.tolist().index(elm)\n",
    "    blk_cmp.append(mol_elm[index])\n",
    "blk_cmp = np.array(blk_cmp)"
   ]
  },
  {
   "cell_type": "markdown",
   "metadata": {},
   "source": [
    "## Instantiate class instance and run calculation"
   ]
  },
  {
   "cell_type": "code",
   "execution_count": null,
   "metadata": {},
   "outputs": [],
   "source": [
    "elmLiqMat = Liquid.props['element_comp']\n",
    "idx = np.argwhere(np.all(elmLiqMat[..., :] == 0, axis=0))\n",
    "conLiqMat = np.linalg.inv(np.delete(elmLiqMat, idx, axis=1))\n",
    "conLiqMat[np.abs(conLiqMat) < np.finfo(np.float).eps] = 0\n",
    "conPhs_d = {}\n",
    "for phs in [Quartz, Feldspar, Spinel, Opx, RhomOx]:\n",
    "    name = phs.props['phase_name']\n",
    "    elmPhsMat = phs.props['element_comp']\n",
    "    elmPhsMat = (np.delete(elmPhsMat, idx, axis=1))\n",
    "    conPhsMat = np.matmul(elmPhsMat, conLiqMat)\n",
    "    conPhsMat[np.abs(conPhsMat) < 100*np.finfo(np.float).eps] = 0\n",
    "    conPhs_d[name] = conPhsMat"
   ]
  },
  {
   "cell_type": "code",
   "execution_count": null,
   "metadata": {},
   "outputs": [],
   "source": [
    "for key,val in conPhs_d.items():\n",
    "    for x in val:\n",
    "        print ('{0:<15.15s}'.format(key), end=' = ')\n",
    "        for indx,y in enumerate(x):\n",
    "            if y != 0.0:\n",
    "                print (' {0:+6.3f} {1:<10.10s}'.format(y, Liquid.props['endmember_name'][indx]), end=' ')\n",
    "        print ()"
   ]
  },
  {
   "cell_type": "code",
   "execution_count": null,
   "metadata": {},
   "outputs": [],
   "source": [
    "def saturation_curve(t, p, blk_cmp, NNO_offset, phs):\n",
    "    global state, equil, conPhs_d\n",
    "    if state is None:\n",
    "        state = equil.execute(t, p, bulk_comp=blk_cmp, con_deltaNNO=NNO_offset, debug=0, stats=False)\n",
    "    else:\n",
    "        state = equil.execute(t, p, state=state, con_deltaNNO=NNO_offset, debug=0, stats=False)\n",
    "    muLiq = state.dGdn(t=t, p=p, element_basis=False)[:,0]\n",
    "    mLiq  = state.compositions(phase_name='Liquid')\n",
    "    phase_name = phs.props['phase_name']\n",
    "    assert phase_name in conPhs_d, phase_name+\" is not in conPhs_d\"\n",
    "    muPhase = []\n",
    "    conPhsMat = conPhs_d[phase_name]\n",
    "    for i in range(0,conPhsMat.shape[0]):\n",
    "        sum = 0.0\n",
    "        for j in range (0,conPhsMat.shape[1]):\n",
    "            if conPhsMat[i,j] != 0 and mLiq[j] == 0:\n",
    "                sum = 0.0\n",
    "                break\n",
    "            sum += conPhsMat[i,j]*muLiq[j]\n",
    "        muPhase.append(sum)\n",
    "    muPhase = np.array(muPhase)\n",
    "    result = phs.affinity_and_comp(t, p, muPhase, method='special')\n",
    "    return result[0] "
   ]
  },
  {
   "cell_type": "code",
   "execution_count": null,
   "metadata": {},
   "outputs": [],
   "source": [
    "t = 1050\n",
    "p = 1750\n",
    "NNO_offset = 0.0\n",
    "equil = equilibrate.Equilibrate(elm_sys, [Liquid, Water])\n",
    "for ic,phs in enumerate([Quartz, Feldspar, Spinel, Opx, RhomOx]): \n",
    "    tk = t\n",
    "    state = None\n",
    "    result = opt.root_scalar(saturation_curve, \n",
    "                             bracket=(900,1100), \n",
    "                             x0=tk, x1=tk-25, \n",
    "                             xtol=.1, \n",
    "                             args=(p, blk_cmp, NNO_offset, phs), \n",
    "                             method='secant')\n",
    "    tk = result.root\n",
    "    print ('Liquidus for {0:<20.20s} is at {1:6.1f} °C at {2:8.1f} MPa'.format(phs.props['phase_name'], tk-273.15, p/10.))"
   ]
  },
  {
   "cell_type": "code",
   "execution_count": null,
   "metadata": {},
   "outputs": [],
   "source": []
  }
 ],
 "metadata": {
  "anaconda-cloud": {},
  "kernelspec": {
   "display_name": "Python 3 (ipykernel)",
   "language": "python",
   "name": "python3"
  },
  "language_info": {
   "codemirror_mode": {
    "name": "ipython",
    "version": 3
   },
   "file_extension": ".py",
   "mimetype": "text/x-python",
   "name": "python",
   "nbconvert_exporter": "python",
   "pygments_lexer": "ipython3",
   "version": "3.9.7"
  }
 },
 "nbformat": 4,
 "nbformat_minor": 4
}
