{
 "cells": [
  {
   "cell_type": "markdown",
   "metadata": {},
   "source": [
    "# Korzhinskii potential minimization (T, P, $\\mu$O<sub>2</sub> constrained)"
   ]
  },
  {
   "cell_type": "code",
   "execution_count": null,
   "metadata": {},
   "outputs": [],
   "source": [
    "import numpy as np\n",
    "import scipy.optimize as opt\n",
    "import scipy.linalg as lin \n",
    "import sys"
   ]
  },
  {
   "cell_type": "code",
   "execution_count": null,
   "metadata": {},
   "outputs": [],
   "source": [
    "from thermoengine import core, phases, model, equilibrate"
   ]
  },
  {
   "cell_type": "code",
   "execution_count": null,
   "metadata": {},
   "outputs": [],
   "source": [
    "np.set_printoptions(linewidth=200, precision=1)"
   ]
  },
  {
   "cell_type": "markdown",
   "metadata": {},
   "source": [
    "## Create phases for equilibrium assemblages"
   ]
  },
  {
   "cell_type": "code",
   "execution_count": null,
   "metadata": {},
   "outputs": [],
   "source": [
    "modelDB = model.Database(liq_mod='v1.0')"
   ]
  },
  {
   "cell_type": "code",
   "execution_count": null,
   "metadata": {},
   "outputs": [],
   "source": [
    "Liquid = modelDB.get_phase('Liq')\n",
    "Feldspar = modelDB.get_phase('Fsp')\n",
    "Quartz = modelDB.get_phase('Qz')"
   ]
  },
  {
   "cell_type": "markdown",
   "metadata": {},
   "source": [
    "The Berman model database provides the SWIM water model by default.  Instead, override that choice by instantiating the MELTS 1.0.2 water model directly."
   ]
  },
  {
   "cell_type": "code",
   "execution_count": null,
   "metadata": {},
   "outputs": [],
   "source": [
    "Water = phases.PurePhase('WaterMelts', 'H2O', calib=False)"
   ]
  },
  {
   "cell_type": "markdown",
   "metadata": {},
   "source": [
    "## Define elements in system and phases in system"
   ]
  },
  {
   "cell_type": "code",
   "execution_count": null,
   "metadata": {},
   "outputs": [],
   "source": [
    "elm_sys = ['H','O','Na','Mg','Al','Si','P','K','Ca','Ti','Cr','Mn','Fe','Co','Ni']\n",
    "#phs_sys = [Liquid, Feldspar, Water, Quartz]\n",
    "phs_sys = [Liquid]"
   ]
  },
  {
   "cell_type": "markdown",
   "metadata": {},
   "source": [
    "## Composition of the system\n",
    "This is a high-silica rhyolite"
   ]
  },
  {
   "cell_type": "code",
   "execution_count": null,
   "metadata": {},
   "outputs": [],
   "source": [
    "grm_oxides = {\n",
    "    'SiO2':  77.5, \n",
    "    'TiO2':   0.08, \n",
    "    'Al2O3': 12.5, \n",
    "    'Fe2O3':  0.207,\n",
    "    'Cr2O3':  0.0, \n",
    "    'FeO':    0.473, \n",
    "    'MnO':    0.0,\n",
    "    'MgO':    0.03, \n",
    "    'NiO':    0.0, \n",
    "    'CoO':    0.0,\n",
    "    'CaO':    0.43, \n",
    "    'Na2O':   3.98, \n",
    "    'K2O':    4.88, \n",
    "    'P2O5':   0.0, \n",
    "    'H2O':    5.5\n",
    "}\n",
    "tot_grm_oxides = 0.0\n",
    "for key in grm_oxides.keys():\n",
    "    tot_grm_oxides += grm_oxides[key]"
   ]
  },
  {
   "cell_type": "markdown",
   "metadata": {},
   "source": [
    "Cast this composition as moles of elements for input to the Equilibrate class"
   ]
  },
  {
   "cell_type": "code",
   "execution_count": null,
   "metadata": {},
   "outputs": [],
   "source": [
    "mol_oxides = core.chem.format_mol_oxide_comp(grm_oxides, convert_grams_to_moles=True)\n",
    "moles_end,oxide_res = Liquid.calc_endmember_comp(\n",
    "    mol_oxide_comp=mol_oxides, method='intrinsic', output_residual=True)\n",
    "if not Liquid.test_endmember_comp(moles_end):\n",
    "    print (\"Calculated composition is infeasible!\")\n",
    "mol_elm = Liquid.covert_endmember_comp(moles_end,output='moles_elements')"
   ]
  },
  {
   "cell_type": "code",
   "execution_count": null,
   "metadata": {},
   "outputs": [],
   "source": [
    "blk_cmp = []\n",
    "for elm in elm_sys:\n",
    "    index = core.chem.PERIODIC_ORDER.tolist().index(elm)\n",
    "    blk_cmp.append(mol_elm[index])\n",
    "blk_cmp = np.array(blk_cmp)"
   ]
  },
  {
   "cell_type": "markdown",
   "metadata": {},
   "source": [
    "## Function to constrain the chemical potential of O<sub>2</sub>"
   ]
  },
  {
   "cell_type": "code",
   "execution_count": null,
   "metadata": {},
   "outputs": [],
   "source": [
    "def mu0O2(t, p):\n",
    "    tr = 298.15\n",
    "    hs = 23.10248*(t-tr) + 2.0*804.8876*(np.sqrt(t)-np.sqrt(tr)) - 1762835.0*(1.0/t-1.0/tr) \\\n",
    "       - 18172.91960*np.log(t/tr) + 0.5*0.002676*(t*t-tr*tr)\n",
    "    ss = 205.15 + 23.10248*np.log(t/tr)  - 2.0*804.8876*(1.0/np.sqrt(t)-1.0/np.sqrt(tr)) \\\n",
    "       - 0.5*1762835.0*(1.0/(t*t)-1.0/(tr*tr)) + 18172.91960*(1.0/t-1.0/tr) + 0.002676*(t-tr)\n",
    "    return hs - t*ss\n",
    "def log10NNO(t, p):\n",
    "    return -25018.7/t + 12.981 + 0.046*(p-1.0)/t - 0.5117*np.log(t)\n",
    "def muNNO(t, p, delta=0.0):\n",
    "    return 8.3144598*t*np.log(10.0)*(log10NNO(t, p) + delta)"
   ]
  },
  {
   "cell_type": "code",
   "execution_count": null,
   "metadata": {},
   "outputs": [],
   "source": [
    "def kc_ferric_ferrous(t, p, m, mtype='components', compute='logfO2', deltaNNO=0.0):\n",
    "    assert isinstance(m, np.ndarray), 'm must be an numpy array of length 15'\n",
    "    assert m.size == 15, 'm must be a 1-d numpy array of length 15'\n",
    "    assert mtype == 'components', 'the value of mtype must be \"components\"'\n",
    "    assert compute == 'logfO2' or compute == 'chem_pot' or compute == 'oxides', \\\n",
    "    'the value of compute must be \"logfO2\" or \"chem_pot\" or \"oxides\"'\n",
    "    t0 = 1673.15\n",
    "    a =    0.196\n",
    "    b =    1.1492e4\n",
    "    c =   -6.675\n",
    "    e =   -3.364\n",
    "    f =   -7.01e-7  * 1.0e5\n",
    "    g =   -1.54e-10 * 1.0e5\n",
    "    h =    3.85e-17 * 1.0e5 * 1.0e5\n",
    "    d = np.array([0, 0, -2.243, 0, 0, -1.828, 0, 0, 0, 0, 3.201, 5.854, 6.215, 0, 0])\n",
    "    # 'SiO2', 'TiO2', 'Al2O3', 'Fe2O3', 'MgCr2O4', 'Fe2SiO4', 'MnSi0.5O2', 'Mg2SiO4', \n",
    "    # 'NiSi0.5O2', 'CoSi0.5O2', 'CaSiO3', 'Na2SiO3', 'KAlSiO4', 'Ca3(PO4)2', 'H2O'\n",
    "    ox = np.array([m[0]+m[5]+m[6]/2.+m[7]+m[8]/2.+m[9]/2.+m[10]+m[11]+m[12], # SiO2\n",
    "                   m[1],            # TiO2\n",
    "                   m[2]+m[12]/2.,   # Al2O3\n",
    "                   m[3],            # Fe2O3\n",
    "                   m[4],            # Cr2O3\n",
    "                   m[5]*2.,         # FeO\n",
    "                   m[6],            # MnO\n",
    "                   m[4]+m[7]*2.0,   # MgO\n",
    "                   m[8],            # NiO\n",
    "                   m[9],            # CoO\n",
    "                   m[10]+m[13]*3.,  # CaO\n",
    "                   m[11],           # Na2O\n",
    "                   m[12]/2.,        # K2O\n",
    "                   m[13],           # P2O5\n",
    "                   m[14]            # H2O\n",
    "                  ])\n",
    "    tot = np.sum(ox) + m[3]\n",
    "    if (m[3] == 0.0 and m[5] == 0.0) or (tot == 0.0):\n",
    "        return 0.0\n",
    "    if compute == 'logfO2' or compute == 'chem_pot':\n",
    "        temp  = b/t + c + e*(1.0-t0/t - np.log(t/t0)) + f*p/t + g*(t-t0)*p/t + h*p*p/t\n",
    "        temp += (np.dot(ox, d) + 2.0*d[5]*ox[3] - d[3]*ox[3])/tot\n",
    "        logfo2 = (np.log(ox[3]/ox[5]) - temp)/(a*np.log(10.0))\n",
    "        return logfo2 if compute == 'logfO2' else 8.3144598*t*np.log(10.0)*logfo2\n",
    "    elif compute == 'oxides':\n",
    "        ox[5] += 2.0*ox[3]\n",
    "        ox[3] = 0.0\n",
    "        logfO2 = log10NNO(t, p) + deltaNNO\n",
    "        temp = a*np.log(10.0)*logfO2 + b/t + c + e*(1.0-t0/t - np.log(t/t0)) \\\n",
    "             + f*p/t + g*(t-t0)*p/t + h*p*p/t\n",
    "        temp += np.dot(ox, d)/tot\n",
    "        temp = np.exp(temp)\n",
    "        ox[3]  = temp*ox[5]/(1.0 + 2.0*temp)\n",
    "        ox[5] -= 2.0*ox[3]\n",
    "        return ox\n",
    "    else:\n",
    "        return 0.0"
   ]
  },
  {
   "cell_type": "code",
   "execution_count": null,
   "metadata": {},
   "outputs": [],
   "source": [
    "t = 1050.0\n",
    "p = 1750.0"
   ]
  },
  {
   "cell_type": "code",
   "execution_count": null,
   "metadata": {},
   "outputs": [],
   "source": [
    "mu = Liquid.chem_potential(t,p,mol=moles_end)[0]\n",
    "mu_SiO2    = mu[0]\n",
    "mu_Fe2O3   = mu[3]\n",
    "mu_Fe2SiO4 = mu[5]\n",
    "print ('log fO2 (delta NNO)', kc_ferric_ferrous(t, p, moles_end) - (-25018.7/t + 12.981 + 0.046*(p-1.0)/t - 0.5117*np.log(t)))\n",
    "print ('mu O2 MELTS', 2.0*mu_Fe2O3 + 2.0*mu_SiO2 - 2.0*mu_Fe2SiO4 - mu0O2(t,p), 'mu NNO', muNNO(t,p), 'mu O2 KC', \n",
    "      kc_ferric_ferrous(t, p, moles_end, compute='chem_pot'))\n",
    "com = kc_ferric_ferrous(t, p, moles_end, compute='oxides', deltaNNO=0.0)\n",
    "print ('Input Fe2O3', mol_oxides[3]*core.chem.oxide_props['molwt'][3]*100/tot_grm_oxides)\n",
    "print ('Input FeO  ', mol_oxides[5]*core.chem.oxide_props['molwt'][5]*100/tot_grm_oxides)\n",
    "print ('Comp  Fe2O3', com[3]*core.chem.oxide_props['molwt'][3]*100/tot_grm_oxides)\n",
    "print ('Comp  FeO  ', com[5]*core.chem.oxide_props['molwt'][5]*100/tot_grm_oxides)"
   ]
  },
  {
   "cell_type": "markdown",
   "metadata": {},
   "source": [
    "## Instantiate class instance and run calculation"
   ]
  },
  {
   "cell_type": "code",
   "execution_count": null,
   "metadata": {},
   "outputs": [],
   "source": [
    "def muO2(t, p, state):\n",
    "    global NNO_offset\n",
    "    global muO2_debug\n",
    "    moles = state.phase_d['Liquid']['moles']\n",
    "    mu = state.phase_d['Liquid']['obj'].chem_potential(t,p,mol=moles)[0]\n",
    "    muO2 = 2.0*mu[3] + 2.0*mu[0] - 2.0*mu[5]\n",
    "    muO2ex = muNNO(t,p, delta=NNO_offset)\n",
    "    muO2kc = kc_ferric_ferrous(t, p, moles, compute='chem_pot')\n",
    "    if muO2_debug:\n",
    "        print ('cur muO2', muO2, 'imp muO2', muO2ex, 'kc muO2', muO2kc, 'err muO2', muO2ex-muO2kc)\n",
    "    return muO2 - (muO2ex-muO2kc) "
   ]
  },
  {
   "cell_type": "code",
   "execution_count": null,
   "metadata": {},
   "outputs": [],
   "source": [
    "equil = equilibrate.Equilibrate(elm_sys, phs_sys, lagrange_l=[({'O':2.0},muO2)])"
   ]
  },
  {
   "cell_type": "code",
   "execution_count": null,
   "metadata": {},
   "outputs": [],
   "source": [
    "t = 1050.0\n",
    "p = 1750.0\n",
    "NNO_offset = 0.0\n",
    "muO2_debug = True\n",
    "state = equil.execute(t, p, bulk_comp=blk_cmp, debug=0)\n",
    "state.print_state()"
   ]
  },
  {
   "cell_type": "code",
   "execution_count": null,
   "metadata": {},
   "outputs": [],
   "source": [
    "moles = state.phase_d['Liquid']['moles']\n",
    "com = kc_ferric_ferrous(t, p, moles, compute='oxides', deltaNNO=NNO_offset)\n",
    "oxides = state.oxide_comp('Liquid')\n",
    "print ('Input Fe2O3', mol_oxides[3]*core.chem.oxide_props['molwt'][3]*100/tot_grm_oxides)\n",
    "print ('Input FeO  ', mol_oxides[5]*core.chem.oxide_props['molwt'][5]*100/tot_grm_oxides)\n",
    "print ('Comp  Fe2O3', oxides['Fe2O3'])\n",
    "print ('Comp  FeO  ', oxides['FeO'])\n",
    "print ('kc    Fe2O3', com[3]*core.chem.oxide_props['molwt'][3]*100/tot_grm_oxides)\n",
    "print ('kc    FeO  ', com[5]*core.chem.oxide_props['molwt'][5]*100/tot_grm_oxides)"
   ]
  },
  {
   "cell_type": "markdown",
   "metadata": {},
   "source": [
    "Pickup runs use previously computed state"
   ]
  },
  {
   "cell_type": "code",
   "execution_count": null,
   "metadata": {},
   "outputs": [],
   "source": [
    "state = equil.execute(t-10.0, p, state=state, debug=0)\n",
    "state.print_state()"
   ]
  },
  {
   "cell_type": "code",
   "execution_count": null,
   "metadata": {},
   "outputs": [],
   "source": [
    "moles = state.phase_d['Liquid']['moles']\n",
    "com = kc_ferric_ferrous(t-10.0, p, moles, compute='oxides', deltaNNO=NNO_offset)\n",
    "oxides = state.oxide_comp('Liquid')\n",
    "print ('Input Fe2O3', mol_oxides[3]*core.chem.oxide_props['molwt'][3]*100/tot_grm_oxides)\n",
    "print ('Input FeO  ', mol_oxides[5]*core.chem.oxide_props['molwt'][5]*100/tot_grm_oxides)\n",
    "print ('Comp  Fe2O3', oxides['Fe2O3'])\n",
    "print ('Comp  FeO  ', oxides['FeO'])\n",
    "print ('kc    Fe2O3', com[3]*core.chem.oxide_props['molwt'][3]*100/tot_grm_oxides)\n",
    "print ('kc    FeO  ', com[5]*core.chem.oxide_props['molwt'][5]*100/tot_grm_oxides)"
   ]
  },
  {
   "cell_type": "code",
   "execution_count": null,
   "metadata": {},
   "outputs": [],
   "source": [
    "state = equil.execute(t-100.0, p, state=state, debug=0)\n",
    "state.print_state()"
   ]
  },
  {
   "cell_type": "code",
   "execution_count": null,
   "metadata": {},
   "outputs": [],
   "source": [
    "moles = state.phase_d['Liquid']['moles']\n",
    "com = kc_ferric_ferrous(t-100.0, p, moles, compute='oxides', deltaNNO=NNO_offset)\n",
    "oxides = state.oxide_comp('Liquid')\n",
    "print ('Input Fe2O3', mol_oxides[3]*core.chem.oxide_props['molwt'][3]*100/tot_grm_oxides)\n",
    "print ('Input FeO  ', mol_oxides[5]*core.chem.oxide_props['molwt'][5]*100/tot_grm_oxides)\n",
    "print ('Comp  Fe2O3', oxides['Fe2O3'])\n",
    "print ('Comp  FeO  ', oxides['FeO'])\n",
    "print ('kc    Fe2O3', com[3]*core.chem.oxide_props['molwt'][3]*100/tot_grm_oxides)\n",
    "print ('kc    FeO  ', com[5]*core.chem.oxide_props['molwt'][5]*100/tot_grm_oxides)"
   ]
  },
  {
   "cell_type": "code",
   "execution_count": null,
   "metadata": {},
   "outputs": [],
   "source": []
  }
 ],
 "metadata": {
  "anaconda-cloud": {},
  "kernelspec": {
   "display_name": "Python 3",
   "language": "python",
   "name": "python3"
  },
  "language_info": {
   "codemirror_mode": {
    "name": "ipython",
    "version": 3
   },
   "file_extension": ".py",
   "mimetype": "text/x-python",
   "name": "python",
   "nbconvert_exporter": "python",
   "pygments_lexer": "ipython3",
   "version": "3.7.6"
  }
 },
 "nbformat": 4,
 "nbformat_minor": 4
}
