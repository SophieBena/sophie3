{
 "cells": [
  {
   "cell_type": "code",
   "execution_count": null,
   "metadata": {},
   "outputs": [],
   "source": []
  },
  {
   "cell_type": "code",
   "execution_count": null,
   "metadata": {},
   "outputs": [],
   "source": [
    "chem = model.core.chem"
   ]
  },
  {
   "cell_type": "code",
   "execution_count": null,
   "metadata": {},
   "outputs": [],
   "source": [
    "mass = {}\n",
    "mass['SiO2'] = 60.0848\n",
    "mass['Al2O3'] = 101.96128\n",
    "mass['FeO'] = 71.8464\n",
    "mass['MgO'] = 40.3044 \n",
    "mass['CaO'] = 56.0794\n",
    "mass['Na2O'] = 61.97894"
   ]
  },
  {
   "cell_type": "code",
   "execution_count": null,
   "metadata": {},
   "outputs": [],
   "source": [
    "wt_comp = {}\n",
    "wt_comp['SiO2'] =44.95\n",
    "wt_comp['Al2O3']= 3.52\n",
    "wt_comp['FeO']  = 7.97\n",
    "wt_comp['MgO']  = 39.50\n",
    "wt_comp['CaO']  = 2.79\n",
    "wt_comp['Na2O'] = 0.298\n",
    "\n",
    "cat_num = {}\n",
    "cat_num['SiO2'] = 1\n",
    "cat_num['Al2O3']= 2\n",
    "cat_num['FeO']  = 1\n",
    "cat_num['MgO']  = 1\n",
    "cat_num['CaO']  = 1\n",
    "cat_num['Na2O'] = 2\n",
    "\n",
    "oxy_num = {}\n",
    "oxy_num['SiO2'] = 2\n",
    "oxy_num['Al2O3']= 3\n",
    "oxy_num['FeO']  = 1\n",
    "oxy_num['MgO']  = 1\n",
    "oxy_num['CaO']  = 1\n",
    "oxy_num['Na2O'] = 1\n",
    "\n",
    "# mol_comp = [wt_comp[key]/mass[key] for key in wt_comp]\n",
    "cat_comp = np.array([wt_comp[key]/mass[key]*cat_num[key] for key in wt_comp])\n",
    "oxy_comp = np.array([wt_comp[key]/mass[key]*oxy_num[key] for key in wt_comp])\n",
    "np.sum(oxy_comp)\n",
    "\n"
   ]
  },
  {
   "cell_type": "code",
   "execution_count": null,
   "metadata": {},
   "outputs": [],
   "source": [
    "sys_elems"
   ]
  }
 ],
 "metadata": {
  "kernelspec": {
   "display_name": "Python 3",
   "language": "python",
   "name": "python3"
  },
  "language_info": {
   "codemirror_mode": {
    "name": "ipython",
    "version": 3
   },
   "file_extension": ".py",
   "mimetype": "text/x-python",
   "name": "python",
   "nbconvert_exporter": "python",
   "pygments_lexer": "ipython3",
   "version": "3.6.2"
  }
 },
 "nbformat": 4,
 "nbformat_minor": 2
}
