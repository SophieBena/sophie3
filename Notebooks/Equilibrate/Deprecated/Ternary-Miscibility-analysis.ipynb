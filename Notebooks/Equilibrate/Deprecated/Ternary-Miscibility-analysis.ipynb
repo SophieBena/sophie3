{
 "cells": [
  {
   "cell_type": "code",
   "execution_count": null,
   "metadata": {},
   "outputs": [],
   "source": [
    "import numpy as np\n",
    "from scipy import optimize as opt\n",
    "import thermoengine\n",
    "import matplotlib.pyplot as plt"
   ]
  },
  {
   "cell_type": "code",
   "execution_count": null,
   "metadata": {},
   "outputs": [],
   "source": []
  },
  {
   "cell_type": "code",
   "execution_count": null,
   "metadata": {},
   "outputs": [],
   "source": [
    "def tern_plot(X_ABC, value, label_ABC, levels=20):\n",
    "    plt.figure()\n",
    "    \n",
    "    XA = X_ABC[:,0]\n",
    "    XB = X_ABC[:,1]\n",
    "    XC = X_ABC[:,2]\n",
    "    \n",
    "    tern_y = XA\n",
    "    tern_x = XC+ XA/2\n",
    "    \n",
    "    ax = plt.gca()\n",
    "    # cntr = ax.tricontour(XC,XA,gex,levels=10, linewidths=2)\n",
    "    cntr = ax.tricontour(tern_x, tern_y, value,levels=levels, linewidths=2, cmap='magma')\n",
    "    plt.plot([.5,0,1,.5],[1,0,0,1], 'k-', lw=3)\n",
    "    plt.gcf().colorbar(cntr, ax=ax)\n",
    "    ax.set_frame_on(False)\n",
    "    ax.set_axis_off()\n",
    "    \n",
    "    plt.text(.5,1,label_ABC[0], horizontalalignment='center', \n",
    "             verticalalignment='bottom', fontsize=20)\n",
    "    plt.text(0,0,label_ABC[1], horizontalalignment='right', \n",
    "             verticalalignment='top', fontsize=20)\n",
    "    plt.text(1,0,label_ABC[2], horizontalalignment='left', \n",
    "             verticalalignment='top', fontsize=20)\n",
    "\n"
   ]
  },
  {
   "cell_type": "code",
   "execution_count": null,
   "metadata": {},
   "outputs": [],
   "source": [
    "modelDB = thermoengine.model.Database()"
   ]
  },
  {
   "cell_type": "code",
   "execution_count": null,
   "metadata": {},
   "outputs": [],
   "source": [
    "phs = modelDB.get_phase('Fsp')"
   ]
  },
  {
   "cell_type": "code",
   "execution_count": null,
   "metadata": {},
   "outputs": [],
   "source": [
    "T = 600.0\n",
    "P = 1.0\n"
   ]
  },
  {
   "cell_type": "code",
   "execution_count": null,
   "metadata": {},
   "outputs": [],
   "source": [
    "mol = np.random.rand(phs.endmember_num)\n",
    "mol /= np.sum(mol)"
   ]
  },
  {
   "cell_type": "code",
   "execution_count": null,
   "metadata": {},
   "outputs": [],
   "source": [
    "def gibbs_curv(T, P, mol,phs=phs):\n",
    "    Gcurv = np.squeeze(phs.gibbs_energy(T, P, mol=mol, deriv={'dmol':2}))\n",
    "    Gconcav = np.linalg.det(Gcurv)\n",
    "    Gconcav=Gcurv[0,0]\n",
    "    return Gconcav\n",
    "\n",
    "eval_gibbs_curv = lambda mol, T=T, P=P: gibbs_curv(T, P, mol)\n",
    "    "
   ]
  },
  {
   "cell_type": "code",
   "execution_count": null,
   "metadata": {},
   "outputs": [],
   "source": [
    "bounds = [(0,1) for i in range(phs.endmember_num)]\n",
    "TOL = 1e-5\n",
    "constr = opt.LinearConstraint(np.ones(phs.endmember_num),1-TOL,1+TOL)"
   ]
  },
  {
   "cell_type": "code",
   "execution_count": null,
   "metadata": {},
   "outputs": [],
   "source": [
    "mol0 = np.random.rand(phs.endmember_num)\n",
    "mol0 /= np.sum(mol0)\n",
    "# mol0 = [1/3,1/3,1/3]\n",
    "# opt.minimize(eval_gibbs_curv, mol0, bounds=bounds,constraints=constr)\n",
    "# opt.minimize(eval_gibbs_curv, mol0, bounds=bounds)"
   ]
  },
  {
   "cell_type": "code",
   "execution_count": null,
   "metadata": {},
   "outputs": [],
   "source": [
    "def gibbs_excess(T, P, mol, phs=phs):\n",
    "    mol_endmem = np.eye(phs.endmember_num)\n",
    "    g_endmem= [phs.gibbs_energy(T, P, mol=imol) for imol in mol_endmem]\n",
    "    g_ideal = np.dot(g_endmem, mol)\n",
    "    g = phs.gibbs_energy(T, P, mol=mol)\n",
    "    gex = g-g_ideal\n",
    "    return gex"
   ]
  },
  {
   "cell_type": "code",
   "execution_count": null,
   "metadata": {},
   "outputs": [],
   "source": [
    "T = 300.0\n",
    "P = 1.0\n",
    "eval_gibbs_curv = lambda mol, T=T, P=P: gibbs_curv(T, P, mol)"
   ]
  },
  {
   "cell_type": "code",
   "execution_count": null,
   "metadata": {},
   "outputs": [],
   "source": [
    "Nlin = 3\n",
    "Xlin = np.linspace(0,1,Nlin)\n",
    "XgridA = np.tile(Xlin[:, np.newaxis, np.newaxis], [1,Nlin,Nlin])\n",
    "XgridA"
   ]
  },
  {
   "cell_type": "code",
   "execution_count": null,
   "metadata": {},
   "outputs": [],
   "source": [
    "N =3000\n",
    "\n",
    "\n",
    "mol = np.random.rand(N, phs.endmember_num)\n",
    "mol /= np.sum(mol, axis=1)[:,np.newaxis]\n",
    "gcurv = np.array([eval_gibbs_curv(imol) for imol in mol])\n",
    "gex = np.array([gibbs_excess(T, P, mol=imol) for imol in mol])"
   ]
  },
  {
   "cell_type": "code",
   "execution_count": null,
   "metadata": {},
   "outputs": [],
   "source": [
    "phs.endmember_names\n"
   ]
  },
  {
   "cell_type": "code",
   "execution_count": null,
   "metadata": {},
   "outputs": [],
   "source": [
    "\n",
    "X_ABC = mol[:,[2,0,1]]\n",
    "tern_labels = ['Sn', 'Ab', 'An']\n",
    "tern_plot(X_ABC, gex, tern_labels, levels=20)\n",
    "tern_plot(X_ABC, gcurv, tern_labels, levels=20)\n"
   ]
  },
  {
   "cell_type": "code",
   "execution_count": null,
   "metadata": {},
   "outputs": [],
   "source": [
    "\n",
    "plt.scatter?"
   ]
  },
  {
   "cell_type": "code",
   "execution_count": null,
   "metadata": {},
   "outputs": [],
   "source": [
    "np.ones(phs.endmember_num).dot(np.array([2.61095323e-05, 9.99985974e-01, 0.00000000e+00]))"
   ]
  },
  {
   "cell_type": "code",
   "execution_count": null,
   "metadata": {},
   "outputs": [],
   "source": [
    "opt.minimize?"
   ]
  },
  {
   "cell_type": "code",
   "execution_count": null,
   "metadata": {},
   "outputs": [],
   "source": [
    "phs.gibbs_energy"
   ]
  },
  {
   "cell_type": "code",
   "execution_count": null,
   "metadata": {},
   "outputs": [],
   "source": []
  }
 ],
 "metadata": {
  "kernelspec": {
   "display_name": "Python 3",
   "language": "python",
   "name": "python3"
  },
  "language_info": {
   "codemirror_mode": {
    "name": "ipython",
    "version": 3
   },
   "file_extension": ".py",
   "mimetype": "text/x-python",
   "name": "python",
   "nbconvert_exporter": "python",
   "pygments_lexer": "ipython3",
   "version": "3.6.2"
  }
 },
 "nbformat": 4,
 "nbformat_minor": 2
}
