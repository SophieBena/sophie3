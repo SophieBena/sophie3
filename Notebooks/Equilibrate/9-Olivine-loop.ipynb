{
 "cells": [
  {
   "cell_type": "markdown",
   "metadata": {},
   "source": [
    "# Olivine Phase Loop\n",
    "This notebook demonstrates calculation of the olivine liquid-solid phase loop under the assumption that both phases behave as ideal solutions.  \n",
    "The workflow is:\n",
    "- Use the **coder** module to generate endmember properties of both solutions; the only thermodynamic properties that are specified are the enthalpy and entropy of fusion\n",
    "- Use the **coder** module to generate solid and liquid solution properties\n",
    "- Import the generated code using the **model** module\n",
    "- Use the **equilibrate** module to compute the liquid-solid phase loop\n",
    "- Plot results"
   ]
  },
  {
   "cell_type": "code",
   "execution_count": null,
   "metadata": {},
   "outputs": [],
   "source": [
    "import numpy as np\n",
    "import scipy as sp\n",
    "import sympy as sym\n",
    "import matplotlib.pyplot as plt\n",
    "from thermoengine import model, equilibrate, coder\n",
    "%matplotlib inline"
   ]
  },
  {
   "cell_type": "markdown",
   "metadata": {},
   "source": [
    "## Endmember properties\n",
    "Write code into a working subdirectory"
   ]
  },
  {
   "cell_type": "code",
   "execution_count": null,
   "metadata": {},
   "outputs": [],
   "source": [
    "working_dir = \"working\"\n",
    "!mkdir -p {working_dir}\n",
    "%cd {working_dir}"
   ]
  },
  {
   "cell_type": "markdown",
   "metadata": {},
   "source": [
    "Model generation function"
   ]
  },
  {
   "cell_type": "code",
   "execution_count": null,
   "metadata": {},
   "outputs": [],
   "source": [
    "def make_endmembers(module='none', name='none', formula='none', Hrefvalue=0.0, Srefvalue=0.0):\n",
    "    mdl = coder.StdStateModel()\n",
    "    T = mdl.get_symbol_for_t()\n",
    "    GPr,Href,Sref = sym.symbols('GPr Href Sref')\n",
    "    GPr = Href - T*Sref\n",
    "    params = [('Href', 'J', Href), ('Sref', 'J/K', Sref)]\n",
    "    mdl.add_expression_to_model(GPr, params)\n",
    "    mdl.set_module_name(module)\n",
    "    paramValues = {'Href':Hrefvalue, 'Sref':Srefvalue, 'T_r':298.15, 'P_r':1.0}\n",
    "    mdl.create_code_module(phase=name, formula=formula, params=paramValues, \n",
    "                           module_type='calib', silent=True)"
   ]
  },
  {
   "cell_type": "markdown",
   "metadata": {},
   "source": [
    "### Forsterite Solid"
   ]
  },
  {
   "cell_type": "code",
   "execution_count": null,
   "metadata": {},
   "outputs": [],
   "source": [
    "make_endmembers(module='OlvSolid', name='Fo', formula='Mg(2)Si(1)O(4)', Hrefvalue=-100000.0, Srefvalue=0.0)\n",
    "%cp OlvSolid.pyx endmembersolids.pyx"
   ]
  },
  {
   "cell_type": "markdown",
   "metadata": {},
   "source": [
    "### Fayalite Solid"
   ]
  },
  {
   "cell_type": "code",
   "execution_count": null,
   "metadata": {},
   "outputs": [],
   "source": [
    "make_endmembers(module='OlvSolid', name='Fa', formula='Fe(2)Si(1)O(4)', Hrefvalue=-100000.0, Srefvalue=0.0)\n",
    "%cat OlvSolid.pyx >> endmembersolids.pyx"
   ]
  },
  {
   "cell_type": "markdown",
   "metadata": {},
   "source": [
    "### Forsterite Liquid\n",
    "Fusion temperature is 2163 K, entropy is 57.2 J/K"
   ]
  },
  {
   "cell_type": "code",
   "execution_count": null,
   "metadata": {},
   "outputs": [],
   "source": [
    "make_endmembers(module='OlvLiquid', name='Fo', formula='Mg(2)Si(1)O(4)', Hrefvalue=-100000.0+57.2*2163.0, Srefvalue=57.2)\n",
    "%cp OlvLiquid.pyx endmemberliquids.pyx"
   ]
  },
  {
   "cell_type": "markdown",
   "metadata": {},
   "source": [
    "### Fayalite Liquid\n",
    "Fusion temperature is 1490 K, entropy is 59.9 J/K"
   ]
  },
  {
   "cell_type": "code",
   "execution_count": null,
   "metadata": {},
   "outputs": [],
   "source": [
    "make_endmembers(module='OlvLiquid', name='Fa', formula='Fe(2)Si(1)O(4)', Hrefvalue=-100000.0+59.9*1490.0, Srefvalue=59.9)\n",
    "%cat OlvLiquid.pyx >> endmemberliquids.pyx"
   ]
  },
  {
   "cell_type": "markdown",
   "metadata": {},
   "source": [
    "## Solution Properties\n",
    "Model generation function"
   ]
  },
  {
   "cell_type": "code",
   "execution_count": null,
   "metadata": {},
   "outputs": [],
   "source": [
    "def make_solution(module='none', name='none', endmembers=[]):\n",
    "    c = 2\n",
    "    mdl = coder.SimpleSolnModel(nc=c)\n",
    "    n = mdl.n\n",
    "    nT = mdl.nT\n",
    "    X = n/nT\n",
    "    T = mdl.get_symbol_for_t()\n",
    "    mu = mdl.mu\n",
    "    G_ss = (n.transpose()*mu)[0]\n",
    "    S_config,R = sym.symbols('S_config R')\n",
    "    S_config = 0\n",
    "    for i in range(0,c):\n",
    "        S_config += X[i]*sym.log(X[i])\n",
    "    S_config *= -R*nT\n",
    "    G_config = sym.simplify(-T*S_config)\n",
    "    G = G_ss + G_config\n",
    "    mdl.add_expression_to_model(G, [('dummy', 'none', sym.symbols('dummy'))])\n",
    "    mdl.module = module\n",
    "    mdl.formula_string = 'Mg[Mg]Fe[Fe]Si[Si]O4'\n",
    "    mdl.conversion_string = ['[0]=[Mg]', '[1]=[Fe]']\n",
    "    mdl.test_string = ['[0] > 0.0', '[1] > 0.0']\n",
    "    mdl.create_code_module(phase=name, params={'dummy':0.0, 'T_r':298.15, 'P_r':1.0}, \n",
    "                           endmembers=endmembers, \n",
    "                           prefix=\"cy\", module_type='calib', silent=True)"
   ]
  },
  {
   "cell_type": "markdown",
   "metadata": {},
   "source": [
    "### Solid solution"
   ]
  },
  {
   "cell_type": "code",
   "execution_count": null,
   "metadata": {},
   "outputs": [],
   "source": [
    "make_solution(module='OlvSolid', name='Olivine', endmembers=['Fo_OlvSolid', 'Fa_OlvSolid'])\n",
    "%cat endmembersolids.pyx >> OlvSolid.pyx"
   ]
  },
  {
   "cell_type": "markdown",
   "metadata": {},
   "source": [
    "### Liquid solution"
   ]
  },
  {
   "cell_type": "code",
   "execution_count": null,
   "metadata": {},
   "outputs": [],
   "source": [
    "make_solution(module='OlvLiquid', name='Liquid', endmembers=['Fo_OlvLiquid', 'Fa_OlvLiquid'])\n",
    "%cat endmemberliquids.pyx >> OlvLiquid.pyx"
   ]
  },
  {
   "cell_type": "code",
   "execution_count": null,
   "metadata": {},
   "outputs": [],
   "source": [
    "import OlvSolid\n",
    "import OlvLiquid\n",
    "%cd .."
   ]
  },
  {
   "cell_type": "markdown",
   "metadata": {},
   "source": [
    "## Set up phase loop calculation"
   ]
  },
  {
   "cell_type": "code",
   "execution_count": null,
   "metadata": {},
   "outputs": [],
   "source": [
    "modelDBsol = model.Database(database=\"CoderModule\", calib='calib', \n",
    "                            phase_tuple=('OlvSolid', {\n",
    "                                'Ol':['Olivine','solution'],\n",
    "                                'Fo':['Fo','pure'],\n",
    "                                'Fa':['Fa','pure']\n",
    "                            }))\n",
    "modelDBliq = model.Database(database=\"CoderModule\", calib='calib', \n",
    "                            phase_tuple=('OlvLiquid', {\n",
    "                                'Liq':['Liquid','solution'],\n",
    "                                'Fo':['Fo','pure'],\n",
    "                                'Fa':['Fa','pure']\n",
    "                            }))"
   ]
  },
  {
   "cell_type": "code",
   "execution_count": null,
   "metadata": {},
   "outputs": [],
   "source": [
    "olivine = modelDBsol.get_phase(\"Ol\")\n",
    "liquid = modelDBliq.get_phase(\"Liq\")"
   ]
  },
  {
   "cell_type": "code",
   "execution_count": null,
   "metadata": {},
   "outputs": [],
   "source": [
    "elm_sys = ['O','Mg','Si','Fe']\n",
    "phs_sys = [liquid, olivine]"
   ]
  },
  {
   "cell_type": "markdown",
   "metadata": {},
   "source": [
    "### Compute the loop"
   ]
  },
  {
   "cell_type": "code",
   "execution_count": null,
   "metadata": {},
   "outputs": [],
   "source": [
    "xFoSol = [1.0]\n",
    "xFoLiq = [1.0]\n",
    "tC = [2163.0-273.15]\n",
    "p = 1.0\n",
    "for i in range(1,20):\n",
    "    XFo = 1.0 - i*0.05\n",
    "    XFa = 1.0 - XFo\n",
    "    blk_cmp = np.array([4.0*(XFo+XFa), 2.0*XFo, XFo+XFa, 2.0*XFa])\n",
    "    equil = equilibrate.Equilibrate(elm_sys, phs_sys)\n",
    "    t = 2163.0*XFo + 1490.0*XFa\n",
    "    state = equil.execute(t, p, bulk_comp=blk_cmp, debug=0, stats=True)\n",
    "    state.print_state()\n",
    "    tC.append(t-273.15)\n",
    "    xFoSol.append(state.compositions(phase_name='Olivine', units='mole_frac')[0])\n",
    "    xFoLiq.append(state.compositions(phase_name='Liquid', units='mole_frac')[0])\n",
    "xFoSol.append(0.0)\n",
    "xFoLiq.append(0.0)\n",
    "tC.append(1490.0-273.15)"
   ]
  },
  {
   "cell_type": "code",
   "execution_count": null,
   "metadata": {},
   "outputs": [],
   "source": [
    "plt.plot(xFoSol, tC, 'b-')\n",
    "plt.plot(xFoLiq, tC, 'r-')\n",
    "plt.ylabel('T °C')\n",
    "plt.xlabel('Mole fraction')\n",
    "plt.xlim(0.0, 1.0)"
   ]
  },
  {
   "cell_type": "code",
   "execution_count": null,
   "metadata": {},
   "outputs": [],
   "source": []
  }
 ],
 "metadata": {
  "kernelspec": {
   "display_name": "Python 3 (ipykernel)",
   "language": "python",
   "name": "python3"
  },
  "language_info": {
   "codemirror_mode": {
    "name": "ipython",
    "version": 3
   },
   "file_extension": ".py",
   "mimetype": "text/x-python",
   "name": "python",
   "nbconvert_exporter": "python",
   "pygments_lexer": "ipython3",
   "version": "3.9.7"
  }
 },
 "nbformat": 4,
 "nbformat_minor": 4
}
