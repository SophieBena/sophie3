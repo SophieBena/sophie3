{
 "cells": [
  {
   "cell_type": "markdown",
   "metadata": {},
   "source": [
    "# Explore Equilibration Issues w/ Dependent Species"
   ]
  },
  {
   "cell_type": "markdown",
   "metadata": {},
   "source": [
    "* Stixrude model has difficulties with activity & comp"
   ]
  },
  {
   "cell_type": "code",
   "execution_count": null,
   "metadata": {},
   "outputs": [],
   "source": []
  },
  {
   "cell_type": "code",
   "execution_count": null,
   "metadata": {},
   "outputs": [],
   "source": [
    "import numpy as np\n",
    "import thermoengine as thermo"
   ]
  },
  {
   "cell_type": "code",
   "execution_count": null,
   "metadata": {},
   "outputs": [],
   "source": [
    "from thermoengine import model\n",
    "from thermoengine import chem\n",
    "import pandas as pd"
   ]
  },
  {
   "cell_type": "code",
   "execution_count": null,
   "metadata": {},
   "outputs": [],
   "source": [
    "modelDB = model.Database(database='Stixrude')"
   ]
  },
  {
   "cell_type": "code",
   "execution_count": null,
   "metadata": {},
   "outputs": [],
   "source": []
  },
  {
   "cell_type": "code",
   "execution_count": null,
   "metadata": {},
   "outputs": [],
   "source": [
    "cpx = modelDB.get_phase('Cpx')"
   ]
  },
  {
   "cell_type": "code",
   "execution_count": null,
   "metadata": {},
   "outputs": [],
   "source": [
    "endmem_names = cpx.endmember_names\n",
    "endmem_formula = cpx.props['formula']\n",
    "display(endmem_names)\n",
    "display(endmem_formula)"
   ]
  },
  {
   "cell_type": "code",
   "execution_count": null,
   "metadata": {},
   "outputs": [],
   "source": []
  },
  {
   "cell_type": "code",
   "execution_count": null,
   "metadata": {},
   "outputs": [],
   "source": [
    "elem_comp_all = cpx.props['element_comp']"
   ]
  },
  {
   "cell_type": "code",
   "execution_count": null,
   "metadata": {},
   "outputs": [],
   "source": [
    "ind_elems = np.where(np.any(elem_comp_all, axis=0))[0]\n",
    "elem_symbols = chem.PERIODIC_ORDER[ind_elems]\n",
    "\n",
    "\n",
    "elem_comp = elem_comp_all[:,ind_elems].astype(int)\n",
    "elem_comp"
   ]
  },
  {
   "cell_type": "code",
   "execution_count": null,
   "metadata": {},
   "outputs": [],
   "source": [
    "cpx_elem_comp = pd.DataFrame(data=elem_comp, columns=elem_symbols, index=endmem_formula)"
   ]
  },
  {
   "cell_type": "code",
   "execution_count": null,
   "metadata": {},
   "outputs": [],
   "source": [
    "cpx_elem_comp"
   ]
  },
  {
   "cell_type": "code",
   "execution_count": null,
   "metadata": {},
   "outputs": [],
   "source": [
    "\n",
    "mol_ferrosilite = np.array([-2, +2, +1, 0, 0])\n",
    "mol_MATS = np.array([-1, 0, +1, +1, 0])\n",
    "mol_FATS = np.array([-2, +1, +1, +1, 0])\n",
    "\n",
    "Fsl_elem_comp = pd.DataFrame(data=[np.dot(cpx_elem_comp.T,mol_ferrosilite)], columns=elem_symbols, index=['Fe2Si2O6'])\n",
    "display(Fsl_elem_comp)\n",
    "\n",
    "MATS_elem_comp = pd.DataFrame(data=[np.dot(cpx_elem_comp.T,mol_MATS)], columns=elem_symbols, index=['MgAl2SiO6'])\n",
    "display(MATS_elem_comp)\n",
    "\n",
    "FATS_elem_comp = pd.DataFrame(data=[np.dot(cpx_elem_comp.T,mol_FATS)], columns=elem_symbols, index=['FeAl2SiO6'])\n",
    "display(FATS_elem_comp)"
   ]
  },
  {
   "cell_type": "code",
   "execution_count": null,
   "metadata": {},
   "outputs": [],
   "source": [
    "TOL=1e-6"
   ]
  },
  {
   "cell_type": "code",
   "execution_count": null,
   "metadata": {},
   "outputs": [],
   "source": [
    "TOL=1e-3\n",
    "mol_adj = mol_ferrosilite + np.array([+TOL,0,0,+TOL,+TOL])\n",
    "np.dot(cpx_elem_comp.T, mol_adj)"
   ]
  },
  {
   "cell_type": "code",
   "execution_count": null,
   "metadata": {},
   "outputs": [],
   "source": []
  },
  {
   "cell_type": "code",
   "execution_count": null,
   "metadata": {},
   "outputs": [],
   "source": [
    "T = 1000.0\n",
    "P = 1e3"
   ]
  },
  {
   "cell_type": "code",
   "execution_count": null,
   "metadata": {},
   "outputs": [],
   "source": [
    "cpx.gibbs_energy(T, P, mol=[-2,+2,+1,0,0])\n",
    "cpx.gibbs_energy(T, P, mol=[-1,+1,+0.5,0,0])"
   ]
  },
  {
   "cell_type": "code",
   "execution_count": null,
   "metadata": {},
   "outputs": [],
   "source": [
    "cpx.gibbs_energy(T, P, mol=mol_adj)"
   ]
  },
  {
   "cell_type": "code",
   "execution_count": null,
   "metadata": {},
   "outputs": [],
   "source": [
    "cpx.gibbs_energy(T, P, mol=mol_MATS)\n"
   ]
  },
  {
   "cell_type": "code",
   "execution_count": null,
   "metadata": {},
   "outputs": [],
   "source": [
    "\n",
    "cpx.gibbs_energy(T, P, mol=mol_FATS)"
   ]
  },
  {
   "cell_type": "code",
   "execution_count": null,
   "metadata": {},
   "outputs": [],
   "source": []
  }
 ],
 "metadata": {
  "kernelspec": {
   "display_name": "Python 3",
   "language": "python",
   "name": "python3"
  },
  "language_info": {
   "codemirror_mode": {
    "name": "ipython",
    "version": 3
   },
   "file_extension": ".py",
   "mimetype": "text/x-python",
   "name": "python",
   "nbconvert_exporter": "python",
   "pygments_lexer": "ipython3",
   "version": "3.7.6"
  }
 },
 "nbformat": 4,
 "nbformat_minor": 4
}
