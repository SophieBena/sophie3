{
 "cells": [
  {
   "cell_type": "markdown",
   "metadata": {},
   "source": [
    "# Metal Segregation\n",
    "### With rhyolite-MELTS and $\\mu$O<sub>2</sub> constrained using the empirical method of Kress and Carmichael (1991)\n",
    "\n",
    "This notebook demonstates the use of the Equilibrate class in the equilibrate module to perform equilibrium crystallization clculations for the special case of oxygen fugacity constrained using the model of Kress and Carmichael (1991).  This model is applicable to natural composition silicate liquids and is usually applied in conjunction with thermodynamic models published by Ghiorso and Sack (1995) [MELTS], Ghiorso et al., (2003) [pMELTS], Gualda et al. (2012) [rhyolite-MELTS] or Ghiorso and Gualda (2015) [rhyoliteMELTS + CO2].\n",
    "\n"
   ]
  },
  {
   "cell_type": "code",
   "execution_count": null,
   "metadata": {},
   "outputs": [],
   "source": [
    "import numpy as np\n",
    "import scipy.optimize as opt\n",
    "import scipy.linalg as lin \n",
    "import sys\n",
    "import matplotlib.pyplot as plt"
   ]
  },
  {
   "cell_type": "code",
   "execution_count": null,
   "metadata": {},
   "outputs": [],
   "source": [
    "from thermoengine import core, phases, model, equilibrate"
   ]
  },
  {
   "cell_type": "markdown",
   "metadata": {},
   "source": [
    "## Create phases for equilibrium assemblages\n",
    "Minimal rhyolitic phase assemblage"
   ]
  },
  {
   "cell_type": "code",
   "execution_count": null,
   "metadata": {},
   "outputs": [],
   "source": [
    "modelDB = model.Database(liq_mod='v1.0')"
   ]
  },
  {
   "cell_type": "code",
   "execution_count": null,
   "metadata": {},
   "outputs": [],
   "source": [
    "Liquid = modelDB.get_phase('Liq')\n",
    "MetalL = modelDB.get_phase('MtlL')\n",
    "MetalS = modelDB.get_phase('MtlS')"
   ]
  },
  {
   "cell_type": "markdown",
   "metadata": {},
   "source": [
    "## Define elements in system and phases in system\n",
    "These 15 elements are required for the silicate liquid model of MELTS (rhyolite-MELTS)"
   ]
  },
  {
   "cell_type": "code",
   "execution_count": null,
   "metadata": {},
   "outputs": [],
   "source": [
    "elm_sys = ['H','O','Na','Mg','Al','Si','P','K','Ca','Ti','Cr','Mn','Fe','Co','Ni']\n",
    "phs_sys = [Liquid, MetalL, MetalS]"
   ]
  },
  {
   "cell_type": "markdown",
   "metadata": {},
   "source": [
    "## Composition of the system\n",
    "This composition chosen as close to mantle comp???\n",
    "Used in exoMELTS proposal"
   ]
  },
  {
   "cell_type": "code",
   "execution_count": null,
   "metadata": {},
   "outputs": [],
   "source": [
    "grm_oxides = {\n",
    "    'SiO2':44.62,   \n",
    "    'TiO2':0.16,\n",
    "    'Al2O3':3.49,\n",
    "    'Fe2O3':0.51,\n",
    "    'Cr2O3':0.38,\n",
    "    'FeO':5.64,\n",
    "    'MnO':0.00,\n",
    "    'MgO':39.21,\n",
    "    'NiO': 2.88,\n",
    "    'CoO': 0.00,\n",
    "    'CaO': 2.77,\n",
    "    'Na2O': 0.30,\n",
    "    'K2O': 0.02,\n",
    "    'P2O5': 0.01,\n",
    "    'H2O': 0,\n",
    "    'CO2': 0,\n",
    "}"
   ]
  },
  {
   "cell_type": "code",
   "execution_count": null,
   "metadata": {},
   "outputs": [],
   "source": [
    "tot_grm_oxides = 0.0\n",
    "for key in grm_oxides.keys():\n",
    "    tot_grm_oxides += grm_oxides[key]"
   ]
  },
  {
   "cell_type": "markdown",
   "metadata": {},
   "source": [
    "Cast this composition as moles of elements for input to the Equilibrate class"
   ]
  },
  {
   "cell_type": "code",
   "execution_count": null,
   "metadata": {},
   "outputs": [],
   "source": [
    "mol_oxides = core.chem.format_mol_oxide_comp(grm_oxides, convert_grams_to_moles=True)\n",
    "moles_end,oxide_res = Liquid.calc_endmember_comp(\n",
    "    mol_oxide_comp=mol_oxides, method='intrinsic', output_residual=True)\n",
    "if not Liquid.test_endmember_comp(moles_end):\n",
    "    print (\"Calculated composition is infeasible!\")\n",
    "mol_elm = Liquid.covert_endmember_comp(moles_end,output='moles_elements')"
   ]
  },
  {
   "cell_type": "code",
   "execution_count": null,
   "metadata": {},
   "outputs": [],
   "source": [
    "blk_cmp = []\n",
    "for elm in elm_sys:\n",
    "    index = core.chem.PERIODIC_ORDER.tolist().index(elm)\n",
    "    blk_cmp.append(mol_elm[index])\n",
    "blk_cmp = np.array(blk_cmp)"
   ]
  },
  {
   "cell_type": "code",
   "execution_count": null,
   "metadata": {},
   "outputs": [],
   "source": [
    "blk_cmp"
   ]
  },
  {
   "cell_type": "markdown",
   "metadata": {},
   "source": [
    "# Run the calculation"
   ]
  },
  {
   "cell_type": "code",
   "execution_count": null,
   "metadata": {},
   "outputs": [],
   "source": [
    "equil = equilibrate.Equilibrate(elm_sys, phs_sys)"
   ]
  },
  {
   "cell_type": "markdown",
   "metadata": {},
   "source": [
    "Uncomment here and in the next cell to generate a call graph that traces execution times by method and module "
   ]
  },
  {
   "cell_type": "code",
   "execution_count": null,
   "metadata": {},
   "outputs": [],
   "source": [
    "#%load_ext snakeviz"
   ]
  },
  {
   "cell_type": "markdown",
   "metadata": {},
   "source": [
    "### For reference, equilibrate at an initial temperature and pressure"
   ]
  },
  {
   "cell_type": "code",
   "execution_count": null,
   "metadata": {},
   "outputs": [],
   "source": [
    "#%%snakeviz --new-tab\n",
    "T = 1000+273.15\n",
    "P = 1.0\n",
    "state = equil.execute(T, P, bulk_comp=blk_cmp, debug=0, stats=False)\n",
    "state.print_state()"
   ]
  },
  {
   "cell_type": "markdown",
   "metadata": {},
   "source": [
    "Compute the system oxygen fugacity using Kress and Carmichael (1991) along with the total moles of oxygen in the system"
   ]
  },
  {
   "cell_type": "code",
   "execution_count": null,
   "metadata": {},
   "outputs": [],
   "source": [
    "results = []\n",
    "results.append((T-273.15,P/10.0) + equil.kc_print_state(state))"
   ]
  },
  {
   "cell_type": "markdown",
   "metadata": {},
   "source": [
    "### Assign an oxygen buffer, and recalculate ..."
   ]
  },
  {
   "cell_type": "code",
   "execution_count": null,
   "metadata": {},
   "outputs": [],
   "source": [
    "buffer = 'IW'\n",
    "dlogfO2 = -5\n",
    "\n",
    "dNNO = (dlogfO2+modelDB.redox_buffer(T, P, buffer=buffer)\n",
    "        -modelDB.redox_buffer(T, P, buffer='NNO'))\n",
    "dNNO"
   ]
  },
  {
   "cell_type": "code",
   "execution_count": null,
   "metadata": {},
   "outputs": [],
   "source": [
    "state = equil.execute(T, P, bulk_comp=blk_cmp, con_deltaNNO=dNNO, \n",
    "                      debug=0, stats=False)\n",
    "state.print_state()"
   ]
  },
  {
   "cell_type": "code",
   "execution_count": null,
   "metadata": {},
   "outputs": [],
   "source": [
    "results.append((T-273.15,P/10.0) + equil.kc_print_state(state))"
   ]
  },
  {
   "cell_type": "code",
   "execution_count": null,
   "metadata": {},
   "outputs": [],
   "source": [
    "mass_silicate = state.tot_grams_phase('Liquid')\n",
    "mass_alloy = (state.tot_grams_phase('Solid Alloy')\n",
    "              +state.tot_grams_phase('Liquid Alloy'))"
   ]
  },
  {
   "cell_type": "code",
   "execution_count": null,
   "metadata": {},
   "outputs": [],
   "source": [
    "alloy_frac = mass_alloy/(mass_silicate+mass_alloy)\n",
    "alloy_frac"
   ]
  },
  {
   "cell_type": "code",
   "execution_count": null,
   "metadata": {},
   "outputs": [],
   "source": []
  },
  {
   "cell_type": "code",
   "execution_count": null,
   "metadata": {},
   "outputs": [],
   "source": []
  },
  {
   "cell_type": "code",
   "execution_count": null,
   "metadata": {},
   "outputs": [],
   "source": [
    "dlogfO2 = np.arange(-8,8.1,2)\n",
    "dNNO_buf = (modelDB.redox_buffer(T, P, buffer=buffer)\n",
    "            -modelDB.redox_buffer(T, P, buffer='NNO'))\n",
    "\n",
    "alloy_frac = []\n",
    "for idlogfO2 in dlogfO2:\n",
    "    dNNO = dNNO_buf + idlogfO2\n",
    "    state = equil.execute(T, P, bulk_comp=blk_cmp, \n",
    "                          con_deltaNNO=dNNO, \n",
    "                          debug=0, stats=False)\n",
    "    mass_silicate = state.tot_grams_phase('Liquid')\n",
    "    mass_alloy = (state.tot_grams_phase('Solid Alloy')\n",
    "                  +state.tot_grams_phase('Liquid Alloy'))\n",
    "    ialloy_frac = mass_alloy/(mass_silicate+mass_alloy)\n",
    "    \n",
    "    alloy_frac.append(ialloy_frac)\n",
    "    \n",
    "alloy_frac = np.array(alloy_frac)\n",
    "    \n"
   ]
  },
  {
   "cell_type": "code",
   "execution_count": null,
   "metadata": {},
   "outputs": [],
   "source": []
  },
  {
   "cell_type": "code",
   "execution_count": null,
   "metadata": {},
   "outputs": [],
   "source": [
    "plt.figure()\n",
    "plt.plot(dlogfO2, alloy_frac, 'k-')\n",
    "plt.xlabel('$\\Delta$ IW')\n",
    "plt.ylabel('Fe-Alloy Mass Fraction')"
   ]
  },
  {
   "cell_type": "code",
   "execution_count": null,
   "metadata": {},
   "outputs": [],
   "source": []
  }
 ],
 "metadata": {
  "anaconda-cloud": {},
  "kernelspec": {
   "display_name": "Python 3",
   "language": "python",
   "name": "python3"
  },
  "language_info": {
   "codemirror_mode": {
    "name": "ipython",
    "version": 3
   },
   "file_extension": ".py",
   "mimetype": "text/x-python",
   "name": "python",
   "nbconvert_exporter": "python",
   "pygments_lexer": "ipython3",
   "version": "3.7.6"
  }
 },
 "nbformat": 4,
 "nbformat_minor": 4
}
