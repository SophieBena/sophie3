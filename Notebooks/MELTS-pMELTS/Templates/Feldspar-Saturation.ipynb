{
 "cells": [
  {
   "cell_type": "markdown",
   "metadata": {},
   "source": [
    "# Feldspar Saturation Surface Calculator"
   ]
  },
  {
   "cell_type": "code",
   "execution_count": 1,
   "metadata": {},
   "outputs": [],
   "source": [
    "import numpy as np\n",
    "import scipy.optimize as opt\n",
    "import scipy.linalg as lin \n",
    "import sys\n",
    "from thermoengine import core, phases, model, equilibrate"
   ]
  },
  {
   "cell_type": "markdown",
   "metadata": {},
   "source": [
    "Allocate phase instances.  Note that liquid models may be selected corresponding to rhyolite-MELTS (v1.0), pMELTS or one of the two models developed by Ghiorso and Gualda (2015)"
   ]
  },
  {
   "cell_type": "code",
   "execution_count": 2,
   "metadata": {},
   "outputs": [],
   "source": [
    "modelDB = model.Database(liq_mod='v1.0')\n",
    "Liquid = modelDB.get_phase('Liq')\n",
    "Feldspar = modelDB.get_phase('Fsp')\n",
    "Water = phases.PurePhase('WaterMelts', 'H2O', calib=False)"
   ]
  },
  {
   "cell_type": "markdown",
   "metadata": {},
   "source": [
    "### Composition of the liquid phase\n",
    "Compsoition specified in grams of oxides. If these do not sum to 100, they will be normalized to wt%."
   ]
  },
  {
   "cell_type": "code",
   "execution_count": 3,
   "metadata": {},
   "outputs": [],
   "source": [
    "grm_oxides = {\n",
    "    'SiO2':  77.5, \n",
    "    'TiO2':   0.08, \n",
    "    'Al2O3': 12.5, \n",
    "    'Fe2O3':  0.207,\n",
    "    'Cr2O3':  0.0, \n",
    "    'FeO':    0.473, \n",
    "    'MnO':    0.0,\n",
    "    'MgO':    0.03, \n",
    "    'NiO':    0.0, \n",
    "    'CoO':    0.0,\n",
    "    'CaO':    0.43, \n",
    "    'Na2O':   3.98, \n",
    "    'K2O':    4.88, \n",
    "    'P2O5':   0.0, \n",
    "    'H2O':    5.5\n",
    "}"
   ]
  },
  {
   "cell_type": "markdown",
   "metadata": {},
   "source": [
    "Normalize this composition to 100%"
   ]
  },
  {
   "cell_type": "code",
   "execution_count": 4,
   "metadata": {},
   "outputs": [
    {
     "name": "stdout",
     "output_type": "stream",
     "text": [
      "wt% H2O 5.209\n"
     ]
    }
   ],
   "source": [
    "sum_ox = sum(grm_oxides.values())\n",
    "for key in grm_oxides.keys():\n",
    "    grm_oxides[key] *= 100.0/sum_ox\n",
    "print ('wt% H2O', round(grm_oxides['H2O'],3))"
   ]
  },
  {
   "cell_type": "markdown",
   "metadata": {},
   "source": [
    "Cast this composition as moles of eendmember liquid components; output as moles_end"
   ]
  },
  {
   "cell_type": "code",
   "execution_count": 5,
   "metadata": {},
   "outputs": [],
   "source": [
    "mol_oxides = core.chem.format_mol_oxide_comp(grm_oxides, convert_grams_to_moles=True)\n",
    "moles_end,oxide_res = Liquid.calc_endmember_comp(\n",
    "    mol_oxide_comp=mol_oxides, method='intrinsic', output_residual=True)\n",
    "if not Liquid.test_endmember_comp(moles_end):\n",
    "    print (\"Calculated composition is infeasible!\")"
   ]
  },
  {
   "cell_type": "markdown",
   "metadata": {},
   "source": [
    "### Feldspar-Liquid endmember reactions"
   ]
  },
  {
   "cell_type": "markdown",
   "metadata": {},
   "source": [
    "Define a function that accepts an array of chemical potentials of endmember liquid components and returns a vector of chemical potentials of equivalent stoichiometry feldspar endmember components. Do this using explicit reference to endmember formulas, so that we do not have to remember or confuse indices that may change with alternate solution models. "
   ]
  },
  {
   "cell_type": "code",
   "execution_count": 6,
   "metadata": {},
   "outputs": [],
   "source": [
    "Feld_d = dict(zip(Feldspar.props['formula'], [i for i in range (0,Feldspar.props['endmember_num'])]))\n",
    "Liq_d = dict(zip(Liquid.props['formula'], [i for i in range (0,Liquid.props['endmember_num'])]))\n",
    "def reactions(t, p, muLiq):\n",
    "    mu = np.zeros(Feldspar.props['endmember_num'])\n",
    "    mu[Feld_d['NaAlSi3O8']] = muLiq[0,Liq_d['Na2SiO3']]/2.0 + muLiq[0,Liq_d['Al2O3']]/2.0 + 5.0*muLiq[0,Liq_d['SiO2']]/2.0\n",
    "    mu[Feld_d['CaAl2Si2O8']] = muLiq[0,Liq_d['CaSiO3']] + muLiq[0,Liq_d['Al2O3']] + muLiq[0,Liq_d['SiO2']]\n",
    "    mu[Feld_d['KAlSi3O8']] = muLiq[0,Liq_d['KAlSiO4']] + 2.0*muLiq[0,Liq_d['SiO2']]\n",
    "    return np.array(mu)"
   ]
  },
  {
   "cell_type": "markdown",
   "metadata": {},
   "source": [
    "To test the method, let's set a T (K) and P (bars) and calculate an array of Liquid chemical potentials"
   ]
  },
  {
   "cell_type": "code",
   "execution_count": 7,
   "metadata": {},
   "outputs": [],
   "source": [
    "t = 1000\n",
    "p = 1750\n",
    "muLiq = Liquid.chem_potential(t, p, mol=moles_end)"
   ]
  },
  {
   "cell_type": "markdown",
   "metadata": {},
   "source": [
    "Calculate from these liquid component chemical potentials equivalent potentials for feldspar stoichiometric endmembers.  Note that these result in chemical potentials of liquid components with feldspar stoichiomtry.  At equilibrium, these feldspar liquid chemical potentials would be equal to feldspar solid chemical potentials."
   ]
  },
  {
   "cell_type": "code",
   "execution_count": 8,
   "metadata": {},
   "outputs": [],
   "source": [
    "muFld = reactions(t, p, muLiq)"
   ]
  },
  {
   "cell_type": "markdown",
   "metadata": {},
   "source": [
    "Now, translate these feldspar liquid chemical potentials into a solid feldspar affinity and composition.  If the affinity is negative, we have supersaturation, if postive undersaturation. The output composition array is in mole fractions of endmember feldspar components."
   ]
  },
  {
   "cell_type": "code",
   "execution_count": 9,
   "metadata": {},
   "outputs": [
    {
     "name": "stdout",
     "output_type": "stream",
     "text": [
      "Calling tailored Affinity and Comp routine for FeldsparBerman\n",
      "... Affinity  -2322.199793102026 J/mol\n",
      "... X [0.72059932 0.23541279 0.04398789]\n",
      "... Convergence 1\n",
      "... Iterations 12\n",
      "... Affinity scalar 13.0\n",
      "... Estimated error on affinity 0.02056985034778336\n"
     ]
    }
   ],
   "source": [
    "A, X = Feldspar.affinity_and_comp(t, p, muFld, debug=True, method='special')"
   ]
  },
  {
   "cell_type": "markdown",
   "metadata": {},
   "source": [
    "For this test case the affinity for water is (< 0 supersaturated, > 0 undersaturated) ..."
   ]
  },
  {
   "cell_type": "code",
   "execution_count": 11,
   "metadata": {},
   "outputs": [
    {
     "name": "stdout",
     "output_type": "stream",
     "text": [
      "-488.501\n"
     ]
    }
   ],
   "source": [
    "Aw, Xw = Water.affinity_and_comp(t, p, np.array([muLiq[0,Liq_d['H2O']]]), debug=False)\n",
    "print (round(Aw,3))"
   ]
  },
  {
   "cell_type": "markdown",
   "metadata": {},
   "source": [
    "## Find saturation state by finding $T_{sat}$\n",
    "Create a function to use to zero the affinity as a function of T at fixed P and water content"
   ]
  },
  {
   "cell_type": "code",
   "execution_count": 13,
   "metadata": {},
   "outputs": [],
   "source": [
    "def zero(t):\n",
    "    global p, muFld, X\n",
    "    A, X = Feldspar.affinity_and_comp(t, p, muFld, debug=False, method='special')\n",
    "    return A"
   ]
  },
  {
   "cell_type": "markdown",
   "metadata": {},
   "source": [
    "Next, use a root finder to solve for T when the affinity is zero.  This is $T_{sat}$."
   ]
  },
  {
   "cell_type": "code",
   "execution_count": 15,
   "metadata": {},
   "outputs": [
    {
     "name": "stdout",
     "output_type": "stream",
     "text": [
      "Saturated at 722.6 °C\n",
      "Composition: [0.72066751 0.23636126 0.04297123]\n"
     ]
    }
   ],
   "source": [
    "sol = opt.root(zero, t)\n",
    "print ('Saturated at', round(sol.x[0]-273.15,2),'°C')\n",
    "print ('Composition:', X)"
   ]
  },
  {
   "cell_type": "markdown",
   "metadata": {},
   "source": [
    "## Find saturation state by varying wt% H<sub>2</sub>O\n",
    "Create a function used to zero the affinity at fixed T and P by varying the water content"
   ]
  },
  {
   "cell_type": "code",
   "execution_count": 16,
   "metadata": {},
   "outputs": [],
   "source": [
    "def zero_w(wtH2O):\n",
    "    global t, p, X, grm_oxides\n",
    "    new_sum = 100.0 - wtH2O\n",
    "    old_sum = sum(grm_oxides.values()) - grm_oxides['H2O'] \n",
    "    new_oxides = {}\n",
    "    for key in grm_oxides.keys():\n",
    "        if key == 'H2O':\n",
    "            new_oxides['H2O'] = wtH2O\n",
    "        else:\n",
    "            new_oxides[key] = grm_oxides[key]*new_sum/old_sum\n",
    "    mol_oxides = core.chem.format_mol_oxide_comp(new_oxides, convert_grams_to_moles=True)\n",
    "    moles_end,oxide_res = Liquid.calc_endmember_comp(\n",
    "    mol_oxide_comp=mol_oxides, method='intrinsic', output_residual=True)\n",
    "    muLiq = Liquid.chem_potential(t, p, mol=moles_end)\n",
    "    muFld = reactions(t, p, muLiq)\n",
    "    A, X = Feldspar.affinity_and_comp(t, p, muFld, debug=False, method='special')\n",
    "    return A"
   ]
  },
  {
   "cell_type": "markdown",
   "metadata": {},
   "source": [
    "Next, use a root finder to solve for wt% H<sub>2</sub>O at saturation"
   ]
  },
  {
   "cell_type": "code",
   "execution_count": 17,
   "metadata": {},
   "outputs": [
    {
     "name": "stdout",
     "output_type": "stream",
     "text": [
      "Saturated at 6.806 Wt % H2O\n",
      "Composition: [0.713344   0.22731096 0.05934504]\n"
     ]
    }
   ],
   "source": [
    "sol = opt.root(zero_w, grm_oxides['H2O'])\n",
    "print ('Saturated at', round(sol.x[0],3),'Wt % H2O')\n",
    "print ('Composition:', X)"
   ]
  }
 ],
 "metadata": {
  "anaconda-cloud": {},
  "kernelspec": {
   "display_name": "Python 3",
   "language": "python",
   "name": "python3"
  },
  "language_info": {
   "codemirror_mode": {
    "name": "ipython",
    "version": 3
   },
   "file_extension": ".py",
   "mimetype": "text/x-python",
   "name": "python",
   "nbconvert_exporter": "python",
   "pygments_lexer": "ipython3",
   "version": "3.7.6"
  }
 },
 "nbformat": 4,
 "nbformat_minor": 4
}
