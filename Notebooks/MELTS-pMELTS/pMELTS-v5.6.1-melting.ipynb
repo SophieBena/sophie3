{
 "cells": [
  {
   "cell_type": "markdown",
   "metadata": {},
   "source": [
    "# pMELTS\n",
    "  \n",
    "Versions of MELTS implemented are:  \n",
    "- MELTS v. 1.0.2 ➞ (rhyolite-MELTS, Gualda et al., 2012)  \n",
    "- MELTS v. 1.1.0 ➞ (rhyolite-MELTS + new CO<sub>2</sub>, works at the ternary minimum)  \n",
    "- MELTS v. 1.2.0 ➞ (rhyolite-MELTS + new H<sub>2</sub>O + new CO<sub>2</sub>)  \n",
    "- pMELTS v. 5.6.1"
   ]
  },
  {
   "cell_type": "markdown",
   "metadata": {},
   "source": [
    "## Initialize tools and packages that are required to execute this notebook."
   ]
  },
  {
   "cell_type": "code",
   "execution_count": null,
   "metadata": {},
   "outputs": [],
   "source": [
    "from thermoengine import equilibrate\n",
    "import matplotlib.pyplot as plt\n",
    "import numpy as np\n",
    "%matplotlib inline"
   ]
  },
  {
   "cell_type": "markdown",
   "metadata": {},
   "source": [
    "## Create a pMELTS v 5.6.1 instance.\n",
    "Rhyolite-MELTS version 1.0.2 is the default model."
   ]
  },
  {
   "cell_type": "code",
   "execution_count": null,
   "metadata": {},
   "outputs": [],
   "source": [
    "melts = equilibrate.MELTSmodel(version=\"5.6.1\")"
   ]
  },
  {
   "cell_type": "markdown",
   "metadata": {},
   "source": [
    "### Optional: Generate some information about the implemented model."
   ]
  },
  {
   "cell_type": "code",
   "execution_count": null,
   "metadata": {},
   "outputs": [],
   "source": [
    "oxides = melts.get_oxide_names()\n",
    "phases = melts.get_phase_names()\n",
    "#print (oxides)\n",
    "#print (phases)"
   ]
  },
  {
   "cell_type": "markdown",
   "metadata": {},
   "source": [
    "## Required: Input initial composition of the system (liquid), in wt% or grams of oxides. \n",
    "Early Bishop Tuff average melt inlusion composition"
   ]
  },
  {
   "cell_type": "code",
   "execution_count": null,
   "metadata": {},
   "outputs": [],
   "source": [
    "feasible = melts.set_bulk_composition({'SiO2':  45.47, \n",
    "                                       'TiO2':   0.11, \n",
    "                                       'Al2O3':  4.0, \n",
    "                                       'Fe2O3':  0.585,\n",
    "                                       'Cr2O3':  0.0, \n",
    "                                       'FeO':    6.696, \n",
    "                                       'MnO':    0.0,\n",
    "                                       'MgO':   38.53, \n",
    "                                       'NiO':    0.0, \n",
    "                                       'CoO':    0.0,\n",
    "                                       'CaO':    3.59, \n",
    "                                       'Na2O':   0.31, \n",
    "                                       'K2O':    0.0, \n",
    "                                       'P2O5':   0.0, \n",
    "                                       'H2O':    0.0})"
   ]
  },
  {
   "cell_type": "markdown",
   "metadata": {},
   "source": [
    "## Optional: Suppress phases that are not required in the simulation."
   ]
  },
  {
   "cell_type": "code",
   "execution_count": null,
   "metadata": {},
   "outputs": [],
   "source": [
    "b = melts.get_phase_inclusion_status()\n",
    "melts.set_phase_inclusion_status({'Actinolite':False, 'Aegirine':False, \\\n",
    "                                  'Aenigmatite':False, 'Akermanite':False, 'Andalusite':False, \\\n",
    "                                  'Anthophyllite':False, 'Apatite':False, 'Biotite':False, 'Chromite':False, \\\n",
    "                                  'Coesite':False, 'Corundum':False, 'Cristobalite':False, 'Cummingtonite':False, \\\n",
    "                                  'Fayalite':False, 'Forsterite':False, 'Gehlenite':False, 'Hematite':False, \\\n",
    "                                  'Hornblende':False, 'Ilmenite':False, 'Ilmenite ss':False, 'Kalsilite':False, \\\n",
    "                                  'Kalsilite ss':False, 'Kyanite':False, 'Leucite':False, 'Lime':False, \\\n",
    "                                  'Liquid Alloy':False, 'Magnetite':False, 'Melilite':False, 'Muscovite':False, \\\n",
    "                                  'Nepheline':False, 'Nepheline ss':False, 'OrthoOxide':False, 'Panunzite':False, \\\n",
    "                                  'Periclase':False, 'Perovskite':False, 'Phlogopite':False, 'Quartz':False, \\\n",
    "                                  'Rutile':False, 'Sanidine':False, 'Sillimanite':False, 'Solid Alloy':False, \\\n",
    "                                  'Sphene':False, 'Tridymite':False, 'Whitlockite':False})\n",
    "\n",
    "a = melts.get_phase_inclusion_status()\n",
    "for phase in b.keys():\n",
    "    if b[phase] != a[phase]:\n",
    "        print (\"{0:<15s} Before: {1:<5s} After: {2:<5s}\".format(phase, repr(b[phase]), repr(a[phase])))"
   ]
  },
  {
   "cell_type": "markdown",
   "metadata": {},
   "source": [
    "## Compute the equilibrium state at some specified T (°C) and P (MPa).\n",
    "Print status of the calculation."
   ]
  },
  {
   "cell_type": "code",
   "execution_count": null,
   "metadata": {},
   "outputs": [],
   "source": [
    "output = melts.equilibrate_tp(1300.0, 1000.0, initialize=True)\n",
    "(status, t, p, xmlout) = output[0]\n",
    "print (status, t, p)"
   ]
  },
  {
   "cell_type": "markdown",
   "metadata": {},
   "source": [
    "### Summary output of equilibrium state ..."
   ]
  },
  {
   "cell_type": "code",
   "execution_count": null,
   "metadata": {},
   "outputs": [],
   "source": [
    "melts.output_summary(xmlout)"
   ]
  },
  {
   "cell_type": "markdown",
   "metadata": {},
   "source": [
    "### Output thermodynamic properties of any phase present in the system\n",
    "... or the sum of all phases in the system"
   ]
  },
  {
   "cell_type": "code",
   "execution_count": null,
   "metadata": {},
   "outputs": [],
   "source": [
    "print (\"{0:<20s} {1:13.6e} {2:<10s}\".format('Entropy', melts.get_property_of_phase(xmlout,'System', 'Entropy'), \\\n",
    "                                            melts.get_units_of_property('Entropy')))"
   ]
  },
  {
   "cell_type": "markdown",
   "metadata": {},
   "source": [
    "## Run the sequence of calculations along a T, P gradient:\n",
    "Output is sent to an Excel file and plotted in the notebook"
   ]
  },
  {
   "cell_type": "code",
   "execution_count": null,
   "metadata": {},
   "outputs": [],
   "source": [
    "number_of_steps = 20\n",
    "t_increment_of_steps = -5.0\n",
    "p_increment_of_steps = -50.0\n",
    "\n",
    "plotPhases = ['Liquid', 'Olivine', 'Orthopyroxene', 'Augite', 'Plagioclase']\n",
    "# matplotlib colors b : blue, g : green, r : red, c : cyan, m : magenta, y : yellow, k : black, w : white.\n",
    "plotColors = [ 'ro', 'bo', 'go', 'co', 'mo']\n",
    "\n",
    "wb = melts.start_excel_workbook_with_sheet_name(sheetName=\"Summary\")\n",
    "melts.update_excel_workbook(wb, xmlout)\n",
    "\n",
    "n = len(plotPhases)\n",
    "xPlot = np.zeros(number_of_steps)\n",
    "yPlot = np.zeros((n, number_of_steps))\n",
    "y2Plot = np.full(number_of_steps, t)\n",
    "xPlot[0] = p\n",
    "for i in range (0, n):\n",
    "    yPlot[i][0] = melts.get_property_of_phase(xmlout, plotPhases[i])\n",
    "y2Plot[0] = t\n",
    "\n",
    "plt.ion()\n",
    "fig = plt.figure()\n",
    "ax = fig.add_subplot(111)\n",
    "ax.set_xlim([min(p, p+p_increment_of_steps*number_of_steps), max(p, p+p_increment_of_steps*number_of_steps)])\n",
    "ax.set_ylim([0., 100.])\n",
    "ax2 = ax.twinx()\n",
    "ax2.set_ylabel('T', color='k')\n",
    "ax2.set_ylim([t-100, t])\n",
    "\n",
    "graphs = []\n",
    "for i in range (0, n):\n",
    "    graphs.append(ax.plot(xPlot, yPlot[i], plotColors[i]))\n",
    "graphs.append(ax2.plot(xPlot, y2Plot, 'k-'))\n",
    "handle = []\n",
    "for (graph,) in graphs:\n",
    "    handle.append(graph)\n",
    "ax.legend(handle, plotPhases, loc='upper left')\n",
    "\n",
    "for i in range (1, number_of_steps):\n",
    "    output = melts.equilibrate_tp(t+t_increment_of_steps, p+p_increment_of_steps)\n",
    "    (status, t, p, xmlout) = output[0]\n",
    "    print (\"{0:<30s} {1:8.2f} {2:8.2f}\".format(status, t, p))\n",
    "    xPlot[i] = p\n",
    "    for j in range (0, n):\n",
    "        yPlot[j][i] = melts.get_property_of_phase(xmlout, plotPhases[j])\n",
    "    y2Plot[i] = t\n",
    "    j = 0\n",
    "    for (graph,) in graphs:\n",
    "        graph.set_xdata(xPlot)\n",
    "        if j < n:\n",
    "            graph.set_ydata(yPlot[j])\n",
    "        else:\n",
    "            graph.set_ydata(y2Plot)\n",
    "        j = j + 1\n",
    "    fig.canvas.draw()\n",
    "    melts.update_excel_workbook(wb, xmlout)\n",
    "\n",
    "melts.write_excel_workbook(wb, \"MELTSv102summary.xlsx\")"
   ]
  },
  {
   "cell_type": "code",
   "execution_count": null,
   "metadata": {},
   "outputs": [],
   "source": []
  }
 ],
 "metadata": {
  "anaconda-cloud": {},
  "kernelspec": {
   "display_name": "Python 3 (ipykernel)",
   "language": "python",
   "name": "python3"
  },
  "language_info": {
   "codemirror_mode": {
    "name": "ipython",
    "version": 3
   },
   "file_extension": ".py",
   "mimetype": "text/x-python",
   "name": "python",
   "nbconvert_exporter": "python",
   "pygments_lexer": "ipython3",
   "version": "3.9.7"
  }
 },
 "nbformat": 4,
 "nbformat_minor": 4
}
