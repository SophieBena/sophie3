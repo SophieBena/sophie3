{
 "cells": [
  {
   "cell_type": "markdown",
   "metadata": {},
   "source": [
    "# PhaseObjC - DEW Standard State properties"
   ]
  },
  {
   "cell_type": "markdown",
   "metadata": {},
   "source": [
    "Required python code to load the PhaseObjC library.  The library libphaseobjc.dylib (see build instructions in README.md) must be locatable to the system in a standard location (by default /usr/local/lib)"
   ]
  },
  {
   "cell_type": "code",
   "execution_count": null,
   "metadata": {},
   "outputs": [],
   "source": [
    "import numpy as np\n",
    "from ctypes import cdll\n",
    "from ctypes import util\n",
    "from rubicon.objc import ObjCClass, objc_method\n",
    "cdll.LoadLibrary(util.find_library('phaseobjc'))"
   ]
  },
  {
   "cell_type": "code",
   "execution_count": null,
   "metadata": {},
   "outputs": [],
   "source": [
    "DEWFluid = ObjCClass('DEWFluid')\n",
    "obj = DEWFluid.alloc().init()\n",
    "print (obj.phaseName)\n",
    "ns = obj.numberOfSolutionSpecies()\n",
    "print ('Number of species = ', ns)"
   ]
  },
  {
   "cell_type": "markdown",
   "metadata": {},
   "source": [
    "## Compute standard state chemical potentials of endmember components/species ...\n",
    "The standard state Gibbs free energies of all the species known to my implementation of DEW are printed and stopred in a python dictionary, called species  \n",
    "Indoividual species can be accessed by specifying e.g. species['CO2,aq']"
   ]
  },
  {
   "cell_type": "code",
   "execution_count": null,
   "metadata": {},
   "outputs": [],
   "source": [
    "t = 399.85 + 273.15 # K\n",
    "p = 23599.0 # bars\n",
    "print(\"{0:>20s} {1:>15s}\".format('species', 'mu0'))\n",
    "species = {}\n",
    "for i in range (0, ns):\n",
    "    pure = obj.componentAtIndex_(i)\n",
    "    g = pure.getGibbsFreeEnergyFromT_andP_(t, p)\n",
    "    print(\"{0:>20s} {1:15.2f}\".format(obj.nameOfSolutionSpeciesAtIndex_(i), g))\n",
    "    species[obj.nameOfSolutionSpeciesAtIndex_(i)] = g"
   ]
  },
  {
   "cell_type": "code",
   "execution_count": null,
   "metadata": {},
   "outputs": [],
   "source": [
    "print (species['CO2,aq'])"
   ]
  },
  {
   "cell_type": "code",
   "execution_count": null,
   "metadata": {},
   "outputs": [],
   "source": []
  }
 ],
 "metadata": {
  "anaconda-cloud": {},
  "kernelspec": {
   "display_name": "Python 3",
   "language": "python",
   "name": "python3"
  },
  "language_info": {
   "codemirror_mode": {
    "name": "ipython",
    "version": 3
   },
   "file_extension": ".py",
   "mimetype": "text/x-python",
   "name": "python",
   "nbconvert_exporter": "python",
   "pygments_lexer": "ipython3",
   "version": "3.7.9"
  }
 },
 "nbformat": 4,
 "nbformat_minor": 4
}
