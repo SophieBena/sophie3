{
 "cells": [
  {
   "cell_type": "markdown",
   "metadata": {},
   "source": [
    "## PhaseObjC - DEW Quartz Solubility"
   ]
  },
  {
   "cell_type": "markdown",
   "metadata": {},
   "source": [
    "Required python code to load the PhaseObjC library.  The library libphaseobjc.dylib (see build instructions in README.md) must be locatable to teh system in a standard location (by default /usr/local/lib)"
   ]
  },
  {
   "cell_type": "code",
   "execution_count": null,
   "metadata": {},
   "outputs": [],
   "source": [
    "from ctypes import cdll\n",
    "from ctypes import util\n",
    "from rubicon.objc import ObjCClass, objc_method\n",
    "cdll.LoadLibrary(util.find_library('phaseobjc'))"
   ]
  },
  {
   "cell_type": "markdown",
   "metadata": {},
   "source": [
    "#### Create a python reference to the DEWFluid class and instantiate an instance of that class.  \n",
    "In Objective-C the code has the form:\n",
    "```\n",
    "obj = [[CpxBerman alloc] init]\n",
    "```\n",
    "and in python:"
   ]
  },
  {
   "cell_type": "code",
   "execution_count": null,
   "metadata": {},
   "outputs": [],
   "source": [
    "DEWFluid = ObjCClass('DEWFluid')\n",
    "obj = DEWFluid.alloc().init()"
   ]
  },
  {
   "cell_type": "markdown",
   "metadata": {},
   "source": [
    "#### Create a python reference to the Quartz class and instantiate the phase"
   ]
  },
  {
   "cell_type": "code",
   "execution_count": null,
   "metadata": {},
   "outputs": [],
   "source": [
    "Quartz = ObjCClass('QuartzBerman')\n",
    "qtz = Quartz.alloc().init()"
   ]
  },
  {
   "cell_type": "markdown",
   "metadata": {},
   "source": [
    "##### Obtain properties of the phase inherited from the PhaseBase class.  "
   ]
  },
  {
   "cell_type": "code",
   "execution_count": null,
   "metadata": {},
   "outputs": [],
   "source": [
    "print (obj.phaseName)\n",
    "print (qtz.phaseName)"
   ]
  },
  {
   "cell_type": "markdown",
   "metadata": {},
   "source": [
    "## Solution Protocol Functions"
   ]
  },
  {
   "cell_type": "markdown",
   "metadata": {},
   "source": [
    "### Solution component and species number ...\n",
    "--> Retrieves the number of endmember components in the system\n",
    "```\n",
    "(NSUInteger)numberOfSolutionComponents  \n",
    "```\n",
    "--> Retrieves the number of species (dependent endmembers with positive mole fractions) in the soluton\n",
    "```\n",
    "(NSUInteger)numberOfSolutionSpecies\n",
    "```\n",
    "Note that the number of components (nc) may be the same as the number of endmember species (ns) if the solution does not involve speciation (complexing) or if the solid solution is not a reciprocal solution."
   ]
  },
  {
   "cell_type": "code",
   "execution_count": null,
   "metadata": {},
   "outputs": [],
   "source": [
    "nc = obj.numberOfSolutionComponents()\n",
    "print ('Number of components = ', nc)\n",
    "ns = obj.numberOfSolutionSpecies()\n",
    "print ('Number of species = ', ns)"
   ]
  },
  {
   "cell_type": "markdown",
   "metadata": {},
   "source": [
    "### Information about solution components ...\n",
    "Return name, formula and molecular weight of each end-member component in the solution.  Note teh use of the PhaseBase class (for further info see the Stoichiometric Phase notebook examples)  \n",
    "\n",
    "--> Retrieves superclass instance of PhaseBase object for component at specified index  \n",
    "```\n",
    "(id)componentAtIndex:(NSUInteger)index  \n",
    "```"
   ]
  },
  {
   "cell_type": "code",
   "execution_count": null,
   "metadata": {},
   "outputs": [],
   "source": [
    "PhaseBase = ObjCClass('PhaseBase')\n",
    "print ('Component name'.ljust(20), '\\t', 'Formula'.ljust(20), '\\t', 'Molecular weight (g/mol)')\n",
    "for i in range(0, nc):\n",
    "    component = obj.componentAtIndex_(i)\n",
    "    print (component.phaseName.ljust(20), '\\t', component.phaseFormula.ljust(20), '\\t', component.mw)"
   ]
  },
  {
   "cell_type": "markdown",
   "metadata": {},
   "source": [
    "### Create a vector of moles of endmember components ...\n",
    "Allocate a \"c\"-type pointer to a double precision one-dimensional array, and initialize the array to hold the moles of each component in the solution"
   ]
  },
  {
   "cell_type": "code",
   "execution_count": null,
   "metadata": {},
   "outputs": [],
   "source": [
    "import ctypes\n",
    "m = (ctypes.c_double*nc)()\n",
    "ctypes.cast(m, ctypes.POINTER(ctypes.c_double))\n",
    "m[ 0] =  55.55\n",
    "m[ 1] =   0.0\n",
    "m[ 2] =   0.0\n",
    "m[ 3] =   0.0\n",
    "m[ 4] =   0.0\n",
    "m[ 5] =   0.0\n",
    "m[ 6] =   0.0\n",
    "m[ 7] =   0.04223 # 0.03 at 400 C and 2 kb, 0.3 at 600 C and 10 kb\n",
    "m[ 8] =   0.0\n",
    "m[ 9] =   0.0\n",
    "m[10] =   0.0\n",
    "m[11] =   0.0\n",
    "m[12] =   0.0\n",
    "m[13] =   0.0\n",
    "m[14] =   0.0\n",
    "m[15] =   0.0\n",
    "m[16] =   0.0\n",
    "for i in range (0, nc):\n",
    "    component = obj.componentAtIndex_(i)\n",
    "    if m[i] > 0.0:\n",
    "        print ('moles of (', component.phaseName.ljust(20), ') = ', m[i])"
   ]
  },
  {
   "cell_type": "markdown",
   "metadata": {},
   "source": [
    "### Test the mole vector and output derived quantities ...\n"
   ]
  },
  {
   "cell_type": "code",
   "execution_count": null,
   "metadata": {},
   "outputs": [],
   "source": [
    "if (obj.testPermissibleValuesOfComponents_(m) == 1):\n",
    "    print ('mole input is feasible')\n",
    "else:\n",
    "    print ('mole input is infeasible')\n",
    "    \n",
    "print ('Total moles = ', obj.totalMolesFromMolesOfComponents_(m))\n",
    "\n",
    "mole_frac_pointer = obj.convertMolesToMoleFractions_(m)\n",
    "print ('component name'.ljust(20), 'component formula'.ljust(20), 'mole fraction')\n",
    "for i in range (0, nc):\n",
    "    if m[i] > 0.0:\n",
    "        print (obj.componentAtIndex_(i).phaseName.ljust(20), obj.componentAtIndex_(i).phaseFormula.ljust(20), mole_frac_pointer.valueAtIndex_(i))\n",
    "\n",
    "moles_pointer = obj.convertMolesToElements_(m)\n",
    "ne = moles_pointer.size\n",
    "formula = ''\n",
    "for i in range(0, ne):\n",
    "    value = moles_pointer.valueAtIndex_(i)\n",
    "    if value != 0.0:\n",
    "        name = PhaseBase.elementNameFromAtomicNumber_(i)\n",
    "        formula = formula + name + '(' + str(value) + ')'\n",
    "print ('Solution formula = ', formula)"
   ]
  },
  {
   "cell_type": "markdown",
   "metadata": {},
   "source": [
    "#### Change convention for Berman properties\n",
    "Use Helgeson (SUPCRT) convention of Gibbs free energy of formation rather than enthalpy of formation at Tr, Pr  \n",
    "Do not implement quartz enthalpy correction that is used in rhyolite-MELTS"
   ]
  },
  {
   "cell_type": "code",
   "execution_count": null,
   "metadata": {},
   "outputs": [],
   "source": [
    "Quartz.enableGibbsFreeEnergyReferenceStateUsed()\n",
    "Quartz.disableQuartzCorrectionUsed()"
   ]
  },
  {
   "cell_type": "markdown",
   "metadata": {},
   "source": [
    "### Compute activties and chemical potentials of endmember components/species ..."
   ]
  },
  {
   "cell_type": "code",
   "execution_count": null,
   "metadata": {},
   "outputs": [],
   "source": [
    "BermanGTrPr = -856288.0\n",
    "t = 673.15\n",
    "p = 1000.0\n",
    "\n",
    "activity = obj.getActivityFromMolesOfComponents_andT_andP_(m, t, p)\n",
    "potential = obj.getChemicalPotentialFromMolesOfComponents_andT_andP_(m, t, p)\n",
    "print ('Gibbs free energy (J) = ', obj.getGibbsFreeEnergyFromMolesOfComponents_andT_andP_(m, t, p))\n",
    "print ('component, activity, chemical potential, mu0')\n",
    "\n",
    "mu0_quartz = qtz.getGibbsFreeEnergyFromT_andP_(t, p)\n",
    "\n",
    "for i in range (0, nc):\n",
    "    if m[i] > 0.0:\n",
    "        component = obj.componentAtIndex_(i)\n",
    "        g = component.getGibbsFreeEnergyFromT_andP_(t, p)\n",
    "        print (\"{0:>20s} {1:10.6f} {2:15.2f} {3:15.2f}\".format(component.phaseName, activity.valueAtIndex_(i), potential.valueAtIndex_(i), g))\n",
    "print (\"{0:>20s} {1:15.2f}\".format('Quartz', mu0_quartz))\n",
    "import numpy as np\n",
    "muSpecies = obj.chemicalPotentialsOfSpeciesFromMolesOfComponents_andT_andP_(m, t, p)\n",
    "print ('species, activity, mu, mu0')\n",
    "for i in range (0, ns):\n",
    "    if muSpecies.valueAtIndex_(i) != 0.0:\n",
    "        pure = obj.componentAtIndex_(i)\n",
    "        g = pure.getGibbsFreeEnergyFromT_andP_(t, p)\n",
    "        print(\"{0:>20s} {1:10.6e} {2:15.2f} {3:15.2f}\".format(obj.nameOfSolutionSpeciesAtIndex_(i), np.exp((muSpecies.valueAtIndex_(i)-g)/8.3143/t), muSpecies.valueAtIndex_(i), g))\n",
    "print ('deltaG quartz -> SiO2 (aq)', muSpecies.valueAtIndex_(7)-mu0_quartz)\n",
    "print (\"at log (molality) = {0:10.6e}\".format(np.log10(m[7])))"
   ]
  },
  {
   "cell_type": "code",
   "execution_count": null,
   "metadata": {},
   "outputs": [],
   "source": [
    "print (\"{0:>10s} {1:10.6f} {2:10.6f} {3:10.6f}\".format('G TP TPr TrPr', qtz.getGibbsFreeEnergyFromT_andP_(t, p), qtz.getGibbsFreeEnergyFromT_andP_(t, 1.0), qtz.getGibbsFreeEnergyFromT_andP_(298.15, 1.0)))\n",
    "print (\"{0:>10s} {1:10.6f} {2:10.6f} {3:10.6f}\".format('H TP TPr TrPr', qtz.getEnthalpyFromT_andP_(t, p), qtz.getEnthalpyFromT_andP_(t, 1.0), qtz.getEnthalpyFromT_andP_(298.15, 1.0)))\n",
    "print (\"{0:>10s} {1:10.6f} {2:10.6f} {3:10.6f}\".format('S TP TPr TrPr', qtz.getEntropyFromT_andP_(t, p), qtz.getEntropyFromT_andP_(t, 1.0), qtz.getEntropyFromT_andP_(298.15, 1.0)))\n",
    "print (\"{0:>10s} {1:10.6f} {2:10.6f} {3:10.6f}\".format('C TP TPr TrPr', qtz.getHeatCapacityFromT_andP_(t, p), qtz.getHeatCapacityFromT_andP_(t, 1.0), qtz.getHeatCapacityFromT_andP_(298.15, 1.0)))\n",
    "\n",
    "HTP = qtz.getEnthalpyFromT_andP_(t, p)\n",
    "HTrPr = qtz.getEnthalpyFromT_andP_(298.15, 1.0)\n",
    "STP = qtz.getEntropyFromT_andP_(t,p)\n",
    "STrPr = qtz.getEntropyFromT_andP_(298.15, 1.0)\n",
    "GTP = qtz.getGibbsFreeEnergyFromT_andP_(t, p)\n",
    "GTrPr = qtz.getGibbsFreeEnergyFromT_andP_(298.15, 1.0)\n",
    "\n",
    "print ('G(T,P)-G(Tr,Pr) = ', GTP - GTrPr)\n",
    "\n",
    "BermanG = -856288\n",
    "BermanH = -910700\n",
    "\n",
    "print ('Berman deltaG-deltaH formation at 298 K and 1 bar', BermanG - BermanH)\n",
    "print ('BermanG + integral from PhaseObjC', BermanG+GTP-GTrPr)\n",
    "\n",
    "print ('Dimitri at 400C and 1KB deltaG quartz = ', -210026.5*4.184)\n",
    "print ('Dimitri at 400C and 1KB deltaG SiO2,aq = ', -204755.13*4.184)\n",
    "print ('Dimitri at 400C and 1KB deltaG Si2O4 = ', -413054.54*4.184)"
   ]
  },
  {
   "cell_type": "code",
   "execution_count": null,
   "metadata": {},
   "outputs": [],
   "source": []
  }
 ],
 "metadata": {
  "anaconda-cloud": {},
  "kernelspec": {
   "display_name": "Python 3",
   "language": "python",
   "name": "python3"
  },
  "language_info": {
   "codemirror_mode": {
    "name": "ipython",
    "version": 3
   },
   "file_extension": ".py",
   "mimetype": "text/x-python",
   "name": "python",
   "nbconvert_exporter": "python",
   "pygments_lexer": "ipython3",
   "version": "3.7.9"
  }
 },
 "nbformat": 4,
 "nbformat_minor": 4
}
