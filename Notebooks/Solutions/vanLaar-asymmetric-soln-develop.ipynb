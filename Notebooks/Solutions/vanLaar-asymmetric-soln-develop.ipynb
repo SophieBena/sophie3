{
 "cells": [
  {
   "cell_type": "markdown",
   "metadata": {},
   "source": [
    "# Simple Demo of Binary van-Laar solution model\n",
    "- based on Holland2003"
   ]
  },
  {
   "cell_type": "code",
   "execution_count": null,
   "metadata": {},
   "outputs": [],
   "source": [
    "import numpy as np\n",
    "import scipy as sp\n",
    "from scipy import spatial\n",
    "from scipy import interpolate\n",
    "import matplotlib.pyplot as plt\n"
   ]
  },
  {
   "cell_type": "code",
   "execution_count": null,
   "metadata": {},
   "outputs": [],
   "source": []
  },
  {
   "cell_type": "code",
   "execution_count": null,
   "metadata": {},
   "outputs": [],
   "source": [
    "def calc_activity(X, loga_coef):\n",
    "    activity = X*np.exp(loga_coef)\n",
    "    return activity\n",
    "\n",
    "def loga_coef_regular(X, W):\n",
    "    loga_coef = W*(1-X)**2\n",
    "    return loga_coef\n",
    "\n",
    "\n",
    "def loga_coef_vanlaar(X, W, alpha):\n",
    "    # assumes alpha1=1\n",
    "\n",
    "    # W_asymm = W*2*alpha1/(alpha1+alpha2)\n",
    "    # phi1 = X*alpha1/(X*alpha1+(1-X)*alpha2)\n",
    "    \n",
    "    W_asymm = W*2*1/(1+alpha)\n",
    "    phi = X*1/(X*1+(1-X)*alpha)\n",
    "    loga_coef = W_asymm*(1-phi)**2\n",
    "    return loga_coef\n",
    "\n",
    "def calc_XlogX(X):\n",
    "    XlogX = X*np.log(X)\n",
    "    XlogX[X==0] = 0\n",
    "    return XlogX"
   ]
  },
  {
   "cell_type": "code",
   "execution_count": null,
   "metadata": {},
   "outputs": [],
   "source": []
  },
  {
   "cell_type": "code",
   "execution_count": null,
   "metadata": {},
   "outputs": [],
   "source": [
    "X = np.linspace(0,1,301)"
   ]
  },
  {
   "cell_type": "code",
   "execution_count": null,
   "metadata": {},
   "outputs": [],
   "source": [
    "W = 1\n",
    "alpha = .5"
   ]
  },
  {
   "cell_type": "code",
   "execution_count": null,
   "metadata": {},
   "outputs": [],
   "source": [
    "alpha = .2/(1-.2)\n",
    "alpha"
   ]
  },
  {
   "cell_type": "code",
   "execution_count": null,
   "metadata": {},
   "outputs": [],
   "source": []
  },
  {
   "cell_type": "code",
   "execution_count": null,
   "metadata": {},
   "outputs": [],
   "source": [
    "loga_coef = loga_coef_regular(X, W)\n",
    "activity = calc_activity(X, loga_coef)\n",
    "loga_coef_2 = loga_coef_regular(1-X, W)\n",
    "activity_2 = calc_activity(1-X, loga_coef_2)\n"
   ]
  },
  {
   "cell_type": "code",
   "execution_count": null,
   "metadata": {},
   "outputs": [],
   "source": []
  },
  {
   "cell_type": "code",
   "execution_count": null,
   "metadata": {},
   "outputs": [],
   "source": [
    "def calc_regular_soln(X, W):\n",
    "    loga_coef = loga_coef_regular(X, W)\n",
    "    activity = calc_activity(X, loga_coef)\n",
    "    loga_coef_2 = loga_coef_regular(1-X, W)\n",
    "    activity_2 = calc_activity(1-X, loga_coef_2)\n",
    "\n",
    "    G_XS = W*X*(1-X)\n",
    "    S_mix_ideal = -(calc_XlogX(X)+calc_XlogX(1-X))   \n",
    "    \n",
    "    model = {}\n",
    "    model['X'] = X\n",
    "    model['W'] = W\n",
    "    model['X1'] = X\n",
    "    model['X2'] = 1-X\n",
    "    model['loga_coef1'] = loga_coef\n",
    "    model['loga_coef2'] = loga_coef_2\n",
    "    model['a1'] = activity\n",
    "    model['a2'] = activity_2\n",
    "    \n",
    "    model['G_XS'] = G_XS\n",
    "    model['S_mix_ideal'] = S_mix_ideal\n",
    "    \n",
    "    return model"
   ]
  },
  {
   "cell_type": "code",
   "execution_count": null,
   "metadata": {},
   "outputs": [],
   "source": [
    "# G_mix_ideal = -RT*S_mix_ideal\n",
    "# G_mix = G_mix_ideal + G_XS "
   ]
  },
  {
   "cell_type": "code",
   "execution_count": null,
   "metadata": {},
   "outputs": [],
   "source": [
    "def calc_asymm_soln(X, W, alpha):\n",
    "    loga_coef = loga_coef_vanlaar(X, W, alpha)\n",
    "    activity = calc_activity(X, loga_coef)\n",
    "\n",
    "    loga_coef_2 = loga_coef_vanlaar(1-X, W, 1/alpha)\n",
    "    activity_2 = calc_activity(1-X, loga_coef_2)\n",
    "\n",
    "    G_XS = X*loga_coef + (1-X)*loga_coef_2\n",
    "    S_mix_ideal = -(calc_XlogX(X)+calc_XlogX(1-X))   \n",
    "    \n",
    "    model = {}\n",
    "    model['X'] = X\n",
    "    model['W'] = W\n",
    "    model['X1'] = X\n",
    "    model['X2'] = 1-X\n",
    "    model['loga_coef1'] = loga_coef\n",
    "    model['loga_coef2'] = loga_coef_2\n",
    "    model['a1'] = activity\n",
    "    model['a2'] = activity_2\n",
    "    \n",
    "    model['G_XS'] = G_XS\n",
    "    model['S_mix_ideal'] = S_mix_ideal\n",
    "    \n",
    "    return model"
   ]
  },
  {
   "cell_type": "code",
   "execution_count": null,
   "metadata": {},
   "outputs": [],
   "source": [
    "mod_regular = calc_regular_soln(X, W)\n",
    "mod_asymm = calc_asymm_soln(X, W, alpha)"
   ]
  },
  {
   "cell_type": "code",
   "execution_count": null,
   "metadata": {},
   "outputs": [],
   "source": []
  },
  {
   "cell_type": "code",
   "execution_count": null,
   "metadata": {},
   "outputs": [],
   "source": []
  },
  {
   "cell_type": "code",
   "execution_count": null,
   "metadata": {},
   "outputs": [],
   "source": [
    "def plot_aX(mod, label, fmt, figure=None):\n",
    "    if figure is None:\n",
    "        figure = plt.figure()\n",
    "\n",
    "    plt.plot(mod['X'], mod['a1'], fmt,label=label)\n",
    "    plt.plot(mod['X'], mod['a2'], fmt)\n",
    "\n",
    "    plt.plot(mod['X'], mod['X'], ':',color='gray')\n",
    "    plt.plot(mod['X'], 1-mod['X'], ':',color='gray')\n",
    "\n",
    "    plt.xlim(0,1)\n",
    "    plt.xlabel('X')\n",
    "    plt.ylabel('a')\n",
    "    plt.legend()\n",
    "    return figure"
   ]
  },
  {
   "cell_type": "code",
   "execution_count": null,
   "metadata": {},
   "outputs": [],
   "source": [
    "figure = plot_aX(mod_regular, 'regular', 'k--')\n",
    "figure = plot_aX(mod_asymm, 'van laar', 'r-', figure=figure)"
   ]
  },
  {
   "cell_type": "code",
   "execution_count": null,
   "metadata": {},
   "outputs": [],
   "source": []
  },
  {
   "cell_type": "markdown",
   "metadata": {},
   "source": [
    "# Solvus Calculation"
   ]
  },
  {
   "cell_type": "code",
   "execution_count": null,
   "metadata": {},
   "outputs": [],
   "source": [
    "def get_hull_ind(X, G_mix, fac=None):\n",
    "    if fac is None:\n",
    "        fac = 100\n",
    "\n",
    "    max_G = np.max(np.abs(G_mix))\n",
    "    \n",
    "    upper_hull = [0.5, max_G*fac]\n",
    "    XG = np.vstack((X, G_mix)).T\n",
    "    XG = np.vstack((XG, upper_hull))\n",
    "    hull = spatial.ConvexHull(XG)\n",
    "    \n",
    "    ind_hull = list(hull.vertices)\n",
    "    ind_hull.remove(len(X))\n",
    "    ind_hull = np.sort(ind_hull)\n",
    "\n",
    "    return ind_hull\n",
    "\n",
    "def get_solvus_bounds(X, G_mix, fac=None, N=1001, output_hull=False):           \n",
    "    f_hires = interpolate.interp1d(X, G_mix, kind='cubic')\n",
    "    X_hires = np.linspace(X[0], X[-1], N)\n",
    "    G_mix_hires = f_hires(X_hires)\n",
    "    \n",
    "    ind_hull = get_hull_ind(X_hires, G_mix_hires, fac)\n",
    "    \n",
    "    \n",
    "    if np.all(~(np.diff(ind_hull)>1)):\n",
    "        X_gap_bnds = [np.nan, np.nan]\n",
    "        X_hull = X_hires\n",
    "        G_mix_hull = G_mix_hires\n",
    "        \n",
    "    else:\n",
    "        ind_gap = np.where(np.diff(ind_hull)>1)[0][0]\n",
    "        \n",
    "        ind_gap_bnds = [ind_hull[ind_gap], ind_hull[ind_gap+1]]\n",
    "        X_gap_bnds = X_hires[ind_gap_bnds]\n",
    "        \n",
    "        X_hull = np.hstack((X_hires[:ind_gap_bnds[0]], \n",
    "                            X_hires[ind_gap_bnds[1]:]))\n",
    "        G_mix_hull = np.hstack((G_mix_hires[:ind_gap_bnds[0]], \n",
    "                                G_mix_hires[ind_gap_bnds[1]:]))\n",
    "        \n",
    "    if output_hull:    \n",
    "        output = {}\n",
    "        output['X'] = X_hull\n",
    "        output['G_mix'] = G_mix_hull\n",
    "        \n",
    "        return X_gap_bnds, output\n",
    "  \n",
    "    \n",
    "    return X_gap_bnds"
   ]
  },
  {
   "cell_type": "code",
   "execution_count": null,
   "metadata": {},
   "outputs": [],
   "source": [
    "# ind_hull = get_hull_ind(X, G_mix)"
   ]
  },
  {
   "cell_type": "code",
   "execution_count": null,
   "metadata": {},
   "outputs": [],
   "source": []
  },
  {
   "cell_type": "code",
   "execution_count": null,
   "metadata": {},
   "outputs": [],
   "source": [
    "mod = mod_regular\n",
    "RT = mod_regular['W']*np.linspace(.1,.55,1001)\n",
    "\n"
   ]
  },
  {
   "cell_type": "code",
   "execution_count": null,
   "metadata": {},
   "outputs": [],
   "source": [
    "def calc_solvus(RT, mod, N=1001):\n",
    "    X = mod['X']\n",
    "    G_XS = mod['G_XS']\n",
    "    S_mix_ideal = mod['S_mix_ideal']\n",
    "\n",
    "    X_solvus = []\n",
    "    for iRT in RT:\n",
    "        G_mix_ideal = -iRT*S_mix_ideal\n",
    "        G_mix = G_mix_ideal + G_XS \n",
    "    \n",
    "        X_gap_bnds = get_solvus_bounds(X, G_mix, N=N)\n",
    "        X_solvus.append(X_gap_bnds)\n",
    "        \n",
    "    X_solvus = np.vstack(X_solvus)\n",
    "    return X_solvus"
   ]
  },
  {
   "cell_type": "code",
   "execution_count": null,
   "metadata": {},
   "outputs": [],
   "source": []
  },
  {
   "cell_type": "code",
   "execution_count": null,
   "metadata": {},
   "outputs": [],
   "source": [
    "def test_solvus_finder(RT_W=.3):\n",
    "    RT = mod_regular['W']*RT_W\n",
    "    X = mod['X']\n",
    "    G_XS = mod['G_XS']\n",
    "    S_mix_ideal = mod['S_mix_ideal']\n",
    "\n",
    "    G_mix_ideal = -RT*S_mix_ideal\n",
    "    G_mix = G_mix_ideal + G_XS \n",
    "    X_gap_bnds, hull = get_solvus_bounds(X, G_mix, N=1001, output_hull=True)\n",
    "\n",
    "    plt.figure()\n",
    "    plt.plot(X, G_mix, 'k-')\n",
    "    plt.plot(hull['X'], hull['G_mix'], 'r-')\n",
    "\n",
    "test_solvus_finder()"
   ]
  },
  {
   "cell_type": "code",
   "execution_count": null,
   "metadata": {},
   "outputs": [],
   "source": []
  },
  {
   "cell_type": "code",
   "execution_count": null,
   "metadata": {},
   "outputs": [],
   "source": [
    "X_solvus = calc_solvus(RT, mod_regular)"
   ]
  },
  {
   "cell_type": "code",
   "execution_count": null,
   "metadata": {},
   "outputs": [],
   "source": [
    "X_solvus_asymm = calc_solvus(RT, mod_asymm)"
   ]
  },
  {
   "cell_type": "code",
   "execution_count": null,
   "metadata": {},
   "outputs": [],
   "source": []
  },
  {
   "cell_type": "code",
   "execution_count": null,
   "metadata": {},
   "outputs": [],
   "source": [
    "plt.figure()\n",
    "plt.plot(X_solvus[:,0], RT/mod_regular['W'], 'k--', label='regular')\n",
    "plt.plot(X_solvus[:,1], RT/mod_regular['W'], 'k--')\n",
    "plt.plot(X_solvus_asymm[:,0], RT/mod_asymm['W'], 'r-', label='van laar')\n",
    "plt.plot(X_solvus_asymm[:,1], RT/mod_asymm['W'], 'r-')\n",
    "\n",
    "plt.xlim(-.01,1.01)\n",
    "plt.legend()"
   ]
  },
  {
   "cell_type": "code",
   "execution_count": null,
   "metadata": {},
   "outputs": [],
   "source": [
    "\n",
    "scale = 900/.5\n",
    "\n",
    "\n",
    "plt.figure()\n",
    "plt.plot(X_solvus[:,0], scale*RT/mod_regular['W'], 'k--', label='regular')\n",
    "plt.plot(X_solvus[:,1], scale*RT/mod_regular['W'], 'k--')\n",
    "plt.plot(X_solvus_asymm[:,0], scale*RT/mod_asymm['W'], 'r-', label='van laar')\n",
    "plt.plot(X_solvus_asymm[:,1], scale*RT/mod_asymm['W'], 'r-')\n",
    "\n",
    "\n",
    "plt.ylim(400,1000)\n",
    "plt.xlim(-.01,1.01)\n",
    "\n",
    "plt.legend()\n",
    "plt.title('Fig 2 (Holland2003)')"
   ]
  },
  {
   "cell_type": "code",
   "execution_count": null,
   "metadata": {},
   "outputs": [],
   "source": []
  }
 ],
 "metadata": {
  "kernelspec": {
   "display_name": "Python 3",
   "language": "python",
   "name": "python3"
  },
  "language_info": {
   "codemirror_mode": {
    "name": "ipython",
    "version": 3
   },
   "file_extension": ".py",
   "mimetype": "text/x-python",
   "name": "python",
   "nbconvert_exporter": "python",
   "pygments_lexer": "ipython3",
   "version": "3.7.6"
  }
 },
 "nbformat": 4,
 "nbformat_minor": 4
}
