{
 "cells": [
  {
   "cell_type": "markdown",
   "metadata": {},
   "source": [
    "# Asymmetric Grs-Pyr Binary Garnet soln (van-Laar)\n",
    "- based on Holland2018"
   ]
  },
  {
   "cell_type": "code",
   "execution_count": null,
   "metadata": {},
   "outputs": [],
   "source": [
    "import numpy as np\n",
    "import scipy as sp\n",
    "import pandas as pd\n",
    "from scipy import spatial\n",
    "from scipy import interpolate\n",
    "import matplotlib.pyplot as plt\n",
    "\n",
    "import vanlaar"
   ]
  },
  {
   "cell_type": "code",
   "execution_count": null,
   "metadata": {},
   "outputs": [],
   "source": []
  },
  {
   "cell_type": "markdown",
   "metadata": {},
   "source": [
    "## Create Pyrope-Grossular Binary Soln models\n",
    "- uses parameter values from Holland2018"
   ]
  },
  {
   "cell_type": "code",
   "execution_count": null,
   "metadata": {},
   "outputs": [],
   "source": [
    "R = 8.3145\n",
    "\n",
    "# Pressure appears to be in kbars???\n",
    "\n",
    "Wh = 45.4*1e3\n",
    "Ws = .01*1e3\n",
    "Wv = .04*1e3\n",
    "\n",
    "alpha = 2.5\n",
    "mult = 3\n"
   ]
  },
  {
   "cell_type": "code",
   "execution_count": null,
   "metadata": {},
   "outputs": [],
   "source": [
    "regular = vanlaar.RegularSoln(Wh, Wv=Wv, Ws=Ws, mult=mult)\n",
    "asymm = vanlaar.AsymmSoln(Wh, Wv=Wv, Ws=Ws, alpha=alpha, mult=mult)"
   ]
  },
  {
   "cell_type": "code",
   "execution_count": null,
   "metadata": {},
   "outputs": [],
   "source": [
    "P=0\n",
    "T0_crit = 750\n",
    "\n",
    "T = T0_crit*.9"
   ]
  },
  {
   "cell_type": "markdown",
   "metadata": {},
   "source": [
    "## Compare excess gibss energies"
   ]
  },
  {
   "cell_type": "code",
   "execution_count": null,
   "metadata": {},
   "outputs": [],
   "source": [
    "X = np.linspace(0,1)\n",
    "\n",
    "G_XS = regular.gibbs_excess(X, T=T, P=P)\n",
    "G_asymm_XS = asymm.gibbs_excess(X, T=T, P=P)\n",
    "\n",
    "plt.figure()\n",
    "plt.plot(X, G_XS, 'k--')\n",
    "\n",
    "plt.plot(X, G_asymm_XS, 'r-')\n",
    "\n",
    "#G_XS"
   ]
  },
  {
   "cell_type": "code",
   "execution_count": null,
   "metadata": {},
   "outputs": [],
   "source": []
  },
  {
   "cell_type": "markdown",
   "metadata": {},
   "source": [
    "## Find solvus using common tangent"
   ]
  },
  {
   "cell_type": "code",
   "execution_count": null,
   "metadata": {},
   "outputs": [],
   "source": [
    "regular.test_solvus_finder(T=T, P=P)"
   ]
  },
  {
   "cell_type": "code",
   "execution_count": null,
   "metadata": {},
   "outputs": [],
   "source": [
    "asymm.test_solvus_finder(T=T, P=P)"
   ]
  },
  {
   "cell_type": "code",
   "execution_count": null,
   "metadata": {},
   "outputs": [],
   "source": []
  },
  {
   "cell_type": "markdown",
   "metadata": {},
   "source": [
    "# Calculate a-X relation for supercritical solution \n",
    "- calculate for temperature above miscibility gap closing\n",
    "\n",
    "- NOTE: DEBUG FIX needed for multiplicity effect on activities"
   ]
  },
  {
   "cell_type": "code",
   "execution_count": null,
   "metadata": {},
   "outputs": [],
   "source": [
    "def plot_aX(mod, label, fmt, T=300, P=1, figure=None, N=101):\n",
    "    if figure is None:\n",
    "        figure = plt.figure()\n",
    "        \n",
    "    X = np.linspace(0,1,N)\n",
    "\n",
    "    a1 = mod.activity(X, T, P=P, endmem=1)\n",
    "    a2 = mod.activity(X, T, P=P, endmem=2)\n",
    "    \n",
    "    plt.plot(X, a1, fmt,label=label)\n",
    "    plt.plot(X, a2, fmt)\n",
    "\n",
    "    plt.plot(X, X  , ':',color='gray')\n",
    "    plt.plot(X, 1-X, ':',color='gray')\n",
    "\n",
    "    plt.xlim(0,1)\n",
    "    plt.xlabel('X')\n",
    "    plt.ylabel('a')\n",
    "    plt.legend()\n",
    "    return figure"
   ]
  },
  {
   "cell_type": "code",
   "execution_count": null,
   "metadata": {},
   "outputs": [],
   "source": [
    "T_supcrit = T0_crit*1.2\n",
    "\n",
    "figure = plot_aX(regular, 'regular', 'k--', T=T_supcrit)\n",
    "figure = plot_aX(asymm, 'van laar', 'r-', T=T_supcrit, figure=figure)"
   ]
  },
  {
   "cell_type": "code",
   "execution_count": null,
   "metadata": {},
   "outputs": [],
   "source": []
  },
  {
   "cell_type": "markdown",
   "metadata": {},
   "source": [
    "# Solvus Calculation"
   ]
  },
  {
   "cell_type": "code",
   "execution_count": null,
   "metadata": {},
   "outputs": [],
   "source": [
    "def plot_solvus(T, X_solvus, label='', fmt='k--', figure=figure):\n",
    "\n",
    "    if figure is None:\n",
    "        figure = plt.figure()\n",
    "        \n",
    "    plt.plot(X_solvus[:,0], T, fmt, label=label)\n",
    "    plt.plot(X_solvus[:,1], T, fmt)\n",
    "\n",
    "    plt.xlim(-.01,1.01)\n",
    "    plt.xlabel('X')\n",
    "    plt.ylabel('T [K]')\n",
    "    \n",
    "    if label!='':\n",
    "        plt.legend()\n",
    "        \n",
    "    return figure"
   ]
  },
  {
   "cell_type": "code",
   "execution_count": null,
   "metadata": {},
   "outputs": [],
   "source": [
    "# T = np.linspace(.5*T0_crit,3*T0_crit,301)\n",
    "T = np.linspace(400,870, 3601)\n",
    "P0=1e-3\n",
    "\n",
    "N=6001\n",
    "upsamp_fac = 1\n",
    "allow_interp = False\n",
    "Phi=30"
   ]
  },
  {
   "cell_type": "code",
   "execution_count": null,
   "metadata": {},
   "outputs": [],
   "source": [
    "# X_solvus = regular.solvus(T, P=P0)\n",
    "X_solvus_asymm = asymm.solvus(T, P=P0, N=N, allow_interp=allow_interp)\n",
    "\n",
    "# X_solvus_hi = regular.solvus(T, P=Phi)\n",
    "X_solvus_asymm_hi = asymm.solvus(T, P=Phi, N=N, allow_interp=allow_interp)"
   ]
  },
  {
   "cell_type": "code",
   "execution_count": null,
   "metadata": {},
   "outputs": [],
   "source": []
  },
  {
   "cell_type": "code",
   "execution_count": null,
   "metadata": {},
   "outputs": [],
   "source": [
    "def reformat_solvus(X_solvus, T):\n",
    "    Xsolv = np.hstack((X_solvus[:,0],X_solvus[::-1,1]))\n",
    "    Tsolv = np.hstack((T, T[::-1]))\n",
    "    # ind_solv = ~(np.isnan(Tsolv) or np.isnan(Xsolv))\n",
    "    ind_solv = ~(np.isnan(Xsolv)|np.isnan(Tsolv))\n",
    "\n",
    "    Xsolv = Xsolv[ind_solv]\n",
    "    Tsolv = Tsolv[ind_solv]\n",
    "    \n",
    "    return Xsolv, Tsolv\n",
    "\n"
   ]
  },
  {
   "cell_type": "code",
   "execution_count": null,
   "metadata": {},
   "outputs": [],
   "source": [
    "Xsolv, Tsolv = reformat_solvus(X_solvus_asymm,  T)\n",
    "Xsolv_hi, Tsolv_hi = reformat_solvus(X_solvus_asymm_hi,  T)"
   ]
  },
  {
   "cell_type": "code",
   "execution_count": null,
   "metadata": {},
   "outputs": [],
   "source": [
    "df_solvus = pd.DataFrame({'X':Xsolv, 'T':Tsolv})\n",
    "df_solvus_3 = pd.DataFrame({'X':Xsolv_hi, 'T':Tsolv_hi})\n",
    "df_solvus.to_csv('data/solvus_Holland2018.csv')\n",
    "df_solvus_3.to_csv('data/solvus_3_Holland2018.csv')"
   ]
  },
  {
   "cell_type": "code",
   "execution_count": null,
   "metadata": {},
   "outputs": [],
   "source": [
    "plt.figure()\n",
    "plt.plot(Xsolv, Tsolv,  'k-')\n",
    "plt.plot(Xsolv_hi, Tsolv_hi,  'r-')"
   ]
  },
  {
   "cell_type": "code",
   "execution_count": null,
   "metadata": {},
   "outputs": [],
   "source": []
  },
  {
   "cell_type": "code",
   "execution_count": null,
   "metadata": {},
   "outputs": [],
   "source": [
    "# figure = plot_solvus(T, X_solvus, label='regular', fmt='k--')\n",
    "figure = plot_solvus(T, X_solvus_asymm, label='van laar', fmt='r-', figure=figure)\n",
    "\n",
    "# figure = plot_solvus(T, X_solvus_hi, label='regular (8 GPa)', fmt='k-.')\n",
    "figure = plot_solvus(T, X_solvus_asymm_hi, label='van laar (3 GPa)', fmt='r:', figure=figure)\n",
    "plt.title('Grossular-Pyrope Binary')\n",
    "\n",
    "# plt.ylim(780,800)\n",
    "# plt.xlim(.65,.87)"
   ]
  },
  {
   "cell_type": "code",
   "execution_count": null,
   "metadata": {},
   "outputs": [],
   "source": []
  },
  {
   "cell_type": "code",
   "execution_count": null,
   "metadata": {},
   "outputs": [],
   "source": []
  },
  {
   "cell_type": "code",
   "execution_count": null,
   "metadata": {},
   "outputs": [],
   "source": []
  }
 ],
 "metadata": {
  "kernelspec": {
   "display_name": "Python 3",
   "language": "python",
   "name": "python3"
  },
  "language_info": {
   "codemirror_mode": {
    "name": "ipython",
    "version": 3
   },
   "file_extension": ".py",
   "mimetype": "text/x-python",
   "name": "python",
   "nbconvert_exporter": "python",
   "pygments_lexer": "ipython3",
   "version": "3.7.6"
  }
 },
 "nbformat": 4,
 "nbformat_minor": 4
}
