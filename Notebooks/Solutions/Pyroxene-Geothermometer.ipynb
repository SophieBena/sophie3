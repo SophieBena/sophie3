{
 "cells": [
  {
   "cell_type": "markdown",
   "metadata": {},
   "source": [
    "# Pyroxene Geothermometer\n",
    "## Using opx and cpx solution models from Sack and Ghiorso (1994a, b, c):\n",
    "\n",
    "Sack RO, Ghiorso MS (1994a) Thermodynamics of multicomponent pyroxenes: I. Formulation of a general model. *Contrib Mineral Petrol*  116, 277-286  \n",
    "Sack RO, Ghiorso MS (1994b) Thermodynamics of multicomponent pyroxenes: II. Phase relations in the quadrilateral. *Contrib Mineral Petrol*  116, 287-300  \n",
    "Sack RO, Ghiorso MS (1994c) Thermodynamics of multicomponent pyroxenes: III. Calibration of Fe<sup>2+</sup>(Mg)<sub>-1</sub>, TiAl(MgSi)<sub>-1</sub>, TiFe<sup>3+</sup>(MgSi)<sub>-1</sub>, AlFe<sup>3+</sup>(MgSi)<sub>-1</sub>, NaAl(CaMg)<sub>-1</sub>, Al<sub>2</sub>(MgSi)<sub>-1</sub> and Ca(Mg)<sub>-1</sub> exchange reactions between pyroxenes and silicate melts. *Contrib Mineral Petrol* 118, 271-296  \n",
    "\n",
    "### Initialize some required packages, and load the phase library."
   ]
  },
  {
   "cell_type": "code",
   "execution_count": null,
   "metadata": {},
   "outputs": [],
   "source": [
    "from ctypes import cdll\n",
    "from ctypes import util\n",
    "from rubicon.objc import ObjCClass, objc_method\n",
    "cdll.LoadLibrary(util.find_library('phaseobjc'))"
   ]
  },
  {
   "cell_type": "markdown",
   "metadata": {},
   "source": [
    "### Define some conversion functions that ... \n",
    "... take dictionaries of oxide names and oxides values and return molecular weights and arrays of molar concentrations."
   ]
  },
  {
   "cell_type": "code",
   "execution_count": null,
   "metadata": {},
   "outputs": [],
   "source": [
    "def oxide_mw (formulas=[\"H2O\"]):\n",
    "    result = {}\n",
    "    PhaseBase = ObjCClass('PhaseBase')\n",
    "    for formula in formulas:\n",
    "        obj = PhaseBase.alloc().init()\n",
    "        obj.setPhaseFormula_(formula)\n",
    "        result[formula]= obj.mw\n",
    "    return result\n",
    "\n",
    "import ctypes\n",
    "def oxides_wts_to_element_moles (oxides={\"H2O\" : 100.0}):\n",
    "    e = (ctypes.c_double*107)()\n",
    "    ctypes.cast(e, ctypes.POINTER(ctypes.c_double))\n",
    "    for i in range (0, 107):\n",
    "        e[i] = 0.0\n",
    "    PhaseBase = ObjCClass('PhaseBase')\n",
    "    for formula, value in oxides.items():\n",
    "        obj = PhaseBase.alloc().init()\n",
    "        obj.setPhaseFormula_(formula)\n",
    "        moles = value/obj.mw\n",
    "        elements = obj.formulaAsElementArray\n",
    "        for i in range (0, 107):\n",
    "            coeff = elements.valueAtIndex_(i)\n",
    "            if coeff != 0.0:\n",
    "                e[i] += coeff*moles\n",
    "    return e\n",
    "\n",
    "def element_moles_to_pyx_moles(e):\n",
    "    m = (ctypes.c_double*nc)()\n",
    "    ctypes.cast(m, ctypes.POINTER(ctypes.c_double))\n",
    "    p = 2000.0\n",
    "    Na = 11\n",
    "    Mg = 12\n",
    "    Al = 13\n",
    "    Si = 14\n",
    "    Ca = 20\n",
    "    Ti = 22\n",
    "    Cr = 24\n",
    "    Mn = 25\n",
    "    Fe = 26\n",
    "    sumcat  = e[Na] +     e[Mg] +     e[Al] +     e[Si] +     e[Ca] +     e[Ti] +     e[Cr] +     e[Mn] + e[Fe]\n",
    "    sumchg  = e[Na] + 2.0*e[Mg] + 3.0*e[Al] + 4.0*e[Si] + 2.0*e[Ca] + 4.0*e[Ti] + 3.0*e[Cr] + 2.0*e[Mn]\n",
    "    if e[Na]+e[Ca] > 0.25*sumcat:\n",
    "        corrSi = 4.0*(e[Na]+e[Ca]) - sumcat\n",
    "    else: \n",
    "        corrSi = 0.0\n",
    "    sumcat += corrSi;\n",
    "\n",
    "    # catch low-P oxidized samples and acmites\n",
    "    if (p < 1000.0) or (e[Na] > e[Al]): \n",
    "        fe3 = 3.0*sumcat - sumchg - 2.0*e[Fe]\n",
    "        fe2 = e[Fe] - fe3\n",
    "        if fe3 < 0.01*e[Fe]:\n",
    "            fe3 = 0.01*e[Fe]\n",
    "            fe2 = 0.99*e[Fe]\n",
    "        if fe2 < 0.01*e[Fe]:\n",
    "            fe2 = 0.01*e[Fe]\n",
    "            fe3 = 0.99*e[Fe]\n",
    "    else:\n",
    "        fe2 = e[Fe]\n",
    "        fe3 = 0.0\n",
    "\n",
    "    m[0] = -fe3/2.0 - fe2 - e[Mn] - e[Al]/2.0 - e[Cr]/2.0 + e[Ca] + e[Na]/2.0 - e[Ti]\n",
    "    m[1] =  fe3/4.0 + fe2/2.0 + e[Mn]/2.0 + e[Al]/4.0 + e[Cr]/4.0 - e[Ca]/2.0 + e[Mg]/2.0 - e[Na]/4.0\n",
    "    m[2] =  fe2 + e[Mn]\n",
    "    m[3] = -fe3/2.0 + e[Al]/2.0 + e[Cr]/2.0 - e[Na]/2.0 + e[Ti]\n",
    "    m[4] =  fe3/2.0 - e[Al]/2.0 - e[Cr]/2.0 + e[Na]/2.0 + e[Ti]\n",
    "    m[5] =  fe3/2.0 + e[Al]/2.0 + e[Cr]/2.0 - e[Na]/2.0 - e[Ti]\n",
    "    m[6] =  e[Na]\n",
    "    return m"
   ]
  },
  {
   "cell_type": "markdown",
   "metadata": {},
   "source": [
    "### Test the oxide formula to molecular weight method."
   ]
  },
  {
   "cell_type": "code",
   "execution_count": null,
   "metadata": {},
   "outputs": [],
   "source": [
    "print (oxide_mw([\"Al2O3\", \"SiO2\"]))"
   ]
  },
  {
   "cell_type": "markdown",
   "metadata": {},
   "source": [
    "# Implement a two-pyroxene geothermometer.\n",
    "### Reference pyroxene compositions from the Bishop Tuff (Hildreth, 1977).\n",
    "\n",
    "| Phase | SiO<sub>2</sub> | TiO<sub>2<sub> | Al<sub>2</sub>O<sub>3<sub> | FeO | MnO | MgO | CaO | Na<sub>2</sub>O |\n",
    "|-------|------|------|-------|-----|-----|-----|-----|------|\n",
    "| cpx | 51.94615385 | 0.711153846 | 0.150769231 | 12.80846154 | 0.556923077 | 12.69576923 | 20.63307692 | 0.381153846 |\n",
    "| $\\sigma$ | 0.325245469 | 0.159808058 | 0.025443754 | 0.305754049 | 0.038860698 | 0.250984829 | 0.200434912 | 0.015830837 |\n",
    "| opx | 50.92925926 | 0.425555556 | 0.128888889 | 28.49518519 | 1.103703704 | 18.33037037 | 0.97962963 | 0.025185185 |\n",
    "| $\\sigma$ | 0.460325353 | 0.107643762 | 0.023912233 | 0.493233993 | 0.045161943 | 0.257241005 | 0.022951702 | 0.007000203 |\n",
    "\n",
    "Values in wt%. Averages and standard deviations computed from analyzed pyroxenes found in the late eruptive units."
   ]
  },
  {
   "cell_type": "markdown",
   "metadata": {},
   "source": [
    "## Instantiate a clinopyroxene with the specified composition.\n",
    "As an illustration of use, compute and print properties at 800 °C and 200 MPa. Properties are output as a Python dictionary.  \n",
    "Output the number of components, their names, and their formulas."
   ]
  },
  {
   "cell_type": "code",
   "execution_count": null,
   "metadata": {},
   "outputs": [],
   "source": [
    "CpxBerman = ObjCClass('CpxBerman')\n",
    "cpx = CpxBerman.alloc().init()\n",
    "nc = cpx.numberOfSolutionComponents()\n",
    "e = oxides_wts_to_element_moles ({'SiO2':51.94615385, 'TiO2':0.711153846, 'Al2O3':0.150769231, 'FeO':12.80846154, \n",
    "                                  'MnO':0.556923077, 'MgO':12.69576923, 'CaO':20.63307692, 'Na2O':0.381153846})\n",
    "mCpx = element_moles_to_pyx_moles(e)\n",
    "\n",
    "if (cpx.testPermissibleValuesOfComponents_(mCpx) == 1):\n",
    "    print ('Cpx composition is feasible')\n",
    "else:\n",
    "    print ('Cpx composition is infeasible')\n",
    "    \n",
    "t = 1073.15 # K\n",
    "p = 2000.0  # bars\n",
    "potential = cpx.getChemicalPotentialFromMolesOfComponents_andT_andP_(mCpx, t, p)\n",
    "\n",
    "for i in range (0, nc):\n",
    "    component = cpx.componentAtIndex_(i)\n",
    "    print(\"{0:>20s}{1:15.2f}\".format(component.phaseName, potential.valueAtIndex_(i)))"
   ]
  },
  {
   "cell_type": "markdown",
   "metadata": {},
   "source": [
    "## Instantiate an orthopyroxene with the specified composition.\n",
    "As an illustration of use, compute and print properties at 800 °C and 200 MPa. Properties are output as a Python dictionary.  \n",
    "Output the number of components, their names, and their formulas."
   ]
  },
  {
   "cell_type": "code",
   "execution_count": null,
   "metadata": {},
   "outputs": [],
   "source": [
    "OpxBerman = ObjCClass('OpxBerman')\n",
    "opx = OpxBerman.alloc().init()\n",
    "nc = opx.numberOfSolutionComponents()\n",
    "e = oxides_wts_to_element_moles ({'SiO2':50.92925926, 'TiO2':0.425555556, 'Al2O3':0.128888889, 'FeO':28.49518519, \n",
    "                                  'MnO':1.103703704, 'MgO':18.33037037, 'CaO':0.97962963, 'Na2O':0.025185185})\n",
    "mOpx = element_moles_to_pyx_moles(e)\n",
    "\n",
    "if (opx.testPermissibleValuesOfComponents_(mOpx) == 1):\n",
    "    print ('Opx composition is feasible')\n",
    "else:\n",
    "    print ('Opx composition is infeasible')\n",
    "    \n",
    "t = 1073.15 # K\n",
    "p = 2000.0  # bars\n",
    "potential = opx.getChemicalPotentialFromMolesOfComponents_andT_andP_(mOpx, t, p)\n",
    "\n",
    "for i in range (0, nc):\n",
    "    component = opx.componentAtIndex_(i)\n",
    "    print(\"{0:>20s}{1:15.2f}\".format(component.phaseName, potential.valueAtIndex_(i)))"
   ]
  },
  {
   "cell_type": "markdown",
   "metadata": {},
   "source": [
    "## Define an Fe-Mg exchange reaction between opx and cpx.\n",
    "### CaMgSi<sub>2</sub>O<sub>6</sub> [cpx] + CaFeSi<sub>2</sub>O<sub>6</sub> [opx]  = CaMgSi<sub>2</sub>O<sub>6</sub> [opx] +CaFeSi<sub>2</sub>O<sub>6</sub> [cpx] \n",
    "\n",
    "Note that the `get_properties` function for the class instance returns a Python dictionary. The chemical potential of the endmember components are retrieved from this dictionary by using the name of the component as a key. Otherwise, the other thermodynamic properties are extensive (mass dependent) quantities and pertain to the phase as a whole."
   ]
  },
  {
   "cell_type": "code",
   "execution_count": null,
   "metadata": {},
   "outputs": [],
   "source": [
    "def deltaG(t, p):\n",
    "    cpxPotentials = cpx.getChemicalPotentialFromMolesOfComponents_andT_andP_(mCpx, t, p)\n",
    "    opxPotentials = opx.getChemicalPotentialFromMolesOfComponents_andT_andP_(mOpx, t, p)\n",
    "    return opxPotentials.valueAtIndex_(0) + cpxPotentials.valueAtIndex_(2) - cpxPotentials.valueAtIndex_(0) - opxPotentials.valueAtIndex_(2)"
   ]
  },
  {
   "cell_type": "markdown",
   "metadata": {},
   "source": [
    "The Gibbs free energy computed by the `deltaG` function defined above must be zero at equilibrium.  In order to find this zero, we . . . \n",
    "## . . . import a minimizer routine from SciPy\n",
    "called *BrentQ.*  We will use BrentQ to find the temperature that zeroes the Gibbs free energy of a reaction within a specified range of values."
   ]
  },
  {
   "cell_type": "code",
   "execution_count": null,
   "metadata": {},
   "outputs": [],
   "source": [
    "from scipy.optimize import brentq"
   ]
  },
  {
   "cell_type": "markdown",
   "metadata": {},
   "source": [
    "## Solve for the temperature that zeroes the exchange free energy.\n",
    "\n",
    "Upper and lower bounds on T are specified by Tmin and Tmax (both in K).  The pressure is specified in bars."
   ]
  },
  {
   "cell_type": "code",
   "execution_count": null,
   "metadata": {},
   "outputs": [],
   "source": [
    "Tmin = 500.0\n",
    "Tmax = 1500.0\n",
    "p = 2000.0\n",
    "print ('Equilibrium T (°C) = ', brentq(deltaG, Tmin, Tmax, args=(p)) - 273.15)"
   ]
  },
  {
   "cell_type": "code",
   "execution_count": null,
   "metadata": {},
   "outputs": [],
   "source": []
  }
 ],
 "metadata": {
  "anaconda-cloud": {},
  "kernelspec": {
   "display_name": "Python 3",
   "language": "python",
   "name": "python3"
  },
  "language_info": {
   "codemirror_mode": {
    "name": "ipython",
    "version": 3
   },
   "file_extension": ".py",
   "mimetype": "text/x-python",
   "name": "python",
   "nbconvert_exporter": "python",
   "pygments_lexer": "ipython3",
   "version": "3.7.0"
  }
 },
 "nbformat": 4,
 "nbformat_minor": 2
}
