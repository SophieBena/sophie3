{
 "cells": [
  {
   "cell_type": "markdown",
   "metadata": {},
   "source": [
    "# Asymmetric Grs-Pyr Binary Garnet soln (van-Laar)\n",
    "- based on Holland2018"
   ]
  },
  {
   "cell_type": "code",
   "execution_count": null,
   "metadata": {},
   "outputs": [],
   "source": [
    "import numpy as np\n",
    "import scipy as sp\n",
    "from scipy import spatial\n",
    "from scipy import interpolate\n",
    "import matplotlib.pyplot as plt\n",
    "\n",
    "import vanlaar"
   ]
  },
  {
   "cell_type": "code",
   "execution_count": null,
   "metadata": {},
   "outputs": [],
   "source": []
  },
  {
   "cell_type": "markdown",
   "metadata": {},
   "source": [
    "## Create Soln models"
   ]
  },
  {
   "cell_type": "code",
   "execution_count": null,
   "metadata": {},
   "outputs": [],
   "source": [
    "R = 8.3145\n",
    "\n",
    "T0_crit = 900\n",
    "W=R*900*2\n",
    "# T0_crit = 0.5*W/R\n",
    "alpha = .2/(1-.2)\n",
    "\n",
    "regular_simple = vanlaar.SimpleRegularSoln(W)\n",
    "asymm_simple = vanlaar.AsymmSoln(W, alpha=alpha)"
   ]
  },
  {
   "cell_type": "markdown",
   "metadata": {},
   "source": [
    "## Compare excess gibss energies"
   ]
  },
  {
   "cell_type": "code",
   "execution_count": null,
   "metadata": {},
   "outputs": [],
   "source": [
    "\n",
    "T = T0_crit*.8"
   ]
  },
  {
   "cell_type": "code",
   "execution_count": null,
   "metadata": {},
   "outputs": [],
   "source": [
    "X = np.linspace(0,1)\n",
    "\n",
    "G_XS = regular_simple.gibbs_excess(X, T=T)\n",
    "G_asymm_XS = asymm_simple.gibbs_excess(X, T=T)\n",
    "\n",
    "plt.figure()\n",
    "plt.plot(X, G_XS, 'k--')\n",
    "\n",
    "plt.plot(X, G_asymm_XS, 'r-')\n",
    "\n",
    "#G_XS"
   ]
  },
  {
   "cell_type": "code",
   "execution_count": null,
   "metadata": {},
   "outputs": [],
   "source": []
  },
  {
   "cell_type": "markdown",
   "metadata": {},
   "source": [
    "## Find solvus using common tangent"
   ]
  },
  {
   "cell_type": "code",
   "execution_count": null,
   "metadata": {},
   "outputs": [],
   "source": [
    "regular_simple.test_solvus_finder(T=T)"
   ]
  },
  {
   "cell_type": "code",
   "execution_count": null,
   "metadata": {},
   "outputs": [],
   "source": [
    "asymm_simple.test_solvus_finder(T=T)"
   ]
  },
  {
   "cell_type": "code",
   "execution_count": null,
   "metadata": {},
   "outputs": [],
   "source": []
  },
  {
   "cell_type": "markdown",
   "metadata": {},
   "source": [
    "# Calculate a-X relation for supercritical solution \n",
    "- calculate for temperature above miscibility gap closing"
   ]
  },
  {
   "cell_type": "code",
   "execution_count": null,
   "metadata": {},
   "outputs": [],
   "source": [
    "def plot_aX(mod, label, fmt, T=300, figure=None, N=101):\n",
    "    if figure is None:\n",
    "        figure = plt.figure()\n",
    "        \n",
    "    X = np.linspace(0,1,N)\n",
    "\n",
    "    a1 = mod.activity(X, T, endmem=1)\n",
    "    a2 = mod.activity(X, T, endmem=2)\n",
    "    \n",
    "    plt.plot(X, a1, fmt,label=label)\n",
    "    plt.plot(X, a2, fmt)\n",
    "\n",
    "    plt.plot(X, X  , ':',color='gray')\n",
    "    plt.plot(X, 1-X, ':',color='gray')\n",
    "\n",
    "    plt.xlim(0,1)\n",
    "    plt.xlabel('X')\n",
    "    plt.ylabel('a')\n",
    "    plt.legend()\n",
    "    return figure"
   ]
  },
  {
   "cell_type": "code",
   "execution_count": null,
   "metadata": {},
   "outputs": [],
   "source": [
    "T_supcrit = 1.1*T0_crit\n",
    "\n",
    "figure = plot_aX(regular_simple, 'regular', 'k--', T=T_supcrit)\n",
    "figure = plot_aX(asymm_simple, 'van laar', 'r-', T=T_supcrit, figure=figure)"
   ]
  },
  {
   "cell_type": "code",
   "execution_count": null,
   "metadata": {},
   "outputs": [],
   "source": []
  },
  {
   "cell_type": "markdown",
   "metadata": {},
   "source": [
    "# Solvus Calculation"
   ]
  },
  {
   "cell_type": "code",
   "execution_count": null,
   "metadata": {},
   "outputs": [],
   "source": [
    "def plot_solvus(T, X_solvus, label='', fmt='k--', figure=figure):\n",
    "\n",
    "    if figure is None:\n",
    "        figure = plt.figure()\n",
    "        \n",
    "    plt.plot(X_solvus[:,0], T, fmt, label=label)\n",
    "    plt.plot(X_solvus[:,1], T, fmt)\n",
    "\n",
    "    plt.xlim(-.01,1.01)\n",
    "    plt.xlabel('X')\n",
    "    plt.ylabel('T [K]')\n",
    "    \n",
    "    if label!='':\n",
    "        plt.legend()\n",
    "        \n",
    "    return figure"
   ]
  },
  {
   "cell_type": "code",
   "execution_count": null,
   "metadata": {},
   "outputs": [],
   "source": [
    "T = np.linspace(.5*T0_crit,1.1*T0_crit,301)"
   ]
  },
  {
   "cell_type": "code",
   "execution_count": null,
   "metadata": {},
   "outputs": [],
   "source": [
    "X_solvus = regular_simple.solvus(T)\n",
    "X_solvus_asymm = asymm_simple.solvus(T)"
   ]
  },
  {
   "cell_type": "code",
   "execution_count": null,
   "metadata": {},
   "outputs": [],
   "source": [
    "figure = plot_solvus(T, X_solvus, label='regular', fmt='k--')\n",
    "figure = plot_solvus(T, X_solvus_asymm, label='van laar', fmt='r-', figure=figure)\n",
    "plt.title('Fig 2 (Holland2003)');"
   ]
  },
  {
   "cell_type": "code",
   "execution_count": null,
   "metadata": {},
   "outputs": [],
   "source": []
  }
 ],
 "metadata": {
  "kernelspec": {
   "display_name": "Python 3",
   "language": "python",
   "name": "python3"
  },
  "language_info": {
   "codemirror_mode": {
    "name": "ipython",
    "version": 3
   },
   "file_extension": ".py",
   "mimetype": "text/x-python",
   "name": "python",
   "nbconvert_exporter": "python",
   "pygments_lexer": "ipython3",
   "version": "3.7.6"
  }
 },
 "nbformat": 4,
 "nbformat_minor": 4
}
