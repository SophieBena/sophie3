{
 "cells": [
  {
   "cell_type": "code",
   "execution_count": null,
   "metadata": {},
   "outputs": [],
   "source": []
  },
  {
   "cell_type": "code",
   "execution_count": null,
   "metadata": {},
   "outputs": [],
   "source": [
    "import numpy as np\n",
    "import pandas as pd\n",
    "import matplotlib.pyplot as plt\n",
    "\n",
    "\n",
    "from thermoengine import chem, model\n",
    "\n",
    "#%matplotlib notebook\n"
   ]
  },
  {
   "cell_type": "code",
   "execution_count": null,
   "metadata": {},
   "outputs": [],
   "source": []
  },
  {
   "cell_type": "code",
   "execution_count": null,
   "metadata": {},
   "outputs": [],
   "source": [
    "modelDB = model.Database()"
   ]
  },
  {
   "cell_type": "code",
   "execution_count": null,
   "metadata": {},
   "outputs": [],
   "source": []
  },
  {
   "cell_type": "code",
   "execution_count": null,
   "metadata": {},
   "outputs": [],
   "source": []
  },
  {
   "cell_type": "code",
   "execution_count": null,
   "metadata": {},
   "outputs": [],
   "source": [
    "def Fe_redox_Kress91(T, P, mol_oxides, log10fO2=None):\n",
    "    \"\"\"\n",
    "    Fe redox model of Kress and Carmichael 1991\n",
    "    \n",
    "    Calculate ln(Fe2O3/FeO) ratio given lnfO2, T, P, bulk composition.\n",
    "    Alternatively, can predict lnfO2 values given measured ferric & ferrous comp.\n",
    "    \n",
    "    Parameters\n",
    "    ----------\n",
    "    T : double (array)\n",
    "        temperature in Kelvin\n",
    "    P : double (array)\n",
    "        pressure in bars\n",
    "    mol_oxides : double array (matrix)\n",
    "        molar oxide composition in standard order. Either measured FeO and Fe2O3 are\n",
    "        provided, or total iron reported as FeO (e.g. FeO*)\n",
    "    log10fO2 : double (array), default None\n",
    "        If provided, the measured log10fO2 value is used to predict the ln(Fe2O3/FeO).\n",
    "        Otherwise, reported FeO and Fe2O3 values are used to predict log10fO2.\n",
    "        \n",
    "    Returns\n",
    "    -------\n",
    "     output : double (array)\n",
    "         Output depends on whether log10fO2 values are provided.\n",
    "         ln_Fe_oxide_ratio : If log10fO2 values are given, return log ferric/ferrous ratio of melt.\n",
    "         log10fO2 : If not, return predicted log10fO2, given measured ferric and ferrous content of melt.\n",
    "        \n",
    "    \"\"\"\n",
    "    \n",
    "    predict_fO2 = False\n",
    "    if log10fO2 is None:\n",
    "        predict_fO2 = True\n",
    "    \n",
    "    \n",
    "    OXIDES = chem.OXIDE_ORDER\n",
    "    # ['SiO2', 'TiO2', 'Al2O3', 'Fe2O3', 'Cr2O3', 'FeO', 'MnO', 'MgO',\n",
    "    #    'NiO', 'CoO', 'CaO', 'Na2O', 'K2O', 'P2O5', 'H2O', 'CO2']\n",
    "    \n",
    "    T0 =  1673.15  # K\n",
    "    \n",
    "    a  =  0.196\n",
    "    b  =  1.1492e4 # K\n",
    "    c  = -6.675\n",
    "    e  = -3.364\n",
    "    f  = -7.01e-7  * 1.0e5 # K/bar\n",
    "    g  = -1.54e-10 * 1.0e5 # 1/bar\n",
    "    h =   3.85e-17 * 1.0e5 * 1.0e5 # K/bar^2\n",
    "    # dAl2O3 = -2.243\n",
    "    # dFeO   = -1.828\n",
    "    # dCaO   =  3.201\n",
    "    # dNa2O  =  5.854\n",
    "    # dK2O   =  6.215\n",
    "    \n",
    "    # mol_oxides = np.array(mol_oxides.copy())\n",
    "    mol_oxides = mol_oxides.copy()\n",
    "    \n",
    "    XFeO_equiv = mol_oxides['FeO'] + 2*mol_oxides['Fe2O3']\n",
    "    # print(mol_oxides.shape)\n",
    "    # print(XFeO_equiv.shape)\n",
    "    \n",
    "    if predict_fO2:\n",
    "        # ln_Fe_oxide_ratio = np.squeeze(np.log(mol_oxides[:, OXIDES=='Fe2O3']/mol_oxides[:, OXIDES=='FeO']))\n",
    "        ln_Fe_oxide_ratio = np.squeeze(np.log(mol_oxides['Fe2O3']/mol_oxides['FeO']))\n",
    "        # display(ln_Fe_oxide_ratio)\n",
    "    \n",
    "    mol_oxides['FeO'] = XFeO_equiv\n",
    "    mol_oxides['Fe2O3'] = 0.0\n",
    "    if mol_oxides.ndim==2:\n",
    "        mol_oxide_tot = np.sum(mol_oxides, axis=1)\n",
    "        mol_oxides /= mol_oxide_tot[:,np.newaxis]\n",
    "    elif mol_oxides.ndim==1:\n",
    "        mol_oxide_tot = np.sum(mol_oxides)\n",
    "        mol_oxides /= mol_oxide_tot\n",
    "    else:\n",
    "        assert False, 'mol_oxides must be either an array of compositions, or a matrix for many experiments'\n",
    "        \n",
    "    \n",
    "    d = pd.Series(np.zeros(len(OXIDES)),index=OXIDES)\n",
    "    d['Al2O3'] = -2.243\n",
    "    d['FeO']   = -1.828\n",
    "    d['CaO']   = +3.201\n",
    "    d['Na2O']  = +5.854\n",
    "    d['K2O']   = +6.215\n",
    "    \n",
    "    atm_terms = b/T + c + e*(1.0-T0/T - np.log(T/T0))\n",
    "    press_terms = f*P/T + g*(T-T0)*P/T+ h*P*P/T\n",
    "    comp_terms = np.dot(mol_oxides, d)\n",
    "    \n",
    "    if not predict_fO2:\n",
    "        lnfO2 = log10fO2/np.log10(np.exp(1))\n",
    "        ln_Fe_oxide_ratio =  a*lnfO2 + atm_terms + press_terms + comp_terms\n",
    "        return ln_Fe_oxide_ratio\n",
    "    else:\n",
    "        # print(ln_Fe_oxide_ratio )\n",
    "        # print((atm_terms + press_terms + comp_terms))\n",
    "        lnfO2 = (ln_Fe_oxide_ratio - (atm_terms + press_terms + comp_terms))/a\n",
    "        log10fO2 = lnfO2*np.log10(np.exp(1))\n",
    "        return log10fO2\n",
    "        \n",
    "\n",
    "\n",
    "\n",
    "    # FeOxideRatio = np.exp(ln_Fe_oxide_ratio)\n",
    "    # \n",
    "    # XFeO = XFeO_equiv/(2*FeOxideRatio + 1)\n",
    "    # XFe2O3 = 0.5*(XFeO_equiv-XFeO)\n",
    "    # \n",
    "    # mol_oxides[OXIDES=='FeO'] = XFeO\n",
    "    # mol_oxides[OXIDES=='Fe2O3'] = XFe2O3\n",
    "    # return mol_oxides"
   ]
  },
  {
   "cell_type": "code",
   "execution_count": null,
   "metadata": {},
   "outputs": [],
   "source": []
  },
  {
   "cell_type": "code",
   "execution_count": null,
   "metadata": {},
   "outputs": [],
   "source": [
    "def _eval_linear_buffer(T, P, A=None, B=None, C=None, Tlims=None, ignore_lims=False):\n",
    "    \"\"\"\n",
    "    Evaluate fO2 values using linear buffer model (linear dependence in 1/T and P).\n",
    "    \n",
    "    Parameters\n",
    "    ----------\n",
    "    T : double (array)\n",
    "        temperature in Kelvin\n",
    "    P : double (array)\n",
    "        pressure in bars\n",
    "    A : double\n",
    "        1/T coefficient\n",
    "    B : double\n",
    "        Offset term\n",
    "    C : double\n",
    "        P/T coefficient\n",
    "    Tlims : double range, default None\n",
    "        If provided, Tlims gives the limits of the buffer model. Outside these limits,\n",
    "        buffer returns NaN values.\n",
    "    \n",
    "    Returns\n",
    "    -------\n",
    "    logfO2 : double (array)\n",
    "        absolute logfO2 in base 10\n",
    "    \"\"\"\n",
    "    logfO2 = A/T + B + C*(P-1)/T\n",
    "    \n",
    "    if (not ignore_lims) and (Tlims is not None):\n",
    "        logfO2[T<Tlims[0]] = np.nan\n",
    "        logfO2[T>=Tlims[1]] = np.nan\n",
    "    \n",
    "    return logfO2 \n",
    "    \n",
    "def fO2_buffer(T, P, buffer=None, ignore_lims=False):\n",
    "    \"\"\"\n",
    "    Calculate fO2 values for common oxygen buffers.\n",
    "    \n",
    "    Parameters\n",
    "    ----------\n",
    "    T : double (array)\n",
    "        temperature in Kelvin\n",
    "    P : double (array)\n",
    "        pressure in bars\n",
    "    buffer : {'IW', 'IM', 'NNO', 'CCO', ('HM'/'MH'), ('MW'/'WM'), ('QFM'/'FMQ'), 'QIF'}\n",
    "        models of common oxygen fugacity buffer systems with sources.\n",
    "        'IW' : Iron-Wustite [1]\n",
    "        'IM' : Iron-Magnetite [1]\n",
    "        'NNO' : Nickel-Nickel Oxide [1]\n",
    "        'CCO' : Cobalt-Cobalt Oxide [1]\n",
    "        'HM' or 'MH' : Magnetite-Hematite [1]\n",
    "        'MW' or 'WM' : Magnetite-Wustite [1]\n",
    "        'QFM' or 'FMQ' : Quartz-Fayalite-Magnetite [1]\n",
    "        'QIF' : Quartz-Iron-Fayalite [1]\n",
    "        \n",
    "    Returns\n",
    "    -------\n",
    "    log10fO2 : double (array)\n",
    "        logfO2 in base 10\n",
    "        \n",
    "        \n",
    "    Publication Sources\n",
    "    -------------------\n",
    "    [1] B. R. Frost (1991) Introduction to oxygen fugacity and its petrologic importance    \n",
    "    \n",
    "    \"\"\"\n",
    "    \n",
    "    BUFFER_OPTS = ['IW', 'IM', 'NNO', 'CCO', 'HM', 'MH', 'MW', 'WM', 'QFM', 'FMQ', 'QIF']\n",
    "    assert buffer in BUFFER_OPTS, (\n",
    "        'Selected buffer ' + buffer + ' is not available. Please select from ' + str(BUFFER_OPTS)\n",
    "    )\n",
    "    \n",
    "    if buffer=='IW':\n",
    "        # Frost (1991)\n",
    "        logfO2 = _eval_linear_buffer(T, P, A=-27489, B=6.702, C=.055, \n",
    "                                     Tlims=np.array([565, 1200])+273.15, ignore_lims=ignore_lims)\n",
    "    elif buffer=='IM':\n",
    "        logfO2 = _eval_linear_buffer(T, P, A=-28690.6, B=8.13, C=.056, Tlims=np.array([300, 565])+273.15, ignore_lims=ignore_lims)\n",
    "    elif buffer=='NNO':\n",
    "        logfO2 = _eval_linear_buffer(T, P, A=-24930, B=9.36, C=.046, Tlims=np.array([600, 1200])+273.15, ignore_lims=ignore_lims)\n",
    "    elif buffer=='CCO':\n",
    "        logfO2 = _eval_linear_buffer(T, P, A=-24332.6, B=7.295, C=.052, Tlims=np.array([600, 1200])+273.15, ignore_lims=ignore_lims)\n",
    "    elif buffer in ['HM', 'MH']:\n",
    "        logfO2_T1 = _eval_linear_buffer(T, P, A=-25497.5, B=14.33, C=.019, Tlims=np.array([300, 573])+273.15, ignore_lims=ignore_lims)\n",
    "        logfO2_T2 = _eval_linear_buffer(T, P, A=-26452.6, B=15.455, C=.019, Tlims=np.array([573, 682])+273.15, ignore_lims=ignore_lims)\n",
    "        logfO2_T3 = _eval_linear_buffer(T, P, A=-25700.6, B=14.558, C=.019, Tlims=np.array([682, 1100])+273.15, ignore_lims=ignore_lims)\n",
    "        \n",
    "        logfO2 = np.vstack((logfO2_T1, logfO2_T2, logfO2_T3))\n",
    "        logfO2 = np.nanmean(logfO2, axis=0)\n",
    "    elif buffer in ['MW', 'WM']:\n",
    "        logfO2 = _eval_linear_buffer(T, P, A=-32807, B=13.012, C=.083, Tlims=np.array([565, 1200])+273.15, ignore_lims=ignore_lims)\n",
    "    elif buffer in ['QFM', 'FMQ']:\n",
    "        logfO2_T1 = _eval_linear_buffer(T, P, A=-26455.3, B=10.344, C=.092, Tlims=np.array([400, 573])+273.15, ignore_lims=ignore_lims)\n",
    "        logfO2_T2 = _eval_linear_buffer(T, P, A=-25096.3, B=8.735, C=.110, Tlims=np.array([573, 1200])+273.15, ignore_lims=ignore_lims)\n",
    "        \n",
    "        logfO2 = np.vstack((logfO2_T1, logfO2_T2))\n",
    "        logfO2 = np.nanmean(logfO2, axis=0)\n",
    "    elif buffer=='QIF':\n",
    "        logfO2_T1 = _eval_linear_buffer(T, P, A=-29435.7, B=7.391, C=.044, Tlims=np.array([150, 573])+273.15, ignore_lims=ignore_lims)\n",
    "        logfO2_T2 = _eval_linear_buffer(T, P, A=-29520.8, B=7.492, C=.05, Tlims=np.array([573, 1200])+273.15, ignore_lims=ignore_lims)\n",
    "    \n",
    "        logfO2 = np.vstack((logfO2_T1, logfO2_T2))\n",
    "        logfO2 = np.nanmean(logfO2, axis=0)\n",
    "        \n",
    "\n",
    "    return logfO2\n",
    "        \n",
    "    "
   ]
  },
  {
   "cell_type": "code",
   "execution_count": null,
   "metadata": {},
   "outputs": [],
   "source": []
  },
  {
   "cell_type": "code",
   "execution_count": null,
   "metadata": {},
   "outputs": [],
   "source": [
    "T = np.linspace(200, 1200,1001)+273.15\n",
    "P0 = 1\n",
    "P1 = 2e4\n",
    "ignore_lims=True\n",
    "# ignore_lims=False\n",
    "\n",
    "BUFFER_LIST = ['IW', 'IM', 'NNO', 'CCO', 'MH', 'MW', 'QFM', 'QIF']\n",
    "logfO2_0 = {}\n",
    "logfO2_1 = {}\n",
    "for buffer in BUFFER_LIST:\n",
    "    logfO2_0[buffer] = fO2_buffer(T, P0, buffer=buffer, ignore_lims=ignore_lims)\n",
    "    logfO2_1[buffer] = fO2_buffer(T, P1, buffer=buffer, ignore_lims=ignore_lims)"
   ]
  },
  {
   "cell_type": "code",
   "execution_count": null,
   "metadata": {},
   "outputs": [],
   "source": [
    "plt.figure()\n",
    "for ibuffer,ilogfO2_0 in logfO2_0.items():\n",
    "    lines = plt.plot(T-273.15, ilogfO2_0, '-', label=ibuffer)\n",
    "    \n",
    "plt.legend()\n",
    "plt.xlabel('Temp [C]')\n",
    "plt.ylabel('logfO2')\n",
    "\n",
    "plt.ylim(-60,0)\n",
    "plt.title('1bar fO2 buffers')\n",
    "\n",
    "plt.figure()\n",
    "\n",
    "for ibuffer in ['IW', 'NNO', 'MW', 'QFM']:\n",
    "    ilogfO2_0 = logfO2_0[ibuffer]\n",
    "    ilogfO2_1 = logfO2_1[ibuffer]\n",
    "    lines = plt.plot(T-273.15, ilogfO2_0, '-', label=ibuffer)\n",
    "    plt.plot(T-273.15, ilogfO2_1, '--', label=ibuffer+'*', color=lines[0].get_color())\n",
    "    \n",
    "plt.legend()\n",
    "plt.xlabel('Temp [C]')\n",
    "plt.ylabel('logfO2')\n",
    "plt.title('Common fO2 buffers at 1bar and 2 GPa [*]')"
   ]
  },
  {
   "cell_type": "code",
   "execution_count": null,
   "metadata": {},
   "outputs": [],
   "source": [
    "Kress_dat = pd.read_csv('data/iron-redox-Kress91.dat')\n",
    "for oxide in chem.OXIDE_ORDER:\n",
    "    if oxide not in Kress_dat:\n",
    "        Kress_dat[oxide] = 0\n",
    "        \n",
    "Kress_dat['T'] += 273.15\n",
    "\n",
    "Kress_dat.head()"
   ]
  },
  {
   "cell_type": "code",
   "execution_count": null,
   "metadata": {},
   "outputs": [],
   "source": [
    "mol_oxides = chem.wt_to_mol_oxide(Kress_dat[chem.OXIDE_ORDER])\n",
    "mol_oxides = pd.DataFrame(mol_oxides, columns=chem.OXIDE_ORDER)\n",
    "ln_oxide_ratio = np.log(mol_oxides['Fe2O3']/mol_oxides['FeO'])"
   ]
  },
  {
   "cell_type": "code",
   "execution_count": null,
   "metadata": {},
   "outputs": [],
   "source": []
  },
  {
   "cell_type": "code",
   "execution_count": null,
   "metadata": {},
   "outputs": [],
   "source": [
    "T = Kress_dat['T']\n",
    "P = Kress_dat['P']\n",
    "log10fO2 = Kress_dat['logfO2']\n",
    "ln_oxide_ratio_model = Fe_redox_Kress91(T, P, mol_oxides, log10fO2=log10fO2)"
   ]
  },
  {
   "cell_type": "code",
   "execution_count": null,
   "metadata": {},
   "outputs": [],
   "source": []
  },
  {
   "cell_type": "code",
   "execution_count": null,
   "metadata": {},
   "outputs": [],
   "source": [
    "# plt.figure(figsize=(12,4))\n",
    "plt.figure()\n",
    "# ax = plt.gca()\n",
    "x = np.linspace(-6,4,100)\n",
    "plt.plot(ln_oxide_ratio_model, ln_oxide_ratio, 'ko', markersize=4)\n",
    "plt.plot(x, x, 'r-')\n",
    "plt.xlabel('predicted ln(Fe2O3/FeO)')\n",
    "plt.ylabel('measured ln(Fe2O3/FeO)')\n",
    "plt.xlim(-4.5, 1.5)\n",
    "plt.ylim(-4.5, 1.5)\n",
    "\n"
   ]
  },
  {
   "cell_type": "code",
   "execution_count": null,
   "metadata": {},
   "outputs": [],
   "source": [
    "T = Kress_dat['T']\n",
    "P = Kress_dat['P']\n",
    "log10fO2 = Kress_dat['logfO2']\n",
    "log10fO2_model = Fe_redox_Kress91(T, P, mol_oxides)"
   ]
  },
  {
   "cell_type": "code",
   "execution_count": null,
   "metadata": {},
   "outputs": [],
   "source": [
    "x = np.linspace(-10, 2, 101)\n",
    "plt.figure()\n",
    "plt.plot(log10fO2_model, log10fO2, 'ko', markersize=4)\n",
    "plt.plot(x,x,'r-')\n",
    "plt.xlabel('predicted log$_{10}$ fO$_2$')\n",
    "plt.ylabel('measured log$_{10}$ fO$_2$')\n",
    "\n",
    "\n",
    "fO2_err = np.std(log10fO2-log10fO2_model)\n",
    "\n",
    "plt.figure()\n",
    "plt.plot(log10fO2, log10fO2-log10fO2_model, 'ko', markersize=4)\n",
    "plt.fill_between(x, -fO2_err, fO2_err, color=[1,.5,.5])\n",
    "plt.plot(x, 0*x, 'k--')\n",
    "\n",
    "plt.xlabel('predicted log$_{10}$ fO$_2$')\n",
    "plt.ylabel('residual log$_{10}$ fO$_2$')\n"
   ]
  },
  {
   "cell_type": "code",
   "execution_count": null,
   "metadata": {},
   "outputs": [],
   "source": []
  },
  {
   "cell_type": "code",
   "execution_count": null,
   "metadata": {},
   "outputs": [],
   "source": [
    "adiabat_fO2 = pd.read_excel('data/adiabat_fO2_Kress91.xlsx', sheet_name=None)\n",
    "dTdP_ad = 15"
   ]
  },
  {
   "cell_type": "code",
   "execution_count": null,
   "metadata": {},
   "outputs": [],
   "source": [
    "liq_comp = adiabat_fO2['Liq_comp']\n",
    "Fe3_ratio = liq_comp['Fe+3/Fe_tot']\n",
    "\n",
    "for oxide in chem.OXIDE_ORDER:\n",
    "    if oxide not in liq_comp:\n",
    "        liq_comp[oxide] = 0.0\n",
    "\n",
    "liq_comp[chem.OXIDE_ORDER]"
   ]
  },
  {
   "cell_type": "code",
   "execution_count": null,
   "metadata": {},
   "outputs": [],
   "source": []
  },
  {
   "cell_type": "code",
   "execution_count": null,
   "metadata": {},
   "outputs": [],
   "source": [
    "\n",
    "print(Fe3_ratio)\n",
    "\n",
    "\n",
    "mol_oxides_ad = chem.wt_to_mol_oxide(liq_comp[chem.OXIDE_ORDER])\n",
    "mol_oxides_ad = pd.DataFrame(mol_oxides_ad, columns=chem.OXIDE_ORDER)\n",
    "mol_oxides_ad"
   ]
  },
  {
   "cell_type": "code",
   "execution_count": null,
   "metadata": {},
   "outputs": [],
   "source": [
    "\n",
    "FeOs = mol_oxides_ad['FeO']\n",
    "print(FeOs)\n",
    "print(FeOs*Fe3_ratio)\n",
    "Fe3 = Fe3_ratio*FeOs\n",
    "mol_oxides_ad['Fe2O3'] = 0.5*Fe3\n",
    "mol_oxides_ad['FeO'] = FeOs-Fe3\n",
    "mol_oxides_ad"
   ]
  },
  {
   "cell_type": "code",
   "execution_count": null,
   "metadata": {},
   "outputs": [],
   "source": [
    "2*.008824+.088026"
   ]
  },
  {
   "cell_type": "code",
   "execution_count": null,
   "metadata": {},
   "outputs": [],
   "source": [
    "P = 1e4*np.linspace(0,3,101)\n",
    "Tpot = 1350+273.15\n",
    "# Tpot = 1350+190\n",
    "T = Tpot+dTdP_ad*P/1e4\n",
    "\n",
    "logfO2_NNO = fO2_buffer(T, P, buffer='NNO', ignore_lims=True)\n",
    "logfO2_FMQ = fO2_buffer(T, P, buffer='FMQ', ignore_lims=True)\n",
    "log10fO2_liq = Fe_redox_Kress91(T, P, mol_oxides_ad)"
   ]
  },
  {
   "cell_type": "code",
   "execution_count": null,
   "metadata": {},
   "outputs": [],
   "source": [
    "fO2_buffer(1350+273.15, 1, buffer='FMQ', ignore_lims=True)"
   ]
  },
  {
   "cell_type": "code",
   "execution_count": null,
   "metadata": {},
   "outputs": [],
   "source": [
    "fO2_buffer(1350+273.15, 1, buffer='NNO', ignore_lims=True)"
   ]
  },
  {
   "cell_type": "code",
   "execution_count": null,
   "metadata": {},
   "outputs": [],
   "source": [
    "# T= 1350+273.15\n",
    "# P=1\n",
    "# (-25018.7/T + 12.981 + 0.046*(P-1.0)/T -0.5117*np.log(T))"
   ]
  },
  {
   "cell_type": "code",
   "execution_count": null,
   "metadata": {},
   "outputs": [],
   "source": []
  },
  {
   "cell_type": "code",
   "execution_count": null,
   "metadata": {},
   "outputs": [],
   "source": [
    "web_MELTS = pd.DataFrame()\n",
    "web_MELTS['T'] = [1350, 1365, 1380, 1395]\n",
    "web_MELTS['P'] = [1, 1.00E+04, 2.00E+04, 3.00E+04]\n",
    "web_MELTS['logfO2'] = [-6.77, -5.73, -4.81, -4.01]\n",
    "web_MELTS"
   ]
  },
  {
   "cell_type": "code",
   "execution_count": null,
   "metadata": {},
   "outputs": [],
   "source": []
  },
  {
   "cell_type": "code",
   "execution_count": null,
   "metadata": {},
   "outputs": [],
   "source": [
    "\n",
    "plt.figure()\n",
    "plt.plot(adiabat_fO2['FMQ']['P'],adiabat_fO2['FMQ']['fO2'],'kx', label='FMQ-K91')\n",
    "plt.plot(adiabat_fO2['NNO']['P'],adiabat_fO2['NNO']['fO2'],'bs', label='NNO-K91')\n",
    "plt.plot(adiabat_fO2['Liq']['P'],adiabat_fO2['Liq']['fO2'],'r+', label='NNO-K91')\n",
    "plt.plot(P/1e4,logfO2_FMQ,'k-', label='FMQ')\n",
    "plt.plot(P/1e4,logfO2_NNO,'b-', label='NNO')\n",
    "plt.plot(P/1e4, log10fO2_liq, 'r-', label='Liq')\n",
    "plt.plot(web_MELTS['P']/1e4, web_MELTS['logfO2'], 'r:', label='Liq-web')\n",
    "\n",
    "plt.plot(P/1e4,(-25018.7/T + 12.981 + 0.046*(P-1.0)/T -0.5117*np.log(T)), 'g--')\n",
    "\n",
    "plt.legend()\n",
    "plt.xlabel('Pressure [GPa]')\n",
    "plt.ylabel('log$_{10}$fO$_2$')"
   ]
  },
  {
   "cell_type": "code",
   "execution_count": null,
   "metadata": {},
   "outputs": [],
   "source": [
    "wt_oxides = np.array([50.74, 1.87, 13.93 ,1.94 ,10.43 ,0.22 ,6.47 ,10.92 ,2.61 ,0.20 ,0.22 ,0.45])\n",
    "oxide_names = ['SiO2','TiO2','Al2O3','Fe2O3','FeO','MnO','MgO','CaO','Na2O','K2O','P2O5','H2O']\n",
    "\n",
    "\n",
    "Tref = 1350+273.15\n",
    "Pref = 1\n",
    "fO2ref = -6.77 # ==QFM\n",
    "oxides = {'SiO2':50.74,'TiO2':1.87,'Al2O3':13.93,'Fe2O3':1.94,'FeO':10.43,\n",
    "          'MnO':0.22,'MgO':6.47,'CaO':10.92,'Na2O':2.61,'K2O':0.20,'P2O5':0.22,'H2O':0.45}\n",
    "\n",
    "print(len(wt_oxides))\n",
    "print(len(oxide_names))\n",
    "mol_oxide_comp_web = chem.format_mol_oxide_comp(oxides, convert_grams_to_moles=True)\n",
    "# Fe_redox_Kress91(T, P, mol_oxide_comp_web)\n",
    "pd.DataFrame(pd.Series(mol_oxide_comp_web,index=chem.OXIDE_ORDER)).T"
   ]
  },
  {
   "cell_type": "code",
   "execution_count": null,
   "metadata": {},
   "outputs": [],
   "source": [
    "(mol_oxide_comp_web).shape\n",
    "Fe_redox_Kress91(Tref, Pref, pd.DataFrame(pd.Series(mol_oxide_comp_web,index=chem.OXIDE_ORDER)).T)"
   ]
  },
  {
   "cell_type": "code",
   "execution_count": null,
   "metadata": {},
   "outputs": [],
   "source": [
    "\n",
    "Fe_redox_Kress91(1395+273.15, 3e4, pd.DataFrame(pd.Series(mol_oxide_comp_web,index=chem.OXIDE_ORDER)).T)"
   ]
  },
  {
   "cell_type": "code",
   "execution_count": null,
   "metadata": {},
   "outputs": [],
   "source": []
  },
  {
   "cell_type": "code",
   "execution_count": null,
   "metadata": {},
   "outputs": [],
   "source": [
    "mol_oxides_ad"
   ]
  },
  {
   "cell_type": "code",
   "execution_count": null,
   "metadata": {},
   "outputs": [],
   "source": []
  },
  {
   "cell_type": "code",
   "execution_count": null,
   "metadata": {},
   "outputs": [],
   "source": []
  },
  {
   "cell_type": "code",
   "execution_count": null,
   "metadata": {},
   "outputs": [],
   "source": []
  }
 ],
 "metadata": {
  "kernelspec": {
   "display_name": "Python 3",
   "language": "python",
   "name": "python3"
  },
  "language_info": {
   "codemirror_mode": {
    "name": "ipython",
    "version": 3
   },
   "file_extension": ".py",
   "mimetype": "text/x-python",
   "name": "python",
   "nbconvert_exporter": "python",
   "pygments_lexer": "ipython3",
   "version": "3.7.6"
  }
 },
 "nbformat": 4,
 "nbformat_minor": 4
}
