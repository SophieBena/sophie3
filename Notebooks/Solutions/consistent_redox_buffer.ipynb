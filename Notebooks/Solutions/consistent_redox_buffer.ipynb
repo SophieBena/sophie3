{
 "cells": [
  {
   "cell_type": "code",
   "execution_count": null,
   "metadata": {},
   "outputs": [],
   "source": [
    "import numpy as np\n",
    "from thermoengine import model\n",
    "import matplotlib.pyplot as plt"
   ]
  },
  {
   "cell_type": "code",
   "execution_count": null,
   "metadata": {},
   "outputs": [],
   "source": [
    "modelDB = model.Database()"
   ]
  },
  {
   "cell_type": "code",
   "execution_count": null,
   "metadata": {},
   "outputs": [],
   "source": [
    "Qz = modelDB.get_phase('Qz')\n",
    "Fa = modelDB.get_phase('Fa')\n",
    "Mag = modelDB.get_phase('Mag')\n",
    "Hem = modelDB.get_phase('Hem')\n",
    "Wu = modelDB.get_phase('Hem')\n",
    "O2 = modelDB.get_phase('O2')\n",
    "# modelDB.phase_info.loc[modelDB.phase_info['phase_name']=='Magnetite']"
   ]
  },
  {
   "cell_type": "code",
   "execution_count": null,
   "metadata": {},
   "outputs": [],
   "source": [
    "(modelDB.phase_info['phase_name'] == 'Wustite').sum()"
   ]
  },
  {
   "cell_type": "code",
   "execution_count": null,
   "metadata": {},
   "outputs": [],
   "source": [
    "T = 1350+273\n",
    "P = 1\n",
    "\n",
    "T0 = 273.15\n",
    "P0 = 1\n",
    "\n",
    "dmu_Qz = Qz.chem_potential(T, P) - Qz.chem_potential(T0, P0)\n",
    "dmu_Mag = Mag.chem_potential(T, P) - Mag.chem_potential(T0, P0)\n",
    "dmu_Fa = Fa.chem_potential(T, P) - Fa.chem_potential(T0, P0)\n",
    "dmu_O2 = O2.chem_potential(T, P) - O2.chem_potential(T0, P0)\n",
    "\n",
    "\n",
    "dlogfO2 = 1/(2.303*8.314*T)*(2*dmu_Mag + 3*dmu_Qz - 3*dmu_Fa - dmu_O2)\n",
    "print(dlogfO2)\n",
    "print(dmu_O2/(2.303*8.314*T))"
   ]
  },
  {
   "cell_type": "code",
   "execution_count": null,
   "metadata": {},
   "outputs": [],
   "source": [
    "np.log10(10)/np.log10(np.exp(1\n",
    "                            ))"
   ]
  },
  {
   "cell_type": "code",
   "execution_count": null,
   "metadata": {},
   "outputs": [],
   "source": [
    "print(O2.param_names)\n",
    "print(O2.get_param_values())\n",
    "O2.param_props"
   ]
  },
  {
   "cell_type": "code",
   "execution_count": null,
   "metadata": {},
   "outputs": [],
   "source": []
  },
  {
   "cell_type": "code",
   "execution_count": null,
   "metadata": {},
   "outputs": [],
   "source": []
  },
  {
   "cell_type": "code",
   "execution_count": null,
   "metadata": {},
   "outputs": [],
   "source": [
    "T_ref = 600+273\n",
    "P_ref=1\n",
    "mu_Qz = Qz.chem_potential(T_ref, P_ref)\n",
    "mu_Mag = Mag.chem_potential(T_ref, P_ref)\n",
    "mu_Fa = Fa.chem_potential(T_ref, P_ref)\n",
    "mu_O2 = O2.chem_potential(T_ref, P_ref)\n",
    "\n",
    "logfO2_ref = -20\n",
    "dGr = 2*mu_Mag + 3*mu_Qz - 3*mu_Fa - mu_O2\n",
    "dGr0 = dGr - (2.303*8.314*T_ref)*logfO2_ref \n",
    "\n",
    "logfO2 = 1/(2.303*8.314*T_ref)*(dGr - dGr0)\n",
    "logfO2 = 1/(2.303*8.314*T_ref)*dGr + 10\n",
    "logfO2"
   ]
  },
  {
   "cell_type": "code",
   "execution_count": null,
   "metadata": {},
   "outputs": [],
   "source": [
    "def muO2(T, P):\n",
    "    Tref = 298.15\n",
    "    Cp_k0 = 23.10248\n",
    "    Cp_k1 = 804.8876\n",
    "    Cp_k2 = 1762835.0\n",
    "    Cp_k3 = 0.0\n",
    "    Cp_l1 = 18172.91960\n",
    "    Cp_Tt = 0.002676\n",
    "    Hs = (23.10248*(T-Tref) + 2.0*804.8876*(np.sqrt(T)-np.sqrt(Tref)) - 1762835.0*(1.0/T-1.0/Tref)\n",
    "          - 18172.91960*np.log(T/Tref) + 0.5*0.002676*(T*T-Tref*Tref))\n",
    "    Ss = (205.15 + 23.10248*np.log(T/Tref)  - 2.0*804.8876*(1.0/np.sqrt(T)-1.0/np.sqrt(Tref)) \n",
    "          - 0.5*1762835.0*(1.0/(T*T)-1.0/(Tref*Tref)) + 18172.91960*(1.0/T-1.0/Tref) + 0.002676*(T-Tref))\n",
    "    mu_O2 = Hs - T*Ss\n",
    "    return mu_O2\n",
    "\n",
    "def QFM_buffer(T, P, fO2_offset=0):\n",
    "    mu_Qz = Qz.chem_potential(T, P)\n",
    "    mu_Mag = Mag.chem_potential(T, P)\n",
    "    mu_Fa = Fa.chem_potential(T, P)\n",
    "    # mu_O2 = O2.chem_potential(T, P)\n",
    "    mu_O2 = muO2(T, P)\n",
    "\n",
    "    dGr = 2*mu_Mag + 3*mu_Qz - 3*mu_Fa - mu_O2\n",
    "\n",
    "    # logfO2 = 1/(2.303*8.314*T)*(dGr - dGr0)\n",
    "    logfO2 = 1/(2.303*8.314*T)*dGr + fO2_offset\n",
    "    return logfO2"
   ]
  },
  {
   "cell_type": "code",
   "execution_count": null,
   "metadata": {},
   "outputs": [],
   "source": [
    "def MH_buffer(T, P, fO2_offset=0):\n",
    "    mu_Mag = Mag.chem_potential(T, P)\n",
    "    mu_Hem = Hem.chem_potential(T, P)\n",
    "    # mu_O2 = O2.chem_potential(T, P)\n",
    "    # mu_O2 = O2.chem_potential(T, P)\n",
    "    mu_O2 = muO2(T, P)\n",
    "\n",
    "    dGr = 6*mu_Hem - 4*mu_Mag - mu_O2\n",
    "\n",
    "    # logfO2 = 1/(2.303*8.314*T)*(dGr - dGr0)\n",
    "    logfO2 = 1/(2.303*8.314*T)*dGr + fO2_offset\n",
    "    return logfO2"
   ]
  },
  {
   "cell_type": "code",
   "execution_count": null,
   "metadata": {},
   "outputs": [],
   "source": [
    "MH_buffer(600+273, 1)"
   ]
  },
  {
   "cell_type": "code",
   "execution_count": null,
   "metadata": {},
   "outputs": [],
   "source": [
    "modelDB.phase_info"
   ]
  },
  {
   "cell_type": "code",
   "execution_count": null,
   "metadata": {},
   "outputs": [],
   "source": [
    "T = np.linspace(600, 1200) +273\n",
    "P = 1\n",
    "plt.figure()\n",
    "plt.plot(T, QFM_buffer(T, P), 'k-', T, modelDB.redox_buffer(T, P, buffer='QFM'), 'k--')\n",
    "plt.plot(T, MH_buffer(T, P), 'r-', T, modelDB.redox_buffer(T, P, buffer='MH'), 'r--')\n",
    "\n",
    "P = 3e4\n",
    "plt.plot(T, QFM_buffer(T, P), 'k-.', T, modelDB.redox_buffer(T, P, buffer='QFM'), 'k:', \n",
    "         color=[.5,.5,.5])\n",
    "plt.plot(T, MH_buffer(T, P), 'r-.', T, modelDB.redox_buffer(T, P, buffer='MH'), 'r:',\n",
    "        color=[1,.5,.5])"
   ]
  },
  {
   "cell_type": "code",
   "execution_count": null,
   "metadata": {},
   "outputs": [],
   "source": [
    "logfO2_ref = -20\n",
    "# logfO2_ref*(2.303*8.314*Tref)(2*mu_Mag + 3*mu_Qz - 3*mu_Fa - mu_O2)"
   ]
  },
  {
   "cell_type": "code",
   "execution_count": null,
   "metadata": {},
   "outputs": [],
   "source": []
  },
  {
   "cell_type": "code",
   "execution_count": null,
   "metadata": {},
   "outputs": [],
   "source": [
    "modelDB.phase_info"
   ]
  },
  {
   "cell_type": "code",
   "execution_count": null,
   "metadata": {},
   "outputs": [],
   "source": []
  },
  {
   "cell_type": "code",
   "execution_count": null,
   "metadata": {},
   "outputs": [],
   "source": [
    "\n",
    "affinity = 2*mu_Mag+3*mu_Qz-3*mu_Fa\n",
    "dlogfO2 = affinity/(2.303*8.314*T)\n",
    "dlogfO2\n",
    "\n",
    "mu0_Qz = Qz.chem_potential(T0, P0)\n",
    "mu0_Mag = Mag.chem_potential(T0, P0)\n",
    "mu0_Fa = Fa.chem_potential(T0, P0)\n",
    "affinity0 = 2*mu0_Mag+3*mu0_Qz-3*mu0_Fa\n",
    "\n",
    "dlogfO2 = (affinity-affinity0)/(2.303*8.314*T)\n",
    "print(dlogfO2)"
   ]
  },
  {
   "cell_type": "code",
   "execution_count": null,
   "metadata": {},
   "outputs": [],
   "source": [
    "Tref = 1350+273\n",
    "Pref = 1\n",
    "\n",
    "T0 = 273.15\n",
    "P0 = 1.013\n",
    "\n",
    "# T0 = 1000+273\n",
    "# P0 = 1\n",
    "\n",
    "dmu_Mag = Mag.chem_potential(Tref, Pref) - Mag.chem_potential(T0, P0)\n",
    "dmu_Qz = Qz.chem_potential(Tref, Pref) - Qz.chem_potential(T0, P0)\n",
    "dmu_Fa = Fa.chem_potential(Tref, Pref) - Fa.chem_potential(T0, P0)\n",
    "\n",
    "dGr0 = (modelDB.redox_buffer(Tref, Pref, buffer='QFM', ignore_lims=True)\n",
    "        -modelDB.redox_buffer(T0, P0, buffer='QFM', ignore_lims=True))\n",
    "dlogfO2 = 1/(2.303*8.314*Tref)*(2*dmu_Mag + 3*dmu_Qz - 3*dmu_Fa - dGr0)\n",
    "dlogfO2"
   ]
  },
  {
   "cell_type": "code",
   "execution_count": null,
   "metadata": {},
   "outputs": [],
   "source": [
    "T = 1050+273\n",
    "P = 1\n",
    "\n",
    "dmu_Mag = Mag.chem_potential(T, P) - Mag.chem_potential(Tref, Pref)\n",
    "dmu_Qz = Qz.chem_potential(T, P) - Qz.chem_potential(Tref, Pref)\n",
    "dmu_Fa = Fa.chem_potential(T, P) - Fa.chem_potential(Tref, Pref)\n",
    "\n",
    "dlogfO2 = 1/(2.303*8.314*T)*(2*dmu_Mag + 3*dmu_Qz - 3*dmu_Fa - dGr0)\n",
    "dlogfO2"
   ]
  },
  {
   "cell_type": "code",
   "execution_count": null,
   "metadata": {},
   "outputs": [],
   "source": [
    "(+modelDB.redox_buffer(T, P, buffer='QFM', ignore_lims=True)\n",
    " -modelDB.redox_buffer(Tref, Pref, buffer='QFM', ignore_lims=True))"
   ]
  },
  {
   "cell_type": "code",
   "execution_count": null,
   "metadata": {},
   "outputs": [],
   "source": []
  },
  {
   "cell_type": "code",
   "execution_count": null,
   "metadata": {},
   "outputs": [],
   "source": [
    "modelDB.redox_buffer(T0+1000, P0, buffer='QFM', ignore_lims=True)"
   ]
  },
  {
   "cell_type": "code",
   "execution_count": null,
   "metadata": {},
   "outputs": [],
   "source": [
    "Fa.formula"
   ]
  },
  {
   "cell_type": "code",
   "execution_count": null,
   "metadata": {},
   "outputs": [],
   "source": []
  },
  {
   "cell_type": "code",
   "execution_count": null,
   "metadata": {},
   "outputs": [],
   "source": [
    "modelDB.redox_buffer(T0+1000, P0, buffer='QFM', ignore_lims=True)"
   ]
  },
  {
   "cell_type": "code",
   "execution_count": null,
   "metadata": {},
   "outputs": [],
   "source": []
  },
  {
   "cell_type": "code",
   "execution_count": null,
   "metadata": {},
   "outputs": [],
   "source": []
  }
 ],
 "metadata": {
  "kernelspec": {
   "display_name": "Python 3",
   "language": "python",
   "name": "python3"
  },
  "language_info": {
   "codemirror_mode": {
    "name": "ipython",
    "version": 3
   },
   "file_extension": ".py",
   "mimetype": "text/x-python",
   "name": "python",
   "nbconvert_exporter": "python",
   "pygments_lexer": "ipython3",
   "version": "3.7.6"
  }
 },
 "nbformat": 4,
 "nbformat_minor": 4
}
