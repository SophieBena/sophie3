{
 "cells": [
  {
   "cell_type": "markdown",
   "metadata": {},
   "source": [
    "# Duan and Zhang (2006)\n",
    "\n",
    "H2O-CO2 model of Duan, Z, Zhang, Z (2006) Equation of state of the H2O, CO2, and H2O-CO2 systems up to 10 GPa and 2573.15 K: Molecular dynamics simulations with ab initio potential surface. Geochimica et Cosmochimica Acta, 70, 2311-2324  \n",
    "\n",
    "Read in ENKI phases module"
   ]
  },
  {
   "cell_type": "code",
   "execution_count": null,
   "metadata": {},
   "outputs": [],
   "source": [
    "from thermoengine import phases\n",
    "import numpy as np\n",
    "import warnings\n",
    "warnings.filterwarnings(\"ignore\", category=DeprecationWarning)\n",
    "warnings.filterwarnings(\"ignore\", category=FutureWarning)\n",
    "import matplotlib.pyplot as plt\n",
    "%matplotlib inline"
   ]
  },
  {
   "cell_type": "markdown",
   "metadata": {},
   "source": [
    "Create an instance of Duan and Zhang"
   ]
  },
  {
   "cell_type": "code",
   "execution_count": null,
   "metadata": {},
   "outputs": [],
   "source": [
    "DuanAndZhang = phases.SolutionPhase('FluidDuan', '', calib=False)"
   ]
  },
  {
   "cell_type": "code",
   "execution_count": null,
   "metadata": {},
   "outputs": [],
   "source": [
    "DuanCO2 = phases.PurePhase('DuanCO2', '', calib=False)"
   ]
  },
  {
   "cell_type": "markdown",
   "metadata": {},
   "source": [
    "## Some calculations for evaulating Duan and Zhang against experiments"
   ]
  },
  {
   "cell_type": "markdown",
   "metadata": {},
   "source": [
    "Reaction: C,graphite + O<sub>2</sub>,g -> CO<sub>2</sub>,fluid at 1 GPa and 800°C  \n",
    "\n",
    "The following apparent free energy values are from SUPCRT (CHONSZ) and follow the Helgeson reference state condition"
   ]
  },
  {
   "cell_type": "code",
   "execution_count": null,
   "metadata": {},
   "outputs": [],
   "source": [
    "DuanAndZhang.MINVAL = np.finfo(float).eps*10.0\n",
    "t = 1073.15\n",
    "p = 10000.\n",
    "G_O2 = -42463.88528*4.184\n",
    "G_graphite = -1913.037*4.184\n",
    "G_CO2_Duan = DuanAndZhang.chem_potential(1073.15, 10000, mol=np.array([0.0, 1.0]))[0][1] + 62876.8535\n",
    "deltaG = G_CO2_Duan - G_O2 - G_graphite\n",
    "G_O2, G_graphite, G_CO2_Duan, deltaG, -deltaG/np.log(10.0)/8.3143/t"
   ]
  },
  {
   "cell_type": "code",
   "execution_count": null,
   "metadata": {},
   "outputs": [],
   "source": [
    "DuanAndZhang.activity(1073.15, 10000, mol=np.array([0.0, 1.0]))"
   ]
  },
  {
   "cell_type": "code",
   "execution_count": null,
   "metadata": {},
   "outputs": [],
   "source": [
    "DuanAndZhang.chem_potential(1073.15, 10000, mol=np.array([0.0, 1.0]))"
   ]
  },
  {
   "cell_type": "code",
   "execution_count": null,
   "metadata": {},
   "outputs": [],
   "source": [
    "t = 1073.15\n",
    "p = 10000.\n",
    "G_O2 = -42463.88528*4.184\n",
    "G_graphite = -1913.037*4.184\n",
    "G_CO2_Duan = DuanAndZhang.gibbs_energy(1073.15, 10000, mol=np.array([0.0, 1.0])) + 62876.8535\n",
    "deltaG = G_CO2_Duan - G_O2 - G_graphite\n",
    "G_O2, G_graphite, G_CO2_Duan, deltaG, -deltaG/np.log(10.0)/8.3143/t"
   ]
  },
  {
   "cell_type": "code",
   "execution_count": null,
   "metadata": {},
   "outputs": [],
   "source": [
    "t = 1073.15\n",
    "p = 10000.\n",
    "G_O2 = -42463.88528*4.184\n",
    "G_graphite = -1913.037*4.184\n",
    "G_CO2_Duan = DuanCO2.gibbs_energy(t,p) + 62876.8535\n",
    "deltaG = G_CO2_Duan - G_O2 - G_graphite\n",
    "G_O2, G_graphite, G_CO2_Duan, deltaG, -deltaG/np.log(10.0)/8.3143/t"
   ]
  },
  {
   "cell_type": "markdown",
   "metadata": {},
   "source": [
    "At the QFM oxygen buffer at this T,P, the experimentally determined composition of the fluid should yield an activity of CO<sub>2</sub> of 0.67.  This calibration of QFM is from Frost."
   ]
  },
  {
   "cell_type": "code",
   "execution_count": null,
   "metadata": {},
   "outputs": [],
   "source": [
    "log10fO2 = -24441.9/t + 0.110*(p-1.0)/t +  8.290\n",
    "log10fO2, log10fO2*1.055, log10fO2*1.055 - log10fO2"
   ]
  },
  {
   "cell_type": "markdown",
   "metadata": {},
   "source": [
    "Plot the free energy change of the above reaction vrs X CO<sub>2</sub> in the fluid.  Note that the chemical potential of CO<sub>2</sub> is corrected by 62876.8535 J/mol in order to reconcile the Berman (MELTS) reference state value to the Helgeson convention (62876.8535 is the entrop of C + O2 in the reference state multiplied by 298.15 K)"
   ]
  },
  {
   "cell_type": "code",
   "execution_count": null,
   "metadata": {},
   "outputs": [],
   "source": [
    "log10fO2 = -13.70\n",
    "deltaQFM_FM19  = -0.69 + 0.24 # Frost = first number\n",
    "deltaQFM_COH69 = -0.78 + 0.24 # Frost = first number\n",
    "print ('COH69 log10 fO2 = {0:5.2f}'.format(log10fO2+deltaQFM_COH69))\n",
    "print ('FM19  log10 fO2 = {0:5.2f}'.format(log10fO2+deltaQFM_FM19))\n",
    "fig = plt.figure(figsize=(15,10))\n",
    "plt.subplot(1,1,1)\n",
    "plt.title('Duan and Zhang (2006) P = '+str(p)+' bars'+' T = '+str(t-273.15)+' °C')\n",
    "x = []\n",
    "y_FM19  = []\n",
    "y_COH69 = []\n",
    "for ix in range(1,100):\n",
    "    X = ix*0.01\n",
    "    res = DuanAndZhang.chem_potential(1073.15, 10000, mol=np.array([1.-X, X]))[0][1] + 62876.8535\n",
    "    res -=  G_O2 + 8.3143*t*np.log(10.0)*log10fO2\n",
    "    res -=  G_graphite\n",
    "    y_COH69.append(res - 8.3143*t*np.log(10.0)*deltaQFM_COH69)\n",
    "    y_FM19.append( res - 8.3143*t*np.log(10.0)*deltaQFM_FM19)\n",
    "    x.append(X)\n",
    "plt.plot(np.array(x), np.array(y_COH69), 'r-', label='COH69 delta QFM = '+str(deltaQFM_COH69))\n",
    "plt.plot(np.array(x), np.array(y_FM19), 'g-', label='FM19 delta QFM = '+str(deltaQFM_FM19))\n",
    "plt.plot(np.array([0,1]), np.array([0,0]), 'k--')\n",
    "plt.plot(np.array([0.67, 0.67]), np.array([-1000, 1000]), 'k-')\n",
    "plt.plot(np.array([0.86, 0.86]), np.array([-1000, 1000]), 'k-')\n",
    "plt.xlabel('X CO2')\n",
    "plt.ylabel('deltaG (J) of C,graphite + O2,g = CO2,fld')\n",
    "plt.xlim([0,1])\n",
    "plt.legend()\n",
    "plt.tight_layout()\n",
    "plt.show()\n",
    "fig.savefig(\"graphite-duan.pdf\", bbox_inches='tight')"
   ]
  },
  {
   "cell_type": "markdown",
   "metadata": {},
   "source": [
    "Trial and error estimation of where the equilibrium concentration"
   ]
  },
  {
   "cell_type": "code",
   "execution_count": null,
   "metadata": {},
   "outputs": [],
   "source": [
    "X = 0.67\n",
    "res = DuanAndZhang.chem_potential(1073.15, 10000, mol=np.array([1.-X, X]))[0][1] + 62876.8535\n",
    "res -=  G_O2 + 8.3143*t*np.log(10.0)*(log10fO2 + deltaQFM_COH69)\n",
    "res -=  G_graphite\n",
    "res"
   ]
  },
  {
   "cell_type": "markdown",
   "metadata": {},
   "source": [
    "Experimentally, the value of the activity should be 0.67, which is consistent with a Duan and Zhang fluid molefraction of:"
   ]
  },
  {
   "cell_type": "code",
   "execution_count": null,
   "metadata": {},
   "outputs": [],
   "source": [
    "X = 0.67\n",
    "DuanAndZhang.activity(t, p, mol=np.array([1.0-X, X]))"
   ]
  },
  {
   "cell_type": "code",
   "execution_count": null,
   "metadata": {},
   "outputs": [],
   "source": [
    "X = 0.86\n",
    "DuanAndZhang.activity(t, p, mol=np.array([1.0-X, X]))"
   ]
  },
  {
   "cell_type": "markdown",
   "metadata": {},
   "source": [
    "## Reference state properties and the Helgeson convention"
   ]
  },
  {
   "cell_type": "code",
   "execution_count": null,
   "metadata": {},
   "outputs": [],
   "source": [
    "print ('G  298.15 K,1 bar)', -94254*4.184, 'J/mol')\n",
    "print ('H  298.15 K,1 bar)', -94051*4.184, 'J/mol')\n",
    "print ('S  298.15 K,1 bar)', 51.085*4.184, 'J/K-mol')\n",
    "print ('Cp 298.15 K,1 bar)', 13.51*4.184,  'J/K-mol')"
   ]
  },
  {
   "cell_type": "code",
   "execution_count": null,
   "metadata": {},
   "outputs": [],
   "source": [
    "print ('D&Z Gibbs energy: ', DuanAndZhang.gibbs_energy(298.15, 1.0, mol=np.array([0.0, 1.0])))\n",
    "print ('D&Z Enthalpy:     ', DuanAndZhang.enthalpy(298.15, 1.0, mol=np.array([0.0, 1.0])))\n",
    "print ('D&Z Entropy:      ', DuanAndZhang.entropy(298.15, 1.0, mol=np.array([0.0, 1.0])))\n",
    "print ('D&Z Heat Capacity:', DuanAndZhang.heat_capacity(298.15, 1.0, mol=np.array([0.0, 1.0])))\n",
    "S_C_ref = 5.74\n",
    "S_O2_ref = 205.15\n",
    "print ('Helgeson S corr:  ', 298.15*(S_C_ref+S_O2_ref)) \n",
    "print ('D&Z G Helg corr:  ', DuanAndZhang.gibbs_energy(298.15, 1.0, mol=np.array([0.0, 1.0]))+298.15*(S_C_ref+S_O2_ref))"
   ]
  },
  {
   "cell_type": "markdown",
   "metadata": {},
   "source": [
    "## Density estimates"
   ]
  },
  {
   "cell_type": "markdown",
   "metadata": {},
   "source": [
    "Set T and P ..."
   ]
  },
  {
   "cell_type": "code",
   "execution_count": null,
   "metadata": {},
   "outputs": [],
   "source": [
    "t = 1000 # K\n",
    "p = 1000 # bars"
   ]
  },
  {
   "cell_type": "markdown",
   "metadata": {},
   "source": [
    "Set composition in moles of endmembers ..."
   ]
  },
  {
   "cell_type": "code",
   "execution_count": null,
   "metadata": {},
   "outputs": [],
   "source": [
    "xH2O = 0.2\n",
    "xCO2 = 0.8"
   ]
  },
  {
   "cell_type": "markdown",
   "metadata": {},
   "source": [
    "Compute volume in units of J/bar, note that 1 J/bar = 10 cc"
   ]
  },
  {
   "cell_type": "code",
   "execution_count": null,
   "metadata": {},
   "outputs": [],
   "source": [
    "volume = DuanAndZhang.volume(1000, 1000, mol=[xH2O, xCO2])\n",
    "print ('V =', volume, 'J/bar')"
   ]
  },
  {
   "cell_type": "markdown",
   "metadata": {},
   "source": [
    "Compute density in g/cc ..."
   ]
  },
  {
   "cell_type": "code",
   "execution_count": null,
   "metadata": {},
   "outputs": [],
   "source": [
    "mwH2O = DuanAndZhang.props['molwt'][0]\n",
    "mwCO2 = DuanAndZhang.props['molwt'][1]\n",
    "grams = xH2O*mwH2O + xCO2*mwCO2\n",
    "density = grams/(volume*10)\n",
    "print ('density = ', density, 'gm/cc')"
   ]
  },
  {
   "cell_type": "markdown",
   "metadata": {},
   "source": [
    "## Make some plots of fluid properties over a T-P grid"
   ]
  },
  {
   "cell_type": "code",
   "execution_count": null,
   "metadata": {},
   "outputs": [],
   "source": [
    "for xy in [4]: # range(0,11)\n",
    "    xCO2 = xy/10.0\n",
    "    xH2O = 1.0-xCO2\n",
    "    fig = plt.figure(figsize=(15,10))\n",
    "    plt.subplot(1,1,1)\n",
    "    plt.title('Duan and Zhang (2006) X CO2 = '+str(xCO2))\n",
    "    for p in range(5000,21000,1000):\n",
    "        x = []\n",
    "        y = []\n",
    "        for tc in range(500,801,1):\n",
    "            t = tc + 273.15\n",
    "            x.append(tc)\n",
    "            #y.append(DuanAndZhang.entropy(t, p, mol=[xH2O, xCO2]))\n",
    "            y.append(DuanAndZhang.volume(t, p, mol=[xH2O, xCO2]))\n",
    "            #y.append(DuanAndZhang.chem_potential(t, p, mol=[xH2O, xCO2])[0,1])\n",
    "            #y.append(DuanAndZhang.activity(t, p, mol=[xH2O, xCO2])[0,1])\n",
    "        plt.plot(np.array(x), np.array(y), '-', label='P = '+str(p))\n",
    "    plt.xlabel('T °C')\n",
    "    plt.ylabel('V (J/bar)')\n",
    "    plt.legend(loc='upper right')\n",
    "    plt.tight_layout()\n",
    "    plt.show()\n",
    "    fig.savefig(\"DZ-VvrsT.pdf\", bbox_inches='tight')"
   ]
  },
  {
   "cell_type": "markdown",
   "metadata": {},
   "source": [
    "### Make some plots on P-V grid"
   ]
  },
  {
   "cell_type": "code",
   "execution_count": null,
   "metadata": {},
   "outputs": [],
   "source": [
    "fig = plt.figure(figsize=(15,10))\n",
    "plt.subplot(1,1,1)\n",
    "xCO2 = 0.4\n",
    "xH2O = 1.0-xCO2\n",
    "plt.title('Duan and Zhang (2006) X CO2 = '+str(xCO2))\n",
    "for tc in range(500,810,10):\n",
    "    t = tc + 273.15\n",
    "    x = []\n",
    "    y = []\n",
    "    for p in range(5000,20100,100):\n",
    "        y.append(p/10.0)\n",
    "        x.append(DuanAndZhang.volume(t, p, mol=[xH2O, xCO2]))\n",
    "    plt.plot(np.array(x), np.array(y), '-', label='T (°C) = '+str(tc))\n",
    "plt.xlabel('V (J/bar)')\n",
    "plt.ylabel('P (MPa)')\n",
    "plt.legend(loc='upper right')\n",
    "plt.tight_layout()\n",
    "plt.show()\n",
    "fig.savefig(\"DZ-VvrsP.pdf\", bbox_inches='tight')"
   ]
  },
  {
   "cell_type": "code",
   "execution_count": null,
   "metadata": {},
   "outputs": [],
   "source": [
    "min_P = 5000\n",
    "max_P = 20000\n",
    "inc_P = 25\n",
    "min_T = 500\n",
    "max_T = 800\n",
    "inc_T = 5\n",
    "for xy in [4]:\n",
    "    xCO2 = xy/10.0\n",
    "    xH2O = 1.0-xCO2\n",
    "    fig = plt.figure(figsize=(15,10))\n",
    "    plt.subplot(1,1,1)\n",
    "    plt.title('Duan and Zhang (2006), Volume contours in J/bar, X CO2 = '+str(xCO2))\n",
    "    x = [tc for tc in range(min_T, max_T+inc_T, inc_T)]\n",
    "    y = [p/10.0 for p in range(min_P,max_P+inc_P,inc_P)]\n",
    "    z = []\n",
    "    for p in range(min_P,max_P+inc_P,inc_P):\n",
    "        zz = []\n",
    "        for tc in range(min_T, max_T+inc_T, inc_T):\n",
    "            t = tc + 273.15\n",
    "            zz.append(DuanAndZhang.volume(t, p, mol=[xH2O, xCO2]))\n",
    "        z.append(np.array(zz))\n",
    "    cs = plt.contour(np.array(x), np.array(y), np.array(z),levels=20)\n",
    "    plt.clabel(cs, cs.levels, inline=True, fmt='%3.1f', fontsize=10)\n",
    "    plt.xlabel('T (°C)')\n",
    "    plt.ylabel('P (MPa)')\n",
    "    plt.tight_layout()\n",
    "    plt.show()\n",
    "    fig.savefig(\"DZ-TvrsP-contour-V.pdf\", bbox_inches='tight')"
   ]
  },
  {
   "cell_type": "code",
   "execution_count": null,
   "metadata": {},
   "outputs": [],
   "source": []
  }
 ],
 "metadata": {
  "kernelspec": {
   "display_name": "Python 3",
   "language": "python",
   "name": "python3"
  },
  "language_info": {
   "codemirror_mode": {
    "name": "ipython",
    "version": 3
   },
   "file_extension": ".py",
   "mimetype": "text/x-python",
   "name": "python",
   "nbconvert_exporter": "python",
   "pygments_lexer": "ipython3",
   "version": "3.7.9"
  }
 },
 "nbformat": 4,
 "nbformat_minor": 4
}
