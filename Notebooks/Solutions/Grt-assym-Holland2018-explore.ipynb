{
 "cells": [
  {
   "cell_type": "markdown",
   "metadata": {},
   "source": [
    "# Asymmetric Grs-Pyr Binary Garnet soln (van-Laar)\n",
    "- based on Holland2018"
   ]
  },
  {
   "cell_type": "code",
   "execution_count": null,
   "metadata": {},
   "outputs": [],
   "source": [
    "import numpy as np\n",
    "import scipy as sp\n",
    "import pandas as pd\n",
    "from scipy import spatial\n",
    "from scipy import interpolate\n",
    "import matplotlib.pyplot as plt\n",
    "\n",
    "import vanlaar"
   ]
  },
  {
   "cell_type": "code",
   "execution_count": null,
   "metadata": {},
   "outputs": [],
   "source": []
  },
  {
   "cell_type": "markdown",
   "metadata": {},
   "source": [
    "## Create Pyrope-Grossular Binary Soln models\n",
    "- uses parameter values from Holland2018"
   ]
  },
  {
   "cell_type": "code",
   "execution_count": null,
   "metadata": {},
   "outputs": [],
   "source": [
    "R = 8.3145\n",
    "\n",
    "# Pressure appears to be in kbars???\n",
    "\n",
    "Wh = 45.4*1e3\n",
    "Ws = .01*1e3\n",
    "Wv = .04*1e3\n",
    "\n",
    "alpha = 2.5\n",
    "mult = 3\n"
   ]
  },
  {
   "cell_type": "code",
   "execution_count": null,
   "metadata": {},
   "outputs": [],
   "source": [
    "regular = vanlaar.RegularSoln(Wh, Wv=Wv, Ws=Ws, mult=mult)\n",
    "asymm = vanlaar.AsymmSoln(Wh, Wv=Wv, Ws=Ws, alpha=alpha, mult=mult)"
   ]
  },
  {
   "cell_type": "code",
   "execution_count": null,
   "metadata": {},
   "outputs": [],
   "source": [
    "P=0\n",
    "T0_crit = 750\n",
    "\n",
    "T = T0_crit*.9"
   ]
  },
  {
   "cell_type": "code",
   "execution_count": null,
   "metadata": {},
   "outputs": [],
   "source": []
  },
  {
   "cell_type": "markdown",
   "metadata": {},
   "source": [
    "## Find solvus using common tangent"
   ]
  },
  {
   "cell_type": "code",
   "execution_count": null,
   "metadata": {},
   "outputs": [],
   "source": [
    "regular.test_solvus_finder(T=T, P=P)"
   ]
  },
  {
   "cell_type": "code",
   "execution_count": null,
   "metadata": {},
   "outputs": [],
   "source": [
    "asymm.test_solvus_finder(T=T, P=P)"
   ]
  },
  {
   "cell_type": "code",
   "execution_count": null,
   "metadata": {},
   "outputs": [],
   "source": []
  },
  {
   "cell_type": "markdown",
   "metadata": {},
   "source": [
    "# Solvus Calculation"
   ]
  },
  {
   "cell_type": "code",
   "execution_count": null,
   "metadata": {},
   "outputs": [],
   "source": [
    "def plot_solvus(T, X_solvus, label='', fmt='k--', figure=None):\n",
    "\n",
    "    if figure is None:\n",
    "        figure = plt.figure()\n",
    "        \n",
    "    plt.plot(X_solvus[:,0], T, fmt, label=label)\n",
    "    plt.plot(X_solvus[:,1], T, fmt)\n",
    "\n",
    "    plt.xlim(-.01,1.01)\n",
    "    plt.xlabel('X')\n",
    "    plt.ylabel('T [K]')\n",
    "    \n",
    "    if label!='':\n",
    "        plt.legend()\n",
    "        \n",
    "    return figure"
   ]
  },
  {
   "cell_type": "code",
   "execution_count": null,
   "metadata": {},
   "outputs": [],
   "source": [
    "# T = np.linspace(.5*T0_crit,3*T0_crit,301)\n",
    "T = np.linspace(400,870, 3601)\n",
    "P0=1e-3\n",
    "\n",
    "N=6001\n",
    "upsamp_fac = 1\n",
    "allow_interp = False\n",
    "Phi=30"
   ]
  },
  {
   "cell_type": "code",
   "execution_count": null,
   "metadata": {},
   "outputs": [],
   "source": [
    "# X_solvus = regular.solvus(T, P=P0)\n",
    "X_solvus_asymm = asymm.solvus(T, P=P0, N=N, allow_interp=allow_interp)\n",
    "\n",
    "# X_solvus_hi = regular.solvus(T, P=Phi)\n",
    "X_solvus_asymm_hi = asymm.solvus(T, P=Phi, N=N, allow_interp=allow_interp)"
   ]
  },
  {
   "cell_type": "code",
   "execution_count": null,
   "metadata": {},
   "outputs": [],
   "source": []
  },
  {
   "cell_type": "code",
   "execution_count": null,
   "metadata": {},
   "outputs": [],
   "source": []
  },
  {
   "cell_type": "code",
   "execution_count": null,
   "metadata": {},
   "outputs": [],
   "source": [
    "def reformat_solvus(X_solvus, T):\n",
    "    Xsolv = np.hstack((X_solvus[:,0],X_solvus[::-1,1]))\n",
    "    Tsolv = np.hstack((T, T[::-1]))\n",
    "    # ind_solv = ~(np.isnan(Tsolv) or np.isnan(Xsolv))\n",
    "    ind_solv = ~(np.isnan(Xsolv)|np.isnan(Tsolv))\n",
    "\n",
    "    Xsolv = Xsolv[ind_solv]\n",
    "    Tsolv = Tsolv[ind_solv]\n",
    "    \n",
    "    return Xsolv, Tsolv\n",
    "\n"
   ]
  },
  {
   "cell_type": "code",
   "execution_count": null,
   "metadata": {},
   "outputs": [],
   "source": [
    "Xsolv, Tsolv = reformat_solvus(X_solvus_asymm,  T)\n",
    "Xsolv_hi, Tsolv_hi = reformat_solvus(X_solvus_asymm_hi,  T)"
   ]
  },
  {
   "cell_type": "code",
   "execution_count": null,
   "metadata": {},
   "outputs": [],
   "source": [
    "df_solvus = pd.DataFrame({'X':Xsolv, 'T':Tsolv})\n",
    "df_solvus_3 = pd.DataFrame({'X':Xsolv_hi, 'T':Tsolv_hi})\n",
    "# df_solvus.to_csv('data/solvus_Holland2018.csv')\n",
    "# df_solvus_3.to_csv('data/solvus_3_Holland2018.csv')"
   ]
  },
  {
   "cell_type": "code",
   "execution_count": null,
   "metadata": {},
   "outputs": [],
   "source": [
    "plt.figure()\n",
    "plt.plot(Xsolv, Tsolv,  'k-')\n",
    "plt.plot(Xsolv_hi, Tsolv_hi,  'r-')"
   ]
  },
  {
   "cell_type": "code",
   "execution_count": null,
   "metadata": {},
   "outputs": [],
   "source": []
  },
  {
   "cell_type": "markdown",
   "metadata": {},
   "source": [
    "## Explore accurately pinpointing solvus edges w/o convex hull"
   ]
  },
  {
   "cell_type": "code",
   "execution_count": null,
   "metadata": {},
   "outputs": [],
   "source": []
  },
  {
   "cell_type": "code",
   "execution_count": null,
   "metadata": {},
   "outputs": [],
   "source": [
    "T=760\n",
    "X = np.linspace(0,1,1001)\n",
    "dX = X[1]-X[0]"
   ]
  },
  {
   "cell_type": "code",
   "execution_count": null,
   "metadata": {
    "jupyter": {
     "source_hidden": true
    }
   },
   "outputs": [],
   "source": [
    "G_mix = asymm.gibbs_mix(X, T, P=.001)\n",
    "\n",
    "dGdX = np.gradient(G_mix, dX)\n",
    "\n",
    "mu1 = G_mix - dGdX*X\n",
    "mu2 = G_mix + dGdX*(1-X)\n",
    "\n",
    "plt.figure()\n",
    "\n",
    "# plt.plot(X, mu1, 'k-')\n",
    "plt.plot(X, mu2, 'r-')\n",
    "\n",
    "plt.ylim(-1300,-1000)\n",
    "\n",
    "plt.figure()\n",
    "\n",
    "plt.plot(X, mu1, 'k-')\n",
    "# plt.plot(X, mu2, 'r-')\n",
    "\n",
    "# plt.ylim(-9000,-6000)\n",
    "\n",
    "\n",
    "plt.figure()\n",
    "plt.plot(X, G_mix, '-')\n",
    "\n"
   ]
  },
  {
   "cell_type": "code",
   "execution_count": null,
   "metadata": {},
   "outputs": [],
   "source": [
    "dmu1 = mu1[:,np.newaxis]-mu1[np.newaxis,:]\n",
    "dmu2 = mu2[:,np.newaxis]-mu2[np.newaxis,:]\n",
    "\n",
    "plt.figure()\n",
    "plt.contour(X, X, np.abs(dmu1), 1000)\n",
    "\n",
    "plt.colorbar()\n",
    "plt.figure()\n",
    "plt.contour(X, X, dmu2, 1000)"
   ]
  },
  {
   "cell_type": "code",
   "execution_count": null,
   "metadata": {},
   "outputs": [],
   "source": []
  }
 ],
 "metadata": {
  "kernelspec": {
   "display_name": "Python 3",
   "language": "python",
   "name": "python3"
  },
  "language_info": {
   "codemirror_mode": {
    "name": "ipython",
    "version": 3
   },
   "file_extension": ".py",
   "mimetype": "text/x-python",
   "name": "python",
   "nbconvert_exporter": "python",
   "pygments_lexer": "ipython3",
   "version": "3.7.6"
  }
 },
 "nbformat": 4,
 "nbformat_minor": 4
}
