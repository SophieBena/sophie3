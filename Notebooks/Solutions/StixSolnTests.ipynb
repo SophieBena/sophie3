{
 "cells": [
  {
   "cell_type": "markdown",
   "metadata": {},
   "source": [
    "# Stixrude Reciprocal Solution Tests"
   ]
  },
  {
   "cell_type": "code",
   "execution_count": 1,
   "metadata": {},
   "outputs": [],
   "source": [
    "import numpy as np\n",
    "from thermoengine import core, phases, model"
   ]
  },
  {
   "cell_type": "code",
   "execution_count": 2,
   "metadata": {},
   "outputs": [],
   "source": [
    "modelDB = model.Database('Stixrude')"
   ]
  },
  {
   "cell_type": "code",
   "execution_count": 3,
   "metadata": {},
   "outputs": [],
   "source": [
    "opx = modelDB.get_phase('Opx')\n",
    "cpx = modelDB.get_phase('Cpx')\n",
    "grt = modelDB.get_phase('Grt')\n",
    "eps = np.finfo(float).eps\n",
    "opx.MINVAL = eps*10.\n",
    "cpx.MINVAL = eps*10.\n",
    "grt.MINVAL = eps*10."
   ]
  },
  {
   "cell_type": "markdown",
   "metadata": {},
   "source": [
    "## Orthopyroxene "
   ]
  },
  {
   "cell_type": "markdown",
   "metadata": {},
   "source": [
    "Define component endmember compositions\n",
    "- enstatite, Mg<sub>2</sub>Si<sub>2</sub>O<sub>6</sub>, component\n",
    "- ferrosilite, Fe<sub>2</sub>Si<sub>2</sub>O<sub>6</sub>, component\n",
    "- Mg-Tschermaks, MgAlSiAlO<sub>6</sub>, component\n",
    "- diopside, CaMgSi<sub>2</sub>O<sub>6</sub>, component\n",
    "- Fe-Tschermaks, FeAlSiAlO<sub>6</sub>, dependent species\n",
    "- Ca-Tschermaks, CaAlSiAlO<sub>6</sub>, dependent species\n",
    "- hedenbergite, CaFeSi<sub>2</sub>O<sub>6</sub>, dependent species"
   ]
  },
  {
   "cell_type": "code",
   "execution_count": 4,
   "metadata": {},
   "outputs": [],
   "source": [
    "t = 1000 #K\n",
    "p = 1000 #bars\n",
    "mol_en = np.array([1.0, 0.0, 0.0, 0.0])\n",
    "mol_fs = np.array([0.0, 1.0, 0.0, 0.0])\n",
    "mol_mats = np.array([0.0, 0.0, 1.0, 0.0])\n",
    "mol_di = np.array([0.0, 0.0, 0.0, 1.0])\n",
    "mol_fats = np.array([-0.5, 0.5, 1.0, 0.0])\n",
    "mol_cats = np.array([-1.0, 0.0, 1.0, 1.0])\n",
    "mol_hd = np.array([-0.5, 0.5, 0.0, 1.0])"
   ]
  },
  {
   "cell_type": "markdown",
   "metadata": {},
   "source": [
    "### Test composition\n",
    "Define test composition that is within the reciprocal space but outside the space spaned by positive mole fractions of endmember components."
   ]
  },
  {
   "cell_type": "code",
   "execution_count": 5,
   "metadata": {},
   "outputs": [],
   "source": [
    "mol_soln = np.array([-0.3, 0.5, 0.1, 0.7])"
   ]
  },
  {
   "cell_type": "code",
   "execution_count": 6,
   "metadata": {},
   "outputs": [
    {
     "data": {
      "text/plain": [
       "(-2892154.1081323954, 455.7504069882458)"
      ]
     },
     "execution_count": 6,
     "metadata": {},
     "output_type": "execute_result"
    }
   ],
   "source": [
    "(gSoln,sSoln) = (opx.gibbs_energy(t, p, mol=mol_soln), opx.entropy(t, p, mol=mol_soln))\n",
    "gSoln,sSoln"
   ]
  },
  {
   "cell_type": "markdown",
   "metadata": {},
   "source": [
    "### Component endmember properties"
   ]
  },
  {
   "cell_type": "code",
   "execution_count": 7,
   "metadata": {},
   "outputs": [],
   "source": [
    "(gEn,sEn) = (opx.gibbs_energy(t, p, mol=mol_en), opx.entropy(t, p, mol=mol_en))\n",
    "(gFs,sFs) = (opx.gibbs_energy(t, p, mol=mol_fs), opx.entropy(t, p, mol=mol_fs))\n",
    "(gMaTs,sMaTs) = (opx.gibbs_energy(t, p, mol=mol_mats), opx.entropy(t, p, mol=mol_mats))\n",
    "(gDi,sDi) = (opx.gibbs_energy(t, p, mol=mol_di), opx.entropy(t, p, mol=mol_di))"
   ]
  },
  {
   "cell_type": "markdown",
   "metadata": {},
   "source": [
    "Original Stixrude formulation gives ..."
   ]
  },
  {
   "cell_type": "code",
   "execution_count": 8,
   "metadata": {},
   "outputs": [],
   "source": [
    "(gEnOrig, sEnOrig) = (-3102147.8019962166, 392.4106374398335)\n",
    "(gFsOrig, sFsOrig) = (-2470310.9122666894, 463.76231616986473)\n",
    "(gMaTsOrig, sMaTsOrig) = (-3197089.663787669, 401.32939125408166)\n",
    "(gDiOrig, sDiOrig) = (-3217537.0835946803, 413.1177618670938)"
   ]
  },
  {
   "cell_type": "markdown",
   "metadata": {},
   "source": [
    "Comparison with revised formulation ..."
   ]
  },
  {
   "cell_type": "code",
   "execution_count": 9,
   "metadata": {},
   "outputs": [
    {
     "name": "stdout",
     "output_type": "stream",
     "text": [
      "En   delta G  0.000 delta S   0.000\n",
      "Fs   delta G  0.000 delta S   0.000\n",
      "MaTs delta G -0.000 delta S   0.000\n",
      "Di   delta G -0.000 delta S   0.000\n"
     ]
    }
   ],
   "source": [
    "print (\"{0:s} delta G{1:7.3f} delta S {2:7.3f}\".format(\"En  \", gEn-gEnOrig,sEn-sEnOrig))\n",
    "print (\"{0:s} delta G{1:7.3f} delta S {2:7.3f}\".format(\"Fs  \", gFs-gFsOrig,sFs-sFsOrig))\n",
    "print (\"{0:s} delta G{1:7.3f} delta S {2:7.3f}\".format(\"MaTs\", gMaTs-gMaTsOrig,sMaTs-sMaTsOrig))\n",
    "print (\"{0:s} delta G{1:7.3f} delta S {2:7.3f}\".format(\"Di  \", gDi-gDiOrig,sDi-sDiOrig))"
   ]
  },
  {
   "cell_type": "markdown",
   "metadata": {},
   "source": [
    "### Dependent species: FaTs"
   ]
  },
  {
   "cell_type": "code",
   "execution_count": 10,
   "metadata": {},
   "outputs": [
    {
     "name": "stdout",
     "output_type": "stream",
     "text": [
      "Composition feaible? True\n",
      "G -2881171.2189228903 S 437.0052306190936\n",
      "Excess model enthalpy for species 1.5366822481155396e-08\n",
      "Excess model entropy  for species -4.320099833421409e-12\n"
     ]
    }
   ],
   "source": [
    "print('Composition feaible?', opx.test_endmember_comp(mol_fats))\n",
    "(gFaTs,sFaTs) = (opx.gibbs_energy(t, p, mol=mol_fats), opx.entropy(t, p, mol=mol_fats))\n",
    "print ('G', gFaTs, 'S', sFaTs) \n",
    "print ('Excess model enthalpy for species', gFaTs-(-gEn/2.0+gFs/2.0+gMaTs)) \n",
    "print ('Excess model entropy  for species', sFaTs-(-sEn/2.0+sFs/2.0+sMaTs))"
   ]
  },
  {
   "cell_type": "markdown",
   "metadata": {},
   "source": [
    "### Dependent species CaTs\n",
    "This species is feasible in orioginal Stixrude and gives G -3296578.945386117 S 422.03651568133773"
   ]
  },
  {
   "cell_type": "code",
   "execution_count": 11,
   "metadata": {},
   "outputs": [
    {
     "name": "stdout",
     "output_type": "stream",
     "text": [
      "Composition feaible? True\n",
      "G -3296578.945386117 S 422.03651568133773\n",
      "Excess model enthalpy for species 15900.00000001723\n",
      "Excess model entropy  for species -5.4001247917767614e-12\n"
     ]
    }
   ],
   "source": [
    "print('Composition feaible?', opx.test_endmember_comp(mol_cats))\n",
    "(gCaTs,sCaTs) = (opx.gibbs_energy(t, p, mol=mol_cats), opx.entropy(t, p, mol=mol_cats))\n",
    "print ('G', gCaTs, 'S', sCaTs)\n",
    "print ('Excess model enthalpy for species', gCaTs-(-gEn+gMaTs+gDi))\n",
    "print ('Excess model entropy  for species', sCaTs-(-sEn+sMaTs+sDi))"
   ]
  },
  {
   "cell_type": "markdown",
   "metadata": {},
   "source": [
    "### Dependent species Hd"
   ]
  },
  {
   "cell_type": "code",
   "execution_count": 12,
   "metadata": {},
   "outputs": [
    {
     "name": "stdout",
     "output_type": "stream",
     "text": [
      "Composition feaible? True\n",
      "G -2917668.638729902 S 448.79360123210574\n",
      "Excess model enthalpy for species -16049.999999984168\n",
      "Excess model entropy  for species -4.206412995699793e-12\n"
     ]
    }
   ],
   "source": [
    "print('Composition feaible?', opx.test_endmember_comp(mol_hd))\n",
    "(gHd,sHd) = (opx.gibbs_energy(t, p, mol=mol_hd), opx.entropy(t, p, mol=mol_hd))\n",
    "print ('G', gHd, 'S', sHd)\n",
    "print ('Excess model enthalpy for species', gHd-(-gEn/2.0+gFs/2.0+gDi))\n",
    "print ('Excess model entropy  for species', sHd-(-sEn/2.0+sFs/2.0+sDi))"
   ]
  },
  {
   "cell_type": "markdown",
   "metadata": {},
   "source": [
    "### Derivatives of the test composition"
   ]
  },
  {
   "cell_type": "code",
   "execution_count": 13,
   "metadata": {},
   "outputs": [
    {
     "data": {
      "text/plain": [
       "array([-3116977.44352854, -2480847.85452831, -3204160.46386834,\n",
       "       -3237724.81077138])"
      ]
     },
     "execution_count": 13,
     "metadata": {},
     "output_type": "execute_result"
    }
   ],
   "source": [
    "mu_soln = opx.gibbs_energy(t, p, mol=mol_soln, deriv={'dmol':1})\n",
    "mu_soln[0]"
   ]
  },
  {
   "cell_type": "code",
   "execution_count": 14,
   "metadata": {},
   "outputs": [
    {
     "data": {
      "text/plain": [
       "array([[433.09127897, 489.95732613, 469.93532674, 468.68769215]])"
      ]
     },
     "execution_count": 14,
     "metadata": {},
     "output_type": "execute_result"
    }
   ],
   "source": [
    "opx.entropy(t, p, mol=mol_soln, deriv={'dmol':1})"
   ]
  },
  {
   "cell_type": "code",
   "execution_count": 15,
   "metadata": {},
   "outputs": [
    {
     "data": {
      "text/plain": [
       "array([[[ 78789.93728166, -67999.69597064, -10120.59884971,\n",
       "          41933.17892807],\n",
       "        [-67999.69597064,  -9298.86271834, -75254.04872816,\n",
       "         -55300.27095038],\n",
       "        [-10120.59884971, -75254.04872816,  26506.07617055,\n",
       "           4680.67193298],\n",
       "        [ 41933.17892807, -55300.27095038,   4680.67193298,\n",
       "          13624.4253769 ]]])"
      ]
     },
     "execution_count": 15,
     "metadata": {},
     "output_type": "execute_result"
    }
   ],
   "source": [
    "opx.gibbs_energy(t, p, mol=mol_soln, deriv={'dmol':2})"
   ]
  },
  {
   "cell_type": "code",
   "execution_count": 16,
   "metadata": {},
   "outputs": [
    {
     "data": {
      "text/plain": [
       "array([[[-130.49193728,   38.76769597,  -52.71140115,  -34.23517893],\n",
       "        [  38.76769597,    2.53686272,   34.89204873,   53.36827095],\n",
       "        [ -52.71140115,   34.89204873, -100.46807617,    7.78732807],\n",
       "        [ -34.23517893,   53.36827095,    7.78732807,  -10.72642538]]])"
      ]
     },
     "execution_count": 16,
     "metadata": {},
     "output_type": "execute_result"
    }
   ],
   "source": [
    "opx.entropy(t, p, mol=mol_soln, deriv={'dmol':2})"
   ]
  },
  {
   "cell_type": "markdown",
   "metadata": {},
   "source": [
    "### Test the getAffinityAndComposition"
   ]
  },
  {
   "cell_type": "code",
   "execution_count": 17,
   "metadata": {},
   "outputs": [
    {
     "name": "stdout",
     "output_type": "stream",
     "text": [
      "Calling tailored Affinity and Comp routine for OrthopyroxeneStixrude\n",
      "... Affinity  -5257.525858525474 J/mol\n",
      "... X [0.19739382 0.27486829 0.23773642 0.00101639]\n",
      "... Convergence 1\n",
      "... Iterations 10\n",
      "... Affinity scalar 10.0\n",
      "... Estimated error on affinity 0.050219903122524556\n"
     ]
    }
   ],
   "source": [
    "result = opx.affinity_and_comp(t, p, mu_soln[0], debug=True, method='special')"
   ]
  },
  {
   "cell_type": "code",
   "execution_count": 18,
   "metadata": {},
   "outputs": [
    {
     "data": {
      "text/plain": [
       "(-5257.525858525474, array([0.19739382, 0.27486829, 0.23773642, 0.00101639]))"
      ]
     },
     "execution_count": 18,
     "metadata": {},
     "output_type": "execute_result"
    }
   ],
   "source": [
    "result"
   ]
  },
  {
   "cell_type": "code",
   "execution_count": 19,
   "metadata": {},
   "outputs": [
    {
     "name": "stdout",
     "output_type": "stream",
     "text": [
      "Affinity -5257.525858525474\n",
      "Composition [0.19739382 0.27486829 0.23773642 0.00101639] Is feasible? True\n",
      "Ca0.00Mg0.89Fe0.77Al0.67Si1.67O6\n"
     ]
    }
   ],
   "source": [
    "print ('Affinity', result[0])\n",
    "print ('Composition', result[1], 'Is feasible?', opx.test_endmember_comp(result[1]))\n",
    "print (opx.compute_formula(t, p, result[1]))"
   ]
  },
  {
   "cell_type": "markdown",
   "metadata": {},
   "source": [
    "## Clinopyroxene"
   ]
  },
  {
   "cell_type": "markdown",
   "metadata": {},
   "source": [
    "Define component endmember compositions\n",
    "- diopside, CaMgSi<sub>2</sub>O<sub>6</sub>, component\n",
    "- hedenbergite, CaFeSi<sub>2</sub>O<sub>6</sub>, component\n",
    "- enstatite, Mg<sub>2</sub>Si<sub>2</sub>O<sub>6</sub>, component\n",
    "- Ca-Tschermaks, CaAlSiAlO<sub>6</sub>, component\n",
    "- Jadeite, NaAlSi<sub>2</sub>O<sub>6</sub>, component\n",
    "- ferrosilite, Fe<sub>2</sub>Si<sub>2</sub>O<sub>6</sub>, dependent species\n",
    "- Mg-Tschermaks, MgAlSiAlO<sub>6</sub>, dependent species\n",
    "- Fe-Tschermaks, FeAlSiAlO<sub>6</sub>, dependent species"
   ]
  },
  {
   "cell_type": "code",
   "execution_count": 20,
   "metadata": {},
   "outputs": [],
   "source": [
    "t = 1000 #K\n",
    "p = 1000 #bars\n",
    "mol_di = np.array([1.0, 0.0, 0.0, 0.0, 0.0])\n",
    "mol_hd = np.array([0.0, 1.0, 0.0, 0.0, 0.0])\n",
    "mol_en = np.array([0.0, 0.0, 1.0, 0.0, 0.0])\n",
    "mol_cats = np.array([0.0, 0.0, 0.0, 1.0, 0.0])\n",
    "mol_jd = np.array([0.0, 0.0, 0.0, 0.0, 1.0])\n",
    "mol_fs = np.array([-2.0, 2.0, 1.0, 0.0, 0.0])\n",
    "mol_mats = np.array([-1.0, 0.0, 1.0, 1.0, 0.0])\n",
    "mol_fats = np.array([-2.0, 1.0, 1.0, 1.0, 0.0])"
   ]
  },
  {
   "cell_type": "markdown",
   "metadata": {},
   "source": [
    "### Component endmember properties"
   ]
  },
  {
   "cell_type": "code",
   "execution_count": 21,
   "metadata": {},
   "outputs": [],
   "source": [
    "(gDi, sDi) = (cpx.gibbs_energy(t, p, mol=mol_di), cpx.entropy(t, p, mol=mol_di))\n",
    "(gHd, sHd) = (cpx.gibbs_energy(t, p, mol=mol_hd), cpx.entropy(t, p, mol=mol_hd))\n",
    "(gEn, sEn) = (cpx.gibbs_energy(t, p, mol=mol_en), cpx.entropy(t, p, mol=mol_en))\n",
    "(gCaTs, sCaTs) = (cpx.gibbs_energy(t, p, mol=mol_cats), cpx.entropy(t, p, mol=mol_cats))\n",
    "(gJd, sJd) = (cpx.gibbs_energy(t, p, mol=mol_jd), cpx.entropy(t, p, mol=mol_jd))"
   ]
  },
  {
   "cell_type": "markdown",
   "metadata": {},
   "source": [
    "Original Stixrude formulation gives ..."
   ]
  },
  {
   "cell_type": "code",
   "execution_count": 22,
   "metadata": {},
   "outputs": [],
   "source": [
    "(gDiOrig, sDiOrig) = (-3224185.546973538, 402.7786672101605)\n",
    "(gHdOrig, sHdOrig) = (-2902313.7637790395, 441.79280536887234)\n",
    "(gEnOrig, sEnOrig) = (-3096333.69539603, 395.917686128514)\n",
    "(gCaTsOrig, sCaTsOrig) = (-3321770.992334972, 405.9295393600187)\n",
    "(gJdOrig, sJdOrig) = (-3042270.9934835685, 389.57303311062225)"
   ]
  },
  {
   "cell_type": "markdown",
   "metadata": {},
   "source": [
    "Comparison with revised formulation ...  \n",
    "(original Stixrude has Al,Si entropy on the tetrahedral site; revision does not)"
   ]
  },
  {
   "cell_type": "code",
   "execution_count": 24,
   "metadata": {},
   "outputs": [
    {
     "name": "stdout",
     "output_type": "stream",
     "text": [
      "Di   delta G      0.000 delta S  -0.000\n",
      "Hd   delta G      0.000 delta S  -0.000\n",
      "En   delta G      0.000 delta S  -0.000\n",
      "CaTs delta G  11526.067 delta S -11.526\n",
      "Jd   delta G      0.000 delta S  -0.000\n",
      "\n",
      "2Rln2 is  11.526, -2RTln2 is -11526.067\n"
     ]
    }
   ],
   "source": [
    "print (\"{0:s} delta G {1:10.3f} delta S {2:7.3f}\".format(\"Di  \", gDi-gDiOrig, sDi-sDiOrig))\n",
    "print (\"{0:s} delta G {1:10.3f} delta S {2:7.3f}\".format(\"Hd  \", gHd-gHdOrig, sHd-sHdOrig))\n",
    "print (\"{0:s} delta G {1:10.3f} delta S {2:7.3f}\".format(\"En  \", gEn-gEnOrig, sEn-sEnOrig))\n",
    "print (\"{0:s} delta G {1:10.3f} delta S {2:7.3f}\".format(\"CaTs\", gCaTs-gCaTsOrig, sCaTs-sCaTsOrig))\n",
    "print (\"{0:s} delta G {1:10.3f} delta S {2:7.3f}\".format(\"Jd  \", gJd-gJdOrig, sJd-sJdOrig))\n",
    "print (\"\")\n",
    "print (\"2Rln2 is {0:7.3f}, -2RTln2 is {1:10.3f}\".format(8.3143*2.0*np.log(2.0), -8.3143*t*2.0*np.log(2.0)))"
   ]
  },
  {
   "cell_type": "markdown",
   "metadata": {},
   "source": [
    "### Dependent species Fs"
   ]
  },
  {
   "cell_type": "code",
   "execution_count": 25,
   "metadata": {},
   "outputs": [
    {
     "name": "stdout",
     "output_type": "stream",
     "text": [
      "Composition feaible? True\n",
      "G -2452590.1290070144 S 473.9459624459321\n",
      "Excess model enthalpy for species 1.955777406692505e-08\n",
      "Excess model entropy  for species -6.0822458181064576e-12\n"
     ]
    }
   ],
   "source": [
    "print('Composition feaible?', cpx.test_endmember_comp(mol_fs))\n",
    "(gFs,sFs) = (cpx.gibbs_energy(t, p, mol=mol_fs), cpx.entropy(t, p, mol=mol_fs))\n",
    "print ('G', gFs, 'S', sFs) \n",
    "print ('Excess model enthalpy for species', gFs-(-2.0*gDi+2.0*gHd+gEn)) \n",
    "print ('Excess model entropy  for species', sFs-(-2.0*sDi+2.0*sHd+sEn))"
   ]
  },
  {
   "cell_type": "markdown",
   "metadata": {},
   "source": [
    "### Dependent species MaTs\n",
    "Feasible in Stixrude original and gives G -3185598.505836813 S 399.0685582783678"
   ]
  },
  {
   "cell_type": "code",
   "execution_count": 26,
   "metadata": {},
   "outputs": [
    {
     "name": "stdout",
     "output_type": "stream",
     "text": [
      "Composition feaible? True\n",
      "G -3174072.4386301544 S 387.54249107170926\n",
      "Excess model enthalpy for species 8320.634920651093\n",
      "Excess model entropy  for species -3.751665644813329e-12\n"
     ]
    }
   ],
   "source": [
    "print('Composition feaible?', cpx.test_endmember_comp(mol_mats))\n",
    "(gMaTs,sMaTs) = (cpx.gibbs_energy(t, p, mol=mol_mats), cpx.entropy(t, p, mol=mol_mats))\n",
    "print ('G', gMaTs, 'S', sMaTs) \n",
    "print ('Excess model enthalpy for species', gMaTs-(-gDi+gEn+gCaTs)) \n",
    "print ('Excess model entropy  for species', sMaTs-(-sDi+sEn+sCaTs))"
   ]
  },
  {
   "cell_type": "markdown",
   "metadata": {},
   "source": [
    "### Dependent species FaTs"
   ]
  },
  {
   "cell_type": "code",
   "execution_count": 27,
   "metadata": {},
   "outputs": [
    {
     "name": "stdout",
     "output_type": "stream",
     "text": [
      "Composition feaible? True\n",
      "G -2863756.210991202 S 426.5566292304177\n",
      "Excess model enthalpy for species -3234.920634894166\n",
      "Excess model entropy  for species -7.73070496506989e-12\n"
     ]
    }
   ],
   "source": [
    "print('Composition feaible?', cpx.test_endmember_comp(mol_fats))\n",
    "(gFaTs,sFaTs) = (cpx.gibbs_energy(t, p, mol=mol_fats), cpx.entropy(t, p, mol=mol_fats))\n",
    "print ('G', gFaTs, 'S', sFaTs) \n",
    "print ('Excess model enthalpy for species', gFaTs-(-2.0*gDi+gHd+gEn+gCaTs)) \n",
    "print ('Excess model entropy  for species', sFaTs-(-2.0*sDi+sHd+sEn+sCaTs))"
   ]
  },
  {
   "cell_type": "markdown",
   "metadata": {},
   "source": [
    "### Test composition\n",
    "Define test composition that is within the reciprocal space but outside the space spaned by positive mole fractions of endmember components:  "
   ]
  },
  {
   "cell_type": "code",
   "execution_count": 28,
   "metadata": {},
   "outputs": [
    {
     "name": "stdout",
     "output_type": "stream",
     "text": [
      "Na0.06Ca0.17Mg0.22Fe1.44Al0.17Si1.94O6\n"
     ]
    }
   ],
   "source": [
    "mol_soln = np.array([-1.2, 1.3, 0.7, 0.05, 0.05])\n",
    "print (cpx.compute_formula(t, p, mol_soln))"
   ]
  },
  {
   "cell_type": "code",
   "execution_count": 29,
   "metadata": {},
   "outputs": [
    {
     "name": "stdout",
     "output_type": "stream",
     "text": [
      "Composition feaible? True\n"
     ]
    },
    {
     "data": {
      "text/plain": [
       "(-2400297.198968812, 419.74374433414135)"
      ]
     },
     "execution_count": 29,
     "metadata": {},
     "output_type": "execute_result"
    }
   ],
   "source": [
    "print('Composition feaible?', cpx.test_endmember_comp(mol_soln))\n",
    "(gSoln,sSoln) = (cpx.gibbs_energy(t, p, mol=mol_soln), cpx.entropy(t, p, mol=mol_soln))\n",
    "gSoln,sSoln"
   ]
  },
  {
   "cell_type": "markdown",
   "metadata": {},
   "source": [
    "### Derivatives of the test composition"
   ]
  },
  {
   "cell_type": "code",
   "execution_count": 30,
   "metadata": {},
   "outputs": [
    {
     "data": {
      "text/plain": [
       "array([-3237629.19648135, -2903352.95403009, -3126740.55906787,\n",
       "       -3329279.20916869, -3113101.95893466])"
      ]
     },
     "execution_count": 30,
     "metadata": {},
     "output_type": "execute_result"
    }
   ],
   "source": [
    "mu_soln = cpx.gibbs_energy(t, p, mol=mol_soln, deriv={'dmol':1})\n",
    "mu_soln[0]"
   ]
  },
  {
   "cell_type": "code",
   "execution_count": 31,
   "metadata": {},
   "outputs": [
    {
     "data": {
      "text/plain": [
       "array([[435.12330158, 472.35948429, 459.77664527, 468.63900733,\n",
       "        486.72752983]])"
      ]
     },
     "execution_count": 31,
     "metadata": {},
     "output_type": "execute_result"
    }
   ],
   "source": [
    "cpx.entropy(t, p, mol=mol_soln, deriv={'dmol':1})"
   ]
  },
  {
   "cell_type": "code",
   "execution_count": 32,
   "metadata": {},
   "outputs": [
    {
     "data": {
      "text/plain": [
       "array([[[ 4.20570898e+04,  1.42878127e+04,  5.00254168e+04,\n",
       "          2.08401538e+04,  3.63678033e+04],\n",
       "        [ 1.42878127e+04,  1.47728662e+04, -2.48487735e+04,\n",
       "         -2.33962441e+04,  1.78996055e+02],\n",
       "        [ 5.00254168e+04, -2.48487735e+04,  1.31555396e+05,\n",
       "          4.88864468e+04,  1.18736969e+04],\n",
       "        [ 2.08401538e+04, -2.33962441e+04,  4.88864468e+04,\n",
       "          2.10344420e+04,  1.99679926e+05],\n",
       "        [ 3.63678033e+04,  1.78996055e+02,  1.18736969e+04,\n",
       "          1.99679926e+05,  2.81666810e+05]]])"
      ]
     },
     "execution_count": 32,
     "metadata": {},
     "output_type": "execute_result"
    }
   ],
   "source": [
    "cpx.gibbs_energy(t, p, mol=mol_soln, deriv={'dmol':2})"
   ]
  },
  {
   "cell_type": "code",
   "execution_count": 33,
   "metadata": {},
   "outputs": [
    {
     "data": {
      "text/plain": [
       "array([[[ -78.93706023,  -48.08654846,  -50.10692077,  -59.43132022,\n",
       "           -2.98774331],\n",
       "        [ -48.08654846,  -45.49036727,   27.84850428,  -43.86859538,\n",
       "           12.57498153],\n",
       "        [ -50.10692077,   27.84850428, -143.03355544,    9.48504131,\n",
       "           10.49995155],\n",
       "        [ -59.43132022,  -43.86859538,    9.48504131, -115.5989305 ,\n",
       "          -99.61843817],\n",
       "        [  -2.98774331,   12.57498153,   10.49995155,  -99.61843817,\n",
       "         -225.44135359]]])"
      ]
     },
     "execution_count": 33,
     "metadata": {},
     "output_type": "execute_result"
    }
   ],
   "source": [
    "cpx.entropy(t, p, mol=mol_soln, deriv={'dmol':2})"
   ]
  },
  {
   "cell_type": "markdown",
   "metadata": {},
   "source": [
    "### Test the getAffinityAndComposition"
   ]
  },
  {
   "cell_type": "code",
   "execution_count": 34,
   "metadata": {},
   "outputs": [
    {
     "name": "stdout",
     "output_type": "stream",
     "text": [
      "Calling tailored Affinity and Comp routine for ClinopyroxeneStixrude\n",
      "... Affinity  -1619.8236751879685 J/mol\n",
      "... X [0.12639363 0.68826231 0.00279241 0.08240178 0.00205123]\n",
      "... Convergence 1\n",
      "... Iterations 15\n",
      "... Affinity scalar 10.0\n",
      "... Estimated error on affinity 0.08923770030742162\n"
     ]
    }
   ],
   "source": [
    "result = cpx.affinity_and_comp(t, p, mu_soln[0], debug=True, method='special')"
   ]
  },
  {
   "cell_type": "code",
   "execution_count": 35,
   "metadata": {},
   "outputs": [
    {
     "data": {
      "text/plain": [
       "(-1619.8236751879685,\n",
       " array([0.12639363, 0.68826231, 0.00279241, 0.08240178, 0.00205123]))"
      ]
     },
     "execution_count": 35,
     "metadata": {},
     "output_type": "execute_result"
    }
   ],
   "source": [
    "result"
   ]
  },
  {
   "cell_type": "code",
   "execution_count": 36,
   "metadata": {},
   "outputs": [
    {
     "name": "stdout",
     "output_type": "stream",
     "text": [
      "Affinity -1619.8236751879685\n",
      "Composition [0.12639363 0.68826231 0.00279241 0.08240178 0.00205123] Is feasible? True\n",
      "Na0.00Ca0.99Mg0.15Fe0.76Al0.19Si1.91O6\n"
     ]
    }
   ],
   "source": [
    "print ('Affinity', result[0])\n",
    "print ('Composition', result[1], 'Is feasible?', cpx.test_endmember_comp(result[1]))\n",
    "print (cpx.compute_formula(t, p, result[1]))"
   ]
  },
  {
   "cell_type": "markdown",
   "metadata": {},
   "source": [
    "## Garnet"
   ]
  },
  {
   "cell_type": "markdown",
   "metadata": {},
   "source": [
    "Define component endmember compositions\n",
    "- pyrope, Mg<sub>3</sub>Al<sub>2</sub>Si<sub>3</sub>O<sub>12</sub>, component\n",
    "- almandine, Fe<sub>3</sub>Al<sub>2</sub>Si<sub>3</sub>O<sub>12</sub>, component\n",
    "- grossular, Ca<sub>3</sub>Al<sub>2</sub>Si<sub>3</sub>O<sub>12</sub>, component\n",
    "- majorite, Mg<sub>3</sub>SiMgSi<sub>3</sub>O<sub>12</sub>, component\n",
    "- Na-majorite, Na<sub>2</sub>AlSiAlSi<sub>3</sub>O<sub>12</sub>, component\n",
    "- Fe-majorite, Fe<sub>3</sub>SiFeSi<sub>3</sub>O<sub>12</sub>, dependent species"
   ]
  },
  {
   "cell_type": "code",
   "execution_count": 37,
   "metadata": {},
   "outputs": [],
   "source": [
    "t = 1000 #K\n",
    "p = 1000 #bars\n",
    "mol_py = np.array([1.0, 0.0, 0.0, 0.0, 0.0])\n",
    "mol_al = np.array([0.0, 1.0, 0.0, 0.0, 0.0])\n",
    "mol_gr = np.array([0.0, 0.0, 1.0, 0.0, 0.0])\n",
    "mol_mj = np.array([0.0, 0.0, 0.0, 1.0, 0.0])\n",
    "mol_na = np.array([0.0, 0.0, 0.0, 0.0, 1.0])\n",
    "mol_fmj = np.array([-4.0/3.0, 4.0/3.0, 0.0, 1.0, 0.0])"
   ]
  },
  {
   "cell_type": "markdown",
   "metadata": {},
   "source": [
    "### Component endmember properties"
   ]
  },
  {
   "cell_type": "code",
   "execution_count": 38,
   "metadata": {},
   "outputs": [],
   "source": [
    "(gPy, sPy) = (grt.gibbs_energy(t, p, mol=mol_py), grt.entropy(t, p, mol=mol_py))\n",
    "(gAl, sAl) = (grt.gibbs_energy(t, p, mol=mol_al), grt.entropy(t, p, mol=mol_al))\n",
    "(gGr, sGr) = (grt.gibbs_energy(t, p, mol=mol_gr), grt.entropy(t, p, mol=mol_gr))\n",
    "(gMj, sMj) = (grt.gibbs_energy(t, p, mol=mol_mj), grt.entropy(t, p, mol=mol_mj))\n",
    "(gNa, sNa) = (grt.gibbs_energy(t, p, mol=mol_na), grt.entropy(t, p, mol=mol_na))"
   ]
  },
  {
   "cell_type": "markdown",
   "metadata": {},
   "source": [
    "Original Stixrude formulation gives ..."
   ]
  },
  {
   "cell_type": "code",
   "execution_count": 39,
   "metadata": {},
   "outputs": [],
   "source": [
    "(gPyOrig, sPyOrig) = (-6310902.894875664, 778.8357696040242)\n",
    "(gAlOrig, sAlOrig) = (-5383284.440223204, 870.4557640298455)\n",
    "(gGrOrig, sGrOrig) = (-6651262.435797561, 779.1122322634751)\n",
    "(gMjOrig, sMjOrig) = (-6065999.844062188, 778.8368052509709)\n",
    "(gNaOrig, sNaOrig) = (-5882508.634123785, 753.6359891393868)"
   ]
  },
  {
   "cell_type": "markdown",
   "metadata": {},
   "source": [
    "Comparison with revised formulation ...  \n",
    "(original Stixrude does not allow Fe on octahedral site and assumes that the octahedral site splits, so that mixed site populations do not contribute to the entropy)"
   ]
  },
  {
   "cell_type": "code",
   "execution_count": 40,
   "metadata": {},
   "outputs": [
    {
     "name": "stdout",
     "output_type": "stream",
     "text": [
      "Py   delta G      0.000 delta S   0.000\n",
      "Al   delta G     -0.000 delta S   0.000\n",
      "Gr   delta G      0.000 delta S   0.000\n",
      "Mj   delta G -11526.067 delta S  11.526\n",
      "NaMj delta G -11526.067 delta S  11.526\n",
      "\n",
      "2Rln2 is  11.526, -2RTln2 is -11526.067\n"
     ]
    }
   ],
   "source": [
    "print (\"{0:s} delta G {1:10.3f} delta S {2:7.3f}\".format(\"Py  \", gPy-gPyOrig, sPy-sPyOrig))\n",
    "print (\"{0:s} delta G {1:10.3f} delta S {2:7.3f}\".format(\"Al  \", gAl-gAlOrig, sAl-sAlOrig))\n",
    "print (\"{0:s} delta G {1:10.3f} delta S {2:7.3f}\".format(\"Gr  \", gGr-gGrOrig, sGr-sGrOrig))\n",
    "print (\"{0:s} delta G {1:10.3f} delta S {2:7.3f}\".format(\"Mj  \", gMj-gMjOrig, sMj-sMjOrig))\n",
    "print (\"{0:s} delta G {1:10.3f} delta S {2:7.3f}\".format(\"NaMj\", gNa-gNaOrig, sNa-sNaOrig))\n",
    "print (\"\")\n",
    "print (\"2Rln2 is {0:7.3f}, -2RTln2 is {1:10.3f}\".format(8.3143*2.0*np.log(2.0), -8.3143*t*2.0*np.log(2.0)))"
   ]
  },
  {
   "cell_type": "markdown",
   "metadata": {},
   "source": [
    "### Dependent species Fe-majorite"
   ]
  },
  {
   "cell_type": "code",
   "execution_count": 34,
   "metadata": {},
   "outputs": [
    {
     "name": "stdout",
     "output_type": "stream",
     "text": [
      "Composition feaible? True\n",
      "G -4869101.305065533 S 912.5228650253819\n",
      "Excess model enthalpy for species -28399.99999996554\n",
      "Excess model entropy  for species -1.0459189070388675e-11\n"
     ]
    }
   ],
   "source": [
    "print('Composition feaible?', grt.test_endmember_comp(mol_fmj))\n",
    "(gFmj,sFmj) = (grt.gibbs_energy(t, p, mol=mol_fmj), grt.entropy(t, p, mol=mol_fmj))\n",
    "print ('G', gFmj, 'S', sFmj) \n",
    "print ('Excess model enthalpy for species', gFmj-(-4.0*gPy/3.0+4.0*gAl/3.0+gMj)) \n",
    "print ('Excess model entropy  for species', sFmj-(-4.0*sPy/3.0+4.0*sAl/3.0+sMj))"
   ]
  },
  {
   "cell_type": "markdown",
   "metadata": {},
   "source": [
    "### Test composition\n",
    "Define test composition that is within the reciprocal space but outside the space spaned by positive mole fractions of endmember components: "
   ]
  },
  {
   "cell_type": "code",
   "execution_count": 35,
   "metadata": {},
   "outputs": [
    {
     "name": "stdout",
     "output_type": "stream",
     "text": [
      "Na0.04Ca0.06Mg0.04Fe3.70Al0.28Si3.86O12\n"
     ]
    }
   ],
   "source": [
    "mol_soln = np.array([-4.0/3.0+0.2, 4.0/3.0-0.1, 0.02, 0.86, 0.02])\n",
    "print (grt.compute_formula(t, p, mol_soln))"
   ]
  },
  {
   "cell_type": "code",
   "execution_count": 36,
   "metadata": {},
   "outputs": [
    {
     "name": "stdout",
     "output_type": "stream",
     "text": [
      "Composition feaible? True\n"
     ]
    },
    {
     "data": {
      "text/plain": [
       "(-4998077.972998836, 914.5085439869182)"
      ]
     },
     "execution_count": 36,
     "metadata": {},
     "output_type": "execute_result"
    }
   ],
   "source": [
    "print('Composition feaible?', grt.test_endmember_comp(mol_soln))\n",
    "(gSoln,sSoln) = (grt.gibbs_energy(t, p, mol=mol_soln), grt.entropy(t, p, mol=mol_soln))\n",
    "gSoln,sSoln"
   ]
  },
  {
   "cell_type": "markdown",
   "metadata": {},
   "source": [
    "### Derivatives of the test composition"
   ]
  },
  {
   "cell_type": "code",
   "execution_count": 37,
   "metadata": {},
   "outputs": [
    {
     "data": {
      "text/plain": [
       "array([-6419676.24818131, -5398054.08102949, -6746442.85048883,\n",
       "       -6234318.05302791, -5983431.91937544])"
      ]
     },
     "execution_count": 37,
     "metadata": {},
     "output_type": "execute_result"
    }
   ],
   "source": [
    "mu_soln = grt.gibbs_energy(t, p, mol=mol_soln, deriv={'dmol':1})\n",
    "mu_soln[0]"
   ]
  },
  {
   "cell_type": "code",
   "execution_count": 38,
   "metadata": {},
   "outputs": [
    {
     "data": {
      "text/plain": [
       "array([[ 926.96992291,  929.15809198,  957.59522124, 1015.08747564,\n",
       "         968.96162296]])"
      ]
     },
     "execution_count": 38,
     "metadata": {},
     "output_type": "execute_result"
    }
   ],
   "source": [
    "grt.entropy(t, p, mol=mol_soln, deriv={'dmol':1})"
   ]
  },
  {
   "cell_type": "code",
   "execution_count": 40,
   "metadata": {},
   "outputs": [
    {
     "data": {
      "text/plain": [
       "array([[[1776964.37130167,  -41826.73014705,  100136.58811443,\n",
       "         2317555.79357349,   22060.43426828],\n",
       "        [ -41826.73014705,  -35693.15572537,  -23867.12438493,\n",
       "         -171266.03389983,  -71943.27823108],\n",
       "        [ 100136.58811443,  -23867.12438493, 1153493.35759845,\n",
       "         -144067.70899304,  136812.42791737],\n",
       "        [2317555.79357349, -171266.03389983, -144067.70899304,\n",
       "         3191404.89842469,  -27787.64927909],\n",
       "        [  22060.43426828,  -71943.27823108,  136812.42791737,\n",
       "          -27787.64927909, 1098767.19501103]]])"
      ]
     },
     "execution_count": 40,
     "metadata": {},
     "output_type": "execute_result"
    }
   ],
   "source": [
    "grt.gibbs_energy(t, p, mol=mol_soln, deriv={'dmol':2})"
   ]
  },
  {
   "cell_type": "code",
   "execution_count": 41,
   "metadata": {},
   "outputs": [
    {
     "data": {
      "text/plain": [
       "array([[[-1855.6859713 ,   -17.97686985,  -145.82018811, -2333.07939357,\n",
       "           -81.86403427],\n",
       "        [  -17.97686985,    -5.19244427,   -32.89847562,   153.3604339 ,\n",
       "            31.05767823],\n",
       "        [ -145.82018811,   -32.89847562, -1226.1389576 ,   168.28210899,\n",
       "          -193.57802792],\n",
       "        [-2333.07939357,   153.3604339 ,   168.28210899, -3186.33049842,\n",
       "             9.88204928],\n",
       "        [  -81.86403427,    31.05767823,  -193.57802792,     9.88204928,\n",
       "         -1139.65279501]]])"
      ]
     },
     "execution_count": 41,
     "metadata": {},
     "output_type": "execute_result"
    }
   ],
   "source": [
    "grt.entropy(t, p, mol=mol_soln, deriv={'dmol':2})"
   ]
  },
  {
   "cell_type": "markdown",
   "metadata": {},
   "source": [
    "### Test the getAffinityAndComposition"
   ]
  },
  {
   "cell_type": "code",
   "execution_count": 42,
   "metadata": {},
   "outputs": [
    {
     "name": "stdout",
     "output_type": "stream",
     "text": [
      "Calling tailored Affinity and Comp routine for GarnetStixrude\n",
      "... Affinity  296.1965119034576 J/mol\n",
      "... X [1.33437427e-02 8.89634698e-02 2.00715333e-02 1.44416327e-05\n",
      " 8.21251727e-03]\n",
      "... Convergence 1\n",
      "... Iterations 40\n",
      "... Affinity scalar 20.0\n",
      "... Estimated error on affinity 0.8873941271012882\n"
     ]
    }
   ],
   "source": [
    "result = grt.affinity_and_comp(t, p, mu_soln[0], debug=True, method='special')"
   ]
  },
  {
   "cell_type": "code",
   "execution_count": 43,
   "metadata": {},
   "outputs": [
    {
     "data": {
      "text/plain": [
       "(296.1965119034576,\n",
       " array([1.33437427e-02, 8.89634698e-02, 2.00715333e-02, 1.44416327e-05,\n",
       "        8.21251727e-03]))"
      ]
     },
     "execution_count": 43,
     "metadata": {},
     "output_type": "execute_result"
    }
   ],
   "source": [
    "result"
   ]
  },
  {
   "cell_type": "code",
   "execution_count": 44,
   "metadata": {},
   "outputs": [
    {
     "name": "stdout",
     "output_type": "stream",
     "text": [
      "Affinity 296.1965119034576\n",
      "Composition [1.33437427e-02 8.89634698e-02 2.00715333e-02 1.44416327e-05\n",
      " 8.21251727e-03] Is feasible? True\n",
      "Na0.13Ca0.46Mg0.31Fe0.27Al2.00Si3.00O12\n"
     ]
    }
   ],
   "source": [
    "print ('Affinity', result[0])\n",
    "print ('Composition', result[1], 'Is feasible?', grt.test_endmember_comp(result[1]))\n",
    "print (grt.compute_formula(t, p, result[1]))"
   ]
  },
  {
   "cell_type": "code",
   "execution_count": null,
   "metadata": {},
   "outputs": [],
   "source": []
  }
 ],
 "metadata": {
  "kernelspec": {
   "display_name": "Python 3",
   "language": "python",
   "name": "python3"
  },
  "language_info": {
   "codemirror_mode": {
    "name": "ipython",
    "version": 3
   },
   "file_extension": ".py",
   "mimetype": "text/x-python",
   "name": "python",
   "nbconvert_exporter": "python",
   "pygments_lexer": "ipython3",
   "version": "3.7.6"
  }
 },
 "nbformat": 4,
 "nbformat_minor": 4
}
