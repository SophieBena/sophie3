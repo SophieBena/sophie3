{
 "cells": [
  {
   "cell_type": "code",
   "execution_count": null,
   "metadata": {},
   "outputs": [],
   "source": [
    "import thermoengine as thermo\n",
    "\n",
    "import numpy as np\n",
    "import pandas as pd\n",
    "import pickle as pkl\n",
    "import matplotlib.pyplot as plt\n",
    "%matplotlib notebook"
   ]
  },
  {
   "cell_type": "code",
   "execution_count": null,
   "metadata": {},
   "outputs": [],
   "source": [
    "modelDB = thermo.model.Database()"
   ]
  },
  {
   "cell_type": "code",
   "execution_count": null,
   "metadata": {},
   "outputs": [],
   "source": [
    "\n",
    "unique_phase_symbols = ['Cpx', 'Ol', 'Grt']\n",
    "rxn_svd_props = thermo.chem.calc_reaction_svd(unique_phase_symbols, TOLsvd=1e-4, modelDB=modelDB)\n",
    "rxn_svd = rxn_svd_props['rxn_svd']\n",
    "Nbasis=len(rxn_svd)\n",
    "rxn_endmember_name = rxn_svd_props['all_endmember_name']\n",
    "rxn_phase_symbols = rxn_svd_props['all_phase_symbol']"
   ]
  },
  {
   "cell_type": "code",
   "execution_count": null,
   "metadata": {},
   "outputs": [],
   "source": [
    "wtcoefs, costs, rxn_coefs, wtcoefs_ortho = thermo.chem.get_rxns(rxn_svd, Ndraw=3, ortho_scale=15, Nbasis=Nbasis, TOL=1e-10)"
   ]
  },
  {
   "cell_type": "code",
   "execution_count": null,
   "metadata": {},
   "outputs": [],
   "source": [
    "rxn_max = np.max(rxn_svd)\n",
    "\n",
    "plt.figure()\n",
    "plt.imshow(rxn_coefs,cmap='seismic')\n",
    "plt.clim(-rxn_max, +rxn_max)\n",
    "plt.colorbar()\n",
    "\n",
    "plt.xlabel('Endmember ID#')\n",
    "plt.ylabel('Balanced Rxn ID#')"
   ]
  },
  {
   "cell_type": "code",
   "execution_count": null,
   "metadata": {},
   "outputs": [],
   "source": [
    "for iendmember_index, iendmember in enumerate(rxn_endmember_name):\n",
    "    print(iendmember_index, iendmember)"
   ]
  },
  {
   "cell_type": "code",
   "execution_count": null,
   "metadata": {},
   "outputs": [],
   "source": []
  },
  {
   "cell_type": "code",
   "execution_count": null,
   "metadata": {},
   "outputs": [],
   "source": [
    "unique_phase_symbols = ['Cpx', 'Opx', 'Grt', 'Ol']\n",
    "rxn_svd_props = thermo.chem.calc_reaction_svd(unique_phase_symbols, TOLsvd=1e-4)\n",
    "rxn_svd = rxn_svd_props['rxn_svd']\n",
    "Nbasis=len(rxn_svd)\n",
    "rxn_endmember_name = rxn_svd_props['all_endmember_name']\n",
    "rxn_phase_symbols = rxn_svd_props['all_phase_symbol']"
   ]
  },
  {
   "cell_type": "code",
   "execution_count": null,
   "metadata": {},
   "outputs": [],
   "source": [
    "wtcoefs, costs, rxn_coefs, wtcoefs_ortho = thermo.chem.get_rxns(rxn_svd, Ndraw=10, ortho_scale=15, Nbasis=Nbasis, TOL=1e-10)"
   ]
  },
  {
   "cell_type": "code",
   "execution_count": null,
   "metadata": {},
   "outputs": [],
   "source": [
    "rxn_max = np.max(rxn_svd)\n",
    "\n",
    "plt.figure()\n",
    "plt.imshow(rxn_coefs,cmap='seismic')\n",
    "plt.clim(-rxn_max, +rxn_max)\n",
    "plt.colorbar()\n",
    "\n",
    "plt.xlabel('Endmember ID#')\n",
    "plt.ylabel('Balanced Rxn ID#')"
   ]
  },
  {
   "cell_type": "code",
   "execution_count": null,
   "metadata": {},
   "outputs": [],
   "source": [
    "for iendmember_index, iendmember in enumerate(rxn_endmember_name):\n",
    "    print(iendmember_index, iendmember)\n",
    "    "
   ]
  },
  {
   "cell_type": "code",
   "execution_count": null,
   "metadata": {},
   "outputs": [],
   "source": []
  },
  {
   "cell_type": "code",
   "execution_count": null,
   "metadata": {},
   "outputs": [],
   "source": []
  },
  {
   "cell_type": "code",
   "execution_count": null,
   "metadata": {},
   "outputs": [],
   "source": []
  }
 ],
 "metadata": {
  "kernelspec": {
   "display_name": "py36",
   "language": "python",
   "name": "py36"
  },
  "language_info": {
   "codemirror_mode": {
    "name": "ipython",
    "version": 3
   },
   "file_extension": ".py",
   "mimetype": "text/x-python",
   "name": "python",
   "nbconvert_exporter": "python",
   "pygments_lexer": "ipython3",
   "version": "3.6.3"
  }
 },
 "nbformat": 4,
 "nbformat_minor": 2
}
