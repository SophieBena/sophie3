{
 "cells": [
  {
   "cell_type": "markdown",
   "metadata": {},
   "source": [
    "# Obtain valid set of reactions \n",
    "Required Python code to load pertinent modules."
   ]
  },
  {
   "cell_type": "code",
   "execution_count": null,
   "metadata": {},
   "outputs": [],
   "source": [
    "from thermoengine import phases\n",
    "from thermoengine import model\n",
    "from thermoengine import chem\n",
    "import thermoengine as thermo\n",
    "\n",
    "import numpy as np\n",
    "import pandas as pd\n",
    "\n",
    "import pickle"
   ]
  },
  {
   "cell_type": "code",
   "execution_count": null,
   "metadata": {},
   "outputs": [],
   "source": [
    "data_dir=\"/Users/jennaadams/Documents/projects/garnet-soln/data/\""
   ]
  },
  {
   "cell_type": "code",
   "execution_count": null,
   "metadata": {},
   "outputs": [],
   "source": [
    "modelDB = model.Database()"
   ]
  },
  {
   "cell_type": "markdown",
   "metadata": {},
   "source": [
    "# Quick aside on calculating molar endmember compositions"
   ]
  },
  {
   "cell_type": "code",
   "execution_count": null,
   "metadata": {},
   "outputs": [],
   "source": [
    "phs = modelDB.get_phase('Grt')\n",
    "#print('phs = ', phs.endmember_names, ' --> ', phs.endmember_formulas) #does not function properly"
   ]
  },
  {
   "cell_type": "code",
   "execution_count": null,
   "metadata": {},
   "outputs": [],
   "source": [
    "mol_oxide_alm = chem.format_mol_oxide_comp({'FeO':3, 'Al2O3':1, 'SiO2':3})\n",
    "mol_oxide_grs = chem.format_mol_oxide_comp({'CaO':3, 'Al2O3':1, 'SiO2':3})\n",
    "mol_oxide_pyr = chem.format_mol_oxide_comp({'MgO':3, 'Al2O3':1, 'SiO2':3})\n",
    "\n",
    "mol_oxide_mix =  chem.format_mol_oxide_comp({'FeO':.9, 'CaO':1, 'MgO':1.1, \n",
    "                                             'Al2O3':1, 'SiO2':3})"
   ]
  },
  {
   "cell_type": "code",
   "execution_count": null,
   "metadata": {},
   "outputs": [],
   "source": [
    "mol_oxide_alm"
   ]
  },
  {
   "cell_type": "code",
   "execution_count": null,
   "metadata": {},
   "outputs": [],
   "source": [
    "print('Endmember inferences:')\n",
    "print('alm: ', phs.calc_endmember_comp(mol_oxide_alm)[0])\n",
    "print('grs: ', phs.calc_endmember_comp(mol_oxide_grs)[0])\n",
    "print('pyr: ', phs.calc_endmember_comp(mol_oxide_pyr)[0])\n",
    "print('mix: ', phs.calc_endmember_comp(mol_oxide_mix, method='intrinsic')[0])"
   ]
  },
  {
   "cell_type": "markdown",
   "metadata": {},
   "source": [
    "## We already have an update to calculating endmember comp in master (that we need to pull in)\n",
    "* To use it, just add the keyword argument to calc_endmember_comp:\n",
    "    * method='intrinsic'"
   ]
  },
  {
   "cell_type": "code",
   "execution_count": null,
   "metadata": {},
   "outputs": [],
   "source": [
    "rxn_data=pd.read_excel(data_dir+'grt_bearing_expts.xls',sheetname=None)"
   ]
  },
  {
   "cell_type": "code",
   "execution_count": null,
   "metadata": {},
   "outputs": [],
   "source": [
    "rxn_data['phase_symbols']"
   ]
  },
  {
   "cell_type": "markdown",
   "metadata": {},
   "source": [
    "### Find relevant phases according to data"
   ]
  },
  {
   "cell_type": "code",
   "execution_count": null,
   "metadata": {},
   "outputs": [],
   "source": [
    "#delete this?\n",
    "#rel_phases = rxn_data['phase_symbols']['phase_symbol'].tolist()\n",
    "\n",
    "#modelDB.phase_symbols\n",
    "#mask_phases = [iphase in modelDB.phase_symbols for iphase in rel_phases]\n",
    "#rel_phases[mask_phases]"
   ]
  },
  {
   "cell_type": "code",
   "execution_count": null,
   "metadata": {},
   "outputs": [],
   "source": [
    "#relevant_phases = chem.get_relevant_phases(rxn_data)"
   ]
  },
  {
   "cell_type": "code",
   "execution_count": null,
   "metadata": {},
   "outputs": [],
   "source": [
    "#relevant_phases"
   ]
  },
  {
   "cell_type": "code",
   "execution_count": null,
   "metadata": {},
   "outputs": [],
   "source": [
    "phase_names = phases.PurePhase"
   ]
  },
  {
   "cell_type": "code",
   "execution_count": null,
   "metadata": {},
   "outputs": [],
   "source": [
    "phase_names"
   ]
  },
  {
   "cell_type": "code",
   "execution_count": null,
   "metadata": {},
   "outputs": [],
   "source": [
    "#props = modelDB.phase_attributes['props']"
   ]
  },
  {
   "cell_type": "code",
   "execution_count": null,
   "metadata": {},
   "outputs": [],
   "source": [
    "phases_present=rxn_data['phase_symbols']\n",
    "relevant_phases = rxn_data['phase_symbols']['phase_symbol'].tolist()\n",
    "#endmember_names = phases.PurePhase(relevant_phases)"
   ]
  },
  {
   "cell_type": "markdown",
   "metadata": {},
   "source": [
    "### Retrieve singular value decomposition matrix for all reactions:\n",
    "➜ output is a matrix of valid, linearly independent reactions that minimize variance  and maximizes orthogonality of each vector against another.\n",
    "\n",
    "➜ Input a tolerance, defined as..."
   ]
  },
  {
   "cell_type": "code",
   "execution_count": null,
   "metadata": {},
   "outputs": [],
   "source": [
    "rxn_svd, rxn_svd_props = chem.calc_reaction_svd(relevant_phases, TOLsvd=1e-4)"
   ]
  },
  {
   "cell_type": "code",
   "execution_count": null,
   "metadata": {},
   "outputs": [],
   "source": [
    "rxn_svd"
   ]
  },
  {
   "cell_type": "code",
   "execution_count": null,
   "metadata": {},
   "outputs": [],
   "source": [
    "rxn_svd_props['all_endmember_id']"
   ]
  },
  {
   "cell_type": "code",
   "execution_count": null,
   "metadata": {},
   "outputs": [],
   "source": [
    "rxn_svd_props['all_endmember_name']"
   ]
  },
  {
   "cell_type": "code",
   "execution_count": null,
   "metadata": {},
   "outputs": [],
   "source": [
    "Nbasis=len(rxn_svd)"
   ]
  },
  {
   "cell_type": "markdown",
   "metadata": {},
   "source": [
    "### Get set of filtered reactions\n",
    "➜ output is matrix of valid, lineraly independent reactions filtered based on given input variables described below\n",
    "\n",
    "➜ input\n",
    "\n",
    "    rxn_svd: matrix from above\n",
    "\n",
    "    Ndraw: \n",
    "\n",
    "    ortho_scale: ratio that dictates level of rxn complexity (orthogonality/simplicity)\n",
    "\n",
    "    Nbasis:\n",
    "\n",
    "    TOL: rxn_complexity\n",
    " \n",
    "note: the following operation make take ~10 minutes"
   ]
  },
  {
   "cell_type": "code",
   "execution_count": null,
   "metadata": {},
   "outputs": [],
   "source": [
    "wtcoefs, costs, rxn_coefs, wtcoefs_ortho = chem.get_rxns(rxn_svd, Ndraw=2, ortho_scale=15, Nbasis=Nbasis, TOL=1e-10)"
   ]
  },
  {
   "cell_type": "code",
   "execution_count": null,
   "metadata": {},
   "outputs": [],
   "source": [
    "rxns_file = '/Users/jennaadams/Documents/projects/ThermoEngine/Notebooks/Solutions/data/rxns_file.pkl'\n",
    "with open(rxns_file, 'wb') as handle:\n",
    "    pickle.dump(rxn_coefs, handle)\n",
    "    \n",
    "with open (rxns_file, 'rb') as handle:\n",
    "    rxns_file_open = pickle.load(handle)\n",
    "    \n",
    "rxns_file_open"
   ]
  },
  {
   "cell_type": "markdown",
   "metadata": {},
   "source": [
    "## Reaction Visiualization"
   ]
  },
  {
   "cell_type": "code",
   "execution_count": null,
   "metadata": {},
   "outputs": [],
   "source": [
    "import matplotlib.pyplot as plt\n",
    "%matplotlib notebook"
   ]
  },
  {
   "cell_type": "markdown",
   "metadata": {},
   "source": [
    "### Visualizing rxn_svd"
   ]
  },
  {
   "cell_type": "code",
   "execution_count": null,
   "metadata": {},
   "outputs": [],
   "source": [
    "rxn_max = np.max(rxn_svd)\n",
    "\n",
    "plt.figure()\n",
    "plt.imshow(rxn_svd,cmap='seismic')\n",
    "plt.clim(-rxn_max,+rxn_max)\n",
    "plt.colorbar()\n",
    "\n",
    "plt.xlabel('Endmember ID#')\n",
    "plt.ylabel('Balanced Rxn ID#')"
   ]
  },
  {
   "cell_type": "markdown",
   "metadata": {},
   "source": [
    "### All reactions after filtering rxn_svd"
   ]
  },
  {
   "cell_type": "code",
   "execution_count": null,
   "metadata": {},
   "outputs": [],
   "source": [
    "plt.figure()\n",
    "plt.imshow(rxn_coefs,cmap='seismic')\n",
    "plt.clim(-rxn_max, +rxn_max)\n",
    "plt.colorbar()\n",
    "\n",
    "plt.xlabel('Endmember ID#')\n",
    "plt.ylabel('Balanced Rxn ID#')"
   ]
  },
  {
   "cell_type": "markdown",
   "metadata": {},
   "source": [
    "### Reaction correlation"
   ]
  },
  {
   "cell_type": "code",
   "execution_count": null,
   "metadata": {},
   "outputs": [],
   "source": [
    "ortho_project =np.dot(rxn_coefs, rxn_coefs.T) \n",
    "\n",
    "plt.figure()\n",
    "plt.imshow(ortho_project, cmap='seismic')\n",
    "plt.colorbar()\n",
    "plt.clim(-1,1)\n",
    "\n",
    "plt.xlabel('Basic Rxn ID#')\n",
    "plt.ylabel('Basic Rxn ID#')\n",
    "plt.title('Basic Rxn Correlation')"
   ]
  },
  {
   "cell_type": "markdown",
   "metadata": {},
   "source": [
    "### Subset of new reactions "
   ]
  },
  {
   "cell_type": "code",
   "execution_count": null,
   "metadata": {},
   "outputs": [],
   "source": [
    "plt.figure()\n",
    "plt.plot(rxn_coefs[::10].T, '-')\n",
    "plt.xlabel('')\n",
    "plt.ylabel('rxn')\n",
    "plt.legend(['0','10','20','30'])"
   ]
  },
  {
   "cell_type": "markdown",
   "metadata": {},
   "source": [
    "### Create final reaction matrix"
   ]
  },
  {
   "cell_type": "code",
   "execution_count": null,
   "metadata": {},
   "outputs": [],
   "source": [
    "unique_phase_symbols=chem.get_phase_symbols(rxn_data)\n",
    "rxn_svd_props = chem.calc_reaction_svd(unique_phase_symbols, TOLsvd=1e-4)\n",
    "rxn_svd = rxn_svd_props['rxn_svd']\n",
    "Nbasis=len(rxn_svd)\n",
    "rxn_endmember_name = rxn_svd_props['all_endmember_name']\n",
    "rxn_phase_symbols = rxn_svd_props['all_phase_symbol']\n",
    "\n"
   ]
  },
  {
   "cell_type": "code",
   "execution_count": null,
   "metadata": {},
   "outputs": [],
   "source": [
    "rxn_svd_props.keys()"
   ]
  },
  {
   "cell_type": "code",
   "execution_count": null,
   "metadata": {},
   "outputs": [],
   "source": [
    "rxn_svd_props['all_phase_ind']"
   ]
  },
  {
   "cell_type": "code",
   "execution_count": null,
   "metadata": {},
   "outputs": [],
   "source": [
    "wtcoefs, costs, rxn_coefs, wtcoefs_ortho = chem.get_rxns(rxn_svd, Ndraw=2, ortho_scale=15, Nbasis=Nbasis, TOL=1e-10)"
   ]
  },
  {
   "cell_type": "code",
   "execution_count": null,
   "metadata": {},
   "outputs": [],
   "source": [
    "(np.place(rxn_coefs, abs(rxn_coefs)< 1e-2, 0))"
   ]
  },
  {
   "cell_type": "code",
   "execution_count": null,
   "metadata": {},
   "outputs": [],
   "source": [
    "endmember_ids = rxn_svd_props['all_endmember_id']"
   ]
  },
  {
   "cell_type": "code",
   "execution_count": null,
   "metadata": {},
   "outputs": [],
   "source": [
    "len(rxn_phase_symbols)"
   ]
  },
  {
   "cell_type": "code",
   "execution_count": null,
   "metadata": {},
   "outputs": [],
   "source": [
    "len(endmember_ids)"
   ]
  },
  {
   "cell_type": "code",
   "execution_count": null,
   "metadata": {},
   "outputs": [],
   "source": [
    "len(rxn_endmember_name)"
   ]
  },
  {
   "cell_type": "code",
   "execution_count": null,
   "metadata": {},
   "outputs": [],
   "source": [
    "rxns = []\n",
    "for irxn_coefs in rxn_coefs:\n",
    "    irxn = modelDB.get_rxn(rxn_phase_symbols, endmember_ids, irxn_coefs)\n",
    "    \n",
    "    rxns.append(irxn)    "
   ]
  },
  {
   "cell_type": "code",
   "execution_count": null,
   "metadata": {},
   "outputs": [],
   "source": [
    "phases = []\n",
    "\n",
    "for irxn in rxns:\n",
    "    phases.extend(irxn.phases)\n",
    "    \n",
    "phases = np.unique(phases)"
   ]
  },
  {
   "cell_type": "code",
   "execution_count": null,
   "metadata": {},
   "outputs": [],
   "source": [
    "rxn_phase_symbols"
   ]
  },
  {
   "cell_type": "code",
   "execution_count": null,
   "metadata": {},
   "outputs": [],
   "source": [
    "phases"
   ]
  },
  {
   "cell_type": "code",
   "execution_count": null,
   "metadata": {},
   "outputs": [],
   "source": [
    "rxn_coefs[0]"
   ]
  },
  {
   "cell_type": "code",
   "execution_count": null,
   "metadata": {},
   "outputs": [],
   "source": []
  }
 ],
 "metadata": {
  "kernelspec": {
   "display_name": "Python 3",
   "language": "python",
   "name": "python3"
  },
  "language_info": {
   "codemirror_mode": {
    "name": "ipython",
    "version": 3
   },
   "file_extension": ".py",
   "mimetype": "text/x-python",
   "name": "python",
   "nbconvert_exporter": "python",
   "pygments_lexer": "ipython3",
   "version": "3.6.3"
  }
 },
 "nbformat": 4,
 "nbformat_minor": 2
}
