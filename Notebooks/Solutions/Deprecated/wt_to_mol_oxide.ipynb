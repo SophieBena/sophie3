{
 "cells": [
  {
   "cell_type": "markdown",
   "metadata": {},
   "source": [
    "### This code extracts a garnet composition from the garnet data file, reformats the wt% composition, calculates the mol oxide composition, and in turn get's the endmember composition"
   ]
  },
  {
   "cell_type": "code",
   "execution_count": null,
   "metadata": {},
   "outputs": [],
   "source": [
    "import thermoengine as thermo\n",
    "\n",
    "import numpy as np\n",
    "import pandas as pd\n",
    "import pickle as pkl\n",
    "import matplotlib.pyplot as plt\n",
    "from collections import OrderedDict\n",
    "%matplotlib notebook"
   ]
  },
  {
   "cell_type": "code",
   "execution_count": null,
   "metadata": {},
   "outputs": [],
   "source": [
    "data_dir=\"/Users/jennaadams/Documents/projects/garnet-soln/data/\"\n",
    "\n",
    "lepr_data=pd.read_excel(data_dir+'grt_bearing_expts.xls',sheetname=None)"
   ]
  },
  {
   "cell_type": "code",
   "execution_count": null,
   "metadata": {},
   "outputs": [],
   "source": [
    "experiments = lepr_data.pop('Experiment')\n",
    "exp_data = experiments.filter(['Index', 'T (C)', 'err T (C)', 'P (GPa)','err P (GPa)', 'fO2 cond', \n",
    "                                                 'Wt: SiO2', 'Wt: TiO2','Wt: Al2O3', 'Wt: Fe2O3', 'Wt: Cr2O3', \n",
    "                                                 'Wt: FeO', 'Wt: MnO', 'Wt: MgO','Wt: NiO', 'Wt: CaO', 'Wt: Na2O', \n",
    "                                                 'Wt: K2O', 'Wt: P2O5', 'Wt: H2O', 'Wt: CO2'], axis=1)\n",
    "\n",
    "metadata = experiments.filter(['Index','Experiment', 'Author (year)', 'Laboratory', 'Device', 'Container', 'Method', \n",
    "                               'Duration_hours', 'Phases'], axis=1)\n",
    "\n"
   ]
  },
  {
   "cell_type": "code",
   "execution_count": null,
   "metadata": {},
   "outputs": [],
   "source": [
    "exp_data.columns"
   ]
  },
  {
   "cell_type": "code",
   "execution_count": null,
   "metadata": {},
   "outputs": [],
   "source": [
    "metadata.columns"
   ]
  },
  {
   "cell_type": "code",
   "execution_count": null,
   "metadata": {},
   "outputs": [],
   "source": [
    "phs_symbols = lepr_data.pop('phase_symbols')\n",
    "    \n",
    "phs_data = lepr_data"
   ]
  },
  {
   "cell_type": "code",
   "execution_count": null,
   "metadata": {},
   "outputs": [],
   "source": []
  },
  {
   "cell_type": "code",
   "execution_count": null,
   "metadata": {},
   "outputs": [],
   "source": []
  },
  {
   "cell_type": "code",
   "execution_count": null,
   "metadata": {},
   "outputs": [],
   "source": []
  },
  {
   "cell_type": "code",
   "execution_count": null,
   "metadata": {},
   "outputs": [],
   "source": [
    "garnet_data = rxn_data['Garnet']\n",
    "\n",
    "oxide_names = thermo.chem.oxide_props['oxides']"
   ]
  },
  {
   "cell_type": "code",
   "execution_count": null,
   "metadata": {},
   "outputs": [],
   "source": [
    "oxide_names"
   ]
  },
  {
   "cell_type": "code",
   "execution_count": null,
   "metadata": {},
   "outputs": [],
   "source": [
    "garnet_data.dropna(subset=['Index'], inplace=True)"
   ]
  },
  {
   "cell_type": "code",
   "execution_count": null,
   "metadata": {},
   "outputs": [],
   "source": [
    "garnet_data['Index'] = garnet_data['Index'].astype(int)"
   ]
  },
  {
   "cell_type": "code",
   "execution_count": null,
   "metadata": {},
   "outputs": [],
   "source": [
    "garnet_data.set_index('Index', inplace=True)"
   ]
  },
  {
   "cell_type": "code",
   "execution_count": null,
   "metadata": {},
   "outputs": [],
   "source": [
    "garnet_data.head()"
   ]
  },
  {
   "cell_type": "code",
   "execution_count": null,
   "metadata": {},
   "outputs": [],
   "source": [
    "garnet_comp = garnet_data.loc[[337],['Wt: SiO2', 'Wt: TiO2', 'Wt: Al2O3', 'Wt: Fe2O3', \n",
    "                                     'Wt: Cr2O3', 'Wt: FeO', 'Wt: MnO', 'Wt: MgO', 'Wt: NiO', \n",
    "                                     'Wt: CoO', 'Wt: CaO', 'Wt: Na2O', 'Wt: K2O', 'Wt: P2O5', 'Wt: H2O', 'Wt: CO2']]"
   ]
  },
  {
   "cell_type": "code",
   "execution_count": null,
   "metadata": {},
   "outputs": [],
   "source": [
    "garnet_comp.fillna(0, inplace=True)"
   ]
  },
  {
   "cell_type": "code",
   "execution_count": null,
   "metadata": {},
   "outputs": [],
   "source": [
    "garnet_comp"
   ]
  },
  {
   "cell_type": "code",
   "execution_count": null,
   "metadata": {},
   "outputs": [],
   "source": [
    "garnet_wt_comp = np.array(garnet_comp)[0]"
   ]
  },
  {
   "cell_type": "code",
   "execution_count": null,
   "metadata": {},
   "outputs": [],
   "source": [
    "garnet_wt_comp"
   ]
  },
  {
   "cell_type": "code",
   "execution_count": null,
   "metadata": {},
   "outputs": [],
   "source": [
    "#Trying to take a row in excel file and filter columns to those that match only the oxide_order elements\n",
    "\n",
    "#oxide_order = thermo.chem.OXIDE_ORDER\n",
    "\n",
    "#garnet_comp2=[]\n",
    "#for ioxide in oxide_order:\n",
    "    #garnet_comp2 = garnet_comp.isin(['Wt:' + ioxide])\n",
    "    \n",
    "#garnet_comp2"
   ]
  },
  {
   "cell_type": "code",
   "execution_count": null,
   "metadata": {},
   "outputs": [],
   "source": [
    "#garnet_wt_comp = garnet_comp.to_dict('records', into=OrderedDict)"
   ]
  },
  {
   "cell_type": "code",
   "execution_count": null,
   "metadata": {},
   "outputs": [],
   "source": [
    "#garnet_wt_comp"
   ]
  },
  {
   "cell_type": "code",
   "execution_count": null,
   "metadata": {},
   "outputs": [],
   "source": [
    "\n",
    "#garnet_wt_comp['SiO2'] = garnet_wt_comp.pop('Wt: SiO2')\n",
    "#garnet_wt_comp"
   ]
  },
  {
   "cell_type": "code",
   "execution_count": null,
   "metadata": {},
   "outputs": [],
   "source": [
    "garnet_mol_oxide = thermo.chem.wt_to_mol_oxide(garnet_wt_comp)\n",
    "garnet_mol_oxide"
   ]
  },
  {
   "cell_type": "code",
   "execution_count": null,
   "metadata": {},
   "outputs": [],
   "source": [
    "garnet_mol_comp_dict = OrderedDict()\n",
    "for iname, ioxide in zip(oxide_names, garnet_mol_oxide):\n",
    "    garnet_mol_comp_dict[iname] = ioxide\n",
    "    \n",
    "garnet_mol_comp_dict"
   ]
  },
  {
   "cell_type": "code",
   "execution_count": null,
   "metadata": {},
   "outputs": [],
   "source": [
    "garnet_mol_comp_array=thermo.chem.format_mol_oxide_comp(garnet_mol_comp_dict)"
   ]
  },
  {
   "cell_type": "code",
   "execution_count": null,
   "metadata": {},
   "outputs": [],
   "source": [
    "garnet_mol_comp_array"
   ]
  },
  {
   "cell_type": "code",
   "execution_count": null,
   "metadata": {},
   "outputs": [],
   "source": [
    "modelDB = thermo.model.Database()\n",
    "phs = modelDB.get_phase('Grt')"
   ]
  },
  {
   "cell_type": "code",
   "execution_count": null,
   "metadata": {},
   "outputs": [],
   "source": [
    "phs"
   ]
  },
  {
   "cell_type": "code",
   "execution_count": null,
   "metadata": {},
   "outputs": [],
   "source": [
    "phs.calc_endmember_comp(garnet_mol_comp_array)"
   ]
  },
  {
   "cell_type": "code",
   "execution_count": null,
   "metadata": {},
   "outputs": [],
   "source": []
  },
  {
   "cell_type": "code",
   "execution_count": null,
   "metadata": {},
   "outputs": [],
   "source": []
  },
  {
   "cell_type": "markdown",
   "metadata": {},
   "source": [
    "### Code below tests calc_endmember_comp; it appears to not produce correct results for almandine composition"
   ]
  },
  {
   "cell_type": "code",
   "execution_count": null,
   "metadata": {},
   "outputs": [],
   "source": [
    "oxide_names = ['SiO2','TiO2','Al2O3','Fe2O3','Cr2O3','FeO','MnO','MgO','NiO',\n",
    "        'CoO','CaO','Na2O','K2O','P2O5','H2O','CO2']\n",
    "oxide_wts = [42.04, 0.71, 22.21, 0, 0.5, 8.78, 0, 20.48, 0, 0, 4.76, 0.53, 0, 0, 0, 0]\n",
    "oxide_molecular_wts = thermo.chem.oxide_props['molwt']"
   ]
  },
  {
   "cell_type": "code",
   "execution_count": null,
   "metadata": {},
   "outputs": [],
   "source": [
    "oxide_wts2 = [42.04, 0, 22.21, 0, 0, 8.78, 0, 0, 0, 0, 0, 0, 0, 0, 0, 0]"
   ]
  },
  {
   "cell_type": "code",
   "execution_count": null,
   "metadata": {},
   "outputs": [],
   "source": [
    "mol_oxides = oxide_wts2/oxide_molecular_wts\n",
    "mol_oxides = mol_oxides/np.sum(mol_oxides)\n",
    "#mol_oxides = thermo.chem.wt_to_mol_oxide(oxide_names, oxide_wts)\n",
    "\n",
    "mol_comp2 = OrderedDict()\n",
    "for iname, ioxide in zip(oxide_names, mol_oxides):\n",
    "    mol_comp2[iname] = ioxide\n",
    "    \n",
    "   "
   ]
  },
  {
   "cell_type": "code",
   "execution_count": null,
   "metadata": {},
   "outputs": [],
   "source": [
    "mol_comp2"
   ]
  },
  {
   "cell_type": "code",
   "execution_count": null,
   "metadata": {},
   "outputs": [],
   "source": [
    "mol_oxides"
   ]
  },
  {
   "cell_type": "code",
   "execution_count": null,
   "metadata": {},
   "outputs": [],
   "source": [
    "mol_comp_mix=thermo.chem.format_mol_oxide_comp(mol_comp2)"
   ]
  },
  {
   "cell_type": "code",
   "execution_count": null,
   "metadata": {},
   "outputs": [],
   "source": [
    "mol_comp_mix"
   ]
  },
  {
   "cell_type": "code",
   "execution_count": null,
   "metadata": {},
   "outputs": [],
   "source": [
    "thermo.chem.OXIDE_ORDER"
   ]
  },
  {
   "cell_type": "code",
   "execution_count": null,
   "metadata": {},
   "outputs": [],
   "source": [
    "modelDB = thermo.model.Database()"
   ]
  },
  {
   "cell_type": "code",
   "execution_count": null,
   "metadata": {},
   "outputs": [],
   "source": [
    "phs = modelDB.get_phase('Grt')"
   ]
  },
  {
   "cell_type": "code",
   "execution_count": null,
   "metadata": {},
   "outputs": [],
   "source": [
    "phs.calc_endmember_comp(mol_comp_mix)"
   ]
  },
  {
   "cell_type": "code",
   "execution_count": null,
   "metadata": {},
   "outputs": [],
   "source": [
    "modelDB = thermo.model.Database()\n",
    "phs = modelDB.get_phase('Grt')"
   ]
  },
  {
   "cell_type": "code",
   "execution_count": null,
   "metadata": {},
   "outputs": [],
   "source": [
    "phases_present = rxn_data['Experiment']['Phases'][1]"
   ]
  },
  {
   "cell_type": "code",
   "execution_count": null,
   "metadata": {},
   "outputs": [],
   "source": []
  },
  {
   "cell_type": "markdown",
   "metadata": {},
   "source": [
    "### This code is old code that likely will no longer be used; it originally filtered phase assemblages from the garnet excel file for only unique phase assemblages; we are no longer implementing this idea"
   ]
  },
  {
   "cell_type": "code",
   "execution_count": null,
   "metadata": {},
   "outputs": [],
   "source": [
    "unique_phase_symbols = ['Cpx', 'Ol', 'Grt']\n",
    "rxn_svd_props = thermo.chem.calc_reaction_svd(unique_phase_symbols, TOLsvd=1e-4, modelDB=modelDB)\n",
    "rxn_svd = rxn_svd_props['rxn_svd']\n",
    "Nbasis=len(rxn_svd)\n",
    "rxn_endmember_name = rxn_svd_props['all_endmember_name']\n",
    "rxn_phase_symbols = rxn_svd_props['all_phase_symbol']"
   ]
  },
  {
   "cell_type": "code",
   "execution_count": null,
   "metadata": {},
   "outputs": [],
   "source": [
    "unique_phase_assemblages = rxn_data['Experiment']['Phases'].unique()"
   ]
  },
  {
   "cell_type": "code",
   "execution_count": null,
   "metadata": {},
   "outputs": [],
   "source": [
    "phase_assemblages=[]\n",
    "for iphase_assem in unique_phase_assemblages:\n",
    "    \n",
    "    try: \n",
    "        phase_list = iphase_assem.split(sep='+')\n",
    "        phase_list.sort()\n",
    "        phase_assemblages.append(phase_list)\n",
    "        \n",
    "    except: \n",
    "        print('empty_assemblage')\n",
    "        \n",
    "phase_assemblages = np.unique(phase_assemblages)"
   ]
  },
  {
   "cell_type": "code",
   "execution_count": null,
   "metadata": {},
   "outputs": [],
   "source": [
    "mask = []\n",
    "for iassemblage in phase_assemblages:\n",
    "    imask = 'liq' not in iassemblage\n",
    "    \n",
    "    mask.append(imask)\n",
    "    \n",
    "mask = np.array(mask)\n",
    "np.sum(mask)"
   ]
  },
  {
   "cell_type": "code",
   "execution_count": null,
   "metadata": {},
   "outputs": [],
   "source": [
    "phase_assemblages[mask]"
   ]
  },
  {
   "cell_type": "code",
   "execution_count": null,
   "metadata": {},
   "outputs": [],
   "source": []
  },
  {
   "cell_type": "code",
   "execution_count": null,
   "metadata": {},
   "outputs": [],
   "source": [
    "wtcoefs, costs, rxn_coefs, wtcoefs_ortho = thermo.chem.get_rxns(rxn_svd, Ndraw=3, ortho_scale=15, Nbasis=Nbasis, TOL=1e-10)"
   ]
  },
  {
   "cell_type": "code",
   "execution_count": null,
   "metadata": {},
   "outputs": [],
   "source": [
    "(np.place(rxn_coefs, abs(rxn_coefs)< 1e-2, 0))"
   ]
  },
  {
   "cell_type": "code",
   "execution_count": null,
   "metadata": {},
   "outputs": [],
   "source": [
    "endmember_ids = rxn_svd_props['all_endmember_id']\n",
    "rxns = []\n",
    "for irxn_coefs in rxn_coefs:\n",
    "    irxn = modelDB.get_rxn(rxn_phase_symbols, endmember_ids, irxn_coefs)\n",
    "    \n",
    "    rxns.append(irxn)  "
   ]
  },
  {
   "cell_type": "code",
   "execution_count": null,
   "metadata": {},
   "outputs": [],
   "source": [
    "phases = []\n",
    "\n",
    "for irxn in rxns:\n",
    "    phases.extend(irxn.phases)\n",
    "    \n",
    "phases = np.unique(phases)"
   ]
  },
  {
   "cell_type": "code",
   "execution_count": null,
   "metadata": {},
   "outputs": [],
   "source": []
  }
 ],
 "metadata": {
  "kernelspec": {
   "display_name": "Python 3",
   "language": "python",
   "name": "python3"
  },
  "language_info": {
   "codemirror_mode": {
    "name": "ipython",
    "version": 3
   },
   "file_extension": ".py",
   "mimetype": "text/x-python",
   "name": "python",
   "nbconvert_exporter": "python",
   "pygments_lexer": "ipython3",
   "version": "3.7.0"
  }
 },
 "nbformat": 4,
 "nbformat_minor": 2
}
