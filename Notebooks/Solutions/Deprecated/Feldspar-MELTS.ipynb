{
 "cells": [
  {
   "cell_type": "markdown",
   "metadata": {},
   "source": [
    "# PhaseObjC - Solution Phase Example 1\n",
    "## Feldspar - number of endmember species equivalent to number of endmember components"
   ]
  },
  {
   "cell_type": "markdown",
   "metadata": {},
   "source": [
    "Required Python code to load the phase library."
   ]
  },
  {
   "cell_type": "code",
   "execution_count": null,
   "metadata": {},
   "outputs": [],
   "source": [
    "from ctypes import cdll\n",
    "from ctypes import util\n",
    "from rubicon.objc import ObjCClass, objc_method\n",
    "cdll.LoadLibrary(util.find_library('phaseobjc'))"
   ]
  },
  {
   "cell_type": "markdown",
   "metadata": {},
   "source": [
    "### Create a Python reference to the `Feldspar` solution phase class, and instantiate an instance of that class.  \n"
   ]
  },
  {
   "cell_type": "code",
   "execution_count": null,
   "metadata": {},
   "outputs": [],
   "source": [
    "Feldspar = ObjCClass('FeldsparBerman')\n",
    "obj = Feldspar.alloc().init()"
   ]
  },
  {
   "cell_type": "markdown",
   "metadata": {},
   "source": [
    "### Obtain properties of the phase inherited from the PhaseBase class.  "
   ]
  },
  {
   "cell_type": "code",
   "execution_count": null,
   "metadata": {},
   "outputs": [],
   "source": [
    "print (obj.phaseName)"
   ]
  },
  {
   "cell_type": "markdown",
   "metadata": {},
   "source": [
    "## Solution Protocol Functions"
   ]
  },
  {
   "cell_type": "markdown",
   "metadata": {},
   "source": [
    "### Solution component and species number:\n",
    "➜ Retrieves the number of endmember components in the system\n",
    "```\n",
    "(NSUInteger)numberOfSolutionComponents  \n",
    "```\n",
    "➜ Retrieves the number of species (dependent endmembers with positive mole fractions) in the solution\n",
    "```\n",
    "(NSUInteger)numberOfSolutionSpecies\n",
    "```\n",
    "Note that the number of components (nc) may be the same as the number of endmember species (ns) if the solution does not involve speciation (complexing) or if the solid solution is not a reciprocal solution."
   ]
  },
  {
   "cell_type": "code",
   "execution_count": null,
   "metadata": {},
   "outputs": [],
   "source": [
    "nc = obj.numberOfSolutionComponents()\n",
    "print ('Number of components = ', nc)\n",
    "ns = obj.numberOfSolutionSpecies()\n",
    "print ('Number of species = ', ns)"
   ]
  },
  {
   "cell_type": "markdown",
   "metadata": {},
   "source": [
    "### Information about solution components:\n",
    "Return name, formula, and molecular weight of each endmember component in the solution.  Note the use of the `PhaseBase` class (For further information, see the Stoichiometric Phase notebook examples).  \n",
    "\n",
    "➜ Retrieves superclass instance of `PhaseBase` object for component at specified index  \n",
    "```\n",
    "(id)componentAtIndex:(NSUInteger)index  \n",
    "```"
   ]
  },
  {
   "cell_type": "code",
   "execution_count": null,
   "metadata": {},
   "outputs": [],
   "source": [
    "PhaseBase = ObjCClass('PhaseBase')\n",
    "print (\"{0:>20s} {1:>20s} {2:>15s}\".format('component name', 'formula', 'MW (g/mol)'))\n",
    "for i in range(0, nc):\n",
    "    component = obj.componentAtIndex_(i)\n",
    "    print (\"{0:>20s} {1:>20s} {2:15.3f}\".format(component.phaseName, component.phaseFormula, component.mw))"
   ]
  },
  {
   "cell_type": "markdown",
   "metadata": {},
   "source": [
    "### Create a vector of moles of endmember components.\n",
    "Allocate a \"c\"-type pointer to a double precision one-dimensional array, and initialize the array to hold the moles of each component in the solution."
   ]
  },
  {
   "cell_type": "code",
   "execution_count": null,
   "metadata": {},
   "outputs": [],
   "source": [
    "import ctypes\n",
    "m = (ctypes.c_double*nc)()\n",
    "ctypes.cast(m, ctypes.POINTER(ctypes.c_double))\n",
    "m[0] = 1.0\n",
    "m[1] = 2.0\n",
    "m[2] = 3.0\n",
    "for i in range (0, nc):\n",
    "    component = obj.componentAtIndex_(i)\n",
    "    print ('moles of (', component.phaseName, ') = ', m[i])"
   ]
  },
  {
   "cell_type": "markdown",
   "metadata": {},
   "source": [
    "### Note that moles can be assigned from a vector of element abundances using the following functions:\n",
    "➜ Moles of elements (standard order) => Moles of endmember components of the phase\n",
    "```\n",
    "(DoubleVector *)convertElementsToMoles:(double *)e\n",
    "```\n",
    "➜ Moles of elements (standard order) => Total moles of endmember components of the phase\n",
    "```\n",
    "(double)convertElementsToTotalMoles:(double *)e\n",
    "```\n",
    "➜ Moles of elements (standard order) => Total mass of the phase (g)\n",
    "```\n",
    "(double)convertElementsToTotalMass:(double *)e\n",
    "```"
   ]
  },
  {
   "cell_type": "code",
   "execution_count": null,
   "metadata": {},
   "outputs": [],
   "source": [
    "e = (ctypes.c_double*107)()\n",
    "ctypes.cast(e, ctypes.POINTER(ctypes.c_double))\n",
    "for i in range (0, 107):\n",
    "    e[i] = 0.0\n",
    "e[8]  = m[0]*8.0 + m[1]*8.0 + m[2]*8.0 # O\n",
    "e[11] = m[0]                           # Na\n",
    "e[13] = m[0] + 2.0*m[1] + m[2]         # Al\n",
    "e[14] = m[0]*3.0 + m[1]*2.0 + m[2]*3.0 # Si\n",
    "e[19] = m[2]                           # K\n",
    "e[20] = m[1]                           # Ca\n",
    "mCompute = obj.convertElementsToMoles_(e)\n",
    "for i in range (0, nc):\n",
    "    component = obj.componentAtIndex_(i)\n",
    "    print ('assumed moles of {0:<10s} = {1:5.1f}  computed = {2:5.1f}'.format(component.phaseName, m[i], \n",
    "                                                                              mCompute.valueAtIndex_(i)))\n",
    "print ('Computed total number of moles = ', obj.convertElementsToTotalMoles_(e))\n",
    "print ('Computed total mass = ', obj.convertElementsToTotalMass_(e))"
   ]
  },
  {
   "cell_type": "markdown",
   "metadata": {},
   "source": [
    "### Test the mole vector and output derived quantities:\n",
    "➜ Moles of endmember components => validity of input values\n",
    "```\n",
    "(BOOL)testPermissibleValuesOfComponents:(double *)m\n",
    "```\n",
    "➜ Moles of endmember components => Moles of elements (standard order)\n",
    "```\n",
    "(DoubleVector *)convertMolesToElements:(double *)m\n",
    "```\n",
    "➜ Moles of endmember components => Molar sum\n",
    "```\n",
    "(double)totalMolesFromMolesOfComponents:(double *)m\n",
    "```\n",
    "➜ Moles of endmember components => Mole fractions of endmember components\n",
    "```\n",
    "(DoubleVector *)convertMolesToMoleFractions:(double *)m\n",
    "```"
   ]
  },
  {
   "cell_type": "code",
   "execution_count": null,
   "metadata": {},
   "outputs": [],
   "source": [
    "if (obj.testPermissibleValuesOfComponents_(m) == 1):\n",
    "    print ('mole input is feasible')\n",
    "else:\n",
    "    print ('mole input is infeasible')\n",
    "    \n",
    "print ('Total moles = ', obj.totalMolesFromMolesOfComponents_(m))\n",
    "\n",
    "mole_frac_pointer = obj.convertMolesToMoleFractions_(m)\n",
    "print ('{0:<20s}{1:<20s}{2:>20s}'.format('component name', 'component formula', 'mole fraction'))\n",
    "for i in range (0, nc):\n",
    "    print ('{0:<20s}{1:<20s}{2:20.13e}'.format(obj.componentAtIndex_(i).phaseName, \n",
    "                                             obj.componentAtIndex_(i).phaseFormula, \n",
    "                                             mole_frac_pointer.valueAtIndex_(i)))\n",
    "\n",
    "moles_pointer = obj.convertMolesToElements_(m)\n",
    "ne = moles_pointer.size\n",
    "formula = ''\n",
    "for i in range(0, ne):\n",
    "    value = moles_pointer.valueAtIndex_(i)\n",
    "    if value != 0.0:\n",
    "        name = PhaseBase.elementNameFromAtomicNumber_(i)\n",
    "        formula = formula + name + '(' + str(value) + ')'\n",
    "print ('Solution formula = ', formula)"
   ]
  },
  {
   "cell_type": "markdown",
   "metadata": {},
   "source": [
    "### Compute activities and chemical potentials of endmember components:\n",
    "➜ Moles of components, T (K), P (bars) => activities of endmember components\n",
    "```\n",
    "(DoubleVector *)getActivityFromMolesOfComponents:(double *)m andT:(double)t andP:(double)p\n",
    "```\n",
    "➜ Moles of components, T (K), P (bars) => chemical potentials of endmember components (J)\n",
    "```\n",
    "(DoubleVector *)getChemicalPotentialFromMolesOfComponents:(double *)m andT:(double)t andP:(double)p\n",
    "```"
   ]
  },
  {
   "cell_type": "code",
   "execution_count": null,
   "metadata": {},
   "outputs": [],
   "source": [
    "t = 1000.0\n",
    "p = 1000.0\n",
    "activity = obj.getActivityFromMolesOfComponents_andT_andP_(m, t, p)\n",
    "potential = obj.getChemicalPotentialFromMolesOfComponents_andT_andP_(m, t, p)\n",
    "print ('{0:<10s} {1:>20s} {2:>20s}'.format('component', 'activity', 'chemical potential'))\n",
    "for i in range (0, nc):\n",
    "    component = obj.componentAtIndex_(i)\n",
    "    print ('{0:<10s} {1:20.13e} {2:20.13e}'.format(component.phaseName, \n",
    "                                               activity.valueAtIndex_(i), \n",
    "                                               potential.valueAtIndex_(i)))"
   ]
  },
  {
   "cell_type": "markdown",
   "metadata": {},
   "source": [
    "### Gibbs free energy and its compositional derivatives:\n",
    "➜ Moles of components, T (K), P (bars) => Gibbs free energy (J)\n",
    "```\n",
    "(double)getGibbsFreeEnergyFromMolesOfComponents:(double *)m andT:(double)t andP:(double)p\n",
    "```\n",
    "➜ Moles of components, T (K), P (bars) => d(Gibbs free energy)/d(Moles of components) (J)\n",
    "```\n",
    "(DoubleVector *)getDgDmFromMolesOfComponents:(double *)m andT:(double)t andP:(double)p\n",
    "```\n",
    "➜ Moles of components, T (K), P (bars) => d^2(Gibbs free energy)/d(Moles of components)^2 (J)\n",
    "```\n",
    "(DoubleMatrix *)getD2gDm2FromMolesOfComponents:(double *)m andT:(double)t andP:(double)p\n",
    "```\n",
    "➜ Moles of components, T (K), P (bars) => d^3(Gibbs free energy)/d(Moles of components)^3 (J)\n",
    "```\n",
    "(DoubleTensor *)getD3gDm3FromMolesOfComponents:(double *)m andT:(double)t andP:(double)p\n",
    "```"
   ]
  },
  {
   "cell_type": "code",
   "execution_count": null,
   "metadata": {},
   "outputs": [],
   "source": [
    "print ('Gibbs free energy (J) = ', obj.getGibbsFreeEnergyFromMolesOfComponents_andT_andP_(m, t, p))\n",
    "print (\"\")\n",
    "dgdm = obj.getDgDmFromMolesOfComponents_andT_andP_(m, t, p)\n",
    "for i in range (0, nc):\n",
    "    print ('dg/dm (', i, ') = ', dgdm.valueAtIndex_(i))\n",
    "print (\"\")\n",
    "d2gdm2 = obj.getD2gDm2FromMolesOfComponents_andT_andP_(m, t, p)\n",
    "for i in range (0, nc):\n",
    "    for j in range (0, nc):\n",
    "        print ('d2g/dm2 (', i, ') (', j, ') = ', d2gdm2.valueAtRowIndex_andColIndex_(i, j))\n",
    "print (\"\")\n",
    "d3gdm3 = obj.getD3gDm3FromMolesOfComponents_andT_andP_(m, t, p)\n",
    "for i in range (0, nc):\n",
    "    for j in range (0, nc):\n",
    "        for k in range (0, nc):\n",
    "            print ('d3g/dm3 (', i, ') (', j, ') (', k, ') = ', d3gdm3.valueAtFirstIndex_andSecondIndex_andThirdIndex_(i, j, k))"
   ]
  },
  {
   "cell_type": "markdown",
   "metadata": {},
   "source": [
    "### Molar derivatives of activities:\n",
    "➜ Moles of components, T (K), P (bars) => d(activities of endmember components)/d(Moles of components)\n",
    "```\n",
    "(DoubleMatrix *)getDaDmFromMolesOfComponents:(double *)m andT:(double)t andP:(double)p\n",
    "```"
   ]
  },
  {
   "cell_type": "code",
   "execution_count": null,
   "metadata": {},
   "outputs": [],
   "source": [
    "dadm = obj.getDaDmFromMolesOfComponents_andT_andP_(m, t, p)\n",
    "for i in range (0, nc):\n",
    "    for j in range (0, nc):\n",
    "        print ('da/dm (', i, ') (', j, ') = ', dadm.valueAtRowIndex_andColIndex_(i, j))"
   ]
  },
  {
   "cell_type": "markdown",
   "metadata": {},
   "source": [
    "### Enthalpy, Entropy, and molar derivatives:\n",
    "➜ Moles of components, T (K), P (bars) => enthalpy (J)\n",
    "```\n",
    "(double)getEnthalpyFromMolesOfComponents:(double *)m andT:(double)t andP:(double)p\n",
    "```\n",
    "➜ Moles of components, T (K), P (bars) => entropy (J/K)\n",
    "```\n",
    "(double)getEntropyFromMolesOfComponents:(double *)m andT:(double)t andP:(double)p\n",
    "```\n",
    "➜ Moles of components, T (K), P (bars) => d(entropy)/d(Moles of components) (J/K)\n",
    "```\n",
    "(DoubleVector *)getDsDmFromMolesOfComponents:(double *)m andT:(double)t andP:(double)p\n",
    "```\n",
    "➜ Moles of components, T (K), P (bars) => d^2(entropy)/d(Moles of components)^2 (J/K)\n",
    "```\n",
    "(DoubleMatrix *)getD2sDm2FromMolesOfComponents:(double *)m andT:(double)t andP:(double)p\n",
    "```"
   ]
  },
  {
   "cell_type": "code",
   "execution_count": null,
   "metadata": {},
   "outputs": [],
   "source": [
    "print ('Enthalpy (J) = ', obj.getEnthalpyFromMolesOfComponents_andT_andP_(m, t, p))\n",
    "print ('Entropy (J/K) = ', obj.getEntropyFromMolesOfComponents_andT_andP_(m, t, p))\n",
    "print (\"\")\n",
    "dsdm = obj.getDsDmFromMolesOfComponents_andT_andP_(m, t, p)\n",
    "for i in range (0, nc):\n",
    "    print ('ds/dm (', i, ') = ', dsdm.valueAtIndex_(i))\n",
    "print (\"\")\n",
    "d2sdm2 = obj.getD2sDm2FromMolesOfComponents_andT_andP_(m, t, p)\n",
    "for i in range (0, nc):\n",
    "    for j in range (0, nc):\n",
    "        print ('d2s/dm2 (', i, ') (', j, ') = ', d2sdm2.valueAtRowIndex_andColIndex_(i, j))"
   ]
  },
  {
   "cell_type": "markdown",
   "metadata": {},
   "source": [
    "### Heat capacity and its derivatives:\n",
    "➜ Moles of components, T (K), P (bars) => isobaric heat capacity (J/K)\n",
    "```\n",
    "(double)getHeatCapacityFromMolesOfComponents:(double *)m andT:(double)t andP:(double)p\n",
    "```\n",
    "➜ Moles of components, T (K), P (bars) => d(isobaric heat capacity)/dT (J/K^2)\n",
    "```\n",
    "(double)getDcpDtFromMolesOfComponents:(double *)m andT:(double)t andP:(double)p\n",
    "```\n",
    "➜ Moles of components, T (K), P (bars) => d(isobaric heat capacity)/d(Moles of components) (J/K)\n",
    "```\n",
    "(DoubleVector *)getDCpDmFromMolesOfComponents:(double *)m andT:(double)t andP:(double)p\n",
    "```"
   ]
  },
  {
   "cell_type": "code",
   "execution_count": null,
   "metadata": {},
   "outputs": [],
   "source": [
    "print ('Heat capacity (J/K) = ', obj.getHeatCapacityFromMolesOfComponents_andT_andP_(m, t, p))\n",
    "print (\"\")\n",
    "print ('dcpdt (J/K^2) = ', obj.getDcpDtFromMolesOfComponents_andT_andP_(m, t, p))\n",
    "print (\"\")\n",
    "dcpdm = obj.getDCpDmFromMolesOfComponents_andT_andP_(m, t, p)\n",
    "for i in range (0, nc):\n",
    "    print ('dcp/dm (', i, ') = ', dcpdm.valueAtIndex_(i))"
   ]
  },
  {
   "cell_type": "markdown",
   "metadata": {},
   "source": [
    "### Volume and its derivatives:\n",
    "➜ Moles of components, T (K), P (bars) => volume (J/bar)\n",
    "```\n",
    "(double)getVolumeFromMolesOfComponents:(double *)m andT:(double)t andP:(double)p\n",
    "```\n",
    "➜ Moles of components, T (K), P (bars) => d(volume)/d(Moles of components) (J/bar)\n",
    "```\n",
    "(DoubleVector *)getDvDmFromMolesOfComponents:(double *)m andT:(double)t andP:(double)p\n",
    "```\n",
    "➜ Moles of components, T (K), P (bars) => d^2(volume)/d(Moles of components)^2 (J/bar)\n",
    "```\n",
    "(DoubleMatrix *)getD2vDm2FromMolesOfComponents:(double *)m andT:(double)t andP:(double)p\n",
    "```\n",
    "➜ Moles of components, T (K), P (bars) => d(volume)/dT (J/bar-K)\n",
    "```\n",
    "(double)getDvDtFromMolesOfComponents:(double *)m andT:(double)t andP:(double)p\n",
    "```\n",
    "➜ Moles of components, T (K), P (bars) => d(volume)/dP (J/bar^2)\n",
    "```\n",
    "(double)getDvDpFromMolesOfComponents:(double *)m andT:(double)t andP:(double)p\n",
    "```\n",
    "➜ Moles of components, T (K), P (bars) => d2(volume)/dT^2 (J/bar-K^2)\n",
    "```\n",
    "(double)getD2vDt2FromMolesOfComponents:(double *)m andT:(double)t andP:(double)p\n",
    "```\n",
    "➜ Moles of components, T (K), P (bars) => d2(volume)/dTdP (J/bar^2-K)\n",
    "```\n",
    "(double)getD2vDtDpFromMolesOfComponents:(double *)m andT:(double)t andP:(double)p\n",
    "```\n",
    "➜ Moles of components, T (K), P (bars) => d2(volume)/dP^2 (J/bar^3)\n",
    "```\n",
    "(double)getD2vDp2FromMolesOfComponents:(double *)m andT:(double)t andP:(double)p\n",
    "```\n",
    "➜ Moles of components, T (K), P (bars) => d2(volume)/d(Moles of components)dT (J/bar-K)\n",
    "```\n",
    "(DoubleVector *)getD2vDmDtFromMolesOfComponents:(double *)m andT:(double)t andP:(double)p\n",
    "```\n",
    "➜ Moles of components, T (K), P (bars) => d2(volume)/d(Moles of components)dP (J/bar^2)\n",
    "```\n",
    "(DoubleVector *)getD2vDmDpFromMolesOfComponents:(double *)m andT:(double)t andP:(double)p\n",
    "```"
   ]
  },
  {
   "cell_type": "code",
   "execution_count": null,
   "metadata": {},
   "outputs": [],
   "source": [
    "print ('{0:<10s}{1:13.6f} {2:<15s}'.format('Volume', obj.getVolumeFromMolesOfComponents_andT_andP_(m, t, p), 'J/bar'))\n",
    "print ('{0:<10s}{1:13.6e} {2:<15s}'.format('dvdt', obj.getDvDtFromMolesOfComponents_andT_andP_(m, t, p), 'J/bar-K'))\n",
    "print ('{0:<10s}{1:13.6e} {2:<15s}'.format('dvdp', obj.getDvDpFromMolesOfComponents_andT_andP_(m, t, p), 'J/bar^2'))\n",
    "print ('{0:<10s}{1:13.6e} {2:<15s}'.format('d2vdt2', obj.getD2vDt2FromMolesOfComponents_andT_andP_(m, t, p), 'J/bar-K^2'))\n",
    "print ('{0:<10s}{1:13.6e} {2:<15s}'.format('d2vdtdp', obj.getD2vDtDpFromMolesOfComponents_andT_andP_(m, t, p),  'J/bar^2-K'))\n",
    "print ('{0:<10s}{1:13.6e} {2:<15s}'.format('d2vdp2', obj.getD2vDp2FromMolesOfComponents_andT_andP_(m, t, p), 'J/bar^3'))\n",
    "print (\"\")\n",
    "dvdm = obj.getDvDmFromMolesOfComponents_andT_andP_(m, t, p)\n",
    "for i in range (0, nc):\n",
    "    print ('dv/dm (', i, ') = ', dvdm.valueAtIndex_(i))\n",
    "print (\"\")\n",
    "d2vdm2 = obj.getD2vDm2FromMolesOfComponents_andT_andP_(m, t, p)\n",
    "for i in range (0, nc):\n",
    "    for j in range (0, nc):\n",
    "        print ('d2v/dm2 (', i, ') (', j, ') = ', d2vdm2.valueAtRowIndex_andColIndex_(i, j))\n",
    "print (\"\")\n",
    "d2vdmdt = obj.getD2vDmDtFromMolesOfComponents_andT_andP_(m, t, p)\n",
    "for i in range (0, nc):\n",
    "    print ('d2vdmdt (', i, ') = ', d2vdmdt.valueAtIndex_(i))\n",
    "print (\"\")\n",
    "d2vdmdp = obj.getD2vDmDpFromMolesOfComponents_andT_andP_(m, t, p)\n",
    "for i in range (0, nc):\n",
    "    print ('d2vdmdp (', i, ') = ', d2vdmdp.valueAtIndex_(i))"
   ]
  },
  {
   "cell_type": "markdown",
   "metadata": {},
   "source": [
    "### Accessing properties of solution species:\n",
    "➜ Moles of components, T (K), P (bars) => formulae as an NSString object\n",
    "```\n",
    "(NSString *)getFormulaFromMolesOfComponents:(double *)m andT:(double)t andP:(double)p\n",
    "```\n",
    "➜ Retrieves the name of the solution species at the specified index\n",
    "```\n",
    "(NSString *)nameOfSolutionSpeciesAtIndex:(NSUInteger)index\n",
    "```\n",
    "➜ Moles of solution species => moles of endmember components\n",
    "```\n",
    "(DoubleVector *)convertMolesOfSpeciesToMolesOfComponents:(double *)mSpecies\n",
    "```\n",
    "➜ Retrieves an elemental stoichiometry vector for the species at the specified index\n",
    "```\n",
    "(DoubleVector *)elementalCompositionOfSpeciesAtIndex:(NSUInteger)index\n",
    "```\n",
    "➜ Moles of components, T (K), P (bars) => chemical potentials of solution species (J)\n",
    "```\n",
    "(DoubleVector *)chemicalPotentialsOfSpeciesFromMolesOfComponents:(double *)m andT:(double)t andP:(double)p\n",
    "```\n",
    "Note that the first nc species are identical to the solution components"
   ]
  },
  {
   "cell_type": "code",
   "execution_count": null,
   "metadata": {},
   "outputs": [],
   "source": [
    "print ('formula = ', obj.getFormulaFromMolesOfComponents_andT_andP_(m, t, p))\n",
    "muSpecies = obj.chemicalPotentialsOfSpeciesFromMolesOfComponents_andT_andP_(m, t, p)\n",
    "for i in range (0, ns):\n",
    "    print ('species = ', obj.nameOfSolutionSpeciesAtIndex_(i))\n",
    "    elm = obj.elementalCompositionOfSpeciesAtIndex_(i)\n",
    "    for j in range (0, 107):\n",
    "        if elm.valueAtIndex_(j) > 0.0:\n",
    "            print ('   element (', j, ') = ', elm.valueAtIndex_(j))\n",
    "    print ('   chemical potential = ', muSpecies.valueAtIndex_(i))\n",
    "mSpecies = (ctypes.c_double*3)()\n",
    "ctypes.cast(mSpecies, ctypes.POINTER(ctypes.c_double))\n",
    "mSpecies[0] = 1\n",
    "mSpecies[1] = 2\n",
    "mSpecies[2] = 3\n",
    "mSpToComp = obj.convertMolesOfSpeciesToMolesOfComponents_(mSpecies)\n",
    "for i in range (0, nc):\n",
    "    print ('moles of component (', i, ') = ', mSpToComp.valueAtIndex_(i))"
   ]
  },
  {
   "cell_type": "markdown",
   "metadata": {},
   "source": [
    "## Parameter calibration protocol"
   ]
  },
  {
   "cell_type": "code",
   "execution_count": null,
   "metadata": {},
   "outputs": [],
   "source": [
    "try:\n",
    "    if obj.supportsParameterCalibration() == 1:\n",
    "        print ('This phase supports the Calibration protocol')\n",
    "    np = obj.getNumberOfFreeParameters()\n",
    "    print ('... there are', np, 'parameters')\n",
    "    names = obj.getArrayOfNamesOfFreeParameters()\n",
    "    dgdw = obj.getDgDwFromMolesOfComponents_andT_andP_(m, t, p)\n",
    "    for i in range (0, np):\n",
    "        name = names.objectAtIndex_(i)\n",
    "        value = obj.getValueForParameterName_(name)\n",
    "        units = obj.getUnitsForParameterName_(name)\n",
    "        print ('Parameter ', name, 'has value ', value, units, 'dgdw = ', dgdw.valueAtIndex_(i))\n",
    "        dmudw = obj.getChemicalPotentialDerivativesForParameter_usingMolesOfComponents_andT_andP_(name, m, t, p)\n",
    "        for j in range (0, nc):\n",
    "            print ('   dmu (', j, ')dw = ', dmudw.valueAtIndex_(j))\n",
    "except AttributeError:\n",
    "    print ('This phase does not implement the parameter calibration protocol')"
   ]
  }
 ],
 "metadata": {
  "anaconda-cloud": {},
  "kernelspec": {
   "display_name": "Python [default]",
   "language": "python",
   "name": "python3"
  },
  "language_info": {
   "codemirror_mode": {
    "name": "ipython",
    "version": 3
   },
   "file_extension": ".py",
   "mimetype": "text/x-python",
   "name": "python",
   "nbconvert_exporter": "python",
   "pygments_lexer": "ipython3",
   "version": "3.6.5"
  }
 },
 "nbformat": 4,
 "nbformat_minor": 2
}
