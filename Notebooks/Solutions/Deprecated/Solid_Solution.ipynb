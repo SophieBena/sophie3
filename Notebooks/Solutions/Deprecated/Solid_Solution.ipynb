{
 "cells": [
  {
   "cell_type": "markdown",
   "metadata": {},
   "source": [
    "# PhaseObjC - Stoichiometric Phase Example 1\n",
    "## Illustrate Objective-C type library interaction and plotting\n",
    "Required Python code to load the phase library. "
   ]
  },
  {
   "cell_type": "code",
   "execution_count": null,
   "metadata": {},
   "outputs": [],
   "source": [
    "from thermoengine import phases\n",
    "from thermoengine import model\n",
    "from thermoengine import chem\n",
    "\n",
    "import numpy as np\n",
    "from scipy import optimize"
   ]
  },
  {
   "cell_type": "code",
   "execution_count": null,
   "metadata": {},
   "outputs": [],
   "source": []
  },
  {
   "cell_type": "code",
   "execution_count": null,
   "metadata": {},
   "outputs": [],
   "source": [
    "modelDB = model.Database()\n",
    "modelDB.phase_attributes.keys()"
   ]
  },
  {
   "cell_type": "code",
   "execution_count": null,
   "metadata": {},
   "outputs": [],
   "source": [
    "relevant_phases = ['Cpx', 'Grt', 'Ol', 'Opx', 'Bt', 'Crn', 'Rt', 'Fsp', 'Cam',\n",
    "                   'Zo', 'Crd', 'Ms', 'Qz', 'Ky', 'Sil', 'SplS', 'Mll', 'Nph', 'Ilm']\n",
    "\n",
    "oxide_num = chem.oxide_props['oxide_num']\n",
    "all_mol_oxide_comp = np.zeros((0,oxide_num))\n",
    "all_phase_name = np.zeros((0))\n",
    "all_endmember_name = np.zeros((0))\n",
    "all_endmember_ind = np.zeros((0))\n",
    "all_phase_ind = np.zeros((0))\n",
    "                             \n",
    "for (ind_phs, iabbrev) in enumerate(relevant_phases):\n",
    "    iphs_props = modelDB.phase_attributes[iabbrev]['props']\n",
    "    #print(iphs_props)\n",
    "    iall_mol_oxide_comp = iphs_props['mol_oxide_comp']\n",
    "    iendmember_name = iphs_props['endmember_name']\n",
    "    iendmember_num = len(iendmember_name)\n",
    "    \n",
    "    iendmember_ind = np.arange(iendmember_num)\n",
    "    \n",
    "    iphase_name_tile = np.tile(np.array([iphs_props['phase_name']]), iendmember_num)\n",
    "\n",
    "    all_phase_ind = np.hstack((all_phase_ind, np.tile(ind_phs,(iendmember_num))))\n",
    "    all_mol_oxide_comp= np.vstack((all_mol_oxide_comp, iall_mol_oxide_comp))\n",
    "    all_phase_name = np.hstack((all_phase_name, iphase_name_tile))\n",
    "    all_endmember_name = np.hstack((all_endmember_name, iendmember_name))\n",
    "    all_endmember_ind = np.hstack((all_endmember_ind, iendmember_ind))\n"
   ]
  },
  {
   "cell_type": "code",
   "execution_count": null,
   "metadata": {},
   "outputs": [],
   "source": []
  },
  {
   "cell_type": "code",
   "execution_count": null,
   "metadata": {},
   "outputs": [],
   "source": [
    "\n",
    "import matplotlib.pyplot as plt\n",
    "%matplotlib notebook\n",
    "\n",
    "\n",
    "plt.imshow(all_mol_oxide_comp.T,cmap='viridis')\n",
    "plt.clim(0,1)\n",
    "plt.colorbar()\n"
   ]
  },
  {
   "cell_type": "code",
   "execution_count": null,
   "metadata": {},
   "outputs": [],
   "source": [
    "oxide_atom_num = chem.oxide_props['cat_num']+chem.oxide_props['oxy_num']"
   ]
  },
  {
   "cell_type": "code",
   "execution_count": null,
   "metadata": {},
   "outputs": [],
   "source": [
    "oxide_comp_per_atom = all_mol_oxide_comp/np.tile(oxide_atom_num[np.newaxis,:],(50,1))"
   ]
  },
  {
   "cell_type": "code",
   "execution_count": null,
   "metadata": {},
   "outputs": [],
   "source": [
    "oxide_comp_per_atom /= np.tile(np.sum(oxide_comp_per_atom, axis=1)[:,np.newaxis],(1,oxide_atom_num.size))"
   ]
  },
  {
   "cell_type": "code",
   "execution_count": null,
   "metadata": {},
   "outputs": [],
   "source": [
    "np.sum(oxide_comp_per_atom,axis=1)"
   ]
  },
  {
   "cell_type": "code",
   "execution_count": null,
   "metadata": {},
   "outputs": [],
   "source": [
    "plt.figure()\n",
    "plt.imshow(oxide_comp_per_atom.T,cmap='viridis')\n",
    "plt.clim(0,1)\n",
    "plt.colorbar()"
   ]
  },
  {
   "cell_type": "code",
   "execution_count": null,
   "metadata": {},
   "outputs": [],
   "source": [
    "Nendmember, Noxide = oxide_comp_per_atom.shape"
   ]
  },
  {
   "cell_type": "code",
   "execution_count": null,
   "metadata": {},
   "outputs": [],
   "source": [
    "u, s, vh =np.linalg.svd(oxide_comp_per_atom.T)"
   ]
  },
  {
   "cell_type": "code",
   "execution_count": null,
   "metadata": {},
   "outputs": [],
   "source": [
    "TOL = 1e-4\n",
    "N_nonrxn = np.sum(np.abs(s)>= TOL)\n",
    "N_rxn = Nendmember-Noxide + np.sum(np.abs(s)< TOL)\n",
    "non_rxn = vh[0:N_nonrxn]\n",
    "rxn_svd = vh[N_nonrxn:]\n",
    "\n",
    "scl = np.array([np.sum(np.abs(irxn)) for irxn in rxn])\n",
    "rxn_svd = rxn_svd/np.tile(scl[:,np.newaxis],(1,50))"
   ]
  },
  {
   "cell_type": "code",
   "execution_count": null,
   "metadata": {},
   "outputs": [],
   "source": []
  },
  {
   "cell_type": "code",
   "execution_count": null,
   "metadata": {},
   "outputs": [],
   "source": [
    "plt.figure()\n",
    "plt.imshow(rxn_svd,cmap='bwr')\n",
    "plt.clim(-.5,.5)\n",
    "plt.colorbar()\n",
    "\n",
    "plt.xlabel('Endmember ID#')\n",
    "plt.ylabel('Balanced Rxn ID#')"
   ]
  },
  {
   "cell_type": "code",
   "execution_count": null,
   "metadata": {},
   "outputs": [],
   "source": []
  },
  {
   "cell_type": "code",
   "execution_count": null,
   "metadata": {},
   "outputs": [],
   "source": [
    "def rxn_entropy(irxn, TOL=1e-10):\n",
    "    # scl = irxn[irxn>0].sum()\n",
    "    # irxn /= scl\n",
    "    irxn_abs = np.abs(irxn)\n",
    "    xlogx = irxn_abs*np.log(irxn_abs)\n",
    "    xlogx[irxn_abs<TOL] = 0\n",
    "    entropy = -np.sum(xlogx)\n",
    "    return entropy"
   ]
  },
  {
   "cell_type": "code",
   "execution_count": null,
   "metadata": {},
   "outputs": [],
   "source": []
  },
  {
   "cell_type": "code",
   "execution_count": null,
   "metadata": {},
   "outputs": [],
   "source": [
    "rxn_entropy(rxn[0])"
   ]
  },
  {
   "cell_type": "code",
   "execution_count": null,
   "metadata": {},
   "outputs": [],
   "source": [
    "cost_svd = np.array([rxn_entropy(irxn) for irxn in rxn_svd])\n",
    "cost_svd"
   ]
  },
  {
   "cell_type": "code",
   "execution_count": null,
   "metadata": {},
   "outputs": [],
   "source": [
    "def linear_combo(wts, rxn=rxn, return_scl=False):\n",
    "    wts = np.array(wts)\n",
    "    # print(wts.shape)\n",
    "    scl = np.tile(wts[:,np.newaxis],(1,50))\n",
    "    rxn_wt = np.sum(scl*rxn, axis=0)\n",
    "    # scl_tot = np.sum(np.abs(rxn_wt))\n",
    "    scl_tot = np.linalg.norm(rxn_wt)\n",
    "    rxn_wt /= scl_tot\n",
    "    \n",
    "    if return_scl:\n",
    "        return rxn_wt, wts/scl_tot\n",
    "    \n",
    "    else:\n",
    "        return rxn_wt\n",
    "\n",
    "\n",
    "\n",
    "def combine_rxn(wts, rxn=rxn):\n",
    "    rxn_wt = linear_combo(wts, rxn=rxn)\n",
    "    # scl_tot = rxn_wt[rxn_wt>0].sum()\n",
    "    \n",
    "    # scl_tot = 0.5*np.sum(np.abs(rxn_wt))\n",
    "    # rxn_wt /= scl_tot\n",
    "    # print(rxn_wt)\n",
    "    entropy = rxn_entropy(rxn_wt)\n",
    "    # cost = entropy + 1000*(scl_tot-1)**2\n",
    "    cost = entropy\n",
    "    return cost"
   ]
  },
  {
   "cell_type": "code",
   "execution_count": null,
   "metadata": {},
   "outputs": [],
   "source": [
    "np.max"
   ]
  },
  {
   "cell_type": "code",
   "execution_count": null,
   "metadata": {},
   "outputs": [],
   "source": [
    "def ortho_penalty(wts, wtcoefs_ortho=None, scale=1):\n",
    "    if wtcoefs_ortho is None:\n",
    "        cost = 0\n",
    "    else:\n",
    "        wts_ortho = get_wtcoefs_ortho(wts, wtcoefs_ortho, \n",
    "                                      apply_norm=False)\n",
    "        frac = np.minimum(np.linalg.norm(wts_ortho)/np.linalg.norm(wts), 1)\n",
    "        \n",
    "        cost = scale*(1-frac**2)\n",
    "        # cost = scale*np.sqrt(1 - frac**2)\n",
    "        # print('ortho_penalty = ', cost)\n",
    "    \n",
    "    return cost\n",
    "        \n",
    "def combine_rxn_costfun(wts, rxn=rxn, wtcoefs_ortho=None, scale=1, debug=False):\n",
    "    cost = combine_rxn(wts, rxn=rxn) + ortho_penalty(\n",
    "        wts, wtcoefs_ortho=wtcoefs_ortho, scale=scale)\n",
    "    \n",
    "    if debug:\n",
    "        if wtcoefs_ortho is not None:\n",
    "            wts_ortho = get_wtcoefs_ortho(wts, wtcoefs_ortho, apply_norm=False)\n",
    "            print('norm(wts) = {wts_norm}'.format(wts_norm=np.linalg.norm(wts)))\n",
    "            print('norm(ortho) = {ortho_norm}'.format(ortho_norm=np.linalg.norm(wts_ortho)))\n",
    "            ortho_cost = ortho_penalty(wts, wtcoefs_ortho=wtcoefs_ortho, scale=scale)\n",
    "            print('ortho_cost = ', ortho_cost)\n",
    "        \n",
    "    return cost"
   ]
  },
  {
   "cell_type": "code",
   "execution_count": null,
   "metadata": {},
   "outputs": [],
   "source": [
    "rxn_svd.shape"
   ]
  },
  {
   "cell_type": "code",
   "execution_count": null,
   "metadata": {},
   "outputs": [],
   "source": [
    "np.seterr(all='ignore')"
   ]
  },
  {
   "cell_type": "code",
   "execution_count": null,
   "metadata": {},
   "outputs": [],
   "source": [
    "\n",
    "\n",
    "def random_rxn(wtcoefs_ortho=None, Nbasis=36):\n",
    "    wts = 2*np.random.rand(Nbasis)-1\n",
    "    wts /= np.linalg.norm(wts)\n",
    "    \n",
    "    if wtcoefs_ortho is not None:\n",
    "        wts = get_wtcoefs_ortho(wts, wtcoefs_ortho)\n",
    "\n",
    "    \n",
    "    return wts\n",
    "    \n",
    "def draw_basic_rxns(rxn_svd, wtcoefs_ortho=None, Ndraw=10, ortho_scale=1):\n",
    "    Nbasis = rxn_svd.shape[0]\n",
    "    Nendmem = rxn_svd.shape[1]\n",
    "    \n",
    "    wtcoefs = np.zeros((Ndraw, Nbasis))\n",
    "    cost = np.zeros(Ndraw)\n",
    "    rxn_coefs = np.zeros((Ndraw, Nendmem))\n",
    "    \n",
    "    \n",
    "    \n",
    "    for ind in range(Ndraw):\n",
    "        iwts0 = random_rxn(wtcoefs_ortho=wtcoefs_ortho, Nbasis=Nbasis)\n",
    "        \n",
    "        def costfun(wts, rxn=rxn_svd, wtcoefs_ortho=wtcoefs_ortho,\n",
    "                scale=ortho_scale):\n",
    "            return combine_rxn_costfun(wts, rxn=rxn, \n",
    "                                       wtcoefs_ortho=wtcoefs_ortho, \n",
    "                                       scale=ortho_scale)\n",
    "\n",
    "        for ind_fit in range(1):\n",
    "            \n",
    "            ifit = optimize.minimize(costfun, iwts0, tol=1e-10)\n",
    "            iwts0 = ifit['x']\n",
    "        \n",
    "        \n",
    "        iwt_fit = ifit['x']\n",
    "        combine_rxn_costfun(iwt_fit, rxn=rxn_svd, wtcoefs_ortho=wtcoefs_ortho, scale=ortho_scale, debug=True)\n",
    "        # ifit = optimize.minimize(combine_rxn, ifit['x'], tol=1e-10) \n",
    "        \n",
    "        irxn_coefs = linear_combo(iwt_fit, rxn=rxn_svd)\n",
    "        wtcoefs[ind] = iwt_fit\n",
    "        rxn_coefs[ind] = irxn_coefs\n",
    "        cost[ind] = ifit['fun']\n",
    "    \n",
    "    return wtcoefs, rxn_coefs, cost\n",
    "\n",
    "def next_basic_rxn(rxn_svd, wtcoefs_ortho=None, Ndraw=10, ortho_scale=1):\n",
    "    wtcoefs, rxn_coefs, cost = draw_basic_rxns(\n",
    "        rxn_svd, wtcoefs_ortho=wtcoefs_ortho, Ndraw=Ndraw, \n",
    "        ortho_scale=ortho_scale)\n",
    "    ind = np.argmin(cost)\n",
    "    \n",
    "    return wtcoefs[ind], rxn_coefs[ind], cost[ind]\n",
    "\n",
    "def get_wtcoefs_ortho(wtcoefs, wtcoefs_ortho, apply_norm=True):  \n",
    "    wts_ortho = wtcoefs.copy()\n",
    "    for iwtcoefs_ortho in wtcoefs_ortho:\n",
    "        wts_ortho -= np.dot(\n",
    "                iwtcoefs_ortho, wts_ortho)*iwtcoefs_ortho\n",
    "    \n",
    "    if apply_norm:\n",
    "        wts_ortho /= np.linalg.norm(wts_ortho)\n",
    "        \n",
    "    return wts_ortho\n",
    "\n",
    "\n",
    "def get_basic_rxns(rxn_svd, Ndraw=2, ortho_scale=1):\n",
    "    Nbasis = rxn_svd.shape[0]\n",
    "    Nendmem = rxn_svd.shape[1]\n",
    "    \n",
    "    wtcoefs_ortho = np.zeros((Nbasis, Nbasis))\n",
    "    wtcoefs = np.zeros((Nbasis, Nbasis))\n",
    "    rxn_coefs = np.zeros((Nbasis, Nendmem))\n",
    "    costs = np.zeros(Nbasis)\n",
    "    \n",
    "    for ind in range(Nbasis):\n",
    "        iwtcoefs, irxn_coefs, icost = next_basic_rxn(\n",
    "            rxn_svd, wtcoefs_ortho=wtcoefs_ortho, Ndraw=Ndraw,\n",
    "            ortho_scale=ortho_scale)\n",
    "        \n",
    "        iwtcoefs_ortho = get_wtcoefs_ortho(iwtcoefs, wtcoefs_ortho)\n",
    "        \n",
    "        wtcoefs[ind] = iwtcoefs\n",
    "        wtcoefs_ortho[ind] = iwtcoefs_ortho\n",
    "        rxn_coefs[ind] = irxn_coefs\n",
    "        costs[ind] = icost\n",
    "        # print(icost, np.round(irxn_coefs, decimals=1))\n",
    "        print('icost({ind}) = {icost}'.format(ind=ind,icost=icost))\n",
    "        print('=====')\n",
    "        \n",
    "    return wtcoefs, costs, rxn_coefs, wtcoefs_ortho"
   ]
  },
  {
   "cell_type": "code",
   "execution_count": null,
   "metadata": {},
   "outputs": [],
   "source": [
    "wtcoefs, costs, rxn_coefs, wtcoefs_ortho = get_basic_rxns(rxn_svd, Ndraw=10, ortho_scale=10)"
   ]
  },
  {
   "cell_type": "code",
   "execution_count": null,
   "metadata": {},
   "outputs": [],
   "source": []
  },
  {
   "cell_type": "code",
   "execution_count": null,
   "metadata": {},
   "outputs": [],
   "source": [
    "info_cost = [combine_rxn(iwts, rxn=rxn_svd) for iwts in wtcoefs]\n",
    "\n",
    "plt.figure()\n",
    "plt.plot(cost_svd, 'ko')\n",
    "plt.plot(costs, 'rx')\n",
    "plt.plot(info_cost,'ro')\n",
    "\n",
    "plt.figure()\n",
    "plt.plot(rxn_coefs[::10].T, '-')"
   ]
  },
  {
   "cell_type": "code",
   "execution_count": null,
   "metadata": {},
   "outputs": [],
   "source": [
    "plt.figure()\n",
    "plt.imshow(rxn_coefs,cmap='bwr')\n",
    "plt.clim(-.5,.5)\n",
    "plt.colorbar()\n",
    "\n",
    "plt.xlabel('Endmember ID#')\n",
    "plt.ylabel('Balanced Rxn ID#')\n",
    "\n",
    "plt.figure()\n",
    "plt.imshow(rxn_svd,cmap='bwr')\n",
    "plt.clim(-.5,.5)\n",
    "plt.colorbar()\n",
    "\n",
    "plt.xlabel('Endmember ID#')\n",
    "plt.ylabel('Balanced Rxn ID#')"
   ]
  },
  {
   "cell_type": "code",
   "execution_count": null,
   "metadata": {},
   "outputs": [],
   "source": [
    "plt.figure()\n",
    "plt.imshow(np.dot(rxn_coefs, rxn_coefs.T))\n",
    "plt.colorbar()"
   ]
  },
  {
   "cell_type": "code",
   "execution_count": null,
   "metadata": {},
   "outputs": [],
   "source": [
    "np.linalg.norm(rxn_coefs[-1])"
   ]
  },
  {
   "cell_type": "code",
   "execution_count": null,
   "metadata": {},
   "outputs": [],
   "source": []
  },
  {
   "cell_type": "code",
   "execution_count": null,
   "metadata": {},
   "outputs": [],
   "source": []
  },
  {
   "cell_type": "code",
   "execution_count": null,
   "metadata": {},
   "outputs": [],
   "source": []
  },
  {
   "cell_type": "code",
   "execution_count": null,
   "metadata": {},
   "outputs": [],
   "source": [
    "mol_oxide_comp = Grt.endmember_props['mol_oxide_comp']\n",
    "endmember_names = Grt.endmember_props['names']\n",
    "for iendmember,imol_oxide_comp in zip(endmember_names, mol_oxide_comp):\n",
    "    print('========')\n",
    "    print(iendmember)\n",
    "    print('----')\n",
    "    for imol_oxide, ioxide in zip(imol_oxide_comp, chem.oxide_props['oxides']):\n",
    "        print(ioxide, ' = ', imol_oxide)"
   ]
  },
  {
   "cell_type": "code",
   "execution_count": null,
   "metadata": {},
   "outputs": [],
   "source": [
    "from thermoengine import chem\n",
    "chem.oxide_props"
   ]
  },
  {
   "cell_type": "code",
   "execution_count": null,
   "metadata": {},
   "outputs": [],
   "source": [
    "chem_pot[0]"
   ]
  },
  {
   "cell_type": "code",
   "execution_count": null,
   "metadata": {},
   "outputs": [],
   "source": [
    "modelDB.phase_attributes['Aeg']"
   ]
  },
  {
   "cell_type": "code",
   "execution_count": null,
   "metadata": {},
   "outputs": [],
   "source": [
    "modelDB.phase_attributes['Grt']"
   ]
  },
  {
   "cell_type": "code",
   "execution_count": null,
   "metadata": {},
   "outputs": [],
   "source": [
    "info=modelDB.phase_details['info']['pure']\n",
    "abbrev = 'Aeng'\n",
    "this_info = info.loc[info['Abbrev']==abbrev]"
   ]
  },
  {
   "cell_type": "code",
   "execution_count": null,
   "metadata": {},
   "outputs": [],
   "source": [
    "# phases.get_phaselist()"
   ]
  },
  {
   "cell_type": "code",
   "execution_count": null,
   "metadata": {},
   "outputs": [],
   "source": [
    "modelDB.phase_details['info']['solution'].head()"
   ]
  },
  {
   "cell_type": "code",
   "execution_count": null,
   "metadata": {},
   "outputs": [],
   "source": [
    "modelDB.phase_details['info']['pure'].head()"
   ]
  },
  {
   "cell_type": "code",
   "execution_count": null,
   "metadata": {},
   "outputs": [],
   "source": [
    "modelDB.phase_details['info']['active_pure'].head()"
   ]
  },
  {
   "cell_type": "code",
   "execution_count": null,
   "metadata": {},
   "outputs": [],
   "source": [
    "modelDB._phase_cls"
   ]
  },
  {
   "cell_type": "code",
   "execution_count": null,
   "metadata": {},
   "outputs": [],
   "source": [
    "garnet = phases.SolutionPhase('GarnetBerman','Grt')\n",
    "# garnet_HP = phases.SolutionPhase('HollandAndPowell','Grt')\n",
    "garnet_Stix = phases.SolutionPhase('GarnetStixrude','Grt')"
   ]
  },
  {
   "cell_type": "code",
   "execution_count": null,
   "metadata": {},
   "outputs": [],
   "source": [
    "display(garnet.props)\n",
    "display(garnet_Stix.props)"
   ]
  },
  {
   "cell_type": "code",
   "execution_count": null,
   "metadata": {},
   "outputs": [],
   "source": []
  },
  {
   "cell_type": "code",
   "execution_count": null,
   "metadata": {},
   "outputs": [],
   "source": [
    "display(garnet.endmember_props)\n",
    "display(garnet_Stix.endmember_props)"
   ]
  },
  {
   "cell_type": "code",
   "execution_count": null,
   "metadata": {},
   "outputs": [],
   "source": []
  }
 ],
 "metadata": {
  "anaconda-cloud": {},
  "hide_input": false,
  "kernelspec": {
   "display_name": "Python 3",
   "language": "python",
   "name": "python3"
  },
  "language_info": {
   "codemirror_mode": {
    "name": "ipython",
    "version": 3
   },
   "file_extension": ".py",
   "mimetype": "text/x-python",
   "name": "python",
   "nbconvert_exporter": "python",
   "pygments_lexer": "ipython3",
   "version": "3.6.3"
  }
 },
 "nbformat": 4,
 "nbformat_minor": 1
}
