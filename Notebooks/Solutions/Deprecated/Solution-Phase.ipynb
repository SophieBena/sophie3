{
 "cells": [
  {
   "cell_type": "markdown",
   "metadata": {},
   "source": [
    "# PhaseObjC - Stoichiometric Phase Example 1\n",
    "## Illustrate Objective-C type library interaction and plotting\n",
    "Required Python code to load the phase library. "
   ]
  },
  {
   "cell_type": "code",
   "execution_count": null,
   "metadata": {},
   "outputs": [],
   "source": [
    "from thermoengine import phases\n",
    "from thermoengine import model\n",
    "from thermoengine import chem\n",
    "\n",
    "import numpy as np"
   ]
  },
  {
   "cell_type": "code",
   "execution_count": null,
   "metadata": {},
   "outputs": [],
   "source": []
  },
  {
   "cell_type": "code",
   "execution_count": null,
   "metadata": {},
   "outputs": [],
   "source": [
    "modelDB = model.Database()\n"
   ]
  },
  {
   "cell_type": "code",
   "execution_count": null,
   "metadata": {},
   "outputs": [],
   "source": [
    "relevant_phases = ['Cpx', 'Grt', 'Ol', 'Opx', 'Bt', 'Crn', 'Rt', 'Fsp', 'Cam',\n",
    "                   'Zo', 'Crd', 'Ms', 'Qz', 'Ky', 'Sil', 'SplS', 'Mll', 'Nph', 'Ilm']\n",
    "\n",
    "oxide_num = chem.oxide_props['oxide_num']\n",
    "all_mol_oxide_comp = np.zeros((0,oxide_num))\n",
    "all_phase_name = np.zeros((0))\n",
    "all_endmember_name = np.zeros((0))\n",
    "all_endmember_ind = np.zeros((0))\n",
    "all_phase_ind = np.zeros((0))\n",
    "                             \n",
    "for (ind_phs, iabbrev) in enumerate(relevant_phases):\n",
    "    iphs_props = modelDB.phase_attributes[iabbrev]['props']\n",
    "    #print(iphs_props)\n",
    "    iall_mol_oxide_comp = iphs_props['mol_oxide_comp']\n",
    "    iendmember_name = iphs_props['endmember_name']\n",
    "    iendmember_num = len(iendmember_name)\n",
    "    \n",
    "    iendmember_ind = np.arange(iendmember_num)\n",
    "    \n",
    "    iphase_name_tile = np.tile(np.array([iphs_props['phase_name']]), iendmember_num)\n",
    "\n",
    "    all_phase_ind = np.hstack((all_phase_ind, np.tile(ind_phs,(iendmember_num))))\n",
    "    all_mol_oxide_comp= np.vstack((all_mol_oxide_comp, iall_mol_oxide_comp))\n",
    "    all_phase_name = np.hstack((all_phase_name, iphase_name_tile))\n",
    "    all_endmember_name = np.hstack((all_endmember_name, iendmember_name))\n",
    "    all_endmember_ind = np.hstack((all_endmember_ind, iendmember_ind))\n"
   ]
  },
  {
   "cell_type": "code",
   "execution_count": null,
   "metadata": {},
   "outputs": [],
   "source": [
    "Nendmember, Noxide = all_mol_oxide_comp.shape"
   ]
  },
  {
   "cell_type": "code",
   "execution_count": null,
   "metadata": {},
   "outputs": [],
   "source": [
    "u, s, vh =np.linalg.svd(all_mol_oxide_comp.T)\n"
   ]
  },
  {
   "cell_type": "code",
   "execution_count": null,
   "metadata": {},
   "outputs": [],
   "source": []
  },
  {
   "cell_type": "code",
   "execution_count": null,
   "metadata": {},
   "outputs": [],
   "source": [
    "TOL = 1e-4\n",
    "N_nonrxn = np.sum(np.abs(s)>= TOL)\n",
    "N_rxn = Nendmember-Noxide + np.sum(np.abs(s)< TOL)\n",
    "non_rxn = vh[0:N_nonrxn]\n",
    "rxn = vh[N_nonrxn:]\n",
    "\n"
   ]
  },
  {
   "cell_type": "code",
   "execution_count": null,
   "metadata": {},
   "outputs": [],
   "source": [
    "np.max(np.abs(rxn))"
   ]
  },
  {
   "cell_type": "code",
   "execution_count": null,
   "metadata": {},
   "outputs": [],
   "source": [
    "for irxn in rxn:\n",
    "    irxn_diff = np.dot(all_mol_oxide_comp.T, irxn.T)\n",
    "    irms_diff = np.sqrt(np.mean(irxn_diff**2))\n",
    "    print(irms_diff)"
   ]
  },
  {
   "cell_type": "code",
   "execution_count": null,
   "metadata": {},
   "outputs": [],
   "source": [
    "\n",
    "import matplotlib.pyplot as plt\n",
    "%matplotlib notebook\n",
    "\n",
    "\n",
    "plt.imshow(rxn,cmap='bwr')\n",
    "plt.clim(-1,1)\n",
    "plt.colorbar()\n",
    "\n",
    "plt.xlabel('Endmember ID#')\n",
    "plt.ylabel('Balanced Rxn ID#')"
   ]
  },
  {
   "cell_type": "code",
   "execution_count": null,
   "metadata": {},
   "outputs": [],
   "source": []
  },
  {
   "cell_type": "code",
   "execution_count": null,
   "metadata": {},
   "outputs": [],
   "source": [
    "rxn = vh[14,:].T\n",
    "np.dot(all_mol_oxide_comp.T, rxn)"
   ]
  },
  {
   "cell_type": "code",
   "execution_count": null,
   "metadata": {},
   "outputs": [],
   "source": [
    "vh.shape"
   ]
  },
  {
   "cell_type": "code",
   "execution_count": null,
   "metadata": {},
   "outputs": [],
   "source": [
    "s.shape"
   ]
  },
  {
   "cell_type": "code",
   "execution_count": null,
   "metadata": {},
   "outputs": [],
   "source": [
    "import matplotlib.pyplot as plt\n",
    "%matplotlib notebook\n",
    "\n",
    "plt.imshow(all_mol_oxide_comp.T)"
   ]
  },
  {
   "cell_type": "code",
   "execution_count": null,
   "metadata": {},
   "outputs": [],
   "source": [
    "all_mol_oxide_comp[30:35]"
   ]
  },
  {
   "cell_type": "code",
   "execution_count": null,
   "metadata": {},
   "outputs": [],
   "source": [
    "all_phase_name[30:35]"
   ]
  },
  {
   "cell_type": "code",
   "execution_count": null,
   "metadata": {},
   "outputs": [],
   "source": [
    "N=3\n",
    "import numpy as np\n",
    "np.tile(np.array(['hello']), 3)"
   ]
  },
  {
   "cell_type": "code",
   "execution_count": null,
   "metadata": {},
   "outputs": [],
   "source": []
  },
  {
   "cell_type": "code",
   "execution_count": null,
   "metadata": {},
   "outputs": [],
   "source": []
  },
  {
   "cell_type": "code",
   "execution_count": null,
   "metadata": {},
   "outputs": [],
   "source": []
  },
  {
   "cell_type": "code",
   "execution_count": null,
   "metadata": {},
   "outputs": [],
   "source": [
    "phase_names = modelDB.phase_attributes.keys()\n",
    "phase_names\n",
    "for iphs_name in phase_names:\n",
    "    iphs = modelDB.new_phase(iphs_name)\n",
    "    iphs.props['oxide_comp']"
   ]
  },
  {
   "cell_type": "code",
   "execution_count": null,
   "metadata": {},
   "outputs": [],
   "source": [
    "Ky = modelDB.new_phase('Ky')\n",
    "Ky.props"
   ]
  },
  {
   "cell_type": "code",
   "execution_count": null,
   "metadata": {},
   "outputs": [],
   "source": [
    "Grt = modelDB.new_phase('Grt')\n",
    "Grt.props"
   ]
  },
  {
   "cell_type": "code",
   "execution_count": null,
   "metadata": {},
   "outputs": [],
   "source": [
    "Ky.props"
   ]
  },
  {
   "cell_type": "code",
   "execution_count": null,
   "metadata": {},
   "outputs": [],
   "source": [
    "Grt.endmember_props"
   ]
  },
  {
   "cell_type": "code",
   "execution_count": null,
   "metadata": {},
   "outputs": [],
   "source": [
    "mol_oxide_comp = Grt.endmember_props['mol_oxide_comp']\n",
    "endmember_names = Grt.endmember_props['names']\n",
    "for iendmember,imol_oxide_comp in zip(endmember_names, mol_oxide_comp):\n",
    "    print('========')\n",
    "    print(iendmember)\n",
    "    print('----')\n",
    "    for imol_oxide, ioxide in zip(imol_oxide_comp, chem.oxide_props['oxides']):\n",
    "        print(ioxide, ' = ', imol_oxide)"
   ]
  },
  {
   "cell_type": "code",
   "execution_count": null,
   "metadata": {},
   "outputs": [],
   "source": [
    "from thermoengine import chem\n",
    "chem.oxide_props"
   ]
  },
  {
   "cell_type": "code",
   "execution_count": null,
   "metadata": {},
   "outputs": [],
   "source": [
    "chem_pot[0]"
   ]
  },
  {
   "cell_type": "code",
   "execution_count": null,
   "metadata": {},
   "outputs": [],
   "source": [
    "modelDB.phase_attributes['Aeg']"
   ]
  },
  {
   "cell_type": "code",
   "execution_count": null,
   "metadata": {},
   "outputs": [],
   "source": [
    "modelDB.phase_attributes['Grt']"
   ]
  },
  {
   "cell_type": "code",
   "execution_count": null,
   "metadata": {},
   "outputs": [],
   "source": [
    "info=modelDB.phase_details['info']['pure']\n",
    "abbrev = 'Aeng'\n",
    "this_info = info.loc[info['Abbrev']==abbrev]"
   ]
  },
  {
   "cell_type": "code",
   "execution_count": null,
   "metadata": {},
   "outputs": [],
   "source": [
    "# phases.get_phaselist()"
   ]
  },
  {
   "cell_type": "code",
   "execution_count": null,
   "metadata": {},
   "outputs": [],
   "source": [
    "modelDB.phase_details['info']['solution'].head()"
   ]
  },
  {
   "cell_type": "code",
   "execution_count": null,
   "metadata": {},
   "outputs": [],
   "source": [
    "modelDB.phase_details['info']['pure'].head()"
   ]
  },
  {
   "cell_type": "code",
   "execution_count": null,
   "metadata": {},
   "outputs": [],
   "source": [
    "modelDB.phase_details['info']['active_pure'].head()"
   ]
  },
  {
   "cell_type": "code",
   "execution_count": null,
   "metadata": {},
   "outputs": [],
   "source": [
    "modelDB._phase_cls"
   ]
  },
  {
   "cell_type": "code",
   "execution_count": null,
   "metadata": {},
   "outputs": [],
   "source": [
    "garnet = phases.SolutionPhase('GarnetBerman','Grt')\n",
    "# garnet_HP = phases.SolutionPhase('HollandAndPowell','Grt')\n",
    "garnet_Stix = phases.SolutionPhase('GarnetStixrude','Grt')"
   ]
  },
  {
   "cell_type": "code",
   "execution_count": null,
   "metadata": {},
   "outputs": [],
   "source": [
    "display(garnet.props)\n",
    "display(garnet_Stix.props)"
   ]
  },
  {
   "cell_type": "code",
   "execution_count": null,
   "metadata": {},
   "outputs": [],
   "source": []
  },
  {
   "cell_type": "code",
   "execution_count": null,
   "metadata": {},
   "outputs": [],
   "source": [
    "display(garnet.endmember_props)\n",
    "display(garnet_Stix.endmember_props)"
   ]
  },
  {
   "cell_type": "code",
   "execution_count": null,
   "metadata": {},
   "outputs": [],
   "source": []
  }
 ],
 "metadata": {
  "anaconda-cloud": {},
  "hide_input": false,
  "kernelspec": {
   "display_name": "py36",
   "language": "python",
   "name": "py36"
  },
  "language_info": {
   "codemirror_mode": {
    "name": "ipython",
    "version": 3
   },
   "file_extension": ".py",
   "mimetype": "text/x-python",
   "name": "python",
   "nbconvert_exporter": "python",
   "pygments_lexer": "ipython3",
   "version": "3.6.3"
  }
 },
 "nbformat": 4,
 "nbformat_minor": 1
}
