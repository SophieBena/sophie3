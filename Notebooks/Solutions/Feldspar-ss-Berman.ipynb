{
 "cells": [
  {
   "cell_type": "markdown",
   "metadata": {},
   "source": [
    "# Feldspar Solid Solution - Berman Compatible"
   ]
  },
  {
   "cell_type": "markdown",
   "metadata": {},
   "source": [
    "Required Python code to load the phase library."
   ]
  },
  {
   "cell_type": "code",
   "execution_count": null,
   "metadata": {},
   "outputs": [],
   "source": [
    "from thermoengine import core, phases, model"
   ]
  },
  {
   "cell_type": "markdown",
   "metadata": {},
   "source": [
    "### Listing of solution phases compatible with Berman inherited from the MELTS model\n",
    "get_phase_info returns an ordered list of *pure* and *solution* phases"
   ]
  },
  {
   "cell_type": "code",
   "execution_count": null,
   "metadata": {},
   "outputs": [],
   "source": [
    "phase_info,info_files = phases.get_phase_info()\n",
    "phase_info['solution']"
   ]
  },
  {
   "cell_type": "markdown",
   "metadata": {},
   "source": [
    "### Get access to a thermodynamic database (by default, the Berman (1988)/MELTS database)."
   ]
  },
  {
   "cell_type": "code",
   "execution_count": null,
   "metadata": {},
   "outputs": [],
   "source": [
    "modelDB = model.Database()"
   ]
  },
  {
   "cell_type": "markdown",
   "metadata": {},
   "source": [
    "### Create a Python reference to the feldspar solution phase class.\n",
    "The required phase abbreviation method argument is listed above."
   ]
  },
  {
   "cell_type": "code",
   "execution_count": null,
   "metadata": {},
   "outputs": [],
   "source": [
    "Feldspar = modelDB.get_phase('Fsp')"
   ]
  },
  {
   "cell_type": "markdown",
   "metadata": {},
   "source": [
    "### Obtain some properties of the selected feldspar solution  \n",
    "Name, formulas of endmembers, molecular weights of endmembers, abbreviation, number of endmember components, names of endmembers"
   ]
  },
  {
   "cell_type": "code",
   "execution_count": null,
   "metadata": {},
   "outputs": [],
   "source": [
    "print (Feldspar.props['phase_name'])\n",
    "print (Feldspar.props['formula'])\n",
    "print (Feldspar.props['molwt'])\n",
    "print (Feldspar.props['abbrev'])\n",
    "print (Feldspar.props['endmember_num'])\n",
    "print (Feldspar.props['endmember_name'])"
   ]
  },
  {
   "cell_type": "markdown",
   "metadata": {},
   "source": [
    "## Specify the composition of the solution\n",
    "#### Composition input in wt% oxides (treated as grams of oxides)\n",
    "Sandine composition in wt% oxides, taken from Deer, Howie and Zussman, Table 30, entry 9: Sanidine from a rhyolite in Mitchell Mesa, Texas."
   ]
  },
  {
   "cell_type": "code",
   "execution_count": null,
   "metadata": {},
   "outputs": [],
   "source": [
    "mol_oxides = core.chem.format_mol_oxide_comp({'SiO2':67.27,'Al2O3':18.35, 'FeO':0.92, 'CaO':0.15, \n",
    "                                              'Na2O':6.45, 'K2O':7.05, 'H2O':0.16}, convert_grams_to_moles=True)"
   ]
  },
  {
   "cell_type": "markdown",
   "metadata": {},
   "source": [
    "### Convert analytical composition to moles of endmember components\n",
    "Note that a method is called - *test_endmember_comp()* - to test the validity of the projected composition\n",
    "#### (1st method) A default projection method based on generic least sqaures ..."
   ]
  },
  {
   "cell_type": "code",
   "execution_count": null,
   "metadata": {},
   "outputs": [],
   "source": [
    "moles_end,oxide_res = Feldspar.calc_endmember_comp(mol_oxide_comp=mol_oxides, output_residual=True)\n",
    "for i in range(0,Feldspar.props['endmember_num']):\n",
    "    print (\"mole number of {0:10.10s} = {1:13.6e}\".format(Feldspar.props['endmember_name'][i], moles_end[i]))\n",
    "if not Feldspar.test_endmember_comp(moles_end):\n",
    "    print (\"Calculated composition is infeasible!\")"
   ]
  },
  {
   "cell_type": "markdown",
   "metadata": {},
   "source": [
    "#### (2nd method) An intrinsic projection method tailored specifically to the solution phase of interest ..."
   ]
  },
  {
   "cell_type": "code",
   "execution_count": null,
   "metadata": {},
   "outputs": [],
   "source": [
    "moles_end,oxide_res = Feldspar.calc_endmember_comp(mol_oxide_comp=mol_oxides, method='intrinsic', output_residual=True)\n",
    "for i in range(0,Feldspar.props['endmember_num']):\n",
    "    print (\"mole number of {0:10.10s} = {1:13.6e}\".format(Feldspar.props['endmember_name'][i], moles_end[i]))\n",
    "if not Feldspar.test_endmember_comp(moles_end):\n",
    "    print (\"Calculated composition is infeasible!\")"
   ]
  },
  {
   "cell_type": "markdown",
   "metadata": {},
   "source": [
    "### Some convenience methods to manipulate composition information\n",
    "➜ Moles of endmember components => Molar sum  \n",
    "➜ Moles of endmember components => Moles of elements (standard order)  \n",
    "➜ Moles of endmember components => Mole fractions of endmember components  \n",
    "➜ Moles of elements (standard order) => Moles of endmember components of the phase  \n",
    "➜ Moles of elements (standard order) => Total moles of endmember components of the phase  \n",
    "➜ Moles of elements (standard order) => Total mass of the phase (g)"
   ]
  },
  {
   "cell_type": "code",
   "execution_count": null,
   "metadata": {},
   "outputs": [],
   "source": [
    "print ('Total moles of endmembers: ', Feldspar.convert_endmember_comp(moles_end,output='total_moles'))\n",
    "mol_elm = Feldspar.convert_endmember_comp(moles_end,output='moles_elements')\n",
    "print ('Mole fractions of endmembers: ', Feldspar.convert_endmember_comp(moles_end,output='mole_fraction'))\n",
    "print ('Moles of endmembers: ', Feldspar.convert_elements(mol_elm, output='moles_end'))\n",
    "print ('Total moles of endmembers: ', Feldspar.convert_elements(mol_elm, output='total_moles'))\n",
    "print ('Total grams of phase: ', Feldspar.convert_elements(mol_elm, output='total_grams'))"
   ]
  },
  {
   "cell_type": "markdown",
   "metadata": {},
   "source": [
    "## Compute activities and chemical potentials of endmember components:\n",
    "➜ Moles of components, T (K), P (bars) => activities of endmember components  \n",
    "➜ Moles of components, T (K), P (bars) => chemical potentials of endmember components (J)"
   ]
  },
  {
   "cell_type": "code",
   "execution_count": null,
   "metadata": {},
   "outputs": [],
   "source": [
    "t = 1000\n",
    "p = 1000"
   ]
  },
  {
   "cell_type": "code",
   "execution_count": null,
   "metadata": {},
   "outputs": [],
   "source": [
    "names = Feldspar.props['endmember_name']\n",
    "forms = Feldspar.props['formula']\n",
    "for i in range(0,Feldspar.props['endmember_num']):\n",
    "    print (\"chemical potential of {0:15.15s} ({1:15.15s}) = {2:15.2f} J, activity = {3:10.6f}\".format(\n",
    "        names[i], forms[i], Feldspar.chem_potential(t, p, mol=moles_end, endmember=i),\n",
    "        Feldspar.activity(t, p, mol=moles_end, endmember=i)))"
   ]
  },
  {
   "cell_type": "markdown",
   "metadata": {},
   "source": [
    "## Molar derivatives of activities:\n",
    "➜ Moles of components, T (K), P (bars) => d(activities of endmember components)/d(Moles of components)"
   ]
  },
  {
   "cell_type": "code",
   "execution_count": null,
   "metadata": {},
   "outputs": [],
   "source": [
    "for i in range(0,Feldspar.props['endmember_num']):\n",
    "    dadm = Feldspar.activity(t,p,mol=moles_end,deriv={'dmol':1},endmember=i)[0]\n",
    "    print (\"Derivative of a[{0:s}] with respect to:\".format(names[i]))\n",
    "    for j in range(0,Feldspar.props['endmember_num']):\n",
    "        print (\"    {0:15.15s} = {1:13.6e}\".format(names[j], dadm[j]))"
   ]
  },
  {
   "cell_type": "markdown",
   "metadata": {},
   "source": [
    "## Gibbs free energy and its compositional derivatives:\n",
    "➜ Moles of components, T (K), P (bars) => Gibbs free energy (J)  \n",
    "➜ Moles of components, T (K), P (bars) => d(Gibbs free energy)/d(Moles of components) (J)  \n",
    "➜ Moles of components, T (K), P (bars) => d^2(Gibbs free energy)/d(Moles of components)^2 (J)  \n",
    "➜ Moles of components, T (K), P (bars) => d^3(Gibbs free energy)/d(Moles of components)^3 (J)"
   ]
  },
  {
   "cell_type": "code",
   "execution_count": null,
   "metadata": {},
   "outputs": [],
   "source": [
    "print ('Gibbs free energy = {0:12.2f} J'.format(Feldspar.gibbs_energy(t, p, mol=moles_end)))\n",
    "print (\"\")\n",
    "dgdm = Feldspar.gibbs_energy(t, p, mol=moles_end, deriv={'dmol':1})[0]\n",
    "d2gdm2 = Feldspar.gibbs_energy(t, p, mol=moles_end, deriv={'dmol':2})[0]\n",
    "for i in range (0, Feldspar.props['endmember_num']):\n",
    "    print ('dg/dm[{0:>2d}] = {1:13.6e}     d2gdm2[{0:>2d}][*]:  '.format(i, dgdm[i], i), end=' ')\n",
    "    for j in range (0, Feldspar.props['endmember_num']):\n",
    "        print ('{0:13.6e}'.format(d2gdm2[i, j]), end=' ')\n",
    "    print()\n",
    "print (\"\")\n",
    "d3gdm3 = Feldspar.gibbs_energy(t, p, mol=moles_end, deriv={'dmol':3})[0]\n",
    "for i in range (0, Feldspar.props['endmember_num']):\n",
    "    print('d3gdm3[{0:>2d}][*][*]: '.format(i), end=' ')\n",
    "    for j in range (0, Feldspar.props['endmember_num']):\n",
    "        for k in range (0, Feldspar.props['endmember_num']):\n",
    "            print ('{0:13.6e}'.format(d3gdm3[i, j, k]), end=' ')\n",
    "        print ('  ', end=' ')\n",
    "    print ()"
   ]
  },
  {
   "cell_type": "markdown",
   "metadata": {},
   "source": [
    "## Enthalpy, Entropy, and molar derivatives:\n",
    "➜ Moles of components, T (K), P (bars) => enthalpy (J)  \n",
    "➜ Moles of components, T (K), P (bars) => entropy (J/K)  \n",
    "➜ Moles of components, T (K), P (bars) => d(entropy)/d(Moles of components) (J/K)  \n",
    "➜ Moles of components, T (K), P (bars) => d^2(entropy)/d(Moles of components)^2 (J/K)  "
   ]
  },
  {
   "cell_type": "code",
   "execution_count": null,
   "metadata": {},
   "outputs": [],
   "source": [
    "print ('Entropy = {0:12.2f} J/K'.format(Feldspar.entropy(t, p, mol=moles_end)))\n",
    "print (\"\")\n",
    "dsdm = Feldspar.entropy(t, p, mol=moles_end, deriv={'dmol':1})[0]\n",
    "d2sdm2 = Feldspar.entropy(t, p, mol=moles_end, deriv={'dmol':2})[0]\n",
    "for i in range (0, Feldspar.props['endmember_num']):\n",
    "    print ('ds/dm[{0:>2d}] = {1:13.6e}     d2sdm2[{0:>2d}][*]:  '.format(i, dsdm[i], i), end=' ')\n",
    "    for j in range (0, Feldspar.props['endmember_num']):\n",
    "        print ('{0:13.6e}'.format(d2sdm2[i, j]), end=' ')\n",
    "    print()"
   ]
  },
  {
   "cell_type": "markdown",
   "metadata": {},
   "source": [
    "## Heat capacity and its derivatives:\n",
    "➜ Moles of components, T (K), P (bars) => isobaric heat capacity (J/K)  \n",
    "➜ Moles of components, T (K), P (bars) => d(isobaric heat capacity)/dT (J/K^2)  \n",
    "➜ Moles of components, T (K), P (bars) => d(isobaric heat capacity)/d(Moles of components) (J/K)  "
   ]
  },
  {
   "cell_type": "code",
   "execution_count": null,
   "metadata": {},
   "outputs": [],
   "source": [
    "print ('{0:<10s}{1:13.6f} {2:<15s}'.format('Cp', Feldspar.heat_capacity(t, p, mol=moles_end), 'J/K'))\n",
    "print ('{0:<10s}{1:13.6f} {2:<15s}'.format('dCp/dT', Feldspar.heat_capacity(t, p, mol=moles_end, deriv={'dT':1}), 'J/K^2'))\n",
    "print (\"\")\n",
    "dcpdm = Feldspar.heat_capacity(t, p, mol=moles_end, deriv={'dmol':1})[0]\n",
    "for i in range (0, Feldspar.props['endmember_num']):\n",
    "    print ('dCp/dm[{0:>2d}]    = {1:13.6e} J/K-m'.format(i, dcpdm[i]))"
   ]
  },
  {
   "cell_type": "markdown",
   "metadata": {},
   "source": [
    "## Volume and its derivatives:\n",
    "➜ Moles of components, T (K), P (bars) => volume (J/bar)  \n",
    "➜ Moles of components, T (K), P (bars) => d(volume)/d(Moles of components) (J/bar)  \n",
    "➜ Moles of components, T (K), P (bars) => d^2(volume)/d(Moles of components)^2 (J/bar)  \n",
    "➜ Moles of components, T (K), P (bars) => d(volume)/dT (J/bar-K)  \n",
    "➜ Moles of components, T (K), P (bars) => d(volume)/dP (J/bar^2)  \n",
    "➜ Moles of components, T (K), P (bars) => d2(volume)/dT^2 (J/bar-K^2)  \n",
    "➜ Moles of components, T (K), P (bars) => d2(volume)/dTdP (J/bar^2-K)  \n",
    "➜ Moles of components, T (K), P (bars) => d2(volume)/dP^2 (J/bar^3)  \n",
    "➜ Moles of components, T (K), P (bars) => d2(volume)/d(Moles of components)dT (J/bar-K)  \n",
    "➜ Moles of components, T (K), P (bars) => d2(volume)/d(Moles of components)dP (J/bar^2)  "
   ]
  },
  {
   "cell_type": "code",
   "execution_count": null,
   "metadata": {},
   "outputs": [],
   "source": [
    "print ('{0:<10s}{1:13.6f} {2:<15s}'.format('Volume', Feldspar.volume(t, p, mol=moles_end), 'J/bar'))\n",
    "print ('{0:<10s}{1:13.6e} {2:<15s}'.format('dvdt', Feldspar.volume(t, p, mol=moles_end, deriv={'dT':1}), 'J/bar-K'))\n",
    "print ('{0:<10s}{1:13.6e} {2:<15s}'.format('dvdp', Feldspar.volume(t, p, mol=moles_end, deriv={'dP':1}), 'J/bar^2'))\n",
    "print ('{0:<10s}{1:13.6e} {2:<15s}'.format('d2vdt2', Feldspar.volume(t, p, mol=moles_end, deriv={'dT':2}), 'J/bar-K^2'))\n",
    "print ('{0:<10s}{1:13.6e} {2:<15s}'.format('d2vdtdp', Feldspar.volume(t, p, mol=moles_end, deriv={'dT':1,'dP':1}),  'J/bar^2-K'))\n",
    "print ('{0:<10s}{1:13.6e} {2:<15s}'.format('d2vdp2', Feldspar.volume(t, p, mol=moles_end, deriv={'dP':2}), 'J/bar^3'))\n",
    "print (\"\")\n",
    "dvdm = Feldspar.volume(t, p, mol=moles_end, deriv={'dmol':1})[0]\n",
    "d2vdm2 = Feldspar.volume(t, p, mol=moles_end, deriv={'dmol':2})[0]\n",
    "for i in range (0, Feldspar.props['endmember_num']):\n",
    "    print ('dv/dm[{0:>2d}] = {1:13.6e} J/bar-m     d2vdm2[{0:>2d}][*]:  '.format(i, dvdm[i], i), end=' ')\n",
    "    for j in range (0, Feldspar.props['endmember_num']):\n",
    "        print ('{0:13.6e}'.format(d2vdm2[i, j]), end=' ')\n",
    "    print('J/bar-m^2')"
   ]
  },
  {
   "cell_type": "markdown",
   "metadata": {},
   "source": [
    "## Accessing properties of solution species:\n",
    "➜ Moles of components, T (K), P (bars) => formulae as an NSString object  \n",
    "➜ Retrieves the name of the solution species at the specified index  \n",
    "➜ Moles of solution species => moles of endmember components  \n",
    "➜ Retrieves an elemental stoichiometry vector for the species at the specified index  \n",
    "➜ Moles of components, T (K), P (bars) => chemical potentials of solution species (J)  "
   ]
  },
  {
   "cell_type": "code",
   "execution_count": null,
   "metadata": {},
   "outputs": [],
   "source": [
    "import numpy as np\n",
    "print ('Composition as a formula = ', Feldspar.compute_formula(t, p, moles_end))\n",
    "mSpecies = np.zeros(Feldspar.props['species_num'])\n",
    "for i in range (0, Feldspar.props['species_num']):\n",
    "    print ('Species = {0:<15.15s}  elms:'.format(Feldspar.props['species_name'][i]), end=' ')\n",
    "    elm = Feldspar.props['species_elms'][i]\n",
    "    for j in range (0, 107):\n",
    "        if elm[j] > 0.0:\n",
    "            print ('[{0:>2.2s}] {1:5.2f}'.format(core.chem.PERIODIC_ORDER[j], elm[j]), end=' ')\n",
    "    print ('   chemical potential = {0:12.2f} J/m'.format(Feldspar.chem_potential(t, p, mol=moles_end, endmember=i, species=True)))\n",
    "    mSpecies[i] = float(i+1)\n",
    "for i in range (0, Feldspar.props['species_num']):\n",
    "    print ('moles of species   [{0:>2d}] = {1:5.2f}'.format(i, mSpecies[i]))\n",
    "mSpToComp = Feldspar.convert_species_to_comp(mSpecies)\n",
    "for i in range (0, Feldspar.props['endmember_num']):\n",
    "    print ('moles of component [{0:>2d}] = {1:5.2f}'.format(i, mSpToComp[i]))"
   ]
  },
  {
   "cell_type": "markdown",
   "metadata": {},
   "source": [
    "## Solution model parameters\n",
    "#### Accessing, modifying, functional derivatives"
   ]
  },
  {
   "cell_type": "code",
   "execution_count": null,
   "metadata": {},
   "outputs": [],
   "source": [
    "if Feldspar.param_props['supports_calib']:\n",
    "    print ('This phase supports the Calibration protocol', end=' ')\n",
    "    np = Feldspar.param_props['param_num']\n",
    "    print ('and there are', np, 'parameters')\n",
    "    for i in range (0, np):\n",
    "        name = Feldspar.param_names[i]\n",
    "        value = Feldspar.get_param_values(param_names=[name])[0]\n",
    "        units = Feldspar.param_units(param_names=[name])[0]\n",
    "        dgdw = Feldspar.gibbs_energy(t, p, mol=moles_end, deriv_param=[name])\n",
    "        print ('Parameter {0:<10.10s} = {1:13.6e} {2:<10.10s} dggw = {3:13.6e}'.format(\n",
    "            name, value, units, Feldspar.gibbs_energy(t, p, mol=moles_end, deriv_param=[name])))\n",
    "        dmudw = Feldspar.gibbs_energy(t, p, mol=moles_end, deriv={'dmol':1}, deriv_param=[name])[0]\n",
    "        print ('   dmu[*]dw:', end=' ')\n",
    "        for j in range (0, Feldspar.props['endmember_num']):\n",
    "            print ('{0:13.6e}'.format(dmudw[j]), end=' ')\n",
    "        print ()\n",
    "    Feldspar.set_param_values(param_names=['whabor','whorab'], param_values=['1.0', '2.0'])\n",
    "    print ()\n",
    "    print('Reset values of whabor and whorab: ', Feldspar.get_param_values(param_names=['whabor','whorab']))\n",
    "else:\n",
    "    print ('This phase does not implement the parameter calibration protocol')"
   ]
  },
  {
   "cell_type": "code",
   "execution_count": null,
   "metadata": {},
   "outputs": [],
   "source": []
  }
 ],
 "metadata": {
  "anaconda-cloud": {},
  "kernelspec": {
   "display_name": "Python 3 (ipykernel)",
   "language": "python",
   "name": "python3"
  },
  "language_info": {
   "codemirror_mode": {
    "name": "ipython",
    "version": 3
   },
   "file_extension": ".py",
   "mimetype": "text/x-python",
   "name": "python",
   "nbconvert_exporter": "python",
   "pygments_lexer": "ipython3",
   "version": "3.9.7"
  }
 },
 "nbformat": 4,
 "nbformat_minor": 4
}
