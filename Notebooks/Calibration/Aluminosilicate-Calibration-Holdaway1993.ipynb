{
 "cells": [
  {
   "cell_type": "markdown",
   "metadata": {},
   "source": [
    "# Plotting of  Aluminosilicate Phase Diagram from Berman(1988) database of pure solid phases (standard state properties)\n",
    "## Data are adjusted datapoints from Holdaway1993\n",
    "## Concepts Demonstrated\n",
    "* Loading a thermodynamic database\n",
    "* Imposing experimental priors"
   ]
  },
  {
   "cell_type": "markdown",
   "metadata": {},
   "source": [
    "## Import libraries ..."
   ]
  },
  {
   "cell_type": "code",
   "execution_count": null,
   "metadata": {},
   "outputs": [],
   "source": [
    "import numpy as np\n",
    "import matplotlib.pyplot as plt\n",
    "\n",
    "%matplotlib notebook\n",
    "import matplotlib as mpl\n",
    "import pandas as pd\n",
    "pd.set_option('display.max_columns', None)\n",
    "from scipy import stats\n",
    "import scipy as sp\n",
    "from scipy.optimize import least_squares\n",
    "\n",
    "import os\n",
    "import sys\n",
    "sys.path.insert(0, '..')\n",
    "sys.path.insert(0, '/Users/msghiorso/ENKI/PhaseObjC')\n",
    "\n",
    "import thermoengine\n",
    "from thermoengine import phases\n",
    "from thermoengine import model\n",
    "from thermoengine import calibrate\n",
    "\n",
    "import importlib\n"
   ]
  },
  {
   "cell_type": "code",
   "execution_count": null,
   "metadata": {},
   "outputs": [],
   "source": []
  },
  {
   "cell_type": "markdown",
   "metadata": {},
   "source": [
    "## Define reusable functions for analysis and visualization\n",
    "* improve code readability\n",
    "* reduce coding errors\n",
    "* speed up debugging"
   ]
  },
  {
   "cell_type": "code",
   "execution_count": null,
   "metadata": {},
   "outputs": [],
   "source": [
    "def get_nice_colors(Ncolor, whitefrac=0.0):\n",
    "    cmap = plt.get_cmap(name='viridis')\n",
    "    ind_a = np.int_(np.round(np.linspace(0,255,Ncolor)))\n",
    "    col_a = np.array([cmap.colors[ind] for ind in ind_a])\n",
    "    col_a = (1-whitefrac)*col_a+whitefrac*np.ones(col_a.shape)\n",
    "    return col_a\n",
    "\n"
   ]
  },
  {
   "cell_type": "code",
   "execution_count": null,
   "metadata": {},
   "outputs": [],
   "source": [
    "def plot_phase_diagram(rxns, rxn_eqns, fig=None, Tlims=[200, 1100], \n",
    "                       show_legend=True):\n",
    "    if fig is None:\n",
    "        fig = plt.figure()\n",
    "        \n",
    "    plt.figure(fig.number)\n",
    "    colors = get_nice_colors(3)\n",
    "    \n",
    "    Tlims = np.array(Tlims)\n",
    "\n",
    "    rxn_bnds = []\n",
    "    T_bnds = []\n",
    "    P_bnds = []\n",
    "\n",
    "    for irxn, irxn_eqn, col in zip(rxns, rxn_eqns, colors):\n",
    "        iTbnds, iPbnds = irxn.trace_boundary(Tlims=Tlims+273.15, Nsamp=100)\n",
    "        T_bnds.append(iTbnds)\n",
    "        P_bnds.append(iPbnds)\n",
    "        istable = irxn.stability(iTbnds, iPbnds, rxns)\n",
    "    \n",
    "        # irxn_bnd, = plt.plot(iTbnds-273.15, iPbnds/1e3, lw=2, color=col)\n",
    "        irxn_bnd, = plt.plot(iTbnds[istable]-273.15, iPbnds[istable]/1e3, '-',\n",
    "                             lw=2, color=col)\n",
    "        irxn_bnd_meta, = plt.plot(iTbnds[~istable]-273.15, iPbnds[~istable]/1e3, '--',\n",
    "                             lw=2, color=col)\n",
    "    \n",
    "        rxn_bnds.append(irxn_bnd)\n",
    "   \n",
    "    \n",
    "\n",
    "    plt.xlabel('Temp.  [C]')\n",
    "    plt.ylabel('Press.  [kbar]')\n",
    "\n",
    "    # plt.plot(data_adj['data']['T'][1:], data_adj['data']['P'][1:], 'k+')\n",
    "\n",
    "    if show_legend:\n",
    "        plt.legend(rxn_bnds, rxn_eqns)\n",
    "\n",
    "    # plt.ylim(-0., 18)\n",
    "    plt.xlim(Tlims)\n",
    "    return fig\n",
    "\n",
    "def plot_rxn_data(rxn_data, fig=None):\n",
    "    if fig is None:\n",
    "        fig = plt.figure()\n",
    "        \n",
    "    plt.figure(fig.number)\n",
    "\n",
    "    for ind_rxn, col in enumerate(get_nice_colors(rxn_data.rxn_num)):   \n",
    "        \n",
    "        imask_fwd = (rxn_data.rxn['rxn_id']==ind_rxn) & (\n",
    "            (rxn_data.rxn['rxn_dir']=='FWD') | (rxn_data.rxn['rxn_dir']=='FWD?'))\n",
    "        imask_rev = (rxn_data.rxn['rxn_id']==ind_rxn) & (\n",
    "            (rxn_data.rxn['rxn_dir']=='REV') | (rxn_data.rxn['rxn_dir']=='REV?'))\n",
    "        \n",
    "        \n",
    "        plt.plot(rxn_data.conditions['T'][imask_fwd]-273.15, \n",
    "                 rxn_data.conditions['P'][imask_fwd]/1e3, 'v', \n",
    "                 color=col, ms=4, mfc='None')\n",
    "        plt.plot(rxn_data.conditions['T'][imask_rev]-273.15, \n",
    "                 rxn_data.conditions['P'][imask_rev]/1e3, '^', \n",
    "                 color=col, ms=4, mfc='None')\n",
    "    \n",
    "    return fig\n"
   ]
  },
  {
   "cell_type": "code",
   "execution_count": null,
   "metadata": {},
   "outputs": [],
   "source": []
  },
  {
   "cell_type": "code",
   "execution_count": null,
   "metadata": {},
   "outputs": [],
   "source": [
    "data_adj = pd.read_excel(\n",
    "    'phase-rxn-data/Al2SiO5-calib-data-reformat-Holdaway1993.xlsx',\n",
    "    sheet_name=None)"
   ]
  },
  {
   "cell_type": "code",
   "execution_count": null,
   "metadata": {},
   "outputs": [],
   "source": [
    "prior = pd.read_excel('phase-rxn-data/priors.xlsx')"
   ]
  },
  {
   "cell_type": "code",
   "execution_count": null,
   "metadata": {},
   "outputs": [],
   "source": [
    "V0_prior = prior.loc[prior['param_name']=='V0'].reset_index(drop=True)\n",
    "H0_prior = prior.loc[prior['param_name']=='H0'].reset_index(drop=True)\n",
    "S0_prior = prior.loc[prior['param_name']=='S0'].reset_index(drop=True)"
   ]
  },
  {
   "cell_type": "code",
   "execution_count": null,
   "metadata": {},
   "outputs": [],
   "source": [
    "for i in V0_prior.loc[[False,False,False]]:\n",
    "    print(i)"
   ]
  },
  {
   "cell_type": "code",
   "execution_count": null,
   "metadata": {},
   "outputs": [],
   "source": [
    "S0_prior"
   ]
  },
  {
   "cell_type": "code",
   "execution_count": null,
   "metadata": {},
   "outputs": [],
   "source": [
    "H0_prior['param_value']"
   ]
  },
  {
   "cell_type": "code",
   "execution_count": null,
   "metadata": {},
   "outputs": [],
   "source": [
    "H0_prior['param_error']"
   ]
  },
  {
   "cell_type": "code",
   "execution_count": null,
   "metadata": {},
   "outputs": [],
   "source": []
  },
  {
   "cell_type": "code",
   "execution_count": null,
   "metadata": {},
   "outputs": [],
   "source": []
  },
  {
   "cell_type": "code",
   "execution_count": null,
   "metadata": {},
   "outputs": [],
   "source": []
  },
  {
   "cell_type": "code",
   "execution_count": null,
   "metadata": {},
   "outputs": [],
   "source": [
    "rxn_data = calibrate.RxnData(data_adj)\n",
    "\n",
    "display('reference: ', rxn_data.reference.head())\n",
    "display('setup: ', rxn_data.setup.head())\n",
    "display('conditions: ', rxn_data.conditions.head())\n",
    "display('rxn: ', rxn_data.rxn.head())"
   ]
  },
  {
   "cell_type": "code",
   "execution_count": null,
   "metadata": {},
   "outputs": [],
   "source": [
    "calibDB = calibrate.Database(rxn_data, ignore_kinetics=True, \n",
    "                             ref_energy_phases=['And'], phase_priors=prior)"
   ]
  },
  {
   "cell_type": "code",
   "execution_count": null,
   "metadata": {},
   "outputs": [],
   "source": [
    "param_group_dH0 = calibDB.get_param_group(kind='phase',base='dH0')\n",
    "calibDB.param_values(param_group=param_group_dH0)"
   ]
  },
  {
   "cell_type": "code",
   "execution_count": null,
   "metadata": {},
   "outputs": [],
   "source": [
    "calibDB._get_ref_energy(calibDB.phases[2])"
   ]
  },
  {
   "cell_type": "code",
   "execution_count": null,
   "metadata": {},
   "outputs": [],
   "source": [
    "H0_P0 = calibDB.phases[0].get_param_values(param_names='delta H')\n",
    "H0_P1 = calibDB.phases[1].get_param_values(param_names='delta H')\n",
    "H0_P2 = calibDB.phases[2].get_param_values(param_names='delta H')\n",
    "\n",
    "[H0_P1-H0_P0, H0_P2-H0_P0]"
   ]
  },
  {
   "cell_type": "code",
   "execution_count": null,
   "metadata": {},
   "outputs": [],
   "source": []
  },
  {
   "cell_type": "code",
   "execution_count": null,
   "metadata": {},
   "outputs": [],
   "source": []
  },
  {
   "cell_type": "code",
   "execution_count": null,
   "metadata": {},
   "outputs": [],
   "source": [
    "calibDB._param_values"
   ]
  },
  {
   "cell_type": "code",
   "execution_count": null,
   "metadata": {},
   "outputs": [],
   "source": [
    "param_group = calibDB.get_param_group(kind='all', base='V0')\n",
    "calibDB.add_free_params(param_group)"
   ]
  },
  {
   "cell_type": "code",
   "execution_count": null,
   "metadata": {},
   "outputs": [],
   "source": [
    "param_values0 = calibDB.param_values()\n",
    "param_values0"
   ]
  },
  {
   "cell_type": "code",
   "execution_count": null,
   "metadata": {},
   "outputs": [],
   "source": [
    "calibDB.eval_model_costfun(param_values0)"
   ]
  },
  {
   "cell_type": "code",
   "execution_count": null,
   "metadata": {},
   "outputs": [],
   "source": []
  },
  {
   "cell_type": "code",
   "execution_count": null,
   "metadata": {},
   "outputs": [],
   "source": [
    "calibDB.get_param_group(kind='all', base='dH0')"
   ]
  },
  {
   "cell_type": "code",
   "execution_count": null,
   "metadata": {},
   "outputs": [],
   "source": [
    "param_group = calibDB.get_param_group(kind='phase', base='dH0')\n",
    "param_group"
   ]
  },
  {
   "cell_type": "code",
   "execution_count": null,
   "metadata": {},
   "outputs": [],
   "source": [
    "calibDB.param_values(param_group=param_group, scale_params=False)"
   ]
  },
  {
   "cell_type": "code",
   "execution_count": null,
   "metadata": {},
   "outputs": [],
   "source": [
    "param_group = calibDB.get_param_group(kind='all')\n",
    "calibDB.param_scales(param_group=param_group)"
   ]
  },
  {
   "cell_type": "code",
   "execution_count": null,
   "metadata": {},
   "outputs": [],
   "source": []
  },
  {
   "cell_type": "code",
   "execution_count": null,
   "metadata": {},
   "outputs": [],
   "source": [
    "-2593.8--2589.9"
   ]
  },
  {
   "cell_type": "code",
   "execution_count": null,
   "metadata": {},
   "outputs": [],
   "source": [
    "-2586.1--2589.9"
   ]
  },
  {
   "cell_type": "code",
   "execution_count": null,
   "metadata": {},
   "outputs": [],
   "source": []
  },
  {
   "cell_type": "code",
   "execution_count": null,
   "metadata": {},
   "outputs": [],
   "source": [
    "fig = plot_phase_diagram(calibDB.rxns, calibDB.rxn_eqns)\n",
    "plot_rxn_data(calibDB.rxn_data, fig=fig);"
   ]
  },
  {
   "cell_type": "code",
   "execution_count": null,
   "metadata": {},
   "outputs": [],
   "source": []
  },
  {
   "cell_type": "code",
   "execution_count": null,
   "metadata": {},
   "outputs": [],
   "source": []
  },
  {
   "cell_type": "code",
   "execution_count": null,
   "metadata": {},
   "outputs": [],
   "source": []
  },
  {
   "cell_type": "code",
   "execution_count": null,
   "metadata": {},
   "outputs": [],
   "source": [
    "rxn_affinity = pd.Series(calibDB.rxn_affinity(), name='affinity')\n",
    "rxn_affinity_err = pd.Series(calibDB.rxn_affinity_error(), name='affinity_err')\n",
    "pd.concat((calibDB.rxn_data.rxn, rxn_affinity, rxn_affinity_err) , axis=1)"
   ]
  },
  {
   "cell_type": "code",
   "execution_count": null,
   "metadata": {},
   "outputs": [],
   "source": [
    "(rxn_affinity/rxn_affinity_err).head()"
   ]
  },
  {
   "cell_type": "code",
   "execution_count": null,
   "metadata": {},
   "outputs": [],
   "source": [
    "affinity = pd.Series(calibDB.rxn_affinity(), name='affinity')\n",
    "affinity_err = .01*pd.Series(calibDB.rxn_affinity_error(), name='affinity_err')\n",
    "affinity_thresh = 0*np.ones(affinity.shape)\n",
    "rxn_dir = calibDB.rxn_data.rxn['rxn_dir']\n",
    "\n",
    "np.exp(np.mean(calibrate.Stats.logprob_rxn_dir(\n",
    "    rxn_dir, affinity, affinity_thresh, affinity_err)))"
   ]
  },
  {
   "cell_type": "code",
   "execution_count": null,
   "metadata": {},
   "outputs": [],
   "source": []
  },
  {
   "cell_type": "code",
   "execution_count": null,
   "metadata": {},
   "outputs": [],
   "source": [
    "param_group = calibDB.get_param_group(kind='all', base='V0')\n",
    "print(param_group)\n",
    "calibDB.add_free_params(param_group)"
   ]
  },
  {
   "cell_type": "code",
   "execution_count": null,
   "metadata": {},
   "outputs": [],
   "source": [
    "param_group = calibDB.get_param_group(kind='phase')\n",
    "print(param_group)\n",
    "calibDB.add_free_params(param_group)"
   ]
  },
  {
   "cell_type": "code",
   "execution_count": null,
   "metadata": {},
   "outputs": [],
   "source": []
  },
  {
   "cell_type": "code",
   "execution_count": null,
   "metadata": {},
   "outputs": [],
   "source": [
    "param_values0 = calibDB.param_values(param_group=param_group)\n",
    "print(param_values0)"
   ]
  },
  {
   "cell_type": "code",
   "execution_count": null,
   "metadata": {},
   "outputs": [],
   "source": [
    "calibDB.get_param_group(free=True)"
   ]
  },
  {
   "cell_type": "code",
   "execution_count": null,
   "metadata": {},
   "outputs": [],
   "source": [
    "\n",
    "calibDB.eval_model_costfun(param_values0)"
   ]
  },
  {
   "cell_type": "code",
   "execution_count": null,
   "metadata": {},
   "outputs": [],
   "source": []
  },
  {
   "cell_type": "code",
   "execution_count": null,
   "metadata": {},
   "outputs": [],
   "source": [
    "fit = calibDB.fit_model()"
   ]
  },
  {
   "cell_type": "code",
   "execution_count": null,
   "metadata": {},
   "outputs": [],
   "source": []
  },
  {
   "cell_type": "code",
   "execution_count": null,
   "metadata": {},
   "outputs": [],
   "source": []
  },
  {
   "cell_type": "code",
   "execution_count": null,
   "metadata": {},
   "outputs": [],
   "source": [
    "fig = plot_phase_diagram(calibDB.rxns, calibDB.rxn_eqns)\n",
    "plot_rxn_data(calibDB.rxn_data, fig=fig);"
   ]
  },
  {
   "cell_type": "code",
   "execution_count": null,
   "metadata": {},
   "outputs": [],
   "source": []
  },
  {
   "cell_type": "markdown",
   "metadata": {},
   "source": [
    "# Manual adjustment of parameters to check calib"
   ]
  },
  {
   "cell_type": "code",
   "execution_count": null,
   "metadata": {},
   "outputs": [],
   "source": [
    "param_group = calibDB.get_param_group(kind='all', base='V0')\n",
    "calibDB.add_free_params(param_group)"
   ]
  },
  {
   "cell_type": "code",
   "execution_count": null,
   "metadata": {},
   "outputs": [],
   "source": [
    "param_vals = calibDB.param_values(param_group=param_group)\n",
    "calibDB.set_param_values(1.5*param_vals, param_group=param_group)"
   ]
  },
  {
   "cell_type": "code",
   "execution_count": null,
   "metadata": {},
   "outputs": [],
   "source": [
    "calibDB.param_values(param_group=param_group)"
   ]
  },
  {
   "cell_type": "code",
   "execution_count": null,
   "metadata": {},
   "outputs": [],
   "source": [
    "ind = calibDB._get_param_group_index(param_group)"
   ]
  },
  {
   "cell_type": "code",
   "execution_count": null,
   "metadata": {},
   "outputs": [],
   "source": [
    "calibDB._param_names[ind]"
   ]
  },
  {
   "cell_type": "code",
   "execution_count": null,
   "metadata": {},
   "outputs": [],
   "source": [
    "calibDB._param_values"
   ]
  },
  {
   "cell_type": "code",
   "execution_count": null,
   "metadata": {},
   "outputs": [],
   "source": [
    "calibDB.param_values(param_group=param_group)"
   ]
  },
  {
   "cell_type": "code",
   "execution_count": null,
   "metadata": {},
   "outputs": [],
   "source": [
    "fig = plot_phase_diagram(calibDB.rxns, calibDB.rxn_eqns, Tlims=[200, 1100], \n",
    "                         show_legend=True)\n",
    "fig = plot_rxn_data(calibDB.rxn_data, fig=fig)"
   ]
  },
  {
   "cell_type": "code",
   "execution_count": null,
   "metadata": {},
   "outputs": [],
   "source": []
  },
  {
   "cell_type": "code",
   "execution_count": null,
   "metadata": {},
   "outputs": [],
   "source": [
    "param_vals = calibDB.param_values(param_group=param_group)"
   ]
  },
  {
   "cell_type": "code",
   "execution_count": null,
   "metadata": {},
   "outputs": [],
   "source": [
    "calibDB.set_param_values(param_vals)"
   ]
  },
  {
   "cell_type": "code",
   "execution_count": null,
   "metadata": {},
   "outputs": [],
   "source": [
    "param_values0 = calibDB.param_values()"
   ]
  },
  {
   "cell_type": "code",
   "execution_count": null,
   "metadata": {},
   "outputs": [],
   "source": []
  },
  {
   "cell_type": "code",
   "execution_count": null,
   "metadata": {},
   "outputs": [],
   "source": [
    "rxn_affinity_err"
   ]
  },
  {
   "cell_type": "code",
   "execution_count": null,
   "metadata": {},
   "outputs": [],
   "source": []
  },
  {
   "cell_type": "code",
   "execution_count": null,
   "metadata": {},
   "outputs": [],
   "source": []
  },
  {
   "cell_type": "code",
   "execution_count": null,
   "metadata": {},
   "outputs": [],
   "source": [
    "calibDB.param_names()"
   ]
  },
  {
   "cell_type": "code",
   "execution_count": null,
   "metadata": {},
   "outputs": [],
   "source": [
    "calibDB.param_values()"
   ]
  },
  {
   "cell_type": "code",
   "execution_count": null,
   "metadata": {},
   "outputs": [],
   "source": []
  },
  {
   "cell_type": "code",
   "execution_count": null,
   "metadata": {},
   "outputs": [],
   "source": []
  },
  {
   "cell_type": "code",
   "execution_count": null,
   "metadata": {},
   "outputs": [],
   "source": []
  },
  {
   "cell_type": "code",
   "execution_count": null,
   "metadata": {},
   "outputs": [],
   "source": [
    "pd.concat((calibDB.rxn_data.rxn, rxn_affinity, rxn_affinity_err) , axis=1)\n"
   ]
  },
  {
   "cell_type": "code",
   "execution_count": null,
   "metadata": {},
   "outputs": [],
   "source": []
  },
  {
   "cell_type": "code",
   "execution_count": null,
   "metadata": {},
   "outputs": [],
   "source": []
  },
  {
   "cell_type": "code",
   "execution_count": null,
   "metadata": {},
   "outputs": [],
   "source": [
    "np.exp(calibrate.Stats.logprob_rxn_dir(rxn_dir, affinity, affinity_thresh, \n",
    "                                affinity_err))"
   ]
  },
  {
   "cell_type": "code",
   "execution_count": null,
   "metadata": {},
   "outputs": [],
   "source": []
  }
 ],
 "metadata": {
  "anaconda-cloud": {},
  "kernelspec": {
   "display_name": "Python 3",
   "language": "python",
   "name": "python3"
  },
  "language_info": {
   "codemirror_mode": {
    "name": "ipython",
    "version": 3
   },
   "file_extension": ".py",
   "mimetype": "text/x-python",
   "name": "python",
   "nbconvert_exporter": "python",
   "pygments_lexer": "ipython3",
   "version": "3.6.2"
  }
 },
 "nbformat": 4,
 "nbformat_minor": 1
}
