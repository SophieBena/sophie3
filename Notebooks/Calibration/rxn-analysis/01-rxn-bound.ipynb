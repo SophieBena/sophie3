{
 "cells": [
  {
   "cell_type": "markdown",
   "metadata": {},
   "source": [
    "# Obtain valid set of reactions \n",
    "Required Python code to load pertinent modules."
   ]
  },
  {
   "cell_type": "code",
   "execution_count": null,
   "metadata": {},
   "outputs": [],
   "source": [
    "%run \"core.ipynb\"\n",
    "analysis = load_analysis()"
   ]
  },
  {
   "cell_type": "code",
   "execution_count": null,
   "metadata": {},
   "outputs": [],
   "source": []
  },
  {
   "cell_type": "code",
   "execution_count": null,
   "metadata": {},
   "outputs": [],
   "source": [
    "modelDB = thermo.model.Database()"
   ]
  },
  {
   "cell_type": "markdown",
   "metadata": {},
   "source": [
    "## Rxn boundary from Berman (1988)\n",
    "### Spl + 2En = Fo + Py\n",
    "![](rxn_bound_berman1988.png)"
   ]
  },
  {
   "cell_type": "markdown",
   "metadata": {},
   "source": [
    "# Create rxn for nearly pure phases"
   ]
  },
  {
   "cell_type": "code",
   "execution_count": null,
   "metadata": {},
   "outputs": [],
   "source": [
    "phase_symbols = ['SplS','Opx','Ol','Grt']\n",
    "endmember_ids = [3, 1, 5, 2]\n",
    "\n",
    "mols = {}\n",
    "\n",
    "for sym, endmem_id in zip(phase_symbols, endmember_ids):\n",
    "    iphs = modelDB.get_phase(sym)\n",
    "    imol = 1e-3*np.ones(iphs.endmember_num)\n",
    "    imol[endmem_id] = 1.0\n",
    "    mols[sym] = imol\n",
    "    print(iphs.endmember_names[endmem_id])"
   ]
  },
  {
   "cell_type": "code",
   "execution_count": null,
   "metadata": {},
   "outputs": [],
   "source": [
    "mols"
   ]
  },
  {
   "cell_type": "code",
   "execution_count": null,
   "metadata": {},
   "outputs": [],
   "source": [
    "rxn_coefs = np.array([-7.0, -20, 7, 20])\n",
    "rxn_coefs /= 0.5*np.sum(np.abs(rxn_coefs))\n",
    "print(rxn_coefs)"
   ]
  },
  {
   "cell_type": "code",
   "execution_count": null,
   "metadata": {},
   "outputs": [],
   "source": []
  },
  {
   "cell_type": "code",
   "execution_count": null,
   "metadata": {},
   "outputs": [],
   "source": [
    "rxn_pyr = modelDB.get_rxn(phase_symbols, endmember_ids, rxn_coefs, \n",
    "                          coefs_per_atom=True)\n"
   ]
  },
  {
   "cell_type": "code",
   "execution_count": null,
   "metadata": {},
   "outputs": [],
   "source": []
  },
  {
   "cell_type": "code",
   "execution_count": null,
   "metadata": {},
   "outputs": [],
   "source": [
    "rxn_pyr.affinity(1373.0, 18500.0, mols=mols)"
   ]
  },
  {
   "cell_type": "code",
   "execution_count": null,
   "metadata": {},
   "outputs": [],
   "source": []
  },
  {
   "cell_type": "code",
   "execution_count": null,
   "metadata": {},
   "outputs": [],
   "source": [
    "Tbnd_ref = 1373.0\n",
    "Pbnd_ref = rxn_pyr.boundary(T=Tbnd_ref, mols=mols, init_guess=18500.0)[0]"
   ]
  },
  {
   "cell_type": "code",
   "execution_count": null,
   "metadata": {},
   "outputs": [],
   "source": [
    "print(Tbnd_ref, ' [C] , ', Pbnd_ref, ' [bars]')"
   ]
  },
  {
   "cell_type": "code",
   "execution_count": null,
   "metadata": {},
   "outputs": [],
   "source": []
  },
  {
   "cell_type": "code",
   "execution_count": null,
   "metadata": {},
   "outputs": [],
   "source": [
    "Trxn_bnd = np.linspace(900,2000,31)\n",
    "Prxn_bnd = np.zeros(Trxn_bnd.shape)\n",
    "\n",
    "for ind, iT in enumerate(Trxn_bnd):\n",
    "    Prxn_bnd[ind] = rxn_pyr.boundary(T=iT, mols=mols, init_guess=18000.0)"
   ]
  },
  {
   "cell_type": "code",
   "execution_count": null,
   "metadata": {},
   "outputs": [],
   "source": [
    "plt.figure()\n",
    "plt.plot(Trxn_bnd-273, Prxn_bnd/1e3, 'k-')\n",
    "plt.ylim(10,35)\n",
    "\n",
    "plt.xlabel('T (C)')\n",
    "plt.ylabel('P (kbar)')"
   ]
  },
  {
   "cell_type": "code",
   "execution_count": null,
   "metadata": {},
   "outputs": [],
   "source": []
  },
  {
   "cell_type": "code",
   "execution_count": null,
   "metadata": {},
   "outputs": [],
   "source": []
  },
  {
   "cell_type": "code",
   "execution_count": null,
   "metadata": {},
   "outputs": [],
   "source": []
  }
 ],
 "metadata": {
  "kernelspec": {
   "display_name": "Python 3",
   "language": "python",
   "name": "python3"
  },
  "language_info": {
   "codemirror_mode": {
    "name": "ipython",
    "version": 3
   },
   "file_extension": ".py",
   "mimetype": "text/x-python",
   "name": "python",
   "nbconvert_exporter": "python",
   "pygments_lexer": "ipython3",
   "version": "3.6.2"
  }
 },
 "nbformat": 4,
 "nbformat_minor": 2
}
