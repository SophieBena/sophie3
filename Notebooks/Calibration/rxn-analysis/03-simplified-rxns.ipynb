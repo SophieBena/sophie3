{
 "cells": [
  {
   "cell_type": "markdown",
   "metadata": {},
   "source": [
    "# Obtain valid set of reactions \n",
    "Required Python code to load pertinent modules."
   ]
  },
  {
   "cell_type": "code",
   "execution_count": null,
   "metadata": {},
   "outputs": [],
   "source": [
    "%run \"core.ipynb\"\n",
    "analysis = load_analysis()\n",
    "\n",
    "rxn_svd = analysis['rxn_svd']\n",
    "svd_props = analysis['svd_props']"
   ]
  },
  {
   "cell_type": "code",
   "execution_count": null,
   "metadata": {},
   "outputs": [],
   "source": []
  },
  {
   "cell_type": "code",
   "execution_count": null,
   "metadata": {},
   "outputs": [],
   "source": [
    "modelDB = thermo.model.Database()"
   ]
  },
  {
   "cell_type": "code",
   "execution_count": null,
   "metadata": {},
   "outputs": [],
   "source": []
  },
  {
   "cell_type": "markdown",
   "metadata": {},
   "source": [
    "# Use Laplacian prior to obtain sparse rxn set\n",
    "![](laplace_prior.png)\n",
    "\n",
    "\n",
    "## Normal Distribution\n",
    "$$\n",
    "P(x) = \\frac{1}{\\sqrt{2\\pi}\\sigma}\\exp\\left[-\\frac12 \\left(\\frac{x}{\\sigma}\\right)^2\\right]\n",
    "$$\n",
    "\n",
    "## Laplace Distribution\n",
    "$$\n",
    "P(x) = \\frac{1}{2b}\\exp\\left(-\\frac{\\lvert{x}\\rvert}{b}\\right)\n",
    "$$\n",
    "\n",
    "## Prior Cost function\n",
    "$$\n",
    "\\textrm{Prior Cost} = - \\log P(x)\n",
    "$$"
   ]
  },
  {
   "cell_type": "code",
   "execution_count": null,
   "metadata": {},
   "outputs": [],
   "source": []
  },
  {
   "cell_type": "code",
   "execution_count": null,
   "metadata": {},
   "outputs": [],
   "source": [
    "wtcoefs, costs, rxn_coefs, wtcoefs_ortho = thermo.chem.get_rxns(\n",
    "    rxn_svd, lasso_scale=.003, Ndraw=10)"
   ]
  },
  {
   "cell_type": "code",
   "execution_count": null,
   "metadata": {},
   "outputs": [],
   "source": [
    "plt.figure()\n",
    "plt.imshow(rxn_coefs, cmap='seismic', vmin=-.8, vmax=.8)\n",
    "plt.ylabel('rxn #')\n",
    "plt.xlabel('endmembers')\n",
    "ax = plt.gca()\n",
    "ax.set_xticks(np.arange(16))\n",
    "ax.set_xticklabels(svd_props['all_endmember_name'], \n",
    "                   rotation='vertical')\n",
    "\n",
    "plt.colorbar(orientation='horizontal',pad=+.5)\n",
    "\n",
    "plt.show()"
   ]
  },
  {
   "cell_type": "code",
   "execution_count": null,
   "metadata": {},
   "outputs": [],
   "source": []
  }
 ],
 "metadata": {
  "kernelspec": {
   "display_name": "Python 3",
   "language": "python",
   "name": "python3"
  },
  "language_info": {
   "codemirror_mode": {
    "name": "ipython",
    "version": 3
   },
   "file_extension": ".py",
   "mimetype": "text/x-python",
   "name": "python",
   "nbconvert_exporter": "python",
   "pygments_lexer": "ipython3",
   "version": "3.6.2"
  }
 },
 "nbformat": 4,
 "nbformat_minor": 2
}
