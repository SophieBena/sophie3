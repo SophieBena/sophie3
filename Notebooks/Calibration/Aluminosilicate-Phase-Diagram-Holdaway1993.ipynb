{
 "cells": [
  {
   "cell_type": "markdown",
   "metadata": {},
   "source": [
    "# Plotting of  Aluminosilicate Phase Diagram from Berman(1988) database of pure solid phases (standard state properties)\n",
    "## Data are adjusted datapoints from Holdaway1993\n",
    "## Concepts Demonstrated\n",
    "* Loading a thermodynamic database\n",
    "* Imposing experimental priors"
   ]
  },
  {
   "cell_type": "markdown",
   "metadata": {},
   "source": [
    "## Import libraries ..."
   ]
  },
  {
   "cell_type": "code",
   "execution_count": null,
   "metadata": {},
   "outputs": [],
   "source": [
    "import numpy as np\n",
    "import matplotlib.pyplot as plt\n",
    "\n",
    "%matplotlib notebook\n",
    "import matplotlib as mpl\n",
    "import pandas as pd\n",
    "pd.set_option('display.max_columns', None)\n",
    "from scipy import stats\n",
    "\n",
    "import os\n",
    "import sys\n",
    "sys.path.insert(0, '..')\n",
    "sys.path.insert(0, '/Users/msghiorso/ENKI/PhaseObjC')\n",
    "\n",
    "import thermoengine\n",
    "from thermoengine import phases\n",
    "from thermoengine import model\n",
    "\n",
    "import importlib\n"
   ]
  },
  {
   "cell_type": "markdown",
   "metadata": {},
   "source": [
    "## Define reusable functions for analysis and visualization\n",
    "* improve code readability\n",
    "* reduce coding errors\n",
    "* speed up debugging"
   ]
  },
  {
   "cell_type": "code",
   "execution_count": null,
   "metadata": {},
   "outputs": [],
   "source": [
    "def get_nice_colors(Ncolor,whitefrac=0.0):\n",
    "    cmap = plt.get_cmap(name='viridis')\n",
    "    ind_a = np.int_(np.round(np.linspace(0,255,Ncolor)))\n",
    "    col_a = np.array([cmap.colors[ind] for ind in ind_a])\n",
    "    col_a = (1-whitefrac)*col_a+whitefrac*np.ones(col_a.shape)\n",
    "    return col_a\n",
    "\n"
   ]
  },
  {
   "cell_type": "code",
   "execution_count": null,
   "metadata": {},
   "outputs": [],
   "source": [
    "def plot_phase_diagram(rxns, rxn_eqns, fig=None, Tlims=[200, 1100], \n",
    "                       show_legend=True):\n",
    "    if fig is None:\n",
    "        fig = plt.figure()\n",
    "        \n",
    "    plt.figure(fig.number)\n",
    "    colors = get_nice_colors(3)\n",
    "    \n",
    "    Tlims = np.array(Tlims)\n",
    "\n",
    "    rxn_bnds = []\n",
    "    T_bnds = []\n",
    "    P_bnds = []\n",
    "\n",
    "    for irxn, irxn_eqn, col in zip(rxns, rxn_eqns, colors):\n",
    "        iTbnds, iPbnds = irxn.trace_boundary(Tlims=Tlims+273.15, Nsamp=100)\n",
    "        T_bnds.append(iTbnds)\n",
    "        P_bnds.append(iPbnds)\n",
    "        istable = irxn.stability(iTbnds, iPbnds, rxns)\n",
    "    \n",
    "        # irxn_bnd, = plt.plot(iTbnds-273.15, iPbnds/1e3, lw=2, color=col)\n",
    "        irxn_bnd, = plt.plot(iTbnds[istable]-273.15, iPbnds[istable]/1e3, '-',\n",
    "                             lw=2, color=col)\n",
    "        irxn_bnd_meta, = plt.plot(iTbnds[~istable]-273.15, iPbnds[~istable]/1e3, '--',\n",
    "                             lw=2, color=col)\n",
    "    \n",
    "        rxn_bnds.append(irxn_bnd)\n",
    "   \n",
    "    \n",
    "\n",
    "    plt.xlabel('Temp.  [C]')\n",
    "    plt.ylabel('Press.  [kbar]')\n",
    "\n",
    "    # plt.plot(data_adj['data']['T'][1:], data_adj['data']['P'][1:], 'k+')\n",
    "\n",
    "    if show_legend:\n",
    "        plt.legend(rxn_bnds, rxn_eqns)\n",
    "\n",
    "    # plt.ylim(-0., 18)\n",
    "    plt.xlim(Tlims)\n",
    "    return fig\n",
    "\n",
    "def plot_rxn_data(df, fig=None):\n",
    "    if fig is None:\n",
    "        fig = plt.figure()\n",
    "        \n",
    "    plt.figure(fig.number)\n",
    "    colors = get_nice_colors(3)\n",
    "\n",
    "    for irxn, irxn_eqn, col in zip(rxns, rxn_eqns, colors):   \n",
    "        imask_fwd = (df['rxn_studied']==irxn_eqn) & (df['rxn_dir']==1)\n",
    "        imask_rev = (df['rxn_studied']==irxn_eqn) & (df['rxn_dir']==-1)\n",
    "        \n",
    "        plt.plot(df['T'][imask_fwd], df['P'][imask_fwd], 'v', \n",
    "                 color=col, ms=4, mfc='None')\n",
    "        plt.plot(df['T'][imask_rev], df['P'][imask_rev], '^', \n",
    "                 color=col, ms=4, mfc='None')\n",
    "    \n",
    "    return fig\n"
   ]
  },
  {
   "cell_type": "code",
   "execution_count": null,
   "metadata": {},
   "outputs": [],
   "source": []
  },
  {
   "cell_type": "code",
   "execution_count": null,
   "metadata": {},
   "outputs": [],
   "source": [
    "modelDB = model.Database()"
   ]
  },
  {
   "cell_type": "code",
   "execution_count": null,
   "metadata": {},
   "outputs": [],
   "source": []
  },
  {
   "cell_type": "code",
   "execution_count": null,
   "metadata": {},
   "outputs": [],
   "source": [
    "rxn_coef = [-1, +1]\n",
    "rxn_endmem = [0, 0]\n",
    "\n",
    "# Create reactions\n",
    "rxns = []\n",
    "rxns.append(modelDB.get_rxn(['And','Ky'], rxn_endmem, rxn_coef))\n",
    "rxns.append(modelDB.get_rxn(['And','Sil'], rxn_endmem, rxn_coef))\n",
    "rxns.append(modelDB.get_rxn(['Sil','Ky'], rxn_endmem, rxn_coef))\n",
    "\n",
    "# Create labels for legend\n",
    "rxn_eqns = []\n",
    "rxn_eqns.append('And = Ky')\n",
    "rxn_eqns.append('And = Sil')\n",
    "rxn_eqns.append('Sil = Ky')\n"
   ]
  },
  {
   "cell_type": "code",
   "execution_count": null,
   "metadata": {},
   "outputs": [],
   "source": []
  },
  {
   "cell_type": "code",
   "execution_count": null,
   "metadata": {},
   "outputs": [],
   "source": [
    "# Read data\n",
    "data_adj = pd.read_excel(\n",
    "    'phase-rxn-data/Al2SiO5-calib-data-Holdaway1993.xlsx',\n",
    "    sheet_name=None)\n",
    "\n",
    "\n",
    "df = data_adj['data'][1:].reset_index(drop=True)\n",
    "rxn_dir = pd.Series(np.zeros(df.shape[0]))\n",
    "\n",
    "for irxn, irxn_eqn in zip(rxns, rxn_eqns):\n",
    "    imask = df['rxn_studied']==irxn_eqn\n",
    "    iresults = pd.DataFrame([pd.Series(df[imask]['results'].str.startswith(iphs),name=iphs) \n",
    "                         for iphs in irxn.phase_symbols]).T\n",
    "    \n",
    "    irxn_dir = np.dot(irxn.rxn_coefs, \n",
    "                      np.array([df[imask]['results'].str.startswith(iphs)\n",
    "                                for iphs in irxn.phase_symbols]))\n",
    "    rxn_dir[imask] = irxn_dir\n",
    "    \n",
    "df['rxn_dir'] = rxn_dir"
   ]
  },
  {
   "cell_type": "code",
   "execution_count": null,
   "metadata": {},
   "outputs": [],
   "source": []
  },
  {
   "cell_type": "code",
   "execution_count": null,
   "metadata": {},
   "outputs": [],
   "source": []
  },
  {
   "cell_type": "code",
   "execution_count": null,
   "metadata": {},
   "outputs": [],
   "source": [
    "fig = plot_phase_diagram(rxns, rxn_eqns, Tlims=[200, 1100], \n",
    "                         show_legend=True)\n",
    "fig = plot_rxn_data(df, fig=fig)"
   ]
  },
  {
   "cell_type": "code",
   "execution_count": null,
   "metadata": {},
   "outputs": [],
   "source": []
  }
 ],
 "metadata": {
  "anaconda-cloud": {},
  "kernelspec": {
   "display_name": "Python 3",
   "language": "python",
   "name": "python3"
  },
  "language_info": {
   "codemirror_mode": {
    "name": "ipython",
    "version": 3
   },
   "file_extension": ".py",
   "mimetype": "text/x-python",
   "name": "python",
   "nbconvert_exporter": "python",
   "pygments_lexer": "ipython3",
   "version": "3.6.2"
  }
 },
 "nbformat": 4,
 "nbformat_minor": 1
}
