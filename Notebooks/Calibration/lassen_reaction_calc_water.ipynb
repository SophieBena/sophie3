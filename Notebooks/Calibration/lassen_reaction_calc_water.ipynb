{
 "cells": [
  {
   "cell_type": "code",
   "execution_count": 1,
   "id": "5154c561",
   "metadata": {},
   "outputs": [],
   "source": [
    "import matplotlib.pyplot as plt\n",
    "import numpy as np\n",
    "%matplotlib inline\n",
    "from thermoengine import core, phases, model"
   ]
  },
  {
   "cell_type": "code",
   "execution_count": 2,
   "id": "43193b23",
   "metadata": {},
   "outputs": [],
   "source": [
    "modelDB = model.Database()\n",
    "#modelDBStix = model.Database(database='Stixrude')\n",
    "modelDBHP = model.Database(database='HollandAndPowell')"
   ]
  },
  {
   "cell_type": "markdown",
   "id": "31c620c5",
   "metadata": {},
   "source": [
    "## Dacite reaction 1"
   ]
  },
  {
   "cell_type": "markdown",
   "id": "4a0ac290",
   "metadata": {},
   "source": [
    "#### Relevant phases"
   ]
  },
  {
   "cell_type": "code",
   "execution_count": 3,
   "id": "4e15e43c",
   "metadata": {},
   "outputs": [],
   "source": [
    "hbl_Berman = modelDB.get_phase('Hbl')\n",
    "qz_Berman = modelDB.get_phase('Qz')\n",
    "sp_Berman = modelDB.get_phase('Spl')\n",
    "an_Berman = modelDB.get_phase('An')\n",
    "ab_Berman = modelDB.get_phase('Ab')\n",
    "en_Berman = modelDB.get_phase('cEn')\n",
    "water_Berman = modelDB.get_phase('H2O')"
   ]
  },
  {
   "cell_type": "code",
   "execution_count": 4,
   "id": "e0c83c21",
   "metadata": {},
   "outputs": [],
   "source": [
    "#hbl_Berman.entropy(t,p,mol=[1, 0, 0])"
   ]
  },
  {
   "cell_type": "code",
   "execution_count": 5,
   "id": "4335b07d",
   "metadata": {},
   "outputs": [
    {
     "data": {
      "text/plain": [
       "array(['pargasite', 'ferropargasite', 'magnesiohastingsite'], dtype='<U19')"
      ]
     },
     "execution_count": 5,
     "metadata": {},
     "output_type": "execute_result"
    }
   ],
   "source": [
    "hbl_Berman.endmember_names"
   ]
  },
  {
   "cell_type": "code",
   "execution_count": 6,
   "id": "b9ff6129",
   "metadata": {},
   "outputs": [
    {
     "data": {
      "text/plain": [
       "array(['Mg_Al_Spinel'], dtype='<U12')"
      ]
     },
     "execution_count": 6,
     "metadata": {},
     "output_type": "execute_result"
    }
   ],
   "source": [
    "sp_Berman.endmember_names"
   ]
  },
  {
   "cell_type": "code",
   "execution_count": 7,
   "id": "f36cab26",
   "metadata": {},
   "outputs": [
    {
     "data": {
      "text/plain": [
       "'MgSiO3'"
      ]
     },
     "execution_count": 7,
     "metadata": {},
     "output_type": "execute_result"
    }
   ],
   "source": [
    "en_Berman.formula"
   ]
  },
  {
   "cell_type": "code",
   "execution_count": 8,
   "id": "9d79b049",
   "metadata": {},
   "outputs": [
    {
     "name": "stderr",
     "output_type": "stream",
     "text": [
      "<__array_function__ internals>:5: DeprecationWarning: Calling nonzero on 0d arrays is deprecated, as it behaves surprisingly. Use `atleast_1d(cond).nonzero()` if the old behavior was intended. If the context of this warning is of the form `arr[nonzero(cond)]`, just use `arr[cond]`.\n"
     ]
    }
   ],
   "source": [
    "reaction1 = modelDB.get_rxn(['Hbl','Qz','Spl','An','Ab','cEn','H2O'],[0,0,0, 0, 0, 0, 0],\n",
    "                            [-1,-6,-1, 2, 1, 5, 1])"
   ]
  },
  {
   "cell_type": "code",
   "execution_count": 9,
   "id": "56b5837f",
   "metadata": {},
   "outputs": [
    {
     "data": {
      "text/plain": [
       "['pargasite',\n",
       " 'Quartz',\n",
       " 'Mg_Al_Spinel',\n",
       " 'Anorthite',\n",
       " 'Albite',\n",
       " 'Clinoenstatite',\n",
       " 'Water']"
      ]
     },
     "execution_count": 9,
     "metadata": {},
     "output_type": "execute_result"
    }
   ],
   "source": [
    "reaction1.endmember_names"
   ]
  },
  {
   "cell_type": "code",
   "execution_count": 10,
   "id": "70869383",
   "metadata": {},
   "outputs": [
    {
     "ename": "AttributeError",
     "evalue": "'numpy.ndarray' object has no attribute 'gibbs_energy_all'",
     "output_type": "error",
     "traceback": [
      "\u001b[0;31m---------------------------------------------------------------------------\u001b[0m",
      "\u001b[0;31mAttributeError\u001b[0m                            Traceback (most recent call last)",
      "\u001b[0;32m/var/folders/3q/7j2w8y413_v7b_p_7z6bh8qc0000gn/T/ipykernel_61533/2739804368.py\u001b[0m in \u001b[0;36m<module>\u001b[0;34m\u001b[0m\n\u001b[0;32m----> 1\u001b[0;31m \u001b[0mreaction1\u001b[0m\u001b[0;34m.\u001b[0m\u001b[0mgibbs_energy\u001b[0m\u001b[0;34m(\u001b[0m\u001b[0;36m273.15\u001b[0m\u001b[0;34m,\u001b[0m \u001b[0;36m1\u001b[0m\u001b[0;34m)\u001b[0m\u001b[0;34m\u001b[0m\u001b[0;34m\u001b[0m\u001b[0m\n\u001b[0m",
      "\u001b[0;32m/opt/anaconda3/envs/thermoengine/lib/python3.8/site-packages/thermoengine/phases.py\u001b[0m in \u001b[0;36mgibbs_energy\u001b[0;34m(self, T_a, P_a, peratom)\u001b[0m\n\u001b[1;32m    783\u001b[0m     \u001b[0;31m######################\u001b[0m\u001b[0;34m\u001b[0m\u001b[0;34m\u001b[0m\u001b[0;34m\u001b[0m\u001b[0m\n\u001b[1;32m    784\u001b[0m     \u001b[0;32mdef\u001b[0m \u001b[0mgibbs_energy\u001b[0m\u001b[0;34m(\u001b[0m \u001b[0mself\u001b[0m\u001b[0;34m,\u001b[0m \u001b[0mT_a\u001b[0m\u001b[0;34m,\u001b[0m \u001b[0mP_a\u001b[0m\u001b[0;34m,\u001b[0m \u001b[0mperatom\u001b[0m\u001b[0;34m=\u001b[0m\u001b[0;32mFalse\u001b[0m \u001b[0;34m)\u001b[0m\u001b[0;34m:\u001b[0m\u001b[0;34m\u001b[0m\u001b[0;34m\u001b[0m\u001b[0m\n\u001b[0;32m--> 785\u001b[0;31m         dG_rxn_a = self._calc_rxn_change('gibbs_energy_all', T_a, P_a,\n\u001b[0m\u001b[1;32m    786\u001b[0m                                          peratom=peratom)\n\u001b[1;32m    787\u001b[0m         \u001b[0;32mreturn\u001b[0m \u001b[0mdG_rxn_a\u001b[0m\u001b[0;34m\u001b[0m\u001b[0;34m\u001b[0m\u001b[0m\n",
      "\u001b[0;32m/opt/anaconda3/envs/thermoengine/lib/python3.8/site-packages/thermoengine/phases.py\u001b[0m in \u001b[0;36m_calc_rxn_change\u001b[0;34m(self, method_name, T_a, P_a, peratom)\u001b[0m\n\u001b[1;32m    817\u001b[0m \u001b[0;34m\u001b[0m\u001b[0m\n\u001b[1;32m    818\u001b[0m     \u001b[0;32mdef\u001b[0m \u001b[0m_calc_rxn_change\u001b[0m\u001b[0;34m(\u001b[0m \u001b[0mself\u001b[0m\u001b[0;34m,\u001b[0m \u001b[0mmethod_name\u001b[0m\u001b[0;34m,\u001b[0m \u001b[0mT_a\u001b[0m\u001b[0;34m,\u001b[0m \u001b[0mP_a\u001b[0m\u001b[0;34m,\u001b[0m \u001b[0mperatom\u001b[0m\u001b[0;34m=\u001b[0m\u001b[0;32mFalse\u001b[0m \u001b[0;34m)\u001b[0m\u001b[0;34m:\u001b[0m\u001b[0;34m\u001b[0m\u001b[0;34m\u001b[0m\u001b[0m\n\u001b[0;32m--> 819\u001b[0;31m         \u001b[0mval_prod_a\u001b[0m \u001b[0;34m=\u001b[0m \u001b[0mself\u001b[0m\u001b[0;34m.\u001b[0m\u001b[0m_calc_prod_value\u001b[0m\u001b[0;34m(\u001b[0m \u001b[0mmethod_name\u001b[0m\u001b[0;34m,\u001b[0m \u001b[0mT_a\u001b[0m\u001b[0;34m,\u001b[0m \u001b[0mP_a\u001b[0m\u001b[0;34m,\u001b[0m \u001b[0mperatom\u001b[0m\u001b[0;34m=\u001b[0m\u001b[0mperatom\u001b[0m \u001b[0;34m)\u001b[0m\u001b[0;34m\u001b[0m\u001b[0;34m\u001b[0m\u001b[0m\n\u001b[0m\u001b[1;32m    820\u001b[0m         \u001b[0mval_reac_a\u001b[0m \u001b[0;34m=\u001b[0m \u001b[0mself\u001b[0m\u001b[0;34m.\u001b[0m\u001b[0m_calc_reac_value\u001b[0m\u001b[0;34m(\u001b[0m \u001b[0mmethod_name\u001b[0m\u001b[0;34m,\u001b[0m \u001b[0mT_a\u001b[0m\u001b[0;34m,\u001b[0m \u001b[0mP_a\u001b[0m\u001b[0;34m,\u001b[0m \u001b[0mperatom\u001b[0m\u001b[0;34m=\u001b[0m\u001b[0mperatom\u001b[0m \u001b[0;34m)\u001b[0m\u001b[0;34m\u001b[0m\u001b[0;34m\u001b[0m\u001b[0m\n\u001b[1;32m    821\u001b[0m         \u001b[0mval_rxn_a\u001b[0m \u001b[0;34m=\u001b[0m \u001b[0mval_prod_a\u001b[0m\u001b[0;34m-\u001b[0m\u001b[0mval_reac_a\u001b[0m\u001b[0;34m\u001b[0m\u001b[0;34m\u001b[0m\u001b[0m\n",
      "\u001b[0;32m/opt/anaconda3/envs/thermoengine/lib/python3.8/site-packages/thermoengine/phases.py\u001b[0m in \u001b[0;36m_calc_prod_value\u001b[0;34m(self, method_name, T_a, P_a, peratom)\u001b[0m\n\u001b[1;32m    805\u001b[0m     \u001b[0;32mdef\u001b[0m \u001b[0m_calc_prod_value\u001b[0m\u001b[0;34m(\u001b[0m \u001b[0mself\u001b[0m\u001b[0;34m,\u001b[0m \u001b[0mmethod_name\u001b[0m\u001b[0;34m,\u001b[0m \u001b[0mT_a\u001b[0m\u001b[0;34m,\u001b[0m \u001b[0mP_a\u001b[0m\u001b[0;34m,\u001b[0m \u001b[0mperatom\u001b[0m\u001b[0;34m=\u001b[0m\u001b[0;32mFalse\u001b[0m \u001b[0;34m)\u001b[0m\u001b[0;34m:\u001b[0m\u001b[0;34m\u001b[0m\u001b[0;34m\u001b[0m\u001b[0m\n\u001b[1;32m    806\u001b[0m         \u001b[0;31m#prod_method = getattr(self.prod_assemblage, method_name)\u001b[0m\u001b[0;34m\u001b[0m\u001b[0;34m\u001b[0m\u001b[0;34m\u001b[0m\u001b[0m\n\u001b[0;32m--> 807\u001b[0;31m         \u001b[0mprod_method\u001b[0m \u001b[0;34m=\u001b[0m \u001b[0mgetattr\u001b[0m\u001b[0;34m(\u001b[0m\u001b[0mself\u001b[0m\u001b[0;34m.\u001b[0m\u001b[0mproduct_phases\u001b[0m\u001b[0;34m,\u001b[0m \u001b[0mmethod_name\u001b[0m\u001b[0;34m)\u001b[0m\u001b[0;34m\u001b[0m\u001b[0;34m\u001b[0m\u001b[0m\n\u001b[0m\u001b[1;32m    808\u001b[0m         \u001b[0mval_phs_a\u001b[0m \u001b[0;34m=\u001b[0m \u001b[0mprod_method\u001b[0m\u001b[0;34m(\u001b[0m \u001b[0mT_a\u001b[0m\u001b[0;34m,\u001b[0m \u001b[0mP_a\u001b[0m \u001b[0;34m)\u001b[0m\u001b[0;34m\u001b[0m\u001b[0;34m\u001b[0m\u001b[0m\n\u001b[1;32m    809\u001b[0m         \u001b[0mval_a\u001b[0m \u001b[0;34m=\u001b[0m \u001b[0mnp\u001b[0m\u001b[0;34m.\u001b[0m\u001b[0mdot\u001b[0m\u001b[0;34m(\u001b[0m\u001b[0mself\u001b[0m\u001b[0;34m.\u001b[0m\u001b[0mprod_rxn_coef_a\u001b[0m\u001b[0;34m,\u001b[0m \u001b[0mval_phs_a\u001b[0m\u001b[0;34m)\u001b[0m\u001b[0;34m\u001b[0m\u001b[0;34m\u001b[0m\u001b[0m\n",
      "\u001b[0;31mAttributeError\u001b[0m: 'numpy.ndarray' object has no attribute 'gibbs_energy_all'"
     ]
    }
   ],
   "source": [
    "reaction1.gibbs_energy(273.15, 1)"
   ]
  },
  {
   "cell_type": "code",
   "execution_count": 58,
   "id": "c780f87b",
   "metadata": {},
   "outputs": [],
   "source": [
    "hbl_Berman = modelDB.get_phase('Hbl')\n",
    "an_Berman = modelDB.get_phase('An')\n",
    "\n",
    "#cummingtonite_Berman = modelDB.get_phase('An')\n",
    "qz_Berman = modelDB.get_phase('Qz')\n",
    "\n",
    "#Quartz_SLB = modelDBStix.get_phase('Qz')\n",
    "an_HP = modelDBHP.get_phase('An')\n",
    "prg_HP = modelDBHP.get_phase('Prg')"
   ]
  },
  {
   "cell_type": "code",
   "execution_count": 127,
   "id": "b36b42bd",
   "metadata": {},
   "outputs": [],
   "source": [
    "#amph_Berman = modelDB.get_phase('Amp')"
   ]
  },
  {
   "cell_type": "code",
   "execution_count": 66,
   "id": "07c1a048",
   "metadata": {},
   "outputs": [],
   "source": [
    "#prg_Berman = modelDB.get_phase('Prg')"
   ]
  },
  {
   "cell_type": "code",
   "execution_count": 32,
   "id": "05467773",
   "metadata": {},
   "outputs": [
    {
     "data": {
      "text/plain": [
       "211.1488295080298"
      ]
     },
     "execution_count": 32,
     "metadata": {},
     "output_type": "execute_result"
    }
   ],
   "source": [
    "t=298.15\n",
    "p=1\n",
    "\n",
    "an_Berman.heat_capacity(t,p)"
   ]
  },
  {
   "cell_type": "code",
   "execution_count": 57,
   "id": "73fab40a",
   "metadata": {},
   "outputs": [
    {
     "data": {
      "text/plain": [
       "211.83635517767334"
      ]
     },
     "execution_count": 57,
     "metadata": {},
     "output_type": "execute_result"
    }
   ],
   "source": [
    "an_HP.heat_capacity(t,p)"
   ]
  },
  {
   "cell_type": "code",
   "execution_count": 41,
   "id": "de7c508c",
   "metadata": {},
   "outputs": [
    {
     "data": {
      "text/plain": [
       "array(['SiO2', 'TiO2', 'Al2O3', 'Fe2O3', 'Cr2O3', 'FeO', 'MnO', 'MgO',\n",
       "       'NiO', 'CoO', 'CaO', 'Na2O', 'K2O', 'P2O5', 'H2O', 'CO2'],\n",
       "      dtype='<U5')"
      ]
     },
     "execution_count": 41,
     "metadata": {},
     "output_type": "execute_result"
    }
   ],
   "source": [
    "an_Berman.OXIDES"
   ]
  },
  {
   "cell_type": "code",
   "execution_count": 61,
   "id": "8f1358ee",
   "metadata": {},
   "outputs": [
    {
     "data": {
      "text/plain": [
       "601.0"
      ]
     },
     "execution_count": 61,
     "metadata": {},
     "output_type": "execute_result"
    }
   ],
   "source": [
    "prg_HP.entropy(t,p)"
   ]
  },
  {
   "cell_type": "code",
   "execution_count": 64,
   "id": "46b4c6c0",
   "metadata": {},
   "outputs": [
    {
     "data": {
      "text/plain": [
       "array([], dtype=float64)"
      ]
     },
     "execution_count": 64,
     "metadata": {},
     "output_type": "execute_result"
    }
   ],
   "source": []
  },
  {
   "cell_type": "code",
   "execution_count": 42,
   "id": "c732da60",
   "metadata": {
    "scrolled": true
   },
   "outputs": [
    {
     "data": {
      "text/plain": [
       "OrderedDict([('supports_calib', 1),\n",
       "             ('param_num', 15),\n",
       "             ('param_names',\n",
       "              ['delta H',\n",
       "               'S',\n",
       "               'Cp k0',\n",
       "               'Cp k1',\n",
       "               'Cp k2',\n",
       "               'Cp k3',\n",
       "               'Cp l1',\n",
       "               'Cp l2',\n",
       "               'Cp Tt',\n",
       "               'Cp Ht',\n",
       "               'V',\n",
       "               'EOS v1',\n",
       "               'EOS v2',\n",
       "               'EOS v3',\n",
       "               'EOS v4']),\n",
       "             ('param_units',\n",
       "              array(['joules', 'joules/K', 'joules/K', 'joules/K', 'joules/K',\n",
       "                     'joules/K', 'joules/K', 'joules/K', 'K', 'joules', 'joules/bar',\n",
       "                     'bar^-1', 'bar^-2', 'K^-1', 'K^-2'], dtype='<U10')),\n",
       "             ('param0',\n",
       "              array([-4.22873047e+06,  2.00186000e+02,  4.39369380e+02, -3.73414900e+03,\n",
       "                      0.00000000e+00, -3.17023232e+08,  0.00000000e+00,  0.00000000e+00,\n",
       "                      0.00000000e+00,  0.00000000e+00,  1.00750000e+01, -1.27243000e-06,\n",
       "                      3.17620000e-13,  1.09181000e-05,  4.19850000e-09]))])"
      ]
     },
     "execution_count": 42,
     "metadata": {},
     "output_type": "execute_result"
    }
   ],
   "source": [
    "an_Berman.param_props"
   ]
  },
  {
   "cell_type": "code",
   "execution_count": 97,
   "id": "a9d8cb6b",
   "metadata": {},
   "outputs": [
    {
     "data": {
      "text/plain": [
       "array(['SiO2', 'TiO2', 'Al2O3', 'Fe2O3', 'Cr2O3', 'FeO', 'MnO', 'MgO',\n",
       "       'NiO', 'CoO', 'CaO', 'Na2O', 'K2O', 'P2O5', 'H2O', 'CO2'],\n",
       "      dtype='<U5')"
      ]
     },
     "execution_count": 97,
     "metadata": {},
     "output_type": "execute_result"
    }
   ],
   "source": [
    "hbl_Berman.OXIDES"
   ]
  },
  {
   "cell_type": "code",
   "execution_count": 102,
   "id": "b97bba13",
   "metadata": {},
   "outputs": [
    {
     "data": {
      "text/plain": [
       "''"
      ]
     },
     "execution_count": 102,
     "metadata": {},
     "output_type": "execute_result"
    }
   ],
   "source": [
    "hbl_Berman."
   ]
  },
  {
   "cell_type": "code",
   "execution_count": 116,
   "id": "84d7311f",
   "metadata": {},
   "outputs": [],
   "source": [
    "mol_oxides = core.chem.format_mol_oxide_comp({'SiO2':43.132,'Al2O3':18.299, 'FeO':0, 'MgO': 19.289,'CaO':13.418, \n",
    "                                              'Na2O':3.708, 'K2O':0, 'H2O':2.155}, convert_grams_to_moles=True)"
   ]
  },
  {
   "cell_type": "code",
   "execution_count": 114,
   "id": "19cfa5ac",
   "metadata": {},
   "outputs": [],
   "source": [
    "#mol_oxides = core.chem.format_mol_oxide_comp({'SiO2':45.317,'Al2O3':19.224, 'FeO':0, 'MgO': 15.200,'CaO':14.1, \n",
    "#                                              'Na2O':3.893, 'K2O':0, 'H2O':2.268}, convert_grams_to_moles=True)"
   ]
  },
  {
   "cell_type": "code",
   "execution_count": 117,
   "id": "7c4954b2",
   "metadata": {
    "scrolled": true
   },
   "outputs": [
    {
     "name": "stdout",
     "output_type": "stream",
     "text": [
      "mole number of pargasite  =  1.196457e-01\n",
      "mole number of ferroparga =  0.000000e+00\n",
      "mole number of magnesioha =  0.000000e+00\n"
     ]
    }
   ],
   "source": [
    "moles_end,oxide_res =hbl_Berman.calc_endmember_comp(mol_oxide_comp=mol_oxides, method='intrinsic', output_residual=True)\n",
    "for i in range(0,hbl_Berman.props['endmember_num']):\n",
    "    print (\"mole number of {0:10.10s} = {1:13.6e}\".format(hbl_Berman.props['endmember_name'][i], moles_end[i]))\n",
    "if not hbl_Berman.test_endmember_comp(moles_end):\n",
    "    print (\"Calculated composition is infeasible!\")"
   ]
  },
  {
   "cell_type": "code",
   "execution_count": 120,
   "id": "63185da2",
   "metadata": {},
   "outputs": [
    {
     "data": {
      "text/plain": [
       "array([0.11964575, 0.        , 0.        ])"
      ]
     },
     "execution_count": 120,
     "metadata": {},
     "output_type": "execute_result"
    }
   ],
   "source": [
    "moles_end"
   ]
  },
  {
   "cell_type": "code",
   "execution_count": 124,
   "id": "10d14c97",
   "metadata": {},
   "outputs": [
    {
     "data": {
      "text/plain": [
       "669.4400000000004"
      ]
     },
     "execution_count": 124,
     "metadata": {},
     "output_type": "execute_result"
    }
   ],
   "source": [
    "hbl_Berman.entropy(t,p,mol=[1, 0, 0])"
   ]
  },
  {
   "cell_type": "code",
   "execution_count": 101,
   "id": "7b347c58",
   "metadata": {},
   "outputs": [],
   "source": [
    "hbl_Berman.calc_endmember_comp?"
   ]
  },
  {
   "cell_type": "code",
   "execution_count": 96,
   "id": "954ac1db",
   "metadata": {},
   "outputs": [
    {
     "data": {
      "text/html": [
       "<div>\n",
       "<style scoped>\n",
       "    .dataframe tbody tr th:only-of-type {\n",
       "        vertical-align: middle;\n",
       "    }\n",
       "\n",
       "    .dataframe tbody tr th {\n",
       "        vertical-align: top;\n",
       "    }\n",
       "\n",
       "    .dataframe thead th {\n",
       "        text-align: right;\n",
       "    }\n",
       "</style>\n",
       "<table border=\"1\" class=\"dataframe\">\n",
       "  <thead>\n",
       "    <tr style=\"text-align: right;\">\n",
       "      <th></th>\n",
       "      <th>H</th>\n",
       "      <th>O</th>\n",
       "      <th>Na</th>\n",
       "      <th>Mg</th>\n",
       "      <th>Al</th>\n",
       "      <th>Si</th>\n",
       "      <th>Ca</th>\n",
       "      <th>Fe</th>\n",
       "    </tr>\n",
       "  </thead>\n",
       "  <tbody>\n",
       "    <tr>\n",
       "      <th>pargasite</th>\n",
       "      <td>2.0</td>\n",
       "      <td>24.0</td>\n",
       "      <td>1.0</td>\n",
       "      <td>4.0</td>\n",
       "      <td>3.0</td>\n",
       "      <td>6.0</td>\n",
       "      <td>2.0</td>\n",
       "      <td>0.0</td>\n",
       "    </tr>\n",
       "    <tr>\n",
       "      <th>ferropargasite</th>\n",
       "      <td>2.0</td>\n",
       "      <td>24.0</td>\n",
       "      <td>1.0</td>\n",
       "      <td>0.0</td>\n",
       "      <td>3.0</td>\n",
       "      <td>6.0</td>\n",
       "      <td>2.0</td>\n",
       "      <td>4.0</td>\n",
       "    </tr>\n",
       "    <tr>\n",
       "      <th>magnesiohastingsite</th>\n",
       "      <td>2.0</td>\n",
       "      <td>24.0</td>\n",
       "      <td>1.0</td>\n",
       "      <td>4.0</td>\n",
       "      <td>2.0</td>\n",
       "      <td>6.0</td>\n",
       "      <td>2.0</td>\n",
       "      <td>1.0</td>\n",
       "    </tr>\n",
       "  </tbody>\n",
       "</table>\n",
       "</div>"
      ],
      "text/plain": [
       "                       H     O   Na   Mg   Al   Si   Ca   Fe\n",
       "pargasite            2.0  24.0  1.0  4.0  3.0  6.0  2.0  0.0\n",
       "ferropargasite       2.0  24.0  1.0  0.0  3.0  6.0  2.0  4.0\n",
       "magnesiohastingsite  2.0  24.0  1.0  4.0  2.0  6.0  2.0  1.0"
      ]
     },
     "execution_count": 96,
     "metadata": {},
     "output_type": "execute_result"
    }
   ],
   "source": [
    "hbl_Berman.endmember_elem_comp"
   ]
  },
  {
   "cell_type": "code",
   "execution_count": 89,
   "id": "5f8b5c7f",
   "metadata": {},
   "outputs": [],
   "source": [
    "pargastie_elem_comp=np.array(list(hbl_Berman.endmember_elem_comp.loc['pargasite']))"
   ]
  },
  {
   "cell_type": "code",
   "execution_count": 91,
   "id": "3d9388e2",
   "metadata": {},
   "outputs": [
    {
     "data": {
      "text/plain": [
       "array(['pargasite', 'ferropargasite', 'magnesiohastingsite'], dtype='<U19')"
      ]
     },
     "execution_count": 91,
     "metadata": {},
     "output_type": "execute_result"
    }
   ],
   "source": [
    "hbl_Berman.endmember_names"
   ]
  },
  {
   "cell_type": "code",
   "execution_count": null,
   "id": "042e9b7d",
   "metadata": {},
   "outputs": [],
   "source": []
  },
  {
   "cell_type": "code",
   "execution_count": null,
   "id": "3d2c96ca",
   "metadata": {},
   "outputs": [],
   "source": []
  }
 ],
 "metadata": {
  "kernelspec": {
   "display_name": "Python 3 (ipykernel)",
   "language": "python",
   "name": "python3"
  },
  "language_info": {
   "codemirror_mode": {
    "name": "ipython",
    "version": 3
   },
   "file_extension": ".py",
   "mimetype": "text/x-python",
   "name": "python",
   "nbconvert_exporter": "python",
   "pygments_lexer": "ipython3",
   "version": "3.8.5"
  }
 },
 "nbformat": 4,
 "nbformat_minor": 5
}
