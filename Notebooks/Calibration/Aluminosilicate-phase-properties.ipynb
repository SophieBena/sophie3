{
 "cells": [
  {
   "cell_type": "markdown",
   "metadata": {},
   "source": [
    "# Plotting of  Aluminosilicate Phase Diagram from Berman(1988) database of pure solid phases (standard state properties)\n",
    "## Data are adjusted datapoints from Holdaway1993\n",
    "## Concepts Demonstrated\n",
    "* Loading a thermodynamic database\n",
    "* Imposing experimental priors"
   ]
  },
  {
   "cell_type": "markdown",
   "metadata": {},
   "source": [
    "## Import libraries ..."
   ]
  },
  {
   "cell_type": "code",
   "execution_count": null,
   "metadata": {},
   "outputs": [],
   "source": [
    "import numpy as np\n",
    "import matplotlib.pyplot as plt\n",
    "\n",
    "%matplotlib notebook\n",
    "import matplotlib as mpl\n",
    "import pandas as pd\n",
    "pd.set_option('display.max_columns', None)\n",
    "from scipy import stats\n",
    "import scipy as sp\n",
    "from scipy.optimize import least_squares\n",
    "\n",
    "import os\n",
    "import sys\n",
    "sys.path.insert(0, '..')\n",
    "sys.path.insert(0, '/Users/msghiorso/ENKI/PhaseObjC')\n",
    "\n",
    "import thermoengine\n",
    "from thermoengine import phases\n",
    "from thermoengine import model\n",
    "from thermoengine import calibrate\n",
    "\n",
    "import importlib\n"
   ]
  },
  {
   "cell_type": "code",
   "execution_count": null,
   "metadata": {},
   "outputs": [],
   "source": []
  },
  {
   "cell_type": "code",
   "execution_count": null,
   "metadata": {},
   "outputs": [],
   "source": [
    "prior = pd.read_excel('phase-rxn-data/priors-V0.xlsx')\n",
    "mask_Ky = prior['phase']=='Ky'\n",
    "mask_And = prior['phase']=='And'\n",
    "# mask_Sil = (prior['phase']=='Sil') & (prior['V']<4.99) & (prior['V']>4.98)\n",
    "mask_Sil = (prior['phase']=='Sil')\n",
    "\n",
    "N_Ky = np.sum(mask_Ky)\n",
    "N_And = np.sum(mask_And)\n",
    "N_Sil = np.sum(mask_Sil)"
   ]
  },
  {
   "cell_type": "code",
   "execution_count": null,
   "metadata": {},
   "outputs": [],
   "source": [
    "def lin_fun(x, t, y):\n",
    "    return x[1] + x[0]*t - y\n",
    "\n",
    "kde_And = stats.gaussian_kde(prior['V'][mask_And])\n",
    "x_And = np.linspace(5.14,5.16,1001)\n",
    "y_And = kde_And.evaluate(x_And)\n",
    "cdf_And = np.array([kde_And.integrate_box_1d(-np.inf,ix) for ix in x_And])\n",
    "\n",
    "\n",
    "\n",
    "kde_Ky = stats.gaussian_kde(prior['V'][mask_Ky])\n",
    "x_Ky = np.linspace(4.36,4.46,1001)\n",
    "y_Ky = kde_Ky.evaluate(x_Ky)\n",
    "cdf_Ky = np.array([kde_Ky.integrate_box_1d(-np.inf,ix) for ix in x_Ky])\n",
    "\n",
    "kde_Sil = stats.gaussian_kde(prior['V'][mask_Sil])\n",
    "x_Sil = np.linspace(4.95,5.01,1001)\n",
    "y_Sil = kde_Sil.evaluate(x_Sil)\n",
    "cdf_Sil = np.array([kde_Sil.integrate_box_1d(-np.inf,ix) for ix in x_Sil])\n"
   ]
  },
  {
   "cell_type": "code",
   "execution_count": null,
   "metadata": {},
   "outputs": [],
   "source": [
    "cdf_bnd_And = np.interp([.25,.75], cdf_And, x_And)\n",
    "avg_And, err_And = np.mean(cdf_bnd_And), np.diff(cdf_bnd_And)[0]/1.35\n",
    "\n",
    "cdf_bnd_Ky = np.interp([.25,.75], cdf_Ky, x_Ky)\n",
    "avg_Ky, err_Ky = np.mean(cdf_bnd_Ky), np.diff(cdf_bnd_Ky)[0]/1.35\n",
    "\n",
    "cdf_bnd_Sil = np.interp([.25,.75], cdf_Sil, x_Sil)\n",
    "avg_Sil, err_Sil = np.mean(cdf_bnd_Sil), np.diff(cdf_bnd_Sil)[0]/1.35\n",
    "\n",
    "\n",
    "\n",
    "ynorm_Ky = sp.stats.norm.pdf(x_Ky, loc=avg_Ky, scale=err_Ky)\n",
    "ynorm_Ky *= .3/np.max(ynorm_Ky)\n",
    "\n",
    "ynorm_And = sp.stats.norm.pdf(x_And, loc=avg_And, scale=err_And)\n",
    "ynorm_And *= .3/np.max(ynorm_And)\n",
    "\n",
    "ynorm_Sil = sp.stats.norm.pdf(x_Sil, loc=avg_Sil, scale=err_Sil)\n",
    "ynorm_Sil *= .3/np.max(ynorm_Sil)"
   ]
  },
  {
   "cell_type": "code",
   "execution_count": null,
   "metadata": {},
   "outputs": [],
   "source": []
  },
  {
   "cell_type": "code",
   "execution_count": null,
   "metadata": {},
   "outputs": [],
   "source": [
    "print('Ky = ', np.round(avg_Ky, decimals=4), ' +/- ', np.round(err_Ky, decimals=4))\n",
    "print('And = ', np.round(avg_And, decimals=4), ' +/- ', np.round(err_And, decimals=4))\n",
    "print('Sil = ', np.round(avg_Sil, decimals=4), ' +/- ', np.round(err_Sil, decimals=4))\n",
    "\n",
    "print('=====')\n",
    "print('Ky = ', np.round(4.408-avg_Ky, decimals=4))\n",
    "print('And = ', np.round(5.148-avg_And, decimals=4))\n",
    "print('Sil = ', np.round(4.986-avg_Sil, decimals=4))\n"
   ]
  },
  {
   "cell_type": "markdown",
   "metadata": {},
   "source": [
    "* Fe2O3 correction is negligible compared to spread in data\n",
    "* These provide excellent priors consistent with Holdaway1993, but with greater uncertainty"
   ]
  },
  {
   "cell_type": "code",
   "execution_count": null,
   "metadata": {},
   "outputs": [],
   "source": [
    "\n",
    "plt.figure()\n",
    "poly_Ky = np.polyfit(prior['Fe2O3'][mask_Ky], prior['V'][mask_Ky], 1)\n",
    "res_Ky = least_squares(lin_fun, poly_Ky, loss='soft_l1',\n",
    "              args=(prior['Fe2O3'][mask_Ky], prior['V'][mask_Ky]))\n",
    "\n",
    "plt.plot(prior['Fe2O3'][mask_Ky], prior['V'][mask_Ky],'ko')\n",
    "plt.plot(prior['Fe2O3'][mask_Ky], prior['V_corr'][mask_Ky],'rx')\n",
    "plt.plot([0,.5],np.polyval(res_Ky.x,[0,.5]),'r--')\n",
    "plt.plot(.3*y_Ky/np.max(y_Ky), x_Ky, 'b-')\n",
    "plt.plot(ynorm_Ky, x_Ky, 'b:')\n",
    "plt.xlim(0, .5)\n",
    "plt.title('Ky')\n",
    "\n",
    "\n",
    "plt.figure()\n",
    "poly_And = np.polyfit(prior['Fe2O3'][mask_And], prior['V'][mask_And], 1)\n",
    "res_And = least_squares(lin_fun, poly_And, loss='soft_l1',\n",
    "              args=(prior['Fe2O3'][mask_And], prior['V'][mask_And]))\n",
    "plt.plot(prior['Fe2O3'][mask_And], prior['V'][mask_And],'ko')\n",
    "plt.plot(prior['Fe2O3'][mask_And], prior['V_corr'][mask_And],'rx')\n",
    "plt.plot([0,.5],np.polyval(res_And.x, [0,.5]), 'r--')\n",
    "plt.plot(.3*y_And/np.max(y_And), x_And, 'b-')\n",
    "plt.plot(ynorm_And, x_And, 'b:')\n",
    "plt.xlim(0, .5)\n",
    "plt.title('And')\n",
    "\n",
    "plt.figure()\n",
    "poly_Sil = np.polyfit(prior['Fe2O3'][mask_Sil], prior['V'][mask_Sil], 1)\n",
    "res_Sil = least_squares(lin_fun, [0,4.985],  f_scale=.002,\n",
    "              args=(prior['Fe2O3'][mask_Sil], prior['V'][mask_Sil]))\n",
    "plt.plot(prior['Fe2O3'][mask_Sil], prior['V'][mask_Sil],'ko')\n",
    "plt.plot(prior['Fe2O3'][mask_Sil], prior['V_corr'][mask_Sil],'rx')\n",
    "plt.plot([0,.5],np.polyval(res_Sil.x, [0,.5]), 'r--')\n",
    "plt.plot(.3*y_Sil/np.max(y_Sil), x_Sil, 'b-')\n",
    "plt.plot(ynorm_Sil, x_Sil, 'b:')\n",
    "# plt.xlim(0, .5)\n",
    "plt.title('Sil')\n",
    "\n",
    "\n"
   ]
  },
  {
   "cell_type": "code",
   "execution_count": null,
   "metadata": {},
   "outputs": [],
   "source": []
  },
  {
   "cell_type": "code",
   "execution_count": null,
   "metadata": {},
   "outputs": [],
   "source": [
    "plt.figure()\n",
    "plt.plot(x_Sil, cdf_Sil, 'r-')\n",
    "plt.title('Sil')\n",
    "\n",
    "plt.figure()\n",
    "plt.plot(x_Ky, cdf_Ky, 'r-')\n",
    "plt.title('Ky')\n",
    "\n",
    "plt.figure()\n",
    "plt.plot(x_And, cdf_And, 'r-')\n",
    "plt.title('And')\n"
   ]
  },
  {
   "cell_type": "code",
   "execution_count": null,
   "metadata": {},
   "outputs": [],
   "source": []
  },
  {
   "cell_type": "code",
   "execution_count": null,
   "metadata": {},
   "outputs": [],
   "source": []
  },
  {
   "cell_type": "code",
   "execution_count": null,
   "metadata": {},
   "outputs": [],
   "source": [
    "avg_And"
   ]
  },
  {
   "cell_type": "code",
   "execution_count": null,
   "metadata": {},
   "outputs": [],
   "source": []
  },
  {
   "cell_type": "code",
   "execution_count": null,
   "metadata": {},
   "outputs": [],
   "source": [
    "sp.stats.norm.cdf([-.675, .675])"
   ]
  },
  {
   "cell_type": "code",
   "execution_count": null,
   "metadata": {},
   "outputs": [],
   "source": [
    ".675*2"
   ]
  },
  {
   "cell_type": "code",
   "execution_count": null,
   "metadata": {},
   "outputs": [],
   "source": []
  }
 ],
 "metadata": {
  "anaconda-cloud": {},
  "kernelspec": {
   "display_name": "Python 3",
   "language": "python",
   "name": "python3"
  },
  "language_info": {
   "codemirror_mode": {
    "name": "ipython",
    "version": 3
   },
   "file_extension": ".py",
   "mimetype": "text/x-python",
   "name": "python",
   "nbconvert_exporter": "python",
   "pygments_lexer": "ipython3",
   "version": "3.6.2"
  }
 },
 "nbformat": 4,
 "nbformat_minor": 1
}
