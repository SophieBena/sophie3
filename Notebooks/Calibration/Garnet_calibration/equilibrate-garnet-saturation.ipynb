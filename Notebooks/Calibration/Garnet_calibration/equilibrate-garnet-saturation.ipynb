{
 "cells": [
  {
   "cell_type": "markdown",
   "metadata": {},
   "source": [
    "# Gibbs energy minimization (fixed T, P, bulk composition)\n",
    "Closed system; crystallization of a rhyolitic liquid using rhyolite-MELTS"
   ]
  },
  {
   "cell_type": "code",
   "execution_count": null,
   "metadata": {},
   "outputs": [],
   "source": [
    "import numpy as np\n",
    "import scipy.optimize as opt\n",
    "import scipy.linalg as lin \n",
    "import sys"
   ]
  },
  {
   "cell_type": "code",
   "execution_count": null,
   "metadata": {},
   "outputs": [],
   "source": [
    "pwd"
   ]
  },
  {
   "cell_type": "code",
   "execution_count": null,
   "metadata": {},
   "outputs": [],
   "source": [
    "from thermoengine import core, phases, model, equilibrate"
   ]
  },
  {
   "cell_type": "code",
   "execution_count": null,
   "metadata": {},
   "outputs": [],
   "source": [
    "#%run \"core.ipynb\"\n",
    "%run \"load_coder_fitted_models.ipynb\""
   ]
  },
  {
   "cell_type": "code",
   "execution_count": null,
   "metadata": {},
   "outputs": [],
   "source": [
    "os.chdir('/Users/jennaadams/Documents/projects/thermoengine_mirrored/https:/gitlab.com/aswolf/ThermoEngineMirror/Notebooks/Calibration/Garnet_calibration')"
   ]
  },
  {
   "cell_type": "markdown",
   "metadata": {},
   "source": [
    "## Create phases for equilibrium assemblages"
   ]
  },
  {
   "cell_type": "code",
   "execution_count": null,
   "metadata": {},
   "outputs": [],
   "source": [
    "modelDB = model.Database(liq_mod='pMELTS')"
   ]
  },
  {
   "cell_type": "code",
   "execution_count": null,
   "metadata": {},
   "outputs": [],
   "source": [
    "modelDB_melts = model.Database(liq_mod='v1.0')"
   ]
  },
  {
   "cell_type": "code",
   "execution_count": null,
   "metadata": {},
   "outputs": [],
   "source": [
    "Liquid = modelDB.get_phase('Liq')\n",
    "#Liquid_melts = modelDB_melts.get_phase('Liq')\n",
    "Feldspar = modelDB.get_phase('Fsp')\n",
    "Quartz = modelDB.get_phase('Qz')\n",
    "Rutile = modelDB.get_phase('Rt')\n",
    "Cpx = modelDB.get_phase('Cpx')\n",
    "garnet_pmelts=modelDB.get_phase('Grt')\n"
   ]
  },
  {
   "cell_type": "code",
   "execution_count": null,
   "metadata": {},
   "outputs": [],
   "source": [
    "best_fit_garnet_vals=np.array([ 298.15, 1, 5.19104094e+04,  3.21504843e+01,  1.20993363e-01,  9.28034371e+03,\n",
    "        3.67696598e+01, -4.54660626e-01,  1.00111240e+04, -8.71817781e+00,\n",
    "        3.27875343e-02,  1.22156445e+03,  1.74981805e+00, -6.89189413e-01,\n",
    "        5.98742483e+04,  1.82413452e+01,  4.88655990e-02, -2.32001967e+03,\n",
    "        6.21265452e+00, -4.17161548e-01])"
   ]
  },
  {
   "cell_type": "code",
   "execution_count": null,
   "metadata": {},
   "outputs": [],
   "source": [
    "len(best_fit_garnet_vals)"
   ]
  },
  {
   "cell_type": "code",
   "execution_count": null,
   "metadata": {},
   "outputs": [],
   "source": [
    "grt=modelDB_fitted_pmelts.phases['Grt']"
   ]
  },
  {
   "cell_type": "code",
   "execution_count": null,
   "metadata": {},
   "outputs": [],
   "source": [
    "grt.get_param_values()"
   ]
  },
  {
   "cell_type": "code",
   "execution_count": null,
   "metadata": {},
   "outputs": [],
   "source": [
    "param_names=grt.param_names[:-3]"
   ]
  },
  {
   "cell_type": "code",
   "execution_count": null,
   "metadata": {},
   "outputs": [],
   "source": [
    "len(param_names)"
   ]
  },
  {
   "cell_type": "code",
   "execution_count": null,
   "metadata": {},
   "outputs": [],
   "source": [
    "#grt.set_param_values(best_fit_garnet_vals, param_names=param_names)"
   ]
  },
  {
   "cell_type": "code",
   "execution_count": null,
   "metadata": {},
   "outputs": [],
   "source": [
    "def set_param_values(param_names, param_vals, params_to_change, modelDB=None):\n",
    "    \n",
    "    assert len(param_vals)==len(params_to_change), 'length of param_vals must equal length of params_to_change'\n",
    "    \n",
    "    grt_model=modelDB.phases['Grt']\n",
    "    \n",
    "    param_names_index=[]\n",
    "    for iparam in params_to_change:\n",
    "        param_names_index.extend([param_names.index(iparam)])\n",
    "    #param_names_index=[param_names.index(params_to_change)]\n",
    "    \n",
    "    grt_model.set_param_values(param_vals, param_names_index)"
   ]
  },
  {
   "cell_type": "code",
   "execution_count": null,
   "metadata": {},
   "outputs": [],
   "source": [
    "#param_names=fitted_coder.param_names\n",
    "params_to_change=param_names\n",
    "\n",
    "iparam_vals=best_fit_garnet_vals\n",
    "set_param_values(param_names, iparam_vals, params_to_change, modelDB=modelDB_fitted_pmelts)\n",
    "fitted_grt=modelDB_fitted_pmelts.phases['Grt']"
   ]
  },
  {
   "cell_type": "code",
   "execution_count": null,
   "metadata": {},
   "outputs": [],
   "source": [
    "fitted_grt.get_param_values()"
   ]
  },
  {
   "cell_type": "code",
   "execution_count": null,
   "metadata": {},
   "outputs": [],
   "source": [
    "Rutile.get_param_values()"
   ]
  },
  {
   "cell_type": "code",
   "execution_count": null,
   "metadata": {},
   "outputs": [],
   "source": [
    "#Water = phases.PurePhase('WaterMelts', 'H2O', calib=False)"
   ]
  },
  {
   "cell_type": "markdown",
   "metadata": {},
   "source": [
    "## Define elements in system and phases in system"
   ]
  },
  {
   "cell_type": "code",
   "execution_count": null,
   "metadata": {},
   "outputs": [],
   "source": [
    "elm_sys = ['H','O','Na','Mg','Al','Si','P','K','Ca','Ti','Cr','Mn','Fe','Co','Ni']\n",
    "#elm_sys = ['O','Na','Mg','Al','Si','K','Ca','Ti','Mn','Fe']\n",
    "#phs_sys = [Liquid, Feldspar, Quartz, Rutile, Cpx, fitted_grt]\n",
    "phs_sys = [Liquid, Feldspar, Quartz, Rutile, Cpx, garnet_pmelts]"
   ]
  },
  {
   "cell_type": "markdown",
   "metadata": {},
   "source": [
    "## Composition of the system\n",
    "This is an oceanic crust-like composition"
   ]
  },
  {
   "cell_type": "code",
   "execution_count": null,
   "metadata": {},
   "outputs": [],
   "source": [
    "grm_oxides = {\n",
    "    'SiO2':  50.05, \n",
    "    'TiO2':   1.97, \n",
    "    'Al2O3': 15.76, \n",
    "    'Fe2O3':  1.35,\n",
    "    'Cr2O3':  0.0, \n",
    "    'FeO':    8.136, \n",
    "    'MnO':    0.17,\n",
    "    'MgO':    7.9, \n",
    "    'NiO':    0.0, \n",
    "    'CoO':    0.0,\n",
    "    'CaO':    11.74, \n",
    "    'Na2O':   3.04, \n",
    "    'K2O':    0.03, \n",
    "    'P2O5':   0.0, \n",
    "    'H2O':    0\n",
    "}"
   ]
  },
  {
   "cell_type": "markdown",
   "metadata": {},
   "source": [
    "Cast this composition as moles of elements for input to the Equilibrate class"
   ]
  },
  {
   "cell_type": "code",
   "execution_count": null,
   "metadata": {},
   "outputs": [],
   "source": [
    "mol_oxides = core.chem.format_mol_oxide_comp(grm_oxides, convert_grams_to_moles=True)"
   ]
  },
  {
   "cell_type": "code",
   "execution_count": null,
   "metadata": {},
   "outputs": [],
   "source": [
    "Liquid.calc_endmember_comp?"
   ]
  },
  {
   "cell_type": "code",
   "execution_count": null,
   "metadata": {},
   "outputs": [],
   "source": [
    "pwd"
   ]
  },
  {
   "cell_type": "code",
   "execution_count": null,
   "metadata": {},
   "outputs": [],
   "source": [
    "moles_end,oxide_res = Liquid.calc_endmember_comp(\n",
    "    mol_oxides, method='intrinsic', output_residual=True)"
   ]
  },
  {
   "cell_type": "code",
   "execution_count": null,
   "metadata": {},
   "outputs": [],
   "source": [
    "moles_end,oxide_res = Liquid.calc_endmember_comp(\n",
    "    mol_oxide_comp=mol_oxides, method='intrinsic', output_residual=True)\n",
    "#moles_end = Liquid.calc_endmember_comp(\n",
    "#    mol_oxides, method='intrinsic')\n",
    "#print(np.array(moles_end[0]))\n",
    "if not Liquid.test_endmember_comp(moles_end[0]):\n",
    "    print (\"Calculated composition is infeasible!\")\n",
    "mol_elm = Liquid.covert_endmember_comp(moles_end[0],output='moles_elements')"
   ]
  },
  {
   "cell_type": "code",
   "execution_count": null,
   "metadata": {},
   "outputs": [],
   "source": [
    "blk_cmp = []\n",
    "for elm in elm_sys:\n",
    "    index = core.chem.PERIODIC_ORDER.tolist().index(elm)\n",
    "    blk_cmp.append(mol_elm[index])\n",
    "blk_cmp = np.array(blk_cmp)"
   ]
  },
  {
   "cell_type": "code",
   "execution_count": null,
   "metadata": {},
   "outputs": [],
   "source": [
    "blk_cmp"
   ]
  },
  {
   "cell_type": "markdown",
   "metadata": {},
   "source": [
    "## Instantiate class instance and run calculation"
   ]
  },
  {
   "cell_type": "code",
   "execution_count": null,
   "metadata": {},
   "outputs": [],
   "source": [
    "equil = equilibrate.Equilibrate(elm_sys, phs_sys)"
   ]
  },
  {
   "cell_type": "code",
   "execution_count": null,
   "metadata": {},
   "outputs": [],
   "source": [
    "t = 1250.0\n",
    "p = 20000.0\n",
    "#state = equil.execute(t, p, bulk_comp=blk_cmp, debug=0, stats=True)\n",
    "state = equil.execute(t, p, bulk_comp=blk_cmp, debug=0)\n",
    "state.print_state()"
   ]
  },
  {
   "cell_type": "markdown",
   "metadata": {},
   "source": [
    "Pickup runs use previously computed state"
   ]
  },
  {
   "cell_type": "code",
   "execution_count": null,
   "metadata": {},
   "outputs": [],
   "source": [
    "state = equil.execute(t-20.0, p, state=state, debug=0, stats=True)\n",
    "state.print_state()"
   ]
  },
  {
   "cell_type": "code",
   "execution_count": null,
   "metadata": {},
   "outputs": [],
   "source": [
    "state = equil.execute(t-25.0, p, state=state, debug=0, stats=True)\n",
    "state.print_state()"
   ]
  }
 ],
 "metadata": {
  "kernelspec": {
   "display_name": "py36workshop",
   "language": "python",
   "name": "py36workshop"
  },
  "language_info": {
   "codemirror_mode": {
    "name": "ipython",
    "version": 3
   },
   "file_extension": ".py",
   "mimetype": "text/x-python",
   "name": "python",
   "nbconvert_exporter": "python",
   "pygments_lexer": "ipython3",
   "version": "3.6.8"
  }
 },
 "nbformat": 4,
 "nbformat_minor": 2
}
