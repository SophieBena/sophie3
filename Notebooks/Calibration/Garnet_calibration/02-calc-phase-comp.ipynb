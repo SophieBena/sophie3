{
 "cells": [
  {
   "cell_type": "markdown",
   "metadata": {},
   "source": [
    "# Get phase stability data"
   ]
  },
  {
   "cell_type": "markdown",
   "metadata": {},
   "source": [
    "## Initialize required packages and data from _01-load-exp-data notebook_"
   ]
  },
  {
   "cell_type": "code",
   "execution_count": null,
   "metadata": {},
   "outputs": [],
   "source": [
    "%run \"core.ipynb\"\n",
    "analysis = load_analysis()\n",
    "\n",
    "\n",
    "exp_data = analysis['exp_data']\n",
    "phs_data = analysis['phs_data']\n",
    "phs_mol_comp = analysis['phs_mol_comp']\n",
    "phs_wt_comp = analysis['phs_wt_comp']\n",
    "phs_symbols = analysis['phs_symbols'] "
   ]
  },
  {
   "cell_type": "markdown",
   "metadata": {},
   "source": [
    "## Load thermodynamic database"
   ]
  },
  {
   "cell_type": "code",
   "execution_count": null,
   "metadata": {},
   "outputs": [],
   "source": [
    "modelDB = thermo.model.Database()\n",
    "#phs = modelDB.get_phase('Grt'"
   ]
  },
  {
   "cell_type": "markdown",
   "metadata": {},
   "source": [
    "## Initialize the phase stability experiment function \n",
    "\n",
    "### Initiates Phase Stability Data object to retrieve valid set of reactions from SVD for each experiment \n",
    "\n",
    "    * input:\n",
    "\n",
    "        exp_data: \n",
    "\n",
    "        phs_wt_comp: \n",
    "        \n",
    "        phase_symbols_key:\n",
    "        \n",
    "        modelDB:\n",
    "        \n",
    "        T_units:\n",
    "        \n",
    "        P_units\n",
    "\n",
    "    * output:\n",
    "        \n",
    "        phase_stability_data: object\n",
    "            \n",
    "        \n"
   ]
  },
  {
   "cell_type": "code",
   "execution_count": null,
   "metadata": {},
   "outputs": [],
   "source": [
    "phase_symbols_key = LEPR_phase_symbols"
   ]
  },
  {
   "cell_type": "code",
   "execution_count": null,
   "metadata": {},
   "outputs": [],
   "source": [
    "phase_stability_data = thermo.calibrate.PhaseStabilityData(exp_data, phs_wt_comp, phase_symbols_key, modelDB,\n",
    "                                                          T_units='C', P_units='GPa')"
   ]
  },
  {
   "cell_type": "code",
   "execution_count": null,
   "metadata": {},
   "outputs": [],
   "source": [
    "# one of the things phase stability data does is filter out reactions invovling non-MELTS phases"
   ]
  },
  {
   "cell_type": "code",
   "execution_count": null,
   "metadata": {},
   "outputs": [],
   "source": [
    "print('There are ' + str(len(phase_stability_data._phase_stability_exps)) + ' valid experiments')"
   ]
  },
  {
   "cell_type": "code",
   "execution_count": null,
   "metadata": {},
   "outputs": [],
   "source": [
    "print('There are ' + str(len(phase_stability_data._exp_index_invalid)) + ' experiments with phases not found in the LEPR database')"
   ]
  },
  {
   "cell_type": "code",
   "execution_count": null,
   "metadata": {},
   "outputs": [],
   "source": [
    "mask = [idx not in phase_stability_data._exp_index_invalid for idx in exp_data.index]\n"
   ]
  },
  {
   "cell_type": "code",
   "execution_count": null,
   "metadata": {},
   "outputs": [],
   "source": [
    "rxn_1 = phase_stability_data._phase_stability_exps[0]"
   ]
  },
  {
   "cell_type": "code",
   "execution_count": null,
   "metadata": {},
   "outputs": [],
   "source": [
    "rxn_1._phase_mol_endmem_comp"
   ]
  },
  {
   "cell_type": "code",
   "execution_count": null,
   "metadata": {},
   "outputs": [],
   "source": [
    "mol_oxides1 = rxn_1._phase_mol_oxide_comp"
   ]
  },
  {
   "cell_type": "code",
   "execution_count": null,
   "metadata": {},
   "outputs": [],
   "source": [
    "grt_mol_ox = mol_oxides1[-1]"
   ]
  },
  {
   "cell_type": "code",
   "execution_count": null,
   "metadata": {},
   "outputs": [],
   "source": [
    "endmember_site_occ = np.array(\n",
    "    [[3, 0, 0, 0, 2, 0, 0, 0, 0, 0],\n",
    "     [0, 3, 0, 0, 2, 0, 0, 0, 0, 0],\n",
    "     [0, 0, 3, 0, 2, 0, 0, 0, 0, 0],\n",
    "     [0, 0, 0, 3, 2, 0, 0, 0, 0, 0],\n",
    "     [3, 0, 0, 0, 0, 2, 0, 0, 0, 0],\n",
    "     [0, 3, 0, 0, 0, 0, 1, 1, 0, 0],\n",
    "     [3, 0, 0, 0, 0, 0, 0, 0, 1, 1]])"
   ]
  },
  {
   "cell_type": "code",
   "execution_count": null,
   "metadata": {},
   "outputs": [],
   "source": [
    "endmember_stoic=[]\n",
    "\n",
    "endmember_stoic.append(thermo.chem.format_mol_oxide_comp({'MgO':3, 'Al2O3':1, 'SiO2':3}))\n",
    "endmember_stoic.append(thermo.chem.format_mol_oxide_comp({'CaO':3, 'Al2O3':1, 'SiO2':3}))\n",
    "endmember_stoic.append(thermo.chem.format_mol_oxide_comp({'MnO':3, 'Al2O3':1, 'SiO2':3}))\n",
    "endmember_stoic.append(thermo.chem.format_mol_oxide_comp({'FeO':3, 'Al2O3':1, 'SiO2':3}))\n",
    "endmember_stoic.append(thermo.chem.format_mol_oxide_comp({'MgO':3, 'Cr2O3':1, 'SiO2':3}))\n",
    "endmember_stoic.append(thermo.chem.format_mol_oxide_comp({'CaO':3, 'TiO2':1, 'FeO':1, 'SiO2':3}))\n",
    "endmember_stoic.append(thermo.chem.format_mol_oxide_comp({'MgO':4, 'SiO2':4}))\n",
    "endmember_stoic=np.array(endmember_comp)"
   ]
  },
  {
   "cell_type": "code",
   "execution_count": null,
   "metadata": {},
   "outputs": [],
   "source": [
    "endmember_stoic"
   ]
  },
  {
   "cell_type": "code",
   "execution_count": null,
   "metadata": {},
   "outputs": [],
   "source": [
    "mol_oxides = mol_oxides1[-1]"
   ]
  },
  {
   "cell_type": "code",
   "execution_count": null,
   "metadata": {},
   "outputs": [],
   "source": [
    "from scipy import optimize\n",
    "\n",
    "def mol_oxide_to_mol_endmember(mol_oxides, endmember_site_occ, endmember_stoic):\n",
    "    \n",
    "    endmember_site_occ_inv = np.linalg.pinv(endmember_site_occ.T)\n",
    "    site_occ_stoic = np.dot(endmember_stoic.T, endmember_site_occ_inv)\n",
    "    \n",
    "    site_occ, residual = optimize.nnls(site_occ_stoic, mol_oxides)\n",
    "    #endmember_comp = np.dot(endmember_site_occ_inv, site_occ)\n",
    "    endmember_comp, residual = optimize.nnls(endmember_site_occ.T, site_occ)\n",
    "    \n",
    "    return endmember_comp, residual\n",
    "    "
   ]
  },
  {
   "cell_type": "code",
   "execution_count": null,
   "metadata": {},
   "outputs": [],
   "source": [
    "mol_oxide_to_mol_endmember(mol_oxides, endmember_site_occ, endmember_stoic)"
   ]
  },
  {
   "cell_type": "code",
   "execution_count": null,
   "metadata": {},
   "outputs": [],
   "source": [
    "grt_mol_oxides = phs_mol_comp['Garnet']"
   ]
  },
  {
   "cell_type": "code",
   "execution_count": null,
   "metadata": {},
   "outputs": [],
   "source": [
    "endmember_comp = []\n",
    "residuals = []\n",
    "for imol_ox in grt_mol_oxides.values:\n",
    "    try:\n",
    "        iendmember_comp, iresidual = mol_oxide_to_mol_endmember(imol_ox, endmember_site_occ, \n",
    "                                                                endmember_stoic)\n",
    "    except:\n",
    "        iendmember_comp = None\n",
    "        iresidual = None\n",
    "            \n",
    "            \n",
    "    endmember_comp.append(iendmember_comp)\n",
    "    residuals.append(iresidual)\n",
    "    "
   ]
  },
  {
   "cell_type": "code",
   "execution_count": null,
   "metadata": {},
   "outputs": [],
   "source": [
    "ternary_frac = []\n",
    "for iendmember_comp in endmember_comp:\n",
    "    try:\n",
    "        iternary_frac = np.sum(iendmember_comp[[0,1,3]])/np.sum(iendmember_comp)\n",
    "        \n",
    "    except:\n",
    "        iternary_frac = np.nan\n",
    "        \n",
    "    ternary_frac.append(iternary_frac)\n",
    "    \n",
    "ternary_frac = np.array(ternary_frac)    "
   ]
  },
  {
   "cell_type": "code",
   "execution_count": null,
   "metadata": {},
   "outputs": [],
   "source": [
    "endmember_comp[0]"
   ]
  },
  {
   "cell_type": "code",
   "execution_count": null,
   "metadata": {},
   "outputs": [],
   "source": [
    "ternary_frac"
   ]
  },
  {
   "cell_type": "markdown",
   "metadata": {},
   "source": [
    "# Reaction visualization"
   ]
  },
  {
   "cell_type": "markdown",
   "metadata": {},
   "source": [
    "## rxn_svd visualization"
   ]
  },
  {
   "cell_type": "code",
   "execution_count": null,
   "metadata": {},
   "outputs": [],
   "source": [
    "phs_info=phase_stability_data.get_phase_exp_info"
   ]
  },
  {
   "cell_type": "code",
   "execution_count": null,
   "metadata": {},
   "outputs": [],
   "source": [
    "phs_info"
   ]
  },
  {
   "cell_type": "code",
   "execution_count": null,
   "metadata": {},
   "outputs": [],
   "source": [
    "rxn_max = np.max(rxn_svd)\n",
    "\n",
    "plt.figure()\n",
    "plt.imshow(rxn_svd,cmap='seismic')\n",
    "plt.clim(-rxn_max, +rxn_max)\n",
    "plt.colorbar()\n",
    "\n",
    "plt.xlabel('Endmember ID#')\n",
    "plt.ylabel('Balanced Rxn ID#')\n",
    "#plt.xlim(6.5,9.5)"
   ]
  },
  {
   "cell_type": "markdown",
   "metadata": {},
   "source": [
    "### All reactions after filtering rxn_svd"
   ]
  },
  {
   "cell_type": "code",
   "execution_count": null,
   "metadata": {},
   "outputs": [],
   "source": [
    "# not currently using this\n",
    "plt.figure()\n",
    "plt.imshow(rxn_coefs,cmap='seismic')\n",
    "plt.clim(-rxn_max, +rxn_max)\n",
    "plt.colorbar()\n",
    "\n",
    "plt.xlabel('Endmember ID#')\n",
    "plt.ylabel('Balanced Rxn ID#')"
   ]
  },
  {
   "cell_type": "markdown",
   "metadata": {},
   "source": [
    "### Reaction correlation"
   ]
  },
  {
   "cell_type": "code",
   "execution_count": null,
   "metadata": {},
   "outputs": [],
   "source": [
    "# not currently using this\n",
    "ortho_project =np.dot(rxn_coefs, rxn_coefs.T) \n",
    "\n",
    "plt.figure()\n",
    "plt.imshow(ortho_project, cmap='seismic')\n",
    "plt.colorbar()\n",
    "plt.clim(-1,1)\n",
    "\n",
    "plt.xlabel('Basic Rxn ID#')\n",
    "plt.ylabel('Basic Rxn ID#')\n",
    "plt.title('Basic Rxn Correlation')"
   ]
  },
  {
   "cell_type": "markdown",
   "metadata": {},
   "source": [
    "### Subset of new reactions "
   ]
  },
  {
   "cell_type": "code",
   "execution_count": null,
   "metadata": {},
   "outputs": [],
   "source": [
    "plt.figure()\n",
    "plt.plot(rxn_coefs[::10].T, '-')\n",
    "plt.xlabel('')\n",
    "plt.ylabel('rxn')\n",
    "plt.legend(['0','10','20','30'])"
   ]
  },
  {
   "cell_type": "code",
   "execution_count": null,
   "metadata": {},
   "outputs": [],
   "source": []
  },
  {
   "cell_type": "markdown",
   "metadata": {},
   "source": [
    "# Garnet endmember space"
   ]
  },
  {
   "cell_type": "code",
   "execution_count": null,
   "metadata": {},
   "outputs": [],
   "source": [
    "iphs_name = 'Garnet'\n",
    "iphs = modelDB.get_phase('Grt')\n",
    "\n",
    "iendmem_names = iphs.endmember_names\n",
    "\n",
    "imol_comp = phs_mol_comp[iphs_name]\n",
    "endmem_labels = iphs.endmember_names\n"
   ]
  },
  {
   "cell_type": "code",
   "execution_count": null,
   "metadata": {},
   "outputs": [],
   "source": [
    "imol_comp.T.head()"
   ]
  },
  {
   "cell_type": "code",
   "execution_count": null,
   "metadata": {},
   "outputs": [],
   "source": [
    "iendmem_comp = []\n",
    "method='intrinsic'\n",
    "\n",
    "for idx in imol_comp.T:\n",
    "    ijmol_comp = imol_comp.loc[idx].values\n",
    "    \n",
    "    ijendmem_comp = iphs.calc_endmember_comp(\n",
    "        ijmol_comp, output_residual=False,  \n",
    "        method=method, normalize=True)\n",
    "    \n",
    "    # iendmem_comp.append(ijendmem_comp/np.sum(ijendmem_comp))\n",
    "    iendmem_comp.append(ijendmem_comp)\n",
    "    \n",
    "iendmem_comp = np.array(iendmem_comp)\n",
    "    "
   ]
  },
  {
   "cell_type": "code",
   "execution_count": null,
   "metadata": {},
   "outputs": [],
   "source": [
    "iendmem_comp"
   ]
  },
  {
   "cell_type": "code",
   "execution_count": null,
   "metadata": {},
   "outputs": [],
   "source": [
    "iendmem_comp[:,0]"
   ]
  },
  {
   "cell_type": "code",
   "execution_count": null,
   "metadata": {},
   "outputs": [],
   "source": [
    "tern_scatter(iendmem_comp[:,0], \n",
    "             iendmem_comp[:,1], \n",
    "             iendmem_comp[:,2], \n",
    "             0, fignum=None, marker='o', \n",
    "             vmin=-.1, vmax=+.1, cmap='viridis',\n",
    "             labels=endmem_labels)"
   ]
  },
  {
   "cell_type": "code",
   "execution_count": null,
   "metadata": {},
   "outputs": [],
   "source": []
  },
  {
   "cell_type": "code",
   "execution_count": null,
   "metadata": {},
   "outputs": [],
   "source": []
  },
  {
   "cell_type": "markdown",
   "metadata": {},
   "source": [
    "# Reaction affinity calculation"
   ]
  },
  {
   "cell_type": "code",
   "execution_count": null,
   "metadata": {},
   "outputs": [],
   "source": [
    "affinities = phase_stability_data.calc_equil_rxn_affinities()"
   ]
  },
  {
   "cell_type": "code",
   "execution_count": null,
   "metadata": {},
   "outputs": [],
   "source": [
    "affinities_all = np.hstack(affinities)\n",
    "affinities_clean = affinities_all[~np.isnan(affinities_all)]\n",
    "\n",
    "plt.figure()\n",
    "plt.hist(affinities_clean, 101)\n",
    "plt.figure()\n",
    "plt.plot(ternary_frac[mask],rms_affinities,'ko')"
   ]
  },
  {
   "cell_type": "code",
   "execution_count": null,
   "metadata": {},
   "outputs": [],
   "source": [
    "np.mean(rms_affinities>3250)"
   ]
  },
  {
   "cell_type": "code",
   "execution_count": null,
   "metadata": {},
   "outputs": [],
   "source": []
  },
  {
   "cell_type": "code",
   "execution_count": null,
   "metadata": {},
   "outputs": [],
   "source": []
  },
  {
   "cell_type": "code",
   "execution_count": null,
   "metadata": {},
   "outputs": [],
   "source": []
  },
  {
   "cell_type": "code",
   "execution_count": null,
   "metadata": {},
   "outputs": [],
   "source": [
    "affinities[16]"
   ]
  },
  {
   "cell_type": "code",
   "execution_count": null,
   "metadata": {},
   "outputs": [],
   "source": [
    "rms_affinities = []\n",
    "aff_max = []\n",
    "for iaff in affinities:\n",
    "    rms_affinities.append(np.sqrt(np.mean(iaff**2)))\n",
    "    try:\n",
    "        iaff_max = np.nanmax(np.abs(iaff))\n",
    "    except:\n",
    "        iaff_max = np.nan\n",
    "    aff_max.append(iaff_max)\n",
    "    \n",
    "rms_affinities=np.array(rms_affinities)\n",
    "aff_max = np.array(aff_max)\n",
    "    "
   ]
  },
  {
   "cell_type": "code",
   "execution_count": null,
   "metadata": {},
   "outputs": [],
   "source": [
    "aff_max"
   ]
  },
  {
   "cell_type": "code",
   "execution_count": null,
   "metadata": {},
   "outputs": [],
   "source": [
    "import matplotlib.pyplot as plt\n",
    "%matplotlib notebook\n",
    "\n",
    "\n",
    "\n",
    "plt.figure()\n",
    "#plt.semilogy(ternary_frac[mask], rms_affinities, 'bo')\n",
    "plt.semilogy(ternary_frac[mask], aff_max, 'bo')\n",
    "\n",
    "\n",
    "plt.ylabel('rms_affinities')\n",
    "plt.xlabel('fraction in ternary garnet space')\n",
    "plt.show()"
   ]
  },
  {
   "cell_type": "code",
   "execution_count": null,
   "metadata": {},
   "outputs": [],
   "source": [
    "plt.figure()\n",
    "plt.hist(ternary_frac[~np.isnan(ternary_frac)],70)"
   ]
  },
  {
   "cell_type": "code",
   "execution_count": null,
   "metadata": {},
   "outputs": [],
   "source": [
    "aff1=affinities[1]"
   ]
  },
  {
   "cell_type": "code",
   "execution_count": null,
   "metadata": {},
   "outputs": [],
   "source": [
    "rms = np.sqrt(np.mean(aff1**2))"
   ]
  },
  {
   "cell_type": "code",
   "execution_count": null,
   "metadata": {},
   "outputs": [],
   "source": [
    "rms"
   ]
  },
  {
   "cell_type": "code",
   "execution_count": null,
   "metadata": {},
   "outputs": [],
   "source": [
    "iexp = phase_stability_data._phase_stability_exps[100]\n",
    "%timeit iexp.calc_equil_rxn_affinities()"
   ]
  },
  {
   "cell_type": "code",
   "execution_count": null,
   "metadata": {},
   "outputs": [],
   "source": []
  }
 ],
 "metadata": {
  "kernelspec": {
   "display_name": "Python 3",
   "language": "python",
   "name": "python3"
  },
  "language_info": {
   "codemirror_mode": {
    "name": "ipython",
    "version": 3
   },
   "file_extension": ".py",
   "mimetype": "text/x-python",
   "name": "python",
   "nbconvert_exporter": "python",
   "pygments_lexer": "ipython3",
   "version": "3.6.3"
  }
 },
 "nbformat": 4,
 "nbformat_minor": 2
}
