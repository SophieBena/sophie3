{
 "cells": [
  {
   "cell_type": "code",
   "execution_count": null,
   "metadata": {},
   "outputs": [],
   "source": [
    "\n",
    "import os\n",
    "\n",
    "os.chdir('/Users/jennaadams/Documents/projects/thermoengine_mirrored/https:/gitlab.com/aswolf/ThermoEngineMirror/Notebooks/Calibration/Garnet_calibration')"
   ]
  },
  {
   "cell_type": "code",
   "execution_count": null,
   "metadata": {},
   "outputs": [],
   "source": [
    "import thermoengine as thermo\n",
    "\n",
    "import numpy as np\n",
    "import pandas as pd\n",
    "import pickle as pkl\n",
    "import dill\n",
    "\n",
    "import matplotlib.pyplot as plt\n",
    "from collections import OrderedDict\n",
    "\n",
    "import sympy as sym\n",
    "import copy\n",
    "sym.init_printing()"
   ]
  },
  {
   "cell_type": "code",
   "execution_count": null,
   "metadata": {},
   "outputs": [],
   "source": [
    "use_pure_phase = False\n",
    "use_coder_module = True\n",
    "calib = True"
   ]
  },
  {
   "cell_type": "markdown",
   "metadata": {},
   "source": [
    "## Import coder 3-component garnet model for Berman 1996"
   ]
  },
  {
   "cell_type": "code",
   "execution_count": null,
   "metadata": {},
   "outputs": [],
   "source": [
    "#%cd /Users/jennaadams/Documents/projects/ThermoEngine/Notebooks/Codegen\n",
    "#%run 'Garnet_Berman96_std_state_udpated.ipynb'"
   ]
  },
  {
   "cell_type": "code",
   "execution_count": null,
   "metadata": {},
   "outputs": [],
   "source": [
    "if use_coder_module:\n",
    "    %cd /Users/jennaadams/Documents/projects/thermoengine_mirrored/https:/gitlab.com/aswolf/ThermoEngineMirror/Notebooks/Codegen/working\n",
    "    from pyximport import install\n",
    "    install()\n",
    "    if use_pure_phase:\n",
    "        import berman\n",
    "    else:\n",
    "        import Berman96_Solution\n",
    "    %cd ..\n",
    "    if use_pure_phase:\n",
    "        modelDB_berman96 = thermo.model.Database(database=\"CoderModule\", calib=calib, \n",
    "                                 phase_tuple=('berman', {'Or':['Potassium_Feldspar','pure']}))\n",
    "    else:\n",
    "        #modelDB_berman96 = thermo.model.Database(liq_mod='pMELTS', database=\"CoderModule\", calib=calib,\n",
    "        modelDB_berman96 = thermo.model.Database(database=\"CoderModule\", calib=calib, \n",
    "                                 phase_tuple=('Berman96_Solution', {'Grt':['Garnet','solution']}))\n",
    "else:\n",
    "    modelDB_berman96 = thermo.model.Database()\n",
    "\n",
    "if use_pure_phase:\n",
    "    phase = modelDB_berman96.get_phase('Or')\n",
    "else:\n",
    "    phase = modelDB_berman96.get_phase('Grt')\n",
    "\n",
    "#for phase_name, abbrv in zip(modelDB_berman96.phase_info.phase_name,modelDB_berman96.phase_info.abbrev):\n",
    "    #print ('Abbreviation: {0:<10s} Name: {1:<30s}'.format(abbrv, phase_name))"
   ]
  },
  {
   "cell_type": "code",
   "execution_count": null,
   "metadata": {},
   "outputs": [],
   "source": [
    "modelDB_berman96.phases"
   ]
  },
  {
   "cell_type": "code",
   "execution_count": null,
   "metadata": {},
   "outputs": [],
   "source": [
    "berman96_coder=modelDB_berman96.phases['Grt']"
   ]
  },
  {
   "cell_type": "code",
   "execution_count": null,
   "metadata": {},
   "outputs": [],
   "source": [
    "berman96_coder.get_param_values()"
   ]
  },
  {
   "cell_type": "markdown",
   "metadata": {},
   "source": [
    "## Import coder 3-component garnet model for Berman 1996 with pMELTS liquid"
   ]
  },
  {
   "cell_type": "code",
   "execution_count": null,
   "metadata": {},
   "outputs": [],
   "source": [
    "if use_coder_module:\n",
    "    %cd /Users/jennaadams/Documents/projects/thermoengine_mirrored/https:/gitlab.com/aswolf/ThermoEngineMirror/Notebooks/Codegen/working\n",
    "    from pyximport import install\n",
    "    install()\n",
    "    if use_pure_phase:\n",
    "        import berman\n",
    "    else:\n",
    "        import Berman96_Solution\n",
    "    %cd ..\n",
    "    if use_pure_phase:\n",
    "        modelDB_berman96_pmelts = thermo.model.Database(database=\"CoderModule\", calib=calib, \n",
    "                                 phase_tuple=('berman', {'Or':['Potassium_Feldspar','pure']}))\n",
    "    else:\n",
    "        #modelDB_berman96 = thermo.model.Database(liq_mod='pMELTS', database=\"CoderModule\", calib=calib,\n",
    "        modelDB_berman96_pmelts = thermo.model.Database(liq_mod='pMELTS', database=\"CoderModule\", calib=calib, \n",
    "                                 phase_tuple=('Berman96_Solution', {'Grt':['Garnet','solution']}))\n",
    "else:\n",
    "    modelDB_berman96_pmelts = thermo.model.Database()\n",
    "\n",
    "if use_pure_phase:\n",
    "    phase = modelDB_berman96_pmelts.get_phase('Or')\n",
    "else:\n",
    "    phase = modelDB_berman96_pmelts.get_phase('Grt')\n",
    "\n",
    "#for phase_name, abbrv in zip(modelDB_berman96.phase_info.phase_name,modelDB_berman96.phase_info.abbrev):\n",
    "    #print ('Abbreviation: {0:<10s} Name: {1:<30s}'.format(abbrv, phase_name))"
   ]
  },
  {
   "cell_type": "code",
   "execution_count": null,
   "metadata": {},
   "outputs": [],
   "source": [
    "modelDB_berman96_pmelts.phases"
   ]
  },
  {
   "cell_type": "code",
   "execution_count": null,
   "metadata": {},
   "outputs": [],
   "source": [
    "berman96_coder_pmelts=modelDB_berman96_pmelts.phases['Grt']"
   ]
  },
  {
   "cell_type": "code",
   "execution_count": null,
   "metadata": {},
   "outputs": [],
   "source": [
    "berman96_coder_pmelts.get_param_values()"
   ]
  },
  {
   "cell_type": "markdown",
   "metadata": {},
   "source": [
    "## Import Ganguly 1996 coder module"
   ]
  },
  {
   "cell_type": "code",
   "execution_count": null,
   "metadata": {},
   "outputs": [],
   "source": [
    "#%cd /Users/jennaadams/Documents/projects/ThermoEngine/Notebooks/Codegen\n",
    "#%run 'ternary-garnet-berman91-std-state-updated.ipynb'"
   ]
  },
  {
   "cell_type": "code",
   "execution_count": null,
   "metadata": {},
   "outputs": [],
   "source": [
    "if use_coder_module:\n",
    "    %cd /Users/jennaadams/Documents/projects/thermoengine_mirrored/https:/gitlab.com/aswolf/ThermoEngineMirror/Notebooks/Codegen/working\n",
    "    from pyximport import install\n",
    "    install()\n",
    "    if use_pure_phase:\n",
    "        import berman\n",
    "    else:\n",
    "        import Ganguly96_Solution\n",
    "    %cd ..\n",
    "    if use_pure_phase:\n",
    "        modelDB_ganguly96 = thermo.model.Database(database=\"CoderModule\", calib=calib, \n",
    "                                 phase_tuple=('berman', {'Or':['Potassium_Feldspar','pure']}))\n",
    "    else:\n",
    "        modelDB_ganguly96 = thermo.model.Database(database=\"CoderModule\", calib=calib, \n",
    "                                 phase_tuple=('Ganguly96_Solution', {'Grt':['Garnet','solution']}))\n",
    "else:\n",
    "    modelDB_ganguly96 = thermo.model.Database()\n",
    "\n",
    "if use_pure_phase:\n",
    "    phase = modelDB_ganguly96.get_phase('Or')\n",
    "else:\n",
    "    phase = modelDB_ganguly96.get_phase('Grt')\n",
    "\n",
    "#for phase_name, abbrv in zip(modelDB_ganguly96.phase_info.phase_name,modelDB_ganguly96.phase_info.abbrev):\n",
    "#    print ('Abbreviation: {0:<10s} Name: {1:<30s}'.format(abbrv, phase_name))"
   ]
  },
  {
   "cell_type": "code",
   "execution_count": null,
   "metadata": {},
   "outputs": [],
   "source": [
    "ganguly96_coder=modelDB_ganguly96.phases['Grt']"
   ]
  },
  {
   "cell_type": "code",
   "execution_count": null,
   "metadata": {},
   "outputs": [],
   "source": [
    "ganguly96_coder.get_param_values()"
   ]
  },
  {
   "cell_type": "markdown",
   "metadata": {},
   "source": [
    "## Import Ganguly 1996 coder module with pMELTS liquid"
   ]
  },
  {
   "cell_type": "code",
   "execution_count": null,
   "metadata": {},
   "outputs": [],
   "source": [
    "#%cd /Users/jennaadams/Documents/projects/ThermoEngine/Notebooks/Codegen\n",
    "#%run 'ternary-garnet-berman91-std-state-updated.ipynb'"
   ]
  },
  {
   "cell_type": "code",
   "execution_count": null,
   "metadata": {},
   "outputs": [],
   "source": [
    "if use_coder_module:\n",
    "    %cd /Users/jennaadams/Documents/projects/thermoengine_mirrored/https:/gitlab.com/aswolf/ThermoEngineMirror/Notebooks/Codegen/working\n",
    "    from pyximport import install\n",
    "    install()\n",
    "    if use_pure_phase:\n",
    "        import berman\n",
    "    else:\n",
    "        import Ganguly96_Solution\n",
    "    %cd ..\n",
    "    if use_pure_phase:\n",
    "        modelDB_ganguly96_pmelts = thermo.model.Database(database=\"CoderModule\", calib=calib, \n",
    "                                 phase_tuple=('berman', {'Or':['Potassium_Feldspar','pure']}))\n",
    "    else:\n",
    "        modelDB_ganguly96_pmelts = thermo.model.Database(liq_mod='pMELTS', database=\"CoderModule\", calib=calib, \n",
    "                                 phase_tuple=('Ganguly96_Solution', {'Grt':['Garnet','solution']}))\n",
    "else:\n",
    "    modelDB_ganguly96_pmelts = thermo.model.Database()\n",
    "\n",
    "if use_pure_phase:\n",
    "    phase = modelDB_ganguly96_pmelts.get_phase('Or')\n",
    "else:\n",
    "    phase = modelDB_ganguly96_pmelts.get_phase('Grt')\n",
    "\n",
    "#for phase_name, abbrv in zip(modelDB_ganguly96.phase_info.phase_name,modelDB_ganguly96.phase_info.abbrev):\n",
    "#    print ('Abbreviation: {0:<10s} Name: {1:<30s}'.format(abbrv, phase_name))"
   ]
  },
  {
   "cell_type": "code",
   "execution_count": null,
   "metadata": {},
   "outputs": [],
   "source": [
    "ganguly96_coder_pmelts=modelDB_ganguly96_pmelts.phases['Grt']"
   ]
  },
  {
   "cell_type": "code",
   "execution_count": null,
   "metadata": {},
   "outputs": [],
   "source": [
    "ganguly96_coder_pmelts.get_param_values()"
   ]
  },
  {
   "cell_type": "markdown",
   "metadata": {},
   "source": [
    "## Import Muko 1997 coder module"
   ]
  },
  {
   "cell_type": "code",
   "execution_count": null,
   "metadata": {},
   "outputs": [],
   "source": [
    "if use_coder_module:\n",
    "    %cd /Users/jennaadams/Documents/projects/thermoengine_mirrored/https:/gitlab.com/aswolf/ThermoEngineMirror/Notebooks/Codegen/working\n",
    "    from pyximport import install\n",
    "    install()\n",
    "    if use_pure_phase:\n",
    "        import berman\n",
    "    else:\n",
    "        import Muko97_Solution\n",
    "    %cd ..\n",
    "    if use_pure_phase:\n",
    "        modelDB_muko97 = thermo.model.Database(database=\"CoderModule\", calib=calib, \n",
    "                                 phase_tuple=('berman', {'Or':['Potassium_Feldspar','pure']}))\n",
    "    else:\n",
    "        modelDB_muko97 = thermo.model.Database(database=\"CoderModule\", calib=calib, \n",
    "                                 phase_tuple=('Muko97_Solution', {'Grt':['Garnet','solution']}))\n",
    "else:\n",
    "    modelDB_muko97 = thermo.model.Database()\n",
    "\n",
    "if use_pure_phase:\n",
    "    phase = modelDB_muko97.get_phase('Or')\n",
    "else:\n",
    "    phase = modelDB_muko97.get_phase('Grt')\n",
    "\n",
    "#for phase_name, abbrv in zip(modelDB_muko97.phase_info.phase_name,modelDB_muko97.phase_info.abbrev):\n",
    "#    print ('Abbreviation: {0:<10s} Name: {1:<30s}'.format(abbrv, phase_name))"
   ]
  },
  {
   "cell_type": "code",
   "execution_count": null,
   "metadata": {},
   "outputs": [],
   "source": [
    "muko97_coder=modelDB_muko97.phases['Grt']"
   ]
  },
  {
   "cell_type": "code",
   "execution_count": null,
   "metadata": {},
   "outputs": [],
   "source": [
    "muko97_coder.get_param_values()"
   ]
  },
  {
   "cell_type": "markdown",
   "metadata": {},
   "source": [
    "## Import Muko 1997 coder module with pMELTS liquid"
   ]
  },
  {
   "cell_type": "code",
   "execution_count": null,
   "metadata": {},
   "outputs": [],
   "source": [
    "if use_coder_module:\n",
    "    %cd /Users/jennaadams/Documents/projects/thermoengine_mirrored/https:/gitlab.com/aswolf/ThermoEngineMirror/Notebooks/Codegen/working\n",
    "    from pyximport import install\n",
    "    install()\n",
    "    if use_pure_phase:\n",
    "        import berman\n",
    "    else:\n",
    "        import Muko97_Solution\n",
    "    %cd ..\n",
    "    if use_pure_phase:\n",
    "        modelDB_muko97_pmelts = thermo.model.Database(database=\"CoderModule\", calib=calib, \n",
    "                                 phase_tuple=('berman', {'Or':['Potassium_Feldspar','pure']}))\n",
    "    else:\n",
    "        modelDB_muko97_pmelts = thermo.model.Database(liq_mod='pMELTS', database=\"CoderModule\", calib=calib, \n",
    "                                 phase_tuple=('Muko97_Solution', {'Grt':['Garnet','solution']}))\n",
    "else:\n",
    "    modelDB_muko97_pmelts = thermo.model.Database()\n",
    "\n",
    "if use_pure_phase:\n",
    "    phase = modelDB_muko97_pmelts.get_phase('Or')\n",
    "else:\n",
    "    phase = modelDB_muko97_pmelts.get_phase('Grt')\n",
    "\n",
    "#for phase_name, abbrv in zip(modelDB_muko97.phase_info.phase_name,modelDB_muko97.phase_info.abbrev):\n",
    "#    print ('Abbreviation: {0:<10s} Name: {1:<30s}'.format(abbrv, phase_name))"
   ]
  },
  {
   "cell_type": "code",
   "execution_count": null,
   "metadata": {},
   "outputs": [],
   "source": [
    "muko97_coder_pmelts=modelDB_muko97_pmelts.phases['Grt']"
   ]
  },
  {
   "cell_type": "code",
   "execution_count": null,
   "metadata": {},
   "outputs": [],
   "source": [
    "muko97_coder_pmelts.get_param_values()"
   ]
  },
  {
   "cell_type": "markdown",
   "metadata": {},
   "source": [
    "## Import berman 1991 coder model"
   ]
  },
  {
   "cell_type": "code",
   "execution_count": null,
   "metadata": {},
   "outputs": [],
   "source": [
    "if use_coder_module:\n",
    "    %cd /Users/jennaadams/Documents/projects/thermoengine_mirrored/https:/gitlab.com/aswolf/ThermoEngineMirror/Notebooks/Codegen/working\n",
    "    from pyximport import install\n",
    "    install()\n",
    "    if use_pure_phase:\n",
    "        import berman\n",
    "    else:\n",
    "        import Berman_91_Garnet_Solution\n",
    "    %cd ..\n",
    "    if use_pure_phase:\n",
    "        modelDB_berman91 = thermo.model.Database(database=\"CoderModule\", calib=calib, \n",
    "                                 phase_tuple=('berman', {'Or':['Potassium_Feldspar','pure']}))\n",
    "    else:\n",
    "        modelDB_berman91 = thermo.model.Database(database=\"CoderModule\", calib=calib, \n",
    "                                 phase_tuple=('Berman_91_Garnet_Solution', {'Grt':['Garnet','solution']}))\n",
    "else:\n",
    "    modelDB_berman91 = thermo.model.Database()\n",
    "\n",
    "if use_pure_phase:\n",
    "    phase = modelDB_berman91.get_phase('Or')\n",
    "else:\n",
    "    phase = modelDB_berman91.get_phase('Grt')\n",
    "\n",
    "#for phase_name, abbrv in zip(modelDB_berman91.phase_info.phase_name,modelDB_berman91.phase_info.abbrev):\n",
    "#    print ('Abbreviation: {0:<10s} Name: {1:<30s}'.format(abbrv, phase_name))"
   ]
  },
  {
   "cell_type": "code",
   "execution_count": null,
   "metadata": {},
   "outputs": [],
   "source": [
    "berman91_coder=modelDB_berman91.phases['Grt']"
   ]
  },
  {
   "cell_type": "code",
   "execution_count": null,
   "metadata": {},
   "outputs": [],
   "source": [
    "berman91_coder.get_param_values()"
   ]
  },
  {
   "cell_type": "markdown",
   "metadata": {},
   "source": [
    "## Import berman 1991 coder model with pmelts liquid"
   ]
  },
  {
   "cell_type": "code",
   "execution_count": null,
   "metadata": {},
   "outputs": [],
   "source": [
    "if use_coder_module:\n",
    "    %cd /Users/jennaadams/Documents/projects/thermoengine_mirrored/https:/gitlab.com/aswolf/ThermoEngineMirror/Notebooks/Codegen/working\n",
    "    from pyximport import install\n",
    "    install()\n",
    "    if use_pure_phase:\n",
    "        import berman\n",
    "    else:\n",
    "        import Berman_91_Garnet_Solution\n",
    "    %cd ..\n",
    "    if use_pure_phase:\n",
    "        modelDB_berman91_pmelts = thermo.model.Database(database=\"CoderModule\", calib=calib, \n",
    "                                 phase_tuple=('berman', {'Or':['Potassium_Feldspar','pure']}))\n",
    "    else:\n",
    "        modelDB_berman91_pmelts = thermo.model.Database(liq_mod='pMELTS', database=\"CoderModule\", calib=calib, \n",
    "                                 phase_tuple=('Berman_91_Garnet_Solution', {'Grt':['Garnet','solution']}))\n",
    "else:\n",
    "    modelDB_berman91_pmelts = thermo.model.Database()\n",
    "\n",
    "if use_pure_phase:\n",
    "    phase = modelDB_berman91_pmelts.get_phase('Or')\n",
    "else:\n",
    "    phase = modelDB_berman91_pmelts.get_phase('Grt')\n",
    "\n",
    "#for phase_name, abbrv in zip(modelDB_berman91.phase_info.phase_name,modelDB_berman91.phase_info.abbrev):\n",
    "#    print ('Abbreviation: {0:<10s} Name: {1:<30s}'.format(abbrv, phase_name))"
   ]
  },
  {
   "cell_type": "code",
   "execution_count": null,
   "metadata": {},
   "outputs": [],
   "source": [
    "berman91_coder_pmelts=modelDB_berman91_pmelts.phases['Grt']"
   ]
  },
  {
   "cell_type": "code",
   "execution_count": null,
   "metadata": {},
   "outputs": [],
   "source": [
    "berman91_coder_pmelts.get_param_values()"
   ]
  },
  {
   "cell_type": "markdown",
   "metadata": {},
   "source": [
    "## Import ideal coder model"
   ]
  },
  {
   "cell_type": "code",
   "execution_count": null,
   "metadata": {},
   "outputs": [],
   "source": [
    "if use_coder_module:\n",
    "    %cd /Users/jennaadams/Documents/projects/thermoengine_mirrored/https:/gitlab.com/aswolf/ThermoEngineMirror/Notebooks/Codegen/working\n",
    "    from pyximport import install\n",
    "    install()\n",
    "    if use_pure_phase:\n",
    "        import berman\n",
    "    else:\n",
    "        import Garnet_Solution_ideal\n",
    "    %cd ..\n",
    "    if use_pure_phase:\n",
    "        \n",
    "        modelDB_fitted_pmelts = thermo.model.Database(database=\"CoderModule\", calib=calib, \n",
    "                                 phase_tuple=('berman', {'Or':['Potassium_Feldspar','pure']}))\n",
    "    else:\n",
    "        modelDB_fitted_pmelts = thermo.model.Database(liq_mod='pMELTS', database=\"CoderModule\", calib=calib, \n",
    "                                 phase_tuple=('Garnet_Solution_ideal', {'Grt':['Garnet','solution']}))\n",
    "else:\n",
    "    modelDB_fitted = thermo.model.Database()\n",
    "\n",
    "if use_pure_phase:\n",
    "    phase = modelDB_fitted_pmelts.get_phase('Or')\n",
    "else:\n",
    "    phase = modelDB_fitted_pmelts.get_phase('Grt')\n",
    "\n",
    "#for phase_name, abbrv in zip(modelDB_berman91.phase_info.phase_name,modelDB_berman91.phase_info.abbrev):\n",
    "#    print ('Abbreviation: {0:<10s} Name: {1:<30s}'.format(abbrv, phase_name))"
   ]
  },
  {
   "cell_type": "code",
   "execution_count": null,
   "metadata": {},
   "outputs": [],
   "source": [
    "fitted_coder_pmelts=modelDB_fitted_pmelts.phases['Grt']"
   ]
  },
  {
   "cell_type": "code",
   "execution_count": null,
   "metadata": {},
   "outputs": [],
   "source": [
    "if use_coder_module:\n",
    "    %cd /Users/jennaadams/Documents/projects/thermoengine_mirrored/https:/gitlab.com/aswolf/ThermoEngineMirror/Notebooks/Codegen/working\n",
    "    from pyximport import install\n",
    "    install()\n",
    "    if use_pure_phase:\n",
    "        import berman\n",
    "    else:\n",
    "        import Garnet_Solution_ideal\n",
    "    %cd ..\n",
    "    if use_pure_phase:\n",
    "        \n",
    "        modelDB_fitted = thermo.model.Database(database=\"CoderModule\", calib=calib, \n",
    "                                 phase_tuple=('berman', {'Or':['Potassium_Feldspar','pure']}))\n",
    "    else:\n",
    "        modelDB_fitted = thermo.model.Database(database=\"CoderModule\", calib=calib, \n",
    "                                 phase_tuple=('Garnet_Solution_ideal', {'Grt':['Garnet','solution']}))\n",
    "else:\n",
    "    modelDB_fitted = thermo.model.Database()\n",
    "\n",
    "if use_pure_phase:\n",
    "    phase = modelDB_fitted.get_phase('Or')\n",
    "else:\n",
    "    phase = modelDB_fitted.get_phase('Grt')\n",
    "\n",
    "#for phase_name, abbrv in zip(modelDB_berman91.phase_info.phase_name,modelDB_berman91.phase_info.abbrev):\n",
    "#    print ('Abbreviation: {0:<10s} Name: {1:<30s}'.format(abbrv, phase_name))"
   ]
  },
  {
   "cell_type": "code",
   "execution_count": null,
   "metadata": {},
   "outputs": [],
   "source": [
    "fitted_coder=modelDB_fitted.phases['Grt']"
   ]
  },
  {
   "cell_type": "code",
   "execution_count": null,
   "metadata": {},
   "outputs": [],
   "source": [
    "#model_databases={'Berman96': fitted_coder,\n",
    "               #'Ganguly96':modelDB_ganguly96,\n",
    "               #'Muko97': modelDB_muko97,\n",
    "               #'Berman91': modelDB_berman91,\n",
    "               #'Fitted': fitted_coder}"
   ]
  },
  {
   "cell_type": "code",
   "execution_count": null,
   "metadata": {},
   "outputs": [],
   "source": [
    "#with open('model_databases.pkl','wb') as file:\n",
    "    #dill.dump(model_databases, file)\n",
    "    #file.close()"
   ]
  },
  {
   "cell_type": "code",
   "execution_count": null,
   "metadata": {},
   "outputs": [],
   "source": []
  },
  {
   "cell_type": "markdown",
   "metadata": {},
   "source": [
    "## Import coder 2-component Olivine model for Berman 1996"
   ]
  },
  {
   "cell_type": "code",
   "execution_count": null,
   "metadata": {},
   "outputs": [],
   "source": [
    "#%cd /Users/jennaadams/Documents/projects/ThermoEngine/Notebooks/Codegen\n",
    "#%run 'Garnet_Berman96_std_state_udpated.ipynb'"
   ]
  },
  {
   "cell_type": "code",
   "execution_count": null,
   "metadata": {},
   "outputs": [],
   "source": [
    "if use_coder_module:\n",
    "    %cd /Users/jennaadams/Documents/projects/thermoengine_mirrored/https:/gitlab.com/aswolf/ThermoEngineMirror/Notebooks/Codegen/working\n",
    "    from pyximport import install\n",
    "    install()\n",
    "    if use_pure_phase:\n",
    "        import berman\n",
    "    else:\n",
    "        import Berman96_ol_solution\n",
    "    %cd ..\n",
    "    if use_pure_phase:\n",
    "        modelDB_ol_berman96 = thermo.model.Database(database=\"CoderModule\", calib=calib, \n",
    "                                 phase_tuple=('berman', {'Or':['Potassium_Feldspar','pure']}))\n",
    "    else:\n",
    "        modelDB_ol_berman96 = thermo.model.Database(database=\"CoderModule\", calib=calib, \n",
    "                                 phase_tuple=('Berman96_ol_solution', {'Ol':['Olivine','solution']}))\n",
    "else:\n",
    "    modelDB_ol_berman96 = thermo.model.Database()\n",
    "\n",
    "if use_pure_phase:\n",
    "    phase = modelDB_berman96.get_phase('Or')\n",
    "else:\n",
    "    phase = modelDB_ol_berman96.get_phase('Ol')\n",
    "\n",
    "#for phase_name, abbrv in zip(modelDB_berman96.phase_info.phase_name,modelDB_berman96.phase_info.abbrev):\n",
    "    #print ('Abbreviation: {0:<10s} Name: {1:<30s}'.format(abbrv, phase_name))"
   ]
  },
  {
   "cell_type": "code",
   "execution_count": null,
   "metadata": {},
   "outputs": [],
   "source": [
    "phase"
   ]
  },
  {
   "cell_type": "code",
   "execution_count": null,
   "metadata": {},
   "outputs": [],
   "source": [
    "berman96_ol_coder=modelDB_ol_berman96.phases['Ol']"
   ]
  },
  {
   "cell_type": "code",
   "execution_count": null,
   "metadata": {},
   "outputs": [],
   "source": [
    "berman96_ol_coder.get_param_values()"
   ]
  },
  {
   "cell_type": "code",
   "execution_count": null,
   "metadata": {},
   "outputs": [],
   "source": []
  }
 ],
 "metadata": {
  "kernelspec": {
   "display_name": "py36workshop",
   "language": "python",
   "name": "py36workshop"
  },
  "language_info": {
   "codemirror_mode": {
    "name": "ipython",
    "version": 3
   },
   "file_extension": ".py",
   "mimetype": "text/x-python",
   "name": "python",
   "nbconvert_exporter": "python",
   "pygments_lexer": "ipython3",
   "version": "3.6.8"
  }
 },
 "nbformat": 4,
 "nbformat_minor": 2
}
