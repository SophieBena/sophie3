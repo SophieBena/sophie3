{
 "cells": [
  {
   "cell_type": "markdown",
   "metadata": {},
   "source": [
    "# Load garnet-bearing experiments from LEPR"
   ]
  },
  {
   "cell_type": "markdown",
   "metadata": {},
   "source": [
    "## Initialize required packages"
   ]
  },
  {
   "cell_type": "code",
   "execution_count": null,
   "metadata": {},
   "outputs": [],
   "source": [
    "import thermoengine as thermo\n",
    "%run \"core.ipynb\"\n",
    "%load_ext snakeviz"
   ]
  },
  {
   "cell_type": "markdown",
   "metadata": {},
   "source": [
    "## Load experimental data\n",
    "### loads standard LEPR data from excel file, converts to pandas df and saves components of excel file into separate objects\n",
    "\n",
    "    * input:\n",
    "\n",
    "        filename: str\n",
    "            name of excel file\n",
    "\n",
    "        data_dir: keyword arg; data_dir = str\n",
    "            directory location of excel file\n",
    "\n",
    "    * output:\n",
    "        \n",
    "        exp_data: OrderedDict\n",
    "            saves specific columns of \"Experiment\" tab into ordered dictionary with \n",
    "            column names as keys\n",
    "        \n",
    "        metadata: OrderedDict\n",
    "            saves all columns regarding experimental conditions from \"Experiment\" tab\n",
    "            \n",
    "        ph_data: OrderedDict\n",
    "            saves all phase tabs\n",
    "        \n",
    "        phs_symbols: OrderedDict\n",
    "            stores phase_symbols tab from LEPR file\n",
    " \n"
   ]
  },
  {
   "cell_type": "code",
   "execution_count": null,
   "metadata": {},
   "outputs": [],
   "source": [
    "exp_data, metadata, phs_data, phs_symbols = load_LEPR_data('grt_bearing_expts.xls', data_dir='data/')"
   ]
  },
  {
   "cell_type": "code",
   "execution_count": null,
   "metadata": {},
   "outputs": [],
   "source": [
    "exp_data.keys()"
   ]
  },
  {
   "cell_type": "code",
   "execution_count": null,
   "metadata": {},
   "outputs": [],
   "source": [
    "metadata.keys()"
   ]
  },
  {
   "cell_type": "code",
   "execution_count": null,
   "metadata": {},
   "outputs": [],
   "source": [
    "phs_data"
   ]
  },
  {
   "cell_type": "code",
   "execution_count": null,
   "metadata": {},
   "outputs": [],
   "source": [
    "phs_data.keys()"
   ]
  },
  {
   "cell_type": "code",
   "execution_count": null,
   "metadata": {},
   "outputs": [],
   "source": [
    "phs_symbols['phase_symbol']"
   ]
  },
  {
   "cell_type": "markdown",
   "metadata": {},
   "source": [
    "### Change key names in each phase tab to cleaner format"
   ]
  },
  {
   "cell_type": "code",
   "execution_count": null,
   "metadata": {},
   "outputs": [],
   "source": [
    "phs_wt_comp = major_wt_oxide_LEPR_data(phs_data)\n",
    "phs_wt_comp"
   ]
  },
  {
   "cell_type": "markdown",
   "metadata": {},
   "source": [
    "### Convert from wt% oxide to mol oxide compositions for all phase compositions"
   ]
  },
  {
   "cell_type": "code",
   "execution_count": null,
   "metadata": {},
   "outputs": [],
   "source": [
    "phs_mol_comp = OrderedDict()\n",
    "for phs_tab_name in phs_wt_comp:\n",
    "    phs_tab = phs_wt_comp[phs_tab_name]\n",
    "    \n",
    "    mol_oxide = thermo.chem.wt_to_mol_oxide(phs_tab.values)\n",
    "    phs_mol_comp[phs_tab_name] = pd.DataFrame(\n",
    "        mol_oxide,  index=phs_tab.index, columns=phs_tab.columns)"
   ]
  },
  {
   "cell_type": "code",
   "execution_count": null,
   "metadata": {},
   "outputs": [],
   "source": [
    "phs_mol_comp['Liquid'].head()"
   ]
  },
  {
   "cell_type": "code",
   "execution_count": null,
   "metadata": {},
   "outputs": [],
   "source": [
    "analysis={}\n",
    "analysis['exp_data'] = exp_data\n",
    "analysis['phs_data'] = phs_data\n",
    "analysis['phs_symbols'] = phs_symbols\n",
    "analysis['phs_mol_comp'] = phs_mol_comp\n",
    "analysis['phs_wt_comp'] = phs_wt_comp\n",
    "\n",
    "save_analysis(analysis)"
   ]
  },
  {
   "cell_type": "markdown",
   "metadata": {},
   "source": [
    "# LEPR data visualization"
   ]
  },
  {
   "cell_type": "markdown",
   "metadata": {},
   "source": [
    "### Phases present in experiments"
   ]
  },
  {
   "cell_type": "code",
   "execution_count": null,
   "metadata": {},
   "outputs": [],
   "source": [
    "print('List of experimental phases:', *phs_data.keys(), sep='\\n- ')"
   ]
  },
  {
   "cell_type": "markdown",
   "metadata": {},
   "source": [
    "### Number of experiments "
   ]
  },
  {
   "cell_type": "code",
   "execution_count": null,
   "metadata": {},
   "outputs": [],
   "source": [
    "number_of_experiments = len(exp_data)\n",
    "print('The number of experiments =', number_of_experiments)"
   ]
  },
  {
   "cell_type": "markdown",
   "metadata": {},
   "source": [
    "### Number of unique phase assemblages in the experiments"
   ]
  },
  {
   "cell_type": "code",
   "execution_count": null,
   "metadata": {},
   "outputs": [],
   "source": [
    "unique_phs_assemblages = len(metadata['Phases'].unique())\n",
    "print('The number of unique phase assemblages =', unique_phs_assemblages)"
   ]
  },
  {
   "cell_type": "markdown",
   "metadata": {},
   "source": [
    "### Starting material bulk composition space covered by experiments"
   ]
  },
  {
   "cell_type": "code",
   "execution_count": null,
   "metadata": {},
   "outputs": [],
   "source": [
    "import matplotlib.pyplot as plt"
   ]
  },
  {
   "cell_type": "code",
   "execution_count": null,
   "metadata": {},
   "outputs": [],
   "source": [
    "silica = exp_data['SiO2']\n",
    "total_alkalis =exp_data['Na2O'] + exp_data['K2O']\n",
    "\n",
    "plt.figure(figsize=(8,5))\n",
    "ax1 = plt.subplot(111)\n",
    "add_LeMaitre_fields(ax1)\n",
    "plt.plot(silica, total_alkalis, 'ro')\n",
    "plt.xlabel('SiO2 (wt%)')\n",
    "plt.ylabel('Na2O + K2O (wt%)')\n",
    "plt.show()"
   ]
  },
  {
   "cell_type": "markdown",
   "metadata": {},
   "source": [
    "### Pressure-temperature space of experiments"
   ]
  },
  {
   "cell_type": "code",
   "execution_count": null,
   "metadata": {},
   "outputs": [],
   "source": [
    "temperatures = exp_data['T']\n",
    "pressures = exp_data['P']\n",
    "\n",
    "plt.figure()\n",
    "plt.plot(temperatures, pressures, 'bo')\n",
    "plt.xlabel('Temperature (C)')\n",
    "plt.ylabel('Pressure (GPa)')\n",
    "plt.title('LEPR data P-T space')\n",
    "plt.show()"
   ]
  },
  {
   "cell_type": "code",
   "execution_count": null,
   "metadata": {},
   "outputs": [],
   "source": [
    "plt.figure()\n",
    "plt.hist(pressures, bins='auto')  # arguments are passed to np.histogram\n",
    "plt.title(\"Range of experimental pressures\")\n",
    "plt.xlabel('Pressure (GPa)')\n",
    "plt.show()"
   ]
  },
  {
   "cell_type": "code",
   "execution_count": null,
   "metadata": {},
   "outputs": [],
   "source": []
  }
 ],
 "metadata": {
  "kernelspec": {
   "display_name": "Python 3",
   "language": "python",
   "name": "python3"
  },
  "language_info": {
   "codemirror_mode": {
    "name": "ipython",
    "version": 3
   },
   "file_extension": ".py",
   "mimetype": "text/x-python",
   "name": "python",
   "nbconvert_exporter": "python",
   "pygments_lexer": "ipython3",
   "version": "3.6.3"
  }
 },
 "nbformat": 4,
 "nbformat_minor": 2
}
