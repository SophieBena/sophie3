{
 "cells": [
  {
   "cell_type": "markdown",
   "metadata": {},
   "source": [
    "# Calculate phase stability data and reaction affinities"
   ]
  },
  {
   "cell_type": "markdown",
   "metadata": {},
   "source": [
    "## Initialize required packages and data from _01-load-exp-data notebook_"
   ]
  },
  {
   "cell_type": "code",
   "execution_count": null,
   "metadata": {},
   "outputs": [],
   "source": [
    "from scipy import optimize\n",
    "%run \"core.ipynb\"\n",
    "analysis = load_analysis()\n",
    "\n",
    "exp_data = analysis['exp_data']\n",
    "phs_data = analysis['phs_data']\n",
    "phs_mol_comp = analysis['phs_mol_comp']\n",
    "phs_wt_comp = analysis['phs_wt_comp']\n",
    "phs_symbols = analysis['phs_symbols'] "
   ]
  },
  {
   "cell_type": "markdown",
   "metadata": {},
   "source": [
    "## Load thermodynamic database"
   ]
  },
  {
   "cell_type": "code",
   "execution_count": null,
   "metadata": {},
   "outputs": [],
   "source": [
    "modelDB = thermo.model.Database()"
   ]
  },
  {
   "cell_type": "markdown",
   "metadata": {},
   "source": [
    "## Initialize the phase stability experiment function \n",
    "\n",
    "### Initiates Phase Stability Data object to retrieve valid set of reactions from SVD for each experiment \n",
    "\n",
    "    * input:\n",
    "\n",
    "        exp_data: OrderedDict\n",
    "            experimental conditions including T, P, fO2, and bulk starting comp\n",
    "\n",
    "        phs_wt_comp: OrderdedDict\n",
    "            Compositions of all phases in experiments indexed corresponds to experiment \n",
    "            index\n",
    "        \n",
    "        phase_symbols_key: Dict\n",
    "            List of phase sysmbols for phases participating in reactions only\n",
    "            \n",
    "        modelDB: Model database object\n",
    "            Thermodynamic database of choice\n",
    "        \n",
    "        T_units: str\n",
    "            The units of temperature; options are 'C', 'K'\n",
    "        \n",
    "        P_units: str\n",
    "            The units of pressure; options are 'bars', 'GPa'\n",
    "\n",
    "    * output:\n",
    "        \n",
    "        phase_stability_data: object\n",
    "            Data object containing info about each experiment including phase \n",
    "            mol compositions, endmember compositions, and valid set of reactions\n",
    "            \n",
    "        \n"
   ]
  },
  {
   "cell_type": "code",
   "execution_count": null,
   "metadata": {},
   "outputs": [],
   "source": [
    "phase_symbols_key = LEPR_phase_symbols"
   ]
  },
  {
   "cell_type": "code",
   "execution_count": null,
   "metadata": {},
   "outputs": [],
   "source": [
    "phase_stability_data = thermo.calibrate.PhaseStabilityData(exp_data, phs_wt_comp, phase_symbols_key, modelDB,\n",
    "                                                          T_units='C', P_units='GPa')"
   ]
  },
  {
   "cell_type": "markdown",
   "metadata": {},
   "source": [
    "### The number of experiments available after filtering for MELTS phases only"
   ]
  },
  {
   "cell_type": "code",
   "execution_count": null,
   "metadata": {},
   "outputs": [],
   "source": [
    "print('There are ' + str(len(phase_stability_data._phase_stability_exps)) + ' valid experiments')"
   ]
  },
  {
   "cell_type": "code",
   "execution_count": null,
   "metadata": {},
   "outputs": [],
   "source": [
    "print('There are ' + str(len(phase_stability_data._exp_index_invalid)) + ' experiments with phases not found in the LEPR database')"
   ]
  },
  {
   "cell_type": "markdown",
   "metadata": {},
   "source": [
    "### Isolate one reaction and get look at the phase mole oxide compositions"
   ]
  },
  {
   "cell_type": "code",
   "execution_count": null,
   "metadata": {},
   "outputs": [],
   "source": [
    "rxn_1 = phase_stability_data._phase_stability_exps[0]"
   ]
  },
  {
   "cell_type": "code",
   "execution_count": null,
   "metadata": {},
   "outputs": [],
   "source": [
    "rxn_1._phase_mol_endmem_comp"
   ]
  },
  {
   "cell_type": "code",
   "execution_count": null,
   "metadata": {},
   "outputs": [],
   "source": [
    "print(rxn_1._T)\n",
    "print(rxn_1._P)\n"
   ]
  },
  {
   "cell_type": "markdown",
   "metadata": {},
   "source": [
    "## Find the fraction of experiements within the ternary Py-Grs-Alm space "
   ]
  },
  {
   "cell_type": "markdown",
   "metadata": {},
   "source": [
    "### Set up endmember site occupancy and endmember stoichiometry matrices"
   ]
  },
  {
   "cell_type": "code",
   "execution_count": null,
   "metadata": {},
   "outputs": [],
   "source": [
    "endmember_site_occ = np.array(\n",
    "    [[3, 0, 0, 0, 2, 0, 0, 0, 0, 0],\n",
    "     [0, 3, 0, 0, 2, 0, 0, 0, 0, 0],\n",
    "     [0, 0, 3, 0, 2, 0, 0, 0, 0, 0],\n",
    "     [0, 0, 0, 3, 2, 0, 0, 0, 0, 0],\n",
    "     [3, 0, 0, 0, 0, 2, 0, 0, 0, 0],\n",
    "     [0, 3, 0, 0, 0, 0, 1, 1, 0, 0],\n",
    "     [3, 0, 0, 0, 0, 0, 0, 0, 1, 1]])"
   ]
  },
  {
   "cell_type": "code",
   "execution_count": null,
   "metadata": {},
   "outputs": [],
   "source": [
    "endmember_stoic=[]\n",
    "\n",
    "endmember_stoic.append(thermo.chem.format_mol_oxide_comp({'MgO':3, 'Al2O3':1, 'SiO2':3}))\n",
    "endmember_stoic.append(thermo.chem.format_mol_oxide_comp({'CaO':3, 'Al2O3':1, 'SiO2':3}))\n",
    "endmember_stoic.append(thermo.chem.format_mol_oxide_comp({'MnO':3, 'Al2O3':1, 'SiO2':3}))\n",
    "endmember_stoic.append(thermo.chem.format_mol_oxide_comp({'FeO':3, 'Al2O3':1, 'SiO2':3}))\n",
    "endmember_stoic.append(thermo.chem.format_mol_oxide_comp({'MgO':3, 'Cr2O3':1, 'SiO2':3}))\n",
    "endmember_stoic.append(thermo.chem.format_mol_oxide_comp({'CaO':3, 'TiO2':1, 'FeO':1, 'SiO2':3}))\n",
    "endmember_stoic.append(thermo.chem.format_mol_oxide_comp({'MgO':4, 'SiO2':4}))\n",
    "endmember_stoic=np.array(endmember_stoic)"
   ]
  },
  {
   "cell_type": "code",
   "execution_count": null,
   "metadata": {},
   "outputs": [],
   "source": [
    "endmember_stoic"
   ]
  },
  {
   "cell_type": "markdown",
   "metadata": {},
   "source": [
    "### Retrieve experimental garnet mol oxide data"
   ]
  },
  {
   "cell_type": "code",
   "execution_count": null,
   "metadata": {},
   "outputs": [],
   "source": [
    "grt_mol_oxides = phs_mol_comp['Garnet']"
   ]
  },
  {
   "cell_type": "markdown",
   "metadata": {},
   "source": [
    "### Get endmember compositions "
   ]
  },
  {
   "cell_type": "code",
   "execution_count": null,
   "metadata": {},
   "outputs": [],
   "source": [
    "endmember_comp = []\n",
    "residuals = []\n",
    "for imol_ox in grt_mol_oxides.values:\n",
    "    try:\n",
    "        iendmember_comp, iresidual = mol_oxide_to_mol_endmember(imol_ox, endmember_site_occ, \n",
    "                                                                endmember_stoic)\n",
    "    except:\n",
    "        iendmember_comp = None\n",
    "        iresidual = None\n",
    "            \n",
    "            \n",
    "    endmember_comp.append(iendmember_comp)\n",
    "    residuals.append(iresidual)\n",
    "    "
   ]
  },
  {
   "cell_type": "markdown",
   "metadata": {},
   "source": [
    "### Get fraction of endmembers in the Py-Grs-Alm ternary space"
   ]
  },
  {
   "cell_type": "code",
   "execution_count": null,
   "metadata": {},
   "outputs": [],
   "source": [
    "ternary_frac = []\n",
    "for iendmember_comp in endmember_comp:\n",
    "    try:\n",
    "        iternary_frac = np.sum(iendmember_comp[[0,1,3]])/np.sum(iendmember_comp)\n",
    "        \n",
    "    except:\n",
    "        iternary_frac = np.nan\n",
    "        \n",
    "    ternary_frac.append(iternary_frac)\n",
    "    \n",
    "ternary_frac = np.array(ternary_frac)    "
   ]
  },
  {
   "cell_type": "code",
   "execution_count": null,
   "metadata": {},
   "outputs": [],
   "source": [
    "ternary_frac"
   ]
  },
  {
   "cell_type": "markdown",
   "metadata": {},
   "source": [
    "# Garnet endmember space"
   ]
  },
  {
   "cell_type": "code",
   "execution_count": null,
   "metadata": {},
   "outputs": [],
   "source": [
    "plt.figure()\n",
    "plt.hist(ternary_frac[~np.isnan(ternary_frac)],70);\n",
    "plt.xlabel('Fraction of garnet comp. in py-grs-alm ternary')\n",
    "plt.ylabel('Number of garnet compositions')\n",
    "plt.title('Experimental garnet endmember space')"
   ]
  },
  {
   "cell_type": "markdown",
   "metadata": {},
   "source": [
    "# Reaction affinity calculation and visualization"
   ]
  },
  {
   "cell_type": "markdown",
   "metadata": {},
   "source": [
    "### Run affinity calculation over each set of reactions for each experiment"
   ]
  },
  {
   "cell_type": "code",
   "execution_count": null,
   "metadata": {},
   "outputs": [],
   "source": [
    "affinities = phase_stability_data.calc_equil_rxn_affinities()"
   ]
  },
  {
   "cell_type": "code",
   "execution_count": null,
   "metadata": {},
   "outputs": [],
   "source": [
    "affinities_all = np.hstack(affinities)\n",
    "affinities_clean = affinities_all[~np.isnan(affinities_all)]\n",
    "\n",
    "plt.figure()\n",
    "plt.hist(affinities_clean, 101)\n",
    "plt.xlabel('rxn_affinitiy (J)')\n",
    "plt.title('Histogram of reaction affinities')\n"
   ]
  },
  {
   "cell_type": "markdown",
   "metadata": {},
   "source": [
    "## Plot fraction of ternary garnets vs. the root mean square of affinities"
   ]
  },
  {
   "cell_type": "markdown",
   "metadata": {},
   "source": [
    "### Calculate rms of reaction affinities"
   ]
  },
  {
   "cell_type": "code",
   "execution_count": null,
   "metadata": {},
   "outputs": [],
   "source": [
    "rms_affinities = []\n",
    "aff_max = []\n",
    "for iaff in affinities:\n",
    "    rms_affinities.append(np.sqrt(np.mean(iaff**2)))\n",
    "    try:\n",
    "        iaff_max = np.nanmax(np.abs(iaff))\n",
    "    except:\n",
    "        iaff_max = np.nan\n",
    "    aff_max.append(iaff_max)\n",
    "    \n",
    "rms_affinities=np.array(rms_affinities)\n",
    "aff_max = np.array(aff_max)\n",
    "    "
   ]
  },
  {
   "cell_type": "markdown",
   "metadata": {},
   "source": [
    "### Plot"
   ]
  },
  {
   "cell_type": "code",
   "execution_count": null,
   "metadata": {},
   "outputs": [],
   "source": [
    "mask = [idx not in phase_stability_data._exp_index_invalid for idx in exp_data.index]\n",
    "\n",
    "plt.figure()\n",
    "plt.plot(ternary_frac[mask],rms_affinities,'ko')\n",
    "plt.xlabel('Fraction of ternary garnets (py-grs-alm)')\n",
    "plt.ylabel('Affinitiy RMS')\n"
   ]
  },
  {
   "cell_type": "code",
   "execution_count": null,
   "metadata": {},
   "outputs": [],
   "source": [
    "np.mean(rms_affinities>3250)"
   ]
  },
  {
   "cell_type": "code",
   "execution_count": null,
   "metadata": {},
   "outputs": [],
   "source": []
  }
 ],
 "metadata": {
  "kernelspec": {
   "display_name": "Python 3",
   "language": "python",
   "name": "python3"
  },
  "language_info": {
   "codemirror_mode": {
    "name": "ipython",
    "version": 3
   },
   "file_extension": ".py",
   "mimetype": "text/x-python",
   "name": "python",
   "nbconvert_exporter": "python",
   "pygments_lexer": "ipython3",
   "version": "3.6.8"
  }
 },
 "nbformat": 4,
 "nbformat_minor": 2
}
