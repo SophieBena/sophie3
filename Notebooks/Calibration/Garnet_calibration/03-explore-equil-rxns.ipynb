{
 "cells": [
  {
   "cell_type": "markdown",
   "metadata": {},
   "source": [
    "# Convert measured experimental compositions to endmember fraction"
   ]
  },
  {
   "cell_type": "code",
   "execution_count": null,
   "metadata": {},
   "outputs": [],
   "source": [
    "%load_ext snakeviz"
   ]
  },
  {
   "cell_type": "code",
   "execution_count": null,
   "metadata": {},
   "outputs": [],
   "source": [
    "import thermoengine as thermo\n",
    "\n",
    "%run \"core.ipynb\"\n",
    "analysis = load_analysis()\n",
    "\n",
    "\n",
    "exp_data = analysis['exp_data']\n",
    "phs_data = analysis['phs_data']\n",
    "phs_mol_comp = analysis['phs_mol_comp']\n",
    "phs_wt_comp = analysis['phs_wt_comp']"
   ]
  },
  {
   "cell_type": "code",
   "execution_count": null,
   "metadata": {},
   "outputs": [],
   "source": [
    "modelDB = thermo.model.Database()"
   ]
  },
  {
   "cell_type": "code",
   "execution_count": null,
   "metadata": {},
   "outputs": [],
   "source": [
    "#Selects the experiment indices that are not found in the Liquid tab; this is problematic\n",
    "#because some experiments show liquid present in the phases column but don't report a liquid\n",
    "#and others report no liquid in the phases column but report a liquid composition; indicies \n",
    "#are effed up...\n",
    "\n",
    "exp_sans_liq = []\n",
    "for idx in exp_data.index:\n",
    "    if idx not in phs_wt_comp['Liquid'].index:\n",
    "        exp_sans_liq.append(idx)\n",
    "    else:\n",
    "        pass"
   ]
  },
  {
   "cell_type": "code",
   "execution_count": null,
   "metadata": {},
   "outputs": [],
   "source": [
    "#NOTE do not use this\n",
    "phase_symbols = []\n",
    "phase_names = []\n",
    "phase_wt_oxide_comp = []\n",
    "P=[]\n",
    "T=[]\n",
    "\n",
    "for idx in exp_sans_liq:\n",
    "    P.append(exp_data.loc[idx, 'P (GPa)'])\n",
    "    T.append(exp_data.loc[idx, 'T (C)'])\n",
    "    \n",
    "    for key in phs_wt_comp:\n",
    "        iphs_wt_comp = phs_wt_comp[key]\n",
    "        if idx in iphs_wt_comp.index:\n",
    "            phase_names.append(key)\n",
    "            phase_symbols.append(LEPR_phase_symbols[key])\n",
    "            phase_wt_oxide_comp.append(iphs_wt_comp.loc[idx].values)\n",
    "        \n",
    "phase_wt_oxide_comp = np.array(phase_wt_oxide_comp)\n",
    "phase_stability_data = thermo.calibrate.PhaseStabilityExp(iP, iT, 0, phase_symbols, phase_wt_oxide_comp, modelDB)\n",
    "\n",
    "    "
   ]
  },
  {
   "cell_type": "code",
   "execution_count": null,
   "metadata": {},
   "outputs": [],
   "source": [
    "phase_wt_oxide_comp\n"
   ]
  },
  {
   "cell_type": "code",
   "execution_count": null,
   "metadata": {},
   "outputs": [],
   "source": [
    "#exp_idx=337\n",
    "#exp_idx = 1350\n",
    "phase_stability_exps=[]\n",
    "\n",
    "for exp_idx in exp_data.index:\n",
    "    iP = exp_data.loc[exp_idx, 'P (GPa)']\n",
    "    iT = exp_data.loc[exp_idx, 'T (C)']\n",
    "\n",
    "# [phs_wt_comp[key].loc[exp_idx] for key in phs_wt_comp ]\n",
    "\n",
    "    phase_symbols = []\n",
    "    phase_names = []\n",
    "    phase_wt_oxide_comp = []\n",
    "\n",
    "    for key in phs_wt_comp:\n",
    "        iphs_wt_comp = phs_wt_comp[key]\n",
    "        if exp_idx in iphs_wt_comp.index:\n",
    "            phase_names.append(key)\n",
    "            phase_symbols.append(LEPR_phase_symbols[key])\n",
    "            phase_wt_oxide_comp.append(iphs_wt_comp.loc[exp_idx].values)\n",
    "        \n",
    "    phase_wt_oxide_comp = np.array(phase_wt_oxide_comp)\n",
    "    phase_stability_exps = thermo.calibrate.PhaseStabilityExp(iP, iT, 0, phase_symbols, phase_wt_oxide_comp, modelDB)\n",
    "    print(phase_stability_data)\n",
    "\n",
    "#run on subset of exps without Liq"
   ]
  },
  {
   "cell_type": "code",
   "execution_count": null,
   "metadata": {},
   "outputs": [],
   "source": [
    "display(phase_names)\n",
    "display(phase_symbols)\n",
    "display(phase_wt_oxide_comp)"
   ]
  },
  {
   "cell_type": "code",
   "execution_count": null,
   "metadata": {},
   "outputs": [],
   "source": [
    "phase_stability_data = thermo.calibrate.PhaseStabilityExp(iP, iT, 0, phase_symbols, phase_wt_oxide_comp, modelDB)\n"
   ]
  },
  {
   "cell_type": "code",
   "execution_count": null,
   "metadata": {},
   "outputs": [],
   "source": [
    "phase_stability_data.calc_equil_rxn_affinities()"
   ]
  },
  {
   "cell_type": "code",
   "execution_count": null,
   "metadata": {},
   "outputs": [],
   "source": [
    "phase_stability_data._phase_mol_endmem_comp"
   ]
  },
  {
   "cell_type": "code",
   "execution_count": null,
   "metadata": {},
   "outputs": [],
   "source": [
    "phase_mol_oxide_comp=thermo.chem.wt_to_mol_oxide(phase_wt_oxide_comp)"
   ]
  },
  {
   "cell_type": "code",
   "execution_count": null,
   "metadata": {},
   "outputs": [],
   "source": [
    "rel_phases=[]\n",
    "for iphs in phase_symbols:\n",
    "    rel_phases.append(modelDB.get_phase(iphs))\n",
    "\n",
    "rel_phases"
   ]
  },
  {
   "cell_type": "code",
   "execution_count": null,
   "metadata": {},
   "outputs": [],
   "source": [
    "phase_mol_endmem_comp = {}\n",
    "for phs_sym, phase, mol_oxide_comp in zip(\n",
    "    phase_symbols, rel_phases, phase_mol_oxide_comp):\n",
    "\n",
    "    if phs_sym not in modelDB.phase_obj['pure']:\n",
    "        endmem_comp = phase.calc_endmember_comp(\n",
    "            mol_oxide_comp, method='intrinsic', output_residual=False)\n",
    "    else:\n",
    "        endmem_comp = 1\n",
    "\n",
    "    phase_mol_endmem_comp[phs_sym] = np.array(endmem_comp)"
   ]
  },
  {
   "cell_type": "code",
   "execution_count": null,
   "metadata": {},
   "outputs": [],
   "source": [
    "phase_mol_endmem_comp"
   ]
  },
  {
   "cell_type": "markdown",
   "metadata": {},
   "source": [
    "# Following code get's set of valid reactions for one experiment"
   ]
  },
  {
   "cell_type": "code",
   "execution_count": null,
   "metadata": {},
   "outputs": [],
   "source": [
    "rxn_svd_props = thermo.chem.calc_reaction_svd(phase_symbols, TOLsvd=1e-4, modelDB=modelDB)\n",
    "rxn_svd = rxn_svd_props['rxn_svd']\n",
    "Nbasis=len(rxn_svd)\n",
    "rxn_endmember_name = rxn_svd_props['all_endmember_name']\n",
    "rxn_phase_symbols = rxn_svd_props['all_phase_symbol']"
   ]
  },
  {
   "cell_type": "code",
   "execution_count": null,
   "metadata": {},
   "outputs": [],
   "source": [
    "endmember_ids = rxn_svd_props['all_endmember_id']\n",
    "rxns = []\n",
    "for irxn_coefs in rxn_svd:\n",
    "    irxn = modelDB.get_rxn(rxn_phase_symbols, endmember_ids, irxn_coefs)\n",
    "    \n",
    "    rxns.append(irxn)"
   ]
  },
  {
   "cell_type": "code",
   "execution_count": null,
   "metadata": {},
   "outputs": [],
   "source": [
    "rxns"
   ]
  },
  {
   "cell_type": "code",
   "execution_count": null,
   "metadata": {},
   "outputs": [],
   "source": [
    "rxn_svd"
   ]
  },
  {
   "cell_type": "code",
   "execution_count": null,
   "metadata": {},
   "outputs": [],
   "source": [
    "rxn_endmember_name"
   ]
  },
  {
   "cell_type": "code",
   "execution_count": null,
   "metadata": {},
   "outputs": [],
   "source": [
    "wtcoefs, costs, rxn_coefs, wtcoefs_ortho = thermo.chem.get_rxns(rxn_svd, Ndraw=3, ortho_scale=15, Nbasis=Nbasis, TOL=1e-10)"
   ]
  },
  {
   "cell_type": "code",
   "execution_count": null,
   "metadata": {},
   "outputs": [],
   "source": [
    "(np.place(rxn_coefs, abs(rxn_coefs)< 1e-2, 0))"
   ]
  },
  {
   "cell_type": "code",
   "execution_count": null,
   "metadata": {},
   "outputs": [],
   "source": [
    "endmember_ids = rxn_svd_props['all_endmember_id']\n",
    "rxns = []\n",
    "for irxn_coefs in rxn_coefs:\n",
    "    irxn = modelDB.get_rxn(rxn_phase_symbols, endmember_ids, irxn_coefs)\n",
    "    \n",
    "    rxns.append(irxn)"
   ]
  },
  {
   "cell_type": "code",
   "execution_count": null,
   "metadata": {},
   "outputs": [],
   "source": []
  },
  {
   "cell_type": "code",
   "execution_count": null,
   "metadata": {},
   "outputs": [],
   "source": [
    "phases_cls = thermo.phases.Rxn"
   ]
  },
  {
   "cell_type": "code",
   "execution_count": null,
   "metadata": {},
   "outputs": [],
   "source": [
    "affinities=[]\n",
    "\n",
    "for imol_comp in phase_mol_endmem_comp:\n",
    "    affinities.append(phases_cls.affinity(iT, iP, imol_comp))\n",
    "    \n",
    "affinities"
   ]
  },
  {
   "cell_type": "code",
   "execution_count": null,
   "metadata": {},
   "outputs": [],
   "source": []
  },
  {
   "cell_type": "code",
   "execution_count": null,
   "metadata": {},
   "outputs": [],
   "source": []
  },
  {
   "cell_type": "code",
   "execution_count": null,
   "metadata": {},
   "outputs": [],
   "source": [
    "iphs_name = 'Garnet'\n",
    "iphs = modelDB.get_phase('Grt')\n",
    "iendmem_names = iphs.endmember_names\n",
    "\n",
    "imol_comp = phs_mol_comp[iphs_name]"
   ]
  },
  {
   "cell_type": "code",
   "execution_count": null,
   "metadata": {},
   "outputs": [],
   "source": []
  },
  {
   "cell_type": "code",
   "execution_count": null,
   "metadata": {},
   "outputs": [],
   "source": [
    "iendmem_comp = []\n",
    "\n",
    "for idx in imol_comp.T:\n",
    "    ijmol_comp = imol_comp.loc[idx].values\n",
    "    \n",
    "    ijendmem_comp = iphs.calc_endmember_comp(\n",
    "        ijmol_comp, output_residual=False)\n",
    "    iendmem_comp.append(ijendmem_comp)\n",
    "    \n",
    "iendmem_comp = np.array(iendmem_comp)\n",
    "    "
   ]
  },
  {
   "cell_type": "code",
   "execution_count": null,
   "metadata": {},
   "outputs": [],
   "source": [
    "# NOTE some of these values are NAN for some reason?\n",
    "iendmem_comp[80:100,:]"
   ]
  },
  {
   "cell_type": "code",
   "execution_count": null,
   "metadata": {},
   "outputs": [],
   "source": [
    "plt.figure()\n",
    "plt.imshow(iendmem_comp.T[:,:50], cmap='magma', vmin=0, vmax=1)\n",
    "plt.colorbar(orientation='horizontal', label='Endmem Frac')\n",
    "ax = plt.gca()\n",
    "ax.set_yticks([0,1,2])\n",
    "ax.set_yticklabels(iendmem_names);\n"
   ]
  },
  {
   "cell_type": "markdown",
   "metadata": {},
   "source": [
    "### Garnet composition space"
   ]
  },
  {
   "cell_type": "code",
   "execution_count": null,
   "metadata": {},
   "outputs": [],
   "source": []
  },
  {
   "cell_type": "code",
   "execution_count": null,
   "metadata": {},
   "outputs": [],
   "source": []
  },
  {
   "cell_type": "code",
   "execution_count": null,
   "metadata": {},
   "outputs": [],
   "source": []
  },
  {
   "cell_type": "markdown",
   "metadata": {},
   "source": [
    "### This code is old code that likely will no longer be used; it originally filtered phase assemblages from the garnet excel file for only unique phase assemblages; we are no longer implementing this idea"
   ]
  },
  {
   "cell_type": "code",
   "execution_count": null,
   "metadata": {},
   "outputs": [],
   "source": [
    "unique_phase_symbols = ['Cpx', 'Ol', 'Grt']\n",
    "rxn_svd_props = thermo.chem.calc_reaction_svd(unique_phase_symbols, TOLsvd=1e-4, modelDB=modelDB)\n",
    "rxn_svd = rxn_svd_props['rxn_svd']\n",
    "Nbasis=len(rxn_svd)\n",
    "rxn_endmember_name = rxn_svd_props['all_endmember_name']\n",
    "rxn_phase_symbols = rxn_svd_props['all_phase_symbol']"
   ]
  },
  {
   "cell_type": "code",
   "execution_count": null,
   "metadata": {},
   "outputs": [],
   "source": [
    "unique_phase_assemblages = rxn_data['Experiment']['Phases'].unique()"
   ]
  },
  {
   "cell_type": "code",
   "execution_count": null,
   "metadata": {},
   "outputs": [],
   "source": [
    "phase_assemblages=[]\n",
    "for iphase_assem in unique_phase_assemblages:\n",
    "    \n",
    "    try: \n",
    "        phase_list = iphase_assem.split(sep='+')\n",
    "        phase_list.sort()\n",
    "        phase_assemblages.append(phase_list)\n",
    "        \n",
    "    except: \n",
    "        print('empty_assemblage')\n",
    "        \n",
    "phase_assemblages = np.unique(phase_assemblages)"
   ]
  },
  {
   "cell_type": "code",
   "execution_count": null,
   "metadata": {},
   "outputs": [],
   "source": [
    "mask = []\n",
    "for iassemblage in phase_assemblages:\n",
    "    imask = 'liq' not in iassemblage\n",
    "    \n",
    "    mask.append(imask)\n",
    "    \n",
    "mask = np.array(mask)\n",
    "np.sum(mask)"
   ]
  },
  {
   "cell_type": "code",
   "execution_count": null,
   "metadata": {},
   "outputs": [],
   "source": [
    "phase_assemblages[mask]"
   ]
  },
  {
   "cell_type": "code",
   "execution_count": null,
   "metadata": {},
   "outputs": [],
   "source": []
  },
  {
   "cell_type": "code",
   "execution_count": null,
   "metadata": {},
   "outputs": [],
   "source": [
    "wtcoefs, costs, rxn_coefs, wtcoefs_ortho = thermo.chem.get_rxns(rxn_svd, Ndraw=3, ortho_scale=15, Nbasis=Nbasis, TOL=1e-10)"
   ]
  },
  {
   "cell_type": "code",
   "execution_count": null,
   "metadata": {},
   "outputs": [],
   "source": [
    "(np.place(rxn_coefs, abs(rxn_coefs)< 1e-2, 0))"
   ]
  },
  {
   "cell_type": "code",
   "execution_count": null,
   "metadata": {},
   "outputs": [],
   "source": [
    "endmember_ids = rxn_svd_props['all_endmember_id']\n",
    "rxns = []\n",
    "for irxn_coefs in rxn_coefs:\n",
    "    irxn = modelDB.get_rxn(rxn_phase_symbols, endmember_ids, irxn_coefs)\n",
    "    \n",
    "    rxns.append(irxn)  "
   ]
  },
  {
   "cell_type": "code",
   "execution_count": null,
   "metadata": {},
   "outputs": [],
   "source": [
    "phases = []\n",
    "\n",
    "for irxn in rxns:\n",
    "    phases.extend(irxn.phases)\n",
    "    \n",
    "phases = np.unique(phases)"
   ]
  },
  {
   "cell_type": "code",
   "execution_count": null,
   "metadata": {},
   "outputs": [],
   "source": []
  }
 ],
 "metadata": {
  "kernelspec": {
   "display_name": "Python 3",
   "language": "python",
   "name": "python3"
  },
  "language_info": {
   "codemirror_mode": {
    "name": "ipython",
    "version": 3
   },
   "file_extension": ".py",
   "mimetype": "text/x-python",
   "name": "python",
   "nbconvert_exporter": "python",
   "pygments_lexer": "ipython3",
   "version": "3.6.3"
  }
 },
 "nbformat": 4,
 "nbformat_minor": 2
}
