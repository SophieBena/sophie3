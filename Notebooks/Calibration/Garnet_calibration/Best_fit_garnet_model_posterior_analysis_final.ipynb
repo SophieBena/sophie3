{
 "cells": [
  {
   "cell_type": "code",
   "execution_count": null,
   "metadata": {},
   "outputs": [],
   "source": [
    "from scipy import optimize\n",
    "import scipy as sp\n",
    "import thermoengine as thermo\n",
    "import matplotlib.pyplot as plt\n",
    "from scipy.optimize import leastsq\n",
    "import pickle\n",
    "import dill\n",
    "import numpy as np\n",
    "import os\n",
    "import matplotlib.colors as mcolors\n",
    "import matplotlib.cm as cm\n",
    "import numdifftools as nd\n",
    "\n",
    "%run 'critical_point_finder_code.ipynb'\n",
    "%run \"excess_thermo_calc_functions.ipynb\"\n",
    "%run \"core.ipynb\"\n",
    "%load_ext snakeviz\n",
    "%run \"load_coder_fitted_models.ipynb\""
   ]
  },
  {
   "cell_type": "code",
   "execution_count": null,
   "metadata": {},
   "outputs": [],
   "source": [
    "os.chdir('/Users/jennaadams/Documents/projects/thermoengine_mirrored/https:/gitlab.com/aswolf/ThermoEngineMirror/Notebooks/Calibration/Garnet_calibration')"
   ]
  },
  {
   "cell_type": "code",
   "execution_count": null,
   "metadata": {},
   "outputs": [],
   "source": [
    "np.array(ganguly96_coder.param_names)"
   ]
  },
  {
   "cell_type": "code",
   "execution_count": null,
   "metadata": {},
   "outputs": [],
   "source": [
    "muko97_coder.get_param_values()[2:]"
   ]
  },
  {
   "cell_type": "code",
   "execution_count": null,
   "metadata": {},
   "outputs": [],
   "source": [
    "data_dir='Data/'\n",
    "vingograd_2006_1bar_data=pd.read_excel(data_dir+'vinograd_digitzed_data_fig16b_finer.xlsx')\n",
    "vingograd_2006_3gpa_data=pd.read_excel(data_dir+'vinograd_digitzed_data_fig16c_finer.xlsx')\n",
    "haselton_newton_1bar_data=pd.read_excel(data_dir+'hasleton_newton_1bar.xlsx')\n",
    "haselton_newton_2gpa_data=pd.read_excel(data_dir+'hasleton_newton_2gpa.xlsx')\n",
    "haselton_newton_4gpa_data=pd.read_excel(data_dir+'hasleton_newton_4gpa.xlsx')\n",
    "dachs_geiger_1bar_data=pd.read_excel(data_dir+'Dachs_geiger_data_1bar.xlsx')\n",
    "dachs_geiger_4gpa_data=pd.read_excel(data_dir+'Dachs_geiger_data_4gpa.xlsx')\n",
    "du_8gpa_data=pd.read_excel(data_dir+'du_8gpa_data.xlsx')\n",
    "du_2gpa_data=pd.read_excel(data_dir+'du_2gpa.xlsx')\n",
    "holland_2018_1bar_data=pd.read_excel(data_dir+'solvus_1bar_Holland2018.xlsx')\n",
    "holland_2018_3gpa_data=pd.read_excel(data_dir+'solvus_3gpa_Holland2018.xlsx')"
   ]
  },
  {
   "cell_type": "code",
   "execution_count": null,
   "metadata": {},
   "outputs": [],
   "source": [
    "dachs_geiger_1bar_data['X']=1-(dachs_geiger_1bar_data['X']/100)\n",
    "dachs_geiger_4gpa_data['X']=1-(dachs_geiger_4gpa_data['X']/100)\n",
    "du_8gpa_data['X']=1-(du_8gpa_data['X']/100)\n",
    "du_2gpa_data['X']=1-(du_2gpa_data['X']/100)"
   ]
  },
  {
   "cell_type": "code",
   "execution_count": null,
   "metadata": {},
   "outputs": [],
   "source": [
    "os.chdir('/Users/jennaadams/Documents/projects/ThermoEngine/Notebooks/Calibration/Garnet_calibration')"
   ]
  },
  {
   "cell_type": "code",
   "execution_count": null,
   "metadata": {},
   "outputs": [],
   "source": [
    " #Load data (deserialize)\n",
    "with open('fit_testing_data_new_fits_june30.pickle', 'rb') as handle:\n",
    "    fit_testing_data_new_fits_june30 = pickle.load(handle)"
   ]
  },
  {
   "cell_type": "code",
   "execution_count": null,
   "metadata": {},
   "outputs": [],
   "source": [
    " #Load data (deserialize)\n",
    "with open('monte_carlo_dict.pickle', 'rb') as handle:\n",
    "    monte_carlo_dict = pickle.load(handle)"
   ]
  },
  {
   "cell_type": "code",
   "execution_count": null,
   "metadata": {},
   "outputs": [],
   "source": [
    "covx=monte_carlo_dict['iteration3']['covariance_matrix']"
   ]
  },
  {
   "cell_type": "code",
   "execution_count": null,
   "metadata": {},
   "outputs": [],
   "source": [
    "#np.savetxt('covx.csv', covx, delimiter=',')"
   ]
  },
  {
   "cell_type": "code",
   "execution_count": null,
   "metadata": {},
   "outputs": [],
   "source": [
    "np.sqrt(np.diag(covx))*2"
   ]
  },
  {
   "cell_type": "code",
   "execution_count": null,
   "metadata": {},
   "outputs": [],
   "source": [
    "#best_fit=fit_testing_data_new_fits_june30['test2']['all parameters except ternary params']"
   ]
  },
  {
   "cell_type": "code",
   "execution_count": null,
   "metadata": {},
   "outputs": [],
   "source": [
    "best_fit=monte_carlo_dict['iteration3']"
   ]
  },
  {
   "cell_type": "code",
   "execution_count": null,
   "metadata": {},
   "outputs": [],
   "source": [
    "np.array(fitted_coder_pmelts.param_names[2:-3])"
   ]
  },
  {
   "cell_type": "code",
   "execution_count": null,
   "metadata": {},
   "outputs": [],
   "source": [
    "best_fit['best_fit_sol_vals']"
   ]
  },
  {
   "cell_type": "code",
   "execution_count": null,
   "metadata": {},
   "outputs": [],
   "source": [
    "cov_matrix_scaled=best_fit['covariance_matrix']*2.227083722547888"
   ]
  },
  {
   "cell_type": "code",
   "execution_count": null,
   "metadata": {},
   "outputs": [],
   "source": [
    "#cov_matrix_scaled=best_fit['covariance_matrix']*1.693274152130998*(1000**2)\n",
    "#cov_matrix_scaled=best_fit['covariance_matrix']*1.693274152130998"
   ]
  },
  {
   "cell_type": "code",
   "execution_count": null,
   "metadata": {},
   "outputs": [],
   "source": [
    "#best_fit_sol_vals=best_fit['solution_parameters']\n",
    "best_fit_sol_vals=best_fit['best_fit_sol_vals']"
   ]
  },
  {
   "cell_type": "code",
   "execution_count": null,
   "metadata": {},
   "outputs": [],
   "source": [
    "best_fit_sol_vals"
   ]
  },
  {
   "cell_type": "code",
   "execution_count": null,
   "metadata": {},
   "outputs": [],
   "source": [
    "sat_affs_test=np.array([16454.15750894, 12408.69261663, 13954.86698486, 15053.07925696,\n",
    "         15179.8484748 ,  8499.91374262, 13839.90749468, 11955.99844839,\n",
    "         10948.6755937 , 15986.42422123, 27142.70675874, 23341.76474171,\n",
    "         23080.57188505, 15627.88891034, 43098.4397059 , 24868.58626153,\n",
    "          9496.50132577, 24946.32081633, 23146.09744478, -2926.92132529,\n",
    "          6490.57531897, -5031.51287504,  8892.71234869,  8050.83323554,\n",
    "         13844.5493342 , 13171.56934159, 13503.4001028 , 12619.00251127,\n",
    "         10649.49589969, 12387.55973549,  5465.22321555,  8435.70884678,\n",
    "          7085.57907175,  7470.51504017,  9035.51412709,  9406.38354212,\n",
    "           911.87456152, 20549.27818139, 27988.54764947, 20354.16102146,\n",
    "         10398.2285694 , 12144.81395688, 12267.74679623, 11879.98204025,\n",
    "         11721.58631339, 12704.6578777 , 12457.23344564, 11919.96004544,\n",
    "         14222.76529847, 11294.09853488, 17503.19712652, 23658.58623422,\n",
    "         27440.59017471, 25978.96451778])"
   ]
  },
  {
   "cell_type": "code",
   "execution_count": null,
   "metadata": {},
   "outputs": [],
   "source": [
    "binary_endmems=[0,2,3]\n",
    "min_val=np.sqrt(np.finfo(float).eps)\n",
    "comp_space=np.linspace(min_val,1-min_val,50)\n",
    "\n",
    "comp_matrix23=get_binary_comp_matrix(min_val, comp_space, binary_endmems, inverse=True)"
   ]
  },
  {
   "cell_type": "code",
   "execution_count": null,
   "metadata": {},
   "outputs": [],
   "source": []
  },
  {
   "cell_type": "code",
   "execution_count": null,
   "metadata": {},
   "outputs": [],
   "source": []
  },
  {
   "cell_type": "code",
   "execution_count": null,
   "metadata": {},
   "outputs": [],
   "source": [
    "len(best_fit_sol_vals)"
   ]
  },
  {
   "cell_type": "code",
   "execution_count": null,
   "metadata": {},
   "outputs": [],
   "source": [
    "param_cov=cov_matrix_scaled"
   ]
  },
  {
   "cell_type": "code",
   "execution_count": null,
   "metadata": {},
   "outputs": [],
   "source": [
    "len(param_cov)"
   ]
  },
  {
   "cell_type": "code",
   "execution_count": null,
   "metadata": {},
   "outputs": [],
   "source": [
    "errors_on_sol_params=np.sqrt(np.diag(param_cov))"
   ]
  },
  {
   "cell_type": "code",
   "execution_count": null,
   "metadata": {},
   "outputs": [],
   "source": [
    "#param_names_arr[2:-3]"
   ]
  },
  {
   "cell_type": "code",
   "execution_count": null,
   "metadata": {},
   "outputs": [],
   "source": []
  },
  {
   "cell_type": "code",
   "execution_count": null,
   "metadata": {},
   "outputs": [],
   "source": [
    "errors_on_sol_params/1000\n"
   ]
  },
  {
   "cell_type": "code",
   "execution_count": null,
   "metadata": {},
   "outputs": [],
   "source": [
    "len(errors_on_sol_params)"
   ]
  },
  {
   "cell_type": "code",
   "execution_count": null,
   "metadata": {},
   "outputs": [],
   "source": [
    "Ndraw=100\n",
    "#param_means=best_fit_sol_vals[2:-3]\n",
    "param_means=best_fit_sol_vals\n",
    "param_cov=param_cov\n",
    "posterior_draw=sp.random.multivariate_normal(\n",
    "           param_means, param_cov, Ndraw)"
   ]
  },
  {
   "cell_type": "code",
   "execution_count": null,
   "metadata": {},
   "outputs": [],
   "source": [
    "posterior_draw[37]"
   ]
  },
  {
   "cell_type": "code",
   "execution_count": null,
   "metadata": {},
   "outputs": [],
   "source": [
    "(posterior_draw[37]-param_means)/np.sqrt(np.diag(param_cov))"
   ]
  },
  {
   "cell_type": "code",
   "execution_count": null,
   "metadata": {},
   "outputs": [],
   "source": [
    "binary_endmems=[0,2,3]\n",
    "min_val=np.sqrt(np.finfo(float).eps)\n",
    "comp_space=np.linspace(min_val,1-min_val,50)\n",
    "\n",
    "comp_matrix23=get_binary_comp_matrix(min_val, comp_space, binary_endmems, inverse=True)\n",
    "comp_matrix=np.array(comp_matrix23)"
   ]
  },
  {
   "cell_type": "code",
   "execution_count": null,
   "metadata": {},
   "outputs": [],
   "source": [
    "def calc_solvus_surface(T_range, P, model=None):\n",
    "    \n",
    "    comp_left=[]\n",
    "    comp_right=[]\n",
    "    for iT in T_range:\n",
    "        \n",
    "        try:\n",
    "            iconvex_hull_data, ihull_index_left, ihull_index_right, igibbs_energy=find_solvus(iT, P, model=model)\n",
    "    \n",
    "            ihull_data_left=iconvex_hull_data[ihull_index_left][0]\n",
    "            ihull_data_right=iconvex_hull_data[ihull_index_right][0]\n",
    "    \n",
    "            comp_left.append(ihull_data_left)\n",
    "            comp_right.append(ihull_data_right)\n",
    "        \n",
    "        except:\n",
    "            #print('Could not find solvus')\n",
    "            continue\n",
    "    \n",
    "    return comp_left, comp_right"
   ]
  },
  {
   "cell_type": "code",
   "execution_count": null,
   "metadata": {},
   "outputs": [],
   "source": [
    "grt_model_fit=modelDB_fitted.phases['Grt']"
   ]
  },
  {
   "cell_type": "code",
   "execution_count": null,
   "metadata": {},
   "outputs": [],
   "source": [
    "grt_model_fit.get_param_values()"
   ]
  },
  {
   "cell_type": "code",
   "execution_count": null,
   "metadata": {},
   "outputs": [],
   "source": [
    "#all_inds=(np.linspace(2, 22, 21)).astype(int)\n",
    "all_inds=np.array([ 2,  3,  4, 5, 6,  7,  8,  9, 10, 11, 12, 13, 14, 15, 16, 17, 18,\n",
    "       19])"
   ]
  },
  {
   "cell_type": "code",
   "execution_count": null,
   "metadata": {},
   "outputs": [],
   "source": [
    "all_inds"
   ]
  },
  {
   "cell_type": "code",
   "execution_count": null,
   "metadata": {},
   "outputs": [],
   "source": [
    "len(all_inds)"
   ]
  },
  {
   "cell_type": "code",
   "execution_count": null,
   "metadata": {},
   "outputs": [],
   "source": [
    "T_range=np.arange(473, 3000)\n",
    "P=1\n",
    "solvus_surface_list=[]\n",
    "temp_list=[]\n",
    "for ipdraw in posterior_draw:\n",
    "    grt_model_fit.set_param_values(ipdraw, all_inds)\n",
    "    \n",
    "    icomp_left, icomp_right=calc_solvus_surface(T_range, P, model=grt_model_fit)\n",
    "    \n",
    "    isolvus_surface=np.append(np.array(icomp_left), np.array(icomp_right)[::-1])\n",
    "\n",
    "    itemps=np.append(T_range[0:len(icomp_left)], T_range[0:len(icomp_right)][::-1])    \n",
    "    \n",
    "    solvus_surface_list.append(isolvus_surface)\n",
    "    temp_list.append(itemps)\n",
    "    \n",
    "    # calc solvus, append values to list, vstack into matrix, np.quantile at 1 sigma bounds, \n",
    "    # returns list of T's of 1 sig lower and upper bound, use fill between to show 1 sigma uncertainty\n",
    "    "
   ]
  },
  {
   "cell_type": "code",
   "execution_count": null,
   "metadata": {},
   "outputs": [],
   "source": [
    "T_range=np.arange(473, 3000)\n",
    "P=30000\n",
    "solvus_surface_list_3gpa=[]\n",
    "temp_list_3gpa=[]\n",
    "for ipdraw in posterior_draw:\n",
    "    grt_model_fit.set_param_values(ipdraw, all_inds)\n",
    "    \n",
    "    icomp_left, icomp_right=calc_solvus_surface(T_range, P, model=grt_model_fit)\n",
    "    \n",
    "    isolvus_surface=np.append(np.array(icomp_left), np.array(icomp_right)[::-1])\n",
    "\n",
    "    itemps=np.append(T_range[0:len(icomp_left)], T_range[0:len(icomp_right)][::-1])    \n",
    "    \n",
    "    solvus_surface_list_3gpa.append(isolvus_surface)\n",
    "    temp_list_3gpa.append(itemps)\n",
    "    \n",
    "    # calc solvus, append values to list, vstack into matrix, np.quantile at 1 sigma bounds, \n",
    "    # returns list of T's of 1 sig lower and upper bound, use fill between to show 1 sigma uncertainty\n",
    "    "
   ]
  },
  {
   "cell_type": "code",
   "execution_count": null,
   "metadata": {},
   "outputs": [],
   "source": [
    "T_range=np.arange(473, 3000)\n",
    "P=80000\n",
    "solvus_surface_list_8gpa=[]\n",
    "temp_list_8gpa=[]\n",
    "for ipdraw in posterior_draw:\n",
    "    grt_model_fit.set_param_values(ipdraw, all_inds)\n",
    "    \n",
    "    icomp_left, icomp_right=calc_solvus_surface(T_range, P, model=grt_model_fit)\n",
    "    \n",
    "    isolvus_surface=np.append(np.array(icomp_left), np.array(icomp_right)[::-1])\n",
    "\n",
    "    itemps=np.append(T_range[0:len(icomp_left)], T_range[0:len(icomp_right)][::-1])    \n",
    "    \n",
    "    solvus_surface_list_8gpa.append(isolvus_surface)\n",
    "    temp_list_8gpa.append(itemps)\n",
    "    "
   ]
  },
  {
   "cell_type": "code",
   "execution_count": null,
   "metadata": {},
   "outputs": [],
   "source": [
    "len(posterior_draw)"
   ]
  },
  {
   "cell_type": "code",
   "execution_count": null,
   "metadata": {},
   "outputs": [],
   "source": [
    "len(temp_list_8gpa[0])"
   ]
  },
  {
   "cell_type": "code",
   "execution_count": null,
   "metadata": {},
   "outputs": [],
   "source": [
    "len(temp_list_3gpa[0])"
   ]
  },
  {
   "cell_type": "code",
   "execution_count": null,
   "metadata": {},
   "outputs": [],
   "source": [
    "len(temp_list[0])"
   ]
  },
  {
   "cell_type": "code",
   "execution_count": null,
   "metadata": {},
   "outputs": [],
   "source": [
    "solvus_surface_list"
   ]
  },
  {
   "cell_type": "code",
   "execution_count": null,
   "metadata": {},
   "outputs": [],
   "source": [
    "np.where(temp_list[0]==temp_list[0].max())"
   ]
  },
  {
   "cell_type": "code",
   "execution_count": null,
   "metadata": {},
   "outputs": [],
   "source": [
    "solvus_surface_list[0][451]"
   ]
  },
  {
   "cell_type": "code",
   "execution_count": null,
   "metadata": {},
   "outputs": [],
   "source": [
    "critical_composition=[]\n",
    "for itemp, isolvus in zip(temp_list, solvus_surface_list):\n",
    "    temp_max=np.where(itemp==itemp.max())\n",
    "    isolvus1=isolvus[temp_max[0]]\n",
    "    isolvus2=isolvus[temp_max[-1]]\n",
    "    isolvus_avg=(isolvus1+isolvus2)/2\n",
    "    \n",
    "    \n",
    "    critical_composition.append(isolvus_avg)\n",
    "critical_composition=np.array(critical_composition)    "
   ]
  },
  {
   "cell_type": "code",
   "execution_count": null,
   "metadata": {},
   "outputs": [],
   "source": [
    "critical_composition_3gpa=[]\n",
    "for itemp, isolvus in zip(temp_list_3gpa, solvus_surface_list_3gpa):\n",
    "    temp_max=np.where(itemp==itemp.max())\n",
    "    isolvus1=isolvus[temp_max[0]]\n",
    "    isolvus2=isolvus[temp_max[-1]]\n",
    "    isolvus_avg=(isolvus1+isolvus2)/2\n",
    "    \n",
    "    \n",
    "    critical_composition_3gpa.append(isolvus_avg)\n",
    "critical_composition_3gpa=np.array(critical_composition_3gpa)    "
   ]
  },
  {
   "cell_type": "code",
   "execution_count": null,
   "metadata": {},
   "outputs": [],
   "source": [
    "np.mean(critical_composition_3gpa)"
   ]
  },
  {
   "cell_type": "code",
   "execution_count": null,
   "metadata": {},
   "outputs": [],
   "source": [
    "critical_composition_8gpa=[]\n",
    "for itemp, isolvus in zip(temp_list_8gpa, solvus_surface_list_8gpa):\n",
    "    temp_max=np.where(itemp==itemp.max())\n",
    "    isolvus1=isolvus[temp_max[0]]\n",
    "    isolvus2=isolvus[temp_max[-1]]\n",
    "    isolvus_avg=(isolvus1+isolvus2)/2\n",
    "    \n",
    "    \n",
    "    critical_composition_8gpa.append(isolvus_avg)\n",
    "critical_composition_8gpa=np.array(critical_composition_8gpa) "
   ]
  },
  {
   "cell_type": "code",
   "execution_count": null,
   "metadata": {},
   "outputs": [],
   "source": [
    "np.mean(critical_composition_8gpa)"
   ]
  },
  {
   "cell_type": "code",
   "execution_count": null,
   "metadata": {},
   "outputs": [],
   "source": [
    "max_list_1bar=[]\n",
    "mean_list_1bar=[]\n",
    "for ival in temp_list:\n",
    "    imax=ival.max()\n",
    "    max_list_1bar.append(imax)\n",
    "    \n",
    "    mean_tot_1bar=np.mean(max_list_1bar)\n",
    "    std_dev_1bar=np.std(max_list_1bar)"
   ]
  },
  {
   "cell_type": "code",
   "execution_count": null,
   "metadata": {},
   "outputs": [],
   "source": [
    "std_dev_1bar"
   ]
  },
  {
   "cell_type": "code",
   "execution_count": null,
   "metadata": {},
   "outputs": [],
   "source": [
    "mean_tot_1bar-273"
   ]
  },
  {
   "cell_type": "code",
   "execution_count": null,
   "metadata": {},
   "outputs": [],
   "source": [
    "max_list_3gpa=[]\n",
    "mean_list_3gpa=[]\n",
    "for ival in temp_list_3gpa:\n",
    "    imax=ival.max()\n",
    "    max_list_3gpa.append(imax)\n",
    "    \n",
    "    mean_tot_3gpa=np.mean(max_list_3gpa)\n",
    "    std_dev_3gpa=np.std(max_list_3gpa)"
   ]
  },
  {
   "cell_type": "code",
   "execution_count": null,
   "metadata": {},
   "outputs": [],
   "source": [
    "mean_tot_3gpa-273"
   ]
  },
  {
   "cell_type": "code",
   "execution_count": null,
   "metadata": {},
   "outputs": [],
   "source": [
    "std_dev_3gpa"
   ]
  },
  {
   "cell_type": "code",
   "execution_count": null,
   "metadata": {},
   "outputs": [],
   "source": [
    "max_list_8gpa=[]\n",
    "mean_list_8gpa=[]\n",
    "for ival in temp_list_8gpa:\n",
    "    imax=ival.max()\n",
    "    max_list_8gpa.append(imax)\n",
    "    \n",
    "    mean_tot_8gpa=np.mean(max_list_8gpa)\n",
    "    std_dev_8gpa=np.std(max_list_8gpa)"
   ]
  },
  {
   "cell_type": "code",
   "execution_count": null,
   "metadata": {},
   "outputs": [],
   "source": [
    "mean_tot_8gpa-273"
   ]
  },
  {
   "cell_type": "code",
   "execution_count": null,
   "metadata": {},
   "outputs": [],
   "source": [
    "std_dev_8gpa*2"
   ]
  },
  {
   "cell_type": "code",
   "execution_count": null,
   "metadata": {},
   "outputs": [],
   "source": [
    "#np.where(temp_list[0]==927)"
   ]
  },
  {
   "cell_type": "code",
   "execution_count": null,
   "metadata": {},
   "outputs": [],
   "source": [
    "#mean_tot_1bar-273"
   ]
  },
  {
   "cell_type": "code",
   "execution_count": null,
   "metadata": {},
   "outputs": [],
   "source": [
    "#std_dev_1bar*2"
   ]
  },
  {
   "cell_type": "code",
   "execution_count": null,
   "metadata": {},
   "outputs": [],
   "source": [
    "#mean_tot_3gpa-273"
   ]
  },
  {
   "cell_type": "code",
   "execution_count": null,
   "metadata": {},
   "outputs": [],
   "source": [
    "#std_dev_3gpa*2"
   ]
  },
  {
   "cell_type": "code",
   "execution_count": null,
   "metadata": {},
   "outputs": [],
   "source": [
    "#mean_tot_8gpa-273"
   ]
  },
  {
   "cell_type": "code",
   "execution_count": null,
   "metadata": {},
   "outputs": [],
   "source": [
    "#std_dev_8gpa*2"
   ]
  },
  {
   "cell_type": "code",
   "execution_count": null,
   "metadata": {},
   "outputs": [],
   "source": [
    "for isolvus, itemp in zip(solvus_surface_list, temp_list):\n",
    "    plt.plot(isolvus, itemp-273, 'b-')\n",
    "    \n",
    "for isolvus, itemp in zip(solvus_surface_list_3gpa, temp_list_3gpa):\n",
    "    plt.plot(isolvus, itemp-273, 'r-')\n",
    "    \n",
    "for isolvus, itemp in zip(solvus_surface_list_8gpa, temp_list_8gpa):\n",
    "    plt.plot(isolvus, itemp-273, 'k-')\n",
    "    \n",
    "    \n",
    "plt.ylim(200,1350)"
   ]
  },
  {
   "cell_type": "code",
   "execution_count": null,
   "metadata": {},
   "outputs": [],
   "source": []
  },
  {
   "cell_type": "code",
   "execution_count": null,
   "metadata": {},
   "outputs": [],
   "source": [
    "max_vals=[]\n",
    "min_vals=[]\n",
    "for ivec in temp_list_8gpa:\n",
    "    imax_val=ivec.max()\n",
    "    imin_val=ivec.min()\n",
    "    \n",
    "    max_vals.append(imax_val)\n",
    "    min_vals.append(imin_val)"
   ]
  },
  {
   "cell_type": "code",
   "execution_count": null,
   "metadata": {},
   "outputs": [],
   "source": [
    "max_vals=np.array(max_vals)"
   ]
  },
  {
   "cell_type": "code",
   "execution_count": null,
   "metadata": {},
   "outputs": [],
   "source": [
    "max_vals[58]"
   ]
  },
  {
   "cell_type": "code",
   "execution_count": null,
   "metadata": {},
   "outputs": [],
   "source": [
    "max_vals.max()"
   ]
  },
  {
   "cell_type": "code",
   "execution_count": null,
   "metadata": {},
   "outputs": [],
   "source": [
    "np.where(max_vals==1568)"
   ]
  },
  {
   "cell_type": "code",
   "execution_count": null,
   "metadata": {},
   "outputs": [],
   "source": [
    "max_vals.min()"
   ]
  },
  {
   "cell_type": "code",
   "execution_count": null,
   "metadata": {},
   "outputs": [],
   "source": [
    "np.where(max_vals==1499)"
   ]
  },
  {
   "cell_type": "code",
   "execution_count": null,
   "metadata": {},
   "outputs": [],
   "source": [
    "new_x_list=[]\n",
    "new_y_list=[]\n",
    "for ipt, itemp in zip(solvus_surface_list, temp_list):\n",
    "    iodd_pts=ipt[1::2]\n",
    "    iodd_temps=itemp[1::2]\n",
    "    \n",
    "    ieven_pts=ipt[0::2]\n",
    "    ieven_temps=itemp[0::2]\n",
    "    \n",
    "    ieven_polyfit=np.polyfit(ieven_pts, ieven_temps, deg=20)\n",
    "    iodd_polyfit=np.polyfit(iodd_pts, iodd_temps, deg=20)\n",
    "    iavg_polyfit=(ieven_polyfit+iodd_polyfit)/2\n",
    "\n",
    "    ipoly = np.poly1d(iavg_polyfit)\n",
    "    inew_x = np.linspace(ipt[0], ipt[-1])\n",
    "    inew_y = ipoly(inew_x)\n",
    "    \n",
    "    new_x_list.append(inew_x)\n",
    "    new_y_list.append(inew_y)"
   ]
  },
  {
   "cell_type": "code",
   "execution_count": null,
   "metadata": {},
   "outputs": [],
   "source": [
    "new_x_list_3gpa=[]\n",
    "new_y_list_3gpa=[]\n",
    "for ipt, itemp in zip(solvus_surface_list_3gpa, temp_list_3gpa):\n",
    "    iodd_pts_3gpa=ipt[1::2]\n",
    "    iodd_temps_3gpa=itemp[1::2]\n",
    "    \n",
    "    ieven_pts_3gpa=ipt[0::2]\n",
    "    ieven_temps_3gpa=itemp[0::2]\n",
    "    \n",
    "    ieven_polyfit_3gpa=np.polyfit(ieven_pts_3gpa, ieven_temps_3gpa, deg=12)\n",
    "    iodd_polyfit_3gpa=np.polyfit(iodd_pts_3gpa, iodd_temps_3gpa, deg=12)\n",
    "    iavg_polyfit_3gpa=(ieven_polyfit_3gpa+iodd_polyfit_3gpa)/2\n",
    "\n",
    "    ipoly_3gpa = np.poly1d(iavg_polyfit_3gpa)\n",
    "    inew_x_3gpa = np.linspace(ipt[0], ipt[-1])\n",
    "    inew_y_3gpa = ipoly_3gpa(inew_x_3gpa)\n",
    "    \n",
    "    new_x_list_3gpa.append(inew_x_3gpa)\n",
    "    new_y_list_3gpa.append(inew_y_3gpa)"
   ]
  },
  {
   "cell_type": "code",
   "execution_count": null,
   "metadata": {},
   "outputs": [],
   "source": [
    "new_x_list_8gpa=[]\n",
    "new_y_list_8gpa=[]\n",
    "for ipt, itemp in zip(solvus_surface_list_8gpa, temp_list_8gpa):\n",
    "    iodd_pts_8gpa=ipt[1::2]\n",
    "    iodd_temps_8gpa=itemp[1::2]\n",
    "    \n",
    "    ieven_pts_8gpa=ipt[0::2]\n",
    "    ieven_temps_8gpa=itemp[0::2]\n",
    "    \n",
    "    ieven_polyfit_8gpa=np.polyfit(ieven_pts_8gpa, ieven_temps_8gpa, deg=20)\n",
    "    iodd_polyfit_8gpa=np.polyfit(iodd_pts_8gpa, iodd_temps_8gpa, deg=20)\n",
    "    iavg_polyfit_8gpa=(ieven_polyfit_8gpa+iodd_polyfit_8gpa)/2\n",
    "\n",
    "    ipoly_8gpa = np.poly1d(iavg_polyfit_8gpa)\n",
    "    inew_x_8gpa = np.linspace(ipt[0], ipt[-1])\n",
    "    inew_y_8gpa = ipoly_8gpa(inew_x_8gpa)\n",
    "    \n",
    "    new_x_list_8gpa.append(inew_x_8gpa)\n",
    "    new_y_list_8gpa.append(inew_y_8gpa)"
   ]
  },
  {
   "cell_type": "code",
   "execution_count": null,
   "metadata": {},
   "outputs": [],
   "source": [
    "grt_models=[berman96_coder, berman91_coder, ganguly96_coder, muko97_coder]\n",
    "grt_model_names=['berman96_coder', 'berman91_coder', 'ganguly96_coder', 'muko97_coder']"
   ]
  },
  {
   "cell_type": "code",
   "execution_count": null,
   "metadata": {},
   "outputs": [],
   "source": [
    "P=np.array([1])\n",
    "solvus_temps_dict_1bar={}\n",
    "\n",
    "for imodel, iname in zip(grt_models, grt_model_names):\n",
    "    solvus_temps=[]\n",
    "    for imol in comp_matrix23:\n",
    "        \n",
    "        isolvus_temps=find_solvus_surface(imol, P, phs=imodel)\n",
    "    \n",
    "        solvus_temps.append(isolvus_temps)\n",
    "\n",
    "    solvus_temps_dict_1bar[iname]=np.array(solvus_temps)"
   ]
  },
  {
   "cell_type": "code",
   "execution_count": null,
   "metadata": {},
   "outputs": [],
   "source": [
    "P=np.array([30000])\n",
    "solvus_temps_dict_3gpa={}\n",
    "\n",
    "for imodel, iname in zip(grt_models, grt_model_names):\n",
    "    solvus_temps=[]\n",
    "    for imol in comp_matrix23:\n",
    "        \n",
    "        isolvus_temps=find_solvus_surface(imol, P, phs=imodel)\n",
    "    \n",
    "        solvus_temps.append(isolvus_temps)\n",
    "\n",
    "    solvus_temps_dict_3gpa[iname]=np.array(solvus_temps)"
   ]
  },
  {
   "cell_type": "code",
   "execution_count": null,
   "metadata": {},
   "outputs": [],
   "source": [
    "P=np.array([80000])\n",
    "solvus_temps_dict_8gpa={}\n",
    "\n",
    "for imodel, iname in zip(grt_models, grt_model_names):\n",
    "    solvus_temps=[]\n",
    "    for imol in comp_matrix23:\n",
    "        \n",
    "        isolvus_temps=find_solvus_surface(imol, P, phs=imodel)\n",
    "    \n",
    "        solvus_temps.append(isolvus_temps)\n",
    "\n",
    "    solvus_temps_dict_8gpa[iname]=np.array(solvus_temps)"
   ]
  },
  {
   "cell_type": "code",
   "execution_count": null,
   "metadata": {},
   "outputs": [],
   "source": [
    "new_x_list"
   ]
  },
  {
   "cell_type": "code",
   "execution_count": null,
   "metadata": {},
   "outputs": [],
   "source": [
    "np.array(new_y_list).max()"
   ]
  },
  {
   "cell_type": "code",
   "execution_count": null,
   "metadata": {},
   "outputs": [],
   "source": [
    "du_8gpa_data['T'].max()"
   ]
  },
  {
   "cell_type": "code",
   "execution_count": null,
   "metadata": {},
   "outputs": [],
   "source": [
    "np.where(du_8gpa_data['T']==du_8gpa_data['T'].max())"
   ]
  },
  {
   "cell_type": "code",
   "execution_count": null,
   "metadata": {},
   "outputs": [],
   "source": [
    "du_8gpa_data['X'][16]"
   ]
  },
  {
   "cell_type": "code",
   "execution_count": null,
   "metadata": {},
   "outputs": [],
   "source": []
  },
  {
   "cell_type": "code",
   "execution_count": null,
   "metadata": {},
   "outputs": [],
   "source": [
    "from matplotlib.lines import Line2D\n",
    "fig = plt.subplots(figsize=(13,10))\n",
    "for ixval, iyval in zip(new_x_list, new_y_list):\n",
    "    plt.plot(ixval, iyval-273, 'k-', linewidth=4)\n",
    "\n",
    "for ixval_3gpa, iyval_3gpa in zip(new_x_list_3gpa, new_y_list_3gpa):\n",
    "    plt.plot(ixval_3gpa, iyval_3gpa-273, '-', linewidth=4, color='dimgrey')\n",
    "\n",
    "for ixval_8gpa, iyval_8gpa in zip(new_x_list_8gpa, new_y_list_8gpa):\n",
    "    plt.plot(ixval_8gpa, iyval_8gpa-273, '-', linewidth=5, color='darkgrey')\n",
    "    \n",
    "comp_matrix=np.array(comp_matrix23)\n",
    "\n",
    "plt.plot(comp_matrix[:, 2], solvus_temps_dict_1bar['berman96_coder']-273, '-', color='red', linewidth=1.5,label='Berman and Aranovich (1996)')\n",
    "plt.plot(comp_matrix[:, 2], solvus_temps_dict_1bar['berman91_coder']-273, '-', color='red',linewidth=1.5, label='Berman & Koziol (1991)')\n",
    "plt.plot(comp_matrix[:, 2], solvus_temps_dict_1bar['ganguly96_coder']-273, '-', color='red',linewidth=1.5, label='Ganguly et al. (1997)')\n",
    "plt.plot(comp_matrix[:, 2], solvus_temps_dict_1bar['muko97_coder']-273, '-', color='red',linewidth=1.5, label='Mukhopadhyay et al. (1996)')\n",
    "plt.plot(holland_2018_1bar_data['X'], holland_2018_1bar_data['T'], '-', color='red',linewidth=1.5, label='Holland et al. (2018)')\n",
    "plt.plot(vingograd_2006_1bar_data['X'], vingograd_2006_1bar_data['T'], '-', color='seagreen',linewidth=1.5, label='Vinograd & Sluiter (2006)')\n",
    "plt.plot(haselton_newton_1bar_data['X']/100, haselton_newton_1bar_data['T']-273, '-', color='red',linewidth=1.5, label='Haselton & Newton (1980)')\n",
    "plt.plot(dachs_geiger_1bar_data['X'], dachs_geiger_1bar_data['T'], '-', color='blue',linewidth=1.5, label='Dachs & Geiger (2006)')\n",
    "\n",
    "\n",
    "plt.plot(comp_matrix[:, 2], solvus_temps_dict_3gpa['berman96_coder']-273, '--',color='lightcoral',linewidth=1.5, label='_no_label_')\n",
    "plt.plot(comp_matrix[:, 2], solvus_temps_dict_3gpa['berman91_coder']-273, '--',color='lightcoral',linewidth=1.5, label='_no_label_')\n",
    "plt.plot(comp_matrix[:, 2], solvus_temps_dict_3gpa['ganguly96_coder']-273, '--',color='lightcoral', linewidth=1.5,label='_no_label_')\n",
    "plt.plot(comp_matrix[:, 2], solvus_temps_dict_3gpa['muko97_coder']-273, '--', color='lightcoral',linewidth=1.5,label='_no_label_')\n",
    "plt.plot(holland_2018_3gpa_data['X'], holland_2018_3gpa_data['T'], '-', color='lightcoral',linewidth=1.5, label='_no_label_')\n",
    "plt.plot(vingograd_2006_3gpa_data['X'], vingograd_2006_3gpa_data['T'], '--', color='mediumspringgreen',linewidth=1.5, label='_no_label_')\n",
    "plt.plot(haselton_newton_4gpa_data['X']/100, haselton_newton_4gpa_data['T']-273, '--', color='lightcoral',linewidth=1.5, label='_no_label_')\n",
    "plt.plot(dachs_geiger_4gpa_data['X'], dachs_geiger_4gpa_data['T'], '--',color='dodgerblue',linewidth=1.5, label='_no_label_')\n",
    "\n",
    "\n",
    "plt.plot(du_8gpa_data['X'], du_8gpa_data['T'], '-x', color='purple',markersize=10, linewidth=3, label='Du (2011)')\n",
    "#plt.plot(du_2gpa_data['X'], du_2gpa_data['T'], ':', color='purple',markersize=10, linewidth=4, label='Du (2011)')\n",
    "\n",
    "plt.ylim(400, 1330)\n",
    "plt.yticks(np.arange(400, 1400, 100))\n",
    "\n",
    "\n",
    "#plt.legend(prop={'size': 15}, loc='upper left')\n",
    "#colors = ['black', 'dimgrey', 'darkgrey', 'purple', 'red', 'blue', 'green', 'cyan', 'magenta', 'maroon', 'lime']\n",
    "colors = ['purple', 'black', 'dimgrey', 'darkgrey', 'red', 'blue', 'seagreen']\n",
    "lines = [Line2D([0], [0], color=c, linewidth=3, linestyle='-') for c in colors]\n",
    "#labels = ['0.1 GPa (this study)', '3 GPa (this study)', '8 GPa (this study)', 'Du (2011)',\n",
    "#          'Berman and Aranovich (1996)', 'Berman & Koziol (1991)', 'Ganguly et al. (1997)', 'Mukhopadhyay et al. (1996)',\n",
    "#          'Vinograd & Sluiter (2006)', 'Haselton & Newton (1980)', 'Dachs & Geiger (2006)']\n",
    "labels = ['High P volume/exsolution exp.', '0.1 GPa (this study)', '3 GPa (this study)', '8 GPa (this study)', 'Thermochemical solution models', \n",
    "          'Calorimetry', 'Theoretical simulations']\n",
    "plt.legend(lines, labels, prop={'size': 15})\n",
    "plt.xlabel('$X_{Pyrope}$', fontsize=20)\n",
    "plt.ylabel('Temperature (C)', fontsize=20)\n",
    "plt.xticks(fontsize=14)\n",
    "plt.yticks(fontsize=14)\n",
    "plt.xlim(0, 1)\n",
    "\n",
    "plt.savefig('miscibility_gap_fig.pdf')\n",
    "#fig.savefig('/Users/jennaadams/Desktop/miscibility_gap_fig.pdf', bbox_inches='tight')"
   ]
  },
  {
   "cell_type": "code",
   "execution_count": null,
   "metadata": {},
   "outputs": [],
   "source": [
    "holland_2018_1bar_data"
   ]
  },
  {
   "cell_type": "code",
   "execution_count": null,
   "metadata": {},
   "outputs": [],
   "source": [
    "from matplotlib.lines import Line2D\n",
    "fig = plt.subplots(figsize=(13,10))\n",
    "for ixval, iyval in zip(new_x_list, new_y_list):\n",
    "    plt.plot(ixval, iyval-273, 'k-', linewidth=4)\n",
    "\n",
    "for ixval_3gpa, iyval_3gpa in zip(new_x_list_3gpa, new_y_list_3gpa):\n",
    "    plt.plot(ixval_3gpa, iyval_3gpa-273, '-', linewidth=4, color='dimgrey')\n",
    "\n",
    "for ixval_8gpa, iyval_8gpa in zip(new_x_list_8gpa, new_y_list_8gpa):\n",
    "    plt.plot(ixval_8gpa, iyval_8gpa-273, '-', linewidth=5, color='darkgrey')\n",
    "    \n",
    "comp_matrix=np.array(comp_matrix23)\n",
    "\n",
    "plt.plot(comp_matrix[:, 2], solvus_temps_dict_1bar['berman96_coder']-273, '-', color='red', linewidth=1.5,label='Berman and Aranovich (1996)')\n",
    "plt.plot(comp_matrix[:, 2], solvus_temps_dict_1bar['berman91_coder']-273, '-', color='red',linewidth=1.5, label='Berman & Koziol (1991)')\n",
    "plt.plot(comp_matrix[:, 2], solvus_temps_dict_1bar['ganguly96_coder']-273, '-', color='red',linewidth=1.5, label='Ganguly et al. (1997)')\n",
    "plt.plot(comp_matrix[:, 2], solvus_temps_dict_1bar['muko97_coder']-273, '-', color='red',linewidth=1.5, label='Mukhopadhyay et al. (1996)')\n",
    "plt.plot(holland_2018_1bar_data['X'], holland_2018_1bar_data['T']-273, '-', color='red',linewidth=1.5, label='Holland et al. (2018)')\n",
    "plt.plot(vingograd_2006_1bar_data['X'], vingograd_2006_1bar_data['T'], '-', color='seagreen',linewidth=1.5, label='Vinograd & Sluiter (2006)')\n",
    "plt.plot(haselton_newton_1bar_data['X']/100, haselton_newton_1bar_data['T']-273, '-', color='red',linewidth=1.5, label='Haselton & Newton (1980)')\n",
    "plt.plot(dachs_geiger_1bar_data['X'], dachs_geiger_1bar_data['T'], '-', color='blue',linewidth=1.5, label='Dachs & Geiger (2006)')\n",
    "\n",
    "\n",
    "plt.plot(comp_matrix[:, 2], solvus_temps_dict_3gpa['berman96_coder']-273, '--',color='lightcoral',linewidth=1.5, label='_no_label_')\n",
    "plt.plot(comp_matrix[:, 2], solvus_temps_dict_3gpa['berman91_coder']-273, '--',color='lightcoral',linewidth=1.5, label='_no_label_')\n",
    "plt.plot(comp_matrix[:, 2], solvus_temps_dict_3gpa['ganguly96_coder']-273, '--',color='lightcoral', linewidth=1.5,label='_no_label_')\n",
    "plt.plot(comp_matrix[:, 2], solvus_temps_dict_3gpa['muko97_coder']-273, '--', color='lightcoral',linewidth=1.5,label='_no_label_')\n",
    "plt.plot(holland_2018_3gpa_data['X'], holland_2018_3gpa_data['T']-273, '--', color='lightcoral',linewidth=1.5, label='_no_label_')\n",
    "plt.plot(vingograd_2006_3gpa_data['X'], vingograd_2006_3gpa_data['T'], '--', color='mediumspringgreen',linewidth=1.5, label='_no_label_')\n",
    "plt.plot(haselton_newton_4gpa_data['X']/100, haselton_newton_4gpa_data['T']-273, '--', color='lightcoral',linewidth=1.5, label='_no_label_')\n",
    "plt.plot(dachs_geiger_4gpa_data['X'], dachs_geiger_4gpa_data['T'], '--',color='dodgerblue',linewidth=1.5, label='_no_label_')\n",
    "\n",
    "\n",
    "plt.plot(du_8gpa_data['X'], du_8gpa_data['T'], '-x', color='purple',markersize=10, linewidth=3, label='Du (2011)')\n",
    "#plt.plot(du_2gpa_data['X'], du_2gpa_data['T'], ':', color='purple',markersize=10, linewidth=4, label='Du (2011)')\n",
    "\n",
    "plt.ylim(400, 1330)\n",
    "plt.yticks(np.arange(400, 1400, 100))\n",
    "\n",
    "\n",
    "#plt.legend(prop={'size': 15}, loc='upper left')\n",
    "#colors = ['black', 'dimgrey', 'darkgrey', 'purple', 'red', 'blue', 'green', 'cyan', 'magenta', 'maroon', 'lime']\n",
    "colors = ['purple', 'black', 'dimgrey', 'darkgrey', 'red', 'blue', 'seagreen']\n",
    "lines = [Line2D([0], [0], color=c, linewidth=3, linestyle='-') for c in colors]\n",
    "#labels = ['0.1 GPa (this study)', '3 GPa (this study)', '8 GPa (this study)', 'Du (2011)',\n",
    "#          'Berman and Aranovich (1996)', 'Berman & Koziol (1991)', 'Ganguly et al. (1997)', 'Mukhopadhyay et al. (1996)',\n",
    "#          'Vinograd & Sluiter (2006)', 'Haselton & Newton (1980)', 'Dachs & Geiger (2006)']\n",
    "labels = ['High P volume/exsolution exp.', '0.1 GPa (this study)', '3 GPa (this study)', '8 GPa (this study)', 'Thermochemical solution models', \n",
    "          'Calorimetry', 'Theoretical simulations']\n",
    "plt.legend(lines, labels, prop={'size': 15})\n",
    "plt.xlabel('$X_{Pyrope}$', fontsize=20)\n",
    "plt.ylabel('Temperature (C)', fontsize=20)\n",
    "plt.xticks(fontsize=14)\n",
    "plt.yticks(fontsize=14)\n",
    "plt.xlim(0, 1)\n",
    "\n",
    "plt.savefig('miscibility_gap_fig.pdf')\n",
    "#fig.savefig('/Users/jennaadams/Desktop/miscibility_gap_fig.pdf', bbox_inches='tight')"
   ]
  },
  {
   "cell_type": "code",
   "execution_count": null,
   "metadata": {},
   "outputs": [],
   "source": []
  },
  {
   "cell_type": "code",
   "execution_count": null,
   "metadata": {},
   "outputs": [],
   "source": []
  },
  {
   "cell_type": "code",
   "execution_count": null,
   "metadata": {},
   "outputs": [],
   "source": [
    "odd_pts_8gpa=solvus_surface_list_8gpa[58][1::2]\n",
    "odd_temps_8gpa=temp_list_8gpa[58][1::2]"
   ]
  },
  {
   "cell_type": "code",
   "execution_count": null,
   "metadata": {},
   "outputs": [],
   "source": [
    "even_pts_8gpa=solvus_surface_list_8gpa[58][0::2]\n",
    "even_temps_8gpa=temp_list_8gpa[58][0::2]"
   ]
  },
  {
   "cell_type": "code",
   "execution_count": null,
   "metadata": {},
   "outputs": [],
   "source": [
    "even_polyfit_8gpa=np.polyfit(even_pts_8gpa, even_temps_8gpa, deg=20)\n",
    "odd_polyfit_8gpa=np.polyfit(odd_pts_8gpa, odd_temps_8gpa, deg=20)\n",
    "avg_polyfit_8gpa=(even_polyfit_8gpa+odd_polyfit_8gpa)/2\n",
    "\n",
    "poly_8gpa = np.poly1d(avg_polyfit_8gpa)\n",
    "new_x_8gpa = np.linspace(solvus_surface_list_8gpa[58][0], solvus_surface_list_8gpa[58][-1])\n",
    "new_y_8gpa = poly_8gpa(new_x_8gpa)"
   ]
  },
  {
   "cell_type": "code",
   "execution_count": null,
   "metadata": {},
   "outputs": [],
   "source": [
    "odd_pts_8gpa2=solvus_surface_list_8gpa[16][1::2]\n",
    "odd_temps_8gpa2=temp_list_8gpa[16][1::2]"
   ]
  },
  {
   "cell_type": "code",
   "execution_count": null,
   "metadata": {},
   "outputs": [],
   "source": [
    "even_pts_8gpa2=solvus_surface_list_8gpa[16][0::2]\n",
    "even_temps_8gpa2=temp_list_8gpa[16][0::2]"
   ]
  },
  {
   "cell_type": "code",
   "execution_count": null,
   "metadata": {},
   "outputs": [],
   "source": [
    "even_polyfit_8gpa2=np.polyfit(even_pts_8gpa2, even_temps_8gpa2, deg=20)\n",
    "odd_polyfit_8gpa2=np.polyfit(odd_pts_8gpa2, odd_temps_8gpa2, deg=20)\n",
    "avg_polyfit_8gpa2=(even_polyfit_8gpa2+odd_polyfit_8gpa2)/2\n",
    "\n",
    "poly_8gpa2 = np.poly1d(avg_polyfit_8gpa2)\n",
    "new_x_8gpa2 = np.linspace(solvus_surface_list_8gpa[16][0], solvus_surface_list_8gpa[16][-1])\n",
    "new_y_8gpa2 = poly_8gpa2(new_x_8gpa2)"
   ]
  },
  {
   "cell_type": "code",
   "execution_count": null,
   "metadata": {},
   "outputs": [],
   "source": [
    "fig = plt.subplots(figsize=(18,15))\n",
    "#plt.plot(solvus_surface_list_8gpa[58], temp_list_8gpa[58], 'r-')\n",
    "#plt.plot(solvus_surface_list_8gpa[16], temp_list_8gpa[16], 'r-')\n",
    "plt.plot(new_x_8gpa, new_y_8gpa, 'b-')\n",
    "plt.plot(new_x_8gpa2, new_y_8gpa2, 'b-')\n",
    "\n",
    "#plt.fill_between(new_x_8gpa, new_y_8gpa-273, new_y_8gpa2-273)\n",
    "plt.fill_between(new_x_8gpa, new_y_8gpa, new_y_8gpa2, where=(new_y_8gpa > new_y_8gpa2), color='C0', alpha=0.3,\n",
    "                 interpolate=True)\n",
    "#plt.fill_between(new_x_8gpa2, new_y_8gpa, new_y_8gpa2)\n",
    "\n",
    "#plt.ylim(400, 1300)"
   ]
  },
  {
   "cell_type": "code",
   "execution_count": null,
   "metadata": {},
   "outputs": [],
   "source": []
  },
  {
   "cell_type": "code",
   "execution_count": null,
   "metadata": {},
   "outputs": [],
   "source": [
    "T=np.array([1273])\n",
    "P=np.array([30000])\n",
    "min_val=np.sqrt(np.finfo(float).eps)\n",
    "comp_space=np.linspace(min_val,1-min_val,50)"
   ]
  },
  {
   "cell_type": "code",
   "execution_count": null,
   "metadata": {},
   "outputs": [],
   "source": [
    "pure_gibbs=pure_thermo_calc(T, P, model=berman96_coder, function_name='gibbs_energy')\n",
    "pure_entropy=pure_thermo_calc(T, P, model=berman96_coder, function_name='entropy')\n",
    "pure_enthalpy=pure_thermo_calc(T, P, model=berman96_coder, function_name='enthalpy')\n",
    "pure_volume=pure_thermo_calc(T, P, model=berman96_coder, function_name='volume')"
   ]
  },
  {
   "cell_type": "code",
   "execution_count": null,
   "metadata": {},
   "outputs": [],
   "source": [
    "binary_endmems=[1,0,3]\n",
    "comp_matrix13=get_binary_comp_matrix(min_val, comp_space, binary_endmems, inverse=False)"
   ]
  },
  {
   "cell_type": "code",
   "execution_count": null,
   "metadata": {},
   "outputs": [],
   "source": [
    "excess_gibs_berman96_13=calc_excess_gibbs(T, P, pure_gibbs, comp_matrix13, model=berman96_coder, incl_ideal_mixing=True)\n",
    "excess_gibs_ganguly96_13=calc_excess_gibbs(T, P, pure_gibbs, comp_matrix13, model=ganguly96_coder, incl_ideal_mixing=True)\n",
    "excess_gibs_muko97_13=calc_excess_gibbs(T, P, pure_gibbs, comp_matrix13, model=muko97_coder, incl_ideal_mixing=True)\n",
    "excess_gibs_berman91_13=calc_excess_gibbs(T, P, pure_gibbs, comp_matrix13, model=berman91_coder, incl_ideal_mixing=True)"
   ]
  },
  {
   "cell_type": "code",
   "execution_count": null,
   "metadata": {},
   "outputs": [],
   "source": [
    "excess_entr_berman96_13=calc_excess_entropy(T, P, pure_entropy, comp_matrix13, model=berman96_coder)\n",
    "excess_entr_ganguly96_13=calc_excess_entropy(T, P, pure_entropy, comp_matrix13, model=ganguly96_coder)\n",
    "excess_entr_muko97_13=calc_excess_entropy(T, P, pure_entropy, comp_matrix13, model=muko97_coder)\n",
    "excess_entr_berman91_13=calc_excess_entropy(T, P, pure_entropy, comp_matrix13, model=berman91_coder)"
   ]
  },
  {
   "cell_type": "code",
   "execution_count": null,
   "metadata": {},
   "outputs": [],
   "source": [
    "excess_enth_berman96_13=calc_excess_enthalpy(T, P, pure_enthalpy, comp_matrix13, model=berman96_coder)\n",
    "excess_enth_ganguly96_13=calc_excess_enthalpy(T, P, pure_enthalpy, comp_matrix13, model=ganguly96_coder)\n",
    "excess_enth_muko97_13=calc_excess_enthalpy(T, P, pure_enthalpy, comp_matrix13, model=muko97_coder)\n",
    "excess_enth_berman91_13=calc_excess_enthalpy(T, P, pure_enthalpy, comp_matrix13, model=berman91_coder)"
   ]
  },
  {
   "cell_type": "code",
   "execution_count": null,
   "metadata": {},
   "outputs": [],
   "source": [
    "excess_vol_berman96_13=calc_excess_volume(T, P, pure_volume, comp_matrix13, model=berman96_coder)\n",
    "excess_vol_ganguly96_13=calc_excess_volume(T, P, pure_volume, comp_matrix13, model=ganguly96_coder)\n",
    "excess_vol_muko97_13=calc_excess_volume(T, P, pure_volume, comp_matrix13, model=muko97_coder)\n",
    "excess_vol_berman91_13=calc_excess_volume(T, P, pure_volume, comp_matrix13, model=berman91_coder)"
   ]
  },
  {
   "cell_type": "code",
   "execution_count": null,
   "metadata": {},
   "outputs": [],
   "source": [
    "param_names=fitted_coder.param_names\n",
    "params_to_change=param_names\n",
    "\n",
    "for idraw in \n",
    "fitted_excess_gibbs_13=[]\n",
    "fitted_excess_entropy_13=[]\n",
    "fitted_excess_enthalpy_13=[]\n",
    "fitted_excess_volume_13=[]\n",
    "\n",
    "iparam_vals=best_fit['best_fit_sol_vals']\n",
    "set_param_values(param_names, iparam_vals, params_to_change[2:-3], modelDB=modelDB_fitted)\n",
    "fitted_grt=modelDB_fitted.phases['Grt']\n",
    "    \n",
    "igibbs=calc_excess_gibbs(T, P, pure_gibbs, comp_matrix13, model=fitted_grt, incl_ideal_mixing=True)\n",
    "ientr=calc_excess_entropy(T, P, pure_entropy, comp_matrix13, model=fitted_grt)\n",
    "ienth=calc_excess_enthalpy(T, P, pure_enthalpy, comp_matrix13, model=fitted_grt)\n",
    "ivol=calc_excess_volume(T, P, pure_volume, comp_matrix13, model=fitted_grt)\n",
    "    \n",
    "fitted_excess_gibbs_13.append(igibbs)\n",
    "fitted_excess_entropy_13.append(ientr)\n",
    "fitted_excess_enthalpy_13.append(ienth)\n",
    "fitted_excess_volume_13.append(ivol)"
   ]
  },
  {
   "cell_type": "code",
   "execution_count": null,
   "metadata": {},
   "outputs": [],
   "source": [
    "%matplotlib inline\n",
    "f, axs = plt.subplots(1,4, figsize=(26,4))\n",
    "plt.subplots_adjust(wspace=0.4)\n",
    "\n",
    "axs[0].plot(comp_space, np.array(fitted_excess_gibbs_13[0])/1000, '-', color='black', linewidth=2.5, label='All parameters')\n",
    "#axs[0,0].plot(comp_space, np.array(fitted_excess_gibbs_13[1])/1000, '.-', label='All params; no tern')\n",
    "#axs[0,0].plot(comp_space, np.array(fitted_excess_gibbs_13[2])/1000, '*-', label='No entropy params')\n",
    "#axs[0,0].plot(comp_space, np.array(fitted_excess_gibbs_13[3])/1000, 'o-', label='No entropy; no tern')\n",
    "axs[0].plot(comp_space, np.array(excess_gibs_berman96_13)/1000, 'b-.', label='Berman96')\n",
    "axs[0].plot(comp_space, np.array(excess_gibs_ganguly96_13)/1000, 'g:', linewidth=4,label='Ganguly96')\n",
    "axs[0].plot(comp_space, np.array(excess_gibs_muko97_13)/1000, 'm-', label='Mukhopadhyay97')\n",
    "axs[0].plot(comp_space, np.array(excess_gibs_berman91_13)/1000, 'r--', label='Berman91')\n",
    "axs[0].set_xlabel('X Fe', fontsize=18, fontweight = 'bold')\n",
    "axs[0].set_ylabel('Excess Gibbs energy (kJ)', fontsize=18, fontweight = 'bold')\n",
    "axs[0].tick_params(labelsize=18)\n",
    "\n",
    "axs[1].plot(comp_space, np.array(fitted_excess_volume_13[0]), '-', color='black',linewidth=2.5,label='No ternary params')\n",
    "#axs[0,1].plot(comp_space, np.array(fitted_excess_volume_13[1])/1000, '.-', label='All params; no tern')\n",
    "#axs[0,1].plot(comp_space, np.array(fitted_excess_volume_13[2])/1000, '*-', label='No entropy params')\n",
    "#axs[0,1].plot(comp_space, np.array(fitted_excess_volume_13[3])/1000, 'o-', label='No entropy; no tern')\n",
    "axs[1].plot(comp_space, np.array(excess_vol_berman96_13), 'b-.', label='Berman96')\n",
    "axs[1].plot(comp_space, np.array(excess_vol_ganguly96_13), 'g:', linewidth=4,label='Ganguly96')\n",
    "axs[1].plot(comp_space, np.array(excess_vol_muko97_13), 'm-', label='Mukhopadhyay97')\n",
    "axs[1].plot(comp_space, np.array(excess_vol_berman91_13), 'r--', label='Berman91')\n",
    "axs[1].set_xlabel('X Fe', fontsize=18, fontweight = 'bold')\n",
    "axs[1].set_ylabel('Excess Volume (J/bar)', fontsize=18, fontweight = 'bold')\n",
    "axs[1].tick_params(labelsize=18)\n",
    "\n",
    "axs[2].plot(comp_space, np.array(fitted_excess_enthalpy_13[0])/1000, '-', color='black',linewidth=2.5,label='No ternary params')\n",
    "#axs[1,0].plot(comp_space, np.array(fitted_excess_enthalpy_13[1])/1000, '.-', label='All params; no tern')\n",
    "#axs[1,0].plot(comp_space, np.array(fitted_excess_enthalpy_13[2])/1000, '*-', label='No entropy params')\n",
    "#axs[1,0].plot(comp_space, np.array(fitted_excess_enthalpy_13[3])/1000, 'o-', label='No entropy; no tern')\n",
    "axs[2].plot(comp_space, np.array(excess_enth_berman96_13)/1000, 'b-.', label='Berman96')\n",
    "axs[2].plot(comp_space, np.array(excess_enth_ganguly96_13)/1000, 'g:', linewidth=4,label='Ganguly96')\n",
    "axs[2].plot(comp_space, np.array(excess_enth_muko97_13)/1000, 'm-', label='Mukhopadhyay97')\n",
    "axs[2].plot(comp_space, np.array(excess_enth_berman91_13)/1000, 'r--', label='Berman91')\n",
    "axs[2].set_xlabel('X Fe', fontsize=18, fontweight = 'bold')\n",
    "axs[2].set_ylabel('Excess Enthalpy (kJ)', fontsize=18, fontweight = 'bold')\n",
    "axs[2].tick_params(labelsize=18)\n",
    "\n",
    "axs[3].plot(comp_space, np.array(fitted_excess_entropy_13[0]), '-', color='black',linewidth=2.5,label='best fit: No ternary params')\n",
    "#axs[1,1].plot(comp_space, np.array(fitted_excess_entropy_13[1])/1000, '.-', label='All params; no tern')\n",
    "#axs[1,1].plot(comp_space, np.array(fitted_excess_entropy_13[3])/1000, 'o-', label='No entropy; no tern')\n",
    "#axs[1,1].plot(comp_space, np.array(fitted_excess_entropy_13[2])/1000, '*-', label='No entropy params')\n",
    "axs[3].plot(comp_space, np.array(excess_entr_berman96_13), 'b-.', label='Berman96')\n",
    "axs[3].plot(comp_space, np.array(excess_entr_muko97_13), 'g:', linewidth=4,label='Mukhopadhyay97')\n",
    "axs[3].plot(comp_space, np.array(excess_entr_ganguly96_13), 'm-', label='Ganguly96')\n",
    "axs[3].plot(comp_space, np.array(excess_entr_berman91_13), 'r--', label='Berman91')\n",
    "axs[3].set_xlabel('X Fe', fontsize=18, fontweight = 'bold')\n",
    "axs[3].set_ylabel('Excess Entropy (kJ/K)', fontsize=18, fontweight = 'bold')\n",
    "axs[3].tick_params(labelsize=18)\n",
    "\n",
    "#plt.legend(loc='center left', bbox_to_anchor=(1, 0.5))\n",
    "\n",
    "f.suptitle('Almandine-pyrope binary', y=1.1, fontsize=25)\n",
    "\n",
    "plt.savefig('/Users/jennaadams/Desktop/alm_py_excess.pdf', bbox_inches='tight')"
   ]
  }
 ],
 "metadata": {
  "kernelspec": {
   "display_name": "py36workshop",
   "language": "python",
   "name": "py36workshop"
  }
 },
 "nbformat": 4,
 "nbformat_minor": 2
}
