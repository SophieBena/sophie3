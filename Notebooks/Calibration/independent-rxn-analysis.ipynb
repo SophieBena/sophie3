{
 "cells": [
  {
   "cell_type": "markdown",
   "metadata": {},
   "source": [
    "# Obtain valid set of reactions \n",
    "Required Python code to load pertinent modules."
   ]
  },
  {
   "cell_type": "code",
   "execution_count": null,
   "metadata": {},
   "outputs": [],
   "source": [
    "import thermoengine as thermo\n",
    "\n",
    "import numpy as np\n",
    "import pandas as pd\n",
    "import matplotlib.pyplot as plt\n",
    "\n",
    "import pickle\n",
    "%matplotlib notebook"
   ]
  },
  {
   "cell_type": "code",
   "execution_count": null,
   "metadata": {},
   "outputs": [],
   "source": []
  },
  {
   "cell_type": "code",
   "execution_count": null,
   "metadata": {},
   "outputs": [],
   "source": [
    "modelDB = thermo.model.Database()"
   ]
  },
  {
   "cell_type": "code",
   "execution_count": null,
   "metadata": {},
   "outputs": [],
   "source": [
    "phase_symbols = ['Grt', 'Cpx', 'Ol']\n",
    "svd_props_eq = thermo.chem.calc_reaction_svd(phase_symbols, modelDB=modelDB)"
   ]
  },
  {
   "cell_type": "code",
   "execution_count": null,
   "metadata": {},
   "outputs": [],
   "source": [
    "print(svd_props_eq.keys())"
   ]
  },
  {
   "cell_type": "code",
   "execution_count": null,
   "metadata": {},
   "outputs": [],
   "source": [
    "svd_props_eq['all_endmember_name']"
   ]
  },
  {
   "cell_type": "code",
   "execution_count": null,
   "metadata": {},
   "outputs": [],
   "source": [
    "phs_symbols_all = list(modelDB.phase_attributes.keys())\n",
    "exclude = ['O2','S2', 'H2', 'KlsS', 'LctS', 'Mll', 'NphS', ]\n",
    "[phs_symbols_all.remove(sym) for sym in exclude];\n",
    "print(phs_symbols_all)\n",
    "svd_props_full = thermo.chem.calc_reaction_svd(phs_symbols_all, modelDB=modelDB)"
   ]
  },
  {
   "cell_type": "code",
   "execution_count": null,
   "metadata": {},
   "outputs": [],
   "source": []
  },
  {
   "cell_type": "code",
   "execution_count": null,
   "metadata": {},
   "outputs": [],
   "source": [
    "len(svd_props_full['all_endmember_name'])"
   ]
  },
  {
   "cell_type": "code",
   "execution_count": null,
   "metadata": {},
   "outputs": [],
   "source": [
    "svd_props_full.keys()"
   ]
  },
  {
   "cell_type": "code",
   "execution_count": null,
   "metadata": {},
   "outputs": [],
   "source": [
    "phs_symbols_all = ['Fsp','Grt', 'Cpx', 'Ol',  'Qz']\n",
    "print(phs_symbols_all)\n",
    "svd_props_full = thermo.chem.calc_reaction_svd(phs_symbols_all, modelDB=modelDB)"
   ]
  },
  {
   "cell_type": "code",
   "execution_count": null,
   "metadata": {},
   "outputs": [],
   "source": [
    "[print(phs, ' : ', endmem) for phs,endmem \n",
    " in zip(svd_props_eq['all_phase_name'], \n",
    "        svd_props_eq['all_endmember_name'])];"
   ]
  },
  {
   "cell_type": "code",
   "execution_count": null,
   "metadata": {},
   "outputs": [],
   "source": [
    "svd_props_full['all_phase_symbol']\n",
    "svd_props_full['all_endmember_id']"
   ]
  },
  {
   "cell_type": "code",
   "execution_count": null,
   "metadata": {},
   "outputs": [],
   "source": [
    "[print(phs, ' : ', endmem) for phs,endmem \n",
    " in zip(svd_props_full['all_phase_name'], \n",
    "        svd_props_full['all_endmember_name'])];"
   ]
  },
  {
   "cell_type": "code",
   "execution_count": null,
   "metadata": {},
   "outputs": [],
   "source": [
    "svd_props_full['all_mol_oxide_comp'].shape"
   ]
  },
  {
   "cell_type": "code",
   "execution_count": null,
   "metadata": {},
   "outputs": [],
   "source": [
    "svd_props_eq['all_mol_oxide_comp'].shape"
   ]
  },
  {
   "cell_type": "code",
   "execution_count": null,
   "metadata": {},
   "outputs": [],
   "source": [
    "svd_eq = svd_props_eq['rxn_svd']\n",
    "svd_full = svd_props_full['rxn_svd']"
   ]
  },
  {
   "cell_type": "code",
   "execution_count": null,
   "metadata": {},
   "outputs": [],
   "source": []
  },
  {
   "cell_type": "code",
   "execution_count": null,
   "metadata": {},
   "outputs": [],
   "source": [
    "rxn0 = svd_props_eq['rxn_svd']\n",
    "phs_sym0 = svd_props_eq['all_phase_symbol']\n",
    "endmem_id0 = svd_props_eq['all_endmember_id']\n",
    "phs_sym_full = svd_props_full['all_phase_symbol']\n",
    "endmem_id_full = svd_props_full['all_endmember_id']\n",
    "print(len(phs_sym_full))\n",
    "print(len(endmem_id_full))\n",
    "\n",
    "print(phs_sym0, endmem_id0)\n",
    "print(phs_sym_full, endmem_id_full)"
   ]
  },
  {
   "cell_type": "code",
   "execution_count": null,
   "metadata": {},
   "outputs": [],
   "source": []
  },
  {
   "cell_type": "code",
   "execution_count": null,
   "metadata": {},
   "outputs": [],
   "source": [
    "def expand_rxn_matrix(rxn0, phs_sym0, endmem_id0, \n",
    "                      phs_sym_full, endmem_id_full):\n",
    "    \n",
    "    phs_sym_full = np.array(phs_sym_full)\n",
    "    endmem_id_full = np.array(endmem_id_full)\n",
    "    \n",
    "    Nendmem = len(endmem_id_full)\n",
    "    Nrxn = rxn0.shape[0]\n",
    "    rxn_full = np.zeros((Nrxn, Nendmem))\n",
    "    \n",
    "    ind_full = []\n",
    "    for iphs_sym, iendmem_id in zip(phs_sym0, endmem_id0):\n",
    "        # print(iphs_sym, iendmem_id)\n",
    "        ind = np.where((phs_sym_full==iphs_sym)&\n",
    "                       (endmem_id_full==iendmem_id))[0][0]\n",
    "        ind_full.append(ind)\n",
    "        \n",
    "    ind_full = np.array(ind_full)\n",
    "    \n",
    "    for i, irxn0 in enumerate(rxn0):\n",
    "        rxn_full[i, ind_full] = irxn0\n",
    "        \n",
    "    phs_absent = np.ones(Nendmem)\n",
    "    phs_absent[ind_full] = 0\n",
    "    \n",
    "    return rxn_full, phs_absent\n",
    "        \n",
    "\n",
    "# rxn0 = np.round(rxn0, decimals=2)\n",
    "\n",
    "rxn0_full, phs_absent = expand_rxn_matrix(rxn0, phs_sym0, endmem_id0, \n",
    "                      phs_sym_full, endmem_id_full)\n",
    "\n",
    "# svd_props_full['all_phase_symbol']\n",
    "\n",
    "# svd_props_full['all_endmember_id']"
   ]
  },
  {
   "cell_type": "code",
   "execution_count": null,
   "metadata": {},
   "outputs": [],
   "source": [
    "phs_absent"
   ]
  },
  {
   "cell_type": "code",
   "execution_count": null,
   "metadata": {},
   "outputs": [],
   "source": [
    "rxn_full = svd_props_full['rxn_svd']\n",
    "rxn_full.shape"
   ]
  },
  {
   "cell_type": "code",
   "execution_count": null,
   "metadata": {},
   "outputs": [],
   "source": [
    "rxn_resid = rxn_full.copy()\n",
    "for irxn0 in rxn0_full:\n",
    "    rxn_resid -= np.dot(np.dot(rxn_resid, irxn0)[:,np.newaxis], \n",
    "                  irxn0[np.newaxis, :])"
   ]
  },
  {
   "cell_type": "code",
   "execution_count": null,
   "metadata": {},
   "outputs": [],
   "source": [
    "\n",
    "plt.figure()\n",
    "plt.imshow(rxn0_full)\n",
    "plt.title('rxn0')\n",
    "\n",
    "\n",
    "plt.figure()\n",
    "plt.imshow(rxn_full)\n",
    "plt.title('rxn_full')\n",
    "\n",
    "plt.figure()\n",
    "plt.imshow(rxn_resid)\n",
    "plt.title('rxn_resid')\n"
   ]
  },
  {
   "cell_type": "code",
   "execution_count": null,
   "metadata": {},
   "outputs": [],
   "source": [
    "u, s, vh = np.linalg.svd(rxn_resid)"
   ]
  },
  {
   "cell_type": "code",
   "execution_count": null,
   "metadata": {},
   "outputs": [],
   "source": [
    "rxn_rank = vh[0:3]\n",
    "rxn_rank"
   ]
  },
  {
   "cell_type": "code",
   "execution_count": null,
   "metadata": {},
   "outputs": [],
   "source": [
    "plt.figure()\n",
    "plt.imshow(rxn_rank, cmap='coolwarm')\n",
    "plt.colorbar()"
   ]
  },
  {
   "cell_type": "code",
   "execution_count": null,
   "metadata": {},
   "outputs": [],
   "source": []
  },
  {
   "cell_type": "code",
   "execution_count": null,
   "metadata": {},
   "outputs": [],
   "source": [
    "from scipy.optimize import linprog"
   ]
  },
  {
   "cell_type": "code",
   "execution_count": null,
   "metadata": {},
   "outputs": [],
   "source": [
    "rxn_both = np.vstack((rxn_rank,-rxn_rank))\n"
   ]
  },
  {
   "cell_type": "code",
   "execution_count": null,
   "metadata": {},
   "outputs": [],
   "source": [
    "phs_absent_ind = np.where(phs_absent)[0]\n",
    "phs_absent_ind\n",
    "\n",
    "for absent_ind in phs_absent_ind:\n",
    "    print(rxn_both[:,absent_ind])"
   ]
  },
  {
   "cell_type": "code",
   "execution_count": null,
   "metadata": {},
   "outputs": [],
   "source": [
    "cost = np.array([1,1,1,1,1,-1,-1,-1,-1,-1])"
   ]
  },
  {
   "cell_type": "code",
   "execution_count": null,
   "metadata": {},
   "outputs": [],
   "source": [
    "rxn_both.shape[0]"
   ]
  },
  {
   "cell_type": "code",
   "execution_count": null,
   "metadata": {},
   "outputs": [],
   "source": [
    "Nrxn = 5\n",
    "A_eq = np.vstack([np.ones(2*Nrxn), rxn_both[:,0], rxn_both[:,1],\n",
    "                  rxn_both[:,2]])\n",
    "b_eq = np.array([1, 0, 0, 0])\n",
    "b_eq\n",
    "A_eq.shape\n",
    "print(b_eq)\n",
    "print(A_eq)"
   ]
  },
  {
   "cell_type": "code",
   "execution_count": null,
   "metadata": {},
   "outputs": [],
   "source": [
    "out = linprog(cost, A_eq=A_eq, b_eq=b_eq, bounds=(None, None))\n",
    "out.x\n"
   ]
  },
  {
   "cell_type": "code",
   "execution_count": null,
   "metadata": {},
   "outputs": [],
   "source": [
    "np.round(np.dot(rxn_both.T, out.x), decimals=2)"
   ]
  },
  {
   "cell_type": "code",
   "execution_count": null,
   "metadata": {},
   "outputs": [],
   "source": [
    "out"
   ]
  },
  {
   "cell_type": "code",
   "execution_count": null,
   "metadata": {},
   "outputs": [],
   "source": []
  },
  {
   "cell_type": "code",
   "execution_count": null,
   "metadata": {},
   "outputs": [],
   "source": []
  },
  {
   "cell_type": "code",
   "execution_count": null,
   "metadata": {},
   "outputs": [],
   "source": []
  },
  {
   "cell_type": "code",
   "execution_count": null,
   "metadata": {},
   "outputs": [],
   "source": [
    "from scipy.optimize import linprog"
   ]
  },
  {
   "cell_type": "code",
   "execution_count": null,
   "metadata": {},
   "outputs": [],
   "source": [
    "rxn_both = np.vstack((rxn0,-rxn0))\n",
    "rxn_both[:,0].size\n"
   ]
  },
  {
   "cell_type": "code",
   "execution_count": null,
   "metadata": {},
   "outputs": [],
   "source": [
    "rxn_both[:,0]"
   ]
  },
  {
   "cell_type": "code",
   "execution_count": null,
   "metadata": {},
   "outputs": [],
   "source": [
    "cost = np.array([1,1,1,1,1,-1,-1,-1,-1,-1])"
   ]
  },
  {
   "cell_type": "code",
   "execution_count": null,
   "metadata": {},
   "outputs": [],
   "source": [
    "rxn_both.shape[0]"
   ]
  },
  {
   "cell_type": "code",
   "execution_count": null,
   "metadata": {},
   "outputs": [],
   "source": [
    "Nrxn = 5\n",
    "A_eq = np.vstack([np.ones(2*Nrxn), rxn_both[:,0], rxn_both[:,1],\n",
    "                  rxn_both[:,2]])\n",
    "b_eq = np.array([1, 0, 0, 0])\n",
    "b_eq\n",
    "A_eq.shape\n",
    "print(b_eq)\n",
    "print(A_eq)"
   ]
  },
  {
   "cell_type": "code",
   "execution_count": null,
   "metadata": {},
   "outputs": [],
   "source": [
    "out = linprog(cost, A_eq=A_eq, b_eq=b_eq, bounds=(None, None))\n",
    "out.x\n"
   ]
  },
  {
   "cell_type": "code",
   "execution_count": null,
   "metadata": {},
   "outputs": [],
   "source": [
    "np.round(np.dot(rxn_both.T, out.x), decimals=2)"
   ]
  },
  {
   "cell_type": "code",
   "execution_count": null,
   "metadata": {},
   "outputs": [],
   "source": [
    "out"
   ]
  },
  {
   "cell_type": "code",
   "execution_count": null,
   "metadata": {},
   "outputs": [],
   "source": []
  },
  {
   "cell_type": "code",
   "execution_count": null,
   "metadata": {},
   "outputs": [],
   "source": []
  },
  {
   "cell_type": "code",
   "execution_count": null,
   "metadata": {},
   "outputs": [],
   "source": [
    "import matplotlib.pyplot as plt\n",
    "%matplotlib notebook"
   ]
  },
  {
   "cell_type": "code",
   "execution_count": null,
   "metadata": {},
   "outputs": [],
   "source": [
    "print(svd_eq.shape)\n",
    "\n",
    "plt.figure()\n",
    "plt.imshow(svd_eq, cmap='coolwarm')\n",
    "plt.colorbar()"
   ]
  },
  {
   "cell_type": "code",
   "execution_count": null,
   "metadata": {},
   "outputs": [],
   "source": []
  },
  {
   "cell_type": "code",
   "execution_count": null,
   "metadata": {},
   "outputs": [],
   "source": []
  },
  {
   "cell_type": "markdown",
   "metadata": {},
   "source": [
    "# Quick aside on calculating molar endmember compositions"
   ]
  },
  {
   "cell_type": "code",
   "execution_count": null,
   "metadata": {},
   "outputs": [],
   "source": [
    "phs = modelDB.get_phase('Grt')\n",
    "phs0 = modelDB.get_phase('Ky')\n",
    "\n",
    "print('phs0 = ', phs0.endmember_names, ' --> ', phs0.endmember_formulas)\n",
    "print('phs = ', phs.endmember_names, ' --> ', phs.endmember_formulas)"
   ]
  },
  {
   "cell_type": "code",
   "execution_count": null,
   "metadata": {},
   "outputs": [],
   "source": [
    "mol_oxide_alm = chem.format_mol_oxide_comp({'FeO':3, 'Al2O3':1, 'SiO2':3})\n",
    "mol_oxide_grs = chem.format_mol_oxide_comp({'CaO':3, 'Al2O3':1, 'SiO2':3})\n",
    "mol_oxide_pyr = chem.format_mol_oxide_comp({'MgO':3, 'Al2O3':1, 'SiO2':3})\n",
    "\n",
    "mol_oxide_mix =  chem.format_mol_oxide_comp({'FeO':.9, 'CaO':1, 'MgO':1.1, \n",
    "                                             'Al2O3':1, 'SiO2':3})"
   ]
  },
  {
   "cell_type": "code",
   "execution_count": null,
   "metadata": {},
   "outputs": [],
   "source": []
  },
  {
   "cell_type": "code",
   "execution_count": null,
   "metadata": {},
   "outputs": [],
   "source": [
    "print('Endmember inferences:')\n",
    "print('alm: ', phs.calc_endmember_comp(mol_oxide_alm)[0])\n",
    "print('grs: ', phs.calc_endmember_comp(mol_oxide_grs)[0])\n",
    "print('pyr: ', phs.calc_endmember_comp(mol_oxide_pyr)[0])\n",
    "print('mix: ', phs.calc_endmember_comp(mol_oxide_mix)[0])"
   ]
  },
  {
   "cell_type": "markdown",
   "metadata": {},
   "source": [
    "## We already have an update to calculating endmember comp in master (that we need to pull in)\n",
    "* To use it, just add the keyword argument to calc_endmember_comp:\n",
    "    * method='intrinsic'"
   ]
  },
  {
   "cell_type": "code",
   "execution_count": null,
   "metadata": {},
   "outputs": [],
   "source": []
  },
  {
   "cell_type": "code",
   "execution_count": null,
   "metadata": {},
   "outputs": [],
   "source": [
    "rxn_data=pd.read_excel(data_dir+'grt_bearing_expts.xls',sheetname=None)"
   ]
  },
  {
   "cell_type": "code",
   "execution_count": null,
   "metadata": {},
   "outputs": [],
   "source": [
    "rxn_data['phase_symbols']"
   ]
  },
  {
   "cell_type": "markdown",
   "metadata": {},
   "source": [
    "### Find relevant phases according to data"
   ]
  },
  {
   "cell_type": "code",
   "execution_count": null,
   "metadata": {},
   "outputs": [],
   "source": [
    "#TK delete this?\n",
    "rel_phases = rxn_data['phase_symbols']['phase_symbol'].tolist()\n",
    "\n",
    "modelDB.phase_symbols\n",
    "mask_phases = [iphase in modelDB.phase_symbols for iphase in rel_phases]\n",
    "rel_phases[mask_phases]"
   ]
  },
  {
   "cell_type": "code",
   "execution_count": null,
   "metadata": {},
   "outputs": [],
   "source": [
    "relevant_phases = chem.get_relevant_phases(rxn_data)"
   ]
  },
  {
   "cell_type": "code",
   "execution_count": null,
   "metadata": {},
   "outputs": [],
   "source": [
    "relevant_phases"
   ]
  },
  {
   "cell_type": "code",
   "execution_count": null,
   "metadata": {},
   "outputs": [],
   "source": [
    "phase_names = phases.PurePhase"
   ]
  },
  {
   "cell_type": "code",
   "execution_count": null,
   "metadata": {},
   "outputs": [],
   "source": [
    "phase_names"
   ]
  },
  {
   "cell_type": "code",
   "execution_count": null,
   "metadata": {},
   "outputs": [],
   "source": [
    "props = modelDB.phase_attributes['props']"
   ]
  },
  {
   "cell_type": "code",
   "execution_count": null,
   "metadata": {},
   "outputs": [],
   "source": [
    "endmember_names = phases.PurePhase(relevant_phases)\n",
    "#phases_present=rxn_data['phase_symbols']\n",
    "#relevant_phases = rxn_data['phase_symbols']['phase_symbol'].tolist()"
   ]
  },
  {
   "cell_type": "markdown",
   "metadata": {},
   "source": [
    "### Retrieve singular value decomposition matrix for all reactions:\n",
    "➜ output is a matrix of valid, linearly independent reactions that minimize variance  and maximizes orthogonality of each vector against another.\n",
    "\n",
    "➜ Input a tolerance, defined as..."
   ]
  },
  {
   "cell_type": "code",
   "execution_count": null,
   "metadata": {},
   "outputs": [],
   "source": [
    "rxn_svd, rxn_svd_props = chem.calc_reaction_svd(relevant_phases, TOLsvd=1e-4)"
   ]
  },
  {
   "cell_type": "code",
   "execution_count": null,
   "metadata": {},
   "outputs": [],
   "source": [
    "rxn_svd"
   ]
  },
  {
   "cell_type": "code",
   "execution_count": null,
   "metadata": {},
   "outputs": [],
   "source": [
    "rxn_svd_props['all_endmember_id']"
   ]
  },
  {
   "cell_type": "code",
   "execution_count": null,
   "metadata": {},
   "outputs": [],
   "source": [
    "rxn_svd_props['all_endmember_name']"
   ]
  },
  {
   "cell_type": "code",
   "execution_count": null,
   "metadata": {},
   "outputs": [],
   "source": [
    "Nbasis=len(rxn_svd)"
   ]
  },
  {
   "cell_type": "markdown",
   "metadata": {},
   "source": [
    "### Get set of filtered reactions\n",
    "➜ output is matrix of valid, lineraly independent reactions filtered based on given input variables described below\n",
    "\n",
    "➜ input\n",
    "\n",
    "    rxn_svd: matrix from above\n",
    "\n",
    "    Ndraw: \n",
    "\n",
    "    ortho_scale: ratio that dictates level of rxn complexity (orthogonality/simplicity)\n",
    "\n",
    "    Nbasis:\n",
    "\n",
    "    TOL: rxn_complexity\n",
    " \n",
    "note: the following operation make take ~10 minutes"
   ]
  },
  {
   "cell_type": "code",
   "execution_count": null,
   "metadata": {},
   "outputs": [],
   "source": [
    "wtcoefs, costs, rxn_coefs, wtcoefs_ortho = chem.get_rxns(rxn_svd, Ndraw=2, ortho_scale=15, Nbasis=Nbasis, TOL=1e-10)"
   ]
  },
  {
   "cell_type": "code",
   "execution_count": null,
   "metadata": {},
   "outputs": [],
   "source": [
    "rxns_file = '/Users/jennaadams/Documents/projects/ThermoEngine/Notebooks/Solutions/data/rxns_file.pkl'\n",
    "with open(rxns_file, 'wb') as handle:\n",
    "    pickle.dump(rxn_coefs, handle)\n",
    "    \n",
    "with open (rxns_file, 'rb') as handle:\n",
    "    rxns_file_open = pickle.load(handle)\n",
    "    \n",
    "rxns_file_open"
   ]
  },
  {
   "cell_type": "markdown",
   "metadata": {},
   "source": [
    "## Reaction Visiualization"
   ]
  },
  {
   "cell_type": "code",
   "execution_count": null,
   "metadata": {},
   "outputs": [],
   "source": [
    "import matplotlib.pyplot as plt\n",
    "%matplotlib notebook"
   ]
  },
  {
   "cell_type": "markdown",
   "metadata": {},
   "source": [
    "### Visualizing rxn_svd"
   ]
  },
  {
   "cell_type": "code",
   "execution_count": null,
   "metadata": {},
   "outputs": [],
   "source": [
    "rxn_max = np.max(rxn_svd)\n",
    "\n",
    "plt.figure()\n",
    "plt.imshow(rxn_svd,cmap='seismic')\n",
    "plt.clim(-rxn_max,+rxn_max)\n",
    "plt.colorbar()\n",
    "\n",
    "plt.xlabel('Endmember ID#')\n",
    "plt.ylabel('Balanced Rxn ID#')"
   ]
  },
  {
   "cell_type": "markdown",
   "metadata": {},
   "source": [
    "### All reactions after filtering rxn_svd"
   ]
  },
  {
   "cell_type": "code",
   "execution_count": null,
   "metadata": {},
   "outputs": [],
   "source": [
    "plt.figure()\n",
    "plt.imshow(rxn_coefs,cmap='seismic')\n",
    "plt.clim(-rxn_max, +rxn_max)\n",
    "plt.colorbar()\n",
    "\n",
    "plt.xlabel('Endmember ID#')\n",
    "plt.ylabel('Balanced Rxn ID#')"
   ]
  },
  {
   "cell_type": "markdown",
   "metadata": {},
   "source": [
    "### Reaction correlation"
   ]
  },
  {
   "cell_type": "code",
   "execution_count": null,
   "metadata": {},
   "outputs": [],
   "source": [
    "ortho_project =np.dot(rxn_coefs, rxn_coefs.T) \n",
    "\n",
    "plt.figure()\n",
    "plt.imshow(ortho_project, cmap='seismic')\n",
    "plt.colorbar()\n",
    "plt.clim(-1,1)\n",
    "\n",
    "plt.xlabel('Basic Rxn ID#')\n",
    "plt.ylabel('Basic Rxn ID#')\n",
    "plt.title('Basic Rxn Correlation')"
   ]
  },
  {
   "cell_type": "markdown",
   "metadata": {},
   "source": [
    "### Subset of new reactions "
   ]
  },
  {
   "cell_type": "code",
   "execution_count": null,
   "metadata": {},
   "outputs": [],
   "source": [
    "plt.figure()\n",
    "plt.plot(rxn_coefs[::10].T, '-')\n",
    "plt.xlabel('')\n",
    "plt.ylabel('rxn')\n",
    "plt.legend(['0','10','20','30'])"
   ]
  },
  {
   "cell_type": "markdown",
   "metadata": {},
   "source": [
    "### Create final reaction matrix"
   ]
  },
  {
   "cell_type": "code",
   "execution_count": null,
   "metadata": {},
   "outputs": [],
   "source": [
    "unique_phase_symbols=chem.get_phase_symbols(rxn_data)\n",
    "rxn_svd_props = chem.calc_reaction_svd(unique_phase_symbols, TOLsvd=1e-4)\n",
    "rxn_svd = rxn_svd_props['rxn_svd']\n",
    "Nbasis=len(rxn_svd)\n",
    "rxn_endmember_name = rxn_svd_props['all_endmember_name']\n",
    "rxn_phase_symbols = rxn_svd_props['all_phase_symbol']\n",
    "\n"
   ]
  },
  {
   "cell_type": "code",
   "execution_count": null,
   "metadata": {},
   "outputs": [],
   "source": [
    "rxn_svd_props.keys()"
   ]
  },
  {
   "cell_type": "code",
   "execution_count": null,
   "metadata": {},
   "outputs": [],
   "source": [
    "rxn_svd_props['all_phase_ind']"
   ]
  },
  {
   "cell_type": "code",
   "execution_count": null,
   "metadata": {},
   "outputs": [],
   "source": [
    "wtcoefs, costs, rxn_coefs, wtcoefs_ortho = chem.get_rxns(rxn_svd, Ndraw=2, ortho_scale=15, Nbasis=Nbasis, TOL=1e-10)"
   ]
  },
  {
   "cell_type": "code",
   "execution_count": null,
   "metadata": {},
   "outputs": [],
   "source": [
    "(np.place(rxn_coefs, abs(rxn_coefs)< 1e-2, 0))"
   ]
  },
  {
   "cell_type": "code",
   "execution_count": null,
   "metadata": {},
   "outputs": [],
   "source": [
    "endmember_ids = rxn_svd_props['all_endmember_id']"
   ]
  },
  {
   "cell_type": "code",
   "execution_count": null,
   "metadata": {},
   "outputs": [],
   "source": [
    "len(rxn_phase_symbols)"
   ]
  },
  {
   "cell_type": "code",
   "execution_count": null,
   "metadata": {},
   "outputs": [],
   "source": [
    "len(endmember_ids)"
   ]
  },
  {
   "cell_type": "code",
   "execution_count": null,
   "metadata": {},
   "outputs": [],
   "source": [
    "len(rxn_endmember_name)"
   ]
  },
  {
   "cell_type": "code",
   "execution_count": null,
   "metadata": {},
   "outputs": [],
   "source": [
    "rxns = []\n",
    "for irxn_coefs in rxn_coefs:\n",
    "    irxn = modelDB.get_rxn(rxn_phase_symbols, endmember_ids, irxn_coefs)\n",
    "    \n",
    "    rxns.append(irxn)    "
   ]
  },
  {
   "cell_type": "code",
   "execution_count": null,
   "metadata": {},
   "outputs": [],
   "source": [
    "phases = []\n",
    "\n",
    "for irxn in rxns:\n",
    "    phases.extend(irxn.phases)\n",
    "    \n",
    "phases = np.unique(phases)"
   ]
  },
  {
   "cell_type": "code",
   "execution_count": null,
   "metadata": {},
   "outputs": [],
   "source": [
    "rxn_phase_symbols"
   ]
  },
  {
   "cell_type": "code",
   "execution_count": null,
   "metadata": {},
   "outputs": [],
   "source": [
    "phases"
   ]
  },
  {
   "cell_type": "code",
   "execution_count": null,
   "metadata": {},
   "outputs": [],
   "source": [
    "rxn_coefs[0]"
   ]
  },
  {
   "cell_type": "code",
   "execution_count": null,
   "metadata": {},
   "outputs": [],
   "source": [
    "Rxn.reactant_phases\n",
    "\n"
   ]
  },
  {
   "cell_type": "code",
   "execution_count": null,
   "metadata": {},
   "outputs": [],
   "source": [
    "phase_info = phases.Rxn(rxn_phase_symbols, endmember_ids, irxn_coefs)"
   ]
  },
  {
   "cell_type": "code",
   "execution_count": null,
   "metadata": {},
   "outputs": [],
   "source": []
  }
 ],
 "metadata": {
  "kernelspec": {
   "display_name": "Python 3",
   "language": "python",
   "name": "python3"
  },
  "language_info": {
   "codemirror_mode": {
    "name": "ipython",
    "version": 3
   },
   "file_extension": ".py",
   "mimetype": "text/x-python",
   "name": "python",
   "nbconvert_exporter": "python",
   "pygments_lexer": "ipython3",
   "version": "3.6.2"
  }
 },
 "nbformat": 4,
 "nbformat_minor": 2
}
