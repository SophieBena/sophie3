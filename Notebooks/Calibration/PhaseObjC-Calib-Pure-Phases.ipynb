{
 "cells": [
  {
   "cell_type": "markdown",
   "metadata": {},
   "source": [
    "# PhaseObjC - Pure (Stoichiometric) Phase Calibration Example\n",
    "## Calibration of Aluminosilicates from Berman(1988) database of pure solid phases (standard state properties)\n",
    "### Concepts Demonstrated\n",
    "* Loading a thermodynamic database\n",
    "* Imposing experimental priors"
   ]
  },
  {
   "cell_type": "markdown",
   "metadata": {},
   "source": [
    "## Import libraries ..."
   ]
  },
  {
   "cell_type": "code",
   "execution_count": null,
   "metadata": {},
   "outputs": [],
   "source": [
    "import numpy as np\n",
    "import matplotlib.pyplot as plt\n",
    "import matplotlib as mpl\n",
    "import pandas as pd\n",
    "pd.set_option('display.max_columns', None)\n",
    "from scipy import stats\n",
    "\n",
    "import os\n",
    "import sys\n",
    "sys.path.insert(0, '..')\n",
    "sys.path.insert(0, '/Users/msghiorso/ENKI/PhaseObjC')\n",
    "import phasepy\n",
    "\n",
    "import importlib\n",
    "importlib.reload(phasepy)"
   ]
  },
  {
   "cell_type": "markdown",
   "metadata": {},
   "source": [
    "## Define reusable functions for analysis and visualization\n",
    "* improve code readability\n",
    "* reduce coding errors\n",
    "* speed up debugging"
   ]
  },
  {
   "cell_type": "code",
   "execution_count": null,
   "metadata": {},
   "outputs": [],
   "source": [
    "def get_data_path(filenm):\n",
    "    datadir = os.path.dirname(phasepy.__file__)\n",
    "    pathnm = os.path.join(datadir,'data',filenm)\n",
    "    return pathnm\n",
    "\n",
    "def plot_calib_fitness(costdata_df, log_space=True, legend_loc='upper right'):\n",
    "\n",
    "    ind_a = np.arange(costdata_df.shape[0])\n",
    "    msk_nc  = (costdata_df['rxn_dir']=='NC').values\n",
    "    msk_fwd = (costdata_df['rxn_dir']=='FWD').values\n",
    "    msk_rev = (costdata_df['rxn_dir']=='REV').values\n",
    "    msk_other = ~np.any((msk_nc,msk_fwd,msk_rev),axis=0)\n",
    "    \n",
    "    if log_space:\n",
    "        fitness_a = -costdata_df['log_lk']\n",
    "    else:\n",
    "        fitness_a = np.exp(costdata_df['log_lk'])\n",
    "\n",
    "    plt.figure()\n",
    "    plt.plot(ind_a[msk_fwd],fitness_a[msk_fwd],'ro',label='FWD')\n",
    "    plt.plot(ind_a[msk_rev],fitness_a[msk_rev],'bo',label='REV')\n",
    "    plt.plot(ind_a[msk_nc],fitness_a[msk_nc],'ko',label='NC')\n",
    "    plt.plot(ind_a[msk_other],fitness_a[msk_other],'o', label='FWD/REV?',color=[.7,.7,.7])\n",
    "    \n",
    "    plt.xlabel('Data Index')\n",
    "    if log_space:\n",
    "        plt.ylabel('Cost = '+r'$-\\log_e {\\rm Prob}$')\n",
    "    else:\n",
    "        plt.ylabel('Prob')\n",
    "        \n",
    "    plt.legend(loc=legend_loc)\n",
    "    plt.show()\n",
    "    pass\n",
    "\n",
    "def fit_printout(fit_output_d,thermoDB_mod):\n",
    "    print('costval0 = ' ,fit_output_d['costval0'])\n",
    "    print('param0_tbl:\\n' ,fit_output_d['param0_tbl'])\n",
    "    print('------')\n",
    "    print('costval = ',fit_output_d['costval'])\n",
    "    print('param_tbl:\\n' ,fit_output_d['param_tbl'])\n",
    "    print('------')\n",
    "    print('param_corr:\\n' ,np.round(fit_output_d['corr_a'],decimals=2))\n",
    "    print('------')\n",
    "    print('prior:')\n",
    "    print(fit_output_d['prior_df'].to_string())\n",
    "    print('------')\n",
    "    print('rxn key:')\n",
    "    print(thermoDB_mod.rxn_key)\n",
    "    print('phs key:')\n",
    "    print(thermoDB_mod.rxn_key)\n",
    "    pass\n",
    "\n",
    "\n",
    "def get_nice_colors(Ncolor,whitefrac=0.0):\n",
    "    cmap = plt.get_cmap(name='viridis')\n",
    "    ind_a = np.int_(np.round(np.linspace(0,255,Ncolor)))\n",
    "    col_a = np.array([cmap.colors[ind] for ind in ind_a])\n",
    "    col_a = (1-whitefrac)*col_a+whitefrac*np.ones(col_a.shape)\n",
    "    return col_a\n",
    "\n",
    "def plot_phase_diagram_with_data(Tlims,costdata_df, thermoDB_mod, savefig_path=''):\n",
    "    Nrxn = len(thermoDB_mod.rxn_l)\n",
    "    col_l = get_nice_colors(Nrxn)\n",
    "    \n",
    "    rxn_plt_l = []\n",
    "    for rxn_eqn,rxn_obj,col in zip(thermoDB_mod.rxn_key,thermoDB_mod.rxn_l,col_l):\n",
    "        msk_rxn = costdata_df['rxn'] == rxn_eqn\n",
    "        msk_fwd = costdata_df['rxn_dir'] == 'FWD'\n",
    "        msk_rev = costdata_df['rxn_dir'] == 'REV'\n",
    "        msk_nc = costdata_df['rxn_dir'] == 'NC'\n",
    "        msk_quest = (costdata_df['rxn_dir'] == 'FWD?')|(costdata_df['rxn_dir'] == 'REV?')\n",
    "        \n",
    "        dat_fwd_rxn_df = costdata_df[msk_rxn&msk_fwd]\n",
    "        dat_rev_rxn_df = costdata_df[msk_rxn&msk_rev]\n",
    "        dat_nc_rxn_df  = costdata_df[msk_rxn&msk_nc]\n",
    "        \n",
    "        pfwd, = plt.plot(dat_fwd_rxn_df['T']-273.15,\n",
    "                         dat_fwd_rxn_df['P']/1e3,'o',\n",
    "                         markersize=6,color=col)\n",
    "        pnc, = plt.plot(dat_nc_rxn_df['T']-273.15,\n",
    "                        dat_nc_rxn_df['P']/1e3,'x',\n",
    "                        markersize=6,color=col) \n",
    "        prev, = plt.plot(dat_rev_rxn_df['T']-273.15,\n",
    "                         dat_rev_rxn_df['P']/1e3,'o',\n",
    "                         markersize=10,color=col) \n",
    "        prev.set_markerfacecolor('none')\n",
    "        \n",
    "        \n",
    "        TP_bound_a = rxn_obj.trace_rxn_bound(Tlims=Tlims,Nsamp=100)\n",
    "        # TP_bnd_l.append(TP_bound_a)\n",
    "        stable_a = rxn_obj.get_rxn_stability(TP_bound_a,thermoDB_mod.rxn_l)\n",
    "        \n",
    "        rxn_bnd, = plt.plot(TP_bound_a[0][stable_a]-273.15, \n",
    "                            TP_bound_a[1][stable_a]/1e3,'-',\n",
    "                            lw=2,color=col)\n",
    "        rxn_bnd_meta, = plt.plot(TP_bound_a[0][~stable_a]-273.15, \n",
    "                                 TP_bound_a[1][~stable_a]/1e3,'--',\n",
    "                                 lw=2,color=col) \n",
    "        \n",
    "        \n",
    "        rxn_plt_l.append(pfwd)\n",
    "    \n",
    "    plt.xlabel('Temperature  [C]')\n",
    "    plt.ylabel('Pressure  [kbar]')\n",
    "    \n",
    "    plt.legend(rxn_plt_l, thermoDB_mod.rxn_key)\n",
    "    if savefig_path != '':\n",
    "        plt.savefig(savefig_path)\n",
    "        \n",
    "    plt.show()\n",
    "    pass\n",
    "\n",
    "\n",
    "from scipy.stats import norm, chi2\n",
    "\n",
    "def cov_ellipse(cov, q=None, nsig=None, **kwargs):\n",
    "    \"\"\"\n",
    "    Parameters\n",
    "    ----------\n",
    "    cov : (2, 2) array\n",
    "        Covariance matrix.\n",
    "    q : float, optional\n",
    "        Confidence level, should be in (0, 1)\n",
    "    nsig : int, optional\n",
    "        Confidence level in unit of standard deviations. \n",
    "        E.g. 1 stands for 68.3% and 2 stands for 95.4%.\n",
    "\n",
    "    Returns\n",
    "    -------\n",
    "    width, height, rotation :\n",
    "         The lengths of two axises and the rotation angle in degree\n",
    "    for the ellipse.\n",
    "    \"\"\"\n",
    "\n",
    "    if q is not None:\n",
    "        q = np.asarray(q)\n",
    "    elif nsig is not None:\n",
    "        q = 2 * norm.cdf(nsig) - 1\n",
    "    else:\n",
    "        raise ValueError('One of `q` and `nsig` should be specified.')\n",
    "    r2 = chi2.ppf(q, 2)\n",
    "\n",
    "    val, vec = np.linalg.eigh(cov)\n",
    "    width, height = 2 * np.sqrt(val[:, None] * r2)\n",
    "    width = width[0]\n",
    "    height = height[0]\n",
    "    rotation = np.degrees(np.arctan2(*vec[::-1, 0]))\n",
    "\n",
    "    return width, height, rotation"
   ]
  },
  {
   "cell_type": "code",
   "execution_count": null,
   "metadata": {},
   "outputs": [],
   "source": []
  },
  {
   "cell_type": "markdown",
   "metadata": {},
   "source": [
    "## Load data into new database model"
   ]
  },
  {
   "cell_type": "code",
   "execution_count": null,
   "metadata": {},
   "outputs": [],
   "source": [
    "importlib.reload(phasepy)\n",
    "raw_df = phasepy.ThermoDBModel.read_phase_rev_data(get_data_path('Al2SiO5_thermo_data.xlsx'))\n",
    "thermoDB_mod = phasepy.ThermoDBModel(raw_df,mask_phs_l=['fSil'])"
   ]
  },
  {
   "cell_type": "markdown",
   "metadata": {},
   "source": [
    "## Phases and Reactions\n",
    "* Thermodynamic Database Models are characterized reactions and phases\n",
    "* **ID numbers identify each rxn and phs (see key below)**\n",
    "### Phases\n",
    "* Each phase is described by standard state properties\n",
    "* enthalpy, entropy, and volume: $(dH_0, S_0, V_0)$\n",
    "### Reactions\n",
    "* phase properties control the position of the reaction boundaries, where Gibbs energies are equal, $\\Delta G_{\\rm rxn}=0$\n",
    "* The reactions are modeled using the set of energy threshold parameters $\\alpha_i$ (see Bayes Logistic Uncertain Reaction Model notebook)"
   ]
  },
  {
   "cell_type": "code",
   "execution_count": null,
   "metadata": {},
   "outputs": [],
   "source": [
    "print('phs key:')\n",
    "print(thermoDB_mod.phs_key.to_string())\n",
    "print('------')\n",
    "print('rxn key:')\n",
    "print(thermoDB_mod.rxn_key.to_string())"
   ]
  },
  {
   "cell_type": "markdown",
   "metadata": {},
   "source": [
    "## Experimental Priors\n",
    "* experimental constraints are automatically loaded upon intializing database model\n",
    "* priors help control the behavior of variables not well-constrained by phase reversal data\n",
    "* published experimental constraints are often statistically inconsistent with one another\n",
    "* **robust probability models** are used for priors to allow for outliers \n",
    "    * Student's T-distribution has much fatter tails than the normal distribution, allowing for large outliers"
   ]
  },
  {
   "cell_type": "code",
   "execution_count": null,
   "metadata": {},
   "outputs": [],
   "source": [
    "thermoDB_mod.exp_prior_df"
   ]
  },
  {
   "cell_type": "markdown",
   "metadata": {},
   "source": [
    "### Examine all possible phase and reaction parameters using get_param_table\n",
    "* Each parameter belongs to a paraticular phase (phsN) or particular reaction (rxnN)\n",
    "* numbering scheme matches phase and reaction keys above\n",
    "* Note that not all of these will be fit"
   ]
  },
  {
   "cell_type": "code",
   "execution_count": null,
   "metadata": {},
   "outputs": [],
   "source": [
    "# param0_d = thermoDB_mod.param_d\n",
    "param0_df = thermoDB_mod.get_param_table(typ='all')\n",
    "dat_trust_d = thermoDB_mod.extract_trust_data()\n",
    "print('Initial Full Parameter Set')\n",
    "param0_df"
   ]
  },
  {
   "cell_type": "markdown",
   "metadata": {},
   "source": [
    "## Initial Model Fitness\n",
    "* Prior to fitting, model is assesed to determine quality of initial guess\n",
    "* Initial phase parameters are reasonable (from Berman 1988)\n",
    "* Initial reaction parameters are completely arbitrary\n",
    "* **initial data likelihoods are badly estimated** due to poor reaction parameter values\n",
    "* **highly improbable reversal observations reflect a poor initial reaction model**"
   ]
  },
  {
   "cell_type": "code",
   "execution_count": null,
   "metadata": {},
   "outputs": [],
   "source": []
  },
  {
   "cell_type": "code",
   "execution_count": null,
   "metadata": {},
   "outputs": [],
   "source": [
    "cost_d = thermoDB_mod.eval_model_costfun(param0_df['value'],\n",
    "                                         param0_df['name'],full_output=True)\n",
    "costdata_df = cost_d['cost_data_df']\n",
    "\n",
    "print('Initial Model Fitness:')\n",
    "plot_calib_fitness(costdata_df,log_space=True)\n",
    "plot_calib_fitness(costdata_df,log_space=False)\n",
    "\n",
    "print('Initial Cost Fun Value = ',cost_d['cost_val'])\n",
    "costdata_df.head()"
   ]
  },
  {
   "cell_type": "markdown",
   "metadata": {},
   "source": [
    "## Fitting Rxn Parameters\n",
    "* Start with rxn params since we know the phase parameter set from Berman 1988 is reasonable\n",
    "* Setup free parameters for fitting\n",
    "* add or delete parameters from free parameter list\n",
    "* use either parameter types or individual parameter names"
   ]
  },
  {
   "cell_type": "code",
   "execution_count": null,
   "metadata": {},
   "outputs": [],
   "source": [
    "# Setup Free parameters for fitting rxn parameters\n",
    "thermoDB_mod.del_free_params([],typ='all')\n",
    "thermoDB_mod.add_free_params([],typ='rxn')\n",
    "thermoDB_mod.del_free_params([],typ='rxnadj')\n",
    "\n",
    "param0_rxn_df = thermoDB_mod.get_param_table(typ='free')\n",
    "print('Initial Rxn Parameter Set')\n",
    "param0_rxn_df"
   ]
  },
  {
   "cell_type": "code",
   "execution_count": null,
   "metadata": {},
   "outputs": [],
   "source": [
    "fit_rxn_output_d = thermoDB_mod.fit_model(full_output=True)\n",
    "print('costval0 = ' ,fit_rxn_output_d['costval0'])\n",
    "print('costval = ' ,fit_rxn_output_d['costval'])\n",
    "fit_rxn_output_d = thermoDB_mod.fit_model(full_output=True)\n",
    "fit_printout(fit_rxn_output_d,thermoDB_mod)"
   ]
  },
  {
   "cell_type": "code",
   "execution_count": null,
   "metadata": {},
   "outputs": [],
   "source": []
  },
  {
   "cell_type": "markdown",
   "metadata": {},
   "source": [
    "## Fit Phase parameters (fixing reaction parameters at optimal values)"
   ]
  },
  {
   "cell_type": "code",
   "execution_count": null,
   "metadata": {},
   "outputs": [],
   "source": [
    "# Setup Free parameters for fitting phs parameters\n",
    "thermoDB_mod.del_free_params([],typ='all')\n",
    "thermoDB_mod.add_free_params([],typ='phs')\n",
    "# dH0_phs0 is fixed since absolute enthalpy is not constrained by phase reversal data\n",
    "thermoDB_mod.del_free_params(['dH0_phs0'])\n",
    "# Fix V0's since they are not well constrained by phase reversal data alone\n",
    "# thermoDB_mod.del_free_params(['V0_phs0','V0_phs1','V0_phs2'])\n",
    "\n",
    "param0_phs_all_df = thermoDB_mod.get_param_table(typ='free')\n",
    "param0_phs_all_df"
   ]
  },
  {
   "cell_type": "code",
   "execution_count": null,
   "metadata": {},
   "outputs": [],
   "source": [
    "fit_phs_output_d = thermoDB_mod.fit_model(full_output=True)\n",
    "# fit_phs_output_d = thermoDB_mod.fit_model(full_output=True)\n",
    "fit_printout(fit_phs_output_d,thermoDB_mod)"
   ]
  },
  {
   "cell_type": "code",
   "execution_count": null,
   "metadata": {},
   "outputs": [],
   "source": []
  },
  {
   "cell_type": "code",
   "execution_count": null,
   "metadata": {},
   "outputs": [],
   "source": [
    "fit_output_d = fit_phs_output_d\n",
    "plot_calib_fitness(fit_output_d['costdata_df'],log_space=True)\n",
    "plot_calib_fitness(fit_output_d['costdata_df'],log_space=False)"
   ]
  },
  {
   "cell_type": "code",
   "execution_count": null,
   "metadata": {},
   "outputs": [],
   "source": []
  },
  {
   "cell_type": "code",
   "execution_count": null,
   "metadata": {},
   "outputs": [],
   "source": [
    "thermoDB_mod.del_free_params([],typ='all')\n",
    "thermoDB_mod.add_free_params(param0_rxn_df['name'])\n",
    "fit_rxn_output_d = thermoDB_mod.fit_model(full_output=True)\n",
    "fit_printout(fit_rxn_output_d,thermoDB_mod)\n",
    "fit_output_d = fit_rxn_output_d"
   ]
  },
  {
   "cell_type": "code",
   "execution_count": null,
   "metadata": {},
   "outputs": [],
   "source": [
    "thermoDB_mod.del_free_params([],typ='all')\n",
    "thermoDB_mod.add_free_params(param0_phs_all_df['name'])\n",
    "fit_phs_output_d = thermoDB_mod.fit_model(full_output=True)\n",
    "fit_printout(fit_phs_output_d,thermoDB_mod)\n",
    "fit_output_d = fit_phs_output_d"
   ]
  },
  {
   "cell_type": "code",
   "execution_count": null,
   "metadata": {},
   "outputs": [],
   "source": [
    "plot_calib_fitness(fit_output_d['costdata_df'],log_space=True)\n",
    "plot_calib_fitness(fit_output_d['costdata_df'],log_space=False)"
   ]
  },
  {
   "cell_type": "code",
   "execution_count": null,
   "metadata": {},
   "outputs": [],
   "source": []
  },
  {
   "cell_type": "markdown",
   "metadata": {},
   "source": [
    "## Examine resulting Phase Diagram\n",
    "* Note small shifts in reaction boundaries do a better job separating forward and reverse reaction boundaries"
   ]
  },
  {
   "cell_type": "code",
   "execution_count": null,
   "metadata": {},
   "outputs": [],
   "source": [
    "Tlims = 273.15+np.array([400,900])\n",
    "plot_phase_diagram_with_data(Tlims,fit_output_d['costdata_df'], thermoDB_mod,savefig_path='figs/Al2SiO5-phase-diagram.eps')"
   ]
  },
  {
   "cell_type": "code",
   "execution_count": null,
   "metadata": {},
   "outputs": [],
   "source": []
  },
  {
   "cell_type": "code",
   "execution_count": null,
   "metadata": {},
   "outputs": [],
   "source": []
  },
  {
   "cell_type": "markdown",
   "metadata": {},
   "source": [
    "## Model Uncertainties explored using the posterior\n",
    "* The family of acceptable models given the data is represented as the posterior\n",
    "* Approximate posterior is given by the curvature of log-probability or cost-function space\n",
    "* Can be sumarized by the covariance matrix, which is given by $\\Sigma = - H^{-1}$, where $H$ is the Hessian or curvature matrix with respect to the model parameters\n",
    "* **Phase Diagram Uncertainty is determined by drawing from posterior**"
   ]
  },
  {
   "cell_type": "code",
   "execution_count": null,
   "metadata": {},
   "outputs": [],
   "source": [
    "# Draw Uncertainties\n",
    "Tlims = 273.15+np.array([400,900])\n",
    "posterior_rxn_d = thermoDB_mod.posterior_rxn_bound(Tlims,Nsamp=10,Ndraw=600,convert_units=True)\n"
   ]
  },
  {
   "cell_type": "code",
   "execution_count": null,
   "metadata": {},
   "outputs": [],
   "source": [
    "conf_lvl=.68\n",
    "# conf_lvl=.95\n",
    "# conf_lvl=.995\n",
    "thermoDB_mod.calc_rxn_bound_conf_lvl(posterior_rxn_d,conf_lvl=conf_lvl)\n",
    "\n",
    "width, height, rot =cov_ellipse(posterior_rxn_d['PT_triple_cov_a'],q=conf_lvl)\n",
    "ell = mpl.patches.Ellipse(xy=posterior_rxn_d['PT_triple_mean_a'], width=width, height=height, \n",
    "                          angle=rot,color='r',zorder=1e3)\n",
    "\n",
    "\n",
    "reac_set_l = [['And'],['And'],['Ky']]\n",
    "prod_set_l = [['Ky'],['Sil'],['Sil']]\n",
    "\n",
    "thermoDB = phasepy.ThermoDB()\n",
    "rxn0_obj_l = []\n",
    "rxn0_eqn_l = []\n",
    "for reac_l, prod_l in zip(reac_set_l,prod_set_l):\n",
    "    rxn0_obj = thermoDB.new_rxn(reac_l,prod_l)\n",
    "    rxn0_obj_l.append(rxn0_obj)\n",
    "    rxn0_eqn_l.append(rxn0_obj.rxn_eqn_str)\n",
    "    \n",
    "\n",
    "plt.figure()\n",
    "ax = plt.gca()\n",
    "col_a = get_nice_colors(len(rxn0_obj_l),whitefrac=.5)\n",
    "\n",
    "for irxn,rxnnm in enumerate(thermoDB_mod.rxn_key):\n",
    "    plt.fill_between(posterior_rxn_d['T_a'],posterior_rxn_d['rxn_conf_bnd_a'][0,irxn,:],\n",
    "                     posterior_rxn_d['rxn_conf_bnd_a'][1,irxn,:],color =col_a[irxn],\n",
    "                     label=rxnnm )\n",
    "\n",
    "plt.legend()\n",
    "# thermoDB0 = phasepy.ThermoDB()\n",
    "# plt.plot(T_a,rxn_conf_bnd_a[0].T,'k-')\n",
    "# plt.plot(T_a,rxn_conf_bnd_a[1].T,'k-')\n",
    "ax.add_patch(ell)\n",
    "plt.xlabel('Temperature [C]')\n",
    "plt.ylabel('Pressure [kbar]')\n",
    "\n",
    "for rxn0_obj,col in zip(rxn0_obj_l,col_a):\n",
    "    TP_bound_a = rxn0_obj.trace_rxn_bound(Tlims=Tlims,Nsamp=100)\n",
    "    stable_a = rxn0_obj.get_rxn_stability(TP_bound_a,rxn0_obj_l)\n",
    "    \n",
    "    col_gray = [.5,.5,.5]\n",
    "    rxn0_bnd, = plt.plot(TP_bound_a[0][stable_a]-273.15,\n",
    "                        TP_bound_a[1][stable_a]/1e3,'k-',color=col_gray,\n",
    "                        lw=1)\n",
    "    rxn0_bnd_meta, = plt.plot(TP_bound_a[0][~stable_a]-273.15, \n",
    "                             TP_bound_a[1][~stable_a]/1e3,'k--',color=col_gray,\n",
    "                             lw=1)\n",
    "\n",
    "# plt.savefig('figs/Al2SiO5-conf-bounds.eps')\n",
    "plt.show()\n",
    "\n",
    "\n",
    "\n"
   ]
  },
  {
   "cell_type": "code",
   "execution_count": null,
   "metadata": {},
   "outputs": [],
   "source": []
  },
  {
   "cell_type": "code",
   "execution_count": null,
   "metadata": {},
   "outputs": [],
   "source": []
  },
  {
   "cell_type": "markdown",
   "metadata": {},
   "source": [
    "## Further refinement possible, but slow and often unnecessary\n",
    "* Refitting all parameters simultaneously slightly improves model\n",
    "* differences are quite small \n",
    "* simultaneously fitting all parameters is much slower, however, and often unnecessary\n"
   ]
  },
  {
   "cell_type": "code",
   "execution_count": null,
   "metadata": {},
   "outputs": [],
   "source": [
    "# Setup Free parameters for fitting phs parameters\n",
    "thermoDB_mod.del_free_params([],typ='all')\n",
    "thermoDB_mod.add_free_params([],typ='phs')\n",
    "thermoDB_mod.add_free_params([],typ='rxn')\n",
    "thermoDB_mod.del_free_params([],typ='rxnadj')\n",
    "# dH0_phs0 is fixed since absolute enthalpy is not constrained by phase reversal data\n",
    "thermoDB_mod.del_free_params(['dH0_phs0'])\n",
    "# Fix V0's since they are not well constrained by phase reversal data alone\n",
    "# thermoDB_mod.del_free_params(['V0_phs0','V0_phs1','V0_phs2'])\n",
    "\n",
    "param0_phs_all_df = thermoDB_mod.get_param_table(typ='free')\n",
    "param0_phs_all_df"
   ]
  },
  {
   "cell_type": "code",
   "execution_count": null,
   "metadata": {},
   "outputs": [],
   "source": [
    "fit_all_output_d = thermoDB_mod.fit_model(full_output=True)\n",
    "fit_printout(fit_all_output_d,thermoDB_mod)"
   ]
  },
  {
   "cell_type": "code",
   "execution_count": null,
   "metadata": {},
   "outputs": [],
   "source": []
  },
  {
   "cell_type": "markdown",
   "metadata": {},
   "source": [
    "## Further refinement possible, but unnecessary\n",
    "* Continued fitting slightly improves model\n",
    "* differences are quite small however \n",
    "* Refitting all parameters simultaneously slightly improves model\n",
    "* simultaneously fitting all parameters is much slower, however, and often unnecessary"
   ]
  },
  {
   "cell_type": "code",
   "execution_count": null,
   "metadata": {},
   "outputs": [],
   "source": [
    "# Draw Uncertainties\n",
    "Tlims = 273.15+np.array([400,900])\n",
    "posterior_rxn_d = thermoDB_mod.posterior_rxn_bound(Tlims,Nsamp=10,Ndraw=100,convert_units=True)\n",
    "conf_lvl=.68\n"
   ]
  },
  {
   "cell_type": "code",
   "execution_count": null,
   "metadata": {},
   "outputs": [],
   "source": [
    "width, height, rot =cov_ellipse(posterior_rxn_d['PT_triple_cov_a'],q=conf_lvl)\n",
    "ell = mpl.patches.Ellipse(xy=posterior_rxn_d['PT_triple_mean_a'], width=width, height=height, \n",
    "                          angle=rot,color='r',zorder=1e3)\n",
    "\n",
    "\n",
    "reac_set_l = [['And'],['And'],['Ky']]\n",
    "prod_set_l = [['Ky'],['Sil'],['Sil']]\n",
    "\n",
    "thermoDB = phasepy.ThermoDB()\n",
    "rxn0_obj_l = []\n",
    "rxn0_eqn_l = []\n",
    "for reac_l, prod_l in zip(reac_set_l,prod_set_l):\n",
    "    rxn0_obj = thermoDB.new_rxn(reac_l,prod_l)\n",
    "    rxn0_obj_l.append(rxn0_obj)\n",
    "    rxn0_eqn_l.append(rxn0_obj.rxn_eqn_str)\n",
    "    \n",
    "\n",
    "plt.figure()\n",
    "ax = plt.gca()\n",
    "col_a = get_nice_colors(len(rxn0_obj_l),whitefrac=.5)\n",
    "\n",
    "for irxn,rxnnm in enumerate(thermoDB_mod.rxn_key):\n",
    "    plt.fill_between(posterior_rxn_d['T_a'],posterior_rxn_d['rxn_conf_bnd_a'][0,irxn,:],\n",
    "                     posterior_rxn_d['rxn_conf_bnd_a'][1,irxn,:],color =col_a[irxn],\n",
    "                     label=rxnnm )\n",
    "\n",
    "plt.legend()\n",
    "# thermoDB0 = phasepy.ThermoDB()\n",
    "# plt.plot(T_a,rxn_conf_bnd_a[0].T,'k-')\n",
    "# plt.plot(T_a,rxn_conf_bnd_a[1].T,'k-')\n",
    "ax.add_patch(ell)\n",
    "plt.xlabel('T [C]')\n",
    "plt.ylabel('P [kbar]')\n",
    "\n",
    "for rxn0_obj,col in zip(rxn0_obj_l,col_a):\n",
    "    TP_bound_a = rxn0_obj.trace_rxn_bound(Tlims=Tlims,Nsamp=100)\n",
    "    stable_a = rxn0_obj.get_rxn_stability(TP_bound_a,rxn0_obj_l)\n",
    "    \n",
    "    rxn0_bnd, = plt.plot(TP_bound_a[0][stable_a]-273.15, \n",
    "                        TP_bound_a[1][stable_a]/1e3,'k-',\n",
    "                        lw=1)\n",
    "    rxn0_bnd_meta, = plt.plot(TP_bound_a[0][~stable_a]-273.15, \n",
    "                             TP_bound_a[1][~stable_a]/1e3,'k--',\n",
    "                             lw=1)\n",
    "\n",
    "plt.show()\n",
    "\n"
   ]
  },
  {
   "cell_type": "code",
   "execution_count": null,
   "metadata": {},
   "outputs": [],
   "source": []
  }
 ],
 "metadata": {
  "anaconda-cloud": {},
  "kernelspec": {
   "display_name": "Python 3",
   "language": "python",
   "name": "python3"
  },
  "language_info": {
   "codemirror_mode": {
    "name": "ipython",
    "version": 3
   },
   "file_extension": ".py",
   "mimetype": "text/x-python",
   "name": "python",
   "nbconvert_exporter": "python",
   "pygments_lexer": "ipython3",
   "version": "3.6.2"
  }
 },
 "nbformat": 4,
 "nbformat_minor": 1
}
