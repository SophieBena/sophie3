{
 "cells": [
  {
   "cell_type": "markdown",
   "metadata": {},
   "source": [
    "## PhaseObjC - Phase Reversal Data\n",
    "### Calibration data from Berman(1988) database of pure solid phases\n",
    "### Application to aluminosilicate subsystem"
   ]
  },
  {
   "cell_type": "code",
   "execution_count": null,
   "metadata": {},
   "outputs": [],
   "source": [
    "import numpy as np\n",
    "import matplotlib.pyplot as plt\n",
    "\n",
    "import pandas as pd\n",
    "pd.set_option('display.max_columns', None)\n",
    "\n",
    "import os\n",
    "import sys\n",
    "sys.path.insert(0, '..')\n",
    "sys.path.insert(0, '/Users/msghiorso/ENKI/PhaseObjC')\n",
    "import phasepy\n",
    "import importlib"
   ]
  },
  {
   "cell_type": "code",
   "execution_count": null,
   "metadata": {},
   "outputs": [],
   "source": [
    "def get_data_path(filenm):\n",
    "    datadir = os.path.dirname(phasepy.__file__)\n",
    "    pathnm = os.path.join(datadir,'data',filenm)\n",
    "    return pathnm"
   ]
  },
  {
   "cell_type": "markdown",
   "metadata": {},
   "source": [
    "## ${\\rm Al_2SiO_5}$ Experimental Phase Reversal Data\n",
    "* Load in original raw data from aluminosilite phase reversal studies\n",
    "* Most of the data is found in the first 3 papers, which are fully digitized\n",
    "### Papers:\n",
    "* **Richardson1968**\n",
    "* **Richardson1969**\n",
    "* **Holdaway1971**\n",
    "* Newton1966a\n",
    "* Newton1966b\n",
    "* Weill1971 (unpublished, reported in Holdaway1971)\n",
    "* Kerrick_Heninger1984\n",
    "* Newton1980 (unpublished, reported in Day_Kumin1980)\n",
    "* Day_Kumin1980"
   ]
  },
  {
   "cell_type": "code",
   "execution_count": null,
   "metadata": {},
   "outputs": [],
   "source": [
    "importlib.reload(phasepy)\n",
    "raw_df = phasepy.ThermoDBModel.read_phase_rev_data(get_data_path('Al2SiO5_thermo_data.xlsx'))\n",
    "raw_df"
   ]
  },
  {
   "cell_type": "markdown",
   "metadata": {},
   "source": [
    "## Create new thermodynamic database model\n",
    "* Load aluminosilicate phase reversal data\n",
    "* Initialize database model with data\n",
    "* database model automatically detects reactions studied\n",
    "### Masking metastable reactions\n",
    "* experiments often involve metastable nuisance phases\n",
    "* these phases can strongly impact thermodynamic equilibrium\n",
    "* ***avoid biasing calibration by masking out these phases***\n",
    "* experiments involving non-equilibrium fibrolite (fSil) are removed "
   ]
  },
  {
   "cell_type": "code",
   "execution_count": null,
   "metadata": {},
   "outputs": [],
   "source": [
    "# Take note of fSil, want to mask out its effects\n",
    "thermoDB_mod = phasepy.ThermoDBModel(raw_df,mask_phs_l=['fSil'])\n",
    "data_df = thermoDB_mod.data_df\n",
    "data_df"
   ]
  },
  {
   "cell_type": "markdown",
   "metadata": {},
   "source": [
    "## Directly examine Data "
   ]
  },
  {
   "cell_type": "code",
   "execution_count": null,
   "metadata": {},
   "outputs": [],
   "source": [
    "mask_a = data_df['Trust']=='Yes'\n",
    "pubid_a = data_df['PubID'][mask_a].unique()\n",
    "rxn_eqn_a = data_df['Rxn'][mask_a].unique()\n",
    "rxn_dir_a = data_df['RxnDir'][mask_a].unique()\n",
    "\n",
    "print('Studies: ', pubid_a)\n",
    "print('Rxn options: ', rxn_eqn_a)\n",
    "print('RxnDir options: ', rxn_dir_a)\n",
    "\n",
    "print('----------')\n",
    "print('Rxn (including untrusted): ', data_df['Rxn'].unique())"
   ]
  },
  {
   "cell_type": "code",
   "execution_count": null,
   "metadata": {},
   "outputs": [],
   "source": []
  },
  {
   "cell_type": "markdown",
   "metadata": {},
   "source": [
    "## Manually create all Trustworthy reactions studied"
   ]
  },
  {
   "cell_type": "code",
   "execution_count": null,
   "metadata": {},
   "outputs": [],
   "source": [
    "thermoDB = phasepy.ThermoDB()\n",
    "rxn_obj_l = []\n",
    "for rxn_eqn in rxn_eqn_a:\n",
    "    rxn_d = phasepy.ThermoDB.parse_rxn( rxn_eqn )\n",
    "    rxn_obj = thermoDB.new_rxn(rxn_d['reac_l'],rxn_d['prod_l'])\n",
    "    rxn_obj_l.append(rxn_obj)\n"
   ]
  },
  {
   "cell_type": "markdown",
   "metadata": {},
   "source": [
    "## Plot Data Only"
   ]
  },
  {
   "cell_type": "code",
   "execution_count": null,
   "metadata": {},
   "outputs": [],
   "source": [
    "def get_nice_colors(Ncolor):\n",
    "    cmap = plt.get_cmap(name='viridis')\n",
    "    ind_a = np.int_(np.round(np.linspace(0,255,Ncolor)))\n",
    "    col_l = [cmap.colors[ind] for ind in ind_a]\n",
    "    return col_l\n",
    "\n",
    "col_l = get_nice_colors(3)\n",
    "Tlims = 273.15+np.array([400,900])\n",
    "\n",
    "msk_trust = data_df['Trust']=='Yes'"
   ]
  },
  {
   "cell_type": "code",
   "execution_count": null,
   "metadata": {},
   "outputs": [],
   "source": [
    "plt.clf()\n",
    "rxn_plt_l = []\n",
    "for rxn_eqn,rxn_obj,col in zip(rxn_eqn_a,rxn_obj_l,col_l):\n",
    "    msk_rxn = data_df['Rxn'] == rxn_eqn\n",
    "    msk_fwd = data_df['RxnDir'] == 'FWD'\n",
    "    msk_rev = data_df['RxnDir'] == 'REV'\n",
    "    msk_nc = data_df['RxnDir'] == 'NC'\n",
    "    msk_quest = (data_df['RxnDir'] == 'FWD?')|(data_df['RxnDir'] == 'REV?')\n",
    "    \n",
    "    dat_fwd_rxn_df = data_df[msk_rxn&msk_trust&msk_fwd]\n",
    "    dat_rev_rxn_df = data_df[msk_rxn&msk_trust&msk_rev]\n",
    "    dat_nc_rxn_df  = data_df[msk_rxn&msk_trust&msk_nc]\n",
    "    \n",
    "    pfwd, = plt.plot(dat_fwd_rxn_df['T_C'],\n",
    "                     dat_fwd_rxn_df['P_kbar'],'o',\n",
    "                     markersize=6,color=col)\n",
    "    pnc, = plt.plot(dat_nc_rxn_df['T_C'],\n",
    "                    dat_nc_rxn_df['P_kbar'],'x',\n",
    "                    markersize=6,color=col) \n",
    "    prev, = plt.plot(dat_rev_rxn_df['T_C'],\n",
    "                     dat_rev_rxn_df['P_kbar'],'o',\n",
    "                     markersize=10,color=col) \n",
    "    prev.set_markerfacecolor('none')\n",
    "    \n",
    "    rxn_plt_l.append(pfwd)\n",
    "    \n",
    "\n",
    "plt.xlabel('Temp.  [C]')\n",
    "plt.ylabel('Press.  [kbar]')\n",
    "\n",
    "plt.legend(rxn_plt_l, rxn_eqn_a)\n",
    "plt.show()"
   ]
  },
  {
   "cell_type": "code",
   "execution_count": null,
   "metadata": {},
   "outputs": [],
   "source": []
  },
  {
   "cell_type": "markdown",
   "metadata": {},
   "source": [
    "## Plot Data with Model Phase Diagram"
   ]
  },
  {
   "cell_type": "code",
   "execution_count": null,
   "metadata": {},
   "outputs": [],
   "source": [
    "# Calculate triple point\n",
    "T_tp,P_tp = rxn_obj_l[0].get_simultaneous_rxn_cond(rxn_obj_l[1])\n",
    "\n",
    "\n",
    "plt.clf()\n",
    "rxn_plt_l = []\n",
    "for rxn_eqn,rxn_obj,col in zip(rxn_eqn_a,rxn_obj_l,col_l):\n",
    "    msk_rxn = data_df['Rxn'] == rxn_eqn\n",
    "    msk_fwd = data_df['RxnDir'] == 'FWD'\n",
    "    msk_rev = data_df['RxnDir'] == 'REV'\n",
    "    msk_nc = data_df['RxnDir'] == 'NC'\n",
    "    dat_fwd_rxn_df = data_df[msk_rxn&msk_trust&msk_fwd]\n",
    "    dat_rev_rxn_df = data_df[msk_rxn&msk_trust&msk_rev]\n",
    "    dat_nc_rxn_df  = data_df[msk_rxn&msk_trust&msk_nc]\n",
    "    \n",
    "    pfwd, = plt.plot(dat_fwd_rxn_df['T_C'],\n",
    "                     dat_fwd_rxn_df['P_kbar'],'o',\n",
    "                     markersize=6,color=col)\n",
    "    pnc, = plt.plot(dat_nc_rxn_df['T_C'],\n",
    "                    dat_nc_rxn_df['P_kbar'],'x',\n",
    "                    markersize=6,color=col) \n",
    "    prev, = plt.plot(dat_rev_rxn_df['T_C'],\n",
    "                     dat_rev_rxn_df['P_kbar'],'o',\n",
    "                     markersize=10,color=col) \n",
    "    prev.set_markerfacecolor('none')\n",
    "    \n",
    "    TP_bound_a = rxn_obj.trace_rxn_bound(Tlims=Tlims,Nsamp=100)\n",
    "    # TP_bnd_l.append(TP_bound_a)\n",
    "    stable_a = rxn_obj.get_rxn_stability(TP_bound_a,rxn_obj_l)\n",
    "    \n",
    "    rxn_bnd, = plt.plot(TP_bound_a[0][stable_a]-273.15, \n",
    "                        TP_bound_a[1][stable_a]/1e3,'-',\n",
    "                        lw=2,color=col)\n",
    "    rxn_bnd_meta, = plt.plot(TP_bound_a[0][~stable_a]-273.15, \n",
    "                             TP_bound_a[1][~stable_a]/1e3,'--',\n",
    "                             lw=2,color=col)\n",
    "    rxn_plt_l.append(rxn_bnd)\n",
    "    \n",
    "\n",
    "plt.plot(T_tp-273.15,P_tp/1e3,'r+',mew=2)\n",
    "\n",
    "plt.xlabel('Temp.  [C]')\n",
    "plt.ylabel('Press.  [kbar]')\n",
    "\n",
    "plt.legend(rxn_plt_l, rxn_eqn_a)\n",
    "plt.show()\n"
   ]
  },
  {
   "cell_type": "code",
   "execution_count": null,
   "metadata": {},
   "outputs": [],
   "source": []
  },
  {
   "cell_type": "code",
   "execution_count": null,
   "metadata": {},
   "outputs": [],
   "source": []
  }
 ],
 "metadata": {
  "anaconda-cloud": {},
  "kernelspec": {
   "display_name": "Python 3",
   "language": "python",
   "name": "python3"
  },
  "language_info": {
   "codemirror_mode": {
    "name": "ipython",
    "version": 3
   },
   "file_extension": ".py",
   "mimetype": "text/x-python",
   "name": "python",
   "nbconvert_exporter": "python",
   "pygments_lexer": "ipython3",
   "version": "3.5.2"
  }
 },
 "nbformat": 4,
 "nbformat_minor": 1
}
