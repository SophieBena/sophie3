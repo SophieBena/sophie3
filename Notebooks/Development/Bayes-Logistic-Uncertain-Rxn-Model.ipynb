{
 "cells": [
  {
   "cell_type": "markdown",
   "metadata": {},
   "source": [
    "# Bayesian Logistic Uncertain Reaction (BLUR) Model\n",
    "* Bayesian statistical approach to calibrating thermodynamic databases\n",
    "* **Past calibration methods all assume perfect thermodynamic equilibrium**\n",
    "* Equilibrium assumption produces step-function reaction boundaries, which look nothing like real experimental data\n",
    "* **BLUR model smears out reaction boundaries** resulting from both:\n",
    "    * ***measurement uncertainties***\n",
    "    * ***reaction kinetics***\n",
    "* Bayesian approach enables straightforward inclusion of prior constraints\n",
    "* Built entirely with robust probability models **resistant to outlier bias**"
   ]
  },
  {
   "cell_type": "markdown",
   "metadata": {},
   "source": [
    "## Import libraries ..."
   ]
  },
  {
   "cell_type": "code",
   "execution_count": null,
   "metadata": {},
   "outputs": [],
   "source": [
    "import numpy as np\n",
    "import matplotlib.pyplot as plt\n",
    "import pandas as pd\n",
    "pd.set_option('display.max_columns', None)\n",
    "from scipy import stats\n",
    "\n",
    "import sys\n",
    "sys.path.insert(0, '..')\n",
    "sys.path.insert(0, '/Users/msghiorso/ENKI/PhaseObjC')\n",
    "from thermoengine import calibrate\n",
    "import thermoengine\n",
    "\n",
    "import importlib\n",
    "importlib.reload(thermoengine)\n",
    "importlib.reload(calibrate)"
   ]
  },
  {
   "cell_type": "code",
   "execution_count": null,
   "metadata": {},
   "outputs": [],
   "source": []
  },
  {
   "cell_type": "markdown",
   "metadata": {},
   "source": [
    "## Measurement Uncertainties soften reaction boundaries\n",
    "### Thermodynamic Equilibrium\n",
    "* $\\Delta G_{R} < 0$: Forward Reaction\n",
    "* $\\Delta G_{R} > 0$: Reverse Reaction"
   ]
  },
  {
   "cell_type": "code",
   "execution_count": null,
   "metadata": {},
   "outputs": [],
   "source": [
    "dGrxn_a = np.linspace(-10,10,1001)\n",
    "sig=1\n",
    "Ptrans_a = 1-calibrate.DatabaseModel.rxn_trans_fun(dGrxn_a/sig)\n",
    "steptrans_a = dGrxn_a<0\n",
    "plt.subplot(211)\n",
    "plt.plot(dGrxn_a,steptrans_a,'k--',label='Ideal Rxn')\n",
    "plt.plot(dGrxn_a,Ptrans_a,'k-',label='Uncertain Rxn')\n",
    "plt.xlim(-3,3)\n",
    "plt.ylabel('Probability')\n",
    "plt.legend(loc='upper right')\n",
    "\n",
    "plt.subplot(212)\n",
    "plt.plot(dGrxn_a,stats.norm.pdf(dGrxn_a),'k-',label=r'$\\Delta G_R$ error')\n",
    "plt.errorbar(0,0,xerr=1,fmt='ko',capsize=4)\n",
    "plt.xlabel(r'$\\Delta G_R$')\n",
    "plt.ylabel('Probability')\n",
    "plt.legend(loc='upper right')\n",
    "plt.xlim(-3,3)\n",
    "plt.savefig('figs/test.eps')\n",
    "plt.show()"
   ]
  },
  {
   "cell_type": "markdown",
   "metadata": {},
   "source": [
    "### Rxn Energy Uncertainty\n",
    "* Total uncertainty, $\\sigma_{\\Delta G}$, is determined by error propagation\n",
    "* independent errors add in quadrature:\n",
    "$$\\sigma_{\\Delta G}^2 = \\left(\\frac{\\partial G}{\\partial T} \\cdot \\sigma_T\\right)^2 + \\left( \\frac{\\partial G}{\\partial P} \\cdot \\sigma_P \\right)^2$$\n",
    "\n",
    "$$\\sigma_{\\Delta G}^2 = \\left(\\Delta S_R \\cdot \\sigma_T\\right)^2 + \\left( \\Delta V_R \\cdot \\sigma_P \\right)^2$$\n",
    "\n",
    "* For applications with solution phases, there are additional terms associated with compositional uncertainty of each phase"
   ]
  },
  {
   "cell_type": "markdown",
   "metadata": {},
   "source": [
    "## Reaction kinetics separates forward & reverse reactions\n",
    "* Observed reaction direction is made uncertain by kinetics\n",
    "* Factors like time, temperature, and presence of water greatly affect whether reaction is observable within a given experiment\n",
    "* kinetic factors combine to produce an energy threshold for each reaction $G_R^{\\rm th}$\n",
    "* the ideal reaction is likely observable only when $\\left|\\Delta G_R\\right| > \\left|G_R^{\\rm th}\\right|$"
   ]
  },
  {
   "cell_type": "code",
   "execution_count": null,
   "metadata": {},
   "outputs": [],
   "source": [
    "dGrxn_a = np.linspace(-10,10,1001)\n",
    "sigG=0.2\n",
    "Gth = 1\n",
    "logPfwd_a = calibrate.DatabaseModel.logprob_fwd(dGrxn_a,Gth,sigG)\n",
    "logPrev_a = calibrate.DatabaseModel.logprob_rev(dGrxn_a,Gth,sigG)\n",
    "logPnc_a = calibrate.DatabaseModel.logprob_nc(dGrxn_a,Gth,sigG)\n",
    "\n",
    "plt.plot(dGrxn_a,np.exp(logPfwd_a),'r-',lw=2,label='FWD')\n",
    "plt.plot(dGrxn_a,np.exp(logPrev_a),'b-',lw=2,label='REV')\n",
    "plt.plot(dGrxn_a,np.exp(logPnc_a),'k-',lw=2,label='NC')\n",
    "\n",
    "plt.xlim(-3,3)\n",
    "plt.ylabel('Probability')\n",
    "plt.xlabel(r'$\\Delta G_R \\; / \\; G_R^{\\rm th}$')\n",
    "plt.legend(loc='lower right',title='Rxn. Dir.')\n",
    "plt.show()\n"
   ]
  },
  {
   "cell_type": "markdown",
   "metadata": {},
   "source": [
    "## Reaction Threshold Energy depends on experimental conditions\n",
    "* Energy threshold $G_R^{\\rm th}$ can vary dramatically in response to experimental conditions\n",
    "* We introduce unitless reaction parameters ($\\alpha_i$), to capture linear dependence on experimental conditions ($x_i$) :\n",
    "$$\\log \\left( \\frac{G_R^{\\rm th}}{\\rm J/mol} \\right) = \\sum_i \\alpha_i x_i$$\n",
    "* The **most important modeled parameters** are:\n",
    "    * **time**: $x_t = \\log\\left(\\frac{\\rm time}{\\rm hr}\\right)$\n",
    "    * **temperature**: $x_T = \\frac{T}{\\rm Kelvin}$\n",
    "    * **water**: $x_w =$ 1 if water present (otherwise 0)\n",
    "    * **reaction studied**: $x_R = 1$ for reaction $R$ (otherwise 0)\n",
    "    \n",
    "* For positive values ($\\alpha_i > 0$), $x_i$ increases the threshold energy\n",
    "* For negative values ($\\alpha_i < 0$), $x_i$ decreases the threshold energy\n",
    "* Values near zero indicate weak dependence on $x_i$\n"
   ]
  },
  {
   "cell_type": "code",
   "execution_count": null,
   "metadata": {},
   "outputs": [],
   "source": []
  },
  {
   "cell_type": "markdown",
   "metadata": {},
   "source": [
    "## Logistic Ensures Robust Calibration\n",
    "* **Cost function grows much slower for logistic vs normal transtion function**\n",
    "* Outliers only contribute moderately to overall fitness, **limiting calibration bias**\n"
   ]
  },
  {
   "cell_type": "code",
   "execution_count": null,
   "metadata": {},
   "outputs": [],
   "source": [
    "logPfwd_norm_a = calibrate.DatabaseModel.logprob_fwd(dGrxn_a,Gth,sigG,rxn_trans_typ='normal')\n",
    "logPrev_norm_a = calibrate.DatabaseModel.logprob_rev(dGrxn_a,Gth,sigG,rxn_trans_typ='normal')\n",
    "logPnc_norm_a = calibrate.DatabaseModel.logprob_nc(dGrxn_a,Gth,sigG,rxn_trans_typ='normal')\n",
    "\n",
    "plt.plot(dGrxn_a,-logPfwd_a,'r-',lw=2)\n",
    "plt.plot(dGrxn_a,-logPrev_a,'b-',lw=2)\n",
    "plt.plot(dGrxn_a,-logPnc_a,'k-',lw=2,label='Logistic')\n",
    "plt.plot(dGrxn_a,-logPfwd_norm_a,'r:')\n",
    "plt.plot(dGrxn_a,-logPrev_norm_a,'b:')\n",
    "plt.plot(dGrxn_a,-logPnc_norm_a,'k:',label='Normal')\n",
    "\n",
    "plt.ylim(-1,36)\n",
    "plt.xlim(-3,3)\n",
    "plt.ylabel(r'Cost = $-\\log_e$ Prob')\n",
    "plt.xlabel(r'$\\Delta G_R \\; / \\; G_R^{\\rm th}$')\n",
    "plt.legend(loc='lower right')\n",
    "plt.show()"
   ]
  },
  {
   "cell_type": "code",
   "execution_count": null,
   "metadata": {},
   "outputs": [],
   "source": []
  },
  {
   "cell_type": "markdown",
   "metadata": {},
   "source": [
    "## Define Plotting/Analysis Functions"
   ]
  },
  {
   "cell_type": "code",
   "execution_count": null,
   "metadata": {},
   "outputs": [],
   "source": []
  },
  {
   "cell_type": "code",
   "execution_count": null,
   "metadata": {},
   "outputs": [],
   "source": [
    "def calc_rxn_trans(dGrxn_a,sigG_a):\n",
    "    Gth = 1.0\n",
    "    rxn_trans_l = []\n",
    "    for ind,sigG in enumerate(sigG_a):\n",
    "        logprob_fwd_a = calibrate.DatabaseModel.logprob_fwd(dGrxn_a, Gth, sigG)\n",
    "        logprob_rev_a = calibrate.DatabaseModel.logprob_rev(dGrxn_a, Gth, sigG)\n",
    "        logprob_nc_a = calibrate.DatabaseModel.logprob_nc(dGrxn_a, Gth, sigG)\n",
    "        rxn_trans_df = pd.DataFrame({'dGrxn_Gth':dGrxn_a/Gth,'Gth':Gth,'FWD':logprob_fwd_a,\n",
    "                                     'REV':logprob_rev_a,'NC':logprob_nc_a})\n",
    "        rxn_trans_l.append(rxn_trans_df)\n",
    "    \n",
    "    return rxn_trans_l\n",
    "\n",
    "def plot_rxn_trans(rxn_trans_l, sigG_a):\n",
    "    lines_fwd = []\n",
    "    lines_rev = []\n",
    "    lines_nc = []\n",
    "    NsigG = len(rxn_trans_l)\n",
    "    \n",
    "    for ind,rxn_trans_df in enumerate(rxn_trans_l):\n",
    "        frac = (NsigG-1.1*ind)/NsigG\n",
    "        rcol = frac*np.array([1,0,0])+(1-frac)*np.array([1,1,1])\n",
    "        bcol = frac*np.array([0,0,1])+(1-frac)*np.array([1,1,1])\n",
    "        kcol = frac*np.array([0,0,0])+(1-frac)*np.array([1,1,1])\n",
    "        \n",
    "        h_fwd, = plt.plot(rxn_trans_df['dGrxn_Gth'], np.exp(rxn_trans_df['FWD']),'-',\n",
    "                          color=rcol,lw=3)\n",
    "        h_rev, = plt.plot(rxn_trans_df['dGrxn_Gth'], np.exp(rxn_trans_df['REV']),'-',\n",
    "                          color=bcol,lw=3)\n",
    "        h_nc, = plt.plot(rxn_trans_df['dGrxn_Gth'], np.exp(rxn_trans_df['NC']),'-',\n",
    "                         color=kcol,lw=3)\n",
    "        lines_fwd.append(h_fwd)\n",
    "        lines_rev.append(h_rev)\n",
    "        lines_nc.append(h_nc)\n",
    "        \n",
    "    # Label Plots\n",
    "    plt.xlabel(r'$\\Delta G_{rxn} \\; / \\; G^{th}_{rxn}$')\n",
    "    plt.ylabel('Probability')\n",
    "    plt.ylim(0,1.13)\n",
    "    plt.xlim(-3,+3)\n",
    "    \n",
    "    # Label Curves\n",
    "    plt.text(-2.5,1.03,'FWD',color='r',fontsize=14,horizontalalignment='center')\n",
    "    plt.text(+2.5,1.03,'REV',color='b',fontsize=14,horizontalalignment='center')\n",
    "    plt.text(0.0,1.03,'NC',color='k',fontsize=14,horizontalalignment='center')\n",
    "    \n",
    "    plt.legend(lines_nc,sigG_a,loc='right',\n",
    "               title=r'$\\sigma_{\\Delta G}  \\; / \\; G^{th}_{rxn}$')\n",
    "    \n",
    "    plt.show()\n",
    "\n",
    "\n"
   ]
  },
  {
   "cell_type": "code",
   "execution_count": null,
   "metadata": {},
   "outputs": [],
   "source": [
    "## Data Quality determined by both Measurement Uncertainty and Kinetics\n"
   ]
  },
  {
   "cell_type": "code",
   "execution_count": null,
   "metadata": {},
   "outputs": [],
   "source": [
    "dGrxn_a = np.linspace(-3,3,1001)\n",
    "sigG_a = np.array([0.1,0.4,0.8])\n",
    "rxn_trans_l = calc_rxn_trans(dGrxn_a, sigG_a)\n",
    "plot_rxn_trans(rxn_trans_l, sigG_a)\n",
    "plt.savefig('rxn-transition-schematic.eps', bbox_inches='tight')\n"
   ]
  },
  {
   "cell_type": "code",
   "execution_count": null,
   "metadata": {},
   "outputs": [],
   "source": []
  },
  {
   "cell_type": "markdown",
   "metadata": {},
   "source": [
    "## Bayes Theorem used to perform calibration\n",
    "* Want to infer **posterior: model family of acceptable parameters given the data**\n",
    "* Bayes Theorem:\n",
    "$$P({\\rm model}\\;|\\;{\\rm data}) \\propto P({\\rm data}\\;|\\;{\\rm model}) \\cdot P({\\rm model})$$\n",
    "$${\\rm Posterior} \\propto {\\rm Likelihood} \\cdot {\\rm Prior}$$\n",
    "* Thus the fitness cost function is given by:\n",
    "$${\\rm Cost} = -\\log_e({\\rm Prob})$$\n",
    "    * Minimizing the cost function maximizes the posterior\n",
    "* Full posterior can be approximated by calculating the curvature of the log-probability (or cost-function)\n",
    "* Covariance matrix is given by the inverse the curvature matrix (Hessian):\n",
    "$$\\Sigma \\approx - H^{-1}$$\n"
   ]
  },
  {
   "cell_type": "code",
   "execution_count": null,
   "metadata": {},
   "outputs": [],
   "source": []
  }
 ],
 "metadata": {
  "kernelspec": {
   "display_name": "Python 3",
   "language": "python",
   "name": "python3"
  },
  "language_info": {
   "codemirror_mode": {
    "name": "ipython",
    "version": 3
   },
   "file_extension": ".py",
   "mimetype": "text/x-python",
   "name": "python",
   "nbconvert_exporter": "python",
   "pygments_lexer": "ipython3",
   "version": "3.5.2"
  }
 },
 "nbformat": 4,
 "nbformat_minor": 2
}
