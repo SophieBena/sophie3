{
 "cells": [
  {
   "cell_type": "markdown",
   "metadata": {},
   "source": [
    "# Equilibrate extension\n",
    "Notebook to illustrate the calculation of forcing a silicate liquid to be in equilibrium with both quartz and corundum at a specifed temperature and pressure"
   ]
  },
  {
   "cell_type": "code",
   "execution_count": null,
   "metadata": {},
   "outputs": [],
   "source": [
    "import matplotlib.pyplot as plt\n",
    "import numpy as np\n",
    "import scipy.optimize as opt\n",
    "import scipy.linalg as lin \n",
    "%matplotlib notebook"
   ]
  },
  {
   "cell_type": "markdown",
   "metadata": {},
   "source": [
    "### Get class instances to calculate the properties of quartz and corundum from Berman (1988)"
   ]
  },
  {
   "cell_type": "code",
   "execution_count": null,
   "metadata": {},
   "outputs": [],
   "source": [
    "from thermoengine import phases"
   ]
  },
  {
   "cell_type": "code",
   "execution_count": null,
   "metadata": {},
   "outputs": [],
   "source": [
    "thermoDB = phases.ThermoDB()\n",
    "quartz = thermoDB.new_phase('Qz')\n",
    "corundum = thermoDB.new_phase('Crn')"
   ]
  },
  {
   "cell_type": "markdown",
   "metadata": {},
   "source": [
    "### Get class instances to calculate the properties of silicate liquid from MELTS 1.0.2"
   ]
  },
  {
   "cell_type": "code",
   "execution_count": null,
   "metadata": {},
   "outputs": [],
   "source": [
    "import ctypes\n",
    "from ctypes import cdll\n",
    "from ctypes import util\n",
    "from rubicon.objc import ObjCClass, objc_method\n",
    "cdll.LoadLibrary(util.find_library('phaseobjc'))"
   ]
  },
  {
   "cell_type": "code",
   "execution_count": null,
   "metadata": {},
   "outputs": [],
   "source": [
    "LiquidMelts = ObjCClass('LiquidMelts')\n",
    "liquid = LiquidMelts.alloc().init()"
   ]
  },
  {
   "cell_type": "markdown",
   "metadata": {},
   "source": [
    "### Set number of components in the system and the number of fixed phases"
   ]
  },
  {
   "cell_type": "code",
   "execution_count": null,
   "metadata": {},
   "outputs": [],
   "source": [
    "c = 5\n",
    "f = 2"
   ]
  },
  {
   "cell_type": "markdown",
   "metadata": {},
   "source": [
    "### The amount of quartz and corundum in the system is arbitrary ...\n",
    "so, we fix the amount of each phase at a constant value"
   ]
  },
  {
   "cell_type": "code",
   "execution_count": null,
   "metadata": {},
   "outputs": [],
   "source": [
    "nPhaseFix = 1.0"
   ]
  },
  {
   "cell_type": "markdown",
   "metadata": {},
   "source": [
    "### Choose and initial bulk composition for the silicate liquid \n",
    "The initial composition listed below is a high-silica rhyolite projected into the system SiO<sub>2</sub>-Al<sub>2</sub>O<sub>3</sub>-CaO-Na<sub>2</sub>O-K<sub>2</sub>O"
   ]
  },
  {
   "cell_type": "code",
   "execution_count": null,
   "metadata": {},
   "outputs": [],
   "source": [
    "nc = liquid.numberOfSolutionComponents()\n",
    "bc = np.zeros((c,1))\n",
    "def setBulkComposition(nSiO2=0.665792, nAl2O3=0.042436, nQz=nPhaseFix, nCr=nPhaseFix):\n",
    "    bc[0] = nSiO2 + 0.004596 + 0.038493 + 0.062105 + nQz # SiO2 = SiO2 + CaSiO3 + Na2SiO3 + KAlSiO4\n",
    "    bc[1] = nAl2O3 + 0.062105/2.0 + nCr                  # Al2O3 = Al2O3 + KAlSiO4/2\n",
    "    bc[2] = 0.004596                                     # CaO = CaSiO3\n",
    "    bc[3] = 0.038493                                     # Na2O = Na2SiO3\n",
    "    bc[4] = 0.062105/2.0                                 # K2O = KAlSiO4/2\n",
    "m = (ctypes.c_double*nc)()\n",
    "ctypes.cast(m, ctypes.POINTER(ctypes.c_double))\n",
    "def setMoles(nSiO2=0.665792, nAl2O3=0.042436):\n",
    "    nLiq = np.zeros((c,1))\n",
    "    nLiq[0] = nSiO2\n",
    "    nLiq[1] = nAl2O3\n",
    "    nLiq[2] = 0.004596\n",
    "    nLiq[3] = 0.038493\n",
    "    nLiq[4] = 0.062105\n",
    "    m[0] = nLiq[0]  # SiO2\n",
    "    m[1] = 0.0      # TiO2\n",
    "    m[2] = nLiq[1]  # Al2O3\n",
    "    m[3] = 0.0      # Fe2O3\n",
    "    m[4] = 0.0      # Cr2O3\n",
    "    m[5] = 0.0      # Fe2SiO4\n",
    "    m[6] = 0.0      # Mn2SiO4\n",
    "    m[7] = 0.0      # Mg2SiO4\n",
    "    m[8] = 0.0      # NiSi1/2O2\n",
    "    m[9] = 0.0      # CoSi1/2O2\n",
    "    m[10] = nLiq[2] # CaSiO3\n",
    "    m[11] = nLiq[3] # Na2SiO3\n",
    "    m[12] = nLiq[4] # KAlSiO4\n",
    "    m[13] = 0.0     # Ca3(PO4)2\n",
    "    m[14] = 0.0     # H2O\n",
    "    return nLiq"
   ]
  },
  {
   "cell_type": "markdown",
   "metadata": {},
   "source": [
    "### Choose a temperature and pressure\n",
    "The thermodynamic properties of quartz are only functions of temperature and pressure"
   ]
  },
  {
   "cell_type": "code",
   "execution_count": null,
   "metadata": {},
   "outputs": [],
   "source": [
    "t = 1100.0 # K\n",
    "p = 1750.0 # bars\n",
    "mu0Qz = quartz.get_gibbs_energy(t, p)\n",
    "mu0Cr = corundum.get_gibbs_energy(t, p)"
   ]
  },
  {
   "cell_type": "markdown",
   "metadata": {},
   "source": [
    "### Find an initial guess that is consistent with the constraints"
   ]
  },
  {
   "cell_type": "code",
   "execution_count": null,
   "metadata": {},
   "outputs": [],
   "source": [
    "def fcon(x):\n",
    "    setMoles(nSiO2=x[0], nAl2O3=x[1])\n",
    "    muLiq = liquid.getChemicalPotentialFromMolesOfComponents_andT_andP_(m, t, p)\n",
    "    return (mu0Qz-muLiq.valueAtIndex_(0))**2 + (mu0Cr-muLiq.valueAtIndex_(2))**2\n",
    "result = opt.minimize(fcon,np.array([0.665792, 0.042436]))\n",
    "print (result)\n",
    "nLiqSiO2 = result.x[0]\n",
    "nLiqAl2O3 = result.x[1]\n",
    "nQz = nPhaseFix\n",
    "nCr = nPhaseFix\n",
    "setBulkComposition(nSiO2=nLiqSiO2, nAl2O3=nLiqAl2O3, nQz=nQz, nCr=nCr)\n",
    "print (bc)"
   ]
  },
  {
   "cell_type": "markdown",
   "metadata": {},
   "source": [
    "### Set up constraint matrix - matrix is constant\n",
    "Columns: nLiqSiO<sub>2</sub>, nLiqAl<sub>2</sub>O<sub>3</sub>, nLiqCaSiO<sub>3</sub>, nLiqNa<sub>2</sub>SiO<sub>3</sub>, nLiqKAlSiO<sub>4</sub>, nQz, nCr  \n",
    "Rows: SiO<sub>2</sub>, Al<sub>2</sub>O<sub>3</sub>, CaO, Na<sub>2</sub>O, K<sub>2</sub>O\n",
    "$$\n",
    "\\left[ {\\begin{array}{*{20}{c}}\n",
    "{{b_{{\\rm{Si}}{{\\rm{O}}_2}}}}\\\\\n",
    "{{b_{{\\rm{A}}{{\\rm{l}}_2}{{\\rm{O}}_3}}}}\\\\\n",
    "{{b_{{\\rm{CaO}}}}}\\\\\n",
    "{{b_{{\\rm{N}}{{\\rm{a}}_2}{\\rm{O}}}}}\\\\\n",
    "{{b_{{{\\rm{K}}_2}{\\rm{O}}}}}\n",
    "\\end{array}} \\right] = \\left[ {\\begin{array}{*{20}{c}}\n",
    "1&0\\\\\n",
    "0&1\\\\\n",
    "0&0\\\\\n",
    "0&0\\\\\n",
    "0&0\n",
    "\\end{array}} \\right]\\left[ {\\begin{array}{*{20}{c}}\n",
    "{{n_{Qz}}}\\\\\n",
    "{{n_{Cr}}}\n",
    "\\end{array}} \\right] + \\left[ {\\begin{array}{*{20}{c}}\n",
    "1&0&1&1&1\\\\\n",
    "0&1&0&0&{\\frac{1}{2}}\\\\\n",
    "0&0&1&0&0\\\\\n",
    "0&0&0&1&0\\\\\n",
    "0&0&0&0&{\\frac{1}{2}}\n",
    "\\end{array}} \\right]\\left[ {\\begin{array}{*{20}{c}}\n",
    "{n_{{\\rm{Si}}{{\\rm{O}}_2}}^{liq}}\\\\\n",
    "{n_{{\\rm{A}}{{\\rm{l}}_2}{{\\rm{O}}_3}}^{liq}}\\\\\n",
    "{n_{{\\rm{CaSi}}{{\\rm{O}}_3}}^{liq}}\\\\\n",
    "{n_{{\\rm{N}}{{\\rm{a}}_2}{\\rm{Si}}{{\\rm{O}}_3}}^{liq}}\\\\\n",
    "{n_{{\\rm{KAlSi}}{{\\rm{O}}_4}}^{liq}}\n",
    "\\end{array}} \\right]\n",
    "$$"
   ]
  },
  {
   "cell_type": "code",
   "execution_count": null,
   "metadata": {},
   "outputs": [],
   "source": [
    "C = np.array([[1,0,1,1,1,1,0],[0,1,0,0,0.5,0,1],[0,0,1,0,0,0,0],[0,0,0,1,0,0,0],[0,0,0,0,0.5,0,0]])"
   ]
  },
  {
   "cell_type": "markdown",
   "metadata": {},
   "source": [
    "### ...  and project it into the null space of fixed constraints - yields a constant matrix"
   ]
  },
  {
   "cell_type": "code",
   "execution_count": null,
   "metadata": {},
   "outputs": [],
   "source": [
    "CTf = C[:,c:].transpose()\n",
    "U,S,VT = np.linalg.svd(CTf)\n",
    "rank = np.count_nonzero(S)\n",
    "VTff = VT[rank:,:]\n",
    "Cproj = np.matmul(VTff, C)\n",
    "print (Cproj)\n",
    "bcproj = np.matmul(VTff, bc)\n",
    "print (bcproj)"
   ]
  },
  {
   "cell_type": "markdown",
   "metadata": {},
   "source": [
    "### Define the Khorzhinski potential function and its gradient\n",
    "$$\n",
    "L = {G^{liq}} + {n_{Qz}}\\left( {\\mu _{Qz}^o - \\mu _{{\\rm{Si}}{{\\rm{O}}_2}}^{liq}} \\right) + {n_{Cr}}\\left( {\\mu _{Cr}^o - \\mu _{{\\rm{A}}{{\\rm{l}}_2}{{\\rm{O}}_3}}^{liq}} \\right)\n",
    "$$"
   ]
  },
  {
   "cell_type": "code",
   "execution_count": null,
   "metadata": {},
   "outputs": [],
   "source": [
    "def Khorzhinskii(nQz=nPhaseFix, nCr=nPhaseFix, nLiqSiO2=0.665792, nLiqAl2O3=0.042436, t=1100.0, p=1750.0):\n",
    "    setMoles(nLiqSiO2,nLiqAl2O3) # fills m array\n",
    "    Gliq = liquid.getGibbsFreeEnergyFromMolesOfComponents_andT_andP_(m,t,p)\n",
    "    muLiq = liquid.getChemicalPotentialFromMolesOfComponents_andT_andP_(m, t, p)\n",
    "    muLiqSiO2 = muLiq.valueAtIndex_(0)\n",
    "    muLiqAl2O3 = muLiq.valueAtIndex_(2)\n",
    "    result = Gliq + nQz*(mu0Qz-muLiqSiO2) + nCr*(mu0Cr-muLiqAl2O3)\n",
    "    return result"
   ]
  },
  {
   "cell_type": "markdown",
   "metadata": {},
   "source": [
    "### Define the gradient of the Khorzhinskii potential\n",
    "$$\n",
    "{\\bf{g}} = \\left[ {\\begin{array}{*{20}{c}}\n",
    "{\\mu _{{\\rm{Si}}{{\\rm{O}}_2}}^{liq} - {n_{Qz}}\\frac{{\\partial \\mu _{{\\rm{Si}}{{\\rm{O}}_2}}^{liq}}}{{\\partial n_{{\\rm{Si}}{{\\rm{O}}_2}}^{liq}}} - {n_{Cr}}\\frac{{\\partial \\mu _{{\\rm{A}}{{\\rm{l}}_2}{{\\rm{O}}_3}}^{liq}}}{{\\partial n_{{\\rm{Si}}{{\\rm{O}}_2}}^{liq}}}}\\\\\n",
    "{\\mu _{{\\rm{A}}{{\\rm{l}}_2}{{\\rm{O}}_3}}^{liq} - {n_{Qz}}\\frac{{\\partial \\mu _{{\\rm{Si}}{{\\rm{O}}_2}}^{liq}}}{{\\partial n_{{\\rm{A}}{{\\rm{l}}_2}{{\\rm{O}}_3}}^{liq}}} - {n_{Cr}}\\frac{{\\partial \\mu _{{\\rm{A}}{{\\rm{l}}_2}{{\\rm{O}}_3}}^{liq}}}{{\\partial n_{{\\rm{A}}{{\\rm{l}}_2}{{\\rm{O}}_3}}^{liq}}}}\\\\\n",
    "{\\mu _{{\\rm{CaSi}}{{\\rm{O}}_3}}^{liq}}\\\\\n",
    "{\\mu _{{\\rm{N}}{{\\rm{a}}_2}{\\rm{Si}}{{\\rm{O}}_3}}^{liq}}\\\\\n",
    "{\\mu _{{\\rm{KAlSi}}{{\\rm{O}}_4}}^{liq}}\\\\\n",
    "{\\mu _{Qz}^o - \\mu _{{\\rm{Si}}{{\\rm{O}}_2}}^{liq}}\\\\\n",
    "{\\mu _{Cr}^o - \\mu _{{\\rm{A}}{{\\rm{l}}_2}{{\\rm{O}}_3}}^{liq}}\n",
    "\\end{array}} \\right]\n",
    "$$"
   ]
  },
  {
   "cell_type": "code",
   "execution_count": null,
   "metadata": {},
   "outputs": [],
   "source": [
    "def Gradient(nQz=nPhaseFix, nCr=nPhaseFix, nLiqSiO2=0.665792, nLiqAl2O3=0.042436, t=1100.0, p=1750.0):\n",
    "    setMoles(nLiqSiO2,nLiqAl2O3) # fills m array\n",
    "    dgdm = liquid.getDgDmFromMolesOfComponents_andT_andP_(m, t, p)\n",
    "    muLiq = liquid.getChemicalPotentialFromMolesOfComponents_andT_andP_(m, t, p)\n",
    "    d2gdm2 = liquid.getD2gDm2FromMolesOfComponents_andT_andP_(m, t, p)\n",
    "    result = np.zeros((c+f,1))\n",
    "    result[0] = dgdm.valueAtIndex_(0) - nQz*d2gdm2.valueAtRowIndex_andColIndex_(0, 0) \\\n",
    "                                      - nCr*d2gdm2.valueAtRowIndex_andColIndex_(0, 2)\n",
    "    result[1] = dgdm.valueAtIndex_(2) - nQz*d2gdm2.valueAtRowIndex_andColIndex_(2, 0) \\\n",
    "                                      - nCr*d2gdm2.valueAtRowIndex_andColIndex_(2, 2)\n",
    "    result[2] = dgdm.valueAtIndex_(10)\n",
    "    result[3] = dgdm.valueAtIndex_(11)\n",
    "    result[4] = dgdm.valueAtIndex_(12)\n",
    "    result[5] = mu0Qz - dgdm.valueAtIndex_(0)\n",
    "    result[6] = mu0Cr - dgdm.valueAtIndex_(2)\n",
    "    return result"
   ]
  },
  {
   "cell_type": "markdown",
   "metadata": {},
   "source": [
    "### Define a function to compute the \"A\" constraint matrix\n",
    "$$\n",
    "{\\bf{A}} = \\left[ {\\begin{array}{*{20}{c}}\n",
    "0&0&0&0&{\\frac{1}{2}}&0&0\\\\\n",
    "0&0&0&1&0&0&0\\\\\n",
    "0&0&1&0&0&0&0\\\\\n",
    "{ - \\frac{{\\partial \\mu _{{\\rm{Si}}{{\\rm{O}}_2}}^{liq}}}{{\\partial n_{{\\rm{Si}}{{\\rm{O}}_2}}^{liq}}}}&{ - \\frac{{\\partial \\mu _{{\\rm{Si}}{{\\rm{O}}_2}}^{liq}}}{{\\partial n_{{\\rm{A}}{{\\rm{l}}_2}{{\\rm{O}}_3}}^{liq}}}}&{ - \\frac{{\\partial \\mu _{{\\rm{Si}}{{\\rm{O}}_2}}^{liq}}}{{\\partial n_{{\\rm{CaSi}}{{\\rm{O}}_3}}^{liq}}}}&{ - \\frac{{\\partial \\mu _{{\\rm{Si}}{{\\rm{O}}_2}}^{liq}}}{{\\partial n_{{\\rm{N}}{{\\rm{a}}_2}{\\rm{Si}}{{\\rm{O}}_3}}^{liq}}}}&{ - \\frac{{\\partial \\mu _{{\\rm{Si}}{{\\rm{O}}_2}}^{liq}}}{{\\partial n_{{\\rm{KAlSi}}{{\\rm{O}}_4}}^{liq}}}}&0&0\\\\\n",
    "{ - \\frac{{\\partial \\mu _{{\\rm{A}}{{\\rm{l}}_2}{{\\rm{O}}_3}}^{liq}}}{{\\partial n_{{\\rm{Si}}{{\\rm{O}}_2}}^{liq}}}}&{ - \\frac{{\\partial \\mu _{{\\rm{A}}{{\\rm{l}}_2}{{\\rm{O}}_3}}^{liq}}}{{\\partial n_{{\\rm{A}}{{\\rm{l}}_2}{{\\rm{O}}_3}}^{liq}}}}&{ - \\frac{{\\partial \\mu _{{\\rm{A}}{{\\rm{l}}_2}{{\\rm{O}}_3}}^{liq}}}{{\\partial n_{{\\rm{CaSi}}{{\\rm{O}}_3}}^{liq}}}}&{ - \\frac{{\\partial \\mu _{{\\rm{A}}{{\\rm{l}}_2}{{\\rm{O}}_3}}^{liq}}}{{\\partial n_{{\\rm{N}}{{\\rm{a}}_2}{\\rm{Si}}{{\\rm{O}}_3}}^{liq}}}}&{ - \\frac{{\\partial \\mu _{{\\rm{A}}{{\\rm{l}}_2}{{\\rm{O}}_3}}^{liq}}}{{\\partial n_{{\\rm{KAlSi}}{{\\rm{O}}_4}}^{liq}}}}&0&0\\\\\n",
    "0&0&0&0&0&1&0\\\\\n",
    "0&0&0&0&0&0&1\n",
    "\\end{array}} \\right]\n",
    "$$"
   ]
  },
  {
   "cell_type": "code",
   "execution_count": null,
   "metadata": {},
   "outputs": [],
   "source": [
    "def Amatrix(nLiqSiO2=0.665792, nLiqAl2O3=0.042436, t=1100.0, p=1750.0):\n",
    "    setMoles(nLiqSiO2,nLiqAl2O3) # fills m array\n",
    "    d2gdm2 = liquid.getD2gDm2FromMolesOfComponents_andT_andP_(m, t, p)\n",
    "    bottom = np.zeros((2*f,c+f))\n",
    "    bottom[0][0] = d2gdm2.valueAtRowIndex_andColIndex_(0, 0)\n",
    "    bottom[0][1] = d2gdm2.valueAtRowIndex_andColIndex_(0, 2)\n",
    "    bottom[0][2] = d2gdm2.valueAtRowIndex_andColIndex_(0, 10)\n",
    "    bottom[0][3] = d2gdm2.valueAtRowIndex_andColIndex_(0, 11)\n",
    "    bottom[0][4] = d2gdm2.valueAtRowIndex_andColIndex_(0, 12)\n",
    "    bottom[1][0] = d2gdm2.valueAtRowIndex_andColIndex_(2, 0)\n",
    "    bottom[1][1] = d2gdm2.valueAtRowIndex_andColIndex_(2, 2)\n",
    "    bottom[1][2] = d2gdm2.valueAtRowIndex_andColIndex_(2, 10)\n",
    "    bottom[1][3] = d2gdm2.valueAtRowIndex_andColIndex_(2, 11)\n",
    "    bottom[1][4] = d2gdm2.valueAtRowIndex_andColIndex_(2, 12)\n",
    "    bottom[2][5] = 1.0\n",
    "    bottom[3][6] = 1.0\n",
    "    result = np.vstack((Cproj, bottom))\n",
    "    return result"
   ]
  },
  {
   "cell_type": "markdown",
   "metadata": {},
   "source": [
    "### Define the Lagrangian of the Khorzhimskii function\n",
    "$$\n",
    "\\Lambda  = {G^{liq}} - \\lambda _{1:f}^T\\left( {{\\bf{V}}_{\\left. f \\right|f}^T{\\bf{Cn}} - {\\bf{V}}_{\\left. f \\right|f}^T{\\bf{b}}} \\right) + \\left( {{n_{Qz}} - {\\lambda _{{\\rm{Qz}}}}} \\right)\\left( {\\mu _{Qz}^o - \\mu _{{\\rm{Si}}{{\\rm{O}}_2}}^{liq}} \\right) + \\left( {{n_{Cr}} - {\\lambda _{{\\rm{Cr}}}}} \\right)\\left( {\\mu _{Cr}^o - \\mu _{{\\rm{A}}{{\\rm{l}}_2}{{\\rm{O}}_3}}^{liq}} \\right) - {\\lambda _{{n_{{\\rm{Qz}}}}}}\\left( {{n_{Qz}} - 1} \\right) - {\\lambda _{{n_{{\\rm{Cr}}}}}}\\left( {{n_{Cr}} - 1} \\right)\n",
    "$$"
   ]
  },
  {
   "cell_type": "code",
   "execution_count": null,
   "metadata": {},
   "outputs": [],
   "source": [
    "def Lagrangian(nQz=nPhaseFix, nCr=nPhaseFix, nLiqSiO2=0.665792, nLiqAl2O3=0.042436, t=1100.0, p=1750.0):\n",
    "    nFix = np.empty((f,1))\n",
    "    nFix[0] = nQz\n",
    "    nFix[1] = nCr\n",
    "    nLiq = setMoles(nLiqSiO2,nLiqAl2O3)\n",
    "    n = np.vstack((nLiq,nFix))\n",
    "    Gliq = liquid.getGibbsFreeEnergyFromMolesOfComponents_andT_andP_(m,t,p)\n",
    "    muLiq = liquid.getChemicalPotentialFromMolesOfComponents_andT_andP_(m, t, p)\n",
    "    muLiqSiO2 = muLiq.valueAtIndex_(0)\n",
    "    muLiqAl2O3 = muLiq.valueAtIndex_(2)\n",
    "    result = Gliq + nQz*(mu0Qz-muLiqSiO2) + nCr*(mu0Cr-muLiqAl2O3)\n",
    "    # now add the Lagrange terms\n",
    "    temp = np.matmul(Cproj, n)\n",
    "    temp = np.subtract(temp, bcproj)\n",
    "    result -= (np.dot(temp.transpose(), xLambda[0:3])[0][0])\n",
    "    result -= xLambda[3][0]*(mu0Qz-muLiqSiO2) \n",
    "    result -= xLambda[4][0]*(mu0Cr-muLiqAl2O3)\n",
    "    result -= xLambda[5][0]*(nQz-1.0)\n",
    "    result -= xLambda[6][0]*(nCr-1.0)\n",
    "    return result"
   ]
  },
  {
   "cell_type": "markdown",
   "metadata": {},
   "source": [
    "### Define the Wronskian of the Lagrangian function\n",
    "Elements of the Wronskian are given by\n",
    "$$\n",
    "\\frac{{{\\partial ^2}\\Lambda }}{{\\partial {n_i}\\partial {n_j}}} = \\frac{{{\\partial ^2}{G^{liq}}}}{{\\partial {n_i}\\partial {n_j}}} - \\frac{{\\partial {n_{Qz}}}}{{\\partial {n_i}}}\\frac{{\\partial \\mu _{{\\rm{Si}}{{\\rm{O}}_2}}^{liq}}}{{\\partial {n_j}}} - \\frac{{\\partial {n_{Qz}}}}{{\\partial {n_j}}}\\frac{{\\partial \\mu _{{\\rm{Si}}{{\\rm{O}}_2}}^{liq}}}{{\\partial {n_i}}} - \\left( {{n_{Qz}} - {\\lambda _{{\\rm{Qz}}}}} \\right)\\frac{{{\\partial ^2}\\mu _{{\\rm{Si}}{{\\rm{O}}_2}}^{liq}}}{{\\partial {n_i}\\partial {n_j}}} - \\frac{{\\partial {n_{Cr}}}}{{\\partial {n_i}}}\\frac{{\\partial \\mu _{{\\rm{A}}{{\\rm{l}}_2}{{\\rm{O}}_3}}^{liq}}}{{\\partial {n_j}}} - \\frac{{\\partial {n_{Cr}}}}{{\\partial {n_j}}}\\frac{{\\partial \\mu _{{\\rm{A}}{{\\rm{l}}_2}{{\\rm{O}}_3}}^{liq}}}{{\\partial {n_i}}} - \\left( {{n_{Cr}} - {\\lambda _{{\\rm{Cr}}}}} \\right)\\frac{{{\\partial ^2}\\mu _{{\\rm{A}}{{\\rm{l}}_2}{{\\rm{O}}_3}}^{liq}}}{{\\partial {n_i}\\partial {n_j}}}\n",
    "$$"
   ]
  },
  {
   "cell_type": "code",
   "execution_count": null,
   "metadata": {},
   "outputs": [],
   "source": [
    "def Wronskian(nQz=nPhaseFix, nCr=nPhaseFix, nLiqSiO2=0.665792, nLiqAl2O3=0.042436, t=1100.0, p=1750.0):\n",
    "    w = np.zeros((c+f,c+f))\n",
    "    \n",
    "    d2gdm2 = liquid.getD2gDm2FromMolesOfComponents_andT_andP_(m, t, p)\n",
    "    w[0][0] =  d2gdm2.valueAtRowIndex_andColIndex_( 0,  0) # liq SiO2,    SiO2\n",
    "    w[0][1] =  d2gdm2.valueAtRowIndex_andColIndex_( 0,  2) # liq SiO2,    Al2O3\n",
    "    w[0][2] =  d2gdm2.valueAtRowIndex_andColIndex_( 0, 10) # liq SiO2,    CaSiO3\n",
    "    w[0][3] =  d2gdm2.valueAtRowIndex_andColIndex_( 0, 11) # liq SiO2,    Na2SiO3\n",
    "    w[0][4] =  d2gdm2.valueAtRowIndex_andColIndex_( 0, 12) # liq SiO2,    KAlSiO4\n",
    "    w[0][5] = -d2gdm2.valueAtRowIndex_andColIndex_( 0,  0) # liq SiO2,    quartz\n",
    "    w[0][6] = -d2gdm2.valueAtRowIndex_andColIndex_( 2,  0) # liq SiO2,    corundum\n",
    "    w[1][1] =  d2gdm2.valueAtRowIndex_andColIndex_( 2,  2) # liq Al2O3,   Al2O3\n",
    "    w[1][2] =  d2gdm2.valueAtRowIndex_andColIndex_( 2, 10) # liq Al2O3,   CaSiO3\n",
    "    w[1][3] =  d2gdm2.valueAtRowIndex_andColIndex_( 2, 11) # liq Al2O3,   Na2SiO3\n",
    "    w[1][4] =  d2gdm2.valueAtRowIndex_andColIndex_( 2, 12) # liq Al2O3,   KAlSiO4\n",
    "    w[1][5] = -d2gdm2.valueAtRowIndex_andColIndex_( 0,  2) # liq Al2O3,   quartz\n",
    "    w[1][6] = -d2gdm2.valueAtRowIndex_andColIndex_( 2,  2) # liq Al2O3,   corundum\n",
    "    w[2][2] =  d2gdm2.valueAtRowIndex_andColIndex_(10, 10) # liq CaSiO3,  CaSiO3\n",
    "    w[2][3] =  d2gdm2.valueAtRowIndex_andColIndex_(10, 11) # liq CaSiO3,  Na2SiO3\n",
    "    w[2][4] =  d2gdm2.valueAtRowIndex_andColIndex_(10, 12) # liq CaSiO3,  KAlSiO4\n",
    "    w[2][5] = -d2gdm2.valueAtRowIndex_andColIndex_( 0, 10) # liq CaSiO3,  quartz\n",
    "    w[2][6] = -d2gdm2.valueAtRowIndex_andColIndex_( 2, 10) # liq CaSiO3,  corundum\n",
    "    w[3][3] =  d2gdm2.valueAtRowIndex_andColIndex_(11, 11) # liq Na2SiO3, Na2SiO3\n",
    "    w[3][4] =  d2gdm2.valueAtRowIndex_andColIndex_(11, 12) # liq Na2SiO3, KAlSiO4\n",
    "    w[3][5] = -d2gdm2.valueAtRowIndex_andColIndex_( 0, 11) # liq Na2SiO3, quartz\n",
    "    w[3][6] = -d2gdm2.valueAtRowIndex_andColIndex_( 2, 11) # liq Na2SiO3, corundum\n",
    "    w[4][4] =  d2gdm2.valueAtRowIndex_andColIndex_(12, 12) # liq KAlSiO4, KAlSiO4\n",
    "    w[4][5] = -d2gdm2.valueAtRowIndex_andColIndex_( 0, 12) # liq KAlSiO4, quartz\n",
    "    w[4][6] = -d2gdm2.valueAtRowIndex_andColIndex_( 2, 12) # liq KAlSiO4, corundum\n",
    "    \n",
    "    d3gdm3 = liquid.getD3gDm3FromMolesOfComponents_andT_andP_(m, t, p)\n",
    "    w[0][0] -= (nQz-xLambda[3][0])*d3gdm3.valueAtFirstIndex_andSecondIndex_andThirdIndex_(0, 0, 0)\n",
    "    w[0][1] -= (nQz-xLambda[3][0])*d3gdm3.valueAtFirstIndex_andSecondIndex_andThirdIndex_(0, 0, 2)\n",
    "    w[0][2] -= (nQz-xLambda[3][0])*d3gdm3.valueAtFirstIndex_andSecondIndex_andThirdIndex_(0, 0,10)\n",
    "    w[0][3] -= (nQz-xLambda[3][0])*d3gdm3.valueAtFirstIndex_andSecondIndex_andThirdIndex_(0, 0,11)\n",
    "    w[0][4] -= (nQz-xLambda[3][0])*d3gdm3.valueAtFirstIndex_andSecondIndex_andThirdIndex_(0, 0,12)\n",
    "    w[1][1] -= (nQz-xLambda[3][0])*d3gdm3.valueAtFirstIndex_andSecondIndex_andThirdIndex_(0, 2, 2)\n",
    "    w[1][2] -= (nQz-xLambda[3][0])*d3gdm3.valueAtFirstIndex_andSecondIndex_andThirdIndex_(0, 2,10)\n",
    "    w[1][3] -= (nQz-xLambda[3][0])*d3gdm3.valueAtFirstIndex_andSecondIndex_andThirdIndex_(0, 2,11)\n",
    "    w[1][4] -= (nQz-xLambda[3][0])*d3gdm3.valueAtFirstIndex_andSecondIndex_andThirdIndex_(0, 2,12)\n",
    "    w[2][2] -= (nQz-xLambda[3][0])*d3gdm3.valueAtFirstIndex_andSecondIndex_andThirdIndex_(0,10,10)\n",
    "    w[2][3] -= (nQz-xLambda[3][0])*d3gdm3.valueAtFirstIndex_andSecondIndex_andThirdIndex_(0,10,11)\n",
    "    w[2][4] -= (nQz-xLambda[3][0])*d3gdm3.valueAtFirstIndex_andSecondIndex_andThirdIndex_(0,10,12)\n",
    "    w[3][3] -= (nQz-xLambda[3][0])*d3gdm3.valueAtFirstIndex_andSecondIndex_andThirdIndex_(0,11,11)\n",
    "    w[3][4] -= (nQz-xLambda[3][0])*d3gdm3.valueAtFirstIndex_andSecondIndex_andThirdIndex_(0,11,12)\n",
    "    w[4][4] -= (nQz-xLambda[3][0])*d3gdm3.valueAtFirstIndex_andSecondIndex_andThirdIndex_(0,12,12)\n",
    "    \n",
    "    w[0][0] -= (nCr-xLambda[4][0])*d3gdm3.valueAtFirstIndex_andSecondIndex_andThirdIndex_(2, 0, 0)\n",
    "    w[0][1] -= (nCr-xLambda[4][0])*d3gdm3.valueAtFirstIndex_andSecondIndex_andThirdIndex_(2, 0, 2)\n",
    "    w[0][2] -= (nCr-xLambda[4][0])*d3gdm3.valueAtFirstIndex_andSecondIndex_andThirdIndex_(2, 0,10)\n",
    "    w[0][3] -= (nCr-xLambda[4][0])*d3gdm3.valueAtFirstIndex_andSecondIndex_andThirdIndex_(2, 0,11)\n",
    "    w[0][4] -= (nCr-xLambda[4][0])*d3gdm3.valueAtFirstIndex_andSecondIndex_andThirdIndex_(2, 0,12)\n",
    "    w[1][1] -= (nCr-xLambda[4][0])*d3gdm3.valueAtFirstIndex_andSecondIndex_andThirdIndex_(2, 2, 2)\n",
    "    w[1][2] -= (nCr-xLambda[4][0])*d3gdm3.valueAtFirstIndex_andSecondIndex_andThirdIndex_(2, 2,10)\n",
    "    w[1][3] -= (nCr-xLambda[4][0])*d3gdm3.valueAtFirstIndex_andSecondIndex_andThirdIndex_(2, 2,11)\n",
    "    w[1][4] -= (nCr-xLambda[4][0])*d3gdm3.valueAtFirstIndex_andSecondIndex_andThirdIndex_(2, 2,12)\n",
    "    w[2][2] -= (nCr-xLambda[4][0])*d3gdm3.valueAtFirstIndex_andSecondIndex_andThirdIndex_(2,10,10)\n",
    "    w[2][3] -= (nCr-xLambda[4][0])*d3gdm3.valueAtFirstIndex_andSecondIndex_andThirdIndex_(2,10,11)\n",
    "    w[2][4] -= (nCr-xLambda[4][0])*d3gdm3.valueAtFirstIndex_andSecondIndex_andThirdIndex_(2,10,12)\n",
    "    w[3][3] -= (nCr-xLambda[4][0])*d3gdm3.valueAtFirstIndex_andSecondIndex_andThirdIndex_(2,11,11)\n",
    "    w[3][4] -= (nCr-xLambda[4][0])*d3gdm3.valueAtFirstIndex_andSecondIndex_andThirdIndex_(2,11,12)\n",
    "    w[4][4] -= (nCr-xLambda[4][0])*d3gdm3.valueAtFirstIndex_andSecondIndex_andThirdIndex_(2,12,12)\n",
    "    \n",
    "    for i in range(0,c+f):\n",
    "        for j in range(i+1,c+f):\n",
    "             w[j][i] = w[i][j]\n",
    "    \n",
    "    return w"
   ]
  },
  {
   "cell_type": "markdown",
   "metadata": {},
   "source": [
    "### Form the QR decomposition of A\n",
    "Note that A must be square, so zero filled rows are added \n",
    "$\n",
    "{\\bf{A}} = {\\bf{QR}} = \\left[ {\\begin{array}{*{20}{c}}\n",
    "{{{\\bf{Q}}_1}}&{{{\\bf{Q}}_2}}\n",
    "\\end{array}} \\right]\\left[ {\\begin{array}{*{20}{c}}\n",
    "{{{\\bf{R}}_1}}\\\\\n",
    "{\\bf{0}}\n",
    "\\end{array}} \\right]\n",
    "$\n",
    "and \n",
    "${{\\bf{Q}}_2}^T$ is the matrix ${\\bf{Z}}$"
   ]
  },
  {
   "cell_type": "code",
   "execution_count": null,
   "metadata": {},
   "outputs": [],
   "source": [
    "A = Amatrix(nLiqSiO2=nLiqSiO2, nLiqAl2O3=nLiqAl2O3)\n",
    "#bottom = np.zeros((f,c+f))\n",
    "#A = np.vstack((A, bottom))\n",
    "#Q,R = lin.qr(A,mode='full')\n",
    "R,Q = lin.rq(A,mode='full')\n",
    "print (\"Q matrix:\")\n",
    "for i in range(0,Q.shape[0]):\n",
    "    if Q.shape[1] == c+f:\n",
    "        print (\"{0:10.3e} {1:10.3e} {2:10.3e} {3:10.3e} {4:10.3e} {5:10.3e} {6:10.3e}\".format( \\\n",
    "            Q[i][0], Q[i][1], Q[i][2], Q[i][3], Q[i][4], Q[i][5], Q[i][6]))\n",
    "    elif Q.shape[1] == c:\n",
    "        print (\"{0:10.3e} {1:10.3e} {2:10.3e} {3:10.3e} {4:10.3e}\".format( \\\n",
    "            Q[i][0], Q[i][1], Q[i][2], Q[i][3], Q[i][4]))\n",
    "print (\"R matrix:\")\n",
    "for i in range(0,R.shape[0]):\n",
    "    if R.shape[1] == c+f:\n",
    "        print (\"{0:10.3e} {1:10.3e} {2:10.3e} {3:10.3e} {4:10.3e} {5:10.3e} {6:10.3e}\".format( \\\n",
    "            R[i][0], R[i][1], R[i][2], R[i][3], R[i][4], R[i][5], R[i][6]))\n",
    "    elif R.shape[1] == c:\n",
    "        print (\"{0:10.3e} {1:10.3e} {2:10.3e} {3:10.3e} {4:10.3e}\".format( \\\n",
    "            R[i][0], R[i][1], R[i][2], R[i][3], R[i][4]))   \n",
    "print (\"Z matrix\")\n",
    "Z = Q[0:0,:].transpose()\n",
    "for i in range(0,Z.shape[0]):\n",
    "    if Z.shape[1] == f:\n",
    "        print (\"{0:10.3e} {1:10.3e}\".format(Z[i][0], Z[i][1]))"
   ]
  },
  {
   "cell_type": "markdown",
   "metadata": {},
   "source": [
    "### Form the vector of Lagrange multipliers\n",
    "$$\n",
    "{\\bf{g}} = {{\\bf{A}}^T}\\left[ {\\begin{array}{*{20}{c}}\n",
    "{{\\lambda _{{n_1}}}}\\\\\n",
    " \\vdots \\\\\n",
    "{{\\lambda _{{n_{c - f}}}}}\\\\\n",
    "{{\\lambda _{{\\phi _1}}}}\\\\\n",
    " \\vdots \\\\\n",
    "{{\\lambda _{{\\phi _f}}}}\n",
    "\\end{array}} \\right]\n",
    "$$"
   ]
  },
  {
   "cell_type": "code",
   "execution_count": null,
   "metadata": {},
   "outputs": [],
   "source": [
    "print (\"Gradient:\")\n",
    "g = Gradient(nLiqSiO2=nLiqSiO2, nLiqAl2O3=nLiqAl2O3)\n",
    "for i in range(0,g.shape[0]):\n",
    "    print (\"{0:10.3e}\".format(g[i][0]))\n",
    "print (\"Lambda:\")\n",
    "xLambda = np.linalg.lstsq(A.transpose(),g)[0]\n",
    "for i in range(0,xLambda.shape[0]):\n",
    "    print (\"{0:10.3e}\".format(xLambda[i][0]))"
   ]
  },
  {
   "cell_type": "markdown",
   "metadata": {},
   "source": [
    "### Compute the Wronskian of the Lagrangian"
   ]
  },
  {
   "cell_type": "code",
   "execution_count": null,
   "metadata": {},
   "outputs": [],
   "source": [
    "W = Wronskian(nLiqSiO2=nLiqSiO2, nLiqAl2O3=nLiqAl2O3)\n",
    "for i in range(0,W.shape[0]):\n",
    "    print (\"{0:10.3e} {1:10.3e} {2:10.3e} {3:10.3e} {4:10.3e} {5:10.3e} {6:10.3e}\".format( \\\n",
    "        W[i][0], W[i][1], W[i][2], W[i][3], W[i][4], W[i][5], W[i][6]))"
   ]
  },
  {
   "cell_type": "markdown",
   "metadata": {},
   "source": [
    "### Next project the gradient and the Wronskian\n",
    "The search direction ($\\Delta {\\bf{n}}_{_\\phi }^i$) is given by\n",
    "$$\n",
    "{{\\bf{Z}}^T}{\\bf{WZ}}\\Delta {\\bf{n}}_\\phi ^i =  - {{\\bf{Z}}^T}{\\bf{g}}\n",
    "$$\n",
    "and ${\\bf{n}}_\\phi ^{i + 1} = \\Delta {\\bf{n}}_{_\\phi }^i + {\\bf{n}}_\\phi ^i$ gives the quadratic approximation to the minimum, which must be adjusted to maintain the non-linear equality constraints\n",
    "$$\n",
    "{\\bf{\\tilde n}}_\\phi ^{i + 1} = s\\Delta {\\bf{n}}_\\phi ^i + {\\bf{n}}_\\phi ^i + \\Delta {\\bf{n}}_\\phi ^{corr}\n",
    "$$"
   ]
  },
  {
   "cell_type": "code",
   "execution_count": null,
   "metadata": {},
   "outputs": [],
   "source": [
    "ZTg = np.matmul(Z.transpose(),g)\n",
    "ZTWZ = np.matmul(Z.transpose(), np.matmul(W,Z))\n",
    "print(\"Z^T g\")\n",
    "for i in range(0,ZTg.shape[0]):\n",
    "    print (\"{0:10.3e}\".format(ZTg[i][0]))\n",
    "print(\"Z^T W Z\")\n",
    "for i in range(0,ZTWZ.shape[0]):\n",
    "    print (\"{0:10.3e} {1:10.3e}\".format(ZTWZ[i][0], ZTWZ[i][1]))"
   ]
  },
  {
   "cell_type": "markdown",
   "metadata": {},
   "source": [
    "### ... and solve for the correction vector"
   ]
  },
  {
   "cell_type": "code",
   "execution_count": null,
   "metadata": {},
   "outputs": [],
   "source": [
    "x = lin.solve(ZTWZ, ZTg)\n",
    "print (\"Solution in the null space:\")\n",
    "for i in range(0,x.shape[0]):\n",
    "    print (\"{0:10.3e}\".format(x[i][0]))\n",
    "deltan = np.matmul(Z,x)\n",
    "print (\"Inflated Solution:\")\n",
    "for i in range(0,deltan.shape[0]):\n",
    "    print (\"{0:10.3e}\".format(deltan[i][0]))"
   ]
  },
  {
   "cell_type": "markdown",
   "metadata": {},
   "source": [
    "## Final solution\n",
    "The correction vector is zero because the initial guess satisfies all constraints and the number of constraints is equal to the number of unknowns. "
   ]
  },
  {
   "cell_type": "code",
   "execution_count": null,
   "metadata": {},
   "outputs": [],
   "source": [
    "nLiq = setMoles(nSiO2=nLiqSiO2, nAl2O3=nLiqAl2O3)\n",
    "print (\"n SiO2    liq = {0:8.6f}\".format(nLiq[0][0]+deltan[0][0]))\n",
    "print (\"n Al2O3   liq = {0:8.6f}\".format(nLiq[1][0]+deltan[1][0]))\n",
    "print (\"n CaSiO3  liq = {0:8.6f}\".format(nLiq[2][0]+deltan[2][0]))\n",
    "print (\"n Na2SiO3 liq = {0:8.6f}\".format(nLiq[3][0]+deltan[3][0]))\n",
    "print (\"n KAlSiO4 liq = {0:8.6f}\".format(nLiq[4][0]+deltan[4][0]))\n",
    "print (\"n Qz          = {0:8.6f}\".format(nQz+deltan[5][0]))\n",
    "print (\"n Cr          = {0:8.6f}\".format(nCr+deltan[6][0]))"
   ]
  },
  {
   "cell_type": "code",
   "execution_count": null,
   "metadata": {},
   "outputs": [],
   "source": []
  }
 ],
 "metadata": {
  "anaconda-cloud": {},
  "kernelspec": {
   "display_name": "Python [default]",
   "language": "python",
   "name": "python3"
  },
  "language_info": {
   "codemirror_mode": {
    "name": "ipython",
    "version": 3
   },
   "file_extension": ".py",
   "mimetype": "text/x-python",
   "name": "python",
   "nbconvert_exporter": "python",
   "pygments_lexer": "ipython3",
   "version": "3.6.5"
  }
 },
 "nbformat": 4,
 "nbformat_minor": 2
}
