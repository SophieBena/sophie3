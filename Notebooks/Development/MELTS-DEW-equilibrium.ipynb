{
 "cells": [
  {
   "cell_type": "markdown",
   "metadata": {},
   "source": [
    "# MELTS\n",
    "  \n",
    "Versions of MELTS implemented are:  \n",
    "- MELTS v. 1.0.2 ➞ (rhyolite-MELTS, Gualda et al., 2012)  \n",
    "- MELTS v. 1.1.0 ➞ (rhyolite-MELTS + new CO<sub>2</sub>, works at the ternary minimum)  \n",
    "- MELTS v. 1.2.0 ➞ (rhyolite-MELTS + new H<sub>2</sub>O + new CO<sub>2</sub>)  \n",
    "- pMELTS v. 5.6.1\n",
    "- MELTS + DEW (experimental)"
   ]
  },
  {
   "cell_type": "markdown",
   "metadata": {},
   "source": [
    "## Initialize tools and packages that are required to execute this notebook."
   ]
  },
  {
   "cell_type": "code",
   "execution_count": 1,
   "metadata": {},
   "outputs": [],
   "source": [
    "from thermoengine import equilibrate\n",
    "import matplotlib.pyplot as plt\n",
    "import numpy as np\n",
    "%matplotlib inline"
   ]
  },
  {
   "cell_type": "markdown",
   "metadata": {},
   "source": [
    "## Create a MELTS (1.2.0) + DEW instance.\n",
    "Rhyolite-MELTS version 1.2.0 + DEW."
   ]
  },
  {
   "cell_type": "code",
   "execution_count": 2,
   "metadata": {},
   "outputs": [
    {
     "name": "stderr",
     "output_type": "stream",
     "text": [
      "/Users/ghiorso/anaconda3/lib/python3.7/site-packages/ipykernel/ipkernel.py:283: DeprecationWarning: `should_run_async` will not call `transform_cell` automatically in the future. Please pass the result to `transformed_cell` argument and any exception that happen during thetransform in `preprocessing_exc_tuple` in IPython 7.17 and above.\n",
      "  and should_run_async(code)\n"
     ]
    }
   ],
   "source": [
    "melts = equilibrate.MELTSmodel('OnlyDEW')\n",
    "# melts = equilibrate.MELTSmodel('DEW')"
   ]
  },
  {
   "cell_type": "markdown",
   "metadata": {},
   "source": [
    "### Optional: Generate some information about the implemented model."
   ]
  },
  {
   "cell_type": "code",
   "execution_count": 3,
   "metadata": {},
   "outputs": [
    {
     "name": "stdout",
     "output_type": "stream",
     "text": [
      "['SiO2', 'TiO2', 'Al2O3', 'Fe2O3', 'Cr2O3', 'FeO', 'MnO', 'MgO', 'NiO', 'CoO', 'CaO', 'Na2O', 'K2O', 'P2O5', 'H2O', 'CO2']\n",
      "['DEWFluid', 'Liquid']\n"
     ]
    }
   ],
   "source": [
    "oxides = melts.get_oxide_names()\n",
    "phases = melts.get_phase_names()\n",
    "print (oxides)\n",
    "print (phases)"
   ]
  },
  {
   "cell_type": "markdown",
   "metadata": {},
   "source": [
    "## Rhyolite: Input initial composition of the system (liquid), in wt% or grams of oxides. \n",
    "Early Bishop Tuff average melt inlusion composition"
   ]
  },
  {
   "cell_type": "code",
   "execution_count": 4,
   "metadata": {},
   "outputs": [],
   "source": [
    "feasible = melts.set_bulk_composition({'SiO2':  77.5, \n",
    "                                       'TiO2':   0.08,# 0.08 \n",
    "                                       'Al2O3': 12.5, # 12.5\n",
    "                                       'Fe2O3':  0.0, # 0.207,\n",
    "                                       'Cr2O3':  0.0, \n",
    "                                       'FeO':    0.0, # 0.473, \n",
    "                                       'MnO':    0.0,\n",
    "                                       'MgO':    0.0, # 0.03, \n",
    "                                       'NiO':    0.0, \n",
    "                                       'CoO':    0.0,\n",
    "                                       'CaO':    0.0, # 0.43, \n",
    "                                       'Na2O':   3.98,# 3.98 \n",
    "                                       'K2O':    4.88,# 4.88 \n",
    "                                       'P2O5':   0.0, \n",
    "                                       'H2O':   10.0, # 5.5\n",
    "                                       'CO2':    0.05\n",
    "                                      })"
   ]
  },
  {
   "cell_type": "markdown",
   "metadata": {},
   "source": [
    "## Optional: Suppress phases that are not required in the simulation."
   ]
  },
  {
   "cell_type": "code",
   "execution_count": 5,
   "metadata": {},
   "outputs": [],
   "source": [
    "b = melts.get_phase_inclusion_status()\n",
    "melts.set_phase_inclusion_status({'Actinolite' : False, 'Aegirine' : False, 'Aenigmatite' : False, \n",
    "                                  'Akermanite' : False, 'Andalusite' : False, 'Anthophyllite' : False, \n",
    "                                  'Apatite' : False, 'Augite' : False, 'Biotite' : False, \n",
    "                                  'Chromite' : False, 'Coesite' : False, 'Corundum' : True, \n",
    "                                  'Cristobalite' : True, 'Cummingtonite' : False, 'Fayalite' : False, \n",
    "                                  'Forsterite' : False, 'Garnet' : False, 'Gehlenite' : False, \n",
    "                                  'Hematite' : False, 'Hornblende' : False, 'Ilmenite' : False, \n",
    "                                  'Ilmenite ss' : False, 'Kalsilite' : False, 'Kalsilite ss' : False, \n",
    "                                  'Kyanite' : False, 'Leucite' : False, 'Lime' : False, \n",
    "                                  'Liquid Alloy' : False, 'Magnetite' : False, 'Melilite' : False, \n",
    "                                  'Muscovite' : False, 'Nepheline' : False, 'Nepheline ss' : False, \n",
    "                                  'Olivine' : False, 'OrthoOxide' : False, 'Orthopyroxene' : False, \n",
    "                                  'Panunzite' : False, 'Periclase' : False, 'Perovskite' : False, \n",
    "                                  'Phlogopite' : False, 'Pigeonite' : False, 'Plagioclase' : True, \n",
    "                                  'Quartz' : True, 'Rutile' : False, 'Sanidine' : True, \n",
    "                                  'Sillimanite' : False, 'Solid Alloy' : False, 'Sphene' : False, \n",
    "                                  'Spinel' : False, 'Titanaugite' : False, 'Tridymite' : True, \n",
    "                                  'Whitlockite' : False})\n",
    "#a = melts.get_phase_inclusion_status()\n",
    "#for phase in b.keys():\n",
    "#    if b[phase] != a[phase]:\n",
    "#        print (\"{0:<15s} Before: {1:<5s} After: {2:<5s}\".format(phase, repr(b[phase]), repr(a[phase])))"
   ]
  },
  {
   "cell_type": "markdown",
   "metadata": {},
   "source": [
    "## Compute the equilibrium state at some specified T (°C) and P (MPa).\n",
    "Print status and summary of the calculation."
   ]
  },
  {
   "cell_type": "code",
   "execution_count": 6,
   "metadata": {},
   "outputs": [
    {
     "name": "stdout",
     "output_type": "stream",
     "text": [
      "success, Minimal energy computed. 750.0 500.0\n",
      "T (°C)       750.00\n",
      "P (MPa)      500.00\n",
      "DEWFluid          0.2758 (g)  DEWFluid - Formula NYI\n",
      "                                 \n",
      "Liquid          108.7142 (g)  wt%:SiO2 71.28 TiO2  0.07 Al2O3 11.50 Fe2O3  0.00 Cr2O3  0.00 FeO  0.00 MnO  0.00 MgO  0.00\n",
      "                                  NiO  0.00 CoO  0.00 CaO  0.00 Na2O  3.66 K2O  4.49 P2O5  0.00 H2O  8.99 CO2  0.00\n"
     ]
    }
   ],
   "source": [
    "melts.set_debug_state(debugS=True, debugV=False)\n",
    "output = melts.equilibrate_tp(750.0, 500.0, initialize=True) # 175.0\n",
    "(status, t, p, xmlout) = output[0]\n",
    "print (status, t, p)\n",
    "melts.output_summary(xmlout)"
   ]
  },
  {
   "cell_type": "code",
   "execution_count": 7,
   "metadata": {},
   "outputs": [
    {
     "name": "stdout",
     "output_type": "stream",
     "text": [
      "pH =  15.01097443023703 neutral =  13.98993025343966\n"
     ]
    }
   ],
   "source": [
    "activities = melts.get_properties_of_DEWFluid(property_name='activity')\n",
    "K = activities['H+']*activities['OH-']/activities['Water']\n",
    "print ('pH = ', -np.log10(activities['H+']), 'neutral = ', -np.log10(np.sqrt(K)))"
   ]
  },
  {
   "cell_type": "code",
   "execution_count": 8,
   "metadata": {},
   "outputs": [
    {
     "name": "stdout",
     "output_type": "stream",
     "text": [
      "Fluid composition in mole fraction:\n",
      "{'Water': 0.911830629479316, 'CO2,aq': 0.0811068650366679, 'NaOH,aq': 2.83609868210128e-06, 'HAlO2,aq': 1.523252714218e-08, 'SiO2,aq': 0.0070596443602777, 'KOH,aq': 9.79252899912e-09}\n"
     ]
    }
   ],
   "source": [
    "print('Fluid composition in mole fraction:')\n",
    "print(melts.get_composition_of_phase(xmlout, phase_name='DEWFluid', mode='component'))"
   ]
  },
  {
   "cell_type": "code",
   "execution_count": 9,
   "metadata": {},
   "outputs": [
    {
     "name": "stdout",
     "output_type": "stream",
     "text": [
      "Liquid composition in mole fraction:\n",
      "{'SiO2': 0.589140622331367, 'TiO2': 0.000525774834794772, 'Al2O3': 0.0371739652955593, 'Na2SiO3': 0.0337201007395625, 'KAlSiO4': 0.0544043097662583, 'H2O': 0.285013929381353, 'CO2': 2.12976511049639e-05}\n"
     ]
    }
   ],
   "source": [
    "print('Liquid composition in mole fraction:')\n",
    "print(melts.get_composition_of_phase(xmlout,phase_name='Liquid',mode='component'))"
   ]
  },
  {
   "cell_type": "markdown",
   "metadata": {},
   "source": [
    "Output species present in Fluid phase"
   ]
  },
  {
   "cell_type": "code",
   "execution_count": 10,
   "metadata": {},
   "outputs": [],
   "source": [
    "species = melts.get_properties_of_DEWFluid(property_name='species', T=750.0, P=1750.0)"
   ]
  },
  {
   "cell_type": "code",
   "execution_count": 11,
   "metadata": {},
   "outputs": [
    {
     "name": "stdout",
     "output_type": "stream",
     "text": [
      "KOH,aq               1.455872e-09\n",
      "OH-                  4.802793e-07\n",
      "CO2,aq               8.136754e-02\n",
      "SiO2,aq              7.220981e-04\n",
      "Water                9.146812e-01\n",
      "HCO3-                8.791903e-07\n",
      "NaOH,aq              1.878909e-06\n",
      "NaHSiO3,aq           4.087810e-10\n",
      "NaCO3-               1.113533e-12\n",
      "NaHCO3,aq            1.283996e-10\n",
      "Na+                  9.657971e-07\n",
      "AlO2-                1.148150e-08\n",
      "H+                   2.613747e-10\n",
      "Al+3                 1.171759e-40\n",
      "HSiO3-               1.793381e-04\n",
      "K+                   8.368236e-09\n",
      "Si2O4,aq             3.090487e-03\n",
      "HAlO2,aq             3.800153e-09\n",
      "CO3-2                2.808997e-11\n"
     ]
    }
   ],
   "source": [
    "for key in species.keys():\n",
    "    if species[key] > 0.0:\n",
    "        print (\"{0:<20s} {1:12.6e}\".format(key, species[key]))"
   ]
  },
  {
   "cell_type": "markdown",
   "metadata": {},
   "source": [
    "## MORB: Input initial composition of the system (liquid), in wt% or grams of oxides. \n",
    "Composition from the FAMOUS fracture zone"
   ]
  },
  {
   "cell_type": "code",
   "execution_count": null,
   "metadata": {},
   "outputs": [],
   "source": [
    "feasible = melts.set_bulk_composition({'SiO2':  48.68, \n",
    "                                       'TiO2':   1.01, \n",
    "                                       'Al2O3': 17.64, \n",
    "                                       'Fe2O3':  0.89,\n",
    "                                       'Cr2O3':  0.0,  # 0.045\n",
    "                                       'FeO':    7.59, \n",
    "                                       'MnO':    0.0,\n",
    "                                       'MgO':    9.10, \n",
    "                                       'NiO':    0.0, \n",
    "                                       'CoO':    0.0,\n",
    "                                       'CaO':   12.45, \n",
    "                                       'Na2O':   2.65, \n",
    "                                       'K2O':    0.03, \n",
    "                                       'P2O5':   0.0,  # 0.08\n",
    "                                       'H2O':   20.0,\n",
    "                                       'CO2':    0.0   # 0.05\n",
    "                                      })"
   ]
  },
  {
   "cell_type": "code",
   "execution_count": null,
   "metadata": {},
   "outputs": [],
   "source": [
    "melts.set_debug_state(debugS=True, debugV=True)\n",
    "output = melts.equilibrate_tp(1200.0, 500.0, initialize=True)\n",
    "(status, t, p, xmlout) = output[0]\n",
    "print (status, t, p)\n",
    "melts.output_summary(xmlout)"
   ]
  },
  {
   "cell_type": "code",
   "execution_count": null,
   "metadata": {},
   "outputs": [],
   "source": [
    "activities = melts.get_properties_of_DEWFluid(property_name='activity')\n",
    "K = activities['H+']*activities['OH-']/activities['Water']\n",
    "print ('pH = ', -np.log10(activities['H+']), 'neutral = ', -np.log10(np.sqrt(K)))"
   ]
  },
  {
   "cell_type": "code",
   "execution_count": null,
   "metadata": {},
   "outputs": [],
   "source": [
    "print('Fluid composition in mole fraction:')\n",
    "print(melts.get_composition_of_phase(xmlout, phase_name='DEWFluid', mode='component'))"
   ]
  },
  {
   "cell_type": "code",
   "execution_count": null,
   "metadata": {},
   "outputs": [],
   "source": [
    "print('Liquid composition in mole fraction:')\n",
    "print(melts.get_composition_of_phase(xmlout,phase_name='Liquid',mode='component'))"
   ]
  },
  {
   "cell_type": "markdown",
   "metadata": {},
   "source": [
    "Output species present in Fluid phase"
   ]
  },
  {
   "cell_type": "code",
   "execution_count": null,
   "metadata": {},
   "outputs": [],
   "source": [
    "species = melts.get_properties_of_DEWFluid(property_name='species', T=750.0, P=1750.0)"
   ]
  },
  {
   "cell_type": "code",
   "execution_count": null,
   "metadata": {},
   "outputs": [],
   "source": [
    "for key in species.keys():\n",
    "    if species[key] > 0.0:\n",
    "        print (\"{0:<20s} {1:12.6e}\".format(key, species[key]))"
   ]
  },
  {
   "cell_type": "markdown",
   "metadata": {},
   "source": [
    "## Output chemical affinities and potential compositions of undersaturated phases "
   ]
  },
  {
   "cell_type": "code",
   "execution_count": null,
   "metadata": {},
   "outputs": [],
   "source": [
    "dict = melts.get_dictionary_of_affinities(xmlout, sort=True)\n",
    "for phase in dict:\n",
    "    (affinity, formulae) = dict[phase]\n",
    "    print (\"{0:<20s} {1:10.2f} {2:<60s}\".format(phase, affinity, formulae))"
   ]
  },
  {
   "cell_type": "code",
   "execution_count": null,
   "metadata": {},
   "outputs": [],
   "source": []
  }
 ],
 "metadata": {
  "anaconda-cloud": {},
  "kernelspec": {
   "display_name": "Python 3",
   "language": "python",
   "name": "python3"
  },
  "language_info": {
   "codemirror_mode": {
    "name": "ipython",
    "version": 3
   },
   "file_extension": ".py",
   "mimetype": "text/x-python",
   "name": "python",
   "nbconvert_exporter": "python",
   "pygments_lexer": "ipython3",
   "version": "3.7.9"
  }
 },
 "nbformat": 4,
 "nbformat_minor": 4
}
