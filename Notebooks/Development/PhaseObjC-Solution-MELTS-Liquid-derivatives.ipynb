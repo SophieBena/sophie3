{
 "cells": [
  {
   "cell_type": "markdown",
   "metadata": {},
   "source": [
    "# PhaseObjC - MELTS Liquid Phase\n",
    "## Derivative Testers"
   ]
  },
  {
   "cell_type": "markdown",
   "metadata": {},
   "source": [
    "Required Python code to load the phase library."
   ]
  },
  {
   "cell_type": "code",
   "execution_count": null,
   "metadata": {},
   "outputs": [],
   "source": [
    "from ctypes import cdll\n",
    "from ctypes import util\n",
    "from rubicon.objc import ObjCClass, objc_method\n",
    "cdll.LoadLibrary(util.find_library('phaseobjc'))\n",
    "import numpy as np"
   ]
  },
  {
   "cell_type": "markdown",
   "metadata": {},
   "source": [
    "### Create a Python reference to the `Feldspar` solution phase class, and instantiate an instance of that class.  \n",
    "LiquidMelts  \n",
    "LiquidMeltsPlusCO2  \n",
    "LiquidMeltsPlusOldH2OandNewCO2"
   ]
  },
  {
   "cell_type": "code",
   "execution_count": null,
   "metadata": {},
   "outputs": [],
   "source": [
    "Liquid = ObjCClass('LiquidMeltsPlusOldH2OandNewCO2')\n",
    "obj = Liquid.alloc().init()"
   ]
  },
  {
   "cell_type": "markdown",
   "metadata": {},
   "source": [
    "### Obtain properties of the phase inherited from the PhaseBase class.  "
   ]
  },
  {
   "cell_type": "code",
   "execution_count": null,
   "metadata": {},
   "outputs": [],
   "source": [
    "print (obj.phaseName)"
   ]
  },
  {
   "cell_type": "markdown",
   "metadata": {},
   "source": [
    "## Solution Protocol Functions"
   ]
  },
  {
   "cell_type": "markdown",
   "metadata": {},
   "source": [
    "### Solution component and species number:"
   ]
  },
  {
   "cell_type": "code",
   "execution_count": null,
   "metadata": {},
   "outputs": [],
   "source": [
    "nc = obj.numberOfSolutionComponents()\n",
    "print ('Number of components = ', nc)\n",
    "ns = obj.numberOfSolutionSpecies()\n",
    "print ('Number of species = ', ns)"
   ]
  },
  {
   "cell_type": "markdown",
   "metadata": {},
   "source": [
    "### Information about solution components:"
   ]
  },
  {
   "cell_type": "code",
   "execution_count": null,
   "metadata": {},
   "outputs": [],
   "source": [
    "PhaseBase = ObjCClass('PhaseBase')\n",
    "print (\"{0:>20s} {1:>20s} {2:>15s}\".format('component name', 'formula', 'MW (g/mol)'))\n",
    "for i in range(0, nc):\n",
    "    component = obj.componentAtIndex_(i)\n",
    "    print (\"{0:>20s} {1:>20s} {2:15.3f}\".format(component.phaseName, component.phaseFormula, component.mw))"
   ]
  },
  {
   "cell_type": "markdown",
   "metadata": {},
   "source": [
    "### Create a vector of moles of endmember components.\n",
    "Allocate a \"c\"-type pointer to a double precision one-dimensional array, and initialize the array to hold the moles of each component in the solution.  \n",
    "Composition correcponds to (in oxide wt %): 'SiO2':  77.5, 'TiO2':   0.08, 'Al2O3': 12.5, 'Fe2O3':  0.207,'Cr2O3':  0.0, 'FeO':    0.473, 'MnO':    0.0,'MgO':    0.03, 'NiO':    0.0, 'CoO':    0.0,'CaO':    0.43, 'Na2O':   3.98, 'K2O':    4.88, 'P2O5':   0.0, 'H2O':    5.5,'CO2':    0.0"
   ]
  },
  {
   "cell_type": "code",
   "execution_count": null,
   "metadata": {},
   "outputs": [],
   "source": [
    "import ctypes\n",
    "m = (ctypes.c_double*nc)()\n",
    "ctypes.cast(m, ctypes.POINTER(ctypes.c_double))\n",
    "m[0] = 0.665792\n",
    "m[1] = 0.000600\n",
    "m[2] = 0.042436\n",
    "m[3] = 0.000777\n",
    "m[4] = 0.0\n",
    "m[5] = 0.001973\n",
    "m[6] = 0.0\n",
    "m[7] = 0.000223\n",
    "m[8] = 0.0\n",
    "m[9] = 0.0\n",
    "m[10] = 0.004596\n",
    "m[11] = 0.038493\n",
    "m[12] = 0.062105\n",
    "m[13] = 0.0\n",
    "m[14] = 0.183006\n",
    "m[15] = 0.001\n",
    "for i in range (0, nc):\n",
    "    component = obj.componentAtIndex_(i)\n",
    "    print ('moles of {0:10s} = {1:10.6f}'.format(component.phaseName, m[i]))"
   ]
  },
  {
   "cell_type": "markdown",
   "metadata": {},
   "source": [
    "# Derivative testers "
   ]
  },
  {
   "cell_type": "code",
   "execution_count": null,
   "metadata": {},
   "outputs": [],
   "source": [
    "from scipy.misc import derivative\n",
    "t = 760+273.15\n",
    "p = 1750"
   ]
  },
  {
   "cell_type": "code",
   "execution_count": null,
   "metadata": {},
   "outputs": [],
   "source": [
    "dT = 1\n",
    "dP = 2\n",
    "dm = 3\n",
    "def test_h(t,p):\n",
    "    h_est = obj.getGibbsFreeEnergyFromMolesOfComponents_andT_andP_(m,t,p) \\\n",
    "          + t*obj.getEntropyFromMolesOfComponents_andT_andP_(m, t, p)\n",
    "    h_act = obj.getEnthalpyFromMolesOfComponents_andT_andP_(m, t, p)\n",
    "    h_err = (h_est-h_act)*100.0/h_act\n",
    "    print (\"H       {0:10.6f} % error, est: {1:15.6e} act: {2:15.6e}\".format(h_err, h_est, h_act))\n",
    "def g(x, dx=dT, n=0):\n",
    "    if dx == dT:\n",
    "        return obj.getGibbsFreeEnergyFromMolesOfComponents_andT_andP_(m, x, p)\n",
    "    elif dx == dP:\n",
    "        return obj.getGibbsFreeEnergyFromMolesOfComponents_andT_andP_(m, t, x)\n",
    "    elif dx == dm:\n",
    "        if n < 0 or n >= nc:\n",
    "            return 0.0\n",
    "        mold = m[n]\n",
    "        m[n] = x\n",
    "        result = obj.getGibbsFreeEnergyFromMolesOfComponents_andT_andP_(m, t, p)\n",
    "        m[n] = mold\n",
    "        return result\n",
    "def test_g_dt(t,p):\n",
    "    s_est = -derivative(g, t, args=(dT,))\n",
    "    s_act = obj.getEntropyFromMolesOfComponents_andT_andP_(m, t, p)\n",
    "    s_err = (s_est-s_act)*100.0/s_act\n",
    "    print (\"S       {0:10.6f} % error, est: {1:15.6e} act: {2:15.6e}\".format(s_err, s_est, s_act))\n",
    "def test_a_mu(t,p):\n",
    "    dgdm = obj.getDgDmFromMolesOfComponents_andT_andP_(m, t, p)\n",
    "    activity = obj.getActivityFromMolesOfComponents_andT_andP_(m, t, p)\n",
    "    potential = obj.getChemicalPotentialFromMolesOfComponents_andT_andP_(m, t, p)\n",
    "    for i in range(0,nc):\n",
    "        if m[i] != 0.0:\n",
    "            da_est = dgdm.valueAtIndex_(i)\n",
    "            da_act = 8.3143*t*np.log(activity.valueAtIndex_(i)) \\\n",
    "                   + obj.componentAtIndex_(i).getGibbsFreeEnergyFromT_andP_(t, p)\n",
    "            da_err = (da_est-da_act)*100.0/da_act\n",
    "            print (\"RT ln a {0:>10s} {1:10.6f} % error, est: {2:15.6e} act: {3:15.6e}\".format( \\\n",
    "                obj.componentAtIndex_(i).phaseName, da_err, da_est, da_act))\n",
    "    for i in range(0,nc):\n",
    "        if m[i] != 0.0:\n",
    "            dmu_est = dgdm.valueAtIndex_(i)\n",
    "            dmu_act = potential.valueAtIndex_(i)\n",
    "            dmu_err = (dmu_est-dmu_act)*100.0/dmu_act\n",
    "            print (\"mu      {0:>10s} {1:10.6f} % error, est: {2:15.6e} act: {3:15.6e}\".format( \\\n",
    "                obj.componentAtIndex_(i).phaseName, dmu_err, dmu_est, dmu_act))\n",
    "def test_g_dp(t,p):\n",
    "    v_est = derivative(g, p, args=(dP,))\n",
    "    v_act = obj.getVolumeFromMolesOfComponents_andT_andP_(m, t, p)\n",
    "    v_err = (v_est-v_act)*100.0/v_act\n",
    "    print (\"V       {0:10.6f} % error, est: {1:15.6e} act: {2:15.6e}\".format(v_err, v_est, v_act))\n",
    "def test_dg_dm(t,p):\n",
    "    dgdm = obj.getDgDmFromMolesOfComponents_andT_andP_(m, t, p)\n",
    "    for i in range (0,nc):\n",
    "        if m[i] != 0.0:\n",
    "            dm_est = derivative(g, m[i], args=(dm,i,), dx=1e-4)\n",
    "            dm_act = dgdm.valueAtIndex_(i)\n",
    "            dm_err = (dm_est-dm_act)*100.0/dm_act\n",
    "            print (\"dgdm    {0:>10s} {1:10.6f} % error, est: {2:15.6e} act: {3:15.6e}\".format( \\\n",
    "                obj.componentAtIndex_(i).phaseName, dm_err, dm_est, dm_act))\n",
    "def dgdm(x, i=0, j=0):\n",
    "    if i < 0 or i >= nc:\n",
    "        return 0.0\n",
    "    if j < 0 or j >= nc:\n",
    "        return 0.0\n",
    "    mold = m[j]\n",
    "    m[j] = x\n",
    "    dgdm = obj.getDgDmFromMolesOfComponents_andT_andP_(m, t, p)\n",
    "    m[j] = mold\n",
    "    return dgdm.valueAtIndex_(i)\n",
    "def test_d2g_dm2(t,p):\n",
    "    d2gdm2 = obj.getD2gDm2FromMolesOfComponents_andT_andP_(m, t, p)\n",
    "    for i in range (0,nc):\n",
    "        if m[i] != 0.0:\n",
    "            for j in range (0,nc):\n",
    "                if m[j] != 0.0:\n",
    "                    d2m_est = derivative(dgdm, m[j], args=(i,j,), dx=1e-4)\n",
    "                    d2m_act = d2gdm2.valueAtRowIndex_andColIndex_(i, j)\n",
    "                    d2m_err = (d2m_est-d2m_act)*100.0/d2m_act\n",
    "                    print (\"d2gdm2 {0:>10s} {1:>10s} {2:10.6f} % error, est: {3:15.6e} act: {4:15.6e}\".format( \\\n",
    "                    obj.componentAtIndex_(i).phaseName, obj.componentAtIndex_(j).phaseName, d2m_err, d2m_est, d2m_act))\n",
    "def activity(x, i=0, j=0):\n",
    "    if i < 0 or i >= nc:\n",
    "        return 0.0\n",
    "    if j < 0 or j >= nc:\n",
    "        return 0.0\n",
    "    mold = m[j]\n",
    "    m[j] = x\n",
    "    a = obj.getActivityFromMolesOfComponents_andT_andP_(m, t, p)\n",
    "    m[j] = mold\n",
    "    return a.valueAtIndex_(i)\n",
    "def test_da_dm(t,p):\n",
    "    dadm = obj.getDaDmFromMolesOfComponents_andT_andP_(m, t, p)\n",
    "    for i in range (0,nc):\n",
    "        if m[i] != 0.0:\n",
    "            for j in range (0,nc):\n",
    "                if m[j] != 0.0:\n",
    "                    dadm_est = derivative(activity, m[j], args=(i,j,), dx=1e-6)\n",
    "                    dadm_act = dadm.valueAtRowIndex_andColIndex_(i, j)\n",
    "                    dadm_err = (dadm_est-dadm_act)*100.0/dadm_act\n",
    "                    print (\"dadm {0:>10s} {1:>10s} {2:10.6f} % error, est: {3:15.6e} act: {4:15.6e}\".format( \\\n",
    "                    obj.componentAtIndex_(i).phaseName, obj.componentAtIndex_(j).phaseName, \\\n",
    "                    dadm_err, dadm_est, dadm_act))\n",
    "def s(x, dx=dT, n=0):\n",
    "    if dx == dT:\n",
    "        return obj.getEntropyFromMolesOfComponents_andT_andP_(m, x, p)\n",
    "    elif dx == dP:\n",
    "        return obj.getEntropyFromMolesOfComponents_andT_andP_(m, t, x)\n",
    "    elif dx == dm:\n",
    "        if n < 0 or n >= nc:\n",
    "            return 0.0\n",
    "        mold = m[n]\n",
    "        m[n] = x\n",
    "        result = obj.getEntropyFromMolesOfComponents_andT_andP_(m, t, p)\n",
    "        m[n] = mold\n",
    "        return result\n",
    "def test_s_dt(t,p):\n",
    "    cp_est = t*derivative(s, t, args=(dT,))\n",
    "    cp_act = obj.getHeatCapacityFromMolesOfComponents_andT_andP_(m, t, p)\n",
    "    cp_err = (cp_est-cp_act)*100.0/cp_act\n",
    "    print (\"Cp      {0:10.6f} % error, est: {1:15.6e} act: {2:15.6e}\".format(cp_err, cp_est, cp_act))\n",
    "def test_ds_dm(t,p):\n",
    "    dsdm = obj.getDsDmFromMolesOfComponents_andT_andP_(m, t, p)\n",
    "    for i in range (0,nc):\n",
    "        if m[i] != 0.0:\n",
    "            dm_est = derivative(s, m[i], args=(dm,i,), dx=1e-4)\n",
    "            dm_act = dsdm.valueAtIndex_(i)\n",
    "            dm_err = (dm_est-dm_act)*100.0/dm_act\n",
    "            print (\"dsdm    {0:>10s} {1:10.6f} % error, est: {2:15.6e} act: {3:15.6e}\".format( \\\n",
    "                obj.componentAtIndex_(i).phaseName, dm_err, dm_est, dm_act))\n",
    "def dsdm(x, i=0, j=0):\n",
    "    if i < 0 or i >= nc:\n",
    "        return 0.0\n",
    "    if j < 0 or j >= nc:\n",
    "        return 0.0\n",
    "    mold = m[j]\n",
    "    m[j] = x\n",
    "    dsdm = obj.getDsDmFromMolesOfComponents_andT_andP_(m, t, p)\n",
    "    m[j] = mold\n",
    "    return dsdm.valueAtIndex_(i)\n",
    "def test_d2s_dm2(t,p):\n",
    "    d2sdm2 = obj.getD2sDm2FromMolesOfComponents_andT_andP_(m, t, p)\n",
    "    for i in range (0,nc):\n",
    "        if m[i] != 0.0:\n",
    "            for j in range (0,nc):\n",
    "                if m[j] != 0.0:\n",
    "                    d2m_est = derivative(dsdm, m[j], args=(i,j,), dx=1e-4)\n",
    "                    d2m_act = d2sdm2.valueAtRowIndex_andColIndex_(i, j)\n",
    "                    d2m_err = (d2m_est-d2m_act)*100.0/d2m_act\n",
    "                    print (\"d2sdm2 {0:>10s} {1:>10s} {2:10.6f} % error, est: {3:15.6e} act: {4:15.6e}\".format( \\\n",
    "                    obj.componentAtIndex_(i).phaseName, obj.componentAtIndex_(j).phaseName, d2m_err, d2m_est, d2m_act))\n",
    "def cp(x, dx=dT, n=0):\n",
    "    if dx == dT:\n",
    "        return obj.getHeatCapacityFromMolesOfComponents_andT_andP_(m, x, p)\n",
    "    elif dx == dP:\n",
    "        return obj.getHeatCapacityFromMolesOfComponents_andT_andP_(m, t, x)\n",
    "    elif dx == dm:\n",
    "        if n < 0 or n >= nc:\n",
    "            return 0.0\n",
    "        mold = m[n]\n",
    "        m[n] = x\n",
    "        result = obj.getHeatCapacityFromMolesOfComponents_andT_andP_(m, t, p)\n",
    "        m[n] = mold\n",
    "        return result\n",
    "def test_cp_dt(t,p):\n",
    "    dcpdt_est = derivative(cp, t, args=(True,), dx=1e-4)\n",
    "    dcpdt_act = obj.getDcpDtFromMolesOfComponents_andT_andP_(m, t, p)\n",
    "    dcpdt_err = (dcpdt_est-dcpdt_act)*100.0/dcpdt_act\n",
    "    print (\"dCpDt   {0:10.6f} % error, est: {1:15.6e} act: {2:15.6e}\".format(dcpdt_err, dcpdt_est, dcpdt_act))\n",
    "def test_dcp_dm(t,p):\n",
    "    dcpdm = obj.getDCpDmFromMolesOfComponents_andT_andP_(m, t, p)\n",
    "    for i in range (0,nc):\n",
    "        if m[i] != 0.0:\n",
    "            dm_est = derivative(cp, m[i], args=(dm,i,), dx=1e-4)\n",
    "            dm_act = dcpdm.valueAtIndex_(i)\n",
    "            dm_err = (dm_est-dm_act)*100.0/dm_act\n",
    "            print (\"dcpdm   {0:>10s} {1:10.6f} % error, est: {2:15.6e} act: {3:15.6e}\".format( \\\n",
    "                obj.componentAtIndex_(i).phaseName, dm_err, dm_est, dm_act))\n",
    "def v(x, dx=dT, n=0):\n",
    "    if dx == dT:\n",
    "        return obj.getVolumeFromMolesOfComponents_andT_andP_(m, x, p)\n",
    "    elif dx == dP:\n",
    "        return obj.getVolumeFromMolesOfComponents_andT_andP_(m, t, x)\n",
    "    elif dx == dm:\n",
    "        if n < 0 or n >= nc:\n",
    "            return 0.0\n",
    "        mold = m[n]\n",
    "        m[n] = x\n",
    "        result = obj.getVolumeFromMolesOfComponents_andT_andP_(m, t, p)\n",
    "        m[n] = mold\n",
    "        return result\n",
    "def test_v_dt(t,p):\n",
    "    dvdt_est = derivative(v, t, args=(dT,))\n",
    "    dvdt_act = obj.getDvDtFromMolesOfComponents_andT_andP_(m, t, p)\n",
    "    dvdt_err = (dvdt_est-dvdt_act)*100.0/dvdt_act\n",
    "    print (\"dVdT    {0:10.6f} % error, est: {1:15.6e} act: {2:15.6e}\".format(dvdt_err, dvdt_est, dvdt_act))\n",
    "def test_v_dp(t,p):\n",
    "    dvdp_est = derivative(v, p, args=(dP,))\n",
    "    dvdp_act = obj.getDvDpFromMolesOfComponents_andT_andP_(m, t, p)\n",
    "    dvdp_err = (dvdp_est-dvdp_act)*100.0/dvdp_act\n",
    "    print (\"dVdP    {0:10.6f} % error, est: {1:15.6e} act: {2:15.6e}\".format(dvdp_err, dvdp_est, dvdp_act))\n",
    "def test_dv_dm(t,p):\n",
    "    dvdm = obj.getDvDmFromMolesOfComponents_andT_andP_(m, t, p)\n",
    "    for i in range (0,nc):\n",
    "        if m[i] != 0.0:\n",
    "            dm_est = derivative(v, m[i], args=(dm,i,), dx=1e-4)\n",
    "            dm_act = dvdm.valueAtIndex_(i)\n",
    "            dm_err = (dm_est-dm_act)*100.0/dm_act\n",
    "            print (\"dvdm    {0:>10s} {1:10.6f} % error, est: {2:15.6e} act: {3:15.6e}\".format( \\\n",
    "                obj.componentAtIndex_(i).phaseName, dm_err, dm_est, dm_act))\n",
    "def dvdm(x, i=0, j=0):\n",
    "    if i < 0 or i >= nc:\n",
    "        return 0.0\n",
    "    if j < 0 or j >= nc:\n",
    "        return 0.0\n",
    "    mold = m[j]\n",
    "    m[j] = x\n",
    "    dvdm = obj.getDvDmFromMolesOfComponents_andT_andP_(m, t, p)\n",
    "    m[j] = mold\n",
    "    return dvdm.valueAtIndex_(i)\n",
    "def test_d2v_dm2(t,p):\n",
    "    d2vdm2 = obj.getD2vDm2FromMolesOfComponents_andT_andP_(m, t, p)\n",
    "    for i in range (0,nc):\n",
    "        if m[i] != 0.0:\n",
    "            for j in range (0,nc):\n",
    "                if m[j] != 0.0:\n",
    "                    d2m_est = derivative(dvdm, m[j], args=(i,j,), dx=1e-4)\n",
    "                    d2m_act = d2vdm2.valueAtRowIndex_andColIndex_(i, j)\n",
    "                    d2m_err = (d2m_est-d2m_act)*100.0/d2m_act\n",
    "                    print (\"d2vdm2 {0:>10s} {1:>10s} {2:10.6f} % error, est: {3:15.6e} act: {4:15.6e}\".format( \\\n",
    "                    obj.componentAtIndex_(i).phaseName, obj.componentAtIndex_(j).phaseName, d2m_err, d2m_est, d2m_act))\n",
    "def dvdt(x, dx=dT, n=0):\n",
    "    if dx == dT:\n",
    "        return obj.getDvDtFromMolesOfComponents_andT_andP_(m, x, p)\n",
    "    elif dx == dP:\n",
    "        return obj.getDvDtFromMolesOfComponents_andT_andP_(m, t, x)\n",
    "    elif dx == dm:\n",
    "        if n < 0 or n >= nc:\n",
    "            return 0.0\n",
    "        mold = m[n]\n",
    "        m[n] = x\n",
    "        result = obj.getDvDtFromMolesOfComponents_andT_andP_(m, t, p)\n",
    "        m[n] = mold\n",
    "        return result\n",
    "def dvdp(x, dx=dT, n=0):\n",
    "    if dx == dT:\n",
    "        return obj.getDvDpFromMolesOfComponents_andT_andP_(m, x, p)\n",
    "    elif dx == dP:\n",
    "        return obj.getDvDpFromMolesOfComponents_andT_andP_(m, t, x)\n",
    "    elif dx == dm:\n",
    "        if n < 0 or n >= nc:\n",
    "            return 0.0\n",
    "        mold = m[n]\n",
    "        m[n] = x\n",
    "        result = obj.getDvDpFromMolesOfComponents_andT_andP_(m, t, p)\n",
    "        m[n] = mold\n",
    "        return result\n",
    "def test_dvdt_dt(t,p):\n",
    "    d2vdt2_est = derivative(dvdt, t, args=(dT,), dx=1e-4)\n",
    "    d2vdt2_act = obj.getD2vDt2FromMolesOfComponents_andT_andP_(m, t, p)\n",
    "    d2vdt2_err = (d2vdt2_est-d2vdt2_act)*100.0/d2vdt2_act\n",
    "    print (\"d2VdT2  {0:10.6f} % error, est: {1:15.6e} act: {2:15.6e}\".format(d2vdt2_err, d2vdt2_est, d2vdt2_act))\n",
    "def test_dvdt_dp(t,p):\n",
    "    d2vdtdp_est = derivative(dvdt, p, args=(dP,), dx=1e-4)\n",
    "    d2vdtdp_act = obj.getD2vDtDpFromMolesOfComponents_andT_andP_(m, t, p)\n",
    "    d2vdtdp_err = (d2vdtdp_est-d2vdtdp_act)*100.0/d2vdtdp_act\n",
    "    print (\"d2VdTdP {0:10.6f} % error, est: {1:15.6e} act: {2:15.6e}\".format(d2vdtdp_err, d2vdtdp_est, d2vdtdp_act))\n",
    "\n",
    "def test_dvdp_dt(t,p):\n",
    "    d2vdtdp_est = derivative(dvdp, t, args=(dT,), dx=1e-4)\n",
    "    d2vdtdp_act = obj.getD2vDtDpFromMolesOfComponents_andT_andP_(m, t, p)\n",
    "    d2vdtdp_err = (d2vdtdp_est-d2vdtdp_act)*100.0/d2vdtdp_act\n",
    "    print (\"d2VdTDp {0:10.6f} % error, est: {1:15.6e} act: {2:15.6e}\".format(d2vdtdp_err, d2vdtdp_est, d2vdtdp_act))\n",
    "def test_dvdp_dp(t,p):\n",
    "    d2vdp2_est = derivative(dvdp, p, args=(dP,), dx=1e-4)\n",
    "    d2vdp2_act = obj.getD2vDp2FromMolesOfComponents_andT_andP_(m, t, p)\n",
    "    d2vdp2_err = (d2vdp2_est-d2vdp2_act)*100.0/d2vdp2_act\n",
    "    print (\"d2VdP2  {0:10.6f} % error, est: {1:15.6e} act: {2:15.6e}\".format(d2vdp2_err, d2vdp2_est, d2vdp2_act))\n",
    "def test_d2v_dtdm(t,p):\n",
    "    d2vdmdt = obj.getD2vDmDtFromMolesOfComponents_andT_andP_(m, t, p)\n",
    "    for i in range (0,nc):\n",
    "        if m[i] != 0.0:\n",
    "            dm_est = derivative(dvdt, m[i], args=(dm,i,), dx=1e-4)\n",
    "            dm_act = d2vdmdt.valueAtIndex_(i)\n",
    "            dm_err = (dm_est-dm_act)*100.0/dm_act\n",
    "            print (\"d2vdmdt {0:>10s} {1:10.6f} % error, est: {2:15.6e} act: {3:15.6e}\".format( \\\n",
    "                obj.componentAtIndex_(i).phaseName, dm_err, dm_est, dm_act))\n",
    "def test_d2v_dpdm(t,p):\n",
    "    d2vdmdp = obj.getD2vDmDpFromMolesOfComponents_andT_andP_(m, t, p)\n",
    "    for i in range (0,nc):\n",
    "        if m[i] != 0.0:\n",
    "            dm_est = derivative(dvdp, m[i], args=(dm,i,), dx=1e-4)\n",
    "            dm_act = d2vdmdp.valueAtIndex_(i)\n",
    "            dm_err = (dm_est-dm_act)*100.0/dm_act\n",
    "            print (\"d2vdmdp {0:>10s} {1:10.6f} % error, est: {2:15.6e} act: {3:15.6e}\".format( \\\n",
    "                obj.componentAtIndex_(i).phaseName, dm_err, dm_est, dm_act))"
   ]
  },
  {
   "cell_type": "code",
   "execution_count": null,
   "metadata": {},
   "outputs": [],
   "source": [
    "print(obj.getGibbsFreeEnergyFromMolesOfComponents_andT_andP_(m,t,p))"
   ]
  },
  {
   "cell_type": "code",
   "execution_count": null,
   "metadata": {},
   "outputs": [],
   "source": [
    "test_h(t,p)\n",
    "test_g_dt(t,p)\n",
    "test_s_dt(t,p)\n",
    "test_cp_dt(t,p)\n",
    "test_g_dp(t,p)\n",
    "test_v_dt(t,p)\n",
    "test_v_dp(t,p)\n",
    "test_dvdt_dt(t,p)\n",
    "test_dvdt_dp(t,p)\n",
    "test_dvdp_dt(t,p)\n",
    "test_dvdp_dp(t,p)"
   ]
  },
  {
   "cell_type": "markdown",
   "metadata": {},
   "source": [
    "### Compositional derivatives"
   ]
  },
  {
   "cell_type": "code",
   "execution_count": null,
   "metadata": {},
   "outputs": [],
   "source": [
    "test_dg_dm(t,p)\n",
    "test_ds_dm(t,p)\n",
    "test_dv_dm(t,p)\n",
    "test_dcp_dm(t,p)\n",
    "test_d2v_dtdm(t,p)\n",
    "test_d2v_dpdm(t,p)"
   ]
  },
  {
   "cell_type": "code",
   "execution_count": null,
   "metadata": {},
   "outputs": [],
   "source": [
    "test_d2g_dm2(t,p)"
   ]
  },
  {
   "cell_type": "code",
   "execution_count": null,
   "metadata": {},
   "outputs": [],
   "source": [
    "test_d2s_dm2(t,p)"
   ]
  },
  {
   "cell_type": "code",
   "execution_count": null,
   "metadata": {},
   "outputs": [],
   "source": [
    "test_d2v_dm2(t,p)"
   ]
  },
  {
   "cell_type": "code",
   "execution_count": null,
   "metadata": {},
   "outputs": [],
   "source": [
    "test_a_mu(t,p)"
   ]
  },
  {
   "cell_type": "code",
   "execution_count": null,
   "metadata": {},
   "outputs": [],
   "source": [
    "test_da_dm(t,p)"
   ]
  },
  {
   "cell_type": "markdown",
   "metadata": {},
   "source": [
    "### Check integrity of derivatives for endmember component properties"
   ]
  },
  {
   "cell_type": "code",
   "execution_count": null,
   "metadata": {},
   "outputs": [],
   "source": [
    "for j in range (0, nc):\n",
    "    for i in range (0, nc):\n",
    "        m[i] = 0.000001\n",
    "    m[j] = 1.0\n",
    "    print (j, obj.componentAtIndex_(j).phaseName)\n",
    "    test_h(t,p)\n",
    "    test_g_dt(t,p)\n",
    "    test_s_dt(t,p)\n",
    "    test_cp_dt(t,p)\n",
    "    test_g_dp(t,p)\n",
    "    test_v_dt(t,p)\n",
    "    test_v_dp(t,p)\n",
    "    test_dvdt_dt(t,p)\n",
    "    test_dvdt_dp(t,p)\n",
    "    test_dvdp_dt(t,p)\n",
    "    test_dvdp_dp(t,p)"
   ]
  },
  {
   "cell_type": "code",
   "execution_count": null,
   "metadata": {},
   "outputs": [],
   "source": []
  }
 ],
 "metadata": {
  "anaconda-cloud": {},
  "kernelspec": {
   "display_name": "Python [default]",
   "language": "python",
   "name": "python3"
  },
  "language_info": {
   "codemirror_mode": {
    "name": "ipython",
    "version": 3
   },
   "file_extension": ".py",
   "mimetype": "text/x-python",
   "name": "python",
   "nbconvert_exporter": "python",
   "pygments_lexer": "ipython3",
   "version": "3.6.4"
  }
 },
 "nbformat": 4,
 "nbformat_minor": 2
}
