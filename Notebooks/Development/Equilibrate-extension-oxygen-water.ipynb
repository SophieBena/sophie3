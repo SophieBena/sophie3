{
 "cells": [
  {
   "cell_type": "markdown",
   "metadata": {},
   "source": [
    "# Equilibrate extension\n",
    "Notebook to illustrate the calculation of forcing a silicate liquid to be in equilibrium with specified chemical potentials of oxygen and water, under conditions where neither phase is present in the system"
   ]
  },
  {
   "cell_type": "code",
   "execution_count": null,
   "metadata": {},
   "outputs": [],
   "source": [
    "import matplotlib.pyplot as plt\n",
    "import numpy as np\n",
    "import scipy.optimize as opt\n",
    "import scipy.linalg as lin \n",
    "%matplotlib notebook"
   ]
  },
  {
   "cell_type": "markdown",
   "metadata": {},
   "source": [
    "### Define a function to calculate the Gibbs free energy of oxygen gas"
   ]
  },
  {
   "cell_type": "code",
   "execution_count": null,
   "metadata": {},
   "outputs": [],
   "source": [
    "def gOxygen(t, p):\n",
    "    tr = 298.15\n",
    "    pr = 1.0\n",
    "    hs = 23.10248*(t-tr) + 2.0*804.8876*(np.sqrt(t)-np.sqrt(tr)) \\\n",
    "       - 1762835.0*(1.0/t-1.0/tr) \\\n",
    "       - 18172.91960*np.log(t/tr) + 0.5*0.002676*(t*t-tr*tr)\n",
    "    ss = 205.15 + 23.10248*np.log(t/tr) \\\n",
    "       - 2.0*804.8876*(1.0/np.sqrt(t)-1.0/np.sqrt(tr)) \\\n",
    "       - 0.5*1762835.0*(1.0/(t*t)-1.0/(tr*tr)) \\\n",
    "       + 18172.91960*(1.0/t-1.0/tr) + 0.002676*(t-tr) \n",
    "    vs = 8.3143*t/pr\n",
    "    return hs - t*ss"
   ]
  },
  {
   "cell_type": "markdown",
   "metadata": {},
   "source": [
    "### Get class instances to calculate the properties of silicate liquid from MELTS 1.0.2"
   ]
  },
  {
   "cell_type": "code",
   "execution_count": null,
   "metadata": {},
   "outputs": [],
   "source": [
    "import ctypes\n",
    "from ctypes import cdll\n",
    "from ctypes import util\n",
    "from rubicon.objc import ObjCClass, objc_method\n",
    "cdll.LoadLibrary(util.find_library('phaseobjc'))"
   ]
  },
  {
   "cell_type": "code",
   "execution_count": null,
   "metadata": {},
   "outputs": [],
   "source": [
    "LiquidMelts = ObjCClass('LiquidMelts')\n",
    "liquid = LiquidMelts.alloc().init()\n",
    "WaterMelts = ObjCClass('WaterMelts')\n",
    "water = WaterMelts.alloc().init()"
   ]
  },
  {
   "cell_type": "markdown",
   "metadata": {},
   "source": [
    "### Set number of components in the system and the number of fixed phases"
   ]
  },
  {
   "cell_type": "code",
   "execution_count": null,
   "metadata": {},
   "outputs": [],
   "source": [
    "c = 4\n",
    "f = 2"
   ]
  },
  {
   "cell_type": "markdown",
   "metadata": {},
   "source": [
    "### Choose and initial bulk composition for the silicate liquid \n",
    "The initial composition listed below is calculated for the early erupted Bishop Tuff"
   ]
  },
  {
   "cell_type": "code",
   "execution_count": null,
   "metadata": {},
   "outputs": [],
   "source": [
    "nc = liquid.numberOfSolutionComponents()\n",
    "bc = np.zeros((c,1))\n",
    "nSiO2    = 0.665792\n",
    "nTiO2    = 0.000600\n",
    "nAl2O3   = 0.042436\n",
    "nFe2O3   = 0.000777\n",
    "nFe2SiO4 = 0.001973\n",
    "nMg2SiO4 = 0.000223\n",
    "nCaSiO3  = 0.004596\n",
    "nNa2SiO3 = 0.038493\n",
    "nKAlSiO4 = 0.062105\n",
    "nH2O     = 0.183006\n",
    "nFeTot   = 2.0*nFe2O3 + 2.0*nFe2SiO4\n",
    "def setBulkComposition(nFe2O3in=0.000777, nH2Oin=0.183006):\n",
    "    bc[0] = nSiO2 + nFe2SiO4      # SiO2\n",
    "    bc[1] = nFe2O3in              # Fe2O3\n",
    "    bc[2] = nFeTot - 2.0*nFe2O3in # FeO\n",
    "    bc[3] = nH2Oin                # H2O\n",
    "m = (ctypes.c_double*nc)()\n",
    "ctypes.cast(m, ctypes.POINTER(ctypes.c_double))\n",
    "def setMoles(nFe2O3in=0.000777, nH2Oin=0.183006):\n",
    "    exSiO2 = nFe2SiO4 - (nFeTot - 2.0*nFe2O3in)\n",
    "    nLiq = np.zeros((c,1))\n",
    "    nLiq[0] = nSiO2 + nFe2SiO4 + exSiO2\n",
    "    nLiq[1] = nFe2O3in\n",
    "    nLiq[2] = (nFeTot - 2.0*nFe2O3in)/2.0\n",
    "    nLiq[3] = nH2Oin\n",
    "    m[0] = nLiq[0]  # SiO2\n",
    "    m[1] = 0.0      # TiO2\n",
    "    m[2] = 0.0      # Al2O3\n",
    "    m[3] = nLiq[1]  # Fe2O3\n",
    "    m[4] = 0.0      # Cr2O3\n",
    "    m[5] = nLiq[2]  # Fe2SiO4\n",
    "    m[6] = 0.0      # Mn2SiO4\n",
    "    m[7] = 0.0      # Mg2SiO4\n",
    "    m[8] = 0.0      # NiSi1/2O2\n",
    "    m[9] = 0.0      # CoSi1/2O2\n",
    "    m[10] = 0.0     # CaSiO3\n",
    "    m[11] = 0.0     # Na2SiO3\n",
    "    m[12] = 0.0     # KAlSiO4\n",
    "    m[13] = 0.0     # Ca3(PO4)2\n",
    "    m[14] = nLiq[3] # H2O\n",
    "    return nLiq"
   ]
  },
  {
   "cell_type": "markdown",
   "metadata": {},
   "source": [
    "### Choose a temperature and pressure\n",
    "The thermodynamic properties of O<sub>2</sub> and H<sub>2</sub>O are only functions of temperature and pressure"
   ]
  },
  {
   "cell_type": "code",
   "execution_count": null,
   "metadata": {},
   "outputs": [],
   "source": [
    "t = 1053.15 # K\n",
    "p = 1750.0  # bars\n",
    "mu0O2 = gOxygen(t, p)\n",
    "mu0H2O = water.getGibbsFreeEnergyFromT_andP_(t, p)\n",
    "muO2 = mu0O2 + (-24930.0/t +  9.360)*np.log(10.0)*8.3143*t # NNO\n",
    "muH2O = mu0H2O + np.log(1.0)*8.3143*t                      # activity = 0.5"
   ]
  },
  {
   "cell_type": "markdown",
   "metadata": {},
   "source": [
    "### Find an initial guess that is consistent with the constraints"
   ]
  },
  {
   "cell_type": "code",
   "execution_count": null,
   "metadata": {},
   "outputs": [],
   "source": [
    "def gcon(x):\n",
    "    t0 =  1673.15  # K\n",
    "    a  =  0.196\n",
    "    b  =  1.1492e4 # K\n",
    "    c  = -6.675\n",
    "    e  = -3.364\n",
    "    f  = -7.01e-7  * 1.0e5 # K/bar\n",
    "    g  = -1.54e-10 * 1.0e5 # 1/bar\n",
    "    h =   3.85e-17 * 1.0e5 * 1.0e5 # K/bar^2\n",
    "    temp = b/t + c + e*(1.0-t0/t - np.log(t/t0)) + f*p/t + g*(t-t0)*p/t+ h*p*p/t\n",
    "    mSiO2  = nSiO2 + nFe2SiO4 + nMg2SiO4 + nCaSiO3 + nNa2SiO3 + nKAlSiO4\n",
    "    mTiO2  = nTiO2\n",
    "    mAl2O3 = nAl2O3\n",
    "    mFeTot = nFeTot\n",
    "    mMgO   = 2.0*nMg2SiO4\n",
    "    mCaO   = nCaSiO3\n",
    "    mNa2O  = nNa2SiO3\n",
    "    mK2O   = nKAlSiO4\n",
    "    mH2O   = x[1]\n",
    "    total  = mSiO2 + mTiO2 + mAl2O3 + mFeTot + mMgO + mCaO + mNa2O + mK2O + mH2O\n",
    "    dAl2O3 = -2.243\n",
    "    dFeO   = -1.828\n",
    "    dCaO   =  3.201\n",
    "    dNa2O  =  5.854\n",
    "    dK2O   =  6.215\n",
    "    temp += dAl2O3*mAl2O3/total + dFeO*mFeTot/total + dCaO*mCaO/total + dNa2O*mNa2O/total + dK2O*mK2O/total\n",
    "    mFe2O3 = x[0]\n",
    "    mFeO   = mFeTot - 2.0*mFe2O3\n",
    "    return 8.3143*t*(np.log(mFe2O3/mFeO) - temp)/a + mu0O2\n",
    "def fcon(x):\n",
    "    setMoles(nFe2O3in=x[0], nH2Oin=x[1])\n",
    "    muLiq = liquid.getChemicalPotentialFromMolesOfComponents_andT_andP_(m, t, p)\n",
    "    if useKressCarmichael:\n",
    "        zeroMuO2 = muO2 - gcon(x)\n",
    "        #print (zeroMuO2, muO2)\n",
    "    else:\n",
    "        zeroMuO2 = muO2 + 2.0*muLiq.valueAtIndex_(5) - 2.0*muLiq.valueAtIndex_(0) - 2.0*muLiq.valueAtIndex_(3)\n",
    "    zeroMuH2O = muH2O - muLiq.valueAtIndex_(14)\n",
    "    return (zeroMuO2)**2 + (zeroMuH2O)**2\n",
    "useKressCarmichael = 0\n",
    "result = opt.minimize(fcon,np.array([0.000777, 0.183006]),bounds=((0,nFeTot/2.0),(0,None)))\n",
    "print (result)\n",
    "nLiqFe2O3 = result.x[0]\n",
    "nLiqH2O = result.x[1]\n",
    "setBulkComposition(nFe2O3in=nLiqFe2O3, nH2Oin=nLiqH2O)\n",
    "print (bc)"
   ]
  },
  {
   "cell_type": "markdown",
   "metadata": {},
   "source": [
    "### Set up constraint matrix - matrix is constant\n",
    "$$\n",
    "\\left[ {\\begin{array}{*{20}{c}}\n",
    "{{b_{{\\rm{Si}}{{\\rm{O}}_{\\rm{2}}}}}}\\\\\n",
    "{{b_{{\\rm{F}}{{\\rm{e}}_{\\rm{2}}}{{\\rm{O}}_{\\rm{3}}}}}}\\\\\n",
    "{{b_{{\\rm{FeO}}}}}\\\\\n",
    "{{b_{{{\\rm{H}}_{\\rm{2}}}{\\rm{O}}}}}\n",
    "\\end{array}} \\right] = \\left[ {\\begin{array}{*{20}{c}}\n",
    "1&0&1&0&0&0\\\\\n",
    "0&1&0&0&2&0\\\\\n",
    "0&0&2&0&{ - 4}&0\\\\\n",
    "0&0&0&1&0&1\\\\\n",
    "\\end{array}} \\right]\\left[ {\\begin{array}{*{20}{c}}\n",
    "{n_{{\\rm{Si}}{{\\rm{O}}_2}}^{liq}}\\\\\n",
    "{n_{{\\rm{F}}{{\\rm{e}}_2}{{\\rm{O}}_3}}^{liq}}\\\\\n",
    "{n_{{\\rm{F}}{{\\rm{e}}_2}{\\rm{Si}}{{\\rm{O}}_4}}^{liq}}\\\\\n",
    "{n_{{{\\rm{H}}_2}{\\rm{O}}}^{liq}}\\\\\n",
    "{n_{{{\\rm{O}}_2}}^{sys}}\\\\\n",
    "{n_{{{\\rm{H}}_2}{\\rm{O}}}^{sys}}\n",
    "\\end{array}} \\right]\n",
    "$$"
   ]
  },
  {
   "cell_type": "code",
   "execution_count": null,
   "metadata": {},
   "outputs": [],
   "source": [
    "C = np.array([[1,0,1,0,0,0],[0,1,0,0,2,0],[0,0,2,0,-4,0],[0,0,0,1,0,1]])"
   ]
  },
  {
   "cell_type": "markdown",
   "metadata": {},
   "source": [
    "### ...  and project it into the null space of fixed constraints - yields a constant matrix"
   ]
  },
  {
   "cell_type": "code",
   "execution_count": null,
   "metadata": {},
   "outputs": [],
   "source": [
    "CTf = C[:,c:].transpose()\n",
    "U,S,VT = np.linalg.svd(CTf)\n",
    "rank = np.count_nonzero(S)\n",
    "VTff = VT[rank:,:]\n",
    "Cproj = np.matmul(VTff, C)\n",
    "print (\"Cproj\")\n",
    "for i in range(0,Cproj.shape[0]):\n",
    "    print (\"{0:10.3e} {1:10.3e} {2:10.3e} {3:10.3e} {4:10.3e} {5:10.3e}\".format( \\\n",
    "       Cproj[i][0], Cproj[i][1], Cproj[i][2], Cproj[i][3], Cproj[i][4], Cproj[i][5]))\n",
    "bcproj = np.matmul(VTff, bc)\n",
    "print (\"bcproj\")\n",
    "for i in range(0,bcproj.shape[0]):\n",
    "    print (\"{0:10.3e}\".format(bcproj[i][0]))"
   ]
  },
  {
   "cell_type": "markdown",
   "metadata": {},
   "source": [
    "### Define the Khorzhinski potential function and its gradient\n",
    "$$\n",
    "L = n_{{\\rm{Si}}{{\\rm{O}}_2}}^{liq}\\mu _{{\\rm{Si}}{{\\rm{O}}_2}}^{liq} + n_{{\\rm{F}}{{\\rm{e}}_2}{{\\rm{O}}_3}}^{liq}\\mu _{{\\rm{F}}{{\\rm{e}}_2}{{\\rm{O}}_3}}^{liq} + n_{{\\rm{F}}{{\\rm{e}}_{\\rm{2}}}{\\rm{Si}}{{\\rm{O}}_4}}^{liq}\\mu _{{\\rm{F}}{{\\rm{e}}_{\\rm{2}}}{\\rm{Si}}{{\\rm{O}}_4}}^{liq} + n_{{{\\rm{H}}_2}{\\rm{O}}}^{liq}\\mu _{{{\\rm{H}}_2}{\\rm{O}}}^{liq} - n_{{{\\rm{O}}_2}}^{sys}\\mu _{{{\\rm{O}}_2}}^{sys} - n_{{{\\rm{H}}_2}{\\rm{O}}}^{sys}\\mu _{{{\\rm{H}}_2}{\\rm{O}}}^{sys}\n",
    "$$"
   ]
  },
  {
   "cell_type": "code",
   "execution_count": null,
   "metadata": {},
   "outputs": [],
   "source": [
    "def Khorzhinskii(nFe2O3in=0.000777, nH2Oin=0.183006, t=1053.15, p=1750.0):\n",
    "    setMoles(nFe2O3in, nH2Oin) # fills m array\n",
    "    Gliq = liquid.getGibbsFreeEnergyFromMolesOfComponents_andT_andP_(m,t,p)\n",
    "    result = Gliq - (2.0*m[3]+2.0*m[0]-2.0*m[5])*muO2 - m[14]*muH2O\n",
    "    return result"
   ]
  },
  {
   "cell_type": "markdown",
   "metadata": {},
   "source": [
    "### Define the gradient of the Khorzhinskii potential\n",
    "$$\n",
    "{\\bf{g}} = \\left[ {\\begin{array}{*{20}{c}}\n",
    "{\\mu _{{\\rm{Si}}{{\\rm{O}}_2}}^{liq}}\\\\\n",
    "{\\mu _{{\\rm{F}}{{\\rm{e}}_2}{{\\rm{O}}_3}}^{liq}}\\\\\n",
    "{\\mu _{{\\rm{F}}{{\\rm{e}}_{\\rm{2}}}{\\rm{Si}}{{\\rm{O}}_4}}^{liq}}\\\\\n",
    "{\\mu _{{{\\rm{H}}_2}{\\rm{O}}}^{liq}}\\\\\n",
    "{ - \\mu _{{{\\rm{O}}_2}}^{sys} - n_{{{\\rm{O}}_2}}^{sys}\\frac{{\\partial \\mu _{{{\\rm{O}}_2}}^{sys}}}{{\\partial n_{{{\\rm{O}}_2}}^{sys}}}}\\\\\n",
    "{ - \\mu _{{{\\rm{H}}_2}{\\rm{O}}}^{sys} - n_{{{\\rm{H}}_2}{\\rm{O}}}^{sys}\\frac{{\\partial \\mu _{{{\\rm{H}}_2}{\\rm{O}}}^{sys}}}{{\\partial n_{{{\\rm{H}}_2}{\\rm{O}}}^{sys}}}}\n",
    "\\end{array}} \\right]\n",
    "$$"
   ]
  },
  {
   "cell_type": "code",
   "execution_count": null,
   "metadata": {},
   "outputs": [],
   "source": [
    "def Gradient(nFe2O3in=0.000777, nH2Oin=0.183006, t=1053.15, p=1750.0):\n",
    "    setMoles(nFe2O3in, nH2Oin) # fills m array\n",
    "    dgdm = liquid.getDgDmFromMolesOfComponents_andT_andP_(m, t, p)\n",
    "    result = np.zeros((c+f,1))\n",
    "    result[0] = dgdm.valueAtIndex_(0)\n",
    "    result[1] = dgdm.valueAtIndex_(3)\n",
    "    result[2] = dgdm.valueAtIndex_(5)\n",
    "    result[3] = dgdm.valueAtIndex_(14)\n",
    "    result[4] = -muO2\n",
    "    result[5] = -muH2O\n",
    "    return result"
   ]
  },
  {
   "cell_type": "markdown",
   "metadata": {},
   "source": [
    "### Define a function to compute the \"A\" constraint matrix\n",
    "$$\n",
    "{\\bf{A}} = \\left[ {\\begin{array}{*{20}{c}}\n",
    "0&{\\frac{2}{{\\sqrt 5 }}}&{\\frac{2}{{\\sqrt 5 }}}&0&0&0\\\\\n",
    "1&0&1&0&0&0\\\\\n",
    "{ - \\frac{{\\partial \\mu _{{{\\rm{H}}_{\\rm{2}}}{\\rm{O}}}^{liq}}}{{\\partial n_{{\\rm{Si}}{{\\rm{O}}_2}}^{liq}}}}&{ - \\frac{{\\partial \\mu _{{{\\rm{H}}_{\\rm{2}}}{\\rm{O}}}^{liq}}}{{\\partial n_{{\\rm{F}}{{\\rm{e}}_{\\rm{2}}}{{\\rm{O}}_3}}^{liq}}}}&{ - \\frac{{\\partial \\mu _{{{\\rm{H}}_{\\rm{2}}}{\\rm{O}}}^{liq}}}{{\\partial n_{{\\rm{F}}{{\\rm{e}}_{\\rm{2}}}{\\rm{Si}}{{\\rm{O}}_4}}^{liq}}}}&{ - \\frac{{\\partial \\mu _{{{\\rm{H}}_{\\rm{2}}}{\\rm{O}}}^{liq}}}{{\\partial n_{{{\\rm{H}}_{\\rm{2}}}{\\rm{O}}}^{liq}}}}&0&{\\frac{{\\partial \\mu _{{{\\rm{H}}_{\\rm{2}}}{\\rm{O}}}^{sys}}}{{\\partial n_{{{\\rm{H}}_{\\rm{2}}}{\\rm{O}}}^{sys}}}}\\\\\n",
    "{ - \\frac{{\\partial \\mu _{{{\\rm{O}}_{\\rm{2}}}}^{liq}}}{{\\partial n_{{\\rm{Si}}{{\\rm{O}}_2}}^{liq}}}}&{ - \\frac{{\\partial \\mu _{{{\\rm{O}}_{\\rm{2}}}}^{liq}}}{{\\partial n_{{\\rm{F}}{{\\rm{e}}_{\\rm{2}}}{{\\rm{O}}_3}}^{liq}}}}&{ - \\frac{{\\partial \\mu _{{{\\rm{O}}_{\\rm{2}}}}^{liq}}}{{\\partial n_{{\\rm{F}}{{\\rm{e}}_{\\rm{2}}}{\\rm{Si}}{{\\rm{O}}_4}}^{liq}}}}&{ - \\frac{{\\partial \\mu _{{{\\rm{O}}_{\\rm{2}}}}^{liq}}}{{\\partial n_{{{\\rm{H}}_{\\rm{2}}}{\\rm{O}}}^{liq}}}}&{\\frac{{\\partial \\mu _{{{\\rm{O}}_{\\rm{2}}}}^{sys}}}{{\\partial n_{{{\\rm{O}}_2}}^{sys}}}}&0\\\\\n",
    "{ - 2}&{ - 2}&2&0&1&0\\\\\n",
    "0&0&0&{ - 1}&0&1\n",
    "\\end{array}} \\right]\n",
    "$$\n",
    "$$\n",
    "\\frac{{\\partial \\mu _{{{\\rm{O}}_2}}^{liq}}}{{\\partial n_i^{liq}}} = 2\\frac{{\\partial \\mu _{{\\rm{Si}}{{\\rm{O}}_2}}^{liq}}}{{\\partial n_i^{liq}}} + 2\\frac{{\\partial \\mu _{{\\rm{F}}{{\\rm{e}}_{\\rm{2}}}{{\\rm{O}}_3}}^{liq}}}{{\\partial n_i^{liq}}} - 2\\frac{{\\partial \\mu _{{\\rm{F}}{{\\rm{e}}_{\\rm{2}}}{\\rm{Si}}{{\\rm{O}}_4}}^{liq}}}{{\\partial n_i^{liq}}}\n",
    "$$"
   ]
  },
  {
   "cell_type": "code",
   "execution_count": null,
   "metadata": {},
   "outputs": [],
   "source": [
    "def Amatrix(nFe2O3in=0.000777, nH2Oin=0.183006, t=1053.15, p=1750.0):\n",
    "    setMoles(nFe2O3in, nH2Oin) # fills m array\n",
    "    d2gdm2 = liquid.getD2gDm2FromMolesOfComponents_andT_andP_(m, t, p)\n",
    "    bottom = np.zeros((2*f,c+f))\n",
    "    bottom[0][0] = -d2gdm2.valueAtRowIndex_andColIndex_(14, 0)\n",
    "    bottom[0][1] = -d2gdm2.valueAtRowIndex_andColIndex_(14, 3)\n",
    "    bottom[0][2] = -d2gdm2.valueAtRowIndex_andColIndex_(14, 5)\n",
    "    bottom[0][3] = -d2gdm2.valueAtRowIndex_andColIndex_(14, 14)\n",
    "    bottom[1][0] = -( 2.0*d2gdm2.valueAtRowIndex_andColIndex_(0, 0) \\\n",
    "                     +2.0*d2gdm2.valueAtRowIndex_andColIndex_(3, 0) \\\n",
    "                     -2.0*d2gdm2.valueAtRowIndex_andColIndex_(5, 0))\n",
    "    bottom[1][1] = -( 2.0*d2gdm2.valueAtRowIndex_andColIndex_(0, 3) \\\n",
    "                     +2.0*d2gdm2.valueAtRowIndex_andColIndex_(3, 3) \\\n",
    "                     -2.0*d2gdm2.valueAtRowIndex_andColIndex_(5, 3))\n",
    "    bottom[1][2] = -( 2.0*d2gdm2.valueAtRowIndex_andColIndex_(0, 5) \\\n",
    "                     +2.0*d2gdm2.valueAtRowIndex_andColIndex_(3, 5) \\\n",
    "                     -2.0*d2gdm2.valueAtRowIndex_andColIndex_(5, 5))\n",
    "    bottom[1][3] = -( 2.0*d2gdm2.valueAtRowIndex_andColIndex_(0,14) \\\n",
    "                     +2.0*d2gdm2.valueAtRowIndex_andColIndex_(3,14) \\\n",
    "                     -2.0*d2gdm2.valueAtRowIndex_andColIndex_(5,14))\n",
    "    bottom[2][0] = -2.0\n",
    "    bottom[2][1] = -2.0\n",
    "    bottom[2][2] =  2.0\n",
    "    bottom[2][4] =  1.0\n",
    "    bottom[3][3] = -1.0\n",
    "    bottom[3][5] =  1.0\n",
    "    result = np.vstack((Cproj, bottom))\n",
    "    return result"
   ]
  },
  {
   "cell_type": "markdown",
   "metadata": {},
   "source": [
    "### Define the Lagrangian of the Khorzhimskii function\n",
    "$$\n",
    "\\begin{array}{c}\n",
    "\\Lambda  = n_{{\\rm{Si}}{{\\rm{O}}_2}}^{liq}\\mu _{{\\rm{Si}}{{\\rm{O}}_2}}^{liq} + n_{{\\rm{F}}{{\\rm{e}}_2}{{\\rm{O}}_3}}^{liq}\\mu _{{\\rm{F}}{{\\rm{e}}_2}{{\\rm{O}}_3}}^{liq} + n_{{\\rm{F}}{{\\rm{e}}_{\\rm{2}}}{\\rm{Si}}{{\\rm{O}}_4}}^{liq}\\mu _{{\\rm{F}}{{\\rm{e}}_{\\rm{2}}}{\\rm{Si}}{{\\rm{O}}_4}}^{liq} + n_{{{\\rm{H}}_2}{\\rm{O}}}^{liq}\\mu _{{{\\rm{H}}_2}{\\rm{O}}}^{liq} - n_{{{\\rm{O}}_2}}^{sys}\\mu _{{{\\rm{O}}_2}}^{sys} - n_{{{\\rm{H}}_2}{\\rm{O}}}^{sys}\\mu _{{{\\rm{H}}_2}{\\rm{O}}}^{sys}\\\\\n",
    " - {\\lambda _{{\\rm{F}}{{\\rm{e}}_{Tot}}}}\\left( {\\frac{2}{{\\sqrt 5 }}n_{{\\rm{F}}{{\\rm{e}}_2}{{\\rm{O}}_3}}^{liq} + \\frac{2}{{\\sqrt 5 }}n_{{\\rm{F}}{{\\rm{e}}_2}{\\rm{Si}}{{\\rm{O}}_4}}^{liq} - \\frac{2}{{\\sqrt 5 }}{b_{{\\rm{F}}{{\\rm{e}}_2}{{\\rm{O}}_3}}} - \\frac{1}{{\\sqrt 5 }}n_{{\\rm{FeO}}}^{liq}} \\right) - {\\lambda _{{\\rm{Si}}{{\\rm{O}}_2}}}\\left( {n_{{\\rm{Si}}{{\\rm{O}}_2}}^{liq} - {b_{{\\rm{Si}}{{\\rm{O}}_2}}}} \\right)\\\\\n",
    " - {\\lambda _{{{\\rm{H}}_{\\rm{2}}}{\\rm{O,}}\\mu }}\\left( {\\mu _{{{\\rm{H}}_{\\rm{2}}}{\\rm{O}}}^{sys} - \\mu _{{{\\rm{H}}_{\\rm{2}}}{\\rm{O}}}^{liq}} \\right) - {\\lambda _{{{\\rm{O}}_2},\\mu }}\\left( {\\mu _{{{\\rm{O}}_2}}^{sys} - \\mu _{{{\\rm{O}}_2}}^{liq}} \\right)\\\\\n",
    "- {\\lambda _{{{\\rm{O}}_2},n}}\\left( {n_{{{\\rm{O}}_2}}^{sys} + 2n_{{\\rm{F}}{{\\rm{e}}_{\\rm{2}}}{\\rm{Si}}{{\\rm{O}}_4}}^{liq} - 2n_{{\\rm{F}}{{\\rm{e}}_2}{{\\rm{O}}_3}}^{liq} - 2n_{{\\rm{Si}}{{\\rm{O}}_2}}^{liq}} \\right)  - {\\lambda _{{{\\rm{H}}_{\\rm{2}}}{\\rm{O,}}n}}\\left( {n_{{{\\rm{H}}_2}{\\rm{O}}}^{sys} - n_{{{\\rm{H}}_2}{\\rm{O}}}^{liq}} \\right) \n",
    "\\end{array}\n",
    "$$"
   ]
  },
  {
   "cell_type": "code",
   "execution_count": null,
   "metadata": {},
   "outputs": [],
   "source": [
    "def Lagrangian(nFe2O3in=0.000777, nH2Oin=0.183006, t=1053.15, p=1750.0):\n",
    "    nLiq = setMoles(nFe2O3in, nH2Oin)\n",
    "    nFix = np.empty((f,1))\n",
    "    nFix[0] = 2.0*nLiq[1]+2.0*nLiq[0]-2.0*nLiq[2]\n",
    "    nFix[1] = nLiq[3]\n",
    "    n = np.vstack((nLiq,nFix))\n",
    "    Gliq = liquid.getGibbsFreeEnergyFromMolesOfComponents_andT_andP_(m,t,p)\n",
    "    muLiq = liquid.getChemicalPotentialFromMolesOfComponents_andT_andP_(m, t, p)\n",
    "    result = Gliq - nFix[0]*muO2 - nFix[1]*muH2O\n",
    "    # now add the Lagrange terms\n",
    "    temp = np.matmul(Cproj, n)\n",
    "    temp = np.subtract(temp, bcproj)\n",
    "    result -= (np.dot(temp.transpose(), xLambda[0:2])[0][0])\n",
    "    muLiqSiO2    = muLiq.valueAtIndex_(0)\n",
    "    muLiqFe2O3   = muLiq.valueAtIndex_(3)\n",
    "    muLiqFe2SiO4 = muLiq.valueAtIndex_(5)\n",
    "    muLiqH2O     = muLiq.valueAtIndex_(14)\n",
    "    result -= xLambda[2][0]*(muH2O-muLiqH2O) \n",
    "    result -= xLambda[3][0]*(muO2-(2.0*muLiqFe2O3+2.0*muLiqSiO2-2.0*muLiqFe2SiO4))\n",
    "    result -= xLambda[4][0]*(nFix[0]-(2.0*nLiq[1]+2.0*nLiq[0]-2.0*nLiq[2]))\n",
    "    result -= xLambda[5][0]*(nFix[1]-nLiq[3])\n",
    "    return result"
   ]
  },
  {
   "cell_type": "markdown",
   "metadata": {},
   "source": [
    "### Define the Wronskian of the Lagrangian function"
   ]
  },
  {
   "cell_type": "code",
   "execution_count": null,
   "metadata": {},
   "outputs": [],
   "source": [
    "def Wronskian(nFe2O3in=0.000777, nH2Oin=0.183006, t=1053.15, p=1750.0):\n",
    "    nLiq = setMoles(nFe2O3in, nH2Oin)\n",
    "    w = np.zeros((c+f,c+f))\n",
    "    \n",
    "    d2gdm2 = liquid.getD2gDm2FromMolesOfComponents_andT_andP_(m, t, p)\n",
    "    w[0][0] = d2gdm2.valueAtRowIndex_andColIndex_( 0,  0) # liq SiO2,    SiO2\n",
    "    w[0][1] = d2gdm2.valueAtRowIndex_andColIndex_( 0,  3) # liq SiO2,    Fe2O3\n",
    "    w[0][2] = d2gdm2.valueAtRowIndex_andColIndex_( 0,  5) # liq SiO2,    Fe2SiO4\n",
    "    w[0][3] = d2gdm2.valueAtRowIndex_andColIndex_( 0, 14) # liq SiO2,    H2O\n",
    "    w[1][1] = d2gdm2.valueAtRowIndex_andColIndex_( 3,  3) # liq Fe2O3,   Fe2O3\n",
    "    w[1][2] = d2gdm2.valueAtRowIndex_andColIndex_( 3,  5) # liq Fe2O3,   Fe2SiO4\n",
    "    w[1][3] = d2gdm2.valueAtRowIndex_andColIndex_( 3, 14) # liq Fe2O3,   H2O\n",
    "    w[2][2] = d2gdm2.valueAtRowIndex_andColIndex_( 5,  5) # liq Fe2SiO4, Fe2SiO4\n",
    "    w[2][3] = d2gdm2.valueAtRowIndex_andColIndex_( 5, 14) # liq Fe2SiO4, H2O\n",
    "    w[3][3] = d2gdm2.valueAtRowIndex_andColIndex_(14, 14) # liq H2O,     H2O\n",
    "    \n",
    "    d3gdm3 = liquid.getD3gDm3FromMolesOfComponents_andT_andP_(m, t, p)\n",
    "    w[0][0] += xLambda[2][0]*d3gdm3.valueAtFirstIndex_andSecondIndex_andThirdIndex_(14, 0, 0)\n",
    "    w[0][1] += xLambda[2][0]*d3gdm3.valueAtFirstIndex_andSecondIndex_andThirdIndex_(14, 0, 3)\n",
    "    w[0][2] += xLambda[2][0]*d3gdm3.valueAtFirstIndex_andSecondIndex_andThirdIndex_(14, 0, 5)\n",
    "    w[0][3] += xLambda[2][0]*d3gdm3.valueAtFirstIndex_andSecondIndex_andThirdIndex_(14, 0,14)\n",
    "    w[1][1] += xLambda[2][0]*d3gdm3.valueAtFirstIndex_andSecondIndex_andThirdIndex_(14, 3, 3)\n",
    "    w[1][2] += xLambda[2][0]*d3gdm3.valueAtFirstIndex_andSecondIndex_andThirdIndex_(14, 3, 5)\n",
    "    w[1][3] += xLambda[2][0]*d3gdm3.valueAtFirstIndex_andSecondIndex_andThirdIndex_(14, 3,14)\n",
    "    w[2][2] += xLambda[2][0]*d3gdm3.valueAtFirstIndex_andSecondIndex_andThirdIndex_(14, 5, 5)\n",
    "    w[2][3] += xLambda[2][0]*d3gdm3.valueAtFirstIndex_andSecondIndex_andThirdIndex_(14, 5,14)\n",
    "    w[3][3] += xLambda[2][0]*d3gdm3.valueAtFirstIndex_andSecondIndex_andThirdIndex_(14,14,14)\n",
    "\n",
    "    w[0][0] += 2.0*xLambda[3][0]*d3gdm3.valueAtFirstIndex_andSecondIndex_andThirdIndex_( 0, 0, 0)\n",
    "    w[0][1] += 2.0*xLambda[3][0]*d3gdm3.valueAtFirstIndex_andSecondIndex_andThirdIndex_( 0, 0, 3)\n",
    "    w[0][2] += 2.0*xLambda[3][0]*d3gdm3.valueAtFirstIndex_andSecondIndex_andThirdIndex_( 0, 0, 5)\n",
    "    w[0][3] += 2.0*xLambda[3][0]*d3gdm3.valueAtFirstIndex_andSecondIndex_andThirdIndex_( 0, 0,14)\n",
    "    w[1][1] += 2.0*xLambda[3][0]*d3gdm3.valueAtFirstIndex_andSecondIndex_andThirdIndex_( 0, 3, 3)\n",
    "    w[1][2] += 2.0*xLambda[3][0]*d3gdm3.valueAtFirstIndex_andSecondIndex_andThirdIndex_( 0, 3, 5)\n",
    "    w[1][3] += 2.0*xLambda[3][0]*d3gdm3.valueAtFirstIndex_andSecondIndex_andThirdIndex_( 0, 3,14)\n",
    "    w[2][2] += 2.0*xLambda[3][0]*d3gdm3.valueAtFirstIndex_andSecondIndex_andThirdIndex_( 0, 5, 5)\n",
    "    w[2][3] += 2.0*xLambda[3][0]*d3gdm3.valueAtFirstIndex_andSecondIndex_andThirdIndex_( 0, 5,14)\n",
    "    w[3][3] += 2.0*xLambda[3][0]*d3gdm3.valueAtFirstIndex_andSecondIndex_andThirdIndex_( 0,14,14)\n",
    "\n",
    "    w[0][0] += 2.0*xLambda[3][0]*d3gdm3.valueAtFirstIndex_andSecondIndex_andThirdIndex_( 3, 0, 0)\n",
    "    w[0][1] += 2.0*xLambda[3][0]*d3gdm3.valueAtFirstIndex_andSecondIndex_andThirdIndex_( 3, 0, 3)\n",
    "    w[0][2] += 2.0*xLambda[3][0]*d3gdm3.valueAtFirstIndex_andSecondIndex_andThirdIndex_( 3, 0, 5)\n",
    "    w[0][3] += 2.0*xLambda[3][0]*d3gdm3.valueAtFirstIndex_andSecondIndex_andThirdIndex_( 3, 0,14)\n",
    "    w[1][1] += 2.0*xLambda[3][0]*d3gdm3.valueAtFirstIndex_andSecondIndex_andThirdIndex_( 3, 3, 3)\n",
    "    w[1][2] += 2.0*xLambda[3][0]*d3gdm3.valueAtFirstIndex_andSecondIndex_andThirdIndex_( 3, 3, 5)\n",
    "    w[1][3] += 2.0*xLambda[3][0]*d3gdm3.valueAtFirstIndex_andSecondIndex_andThirdIndex_( 3, 3,14)\n",
    "    w[2][2] += 2.0*xLambda[3][0]*d3gdm3.valueAtFirstIndex_andSecondIndex_andThirdIndex_( 3, 5, 5)\n",
    "    w[2][3] += 2.0*xLambda[3][0]*d3gdm3.valueAtFirstIndex_andSecondIndex_andThirdIndex_( 3, 5,14)\n",
    "    w[3][3] += 2.0*xLambda[3][0]*d3gdm3.valueAtFirstIndex_andSecondIndex_andThirdIndex_( 3,14,14)\n",
    "\n",
    "    w[0][0] -= 2.0*xLambda[3][0]*d3gdm3.valueAtFirstIndex_andSecondIndex_andThirdIndex_( 5, 0, 0)\n",
    "    w[0][1] -= 2.0*xLambda[3][0]*d3gdm3.valueAtFirstIndex_andSecondIndex_andThirdIndex_( 5, 0, 3)\n",
    "    w[0][2] -= 2.0*xLambda[3][0]*d3gdm3.valueAtFirstIndex_andSecondIndex_andThirdIndex_( 5, 0, 5)\n",
    "    w[0][3] -= 2.0*xLambda[3][0]*d3gdm3.valueAtFirstIndex_andSecondIndex_andThirdIndex_( 5, 0,14)\n",
    "    w[1][1] -= 2.0*xLambda[3][0]*d3gdm3.valueAtFirstIndex_andSecondIndex_andThirdIndex_( 5, 3, 3)\n",
    "    w[1][2] -= 2.0*xLambda[3][0]*d3gdm3.valueAtFirstIndex_andSecondIndex_andThirdIndex_( 5, 3, 5)\n",
    "    w[1][3] -= 2.0*xLambda[3][0]*d3gdm3.valueAtFirstIndex_andSecondIndex_andThirdIndex_( 5, 3,14)\n",
    "    w[2][2] -= 2.0*xLambda[3][0]*d3gdm3.valueAtFirstIndex_andSecondIndex_andThirdIndex_( 5, 5, 5)\n",
    "    w[2][3] -= 2.0*xLambda[3][0]*d3gdm3.valueAtFirstIndex_andSecondIndex_andThirdIndex_( 5, 5,14)\n",
    "    w[3][3] -= 2.0*xLambda[3][0]*d3gdm3.valueAtFirstIndex_andSecondIndex_andThirdIndex_( 5,14,14)\n",
    "\n",
    "    for i in range(0,c+f):\n",
    "        for j in range(i+1,c+f):\n",
    "             w[j][i] = w[i][j]\n",
    "    \n",
    "    return w"
   ]
  },
  {
   "cell_type": "markdown",
   "metadata": {},
   "source": [
    "### Form the QR decomposition of A\n",
    "Note that A must be square, so zero filled rows are added \n",
    "$\n",
    "{\\bf{A}} = {\\bf{QR}} = \\left[ {\\begin{array}{*{20}{c}}\n",
    "{{{\\bf{Q}}_1}}&{{{\\bf{Q}}_2}}\n",
    "\\end{array}} \\right]\\left[ {\\begin{array}{*{20}{c}}\n",
    "{{{\\bf{R}}_1}}\\\\\n",
    "{\\bf{0}}\n",
    "\\end{array}} \\right]\n",
    "$\n",
    "and \n",
    "${{\\bf{Q}}_2}^T$ is the matrix ${\\bf{Z}}$"
   ]
  },
  {
   "cell_type": "code",
   "execution_count": null,
   "metadata": {},
   "outputs": [],
   "source": [
    "A = Amatrix(nFe2O3in=nLiqFe2O3, nH2Oin=nLiqH2O)\n",
    "#bottom = np.zeros((f,c+f))\n",
    "#A = np.vstack((A, bottom))\n",
    "#Q,R = lin.qr(A,mode='full')\n",
    "R,Q = lin.rq(A,mode='full')\n",
    "print (\"Q matrix:\")\n",
    "for i in range(0,Q.shape[0]):\n",
    "    if Q.shape[1] == c+f:\n",
    "        print (\"{0:10.3e} {1:10.3e} {2:10.3e} {3:10.3e} {4:10.3e} {5:10.3e}\".format( \\\n",
    "            Q[i][0], Q[i][1], Q[i][2], Q[i][3], Q[i][4], Q[i][5]))\n",
    "    elif Q.shape[1] == c:\n",
    "        print (\"{0:10.3e} {1:10.3e} {2:10.3e} {3:10.3e} {4:10.3e}\".format( \\\n",
    "            Q[i][0], Q[i][1], Q[i][2], Q[i][3], Q[i][4]))\n",
    "print (\"R matrix:\")\n",
    "for i in range(0,R.shape[0]):\n",
    "    if R.shape[1] == c+f:\n",
    "        print (\"{0:10.3e} {1:10.3e} {2:10.3e} {3:10.3e} {4:10.3e} {5:10.3e}\".format( \\\n",
    "            R[i][0], R[i][1], R[i][2], R[i][3], R[i][4], R[i][5]))\n",
    "    elif R.shape[1] == c:\n",
    "        print (\"{0:10.3e} {1:10.3e} {2:10.3e} {3:10.3e} {4:10.3e}\".format( \\\n",
    "            R[i][0], R[i][1], R[i][2], R[i][3], R[i][4]))   \n",
    "print (\"Z matrix\")\n",
    "Z = Q[0:0,:].transpose()\n",
    "for i in range(0,Z.shape[0]):\n",
    "    if Z.shape[1] == f:\n",
    "        print (\"{0:10.3e} {1:10.3e}\".format(Z[i][0], Z[i][1]))"
   ]
  },
  {
   "cell_type": "markdown",
   "metadata": {},
   "source": [
    "### Form the vector of Lagrange multipliers\n",
    "$$\n",
    "{\\bf{g}} = {{\\bf{A}}^T}\\left[ {\\begin{array}{*{20}{c}}\n",
    "{{\\lambda _{{n_1}}}}\\\\\n",
    " \\vdots \\\\\n",
    "{{\\lambda _{{n_{c - f}}}}}\\\\\n",
    "{{\\lambda _{{\\phi _1}}}}\\\\\n",
    " \\vdots \\\\\n",
    "{{\\lambda _{{\\phi _f}}}}\n",
    "\\end{array}} \\right]\n",
    "$$"
   ]
  },
  {
   "cell_type": "code",
   "execution_count": null,
   "metadata": {},
   "outputs": [],
   "source": [
    "print (\"Gradient:\")\n",
    "g = Gradient(nFe2O3in=nLiqFe2O3, nH2Oin=nLiqH2O)\n",
    "for i in range(0,g.shape[0]):\n",
    "    print (\"{0:10.3e}\".format(g[i][0]))\n",
    "print (\"Lambda:\")\n",
    "xLambda = np.linalg.lstsq(A.transpose(),g)[0]\n",
    "for i in range(0,xLambda.shape[0]):\n",
    "    print (\"{0:10.3e}\".format(xLambda[i][0]))"
   ]
  },
  {
   "cell_type": "markdown",
   "metadata": {},
   "source": [
    "### Compute the Wronskian of the Lagrangian"
   ]
  },
  {
   "cell_type": "code",
   "execution_count": null,
   "metadata": {},
   "outputs": [],
   "source": [
    "W = Wronskian(nFe2O3in=nLiqFe2O3, nH2Oin=nLiqH2O)\n",
    "for i in range(0,W.shape[0]):\n",
    "    print (\"{0:10.3e} {1:10.3e} {2:10.3e} {3:10.3e} {4:10.3e} {5:10.3e}\".format( \\\n",
    "        W[i][0], W[i][1], W[i][2], W[i][3], W[i][4], W[i][5]))"
   ]
  },
  {
   "cell_type": "markdown",
   "metadata": {},
   "source": [
    "### Next project the gradient and the Wronskian\n",
    "The search direction ($\\Delta {\\bf{n}}_{_\\phi }^i$) is given by\n",
    "$$\n",
    "{{\\bf{Z}}^T}{\\bf{WZ}}\\Delta {\\bf{n}}_\\phi ^i =  - {{\\bf{Z}}^T}{\\bf{g}}\n",
    "$$\n",
    "and ${\\bf{n}}_\\phi ^{i + 1} = \\Delta {\\bf{n}}_{_\\phi }^i + {\\bf{n}}_\\phi ^i$ gives the quadratic approximation to the minimum, which must be adjusted to maintain the non-linear equality constraints\n",
    "$$\n",
    "{\\bf{\\tilde n}}_\\phi ^{i + 1} = s\\Delta {\\bf{n}}_\\phi ^i + {\\bf{n}}_\\phi ^i + \\Delta {\\bf{n}}_\\phi ^{corr}\n",
    "$$"
   ]
  },
  {
   "cell_type": "code",
   "execution_count": null,
   "metadata": {},
   "outputs": [],
   "source": [
    "ZTg = np.matmul(Z.transpose(),g)\n",
    "ZTWZ = np.matmul(Z.transpose(), np.matmul(W,Z))\n",
    "print(\"Z^T g\")\n",
    "for i in range(0,ZTg.shape[0]):\n",
    "    print (\"{0:10.3e}\".format(ZTg[i][0]))\n",
    "print(\"Z^T W Z\")\n",
    "for i in range(0,ZTWZ.shape[0]):\n",
    "    print (\"{0:10.3e} {1:10.3e}\".format(ZTWZ[i][0], ZTWZ[i][1]))"
   ]
  },
  {
   "cell_type": "markdown",
   "metadata": {},
   "source": [
    "### ... and solve for the correction vector"
   ]
  },
  {
   "cell_type": "code",
   "execution_count": null,
   "metadata": {},
   "outputs": [],
   "source": [
    "x = lin.solve(ZTWZ, ZTg)\n",
    "print (\"Solution in the null space:\")\n",
    "for i in range(0,x.shape[0]):\n",
    "    print (\"{0:10.3e}\".format(x[i][0]))\n",
    "deltan = np.matmul(Z,x)\n",
    "print (\"Inflated Solution:\")\n",
    "for i in range(0,deltan.shape[0]):\n",
    "    print (\"{0:10.3e}\".format(deltan[i][0]))"
   ]
  },
  {
   "cell_type": "markdown",
   "metadata": {},
   "source": [
    "## Final solution\n",
    "The correction vector is zero because the initial guess satisfies all constraints and the number of constraints is equal to the number of unknowns. "
   ]
  },
  {
   "cell_type": "code",
   "execution_count": null,
   "metadata": {},
   "outputs": [],
   "source": [
    "nLiq = setMoles(nFe2O3in=nLiqFe2O3, nH2Oin=nLiqH2O)\n",
    "print (\"n SiO2    liq = {0:8.6f}\".format(nLiq[0][0]+deltan[0][0]))\n",
    "print (\"n Fe2O3   liq = {0:8.6f}\".format(nLiq[1][0]+deltan[1][0]))\n",
    "print (\"n Fe2SiO4 liq = {0:8.6f}\".format(nLiq[2][0]+deltan[2][0]))\n",
    "print (\"n H2O     liq = {0:8.6f}\".format(nLiq[3][0]+deltan[3][0]))"
   ]
  },
  {
   "cell_type": "code",
   "execution_count": null,
   "metadata": {},
   "outputs": [],
   "source": []
  }
 ],
 "metadata": {
  "anaconda-cloud": {},
  "kernelspec": {
   "display_name": "Python 3",
   "language": "python",
   "name": "python3"
  },
  "language_info": {
   "codemirror_mode": {
    "name": "ipython",
    "version": 3
   },
   "file_extension": ".py",
   "mimetype": "text/x-python",
   "name": "python",
   "nbconvert_exporter": "python",
   "pygments_lexer": "ipython3",
   "version": "3.7.0"
  }
 },
 "nbformat": 4,
 "nbformat_minor": 2
}
