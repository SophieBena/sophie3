{
 "cells": [
  {
   "cell_type": "markdown",
   "metadata": {},
   "source": [
    "# Equilibrate extension\n",
    "Notebook to illustrate the calculation of forcing a silicate liquid to be in equilibrium with both quartz, plagioclase and sanidine at a specifed temperature and pressure"
   ]
  },
  {
   "cell_type": "code",
   "execution_count": null,
   "metadata": {},
   "outputs": [],
   "source": [
    "import matplotlib.pyplot as plt\n",
    "import numpy as np\n",
    "import scipy.optimize as opt\n",
    "import scipy.linalg as lin \n",
    "%matplotlib inline"
   ]
  },
  {
   "cell_type": "markdown",
   "metadata": {},
   "source": [
    "### Get class instances to calculate the properties of quartz from Berman (1988)"
   ]
  },
  {
   "cell_type": "code",
   "execution_count": null,
   "metadata": {},
   "outputs": [],
   "source": [
    "from thermoengine import phases"
   ]
  },
  {
   "cell_type": "code",
   "execution_count": null,
   "metadata": {},
   "outputs": [],
   "source": [
    "thermoDB = phases.ThermoDB()\n",
    "quartz = thermoDB.new_phase('Qz')"
   ]
  },
  {
   "cell_type": "markdown",
   "metadata": {},
   "source": [
    "### Get class instances to calculate the properties of silicate liquid and feldspar from MELTS 1.0.2"
   ]
  },
  {
   "cell_type": "code",
   "execution_count": null,
   "metadata": {},
   "outputs": [],
   "source": [
    "import ctypes\n",
    "from ctypes import cdll\n",
    "from ctypes import util\n",
    "from rubicon.objc import ObjCClass, objc_method\n",
    "cdll.LoadLibrary(util.find_library('phaseobjc'))"
   ]
  },
  {
   "cell_type": "code",
   "execution_count": null,
   "metadata": {},
   "outputs": [],
   "source": [
    "LiquidMelts = ObjCClass('LiquidMelts')\n",
    "liquid = LiquidMelts.alloc().init()\n",
    "FeldsparBerman = ObjCClass('FeldsparBerman')\n",
    "plagioclase = FeldsparBerman.alloc().initWithCompositionConstraint_('Plagioclase')\n",
    "sanidine = FeldsparBerman.alloc().initWithCompositionConstraint_('Sanidine')"
   ]
  },
  {
   "cell_type": "markdown",
   "metadata": {},
   "source": [
    "### Set number of components in the system and the number of fixed phases"
   ]
  },
  {
   "cell_type": "code",
   "execution_count": null,
   "metadata": {},
   "outputs": [],
   "source": [
    "c = 5\n",
    "f = 7"
   ]
  },
  {
   "cell_type": "markdown",
   "metadata": {},
   "source": [
    "### The amount of quartz in the system is arbitrary ...\n",
    "so, we fix its amount at a constant value"
   ]
  },
  {
   "cell_type": "code",
   "execution_count": null,
   "metadata": {},
   "outputs": [],
   "source": [
    "nPhaseFix = 1.0"
   ]
  },
  {
   "cell_type": "markdown",
   "metadata": {},
   "source": [
    "### Generate some information about the feldspar solid solution \n",
    "Set initial composition of plagioclase and sanidine just for testing purposes"
   ]
  },
  {
   "cell_type": "code",
   "execution_count": null,
   "metadata": {},
   "outputs": [],
   "source": [
    "ncFeldspar = plagioclase.numberOfSolutionComponents()\n",
    "print ('Feldspar: number of solution components = ', ncFeldspar)\n",
    "mPlag = (ctypes.c_double*ncFeldspar)()\n",
    "ctypes.cast(mPlag, ctypes.POINTER(ctypes.c_double))\n",
    "mAlk = (ctypes.c_double*ncFeldspar)()\n",
    "ctypes.cast(mAlk, ctypes.POINTER(ctypes.c_double))\n",
    "mPlag[0] = 0.8\n",
    "mPlag[1] = 0.1\n",
    "mPlag[2] = 0.1\n",
    "mAlk[0] = 0.3\n",
    "mAlk[1] = 0.1\n",
    "mAlk[2] = 0.6\n",
    "for i in range(0,ncFeldspar):\n",
    "    print ('Component No: {0:1d} is {1:<15.15s} Initial guess for Plag = {2:5.2f} Alk = {3:5.2f}'.format( \\\n",
    "    i, plagioclase.nameOfSolutionSpeciesAtIndex_(i), mPlag[i], mAlk[i]))"
   ]
  },
  {
   "cell_type": "markdown",
   "metadata": {},
   "source": [
    "### Choose an initial bulk composition for the silicate liquid \n",
    "The initial composition listed below is a high-silica rhyolite projected into the system SiO<sub>2</sub>-Al<sub>2</sub>O<sub>3</sub>-CaO-Na<sub>2</sub>O-K<sub>2</sub>O"
   ]
  },
  {
   "cell_type": "code",
   "execution_count": null,
   "metadata": {},
   "outputs": [],
   "source": [
    "nc = liquid.numberOfSolutionComponents()\n",
    "bc = np.zeros((c,1))\n",
    "def setBulkComposition(nSiO2=0.665792, nAl2O3=0.042436, nCaSiO3=0.004596, nNa2SiO3=0.038493, nKAlSiO4=0.062105, \\\n",
    "                       nQz=nPhaseFix, nPlagAb=0.8, nPlagAn=0.1, nPlagSn=0.1, nAlkAb=0.3, nAlkAn=0.1, nAlkSn=0.6):\n",
    "    bc[0] = nSiO2 + nCaSiO3 + nNa2SiO3 + nKAlSiO4 + nQz + 3.0*nPlagAb + 2.0*nPlagAn + 3.0*nPlagSn \\\n",
    "          + 3.0*nAlkAb + 2.0*nAlkAn + 3.0*nAlkSn\n",
    "    bc[1] = nAl2O3 + nKAlSiO4/2.0 + nPlagAb/2.0 + nPlagAn + nPlagSn/2.0 + nAlkAb/2.0 + nAlkAn + nAlkSn/2.0\n",
    "    bc[2] = nCaSiO3 + nPlagAn + nAlkAn\n",
    "    bc[3] = nNa2SiO3 + nPlagAb/2.0 + nAlkAb/2.0\n",
    "    bc[4] = nKAlSiO4/2.0 + nPlagSn/2.0 + nAlkSn/2.0\n",
    "m = (ctypes.c_double*nc)()\n",
    "ctypes.cast(m, ctypes.POINTER(ctypes.c_double))\n",
    "def setMoles(nSiO2=0.665792, nAl2O3=0.042436, nCaSiO3=0.004596, nNa2SiO3=0.038493, nKAlSiO4=0.062105, \\\n",
    "            nPlagAb=0.8, nPlagAn=0.1, nPlagSn=0.1, nAlkAb=0.3, nAlkAn=0.1, nAlkSn=0.6):\n",
    "    nLiq = np.zeros((c,1))\n",
    "    nLiq[0] = nSiO2\n",
    "    nLiq[1] = nAl2O3\n",
    "    nLiq[2] = nCaSiO3\n",
    "    nLiq[3] = nNa2SiO3\n",
    "    nLiq[4] = nKAlSiO4\n",
    "    m[0] = nLiq[0]  # SiO2\n",
    "    m[1] = 0.0      # TiO2\n",
    "    m[2] = nLiq[1]  # Al2O3\n",
    "    m[3] = 0.0      # Fe2O3\n",
    "    m[4] = 0.0      # Cr2O3\n",
    "    m[5] = 0.0      # Fe2SiO4\n",
    "    m[6] = 0.0      # Mn2SiO4\n",
    "    m[7] = 0.0      # Mg2SiO4\n",
    "    m[8] = 0.0      # NiSi1/2O2\n",
    "    m[9] = 0.0      # CoSi1/2O2\n",
    "    m[10] = nLiq[2] # CaSiO3\n",
    "    m[11] = nLiq[3] # Na2SiO3\n",
    "    m[12] = nLiq[4] # KAlSiO4\n",
    "    m[13] = 0.0     # Ca3(PO4)2\n",
    "    m[14] = 0.0     # H2O\n",
    "    mPlag[0] = nPlagAb\n",
    "    mPlag[1] = nPlagAn\n",
    "    mPlag[2] = nPlagSn\n",
    "    mAlk[0]  = nAlkAb\n",
    "    mAlk[1]  = nAlkAn\n",
    "    mAlk[2]  = nAlkSn\n",
    "    return nLiq"
   ]
  },
  {
   "cell_type": "markdown",
   "metadata": {},
   "source": [
    "### Choose a temperature and pressure\n",
    "The thermodynamic properties of quartz are only functions of temperature and pressure"
   ]
  },
  {
   "cell_type": "code",
   "execution_count": null,
   "metadata": {},
   "outputs": [],
   "source": [
    "t = 755.0 + 273.15 # K\n",
    "p = 1750.0 # bars\n",
    "mu0Qz = quartz.get_gibbs_energy(t, p)[0]"
   ]
  },
  {
   "cell_type": "markdown",
   "metadata": {},
   "source": [
    "### Find an initial guess that is consistent with the constraints\n",
    "Use the scipy optimization function minimize to solve the non-linear system of chemical potential equalities subject to bound constraints"
   ]
  },
  {
   "cell_type": "code",
   "execution_count": null,
   "metadata": {},
   "outputs": [],
   "source": [
    "def fcon(x):\n",
    "    setMoles(nSiO2=x[0], nAl2O3=x[1], nCaSiO3=x[2], nNa2SiO3=x[3], nKAlSiO4=x[4], \\\n",
    "            nPlagAb=x[5], nPlagAn=x[6], nPlagSn=x[7], nAlkAb=x[8], nAlkAn=x[9], nAlkSn=x[10])\n",
    "    muLiq = liquid.getChemicalPotentialFromMolesOfComponents_andT_andP_(m, t, p)\n",
    "    result = (mu0Qz-muLiq.valueAtIndex_(0))**2\n",
    "    omegaAb = 5.0*muLiq.valueAtIndex_(0)/2.0 + muLiq.valueAtIndex_(2)/2.0 + muLiq.valueAtIndex_(11)/2.0\n",
    "    omegaAn = muLiq.valueAtIndex_(0) + muLiq.valueAtIndex_(2) + muLiq.valueAtIndex_(10)\n",
    "    omegaSn = 2.0*muLiq.valueAtIndex_(0) + muLiq.valueAtIndex_(12)\n",
    "    muPlag = plagioclase.getChemicalPotentialFromMolesOfComponents_andT_andP_(mPlag, t, p)\n",
    "    result += (muPlag.valueAtIndex_(0) - omegaAb)**2\n",
    "    result += (muPlag.valueAtIndex_(1) - omegaAn)**2\n",
    "    result += (muPlag.valueAtIndex_(2) - omegaSn)**2\n",
    "    muAlk = sanidine.getChemicalPotentialFromMolesOfComponents_andT_andP_(mAlk, t, p)\n",
    "    result += (muAlk.valueAtIndex_(0) - omegaAb)**2\n",
    "    result += (muAlk.valueAtIndex_(1) - omegaAn)**2\n",
    "    result += (muAlk.valueAtIndex_(2) - omegaSn)**2\n",
    "    return result\n",
    "result = opt.minimize(fcon,np.array([0.665792, 0.042436, 0.004596, 0.038493, 0.062105, 0.8, 0.1, 0.1, 0.3, 0.1, 0.6]), \\\n",
    "                      bounds=((0,None), (0,None), (0,None), (0,None), (0,None), (0,None), \\\n",
    "                              (0,None), (0,None), (0,None), (0,None), (0,None)))\n",
    "print (result)\n",
    "nLiqSiO2 = result.x[0]\n",
    "nLiqAl2O3 = result.x[1]\n",
    "nLiqCaSiO3 = result.x[2]\n",
    "nLiqNa2SiO3 = result.x[3]\n",
    "nLiqKAlSiO4 = result.x[4]\n",
    "nPlagAb = result.x[5]\n",
    "nPlagAn = result.x[6]\n",
    "nPlagSn = result.x[7]\n",
    "nAlkAb = result.x[8]\n",
    "nAlkAn = result.x[9]\n",
    "nAlkSn = result.x[10]\n",
    "nQz = nPhaseFix\n",
    "setBulkComposition(nSiO2=nLiqSiO2, nAl2O3=nLiqAl2O3, nCaSiO3=nLiqCaSiO3, nNa2SiO3=nLiqNa2SiO3, \\\n",
    "                   nKAlSiO4=nLiqKAlSiO4, nQz=nQz, nPlagAb=nPlagAb, nPlagAn=nPlagAn, nPlagSn=nPlagSn, \\\n",
    "                   nAlkAb=nAlkAb, nAlkAn=nAlkAn, nAlkSn=nAlkSn)\n",
    "print ('{0:<10.10s} {1:10.8f} moles'.format('SiO2', bc[0][0]))\n",
    "print ('{0:<10.10s} {1:10.8f} moles'.format('Al2O3', bc[1][0]))\n",
    "print ('{0:<10.10s} {1:10.8f} moles'.format('CaO', bc[2][0]))\n",
    "print ('{0:<10.10s} {1:10.8f} moles'.format('Na2O', bc[3][0]))\n",
    "print ('{0:<10.10s} {1:10.8f} moles'.format('K2O', bc[4][0]))\n",
    "print ('Residuals:')\n",
    "muLiq = liquid.getChemicalPotentialFromMolesOfComponents_andT_andP_(m, t, p)\n",
    "print('{0:<10.10s} {1:13.6e} J'.format('Qz mu', mu0Qz-muLiq.valueAtIndex_(0)))\n",
    "omegaAb = 5.0*muLiq.valueAtIndex_(0)/2.0 + muLiq.valueAtIndex_(2)/2.0 + muLiq.valueAtIndex_(11)/2.0\n",
    "omegaAn = muLiq.valueAtIndex_(0) + muLiq.valueAtIndex_(2) + muLiq.valueAtIndex_(10)\n",
    "omegaSn = 2.0*muLiq.valueAtIndex_(0) + muLiq.valueAtIndex_(12)\n",
    "muPlag = plagioclase.getChemicalPotentialFromMolesOfComponents_andT_andP_(mPlag, t, p)\n",
    "print('{0:<10.10s} {1:13.6e} J'.format('Plag Ab mu', muPlag.valueAtIndex_(0) - omegaAb))\n",
    "print('{0:<10.10s} {1:13.6e} J'.format('Plag An mu', muPlag.valueAtIndex_(1) - omegaAn))\n",
    "print('{0:<10.10s} {1:13.6e} J'.format('Plag Sn mu', muPlag.valueAtIndex_(2) - omegaSn))\n",
    "muAlk = sanidine.getChemicalPotentialFromMolesOfComponents_andT_andP_(mAlk, t, p)\n",
    "print('{0:<10.10s} {1:13.6e} J'.format('Alk Ab mu', muAlk.valueAtIndex_(0) - omegaAb))\n",
    "print('{0:<10.10s} {1:13.6e} J'.format('Alk An mu', muAlk.valueAtIndex_(1) - omegaAn))\n",
    "print('{0:<10.10s} {1:13.6e} J'.format('Alk Sn mu', muAlk.valueAtIndex_(2) - omegaSn))"
   ]
  },
  {
   "cell_type": "markdown",
   "metadata": {},
   "source": [
    "# Set up bulk composition constraint matrix - matrix is constant\n",
    "$$\n",
    "\\left[ {\\begin{array}{*{20}{c}}\n",
    "{{b_{{\\rm{Si}}{{\\rm{O}}_2}}}}\\\\\n",
    "{{b_{{\\rm{A}}{{\\rm{l}}_2}{{\\rm{O}}_3}}}}\\\\\n",
    "{{b_{{\\rm{CaO}}}}}\\\\\n",
    "{{b_{{\\rm{N}}{{\\rm{a}}_2}{\\rm{O}}}}}\\\\\n",
    "{{b_{{{\\rm{K}}_2}{\\rm{O}}}}}\n",
    "\\end{array}} \\right] = \\left[ {\\begin{array}{*{20}{c}}\n",
    "1&0&1&1&1&1&3&2&3&3&2&3\\\\\n",
    "0&1&0&0&{\\frac{1}{2}}&0&{\\frac{1}{2}}&1&{\\frac{1}{2}}&{\\frac{1}{2}}&1&{\\frac{1}{2}}\\\\\n",
    "0&0&1&0&0&0&0&1&0&0&1&0\\\\\n",
    "0&0&0&1&0&0&{\\frac{1}{2}}&0&0&{\\frac{1}{2}}&0&0\\\\\n",
    "0&0&0&0&{\\frac{1}{2}}&0&0&0&{\\frac{1}{2}}&0&0&{\\frac{1}{2}}\n",
    "\\end{array}} \\right]\\left[ {\\begin{array}{*{20}{c}}\n",
    "{n_{{\\rm{Si}}{{\\rm{O}}_2}}^{liq}}\\\\\n",
    "{n_{{\\rm{A}}{{\\rm{l}}_2}{{\\rm{O}}_3}}^{liq}}\\\\\n",
    "{n_{{\\rm{CaSi}}{{\\rm{O}}_3}}^{liq}}\\\\\n",
    "{n_{{\\rm{N}}{{\\rm{a}}_2}{\\rm{Si}}{{\\rm{O}}_3}}^{liq}}\\\\\n",
    "{n_{{\\rm{KAlSi}}{{\\rm{O}}_4}}^{liq}}\\\\\n",
    "{{n_{Qz}}}\\\\\n",
    "{n_{Ab}^{plag}}\\\\\n",
    "{n_{An}^{plag}}\\\\\n",
    "{n_{Sn}^{plag}}\\\\\n",
    "{n_{Ab}^{alk}}\\\\\n",
    "{n_{An}^{alk}}\\\\\n",
    "{n_{Sn}^{alk}}\n",
    "\\end{array}} \\right]\n",
    "$$"
   ]
  },
  {
   "cell_type": "code",
   "execution_count": null,
   "metadata": {},
   "outputs": [],
   "source": [
    "C = np.array([[1,0,1,1,1,1,3,2,3,3,2,3],[0,1,0,0,0.5,0,0.5,1,0.5,0.5,1,0.5],[0,0,1,0,0,0,0,1,0,0,1,0],\\\n",
    "              [0,0,0,1,0,0,0.5,0,0,0.5,0,0],[0,0,0,0,0.5,0,0,0,0.5,0,0,0.5]])"
   ]
  },
  {
   "cell_type": "markdown",
   "metadata": {},
   "source": [
    "### ...  and project it into the null space of fixed constraints - yields a constant matrix"
   ]
  },
  {
   "cell_type": "code",
   "execution_count": null,
   "metadata": {},
   "outputs": [],
   "source": [
    "eps = np.finfo(float).eps\n",
    "CTf = C[:,c:].transpose()\n",
    "U,S,VT = np.linalg.svd(CTf)\n",
    "rank = 0\n",
    "for i in range(0,c):\n",
    "    if S[i] > 10.0*eps:\n",
    "        rank +=1\n",
    "print ('CTf rank: ',rank)\n",
    "VTff = VT[rank:,:]\n",
    "Cproj = np.matmul(VTff, C)\n",
    "for i in range(0,Cproj.shape[0]):\n",
    "    for j in range(0,Cproj.shape[1]):\n",
    "        if abs(Cproj[i][j]) < 10.0*eps:\n",
    "            Cproj[i][j] = 0.0\n",
    "print ('Cproj:')\n",
    "print (Cproj)\n",
    "bcproj = np.matmul(VTff, bc)\n",
    "print ('bcproj')\n",
    "print (bcproj)"
   ]
  },
  {
   "cell_type": "markdown",
   "metadata": {},
   "source": [
    "### Define the Khorzhinski potential function\n",
    "$$\n",
    "\\begin{array}{c}\n",
    "L = {G^{liq}}\\left( {n_{{\\rm{Si}}{{\\rm{O}}_2}}^{liq},n_{{\\rm{A}}{{\\rm{l}}_2}{{\\rm{O}}_3}}^{liq},n_{{\\rm{CaSi}}{{\\rm{O}}_3}}^{liq},n_{{\\rm{N}}{{\\rm{a}}_{\\rm{2}}}{\\rm{Si}}{{\\rm{O}}_3}}^{liq},n_{{\\rm{KAlSi}}{{\\rm{O}}_4}}^{liq}} \\right) + {n_{Qz}}\\mu _{Qz}^o + {G^{plag}}\\left( {n_{Ab}^{plag},n_{An}^{plag},n_{Sn}^{plag}} \\right) + {G^{alk}}\\left( {n_{Ab}^{alk},n_{An}^{alk},n_{Sn}^{alk}} \\right)\\\\\n",
    " { - {n_{Qz}}\\mu _{{\\rm{Si}}{{\\rm{O}}_2}}^{liq} - \\left( {n_{Ab}^{plag} + n_{Ab}^{alk}} \\right)\\Omega _{Ab}^{liq} - \\left( {n_{An}^{plag} + n_{An}^{alk}} \\right)\\Omega _{An}^{liq} - \\left( {n_{Sn}^{plag} + n_{Sn}^{alk}} \\right)\\Omega _{Sn}^{liq}}\n",
    "\\end{array}\n",
    "$$\n",
    "where\n",
    "$$\n",
    "\\begin{array}{l}\n",
    "\\Omega _{Ab}^{liq} = \\frac{5}{2}\\mu _{{\\rm{Si}}{{\\rm{O}}_2}}^{liq} + \\frac{1}{2}\\mu _{{\\rm{A}}{{\\rm{l}}_2}{{\\rm{O}}_3}}^{liq} + \\frac{1}{2}\\mu _{{\\rm{N}}{{\\rm{a}}_{\\rm{2}}}{\\rm{Si}}{{\\rm{O}}_3}}^{liq}\\\\\n",
    "\\Omega _{An}^{liq} = \\mu _{{\\rm{Si}}{{\\rm{O}}_2}}^{liq} + \\mu _{{\\rm{A}}{{\\rm{l}}_2}{{\\rm{O}}_3}}^{liq} + \\frac{1}{2}\\mu _{{\\rm{CaSi}}{{\\rm{O}}_3}}^{liq}\\\\\n",
    "\\Omega _{Sn}^{liq} = 2\\mu _{{\\rm{Si}}{{\\rm{O}}_2}}^{liq} + \\mu _{{\\rm{KAlSi}}{{\\rm{O}}_4}}^{liq}\n",
    "\\end{array}\n",
    "$$"
   ]
  },
  {
   "cell_type": "code",
   "execution_count": null,
   "metadata": {},
   "outputs": [],
   "source": [
    "def Khorzhinskii(nLiqSiO2, nLiqAl2O3, nLiqCaSiO3, nLiqNa2SiO3, nLiqKAlSiO4, \\\n",
    "                 nQz, nPlagAb, nPlagAn, nPlagSn, nAlkAb, nAlkAn, nAlkSn, t=1100.0, p=1750.0):\n",
    "    setMoles(nLiqSiO2, nLiqAl2O3, nLiqCaSiO3, nLiqNa2SiO3, nLiqKAlSiO4, \\\n",
    "             nPlagAb, nPlagAn, nPlagSn, nAlkAb, nAlkAn, nAlkSn)\n",
    "    Gliq = liquid.getGibbsFreeEnergyFromMolesOfComponents_andT_andP_(m,t,p)\n",
    "    GPlag = plagioclase.getGibbsFreeEnergyFromMolesOfComponents_andT_andP_(mPlag,t,p)\n",
    "    GAlk = sanidine.getGibbsFreeEnergyFromMolesOfComponents_andT_andP_(mAlk,t,p)\n",
    "    muLiq = liquid.getChemicalPotentialFromMolesOfComponents_andT_andP_(m, t, p)\n",
    "    omegaAb = 5.0*muLiq.valueAtIndex_(0)/2.0 + muLiq.valueAtIndex_(2)/2.0 + muLiq.valueAtIndex_(11)/2.0\n",
    "    omegaAn = muLiq.valueAtIndex_(0) + muLiq.valueAtIndex_(2) + muLiq.valueAtIndex_(10)\n",
    "    omegaSn = 2.0*muLiq.valueAtIndex_(0) + muLiq.valueAtIndex_(12)\n",
    "    result = Gliq + nQz*(mu0Qz-muLiq.valueAtIndex_(0)) + GPlag + GAlk\n",
    "    result += - (nPlagAb+nAlkAb)*omegaAb - (nPlagAn+nAlkAn)*omegaAn - (nPlagSn+nAlkSn)*omegaSn\n",
    "    return result"
   ]
  },
  {
   "cell_type": "markdown",
   "metadata": {},
   "source": [
    "### Define the gradient of the Khorzhinskii potential\n",
    "$$\n",
    "{\\bf{g}} = \\left[ {\\begin{array}{*{20}{c}}\n",
    "{\\mu _{{\\rm{Si}}{{\\rm{O}}_2}}^{liq} - {n_{Qz}}\\frac{{\\partial \\mu _{{\\rm{Si}}{{\\rm{O}}_2}}^{liq}}}{{\\partial n_{{\\rm{Si}}{{\\rm{O}}_2}}^{liq}}} - \\left( {n_{Ab}^{plag} + n_{Ab}^{alk}} \\right)\\frac{{\\partial \\Omega _{Ab}^{liq}}}{{\\partial n_{{\\rm{Si}}{{\\rm{O}}_2}}^{liq}}} - \\left( {n_{An}^{plag} + n_{An}^{alk}} \\right)\\frac{{\\partial \\Omega _{An}^{liq}}}{{\\partial n_{{\\rm{Si}}{{\\rm{O}}_2}}^{liq}}} - \\left( {n_{Sn}^{plag} + n_{Sn}^{alk}} \\right)\\frac{{\\partial \\Omega _{Sn}^{liq}}}{{\\partial n_{{\\rm{Si}}{{\\rm{O}}_2}}^{liq}}}}\\\\\n",
    "{\\mu _{{\\rm{A}}{{\\rm{l}}_2}{{\\rm{O}}_3}}^{liq} - {n_{Qz}}\\frac{{\\partial \\mu _{{\\rm{Si}}{{\\rm{O}}_2}}^{liq}}}{{\\partial n_{{\\rm{A}}{{\\rm{l}}_2}{{\\rm{O}}_3}}^{liq}}} - \\left( {n_{Ab}^{plag} + n_{Ab}^{alk}} \\right)\\frac{{\\partial \\Omega _{Ab}^{liq}}}{{\\partial n_{{\\rm{A}}{{\\rm{l}}_2}{{\\rm{O}}_3}}^{liq}}} - \\left( {n_{An}^{plag} + n_{An}^{alk}} \\right)\\frac{{\\partial \\Omega _{An}^{liq}}}{{\\partial n_{{\\rm{A}}{{\\rm{l}}_2}{{\\rm{O}}_3}}^{liq}}} - \\left( {n_{Sn}^{plag} + n_{Sn}^{alk}} \\right)\\frac{{\\partial \\Omega _{Sn}^{liq}}}{{\\partial n_{{\\rm{A}}{{\\rm{l}}_2}{{\\rm{O}}_3}}^{liq}}}}\\\\\n",
    "{\\mu _{{\\rm{CaSi}}{{\\rm{O}}_3}}^{liq} - {n_{Qz}}\\frac{{\\partial \\mu _{{\\rm{Si}}{{\\rm{O}}_2}}^{liq}}}{{\\partial n_{{\\rm{CaSi}}{{\\rm{O}}_3}}^{liq}}} - \\left( {n_{Ab}^{plag} + n_{Ab}^{alk}} \\right)\\frac{{\\partial \\Omega _{Ab}^{liq}}}{{\\partial n_{{\\rm{CaSi}}{{\\rm{O}}_3}}^{liq}}} - \\left( {n_{An}^{plag} + n_{An}^{alk}} \\right)\\frac{{\\partial \\Omega _{An}^{liq}}}{{\\partial n_{{\\rm{CaSi}}{{\\rm{O}}_3}}^{liq}}} - \\left( {n_{Sn}^{plag} + n_{Sn}^{alk}} \\right)\\frac{{\\partial \\Omega _{Sn}^{liq}}}{{\\partial n_{{\\rm{CaSi}}{{\\rm{O}}_3}}^{liq}}}}\\\\\n",
    "{\\mu _{{\\rm{N}}{{\\rm{a}}_2}{\\rm{Si}}{{\\rm{O}}_3}}^{liq} - {n_{Qz}}\\frac{{\\partial \\mu _{{\\rm{Si}}{{\\rm{O}}_2}}^{liq}}}{{\\partial n_{{\\rm{N}}{{\\rm{a}}_2}{\\rm{Si}}{{\\rm{O}}_3}}^{liq}}} - \\left( {n_{Ab}^{plag} + n_{Ab}^{alk}} \\right)\\frac{{\\partial \\Omega _{Ab}^{liq}}}{{\\partial n_{{\\rm{N}}{{\\rm{a}}_2}{\\rm{Si}}{{\\rm{O}}_3}}^{liq}}} - \\left( {n_{An}^{plag} + n_{An}^{alk}} \\right)\\frac{{\\partial \\Omega _{An}^{liq}}}{{\\partial n_{{\\rm{N}}{{\\rm{a}}_2}{\\rm{Si}}{{\\rm{O}}_3}}^{liq}}} - \\left( {n_{Sn}^{plag} + n_{Sn}^{alk}} \\right)\\frac{{\\partial \\Omega _{Sn}^{liq}}}{{\\partial n_{{\\rm{N}}{{\\rm{a}}_2}{\\rm{Si}}{{\\rm{O}}_3}}^{liq}}}}\\\\\n",
    "{\\mu _{{\\rm{KAlSi}}{{\\rm{O}}_4}}^{liq} - {n_{Qz}}\\frac{{\\partial \\mu _{{\\rm{Si}}{{\\rm{O}}_2}}^{liq}}}{{\\partial n_{{\\rm{KAlSi}}{{\\rm{O}}_4}}^{liq}}} - \\left( {n_{Ab}^{plag} + n_{Ab}^{alk}} \\right)\\frac{{\\partial \\Omega _{Ab}^{liq}}}{{\\partial n_{{\\rm{KAlSi}}{{\\rm{O}}_4}}^{liq}}} - \\left( {n_{An}^{plag} + n_{An}^{alk}} \\right)\\frac{{\\partial \\Omega _{An}^{liq}}}{{\\partial n_{{\\rm{KAlSi}}{{\\rm{O}}_4}}^{liq}}} - \\left( {n_{Sn}^{plag} + n_{Sn}^{alk}} \\right)\\frac{{\\partial \\Omega _{Sn}^{liq}}}{{\\partial n_{{\\rm{KAlSi}}{{\\rm{O}}_4}}^{liq}}}}\\\\\n",
    "{\\mu _{Qz}^o - \\mu _{{\\rm{Si}}{{\\rm{O}}_2}}^{liq}}\\\\\n",
    "{\\mu _{Ab}^{plag} - \\Omega _{Ab}^{liq}}\\\\\n",
    "{\\mu _{An}^{plag} - \\Omega _{An}^{liq}}\\\\\n",
    "{\\mu _{Sn}^{plag} - \\Omega _{Sn}^{liq}}\\\\\n",
    "{\\mu _{Ab}^{alk} - \\Omega _{Ab}^{liq}}\\\\\n",
    "{\\mu _{An}^{alk} - \\Omega _{An}^{liq}}\\\\\n",
    "{\\mu _{Sn}^{alk} - \\Omega _{Sn}^{liq}}\n",
    "\\end{array}} \\right]\n",
    "$$"
   ]
  },
  {
   "cell_type": "code",
   "execution_count": null,
   "metadata": {},
   "outputs": [],
   "source": [
    "def Gradient(nLiqSiO2, nLiqAl2O3, nLiqCaSiO3, nLiqNa2SiO3, nLiqKAlSiO4, \\\n",
    "            nQz, nPlagAb, nPlagAn, nPlagSn, nAlkAb, nAlkAn, nAlkSn, t=1100.0, p=1750.0):\n",
    "    setMoles(nLiqSiO2, nLiqAl2O3, nLiqCaSiO3, nLiqNa2SiO3, nLiqKAlSiO4, \\\n",
    "             nPlagAb, nPlagAn, nPlagSn, nAlkAb, nAlkAn, nAlkSn)\n",
    "    dgdm = liquid.getDgDmFromMolesOfComponents_andT_andP_(m, t, p)\n",
    "    muLiq = liquid.getChemicalPotentialFromMolesOfComponents_andT_andP_(m, t, p)\n",
    "    omegaAb = 5.0*muLiq.valueAtIndex_(0)/2.0 + muLiq.valueAtIndex_(2)/2.0 + muLiq.valueAtIndex_(11)/2.0\n",
    "    omegaAn = muLiq.valueAtIndex_(0) + muLiq.valueAtIndex_(2) + muLiq.valueAtIndex_(10)\n",
    "    omegaSn = 2.0*muLiq.valueAtIndex_(0) + muLiq.valueAtIndex_(12)\n",
    "    d2gdm2 = liquid.getD2gDm2FromMolesOfComponents_andT_andP_(m, t, p)\n",
    "    \n",
    "    DomegaAb = lambda i: 5.0*d2gdm2.valueAtRowIndex_andColIndex_(0, i)/2.0 \\\n",
    "                           + d2gdm2.valueAtRowIndex_andColIndex_(2, i)/2.0 \\\n",
    "                           + d2gdm2.valueAtRowIndex_andColIndex_(11, i)/2.0\n",
    "    DomegaAn = lambda i: d2gdm2.valueAtRowIndex_andColIndex_(0, i) \\\n",
    "                       + d2gdm2.valueAtRowIndex_andColIndex_(2, i) \\\n",
    "                       + d2gdm2.valueAtRowIndex_andColIndex_(10, i)\n",
    "    DomegaSn = lambda i: 2.0*d2gdm2.valueAtRowIndex_andColIndex_(0, i) + d2gdm2.valueAtRowIndex_andColIndex_(12, i)\n",
    "    \n",
    "    muPlag = plagioclase.getChemicalPotentialFromMolesOfComponents_andT_andP_(mPlag, t, p)\n",
    "    muAlk = sanidine.getChemicalPotentialFromMolesOfComponents_andT_andP_(mAlk, t, p)\n",
    "\n",
    "    result = np.zeros((c+f,1))\n",
    "    result[0] = dgdm.valueAtIndex_(0) - nQz*d2gdm2.valueAtRowIndex_andColIndex_(0, 0) \\\n",
    "                                      - (nPlagAb+nAlkAb)*DomegaAb(0) \\\n",
    "                                      - (nPlagAn+nAlkAn)*DomegaAn(0) \\\n",
    "                                      - (nPlagSn+nAlkSn)*DomegaSn(0)\n",
    "    result[1] = dgdm.valueAtIndex_(2) - nQz*d2gdm2.valueAtRowIndex_andColIndex_(0, 2) \\\n",
    "                                      - (nPlagAb+nAlkAb)*DomegaAb(2) \\\n",
    "                                      - (nPlagAn+nAlkAn)*DomegaAn(2) \\\n",
    "                                      - (nPlagSn+nAlkSn)*DomegaSn(2)\n",
    "    result[2] = dgdm.valueAtIndex_(10) - nQz*d2gdm2.valueAtRowIndex_andColIndex_(0, 10) \\\n",
    "                                       - (nPlagAb+nAlkAb)*DomegaAb(10) \\\n",
    "                                       - (nPlagAn+nAlkAn)*DomegaAn(10) \\\n",
    "                                       - (nPlagSn+nAlkSn)*DomegaSn(10)\n",
    "    result[3] = dgdm.valueAtIndex_(11) - nQz*d2gdm2.valueAtRowIndex_andColIndex_(0, 11) \\\n",
    "                                       - (nPlagAb+nAlkAb)*DomegaAb(11) \\\n",
    "                                       - (nPlagAn+nAlkAn)*DomegaAn(11) \\\n",
    "                                       - (nPlagSn+nAlkSn)*DomegaSn(11)\n",
    "    result[4] = dgdm.valueAtIndex_(12) - nQz*d2gdm2.valueAtRowIndex_andColIndex_(0, 12) \\\n",
    "                                       - (nPlagAb+nAlkAb)*DomegaAb(12) \\\n",
    "                                       - (nPlagAn+nAlkAn)*DomegaAn(12) \\\n",
    "                                       - (nPlagSn+nAlkSn)*DomegaSn(12)\n",
    "    result[5] = mu0Qz - dgdm.valueAtIndex_(0)\n",
    "    result[6] = muPlag.valueAtIndex_(0) - omegaAb\n",
    "    result[7] = muPlag.valueAtIndex_(1) - omegaAn\n",
    "    result[8] = muPlag.valueAtIndex_(2) - omegaSn\n",
    "    result[9] = muAlk.valueAtIndex_(0) - omegaAb\n",
    "    result[10] = muAlk.valueAtIndex_(1) - omegaAn\n",
    "    result[11] = muAlk.valueAtIndex_(2) - omegaSn\n",
    "    return result"
   ]
  },
  {
   "cell_type": "markdown",
   "metadata": {},
   "source": [
    "### Define a function to compute the \"A\" constraint matrix\n",
    "$$\n",
    "{\\bf{A}} = \\left[ {\\begin{array}{*{20}{c}}\n",
    "0&{ - \\frac{1}{2}}&{\\frac{1}{2}}&{\\frac{1}{2}}&0&0&0&0&0&0&0&0\\\\\n",
    "{ - \\frac{{\\partial \\mu _{{\\rm{Si}}{{\\rm{O}}_2}}^{liq}}}{{\\partial n_{{\\rm{Si}}{{\\rm{O}}_2}}^{liq}}}}&{ - \\frac{{\\partial \\mu _{{\\rm{Si}}{{\\rm{O}}_2}}^{liq}}}{{\\partial n_{{\\rm{A}}{{\\rm{l}}_2}{{\\rm{O}}_3}}^{liq}}}}&{ - \\frac{{\\partial \\mu _{{\\rm{Si}}{{\\rm{O}}_2}}^{liq}}}{{\\partial n_{{\\rm{CaSi}}{{\\rm{O}}_3}}^{liq}}}}&{ - \\frac{{\\partial \\mu _{{\\rm{Si}}{{\\rm{O}}_2}}^{liq}}}{{\\partial n_{{\\rm{N}}{{\\rm{a}}_2}{\\rm{Si}}{{\\rm{O}}_3}}^{liq}}}}&{ - \\frac{{\\partial \\mu _{{\\rm{Si}}{{\\rm{O}}_2}}^{liq}}}{{\\partial n_{{\\rm{KAlSi}}{{\\rm{O}}_4}}^{liq}}}}&0&0&0&0&0&0&0\\\\\n",
    "{ - \\frac{{\\partial \\Omega _{Ab}^{liq}}}{{\\partial n_{{\\rm{Si}}{{\\rm{O}}_2}}^{liq}}}}&{ - \\frac{{\\partial \\Omega _{Ab}^{liq}}}{{\\partial n_{{\\rm{A}}{{\\rm{l}}_2}{{\\rm{O}}_3}}^{liq}}}}&{ - \\frac{{\\partial \\Omega _{Ab}^{liq}}}{{\\partial n_{{\\rm{CaSi}}{{\\rm{O}}_3}}^{liq}}}}&{ - \\frac{{\\partial \\Omega _{Ab}^{liq}}}{{\\partial n_{{\\rm{N}}{{\\rm{a}}_2}{\\rm{Si}}{{\\rm{O}}_3}}^{liq}}}}&{ - \\frac{{\\partial \\Omega _{Ab}^{liq}}}{{\\partial n_{{\\rm{KAlSi}}{{\\rm{O}}_4}}^{liq}}}}&0&{\\frac{{\\partial \\mu _{Ab}^{plag}}}{{\\partial n_{Ab}^{plag}}}}&{\\frac{{\\partial \\mu _{Ab}^{plag}}}{{\\partial n_{An}^{plag}}}}&{\\frac{{\\partial \\mu _{Ab}^{plag}}}{{\\partial n_{Sn}^{plag}}}}&0&0&0\\\\\n",
    "{ - \\frac{{\\partial \\Omega _{An}^{liq}}}{{\\partial n_{{\\rm{Si}}{{\\rm{O}}_2}}^{liq}}}}&{ - \\frac{{\\partial \\Omega _{An}^{liq}}}{{\\partial n_{{\\rm{A}}{{\\rm{l}}_2}{{\\rm{O}}_3}}^{liq}}}}&{ - \\frac{{\\partial \\Omega _{An}^{liq}}}{{\\partial n_{{\\rm{CaSi}}{{\\rm{O}}_3}}^{liq}}}}&{ - \\frac{{\\partial \\Omega _{An}^{liq}}}{{\\partial n_{{\\rm{N}}{{\\rm{a}}_2}{\\rm{Si}}{{\\rm{O}}_3}}^{liq}}}}&{ - \\frac{{\\partial \\Omega _{An}^{liq}}}{{\\partial n_{{\\rm{KAlSi}}{{\\rm{O}}_4}}^{liq}}}}&0&{\\frac{{\\partial \\mu _{An}^{plag}}}{{\\partial n_{Ab}^{plag}}}}&{\\frac{{\\partial \\mu _{An}^{plag}}}{{\\partial n_{An}^{plag}}}}&{\\frac{{\\partial \\mu _{An}^{plag}}}{{\\partial n_{Sn}^{plag}}}}&0&0&0\\\\\n",
    "{ - \\frac{{\\partial \\Omega _{Sn}^{liq}}}{{\\partial n_{{\\rm{Si}}{{\\rm{O}}_2}}^{liq}}}}&{ - \\frac{{\\partial \\Omega _{Sn}^{liq}}}{{\\partial n_{{\\rm{A}}{{\\rm{l}}_2}{{\\rm{O}}_3}}^{liq}}}}&{ - \\frac{{\\partial \\Omega _{Sn}^{liq}}}{{\\partial n_{{\\rm{CaSi}}{{\\rm{O}}_3}}^{liq}}}}&{ - \\frac{{\\partial \\Omega _{Sn}^{liq}}}{{\\partial n_{{\\rm{N}}{{\\rm{a}}_2}{\\rm{Si}}{{\\rm{O}}_3}}^{liq}}}}&{ - \\frac{{\\partial \\Omega _{Sn}^{liq}}}{{\\partial n_{{\\rm{KAlSi}}{{\\rm{O}}_4}}^{liq}}}}&0&{\\frac{{\\partial \\mu _{Sn}^{plag}}}{{\\partial n_{Ab}^{plag}}}}&{\\frac{{\\partial \\mu _{Sn}^{plag}}}{{\\partial n_{An}^{plag}}}}&{\\frac{{\\partial \\mu _{Sn}^{plag}}}{{\\partial n_{Sn}^{plag}}}}&0&0&0\\\\\n",
    "{ - \\frac{{\\partial \\Omega _{Ab}^{liq}}}{{\\partial n_{{\\rm{Si}}{{\\rm{O}}_2}}^{liq}}}}&{ - \\frac{{\\partial \\Omega _{Ab}^{liq}}}{{\\partial n_{{\\rm{A}}{{\\rm{l}}_2}{{\\rm{O}}_3}}^{liq}}}}&{ - \\frac{{\\partial \\Omega _{Ab}^{liq}}}{{\\partial n_{{\\rm{CaSi}}{{\\rm{O}}_3}}^{liq}}}}&{ - \\frac{{\\partial \\Omega _{Ab}^{liq}}}{{\\partial n_{{\\rm{N}}{{\\rm{a}}_2}{\\rm{Si}}{{\\rm{O}}_3}}^{liq}}}}&{ - \\frac{{\\partial \\Omega _{Ab}^{liq}}}{{\\partial n_{{\\rm{KAlSi}}{{\\rm{O}}_4}}^{liq}}}}&0&0&0&0&{\\frac{{\\partial \\mu _{Ab}^{alk}}}{{\\partial n_{Ab}^{alk}}}}&{\\frac{{\\partial \\mu _{Ab}^{alk}}}{{\\partial n_{An}^{alk}}}}&{\\frac{{\\partial \\mu _{Ab}^{alk}}}{{\\partial n_{Sn}^{alk}}}}\\\\\n",
    "{ - \\frac{{\\partial \\Omega _{An}^{liq}}}{{\\partial n_{{\\rm{Si}}{{\\rm{O}}_2}}^{liq}}}}&{ - \\frac{{\\partial \\Omega _{An}^{liq}}}{{\\partial n_{{\\rm{A}}{{\\rm{l}}_2}{{\\rm{O}}_3}}^{liq}}}}&{ - \\frac{{\\partial \\Omega _{An}^{liq}}}{{\\partial n_{{\\rm{CaSi}}{{\\rm{O}}_3}}^{liq}}}}&{ - \\frac{{\\partial \\Omega _{An}^{liq}}}{{\\partial n_{{\\rm{N}}{{\\rm{a}}_2}{\\rm{Si}}{{\\rm{O}}_3}}^{liq}}}}&{ - \\frac{{\\partial \\Omega _{An}^{liq}}}{{\\partial n_{{\\rm{KAlSi}}{{\\rm{O}}_4}}^{liq}}}}&0&0&0&0&{\\frac{{\\partial \\mu _{An}^{alk}}}{{\\partial n_{Ab}^{alk}}}}&{\\frac{{\\partial \\mu _{An}^{alk}}}{{\\partial n_{An}^{alk}}}}&{\\frac{{\\partial \\mu _{An}^{alk}}}{{\\partial n_{Sn}^{alk}}}}\\\\\n",
    "0&0&0&0&0&1&0&0&0&0&0&0\n",
    "\\end{array}} \\right]\n",
    "$$"
   ]
  },
  {
   "cell_type": "code",
   "execution_count": null,
   "metadata": {},
   "outputs": [],
   "source": [
    "def Amatrix(nLiqSiO2, nLiqAl2O3, nLiqCaSiO3, nLiqNa2SiO3, nLiqKAlSiO4, \\\n",
    "            nQz, nPlagAb, nPlagAn, nPlagSn, nAlkAb, nAlkAn, nAlkSn, t=1100.0, p=1750.0):\n",
    "    setMoles(nLiqSiO2, nLiqAl2O3, nLiqCaSiO3, nLiqNa2SiO3, nLiqKAlSiO4, \\\n",
    "             nPlagAb, nPlagAn, nPlagSn, nAlkAb, nAlkAn, nAlkSn)\n",
    "    d2gdm2 = liquid.getD2gDm2FromMolesOfComponents_andT_andP_(m, t, p)\n",
    "    d2gdm2Plag = plagioclase.getD2gDm2FromMolesOfComponents_andT_andP_(mPlag, t, p)\n",
    "    d2gdm2Alk = sanidine.getD2gDm2FromMolesOfComponents_andT_andP_(mAlk, t, p)\n",
    "    \n",
    "    DomegaAb = lambda i: 5.0*d2gdm2.valueAtRowIndex_andColIndex_(0, i)/2.0 \\\n",
    "                           + d2gdm2.valueAtRowIndex_andColIndex_(2, i)/2.0 \\\n",
    "                           + d2gdm2.valueAtRowIndex_andColIndex_(11, i)/2.0\n",
    "    DomegaAn = lambda i: d2gdm2.valueAtRowIndex_andColIndex_(0, i) \\\n",
    "                       + d2gdm2.valueAtRowIndex_andColIndex_(2, i) \\\n",
    "                       + d2gdm2.valueAtRowIndex_andColIndex_(10, i)\n",
    "    DomegaSn = lambda i: 2.0*d2gdm2.valueAtRowIndex_andColIndex_(0, i) + d2gdm2.valueAtRowIndex_andColIndex_(12, i)\n",
    "    \n",
    "    bottom = np.zeros((f,c+f))\n",
    "    bottom[0][0] = -d2gdm2.valueAtRowIndex_andColIndex_(0, 0)\n",
    "    bottom[0][1] = -d2gdm2.valueAtRowIndex_andColIndex_(0, 2)\n",
    "    bottom[0][2] = -d2gdm2.valueAtRowIndex_andColIndex_(0, 10)\n",
    "    bottom[0][3] = -d2gdm2.valueAtRowIndex_andColIndex_(0, 11)\n",
    "    bottom[0][4] = -d2gdm2.valueAtRowIndex_andColIndex_(0, 12)\n",
    "    \n",
    "    bottom[1][0] = -DomegaAb(0)\n",
    "    bottom[1][1] = -DomegaAb(2)\n",
    "    bottom[1][2] = -DomegaAb(10)\n",
    "    bottom[1][3] = -DomegaAb(11)\n",
    "    bottom[1][4] = -DomegaAb(12)\n",
    "    bottom[1][6] = d2gdm2Plag.valueAtRowIndex_andColIndex_(0, 0)\n",
    "    bottom[1][7] = d2gdm2Plag.valueAtRowIndex_andColIndex_(0, 1)\n",
    "    bottom[1][8] = d2gdm2Plag.valueAtRowIndex_andColIndex_(0, 2)\n",
    "    \n",
    "    bottom[2][0] = -DomegaAn(0)\n",
    "    bottom[2][1] = -DomegaAn(2)\n",
    "    bottom[2][2] = -DomegaAn(10)\n",
    "    bottom[2][3] = -DomegaAn(11)\n",
    "    bottom[2][4] = -DomegaAn(12)\n",
    "    bottom[2][6] = d2gdm2Plag.valueAtRowIndex_andColIndex_(1, 0)\n",
    "    bottom[2][7] = d2gdm2Plag.valueAtRowIndex_andColIndex_(1, 1)\n",
    "    bottom[2][8] = d2gdm2Plag.valueAtRowIndex_andColIndex_(1, 2)\n",
    "    \n",
    "    bottom[3][0] = -DomegaSn(0)\n",
    "    bottom[3][1] = -DomegaSn(2)\n",
    "    bottom[3][2] = -DomegaSn(10)\n",
    "    bottom[3][3] = -DomegaSn(11)\n",
    "    bottom[3][4] = -DomegaSn(12)\n",
    "    bottom[3][6] = d2gdm2Plag.valueAtRowIndex_andColIndex_(2, 0)\n",
    "    bottom[3][7] = d2gdm2Plag.valueAtRowIndex_andColIndex_(2, 1)\n",
    "    bottom[3][8] = d2gdm2Plag.valueAtRowIndex_andColIndex_(2, 2)\n",
    "    \n",
    "    bottom[4][0] = -DomegaAb(0)\n",
    "    bottom[4][1] = -DomegaAb(2)\n",
    "    bottom[4][2] = -DomegaAb(10)\n",
    "    bottom[4][3] = -DomegaAb(11)\n",
    "    bottom[4][4] = -DomegaAb(12)\n",
    "    bottom[4][9] = d2gdm2Alk.valueAtRowIndex_andColIndex_(0, 0)\n",
    "    bottom[4][10] = d2gdm2Alk.valueAtRowIndex_andColIndex_(0, 1)\n",
    "    bottom[4][11] = d2gdm2Alk.valueAtRowIndex_andColIndex_(0, 2)\n",
    "    \n",
    "    bottom[5][0] = -DomegaAn(0)\n",
    "    bottom[5][1] = -DomegaAn(2)\n",
    "    bottom[5][2] = -DomegaAn(10)\n",
    "    bottom[5][3] = -DomegaAn(11)\n",
    "    bottom[5][4] = -DomegaAn(12)\n",
    "    bottom[5][9] = d2gdm2Alk.valueAtRowIndex_andColIndex_(1, 0)\n",
    "    bottom[5][10] = d2gdm2Alk.valueAtRowIndex_andColIndex_(1, 1)\n",
    "    bottom[5][11] = d2gdm2Alk.valueAtRowIndex_andColIndex_(1, 2)\n",
    "    \n",
    "    bottom[6][5] = 1.0\n",
    "    \n",
    "    result = np.vstack((Cproj, bottom))\n",
    "    return result"
   ]
  },
  {
   "cell_type": "markdown",
   "metadata": {},
   "source": [
    "### Define the Lagrangian of the Khorzhimskii function\n",
    "$$\n",
    "\\begin{array}{c}\n",
    "\\Lambda  = {G^{liq}}\\left( {n_{{\\rm{Si}}{{\\rm{O}}_2}}^{liq},n_{{\\rm{A}}{{\\rm{l}}_2}{{\\rm{O}}_3}}^{liq},n_{{\\rm{CaSi}}{{\\rm{O}}_3}}^{liq},n_{{\\rm{N}}{{\\rm{a}}_{\\rm{2}}}{\\rm{Si}}{{\\rm{O}}_3}}^{liq},n_{{\\rm{KAlSi}}{{\\rm{O}}_4}}^{liq}} \\right) + {n_{Qz}}\\mu _{Qz}^o + {G^{plag}}\\left( {n_{Ab}^{plag},n_{An}^{plag},n_{Sn}^{plag}} \\right) + {G^{alk}}\\left( {n_{Ab}^{alk},n_{An}^{alk},n_{Sn}^{alk}} \\right)\\\\\n",
    " - {n_{Qz}}\\mu _{{\\rm{Si}}{{\\rm{O}}_2}}^{liq} - \\left( {n_{Ab}^{plag} + n_{Ab}^{alk}} \\right)\\Omega _{Ab}^{liq} - \\left( {n_{An}^{plag} + n_{An}^{alk}} \\right)\\Omega _{An}^{liq} - \\left( {n_{Sn}^{plag} + n_{Sn}^{alk}} \\right)\\Omega _{Sn}^{liq}\\\\\n",
    " - {\\lambda _b}\\left[ {\\frac{1}{2}\\left( {n_{{\\rm{CaSi}}{{\\rm{O}}_3}}^{liq} + n_{{\\rm{N}}{{\\rm{a}}_2}{\\rm{Si}}{{\\rm{O}}_3}}^{liq} - n_{{\\rm{A}}{{\\rm{l}}_2}{{\\rm{O}}_3}}^{liq}} \\right) - \\frac{1}{2}\\left( {{b_{{\\rm{CaO}}}} + {b_{{\\rm{N}}{{\\rm{a}}_2}{\\rm{O}}}} + {b_{{{\\rm{K}}_2}{\\rm{O}}}} - {b_{{\\rm{A}}{{\\rm{l}}_2}{{\\rm{O}}_3}}}} \\right)} \\right] - {\\lambda _{Qz}}\\left( {\\mu _{{\\rm{Si}}{{\\rm{O}}_2}}^{qtz} - \\mu _{{\\rm{Si}}{{\\rm{O}}_2}}^{liq}} \\right) - \\lambda _{Ab}^{plag}\\left( {\\mu _{Ab}^{plag} - \\Omega _{Ab}^{liq}} \\right)\\\\\n",
    " - \\lambda _{An}^{plag}\\left( {\\mu _{An}^{plag} - \\Omega _{An}^{liq}} \\right) - \\lambda _{Sn}^{plag}\\left( {\\mu _{Sn}^{plag} - \\Omega _{Sn}^{liq}} \\right) - \\lambda _{Ab}^{alk}\\left( {\\mu _{Ab}^{alk} - \\Omega _{Ab}^{liq}} \\right) - \\lambda _{An}^{alk}\\left( {\\mu _{An}^{alk} - \\Omega _{An}^{liq}} \\right) - {\\lambda _{{n_{Qz}}}}\\left( {{n_{Qz}} - {n_{Fix}}} \\right)\n",
    "\\end{array}\n",
    "$$"
   ]
  },
  {
   "cell_type": "code",
   "execution_count": null,
   "metadata": {},
   "outputs": [],
   "source": [
    "def Lagrangian(nLiqSiO2, nLiqAl2O3, nLiqCaSiO3, nLiqNa2SiO3, nLiqKAlSiO4, \\\n",
    "               nQz, nPlagAb, nPlagAn, nPlagSn, nAlkAb, nAlkAn, nAlkSn, t=1100.0, p=1750.0):\n",
    "    nLiq = setMoles(nLiqSiO2, nLiqAl2O3, nLiqCaSiO3, nLiqNa2SiO3, nLiqKAlSiO4, \\\n",
    "                    nPlagAb, nPlagAn, nPlagSn, nAlkAb, nAlkAn, nAlkSn)\n",
    "    \n",
    "    result = Khorzhinskii(nLiqSiO2, nLiqAl2O3, nLiqCaSiO3, nLiqNa2SiO3, nLiqKAlSiO4, \\\n",
    "                          nQz, nPlagAb, nPlagAn, nPlagSn, nAlkAb, nAlkAn, nAlkSn, t, p)\n",
    "    \n",
    "    muLiq = liquid.getChemicalPotentialFromMolesOfComponents_andT_andP_(m, t, p)\n",
    "    omegaAb = 5.0*muLiq.valueAtIndex_(0)/2.0 + muLiq.valueAtIndex_(2)/2.0 + muLiq.valueAtIndex_(11)/2.0\n",
    "    omegaAn = muLiq.valueAtIndex_(0) + muLiq.valueAtIndex_(2) + muLiq.valueAtIndex_(10)\n",
    "    omegaSn = 2.0*muLiq.valueAtIndex_(0) + muLiq.valueAtIndex_(12)\n",
    "    \n",
    "    muPlag = plagioclase.getChemicalPotentialFromMolesOfComponents_andT_andP_(mPlag, t, p)\n",
    "    muAlk = sanidine.getChemicalPotentialFromMolesOfComponents_andT_andP_(mAlk, t, p)\n",
    "    \n",
    "    nFix = np.zeros((f,1))\n",
    "    n = np.vstack((nLiq,nFix))\n",
    "    # now add the Lagrange terms\n",
    "    temp = np.matmul(Cproj, n)\n",
    "    temp = np.subtract(temp, bcproj)\n",
    "    result -= (np.dot(temp.transpose(), xLambda[0])[0][0])\n",
    "    result -= xLambda[1][0]*(mu0Qz-muLiq.valueAtIndex_(0)) \n",
    "    result -= xLambda[2][0]*(muPlag.valueAtIndex_(0)-omegaAb)\n",
    "    result -= xLambda[3][0]*(muPlag.valueAtIndex_(1)-omegaAn)\n",
    "    result -= xLambda[4][0]*(muPlag.valueAtIndex_(2)-omegaSn)\n",
    "    result -= xLambda[5][0]*(muAlk.valueAtIndex_(0)-omegaAb)\n",
    "    result -= xLambda[6][0]*(muAlk.valueAtIndex_(1)-omegaAn)\n",
    "    result -= xLambda[7][0]*(nQz-nPhaseFix)\n",
    "    return result"
   ]
  },
  {
   "cell_type": "markdown",
   "metadata": {},
   "source": [
    "### Define the Wronskian of the Lagrangian function\n",
    "Elements of the Wronskian are given by\n",
    "$$\n",
    "\\begin{array}{c}\n",
    "\\frac{{{\\partial ^2}\\Lambda }}{{\\partial {n_i}\\partial {n_j}}} = \\frac{{{\\partial ^2}{G^{liq}}}}{{\\partial {n_i}\\partial {n_j}}} + \\frac{{{\\partial ^2}{G^{plag}}}}{{\\partial {n_i}\\partial {n_j}}} + \\frac{{{\\partial ^2}{G^{alk}}}}{{\\partial {n_i}\\partial {n_j}}} - {\\delta _{i,Qz}}\\frac{{\\partial \\mu _{{\\rm{Si}}{{\\rm{O}}_2}}^{liq}}}{{\\partial {n_j}}} - {\\delta _{j,Qz}}\\frac{{\\partial \\mu _{{\\rm{Si}}{{\\rm{O}}_2}}^{liq}}}{{\\partial {n_i}}} - \\left( {{n_{Qz}} - {\\lambda _{Qz}}} \\right)\\frac{{{\\partial ^2}\\mu _{{\\rm{Si}}{{\\rm{O}}_2}}^{liq}}}{{\\partial {n_i}\\partial {n_j}}}\\\\\n",
    " - \\left( {{\\delta _{i,plag - Ab}} + {\\delta _{i,alk - Ab}}} \\right)\\frac{{\\Omega _{Ab}^{liq}}}{{\\partial {n_j}}} - \\left( {{\\delta _{j,plag - Ab}} + {\\delta _{j,alk - Ab}}} \\right)\\frac{{\\Omega _{Ab}^{liq}}}{{\\partial {n_i}}} - \\left( {n_{Ab}^{plag} + n_{Ab}^{alk}} \\right)\\frac{{{\\partial ^2}\\Omega _{Ab}^{liq}}}{{\\partial {n_i}\\partial {n_j}}}\\\\\n",
    " - \\left( {{\\delta _{i,plag - An}} + {\\delta _{i,alk - An}}} \\right)\\frac{{\\Omega _{An}^{liq}}}{{\\partial {n_j}}} - \\left( {{\\delta _{j,plag - An}} + {\\delta _{j,alk - An}}} \\right)\\frac{{\\Omega _{An}^{liq}}}{{\\partial {n_i}}} - \\left( {n_{An}^{plag} + n_{An}^{alk}} \\right)\\frac{{{\\partial ^2}\\Omega _{An}^{liq}}}{{\\partial {n_i}\\partial {n_j}}}\\\\\n",
    " - \\left( {{\\delta _{i,plag - Sn}} + {\\delta _{i,alk - Sn}}} \\right)\\frac{{\\Omega _{Sn}^{liq}}}{{\\partial {n_j}}} - \\left( {{\\delta _{j,plag - Sn}} + {\\delta _{j,alk - Sn}}} \\right)\\frac{{\\Omega _{Sn}^{liq}}}{{\\partial {n_i}}} - \\left( {n_{Sn}^{plag} + n_{Sn}^{alk}} \\right)\\frac{{{\\partial ^2}\\Omega _{Sn}^{liq}}}{{\\partial {n_i}\\partial {n_j}}}\\\\\n",
    " - \\lambda _{Ab}^{plag}\\left( {\\frac{{{\\partial ^2}\\mu _{Ab}^{plag}}}{{\\partial {n_i}\\partial {n_j}}} - \\frac{{{\\partial ^2}\\Omega _{Ab}^{liq}}}{{\\partial {n_i}\\partial {n_j}}}} \\right) - \\lambda _{An}^{plag}\\left( {\\frac{{{\\partial ^2}\\mu _{An}^{plag}}}{{\\partial {n_i}\\partial {n_j}}} - \\frac{{{\\partial ^2}\\Omega _{An}^{liq}}}{{\\partial {n_i}\\partial {n_j}}}} \\right) - \\lambda _{Sn}^{plag}\\left( {\\frac{{{\\partial ^2}\\mu _{Sn}^{plag}}}{{\\partial {n_i}\\partial {n_j}}} - \\frac{{{\\partial ^2}\\Omega _{Sn}^{liq}}}{{\\partial {n_i}\\partial {n_j}}}} \\right)\\\\\n",
    " - \\lambda _{Ab}^{alk}\\left( {\\frac{{{\\partial ^2}\\mu _{Ab}^{alk}}}{{\\partial {n_i}\\partial {n_j}}} - \\frac{{{\\partial ^2}\\Omega _{Ab}^{liq}}}{{\\partial {n_i}\\partial {n_j}}}} \\right) - \\lambda _{An}^{alk}\\left( {\\frac{{{\\partial ^2}\\mu _{An}^{alk}}}{{\\partial {n_i}\\partial {n_j}}} - \\frac{{{\\partial ^2}\\Omega _{An}^{liq}}}{{\\partial {n_i}\\partial {n_j}}}} \\right)\n",
    "\\end{array}\n",
    "$$"
   ]
  },
  {
   "cell_type": "code",
   "execution_count": null,
   "metadata": {},
   "outputs": [],
   "source": [
    "def Wronskian(nLiqSiO2, nLiqAl2O3, nLiqCaSiO3, nLiqNa2SiO3, nLiqKAlSiO4, \\\n",
    "               nQz, nPlagAb, nPlagAn, nPlagSn, nAlkAb, nAlkAn, nAlkSn, t=1100.0, p=1750.0):\n",
    "    nLiq = setMoles(nLiqSiO2, nLiqAl2O3, nLiqCaSiO3, nLiqNa2SiO3, nLiqKAlSiO4, \\\n",
    "                    nPlagAb, nPlagAn, nPlagSn, nAlkAb, nAlkAn, nAlkSn)\n",
    "    w = np.zeros((c+f,c+f))\n",
    "    ind = [0,2,10,11,12]\n",
    "    \n",
    "    d2gdm2 = liquid.getD2gDm2FromMolesOfComponents_andT_andP_(m, t, p)\n",
    "    for i in range(0,5):\n",
    "        for j in range(i,5):\n",
    "            w[i][j] += d2gdm2.valueAtRowIndex_andColIndex_(ind[i], ind[j])\n",
    "            w[j][i]  = w[i][j]\n",
    "    d2gdm2Plag = plagioclase.getD2gDm2FromMolesOfComponents_andT_andP_(mPlag, t, p)\n",
    "    for i in range(0,3):\n",
    "        for j in range(i,3):\n",
    "            w[i+6][j+6] += d2gdm2Plag.valueAtRowIndex_andColIndex_(i, j)\n",
    "            w[j+6][i+6]  = w[i+6][j+6]\n",
    "    d2gdm2Alk = sanidine.getD2gDm2FromMolesOfComponents_andT_andP_(mAlk, t, p)\n",
    "    for i in range(0,3):\n",
    "        for j in range(i,3):\n",
    "            w[i+9][j+9] += d2gdm2Alk.valueAtRowIndex_andColIndex_(i, j)\n",
    "            w[j+9][i+9]  = w[i+9][j+9]\n",
    "    \n",
    "    for i in range(0,5):\n",
    "        w[5][i] -= d2gdm2.valueAtRowIndex_andColIndex_(0, ind[i])\n",
    "        w[i][5]  = w[5][i]\n",
    "    \n",
    "    DomegaAb = lambda i: 5.0*d2gdm2.valueAtRowIndex_andColIndex_(0, i)/2.0 \\\n",
    "                           + d2gdm2.valueAtRowIndex_andColIndex_(2, i)/2.0 \\\n",
    "                           + d2gdm2.valueAtRowIndex_andColIndex_(11, i)/2.0\n",
    "    DomegaAn = lambda i: d2gdm2.valueAtRowIndex_andColIndex_(0, i) \\\n",
    "                       + d2gdm2.valueAtRowIndex_andColIndex_(2, i) \\\n",
    "                       + d2gdm2.valueAtRowIndex_andColIndex_(10, i)\n",
    "    DomegaSn = lambda i: 2.0*d2gdm2.valueAtRowIndex_andColIndex_(0, i) + d2gdm2.valueAtRowIndex_andColIndex_(12, i)\n",
    "    \n",
    "    for i in range(0,5):\n",
    "        w[6][i]  += -DomegaAb(ind[i])\n",
    "        w[i][6]   = w[6][i]\n",
    "        w[9][i]  += -DomegaAb(ind[i])\n",
    "        w[i][9]   = w[9][i]\n",
    "        w[7][i]  += -DomegaAn(ind[i])\n",
    "        w[i][7]   = w[7][i]\n",
    "        w[10][i] += -DomegaAn(ind[i])\n",
    "        w[i][10]  = w[10][i]\n",
    "        w[8][i]  += -DomegaSn(ind[i])\n",
    "        w[i][8]   = w[8][i]\n",
    "        w[11][i] += -DomegaSn(ind[i])\n",
    "        w[i][11]  = w[11][i]\n",
    "   \n",
    "    d3gdm3 = liquid.getD3gDm3FromMolesOfComponents_andT_andP_(m, t, p)\n",
    "    D2omegaAb = lambda i, j : 5.0*d3gdm3.valueAtFirstIndex_andSecondIndex_andThirdIndex_(0, i, j)/2.0 \\\n",
    "                                + d3gdm3.valueAtFirstIndex_andSecondIndex_andThirdIndex_(2, i, j)/2.0 \\\n",
    "                                + d3gdm3.valueAtFirstIndex_andSecondIndex_andThirdIndex_(11, i, j)/2.0\n",
    "    D2omegaAn = lambda i, j : d3gdm3.valueAtFirstIndex_andSecondIndex_andThirdIndex_(0, i, j) \\\n",
    "                            + d3gdm3.valueAtFirstIndex_andSecondIndex_andThirdIndex_(2, i, j) \\\n",
    "                            + d3gdm3.valueAtFirstIndex_andSecondIndex_andThirdIndex_(10, i, j)\n",
    "    D2omegaSn = lambda i, j : 2.0*d3gdm3.valueAtFirstIndex_andSecondIndex_andThirdIndex_(0, i, j) \\\n",
    "                                + d3gdm3.valueAtFirstIndex_andSecondIndex_andThirdIndex_(12, i, j)\n",
    "    d3gdm3Plag = plagioclase.getD3gDm3FromMolesOfComponents_andT_andP_(mPlag, t, p)\n",
    "    d3gdm3Alk  = sanidine.getD3gDm3FromMolesOfComponents_andT_andP_(mAlk, t, p)\n",
    "    \n",
    "    for i in range(0,5):\n",
    "        for j in range(i,5):\n",
    "            w[i][j] -= (nQz-xLambda[1][0])*d3gdm3.valueAtFirstIndex_andSecondIndex_andThirdIndex_(0, ind[i], ind[j])\n",
    "            w[i][j] -= (nPlagAb+nAlkAb-xLambda[2][0]-xLambda[5][0])*D2omegaAb(ind[i],ind[j])\n",
    "            w[i][j] -= (nPlagAn+nAlkAn-xLambda[3][0]-xLambda[6][0])*D2omegaAn(ind[i],ind[j])\n",
    "            w[i][j] -= (nPlagSn+nAlkSn-xLambda[4][0])*D2omegaSn(ind[i],ind[j])\n",
    "            w[j][i]  = w[i][j]\n",
    "    \n",
    "    for i in range(0,3):\n",
    "        for j in range(i,3):\n",
    "            w[i+6][j+6] -= xLambda[2][0]*d3gdm3Plag.valueAtFirstIndex_andSecondIndex_andThirdIndex_(0, i, j)\n",
    "            w[i+6][j+6] -= xLambda[3][0]*d3gdm3Plag.valueAtFirstIndex_andSecondIndex_andThirdIndex_(1, i, j)\n",
    "            w[i+6][j+6] -= xLambda[4][0]*d3gdm3Plag.valueAtFirstIndex_andSecondIndex_andThirdIndex_(2, i, j)\n",
    "            w[j+6][i+6]  = w[i+6][j+6]\n",
    "            w[i+9][j+9] -= xLambda[5][0]*d3gdm3Alk.valueAtFirstIndex_andSecondIndex_andThirdIndex_(0, i, j)\n",
    "            w[i+9][j+9] -= xLambda[6][0]*d3gdm3Alk.valueAtFirstIndex_andSecondIndex_andThirdIndex_(1, i, j)\n",
    "            w[j+9][i+9]  = w[i+9][j+9]\n",
    "    \n",
    "    return w"
   ]
  },
  {
   "cell_type": "markdown",
   "metadata": {},
   "source": [
    "### Form the QR decomposition of A\n",
    "Note that A must be square, so zero filled rows are added \n",
    "$\n",
    "{\\bf{A}} = {\\bf{QR}} = \\left[ {\\begin{array}{*{20}{c}}\n",
    "{{{\\bf{Q}}_1}}&{{{\\bf{Q}}_2}}\n",
    "\\end{array}} \\right]\\left[ {\\begin{array}{*{20}{c}}\n",
    "{{{\\bf{R}}_1}}\\\\\n",
    "{\\bf{0}}\n",
    "\\end{array}} \\right]\n",
    "$\n",
    "and \n",
    "${{\\bf{Q}}_2}^T$ is the matrix ${\\bf{Z}}$  "
   ]
  },
  {
   "cell_type": "code",
   "execution_count": null,
   "metadata": {},
   "outputs": [],
   "source": [
    "A = Amatrix(nLiqSiO2, nLiqAl2O3, nLiqCaSiO3, nLiqNa2SiO3, nLiqKAlSiO4, \\\n",
    "            nQz, nPlagAb, nPlagAn, nPlagSn, nAlkAb, nAlkAn, nAlkSn, t, p)\n",
    "fmt = '{:9.1e}'*12\n",
    "print (\"A matrix:\", A.shape)\n",
    "for i in range(0, A.shape[0]):\n",
    "    print (fmt.format(A[i][0], A[i][1], A[i][2], A[i][3], A[i][4], A[i][5], A[i][6], A[i][7], A[i][8], \\\n",
    "                      A[i][9], A[i][10], A[i][11]))\n",
    "# use\n",
    "bottom = np.zeros((4,c+f))\n",
    "A = np.vstack((A, bottom))\n",
    "Q,R = lin.qr(A,mode='full')\n",
    "# or\n",
    "#R,Q = lin.rq(A,mode='full')\n",
    "print (\"Q matrix:\", Q.shape)\n",
    "for i in range(0,Q.shape[0]):\n",
    "    print (fmt.format(Q[i][0], Q[i][1], Q[i][2], Q[i][3], Q[i][4], Q[i][5], Q[i][6], Q[i][7], Q[i][8], \\\n",
    "                      Q[i][9], Q[i][10], Q[i][11]))\n",
    "print (\"R matrix:\", R.shape)\n",
    "for i in range(0,R.shape[0]):\n",
    "    print (fmt.format(R[i][0], R[i][1], R[i][2], R[i][3], R[i][4], R[i][5], R[i][6], R[i][7], R[i][8], \\\n",
    "                      R[i][9], R[i][10], R[i][11]))\n",
    "Z = Q[f+1:,:].transpose()\n",
    "print (\"Z matrix\", Z.shape)\n",
    "fmt = '{:9.1e}'*4\n",
    "for i in range(0,Z.shape[0]):\n",
    "    print (fmt.format(Z[i][0], Z[i][1], Z[i][2], Z[i][3]))"
   ]
  },
  {
   "cell_type": "markdown",
   "metadata": {},
   "source": [
    "### Form the vector of Lagrange multipliers\n",
    "$$\n",
    "{\\bf{g}} = {{\\bf{A}}^T}\\left[ {\\begin{array}{*{20}{c}}\n",
    "{{\\lambda _{{n_1}}}}\\\\\n",
    " \\vdots \\\\\n",
    "{{\\lambda _{{n_{c - f}}}}}\\\\\n",
    "{{\\lambda _{{\\phi _1}}}}\\\\\n",
    " \\vdots \\\\\n",
    "{{\\lambda _{{\\phi _f}}}}\n",
    "\\end{array}} \\right]\n",
    "$$"
   ]
  },
  {
   "cell_type": "code",
   "execution_count": null,
   "metadata": {},
   "outputs": [],
   "source": [
    "print (\"Gradient:\")\n",
    "g = Gradient(nLiqSiO2, nLiqAl2O3, nLiqCaSiO3, nLiqNa2SiO3, nLiqKAlSiO4, \\\n",
    "            nQz, nPlagAb, nPlagAn, nPlagSn, nAlkAb, nAlkAn, nAlkSn, t, p)\n",
    "for i in range(0,g.shape[0]):\n",
    "    print (\"{0:10.3e}\".format(g[i][0]))\n",
    "print (\"Lambda:\")\n",
    "xLambda = np.linalg.lstsq(A.transpose(),g)[0]\n",
    "for i in range(0,xLambda.shape[0]):\n",
    "    print (\"{0:10.3e}\".format(xLambda[i][0]))"
   ]
  },
  {
   "cell_type": "markdown",
   "metadata": {},
   "source": [
    "### Compute the Wronskian of the Lagrangian"
   ]
  },
  {
   "cell_type": "code",
   "execution_count": null,
   "metadata": {},
   "outputs": [],
   "source": [
    "W = Wronskian(nLiqSiO2, nLiqAl2O3, nLiqCaSiO3, nLiqNa2SiO3, nLiqKAlSiO4, \\\n",
    "            nQz, nPlagAb, nPlagAn, nPlagSn, nAlkAb, nAlkAn, nAlkSn, t, p)\n",
    "fmt = '{:9.1e}'*12\n",
    "for i in range(0,W.shape[0]):\n",
    "    print (fmt.format(W[i][0], W[i][1], W[i][2], W[i][3], W[i][4], W[i][5], W[i][6], W[i][7], W[i][8], \n",
    "                      W[i][9], W[i][10], W[i][11]))"
   ]
  },
  {
   "cell_type": "markdown",
   "metadata": {},
   "source": [
    "### Next project the gradient and the Wronskian\n",
    "The search direction ($\\Delta {\\bf{n}}_{_\\phi }^i$) is given by\n",
    "$$\n",
    "{{\\bf{Z}}^T}{\\bf{WZ}}\\Delta {\\bf{n}}_\\phi ^i =  - {{\\bf{Z}}^T}{\\bf{g}}\n",
    "$$\n",
    "and ${\\bf{n}}_\\phi ^{i + 1} = \\Delta {\\bf{n}}_{_\\phi }^i + {\\bf{n}}_\\phi ^i$ gives the quadratic approximation to the minimum, which must be adjusted to maintain the non-linear equality constraints\n",
    "$$\n",
    "{\\bf{\\tilde n}}_\\phi ^{i + 1} = s\\Delta {\\bf{n}}_\\phi ^i + {\\bf{n}}_\\phi ^i + \\Delta {\\bf{n}}_\\phi ^{corr}\n",
    "$$"
   ]
  },
  {
   "cell_type": "code",
   "execution_count": null,
   "metadata": {},
   "outputs": [],
   "source": [
    "ZTg = np.matmul(Z.transpose(),g)\n",
    "ZTWZ = np.matmul(Z.transpose(), np.matmul(W,Z))\n",
    "print(\"Z^T g\", ZTg.shape)\n",
    "for i in range(0,ZTg.shape[0]):\n",
    "    print (\"{0:10.3e}\".format(ZTg[i][0]))\n",
    "print(\"Z^T W Z\", ZTWZ.shape)\n",
    "for i in range(0,ZTWZ.shape[0]):\n",
    "    print (\"{0:10.3e} {1:10.3e} {2:10.3e} {3:10.3e}\".format(ZTWZ[i][0], ZTWZ[i][1], ZTWZ[i][2], ZTWZ[i][3]))"
   ]
  },
  {
   "cell_type": "markdown",
   "metadata": {},
   "source": [
    "### ... and solve for the correction vector"
   ]
  },
  {
   "cell_type": "code",
   "execution_count": null,
   "metadata": {},
   "outputs": [],
   "source": [
    "x = lin.solve(ZTWZ, ZTg)\n",
    "print (\"Solution in the null space:\")\n",
    "for i in range(0,x.shape[0]):\n",
    "    print (\"{0:10.3e}\".format(x[i][0]))\n",
    "deltan = np.matmul(Z,x)\n",
    "print (\"Inflated Solution:\")\n",
    "for i in range(0,deltan.shape[0]):\n",
    "    print (\"{0:10.3e}\".format(deltan[i][0]))"
   ]
  },
  {
   "cell_type": "markdown",
   "metadata": {},
   "source": [
    "## Final solution"
   ]
  },
  {
   "cell_type": "code",
   "execution_count": null,
   "metadata": {},
   "outputs": [],
   "source": [
    "print (\"n SiO2    liq = {0:8.6f} -> {1:8.6f}\".format(nLiqSiO2, nLiqSiO2+deltan[0][0]))\n",
    "print (\"n Al2O3   liq = {0:8.6f} -> {1:8.6f}\".format(nLiqAl2O3, nLiqAl2O3+deltan[1][0]))\n",
    "print (\"n CaSiO3  liq = {0:8.6f} -> {1:8.6f}\".format(nLiqCaSiO3, nLiqCaSiO3+deltan[2][0]))\n",
    "print (\"n Na2SiO3 liq = {0:8.6f} -> {1:8.6f}\".format(nLiqNa2SiO3, nLiqNa2SiO3+deltan[3][0]))\n",
    "print (\"n KAlSiO4 liq = {0:8.6f} -> {1:8.6f}\".format(nLiqKAlSiO4, nLiqKAlSiO4+deltan[4][0]))\n",
    "print (\"n Qz          = {0:8.6f} -> {1:8.6f}\".format(nQz, nQz+deltan[5][0]))\n",
    "print (\"n Plag Ab     = {0:8.6f} -> {1:8.6f}\".format(nPlagAb, nPlagAb+deltan[6][0]))\n",
    "print (\"n Plag An     = {0:8.6f} -> {1:8.6f}\".format(nPlagAn, nPlagAn+deltan[7][0]))\n",
    "print (\"n Plag Sn     = {0:8.6f} -> {1:8.6f}\".format(nPlagSn, nPlagSn+deltan[8][0]))\n",
    "print (\"n Alk  Ab     = {0:8.6f} -> {1:8.6f}\".format(nAlkAb, nAlkAb+deltan[9][0]))\n",
    "print (\"n Alk  An     = {0:8.6f} -> {1:8.6f}\".format(nAlkAn, nAlkAn+deltan[10][0]))\n",
    "print (\"n Alk  Sn     = {0:8.6f} -> {1:8.6f}\".format(nAlkSn, nAlkSn+deltan[11][0]))"
   ]
  },
  {
   "cell_type": "code",
   "execution_count": null,
   "metadata": {},
   "outputs": [],
   "source": []
  }
 ],
 "metadata": {
  "anaconda-cloud": {},
  "kernelspec": {
   "display_name": "Python [default]",
   "language": "python",
   "name": "python3"
  },
  "language_info": {
   "codemirror_mode": {
    "name": "ipython",
    "version": 3
   },
   "file_extension": ".py",
   "mimetype": "text/x-python",
   "name": "python",
   "nbconvert_exporter": "python",
   "pygments_lexer": "ipython3",
   "version": "3.6.2"
  }
 },
 "nbformat": 4,
 "nbformat_minor": 1
}
