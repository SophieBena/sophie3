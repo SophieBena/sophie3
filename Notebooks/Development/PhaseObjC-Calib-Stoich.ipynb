{
 "cells": [
  {
   "cell_type": "markdown",
   "metadata": {},
   "source": [
    "## PhaseObjC - Stoichiometric Phase Calibration Example\n",
    "### Calibration of Berman(1988) database of pure solid phases (standard state properties)"
   ]
  },
  {
   "cell_type": "code",
   "execution_count": null,
   "metadata": {},
   "outputs": [],
   "source": [
    "## NOTE: PhaseObjC only can find classes when in same base directory... this is bad"
   ]
  },
  {
   "cell_type": "markdown",
   "metadata": {},
   "source": [
    "Required python code to load the PhaseObjC library.  The library libphaseobjc.dylib (see build instructions in README.md) must be locatable to teh system in a standard location (by default /usr/local/lib)"
   ]
  },
  {
   "cell_type": "code",
   "execution_count": null,
   "metadata": {},
   "outputs": [],
   "source": [
    "# import openpyxl\n",
    "# from openpyxl import load_workbook\n",
    "import pandas as pd\n",
    "import numpy as np\n",
    "import matplotlib.pyplot as plt"
   ]
  },
  {
   "cell_type": "code",
   "execution_count": null,
   "metadata": {},
   "outputs": [],
   "source": [
    "import re"
   ]
  },
  {
   "cell_type": "code",
   "execution_count": null,
   "metadata": {},
   "outputs": [],
   "source": [
    "import sys\n",
    "# sys.path\n",
    "sys.path.append('..')\n",
    "import phasepy\n",
    "import dataio"
   ]
  },
  {
   "cell_type": "code",
   "execution_count": null,
   "metadata": {},
   "outputs": [],
   "source": [
    "import importlib\n",
    "importlib.reload(phasepy)\n",
    "importlib.reload(dataio)"
   ]
  },
  {
   "cell_type": "code",
   "execution_count": null,
   "metadata": {},
   "outputs": [],
   "source": []
  },
  {
   "cell_type": "markdown",
   "metadata": {},
   "source": [
    "## Al2SiO5 Phases\n",
    "### Papers:\n",
    "* Richardson1968\n",
    "* Richardson1969\n",
    "* Holdaway1971\n",
    "* Newton1966a\n",
    "* Newton1966b\n",
    "* Weill1971 (unpublished, reported in Holdaway1971)\n",
    "* Kerrick_Heninger1984\n",
    "* Newton1980 (unpublished, reported in Day_Kumin1980)\n",
    "* Day_Kumin1980\n",
    "\n"
   ]
  },
  {
   "cell_type": "code",
   "execution_count": null,
   "metadata": {},
   "outputs": [],
   "source": []
  },
  {
   "cell_type": "code",
   "execution_count": null,
   "metadata": {},
   "outputs": [],
   "source": [
    "rxn_d = phasepy.ThermoDB.parse_rxn('Zy + And + 9Fo = 8Ky +  H2O + O2',rxn_result_str='And + Sil -?')\n",
    "print(rxn_d)\n",
    "\n",
    "rxn_d = phasepy.ThermoDB.parse_rxn('Zy + And + 9Fo = 8Ky +  H2O + O2',rxn_result_str='NC')\n",
    "print(rxn_d)\n",
    "    \n"
   ]
  },
  {
   "cell_type": "code",
   "execution_count": null,
   "metadata": {},
   "outputs": [],
   "source": []
  },
  {
   "cell_type": "code",
   "execution_count": null,
   "metadata": {},
   "outputs": [],
   "source": [
    "importlib.reload(phasepy)\n",
    "raw_df = phasepy.ThermoDBModel.read_phase_rev_data('../data/Al2SiO5_thermo_data.xlsx')\n",
    "# dat_df,rxn_d_l, phs_uniq_l = phasepy.ThermoDBModel.filter_phase_rev_data(raw_df,mask_phs_l=['fSil'])\n",
    "# dat_df,rxn_d_l, phs_uniq_l = phasepy.ThermoDBModel.filter_phase_rev_data(raw_df,mask_phs_l=None)\n",
    "raw_df[raw_df['Run Num.']=='KS20-23']"
   ]
  },
  {
   "cell_type": "code",
   "execution_count": null,
   "metadata": {},
   "outputs": [],
   "source": []
  },
  {
   "cell_type": "code",
   "execution_count": null,
   "metadata": {},
   "outputs": [],
   "source": [
    "3/2*8.3*10\n"
   ]
  },
  {
   "cell_type": "code",
   "execution_count": null,
   "metadata": {},
   "outputs": [],
   "source": [
    "importlib.reload(phasepy)\n",
    "import copy\n",
    "thermoDB_mod = phasepy.ThermoDBModel(raw_df,mask_phs_l=['fSil'],\n",
    "                                     Tthresh_scl=0.001)\n",
    "\n",
    "param0_d = copy.copy(thermoDB_mod.param_d)\n",
    "dat_trust_d = thermoDB_mod.extract_trust_data()\n",
    "dat_trust_d\n",
    "\n",
    "\n",
    "\n",
    "msk = dat_trust_d['run_num'] == 'KS20-23'\n",
    "for key in dat_trust_d:\n",
    "    print(dat_trust_d[key][msk])\n",
    "    \n",
    "\n",
    "    \n",
    "    \n",
    "# thermoDB_mod = phasepy.ThermoDBModel(raw_df,mask_phs_l=['fSil'])\n",
    "# print( 'all: ',thermoDB_mod.get_param_names(typ='all'),'\\n' )\n",
    "# print( 'free: ', thermoDB_mod.get_param_names(typ='free'),'\\n' )\n",
    "# print( 'phs: ', thermoDB_mod.get_param_names(typ='phs'),'\\n' )\n",
    "# print( 'rxn: ', thermoDB_mod.get_param_names(typ='rxn'),'\\n' )\n",
    "# print( 'rxnadj: ', thermoDB_mod.get_param_names(typ='rxnadj'),'\\n' )\n",
    "# print( 'rxnall: ', thermoDB_mod.get_param_names(typ='rxnall'),'\\n' )\n"
   ]
  },
  {
   "cell_type": "code",
   "execution_count": null,
   "metadata": {},
   "outputs": [],
   "source": []
  },
  {
   "cell_type": "code",
   "execution_count": null,
   "metadata": {},
   "outputs": [],
   "source": [
    "thermoDB_mod.add_free_params([],typ='all')\n",
    "thermoDB_mod.del_free_params([],typ='phs')\n",
    "thermoDB_mod.del_free_params([],typ='rxnadj')\n",
    "param_stat_nm_a = thermoDB_mod.get_param_names(typ='free')\n",
    "param0_stat_val_a = thermoDB_mod.get_param_values([],typ='free')\n",
    "print( 'free: ', thermoDB_mod.get_param_names(typ='free'),'\\n' )\n",
    "\n",
    "costfun_d = thermoDB_mod.eval_model_costfun(param0_stat_val_a,param_stat_nm_a,full_output=True)\n",
    "cost_df = costfun_d['cost_fun_df']\n"
   ]
  },
  {
   "cell_type": "code",
   "execution_count": null,
   "metadata": {},
   "outputs": [],
   "source": []
  },
  {
   "cell_type": "code",
   "execution_count": null,
   "metadata": {},
   "outputs": [],
   "source": [
    "cost_df.loc[cost_df['rxn_dir']=='FWD','relG']"
   ]
  },
  {
   "cell_type": "code",
   "execution_count": null,
   "metadata": {},
   "outputs": [],
   "source": [
    "cost_df.loc[cost_df['rxn_dir']=='REV','relG']"
   ]
  },
  {
   "cell_type": "code",
   "execution_count": null,
   "metadata": {},
   "outputs": [],
   "source": []
  },
  {
   "cell_type": "code",
   "execution_count": null,
   "metadata": {},
   "outputs": [],
   "source": [
    "cost_df[cost_df['rxn_dir']=='REV']"
   ]
  },
  {
   "cell_type": "code",
   "execution_count": null,
   "metadata": {},
   "outputs": [],
   "source": [
    "ind_a[(cost_df['rxn_dir']=='NC').values]"
   ]
  },
  {
   "cell_type": "code",
   "execution_count": null,
   "metadata": {},
   "outputs": [],
   "source": [
    "\n",
    "ind_a = np.arange(cost_df.shape[0])\n",
    "plt.clf()\n",
    "plt.plot(ind_a,cost_df['cost_fun'].values,'ko')\n",
    "msk_nc  = (cost_df['rxn_dir']=='NC').values\n",
    "msk_fwd = (cost_df['rxn_dir']=='FWD').values\n",
    "msk_rev = (cost_df['rxn_dir']=='REV').values\n",
    "plt.plot(ind_a[msk_nc],cost_df['cost_fun'][msk_nc],'ro')\n",
    "plt.plot(ind_a[msk_fwd],cost_df['cost_fun'][msk_fwd],'go')\n",
    "plt.plot(ind_a[msk_rev],cost_df['cost_fun'][msk_rev],'mo')\n",
    "# plt.plot(ind_a[rxn_dir_a=='FWD'],costfun_d['cost_fun_a'][rxn_dir_a=='FWD'],'go')\n",
    "# plt.plot(ind_a[rxn_dir_a=='REV'],costfun_d['cost_fun_a'][rxn_dir_a=='REV'],'mo')\n",
    "plt.show()"
   ]
  },
  {
   "cell_type": "code",
   "execution_count": null,
   "metadata": {},
   "outputs": [],
   "source": []
  },
  {
   "cell_type": "code",
   "execution_count": null,
   "metadata": {},
   "outputs": [],
   "source": [
    "thermoDB_mod.add_free_params([],typ='all')\n",
    "thermoDB_mod.del_free_params([],typ='phs')\n",
    "thermoDB_mod.del_free_params([],typ='rxnadj')\n",
    "param_stat_a = thermoDB_mod.get_param_names(typ='free')\n",
    "print( 'free: ', thermoDB_mod.get_param_names(typ='free'),'\\n' )\n",
    "costfun_d = thermoDB_mod.fit_model(full_output=True)\n",
    "param_stat_d = copy.copy(thermoDB_mod.param_d)\n",
    "result_stat_d = thermoDB_mod._fit_result_d\n",
    "print(param_stat_d)\n",
    "print(result_stat_d)"
   ]
  },
  {
   "cell_type": "code",
   "execution_count": null,
   "metadata": {},
   "outputs": [],
   "source": [
    "cost_df = costfun_d['cost_fun_df']\n",
    "\n",
    "ind_a = np.arange(cost_df.shape[0])\n",
    "plt.clf()\n",
    "plt.plot(ind_a,cost_df['cost_fun'].values,'ko')\n",
    "msk_nc  = (cost_df['rxn_dir']=='NC').values\n",
    "msk_fwd = (cost_df['rxn_dir']=='FWD').values\n",
    "msk_rev = (cost_df['rxn_dir']=='REV').values\n",
    "plt.plot(ind_a[msk_nc],cost_df['cost_fun'][msk_nc],'ro')\n",
    "plt.plot(ind_a[msk_fwd],cost_df['cost_fun'][msk_fwd],'go')\n",
    "plt.plot(ind_a[msk_rev],cost_df['cost_fun'][msk_rev],'mo')\n",
    "# plt.plot(ind_a[rxn_dir_a=='FWD'],costfun_d['cost_fun_a'][rxn_dir_a=='FWD'],'go')\n",
    "# plt.plot(ind_a[rxn_dir_a=='REV'],costfun_d['cost_fun_a'][rxn_dir_a=='REV'],'mo')\n",
    "plt.show()"
   ]
  },
  {
   "cell_type": "code",
   "execution_count": null,
   "metadata": {},
   "outputs": [],
   "source": [
    "thermoDB_mod.del_free_params([],typ='all')\n",
    "# thermoDB_mod.add_free_params([],typ='phs')\n",
    "# thermoDB_mod.del_free_params(['dH0_phs0'])\n",
    "thermoDB_mod.add_free_params(['dH0_phs0','dH0_phs1'])\n",
    "param_phs_a = thermoDB_mod.get_param_names(typ='free')\n",
    "\n",
    "print([param_stat_d[key] for key in param_phs_a])"
   ]
  },
  {
   "cell_type": "code",
   "execution_count": null,
   "metadata": {},
   "outputs": [],
   "source": [
    "# thermoDB_mod.add_free_params([],typ='all')\n",
    "# thermoDB_mod.del_free_params([],typ='rxnadj')\n",
    "# thermoDB_mod.del_free_params(['dH0_phs0'])\n",
    "# param_phs_a = thermoDB_mod.get_param_names(typ='free')"
   ]
  },
  {
   "cell_type": "code",
   "execution_count": null,
   "metadata": {},
   "outputs": [],
   "source": [
    "importlib.reload(phasepy)\n",
    "thermoDB_mod = phasepy.ThermoDBModel(raw_df,mask_phs_l=['fSil'],\n",
    "                                     Tthresh_scl=0.001)\n",
    "\n",
    "thermoDB_mod.del_free_params([],typ='all')\n",
    "thermoDB_mod.add_free_params(['dH0_phs0','dH0_phs1'])\n",
    "param_phs_a = thermoDB_mod.get_param_names(typ='free')\n",
    "\n",
    "print([param_stat_d[key] for key in param_phs_a])"
   ]
  },
  {
   "cell_type": "code",
   "execution_count": null,
   "metadata": {},
   "outputs": [],
   "source": [
    "print( 'free: ', thermoDB_mod.get_param_names(typ='free'),'\\n' )\n",
    "costfun_d = thermoDB_mod.fit_model()\n",
    "param_phs_d = copy.copy(thermoDB_mod.param_d)\n",
    "result_phs_d = thermoDB_mod._fit_result_d\n",
    "print(param_phs_d)\n",
    "print(result_phs_d)\n",
    "\n",
    "print([param_stat_d[key] for key in param_phs_a])"
   ]
  },
  {
   "cell_type": "code",
   "execution_count": null,
   "metadata": {},
   "outputs": [],
   "source": [
    "iphs = thermoDB_mod.phase_l[0]\n",
    "iphs.get_gibbs_energy(300,1)"
   ]
  },
  {
   "cell_type": "code",
   "execution_count": null,
   "metadata": {},
   "outputs": [],
   "source": [
    "thermoDB_mod.param_scl_d"
   ]
  },
  {
   "cell_type": "code",
   "execution_count": null,
   "metadata": {},
   "outputs": [],
   "source": [
    "free_params = thermoDB_mod.get_param_names(typ='free')\n",
    "param0_a = thermoDB_mod.unscale_params(thermoDB_mod.get_param_values(free_params), free_params)\n",
    "print(param0_a)\n",
    "print(thermoDB_mod.eval_model_costfun_scl(param0_a, free_params=free_params))\n"
   ]
  },
  {
   "cell_type": "code",
   "execution_count": null,
   "metadata": {},
   "outputs": [],
   "source": [
    "param0_a[1]=param0_a[1]-1e3"
   ]
  },
  {
   "cell_type": "code",
   "execution_count": null,
   "metadata": {},
   "outputs": [],
   "source": [
    "# free_params = thermoDB_mod.get_param_names(typ='free')\n",
    "# param0_a = thermoDB_mod.unscale_params(thermoDB_mod.get_param_values(free_params), free_params)\n",
    "print(param0_a)\n",
    "print(thermoDB_mod.eval_model_costfun_scl(param0_a, free_params=free_params))"
   ]
  },
  {
   "cell_type": "code",
   "execution_count": null,
   "metadata": {},
   "outputs": [],
   "source": [
    "p_phs0_a = np.array([param_stat_d[key] for key in param_phs_a])\n",
    "p_phsf_a = np.array([param_phs_d[key] for key in param_phs_a])\n",
    "p_phsf_a-p_phs0_a"
   ]
  },
  {
   "cell_type": "code",
   "execution_count": null,
   "metadata": {},
   "outputs": [],
   "source": [
    "costfun_d = thermoDB_mod.eval_model_costfun(p_phs0_a,param_phs_a,full_output=True)\n",
    "costfun_d\n"
   ]
  },
  {
   "cell_type": "code",
   "execution_count": null,
   "metadata": {},
   "outputs": [],
   "source": [
    "plt.plot(costfun_d['cost_fun_a'],'ko')\n",
    "plt.plot(costfun_d['cost_fun_a'],'ko')\n",
    "plt.show()"
   ]
  },
  {
   "cell_type": "code",
   "execution_count": null,
   "metadata": {},
   "outputs": [],
   "source": [
    "thermoDB_mod.get_param_values([],typ='free')"
   ]
  },
  {
   "cell_type": "code",
   "execution_count": null,
   "metadata": {},
   "outputs": [],
   "source": [
    "free_params = thermoDB_mod.get_param_names(typ='free')\n",
    "param0_a = thermoDB_mod.unscale_params(thermoDB_mod.get_param_values(free_params), free_params)\n",
    "param0_a[0] = 0.0\n",
    "param0_a[1] = 0.0\n",
    "print(param0_a)\n",
    "print(thermoDB_mod.eval_model_costfun_scl(param0_a, free_params=free_params))\n",
    "param0_a[0] = -2.0\n",
    "param0_a[1] = -2.0\n",
    "print(thermoDB_mod.eval_model_costfun_scl(param0_a, free_params=free_params))"
   ]
  },
  {
   "cell_type": "code",
   "execution_count": null,
   "metadata": {},
   "outputs": [],
   "source": [
    "thermoDB_mod.fit_model()"
   ]
  },
  {
   "cell_type": "code",
   "execution_count": null,
   "metadata": {},
   "outputs": [],
   "source": [
    "free_params = thermoDB_mod.get_param_names(typ='free')\n",
    "param0_a = thermoDB_mod.unscale_params(thermoDB_mod.get_param_values(free_params), free_params)\n",
    "costfun = thermoDB_mod.eval_model_costfun_scl(param0_a, free_params=free_params)\n",
    "print(costfun)\n",
    " "
   ]
  },
  {
   "cell_type": "code",
   "execution_count": null,
   "metadata": {},
   "outputs": [],
   "source": [
    "thermoDB_mod.fit_model()\n",
    "param_names_a = thermoDB_mod.get_param_names(typ='free')\n",
    "param_free_a = thermoDB_mod.get_param_values([],typ='free')\n",
    "param_scl_free_a = thermoDB_mod.get_param_scl_values([],typ='free')\n",
    "\n",
    "# print()\n",
    "# print('names:        ', param_names_a,'\\n')\n",
    "# print('scl:        ', param_scl_free_a,'\\n')\n",
    "# print('params:        ', param_free_a,'\\n')"
   ]
  },
  {
   "cell_type": "code",
   "execution_count": null,
   "metadata": {},
   "outputs": [],
   "source": []
  },
  {
   "cell_type": "code",
   "execution_count": null,
   "metadata": {},
   "outputs": [],
   "source": []
  },
  {
   "cell_type": "code",
   "execution_count": null,
   "metadata": {},
   "outputs": [],
   "source": [
    "thermoDB_mod.param_d['alpha_0_rxn0']"
   ]
  },
  {
   "cell_type": "code",
   "execution_count": null,
   "metadata": {},
   "outputs": [],
   "source": []
  },
  {
   "cell_type": "code",
   "execution_count": null,
   "metadata": {},
   "outputs": [],
   "source": [
    "thermoDB_mod.param_scl_d\n",
    "thermoDB_mod.fit_model(free_params=['alpha_0_rxn2'])"
   ]
  },
  {
   "cell_type": "code",
   "execution_count": null,
   "metadata": {},
   "outputs": [],
   "source": [
    "# thermoDB_mod.param_d"
   ]
  },
  {
   "cell_type": "code",
   "execution_count": null,
   "metadata": {},
   "outputs": [],
   "source": [
    "thermoDB_mod.eval_model_costfun()"
   ]
  },
  {
   "cell_type": "code",
   "execution_count": null,
   "metadata": {},
   "outputs": [],
   "source": [
    "a=np.arange(30)\n",
    "np.isnan(a)"
   ]
  },
  {
   "cell_type": "code",
   "execution_count": null,
   "metadata": {},
   "outputs": [],
   "source": [
    "import scipy as sp\n",
    "sp.misc.logsumexp?\n"
   ]
  },
  {
   "cell_type": "code",
   "execution_count": null,
   "metadata": {},
   "outputs": [],
   "source": []
  },
  {
   "cell_type": "code",
   "execution_count": null,
   "metadata": {},
   "outputs": [],
   "source": [
    "thermoDB_mod.data_df\n",
    "thermoDB_mod.param_d"
   ]
  },
  {
   "cell_type": "code",
   "execution_count": null,
   "metadata": {},
   "outputs": [],
   "source": [
    "print(thermoDB_mod.phasesym_l)\n",
    "print(thermoDB_mod.phase_l)"
   ]
  },
  {
   "cell_type": "code",
   "execution_count": null,
   "metadata": {},
   "outputs": [],
   "source": [
    "print(thermoDB_mod.rxn_eqn_l)\n",
    "print(thermoDB_mod.rxn_l)"
   ]
  },
  {
   "cell_type": "code",
   "execution_count": null,
   "metadata": {},
   "outputs": [],
   "source": [
    "thermoDB_mod.rxn_l"
   ]
  },
  {
   "cell_type": "code",
   "execution_count": null,
   "metadata": {},
   "outputs": [],
   "source": [
    "thermoDB_mod.fit_model()"
   ]
  },
  {
   "cell_type": "code",
   "execution_count": null,
   "metadata": {},
   "outputs": [],
   "source": [
    "thermoDB_mod.data_df[['P_kbar','T_C','RxnDir','Rxn']]"
   ]
  },
  {
   "cell_type": "code",
   "execution_count": null,
   "metadata": {},
   "outputs": [],
   "source": []
  },
  {
   "cell_type": "code",
   "execution_count": null,
   "metadata": {},
   "outputs": [],
   "source": [
    "#  # Mark biased pressures for Ky\n",
    "#  # msk_rxn = dat_df['Rxn']=='Ky = Sil'\n",
    "#  msk_rxn = dat_df['RxnPhases']=='Ky:Sil'\n",
    "#  msk_trust = dat_df['Trust']=='Yes'\n",
    "#  \n",
    "#  msk_sil = dat_df['RxnDir']=='FWD'\n",
    "#  msk_bracket_upper = dat_df['P_kbar_Bound']=='upper'\n",
    "#  msk_sil_bias = pd.concat((msk_rxn,msk_trust,msk_sil,msk_bracket_upper),axis=1).all(axis=1)\n",
    "#  dat_df.loc[msk_sil_bias,'Trust']  = 'Maybe'\n",
    "#  # print( dat_df.loc[msk_sil_bias,'Trust'])\n",
    "#  \n",
    "#  msk_ky = dat_df['RxnDir']=='REV'\n",
    "#  msk_bracket_lower = dat_df['P_kbar_Bound']=='lower'\n",
    "#  msk_ky_bias = pd.concat((msk_rxn,msk_trust,msk_ky,msk_bracket_lower),axis=1).all(axis=1)\n",
    "#  dat_df.loc[msk_ky_bias,'Trust'] = 'Maybe'\n",
    "#  # print( dat_df.loc[msk_ky_bias,'Trust'] )\n",
    "#  \n",
    "#  dat_df.loc[dat_df['Rxn']=='Ky = Sil']\n",
    "#  # msk_bracket_upper = (dat_df.loc[msk_ky_sil,'P_kbar_Bound']=='upper')&(dat_df.loc[msk_ky_sil,'RxnDir']=='REV')\n",
    "#  # dat_df.loc[msk_bracket_lower,'Trust']\n",
    "#  # msk_bracket_lower = (dat_df.loc[dat_df['Rxn']=='Ky = Sil','P_kbar_Bound']=='lower')&(dat_df.loc[dat_df['Rxn']=='Ky = Sil','RxnDir']=='FWD')\n",
    "#  # msk_bracket_upper = (dat_df.loc[msk_ky_sil,'P_kbar_Bound']=='upper')&(dat_df.loc[msk_ky_sil,'RxnDir']=='REV')\n",
    "#  # dat_df.loc[msk_bracket_lower,'Trust']"
   ]
  },
  {
   "cell_type": "code",
   "execution_count": null,
   "metadata": {},
   "outputs": [],
   "source": []
  },
  {
   "cell_type": "code",
   "execution_count": null,
   "metadata": {},
   "outputs": [],
   "source": [
    "importlib.reload(phasepy)\n",
    "thermoDB = phasepy.ThermoDB()"
   ]
  },
  {
   "cell_type": "code",
   "execution_count": null,
   "metadata": {},
   "outputs": [],
   "source": []
  },
  {
   "cell_type": "code",
   "execution_count": null,
   "metadata": {},
   "outputs": [],
   "source": [
    "rxn_phases_uniq_l = dat_df['RxnPhases'].unique()\n",
    "rxn_phases_uniq_l = rxn_phases_uniq_l[np.where(['fSil' not in rxn for rxn in rxn_phases_uniq_l])[0]]\n",
    "rxn_eqn_uniq_l = dat_df['Rxn'].unique()\n",
    "rxn_eqn_uniq_l = rxn_eqn_uniq_l[np.where(['fSil' not in rxn for rxn in rxn_eqn_uniq_l])[0]]\n",
    "\n",
    "rxn_obj_l = []\n",
    "for rxn_eqn in rxn_eqn_uniq_l:\n",
    "    rxn_d = phasepy.ThermoDB.parse_rxn( rxn_eqn )\n",
    "    # print(rxn_d)\n",
    "    rxn_obj_l.append(thermoDB.new_rxn(rxn_d['reac_l'],rxn_d['prod_l']))\n",
    "    # reac_l, prod_l = get_reaction_phases(rxn_phases)\n",
    "    # iphase_l = np.hstack((reac_l,prod_l))\n",
    "    # phase_l.append(iphase_l)\n",
    "    \n",
    "                     \n",
    "# print(rxn_obj_l)\n",
    "T_tp,P_tp = rxn_obj_l[0].get_simultaneous_rxn_cond(rxn_obj_l[1])\n",
    "print(T_tp,P_tp)"
   ]
  },
  {
   "cell_type": "code",
   "execution_count": null,
   "metadata": {},
   "outputs": [],
   "source": [
    "ls"
   ]
  },
  {
   "cell_type": "code",
   "execution_count": null,
   "metadata": {},
   "outputs": [],
   "source": [
    "import nbformat"
   ]
  },
  {
   "cell_type": "code",
   "execution_count": null,
   "metadata": {},
   "outputs": [],
   "source": [
    "nbformat.io."
   ]
  },
  {
   "cell_type": "code",
   "execution_count": null,
   "metadata": {},
   "outputs": [],
   "source": [
    "ls"
   ]
  },
  {
   "cell_type": "code",
   "execution_count": null,
   "metadata": {},
   "outputs": [],
   "source": [
    "\n",
    "\n",
    "plt.clf()\n",
    "\n",
    "\n",
    "# cmap = plt.get_cmap(name='seismic')\n",
    "cmap = plt.get_cmap(name='viridis')\n",
    "col_l = [cmap.colors[0], cmap.colors[255], cmap.colors[127]]\n",
    "# col_l=[[1,0,0],[0,1,0],[0,0,1]]\n",
    "Tlims = 273.15+np.array([400,900])\n",
    "msk_trust = dat_df['Trust'] == 'Yes'\n",
    "\n",
    "\n",
    "rxn_bnd_l = []\n",
    "TP_bnd_l = []\n",
    "\n",
    "for rxn_obj,rxn,col in zip(rxn_obj_l,rxn_uniq_l,col_l):\n",
    "    msk_rxn = dat_df['Rxn'] == rxn\n",
    "    msk_fwd = dat_df['RxnDir'] == 'FWD'\n",
    "    msk_rev = dat_df['RxnDir'] == 'REV'\n",
    "    msk_nc = dat_df['RxnDir'] == 'NC'\n",
    "    # dat_df_sub = dat_df[pd.concat((msk_rxn,msk_trust),axis=1).all(axis=1)]\n",
    "    dat_fwdrxn_df = dat_df[msk_rxn&msk_trust&msk_fwd]\n",
    "    dat_revrxn_df = dat_df[msk_rxn&msk_trust&msk_rev]\n",
    "    dat_ncrxn_df = dat_df[msk_rxn&msk_trust&msk_nc]\n",
    "    \n",
    "    TP_bound_a = rxn_obj.trace_rxn_bound(Tlims=Tlims,Nsamp=100)\n",
    "    TP_bnd_l.append(TP_bound_a)\n",
    "    stable_a = rxn_obj.get_rxn_stability(TP_bound_a,rxn_obj_l)\n",
    "    # [rxn_obj.get_rxn_gibbs_energy(T,P) for (T,P) in TP_bound_a.T]\n",
    "    \n",
    "    pfwd, = plt.plot(dat_fwdrxn_df['T_C'],dat_fwdrxn_df['P_kbar'],'o',\n",
    "                     color=col)\n",
    "    prev, = plt.plot(dat_revrxn_df['T_C'],dat_revrxn_df['P_kbar'],'o',\n",
    "                     color=col)\n",
    "    # pnc, = plt.plot(dat_ncrxn_df['T_C'],dat_ncrxn_df['P_kbar'],'x',\n",
    "    #                  color=col)\n",
    "    \n",
    "    # rxn_bnd, = plt.plot(TP_bound_a[0]-273.15, TP_bound_a[1]/1e3,'-',color=col)\n",
    "    rxn_bnd, = plt.plot(TP_bound_a[0][stable_a]-273.15, TP_bound_a[1][stable_a]/1e3,'-',color=col)\n",
    "    rxn_bnd_meta, = plt.plot(TP_bound_a[0][~stable_a]-273.15, TP_bound_a[1][~stable_a]/1e3,'--',color=col)\n",
    "    rxn_bnd_l.append(rxn_bnd)\n",
    "    \n",
    "    prev.set_markerfacecolor('none')\n",
    "    prev.set_markersize(10)\n",
    "    pfwd.set_markersize(7)\n",
    "    \n",
    "    \n",
    "plt.plot(T_tp-273.15,P_tp/1e3,'r+',mew=2)\n",
    "# plt.ylim(0,10)\n",
    "# plt.ylim(0,30)\n",
    "\n",
    "# plt.xlim(350,950)\n",
    "# plt.ylim(0,13)\n",
    "\n",
    "# plt.xlim(600,1500)\n",
    "# plt.ylim(5,30)\n",
    "\n",
    "plt.xlabel('Temp.  [C]')\n",
    "plt.ylabel('Press.  [kbar]')\n",
    "\n",
    "plt.legend(rxn_bnd_l, rxn_uniq_l)\n",
    "plt.show()"
   ]
  },
  {
   "cell_type": "code",
   "execution_count": null,
   "metadata": {},
   "outputs": [],
   "source": [
    "importlib.reload(phasepy)"
   ]
  },
  {
   "cell_type": "code",
   "execution_count": null,
   "metadata": {},
   "outputs": [],
   "source": [
    "thermoDB_mod = phasepy.ThermoDBModel(thermoDB)\n",
    "thermoDB_mod.load_dataset(dat_df)\n",
    "thermoDB_mod.set_model_rxns(rxn_obj_l)"
   ]
  },
  {
   "cell_type": "code",
   "execution_count": null,
   "metadata": {},
   "outputs": [],
   "source": [
    "thermoDB_mod.param_d"
   ]
  },
  {
   "cell_type": "code",
   "execution_count": null,
   "metadata": {},
   "outputs": [],
   "source": [
    "thermoDB_mod.phasesym_l\n"
   ]
  },
  {
   "cell_type": "code",
   "execution_count": null,
   "metadata": {},
   "outputs": [],
   "source": [
    "rxn_ky_and = thermoDB.new_rxn(['Ky','And'])\n",
    "print(rxn_ky_and.get_rxn_gibbs_energy(300,4e3))\n",
    "print(rxn_ky_and.get_rxn_entropy(300,4e3))\n",
    "print(rxn_ky_and.get_rxn_volume(300,4e3))\n",
    "print(rxn_ky_and.get_rxn_bound(P=4e3))\n",
    "print(rxn_ky_and.trace_rxn_bound(Tlims=[400+273,1000+273]))"
   ]
  },
  {
   "cell_type": "code",
   "execution_count": null,
   "metadata": {},
   "outputs": [],
   "source": [
    "rxn_ky_sil = thermoDB.new_rxn(['Ky','Sil'])\n",
    "rxn_ky_sil.get_rxn_gibbs_energy(840,5e3)\n",
    "\n",
    "print(rxn_ky_sil.trace_rxn_bound(Plims=[1e3,9e3]))\n",
    "print(rxn_ky_sil.trace_rxn_bound(Tlims=[400+273,1000+273]))"
   ]
  },
  {
   "cell_type": "code",
   "execution_count": null,
   "metadata": {},
   "outputs": [],
   "source": [
    "rxn_and_sil = thermoDB.new_rxn(['And','Sil'])\n",
    "rxn_and_sil.get_rxn_gibbs_energy(700,5e3)\n",
    "\n",
    "print(rxn_and_sil.trace_rxn_bound(Plims=[1e3,9e3]))\n",
    "print(rxn_and_sil.trace_rxn_bound(Tlims=[400+273,1000+273]))"
   ]
  },
  {
   "cell_type": "code",
   "execution_count": null,
   "metadata": {},
   "outputs": [],
   "source": []
  },
  {
   "cell_type": "code",
   "execution_count": null,
   "metadata": {},
   "outputs": [],
   "source": [
    "# df[['T_C','P_kbar']].apply(pd.to_numeric, errors='coerce').notnull().all(axis=1)\n",
    "msk = df[['T_C','P_kbar']].apply(pd.to_numeric, errors='coerce').notnull().all(axis=1)\n",
    "# df[['T_C','P_kbar']]"
   ]
  },
  {
   "cell_type": "code",
   "execution_count": null,
   "metadata": {},
   "outputs": [],
   "source": []
  },
  {
   "cell_type": "code",
   "execution_count": null,
   "metadata": {},
   "outputs": [],
   "source": []
  },
  {
   "cell_type": "code",
   "execution_count": null,
   "metadata": {},
   "outputs": [],
   "source": [
    "# phasesym_l = ['cEn','Per','Fo']\n",
    "# phasesym_l = ['Fo','Crd','En','Spl']\n",
    "\n",
    "############################\n",
    "# Check Phase Reversal Rxns\n",
    "############################ \n",
    "\n",
    "# Ackermand_1975\n",
    "# phasesym_l = ['Chl','Spl','Crn','Spr','H2O'] # absent phases\n",
    "# phasesym_l = ['Spr','Prp','Spl','Crn'] # absent phases\n",
    "# phasesym_l = ['Clc','Crn','Prp','Spl','H2O']\n",
    "\n",
    "# Chernosky_1974\n",
    "phasesym_l = ['Clc','Fo','En','Spl','H2O']\n",
    "\n",
    "# Chernosky_1974\n",
    "phasesym_l = ['Clc','Fo','En','Spl','H2O']\n",
    "\n",
    "# Chernosky_1978\n",
    "phasesym_l = ['Clc','Qz','Tlc','Crd','H2O']\n",
    "\n",
    "# Danckwerth_Newton_1978\n",
    "phasesym_l = ['En','Spl','Prp','Fo']\n",
    "\n",
    "# Fawcett_Yoder_1966\n",
    "phasesym_l = ['Clc','Fo','Crd','Spl','H2O']\n",
    "phasesym_l = ['Clc','Fo','En','Spl','H2O']\n",
    "\n",
    "# Gasparik_Newton_1984\n",
    "# phasesym_l = ['Opx','Spl','Prp','Fo']\n",
    "phasesym_l = ['En','Spl','Prp','Fo']\n",
    "phasesym_l = ['En','Crn','Prp']\n",
    "# phasesym_l = ['En','Spl','Fo'] # NOT a balanced reaction\n",
    "\n",
    "# Herzberg 1983\n",
    "phasesym_l = ['Fo','Crd','En','Spl']\n",
    "\n",
    "\n",
    "# Jenkins 1981\n",
    "# phasesym_l = ['En','Spl','Fo','H2O','Clc','cEn']\n",
    "# phasesym_l = ['Clc','cEn','En','Spl','Fo','H2O']\n",
    "# phasesym_l = ['Clc','cEn','En','Spl','Fo','H2O']\n",
    "# phasesym_l = ['En','Spl','Fo','H2O','Clc']\n",
    "\n",
    "phasesym_l = ['Clc','En','Spl','Fo','H2O']\n",
    "phasesym_l = ['Clc','En','','Spl','Fo','H2O']\n",
    "# Clc present?\n",
    "# phasesym_l = ['Clc','cEn','En','Spl','Fo','H2O']\n",
    "\n",
    "# assem_obj = thermoDB.new_assemblage(phasesym_l)\n",
    "# assem_obj.phase_l\n",
    "rxn_obj = thermoDB.new_rxn(phasesym_l)\n",
    "print('phases: ',rxn_obj.assemblage.phasesym_l)\n",
    "print('rxn coef: ', rxn_obj.rxn_coef_a)\n",
    "print('formula: ', rxn_obj.assemblage.props_d['formula_all_l'])"
   ]
  },
  {
   "cell_type": "code",
   "execution_count": null,
   "metadata": {},
   "outputs": [],
   "source": [
    "print(rxn_obj.get_rxn_gibbs_energy(300,1,peratom=True))\n",
    "print(rxn_obj.get_rxn_enthalpy(300,10,peratom=True)) \n",
    "print(rxn_obj.get_rxn_volume(300,10,peratom=True)) \n",
    "print(rxn_obj.get_rxn_entropy(300,100,peratom=True))"
   ]
  },
  {
   "cell_type": "code",
   "execution_count": null,
   "metadata": {},
   "outputs": [],
   "source": [
    "print(rxn_obj.rxn_coef_a)\n",
    "print(rxn_obj.rxn_dir_a)"
   ]
  },
  {
   "cell_type": "code",
   "execution_count": null,
   "metadata": {},
   "outputs": [],
   "source": [
    "phase_obj = thermoDB.new_phase('Spl')\n",
    "phase_obj.props_d['abbrev']"
   ]
  },
  {
   "cell_type": "code",
   "execution_count": null,
   "metadata": {},
   "outputs": [],
   "source": [
    "phasesym_l = ['Fo','En','cEn']\n",
    "assemblage_obj = thermoDB.new_assemblage(phasesym_l)\n",
    "# assemblage_obj.props_d"
   ]
  },
  {
   "cell_type": "code",
   "execution_count": null,
   "metadata": {},
   "outputs": [],
   "source": [
    "assemblage_obj.phase_l"
   ]
  },
  {
   "cell_type": "code",
   "execution_count": null,
   "metadata": {},
   "outputs": [],
   "source": [
    "vol_all = assemblage_obj.get_volume_all([350,3000],[1.0,100])\n",
    "vol_all[0]"
   ]
  },
  {
   "cell_type": "code",
   "execution_count": null,
   "metadata": {},
   "outputs": [],
   "source": [
    "# phasesym_l = ['Fo','Crd','En','Spl']\n",
    "phasesym_l = ['cEn','Per','Fo']\n",
    "rxn_obj = thermoDB.new_rxn(phasesym_l)\n",
    "# rxn_obj"
   ]
  },
  {
   "cell_type": "code",
   "execution_count": null,
   "metadata": {},
   "outputs": [],
   "source": []
  },
  {
   "cell_type": "code",
   "execution_count": null,
   "metadata": {},
   "outputs": [],
   "source": []
  },
  {
   "cell_type": "code",
   "execution_count": null,
   "metadata": {},
   "outputs": [],
   "source": [
    "# df=thermoDB.purephaselib_df\n",
    "\n",
    "\n",
    "# thermoDB.purephaselib_df['Abbrev'].iloc[np.where(thermoDB.purephaselib_df['Abbrev']=='Tlc')].astype(np.str)"
   ]
  },
  {
   "cell_type": "code",
   "execution_count": null,
   "metadata": {},
   "outputs": [],
   "source": [
    "\n",
    "thermoDB.purephaselib_df"
   ]
  },
  {
   "cell_type": "code",
   "execution_count": null,
   "metadata": {},
   "outputs": [],
   "source": []
  },
  {
   "cell_type": "code",
   "execution_count": null,
   "metadata": {},
   "outputs": [],
   "source": [
    "thermoDB.purephase_props_d['Ab']"
   ]
  },
  {
   "cell_type": "code",
   "execution_count": null,
   "metadata": {},
   "outputs": [],
   "source": []
  },
  {
   "cell_type": "code",
   "execution_count": null,
   "metadata": {},
   "outputs": [],
   "source": [
    "thermoDB.enable_gibbs_energy_reference_state()\n",
    "thermoDB.disable_gibbs_energy_reference_state()"
   ]
  },
  {
   "cell_type": "code",
   "execution_count": null,
   "metadata": {},
   "outputs": [],
   "source": [
    "thermoDB.all_purephases_df"
   ]
  },
  {
   "cell_type": "code",
   "execution_count": null,
   "metadata": {},
   "outputs": [],
   "source": [
    "assemblage = phasepy.PhaseAssemblage()\n",
    "phase_l = ['cEn','Per','Fo']\n",
    "# phase_l = ['cEn','Per','Per','Fo']\n",
    "# phase_l = ['cEn','Per','Fo','Fa']\n",
    "# phase_l = ['cEn','Per','Fa','Fo']\n",
    "\n",
    "# phase_l = ['cEn','Per']\n",
    "assemblage.set_phase_assemblage(phase_l,useabbrev=True,rxn=True)\n"
   ]
  },
  {
   "cell_type": "code",
   "execution_count": null,
   "metadata": {},
   "outputs": [],
   "source": [
    "print(assemblage.phase_formula_all)\n",
    "print(assemblage.mw_all)\n",
    "print(assemblage.phase_name_all)\n",
    "print(assemblage.formula_as_element_array_all)\n",
    "print(assemblage.elements)"
   ]
  },
  {
   "cell_type": "code",
   "execution_count": null,
   "metadata": {},
   "outputs": [],
   "source": [
    "# print(assemblage._rxn_coef_a)\n",
    "# print(assemblage._get_rxn_coef())\n",
    "# print(assemblage._rxn_coef_a)"
   ]
  },
  {
   "cell_type": "code",
   "execution_count": null,
   "metadata": {},
   "outputs": [],
   "source": []
  },
  {
   "cell_type": "code",
   "execution_count": null,
   "metadata": {},
   "outputs": [],
   "source": []
  },
  {
   "cell_type": "code",
   "execution_count": null,
   "metadata": {},
   "outputs": [],
   "source": [
    "T_a = np.array([1000,2000,3000])\n",
    "P_a = 1.0\n",
    "print(assemblage.get_gibbs_energy_all(T_a,P_a))\n",
    "print(assemblage.get_rxn_gibbs_energy(T_a,P_a,peratom=True))\n",
    "print(assemblage.get_rxn_enthalpy(T_a,P_a,peratom=True))\n",
    "print(assemblage.get_rxn_volume(T_a,P_a,peratom=True))"
   ]
  },
  {
   "cell_type": "code",
   "execution_count": null,
   "metadata": {},
   "outputs": [],
   "source": []
  },
  {
   "cell_type": "code",
   "execution_count": null,
   "metadata": {},
   "outputs": [],
   "source": [
    "############ NOT VALID BELOW THIS POINT #############"
   ]
  },
  {
   "cell_type": "code",
   "execution_count": null,
   "metadata": {},
   "outputs": [],
   "source": [
    "ind0 = np.where(phase_df['MineralSpeciesAbbrev']=='Aeg')[0][0]\n",
    "ind1 = np.where(phase_df['MineralSpeciesAbbrev']=='Spl')[0][0]"
   ]
  },
  {
   "cell_type": "code",
   "execution_count": null,
   "metadata": {},
   "outputs": [],
   "source": [
    "print(phase_df['MineralSpeciesName'])\n",
    "print(phase_df['MineralSpeciesAbbrev'])"
   ]
  },
  {
   "cell_type": "code",
   "execution_count": null,
   "metadata": {},
   "outputs": [],
   "source": [
    "# from ctypes import cdll\n",
    "# from ctypes import util\n",
    "# from rubicon.objc import ObjCClass, NSObject, objc_method\n",
    "# cdll.LoadLibrary(util.find_library('phaseobjc'))"
   ]
  },
  {
   "cell_type": "code",
   "execution_count": null,
   "metadata": {},
   "outputs": [],
   "source": []
  },
  {
   "cell_type": "code",
   "execution_count": null,
   "metadata": {},
   "outputs": [],
   "source": [
    "mol_a = np.array([1.0,2.0,-3.0])\n",
    "# phasepy.double_vector_to_array(phasepy.array_to_double_vector(mol_a))\n",
    "# phasepy.double_vector_to_array(phasepy.array_to_double_vector(mol_a))\n",
    "mol_vec = phasepy.array_to_double_vector(mol_a)\n",
    "phasepy.double_vector_to_array(mol_vec)"
   ]
  },
  {
   "cell_type": "code",
   "execution_count": null,
   "metadata": {},
   "outputs": [],
   "source": [
    "import ctypes\n",
    "nc=2\n",
    "m = (ctypes.c_double*nc)()\n",
    "ctypes.cast(m, ctypes.POINTER(ctypes.c_double))\n",
    "m[0] =  1.0\n",
    "m[1] =  3.0"
   ]
  },
  {
   "cell_type": "code",
   "execution_count": null,
   "metadata": {},
   "outputs": [],
   "source": [
    "paramkey = 'delta H'\n",
    "paramkey = 'S'\n",
    "paramkey = 'Cp k3'\n",
    "And_phs = phasepy.Phase('Andalusite')\n",
    "dchempot_dw = And_phs._phase_obj.getChemicalPotentialDerivativesForParameter_usingMolesOfComponents_andT_andP_(paramkey,m,T,P) \n",
    "print(phasepy.double_vector_to_array(dchempot_dw))"
   ]
  },
  {
   "cell_type": "code",
   "execution_count": null,
   "metadata": {},
   "outputs": [],
   "source": [
    "Fsp_phs = phasepy.Phase('Feldspar')\n",
    "Fsp_phs._phase_obj.numberOfSolutionSpecies()\n",
    "# And_phs._phase_obj.numberOfSolutionSpecies()\n",
    "Fsp_phs._phase_obj.numberOfSolutionComponents()\n",
    "# And_phs._phase_obj.numberOfSolutionComponents()\n"
   ]
  },
  {
   "cell_type": "code",
   "execution_count": null,
   "metadata": {},
   "outputs": [],
   "source": []
  },
  {
   "cell_type": "code",
   "execution_count": null,
   "metadata": {},
   "outputs": [],
   "source": []
  },
  {
   "cell_type": "code",
   "execution_count": null,
   "metadata": {},
   "outputs": [],
   "source": []
  },
  {
   "cell_type": "code",
   "execution_count": null,
   "metadata": {},
   "outputs": [],
   "source": []
  },
  {
   "cell_type": "code",
   "execution_count": null,
   "metadata": {},
   "outputs": [],
   "source": []
  },
  {
   "cell_type": "code",
   "execution_count": null,
   "metadata": {},
   "outputs": [],
   "source": []
  },
  {
   "cell_type": "code",
   "execution_count": null,
   "metadata": {},
   "outputs": [],
   "source": [
    "And_phs = phasepy.Phase('Andalusite')\n",
    "Qtz_phs = phasepy.Phase('Quartz')"
   ]
  },
  {
   "cell_type": "code",
   "execution_count": null,
   "metadata": {},
   "outputs": [],
   "source": [
    "# Qtz_phs.enable_gibbs_free_energy_reference_state()"
   ]
  },
  {
   "cell_type": "code",
   "execution_count": null,
   "metadata": {},
   "outputs": [],
   "source": []
  },
  {
   "cell_type": "code",
   "execution_count": null,
   "metadata": {},
   "outputs": [],
   "source": [
    "print(Qtz_phs.phase_name)\n",
    "print(Qtz_phs.phase_formula)\n",
    "print(Qtz_phs.mw)"
   ]
  },
  {
   "cell_type": "code",
   "execution_count": null,
   "metadata": {},
   "outputs": [],
   "source": [
    "phs = And_phs\n",
    "elem_a = phs.formula_as_element_array\n",
    "elem_name_a = phs.elements\n",
    "print('=== Elemental Composition ===')\n",
    "[print('%4s'%elem_name,elem) for elem_name,elem in zip(elem_name_a[elem_a>0],elem_a[elem_a>0])];"
   ]
  },
  {
   "cell_type": "markdown",
   "metadata": {},
   "source": [
    "## Evaluate Typical Properties"
   ]
  },
  {
   "cell_type": "code",
   "execution_count": null,
   "metadata": {},
   "outputs": [],
   "source": [
    "T=1000.0 # K\n",
    "P = 3e3 # bar\n",
    "\n",
    "print('=== Volumetric Info ===')\n",
    "print( 'V = ', Qtz_phs.get_volume(T,P), 'J/bar-mol' )\n",
    "print( 'dV/dT = ', Qtz_phs.get_dV_dT(T,P), 'J/bar-K-mol' )\n",
    "print( 'dV/dP = ', Qtz_phs.get_dV_dP(T,P), 'J/bar^2-mol' )\n",
    "print( 'd2V/dT2 = ', Qtz_phs.get_d2V_dT2(T,P), 'J/bar-K^2-mol' )\n",
    "print( 'd2V/dP2 = ', Qtz_phs.get_d2V_dP2(T,P), 'J/bar^3-mol' )\n",
    "print( 'd2V/dTdP = ', Qtz_phs.get_d2V_dTdP(T,P), 'J/bar^2-K-mol' )\n",
    "print()\n",
    "\n",
    "print('=== Heat Capacity Info ===')\n",
    "print( 'Cp = ', Qtz_phs.get_heat_capacity(T,P), 'J/K-mol')\n",
    "print( 'dCp/dT = ', Qtz_phs.get_dCp_dT(T,P), 'J/K^2-mol')\n",
    "print( 'dCp/dP = ?')\n",
    "print()\n",
    "\n",
    "print('=== Thermodyn Potentials Info ===')\n",
    "print( 'G = ', Qtz_phs.get_gibbs_energy(T,P), 'J/mol' )\n",
    "print( 'H = ', Qtz_phs.get_enthalpy(T,P), 'J/mol' )\n",
    "print( 'S = ', Qtz_phs.get_entropy(T,P), 'J/K-mol')\n"
   ]
  },
  {
   "cell_type": "code",
   "execution_count": null,
   "metadata": {},
   "outputs": [],
   "source": [
    "# Qtz_phs.get_chem_pot(T,P)\n",
    "Nparam = Qtz_phs.get_parameter_number()\n",
    "param_keys = Qtz_phs.get_parameter_names()\n",
    "print(param_keys)\n",
    "param_vals = Qtz_phs.get_parameter_values(all_params=True)\n",
    "print(param_vals)\n",
    "param_vals = Qtz_phs.get_parameter_values(param_names=['Cp l1','EOS v1'])\n",
    "print(param_vals)"
   ]
  },
  {
   "cell_type": "code",
   "execution_count": null,
   "metadata": {},
   "outputs": [],
   "source": [
    "Qtz_phs.set_parameter_values(['S','Cp k0'],param_values=[-1,-2])\n",
    "param_vals = Qtz_phs.get_parameter_values(all_params=True)\n",
    "param_units = Qtz_phs.get_parameter_units(all_params=True)\n",
    "print(param_vals)\n",
    "print(param_units)"
   ]
  },
  {
   "cell_type": "code",
   "execution_count": null,
   "metadata": {},
   "outputs": [],
   "source": []
  },
  {
   "cell_type": "code",
   "execution_count": null,
   "metadata": {},
   "outputs": [],
   "source": []
  },
  {
   "cell_type": "markdown",
   "metadata": {},
   "source": [
    "#### Create a python reference to the \"Feldspar\" solution phase class and instantiate an instance of that class.  \n",
    "In Objective-C the code has the form:\n",
    "```\n",
    "obj = [[FeldsparBerman alloc] init]\n",
    "```\n",
    "and in python:"
   ]
  },
  {
   "cell_type": "code",
   "execution_count": null,
   "metadata": {},
   "outputs": [],
   "source": []
  },
  {
   "cell_type": "markdown",
   "metadata": {},
   "source": []
  },
  {
   "cell_type": "markdown",
   "metadata": {},
   "source": [
    "## Use calibration protocal to examine model parameters"
   ]
  },
  {
   "cell_type": "code",
   "execution_count": null,
   "metadata": {},
   "outputs": [],
   "source": [
    "try:\n",
    "    if obj.supportsParameterCalibration() == 1:\n",
    "        print ('This phase supports the Calibration protocol')\n",
    "    Np = obj.getNumberOfFreeParameters()\n",
    "    print ('... there are', Np, 'parameters')\n",
    "    names = obj.getArrayOfNamesOfFreeParameters()\n",
    "    # dgdw = obj.getDgDwFromMolesOfComponents_andT_andP_(m, t, p)\n",
    "    for i in range (0, Np):\n",
    "        name = names.objectAtIndex_(i)\n",
    "        value = obj.getValueForParameterName_(name)\n",
    "        units = obj.getUnitsForParameterName_(name)\n",
    "        print ('Parameter \"'+name+'\" has value ', value, units)\n",
    "except AttributeError:\n",
    "    print ('This phase does not implement the parameter calibration protocol')"
   ]
  },
  {
   "cell_type": "code",
   "execution_count": null,
   "metadata": {},
   "outputs": [],
   "source": [
    "\n"
   ]
  },
  {
   "cell_type": "code",
   "execution_count": null,
   "metadata": {},
   "outputs": [],
   "source": []
  },
  {
   "cell_type": "code",
   "execution_count": null,
   "metadata": {},
   "outputs": [],
   "source": [
    "mineral_abbrev_ws = wb_Herzberg1983.get_sheet_by_name('mineral names+abbreviations')\n",
    "mineral_abbrev_df = pd.DataFrame(mineral_abbrev_ws.values,columns=['Phase','Abbreviation']).drop(range(4))\n",
    "nullval = mineral_abbrev_df.isnull()\n",
    "Nphase = (~nullval).sum()['Phase']\n",
    "mineral_abbrev_df = mineral_abbrev_df[~nullval].dropna()\n",
    "# mineral_abbrev_df.rename(index=np.arange(Nphase).tolist())\n",
    "# np.arange(Nphase).tolist()"
   ]
  },
  {
   "cell_type": "code",
   "execution_count": null,
   "metadata": {},
   "outputs": [],
   "source": [
    "mineral_abbrev_df"
   ]
  },
  {
   "cell_type": "code",
   "execution_count": null,
   "metadata": {},
   "outputs": [],
   "source": [
    "np.is"
   ]
  },
  {
   "cell_type": "code",
   "execution_count": null,
   "metadata": {},
   "outputs": [],
   "source": [
    "# mineral_abbrev_df"
   ]
  },
  {
   "cell_type": "code",
   "execution_count": null,
   "metadata": {},
   "outputs": [],
   "source": [
    "def load_phase_reversal_exp_bulk(filenm):\n",
    "    sheetnm = 'Experimental Bulk'\n",
    "    \n",
    "    xls = load_workbook(filenm)\n",
    "    \n",
    "    exp_ws = xls.get_sheet_by_name(sheetnm)\n",
    "    \n",
    "    exp_df = pd.DataFrame(exp_ws.values)\n",
    "    exp_df = pd.DataFrame(exp_ws.values,columns=exp_df.iloc[0]).drop(0)\n",
    "    \n",
    "    # Drop empty rows\n",
    "    nullval = exp_df.isnull()\n",
    "    # Nexp = (~nullval).sum()['name']\n",
    "    exp_df.dropna(subset=['name','auth_id'],inplace=True)\n",
    "    # exp_df.dropna(subset=['name'],inplace=True)\n",
    "    \n",
    "    return exp_df\n"
   ]
  },
  {
   "cell_type": "code",
   "execution_count": null,
   "metadata": {},
   "outputs": [],
   "source": [
    "# Load experimental phase reversal data\n",
    "exp_df = load_phase_reversal_exp_bulk('phase-reversal-data/Herzberg_1983.xlsx')\n",
    "T_a = np.array(exp_df['T1 (°C)'],dtype=np.float)+273.15\n",
    "P_a = np.array(exp_df['P_GPa'],dtype=np.float)*1e4\n",
    "\n",
    "print(exp_df['P_err_GPa'])\n",
    "print(exp_df['T_error (°C)'])\n",
    "#Perr_a = np.array(exp_df['P_err_GPa'],dtype=np.float)*1e4\n",
    "#Terr_a = np.array(exp_df['T_error (°C)'],dtype=np.float) + 273.15\n",
    "# exp_df"
   ]
  },
  {
   "cell_type": "code",
   "execution_count": null,
   "metadata": {},
   "outputs": [],
   "source": [
    "print(Fo_phs.phase_formula)\n",
    "print(Crd_phs.phase_formula)\n",
    "print(En_phs.phase_formula)\n",
    "print(Spl_phs.phase_formula)"
   ]
  },
  {
   "cell_type": "code",
   "execution_count": null,
   "metadata": {},
   "outputs": [],
   "source": [
    "import importlib\n",
    "importlib.reload(phasepy)"
   ]
  },
  {
   "cell_type": "code",
   "execution_count": null,
   "metadata": {},
   "outputs": [],
   "source": [
    "# phase_classnm_l = ['ForsteriteBerman','CordieriteBerman',\n",
    "#                    'OrthoenstatiteBerman','Mg_Al_SpinelBerman']\n",
    "phase_classnm_l = ['Forsterite','Cordierite',\n",
    "                   'Orthoenstatite','Mg_Al_Spinel']\n",
    "\n",
    "phase_l = phasepy.get_phase_list(phase_classnm_l,database='Berman')\n",
    "\n",
    "rxn_coef_a = phasepy.get_rxn_coef(phase_l)\n",
    "rxn_atom_num = phasepy.get_rxn_atom_num(phase_l)\n",
    "print(rxn_coef_a)\n",
    "print(rxn_atom_num)"
   ]
  },
  {
   "cell_type": "code",
   "execution_count": null,
   "metadata": {},
   "outputs": [],
   "source": [
    "dG_rxn_a = phasepy.get_rxn_gibbs_energy(phase_l,T_a,P_a,\n",
    "                                        rxn_coef_a=rxn_coef_a,\n",
    "                                        peratom=True)\n",
    "\n",
    "dS_rxn_a = phasepy.get_rxn_entropy(phase_l,T_a,P_a,rxn_coef_a=rxn_coef_a,\n",
    "                                   peratom=True)\n",
    "\n",
    "dV_rxn_a = phasepy.get_rxn_volume(phase_l,T_a,P_a,rxn_coef_a=rxn_coef_a,\n",
    "                                  peratom=True)\n",
    "print(dG_rxn_a)\n",
    "print(dS_rxn_a)\n",
    "print(dV_rxn_a)"
   ]
  },
  {
   "cell_type": "code",
   "execution_count": null,
   "metadata": {},
   "outputs": [],
   "source": []
  },
  {
   "cell_type": "code",
   "execution_count": null,
   "metadata": {},
   "outputs": [],
   "source": []
  },
  {
   "cell_type": "code",
   "execution_count": null,
   "metadata": {},
   "outputs": [],
   "source": []
  },
  {
   "cell_type": "code",
   "execution_count": null,
   "metadata": {},
   "outputs": [],
   "source": [
    "exp_df.columns"
   ]
  },
  {
   "cell_type": "code",
   "execution_count": null,
   "metadata": {},
   "outputs": [],
   "source": []
  },
  {
   "cell_type": "code",
   "execution_count": null,
   "metadata": {},
   "outputs": [],
   "source": []
  },
  {
   "cell_type": "code",
   "execution_count": null,
   "metadata": {},
   "outputs": [],
   "source": []
  },
  {
   "cell_type": "code",
   "execution_count": null,
   "metadata": {},
   "outputs": [],
   "source": []
  },
  {
   "cell_type": "code",
   "execution_count": null,
   "metadata": {},
   "outputs": [],
   "source": [
    "print(exp_df['reaction studied'])"
   ]
  },
  {
   "cell_type": "code",
   "execution_count": null,
   "metadata": {},
   "outputs": [],
   "source": [
    "print(exp_df['result'])"
   ]
  },
  {
   "cell_type": "code",
   "execution_count": null,
   "metadata": {},
   "outputs": [],
   "source": []
  },
  {
   "cell_type": "code",
   "execution_count": null,
   "metadata": {},
   "outputs": [],
   "source": []
  },
  {
   "cell_type": "code",
   "execution_count": null,
   "metadata": {},
   "outputs": [],
   "source": []
  },
  {
   "cell_type": "code",
   "execution_count": null,
   "metadata": {},
   "outputs": [],
   "source": []
  },
  {
   "cell_type": "code",
   "execution_count": null,
   "metadata": {},
   "outputs": [],
   "source": []
  }
 ],
 "metadata": {
  "anaconda-cloud": {},
  "kernelspec": {
   "display_name": "Python 3",
   "language": "python",
   "name": "python3"
  },
  "language_info": {
   "codemirror_mode": {
    "name": "ipython",
    "version": 3
   },
   "file_extension": ".py",
   "mimetype": "text/x-python",
   "name": "python",
   "nbconvert_exporter": "python",
   "pygments_lexer": "ipython3",
   "version": "3.5.2"
  }
 },
 "nbformat": 4,
 "nbformat_minor": 1
}
