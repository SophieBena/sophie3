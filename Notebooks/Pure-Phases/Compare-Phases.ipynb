{
 "cells": [
  {
   "cell_type": "markdown",
   "metadata": {},
   "source": [
    "# Compare Stoichiometric Phases from Different Databases"
   ]
  },
  {
   "cell_type": "code",
   "execution_count": null,
   "metadata": {},
   "outputs": [],
   "source": [
    "import matplotlib.pyplot as plt\n",
    "import numpy as np\n",
    "%matplotlib inline\n",
    "from thermoengine import phases\n",
    "from thermoengine import model"
   ]
  },
  {
   "cell_type": "code",
   "execution_count": null,
   "metadata": {},
   "outputs": [],
   "source": [
    "modelDB = model.Database()\n",
    "modelDBStix = model.Database(database='Stixrude')\n",
    "modelDBHP = model.Database(database='HollandAndPowell')"
   ]
  },
  {
   "cell_type": "markdown",
   "metadata": {},
   "source": [
    "### Get access to a thermodynamic database (by default, the Berman (1988) database)."
   ]
  },
  {
   "cell_type": "markdown",
   "metadata": {},
   "source": [
    "### To print a list of all of the phases in the database, execute:\n",
    "```\n",
    "print(model*.phase_info.to_markdown())\n",
    "```\n",
    "### Create the Quartz stoichiometric phase class in three databases:\n",
    "Berman (1988)  \n",
    "Stixrude-Lithgow-Bertelloni (2011)  \n",
    "Holland and Powell (1998, latest release)"
   ]
  },
  {
   "cell_type": "code",
   "execution_count": null,
   "metadata": {},
   "outputs": [],
   "source": [
    "Quartz_Berman = modelDB.get_phase('Qz')\n",
    "Quartz_SLB = modelDBStix.get_phase('Qz')\n",
    "Quartz_HP = modelDBHP.get_phase('Qz')"
   ]
  },
  {
   "cell_type": "markdown",
   "metadata": {},
   "source": [
    "### Perform a sanity check.\n",
    "Make sure that we are not going to compare apples and oranges."
   ]
  },
  {
   "cell_type": "code",
   "execution_count": null,
   "metadata": {},
   "outputs": [],
   "source": [
    "print ('{0:>10s} {1:>10s} {2:>10s}'.format('Berman DB', 'SLB DB', 'HP DB'))\n",
    "print ('{0:>10s} {1:>10s} {2:>10s}'.format(\n",
    "    Quartz_Berman.props['phase_name'], Quartz_SLB.props['phase_name'], Quartz_HP.props['phase_name']))\n",
    "print ('{0:>10s} {1:>10s} {2:>10s}'.format(\n",
    "    Quartz_Berman.props['formula'][0], Quartz_SLB.props['formula'][0], Quartz_HP.props['formula'][0]))\n",
    "print ('{0:10.3f} {1:10.3f} {2:10.3f}'.format(\n",
    "    Quartz_Berman.props['molwt'][0], Quartz_SLB.props['molwt'][0], Quartz_HP.props['molwt'][0]))"
   ]
  },
  {
   "cell_type": "markdown",
   "metadata": {},
   "source": [
    "### Recall that all pure component (stoichiometric) phases implement the following functions:\n",
    "```\n",
    "get_gibbs_energy(T, P)\n",
    "get_enthalpy(T, P)\n",
    "get_entropy(T, P)\n",
    "get_heat_capacity(T, P)\n",
    "get_dCp_dT(T, P)\n",
    "get_volume(T, P)\n",
    "get_dV_dT(T, P)\n",
    "get_dV_dP(T, P)\n",
    "get_d2V_dT2(T, P)\n",
    "get_d2V_dTdP(T, P)\n",
    "get_d2V_dP2(T, P)\n",
    "```\n",
    "where *T* (temperature) is in K, and *P* (pressure) is in bars."
   ]
  },
  {
   "cell_type": "markdown",
   "metadata": {},
   "source": [
    "## Compare the heat capacity at 1 bar.\n",
    "Also, plot measured heat capacity from an especially reliable source: Ghiorso et al., 1979, *Contributions to Mineralogy and Petrology* v. 68, 307-323."
   ]
  },
  {
   "cell_type": "code",
   "execution_count": null,
   "metadata": {},
   "outputs": [],
   "source": [
    "msg = np.loadtxt(open(\"Ghiorso-cp-quartz.txt\", \"rb\"), delimiter=\",\", skiprows=1)\n",
    "msg_data_T = msg[:,0]\n",
    "msg_data_Cp = msg[:,1]\n",
    "\n",
    "T_array = np.linspace(250.0, 1200.0, 100, endpoint=True)\n",
    "Cp_array_Berman = Quartz_Berman.heat_capacity(T_array, 1.0)\n",
    "Cp_array_SLB = Quartz_SLB.heat_capacity(T_array, 1.0)\n",
    "Cp_array_HP = Quartz_HP.heat_capacity(T_array, 1.0)\n",
    "plt.plot(msg_data_T, msg_data_Cp, 'go', T_array, Cp_array_Berman, 'r-', T_array, Cp_array_SLB, 'b-',\n",
    "        T_array, Cp_array_HP, 'y-')\n",
    "plt.ylabel('Cp J/K-m')\n",
    "plt.xlabel('T K')\n",
    "plt.show()"
   ]
  },
  {
   "cell_type": "markdown",
   "metadata": {},
   "source": [
    "## Compare the entropy at 1 bar.\n",
    "Data point is reported by CODATA (1978)."
   ]
  },
  {
   "cell_type": "code",
   "execution_count": null,
   "metadata": {},
   "outputs": [],
   "source": [
    "S_array_Berman = Quartz_Berman.entropy(T_array, 1.0)\n",
    "S_array_SLB = Quartz_SLB.entropy(T_array, 1.0)\n",
    "S_array_HP = Quartz_HP.entropy(T_array, 1.0)\n",
    "plt.plot(298.15, 41.46, 'go', T_array, S_array_Berman, 'r-', T_array, S_array_SLB, 'b-', T_array, S_array_HP, 'y-')\n",
    "plt.ylabel('S J/K-m')\n",
    "plt.xlabel('T K')\n",
    "plt.show()"
   ]
  },
  {
   "cell_type": "markdown",
   "metadata": {},
   "source": [
    "## Compare the Gibbs free energy at 1 bar."
   ]
  },
  {
   "cell_type": "code",
   "execution_count": null,
   "metadata": {},
   "outputs": [],
   "source": [
    "G_array_Berman = Quartz_Berman.gibbs_energy(T_array, 1.0)\n",
    "G_array_SLB = Quartz_SLB.gibbs_energy(T_array, 1.0)\n",
    "G_array_HP = Quartz_HP.gibbs_energy(T_array, 1.0)\n",
    "plt.plot(T_array, G_array_Berman, 'r-', T_array, G_array_SLB, 'b-', T_array, G_array_HP, 'y-')\n",
    "plt.ylabel('G J/m')\n",
    "plt.xlabel('T K')\n",
    "plt.show()"
   ]
  },
  {
   "cell_type": "markdown",
   "metadata": {},
   "source": [
    "## Compare the enthalpy of formation at 1 bar.\n",
    "Data point is reported by CODATA (1978)"
   ]
  },
  {
   "cell_type": "code",
   "execution_count": null,
   "metadata": {},
   "outputs": [],
   "source": [
    "H_array_Berman = Quartz_Berman.enthalpy(T_array, 1.0)\n",
    "H_array_SLB = Quartz_SLB.enthalpy(T_array, 1.0)\n",
    "H_array_HP = Quartz_HP.enthalpy(T_array, 1.0)\n",
    "plt.plot(298.15, -910700.0, 'go', T_array, H_array_Berman, 'r-', T_array, H_array_SLB, 'b-', \n",
    "         T_array, H_array_HP, 'y-')\n",
    "plt.ylabel('H J/m')\n",
    "plt.xlabel('T K')\n",
    "plt.show()"
   ]
  },
  {
   "cell_type": "markdown",
   "metadata": {},
   "source": [
    "## Compare the volume at 1 bar."
   ]
  },
  {
   "cell_type": "code",
   "execution_count": null,
   "metadata": {},
   "outputs": [],
   "source": [
    "V_array_Berman = Quartz_Berman.volume(T_array, 1.0)\n",
    "V_array_SLB = Quartz_SLB.volume(T_array, 1.0)\n",
    "V_array_HP = Quartz_HP.volume(T_array, 1.0)\n",
    "plt.plot(298.15, 2.269, 'go', T_array, V_array_Berman, 'r-', T_array, V_array_SLB, 'b-', T_array, V_array_HP, 'y-')\n",
    "plt.ylabel('V J/bar-m')\n",
    "plt.xlabel('T K')\n",
    "plt.show()"
   ]
  },
  {
   "cell_type": "markdown",
   "metadata": {},
   "source": [
    "## ... How about the volume as a function of P?"
   ]
  },
  {
   "cell_type": "code",
   "execution_count": null,
   "metadata": {},
   "outputs": [],
   "source": [
    "P_array = np.linspace(1.0, 1000000.0, 200, endpoint=True)\n",
    "V_array_Berman = Quartz_Berman.volume(298.15, P_array)\n",
    "V_array_SLB = Quartz_SLB.volume(298.15, P_array)\n",
    "V_array_HP = Quartz_HP.volume(298.15, P_array)\n",
    "plt.plot(P_array, V_array_Berman, 'r-', P_array, V_array_SLB, 'b-', P_array, V_array_HP, 'y-')\n",
    "plt.ylabel('V J/bar-m')\n",
    "plt.xlabel('P bars')\n",
    "plt.show()"
   ]
  },
  {
   "cell_type": "markdown",
   "metadata": {},
   "source": [
    "## What does $\\frac{{\\partial V}}{{\\partial P}}$ look like?"
   ]
  },
  {
   "cell_type": "code",
   "execution_count": null,
   "metadata": {},
   "outputs": [],
   "source": [
    "dVdP_array_Berman = Quartz_Berman.volume(298.15, P_array, deriv={'dP':1})\n",
    "dVdP_array_SLB = Quartz_SLB.volume(298.15, P_array, deriv={'dP':1})\n",
    "dVdP_array_HP = Quartz_HP.volume(298.15, P_array, deriv={'dP':1})\n",
    "plt.plot(P_array, dVdP_array_Berman, 'r-', P_array, dVdP_array_SLB, 'b-', P_array, dVdP_array_HP, 'y-')\n",
    "plt.ylabel('dV/dP J/bar^2-m')\n",
    "plt.xlabel('P bars')\n",
    "plt.ticklabel_format(style='sci', axis='y', scilimits=(0,0))\n",
    "plt.show()"
   ]
  },
  {
   "cell_type": "markdown",
   "metadata": {},
   "source": [
    "Berman (1988) using the following form: $V = {V_0}\\left[ {{v_1}\\left( {P - {P_0}} \\right) + {v_2}{{\\left( {P - {P_0}} \\right)}^2} + {v_3}\\left( {T - {T_0}} \\right) + {v_4}{{\\left( {T - {T_0}} \\right)}^2}} \\right]$, whereas Stixrude and Lithgow-Bertelloni use this form: $P = \\frac{{3K}}{2}\\left[ {{{\\left( {\\frac{{{V_0}}}{V}} \\right)}^{\\frac{7}{3}}} - {{\\left( {\\frac{{{V_0}}}{V}} \\right)}^{\\frac{5}{3}}}} \\right]\\left\\{ {1 + \\frac{3}{4}\\left( {K' - 4} \\right)\\left[ {{{\\left( {\\frac{{{V_0}}}{V}} \\right)}^{\\frac{2}{3}}} - 1} \\right]} \\right\\}$\n",
    "\n",
    "## ... Perhaps Berman (1988) is better at low pressure?"
   ]
  },
  {
   "cell_type": "code",
   "execution_count": null,
   "metadata": {},
   "outputs": [],
   "source": [
    "P_array = np.linspace(1.0, 10000.0, 200, endpoint=True)\n",
    "dVdP_array_Berman = Quartz_Berman.volume(298.15, P_array, deriv={'dP':1})\n",
    "dVdP_array_SLB = Quartz_SLB.volume(298.15, P_array, deriv={'dP':1})\n",
    "dVdP_array_HP = Quartz_HP.volume(298.15, P_array, deriv={'dP':1})\n",
    "plt.plot(P_array, dVdP_array_Berman, 'r-', P_array, dVdP_array_SLB, 'b-', P_array, dVdP_array_HP, 'y-')\n",
    "plt.ylabel('dV/dP J/bar^2-m')\n",
    "plt.xlabel('P bars')\n",
    "plt.ticklabel_format(style='sci', axis='y', scilimits=(0,0))\n",
    "plt.show()"
   ]
  },
  {
   "cell_type": "code",
   "execution_count": null,
   "metadata": {},
   "outputs": [],
   "source": []
  }
 ],
 "metadata": {
  "anaconda-cloud": {},
  "kernelspec": {
   "display_name": "Python 3 (ipykernel)",
   "language": "python",
   "name": "python3"
  },
  "language_info": {
   "codemirror_mode": {
    "name": "ipython",
    "version": 3
   },
   "file_extension": ".py",
   "mimetype": "text/x-python",
   "name": "python",
   "nbconvert_exporter": "python",
   "pygments_lexer": "ipython3",
   "version": "3.9.7"
  }
 },
 "nbformat": 4,
 "nbformat_minor": 4
}
