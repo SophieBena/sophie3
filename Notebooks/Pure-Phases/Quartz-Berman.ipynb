{
 "cells": [
  {
   "cell_type": "markdown",
   "metadata": {},
   "source": [
    "# Quartz - Berman"
   ]
  },
  {
   "cell_type": "code",
   "execution_count": null,
   "metadata": {},
   "outputs": [],
   "source": [
    "from thermoengine import phases\n",
    "from thermoengine import model"
   ]
  },
  {
   "cell_type": "markdown",
   "metadata": {},
   "source": [
    "### Get access to a thermodynamic database (by default, the Berman (1988) database)."
   ]
  },
  {
   "cell_type": "code",
   "execution_count": null,
   "metadata": {},
   "outputs": [],
   "source": [
    "modelDB = model.Database()"
   ]
  },
  {
   "cell_type": "markdown",
   "metadata": {},
   "source": [
    "### Print a list of all of the phases in the database."
   ]
  },
  {
   "cell_type": "code",
   "execution_count": null,
   "metadata": {},
   "outputs": [],
   "source": [
    "for phase_name, abbrv in zip(modelDB.phase_info.phase_name,modelDB.phase_info.abbrev):\n",
    "    print ('Abbreviation: {0:<10s} Name: {1:<30s}'.format(abbrv, phase_name))"
   ]
  },
  {
   "cell_type": "markdown",
   "metadata": {},
   "source": [
    "### Create a Python reference to the `Quartz` stoichiometric phase class in the Berman (1988) database.  "
   ]
  },
  {
   "cell_type": "code",
   "execution_count": null,
   "metadata": {},
   "outputs": [],
   "source": [
    "Quartz = modelDB.get_phase('Qz')"
   ]
  },
  {
   "cell_type": "markdown",
   "metadata": {},
   "source": [
    "### Obtain information about this phase. "
   ]
  },
  {
   "cell_type": "code",
   "execution_count": null,
   "metadata": {},
   "outputs": [],
   "source": [
    "print (Quartz.props['phase_name'])\n",
    "print (Quartz.props['formula'][0])\n",
    "print (Quartz.props['molwt'][0])"
   ]
  },
  {
   "cell_type": "markdown",
   "metadata": {},
   "source": [
    "### All pure component (stoichiometric) phases implement the following functions:\n",
    "```\n",
    "get_gibbs_energy(T, P)\n",
    "get_enthalpy(T, P)\n",
    "get_entropy(T, P)\n",
    "get_heat_capacity(T, P)\n",
    "get_dCp_dT(T, P)\n",
    "get_volume(T, P)\n",
    "get_dV_dT(T, P)\n",
    "get_dV_dP(T, P)\n",
    "get_d2V_dT2(T, P)\n",
    "get_d2V_dTdP(T, P)\n",
    "get_d2V_dP2(T, P)\n",
    "```\n",
    "where *T* (temperature) is in K, and *P* (pressure) is in bars.\n",
    "### These functions return a one-dimensional array:"
   ]
  },
  {
   "cell_type": "code",
   "execution_count": null,
   "metadata": {},
   "outputs": [],
   "source": [
    "print (\"{0:>10s}{1:15.2f}{2:<20s}\".format(\"G\", Quartz.gibbs_energy(1000.0, 1000.0), 'J/mol'))\n",
    "print (\"{0:>10s}{1:15.2f}{2:<20s}\".format(\"H\", Quartz.enthalpy(1000.0, 1000.0), 'J/mol'))\n",
    "print (\"{0:>10s}{1:15.2f}{2:<20s}\".format(\"S\", Quartz.entropy(1000.0, 1000.0), 'J/K-mol'))\n",
    "print (\"{0:>10s}{1:15.3f}{2:<20s}\".format(\"Cp\", Quartz.heat_capacity(1000.0, 1000.0), 'J/K-mol'))\n",
    "print (\"{0:>10s}{1:15.6e}{2:<20s}\".format(\"dCp/dT\", Quartz.heat_capacity(1000.0, 1000.0, deriv={'dT':1}), 'J/-K^2-mol'))\n",
    "print (\"{0:>10s}{1:15.3f}{2:<20s}\".format(\"V\", Quartz.volume(1000.0, 1000.0, deriv={'dT':1}), 'J/bar-mol'))\n",
    "print (\"{0:>10s}{1:15.6e}{2:<20s}\".format(\"dV/dT\", Quartz.volume(1000.0, 1000.0, deriv={'dT':1}), 'J/bar-K-mol'))\n",
    "print (\"{0:>10s}{1:15.6e}{2:<20s}\".format(\"dv/dP\", Quartz.volume(1000.0, 1000.0, deriv={'dP':1}), 'J/bar^2-mol'))\n",
    "print (\"{0:>10s}{1:15.6e}{2:<20s}\".format(\"d2V/dT2\", Quartz.volume(1000.0, 1000.0, deriv={'dT':2}), 'J/bar-K^2-mol'))\n",
    "print (\"{0:>10s}{1:15.6e}{2:<20s}\".format(\"d2V/dTdP\", Quartz.volume(1000.0, 1000.0, deriv={'dT':1, 'dP':1}), 'J/bar^2-K-mol'))\n",
    "print (\"{0:>10s}{1:15.6e}{2:<20s}\".format(\"d2V/dP2\", Quartz.volume(1000.0, 1000.0, deriv={'dP':2}), 'J/bar^3-mol'))"
   ]
  },
  {
   "cell_type": "markdown",
   "metadata": {},
   "source": [
    "## Illustrate the Parameter Calibration Protocol."
   ]
  },
  {
   "cell_type": "code",
   "execution_count": null,
   "metadata": {},
   "outputs": [],
   "source": [
    "try:\n",
    "    param_props = Quartz.param_props\n",
    "    supports_calib = param_props['supports_calib']\n",
    "    print ('This phase supports the Calibration protocol')\n",
    "    nparam = param_props['param_num']\n",
    "    print ('... there are', nparam, 'parameters')\n",
    "    names = param_props['param_names']\n",
    "    units = param_props['param_units']\n",
    "    values = param_props['param0']\n",
    "    t = 1000.0\n",
    "    p = 1000.0\n",
    "    for i in range (0, nparam):\n",
    "        print (\"Parameter {0:<15s} has value {1:15.6e}  {2:<20s}\".format(names[i], values[i], units[i]))\n",
    "except AttributeError:\n",
    "    print ('This phase does not implement the parameter calibration protocol')"
   ]
  },
  {
   "cell_type": "code",
   "execution_count": null,
   "metadata": {},
   "outputs": [],
   "source": [
    "type(names[0]), type(units[0]), type(values[0])"
   ]
  },
  {
   "cell_type": "markdown",
   "metadata": {},
   "source": [
    "## Illustrate plotting the heat capacity.\n",
    "[Documentation on PyPlot in MatPlotLib](https://matplotlib.org/users/pyplot_tutorial.html)  \n",
    "Pressure is fixed at 1000 bars."
   ]
  },
  {
   "cell_type": "code",
   "execution_count": null,
   "metadata": {},
   "outputs": [],
   "source": [
    "import matplotlib.pyplot as plt\n",
    "import numpy as np\n",
    "%matplotlib inline\n",
    "T_array = np.linspace(250.0, 1200.0, 100, endpoint=True)\n",
    "Cp_array = Quartz.heat_capacity(T_array, 1000.0)\n",
    "plt.plot(T_array, Cp_array)\n",
    "plt.ylabel('Cp J/K-m')\n",
    "plt.xlabel('T K')\n",
    "plt.show()"
   ]
  },
  {
   "cell_type": "code",
   "execution_count": null,
   "metadata": {},
   "outputs": [],
   "source": []
  }
 ],
 "metadata": {
  "anaconda-cloud": {},
  "kernelspec": {
   "display_name": "Python 3 (ipykernel)",
   "language": "python",
   "name": "python3"
  },
  "language_info": {
   "codemirror_mode": {
    "name": "ipython",
    "version": 3
   },
   "file_extension": ".py",
   "mimetype": "text/x-python",
   "name": "python",
   "nbconvert_exporter": "python",
   "pygments_lexer": "ipython3",
   "version": "3.9.7"
  }
 },
 "nbformat": 4,
 "nbformat_minor": 4
}
