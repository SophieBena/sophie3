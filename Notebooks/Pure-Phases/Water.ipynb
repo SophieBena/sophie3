{
 "cells": [
  {
   "cell_type": "markdown",
   "metadata": {},
   "source": [
    "# SWIM Example\n",
    "## Standard Water Integrated Model"
   ]
  },
  {
   "cell_type": "code",
   "execution_count": null,
   "metadata": {},
   "outputs": [],
   "source": [
    "from thermoengine import phases\n",
    "from thermoengine import model\n",
    "import matplotlib.pyplot as plt\n",
    "import numpy as np\n",
    "%matplotlib inline"
   ]
  },
  {
   "cell_type": "markdown",
   "metadata": {},
   "source": [
    "[Documentation for the GenericH2O class](https://gitlab.com/ENKI-portal/PhaseObjC/blob/master/Documentation/GenericH2O.md) \n",
    "Models:  \n",
    "- H2014, Holten et al., 2014\n",
    "- W2002, Wagner et al., 2002\n",
    "- ZD2005, Zhang and Duan, 2005\n",
    "- DZ2006, Duan and Zhang, 2006  \n",
    "These models are merged, averaged and reconciled for all derivatives to third order over the following regions of $T$-$P$ space. "
   ]
  },
  {
   "cell_type": "code",
   "execution_count": null,
   "metadata": {},
   "outputs": [],
   "source": [
    "plt.plot([198.15,2000.0],[1100.0,1100.0],'y')\n",
    "plt.plot([198.15,2000.0],[ 900.0, 900.0],'y')\n",
    "plt.plot([298.15,2000.0],[1000.0,1000.0],'b')\n",
    "plt.plot([198.15,198.15],[0.0,5000.0],'y')\n",
    "plt.plot([398.15,398.15],[0.0,5000.0],'y')\n",
    "plt.plot([298.15,298.15],[0.0,5000.0],'b')\n",
    "plt.plot([573.15,573.15],[0.0,1100.0],'y')\n",
    "plt.plot([773.15,773.15],[0.0,1100.0],'y')\n",
    "plt.plot([673.15,673.15],[0.0,1000.0],'b')\n",
    "plt.ylabel('P bars')\n",
    "plt.xlabel('T K')\n",
    "plt.xlim(left=0.0, right=2000.0)\n",
    "plt.ylim(bottom=0.0, top=5000.0)\n",
    "plt.text(1000.0,3000.0,\"ZD2005\",fontsize=12,bbox=dict(facecolor='orange', alpha=0.2))\n",
    "plt.text(1200.0, 400.0,\"DZ2006\",fontsize=12,bbox=dict(facecolor='orange', alpha=0.2))\n",
    "plt.text( 360.0, 400.0,\"W2002\",fontsize=12,bbox=dict(facecolor='orange', alpha=0.2))\n",
    "plt.text(  25.0,2500.0,\"H2014\",fontsize=12,bbox=dict(facecolor='orange', alpha=0.2))\n",
    "plt.show()"
   ]
  },
  {
   "cell_type": "markdown",
   "metadata": {},
   "source": [
    "## Instantiate SWIM using the simple python wrappers  \n",
    "(Molecular weight in grams/mole)"
   ]
  },
  {
   "cell_type": "code",
   "execution_count": null,
   "metadata": {},
   "outputs": [],
   "source": [
    "modelDB = model.Database()\n",
    "H2O = modelDB.get_phase('H2O')"
   ]
  },
  {
   "cell_type": "code",
   "execution_count": null,
   "metadata": {},
   "outputs": [],
   "source": [
    "print (H2O.props['phase_name'])\n",
    "print (H2O.props['formula'][0])\n",
    "print (H2O.props['molwt'][0])"
   ]
  },
  {
   "cell_type": "markdown",
   "metadata": {},
   "source": [
    "## Use the Python wrapper functions to obtain thermodynamic properties of water\n",
    "$T$ (temperature, first argument) is in K, and $P$ (pressure, second argument) is in bars."
   ]
  },
  {
   "cell_type": "code",
   "execution_count": null,
   "metadata": {},
   "outputs": [],
   "source": [
    "print (\"{0:>10s}{1:15.2f}{2:<20s}\".format(\"G\", H2O.gibbs_energy(1000.0, 1000.0), 'J/mol'))\n",
    "print (\"{0:>10s}{1:15.2f}{2:<20s}\".format(\"H\", H2O.enthalpy(1000.0, 1000.0), 'J/mol'))\n",
    "print (\"{0:>10s}{1:15.2f}{2:<20s}\".format(\"S\", H2O.entropy(1000.0, 1000.0), 'J/K-mol'))\n",
    "print (\"{0:>10s}{1:15.3f}{2:<20s}\".format(\"Cp\", H2O.heat_capacity(1000.0, 1000.0), 'J/K-mol'))\n",
    "print (\"{0:>10s}{1:15.6e}{2:<20s}\".format(\"dCp/dT\", H2O.heat_capacity(1000.0, 1000.0, deriv={'dT':1}), 'J/-K^2-mol'))\n",
    "print (\"{0:>10s}{1:15.3f}{2:<20s}\".format(\"V\", H2O.volume(1000.0, 1000.0, deriv={'dT':1}), 'J/bar-mol'))\n",
    "print (\"{0:>10s}{1:15.6e}{2:<20s}\".format(\"dV/dT\", H2O.volume(1000.0, 1000.0, deriv={'dT':1}), 'J/bar-K-mol'))\n",
    "print (\"{0:>10s}{1:15.6e}{2:<20s}\".format(\"dv/dP\", H2O.volume(1000.0, 1000.0, deriv={'dP':1}), 'J/bar^2-mol'))\n",
    "print (\"{0:>10s}{1:15.6e}{2:<20s}\".format(\"d2V/dT2\", H2O.volume(1000.0, 1000.0, deriv={'dT':2}), 'J/bar-K^2-mol'))\n",
    "print (\"{0:>10s}{1:15.6e}{2:<20s}\".format(\"d2V/dTdP\", H2O.volume(1000.0, 1000.0, deriv={'dT':1, 'dP':1}), 'J/bar^2-K-mol'))\n",
    "print (\"{0:>10s}{1:15.6e}{2:<20s}\".format(\"d2V/dP2\", H2O.volume(1000.0, 1000.0, deriv={'dP':2}), 'J/bar^3-mol'))"
   ]
  },
  {
   "cell_type": "markdown",
   "metadata": {},
   "source": [
    "## Plot the density of water as a function of $T$ ...\n",
    "... for 20 isobars at 100 to 2000 bars"
   ]
  },
  {
   "cell_type": "code",
   "execution_count": null,
   "metadata": {},
   "outputs": [],
   "source": [
    "P_array = np.linspace(100.0, 2000.0, 20, endpoint=True) # 100->2000, 10 bars\n",
    "T_array = np.linspace(250.0, 1200.0, 100, endpoint=True) # 250->1200,100 K\n",
    "MW = H2O.props['molwt']\n",
    "for P in P_array:\n",
    "    Den_array = MW/H2O.volume(T_array, P)/10.0 ## cc\n",
    "    if P < 1000.0:\n",
    "        plt.plot(T_array, Den_array, 'r-', label=str(int(P)))\n",
    "    else:\n",
    "        plt.plot(T_array, Den_array, 'g-', label=str(int(P))+\"-ZD\")\n",
    "plt.plot([673.15,673.15],[0.0,1.1],'b')\n",
    "plt.plot([298.15,298.15],[0.0,1.1],'b')\n",
    "plt.ylabel('density g/cc')\n",
    "plt.xlabel('T K')\n",
    "plt.title(\"H2014 -> W2002 -> DZ2006\")\n",
    "plt.legend()\n",
    "fig = plt.gcf()\n",
    "fig.set_size_inches(11,8)\n",
    "plt.show()"
   ]
  },
  {
   "cell_type": "markdown",
   "metadata": {},
   "source": [
    "## Plot the density of water as a function of $P$ ...\n",
    "... for 11 isotherms at 0 to 100 °C"
   ]
  },
  {
   "cell_type": "code",
   "execution_count": null,
   "metadata": {},
   "outputs": [],
   "source": [
    "T_array = np.linspace(0.0, 100.0, 11, endpoint=True) # 0->100, 11 °C\n",
    "P_array = np.linspace(100.0, 1000.0, 100, endpoint=True) # 100->1000, 100 bars\n",
    "MW = H2O.props['molwt']\n",
    "for T in T_array:\n",
    "    Den_array = MW/H2O.volume(T+273.15, P_array)/10.0 ## cc\n",
    "    if T <= 25.0:\n",
    "        plt.plot(P_array, Den_array, 'b-', label=str(int(T)))\n",
    "    elif T <= 400.0:\n",
    "        plt.plot(P_array, Den_array, 'r-', label=str(int(T)))\n",
    "    else:\n",
    "        plt.plot(P_array, Den_array, 'g-', label=str(int(T)))\n",
    "plt.plot([1000.0,1000.0],[0.9,1.3])\n",
    "plt.ylabel('density g/cc')\n",
    "plt.xlabel('P bars')\n",
    "plt.ylim(bottom=0.9, top=1.1)\n",
    "plt.title(\"W2002 (blue) -> W2002 (red) -> DZ2006 (green)\")\n",
    "plt.legend()\n",
    "fig = plt.gcf()\n",
    "fig.set_size_inches(11,8)\n",
    "plt.show()"
   ]
  },
  {
   "cell_type": "markdown",
   "metadata": {},
   "source": [
    "## Use direct calls to Objective-C functions (via Rubicon) to select specific water models"
   ]
  },
  {
   "cell_type": "code",
   "execution_count": null,
   "metadata": {},
   "outputs": [],
   "source": [
    "from ctypes import cdll\n",
    "from ctypes import util\n",
    "from rubicon.objc import ObjCClass, objc_method\n",
    "cdll.LoadLibrary(util.find_library('phaseobjc'))\n",
    "Water = ObjCClass('GenericH2O')\n",
    "water = Water.alloc().init()"
   ]
  },
  {
   "cell_type": "code",
   "execution_count": null,
   "metadata": {},
   "outputs": [],
   "source": [
    "#water.forceModeChoiceTo_(\"MELTS H2O-CO2 from Duan and Zhang (2006)\")\n",
    "#water.forceModeChoiceTo_(\"DEW H2O from Zhang and Duan (2005)\")\n",
    "#water.forceModeChoiceTo_(\"Supercooled H2O from Holten et al. (2014)\")\n",
    "#water.forceModeChoiceTo_(\"Steam Properties from Wagner et al. (2002)\")\n",
    "water.forceModeChoiceAutomatic()\n",
    "T_array = np.linspace(0.0, 130.0, 14, endpoint=True)\n",
    "P_array = np.linspace(100.0, 2000.0, 100, endpoint=True) # bars\n",
    "MW = H2O.props['molwt']\n",
    "for T in T_array:\n",
    "    Den_array = np.empty_like(P_array)\n",
    "    i = 0\n",
    "    for P in P_array:\n",
    "        Den_array[i] = MW/water.getVolumeFromT_andP_(T+273.15, P)/10.0 ## cc\n",
    "        i = i + 1\n",
    "    if T <= 25.0:\n",
    "        plt.plot(P_array, Den_array, 'b-', label=str(int(T)))\n",
    "    elif T <= 400.0:\n",
    "        plt.plot(P_array, Den_array, 'r-', label=str(int(T)))\n",
    "    else:\n",
    "        plt.plot(P_array, Den_array, 'g-', label=str(int(T)))\n",
    "fig = plt.gcf()\n",
    "fig.set_size_inches(11,8)\n",
    "plt.plot([1000.0,1000.0],[0.5,1.3])\n",
    "plt.ylabel('density g/cc')\n",
    "plt.xlabel('P bars')\n",
    "plt.ylim(bottom=0.9, top=1.1)\n",
    "plt.legend()\n",
    "plt.show()"
   ]
  },
  {
   "cell_type": "markdown",
   "metadata": {},
   "source": [
    "# Calculations on the steam saturation curve"
   ]
  },
  {
   "cell_type": "code",
   "execution_count": null,
   "metadata": {},
   "outputs": [],
   "source": [
    "import pandas as pd\n",
    "def vol(T=25, P=1):\n",
    "    return H2O.volume(T+273.15, P)*10\n",
    "psat_df = pd.read_csv('psat.csv')"
   ]
  },
  {
   "cell_type": "code",
   "execution_count": null,
   "metadata": {},
   "outputs": [],
   "source": [
    "from scipy.optimize import curve_fit\n",
    "def func(x, a, b, c, d, e):\n",
    "    return a + b*x + c*x*x + d*x*x*x + e*x*x*x*x"
   ]
  },
  {
   "cell_type": "code",
   "execution_count": null,
   "metadata": {},
   "outputs": [],
   "source": [
    "popt, pcov = curve_fit(func, psat_df['T'], psat_df['P'])"
   ]
  },
  {
   "cell_type": "code",
   "execution_count": null,
   "metadata": {},
   "outputs": [],
   "source": [
    "popt"
   ]
  },
  {
   "cell_type": "code",
   "execution_count": null,
   "metadata": {},
   "outputs": [],
   "source": [
    "fig = plt.gcf()\n",
    "fig.set_size_inches(11,8)\n",
    "plt.title('PSAT curve')\n",
    "plt.plot(psat_df['T'], psat_df['P'], \"b-\")\n",
    "plt.plot(psat_df['T'], func(psat_df['T'], *popt), \"r-\")\n",
    "plt.ylabel('Pressure, bars')\n",
    "plt.xlabel('Temperature, $^\\\\circ$C')\n",
    "plt.show()"
   ]
  },
  {
   "cell_type": "code",
   "execution_count": null,
   "metadata": {},
   "outputs": [],
   "source": [
    "# create Psat line\n",
    "volume_psat = vol(psat_df['T'], psat_df['P']+1) # increase psat pressure by 1 bar to ensure liquid H2O\n",
    "plt.plot(psat_df['T'], volume_psat, \"b-\", label=\"SWIM\")\n",
    "Vol_array = np.empty_like(psat_df['T'])\n",
    "\n",
    "i = 0\n",
    "water.forceModeChoiceTo_(\"MELTS H2O-CO2 from Duan and Zhang (2006)\")\n",
    "for t,p in zip(psat_df['T'], psat_df['P']):\n",
    "    Vol_array[i] = water.getVolumeFromT_andP_(t+273.15, p+1.0)*10.0\n",
    "    i = i + 1\n",
    "plt.plot(psat_df['T'], Vol_array, \"g-\", label=\"DZ2006\")\n",
    "\n",
    "i = 0\n",
    "water.forceModeChoiceTo_(\"Steam Properties from Wagner et al. (2002)\")\n",
    "for t,p in zip(psat_df['T'], psat_df['P']):\n",
    "    Vol_array[i] = water.getVolumeFromT_andP_(t+273.15, p+1.0)*10.0\n",
    "    i = i + 1\n",
    "plt.plot(psat_df['T'], Vol_array, \"m-\", label=\"Wagner\")\n",
    "\n",
    "def func(x, a, b, c, d, e, f):\n",
    "    return a + b*x + c*x*x + d*x*x*x + e*x*x*x*x + f/(x-374.0)\n",
    "popt, pcov = curve_fit(func, psat_df['T'], Vol_array)\n",
    "print (popt)\n",
    "plt.plot(psat_df['T'], func(psat_df['T'], *popt), \"y--\")\n",
    "\n",
    "water.forceModeChoiceAutomatic()\n",
    "\n",
    "# create 500 bar line\n",
    "temps = np.arange(0, 1010, 10)\n",
    "plt.plot(temps, vol(T=temps, P=500), \"r-\", label=\"500 bars\")\n",
    "\n",
    "# plot options\n",
    "fig = plt.gcf()\n",
    "fig.set_size_inches(11,8)\n",
    "plt.title('Partial molal volume of water at PSAT+1 bar and 500 bars')\n",
    "plt.ylabel('V, $cm^{3}\\\\cdot mol^{-1}$')\n",
    "plt.xlabel('Temperature, $^\\\\circ$C')\n",
    "plt.margins(x=0) # no margins on x axis\n",
    "plt.ylim([15, 50])\n",
    "plt.xlim([0, 380])\n",
    "plt.xticks(np.arange(0, 380, step=50))\n",
    "plt.legend()\n",
    "plt.show()"
   ]
  },
  {
   "cell_type": "code",
   "execution_count": null,
   "metadata": {},
   "outputs": [],
   "source": []
  }
 ],
 "metadata": {
  "anaconda-cloud": {},
  "kernelspec": {
   "display_name": "Python 3 (ipykernel)",
   "language": "python",
   "name": "python3"
  },
  "language_info": {
   "codemirror_mode": {
    "name": "ipython",
    "version": 3
   },
   "file_extension": ".py",
   "mimetype": "text/x-python",
   "name": "python",
   "nbconvert_exporter": "python",
   "pygments_lexer": "ipython3",
   "version": "3.9.9"
  }
 },
 "nbformat": 4,
 "nbformat_minor": 4
}
