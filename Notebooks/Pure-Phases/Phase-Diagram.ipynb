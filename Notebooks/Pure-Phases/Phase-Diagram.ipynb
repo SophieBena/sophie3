{
 "cells": [
  {
   "cell_type": "markdown",
   "metadata": {},
   "source": [
    "# Phase Diagram Construction\n",
    "### Using the Berman(1988) database of pure solid phases (standard state properties)"
   ]
  },
  {
   "cell_type": "code",
   "execution_count": null,
   "metadata": {},
   "outputs": [],
   "source": [
    "import pandas as pd\n",
    "import numpy as np\n",
    "import matplotlib.pyplot as plt\n",
    "from thermoengine import phases\n",
    "from thermoengine import model\n",
    "%matplotlib inline"
   ]
  },
  {
   "cell_type": "markdown",
   "metadata": {},
   "source": [
    "## Create Thermodynamic Database"
   ]
  },
  {
   "cell_type": "code",
   "execution_count": null,
   "metadata": {},
   "outputs": [],
   "source": [
    "modelDB = model.Database()"
   ]
  },
  {
   "cell_type": "markdown",
   "metadata": {},
   "source": [
    "## Generate Reactions of Interest"
   ]
  },
  {
   "cell_type": "code",
   "execution_count": null,
   "metadata": {},
   "outputs": [],
   "source": [
    "rxn_coef = [-1, +1]\n",
    "rxn_endmem = [0, 0]\n",
    "modelDB.get_rxn(['And','Ky'], rxn_endmem, rxn_coef)"
   ]
  },
  {
   "cell_type": "code",
   "execution_count": null,
   "metadata": {},
   "outputs": [],
   "source": [
    "rxn_coef = [-1, +1]\n",
    "rxn_endmem = [0, 0]\n",
    "\n",
    "# Create reactions\n",
    "rxns = []\n",
    "rxns.append(modelDB.get_rxn(['And','Ky'], rxn_endmem, rxn_coef))\n",
    "rxns.append(modelDB.get_rxn(['And','Sil'], rxn_endmem, rxn_coef))\n",
    "rxns.append(modelDB.get_rxn(['Ky','Sil'], rxn_endmem, rxn_coef))\n",
    "\n",
    "# Create labels for legend\n",
    "rxn_eqns = []\n",
    "rxn_eqns.append('And = Ky')\n",
    "rxn_eqns.append('And = Sil')\n",
    "rxn_eqns.append('Ky = Sil')"
   ]
  },
  {
   "cell_type": "markdown",
   "metadata": {},
   "source": [
    "## Calculate Triple Point"
   ]
  },
  {
   "cell_type": "code",
   "execution_count": null,
   "metadata": {},
   "outputs": [],
   "source": [
    "# Calculate triple point\n",
    "T_tp, P_tp = rxns[0].simultaneous_rxn_cond(rxns[1])\n",
    "print(T_tp,P_tp)"
   ]
  },
  {
   "cell_type": "markdown",
   "metadata": {},
   "source": [
    "## Plot Phase Diagram"
   ]
  },
  {
   "cell_type": "code",
   "execution_count": null,
   "metadata": {},
   "outputs": [],
   "source": [
    "def get_nice_colors(Ncolor):\n",
    "    cmap = plt.get_cmap(name='viridis')\n",
    "    ind_a = np.int_(np.round(np.linspace(0,255,Ncolor)))\n",
    "    colors = [cmap.colors[ind] for ind in ind_a]\n",
    "    return colors"
   ]
  },
  {
   "cell_type": "code",
   "execution_count": null,
   "metadata": {},
   "outputs": [],
   "source": [
    "colors = get_nice_colors(3)\n",
    "Tlims = 273.15 + np.array([400,900])\n",
    "\n",
    "rxn_bnds = []\n",
    "T_bnds = []\n",
    "P_bnds = []\n",
    "\n",
    "plt.figure()\n",
    "\n",
    "for irxn, col in zip(rxns, colors):\n",
    "    iTbnds, iPbnds = irxn.trace_boundary(Tlims=Tlims, Nsamp=100)\n",
    "    T_bnds.append(iTbnds)\n",
    "    P_bnds.append(iPbnds)\n",
    "    istable = irxn.stability(iTbnds, iPbnds, rxns)\n",
    "    irxn_bnd, = plt.plot(iTbnds[istable]-273.15, iPbnds[istable]/1e3, '-',\n",
    "                         lw=2, color=col)\n",
    "    irxn_bnd_meta, = plt.plot(iTbnds[~istable]-273.15, iPbnds[~istable]/1e3, '--',\n",
    "                         lw=2, color=col)\n",
    "    \n",
    "plt.plot(T_tp-273.15, P_tp/1e3,'r+',mew=2)\n",
    "\n",
    "plt.xlabel('Temp.  [C]')\n",
    "plt.ylabel('Press.  [kbar]')\n",
    "\n",
    "plt.legend(rxn_bnds, rxn_eqns)"
   ]
  },
  {
   "cell_type": "code",
   "execution_count": null,
   "metadata": {},
   "outputs": [],
   "source": []
  }
 ],
 "metadata": {
  "anaconda-cloud": {},
  "kernelspec": {
   "display_name": "Python 3 (ipykernel)",
   "language": "python",
   "name": "python3"
  },
  "language_info": {
   "codemirror_mode": {
    "name": "ipython",
    "version": 3
   },
   "file_extension": ".py",
   "mimetype": "text/x-python",
   "name": "python",
   "nbconvert_exporter": "python",
   "pygments_lexer": "ipython3",
   "version": "3.9.7"
  }
 },
 "nbformat": 4,
 "nbformat_minor": 4
}
