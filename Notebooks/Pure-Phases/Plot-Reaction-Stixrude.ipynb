{
 "cells": [
  {
   "cell_type": "markdown",
   "metadata": {},
   "source": [
    "# PhaseObjC - Plot a Reaction between Stoichiometric Phases"
   ]
  },
  {
   "cell_type": "code",
   "execution_count": null,
   "metadata": {},
   "outputs": [],
   "source": [
    "from thermoengine import phases\n",
    "from thermoengine import model\n",
    "import numpy as np\n",
    "import matplotlib.pyplot as plt\n",
    "%matplotlib inline"
   ]
  },
  {
   "cell_type": "markdown",
   "metadata": {},
   "source": [
    "### Get access to a thermodynamic database (by default, the Berman (1988) database)."
   ]
  },
  {
   "cell_type": "code",
   "execution_count": null,
   "metadata": {},
   "outputs": [],
   "source": [
    "modelDBStix = model.Database('Stixrude')"
   ]
  },
  {
   "cell_type": "markdown",
   "metadata": {},
   "source": [
    "### To print a list of all of the phases in the database, execute:\n",
    "```\n",
    "print(thermoDB.all_purephases_df.to_string())\n",
    "```\n",
    "### Specify a new reaction by indicating reactants, products.\n",
    "forsterite = Mg-Wads"
   ]
  },
  {
   "cell_type": "code",
   "execution_count": null,
   "metadata": {},
   "outputs": [],
   "source": [
    "reaction = modelDBStix.get_rxn(['Fo', 'MgWds'], [0, 0], [-1, 1])\n",
    "fo = modelDBStix.get_phase('Fo')\n",
    "wd = modelDBStix.get_phase('MgWds')"
   ]
  },
  {
   "cell_type": "markdown",
   "metadata": {},
   "source": [
    "Check on the thermodynamic properties of the two phases close to a known equilibrium point:"
   ]
  },
  {
   "cell_type": "code",
   "execution_count": null,
   "metadata": {},
   "outputs": [],
   "source": [
    "p = 150000 # pressure in bars\n",
    "t = 2100 # temperature in Kelvins\n",
    "print(fo.gibbs_energy(t, p), wd.gibbs_energy(t, p))\n",
    "print(fo.enthalpy(t, p), wd.enthalpy(t, p))\n",
    "print(fo.entropy(t, p), wd.entropy(t, p))\n",
    "print(fo.volume(t, p), wd.volume(t, p))\n",
    "print(fo.heat_capacity(t, p), wd.heat_capacity(t, p))"
   ]
  },
  {
   "cell_type": "markdown",
   "metadata": {},
   "source": [
    "### Set up temperature bounds, and calculate the univariant curve.\n",
    "In this case convergence reqiuires specifying an initial guess for the equilibrium T (in K)"
   ]
  },
  {
   "cell_type": "code",
   "execution_count": null,
   "metadata": {},
   "outputs": [],
   "source": [
    "Tlims = 273.15+np.array([700,2500])\n",
    "univariant_line = reaction.trace_boundary(Tlims=Tlims,Nsamp=100)"
   ]
  },
  {
   "cell_type": "markdown",
   "metadata": {},
   "source": [
    "### Now, plot up the results."
   ]
  },
  {
   "cell_type": "code",
   "execution_count": null,
   "metadata": {},
   "outputs": [],
   "source": [
    "plt.plot (univariant_line[0]-273.15, univariant_line[1]/1e4, 'r-')\n",
    "plt.ylabel('P (GPa)')\n",
    "plt.xlabel('T (°C)')\n",
    "plt.show()"
   ]
  },
  {
   "cell_type": "code",
   "execution_count": null,
   "metadata": {},
   "outputs": [],
   "source": []
  }
 ],
 "metadata": {
  "anaconda-cloud": {},
  "hide_input": false,
  "kernelspec": {
   "display_name": "Python 3 (ipykernel)",
   "language": "python",
   "name": "python3"
  },
  "language_info": {
   "codemirror_mode": {
    "name": "ipython",
    "version": 3
   },
   "file_extension": ".py",
   "mimetype": "text/x-python",
   "name": "python",
   "nbconvert_exporter": "python",
   "pygments_lexer": "ipython3",
   "version": "3.9.7"
  }
 },
 "nbformat": 4,
 "nbformat_minor": 4
}
