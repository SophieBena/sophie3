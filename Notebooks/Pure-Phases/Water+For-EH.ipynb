{
 "cells": [
  {
   "cell_type": "markdown",
   "metadata": {},
   "source": [
    "# Water Properties (thermodynamic and dielectric constant)"
   ]
  },
  {
   "cell_type": "code",
   "execution_count": null,
   "metadata": {},
   "outputs": [],
   "source": [
    "from thermoengine import phases\n",
    "from thermoengine import model"
   ]
  },
  {
   "cell_type": "markdown",
   "metadata": {},
   "source": [
    "## Set up access to thermodynamic properties"
   ]
  },
  {
   "cell_type": "code",
   "execution_count": null,
   "metadata": {},
   "outputs": [],
   "source": [
    "modelDB = model.Database()\n",
    "H2O = modelDB.get_phase('H2O')"
   ]
  },
  {
   "cell_type": "code",
   "execution_count": null,
   "metadata": {},
   "outputs": [],
   "source": [
    "print (H2O.props['phase_name'])\n",
    "print (H2O.props['formula'][0])\n",
    "print (H2O.props['molwt'][0])\n",
    "# print (H2O.Berman_formula)"
   ]
  },
  {
   "cell_type": "markdown",
   "metadata": {},
   "source": [
    "## Calculate thermodynamic properties of pure water\n",
    "```\n",
    "(double)getGibbsFreeEnergyFromT:(double)t andP:(double)p;\n",
    "(double)getEnthalpyFromT:(double)t andP:(double)p;\n",
    "(double)getEntropyFromT:(double)t andP:(double)p;\n",
    "(double)getHeatCapacityFromT:(double)t andP:(double)p;\n",
    "(double)getDcpDtFromT:(double)t andP:(double)p;\n",
    "(double)getVolumeFromT:(double)t andP:(double)p;\n",
    "(double)getDvDtFromT:(double)t andP:(double)p;\n",
    "(double)getDvDpFromT:(double)t andP:(double)p;\n",
    "(double)getD2vDt2FromT:(double)t andP:(double)p;\n",
    "(double)getD2vDtDpFromT:(double)t andP:(double)p;\n",
    "(double)getD2vDp2FromT:(double)t andP:(double)p;\n",
    "```\n",
    "where *t* (temperature) is in K, and *p* (pressure) is in bars."
   ]
  },
  {
   "cell_type": "code",
   "execution_count": null,
   "metadata": {},
   "outputs": [],
   "source": [
    "print (\"{0:>10s}{1:15.2f}{2:<20s}\".format(\"G\", H2O.gibbs_energy(1000.0, 1000.0), 'J/mol'))\n",
    "print (\"{0:>10s}{1:15.2f}{2:<20s}\".format(\"H\", H2O.enthalpy(1000.0, 1000.0), 'J/mol'))\n",
    "print (\"{0:>10s}{1:15.2f}{2:<20s}\".format(\"S\", H2O.entropy(1000.0, 1000.0), 'J/K-mol'))\n",
    "print (\"{0:>10s}{1:15.3f}{2:<20s}\".format(\"Cp\", H2O.heat_capacity(1000.0, 1000.0), 'J/K-mol'))\n",
    "print (\"{0:>10s}{1:15.6e}{2:<20s}\".format(\"dCp/dT\", H2O.heat_capacity(1000.0, 1000.0, deriv={'dT':1}), 'J/-K^2-mol'))\n",
    "print (\"{0:>10s}{1:15.3f}{2:<20s}\".format(\"V\", H2O.volume(1000.0, 1000.0, deriv={'dT':1}), 'J/bar-mol'))\n",
    "print (\"{0:>10s}{1:15.6e}{2:<20s}\".format(\"dV/dT\", H2O.volume(1000.0, 1000.0, deriv={'dT':1}), 'J/bar-K-mol'))\n",
    "print (\"{0:>10s}{1:15.6e}{2:<20s}\".format(\"dv/dP\", H2O.volume(1000.0, 1000.0, deriv={'dP':1}), 'J/bar^2-mol'))\n",
    "print (\"{0:>10s}{1:15.6e}{2:<20s}\".format(\"d2V/dT2\", H2O.volume(1000.0, 1000.0, deriv={'dT':2}), 'J/bar-K^2-mol'))\n",
    "print (\"{0:>10s}{1:15.6e}{2:<20s}\".format(\"d2V/dTdP\", H2O.volume(1000.0, 1000.0, deriv={'dT':1, 'dP':1}), 'J/bar^2-K-mol'))\n",
    "print (\"{0:>10s}{1:15.6e}{2:<20s}\".format(\"d2V/dP2\", H2O.volume(1000.0, 1000.0, deriv={'dP':2}), 'J/bar^3-mol'))"
   ]
  },
  {
   "cell_type": "markdown",
   "metadata": {},
   "source": [
    "## Plot the density of water.\n",
    "Set P to 200 bars"
   ]
  },
  {
   "cell_type": "code",
   "execution_count": null,
   "metadata": {},
   "outputs": [],
   "source": [
    "P = 200.0 # bars\n",
    "\n",
    "import matplotlib.pyplot as plt\n",
    "import numpy as np\n",
    "%matplotlib inline\n",
    "T_array = np.linspace(250.0, 1200.0, 100, endpoint=True) # K\n",
    "MW = H2O.props['molwt']\n",
    "Den_array = np.zeros(T_array.shape)\n",
    "for ind,T in enumerate(T_array):\n",
    "    V = H2O.volume(T, P)*10.0 ## cc\n",
    "    Den_array[ind] = MW/V\n",
    "plt.plot(T_array, Den_array)\n",
    "plt.ylabel('density g/cc')\n",
    "plt.xlabel('T K')\n",
    "plt.show()"
   ]
  },
  {
   "cell_type": "markdown",
   "metadata": {},
   "source": [
    "## Set up access to dielectric properties of water"
   ]
  },
  {
   "cell_type": "code",
   "execution_count": null,
   "metadata": {},
   "outputs": [],
   "source": [
    "from ctypes import cdll\n",
    "from ctypes import util\n",
    "from rubicon.objc import ObjCClass, objc_method\n",
    "cdll.LoadLibrary(util.find_library('phaseobjc'))"
   ]
  },
  {
   "cell_type": "code",
   "execution_count": null,
   "metadata": {},
   "outputs": [],
   "source": [
    "DEWepsilon = ObjCClass('DEWDielectricConstant')\n",
    "obj = DEWepsilon.alloc().init()"
   ]
  },
  {
   "cell_type": "markdown",
   "metadata": {},
   "source": [
    "## Calculate dielectric properties of water"
   ]
  },
  {
   "cell_type": "markdown",
   "metadata": {},
   "source": [
    "See the documentation on function calls here: https://enki-portal.gitlab.io/ThermoEngine/DEWDielectricConstant.html  \n",
    "There are many higher order derivatives and Born functions available.  Just convert the objective-C calls to the form shown below to calculate these other functions."
   ]
  },
  {
   "cell_type": "code",
   "execution_count": null,
   "metadata": {},
   "outputs": [],
   "source": [
    "print ('Dielectric constant: ', obj.epsilonFromT_andP_(1000.0, 1000.0))\n",
    "print ('d(epsilon)/dT: ', obj.dEpsilonDtFromT_andP_(1000.0, 1000.0))\n",
    "print ('d(epsilon)/dP: ', obj.dEpsilonDpFromT_andP_(1000.0, 1000.0))"
   ]
  },
  {
   "cell_type": "markdown",
   "metadata": {},
   "source": [
    "There are also Debye-Huckel parameters (and their derivatives avaulable), e.g."
   ]
  },
  {
   "cell_type": "code",
   "execution_count": null,
   "metadata": {},
   "outputs": [],
   "source": [
    "print ('Agamma: ', obj.AgammaFromT_andP_(1000.0, 1000.0))\n",
    "print ('Bgamma: ', obj.BgammaFromT_andP_(1000.0, 1000.0))"
   ]
  },
  {
   "cell_type": "code",
   "execution_count": null,
   "metadata": {},
   "outputs": [],
   "source": []
  }
 ],
 "metadata": {
  "anaconda-cloud": {},
  "kernelspec": {
   "display_name": "Python 3 (ipykernel)",
   "language": "python",
   "name": "python3"
  },
  "language_info": {
   "codemirror_mode": {
    "name": "ipython",
    "version": 3
   },
   "file_extension": ".py",
   "mimetype": "text/x-python",
   "name": "python",
   "nbconvert_exporter": "python",
   "pygments_lexer": "ipython3",
   "version": "3.9.7"
  }
 },
 "nbformat": 4,
 "nbformat_minor": 4
}
