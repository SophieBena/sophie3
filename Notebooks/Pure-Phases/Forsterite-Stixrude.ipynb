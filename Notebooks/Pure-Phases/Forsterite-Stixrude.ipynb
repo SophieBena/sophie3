{
 "cells": [
  {
   "cell_type": "markdown",
   "metadata": {},
   "source": [
    "# Forsterite - Stixrude"
   ]
  },
  {
   "cell_type": "code",
   "execution_count": null,
   "metadata": {},
   "outputs": [],
   "source": [
    "from thermoengine import phases\n",
    "from thermoengine import model"
   ]
  },
  {
   "cell_type": "markdown",
   "metadata": {},
   "source": [
    "### Create a Python reference to the Forsterite phase in teh Stixrude database. "
   ]
  },
  {
   "cell_type": "code",
   "execution_count": null,
   "metadata": {},
   "outputs": [],
   "source": [
    "modelDBStix = model.Database(database='Stixrude')\n",
    "obj = modelDBStix.get_phase('Fo')"
   ]
  },
  {
   "cell_type": "markdown",
   "metadata": {},
   "source": [
    "## All phases that conform to the Stoichiometric Phase Protocol ...\n",
    "### ...implement the following functions:\n",
    "```\n",
    "(double)getGibbsFreeEnergyFromT:(double)t andP:(double)p;\n",
    "(double)getEnthalpyFromT:(double)t andP:(double)p;\n",
    "(double)getEntropyFromT:(double)t andP:(double)p;\n",
    "(double)getHeatCapacityFromT:(double)t andP:(double)p;\n",
    "(double)getDcpDtFromT:(double)t andP:(double)p;\n",
    "(double)getVolumeFromT:(double)t andP:(double)p;\n",
    "(double)getDvDtFromT:(double)t andP:(double)p;\n",
    "(double)getDvDpFromT:(double)t andP:(double)p;\n",
    "(double)getD2vDt2FromT:(double)t andP:(double)p;\n",
    "(double)getD2vDtDpFromT:(double)t andP:(double)p;\n",
    "(double)getD2vDp2FromT:(double)t andP:(double)p;\n",
    "```\n",
    "where *t* (temperature) is in K, and *p* (pressure) is in bars.\n",
    "### In Python, these calls are written:"
   ]
  },
  {
   "cell_type": "code",
   "execution_count": null,
   "metadata": {},
   "outputs": [],
   "source": [
    "def formatted_output(title, value, units, decimals, sci_notation=False):\n",
    "    format_str = \"{0:>10s}{1:15.\"+str(decimals)\n",
    "    if sci_notation:\n",
    "        format_str += \"e\"\n",
    "    else:\n",
    "        format_str += \"f\"\n",
    "        \n",
    "    format_str += \"} {2:<20s}\"\n",
    "    \n",
    "    output = format_str.format(title, value, units)\n",
    "    return output"
   ]
  },
  {
   "cell_type": "code",
   "execution_count": null,
   "metadata": {},
   "outputs": [],
   "source": [
    "t = 2100.0 - 273.15\n",
    "p = 15000.0\n",
    "\n",
    "print (formatted_output('G', obj.gibbs_energy(t,p), 'J/mol',2))\n",
    "print (formatted_output('H', obj.enthalpy(t,p), 'J/mol',2))\n",
    "print (formatted_output('S', obj.entropy(t,p), 'J/K-mol',2))\n",
    "print (formatted_output('Cp', obj.heat_capacity(t,p), 'J/K-mol',3))\n",
    "print (formatted_output(\"V\", obj.volume(t,p), 'J/bar-mol',3))\n",
    "print (formatted_output(\"dV/dT\", obj.volume(t,p, deriv={'dT':1}), 'J/bar-K-mol',6, sci_notation=True))\n",
    "print (formatted_output(\"dv/dP\", obj.volume(t,p, deriv={'dP':1}), 'J/bar^2-mol',6, sci_notation=True))\n",
    "print (formatted_output(\"d2V/dT2\", obj.volume(t,p, deriv={'dT':2}), 'J/bar-K^2-mol',6, sci_notation=True))\n",
    "print (formatted_output(\"d2V/dTdP\", obj.volume(t,p, deriv={'dT':1, 'dP':1}), 'J/bar^2-K-mol',6, sci_notation=True))\n",
    "print (formatted_output(\"d2V/dP2\", obj.volume(t,p, deriv={'dP':2}), 'J/bar^3-mol',6, sci_notation=True))"
   ]
  },
  {
   "cell_type": "code",
   "execution_count": null,
   "metadata": {},
   "outputs": [],
   "source": [
    "from scipy.misc import derivative\n",
    "t = 2100.0-273.15\n",
    "p = 15000.0"
   ]
  },
  {
   "cell_type": "code",
   "execution_count": null,
   "metadata": {},
   "outputs": [],
   "source": [
    "def test_h(t,p):\n",
    "    h_est = obj.gibbs_energy(t,p) + t*obj.entropy(t, p)\n",
    "    h_act = obj.enthalpy(t, p)\n",
    "    h_err = (h_est-h_act)*100.0/h_act\n",
    "    print (\"H       {0:10.6f} % error, est: {1:15.6e} act: {2:15.6e}\".format(h_err, h_est, h_act))\n",
    "def g(x, doT=True):\n",
    "    if doT:\n",
    "        return obj.gibbs_energy(x, p)\n",
    "    else:\n",
    "        return obj.gibbs_energy(t, x)\n",
    "def test_g_dt(t,p):\n",
    "    s_est = -derivative(g, t, args=(True,))\n",
    "    s_act = obj.entropy(t, p)\n",
    "    s_err = (s_est-s_act)*100.0/s_act\n",
    "    print (\"S       {0:10.6f} % error, est: {1:15.6e} act: {2:15.6e}\".format(s_err, s_est, s_act))\n",
    "def test_g_dp(t,p):\n",
    "    v_est = derivative(g, p, args=(False,))\n",
    "    v_act = obj.volume(t, p)\n",
    "    v_err = (v_est-v_act)*100.0/v_act\n",
    "    print (\"V       {0:10.6f} % error, est: {1:15.6e} act: {2:15.6e}\".format(v_err, v_est, v_act))\n",
    "def s(x, doT=True):\n",
    "    if doT:\n",
    "        return obj.entropy(x, p)\n",
    "    else:\n",
    "        return obj.entropy(t, x)\n",
    "def test_s_dt(t,p):\n",
    "    cp_est = t*derivative(s, t, args=(True,))\n",
    "    cp_act = obj.heat_capacity(t, p)\n",
    "    cp_err = (cp_est-cp_act)*100.0/cp_act\n",
    "    print (\"Cp      {0:10.6f} % error, est: {1:15.6e} act: {2:15.6e}\".format(cp_err, cp_est, cp_act))\n",
    "def cp(x, doT=True):\n",
    "    if doT:\n",
    "        return obj.heat_capacity(x, p)\n",
    "    else:\n",
    "        return obj.heat_capacity(t, x)\n",
    "def test_cp_dt(t,p):\n",
    "    dcpdt_est = derivative(cp, t, args=(True,))\n",
    "    dcpdt_act = obj.heat_capacity(t,p, deriv={'dT':1})\n",
    "    dcpdt_err = (dcpdt_est-dcpdt_act)*100.0/dcpdt_act\n",
    "    print (\"dCpDt   {0:10.6f} % error, est: {1:15.6e} act: {2:15.6e}\".format(dcpdt_err, dcpdt_est, dcpdt_act))\n",
    "def v(x, doT=True):\n",
    "    if doT:\n",
    "        return obj.volume(x, p)\n",
    "    else:\n",
    "        return obj.volume(t, x)\n",
    "def test_v_dt(t,p):\n",
    "    dvdt_est = derivative(v, t, args=(True,))\n",
    "    dvdt_act = obj.volume(t,p, deriv={'dT':1})\n",
    "    dvdt_err = (dvdt_est-dvdt_act)*100.0/dvdt_act\n",
    "    print (\"dVdT    {0:10.6f} % error, est: {1:15.6e} act: {2:15.6e}\".format(dvdt_err, dvdt_est, dvdt_act))\n",
    "def test_v_dp(t,p):\n",
    "    dvdp_est = derivative(v, p, args=(False,))\n",
    "    dvdp_act = obj.volume(t,p, deriv={'dP':1})\n",
    "    dvdp_err = (dvdp_est-dvdp_act)*100.0/dvdp_act\n",
    "    print (\"dVdP    {0:10.6f} % error, est: {1:15.6e} act: {2:15.6e}\".format(dvdp_err, dvdp_est, dvdp_act))\n",
    "def dvdt(x, doT=True):\n",
    "    if doT:\n",
    "        return obj.volume(x, p, deriv={'dT':1})\n",
    "    else:\n",
    "        return obj.volume(t, x, deriv={'dT':1})\n",
    "def dvdp(x, doT=True):\n",
    "    if doT:\n",
    "        return obj.volume(x, p, deriv={'dP':1})\n",
    "    else:\n",
    "        return obj.volume(t, x, deriv={'dP':1})\n",
    "def test_dvdt_dt(t,p):\n",
    "    d2vdt2_est = derivative(dvdt, t, args=(True,))\n",
    "    d2vdt2_act = obj.volume(t,p, deriv={'dT':2})\n",
    "    d2vdt2_err = (d2vdt2_est-d2vdt2_act)*100.0/d2vdt2_act\n",
    "    print (\"d2VdT2  {0:10.6f} % error, est: {1:15.6e} act: {2:15.6e}\".format(d2vdt2_err, d2vdt2_est, d2vdt2_act))\n",
    "def test_dvdt_dp(t,p):\n",
    "    d2vdtdp_est = derivative(dvdt, p, args=(False,))\n",
    "    d2vdtdp_act = obj.volume(t,p, deriv={'dT':1, 'dP':1})\n",
    "    d2vdtdp_err = (d2vdtdp_est-d2vdtdp_act)*100.0/d2vdtdp_act\n",
    "    print (\"d2VdTdP {0:10.6f} % error, est: {1:15.6e} act: {2:15.6e}\".format(d2vdtdp_err, d2vdtdp_est, d2vdtdp_act))\n",
    "def test_dvdp_dt(t,p):\n",
    "    d2vdtdp_est = derivative(dvdp, t, args=(True,))\n",
    "    d2vdtdp_act = obj.volume(t,p, deriv={'dT':1, 'dP':1})\n",
    "    d2vdtdp_err = (d2vdtdp_est-d2vdtdp_act)*100.0/d2vdtdp_act\n",
    "    print (\"d2VdTDp {0:10.6f} % error, est: {1:15.6e} act: {2:15.6e}\".format(d2vdtdp_err, d2vdtdp_est, d2vdtdp_act))\n",
    "def test_dvdp_dp(t,p):\n",
    "    d2vdp2_est = derivative(dvdp, p, args=(False,))\n",
    "    d2vdp2_act = obj.volume(t,p, deriv={'dP':2})\n",
    "    d2vdp2_err = (d2vdp2_est-d2vdp2_act)*100.0/d2vdp2_act\n",
    "    print (\"d2VdP2  {0:10.6f} % error, est: {1:15.6e} act: {2:15.6e}\".format(d2vdp2_err, d2vdp2_est, d2vdp2_act))"
   ]
  },
  {
   "cell_type": "code",
   "execution_count": null,
   "metadata": {},
   "outputs": [],
   "source": [
    "test_h(t,p)\n",
    "test_g_dt(t,p)\n",
    "test_s_dt(t,p)\n",
    "test_cp_dt(t,p)\n",
    "test_g_dp(t,p)\n",
    "test_v_dt(t,p)\n",
    "test_v_dp(t,p)\n",
    "test_dvdt_dt(t,p)\n",
    "test_dvdt_dp(t,p)\n",
    "test_dvdp_dt(t,p)\n",
    "test_dvdp_dp(t,p)"
   ]
  },
  {
   "cell_type": "code",
   "execution_count": null,
   "metadata": {},
   "outputs": [],
   "source": [
    "obj.volume(t,p)"
   ]
  },
  {
   "cell_type": "code",
   "execution_count": null,
   "metadata": {},
   "outputs": [],
   "source": [
    "obj.props"
   ]
  },
  {
   "cell_type": "code",
   "execution_count": null,
   "metadata": {},
   "outputs": [],
   "source": []
  }
 ],
 "metadata": {
  "anaconda-cloud": {},
  "hide_input": false,
  "kernelspec": {
   "display_name": "Python 3 (ipykernel)",
   "language": "python",
   "name": "python3"
  },
  "language_info": {
   "codemirror_mode": {
    "name": "ipython",
    "version": 3
   },
   "file_extension": ".py",
   "mimetype": "text/x-python",
   "name": "python",
   "nbconvert_exporter": "python",
   "pygments_lexer": "ipython3",
   "version": "3.9.7"
  }
 },
 "nbformat": 4,
 "nbformat_minor": 4
}
