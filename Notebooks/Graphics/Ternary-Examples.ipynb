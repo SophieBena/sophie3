{
 "cells": [
  {
   "cell_type": "markdown",
   "metadata": {},
   "source": [
    "# Ternary Plotting in Python\n",
    "\n",
    "Let's explore some basic functionality and examples of the `ternary` library, available at [Github](https://github.com/marcharper/python-ternary)."
   ]
  },
  {
   "cell_type": "code",
   "execution_count": null,
   "metadata": {},
   "outputs": [],
   "source": [
    "%matplotlib inline\n",
    "\n",
    "import ternary\n",
    "\n",
    "print(\"Version\", ternary.__version__)"
   ]
  },
  {
   "cell_type": "code",
   "execution_count": null,
   "metadata": {},
   "outputs": [],
   "source": [
    "# Make images higher resolution and set default size\n",
    "import matplotlib\n",
    "matplotlib.rcParams['figure.dpi'] = 200\n",
    "matplotlib.rcParams['figure.figsize'] = (4, 4)"
   ]
  },
  {
   "cell_type": "markdown",
   "metadata": {},
   "source": [
    "The `ternary` library wraps its plotting functions are matplotlib. You can ask ternary for a plotting axes object or wrap an existing matplotlib axes. Our first example draws a ternary boundary and some inner grid lines, as well as some labels (you can use LaTeX just like in matplotlib).\n",
    "\n",
    "You can use `offset` parameters to adjust the distances of the axes ticks and labels, which is useful for labels that have unusual symbols or if you otherwise modify the default style significantly."
   ]
  },
  {
   "cell_type": "code",
   "execution_count": null,
   "metadata": {},
   "outputs": [],
   "source": [
    "## Boundary and Gridlines\n",
    "scale = 30\n",
    "figure, tax = ternary.figure(scale=scale)\n",
    "# figure.set_size_inches(6, 6)\n",
    "\n",
    "# Draw Boundary and Gridlines\n",
    "tax.boundary(linewidth=1.5)\n",
    "tax.gridlines(color=\"black\", multiple=6)\n",
    "tax.gridlines(color=\"blue\", multiple=2, linewidth=0.5)\n",
    "\n",
    "# Set Axis labels and Title\n",
    "fontsize = 12\n",
    "tax.set_title(\"Simplex Boundary and Gridlines\\n\", fontsize=fontsize)\n",
    "tax.left_axis_label(\"Left label $\\\\alpha^2$\", fontsize=fontsize, offset=0.14)\n",
    "tax.right_axis_label(\"Right label $\\\\beta^2$\", fontsize=fontsize, offset=0.14)\n",
    "tax.bottom_axis_label(\"Bottom label $\\\\Gamma - \\\\Omega$\", fontsize=fontsize, offset=0.14)\n",
    "\n",
    "# Set ticks\n",
    "tax.ticks(axis='lbr', linewidth=1, multiple=5, offset=0.03)\n",
    "\n",
    "# Remove default Matplotlib Axes\n",
    "tax.clear_matplotlib_ticks()\n",
    "tax.get_axes().axis('off')\n",
    "\n",
    "ternary.plt.show()"
   ]
  },
  {
   "cell_type": "markdown",
   "metadata": {},
   "source": [
    "Ternary provides functions to plot points and lines, and will do all the necessary projecting for you."
   ]
  },
  {
   "cell_type": "code",
   "execution_count": null,
   "metadata": {},
   "outputs": [],
   "source": [
    "import ternary\n",
    "\n",
    "scale = 40\n",
    "figure, tax = ternary.figure(scale=scale)\n",
    "# figure.set_size_inches(10, 10)\n",
    "\n",
    "# Draw Boundary and Gridlines\n",
    "tax.boundary(linewidth=2.0)\n",
    "tax.gridlines(color=\"blue\", multiple=5)\n",
    "\n",
    "# Set Axis labels and Title\n",
    "fontsize = 12\n",
    "offset = 0.14\n",
    "tax.set_title(\"Various Lines\\n\", fontsize=fontsize)\n",
    "tax.right_corner_label(\"X\", fontsize=fontsize)\n",
    "tax.top_corner_label(\"Y\", fontsize=fontsize)\n",
    "tax.left_corner_label(\"Z\", fontsize=fontsize)\n",
    "tax.left_axis_label(\"Left label $\\\\alpha^2$\", fontsize=fontsize, offset=offset)\n",
    "tax.right_axis_label(\"Right label $\\\\beta^2$\", fontsize=fontsize, offset=offset)\n",
    "tax.bottom_axis_label(\"Bottom label $\\\\Gamma - \\\\Omega$\", fontsize=fontsize, offset=offset)\n",
    "\n",
    "# Draw lines parallel to the axes\n",
    "tax.horizontal_line(16)\n",
    "tax.left_parallel_line(10, linewidth=2., color='red', linestyle=\"--\")\n",
    "tax.right_parallel_line(20, linewidth=3., color='blue')\n",
    "# Draw an arbitrary line, ternary will project the points for you\n",
    "p1 = (22, 8, 10)\n",
    "p2 = (2, 22, 16)\n",
    "tax.line(p1, p2, linewidth=3., marker='s', color='green', linestyle=\":\")\n",
    "\n",
    "tax.ticks(axis='lbr', multiple=5, linewidth=1, offset=0.025)\n",
    "tax.get_axes().axis('off')\n",
    "tax.clear_matplotlib_ticks()\n",
    "\n",
    "tax.show()"
   ]
  },
  {
   "cell_type": "markdown",
   "metadata": {},
   "source": [
    "You can also plot curves and make scatter plots (ternary will project each point)."
   ]
  },
  {
   "cell_type": "code",
   "execution_count": null,
   "metadata": {},
   "outputs": [],
   "source": [
    "## Sample trajectory plot\n",
    "figure, tax = ternary.figure(scale=1.0)\n",
    "figure.set_size_inches(5, 5)\n",
    "\n",
    "tax.boundary()\n",
    "tax.gridlines(multiple=0.2, color=\"black\")\n",
    "tax.set_title(\"Plotting of sample trajectory data\", fontsize=10)\n",
    "# Load some data, tuples (x,y,z)\n",
    "points = []\n",
    "with open(\"sample_data/curve.txt\") as handle:\n",
    "    for line in handle:\n",
    "        points.append(list(map(float, line.split(' '))))\n",
    "\n",
    "# Plot the data\n",
    "tax.plot(points, linewidth=2.0, label=\"Curve\")\n",
    "tax.ticks(axis='lbr', multiple=0.2, linewidth=1, tick_formats=\"%.1f\", offset=0.02)\n",
    "\n",
    "tax.get_axes().axis('off')\n",
    "tax.clear_matplotlib_ticks()\n",
    "tax.legend()\n",
    "tax.show()"
   ]
  },
  {
   "cell_type": "code",
   "execution_count": null,
   "metadata": {},
   "outputs": [],
   "source": [
    "# Using same points as above\n",
    "\n",
    "fig, tax = ternary.figure(scale=1.0)\n",
    "fig.set_size_inches(10, 10)\n",
    "\n",
    "tax.plot_colored_trajectory(points, linewidth=2.0)\n",
    "\n",
    "## Shuffle points for additional plot\n",
    "points = [(y, z, x) for (x, y, z) in points]\n",
    "tax.plot_colored_trajectory(points, cmap=\"hsv\", linewidth=2.0)\n",
    "\n",
    "tax.get_axes().axis('off')\n",
    "tax.clear_matplotlib_ticks()\n",
    "tax.ticks(axis='lbr', linewidth=1, multiple=0.1, tick_formats=\"%.1f\")\n",
    "tax.boundary()\n",
    "tax.set_title(\"Plotting of sample trajectory data\", fontsize=20)\n",
    "tax.gridlines(multiple=0.2, color=\"black\")\n",
    "tax.show()"
   ]
  },
  {
   "cell_type": "code",
   "execution_count": null,
   "metadata": {},
   "outputs": [],
   "source": [
    "## Generate Data\n",
    "import random\n",
    "\n",
    "def random_points(num_points=25, scale=40):\n",
    "    points = []\n",
    "    for i in range(num_points):\n",
    "        x = random.randint(1, scale)\n",
    "        y = random.randint(0, scale - x)\n",
    "        z = scale - x - y\n",
    "        points.append((x,y,z))\n",
    "    return points\n",
    "\n",
    "# Scatter Plot\n",
    "scale = 40\n",
    "figure, tax = ternary.figure(scale=scale)\n",
    "figure.set_size_inches(10, 10)\n",
    "# Plot a few different styles with a legend\n",
    "points = random_points(30, scale=scale)\n",
    "tax.scatter(points, marker='s', color='red', label=\"Red Squares\")\n",
    "points = random_points(30, scale=scale)\n",
    "tax.scatter(points, marker='D', color='green', label=\"Green Diamonds\")\n",
    "tax.legend()\n",
    "\n",
    "tax.set_title(\"Scatter Plot\", fontsize=20)\n",
    "tax.boundary(linewidth=2.0)\n",
    "tax.gridlines(multiple=5, color=\"blue\")\n",
    "tax.ticks(axis='lbr', linewidth=1, multiple=5)\n",
    "tax.clear_matplotlib_ticks()\n",
    "tax.get_axes().axis('off')\n",
    "\n",
    "tax.show()"
   ]
  },
  {
   "cell_type": "markdown",
   "metadata": {},
   "source": [
    "# Heatmaps\n",
    "\n",
    "Ternary's most unique feature are its heatmaps, which come in a variety of modes and styles. In the following example, a function is plotted as a heatmap by evaluating on a triangulation of the simplex."
   ]
  },
  {
   "cell_type": "code",
   "execution_count": null,
   "metadata": {},
   "outputs": [],
   "source": [
    "import math\n",
    "\n",
    "def shannon_entropy(p):\n",
    "    \"\"\"Computes the Shannon Entropy at a distribution in the simplex.\"\"\"\n",
    "    s = 0.\n",
    "    for i in range(len(p)):\n",
    "        try:\n",
    "            s += p[i] * math.log(p[i])\n",
    "        except ValueError:\n",
    "            continue\n",
    "    return -1. * s\n",
    "\n",
    "import ternary\n",
    "scale = 60\n",
    "\n",
    "figure, tax = ternary.figure(scale=scale)\n",
    "figure.set_size_inches(10, 8)\n",
    "tax.heatmapf(shannon_entropy, boundary=True, style=\"triangular\")\n",
    "tax.boundary(linewidth=2.0)\n",
    "tax.set_title(\"Shannon Entropy Heatmap\")\n",
    "tax.ticks(axis='lbr', linewidth=1, multiple=5)\n",
    "tax.clear_matplotlib_ticks()\n",
    "tax.show()"
   ]
  },
  {
   "cell_type": "markdown",
   "metadata": {},
   "source": [
    "You can also make heatmaps of data by specifying the color of each subtriangle or hexagon."
   ]
  },
  {
   "cell_type": "code",
   "execution_count": null,
   "metadata": {},
   "outputs": [],
   "source": [
    "def generate_random_heatmap_data(scale=5):\n",
    "    from ternary.helpers import simplex_iterator\n",
    "    d = dict()\n",
    "    for (i,j,k) in simplex_iterator(scale):\n",
    "        d[(i,j)] = random.random()\n",
    "    return d\n",
    "\n",
    "scale = 20\n",
    "d = generate_random_heatmap_data(scale)\n",
    "figure, tax = ternary.figure(scale=scale)\n",
    "tax.heatmap(d, style=\"h\")\n",
    "tax.boundary()\n",
    "tax.set_title(\"Heatmap Test: Hexagonal\")\n"
   ]
  },
  {
   "cell_type": "code",
   "execution_count": null,
   "metadata": {},
   "outputs": [],
   "source": [
    "import matplotlib.pyplot as plt\n",
    "\n",
    "def color_point(x, y, z, scale):\n",
    "    w = 255\n",
    "    x_color = x * w / float(scale)\n",
    "    y_color = y * w / float(scale)\n",
    "    z_color = z * w / float(scale)\n",
    "    r = math.fabs(w - y_color) / w\n",
    "    g = math.fabs(w - x_color) / w\n",
    "    b = math.fabs(w - z_color) / w\n",
    "    return (r, g, b, 1.)\n",
    "\n",
    "\n",
    "def generate_heatmap_data(scale=5):\n",
    "    from ternary.helpers import simplex_iterator\n",
    "    d = dict()\n",
    "    for (i, j, k) in simplex_iterator(scale):\n",
    "        d[(i, j, k)] = color_point(i, j, k, scale)\n",
    "    return d\n",
    "\n",
    "scale = 80\n",
    "data = generate_heatmap_data(scale)\n",
    "figure, tax = ternary.figure(scale=scale)\n",
    "tax.heatmap(data, style=\"hexagonal\", use_rgba=True, colorbar=False)\n",
    "# Remove default Matplotlib Axes\n",
    "tax.clear_matplotlib_ticks()\n",
    "tax.get_axes().axis('off')\n",
    "tax.boundary()\n",
    "tax.set_title(\"RGBA Heatmap\")\n",
    "plt.show()"
   ]
  },
  {
   "cell_type": "code",
   "execution_count": null,
   "metadata": {},
   "outputs": [],
   "source": []
  }
 ],
 "metadata": {
  "kernelspec": {
   "display_name": "Python 3",
   "language": "python",
   "name": "python3"
  },
  "language_info": {
   "codemirror_mode": {
    "name": "ipython",
    "version": 3
   },
   "file_extension": ".py",
   "mimetype": "text/x-python",
   "name": "python",
   "nbconvert_exporter": "python",
   "pygments_lexer": "ipython3",
   "version": "3.7.3"
  }
 },
 "nbformat": 4,
 "nbformat_minor": 4
}
