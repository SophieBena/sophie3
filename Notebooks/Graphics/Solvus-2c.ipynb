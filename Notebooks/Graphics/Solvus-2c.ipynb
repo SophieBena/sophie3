{
 "cells": [
  {
   "cell_type": "markdown",
   "metadata": {},
   "source": [
    "# Example of solvus construction using convex hulls\n",
    "## Two component example"
   ]
  },
  {
   "cell_type": "code",
   "execution_count": null,
   "metadata": {},
   "outputs": [],
   "source": [
    "import numpy as np\n",
    "from scipy.spatial import ConvexHull\n",
    "from scipy.interpolate import interp1d\n",
    "import matplotlib.pyplot as plt\n",
    "%matplotlib inline"
   ]
  },
  {
   "cell_type": "markdown",
   "metadata": {},
   "source": [
    "## Construct Gibbs energy of solution ..."
   ]
  },
  {
   "cell_type": "code",
   "execution_count": null,
   "metadata": {},
   "outputs": [],
   "source": [
    "t = 1000\n",
    "W = 20000\n",
    "mu1 = -1000\n",
    "mu2 = -3000\n",
    "g = []\n",
    "mole_frac = []\n",
    "for i in range(0,101):\n",
    "    if i == 0:\n",
    "        g.append(mu1)\n",
    "        mole_frac.append(0)\n",
    "    elif i == 100:\n",
    "        g.append(mu2)\n",
    "        mole_frac.append(1)\n",
    "    else:\n",
    "        X = i/100.0\n",
    "        result  = X*mu2 + (1-X)*mu1\n",
    "        result += 8.3143*t*(X*np.log(X) + (1-X)*np.log(1-X))\n",
    "        result += W*X*(1-X)\n",
    "        g.append(result)\n",
    "        mole_frac.append(X)\n",
    "g = np.array(g)"
   ]
  },
  {
   "cell_type": "markdown",
   "metadata": {},
   "source": [
    "## Construct a convex hull of the Gibbs function ...\n",
    "and an interpolating function"
   ]
  },
  {
   "cell_type": "code",
   "execution_count": null,
   "metadata": {},
   "outputs": [],
   "source": [
    "points = np.vstack((mole_frac,g)).T\n",
    "hull = ConvexHull(points)\n",
    "x_hull = []\n",
    "y_hull = []\n",
    "for vertex in hull.vertices:\n",
    "    x_hull.append(points[vertex, 0])\n",
    "    y_hull.append(points[vertex, 1])\n",
    "x_hull = np.array(x_hull)\n",
    "y_hull = np.array(y_hull)\n",
    "\n",
    "ind_sort = np.argsort(x_hull)\n",
    "x_hull = x_hull[ind_sort]\n",
    "y_hull = y_hull[ind_sort]\n",
    "\n",
    "f_hull = interp1d(x_hull, y_hull)"
   ]
  },
  {
   "cell_type": "markdown",
   "metadata": {},
   "source": [
    "## Plot the Gibbs function and the convex hull ..."
   ]
  },
  {
   "cell_type": "code",
   "execution_count": null,
   "metadata": {},
   "outputs": [],
   "source": [
    "fig, ax = plt.subplots()\n",
    "ax.plot(mole_frac, g, 'k-')\n",
    "ax.plot(mole_frac, f_hull(mole_frac), 'r-')\n",
    "plt.show()"
   ]
  },
  {
   "cell_type": "markdown",
   "metadata": {},
   "source": [
    "## Extract the titeline and plot ..."
   ]
  },
  {
   "cell_type": "code",
   "execution_count": null,
   "metadata": {},
   "outputs": [],
   "source": [
    "temp = np.nonzero(g-f_hull(mole_frac))[0]\n",
    "tieline = []\n",
    "if np.size(temp) > 0:\n",
    "    if temp[0] > 0:\n",
    "        tieline.append((mole_frac[temp[0]-1]+mole_frac[temp[0]])/2)\n",
    "    else:\n",
    "        tieline.append(mole_frac[temp[0]])\n",
    "    if temp[-1] < 1:\n",
    "        tieline.append((mole_frac[temp[-1]]+mole_frac[temp[-1]+1])/2)\n",
    "    else:\n",
    "        tieline.append(mole_frac[temp[-1]])\n",
    "print ('Solvus tieline at:', tieline)\n",
    "\n",
    "fig, ax = plt.subplots()\n",
    "ax.plot(mole_frac, g, 'k-')\n",
    "ax.plot(tieline, f_hull(tieline), 'r-')\n",
    "plt.show()"
   ]
  },
  {
   "cell_type": "code",
   "execution_count": null,
   "metadata": {},
   "outputs": [],
   "source": []
  }
 ],
 "metadata": {
  "kernelspec": {
   "display_name": "Python 3",
   "language": "python",
   "name": "python3"
  },
  "language_info": {
   "codemirror_mode": {
    "name": "ipython",
    "version": 3
   },
   "file_extension": ".py",
   "mimetype": "text/x-python",
   "name": "python",
   "nbconvert_exporter": "python",
   "pygments_lexer": "ipython3",
   "version": "3.7.4"
  }
 },
 "nbformat": 4,
 "nbformat_minor": 4
}
