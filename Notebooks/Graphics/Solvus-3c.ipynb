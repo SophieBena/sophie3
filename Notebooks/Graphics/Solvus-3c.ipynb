{
 "cells": [
  {
   "cell_type": "markdown",
   "metadata": {},
   "source": [
    "# Example of solvus construction using convex hulls\n",
    "## Three component example"
   ]
  },
  {
   "cell_type": "code",
   "execution_count": null,
   "metadata": {},
   "outputs": [],
   "source": [
    "import numpy as np\n",
    "from scipy.spatial import ConvexHull\n",
    "from scipy.interpolate import interp1d, interp2d\n",
    "from thermoengine import model, phases\n",
    "import matplotlib.pyplot as plt\n",
    "%matplotlib inline"
   ]
  },
  {
   "cell_type": "markdown",
   "metadata": {},
   "source": [
    "Use feldspar as a test case ..."
   ]
  },
  {
   "cell_type": "code",
   "execution_count": null,
   "metadata": {},
   "outputs": [],
   "source": [
    "modelDB = model.Database()\n",
    "Feldspar = modelDB.get_phase('Fsp')"
   ]
  },
  {
   "cell_type": "code",
   "execution_count": null,
   "metadata": {},
   "outputs": [],
   "source": [
    "Feldspar.props['endmember_name']"
   ]
  },
  {
   "cell_type": "markdown",
   "metadata": {},
   "source": [
    "## Construct Gibbs energy of solution ..."
   ]
  },
  {
   "cell_type": "code",
   "execution_count": null,
   "metadata": {},
   "outputs": [],
   "source": [
    "t = 1000\n",
    "p = 1000\n",
    "X = []\n",
    "g = []\n",
    "muAb = []\n",
    "muAn = []\n",
    "muSn = []\n",
    "mu0Ab = Feldspar.gibbs_energy(t, p, mol=np.array([1.0,0.0,0.0]))\n",
    "mu0An = Feldspar.gibbs_energy(t, p, mol=np.array([0.0,1.0,0.0]))\n",
    "mu0Sn = Feldspar.gibbs_energy(t, p, mol=np.array([0.0,0.0,1.0]))\n",
    "print (mu0Ab, mu0An, mu0Sn)\n",
    "for i in range(0,101):\n",
    "    for j in range(0,101):\n",
    "        if i+j <= 100:\n",
    "            X.append([i*0.01, j*0.01, (100.-i-j)/100.])\n",
    "            ss = i*0.01*mu0Ab + j*0.01*mu0An + (100.-i-j)*mu0Sn/100.\n",
    "            gmix = Feldspar.gibbs_energy(t, p, mol=np.array([i*0.01, j*0.01, (100.-i-j)/100.])) - ss\n",
    "            #print(i, j, 100-i-j, ss, gmix)\n",
    "            g.append(gmix)\n",
    "            mu = Feldspar.chem_potential(t,p,mol=np.array([i*0.01, j*0.01, (100.-i-j)/100.]))[0]\n",
    "            muAb.append(mu[0])\n",
    "            muAn.append(mu[1])\n",
    "            muSn.append(mu[2])\n",
    "X = np.array(X)\n",
    "g = np.array(g)\n",
    "muAb = np.array(muAb)\n",
    "muAn = np.array(muAn)\n",
    "muSn = np.array(muSn)"
   ]
  },
  {
   "cell_type": "markdown",
   "metadata": {},
   "source": [
    "## Construct a ternary contour plot ..."
   ]
  },
  {
   "cell_type": "code",
   "execution_count": null,
   "metadata": {},
   "outputs": [],
   "source": [
    "import plotly.figure_factory as ff"
   ]
  },
  {
   "cell_type": "code",
   "execution_count": null,
   "metadata": {},
   "outputs": [],
   "source": [
    "fig = ff.create_ternary_contour(np.array([X[:,0], X[:,1], X[:,2]]), g, \n",
    "                                pole_labels=['Ab', 'An', 'Sn'], interp_mode='cartesian',\n",
    "                                ncontours=20,\n",
    "                                colorscale='Viridis',\n",
    "                                showscale=True,\n",
    "                                title='Gibbs free energy of feldspar')\n",
    "fig.show(renderer='iframe')"
   ]
  },
  {
   "cell_type": "code",
   "execution_count": null,
   "metadata": {},
   "outputs": [],
   "source": [
    "import ternary\n",
    "print(\"Version\", ternary.__version__)\n",
    "import matplotlib\n",
    "matplotlib.rcParams['figure.dpi'] = 200\n",
    "matplotlib.rcParams['figure.figsize'] = (4, 4)"
   ]
  },
  {
   "cell_type": "code",
   "execution_count": null,
   "metadata": {},
   "outputs": [],
   "source": [
    "import math\n",
    "def Gibbs_free_energy(point):\n",
    "    result = Feldspar.gibbs_energy(t, p, mol=np.array(point))\n",
    "    result -= point[0]*mu0Ab + point[1]*mu0An + point[2]*mu0Sn\n",
    "    return result\n",
    "\n",
    "scale = 100\n",
    "\n",
    "figure, tax = ternary.figure(scale=scale)\n",
    "figure.set_size_inches(10, 8)\n",
    "tax.heatmapf(Gibbs_free_energy, boundary=True, style=\"triangular\")\n",
    "tax.boundary(linewidth=2.0)\n",
    "tax.set_title(\"Gibbs free energy\")\n",
    "tax.ticks(axis='lbr', linewidth=1, multiple=5)\n",
    "tax.clear_matplotlib_ticks()\n",
    "tax.show()"
   ]
  },
  {
   "cell_type": "markdown",
   "metadata": {},
   "source": [
    "## Plot a Gibbs free energy pseudosection ...\n",
    " $y/z = r$  \n",
    "$x+y+z=1$  \n",
    "$x + zr + z = 1$  \n",
    "$z (r+1) = 1 - x$  \n",
    "$z = (1-x)/(r+1)$  \n",
    "$y = r (1-x)/(1+r)$"
   ]
  },
  {
   "cell_type": "code",
   "execution_count": null,
   "metadata": {},
   "outputs": [],
   "source": [
    "ratio = 1\n",
    "xx = []\n",
    "yy = []\n",
    "for i in range(0,101):\n",
    "    tAb = i*0.01\n",
    "    tAn = ratio*(1.-tAb)/(1.+ratio)\n",
    "    tSn = (1.-tAb)/(1.+ratio)\n",
    "    xx.append(tAb)\n",
    "    ss = tAb*mu0Ab + tAn*mu0An + tSn*mu0Sn\n",
    "    yy.append(Feldspar.gibbs_energy(t, p, mol=np.array([tAb, tAn, tSn]))-ss)\n",
    "xx = np.array(xx)\n",
    "yy = np.array(yy)\n",
    "fig, ax = plt.subplots()\n",
    "ax.plot(xx, yy, 'r-')\n",
    "plt.show()"
   ]
  },
  {
   "cell_type": "code",
   "execution_count": null,
   "metadata": {},
   "outputs": [],
   "source": [
    "fig, ax = plt.subplots()\n",
    "for j in range(1,2):\n",
    "    xx = []\n",
    "    yy = []\n",
    "    tAb = 0.1*j\n",
    "    for i in range(0,201):\n",
    "        tAn = i*0.005\n",
    "        tSn = 1.0 - tAn - tAb\n",
    "        if tSn > 0 and tAb+tAn+tSn <= 1.0:\n",
    "            xx.append(tAn)\n",
    "            ss = tAb*mu0Ab + tAn*mu0An + tSn*mu0Sn\n",
    "            ss = 0\n",
    "            yy.append(Feldspar.gibbs_energy(t, p, mol=np.array([tAb, tAn, tSn]))-ss)\n",
    "    xx = np.array(xx)\n",
    "    yy = np.array(yy)\n",
    "    ax.plot(xx, yy, 'r-')\n",
    "plt.show()"
   ]
  },
  {
   "cell_type": "markdown",
   "metadata": {},
   "source": [
    "## Construct a convex hull of the Gibbs function ...\n",
    "and an interpolating function"
   ]
  },
  {
   "cell_type": "markdown",
   "metadata": {},
   "source": [
    "## Plot the Gibbs function and the convex hull ..."
   ]
  },
  {
   "cell_type": "code",
   "execution_count": null,
   "metadata": {},
   "outputs": [],
   "source": [
    "fig, ax = plt.subplots()\n",
    "ax.plot(xx, yy, 'k-')\n",
    "ax.plot(x_hull, y_hull, 'ro')\n",
    "plt.show()"
   ]
  },
  {
   "cell_type": "code",
   "execution_count": null,
   "metadata": {},
   "outputs": [],
   "source": []
  },
  {
   "cell_type": "code",
   "execution_count": null,
   "metadata": {},
   "outputs": [],
   "source": [
    "fig, ax = plt.subplots()\n",
    "ax1 = plt.subplot(121)\n",
    "ax1.plot(np.indices(x_hull.shape)[0], x_hull, 'ro')\n",
    "ax2 = plt.subplot(122)\n",
    "ax2.plot(np.indices(x_hull.shape)[0], y_hull, 'bo')\n",
    "plt.show()"
   ]
  },
  {
   "cell_type": "markdown",
   "metadata": {},
   "source": [
    "## Extract the titeline and plot ..."
   ]
  },
  {
   "cell_type": "code",
   "execution_count": null,
   "metadata": {},
   "outputs": [],
   "source": [
    "temp = np.nonzero(g-f_hull(mole_frac))[0]\n",
    "tieline = []\n",
    "if np.size(temp) > 0:\n",
    "    if temp[0] > 0:\n",
    "        tieline.append((mole_frac[temp[0]-1]+mole_frac[temp[0]])/2)\n",
    "    else:\n",
    "        tieline.append(mole_frac[temp[0]])\n",
    "    if temp[-1] < 1:\n",
    "        tieline.append((mole_frac[temp[-1]]+mole_frac[temp[-1]+1])/2)\n",
    "    else:\n",
    "        tieline.append(mole_frac[temp[-1]])\n",
    "print ('Solvus tieline at:', tieline)\n",
    "\n",
    "fig, ax = plt.subplots()\n",
    "ax.plot(mole_frac, g, 'k-')\n",
    "ax.plot(tieline, f_hull(tieline), 'r-')\n",
    "plt.show()"
   ]
  },
  {
   "cell_type": "code",
   "execution_count": null,
   "metadata": {},
   "outputs": [],
   "source": []
  }
 ],
 "metadata": {
  "kernelspec": {
   "display_name": "Python 3",
   "language": "python",
   "name": "python3"
  },
  "language_info": {
   "codemirror_mode": {
    "name": "ipython",
    "version": 3
   },
   "file_extension": ".py",
   "mimetype": "text/x-python",
   "name": "python",
   "nbconvert_exporter": "python",
   "pygments_lexer": "ipython3",
   "version": "3.7.4"
  }
 },
 "nbformat": 4,
 "nbformat_minor": 4
}
