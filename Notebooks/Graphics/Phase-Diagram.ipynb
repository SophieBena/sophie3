{
 "cells": [
  {
   "cell_type": "markdown",
   "metadata": {},
   "source": [
    "# Examples using SciKit-image for Al-silicate phase diagram "
   ]
  },
  {
   "cell_type": "code",
   "execution_count": null,
   "metadata": {},
   "outputs": [],
   "source": [
    "import numpy as np\n",
    "import matplotlib.pyplot as plt\n",
    "from skimage import measure\n",
    "from thermoengine import model,phases\n",
    "%matplotlib inline"
   ]
  },
  {
   "cell_type": "markdown",
   "metadata": {},
   "source": [
    "## Instantiate phases ..."
   ]
  },
  {
   "cell_type": "code",
   "execution_count": null,
   "metadata": {},
   "outputs": [],
   "source": [
    "database = model.Database()\n",
    "And = database.get_phase('And')\n",
    "Sil = database.get_phase('Sil')\n",
    "Ky = database.get_phase('Ky')"
   ]
  },
  {
   "cell_type": "markdown",
   "metadata": {},
   "source": [
    "## Calculate all reactions and plot boundaries ..."
   ]
  },
  {
   "cell_type": "code",
   "execution_count": null,
   "metadata": {},
   "outputs": [],
   "source": [
    "tmin =  200 # °C\n",
    "tmax = 1000\n",
    "pmin =  100 # bars\n",
    "pmax = 7000 # bars\n",
    "x, y = np.ogrid[tmin+273.15:tmax+273.15:20j, pmin:pmax:20j]\n",
    "fig, ax = plt.subplots()\n",
    "\n",
    "for react in range(0,3):\n",
    "    mat = []\n",
    "    for yy in y[0]:\n",
    "        row = []\n",
    "        for xx in x:\n",
    "            if react == 0:\n",
    "                row.append(And.gibbs_energy(xx[0],yy) - Sil.gibbs_energy(xx[0],yy))\n",
    "            elif react == 1:\n",
    "                row.append(And.gibbs_energy(xx[0],yy) - Ky.gibbs_energy(xx[0],yy))\n",
    "            elif react == 2:\n",
    "                row.append(Ky.gibbs_energy(xx[0],yy) - Sil.gibbs_energy(xx[0],yy))\n",
    "            else:\n",
    "                pass\n",
    "        mat.append(row)\n",
    "    r = np.array(mat)\n",
    "    contours = measure.find_contours(r, 0.0)\n",
    "\n",
    "    for n, contour in enumerate(contours):\n",
    "        ax.plot(contour[:, 1]*(tmax-tmin)/20+tmin, contour[:, 0]*(pmax-pmin)/20+pmin, linewidth=2)\n",
    "\n",
    "plt.xlabel('T °C')\n",
    "plt.ylabel('P bars')\n",
    "plt.show()"
   ]
  },
  {
   "cell_type": "markdown",
   "metadata": {},
   "source": [
    "## Calculate energy fields for all phases ..."
   ]
  },
  {
   "cell_type": "code",
   "execution_count": null,
   "metadata": {},
   "outputs": [],
   "source": [
    "tmin =  200 # °C\n",
    "tmax = 1000\n",
    "pmin =  100 # bars\n",
    "pmax = 7000 # bars\n",
    "nGrid = 100j\n",
    "x, y = np.ogrid[tmin+273.15:tmax+273.15:nGrid, pmin:pmax:nGrid]\n",
    "\n",
    "phases = []\n",
    "for react in range(0,3):\n",
    "    mat = []\n",
    "    for yy in y[0]:\n",
    "        row = []\n",
    "        for xx in x:\n",
    "            if react == 0:\n",
    "                row.append(And.gibbs_energy(xx[0],yy))\n",
    "            elif react == 1:\n",
    "                row.append(Ky.gibbs_energy(xx[0],yy))\n",
    "            elif react == 2:\n",
    "                row.append(Sil.gibbs_energy(xx[0],yy))\n",
    "            else:\n",
    "                pass\n",
    "        mat.append(row)\n",
    "    phases.append(np.array(mat))"
   ]
  },
  {
   "cell_type": "markdown",
   "metadata": {},
   "source": [
    "## Determine a minimal energy surface (or convex hull) ..."
   ]
  },
  {
   "cell_type": "code",
   "execution_count": null,
   "metadata": {},
   "outputs": [],
   "source": [
    "gSection = []\n",
    "for i in range(0,3):\n",
    "    mask = np.full(phases[i].shape, True, dtype=bool)\n",
    "    for j in range(0,3):\n",
    "        if i == j:\n",
    "            pass\n",
    "        else:\n",
    "            mask = np.logical_and(mask, np.less_equal(phases[i],phases[j],where=True))\n",
    "    gSection.append(phases[i])\n",
    "    gSection[i][np.invert(mask)] = 0"
   ]
  },
  {
   "cell_type": "markdown",
   "metadata": {},
   "source": [
    "## Combine the parts ..."
   ]
  },
  {
   "cell_type": "code",
   "execution_count": null,
   "metadata": {},
   "outputs": [],
   "source": [
    "gSurf = np.copy(gSection[0])\n",
    "for i in range(1,3):\n",
    "    gSurf += gSection[i]"
   ]
  },
  {
   "cell_type": "markdown",
   "metadata": {},
   "source": [
    "## Plot the bounaries ..."
   ]
  },
  {
   "cell_type": "code",
   "execution_count": null,
   "metadata": {},
   "outputs": [],
   "source": [
    "fig, ax = plt.subplots()\n",
    "for i in range(0,3):\n",
    "    contours = measure.find_contours(gSurf-phases[i], -0.1)\n",
    "    for n, contour in enumerate(contours):\n",
    "        ax.plot(contour[:, 1]*(tmax-tmin)/int(nGrid.imag)+tmin, contour[:, 0]*(pmax-pmin)/int(nGrid.imag)+pmin, linewidth=2)\n",
    "plt.xlabel('T °C')\n",
    "plt.ylabel('P bars')\n",
    "plt.show()"
   ]
  }
 ],
 "metadata": {
  "kernelspec": {
   "display_name": "Python 3",
   "language": "python",
   "name": "python3"
  },
  "language_info": {
   "codemirror_mode": {
    "name": "ipython",
    "version": 3
   },
   "file_extension": ".py",
   "mimetype": "text/x-python",
   "name": "python",
   "nbconvert_exporter": "python",
   "pygments_lexer": "ipython3",
   "version": "3.7.4"
  }
 },
 "nbformat": 4,
 "nbformat_minor": 4
}
